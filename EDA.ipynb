{
 "cells": [
  {
   "cell_type": "code",
   "execution_count": 1,
   "id": "52de55da",
   "metadata": {},
   "outputs": [],
   "source": [
    "import os\n",
    "import sys\n",
    "import time\n",
    "import json\n",
    "import shutil\n",
    "import warnings\n",
    "warnings.filterwarnings('ignore')\n",
    "import argparse\n",
    "import numpy as np\n",
    "import pandas as pd\n",
    "from tqdm import tqdm\n",
    "from sklearn.metrics import confusion_matrix\n",
    "from sklearn.metrics import accuracy_score, f1_score, roc_auc_score, matthews_corrcoef\n",
    "from imblearn.metrics import geometric_mean_score\n",
    "from metrics import *\n",
    "import matplotlib.pyplot as plt\n",
    "\n",
    "import torch\n",
    "import torch.nn as nn\n",
    "import torch.optim as optim\n",
    "\n",
    "from dataset import *\n",
    "from utils import *\n",
    "from models import *"
   ]
  },
  {
   "cell_type": "code",
   "execution_count": 2,
   "id": "adb81d36",
   "metadata": {},
   "outputs": [
    {
     "data": {
      "text/html": [
       "<div>\n",
       "<style scoped>\n",
       "    .dataframe tbody tr th:only-of-type {\n",
       "        vertical-align: middle;\n",
       "    }\n",
       "\n",
       "    .dataframe tbody tr th {\n",
       "        vertical-align: top;\n",
       "    }\n",
       "\n",
       "    .dataframe thead th {\n",
       "        text-align: right;\n",
       "    }\n",
       "</style>\n",
       "<table border=\"1\" class=\"dataframe\">\n",
       "  <thead>\n",
       "    <tr style=\"text-align: right;\">\n",
       "      <th></th>\n",
       "      <th>Index</th>\n",
       "      <th>AB_name</th>\n",
       "      <th>Class</th>\n",
       "      <th>Paratope</th>\n",
       "      <th>Epitope</th>\n",
       "    </tr>\n",
       "  </thead>\n",
       "  <tbody>\n",
       "    <tr>\n",
       "      <th>0</th>\n",
       "      <td>1</td>\n",
       "      <td>m396</td>\n",
       "      <td>0</td>\n",
       "      <td>SYTWGGITILIANYQRDTVMGGSKWDSSDY</td>\n",
       "      <td>FSTFRGDEVRNNGQPTYGVGYQY</td>\n",
       "    </tr>\n",
       "    <tr>\n",
       "      <th>1</th>\n",
       "      <td>2</td>\n",
       "      <td>80R</td>\n",
       "      <td>0</td>\n",
       "      <td>SYAVISYDRDRSYDRVRSNDSTRSGSGSDFTTSRSW</td>\n",
       "      <td>RDVGGYNLYLFKGFNCYFLQSYGQPTYGVYQ</td>\n",
       "    </tr>\n",
       "    <tr>\n",
       "      <th>2</th>\n",
       "      <td>3</td>\n",
       "      <td>F26G19</td>\n",
       "      <td>0</td>\n",
       "      <td>YVSYTTYRYPGNDTTTEGIPQL</td>\n",
       "      <td>AFSTGDRWNNNPTYGVGYQY</td>\n",
       "    </tr>\n",
       "    <tr>\n",
       "      <th>3</th>\n",
       "      <td>4</td>\n",
       "      <td>1AF10</td>\n",
       "      <td>0</td>\n",
       "      <td>NWRENRYDPYYAMDIQHYQQTDSWPT</td>\n",
       "      <td>FIVKNKCVFTGVLTDIATDLDITPCSFGGSYQGVNRAGCIG</td>\n",
       "    </tr>\n",
       "    <tr>\n",
       "      <th>4</th>\n",
       "      <td>5</td>\n",
       "      <td>6D3</td>\n",
       "      <td>1</td>\n",
       "      <td>WHEDDYINYEYGLLAQNNFYTY</td>\n",
       "      <td>NVFAEHVNNSS</td>\n",
       "    </tr>\n",
       "    <tr>\n",
       "      <th>...</th>\n",
       "      <td>...</td>\n",
       "      <td>...</td>\n",
       "      <td>...</td>\n",
       "      <td>...</td>\n",
       "      <td>...</td>\n",
       "    </tr>\n",
       "    <tr>\n",
       "      <th>305</th>\n",
       "      <td>306</td>\n",
       "      <td>scFv_E4</td>\n",
       "      <td>1</td>\n",
       "      <td>VSGVTSSNYYPGGSYRDLSEKDVIQGISYSGQNS</td>\n",
       "      <td>RDQTGNDYYLFRKSNYQAGSTFNYFPLQSYGYGVGY</td>\n",
       "    </tr>\n",
       "    <tr>\n",
       "      <th>306</th>\n",
       "      <td>307</td>\n",
       "      <td>N3113</td>\n",
       "      <td>1</td>\n",
       "      <td>YEALEWSYHSRTYNPSWASGSTGDW</td>\n",
       "      <td>VATRFASYAWNKSKGGNYNYLRITEINGVKFLQS</td>\n",
       "    </tr>\n",
       "    <tr>\n",
       "      <th>307</th>\n",
       "      <td>308</td>\n",
       "      <td>N3113.1</td>\n",
       "      <td>1</td>\n",
       "      <td>QWYSRYNPSWASGST</td>\n",
       "      <td>ATRFASYANKDKVGNYNYLYITEINGVKFPLQSYG</td>\n",
       "    </tr>\n",
       "    <tr>\n",
       "      <th>308</th>\n",
       "      <td>309</td>\n",
       "      <td>RBD-chAb-15</td>\n",
       "      <td>1</td>\n",
       "      <td>GHWTTWGGSTNGYYV</td>\n",
       "      <td>YASFSTFKRGDRAWNTYGVGYQPY</td>\n",
       "    </tr>\n",
       "    <tr>\n",
       "      <th>309</th>\n",
       "      <td>310</td>\n",
       "      <td>BD-813</td>\n",
       "      <td>1</td>\n",
       "      <td>VEFISANYYSGGSFRLPTYDSISYHDTTP</td>\n",
       "      <td>RDERQTGNDYYLFRKSNYQAGSTFNYQYGY</td>\n",
       "    </tr>\n",
       "  </tbody>\n",
       "</table>\n",
       "<p>310 rows × 5 columns</p>\n",
       "</div>"
      ],
      "text/plain": [
       "     Index      AB_name  Class                              Paratope  \\\n",
       "0        1         m396      0        SYTWGGITILIANYQRDTVMGGSKWDSSDY   \n",
       "1        2          80R      0  SYAVISYDRDRSYDRVRSNDSTRSGSGSDFTTSRSW   \n",
       "2        3       F26G19      0                YVSYTTYRYPGNDTTTEGIPQL   \n",
       "3        4        1AF10      0            NWRENRYDPYYAMDIQHYQQTDSWPT   \n",
       "4        5          6D3      1                WHEDDYINYEYGLLAQNNFYTY   \n",
       "..     ...          ...    ...                                   ...   \n",
       "305    306      scFv_E4      1    VSGVTSSNYYPGGSYRDLSEKDVIQGISYSGQNS   \n",
       "306    307        N3113      1             YEALEWSYHSRTYNPSWASGSTGDW   \n",
       "307    308      N3113.1      1                       QWYSRYNPSWASGST   \n",
       "308    309  RBD-chAb-15      1                       GHWTTWGGSTNGYYV   \n",
       "309    310       BD-813      1         VEFISANYYSGGSFRLPTYDSISYHDTTP   \n",
       "\n",
       "                                       Epitope  \n",
       "0                      FSTFRGDEVRNNGQPTYGVGYQY  \n",
       "1              RDVGGYNLYLFKGFNCYFLQSYGQPTYGVYQ  \n",
       "2                         AFSTGDRWNNNPTYGVGYQY  \n",
       "3    FIVKNKCVFTGVLTDIATDLDITPCSFGGSYQGVNRAGCIG  \n",
       "4                                  NVFAEHVNNSS  \n",
       "..                                         ...  \n",
       "305       RDQTGNDYYLFRKSNYQAGSTFNYFPLQSYGYGVGY  \n",
       "306         VATRFASYAWNKSKGGNYNYLRITEINGVKFLQS  \n",
       "307        ATRFASYANKDKVGNYNYLYITEINGVKFPLQSYG  \n",
       "308                   YASFSTFKRGDRAWNTYGVGYQPY  \n",
       "309             RDERQTGNDYYLFRKSNYQAGSTFNYQYGY  \n",
       "\n",
       "[310 rows x 5 columns]"
      ]
     },
     "execution_count": 2,
     "metadata": {},
     "output_type": "execute_result"
    }
   ],
   "source": [
    "cov = pd.read_csv(\"../SARS-SAbDab_Shaun/CoV-AbDab_extract.csv\")\n",
    "cov"
   ]
  },
  {
   "cell_type": "code",
   "execution_count": 18,
   "id": "015d43a7",
   "metadata": {},
   "outputs": [
    {
     "data": {
      "text/plain": [
       "(31, 5)"
      ]
     },
     "execution_count": 18,
     "metadata": {},
     "output_type": "execute_result"
    }
   ],
   "source": [
    "part = cov.sample(frac=0.1, random_state=42)\n",
    "part.shape"
   ]
  },
  {
   "cell_type": "code",
   "execution_count": 7,
   "id": "f73c51b2",
   "metadata": {},
   "outputs": [
    {
     "data": {
      "text/plain": [
       "(228, 226)"
      ]
     },
     "execution_count": 7,
     "metadata": {},
     "output_type": "execute_result"
    }
   ],
   "source": [
    "len(cov[cov[\"Class\"]==1][\"Paratope\"].unique()), len(cov[cov[\"Class\"]==1][\"Epitope\"].unique())"
   ]
  },
  {
   "cell_type": "code",
   "execution_count": 10,
   "id": "55052f70",
   "metadata": {},
   "outputs": [
    {
     "data": {
      "text/plain": [
       "(228, 82)"
      ]
     },
     "execution_count": 10,
     "metadata": {},
     "output_type": "execute_result"
    }
   ],
   "source": [
    "len(cov[cov[\"Class\"]==1]), len(cov[cov[\"Class\"]==0])"
   ]
  },
  {
   "cell_type": "markdown",
   "id": "275571a2",
   "metadata": {},
   "source": [
    "228 unique paratopes, 226 unique epitopes, 228 binding pairs, 82 non-binding pairs"
   ]
  },
  {
   "cell_type": "code",
   "execution_count": 15,
   "id": "90636a40",
   "metadata": {},
   "outputs": [
    {
     "data": {
      "text/plain": [
       "2253"
      ]
     },
     "execution_count": 15,
     "metadata": {},
     "output_type": "execute_result"
    }
   ],
   "source": [
    "228+225*9"
   ]
  }
 ],
 "metadata": {
  "kernelspec": {
   "display_name": "Python 3 (ipykernel)",
   "language": "python",
   "name": "python3"
  },
  "language_info": {
   "codemirror_mode": {
    "name": "ipython",
    "version": 3
   },
   "file_extension": ".py",
   "mimetype": "text/x-python",
   "name": "python",
   "nbconvert_exporter": "python",
   "pygments_lexer": "ipython3",
   "version": "3.8.0"
  }
 },
 "nbformat": 4,
 "nbformat_minor": 5
}
