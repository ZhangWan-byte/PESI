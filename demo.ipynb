{
 "cells": [
  {
   "cell_type": "code",
   "execution_count": 1,
   "id": "f6e5d040",
   "metadata": {},
   "outputs": [],
   "source": [
    "import pickle\n",
    "import random\n",
    "import warnings\n",
    "warnings.filterwarnings('ignore')\n",
    "import numpy as np\n",
    "import pandas as pd\n",
    "from tqdm import tqdm\n",
    "from sklearn.metrics import accuracy_score, f1_score\n",
    "import matplotlib.pyplot as plt\n",
    "\n",
    "import torch\n",
    "import torch.nn as nn\n",
    "import torch.optim as optim\n",
    "from Bio import Align\n",
    "\n",
    "from datasets import *\n",
    "from utils import *\n",
    "from models import *"
   ]
  },
  {
   "cell_type": "markdown",
   "id": "db0fa04b",
   "metadata": {},
   "source": [
    "# sabdab mlm"
   ]
  },
  {
   "cell_type": "code",
   "execution_count": 2,
   "id": "1b09b965",
   "metadata": {},
   "outputs": [
    {
     "data": {
      "text/plain": [
       "5380"
      ]
     },
     "execution_count": 2,
     "metadata": {},
     "output_type": "execute_result"
    }
   ],
   "source": [
    "from pre_train import load_data\n",
    "data = load_data(\"../../Transformer4Ab/data/data_list.pkl\")\n",
    "len(data)"
   ]
  },
  {
   "cell_type": "code",
   "execution_count": 3,
   "id": "b018c868",
   "metadata": {},
   "outputs": [
    {
     "data": {
      "text/plain": [
       "[('a', 'b', 1), ('c', 'd', 1)]"
      ]
     },
     "execution_count": 3,
     "metadata": {},
     "output_type": "execute_result"
    }
   ],
   "source": [
    "li = [('a', 'b', 0), ('a', 'b', 0), ('a', 'b', 0), ('a', 'b', 1), ('c', 'd', 1)]\n",
    "\n",
    "list(filter(lambda x:x[-1]==1, li))"
   ]
  },
  {
   "cell_type": "code",
   "execution_count": 4,
   "id": "08f3062e",
   "metadata": {},
   "outputs": [
    {
     "data": {
      "text/plain": [
       "1572406"
      ]
     },
     "execution_count": 4,
     "metadata": {},
     "output_type": "execute_result"
    }
   ],
   "source": [
    "oas = pickle.load(open(\"./OAS/oas_data.pkl\", \"rb\"))\n",
    "len(oas)"
   ]
  },
  {
   "cell_type": "code",
   "execution_count": 5,
   "id": "6ca84efd",
   "metadata": {},
   "outputs": [
    {
     "data": {
      "text/plain": [
       "'GGSISSTSHY/CYFTGTT/ARSAEYVWSRGYFDY/SSNIGAGYG/GDT/QSYDSSLSGSRV'"
      ]
     },
     "execution_count": 5,
     "metadata": {},
     "output_type": "execute_result"
    }
   ],
   "source": [
    "oas[0]"
   ]
  },
  {
   "cell_type": "code",
   "execution_count": 6,
   "id": "c7f98af2",
   "metadata": {
    "scrolled": true
   },
   "outputs": [
    {
     "name": "stdout",
     "output_type": "stream",
     "text": [
      "get k nearest AAs as epitope...\n"
     ]
    },
    {
     "name": "stderr",
     "output_type": "stream",
     "text": [
      "  1%|▎                                        | 33/5380 [00:02<05:01, 17.76it/s]"
     ]
    },
    {
     "name": "stdout",
     "output_type": "stream",
     "text": [
      "H1 not found in data 31th\n"
     ]
    },
    {
     "name": "stderr",
     "output_type": "stream",
     "text": [
      "  1%|▎                                        | 45/5380 [00:03<06:16, 14.19it/s]"
     ]
    },
    {
     "name": "stdout",
     "output_type": "stream",
     "text": [
      "L1 not found in data 45th\n"
     ]
    },
    {
     "name": "stderr",
     "output_type": "stream",
     "text": [
      "  1%|▍                                        | 60/5380 [00:03<04:49, 18.39it/s]"
     ]
    },
    {
     "name": "stdout",
     "output_type": "stream",
     "text": [
      "H2 not found in data 59th\n"
     ]
    },
    {
     "name": "stderr",
     "output_type": "stream",
     "text": [
      "\r",
      "  1%|▍                                        | 65/5380 [00:04<04:26, 19.93it/s]"
     ]
    },
    {
     "name": "stdout",
     "output_type": "stream",
     "text": [
      "L3 not found in data 65th\n"
     ]
    },
    {
     "name": "stderr",
     "output_type": "stream",
     "text": [
      "  2%|▊                                       | 112/5380 [00:07<04:22, 20.10it/s]"
     ]
    },
    {
     "name": "stdout",
     "output_type": "stream",
     "text": [
      "H1 not found in data 114th\n"
     ]
    },
    {
     "name": "stderr",
     "output_type": "stream",
     "text": [
      "  3%|█                                       | 138/5380 [00:09<04:57, 17.63it/s]"
     ]
    },
    {
     "name": "stdout",
     "output_type": "stream",
     "text": [
      "H1 not found in data 134th\n"
     ]
    },
    {
     "name": "stderr",
     "output_type": "stream",
     "text": [
      "  3%|█▎                                      | 182/5380 [00:11<04:54, 17.67it/s]"
     ]
    },
    {
     "name": "stdout",
     "output_type": "stream",
     "text": [
      "H3 not found in data 182th\n",
      "L1 not found in data 182th\n"
     ]
    },
    {
     "name": "stderr",
     "output_type": "stream",
     "text": [
      "  4%|█▍                                      | 193/5380 [00:12<06:17, 13.75it/s]"
     ]
    },
    {
     "name": "stdout",
     "output_type": "stream",
     "text": [
      "H3 not found in data 194th\n"
     ]
    },
    {
     "name": "stderr",
     "output_type": "stream",
     "text": [
      "  4%|█▍                                      | 200/5380 [00:13<07:57, 10.85it/s]"
     ]
    },
    {
     "name": "stdout",
     "output_type": "stream",
     "text": [
      "H3 not found in data 198th\n"
     ]
    },
    {
     "name": "stderr",
     "output_type": "stream",
     "text": [
      "  4%|█▌                                      | 213/5380 [00:14<05:39, 15.24it/s]"
     ]
    },
    {
     "name": "stdout",
     "output_type": "stream",
     "text": [
      "L1 not found in data 215th\n"
     ]
    },
    {
     "name": "stderr",
     "output_type": "stream",
     "text": [
      "  4%|█▋                                      | 229/5380 [00:16<06:57, 12.33it/s]"
     ]
    },
    {
     "name": "stdout",
     "output_type": "stream",
     "text": [
      "H3 not found in data 230th\n"
     ]
    },
    {
     "name": "stderr",
     "output_type": "stream",
     "text": [
      "  4%|█▊                                      | 237/5380 [00:17<08:06, 10.56it/s]"
     ]
    },
    {
     "name": "stdout",
     "output_type": "stream",
     "text": [
      "L1 not found in data 237th\n"
     ]
    },
    {
     "name": "stderr",
     "output_type": "stream",
     "text": [
      "  5%|██▏                                     | 287/5380 [00:21<07:47, 10.90it/s]"
     ]
    },
    {
     "name": "stdout",
     "output_type": "stream",
     "text": [
      "H3 not found in data 287th\n"
     ]
    },
    {
     "name": "stderr",
     "output_type": "stream",
     "text": [
      "  6%|██▎                                     | 306/5380 [00:22<05:04, 16.69it/s]"
     ]
    },
    {
     "name": "stdout",
     "output_type": "stream",
     "text": [
      "H1 not found in data 308th\n"
     ]
    },
    {
     "name": "stderr",
     "output_type": "stream",
     "text": [
      "  6%|██▍                                     | 333/5380 [00:24<06:25, 13.09it/s]"
     ]
    },
    {
     "name": "stdout",
     "output_type": "stream",
     "text": [
      "H3 not found in data 331th\n"
     ]
    },
    {
     "name": "stderr",
     "output_type": "stream",
     "text": [
      "  7%|██▋                                     | 356/5380 [00:25<05:54, 14.19it/s]"
     ]
    },
    {
     "name": "stdout",
     "output_type": "stream",
     "text": [
      "H3 not found in data 358th\n",
      "L3 not found in data 358th\n"
     ]
    },
    {
     "name": "stderr",
     "output_type": "stream",
     "text": [
      "  7%|██▋                                     | 368/5380 [00:26<06:12, 13.46it/s]"
     ]
    },
    {
     "name": "stdout",
     "output_type": "stream",
     "text": [
      "L1 not found in data 368th\n"
     ]
    },
    {
     "name": "stderr",
     "output_type": "stream",
     "text": [
      "  8%|███▎                                    | 442/5380 [00:31<04:26, 18.56it/s]"
     ]
    },
    {
     "name": "stdout",
     "output_type": "stream",
     "text": [
      "H1 not found in data 442th\n"
     ]
    },
    {
     "name": "stderr",
     "output_type": "stream",
     "text": [
      "  8%|███▎                                    | 447/5380 [00:32<07:03, 11.64it/s]"
     ]
    },
    {
     "name": "stdout",
     "output_type": "stream",
     "text": [
      "H3 not found in data 447th\n"
     ]
    },
    {
     "name": "stderr",
     "output_type": "stream",
     "text": [
      "  9%|███▌                                    | 486/5380 [00:35<05:22, 15.20it/s]"
     ]
    },
    {
     "name": "stdout",
     "output_type": "stream",
     "text": [
      "H3 not found in data 488th\n"
     ]
    },
    {
     "name": "stderr",
     "output_type": "stream",
     "text": [
      "  9%|███▋                                    | 495/5380 [00:37<10:36,  7.67it/s]"
     ]
    },
    {
     "name": "stdout",
     "output_type": "stream",
     "text": [
      "L2 not found in data 495th\n"
     ]
    },
    {
     "name": "stderr",
     "output_type": "stream",
     "text": [
      "  9%|███▊                                    | 508/5380 [00:38<06:54, 11.75it/s]"
     ]
    },
    {
     "name": "stdout",
     "output_type": "stream",
     "text": [
      "L1 not found in data 510th\n"
     ]
    },
    {
     "name": "stderr",
     "output_type": "stream",
     "text": [
      " 10%|███▉                                    | 525/5380 [00:39<03:55, 20.61it/s]"
     ]
    },
    {
     "name": "stdout",
     "output_type": "stream",
     "text": [
      "H1 not found in data 522th\n",
      "L1 not found in data 525th\n"
     ]
    },
    {
     "name": "stderr",
     "output_type": "stream",
     "text": [
      " 10%|███▉                                    | 532/5380 [00:40<04:42, 17.16it/s]"
     ]
    },
    {
     "name": "stdout",
     "output_type": "stream",
     "text": [
      "H3 not found in data 529th\n"
     ]
    },
    {
     "name": "stderr",
     "output_type": "stream",
     "text": [
      " 11%|████▏                                   | 569/5380 [00:42<04:22, 18.34it/s]"
     ]
    },
    {
     "name": "stdout",
     "output_type": "stream",
     "text": [
      "L1 not found in data 570th\n"
     ]
    },
    {
     "name": "stderr",
     "output_type": "stream",
     "text": [
      " 11%|████▍                                   | 600/5380 [00:44<05:35, 14.25it/s]"
     ]
    },
    {
     "name": "stdout",
     "output_type": "stream",
     "text": [
      "H1 not found in data 601th\n"
     ]
    },
    {
     "name": "stderr",
     "output_type": "stream",
     "text": [
      " 11%|████▌                                   | 607/5380 [00:45<05:32, 14.37it/s]"
     ]
    },
    {
     "name": "stdout",
     "output_type": "stream",
     "text": [
      "L1 not found in data 608th\n"
     ]
    },
    {
     "name": "stderr",
     "output_type": "stream",
     "text": [
      " 11%|████▌                                   | 613/5380 [00:45<07:19, 10.86it/s]"
     ]
    },
    {
     "name": "stdout",
     "output_type": "stream",
     "text": [
      "L2 not found in data 615th\n"
     ]
    },
    {
     "name": "stderr",
     "output_type": "stream",
     "text": [
      " 12%|████▋                                   | 634/5380 [00:47<03:42, 21.29it/s]"
     ]
    },
    {
     "name": "stdout",
     "output_type": "stream",
     "text": [
      "H1 not found in data 629th\n"
     ]
    },
    {
     "name": "stderr",
     "output_type": "stream",
     "text": [
      " 13%|█████                                   | 679/5380 [00:49<05:30, 14.21it/s]"
     ]
    },
    {
     "name": "stdout",
     "output_type": "stream",
     "text": [
      "L1 not found in data 680th\n"
     ]
    },
    {
     "name": "stderr",
     "output_type": "stream",
     "text": [
      " 14%|█████▌                                  | 751/5380 [00:55<04:57, 15.56it/s]"
     ]
    },
    {
     "name": "stdout",
     "output_type": "stream",
     "text": [
      "H1 not found in data 752th\n"
     ]
    },
    {
     "name": "stderr",
     "output_type": "stream",
     "text": [
      " 15%|█████▊                                  | 781/5380 [00:56<03:18, 23.16it/s]"
     ]
    },
    {
     "name": "stdout",
     "output_type": "stream",
     "text": [
      "H3 not found in data 779th\n"
     ]
    },
    {
     "name": "stderr",
     "output_type": "stream",
     "text": [
      " 15%|█████▊                                  | 787/5380 [00:57<03:46, 20.29it/s]"
     ]
    },
    {
     "name": "stdout",
     "output_type": "stream",
     "text": [
      "H3 not found in data 787th\n",
      "L1 not found in data 787th\n"
     ]
    },
    {
     "name": "stderr",
     "output_type": "stream",
     "text": [
      "\r",
      " 15%|█████▊                                  | 790/5380 [00:57<06:40, 11.45it/s]"
     ]
    },
    {
     "name": "stdout",
     "output_type": "stream",
     "text": [
      "H3 not found in data 792th\n",
      "L3 not found in data 792th\n"
     ]
    },
    {
     "name": "stderr",
     "output_type": "stream",
     "text": [
      " 16%|██████▍                                 | 867/5380 [01:02<03:31, 21.33it/s]"
     ]
    },
    {
     "name": "stdout",
     "output_type": "stream",
     "text": [
      "H2 not found in data 869th\n"
     ]
    },
    {
     "name": "stderr",
     "output_type": "stream",
     "text": [
      " 16%|██████▍                                 | 873/5380 [01:03<05:15, 14.30it/s]"
     ]
    },
    {
     "name": "stdout",
     "output_type": "stream",
     "text": [
      "L1 not found in data 875th\n"
     ]
    },
    {
     "name": "stderr",
     "output_type": "stream",
     "text": [
      " 17%|██████▋                                 | 897/5380 [01:04<04:01, 18.54it/s]"
     ]
    },
    {
     "name": "stdout",
     "output_type": "stream",
     "text": [
      "L1 not found in data 897th\n"
     ]
    },
    {
     "name": "stderr",
     "output_type": "stream",
     "text": [
      " 17%|██████▊                                 | 910/5380 [01:06<05:28, 13.59it/s]"
     ]
    },
    {
     "name": "stdout",
     "output_type": "stream",
     "text": [
      "L1 not found in data 910th\n"
     ]
    },
    {
     "name": "stderr",
     "output_type": "stream",
     "text": [
      " 17%|██████▊                                 | 919/5380 [01:07<05:44, 12.96it/s]"
     ]
    },
    {
     "name": "stdout",
     "output_type": "stream",
     "text": [
      "L1 not found in data 919th\n"
     ]
    },
    {
     "name": "stderr",
     "output_type": "stream",
     "text": [
      " 18%|███████▏                                | 963/5380 [01:10<03:55, 18.75it/s]"
     ]
    },
    {
     "name": "stdout",
     "output_type": "stream",
     "text": [
      "H3 not found in data 964th\n"
     ]
    },
    {
     "name": "stderr",
     "output_type": "stream",
     "text": [
      " 18%|███████▎                                | 976/5380 [01:11<04:22, 16.76it/s]"
     ]
    },
    {
     "name": "stdout",
     "output_type": "stream",
     "text": [
      "H3 not found in data 974th\n"
     ]
    },
    {
     "name": "stderr",
     "output_type": "stream",
     "text": [
      " 18%|███████▎                                | 987/5380 [01:12<05:06, 14.35it/s]"
     ]
    },
    {
     "name": "stdout",
     "output_type": "stream",
     "text": [
      "H2 not found in data 985th\n"
     ]
    },
    {
     "name": "stderr",
     "output_type": "stream",
     "text": [
      " 19%|███████▎                               | 1011/5380 [01:13<04:07, 17.64it/s]"
     ]
    },
    {
     "name": "stdout",
     "output_type": "stream",
     "text": [
      "H1 not found in data 1010th\n",
      "L1 not found in data 1011th\n"
     ]
    },
    {
     "name": "stderr",
     "output_type": "stream",
     "text": [
      " 19%|███████▍                               | 1020/5380 [01:14<04:42, 15.43it/s]"
     ]
    },
    {
     "name": "stdout",
     "output_type": "stream",
     "text": [
      "H3 not found in data 1021th\n"
     ]
    },
    {
     "name": "stderr",
     "output_type": "stream",
     "text": [
      "\r",
      " 19%|███████▍                               | 1022/5380 [01:14<10:15,  7.08it/s]"
     ]
    },
    {
     "name": "stdout",
     "output_type": "stream",
     "text": [
      "H1 not found in data 1022th\n"
     ]
    },
    {
     "name": "stderr",
     "output_type": "stream",
     "text": [
      " 20%|███████▉                               | 1100/5380 [01:20<03:06, 22.89it/s]"
     ]
    },
    {
     "name": "stdout",
     "output_type": "stream",
     "text": [
      "L1 not found in data 1101th\n"
     ]
    },
    {
     "name": "stderr",
     "output_type": "stream",
     "text": [
      " 21%|████████                               | 1107/5380 [01:21<06:41, 10.65it/s]"
     ]
    },
    {
     "name": "stdout",
     "output_type": "stream",
     "text": [
      "H3 not found in data 1103th\n"
     ]
    },
    {
     "name": "stderr",
     "output_type": "stream",
     "text": [
      " 22%|████████▌                              | 1183/5380 [01:26<03:36, 19.36it/s]"
     ]
    },
    {
     "name": "stdout",
     "output_type": "stream",
     "text": [
      "H2 not found in data 1180th\n"
     ]
    },
    {
     "name": "stderr",
     "output_type": "stream",
     "text": [
      " 22%|████████▋                              | 1191/5380 [01:27<06:39, 10.48it/s]"
     ]
    },
    {
     "name": "stdout",
     "output_type": "stream",
     "text": [
      "L1 not found in data 1191th\n"
     ]
    },
    {
     "name": "stderr",
     "output_type": "stream",
     "text": [
      " 23%|████████▊                              | 1220/5380 [01:29<04:18, 16.12it/s]"
     ]
    },
    {
     "name": "stdout",
     "output_type": "stream",
     "text": [
      "H3 not found in data 1217th\n"
     ]
    },
    {
     "name": "stderr",
     "output_type": "stream",
     "text": [
      " 23%|████████▉                              | 1233/5380 [01:30<05:02, 13.69it/s]"
     ]
    },
    {
     "name": "stdout",
     "output_type": "stream",
     "text": [
      "H3 not found in data 1233th\n"
     ]
    },
    {
     "name": "stderr",
     "output_type": "stream",
     "text": [
      " 24%|█████████▍                             | 1295/5380 [01:34<03:27, 19.66it/s]"
     ]
    },
    {
     "name": "stdout",
     "output_type": "stream",
     "text": [
      "H1 not found in data 1296th\n"
     ]
    },
    {
     "name": "stderr",
     "output_type": "stream",
     "text": [
      "\r",
      " 24%|█████████▍                             | 1298/5380 [01:34<04:15, 15.97it/s]"
     ]
    },
    {
     "name": "stdout",
     "output_type": "stream",
     "text": [
      "L2 not found in data 1299th\n"
     ]
    },
    {
     "name": "stderr",
     "output_type": "stream",
     "text": [
      " 24%|█████████▍                             | 1304/5380 [01:35<06:03, 11.23it/s]"
     ]
    },
    {
     "name": "stdout",
     "output_type": "stream",
     "text": [
      "L1 not found in data 1306th\n"
     ]
    },
    {
     "name": "stderr",
     "output_type": "stream",
     "text": [
      " 25%|█████████▋                             | 1332/5380 [01:37<03:54, 17.23it/s]"
     ]
    },
    {
     "name": "stdout",
     "output_type": "stream",
     "text": [
      "H1 not found in data 1334th\n",
      "L1 not found in data 1334th\n"
     ]
    },
    {
     "name": "stderr",
     "output_type": "stream",
     "text": [
      " 25%|█████████▊                             | 1350/5380 [01:38<04:30, 14.90it/s]"
     ]
    },
    {
     "name": "stdout",
     "output_type": "stream",
     "text": [
      "H1 not found in data 1349th\n"
     ]
    },
    {
     "name": "stderr",
     "output_type": "stream",
     "text": [
      " 26%|█████████▉                             | 1374/5380 [01:39<05:05, 13.10it/s]"
     ]
    },
    {
     "name": "stdout",
     "output_type": "stream",
     "text": [
      "H3 not found in data 1373th\n"
     ]
    },
    {
     "name": "stderr",
     "output_type": "stream",
     "text": [
      " 26%|██████████                             | 1383/5380 [01:40<03:38, 18.27it/s]"
     ]
    },
    {
     "name": "stdout",
     "output_type": "stream",
     "text": [
      "H1 not found in data 1383th\n"
     ]
    },
    {
     "name": "stderr",
     "output_type": "stream",
     "text": [
      " 26%|██████████▎                            | 1425/5380 [01:43<03:26, 19.16it/s]"
     ]
    },
    {
     "name": "stdout",
     "output_type": "stream",
     "text": [
      "H1 not found in data 1423th\n"
     ]
    },
    {
     "name": "stderr",
     "output_type": "stream",
     "text": [
      " 27%|██████████▎                            | 1431/5380 [01:43<03:27, 19.03it/s]"
     ]
    },
    {
     "name": "stdout",
     "output_type": "stream",
     "text": [
      "H1 not found in data 1434th\n"
     ]
    },
    {
     "name": "stderr",
     "output_type": "stream",
     "text": [
      " 27%|██████████▌                            | 1452/5380 [01:44<02:51, 22.92it/s]"
     ]
    },
    {
     "name": "stdout",
     "output_type": "stream",
     "text": [
      "H1 not found in data 1452th\n"
     ]
    },
    {
     "name": "stderr",
     "output_type": "stream",
     "text": [
      " 28%|██████████▊                            | 1496/5380 [01:47<02:54, 22.21it/s]"
     ]
    },
    {
     "name": "stdout",
     "output_type": "stream",
     "text": [
      "L1 not found in data 1496th\n"
     ]
    },
    {
     "name": "stderr",
     "output_type": "stream",
     "text": [
      " 29%|███████████▏                           | 1546/5380 [01:51<05:06, 12.53it/s]"
     ]
    },
    {
     "name": "stdout",
     "output_type": "stream",
     "text": [
      "L1 not found in data 1548th\n"
     ]
    },
    {
     "name": "stderr",
     "output_type": "stream",
     "text": [
      "\r",
      " 29%|███████████▏                           | 1549/5380 [01:51<05:49, 10.95it/s]"
     ]
    },
    {
     "name": "stdout",
     "output_type": "stream",
     "text": [
      "L1 not found in data 1549th\n"
     ]
    },
    {
     "name": "stderr",
     "output_type": "stream",
     "text": [
      " 29%|███████████▎                           | 1553/5380 [01:52<06:44,  9.46it/s]"
     ]
    },
    {
     "name": "stdout",
     "output_type": "stream",
     "text": [
      "H3 not found in data 1554th\n"
     ]
    },
    {
     "name": "stderr",
     "output_type": "stream",
     "text": [
      " 29%|███████████▎                           | 1560/5380 [01:52<06:24,  9.94it/s]"
     ]
    },
    {
     "name": "stdout",
     "output_type": "stream",
     "text": [
      "H3 not found in data 1560th\n"
     ]
    },
    {
     "name": "stderr",
     "output_type": "stream",
     "text": [
      " 29%|███████████▎                           | 1564/5380 [01:53<08:23,  7.59it/s]"
     ]
    },
    {
     "name": "stdout",
     "output_type": "stream",
     "text": [
      "H1 not found in data 1564th\n"
     ]
    },
    {
     "name": "stderr",
     "output_type": "stream",
     "text": [
      " 29%|███████████▍                           | 1584/5380 [01:55<04:17, 14.75it/s]"
     ]
    },
    {
     "name": "stdout",
     "output_type": "stream",
     "text": [
      "H3 not found in data 1582th\n",
      "H1 not found in data 1584th\n"
     ]
    },
    {
     "name": "stderr",
     "output_type": "stream",
     "text": [
      " 30%|███████████▌                           | 1591/5380 [01:56<05:48, 10.86it/s]"
     ]
    },
    {
     "name": "stdout",
     "output_type": "stream",
     "text": [
      "L1 not found in data 1592th\n"
     ]
    },
    {
     "name": "stderr",
     "output_type": "stream",
     "text": [
      " 30%|███████████▌                           | 1602/5380 [01:57<05:11, 12.13it/s]"
     ]
    },
    {
     "name": "stdout",
     "output_type": "stream",
     "text": [
      "L1 not found in data 1601th\n"
     ]
    },
    {
     "name": "stderr",
     "output_type": "stream",
     "text": [
      " 30%|███████████▋                           | 1613/5380 [01:57<04:12, 14.93it/s]"
     ]
    },
    {
     "name": "stdout",
     "output_type": "stream",
     "text": [
      "H3 not found in data 1613th\n"
     ]
    },
    {
     "name": "stderr",
     "output_type": "stream",
     "text": [
      " 30%|███████████▊                           | 1632/5380 [01:59<03:25, 18.26it/s]"
     ]
    },
    {
     "name": "stdout",
     "output_type": "stream",
     "text": [
      "H3 not found in data 1634th\n"
     ]
    },
    {
     "name": "stderr",
     "output_type": "stream",
     "text": [
      " 31%|███████████▉                           | 1646/5380 [02:00<03:49, 16.24it/s]"
     ]
    },
    {
     "name": "stdout",
     "output_type": "stream",
     "text": [
      "L1 not found in data 1647th\n"
     ]
    },
    {
     "name": "stderr",
     "output_type": "stream",
     "text": [
      " 31%|████████████                           | 1664/5380 [02:01<03:12, 19.32it/s]"
     ]
    },
    {
     "name": "stdout",
     "output_type": "stream",
     "text": [
      "H3 not found in data 1664th\n"
     ]
    },
    {
     "name": "stderr",
     "output_type": "stream",
     "text": [
      " 32%|████████████▎                          | 1698/5380 [02:04<04:03, 15.14it/s]"
     ]
    },
    {
     "name": "stdout",
     "output_type": "stream",
     "text": [
      "L1 not found in data 1699th\n",
      "L1 not found in data 1700th\n"
     ]
    },
    {
     "name": "stderr",
     "output_type": "stream",
     "text": [
      " 32%|████████████▍                          | 1715/5380 [02:06<05:06, 11.95it/s]"
     ]
    },
    {
     "name": "stdout",
     "output_type": "stream",
     "text": [
      "H3 not found in data 1716th\n",
      "L1 not found in data 1716th\n"
     ]
    },
    {
     "name": "stderr",
     "output_type": "stream",
     "text": [
      " 33%|████████████▊                          | 1771/5380 [02:09<02:43, 22.12it/s]"
     ]
    },
    {
     "name": "stdout",
     "output_type": "stream",
     "text": [
      "L1 not found in data 1767th\n"
     ]
    },
    {
     "name": "stderr",
     "output_type": "stream",
     "text": [
      " 33%|████████████▉                          | 1784/5380 [02:10<04:56, 12.11it/s]"
     ]
    },
    {
     "name": "stdout",
     "output_type": "stream",
     "text": [
      "H3 not found in data 1785th\n"
     ]
    },
    {
     "name": "stderr",
     "output_type": "stream",
     "text": [
      " 33%|█████████████                          | 1797/5380 [02:11<03:48, 15.66it/s]"
     ]
    },
    {
     "name": "stdout",
     "output_type": "stream",
     "text": [
      "H3 not found in data 1793th\n"
     ]
    },
    {
     "name": "stderr",
     "output_type": "stream",
     "text": [
      " 34%|█████████████▎                         | 1835/5380 [02:13<03:20, 17.68it/s]"
     ]
    },
    {
     "name": "stdout",
     "output_type": "stream",
     "text": [
      "H1 not found in data 1835th\n"
     ]
    },
    {
     "name": "stderr",
     "output_type": "stream",
     "text": [
      " 34%|█████████████▎                         | 1839/5380 [02:14<05:14, 11.27it/s]"
     ]
    },
    {
     "name": "stdout",
     "output_type": "stream",
     "text": [
      "H1 not found in data 1836th\n"
     ]
    },
    {
     "name": "stderr",
     "output_type": "stream",
     "text": [
      " 35%|█████████████▍                         | 1858/5380 [02:15<04:23, 13.39it/s]"
     ]
    },
    {
     "name": "stdout",
     "output_type": "stream",
     "text": [
      "H3 not found in data 1861th\n"
     ]
    },
    {
     "name": "stderr",
     "output_type": "stream",
     "text": [
      " 35%|█████████████▌                         | 1870/5380 [02:17<04:38, 12.59it/s]"
     ]
    },
    {
     "name": "stdout",
     "output_type": "stream",
     "text": [
      "H3 not found in data 1870th\n"
     ]
    },
    {
     "name": "stderr",
     "output_type": "stream",
     "text": [
      " 35%|█████████████▋                         | 1880/5380 [02:17<03:24, 17.14it/s]"
     ]
    },
    {
     "name": "stdout",
     "output_type": "stream",
     "text": [
      "H1 not found in data 1877th\n"
     ]
    },
    {
     "name": "stderr",
     "output_type": "stream",
     "text": [
      " 35%|█████████████▊                         | 1907/5380 [02:19<03:32, 16.38it/s]"
     ]
    },
    {
     "name": "stdout",
     "output_type": "stream",
     "text": [
      "L2 not found in data 1907th\n"
     ]
    },
    {
     "name": "stderr",
     "output_type": "stream",
     "text": [
      " 36%|█████████████▉                         | 1917/5380 [02:20<04:57, 11.64it/s]"
     ]
    },
    {
     "name": "stdout",
     "output_type": "stream",
     "text": [
      "L2 not found in data 1915th\n"
     ]
    },
    {
     "name": "stderr",
     "output_type": "stream",
     "text": [
      " 36%|██████████████▏                        | 1962/5380 [02:23<03:17, 17.28it/s]"
     ]
    },
    {
     "name": "stdout",
     "output_type": "stream",
     "text": [
      "L1 not found in data 1962th\n"
     ]
    },
    {
     "name": "stderr",
     "output_type": "stream",
     "text": [
      " 37%|██████████████▎                        | 1966/5380 [02:23<04:09, 13.71it/s]"
     ]
    },
    {
     "name": "stdout",
     "output_type": "stream",
     "text": [
      "H1 not found in data 1964th\n"
     ]
    },
    {
     "name": "stderr",
     "output_type": "stream",
     "text": [
      " 37%|██████████████▎                        | 1972/5380 [02:24<04:10, 13.59it/s]"
     ]
    },
    {
     "name": "stdout",
     "output_type": "stream",
     "text": [
      "H2 not found in data 1971th\n"
     ]
    },
    {
     "name": "stderr",
     "output_type": "stream",
     "text": [
      " 37%|██████████████▎                        | 1983/5380 [02:24<02:34, 22.01it/s]"
     ]
    },
    {
     "name": "stdout",
     "output_type": "stream",
     "text": [
      "H3 not found in data 1987th\n"
     ]
    },
    {
     "name": "stderr",
     "output_type": "stream",
     "text": [
      " 37%|██████████████▌                        | 2003/5380 [02:26<03:43, 15.10it/s]"
     ]
    },
    {
     "name": "stdout",
     "output_type": "stream",
     "text": [
      "L3 not found in data 2002th\n"
     ]
    },
    {
     "name": "stderr",
     "output_type": "stream",
     "text": [
      " 39%|███████████████▎                       | 2117/5380 [02:32<03:37, 15.02it/s]"
     ]
    },
    {
     "name": "stdout",
     "output_type": "stream",
     "text": [
      "L1 not found in data 2118th\n"
     ]
    },
    {
     "name": "stderr",
     "output_type": "stream",
     "text": [
      " 40%|███████████████▍                       | 2129/5380 [02:34<04:22, 12.39it/s]"
     ]
    },
    {
     "name": "stdout",
     "output_type": "stream",
     "text": [
      "L1 not found in data 2129th\n"
     ]
    },
    {
     "name": "stderr",
     "output_type": "stream",
     "text": [
      " 40%|███████████████▌                       | 2140/5380 [02:35<03:55, 13.77it/s]"
     ]
    },
    {
     "name": "stdout",
     "output_type": "stream",
     "text": [
      "H3 not found in data 2138th\n"
     ]
    },
    {
     "name": "stderr",
     "output_type": "stream",
     "text": [
      " 41%|███████████████▉                       | 2198/5380 [02:38<02:28, 21.45it/s]"
     ]
    },
    {
     "name": "stdout",
     "output_type": "stream",
     "text": [
      "H3 not found in data 2193th\n"
     ]
    },
    {
     "name": "stderr",
     "output_type": "stream",
     "text": [
      " 42%|████████████████▏                      | 2241/5380 [02:41<03:46, 13.88it/s]"
     ]
    },
    {
     "name": "stdout",
     "output_type": "stream",
     "text": [
      "H1 not found in data 2242th\n"
     ]
    },
    {
     "name": "stderr",
     "output_type": "stream",
     "text": [
      " 42%|████████████████▍                      | 2267/5380 [02:42<02:34, 20.15it/s]"
     ]
    },
    {
     "name": "stdout",
     "output_type": "stream",
     "text": [
      "L1 not found in data 2268th\n"
     ]
    },
    {
     "name": "stderr",
     "output_type": "stream",
     "text": [
      "\r",
      " 42%|████████████████▍                      | 2270/5380 [02:43<04:22, 11.85it/s]"
     ]
    },
    {
     "name": "stdout",
     "output_type": "stream",
     "text": [
      "H3 not found in data 2271th\n"
     ]
    },
    {
     "name": "stderr",
     "output_type": "stream",
     "text": [
      " 43%|████████████████▋                      | 2296/5380 [02:45<02:16, 22.65it/s]"
     ]
    },
    {
     "name": "stdout",
     "output_type": "stream",
     "text": [
      "H3 not found in data 2293th\n"
     ]
    },
    {
     "name": "stderr",
     "output_type": "stream",
     "text": [
      " 43%|████████████████▊                      | 2326/5380 [02:46<02:51, 17.80it/s]"
     ]
    },
    {
     "name": "stdout",
     "output_type": "stream",
     "text": [
      "L1 not found in data 2327th\n"
     ]
    },
    {
     "name": "stderr",
     "output_type": "stream",
     "text": [
      " 45%|█████████████████▌                     | 2417/5380 [02:53<02:31, 19.49it/s]"
     ]
    },
    {
     "name": "stdout",
     "output_type": "stream",
     "text": [
      "H1 not found in data 2413th\n"
     ]
    },
    {
     "name": "stderr",
     "output_type": "stream",
     "text": [
      " 46%|█████████████████▊                     | 2460/5380 [02:55<02:10, 22.30it/s]"
     ]
    },
    {
     "name": "stdout",
     "output_type": "stream",
     "text": [
      "H1 not found in data 2462th\n"
     ]
    },
    {
     "name": "stderr",
     "output_type": "stream",
     "text": [
      " 46%|█████████████████▉                     | 2477/5380 [02:57<03:32, 13.69it/s]"
     ]
    },
    {
     "name": "stdout",
     "output_type": "stream",
     "text": [
      "H3 not found in data 2477th\n"
     ]
    },
    {
     "name": "stderr",
     "output_type": "stream",
     "text": [
      " 47%|██████████████████▏                    | 2514/5380 [02:59<03:03, 15.58it/s]"
     ]
    },
    {
     "name": "stdout",
     "output_type": "stream",
     "text": [
      "H1 not found in data 2513th\n"
     ]
    },
    {
     "name": "stderr",
     "output_type": "stream",
     "text": [
      " 47%|██████████████████▍                    | 2540/5380 [03:02<04:37, 10.25it/s]"
     ]
    },
    {
     "name": "stdout",
     "output_type": "stream",
     "text": [
      "H3 not found in data 2540th\n"
     ]
    },
    {
     "name": "stderr",
     "output_type": "stream",
     "text": [
      " 48%|██████████████████▋                    | 2575/5380 [03:05<02:24, 19.38it/s]"
     ]
    },
    {
     "name": "stdout",
     "output_type": "stream",
     "text": [
      "H3 not found in data 2573th\n"
     ]
    },
    {
     "name": "stderr",
     "output_type": "stream",
     "text": [
      " 48%|██████████████████▊                    | 2596/5380 [03:06<03:07, 14.87it/s]"
     ]
    },
    {
     "name": "stdout",
     "output_type": "stream",
     "text": [
      "H1 not found in data 2598th\n"
     ]
    },
    {
     "name": "stderr",
     "output_type": "stream",
     "text": [
      " 48%|██████████████████▉                    | 2605/5380 [03:07<03:49, 12.09it/s]"
     ]
    },
    {
     "name": "stdout",
     "output_type": "stream",
     "text": [
      "H1 not found in data 2603th\n"
     ]
    },
    {
     "name": "stderr",
     "output_type": "stream",
     "text": [
      " 49%|███████████████████▏                   | 2643/5380 [03:09<02:35, 17.59it/s]"
     ]
    },
    {
     "name": "stdout",
     "output_type": "stream",
     "text": [
      "H3 not found in data 2639th\n"
     ]
    },
    {
     "name": "stderr",
     "output_type": "stream",
     "text": [
      "\r",
      " 49%|███████████████████▏                   | 2645/5380 [03:10<03:28, 13.09it/s]"
     ]
    },
    {
     "name": "stdout",
     "output_type": "stream",
     "text": [
      "L1 not found in data 2645th\n"
     ]
    },
    {
     "name": "stderr",
     "output_type": "stream",
     "text": [
      " 49%|███████████████████▎                   | 2661/5380 [03:11<03:14, 14.00it/s]"
     ]
    },
    {
     "name": "stdout",
     "output_type": "stream",
     "text": [
      "H1 not found in data 2661th\n"
     ]
    },
    {
     "name": "stderr",
     "output_type": "stream",
     "text": [
      " 50%|███████████████████▎                   | 2670/5380 [03:11<02:53, 15.66it/s]"
     ]
    },
    {
     "name": "stdout",
     "output_type": "stream",
     "text": [
      "H3 not found in data 2665th\n"
     ]
    },
    {
     "name": "stderr",
     "output_type": "stream",
     "text": [
      " 50%|███████████████████▌                   | 2696/5380 [03:13<02:46, 16.12it/s]"
     ]
    },
    {
     "name": "stdout",
     "output_type": "stream",
     "text": [
      "H1 not found in data 2696th\n"
     ]
    },
    {
     "name": "stderr",
     "output_type": "stream",
     "text": [
      " 51%|███████████████████▋                   | 2724/5380 [03:16<03:23, 13.02it/s]"
     ]
    },
    {
     "name": "stdout",
     "output_type": "stream",
     "text": [
      "L3 not found in data 2723th\n"
     ]
    },
    {
     "name": "stderr",
     "output_type": "stream",
     "text": [
      " 51%|███████████████████▊                   | 2740/5380 [03:17<02:35, 17.03it/s]"
     ]
    },
    {
     "name": "stdout",
     "output_type": "stream",
     "text": [
      "L1 not found in data 2740th\n"
     ]
    },
    {
     "name": "stderr",
     "output_type": "stream",
     "text": [
      " 51%|███████████████████▉                   | 2744/5380 [03:18<06:36,  6.65it/s]"
     ]
    },
    {
     "name": "stdout",
     "output_type": "stream",
     "text": [
      "H3 not found in data 2744th\n"
     ]
    },
    {
     "name": "stderr",
     "output_type": "stream",
     "text": [
      "\r",
      " 51%|███████████████████▉                   | 2746/5380 [03:19<06:59,  6.27it/s]"
     ]
    },
    {
     "name": "stdout",
     "output_type": "stream",
     "text": [
      "L1 not found in data 2748th\n",
      "L1 not found in data 2751th\n"
     ]
    },
    {
     "name": "stderr",
     "output_type": "stream",
     "text": [
      " 51%|████████████████████                   | 2770/5380 [03:20<02:26, 17.79it/s]"
     ]
    },
    {
     "name": "stdout",
     "output_type": "stream",
     "text": [
      "L1 not found in data 2764th\n",
      "H3 not found in data 2771th\n"
     ]
    },
    {
     "name": "stderr",
     "output_type": "stream",
     "text": [
      " 53%|████████████████████▌                  | 2838/5380 [03:25<02:51, 14.82it/s]"
     ]
    },
    {
     "name": "stdout",
     "output_type": "stream",
     "text": [
      "H1 not found in data 2838th\n"
     ]
    },
    {
     "name": "stderr",
     "output_type": "stream",
     "text": [
      " 53%|████████████████████▊                  | 2863/5380 [03:27<02:32, 16.50it/s]"
     ]
    },
    {
     "name": "stdout",
     "output_type": "stream",
     "text": [
      "H3 not found in data 2864th\n"
     ]
    },
    {
     "name": "stderr",
     "output_type": "stream",
     "text": [
      " 54%|████████████████████▉                  | 2891/5380 [03:29<03:27, 11.97it/s]"
     ]
    },
    {
     "name": "stdout",
     "output_type": "stream",
     "text": [
      "L3 not found in data 2892th\n"
     ]
    },
    {
     "name": "stderr",
     "output_type": "stream",
     "text": [
      " 54%|█████████████████████▏                 | 2923/5380 [03:32<01:29, 27.60it/s]"
     ]
    },
    {
     "name": "stdout",
     "output_type": "stream",
     "text": [
      "L1 not found in data 2920th\n"
     ]
    },
    {
     "name": "stderr",
     "output_type": "stream",
     "text": [
      " 55%|█████████████████████▍                 | 2960/5380 [03:34<01:45, 22.90it/s]"
     ]
    },
    {
     "name": "stdout",
     "output_type": "stream",
     "text": [
      "H1 not found in data 2955th\n"
     ]
    },
    {
     "name": "stderr",
     "output_type": "stream",
     "text": [
      "\r",
      " 55%|█████████████████████▌                 | 2966/5380 [03:34<01:29, 27.12it/s]"
     ]
    },
    {
     "name": "stdout",
     "output_type": "stream",
     "text": [
      "H3 not found in data 2969th\n"
     ]
    },
    {
     "name": "stderr",
     "output_type": "stream",
     "text": [
      " 56%|█████████████████████▋                 | 2989/5380 [03:36<01:54, 20.96it/s]"
     ]
    },
    {
     "name": "stdout",
     "output_type": "stream",
     "text": [
      "H3 not found in data 2983th\n"
     ]
    },
    {
     "name": "stderr",
     "output_type": "stream",
     "text": [
      " 56%|█████████████████████▋                 | 2997/5380 [03:36<02:00, 19.71it/s]"
     ]
    },
    {
     "name": "stdout",
     "output_type": "stream",
     "text": [
      "H3 not found in data 2995th\n"
     ]
    },
    {
     "name": "stderr",
     "output_type": "stream",
     "text": [
      " 56%|█████████████████████▊                 | 3003/5380 [03:37<02:22, 16.64it/s]"
     ]
    },
    {
     "name": "stdout",
     "output_type": "stream",
     "text": [
      "H3 not found in data 3005th\n"
     ]
    },
    {
     "name": "stderr",
     "output_type": "stream",
     "text": [
      "\r",
      " 56%|█████████████████████▊                 | 3006/5380 [03:38<05:35,  7.07it/s]"
     ]
    },
    {
     "name": "stdout",
     "output_type": "stream",
     "text": [
      "L3 not found in data 3007th\n"
     ]
    },
    {
     "name": "stderr",
     "output_type": "stream",
     "text": [
      " 56%|█████████████████████▉                 | 3028/5380 [03:39<02:47, 14.03it/s]"
     ]
    },
    {
     "name": "stdout",
     "output_type": "stream",
     "text": [
      "H3 not found in data 3028th\n"
     ]
    },
    {
     "name": "stderr",
     "output_type": "stream",
     "text": [
      " 57%|██████████████████████▎                | 3081/5380 [03:43<01:53, 20.28it/s]"
     ]
    },
    {
     "name": "stdout",
     "output_type": "stream",
     "text": [
      "L1 not found in data 3083th\n"
     ]
    },
    {
     "name": "stderr",
     "output_type": "stream",
     "text": [
      " 57%|██████████████████████▍                | 3091/5380 [03:45<02:44, 13.91it/s]"
     ]
    },
    {
     "name": "stdout",
     "output_type": "stream",
     "text": [
      "H1 not found in data 3089th\n"
     ]
    },
    {
     "name": "stderr",
     "output_type": "stream",
     "text": [
      "\r",
      " 58%|██████████████████████▍                | 3094/5380 [03:45<02:52, 13.23it/s]"
     ]
    },
    {
     "name": "stdout",
     "output_type": "stream",
     "text": [
      "L2 not found in data 3094th\n"
     ]
    },
    {
     "name": "stderr",
     "output_type": "stream",
     "text": [
      " 58%|██████████████████████▍                | 3100/5380 [03:46<04:07,  9.21it/s]"
     ]
    },
    {
     "name": "stdout",
     "output_type": "stream",
     "text": [
      "H3 not found in data 3101th\n"
     ]
    },
    {
     "name": "stderr",
     "output_type": "stream",
     "text": [
      " 58%|██████████████████████▊                | 3142/5380 [03:48<02:09, 17.30it/s]"
     ]
    },
    {
     "name": "stdout",
     "output_type": "stream",
     "text": [
      "H3 not found in data 3142th\n"
     ]
    },
    {
     "name": "stderr",
     "output_type": "stream",
     "text": [
      "\r",
      " 58%|██████████████████████▊                | 3144/5380 [03:49<06:45,  5.52it/s]"
     ]
    },
    {
     "name": "stdout",
     "output_type": "stream",
     "text": [
      "L2 not found in data 3147th\n"
     ]
    },
    {
     "name": "stderr",
     "output_type": "stream",
     "text": [
      " 59%|██████████████████████▉                | 3164/5380 [03:51<02:41, 13.73it/s]"
     ]
    },
    {
     "name": "stdout",
     "output_type": "stream",
     "text": [
      "L1 not found in data 3164th\n"
     ]
    },
    {
     "name": "stderr",
     "output_type": "stream",
     "text": [
      " 59%|███████████████████████                | 3181/5380 [03:52<02:14, 16.33it/s]"
     ]
    },
    {
     "name": "stdout",
     "output_type": "stream",
     "text": [
      "H2 not found in data 3180th\n"
     ]
    },
    {
     "name": "stderr",
     "output_type": "stream",
     "text": [
      " 60%|███████████████████████▎               | 3219/5380 [03:54<02:09, 16.65it/s]"
     ]
    },
    {
     "name": "stdout",
     "output_type": "stream",
     "text": [
      "H1 not found in data 3217th\n"
     ]
    },
    {
     "name": "stderr",
     "output_type": "stream",
     "text": [
      " 60%|███████████████████████▍               | 3227/5380 [03:55<02:02, 17.64it/s]"
     ]
    },
    {
     "name": "stdout",
     "output_type": "stream",
     "text": [
      "H3 not found in data 3224th\n"
     ]
    },
    {
     "name": "stderr",
     "output_type": "stream",
     "text": [
      " 60%|███████████████████████▍               | 3233/5380 [03:55<02:14, 15.93it/s]"
     ]
    },
    {
     "name": "stdout",
     "output_type": "stream",
     "text": [
      "L1 not found in data 3233th\n"
     ]
    },
    {
     "name": "stderr",
     "output_type": "stream",
     "text": [
      " 61%|███████████████████████▋               | 3273/5380 [03:58<02:14, 15.67it/s]"
     ]
    },
    {
     "name": "stdout",
     "output_type": "stream",
     "text": [
      "H1 not found in data 3274th\n"
     ]
    },
    {
     "name": "stderr",
     "output_type": "stream",
     "text": [
      " 61%|███████████████████████▊               | 3277/5380 [03:59<04:01,  8.72it/s]"
     ]
    },
    {
     "name": "stdout",
     "output_type": "stream",
     "text": [
      "H3 not found in data 3279th\n",
      "L1 not found in data 3281th\n"
     ]
    },
    {
     "name": "stderr",
     "output_type": "stream",
     "text": [
      " 61%|███████████████████████▊               | 3287/5380 [04:00<03:10, 11.00it/s]"
     ]
    },
    {
     "name": "stdout",
     "output_type": "stream",
     "text": [
      "H1 not found in data 3286th\n"
     ]
    },
    {
     "name": "stderr",
     "output_type": "stream",
     "text": [
      " 61%|███████████████████████▉               | 3296/5380 [04:00<02:07, 16.36it/s]"
     ]
    },
    {
     "name": "stdout",
     "output_type": "stream",
     "text": [
      "L1 not found in data 3295th\n"
     ]
    },
    {
     "name": "stderr",
     "output_type": "stream",
     "text": [
      " 61%|███████████████████████▉               | 3300/5380 [04:00<02:19, 14.93it/s]"
     ]
    },
    {
     "name": "stdout",
     "output_type": "stream",
     "text": [
      "L1 not found in data 3303th\n"
     ]
    },
    {
     "name": "stderr",
     "output_type": "stream",
     "text": [
      " 62%|████████████████████████▏              | 3331/5380 [04:02<01:49, 18.74it/s]"
     ]
    },
    {
     "name": "stdout",
     "output_type": "stream",
     "text": [
      "L1 not found in data 3328th\n",
      "L3 not found in data 3331th\n"
     ]
    },
    {
     "name": "stderr",
     "output_type": "stream",
     "text": [
      " 62%|████████████████████████▏              | 3335/5380 [04:03<03:53,  8.74it/s]"
     ]
    },
    {
     "name": "stdout",
     "output_type": "stream",
     "text": [
      "H3 not found in data 3336th\n"
     ]
    },
    {
     "name": "stderr",
     "output_type": "stream",
     "text": [
      " 63%|████████████████████████▍              | 3379/5380 [04:07<02:16, 14.67it/s]"
     ]
    },
    {
     "name": "stdout",
     "output_type": "stream",
     "text": [
      "H3 not found in data 3380th\n"
     ]
    },
    {
     "name": "stderr",
     "output_type": "stream",
     "text": [
      " 63%|████████████████████████▌              | 3394/5380 [04:08<02:30, 13.17it/s]"
     ]
    },
    {
     "name": "stdout",
     "output_type": "stream",
     "text": [
      "H1 not found in data 3394th\n"
     ]
    },
    {
     "name": "stderr",
     "output_type": "stream",
     "text": [
      " 63%|████████████████████████▋              | 3413/5380 [04:10<02:32, 12.92it/s]"
     ]
    },
    {
     "name": "stdout",
     "output_type": "stream",
     "text": [
      "L1 not found in data 3411th\n"
     ]
    },
    {
     "name": "stderr",
     "output_type": "stream",
     "text": [
      " 64%|████████████████████████▊              | 3422/5380 [04:11<02:35, 12.56it/s]"
     ]
    },
    {
     "name": "stdout",
     "output_type": "stream",
     "text": [
      "H3 not found in data 3425th\n"
     ]
    },
    {
     "name": "stderr",
     "output_type": "stream",
     "text": [
      " 65%|█████████████████████████▏             | 3473/5380 [04:14<01:43, 18.39it/s]"
     ]
    },
    {
     "name": "stdout",
     "output_type": "stream",
     "text": [
      "H1 not found in data 3474th\n"
     ]
    },
    {
     "name": "stderr",
     "output_type": "stream",
     "text": [
      " 65%|█████████████████████████▎             | 3488/5380 [04:16<02:44, 11.51it/s]"
     ]
    },
    {
     "name": "stdout",
     "output_type": "stream",
     "text": [
      "L1 not found in data 3491th\n"
     ]
    },
    {
     "name": "stderr",
     "output_type": "stream",
     "text": [
      " 65%|█████████████████████████▍             | 3513/5380 [04:18<02:07, 14.70it/s]"
     ]
    },
    {
     "name": "stdout",
     "output_type": "stream",
     "text": [
      "L1 not found in data 3513th\n"
     ]
    },
    {
     "name": "stderr",
     "output_type": "stream",
     "text": [
      "\r",
      " 65%|█████████████████████████▍             | 3515/5380 [04:19<03:29,  8.91it/s]"
     ]
    },
    {
     "name": "stdout",
     "output_type": "stream",
     "text": [
      "H3 not found in data 3517th\n"
     ]
    },
    {
     "name": "stderr",
     "output_type": "stream",
     "text": [
      "\r",
      " 65%|█████████████████████████▌             | 3518/5380 [04:19<03:24,  9.12it/s]"
     ]
    },
    {
     "name": "stdout",
     "output_type": "stream",
     "text": [
      "H3 not found in data 3518th\n",
      "L1 not found in data 3518th\n"
     ]
    },
    {
     "name": "stderr",
     "output_type": "stream",
     "text": [
      " 66%|█████████████████████████▌             | 3531/5380 [04:20<02:22, 12.94it/s]"
     ]
    },
    {
     "name": "stdout",
     "output_type": "stream",
     "text": [
      "L1 not found in data 3533th\n"
     ]
    },
    {
     "name": "stderr",
     "output_type": "stream",
     "text": [
      " 66%|█████████████████████████▋             | 3552/5380 [04:22<02:18, 13.17it/s]"
     ]
    },
    {
     "name": "stdout",
     "output_type": "stream",
     "text": [
      "H3 not found in data 3553th\n"
     ]
    },
    {
     "name": "stderr",
     "output_type": "stream",
     "text": [
      " 66%|█████████████████████████▊             | 3563/5380 [04:23<02:22, 12.74it/s]"
     ]
    },
    {
     "name": "stdout",
     "output_type": "stream",
     "text": [
      "H1 not found in data 3564th\n",
      "L2 not found in data 3564th\n"
     ]
    },
    {
     "name": "stderr",
     "output_type": "stream",
     "text": [
      "\r",
      " 66%|█████████████████████████▊             | 3565/5380 [04:23<02:54, 10.42it/s]"
     ]
    },
    {
     "name": "stdout",
     "output_type": "stream",
     "text": [
      "H3 not found in data 3565th\n"
     ]
    },
    {
     "name": "stderr",
     "output_type": "stream",
     "text": [
      " 67%|██████████████████████████▎            | 3625/5380 [04:27<01:22, 21.16it/s]"
     ]
    },
    {
     "name": "stdout",
     "output_type": "stream",
     "text": [
      "L1 not found in data 3621th\n",
      "H3 not found in data 3625th\n"
     ]
    },
    {
     "name": "stderr",
     "output_type": "stream",
     "text": [
      " 68%|██████████████████████████▌            | 3660/5380 [04:30<02:15, 12.69it/s]"
     ]
    },
    {
     "name": "stdout",
     "output_type": "stream",
     "text": [
      "H1 not found in data 3660th\n"
     ]
    },
    {
     "name": "stderr",
     "output_type": "stream",
     "text": [
      "\r",
      " 68%|██████████████████████████▌            | 3662/5380 [04:30<02:51, 10.00it/s]"
     ]
    },
    {
     "name": "stdout",
     "output_type": "stream",
     "text": [
      "H3 not found in data 3662th\n"
     ]
    },
    {
     "name": "stderr",
     "output_type": "stream",
     "text": [
      " 68%|██████████████████████████▋            | 3683/5380 [04:31<01:17, 21.79it/s]"
     ]
    },
    {
     "name": "stdout",
     "output_type": "stream",
     "text": [
      "H3 not found in data 3684th\n"
     ]
    },
    {
     "name": "stderr",
     "output_type": "stream",
     "text": [
      " 69%|██████████████████████████▉            | 3713/5380 [04:34<01:52, 14.86it/s]"
     ]
    },
    {
     "name": "stdout",
     "output_type": "stream",
     "text": [
      "H3 not found in data 3711th\n"
     ]
    },
    {
     "name": "stderr",
     "output_type": "stream",
     "text": [
      " 69%|██████████████████████████▉            | 3724/5380 [04:35<02:14, 12.30it/s]"
     ]
    },
    {
     "name": "stdout",
     "output_type": "stream",
     "text": [
      "H1 not found in data 3723th\n"
     ]
    },
    {
     "name": "stderr",
     "output_type": "stream",
     "text": [
      "\r",
      " 69%|███████████████████████████            | 3728/5380 [04:35<02:24, 11.43it/s]"
     ]
    },
    {
     "name": "stdout",
     "output_type": "stream",
     "text": [
      "H3 not found in data 3729th\n"
     ]
    },
    {
     "name": "stderr",
     "output_type": "stream",
     "text": [
      " 70%|███████████████████████████▏           | 3746/5380 [04:36<02:18, 11.81it/s]"
     ]
    },
    {
     "name": "stdout",
     "output_type": "stream",
     "text": [
      "H3 not found in data 3750th\n"
     ]
    },
    {
     "name": "stderr",
     "output_type": "stream",
     "text": [
      " 70%|███████████████████████████▎           | 3769/5380 [04:38<01:37, 16.49it/s]"
     ]
    },
    {
     "name": "stdout",
     "output_type": "stream",
     "text": [
      "L1 not found in data 3770th\n"
     ]
    },
    {
     "name": "stderr",
     "output_type": "stream",
     "text": [
      " 70%|███████████████████████████▍           | 3791/5380 [04:39<01:31, 17.33it/s]"
     ]
    },
    {
     "name": "stdout",
     "output_type": "stream",
     "text": [
      "L1 not found in data 3791th\n"
     ]
    },
    {
     "name": "stderr",
     "output_type": "stream",
     "text": [
      "\r",
      " 71%|███████████████████████████▍           | 3793/5380 [04:40<02:04, 12.72it/s]"
     ]
    },
    {
     "name": "stdout",
     "output_type": "stream",
     "text": [
      "H1 not found in data 3794th\n"
     ]
    },
    {
     "name": "stderr",
     "output_type": "stream",
     "text": [
      " 71%|███████████████████████████▋           | 3814/5380 [04:42<02:17, 11.41it/s]"
     ]
    },
    {
     "name": "stdout",
     "output_type": "stream",
     "text": [
      "H3 not found in data 3815th\n"
     ]
    },
    {
     "name": "stderr",
     "output_type": "stream",
     "text": [
      " 71%|███████████████████████████▋           | 3819/5380 [04:43<03:21,  7.74it/s]"
     ]
    },
    {
     "name": "stdout",
     "output_type": "stream",
     "text": [
      "H1 not found in data 3820th\n"
     ]
    },
    {
     "name": "stderr",
     "output_type": "stream",
     "text": [
      " 72%|███████████████████████████▉           | 3850/5380 [04:45<01:26, 17.66it/s]"
     ]
    },
    {
     "name": "stdout",
     "output_type": "stream",
     "text": [
      "L1 not found in data 3853th\n"
     ]
    },
    {
     "name": "stderr",
     "output_type": "stream",
     "text": [
      " 72%|████████████████████████████           | 3876/5380 [04:47<01:05, 22.83it/s]"
     ]
    },
    {
     "name": "stdout",
     "output_type": "stream",
     "text": [
      "H1 not found in data 3866th\n",
      "H3 not found in data 3874th\n"
     ]
    },
    {
     "name": "stderr",
     "output_type": "stream",
     "text": [
      " 72%|████████████████████████████▏          | 3883/5380 [04:47<01:15, 19.85it/s]"
     ]
    },
    {
     "name": "stdout",
     "output_type": "stream",
     "text": [
      "L1 not found in data 3885th\n"
     ]
    },
    {
     "name": "stderr",
     "output_type": "stream",
     "text": [
      " 72%|████████████████████████████▏          | 3895/5380 [04:48<01:56, 12.72it/s]"
     ]
    },
    {
     "name": "stdout",
     "output_type": "stream",
     "text": [
      "L1 not found in data 3894th\n",
      "H1 not found in data 3895th\n"
     ]
    },
    {
     "name": "stderr",
     "output_type": "stream",
     "text": [
      " 73%|████████████████████████████▎          | 3906/5380 [04:49<01:20, 18.22it/s]"
     ]
    },
    {
     "name": "stdout",
     "output_type": "stream",
     "text": [
      "H3 not found in data 3903th\n"
     ]
    },
    {
     "name": "stderr",
     "output_type": "stream",
     "text": [
      " 73%|████████████████████████████▍          | 3930/5380 [04:50<01:56, 12.46it/s]"
     ]
    },
    {
     "name": "stdout",
     "output_type": "stream",
     "text": [
      "H2 not found in data 3931th\n"
     ]
    },
    {
     "name": "stderr",
     "output_type": "stream",
     "text": [
      " 74%|████████████████████████████▊          | 3971/5380 [04:54<01:55, 12.20it/s]"
     ]
    },
    {
     "name": "stdout",
     "output_type": "stream",
     "text": [
      "H3 not found in data 3972th\n"
     ]
    },
    {
     "name": "stderr",
     "output_type": "stream",
     "text": [
      " 74%|████████████████████████████▊          | 3982/5380 [04:55<01:37, 14.35it/s]"
     ]
    },
    {
     "name": "stdout",
     "output_type": "stream",
     "text": [
      "H3 not found in data 3982th\n"
     ]
    },
    {
     "name": "stderr",
     "output_type": "stream",
     "text": [
      "\r",
      " 74%|████████████████████████████▉          | 3984/5380 [04:55<02:36,  8.91it/s]"
     ]
    },
    {
     "name": "stdout",
     "output_type": "stream",
     "text": [
      "L3 not found in data 3983th\n"
     ]
    },
    {
     "name": "stderr",
     "output_type": "stream",
     "text": [
      "\r",
      " 74%|████████████████████████████▉          | 3990/5380 [04:55<01:33, 14.88it/s]"
     ]
    },
    {
     "name": "stdout",
     "output_type": "stream",
     "text": [
      "H1 not found in data 3992th\n"
     ]
    },
    {
     "name": "stderr",
     "output_type": "stream",
     "text": [
      " 75%|█████████████████████████████▎         | 4038/5380 [04:59<01:17, 17.36it/s]"
     ]
    },
    {
     "name": "stdout",
     "output_type": "stream",
     "text": [
      "L1 not found in data 4038th\n"
     ]
    },
    {
     "name": "stderr",
     "output_type": "stream",
     "text": [
      " 75%|█████████████████████████████▍         | 4056/5380 [05:00<01:47, 12.35it/s]"
     ]
    },
    {
     "name": "stdout",
     "output_type": "stream",
     "text": [
      "L1 not found in data 4057th\n"
     ]
    },
    {
     "name": "stderr",
     "output_type": "stream",
     "text": [
      " 76%|█████████████████████████████▍         | 4062/5380 [05:01<01:49, 12.08it/s]"
     ]
    },
    {
     "name": "stdout",
     "output_type": "stream",
     "text": [
      "L1 not found in data 4062th\n"
     ]
    },
    {
     "name": "stderr",
     "output_type": "stream",
     "text": [
      " 76%|█████████████████████████████▌         | 4072/5380 [05:02<02:13,  9.82it/s]"
     ]
    },
    {
     "name": "stdout",
     "output_type": "stream",
     "text": [
      "L1 not found in data 4073th\n"
     ]
    },
    {
     "name": "stderr",
     "output_type": "stream",
     "text": [
      " 76%|█████████████████████████████▊         | 4113/5380 [05:04<00:44, 28.77it/s]"
     ]
    },
    {
     "name": "stdout",
     "output_type": "stream",
     "text": [
      "L1 not found in data 4114th\n"
     ]
    },
    {
     "name": "stderr",
     "output_type": "stream",
     "text": [
      " 77%|██████████████████████████████▏        | 4157/5380 [05:06<00:49, 24.51it/s]"
     ]
    },
    {
     "name": "stdout",
     "output_type": "stream",
     "text": [
      "H3 not found in data 4150th\n"
     ]
    },
    {
     "name": "stderr",
     "output_type": "stream",
     "text": [
      " 78%|██████████████████████████████▎        | 4180/5380 [05:08<01:04, 18.59it/s]"
     ]
    },
    {
     "name": "stdout",
     "output_type": "stream",
     "text": [
      "H3 not found in data 4177th\n"
     ]
    },
    {
     "name": "stderr",
     "output_type": "stream",
     "text": [
      " 78%|██████████████████████████████▍        | 4193/5380 [05:08<00:54, 21.93it/s]"
     ]
    },
    {
     "name": "stdout",
     "output_type": "stream",
     "text": [
      "H3 not found in data 4187th\n"
     ]
    },
    {
     "name": "stderr",
     "output_type": "stream",
     "text": [
      " 79%|██████████████████████████████▊        | 4243/5380 [05:12<01:16, 14.81it/s]"
     ]
    },
    {
     "name": "stdout",
     "output_type": "stream",
     "text": [
      "L1 not found in data 4243th\n"
     ]
    },
    {
     "name": "stderr",
     "output_type": "stream",
     "text": [
      " 79%|██████████████████████████████▊        | 4249/5380 [05:12<01:19, 14.18it/s]"
     ]
    },
    {
     "name": "stdout",
     "output_type": "stream",
     "text": [
      "L2 not found in data 4249th\n"
     ]
    },
    {
     "name": "stderr",
     "output_type": "stream",
     "text": [
      " 80%|███████████████████████████████▎       | 4320/5380 [05:16<00:48, 21.81it/s]"
     ]
    },
    {
     "name": "stdout",
     "output_type": "stream",
     "text": [
      "H1 not found in data 4319th\n"
     ]
    },
    {
     "name": "stderr",
     "output_type": "stream",
     "text": [
      " 81%|███████████████████████████████▌       | 4358/5380 [05:19<00:54, 18.62it/s]"
     ]
    },
    {
     "name": "stdout",
     "output_type": "stream",
     "text": [
      "H3 not found in data 4357th\n"
     ]
    },
    {
     "name": "stderr",
     "output_type": "stream",
     "text": [
      " 81%|███████████████████████████████▊       | 4381/5380 [05:20<01:09, 14.39it/s]"
     ]
    },
    {
     "name": "stdout",
     "output_type": "stream",
     "text": [
      "H1 not found in data 4381th\n"
     ]
    },
    {
     "name": "stderr",
     "output_type": "stream",
     "text": [
      " 84%|████████████████████████████████▊      | 4525/5380 [05:29<00:45, 18.80it/s]"
     ]
    },
    {
     "name": "stdout",
     "output_type": "stream",
     "text": [
      "L1 not found in data 4523th\n",
      "L1 not found in data 4527th\n"
     ]
    },
    {
     "name": "stderr",
     "output_type": "stream",
     "text": [
      " 85%|█████████████████████████████████      | 4555/5380 [05:32<00:59, 13.83it/s]"
     ]
    },
    {
     "name": "stdout",
     "output_type": "stream",
     "text": [
      "L1 not found in data 4555th\n"
     ]
    },
    {
     "name": "stderr",
     "output_type": "stream",
     "text": [
      " 85%|█████████████████████████████████▎     | 4593/5380 [05:34<00:45, 17.27it/s]"
     ]
    },
    {
     "name": "stdout",
     "output_type": "stream",
     "text": [
      "H3 not found in data 4593th\n"
     ]
    },
    {
     "name": "stderr",
     "output_type": "stream",
     "text": [
      " 86%|█████████████████████████████████▎     | 4603/5380 [05:35<00:48, 15.92it/s]"
     ]
    },
    {
     "name": "stdout",
     "output_type": "stream",
     "text": [
      "H3 not found in data 4602th\n",
      "H1 not found in data 4603th\n"
     ]
    },
    {
     "name": "stderr",
     "output_type": "stream",
     "text": [
      " 86%|█████████████████████████████████▍     | 4608/5380 [05:35<00:55, 13.84it/s]"
     ]
    },
    {
     "name": "stdout",
     "output_type": "stream",
     "text": [
      "H3 not found in data 4607th\n"
     ]
    },
    {
     "name": "stderr",
     "output_type": "stream",
     "text": [
      "\r",
      " 86%|█████████████████████████████████▍     | 4610/5380 [05:35<00:54, 14.19it/s]"
     ]
    },
    {
     "name": "stdout",
     "output_type": "stream",
     "text": [
      "L3 not found in data 4611th\n"
     ]
    },
    {
     "name": "stderr",
     "output_type": "stream",
     "text": [
      " 86%|█████████████████████████████████▋     | 4641/5380 [05:38<01:19,  9.32it/s]"
     ]
    },
    {
     "name": "stdout",
     "output_type": "stream",
     "text": [
      "H1 not found in data 4640th\n"
     ]
    },
    {
     "name": "stderr",
     "output_type": "stream",
     "text": [
      "\r",
      " 86%|█████████████████████████████████▋     | 4643/5380 [05:38<01:09, 10.60it/s]"
     ]
    },
    {
     "name": "stdout",
     "output_type": "stream",
     "text": [
      "H3 not found in data 4643th\n"
     ]
    },
    {
     "name": "stderr",
     "output_type": "stream",
     "text": [
      " 87%|█████████████████████████████████▊     | 4671/5380 [05:41<00:52, 13.49it/s]"
     ]
    },
    {
     "name": "stdout",
     "output_type": "stream",
     "text": [
      "H3 not found in data 4671th\n"
     ]
    },
    {
     "name": "stderr",
     "output_type": "stream",
     "text": [
      " 87%|█████████████████████████████████▉     | 4681/5380 [05:43<01:28,  7.93it/s]"
     ]
    },
    {
     "name": "stdout",
     "output_type": "stream",
     "text": [
      "H1 not found in data 4681th\n",
      "L3 not found in data 4681th\n"
     ]
    },
    {
     "name": "stderr",
     "output_type": "stream",
     "text": [
      " 87%|██████████████████████████████████     | 4694/5380 [05:44<00:49, 13.91it/s]"
     ]
    },
    {
     "name": "stdout",
     "output_type": "stream",
     "text": [
      "L1 not found in data 4694th\n"
     ]
    },
    {
     "name": "stderr",
     "output_type": "stream",
     "text": [
      " 89%|██████████████████████████████████▋    | 4786/5380 [05:50<00:26, 22.40it/s]"
     ]
    },
    {
     "name": "stdout",
     "output_type": "stream",
     "text": [
      "L2 not found in data 4785th\n"
     ]
    },
    {
     "name": "stderr",
     "output_type": "stream",
     "text": [
      " 89%|██████████████████████████████████▊    | 4808/5380 [05:51<00:43, 13.22it/s]"
     ]
    },
    {
     "name": "stdout",
     "output_type": "stream",
     "text": [
      "L3 not found in data 4810th\n"
     ]
    },
    {
     "name": "stderr",
     "output_type": "stream",
     "text": [
      " 90%|██████████████████████████████████▉    | 4821/5380 [05:52<00:41, 13.61it/s]"
     ]
    },
    {
     "name": "stdout",
     "output_type": "stream",
     "text": [
      "H1 not found in data 4821th\n"
     ]
    },
    {
     "name": "stderr",
     "output_type": "stream",
     "text": [
      " 90%|███████████████████████████████████    | 4836/5380 [05:53<00:39, 13.61it/s]"
     ]
    },
    {
     "name": "stdout",
     "output_type": "stream",
     "text": [
      "H3 not found in data 4837th\n"
     ]
    },
    {
     "name": "stderr",
     "output_type": "stream",
     "text": [
      " 90%|███████████████████████████████████▏   | 4852/5380 [05:54<00:25, 20.54it/s]"
     ]
    },
    {
     "name": "stdout",
     "output_type": "stream",
     "text": [
      "H3 not found in data 4848th\n"
     ]
    },
    {
     "name": "stderr",
     "output_type": "stream",
     "text": [
      " 91%|███████████████████████████████████▋   | 4915/5380 [05:58<00:20, 22.72it/s]"
     ]
    },
    {
     "name": "stdout",
     "output_type": "stream",
     "text": [
      "L3 not found in data 4917th\n"
     ]
    },
    {
     "name": "stderr",
     "output_type": "stream",
     "text": [
      " 91%|███████████████████████████████████▋   | 4920/5380 [05:59<00:49,  9.35it/s]"
     ]
    },
    {
     "name": "stdout",
     "output_type": "stream",
     "text": [
      "H3 not found in data 4921th\n"
     ]
    },
    {
     "name": "stderr",
     "output_type": "stream",
     "text": [
      " 92%|███████████████████████████████████▋   | 4925/5380 [06:00<01:11,  6.37it/s]"
     ]
    },
    {
     "name": "stdout",
     "output_type": "stream",
     "text": [
      "L3 not found in data 4922th\n",
      "L2 not found in data 4928th\n"
     ]
    },
    {
     "name": "stderr",
     "output_type": "stream",
     "text": [
      " 92%|███████████████████████████████████▊   | 4936/5380 [06:01<00:46,  9.52it/s]"
     ]
    },
    {
     "name": "stdout",
     "output_type": "stream",
     "text": [
      "L1 not found in data 4938th\n"
     ]
    },
    {
     "name": "stderr",
     "output_type": "stream",
     "text": [
      " 93%|████████████████████████████████████▍  | 5030/5380 [06:07<00:12, 28.77it/s]"
     ]
    },
    {
     "name": "stdout",
     "output_type": "stream",
     "text": [
      "L1 not found in data 5026th\n"
     ]
    },
    {
     "name": "stderr",
     "output_type": "stream",
     "text": [
      "\r",
      " 94%|████████████████████████████████████▍  | 5035/5380 [06:07<00:12, 27.95it/s]"
     ]
    },
    {
     "name": "stdout",
     "output_type": "stream",
     "text": [
      "H1 not found in data 5036th\n"
     ]
    },
    {
     "name": "stderr",
     "output_type": "stream",
     "text": [
      " 94%|████████████████████████████████████▊  | 5083/5380 [06:11<00:19, 15.22it/s]"
     ]
    },
    {
     "name": "stdout",
     "output_type": "stream",
     "text": [
      "L1 not found in data 5084th\n"
     ]
    },
    {
     "name": "stderr",
     "output_type": "stream",
     "text": [
      " 96%|█████████████████████████████████████▏ | 5138/5380 [06:15<00:19, 12.18it/s]"
     ]
    },
    {
     "name": "stdout",
     "output_type": "stream",
     "text": [
      "L3 not found in data 5139th\n"
     ]
    },
    {
     "name": "stderr",
     "output_type": "stream",
     "text": [
      " 96%|█████████████████████████████████████▎ | 5152/5380 [06:16<00:15, 14.70it/s]"
     ]
    },
    {
     "name": "stdout",
     "output_type": "stream",
     "text": [
      "L1 not found in data 5151th\n"
     ]
    },
    {
     "name": "stderr",
     "output_type": "stream",
     "text": [
      " 96%|█████████████████████████████████████▌ | 5174/5380 [06:18<00:13, 15.37it/s]"
     ]
    },
    {
     "name": "stdout",
     "output_type": "stream",
     "text": [
      "H3 not found in data 5177th\n"
     ]
    },
    {
     "name": "stderr",
     "output_type": "stream",
     "text": [
      " 97%|█████████████████████████████████████▋ | 5205/5380 [06:20<00:09, 18.06it/s]"
     ]
    },
    {
     "name": "stdout",
     "output_type": "stream",
     "text": [
      "L1 not found in data 5205th\n"
     ]
    },
    {
     "name": "stderr",
     "output_type": "stream",
     "text": [
      "\r",
      " 97%|█████████████████████████████████████▋ | 5207/5380 [06:21<00:27,  6.34it/s]"
     ]
    },
    {
     "name": "stdout",
     "output_type": "stream",
     "text": [
      "H3 not found in data 5210th\n"
     ]
    },
    {
     "name": "stderr",
     "output_type": "stream",
     "text": [
      " 97%|█████████████████████████████████████▊ | 5216/5380 [06:22<00:15, 10.33it/s]"
     ]
    },
    {
     "name": "stdout",
     "output_type": "stream",
     "text": [
      "L1 not found in data 5216th\n",
      "L1 not found in data 5217th\n"
     ]
    },
    {
     "name": "stderr",
     "output_type": "stream",
     "text": [
      " 97%|█████████████████████████████████████▉ | 5233/5380 [06:24<00:13, 10.97it/s]"
     ]
    },
    {
     "name": "stdout",
     "output_type": "stream",
     "text": [
      "H2 not found in data 5235th\n"
     ]
    },
    {
     "name": "stderr",
     "output_type": "stream",
     "text": [
      " 98%|██████████████████████████████████████▏| 5269/5380 [06:27<00:05, 22.19it/s]"
     ]
    },
    {
     "name": "stdout",
     "output_type": "stream",
     "text": [
      "H1 not found in data 5270th\n",
      "H3 not found in data 5273th\n"
     ]
    },
    {
     "name": "stderr",
     "output_type": "stream",
     "text": [
      " 99%|██████████████████████████████████████▌| 5320/5380 [06:29<00:03, 18.08it/s]"
     ]
    },
    {
     "name": "stdout",
     "output_type": "stream",
     "text": [
      "H3 not found in data 5317th\n",
      "H1 not found in data 5322th\n"
     ]
    },
    {
     "name": "stderr",
     "output_type": "stream",
     "text": [
      " 99%|██████████████████████████████████████▋| 5333/5380 [06:31<00:03, 13.19it/s]"
     ]
    },
    {
     "name": "stdout",
     "output_type": "stream",
     "text": [
      "H1 not found in data 5332th\n"
     ]
    },
    {
     "name": "stderr",
     "output_type": "stream",
     "text": [
      " 99%|██████████████████████████████████████▊| 5346/5380 [06:31<00:01, 22.51it/s]"
     ]
    },
    {
     "name": "stdout",
     "output_type": "stream",
     "text": [
      "H3 not found in data 5340th\n",
      "H3 not found in data 5347th\n"
     ]
    },
    {
     "name": "stderr",
     "output_type": "stream",
     "text": [
      "100%|███████████████████████████████████████| 5380/5380 [06:33<00:00, 13.66it/s]\n"
     ]
    },
    {
     "name": "stdout",
     "output_type": "stream",
     "text": [
      "Start getting pair data...\n",
      "seq_clip_mode: 1\tneg_sample_mode: 0\tuse_pair: False\t\n"
     ]
    },
    {
     "name": "stderr",
     "output_type": "stream",
     "text": [
      "100%|███████████████████████████████████████| 5380/5380 [01:23<00:00, 64.08it/s]\n"
     ]
    },
    {
     "data": {
      "text/plain": [
       "2194"
      ]
     },
     "execution_count": 6,
     "metadata": {},
     "output_type": "execute_result"
    }
   ],
   "source": [
    "lines = get_pair(data=data, \n",
    "                  epi_seq_length=72, \n",
    "                  seq_clip_mode=1, \n",
    "                  neg_sample_mode=0, \n",
    "                  num_neg=1, \n",
    "                  K=48, \n",
    "                  use_cache=False, \n",
    "                  use_pair=False, \n",
    "                  only_epitope=True)\n",
    "len(lines)"
   ]
  },
  {
   "cell_type": "code",
   "execution_count": 18,
   "id": "e877e8bb",
   "metadata": {},
   "outputs": [
    {
     "data": {
      "text/plain": [
       "('GYIFTDYE/IHPGSSGT/TRKDY/QDINSF/RAN/LQYDDFPLT',\n",
       " 'GATPEDLNQKL**###########################################################',\n",
       " 1)"
      ]
     },
     "execution_count": 18,
     "metadata": {},
     "output_type": "execute_result"
    }
   ],
   "source": [
    "lines[123]"
   ]
  },
  {
   "cell_type": "code",
   "execution_count": 19,
   "id": "10d6f6fb",
   "metadata": {},
   "outputs": [
    {
     "data": {
      "text/plain": [
       "'GATPEDLNQKL**'"
      ]
     },
     "execution_count": 19,
     "metadata": {},
     "output_type": "execute_result"
    }
   ],
   "source": [
    "lines[123][1].strip(\"#\")"
   ]
  },
  {
   "cell_type": "markdown",
   "id": "47adc0b1",
   "metadata": {},
   "source": [
    "# load"
   ]
  },
  {
   "cell_type": "code",
   "execution_count": 2,
   "id": "285a04d1",
   "metadata": {
    "scrolled": true
   },
   "outputs": [
    {
     "data": {
      "text/plain": [
       "PESILM(\n",
       "  (embedding): Embedding(27, 32)\n",
       "  (enc): ModuleList(\n",
       "    (0): ISAB(\n",
       "      (mab0): MAB(\n",
       "        (fc_q): Linear(in_features=64, out_features=64, bias=True)\n",
       "        (fc_k): Linear(in_features=32, out_features=64, bias=True)\n",
       "        (fc_v): Linear(in_features=32, out_features=64, bias=True)\n",
       "        (ln0): LayerNorm((64,), eps=1e-05, elementwise_affine=True)\n",
       "        (ln1): LayerNorm((64,), eps=1e-05, elementwise_affine=True)\n",
       "        (fc_o): Linear(in_features=64, out_features=64, bias=True)\n",
       "      )\n",
       "      (mab1): MAB(\n",
       "        (fc_q): Linear(in_features=32, out_features=64, bias=True)\n",
       "        (fc_k): Linear(in_features=64, out_features=64, bias=True)\n",
       "        (fc_v): Linear(in_features=64, out_features=64, bias=True)\n",
       "        (ln0): LayerNorm((64,), eps=1e-05, elementwise_affine=True)\n",
       "        (ln1): LayerNorm((64,), eps=1e-05, elementwise_affine=True)\n",
       "        (fc_o): Linear(in_features=64, out_features=64, bias=True)\n",
       "      )\n",
       "    )\n",
       "    (1): ISAB(\n",
       "      (mab0): MAB(\n",
       "        (fc_q): Linear(in_features=64, out_features=64, bias=True)\n",
       "        (fc_k): Linear(in_features=64, out_features=64, bias=True)\n",
       "        (fc_v): Linear(in_features=64, out_features=64, bias=True)\n",
       "        (ln0): LayerNorm((64,), eps=1e-05, elementwise_affine=True)\n",
       "        (ln1): LayerNorm((64,), eps=1e-05, elementwise_affine=True)\n",
       "        (fc_o): Linear(in_features=64, out_features=64, bias=True)\n",
       "      )\n",
       "      (mab1): MAB(\n",
       "        (fc_q): Linear(in_features=64, out_features=64, bias=True)\n",
       "        (fc_k): Linear(in_features=64, out_features=64, bias=True)\n",
       "        (fc_v): Linear(in_features=64, out_features=64, bias=True)\n",
       "        (ln0): LayerNorm((64,), eps=1e-05, elementwise_affine=True)\n",
       "        (ln1): LayerNorm((64,), eps=1e-05, elementwise_affine=True)\n",
       "        (fc_o): Linear(in_features=64, out_features=64, bias=True)\n",
       "      )\n",
       "    )\n",
       "  )\n",
       "  (co_attn): CoAttention(\n",
       "    (linear_a): Linear(in_features=64, out_features=64, bias=True)\n",
       "    (linear_b): Linear(in_features=64, out_features=64, bias=True)\n",
       "    (W): Linear(in_features=64, out_features=64, bias=True)\n",
       "  )\n",
       "  (dec): ModuleList(\n",
       "    (0): PMA(\n",
       "      (mab): MAB(\n",
       "        (fc_q): Linear(in_features=64, out_features=64, bias=True)\n",
       "        (fc_k): Linear(in_features=64, out_features=64, bias=True)\n",
       "        (fc_v): Linear(in_features=64, out_features=64, bias=True)\n",
       "        (ln0): LayerNorm((64,), eps=1e-05, elementwise_affine=True)\n",
       "        (ln1): LayerNorm((64,), eps=1e-05, elementwise_affine=True)\n",
       "        (fc_o): Linear(in_features=64, out_features=64, bias=True)\n",
       "      )\n",
       "    )\n",
       "    (1): SAB(\n",
       "      (mab): MAB(\n",
       "        (fc_q): Linear(in_features=64, out_features=64, bias=True)\n",
       "        (fc_k): Linear(in_features=64, out_features=64, bias=True)\n",
       "        (fc_v): Linear(in_features=64, out_features=64, bias=True)\n",
       "        (ln0): LayerNorm((64,), eps=1e-05, elementwise_affine=True)\n",
       "        (ln1): LayerNorm((64,), eps=1e-05, elementwise_affine=True)\n",
       "        (fc_o): Linear(in_features=64, out_features=64, bias=True)\n",
       "      )\n",
       "    )\n",
       "    (2): SAB(\n",
       "      (mab): MAB(\n",
       "        (fc_q): Linear(in_features=64, out_features=64, bias=True)\n",
       "        (fc_k): Linear(in_features=64, out_features=64, bias=True)\n",
       "        (fc_v): Linear(in_features=64, out_features=64, bias=True)\n",
       "        (ln0): LayerNorm((64,), eps=1e-05, elementwise_affine=True)\n",
       "        (ln1): LayerNorm((64,), eps=1e-05, elementwise_affine=True)\n",
       "        (fc_o): Linear(in_features=64, out_features=64, bias=True)\n",
       "      )\n",
       "    )\n",
       "    (3): Linear(in_features=64, out_features=64, bias=True)\n",
       "  )\n",
       "  (mask_lm): MaskedLanguageModel(\n",
       "    (linear): Linear(in_features=64, out_features=27, bias=True)\n",
       "    (softmax): LogSoftmax(dim=-1)\n",
       "  )\n",
       ")"
      ]
     },
     "execution_count": 2,
     "metadata": {},
     "output_type": "execute_result"
    }
   ],
   "source": [
    "ckpt = torch.load(\"/home/user/wanzhang/Transformer4Ab-locla/results/OAS/0619031446/model_best.pth\")\n",
    "ckpt"
   ]
  },
  {
   "cell_type": "code",
   "execution_count": 3,
   "id": "c5976ca6",
   "metadata": {},
   "outputs": [
    {
     "data": {
      "text/plain": [
       "SetTransformer(\n",
       "  (embedding): Embedding(27, 32)\n",
       "  (para_enc): ModuleList(\n",
       "    (0): ISAB(\n",
       "      (mab0): MAB(\n",
       "        (fc_q): Linear(in_features=64, out_features=64, bias=True)\n",
       "        (fc_k): Linear(in_features=32, out_features=64, bias=True)\n",
       "        (fc_v): Linear(in_features=32, out_features=64, bias=True)\n",
       "        (ln0): LayerNorm((64,), eps=1e-05, elementwise_affine=True)\n",
       "        (ln1): LayerNorm((64,), eps=1e-05, elementwise_affine=True)\n",
       "        (fc_o): Linear(in_features=64, out_features=64, bias=True)\n",
       "      )\n",
       "      (mab1): MAB(\n",
       "        (fc_q): Linear(in_features=32, out_features=64, bias=True)\n",
       "        (fc_k): Linear(in_features=64, out_features=64, bias=True)\n",
       "        (fc_v): Linear(in_features=64, out_features=64, bias=True)\n",
       "        (ln0): LayerNorm((64,), eps=1e-05, elementwise_affine=True)\n",
       "        (ln1): LayerNorm((64,), eps=1e-05, elementwise_affine=True)\n",
       "        (fc_o): Linear(in_features=64, out_features=64, bias=True)\n",
       "      )\n",
       "    )\n",
       "    (1): ISAB(\n",
       "      (mab0): MAB(\n",
       "        (fc_q): Linear(in_features=64, out_features=64, bias=True)\n",
       "        (fc_k): Linear(in_features=64, out_features=64, bias=True)\n",
       "        (fc_v): Linear(in_features=64, out_features=64, bias=True)\n",
       "        (ln0): LayerNorm((64,), eps=1e-05, elementwise_affine=True)\n",
       "        (ln1): LayerNorm((64,), eps=1e-05, elementwise_affine=True)\n",
       "        (fc_o): Linear(in_features=64, out_features=64, bias=True)\n",
       "      )\n",
       "      (mab1): MAB(\n",
       "        (fc_q): Linear(in_features=64, out_features=64, bias=True)\n",
       "        (fc_k): Linear(in_features=64, out_features=64, bias=True)\n",
       "        (fc_v): Linear(in_features=64, out_features=64, bias=True)\n",
       "        (ln0): LayerNorm((64,), eps=1e-05, elementwise_affine=True)\n",
       "        (ln1): LayerNorm((64,), eps=1e-05, elementwise_affine=True)\n",
       "        (fc_o): Linear(in_features=64, out_features=64, bias=True)\n",
       "      )\n",
       "    )\n",
       "  )\n",
       "  (para_dec): ModuleList(\n",
       "    (0): PMA(\n",
       "      (mab): MAB(\n",
       "        (fc_q): Linear(in_features=64, out_features=64, bias=True)\n",
       "        (fc_k): Linear(in_features=64, out_features=64, bias=True)\n",
       "        (fc_v): Linear(in_features=64, out_features=64, bias=True)\n",
       "        (ln0): LayerNorm((64,), eps=1e-05, elementwise_affine=True)\n",
       "        (ln1): LayerNorm((64,), eps=1e-05, elementwise_affine=True)\n",
       "        (fc_o): Linear(in_features=64, out_features=64, bias=True)\n",
       "      )\n",
       "    )\n",
       "    (1): SAB(\n",
       "      (mab): MAB(\n",
       "        (fc_q): Linear(in_features=64, out_features=64, bias=True)\n",
       "        (fc_k): Linear(in_features=64, out_features=64, bias=True)\n",
       "        (fc_v): Linear(in_features=64, out_features=64, bias=True)\n",
       "        (ln0): LayerNorm((64,), eps=1e-05, elementwise_affine=True)\n",
       "        (ln1): LayerNorm((64,), eps=1e-05, elementwise_affine=True)\n",
       "        (fc_o): Linear(in_features=64, out_features=64, bias=True)\n",
       "      )\n",
       "    )\n",
       "    (2): SAB(\n",
       "      (mab): MAB(\n",
       "        (fc_q): Linear(in_features=64, out_features=64, bias=True)\n",
       "        (fc_k): Linear(in_features=64, out_features=64, bias=True)\n",
       "        (fc_v): Linear(in_features=64, out_features=64, bias=True)\n",
       "        (ln0): LayerNorm((64,), eps=1e-05, elementwise_affine=True)\n",
       "        (ln1): LayerNorm((64,), eps=1e-05, elementwise_affine=True)\n",
       "        (fc_o): Linear(in_features=64, out_features=64, bias=True)\n",
       "      )\n",
       "    )\n",
       "    (3): Linear(in_features=64, out_features=64, bias=True)\n",
       "  )\n",
       "  (epi_enc): ModuleList(\n",
       "    (0): ISAB(\n",
       "      (mab0): MAB(\n",
       "        (fc_q): Linear(in_features=64, out_features=64, bias=True)\n",
       "        (fc_k): Linear(in_features=32, out_features=64, bias=True)\n",
       "        (fc_v): Linear(in_features=32, out_features=64, bias=True)\n",
       "        (ln0): LayerNorm((64,), eps=1e-05, elementwise_affine=True)\n",
       "        (ln1): LayerNorm((64,), eps=1e-05, elementwise_affine=True)\n",
       "        (fc_o): Linear(in_features=64, out_features=64, bias=True)\n",
       "      )\n",
       "      (mab1): MAB(\n",
       "        (fc_q): Linear(in_features=32, out_features=64, bias=True)\n",
       "        (fc_k): Linear(in_features=64, out_features=64, bias=True)\n",
       "        (fc_v): Linear(in_features=64, out_features=64, bias=True)\n",
       "        (ln0): LayerNorm((64,), eps=1e-05, elementwise_affine=True)\n",
       "        (ln1): LayerNorm((64,), eps=1e-05, elementwise_affine=True)\n",
       "        (fc_o): Linear(in_features=64, out_features=64, bias=True)\n",
       "      )\n",
       "    )\n",
       "    (1): ISAB(\n",
       "      (mab0): MAB(\n",
       "        (fc_q): Linear(in_features=64, out_features=64, bias=True)\n",
       "        (fc_k): Linear(in_features=64, out_features=64, bias=True)\n",
       "        (fc_v): Linear(in_features=64, out_features=64, bias=True)\n",
       "        (ln0): LayerNorm((64,), eps=1e-05, elementwise_affine=True)\n",
       "        (ln1): LayerNorm((64,), eps=1e-05, elementwise_affine=True)\n",
       "        (fc_o): Linear(in_features=64, out_features=64, bias=True)\n",
       "      )\n",
       "      (mab1): MAB(\n",
       "        (fc_q): Linear(in_features=64, out_features=64, bias=True)\n",
       "        (fc_k): Linear(in_features=64, out_features=64, bias=True)\n",
       "        (fc_v): Linear(in_features=64, out_features=64, bias=True)\n",
       "        (ln0): LayerNorm((64,), eps=1e-05, elementwise_affine=True)\n",
       "        (ln1): LayerNorm((64,), eps=1e-05, elementwise_affine=True)\n",
       "        (fc_o): Linear(in_features=64, out_features=64, bias=True)\n",
       "      )\n",
       "    )\n",
       "  )\n",
       "  (epi_dec): ModuleList(\n",
       "    (0): PMA(\n",
       "      (mab): MAB(\n",
       "        (fc_q): Linear(in_features=64, out_features=64, bias=True)\n",
       "        (fc_k): Linear(in_features=64, out_features=64, bias=True)\n",
       "        (fc_v): Linear(in_features=64, out_features=64, bias=True)\n",
       "        (ln0): LayerNorm((64,), eps=1e-05, elementwise_affine=True)\n",
       "        (ln1): LayerNorm((64,), eps=1e-05, elementwise_affine=True)\n",
       "        (fc_o): Linear(in_features=64, out_features=64, bias=True)\n",
       "      )\n",
       "    )\n",
       "    (1): SAB(\n",
       "      (mab): MAB(\n",
       "        (fc_q): Linear(in_features=64, out_features=64, bias=True)\n",
       "        (fc_k): Linear(in_features=64, out_features=64, bias=True)\n",
       "        (fc_v): Linear(in_features=64, out_features=64, bias=True)\n",
       "        (ln0): LayerNorm((64,), eps=1e-05, elementwise_affine=True)\n",
       "        (ln1): LayerNorm((64,), eps=1e-05, elementwise_affine=True)\n",
       "        (fc_o): Linear(in_features=64, out_features=64, bias=True)\n",
       "      )\n",
       "    )\n",
       "    (2): SAB(\n",
       "      (mab): MAB(\n",
       "        (fc_q): Linear(in_features=64, out_features=64, bias=True)\n",
       "        (fc_k): Linear(in_features=64, out_features=64, bias=True)\n",
       "        (fc_v): Linear(in_features=64, out_features=64, bias=True)\n",
       "        (ln0): LayerNorm((64,), eps=1e-05, elementwise_affine=True)\n",
       "        (ln1): LayerNorm((64,), eps=1e-05, elementwise_affine=True)\n",
       "        (fc_o): Linear(in_features=64, out_features=64, bias=True)\n",
       "      )\n",
       "    )\n",
       "    (3): Linear(in_features=64, out_features=64, bias=True)\n",
       "  )\n",
       "  (co_attn): CoAttention(\n",
       "    (linear_a): Linear(in_features=64, out_features=64, bias=True)\n",
       "    (linear_b): Linear(in_features=64, out_features=64, bias=True)\n",
       "    (W): Linear(in_features=64, out_features=64, bias=True)\n",
       "  )\n",
       "  (output_layer): Sequential(\n",
       "    (0): Linear(in_features=64, out_features=32, bias=True)\n",
       "    (1): LeakyReLU(negative_slope=0.01)\n",
       "    (2): Dropout(p=0.5, inplace=False)\n",
       "    (3): Linear(in_features=32, out_features=1, bias=True)\n",
       "    (4): Sigmoid()\n",
       "  )\n",
       ")"
      ]
     },
     "execution_count": 3,
     "metadata": {},
     "output_type": "execute_result"
    }
   ],
   "source": [
    "\n",
    "model = SetTransformer(dim_input=32, \n",
    "                        num_outputs=128, \n",
    "                        dim_output=32, \n",
    "                        dim_hidden=64, \n",
    "                        num_inds=128, \n",
    "                        num_heads=4, \n",
    "                        ln=True, \n",
    "                        dropout=0.5, \n",
    "                        use_coattn=True, \n",
    "                        share=False, \n",
    "                        use_BSS=False, \n",
    "                        use_CLIP=False, \n",
    "                        use_CosCLF=False).cuda()\n",
    "model"
   ]
  },
  {
   "cell_type": "code",
   "execution_count": 6,
   "id": "0500927b",
   "metadata": {},
   "outputs": [
    {
     "data": {
      "text/plain": [
       "Parameter containing:\n",
       "tensor([[ 1.4620e-01, -8.3880e-01, -6.2061e-01,  9.9582e-01,  3.0063e-01,\n",
       "          8.4904e-01,  1.1921e-01, -9.4688e-01, -1.6801e+00,  1.3882e+00,\n",
       "         -1.5119e-01,  1.7802e+00,  5.3363e-01, -3.5644e-01,  1.3829e+00,\n",
       "         -6.1947e-01, -1.7824e+00, -5.2789e-03, -1.1573e+00, -9.5068e-02,\n",
       "         -1.8752e-01, -2.5022e-02,  7.7781e-01, -1.4454e+00,  6.6900e-01,\n",
       "         -1.1228e+00,  7.6494e-01,  6.8458e-01,  1.5042e+00,  1.1081e+00,\n",
       "          4.6770e-01,  1.0787e+00],\n",
       "        [ 1.9274e+00,  7.6771e-01,  8.0347e-01, -4.6211e-01, -2.7135e-01,\n",
       "          5.5087e-01, -3.0601e-01,  3.3252e-01,  1.4343e-01, -2.1932e-03,\n",
       "         -1.2640e-01,  3.4158e-03,  5.7986e-01, -3.5765e+00, -8.8542e-01,\n",
       "          7.8550e-01, -1.3469e+00, -9.7037e-01,  1.3052e+00, -6.1765e-01,\n",
       "          3.3841e-01, -1.3041e+00,  8.7251e-01, -2.7458e-02, -3.8687e-01,\n",
       "         -8.1483e-01, -7.9720e-01, -1.5759e+00, -1.0317e+00,  4.6451e-01,\n",
       "         -1.3614e+00, -2.2352e-01],\n",
       "        [ 7.0435e-01,  9.5199e-01,  9.6455e-01,  1.3841e+00, -1.1667e+00,\n",
       "         -4.7879e-01, -1.1598e+00,  7.1052e-01, -4.2197e-01, -3.5917e-01,\n",
       "         -2.6876e+00,  6.7201e-01,  3.9735e-01, -2.1163e+00, -4.8269e-01,\n",
       "         -7.0109e-01,  2.2043e-01,  5.2882e-01,  2.4567e-01,  4.7822e-01,\n",
       "          4.6521e-01, -6.2086e-01, -9.6386e-01, -2.9809e-01, -2.4689e-01,\n",
       "          7.3607e-02, -4.9651e-01,  8.5284e-01,  1.2633e+00,  4.6273e-02,\n",
       "         -1.6778e+00, -6.8731e-02],\n",
       "        [-1.0757e+00, -2.3884e-01, -2.1965e-01,  5.4881e-01, -8.9433e-01,\n",
       "          5.1103e-01,  8.0319e-01,  8.2519e-03,  5.3575e-01, -1.7910e-01,\n",
       "          4.0716e-01,  3.1240e-01, -8.5089e-01, -5.9046e-01, -4.8089e-02,\n",
       "         -8.2668e-01, -1.5774e+00, -1.4402e-01,  9.2801e-02, -3.2491e-01,\n",
       "         -1.7318e-01, -6.9949e-01,  1.5758e-01,  1.5510e+00, -9.5784e-01,\n",
       "         -8.7493e-01, -3.7112e-02,  2.3821e-02, -1.2190e+00,  3.6307e-01,\n",
       "          9.2945e-01,  1.2155e+00],\n",
       "        [-4.7389e-01,  1.0615e+00,  3.0873e-01, -2.6537e-01, -1.5783e+00,\n",
       "         -1.0368e-01, -1.4388e+00,  7.3824e-01,  3.7928e-01, -3.3630e-02,\n",
       "         -9.4178e-01,  6.3672e-01, -1.0722e+00,  2.3335e-01, -1.9405e-01,\n",
       "          1.5082e-01, -1.1046e+00, -1.2683e+00,  6.8994e-01, -5.2798e-01,\n",
       "         -1.7264e+00,  3.9069e-01,  3.4142e-01,  1.7826e-01, -4.0591e-01,\n",
       "         -3.1537e+00, -3.3414e-01,  1.4905e+00,  2.5925e+00, -2.6072e-01,\n",
       "          1.1085e+00,  1.6679e+00],\n",
       "        [-1.3110e+00, -6.6726e-01, -7.3379e-01, -1.2747e+00, -1.7325e-01,\n",
       "         -1.2697e+00,  1.1914e+00,  2.6895e-01,  1.2840e+00, -7.1751e-01,\n",
       "          1.2710e+00,  5.6505e-01, -8.3431e-01,  1.3671e+00, -1.3267e+00,\n",
       "         -1.0910e+00,  1.3196e-02,  7.6118e-01, -2.5307e-02, -1.5828e+00,\n",
       "         -9.1266e-01, -3.5228e-02, -2.2665e+00, -1.7844e-01,  7.3962e-01,\n",
       "          3.2149e-01, -1.0007e+00,  1.3156e+00,  5.9568e-01, -2.1952e-01,\n",
       "          5.4348e-01,  7.8835e-01],\n",
       "        [ 2.3804e-01, -9.4071e-02, -9.3693e-01, -6.5668e-01,  1.2048e+00,\n",
       "          1.0561e+00, -1.0536e+00, -1.2232e+00, -1.2318e+00,  4.3938e-01,\n",
       "         -5.2659e-01, -1.5573e+00,  1.3145e-01,  1.6763e+00, -1.6036e+00,\n",
       "         -1.0381e+00,  3.2568e-01, -7.2861e-01, -4.5633e-01,  9.1089e-01,\n",
       "         -6.0310e-01,  1.6052e-01, -2.4340e+00,  1.6453e-01,  1.8736e-01,\n",
       "         -6.0939e-01,  7.1570e-01,  1.4860e+00,  1.6775e-01,  2.2071e+00,\n",
       "         -8.7599e-01,  2.9188e-01],\n",
       "        [ 1.1246e+00,  1.0118e+00, -1.5747e+00,  6.6714e-01, -3.0168e-01,\n",
       "          7.1502e-01,  1.1308e+00, -2.7266e-01, -1.6180e-01, -1.8695e+00,\n",
       "          3.6035e-01, -5.0527e-01,  1.6333e+00,  1.8949e+00, -1.7426e+00,\n",
       "          2.4715e-01,  4.2521e-01, -7.7796e-02,  2.8173e-01, -1.0366e-01,\n",
       "          8.2415e-01, -1.2883e-01,  9.7839e-01,  2.3988e+00, -7.8346e-01,\n",
       "         -5.0838e-01, -7.6229e-01, -8.1277e-01, -1.1712e-01,  8.1194e-01,\n",
       "         -9.4513e-01, -5.3663e-01],\n",
       "        [ 9.0847e-01, -1.8187e+00, -8.4582e-01,  1.3792e-01,  4.2675e-02,\n",
       "          8.9019e-01,  3.7038e-01,  9.3165e-02,  1.2047e+00, -3.9154e-01,\n",
       "         -1.0111e+00,  3.4252e-01,  9.4104e-01, -1.8214e-01, -2.6402e-01,\n",
       "         -8.7801e-01, -1.6453e+00,  2.1219e+00, -4.8121e-01,  5.0948e-03,\n",
       "         -2.1983e-01,  7.0979e-02, -8.6472e-01, -1.0092e+00, -1.6993e+00,\n",
       "         -4.8430e-01,  1.4767e+00,  9.2021e-01, -1.4805e+00,  5.7908e-02,\n",
       "         -8.0292e-01, -1.2516e-02],\n",
       "        [ 2.5108e-01,  1.0229e+00, -1.0893e+00,  2.6597e-01, -4.9664e-01,\n",
       "          5.8631e-01, -5.2475e-01,  8.1564e-01,  3.1523e-01, -8.9756e-01,\n",
       "         -7.5984e-01, -3.2205e+00,  1.8994e+00, -2.6235e-01, -8.1747e-01,\n",
       "          1.1609e+00,  1.0369e+00, -5.7556e-01, -9.3655e-02, -4.3564e-01,\n",
       "         -2.9879e-02, -7.7920e-01,  7.5381e-01, -2.2933e-01,  5.0573e-01,\n",
       "         -3.7980e-01,  5.1213e-01,  1.8214e+00,  5.5608e-01, -6.0959e-01,\n",
       "         -5.6195e-01,  3.1837e-01],\n",
       "        [ 1.0882e-01,  1.4310e+00, -3.2321e-01,  1.1419e+00,  8.0688e-01,\n",
       "          4.1020e-01,  8.5361e-01,  4.4104e-01,  3.9182e-01, -6.9423e-01,\n",
       "         -8.9964e-01, -1.4636e-01,  1.0001e+00, -6.9268e-01,  6.2088e-01,\n",
       "         -3.7866e-01, -1.0896e+00, -1.5369e+00, -1.0806e+00, -1.1206e+00,\n",
       "         -2.4989e-01,  5.4841e-02,  8.5495e-01,  9.7048e-03,  5.2464e-01,\n",
       "         -1.6734e+00,  1.5606e+00,  8.5451e-01,  1.1964e+00,  3.7677e-01,\n",
       "         -1.6366e+00, -2.3040e+00],\n",
       "        [ 6.2141e-01,  4.5654e-01, -2.9848e-01,  1.5269e+00, -1.2514e+00,\n",
       "          5.6468e-02,  1.6330e+00,  5.3971e-01,  2.7951e-01, -1.0939e+00,\n",
       "          2.4387e+00,  5.5560e-02, -1.0656e+00,  7.6608e-01,  1.3361e+00,\n",
       "          1.0294e+00, -2.1206e-01,  7.4969e-01, -1.9288e-01, -2.1047e+00,\n",
       "          6.6826e-01,  4.9627e-01, -3.5933e-01, -4.8587e-01, -7.9272e-01,\n",
       "         -6.6150e-01,  1.0128e+00,  2.5652e-01, -2.4738e-01, -1.4686e+00,\n",
       "         -1.3740e+00, -5.3574e-01],\n",
       "        [-5.1638e-01, -5.3307e-01, -1.7484e-01, -6.1156e-01,  1.2458e-01,\n",
       "         -2.1351e+00, -2.7675e-01,  3.9877e-01, -6.7781e-02, -8.2646e-01,\n",
       "         -5.1343e-01, -4.0086e-01, -1.6544e-01, -7.7051e-02,  1.6923e+00,\n",
       "         -5.6317e-01,  7.9676e-02,  8.7072e-01,  1.4141e+00,  1.2969e+00,\n",
       "         -1.6971e+00, -9.3417e-01,  8.9007e-01,  9.6839e-02,  8.5301e-02,\n",
       "          5.8823e-01, -3.7773e-01,  1.5496e+00,  1.0049e+00, -1.2009e+00,\n",
       "          1.0731e-01, -2.8001e-01],\n",
       "        [-5.1946e-01,  1.0345e+00, -8.5562e-01, -1.0852e-01, -4.2001e-01,\n",
       "          2.7476e-01,  1.8589e+00,  1.0335e+00,  2.1945e-01,  1.4213e+00,\n",
       "          1.6124e+00, -7.4288e-01,  3.4921e-01,  1.2990e+00, -5.7224e-02,\n",
       "          6.4848e-02,  6.2798e-01, -1.2721e-01, -9.0616e-03, -2.3796e+00,\n",
       "         -1.2750e+00, -5.1063e-01,  4.3564e-01,  4.3254e-01, -7.7575e-01,\n",
       "          3.0456e-01, -2.3552e+00,  1.6370e+00,  3.9294e-01,  2.2477e-01,\n",
       "         -2.3076e+00,  3.0571e-01],\n",
       "        [ 1.7154e+00,  1.6136e+00,  1.0045e-01, -7.3698e-01,  1.8970e+00,\n",
       "          6.1823e-01,  6.5721e-01,  6.8390e-02,  4.0551e-01, -3.1435e-02,\n",
       "          1.2421e+00, -1.2504e-01,  1.2521e+00,  1.2579e+00, -3.8588e-01,\n",
       "         -1.5028e-01,  3.9110e-01,  1.7043e+00,  9.3728e-01, -8.4510e-01,\n",
       "         -3.9443e-01, -2.9796e-01,  2.3577e-01,  4.8562e-01, -6.8328e-01,\n",
       "         -4.8158e-01,  9.3595e-01, -1.5966e+00, -2.6081e-01,  1.3254e-01,\n",
       "          1.0795e-01, -9.3433e-01],\n",
       "        [ 2.7144e-01,  8.8426e-01, -3.3807e-01,  1.7349e+00, -3.0683e-03,\n",
       "          3.6384e-01,  4.6057e-01, -8.9611e-01, -3.3702e-01, -5.8455e-01,\n",
       "         -4.5419e-01,  6.9921e-01, -8.4859e-01,  1.0829e+00,  6.0868e-01,\n",
       "         -1.8261e-01, -1.6656e+00,  1.8242e+00,  5.4321e-01, -5.5381e-03,\n",
       "          4.0218e-01,  3.7200e-01,  1.3050e-02, -3.3334e-01,  7.6893e-01,\n",
       "          2.2788e+00,  1.5474e+00,  1.0828e+00, -4.8792e-01, -1.3883e+00,\n",
       "          1.4741e+00,  6.6135e-01],\n",
       "        [ 4.8557e-01,  3.6297e-01, -1.2862e+00,  3.0540e-01,  1.5416e+00,\n",
       "         -1.3062e+00,  4.5734e-01,  9.6030e-01, -1.1585e-01, -8.3148e-01,\n",
       "         -3.0560e-01, -1.2960e-01, -9.1316e-01,  5.4953e-01, -1.9362e-01,\n",
       "          1.3400e-02,  3.8624e-01,  4.0774e-01,  6.7883e-01,  4.5443e-01,\n",
       "          1.0676e+00, -1.2176e+00, -8.9153e-01, -5.0000e-02, -4.3678e-01,\n",
       "         -1.2288e+00, -2.9119e-01, -3.1314e-01, -1.6761e-01, -4.1597e-01,\n",
       "          1.7007e-01,  1.4004e-01],\n",
       "        [ 7.8643e-02,  1.5182e+00, -6.5678e-01,  1.9984e-01, -1.0906e+00,\n",
       "          1.9307e-01, -6.8987e-02,  6.5934e-01, -2.4555e+00,  1.2256e+00,\n",
       "         -7.2914e-01, -1.6791e+00,  1.5639e+00, -2.4073e+00,  6.9439e-01,\n",
       "          1.0438e+00, -8.8423e-01,  7.4078e-01, -3.3241e-01, -1.2223e+00,\n",
       "         -1.2232e+00,  1.0134e+00,  9.4317e-02, -5.4083e-01, -1.0644e+00,\n",
       "          5.5379e-01,  1.0053e+00,  1.4229e+00,  2.2505e+00, -1.3419e+00,\n",
       "         -1.5334e+00,  5.6161e-01],\n",
       "        [ 6.5199e-01, -3.2990e-01,  7.7975e-02, -1.1605e-02,  6.6211e-01,\n",
       "         -5.6833e-01,  1.0137e+00, -7.8241e-01, -5.7608e-01, -2.8833e+00,\n",
       "          5.1528e-01, -1.3134e+00, -5.1371e-02, -1.2224e+00,  6.5102e-01,\n",
       "          2.4669e-01, -1.6045e-01, -5.5800e-01,  9.2230e-01, -8.4136e-02,\n",
       "         -1.3175e+00, -4.4110e-01,  2.7529e+00, -7.7944e-02, -2.2125e-01,\n",
       "         -1.2133e+00,  1.3833e-02, -5.4570e-02, -3.0801e-01, -9.8790e-01,\n",
       "         -8.4388e-01,  4.9622e-01],\n",
       "        [ 1.6562e-01,  8.4666e-01, -1.3745e+00,  1.6332e-01,  1.6609e+00,\n",
       "          5.1976e-01,  6.7515e-01,  1.7944e+00, -2.2854e-01,  1.4647e-01,\n",
       "          7.6483e-02,  3.4134e-01, -6.4948e-01, -1.1086e+00, -6.8229e-01,\n",
       "          3.6118e-01,  9.3767e-02,  8.8810e-01,  1.1507e-02,  1.0421e-01,\n",
       "          3.1935e-01, -7.2043e-01,  1.1447e+00,  6.1153e-01,  9.8717e-01,\n",
       "          1.1670e+00,  2.3775e+00,  7.9682e-01,  6.9286e-01, -7.6401e-02,\n",
       "          2.1797e-01,  3.7944e-01],\n",
       "        [ 8.5901e-01,  1.1166e+00, -7.6016e-01,  1.3561e+00, -7.5720e-01,\n",
       "          1.9213e-02, -6.5194e-01,  6.6437e-01,  1.1030e+00,  5.4526e-01,\n",
       "          1.8487e+00, -1.0134e+00,  3.2430e-01, -3.6250e-01, -9.0219e-02,\n",
       "          3.2935e-01, -1.4970e+00,  1.3322e-01,  9.2659e-01,  7.5021e-02,\n",
       "          8.7956e-01,  1.1543e+00, -1.9989e+00, -3.4273e-01, -2.2309e-01,\n",
       "         -4.4984e-01, -1.4994e+00,  1.6911e+00,  1.0535e+00, -2.7743e+00,\n",
       "         -3.0282e-01, -2.0489e+00],\n",
       "        [ 2.3981e+00, -8.9461e-01,  2.3318e-01, -8.0523e-01,  8.6148e-01,\n",
       "         -5.5409e-01, -2.0824e-02,  1.3234e+00, -6.4391e-01, -2.1689e-01,\n",
       "         -5.0044e-01,  1.0624e+00,  4.6472e-02,  1.4039e-01,  1.8023e+00,\n",
       "         -3.5426e-01, -2.4126e-02,  7.7154e-01,  3.2020e+00, -3.2342e-01,\n",
       "          2.6032e-02, -8.1368e-02,  8.0388e-02,  1.0526e+00, -7.0693e-02,\n",
       "         -9.1696e-01,  6.7305e-01, -4.6044e-01, -6.7275e-01, -4.3177e-01,\n",
       "          1.1211e+00, -1.3300e+00],\n",
       "        [-1.3098e+00,  1.4399e-01, -2.3314e-01, -9.9040e-01, -1.7231e+00,\n",
       "         -1.5883e+00, -1.2197e+00, -8.4022e-01, -5.0520e-01, -7.3439e-02,\n",
       "         -4.6460e-01,  8.7376e-02, -3.5486e-01,  5.3310e-01, -3.3356e-02,\n",
       "         -9.3554e-02, -3.3286e-01,  1.1216e+00, -2.1723e-01,  7.5045e-01,\n",
       "          3.1525e-01, -7.7823e-02,  7.8396e-01, -1.6710e+00,  5.2628e-01,\n",
       "          1.8641e+00, -1.8493e+00,  3.4859e+00, -1.1011e+00,  2.3185e-01,\n",
       "          1.3924e+00, -1.5652e-01],\n",
       "        [-1.7474e+00, -6.5038e-01,  4.0458e-01,  1.0352e+00,  5.2705e-01,\n",
       "         -9.0293e-01, -8.6322e-02,  4.0683e-01,  4.8232e-01,  1.1145e+00,\n",
       "         -1.4610e+00, -6.4610e-01,  6.6385e-01, -7.2104e-01,  6.7940e-01,\n",
       "          2.4350e+00,  2.6959e+00, -9.2510e-01,  4.4825e-01,  9.3745e-01,\n",
       "         -8.5899e-01,  2.5063e-01, -6.4668e-01, -1.5009e+00, -1.4033e-01,\n",
       "         -5.8249e-01,  2.0995e+00,  2.4132e-02,  8.6040e-01, -1.3244e+00,\n",
       "          1.4208e+00, -4.4453e-02],\n",
       "        [-1.1345e+00,  2.3636e-01, -5.0041e-02, -2.5307e-01,  5.1826e-01,\n",
       "         -2.5588e+00, -5.6465e-01, -7.9967e-01, -1.1254e+00, -1.4513e-01,\n",
       "         -2.4086e-01, -1.2198e+00, -9.0265e-01,  1.2452e+00, -1.1592e+00,\n",
       "         -8.0181e-01, -1.9358e+00, -3.3549e-01, -1.1636e-01,  3.4715e-01,\n",
       "         -2.6963e+00, -5.0503e-01,  1.0102e-01,  2.5453e-01,  2.4206e-01,\n",
       "         -1.4732e+00, -1.3401e+00,  1.5907e+00, -2.6775e-01, -9.6229e-01,\n",
       "         -9.8121e-01, -1.0540e+00],\n",
       "        [-1.0377e+00, -8.0795e-01, -7.6845e-01,  1.1422e-01, -5.5263e-01,\n",
       "         -2.8564e-01, -1.8972e+00,  4.2151e-02, -2.5056e-02, -2.5739e+00,\n",
       "         -6.9261e-01, -2.2452e-01, -1.3003e+00, -1.1440e+00, -1.6949e+00,\n",
       "          1.3167e+00, -2.9389e-01,  8.0562e-01, -4.0301e-02,  5.4264e-01,\n",
       "         -1.4961e+00, -3.0637e-01,  1.5836e+00,  7.3750e-01, -8.1958e-01,\n",
       "          1.1136e+00, -2.0131e-02,  8.6767e-01, -6.3387e-01,  1.2945e-01,\n",
       "          4.5363e-01,  9.7017e-01],\n",
       "        [-3.4797e-01, -1.1142e-01,  8.1275e-01,  7.3945e-01, -2.3383e-01,\n",
       "         -3.7298e-02, -5.3916e-01, -6.6935e-01,  1.0172e+00,  2.1423e+00,\n",
       "          4.7632e-01,  1.0030e-01,  6.7219e-01, -1.7757e+00,  2.1181e+00,\n",
       "          1.5973e+00, -6.9166e-01,  8.2512e-01, -9.8951e-02,  3.2986e-01,\n",
       "         -1.5171e+00,  2.1702e-01,  1.0913e+00, -1.8356e-01,  2.4155e+00,\n",
       "         -1.0836e+00, -2.8892e+00, -1.1466e+00, -1.4952e+00,  8.4378e-01,\n",
       "         -1.6788e+00,  9.9920e-01]], device='cuda:0', requires_grad=True)"
      ]
     },
     "execution_count": 6,
     "metadata": {},
     "output_type": "execute_result"
    }
   ],
   "source": [
    "ckpt.embedding.weight"
   ]
  },
  {
   "cell_type": "code",
   "execution_count": 16,
   "id": "a78b1603",
   "metadata": {},
   "outputs": [
    {
     "data": {
      "text/plain": [
       "OrderedDict([('0.I',\n",
       "              tensor([[[-0.0033,  0.0161, -0.0259,  ..., -0.0158,  0.0033, -0.0249],\n",
       "                       [ 0.0158,  0.0085, -0.0030,  ..., -0.0180, -0.0195,  0.0187],\n",
       "                       [-0.0243, -0.0026,  0.0134,  ..., -0.0127, -0.0212, -0.0156],\n",
       "                       ...,\n",
       "                       [-0.0118, -0.0105, -0.0070,  ...,  0.0154,  0.0102, -0.0045],\n",
       "                       [-0.0232,  0.0261,  0.0166,  ..., -0.0192, -0.0121, -0.0051],\n",
       "                       [ 0.0189,  0.0223,  0.0009,  ..., -0.0061,  0.0155, -0.0059]]],\n",
       "                     device='cuda:0')),\n",
       "             ('0.mab0.fc_q.weight',\n",
       "              tensor([[-0.0282,  0.1013,  0.0541,  ...,  0.0932, -0.1200,  0.0664],\n",
       "                      [ 0.0834,  0.0380, -0.0109,  ..., -0.1187, -0.1204, -0.0407],\n",
       "                      [ 0.0399,  0.0403, -0.0262,  ..., -0.0598,  0.0691,  0.1159],\n",
       "                      ...,\n",
       "                      [-0.0747, -0.1175, -0.1073,  ..., -0.0463, -0.0546, -0.0021],\n",
       "                      [-0.0528,  0.0213, -0.1022,  ...,  0.0751,  0.1059, -0.0767],\n",
       "                      [-0.0632,  0.0881,  0.0680,  ..., -0.0525, -0.0075, -0.0605]],\n",
       "                     device='cuda:0')),\n",
       "             ('0.mab0.fc_q.bias',\n",
       "              tensor([ 0.0680, -0.0767, -0.0819,  0.0686,  0.0060, -0.0099, -0.0296,  0.0100,\n",
       "                      -0.0752, -0.0322,  0.1080,  0.0240,  0.0639, -0.1027,  0.0655, -0.0703,\n",
       "                       0.0772,  0.0685, -0.0887,  0.0717,  0.0202,  0.0424,  0.0282, -0.1123,\n",
       "                       0.1114, -0.0070, -0.0521, -0.0475,  0.0616, -0.0734,  0.0443,  0.0883,\n",
       "                       0.0540, -0.0819,  0.0628,  0.0465,  0.0926, -0.0659,  0.0227,  0.0954,\n",
       "                       0.0849, -0.0623, -0.0688, -0.0432, -0.0866,  0.0166, -0.0647,  0.0204,\n",
       "                       0.0539,  0.1184,  0.0284,  0.0681, -0.1018,  0.0085, -0.1215,  0.0339,\n",
       "                       0.1184,  0.0924, -0.1193, -0.1247,  0.0291,  0.1022,  0.0043, -0.0541],\n",
       "                     device='cuda:0')),\n",
       "             ('0.mab0.fc_k.weight',\n",
       "              tensor([[ 0.1404, -0.0487,  0.0961,  ...,  0.1307,  0.1101, -0.0988],\n",
       "                      [-0.0052,  0.1518,  0.0169,  ...,  0.0463, -0.0360, -0.1728],\n",
       "                      [ 0.1766,  0.0860, -0.1162,  ...,  0.0981, -0.1310,  0.0484],\n",
       "                      ...,\n",
       "                      [-0.1732,  0.0883,  0.1240,  ..., -0.1519, -0.1062,  0.0268],\n",
       "                      [-0.1182, -0.0363,  0.1061,  ..., -0.0033, -0.0310, -0.0634],\n",
       "                      [ 0.1641,  0.0493,  0.1440,  ..., -0.0272, -0.0233,  0.1306]],\n",
       "                     device='cuda:0')),\n",
       "             ('0.mab0.fc_k.bias',\n",
       "              tensor([ 0.1034,  0.0207,  0.1530, -0.0432,  0.0128,  0.1284, -0.1554, -0.0887,\n",
       "                      -0.1272, -0.1602, -0.1344,  0.1149,  0.1197, -0.1206, -0.0234,  0.0966,\n",
       "                      -0.0665, -0.0819, -0.1623,  0.0315, -0.1618,  0.1310,  0.0831, -0.0793,\n",
       "                      -0.0272,  0.0078, -0.1281, -0.1267, -0.0025,  0.1535, -0.1741,  0.1044,\n",
       "                      -0.1402,  0.1435,  0.1117,  0.1090, -0.0513,  0.1110, -0.0086, -0.0006,\n",
       "                       0.0129, -0.1766,  0.0103,  0.0566,  0.1404, -0.1009,  0.1147, -0.1501,\n",
       "                      -0.0187,  0.1607,  0.0670, -0.0807,  0.0209,  0.0154,  0.0086, -0.1132,\n",
       "                       0.0980, -0.0808, -0.1310, -0.1283, -0.0493,  0.1303, -0.0554,  0.1037],\n",
       "                     device='cuda:0')),\n",
       "             ('0.mab0.fc_v.weight',\n",
       "              tensor([[-0.1381,  0.1120, -0.1077,  ..., -0.0351, -0.1326,  0.1060],\n",
       "                      [ 0.1245,  0.0194,  0.1224,  ..., -0.0323, -0.0900, -0.1025],\n",
       "                      [ 0.0346,  0.0963,  0.0071,  ...,  0.1422,  0.0070, -0.0436],\n",
       "                      ...,\n",
       "                      [ 0.1342,  0.0658, -0.1368,  ...,  0.0865,  0.0663,  0.0942],\n",
       "                      [-0.0460,  0.0663, -0.0043,  ..., -0.1244, -0.0331, -0.0590],\n",
       "                      [ 0.0393, -0.0571,  0.1586,  ...,  0.1117,  0.1102,  0.0496]],\n",
       "                     device='cuda:0')),\n",
       "             ('0.mab0.fc_v.bias',\n",
       "              tensor([-0.0104,  0.0779,  0.0966, -0.1392,  0.1519,  0.0501, -0.0608,  0.1097,\n",
       "                      -0.0718, -0.1514, -0.0846,  0.0600, -0.0490,  0.0102,  0.0616, -0.1489,\n",
       "                      -0.0738, -0.0561,  0.0499,  0.0739, -0.1117, -0.0748, -0.0210,  0.0414,\n",
       "                      -0.0555, -0.0130, -0.1711,  0.1011, -0.1340,  0.1031,  0.0707,  0.0262,\n",
       "                      -0.1485, -0.0804, -0.0294,  0.1356, -0.1326,  0.1298, -0.0531,  0.1072,\n",
       "                      -0.0061, -0.0710,  0.1550, -0.1554, -0.0515, -0.0738, -0.1590,  0.0083,\n",
       "                       0.0762, -0.0968,  0.1634, -0.1548, -0.1056,  0.1089,  0.1314, -0.0006,\n",
       "                       0.0781,  0.0287, -0.0886, -0.0296,  0.1521, -0.0687, -0.0239,  0.1143],\n",
       "                     device='cuda:0')),\n",
       "             ('0.mab0.ln0.weight',\n",
       "              tensor([1., 1., 1., 1., 1., 1., 1., 1., 1., 1., 1., 1., 1., 1., 1., 1., 1., 1.,\n",
       "                      1., 1., 1., 1., 1., 1., 1., 1., 1., 1., 1., 1., 1., 1., 1., 1., 1., 1.,\n",
       "                      1., 1., 1., 1., 1., 1., 1., 1., 1., 1., 1., 1., 1., 1., 1., 1., 1., 1.,\n",
       "                      1., 1., 1., 1., 1., 1., 1., 1., 1., 1.], device='cuda:0')),\n",
       "             ('0.mab0.ln0.bias',\n",
       "              tensor([0., 0., 0., 0., 0., 0., 0., 0., 0., 0., 0., 0., 0., 0., 0., 0., 0., 0., 0., 0., 0., 0., 0., 0.,\n",
       "                      0., 0., 0., 0., 0., 0., 0., 0., 0., 0., 0., 0., 0., 0., 0., 0., 0., 0., 0., 0., 0., 0., 0., 0.,\n",
       "                      0., 0., 0., 0., 0., 0., 0., 0., 0., 0., 0., 0., 0., 0., 0., 0.],\n",
       "                     device='cuda:0')),\n",
       "             ('0.mab0.ln1.weight',\n",
       "              tensor([1., 1., 1., 1., 1., 1., 1., 1., 1., 1., 1., 1., 1., 1., 1., 1., 1., 1.,\n",
       "                      1., 1., 1., 1., 1., 1., 1., 1., 1., 1., 1., 1., 1., 1., 1., 1., 1., 1.,\n",
       "                      1., 1., 1., 1., 1., 1., 1., 1., 1., 1., 1., 1., 1., 1., 1., 1., 1., 1.,\n",
       "                      1., 1., 1., 1., 1., 1., 1., 1., 1., 1.], device='cuda:0')),\n",
       "             ('0.mab0.ln1.bias',\n",
       "              tensor([0., 0., 0., 0., 0., 0., 0., 0., 0., 0., 0., 0., 0., 0., 0., 0., 0., 0., 0., 0., 0., 0., 0., 0.,\n",
       "                      0., 0., 0., 0., 0., 0., 0., 0., 0., 0., 0., 0., 0., 0., 0., 0., 0., 0., 0., 0., 0., 0., 0., 0.,\n",
       "                      0., 0., 0., 0., 0., 0., 0., 0., 0., 0., 0., 0., 0., 0., 0., 0.],\n",
       "                     device='cuda:0')),\n",
       "             ('0.mab0.fc_o.weight',\n",
       "              tensor([[ 0.0922,  0.0164,  0.0845,  ...,  0.0067,  0.0358, -0.1017],\n",
       "                      [-0.0960, -0.0274, -0.0828,  ..., -0.0135, -0.0370, -0.0743],\n",
       "                      [-0.0355,  0.0628,  0.0843,  ...,  0.0308, -0.0652, -0.0468],\n",
       "                      ...,\n",
       "                      [ 0.0651,  0.0242,  0.0919,  ..., -0.0486,  0.0005,  0.0826],\n",
       "                      [ 0.0595, -0.0284, -0.0674,  ..., -0.1203, -0.0749, -0.0511],\n",
       "                      [ 0.0551, -0.0480,  0.0981,  ...,  0.0024,  0.0033,  0.1005]],\n",
       "                     device='cuda:0')),\n",
       "             ('0.mab0.fc_o.bias',\n",
       "              tensor([ 0.0496, -0.0575,  0.0709,  0.0617,  0.0767, -0.0682, -0.0166, -0.0396,\n",
       "                      -0.0463, -0.0725,  0.1074,  0.0516, -0.0395,  0.0910, -0.0590,  0.0292,\n",
       "                       0.0756, -0.0652, -0.0848, -0.0664,  0.0806,  0.1046, -0.0755, -0.1004,\n",
       "                      -0.1158,  0.0653, -0.0026, -0.1193, -0.1127, -0.1120, -0.0963, -0.0777,\n",
       "                      -0.0090,  0.0340,  0.0657, -0.0649,  0.0872,  0.0550,  0.0653,  0.0722,\n",
       "                       0.0495, -0.0711,  0.1103,  0.1061,  0.1201, -0.0525, -0.0522, -0.0094,\n",
       "                      -0.0260,  0.0563,  0.1228, -0.0073, -0.0374,  0.0566,  0.0894, -0.0009,\n",
       "                       0.0347,  0.0552, -0.0820,  0.0477,  0.0717, -0.1208,  0.0092,  0.0121],\n",
       "                     device='cuda:0')),\n",
       "             ('0.mab1.fc_q.weight',\n",
       "              tensor([[-0.0271,  0.0781, -0.0066,  ..., -0.0392, -0.0274,  0.1690],\n",
       "                      [-0.0960,  0.0170,  0.1229,  ..., -0.0931,  0.0668, -0.0440],\n",
       "                      [-0.1174, -0.0123,  0.0405,  ..., -0.0440,  0.0226, -0.0150],\n",
       "                      ...,\n",
       "                      [-0.0571,  0.0324, -0.1448,  ...,  0.1699,  0.1308,  0.0252],\n",
       "                      [-0.0603,  0.1468, -0.0328,  ..., -0.1152,  0.0578, -0.1329],\n",
       "                      [-0.0680, -0.1333, -0.0587,  ...,  0.1419, -0.1762,  0.1532]],\n",
       "                     device='cuda:0')),\n",
       "             ('0.mab1.fc_q.bias',\n",
       "              tensor([ 0.0650, -0.1007, -0.1148,  0.0760, -0.0925, -0.0539,  0.0621,  0.1250,\n",
       "                       0.0922,  0.1404,  0.0497, -0.1580,  0.1029,  0.1179,  0.1306, -0.0387,\n",
       "                       0.0555, -0.1218,  0.0594,  0.1616, -0.0250,  0.1597, -0.0624, -0.0980,\n",
       "                      -0.1199,  0.0363,  0.0766,  0.0384,  0.0244,  0.1245, -0.0306,  0.0515,\n",
       "                      -0.1057,  0.0214, -0.1606,  0.0478,  0.0808,  0.0690, -0.0999, -0.1004,\n",
       "                       0.0557,  0.1068,  0.0049, -0.1278, -0.0648, -0.0454,  0.0800, -0.0625,\n",
       "                       0.0078,  0.1073, -0.0672, -0.1175, -0.1045,  0.1732,  0.0747,  0.0012,\n",
       "                      -0.0266,  0.0406,  0.0752, -0.0005, -0.0883,  0.0180, -0.0491, -0.0925],\n",
       "                     device='cuda:0')),\n",
       "             ('0.mab1.fc_k.weight',\n",
       "              tensor([[ 0.0035, -0.0135, -0.0951,  ..., -0.1103, -0.0721,  0.0422],\n",
       "                      [-0.0186,  0.0283,  0.0987,  ..., -0.0998,  0.0269,  0.0644],\n",
       "                      [-0.0117, -0.0612, -0.0052,  ...,  0.0865,  0.0998,  0.0377],\n",
       "                      ...,\n",
       "                      [ 0.0181,  0.0780,  0.0744,  ...,  0.1142, -0.0799,  0.0610],\n",
       "                      [-0.0903,  0.0711, -0.0290,  ..., -0.0998,  0.1052, -0.0917],\n",
       "                      [ 0.0907,  0.0880, -0.0621,  ..., -0.0085, -0.0507,  0.0439]],\n",
       "                     device='cuda:0')),\n",
       "             ('0.mab1.fc_k.bias',\n",
       "              tensor([-0.1213,  0.0926,  0.0069,  0.0334,  0.0256, -0.0216,  0.0331, -0.0863,\n",
       "                      -0.0043,  0.0057,  0.0458, -0.0449, -0.1109,  0.0909, -0.0337, -0.0011,\n",
       "                      -0.0505, -0.0504,  0.1141, -0.0485,  0.0888,  0.0741,  0.1085,  0.0098,\n",
       "                      -0.0266,  0.0076, -0.0990,  0.0497, -0.0752,  0.0309,  0.0404, -0.0758,\n",
       "                      -0.0704, -0.0233, -0.0507,  0.0036, -0.0702,  0.0420, -0.1146,  0.0081,\n",
       "                       0.0484, -0.0661,  0.0040, -0.1203, -0.0110, -0.0451,  0.0157, -0.0860,\n",
       "                       0.0815,  0.1010, -0.0814,  0.0114, -0.0501,  0.1123,  0.1137, -0.1237,\n",
       "                       0.1196, -0.0133,  0.0978,  0.0857,  0.0745, -0.0501, -0.1222,  0.0421],\n",
       "                     device='cuda:0')),\n",
       "             ('0.mab1.fc_v.weight',\n",
       "              tensor([[ 0.0744, -0.0644,  0.1039,  ...,  0.1222, -0.0667,  0.0083],\n",
       "                      [-0.0635, -0.0932,  0.1042,  ..., -0.0156, -0.0011,  0.0464],\n",
       "                      [ 0.0309,  0.0797, -0.0552,  ...,  0.0145, -0.0723,  0.0606],\n",
       "                      ...,\n",
       "                      [ 0.0817,  0.0073, -0.0694,  ..., -0.0439, -0.0636,  0.0731],\n",
       "                      [ 0.0438,  0.0330,  0.0296,  ...,  0.0287,  0.0720,  0.0214],\n",
       "                      [-0.0413, -0.0322, -0.0157,  ...,  0.1120,  0.0355,  0.0509]],\n",
       "                     device='cuda:0')),\n",
       "             ('0.mab1.fc_v.bias',\n",
       "              tensor([ 0.0760,  0.0659,  0.0381, -0.0432,  0.0413,  0.0506, -0.0173, -0.1007,\n",
       "                       0.0159,  0.0207, -0.0610, -0.1233,  0.1235,  0.0172,  0.0853, -0.0519,\n",
       "                      -0.0464,  0.0074,  0.1029,  0.1080, -0.0016,  0.1026, -0.0540, -0.1073,\n",
       "                       0.0011,  0.0565,  0.1190,  0.0060, -0.1242,  0.0405, -0.0049,  0.0425,\n",
       "                      -0.0781, -0.1076, -0.0321,  0.0985,  0.0579,  0.0537, -0.0704,  0.0493,\n",
       "                       0.0603,  0.0912,  0.0521, -0.1110,  0.0346, -0.0082,  0.0025,  0.0825,\n",
       "                       0.0934,  0.0794, -0.0503,  0.0147,  0.1194, -0.0165, -0.0506,  0.0835,\n",
       "                      -0.0779, -0.0211, -0.0904, -0.0916,  0.0996,  0.0772, -0.1075,  0.0088],\n",
       "                     device='cuda:0')),\n",
       "             ('0.mab1.ln0.weight',\n",
       "              tensor([1., 1., 1., 1., 1., 1., 1., 1., 1., 1., 1., 1., 1., 1., 1., 1., 1., 1.,\n",
       "                      1., 1., 1., 1., 1., 1., 1., 1., 1., 1., 1., 1., 1., 1., 1., 1., 1., 1.,\n",
       "                      1., 1., 1., 1., 1., 1., 1., 1., 1., 1., 1., 1., 1., 1., 1., 1., 1., 1.,\n",
       "                      1., 1., 1., 1., 1., 1., 1., 1., 1., 1.], device='cuda:0')),\n",
       "             ('0.mab1.ln0.bias',\n",
       "              tensor([0., 0., 0., 0., 0., 0., 0., 0., 0., 0., 0., 0., 0., 0., 0., 0., 0., 0., 0., 0., 0., 0., 0., 0.,\n",
       "                      0., 0., 0., 0., 0., 0., 0., 0., 0., 0., 0., 0., 0., 0., 0., 0., 0., 0., 0., 0., 0., 0., 0., 0.,\n",
       "                      0., 0., 0., 0., 0., 0., 0., 0., 0., 0., 0., 0., 0., 0., 0., 0.],\n",
       "                     device='cuda:0')),\n",
       "             ('0.mab1.ln1.weight',\n",
       "              tensor([1., 1., 1., 1., 1., 1., 1., 1., 1., 1., 1., 1., 1., 1., 1., 1., 1., 1.,\n",
       "                      1., 1., 1., 1., 1., 1., 1., 1., 1., 1., 1., 1., 1., 1., 1., 1., 1., 1.,\n",
       "                      1., 1., 1., 1., 1., 1., 1., 1., 1., 1., 1., 1., 1., 1., 1., 1., 1., 1.,\n",
       "                      1., 1., 1., 1., 1., 1., 1., 1., 1., 1.], device='cuda:0')),\n",
       "             ('0.mab1.ln1.bias',\n",
       "              tensor([0., 0., 0., 0., 0., 0., 0., 0., 0., 0., 0., 0., 0., 0., 0., 0., 0., 0., 0., 0., 0., 0., 0., 0.,\n",
       "                      0., 0., 0., 0., 0., 0., 0., 0., 0., 0., 0., 0., 0., 0., 0., 0., 0., 0., 0., 0., 0., 0., 0., 0.,\n",
       "                      0., 0., 0., 0., 0., 0., 0., 0., 0., 0., 0., 0., 0., 0., 0., 0.],\n",
       "                     device='cuda:0')),\n",
       "             ('0.mab1.fc_o.weight',\n",
       "              tensor([[ 0.1062,  0.0142, -0.0990,  ...,  0.0317, -0.0255, -0.0880],\n",
       "                      [ 0.0514,  0.0973, -0.0916,  ..., -0.1191,  0.0444,  0.1027],\n",
       "                      [ 0.0416,  0.0868,  0.0854,  ..., -0.0744, -0.0584,  0.0900],\n",
       "                      ...,\n",
       "                      [-0.0169,  0.1074,  0.1055,  ...,  0.0564, -0.0521, -0.0549],\n",
       "                      [-0.0232,  0.0265, -0.0030,  ...,  0.0226,  0.0489,  0.1214],\n",
       "                      [-0.1070, -0.0879, -0.0241,  ..., -0.0509, -0.0474,  0.0138]],\n",
       "                     device='cuda:0')),\n",
       "             ('0.mab1.fc_o.bias',\n",
       "              tensor([-0.0041, -0.1220,  0.1049,  0.0164, -0.0797, -0.0340, -0.0160, -0.0555,\n",
       "                       0.0928, -0.0426, -0.0059, -0.0142,  0.0571, -0.0661,  0.0628,  0.1098,\n",
       "                      -0.0760,  0.0002,  0.0512,  0.0545, -0.0009, -0.0051,  0.0119,  0.1221,\n",
       "                      -0.1022, -0.1122, -0.0320,  0.0767, -0.0407,  0.0992,  0.0420,  0.0589,\n",
       "                      -0.0979,  0.0611,  0.0279,  0.0357, -0.0670,  0.1128, -0.0811,  0.0505,\n",
       "                       0.1018, -0.0743, -0.0429,  0.0135,  0.1190, -0.0132,  0.0660,  0.0275,\n",
       "                       0.0320,  0.1124,  0.0519, -0.0635, -0.0012, -0.1019,  0.0326, -0.0105,\n",
       "                       0.0807, -0.0224, -0.0815, -0.0288, -0.0862, -0.0831,  0.0939, -0.1156],\n",
       "                     device='cuda:0')),\n",
       "             ('1.I',\n",
       "              tensor([[[-0.0235, -0.0224,  0.0076,  ...,  0.0183, -0.0092, -0.0014],\n",
       "                       [-0.0210,  0.0012,  0.0026,  ...,  0.0240, -0.0003,  0.0071],\n",
       "                       [ 0.0045, -0.0142, -0.0192,  ...,  0.0065, -0.0122, -0.0127],\n",
       "                       ...,\n",
       "                       [ 0.0092, -0.0258, -0.0181,  ...,  0.0133, -0.0241, -0.0009],\n",
       "                       [-0.0102,  0.0146,  0.0200,  ...,  0.0191,  0.0029, -0.0196],\n",
       "                       [-0.0267, -0.0039, -0.0189,  ...,  0.0080,  0.0142,  0.0051]]],\n",
       "                     device='cuda:0')),\n",
       "             ('1.mab0.fc_q.weight',\n",
       "              tensor([[-0.1105, -0.0546, -0.0830,  ...,  0.0673, -0.0853,  0.0051],\n",
       "                      [-0.0894,  0.0831, -0.0062,  ...,  0.0700, -0.1103, -0.0994],\n",
       "                      [ 0.0155,  0.1126,  0.0650,  ...,  0.0677, -0.0530, -0.0105],\n",
       "                      ...,\n",
       "                      [ 0.0266, -0.0761, -0.0399,  ...,  0.0405,  0.0595, -0.1024],\n",
       "                      [-0.0174,  0.1076, -0.1092,  ...,  0.0395, -0.0362,  0.1049],\n",
       "                      [ 0.0020, -0.0552,  0.0695,  ...,  0.0405,  0.0663,  0.0232]],\n",
       "                     device='cuda:0')),\n",
       "             ('1.mab0.fc_q.bias',\n",
       "              tensor([-0.1093,  0.0861, -0.0029, -0.1194,  0.1059, -0.0582,  0.0157,  0.1084,\n",
       "                      -0.0914,  0.0710, -0.1038, -0.0590, -0.1027, -0.0075, -0.0236, -0.0432,\n",
       "                       0.0027,  0.0794,  0.0532,  0.0309,  0.0227,  0.0950,  0.0171, -0.0364,\n",
       "                      -0.0463, -0.1203,  0.0861,  0.0539, -0.0749, -0.0674,  0.0025,  0.0980,\n",
       "                      -0.1035, -0.0364, -0.0773,  0.0270, -0.0824, -0.0977, -0.0884,  0.0919,\n",
       "                       0.1101,  0.0691,  0.0442, -0.0424, -0.0612,  0.0674,  0.1138, -0.0919,\n",
       "                      -0.0489,  0.0289, -0.0357,  0.0561, -0.1020,  0.0505, -0.0375, -0.0343,\n",
       "                       0.0082, -0.0658,  0.0648, -0.0338,  0.0530, -0.0131,  0.0800,  0.0970],\n",
       "                     device='cuda:0')),\n",
       "             ('1.mab0.fc_k.weight',\n",
       "              tensor([[ 0.0338, -0.0509,  0.1009,  ...,  0.0564,  0.1244,  0.0028],\n",
       "                      [ 0.0685,  0.0130,  0.1022,  ...,  0.0159, -0.0423,  0.1154],\n",
       "                      [ 0.1245,  0.0215,  0.1034,  ...,  0.0368,  0.0999, -0.1195],\n",
       "                      ...,\n",
       "                      [ 0.0586, -0.0405,  0.0854,  ..., -0.0543, -0.0379,  0.0103],\n",
       "                      [ 0.0257,  0.0268,  0.0052,  ..., -0.0739,  0.0778,  0.1244],\n",
       "                      [ 0.1015,  0.1019,  0.0677,  ...,  0.0151, -0.0427,  0.1117]],\n",
       "                     device='cuda:0')),\n",
       "             ('1.mab0.fc_k.bias',\n",
       "              tensor([ 0.0325,  0.0974, -0.0972,  0.0243,  0.1237, -0.0653,  0.0683, -0.0768,\n",
       "                      -0.0626,  0.1146, -0.0567,  0.0329, -0.0982,  0.1146, -0.0501,  0.1114,\n",
       "                       0.0609, -0.0978,  0.1099, -0.1209,  0.1025, -0.0738,  0.0600, -0.0291,\n",
       "                      -0.1038,  0.0469,  0.0846,  0.0392, -0.0803,  0.1165,  0.0383, -0.0520,\n",
       "                       0.1087, -0.1156,  0.0975, -0.0568, -0.0762, -0.0897,  0.0038, -0.0727,\n",
       "                      -0.0264,  0.0561, -0.0007,  0.0381,  0.1219, -0.0164,  0.0437, -0.1056,\n",
       "                       0.1230,  0.0072, -0.0188,  0.0024, -0.1011, -0.0748, -0.0584, -0.0749,\n",
       "                      -0.0444,  0.1245, -0.0218, -0.0980,  0.0978,  0.0162,  0.0989,  0.0097],\n",
       "                     device='cuda:0')),\n",
       "             ('1.mab0.fc_v.weight',\n",
       "              tensor([[ 0.1170,  0.0883,  0.0297,  ..., -0.0669,  0.0226, -0.0885],\n",
       "                      [ 0.0265, -0.0631, -0.0582,  ..., -0.0832, -0.0888, -0.0149],\n",
       "                      [-0.0509, -0.0117,  0.1112,  ...,  0.0402,  0.0716,  0.1048],\n",
       "                      ...,\n",
       "                      [ 0.1222, -0.1037,  0.0651,  ..., -0.0125,  0.0767, -0.0299],\n",
       "                      [ 0.0657,  0.0218,  0.0236,  ..., -0.0085,  0.0115, -0.0676],\n",
       "                      [ 0.0134, -0.0216, -0.1113,  ...,  0.0821, -0.0320, -0.0200]],\n",
       "                     device='cuda:0')),\n",
       "             ('1.mab0.fc_v.bias',\n",
       "              tensor([ 0.0187,  0.0969, -0.1160,  0.0439,  0.1182,  0.0007, -0.1176,  0.0468,\n",
       "                      -0.0065,  0.0752, -0.1097,  0.0735, -0.0118,  0.0832,  0.1047, -0.0667,\n",
       "                      -0.0549,  0.0614, -0.0296,  0.1243, -0.0676, -0.0953,  0.0708,  0.0733,\n",
       "                      -0.1004, -0.0020, -0.0904, -0.0223,  0.0207, -0.0886,  0.1195,  0.0679,\n",
       "                      -0.0098,  0.0923,  0.0329,  0.0911, -0.0019,  0.0933,  0.0524,  0.0939,\n",
       "                       0.0883,  0.0100, -0.0484,  0.0432,  0.0211,  0.0548, -0.0670,  0.0004,\n",
       "                       0.0586, -0.0652, -0.0381,  0.0014, -0.0863,  0.0569,  0.1029,  0.0591,\n",
       "                      -0.0466, -0.0612, -0.0220, -0.1229, -0.1146, -0.1063,  0.0145, -0.0490],\n",
       "                     device='cuda:0')),\n",
       "             ('1.mab0.ln0.weight',\n",
       "              tensor([1., 1., 1., 1., 1., 1., 1., 1., 1., 1., 1., 1., 1., 1., 1., 1., 1., 1.,\n",
       "                      1., 1., 1., 1., 1., 1., 1., 1., 1., 1., 1., 1., 1., 1., 1., 1., 1., 1.,\n",
       "                      1., 1., 1., 1., 1., 1., 1., 1., 1., 1., 1., 1., 1., 1., 1., 1., 1., 1.,\n",
       "                      1., 1., 1., 1., 1., 1., 1., 1., 1., 1.], device='cuda:0')),\n",
       "             ('1.mab0.ln0.bias',\n",
       "              tensor([0., 0., 0., 0., 0., 0., 0., 0., 0., 0., 0., 0., 0., 0., 0., 0., 0., 0., 0., 0., 0., 0., 0., 0.,\n",
       "                      0., 0., 0., 0., 0., 0., 0., 0., 0., 0., 0., 0., 0., 0., 0., 0., 0., 0., 0., 0., 0., 0., 0., 0.,\n",
       "                      0., 0., 0., 0., 0., 0., 0., 0., 0., 0., 0., 0., 0., 0., 0., 0.],\n",
       "                     device='cuda:0')),\n",
       "             ('1.mab0.ln1.weight',\n",
       "              tensor([1., 1., 1., 1., 1., 1., 1., 1., 1., 1., 1., 1., 1., 1., 1., 1., 1., 1.,\n",
       "                      1., 1., 1., 1., 1., 1., 1., 1., 1., 1., 1., 1., 1., 1., 1., 1., 1., 1.,\n",
       "                      1., 1., 1., 1., 1., 1., 1., 1., 1., 1., 1., 1., 1., 1., 1., 1., 1., 1.,\n",
       "                      1., 1., 1., 1., 1., 1., 1., 1., 1., 1.], device='cuda:0')),\n",
       "             ('1.mab0.ln1.bias',\n",
       "              tensor([0., 0., 0., 0., 0., 0., 0., 0., 0., 0., 0., 0., 0., 0., 0., 0., 0., 0., 0., 0., 0., 0., 0., 0.,\n",
       "                      0., 0., 0., 0., 0., 0., 0., 0., 0., 0., 0., 0., 0., 0., 0., 0., 0., 0., 0., 0., 0., 0., 0., 0.,\n",
       "                      0., 0., 0., 0., 0., 0., 0., 0., 0., 0., 0., 0., 0., 0., 0., 0.],\n",
       "                     device='cuda:0')),\n",
       "             ('1.mab0.fc_o.weight',\n",
       "              tensor([[-0.1095, -0.1123, -0.0622,  ..., -0.0562,  0.0094,  0.1142],\n",
       "                      [-0.1202, -0.0199, -0.0703,  ...,  0.0360, -0.0707,  0.0421],\n",
       "                      [ 0.0409, -0.0798,  0.0933,  ..., -0.1105,  0.0021,  0.0254],\n",
       "                      ...,\n",
       "                      [ 0.0775,  0.0005,  0.0402,  ..., -0.0595, -0.0953,  0.0268],\n",
       "                      [-0.0032, -0.0011,  0.1051,  ..., -0.0290,  0.0896, -0.0438],\n",
       "                      [-0.0187, -0.0774,  0.0060,  ..., -0.0744, -0.0871, -0.1089]],\n",
       "                     device='cuda:0')),\n",
       "             ('1.mab0.fc_o.bias',\n",
       "              tensor([ 0.0149, -0.1240, -0.0197, -0.0852, -0.0929, -0.0082,  0.0667, -0.0514,\n",
       "                       0.0617,  0.0004,  0.0035,  0.0287,  0.1224, -0.0291,  0.0264,  0.0487,\n",
       "                      -0.0077,  0.0332, -0.0918, -0.0517,  0.0018,  0.0582, -0.0291,  0.0206,\n",
       "                       0.0037,  0.0262, -0.0147,  0.0311, -0.1007,  0.0568, -0.0816, -0.0176,\n",
       "                      -0.0348, -0.0282, -0.0911,  0.0498,  0.0643, -0.0255, -0.0340, -0.0382,\n",
       "                      -0.1089, -0.0036, -0.0307, -0.1016, -0.0598, -0.0618,  0.0143,  0.0867,\n",
       "                      -0.0531, -0.1248, -0.0813, -0.0370, -0.0048, -0.0679, -0.0634,  0.0121,\n",
       "                      -0.0424, -0.0912, -0.0151, -0.0511, -0.0898,  0.0111, -0.0324, -0.1074],\n",
       "                     device='cuda:0')),\n",
       "             ('1.mab1.fc_q.weight',\n",
       "              tensor([[-0.1217, -0.0160,  0.0672,  ..., -0.0418, -0.0334,  0.0307],\n",
       "                      [-0.0804,  0.0267,  0.0442,  ..., -0.0587,  0.0680, -0.0870],\n",
       "                      [-0.0326, -0.0907,  0.0007,  ..., -0.0853, -0.0191, -0.1134],\n",
       "                      ...,\n",
       "                      [-0.0362,  0.0408, -0.0946,  ..., -0.1034, -0.0445,  0.0349],\n",
       "                      [ 0.0197, -0.0303,  0.0003,  ...,  0.0872,  0.0518, -0.0668],\n",
       "                      [ 0.0646, -0.1072, -0.0084,  ..., -0.0925, -0.0105, -0.0502]],\n",
       "                     device='cuda:0')),\n",
       "             ('1.mab1.fc_q.bias',\n",
       "              tensor([ 0.0175,  0.0733,  0.0437, -0.0929,  0.1134,  0.0184,  0.0434, -0.0289,\n",
       "                       0.1002, -0.0709,  0.0196,  0.1100,  0.0706, -0.0503,  0.0404, -0.0640,\n",
       "                       0.0027, -0.0890, -0.0604,  0.0140, -0.0507, -0.0814, -0.0900,  0.0673,\n",
       "                      -0.0876, -0.0688,  0.0456,  0.1169, -0.0893, -0.0429, -0.0670,  0.0229,\n",
       "                      -0.0482,  0.1133,  0.1096, -0.0181,  0.0020,  0.0772, -0.0230,  0.1029,\n",
       "                       0.0061,  0.0634, -0.0244,  0.0904, -0.1064, -0.1194,  0.0957,  0.1067,\n",
       "                      -0.0739,  0.0720,  0.1051, -0.0926,  0.0214,  0.0984, -0.0705, -0.1213,\n",
       "                       0.0537,  0.1113, -0.1084, -0.0723, -0.1174,  0.1077,  0.0774,  0.0781],\n",
       "                     device='cuda:0')),\n",
       "             ('1.mab1.fc_k.weight',\n",
       "              tensor([[ 0.0010, -0.0289, -0.0327,  ..., -0.1240, -0.0907,  0.1132],\n",
       "                      [-0.1222, -0.1082, -0.0926,  ..., -0.0618,  0.1043,  0.1146],\n",
       "                      [ 0.1067,  0.0278,  0.0723,  ..., -0.0128, -0.0693, -0.0270],\n",
       "                      ...,\n",
       "                      [ 0.0712, -0.0963,  0.0766,  ...,  0.0389, -0.1038,  0.1170],\n",
       "                      [ 0.0321,  0.0286,  0.0870,  ...,  0.0202, -0.1023,  0.0821],\n",
       "                      [ 0.0956,  0.0975, -0.0106,  ..., -0.0121,  0.0340, -0.0565]],\n",
       "                     device='cuda:0')),\n",
       "             ('1.mab1.fc_k.bias',\n",
       "              tensor([ 0.0036,  0.0181,  0.0095,  0.0866, -0.0186, -0.0198, -0.0037,  0.0502,\n",
       "                       0.1089,  0.0987,  0.0977,  0.0647, -0.0663,  0.0197,  0.0739,  0.0032,\n",
       "                      -0.0976,  0.1009, -0.0174, -0.0107, -0.0581, -0.0598, -0.0616, -0.0495,\n",
       "                      -0.0243,  0.0307,  0.0322, -0.0046, -0.1043,  0.0743,  0.0413, -0.0924,\n",
       "                      -0.0311, -0.0516, -0.0245, -0.0876, -0.0761, -0.0412,  0.0646, -0.0278,\n",
       "                      -0.0592,  0.0023, -0.0895, -0.0273,  0.0372,  0.0478,  0.0618,  0.0748,\n",
       "                       0.0052,  0.0530,  0.1049,  0.0938, -0.0182,  0.0770, -0.0613, -0.0562,\n",
       "                       0.0840, -0.0418,  0.0796, -0.0655, -0.0573, -0.0588, -0.0469,  0.0331],\n",
       "                     device='cuda:0')),\n",
       "             ('1.mab1.fc_v.weight',\n",
       "              tensor([[-0.0810, -0.0731, -0.0438,  ...,  0.1192,  0.0421, -0.1003],\n",
       "                      [-0.1033,  0.0789,  0.0716,  ..., -0.0645,  0.0421,  0.1130],\n",
       "                      [-0.0117, -0.0935,  0.1187,  ...,  0.0787, -0.0245, -0.1208],\n",
       "                      ...,\n",
       "                      [ 0.0639, -0.0207, -0.1000,  ..., -0.0222,  0.0940, -0.0928],\n",
       "                      [ 0.1145,  0.0596, -0.0800,  ..., -0.1209,  0.0587,  0.0979],\n",
       "                      [-0.0862,  0.0341, -0.0989,  ...,  0.0780, -0.0592,  0.1165]],\n",
       "                     device='cuda:0')),\n",
       "             ('1.mab1.fc_v.bias',\n",
       "              tensor([ 0.0800,  0.0198,  0.0859, -0.0121,  0.0641,  0.0956,  0.0282,  0.0445,\n",
       "                      -0.0123,  0.0315, -0.1025,  0.0870, -0.0540,  0.1036,  0.0799, -0.0508,\n",
       "                       0.0837,  0.0185, -0.0233,  0.1223, -0.1118,  0.1019, -0.0493,  0.0692,\n",
       "                      -0.0932, -0.1091, -0.1194, -0.0018, -0.0456, -0.0412, -0.0444,  0.0321,\n",
       "                      -0.0684,  0.0236,  0.0623, -0.0422, -0.0564,  0.1065, -0.1057, -0.0427,\n",
       "                       0.0513,  0.0174,  0.0707,  0.0082,  0.0038, -0.0296,  0.0667, -0.0573,\n",
       "                       0.0670, -0.0665, -0.0589,  0.1086, -0.0628,  0.0702,  0.0544, -0.0278,\n",
       "                       0.0195,  0.1028,  0.0261,  0.0594,  0.0268,  0.1231,  0.0723, -0.0927],\n",
       "                     device='cuda:0')),\n",
       "             ('1.mab1.ln0.weight',\n",
       "              tensor([1., 1., 1., 1., 1., 1., 1., 1., 1., 1., 1., 1., 1., 1., 1., 1., 1., 1.,\n",
       "                      1., 1., 1., 1., 1., 1., 1., 1., 1., 1., 1., 1., 1., 1., 1., 1., 1., 1.,\n",
       "                      1., 1., 1., 1., 1., 1., 1., 1., 1., 1., 1., 1., 1., 1., 1., 1., 1., 1.,\n",
       "                      1., 1., 1., 1., 1., 1., 1., 1., 1., 1.], device='cuda:0')),\n",
       "             ('1.mab1.ln0.bias',\n",
       "              tensor([0., 0., 0., 0., 0., 0., 0., 0., 0., 0., 0., 0., 0., 0., 0., 0., 0., 0., 0., 0., 0., 0., 0., 0.,\n",
       "                      0., 0., 0., 0., 0., 0., 0., 0., 0., 0., 0., 0., 0., 0., 0., 0., 0., 0., 0., 0., 0., 0., 0., 0.,\n",
       "                      0., 0., 0., 0., 0., 0., 0., 0., 0., 0., 0., 0., 0., 0., 0., 0.],\n",
       "                     device='cuda:0')),\n",
       "             ('1.mab1.ln1.weight',\n",
       "              tensor([1., 1., 1., 1., 1., 1., 1., 1., 1., 1., 1., 1., 1., 1., 1., 1., 1., 1.,\n",
       "                      1., 1., 1., 1., 1., 1., 1., 1., 1., 1., 1., 1., 1., 1., 1., 1., 1., 1.,\n",
       "                      1., 1., 1., 1., 1., 1., 1., 1., 1., 1., 1., 1., 1., 1., 1., 1., 1., 1.,\n",
       "                      1., 1., 1., 1., 1., 1., 1., 1., 1., 1.], device='cuda:0')),\n",
       "             ('1.mab1.ln1.bias',\n",
       "              tensor([0., 0., 0., 0., 0., 0., 0., 0., 0., 0., 0., 0., 0., 0., 0., 0., 0., 0., 0., 0., 0., 0., 0., 0.,\n",
       "                      0., 0., 0., 0., 0., 0., 0., 0., 0., 0., 0., 0., 0., 0., 0., 0., 0., 0., 0., 0., 0., 0., 0., 0.,\n",
       "                      0., 0., 0., 0., 0., 0., 0., 0., 0., 0., 0., 0., 0., 0., 0., 0.],\n",
       "                     device='cuda:0')),\n",
       "             ('1.mab1.fc_o.weight',\n",
       "              tensor([[-0.0081,  0.0022,  0.0616,  ...,  0.1029, -0.1094, -0.1124],\n",
       "                      [ 0.1096,  0.1127,  0.0142,  ...,  0.0703, -0.0229,  0.0341],\n",
       "                      [ 0.0013,  0.0374, -0.0312,  ...,  0.0590, -0.0515, -0.0952],\n",
       "                      ...,\n",
       "                      [ 0.0497, -0.0172,  0.0128,  ..., -0.0031, -0.1066,  0.0915],\n",
       "                      [-0.0758,  0.0053,  0.1121,  ..., -0.1132,  0.1127, -0.0467],\n",
       "                      [-0.0897, -0.0070,  0.0644,  ...,  0.1141, -0.0090, -0.0507]],\n",
       "                     device='cuda:0')),\n",
       "             ('1.mab1.fc_o.bias',\n",
       "              tensor([ 0.0644, -0.0663,  0.0605, -0.1222,  0.0685,  0.0354, -0.0026, -0.0347,\n",
       "                       0.1225,  0.0778, -0.1009, -0.0691, -0.0158,  0.1075,  0.0458, -0.0428,\n",
       "                      -0.0674,  0.0686, -0.0227, -0.1161, -0.0825,  0.0292, -0.0472,  0.1224,\n",
       "                       0.0465, -0.1170,  0.0374,  0.0945, -0.0071, -0.0419,  0.0158, -0.1091,\n",
       "                       0.0408, -0.1043,  0.0960, -0.0098, -0.1058, -0.0467,  0.1243, -0.0645,\n",
       "                      -0.0811, -0.0425, -0.0305,  0.1052,  0.0949,  0.0125, -0.1020, -0.0661,\n",
       "                      -0.0741, -0.0300,  0.0355, -0.1142, -0.0699, -0.0551, -0.1089, -0.0853,\n",
       "                       0.0652,  0.0200,  0.1045, -0.0928,  0.1157,  0.0584, -0.1222,  0.0021],\n",
       "                     device='cuda:0'))])"
      ]
     },
     "execution_count": 16,
     "metadata": {},
     "output_type": "execute_result"
    }
   ],
   "source": [
    "model.para_enc.state_dict()"
   ]
  },
  {
   "cell_type": "code",
   "execution_count": 15,
   "id": "75d06e2c",
   "metadata": {},
   "outputs": [
    {
     "data": {
      "text/plain": [
       "OrderedDict([('0.I',\n",
       "              tensor([[[-0.0114,  0.0335, -0.0624,  ...,  0.0193, -0.0011,  0.0038],\n",
       "                       [ 0.0220,  0.0014, -0.0072,  ..., -0.0038, -0.0426,  0.0316],\n",
       "                       [ 0.0457, -0.0470,  0.0204,  ..., -0.0299,  0.0468,  0.0044],\n",
       "                       ...,\n",
       "                       [-0.0210,  0.0134, -0.0361,  ...,  0.0508,  0.0081,  0.0217],\n",
       "                       [-0.0306,  0.0468, -0.0245,  ...,  0.0155, -0.0160,  0.0241],\n",
       "                       [ 0.0014,  0.0466, -0.0323,  ...,  0.0299,  0.0041,  0.0208]]],\n",
       "                     device='cuda:0')),\n",
       "             ('0.mab0.fc_q.weight',\n",
       "              tensor([[-0.0192,  0.0950,  0.0449,  ...,  0.1093, -0.0191,  0.1054],\n",
       "                      [ 0.1454, -0.0029,  0.0148,  ..., -0.1392, -0.0912, -0.0373],\n",
       "                      [ 0.0625,  0.0872, -0.0589,  ..., -0.0184,  0.1340,  0.1490],\n",
       "                      ...,\n",
       "                      [ 0.0746, -0.1959, -0.0861,  ..., -0.1026,  0.0695,  0.0663],\n",
       "                      [-0.1011,  0.1319, -0.1169,  ...,  0.1643,  0.0733, -0.0921],\n",
       "                      [-0.0972, -0.0124,  0.1077,  ..., -0.1214,  0.0382, -0.0762]],\n",
       "                     device='cuda:0')),\n",
       "             ('0.mab0.fc_q.bias',\n",
       "              tensor([ 0.0859, -0.0902, -0.0633,  0.0933,  0.0128, -0.0124, -0.0244, -0.0021,\n",
       "                      -0.0511, -0.0105,  0.1098,  0.0399,  0.0797, -0.1155,  0.0731, -0.0786,\n",
       "                       0.0696,  0.0763, -0.0728,  0.0928,  0.0088,  0.0361,  0.0422, -0.1286,\n",
       "                       0.1116,  0.0016, -0.0625, -0.0466,  0.0552, -0.0642,  0.0436,  0.0932,\n",
       "                       0.0508, -0.0747,  0.0534,  0.0500,  0.0967, -0.0831,  0.0349,  0.0904,\n",
       "                       0.0792, -0.0678, -0.0633, -0.0673, -0.0848,  0.0002, -0.0894,  0.0192,\n",
       "                       0.0505,  0.1294,  0.0255,  0.0647, -0.1167, -0.0027, -0.1292,  0.0451,\n",
       "                       0.1121,  0.0814, -0.1249, -0.1343,  0.0283,  0.1118,  0.0114, -0.0592],\n",
       "                     device='cuda:0')),\n",
       "             ('0.mab0.fc_k.weight',\n",
       "              tensor([[ 0.1648, -0.0266,  0.0713,  ...,  0.1594,  0.0848, -0.0520],\n",
       "                      [-0.0321,  0.1323,  0.0392,  ...,  0.0197, -0.0160, -0.2261],\n",
       "                      [ 0.1610,  0.0689, -0.1078,  ...,  0.0811, -0.1162,  0.0011],\n",
       "                      ...,\n",
       "                      [-0.1112,  0.1411,  0.0558,  ..., -0.0949, -0.1703, -0.0503],\n",
       "                      [-0.0830, -0.0011,  0.0258,  ..., -0.0425, -0.0478, -0.1616],\n",
       "                      [ 0.1136, -0.0083,  0.2172,  ..., -0.0656,  0.0455,  0.1970]],\n",
       "                     device='cuda:0')),\n",
       "             ('0.mab0.fc_k.bias',\n",
       "              tensor([ 0.1035,  0.0207,  0.1531, -0.0432,  0.0128,  0.1284, -0.1554, -0.0886,\n",
       "                      -0.1272, -0.1601, -0.1344,  0.1149,  0.1196, -0.1206, -0.0234,  0.0965,\n",
       "                      -0.0665, -0.0819, -0.1623,  0.0315, -0.1618,  0.1310,  0.0831, -0.0794,\n",
       "                      -0.0272,  0.0078, -0.1281, -0.1267, -0.0025,  0.1535, -0.1741,  0.1044,\n",
       "                      -0.1402,  0.1435,  0.1117,  0.1090, -0.0513,  0.1110, -0.0086, -0.0006,\n",
       "                       0.0129, -0.1766,  0.0103,  0.0566,  0.1404, -0.1009,  0.1147, -0.1501,\n",
       "                      -0.0187,  0.1607,  0.0670, -0.0807,  0.0209,  0.0154,  0.0086, -0.1132,\n",
       "                       0.0980, -0.0808, -0.1310, -0.1283, -0.0494,  0.1302, -0.0554,  0.1037],\n",
       "                     device='cuda:0')),\n",
       "             ('0.mab0.fc_v.weight',\n",
       "              tensor([[-0.1426,  0.1232, -0.1405,  ..., -0.0409, -0.1310,  0.0652],\n",
       "                      [ 0.1339, -0.0263,  0.1049,  ..., -0.0221, -0.1034, -0.1469],\n",
       "                      [ 0.0315,  0.1144, -0.0586,  ...,  0.1325,  0.0132,  0.0171],\n",
       "                      ...,\n",
       "                      [ 0.1318,  0.0058, -0.3446,  ...,  0.0860,  0.0793,  0.3896],\n",
       "                      [-0.0438,  0.1158,  0.0004,  ..., -0.1257, -0.0376, -0.0969],\n",
       "                      [ 0.0359, -0.0647,  0.1267,  ...,  0.1032,  0.1119,  0.0835]],\n",
       "                     device='cuda:0')),\n",
       "             ('0.mab0.fc_v.bias',\n",
       "              tensor([ 5.7443e-03,  6.0609e-02,  1.1595e-01, -1.2322e-01,  1.5797e-01,\n",
       "                       4.7442e-02, -4.5591e-02,  1.1166e-01, -5.1894e-02, -1.4533e-01,\n",
       "                      -8.2701e-02,  7.5444e-02, -3.8739e-02,  3.1860e-03,  6.5587e-02,\n",
       "                      -1.5117e-01, -8.6618e-02, -5.5181e-02,  5.8902e-02,  9.1435e-02,\n",
       "                      -1.2072e-01, -7.1858e-02, -1.1979e-02,  3.0916e-02, -5.7280e-02,\n",
       "                      -1.6261e-04, -1.8169e-01,  1.1059e-01, -1.4174e-01,  1.1474e-01,\n",
       "                       5.9569e-02,  2.8726e-02, -1.5104e-01, -7.1892e-02, -4.0419e-02,\n",
       "                       1.3691e-01, -1.2953e-01,  1.1235e-01, -4.2796e-02,  1.0098e-01,\n",
       "                      -4.3744e-03, -7.6928e-02,  1.5813e-01, -1.7326e-01, -5.3925e-02,\n",
       "                      -8.7789e-02, -1.8161e-01,  5.9576e-03,  7.0387e-02, -8.8396e-02,\n",
       "                       1.5770e-01, -1.5866e-01, -1.1985e-01,  9.5808e-02,  1.3115e-01,\n",
       "                       7.1394e-03,  6.9089e-02,  1.5823e-02, -9.1771e-02, -3.7689e-02,\n",
       "                       1.5203e-01, -6.0860e-02, -1.9416e-02,  1.1329e-01], device='cuda:0')),\n",
       "             ('0.mab0.ln0.weight',\n",
       "              tensor([1.0342, 1.0200, 0.9996, 1.0200, 1.0811, 0.9154, 0.9920, 1.0235, 0.9849,\n",
       "                      0.9889, 1.1055, 0.9995, 1.0013, 1.0107, 0.9989, 0.9979, 0.9828, 1.0020,\n",
       "                      0.9929, 0.9934, 1.0870, 1.0081, 1.0401, 0.9939, 1.0023, 0.9969, 1.0229,\n",
       "                      1.0178, 1.0194, 1.0517, 1.0030, 0.9945, 1.0292, 1.0034, 1.0465, 1.0019,\n",
       "                      1.0753, 0.9838, 1.0565, 0.9891, 1.0045, 1.0222, 1.0356, 1.0068, 1.0051,\n",
       "                      1.0018, 0.9889, 1.0204, 0.9883, 1.0423, 1.1023, 0.9992, 1.0116, 1.0164,\n",
       "                      1.0015, 0.9760, 1.0130, 0.9966, 1.0640, 1.0503, 0.9801, 1.0421, 1.0053,\n",
       "                      1.0218], device='cuda:0')),\n",
       "             ('0.mab0.ln0.bias',\n",
       "              tensor([ 4.6590e-03, -7.9732e-03,  9.1123e-03,  1.3022e-02,  4.3599e-03,\n",
       "                       3.6973e-03,  3.4659e-03, -6.9381e-03,  1.8512e-02,  1.0207e-02,\n",
       "                       2.2708e-03,  7.3256e-03,  7.0586e-03, -5.0725e-03, -3.2767e-03,\n",
       "                       6.9192e-03, -1.4342e-02, -8.5509e-04,  1.0346e-02,  1.2211e-02,\n",
       "                      -1.7648e-03,  5.6759e-03,  2.4114e-03, -7.4807e-03,  5.2483e-03,\n",
       "                       1.0442e-02, -2.4523e-03,  4.3987e-03,  1.0428e-03,  3.3088e-03,\n",
       "                      -1.5514e-02, -6.1497e-03,  6.3465e-03,  8.0961e-03, -1.1873e-02,\n",
       "                      -7.5602e-03, -1.9333e-03, -1.8910e-02,  8.0862e-05, -1.5806e-02,\n",
       "                       9.6541e-03,  3.6259e-03, -2.3694e-03, -1.4641e-02, -1.1222e-02,\n",
       "                      -7.0188e-03, -1.3394e-02, -2.6286e-03, -1.1885e-02,  5.9019e-04,\n",
       "                      -3.5850e-04,  1.0128e-03, -1.2950e-02, -1.5732e-02, -6.1452e-03,\n",
       "                       1.1137e-02, -1.6957e-02, -4.9528e-03,  3.1605e-03, -2.2809e-03,\n",
       "                       8.7236e-03,  9.3477e-03, -4.2479e-03,  4.2527e-03], device='cuda:0')),\n",
       "             ('0.mab0.ln1.weight',\n",
       "              tensor([1.0799, 1.0653, 0.9976, 1.0131, 1.0561, 0.9649, 0.9766, 0.9974, 0.9883,\n",
       "                      0.9892, 1.1312, 0.9937, 0.9984, 1.1248, 0.9991, 1.0039, 0.9865, 1.0203,\n",
       "                      0.9962, 0.9956, 1.0465, 1.1421, 1.1656, 0.9977, 1.0092, 1.0278, 1.0858,\n",
       "                      0.9841, 1.0515, 1.0152, 1.0065, 0.9970, 1.0141, 1.0159, 1.0372, 1.0117,\n",
       "                      1.0834, 0.9924, 1.0046, 0.9901, 1.0520, 1.0077, 1.0775, 0.9787, 1.0020,\n",
       "                      1.0008, 0.9825, 1.1666, 0.9903, 1.0602, 1.1496, 1.0016, 1.0334, 1.0472,\n",
       "                      1.0002, 0.9749, 1.0226, 0.9992, 1.0165, 0.9960, 0.9925, 1.0232, 1.0006,\n",
       "                      1.0078], device='cuda:0')),\n",
       "             ('0.mab0.ln1.bias',\n",
       "              tensor([ 3.8563e-03, -1.2142e-03,  1.0585e-02,  1.3192e-02,  1.1420e-02,\n",
       "                       1.5235e-02,  1.0678e-02, -1.0780e-02,  1.6056e-02,  5.6259e-03,\n",
       "                       3.2463e-03,  1.5233e-02,  1.3127e-02, -4.1693e-03, -3.2079e-03,\n",
       "                       1.3000e-03, -1.7135e-02,  2.2483e-03,  5.8389e-03,  7.1677e-03,\n",
       "                       3.1147e-06,  2.2155e-03,  5.7757e-04, -8.0624e-03,  2.9996e-03,\n",
       "                       1.0242e-02, -2.0547e-03,  5.5230e-03, -4.8123e-04,  9.3192e-03,\n",
       "                      -1.4397e-02, -5.0124e-03,  5.6622e-03,  1.2958e-02, -9.1401e-03,\n",
       "                      -2.0231e-03,  4.7097e-04, -1.7893e-02, -4.2511e-04, -1.4914e-02,\n",
       "                       3.3609e-03,  2.8650e-03, -2.2691e-03, -7.3524e-03, -1.2949e-02,\n",
       "                      -1.4719e-02, -1.8782e-02,  1.2579e-03, -1.2290e-02,  2.6139e-03,\n",
       "                       3.5378e-03, -1.0015e-03, -1.3519e-02, -1.5637e-02, -4.7193e-03,\n",
       "                       4.8820e-03, -2.0165e-02, -5.5873e-03,  1.5605e-03, -8.2079e-03,\n",
       "                       1.2926e-02,  2.0443e-02,  5.3875e-04,  7.5058e-03], device='cuda:0')),\n",
       "             ('0.mab0.fc_o.weight',\n",
       "              tensor([[ 0.1090,  0.0203,  0.0853,  ...,  0.0110,  0.0469, -0.0772],\n",
       "                      [-0.0693, -0.0460, -0.0702,  ..., -0.0281, -0.0504, -0.2064],\n",
       "                      [-0.0301,  0.0245,  0.2017,  ...,  0.0387, -0.0667, -0.0868],\n",
       "                      ...,\n",
       "                      [ 0.0393,  0.0319,  0.0720,  ..., -0.0494, -0.0256,  0.0575],\n",
       "                      [ 0.1357, -0.0276, -0.0663,  ..., -0.1515, -0.0742, -0.0473],\n",
       "                      [ 0.0289,  0.0194,  0.0925,  ...,  0.0642,  0.0368,  0.1644]],\n",
       "                     device='cuda:0')),\n",
       "             ('0.mab0.fc_o.bias',\n",
       "              tensor([ 0.0549, -0.0629,  0.0435,  0.0573,  0.0947, -0.0916,  0.0007, -0.0372,\n",
       "                      -0.0206, -0.0666,  0.1133,  0.0519, -0.0341,  0.0983, -0.0615,  0.0341,\n",
       "                       0.0791, -0.0592, -0.0776, -0.0608,  0.1039,  0.1102, -0.0717, -0.1045,\n",
       "                      -0.1074,  0.0765, -0.0004, -0.1121, -0.1383, -0.1223, -0.1120, -0.0875,\n",
       "                      -0.0064,  0.0521,  0.0799, -0.0694,  0.0902,  0.0381,  0.0656,  0.0663,\n",
       "                       0.0534, -0.0722,  0.1029,  0.1134,  0.1150, -0.0452, -0.0467,  0.0074,\n",
       "                      -0.0290,  0.0549,  0.1225, -0.0117, -0.0413,  0.0535,  0.0920,  0.0081,\n",
       "                       0.0270,  0.0539, -0.0833,  0.0437,  0.0809, -0.1480,  0.0131, -0.0046],\n",
       "                     device='cuda:0')),\n",
       "             ('0.mab1.fc_q.weight',\n",
       "              tensor([[-0.0401,  0.0583, -0.0198,  ..., -0.0353, -0.0251,  0.1776],\n",
       "                      [-0.0973,  0.0619,  0.1451,  ..., -0.0855,  0.0631, -0.0749],\n",
       "                      [-0.1188, -0.0211,  0.0233,  ..., -0.0321,  0.0276, -0.0118],\n",
       "                      ...,\n",
       "                      [-0.1111, -0.0620, -0.1565,  ...,  0.1604,  0.1414,  0.0576],\n",
       "                      [-0.0710,  0.1608, -0.0322,  ..., -0.1283,  0.0631, -0.0910],\n",
       "                      [-0.0591, -0.1619, -0.0681,  ...,  0.1485, -0.1695,  0.1937]],\n",
       "                     device='cuda:0')),\n",
       "             ('0.mab1.fc_q.bias',\n",
       "              tensor([ 0.0735, -0.1044, -0.1217,  0.0771, -0.0863, -0.0553,  0.0673,  0.1073,\n",
       "                       0.0990,  0.1412,  0.0504, -0.1650,  0.1070,  0.1192,  0.1336, -0.0368,\n",
       "                       0.0669, -0.1236,  0.0558,  0.1655, -0.0206,  0.1571, -0.0722, -0.1034,\n",
       "                      -0.1218,  0.0455,  0.0739,  0.0384,  0.0285,  0.1262, -0.0387,  0.0519,\n",
       "                      -0.1039,  0.0261, -0.1666,  0.0493,  0.0783,  0.0608, -0.1047, -0.0953,\n",
       "                       0.0597,  0.1167,  0.0056, -0.1148, -0.0652, -0.0426,  0.0817, -0.0587,\n",
       "                       0.0016,  0.1028, -0.0597, -0.1178, -0.1081,  0.1722,  0.0822,  0.0055,\n",
       "                      -0.0215,  0.0403,  0.0741,  0.0011, -0.0884,  0.0209, -0.0478, -0.0834],\n",
       "                     device='cuda:0')),\n",
       "             ('0.mab1.fc_k.weight',\n",
       "              tensor([[ 0.0430,  0.0326,  0.0031,  ..., -0.0324, -0.1526,  0.1148],\n",
       "                      [-0.0299,  0.0439,  0.0033,  ..., -0.1476,  0.0961,  0.0314],\n",
       "                      [-0.0328, -0.0234,  0.0725,  ...,  0.1267,  0.0717,  0.0020],\n",
       "                      ...,\n",
       "                      [ 0.0840,  0.1003,  0.2055,  ...,  0.1737, -0.1664,  0.1134],\n",
       "                      [-0.0199,  0.1494,  0.0930,  ...,  0.0146, -0.0797, -0.0070],\n",
       "                      [ 0.1603,  0.1381,  0.0424,  ...,  0.0810, -0.1770,  0.1275]],\n",
       "                     device='cuda:0')),\n",
       "             ('0.mab1.fc_k.bias',\n",
       "              tensor([-0.1214,  0.0926,  0.0069,  0.0334,  0.0256, -0.0217,  0.0329, -0.0862,\n",
       "                      -0.0043,  0.0057,  0.0459, -0.0449, -0.1108,  0.0909, -0.0337, -0.0011,\n",
       "                      -0.0504, -0.0505,  0.1141, -0.0485,  0.0886,  0.0740,  0.1085,  0.0098,\n",
       "                      -0.0267,  0.0077, -0.0990,  0.0498, -0.0752,  0.0309,  0.0403, -0.0757,\n",
       "                      -0.0704, -0.0232, -0.0507,  0.0034, -0.0702,  0.0420, -0.1144,  0.0081,\n",
       "                       0.0484, -0.0660,  0.0039, -0.1203, -0.0110, -0.0451,  0.0154, -0.0860,\n",
       "                       0.0815,  0.1012, -0.0814,  0.0114, -0.0502,  0.1123,  0.1137, -0.1236,\n",
       "                       0.1196, -0.0133,  0.0977,  0.0857,  0.0747, -0.0501, -0.1222,  0.0421],\n",
       "                     device='cuda:0')),\n",
       "             ('0.mab1.fc_v.weight',\n",
       "              tensor([[ 0.0411, -0.0673,  0.1090,  ...,  0.1491, -0.0771,  0.0448],\n",
       "                      [-0.0341, -0.0918,  0.1055,  ..., -0.0269,  0.0075,  0.0488],\n",
       "                      [ 0.0711,  0.0966, -0.0475,  ...,  0.0174, -0.0848,  0.0648],\n",
       "                      ...,\n",
       "                      [ 0.0867, -0.0080, -0.0770,  ..., -0.0344, -0.0728,  0.0411],\n",
       "                      [ 0.0436,  0.0516,  0.0218,  ...,  0.0221,  0.0758,  0.0165],\n",
       "                      [-0.0738,  0.0238, -0.0156,  ...,  0.1199,  0.0397,  0.0734]],\n",
       "                     device='cuda:0')),\n",
       "             ('0.mab1.fc_v.bias',\n",
       "              tensor([ 0.0782,  0.0650,  0.0265, -0.0456,  0.0552,  0.0501, -0.0185, -0.1160,\n",
       "                       0.0102,  0.0170, -0.0650, -0.1258,  0.1299,  0.0146,  0.0909, -0.0547,\n",
       "                      -0.0490,  0.0079,  0.0959,  0.1089,  0.0047,  0.0996, -0.0669, -0.1064,\n",
       "                       0.0010,  0.0619,  0.1147,  0.0008, -0.1198,  0.0411, -0.0097,  0.0392,\n",
       "                      -0.0729, -0.1003, -0.0364,  0.0997,  0.0486,  0.0543, -0.0774,  0.0532,\n",
       "                       0.0585,  0.0966,  0.0523, -0.0982,  0.0399, -0.0036, -0.0003,  0.0868,\n",
       "                       0.0893,  0.0784, -0.0373,  0.0120,  0.1166, -0.0166, -0.0447,  0.0919,\n",
       "                      -0.0738, -0.0211, -0.0985, -0.0930,  0.1036,  0.0787, -0.1070,  0.0119],\n",
       "                     device='cuda:0')),\n",
       "             ('0.mab1.ln0.weight',\n",
       "              tensor([0.9869, 0.9990, 1.0060, 0.9927, 0.9882, 1.0152, 0.9897, 1.0096, 1.0459,\n",
       "                      0.9907, 1.0301, 1.0181, 1.0063, 1.0102, 0.9983, 1.0018, 0.9887, 0.9969,\n",
       "                      1.0084, 1.0073, 1.0076, 1.0563, 0.9986, 0.9970, 0.9860, 0.9959, 0.9951,\n",
       "                      1.0071, 0.9961, 1.0054, 1.0026, 1.0050, 0.9917, 0.9999, 0.9914, 1.0011,\n",
       "                      1.0087, 1.0176, 0.9916, 1.0177, 1.0010, 1.0002, 0.9951, 0.9837, 1.0307,\n",
       "                      1.0076, 1.0154, 1.0080, 0.9737, 0.9969, 0.9891, 0.9930, 0.9824, 1.0216,\n",
       "                      1.0051, 1.0710, 1.0133, 0.9929, 0.9883, 1.0035, 0.9921, 1.0027, 0.9865,\n",
       "                      1.0138], device='cuda:0')),\n",
       "             ('0.mab1.ln0.bias',\n",
       "              tensor([ 0.0055,  0.0016, -0.0108,  0.0033,  0.0131,  0.0008, -0.0042, -0.0174,\n",
       "                       0.0028, -0.0061, -0.0053, -0.0039,  0.0012, -0.0046,  0.0069, -0.0047,\n",
       "                      -0.0073,  0.0009, -0.0080,  0.0026,  0.0059, -0.0030, -0.0141, -0.0027,\n",
       "                      -0.0015,  0.0088, -0.0012, -0.0079,  0.0052,  0.0001, -0.0022, -0.0047,\n",
       "                       0.0006,  0.0070, -0.0025,  0.0014, -0.0084, -0.0028, -0.0075,  0.0055,\n",
       "                      -0.0014,  0.0090, -0.0006,  0.0141,  0.0085,  0.0043, -0.0006,  0.0037,\n",
       "                      -0.0079, -0.0035,  0.0151, -0.0008, -0.0046,  0.0001,  0.0064,  0.0036,\n",
       "                       0.0015, -0.0003, -0.0051, -0.0018,  0.0027, -0.0001, -0.0037,  0.0029],\n",
       "                     device='cuda:0')),\n",
       "             ('0.mab1.ln1.weight',\n",
       "              tensor([0.9879, 1.0047, 1.0186, 1.0225, 0.9910, 1.0772, 0.9844, 0.9950, 1.0783,\n",
       "                      0.9905, 1.0149, 1.0486, 1.0047, 0.9956, 0.9907, 0.9912, 0.9972, 1.0155,\n",
       "                      1.0146, 0.9957, 0.9998, 1.0228, 1.0281, 0.9853, 1.0309, 1.0013, 0.9614,\n",
       "                      0.9892, 0.9899, 1.0439, 0.9927, 1.0186, 0.9691, 1.0015, 1.0025, 1.0041,\n",
       "                      1.0274, 1.0304, 0.9920, 1.0291, 1.0067, 0.9534, 0.9887, 0.9884, 1.0636,\n",
       "                      1.0210, 0.9901, 1.0188, 1.0121, 0.9918, 0.9852, 0.9615, 1.0036, 1.0436,\n",
       "                      0.9919, 1.0199, 1.0346, 0.9822, 0.9881, 1.0054, 0.9916, 1.0055, 1.0094,\n",
       "                      1.0040], device='cuda:0')),\n",
       "             ('0.mab1.ln1.bias',\n",
       "              tensor([-6.0572e-03,  3.5162e-04, -7.7145e-03, -2.1684e-04,  1.1818e-02,\n",
       "                       1.2278e-03, -1.0872e-02, -3.7286e-03, -2.2194e-03, -1.7530e-02,\n",
       "                      -8.1980e-03, -9.8710e-03, -5.2494e-03, -4.3700e-03,  1.2641e-02,\n",
       "                      -1.1813e-02, -9.1940e-03,  3.8040e-03, -1.0140e-02,  2.4404e-03,\n",
       "                       1.0589e-02, -9.1247e-03, -1.4300e-02,  2.9625e-03, -9.5788e-04,\n",
       "                      -2.6740e-03,  1.7206e-03, -1.2358e-02,  5.9263e-03, -2.3986e-03,\n",
       "                       7.2626e-04, -9.1978e-03,  1.2356e-02,  9.2947e-03, -5.9157e-03,\n",
       "                       2.9947e-03, -5.4629e-03, -8.3216e-03, -1.8001e-02,  2.3020e-03,\n",
       "                      -8.5243e-03, -6.7839e-04, -7.2653e-03,  1.5943e-02,  4.1817e-03,\n",
       "                       7.1299e-03, -8.4903e-03,  8.9605e-03, -9.2514e-04, -4.9368e-03,\n",
       "                       9.0071e-03, -1.6500e-02,  2.5455e-03, -1.0422e-02,  1.0413e-02,\n",
       "                      -2.7051e-03,  8.0093e-03,  7.2254e-03, -6.6717e-03,  5.9540e-03,\n",
       "                       8.4642e-03, -3.2416e-03,  3.2012e-05, -6.1878e-03], device='cuda:0')),\n",
       "             ('0.mab1.fc_o.weight',\n",
       "              tensor([[ 0.0973, -0.0005, -0.1170,  ...,  0.0338, -0.0130, -0.1121],\n",
       "                      [ 0.0474,  0.0939, -0.0891,  ..., -0.1369,  0.0170,  0.0776],\n",
       "                      [ 0.0317,  0.0981,  0.0970,  ..., -0.0806, -0.0918,  0.1097],\n",
       "                      ...,\n",
       "                      [ 0.0070,  0.1537,  0.1052,  ...,  0.0592, -0.1427,  0.0086],\n",
       "                      [-0.0438,  0.0364,  0.0154,  ...,  0.0468,  0.0544,  0.1319],\n",
       "                      [-0.0922, -0.1031, -0.0396,  ..., -0.0483, -0.1150,  0.0101]],\n",
       "                     device='cuda:0')),\n",
       "             ('0.mab1.fc_o.bias',\n",
       "              tensor([ 0.0069, -0.1254,  0.1022,  0.0340, -0.0700, -0.0303, -0.0253, -0.0585,\n",
       "                       0.1079, -0.0334, -0.0176, -0.0131,  0.0440, -0.0628,  0.0580,  0.1125,\n",
       "                      -0.0789, -0.0229,  0.0604,  0.0596,  0.0327, -0.0044, -0.0027,  0.1252,\n",
       "                      -0.1087, -0.0912, -0.0234,  0.0815, -0.0357,  0.1018,  0.0271,  0.0342,\n",
       "                      -0.1154,  0.0709,  0.0246,  0.0296, -0.0633,  0.1076, -0.0992,  0.0550,\n",
       "                       0.1053, -0.0590, -0.0407,  0.0132,  0.1245, -0.0063,  0.0751,  0.0263,\n",
       "                       0.0302,  0.1108,  0.0659, -0.0619,  0.0010, -0.0913,  0.0249,  0.0110,\n",
       "                       0.0856, -0.0148, -0.0832, -0.0248, -0.0790, -0.0923,  0.0843, -0.1062],\n",
       "                     device='cuda:0')),\n",
       "             ('1.I',\n",
       "              tensor([[[-0.0166,  0.0019, -0.0076,  ...,  0.0226, -0.0116, -0.0112],\n",
       "                       [-0.0216,  0.0264, -0.0098,  ...,  0.0276, -0.0079,  0.0048],\n",
       "                       [ 0.0134,  0.0030, -0.0652,  ..., -0.0042, -0.0010, -0.0948],\n",
       "                       ...,\n",
       "                       [ 0.0127,  0.0019, -0.0329,  ...,  0.0189, -0.0258, -0.0089],\n",
       "                       [-0.0090,  0.0398,  0.0074,  ...,  0.0211,  0.0027, -0.0228],\n",
       "                       [-0.0135,  0.0203, -0.0374,  ...,  0.0061,  0.0161, -0.0146]]],\n",
       "                     device='cuda:0')),\n",
       "             ('1.mab0.fc_q.weight',\n",
       "              tensor([[-0.0313, -0.0753, -0.1657,  ..., -0.1674,  0.0740, -0.0340],\n",
       "                      [-0.1568,  0.2575, -0.0263,  ...,  0.3129, -0.1815, -0.0870],\n",
       "                      [-0.0785,  0.1464,  0.2559,  ...,  0.1827, -0.1714,  0.0674],\n",
       "                      ...,\n",
       "                      [ 0.0075, -0.0920, -0.0554,  ..., -0.1336,  0.0270, -0.1928],\n",
       "                      [ 0.0706,  0.1928, -0.2057,  ...,  0.2007, -0.0573,  0.0362],\n",
       "                      [ 0.0273, -0.0852,  0.0887,  ..., -0.1524,  0.1253, -0.0134]],\n",
       "                     device='cuda:0')),\n",
       "             ('1.mab0.fc_q.bias',\n",
       "              tensor([-0.1125,  0.0716, -0.0101, -0.1282,  0.1077, -0.0520,  0.0107,  0.0936,\n",
       "                      -0.0906,  0.0721, -0.0974, -0.0543, -0.1028, -0.0101, -0.0179, -0.0446,\n",
       "                       0.0091,  0.0741,  0.0559,  0.0385,  0.0230,  0.1063,  0.0230, -0.0508,\n",
       "                      -0.0517, -0.1196,  0.0952,  0.0386, -0.0748, -0.0718, -0.0017,  0.0960,\n",
       "                      -0.0999, -0.0463, -0.0732,  0.0361, -0.0857, -0.1087, -0.0793,  0.0948,\n",
       "                       0.1184,  0.0753,  0.0412, -0.0588, -0.0584,  0.0725,  0.1239, -0.0917,\n",
       "                      -0.0404,  0.0338, -0.0264,  0.0607, -0.0938,  0.0399, -0.0487, -0.0299,\n",
       "                       0.0037, -0.0711,  0.0770, -0.0386,  0.0553, -0.0184,  0.0863,  0.0928],\n",
       "                     device='cuda:0')),\n",
       "             ('1.mab0.fc_k.weight',\n",
       "              tensor([[ 0.0440, -0.0365,  0.1148,  ...,  0.0588,  0.0876,  0.0020],\n",
       "                      [ 0.0149, -0.0163,  0.0998,  ..., -0.0409, -0.0118,  0.1038],\n",
       "                      [ 0.1735, -0.0047,  0.2080,  ...,  0.0659,  0.1234, -0.0672],\n",
       "                      ...,\n",
       "                      [ 0.0615,  0.0021,  0.1101,  ..., -0.1307, -0.0293,  0.0206],\n",
       "                      [ 0.0011, -0.0119, -0.0131,  ..., -0.1289,  0.0639,  0.0929],\n",
       "                      [ 0.0944,  0.0252,  0.0520,  ..., -0.0070, -0.0552,  0.0988]],\n",
       "                     device='cuda:0')),\n",
       "             ('1.mab0.fc_k.bias',\n",
       "              tensor([ 0.0325,  0.0974, -0.0972,  0.0243,  0.1237, -0.0653,  0.0683, -0.0768,\n",
       "                      -0.0626,  0.1146, -0.0567,  0.0329, -0.0982,  0.1146, -0.0501,  0.1114,\n",
       "                       0.0609, -0.0978,  0.1099, -0.1209,  0.1025, -0.0738,  0.0600, -0.0291,\n",
       "                      -0.1038,  0.0468,  0.0846,  0.0392, -0.0802,  0.1165,  0.0382, -0.0521,\n",
       "                       0.1087, -0.1156,  0.0975, -0.0568, -0.0763, -0.0897,  0.0038, -0.0727,\n",
       "                      -0.0264,  0.0561, -0.0007,  0.0381,  0.1219, -0.0164,  0.0437, -0.1056,\n",
       "                       0.1230,  0.0072, -0.0188,  0.0024, -0.1011, -0.0748, -0.0583, -0.0749,\n",
       "                      -0.0444,  0.1245, -0.0218, -0.0980,  0.0978,  0.0162,  0.0989,  0.0097],\n",
       "                     device='cuda:0')),\n",
       "             ('1.mab0.fc_v.weight',\n",
       "              tensor([[ 0.1134,  0.0913,  0.0294,  ..., -0.0796,  0.0139, -0.0572],\n",
       "                      [ 0.0203, -0.0541,  0.0038,  ..., -0.0955, -0.0959, -0.0482],\n",
       "                      [-0.0517, -0.0100,  0.1374,  ...,  0.0461,  0.0702,  0.0770],\n",
       "                      ...,\n",
       "                      [ 0.1223, -0.1058,  0.0668,  ..., -0.0191,  0.0912,  0.0224],\n",
       "                      [ 0.0672,  0.0190,  0.0350,  ..., -0.0109, -0.0088, -0.0708],\n",
       "                      [ 0.0144, -0.0236, -0.0891,  ...,  0.0736, -0.0677,  0.0039]],\n",
       "                     device='cuda:0')),\n",
       "             ('1.mab0.fc_v.bias',\n",
       "              tensor([ 0.0163,  0.0799, -0.1246,  0.0353,  0.1202,  0.0081, -0.1229,  0.0360,\n",
       "                      -0.0016,  0.0772, -0.1015,  0.0805, -0.0127,  0.0847,  0.1112, -0.0679,\n",
       "                      -0.0601,  0.0554, -0.0285,  0.1296, -0.0655, -0.0898,  0.0749,  0.0648,\n",
       "                      -0.1033,  0.0003, -0.0864, -0.0371,  0.0259, -0.0878,  0.1187,  0.0581,\n",
       "                       0.0019,  0.0916,  0.0463,  0.0913,  0.0001,  0.0828,  0.0698,  0.0956,\n",
       "                       0.0957,  0.0116, -0.0559,  0.0363,  0.0243,  0.0474, -0.0655,  0.0117,\n",
       "                       0.0638, -0.0607, -0.0331,  0.0008, -0.0753,  0.0411,  0.0993,  0.0639,\n",
       "                      -0.0502, -0.0642, -0.0134, -0.1255, -0.1149, -0.1109,  0.0170, -0.0529],\n",
       "                     device='cuda:0')),\n",
       "             ('1.mab0.ln0.weight',\n",
       "              tensor([0.9513, 0.9960, 1.0951, 0.9966, 1.0503, 1.0190, 0.9940, 0.9861, 1.0141,\n",
       "                      1.0025, 1.0083, 0.9911, 0.9981, 1.0339, 0.9941, 1.0100, 1.0029, 1.0081,\n",
       "                      1.0201, 1.0296, 1.0897, 0.9621, 0.9883, 0.9968, 1.1159, 0.9883, 1.0201,\n",
       "                      0.9880, 0.9997, 0.9773, 1.0021, 1.0100, 0.9892, 1.0473, 0.9702, 0.9793,\n",
       "                      1.0017, 0.9984, 0.9888, 0.9659, 0.9771, 1.0421, 1.0335, 0.9938, 1.0005,\n",
       "                      1.0338, 1.0057, 0.9932, 0.9946, 1.0053, 1.0184, 1.0042, 1.0031, 1.0131,\n",
       "                      1.0048, 0.9834, 1.0290, 0.9970, 1.0390, 0.9843, 1.0067, 1.0419, 1.0220,\n",
       "                      0.9798], device='cuda:0')),\n",
       "             ('1.mab0.ln0.bias',\n",
       "              tensor([ 0.0090, -0.0170, -0.0017, -0.0129, -0.0007, -0.0076, -0.0034, -0.0172,\n",
       "                       0.0044, -0.0028,  0.0073,  0.0089, -0.0162,  0.0016,  0.0103, -0.0051,\n",
       "                       0.0032, -0.0066, -0.0016,  0.0022,  0.0018,  0.0080,  0.0002, -0.0157,\n",
       "                       0.0035,  0.0042,  0.0091, -0.0166,  0.0049,  0.0002,  0.0039, -0.0151,\n",
       "                       0.0090, -0.0090,  0.0093, -0.0016,  0.0039, -0.0072,  0.0159,  0.0044,\n",
       "                      -0.0010, -0.0067,  0.0055, -0.0116,  0.0017, -0.0095, -0.0016,  0.0055,\n",
       "                       0.0123,  0.0005, -0.0006, -0.0038,  0.0020, -0.0039,  0.0012,  0.0027,\n",
       "                      -0.0003, -0.0009,  0.0128, -0.0071, -0.0014, -0.0047,  0.0059,  0.0017],\n",
       "                     device='cuda:0')),\n",
       "             ('1.mab0.ln1.weight',\n",
       "              tensor([0.9812, 1.0922, 1.0154, 0.9847, 1.0503, 0.9856, 0.9921, 0.9981, 0.9999,\n",
       "                      0.9510, 0.9898, 0.9924, 0.9844, 1.0146, 0.9959, 1.0102, 1.0105, 0.9946,\n",
       "                      1.0865, 1.0057, 1.0119, 0.9956, 1.0044, 0.9891, 1.0257, 1.0055, 1.0057,\n",
       "                      0.9843, 1.0030, 0.9977, 1.0005, 1.0196, 1.0177, 1.0005, 0.9705, 0.9807,\n",
       "                      1.0619, 1.0461, 0.9861, 1.0687, 1.0028, 1.0196, 1.0741, 0.9950, 1.0169,\n",
       "                      1.0538, 0.9970, 1.0026, 1.0499, 1.1296, 0.9776, 0.9894, 0.9658, 0.9842,\n",
       "                      1.0441, 0.9897, 1.0358, 1.0879, 1.0850, 0.9980, 1.0114, 1.0959, 1.0427,\n",
       "                      0.9999], device='cuda:0')),\n",
       "             ('1.mab0.ln1.bias',\n",
       "              tensor([ 0.0089, -0.0162,  0.0036, -0.0038,  0.0006, -0.0091, -0.0040, -0.0114,\n",
       "                       0.0029,  0.0007,  0.0040,  0.0087, -0.0147,  0.0018,  0.0062, -0.0048,\n",
       "                       0.0095,  0.0051,  0.0081, -0.0013, -0.0019,  0.0058,  0.0043, -0.0142,\n",
       "                      -0.0002,  0.0096,  0.0061, -0.0138,  0.0040,  0.0016,  0.0106, -0.0135,\n",
       "                       0.0103, -0.0039,  0.0265, -0.0026,  0.0070, -0.0029,  0.0135,  0.0063,\n",
       "                       0.0036, -0.0026,  0.0114, -0.0005, -0.0017, -0.0091,  0.0030,  0.0116,\n",
       "                       0.0141,  0.0017,  0.0081,  0.0002,  0.0072, -0.0121, -0.0022,  0.0060,\n",
       "                       0.0137, -0.0054,  0.0099,  0.0022,  0.0043, -0.0088,  0.0021,  0.0017],\n",
       "                     device='cuda:0')),\n",
       "             ('1.mab0.fc_o.weight',\n",
       "              tensor([[-0.1629, -0.1739, -0.0745,  ..., -0.0913, -0.0098, -0.1273],\n",
       "                      [-0.0822, -0.0707,  0.0776,  ...,  0.4624, -0.1979, -0.0014],\n",
       "                      [ 0.0258, -0.0767,  0.1816,  ..., -0.1098,  0.0100,  0.0483],\n",
       "                      ...,\n",
       "                      [-0.0204, -0.0204,  0.1308,  ..., -0.1017, -0.1301, -0.1465],\n",
       "                      [ 0.1294, -0.0023,  0.1538,  ..., -0.0094,  0.0933,  0.0369],\n",
       "                      [ 0.0462, -0.0698, -0.0475,  ..., -0.0676, -0.0727, -0.1075]],\n",
       "                     device='cuda:0')),\n",
       "             ('1.mab0.fc_o.bias',\n",
       "              tensor([ 0.0027, -0.1417, -0.0170, -0.0994, -0.1128, -0.0042,  0.0803, -0.0610,\n",
       "                       0.0507, -0.0028,  0.0237,  0.0471,  0.1049, -0.0226,  0.0371,  0.0390,\n",
       "                      -0.0004,  0.0371, -0.0902, -0.0481,  0.0053,  0.0671, -0.0157,  0.0171,\n",
       "                      -0.0152,  0.0339, -0.0164,  0.0155, -0.0834,  0.0573, -0.0984, -0.0157,\n",
       "                      -0.0230, -0.0198, -0.1303,  0.0444,  0.0560, -0.0316, -0.0055, -0.0389,\n",
       "                      -0.1167, -0.0044, -0.0606, -0.0846, -0.0813, -0.0822,  0.0302,  0.0850,\n",
       "                      -0.1114, -0.1399, -0.0738, -0.0391,  0.0046, -0.0636, -0.0587,  0.0160,\n",
       "                      -0.0140, -0.1246, -0.0002, -0.0447, -0.0878,  0.0207, -0.0182, -0.0994],\n",
       "                     device='cuda:0')),\n",
       "             ('1.mab1.fc_q.weight',\n",
       "              tensor([[-0.1087, -0.0196,  0.0691,  ..., -0.0237, -0.0129,  0.0280],\n",
       "                      [-0.0941,  0.0354,  0.0400,  ..., -0.0685,  0.0747, -0.1080],\n",
       "                      [-0.0326, -0.0725,  0.0289,  ..., -0.1060, -0.0131, -0.1173],\n",
       "                      ...,\n",
       "                      [-0.0424,  0.0474, -0.0894,  ..., -0.1089, -0.0307,  0.0195],\n",
       "                      [ 0.0088, -0.0301, -0.0338,  ...,  0.0950,  0.0229, -0.0548],\n",
       "                      [ 0.0637, -0.1033, -0.0152,  ..., -0.0955, -0.0176, -0.0358]],\n",
       "                     device='cuda:0')),\n",
       "             ('1.mab1.fc_q.bias',\n",
       "              tensor([ 0.0230,  0.0568,  0.0379, -0.0880,  0.1087,  0.0252,  0.0111, -0.0176,\n",
       "                       0.1039, -0.0662,  0.0193,  0.1022,  0.0860, -0.0581,  0.0424, -0.0532,\n",
       "                       0.0038, -0.1015, -0.0563,  0.0113, -0.0669, -0.0735, -0.0958,  0.0855,\n",
       "                      -0.0905, -0.0634,  0.0288,  0.1243, -0.0923, -0.0637, -0.0525,  0.0312,\n",
       "                      -0.0273,  0.1001,  0.0878,  0.0086,  0.0005,  0.0651, -0.0323,  0.1127,\n",
       "                       0.0188,  0.0815, -0.0223,  0.0942, -0.0907, -0.1155,  0.0801,  0.1230,\n",
       "                      -0.1092,  0.0797,  0.1030, -0.1035,  0.0217,  0.0991, -0.0643, -0.1175,\n",
       "                       0.0579,  0.1105, -0.1279, -0.0510, -0.1257,  0.0986,  0.0574,  0.0848],\n",
       "                     device='cuda:0')),\n",
       "             ('1.mab1.fc_k.weight',\n",
       "              tensor([[ 0.1035, -0.0544,  0.0035,  ..., -0.0940,  0.0051,  0.2199],\n",
       "                      [-0.0894, -0.0924,  0.0193,  ..., -0.0751,  0.0861,  0.1166],\n",
       "                      [ 0.1315,  0.1518,  0.1486,  ...,  0.0607, -0.0873, -0.0960],\n",
       "                      ...,\n",
       "                      [ 0.1016, -0.0339,  0.1286,  ...,  0.0692, -0.0577,  0.1596],\n",
       "                      [ 0.0593,  0.0841,  0.1346,  ...,  0.0208, -0.0494,  0.1382],\n",
       "                      [ 0.0249,  0.0391, -0.0670,  ...,  0.0196, -0.0522, -0.1151]],\n",
       "                     device='cuda:0')),\n",
       "             ('1.mab1.fc_k.bias',\n",
       "              tensor([ 0.0036,  0.0181,  0.0095,  0.0867, -0.0187, -0.0199, -0.0037,  0.0502,\n",
       "                       0.1089,  0.0986,  0.0977,  0.0647, -0.0663,  0.0196,  0.0739,  0.0030,\n",
       "                      -0.0977,  0.1009, -0.0173, -0.0103, -0.0579, -0.0598, -0.0615, -0.0497,\n",
       "                      -0.0242,  0.0307,  0.0321, -0.0046, -0.1043,  0.0742,  0.0418, -0.0925,\n",
       "                      -0.0312, -0.0515, -0.0244, -0.0877, -0.0759, -0.0411,  0.0646, -0.0282,\n",
       "                      -0.0592,  0.0023, -0.0896, -0.0274,  0.0372,  0.0478,  0.0620,  0.0747,\n",
       "                       0.0052,  0.0534,  0.1049,  0.0936, -0.0181,  0.0771, -0.0610, -0.0563,\n",
       "                       0.0840, -0.0418,  0.0796, -0.0655, -0.0573, -0.0588, -0.0469,  0.0331],\n",
       "                     device='cuda:0')),\n",
       "             ('1.mab1.fc_v.weight',\n",
       "              tensor([[-0.0255, -0.0864, -0.0373,  ...,  0.0844,  0.0517, -0.0897],\n",
       "                      [-0.0955,  0.0795,  0.0826,  ..., -0.0317,  0.0082,  0.1513],\n",
       "                      [ 0.0148,  0.0038,  0.1211,  ...,  0.1134,  0.0010, -0.1183],\n",
       "                      ...,\n",
       "                      [ 0.0607, -0.0548, -0.1150,  ..., -0.0574,  0.0407, -0.1051],\n",
       "                      [ 0.1058,  0.0685, -0.0697,  ..., -0.2096,  0.0576,  0.1142],\n",
       "                      [-0.0459,  0.0279, -0.0887,  ...,  0.0990, -0.0295,  0.0958]],\n",
       "                     device='cuda:0')),\n",
       "             ('1.mab1.fc_v.bias',\n",
       "              tensor([ 8.6865e-02,  6.0003e-03,  8.0234e-02, -1.7303e-02,  6.0584e-02,\n",
       "                       1.0633e-01,  1.3777e-02,  5.2762e-02, -2.0713e-02,  3.7443e-02,\n",
       "                      -1.0420e-01,  8.2896e-02, -4.7979e-02,  9.8122e-02,  8.4993e-02,\n",
       "                      -4.8514e-02,  8.7087e-02,  9.2106e-05, -2.3807e-02,  1.2336e-01,\n",
       "                      -1.1961e-01,  1.0427e-01, -5.0018e-02,  8.4173e-02, -9.1653e-02,\n",
       "                      -1.0136e-01, -1.2899e-01,  2.0743e-03, -4.1945e-02, -5.4569e-02,\n",
       "                      -3.0936e-02,  3.7067e-02, -5.7327e-02,  1.9268e-02,  4.7978e-02,\n",
       "                      -2.4834e-02, -4.7736e-02,  1.0967e-01, -1.1206e-01, -3.6836e-02,\n",
       "                       5.0104e-02,  2.3724e-02,  7.0987e-02,  1.0924e-02,  6.5189e-03,\n",
       "                      -2.9113e-02,  6.1621e-02, -4.8832e-02,  4.9695e-02, -6.8696e-02,\n",
       "                      -6.4393e-02,  9.7960e-02, -6.7296e-02,  7.0626e-02,  6.2267e-02,\n",
       "                      -2.3458e-02,  2.5853e-02,  9.5877e-02,  1.9320e-02,  7.6779e-02,\n",
       "                       2.3623e-02,  1.1812e-01,  6.3844e-02, -9.4365e-02], device='cuda:0')),\n",
       "             ('1.mab1.ln0.weight',\n",
       "              tensor([0.9870, 0.9816, 0.9907, 0.9894, 0.9902, 1.0127, 1.0041, 0.9921, 0.9931,\n",
       "                      1.0206, 0.9900, 0.9965, 1.0482, 0.9758, 0.9952, 1.0174, 1.0019, 1.1144,\n",
       "                      1.0118, 1.0053, 0.9940, 1.0017, 0.9860, 1.0094, 0.9987, 0.9821, 0.9842,\n",
       "                      0.9813, 1.0424, 0.9968, 1.0085, 1.0336, 0.9977, 0.9935, 1.0041, 0.9979,\n",
       "                      0.9931, 1.0068, 1.0075, 1.0030, 0.9920, 0.9843, 0.9974, 1.0064, 0.9857,\n",
       "                      0.9958, 0.9903, 0.9797, 1.0041, 1.0363, 1.0248, 1.0067, 1.0411, 0.9916,\n",
       "                      1.0036, 1.0047, 1.0198, 1.0137, 1.0011, 1.0079, 0.9994, 1.0059, 1.0064,\n",
       "                      0.9921], device='cuda:0')),\n",
       "             ('1.mab1.ln0.bias',\n",
       "              tensor([ 0.0063, -0.0109, -0.0035,  0.0008, -0.0009,  0.0039, -0.0189,  0.0080,\n",
       "                      -0.0106,  0.0061, -0.0042, -0.0068,  0.0011, -0.0054,  0.0071,  0.0051,\n",
       "                       0.0036, -0.0101,  0.0040, -0.0022, -0.0043,  0.0003,  0.0021,  0.0149,\n",
       "                       0.0007,  0.0055, -0.0090,  0.0024,  0.0023,  0.0009,  0.0128,  0.0074,\n",
       "                       0.0065,  0.0024, -0.0094,  0.0208,  0.0115,  0.0019, -0.0004,  0.0057,\n",
       "                      -0.0019,  0.0019,  0.0025,  0.0085,  0.0085,  0.0003, -0.0046,  0.0042,\n",
       "                      -0.0189,  0.0076, -0.0031, -0.0091, -0.0010, -0.0084,  0.0088,  0.0091,\n",
       "                       0.0019,  0.0014, -0.0072,  0.0171, -0.0008, -0.0049, -0.0077, -0.0018],\n",
       "                     device='cuda:0')),\n",
       "             ('1.mab1.ln1.weight',\n",
       "              tensor([0.9861, 0.9892, 0.9702, 1.0851, 0.9577, 0.9922, 0.9739, 0.9683, 0.9845,\n",
       "                      1.0220, 0.9789, 0.9883, 1.0891, 1.0722, 0.9799, 1.0043, 0.9705, 1.0061,\n",
       "                      0.9990, 1.0061, 0.9498, 0.9824, 0.9787, 0.9756, 0.9796, 0.9594, 0.9360,\n",
       "                      0.9720, 0.9878, 0.9840, 0.9867, 1.0097, 0.9740, 0.9674, 0.9892, 0.9647,\n",
       "                      0.9972, 1.0043, 0.9818, 0.9779, 0.9682, 0.9908, 0.9922, 0.9774, 0.9972,\n",
       "                      0.9910, 0.9692, 0.9678, 0.9752, 0.9998, 1.0112, 0.9977, 1.0213, 0.9832,\n",
       "                      0.9717, 0.9926, 0.9736, 0.9887, 0.9822, 0.9442, 0.9973, 0.9831, 0.9799,\n",
       "                      0.9878], device='cuda:0')),\n",
       "             ('1.mab1.ln1.bias',\n",
       "              tensor([-3.2099e-03, -1.3087e-03,  2.8456e-03, -1.1282e-03, -1.7670e-03,\n",
       "                      -6.4148e-04, -1.2694e-02, -7.6816e-03, -8.2660e-03,  2.0037e-03,\n",
       "                      -2.7877e-03,  5.3447e-04, -2.9431e-03, -5.2425e-05,  1.6963e-02,\n",
       "                       4.2492e-03,  4.7184e-03, -2.8161e-02, -9.6831e-03,  2.9543e-03,\n",
       "                       3.2590e-02, -7.9593e-03, -3.4093e-03, -9.1343e-03,  1.0195e-02,\n",
       "                       3.2692e-02,  2.0564e-02, -6.4992e-03,  7.2772e-04,  1.3634e-02,\n",
       "                      -7.2296e-03,  4.8612e-03, -1.6639e-02,  9.3898e-03,  3.1865e-04,\n",
       "                      -2.2421e-02,  7.5800e-03, -3.7396e-03,  2.0950e-02, -1.5307e-02,\n",
       "                      -1.8911e-02,  1.2251e-02, -4.4482e-03, -1.0334e-02, -6.8022e-03,\n",
       "                      -6.2649e-03,  1.8546e-02, -1.0949e-02,  1.9829e-02, -4.6543e-03,\n",
       "                       1.5935e-03, -7.4304e-03, -5.1747e-04,  4.5829e-03, -2.2161e-02,\n",
       "                       2.8203e-03, -3.0942e-02,  6.4588e-03,  9.7802e-03, -6.9823e-02,\n",
       "                      -8.6236e-04,  1.6711e-02,  1.8455e-02,  8.2015e-03], device='cuda:0')),\n",
       "             ('1.mab1.fc_o.weight',\n",
       "              tensor([[-0.0129, -0.0177,  0.0524,  ...,  0.1036, -0.1029, -0.1317],\n",
       "                      [ 0.0764,  0.0948,  0.0491,  ...,  0.1027,  0.0183,  0.0284],\n",
       "                      [ 0.0130,  0.0177, -0.0750,  ...,  0.0442, -0.0581, -0.0639],\n",
       "                      ...,\n",
       "                      [ 0.0818,  0.0038, -0.0075,  ...,  0.0087, -0.0945,  0.0968],\n",
       "                      [-0.0375, -0.0120,  0.0670,  ..., -0.1247,  0.0926,  0.0488],\n",
       "                      [-0.0738, -0.0192,  0.0332,  ...,  0.1253, -0.0161,  0.0996]],\n",
       "                     device='cuda:0')),\n",
       "             ('1.mab1.fc_o.bias',\n",
       "              tensor([ 6.6520e-02, -1.0834e-01,  6.7167e-02, -1.2063e-01,  6.4803e-02,\n",
       "                       3.5782e-02,  6.3462e-05, -2.4435e-02,  1.1594e-01,  9.8462e-02,\n",
       "                      -1.0113e-01, -7.8229e-02, -4.3305e-03,  9.7987e-02,  5.8232e-02,\n",
       "                      -5.8461e-02, -1.0003e-01,  6.6263e-02, -2.5140e-02, -1.1505e-01,\n",
       "                      -9.1321e-02,  3.2382e-02, -3.9232e-02,  1.2402e-01,  4.8966e-02,\n",
       "                      -1.5245e-01,  2.7376e-02,  1.0043e-01, -2.9266e-02, -3.9547e-02,\n",
       "                       2.2558e-02, -1.0718e-01,  4.8252e-02, -1.0106e-01,  9.0442e-02,\n",
       "                       1.1049e-02, -1.0315e-01, -4.0532e-02,  1.2391e-01, -5.4723e-02,\n",
       "                      -8.5572e-02, -3.0841e-02, -3.7232e-02,  1.1645e-01,  1.0972e-01,\n",
       "                       2.2458e-02, -1.0922e-01, -5.8242e-02, -8.1319e-02, -3.0139e-02,\n",
       "                       4.2530e-02, -1.0859e-01, -8.2385e-02, -5.8151e-02, -9.9711e-02,\n",
       "                      -7.8208e-02,  6.6426e-02,  3.8326e-02,  1.0416e-01, -6.6981e-02,\n",
       "                       9.3296e-02,  5.8903e-02, -1.1279e-01,  8.5478e-03], device='cuda:0'))])"
      ]
     },
     "execution_count": 15,
     "metadata": {},
     "output_type": "execute_result"
    }
   ],
   "source": [
    "ckpt.enc.state_dict()"
   ]
  },
  {
   "cell_type": "code",
   "execution_count": 17,
   "id": "13d0e62d",
   "metadata": {},
   "outputs": [
    {
     "data": {
      "text/plain": [
       "<All keys matched successfully>"
      ]
     },
     "execution_count": 17,
     "metadata": {},
     "output_type": "execute_result"
    }
   ],
   "source": [
    "model.para_enc.load_state_dict(ckpt.enc.state_dict())"
   ]
  },
  {
   "cell_type": "code",
   "execution_count": 18,
   "id": "8551ae23",
   "metadata": {},
   "outputs": [
    {
     "data": {
      "text/plain": [
       "OrderedDict([('0.I',\n",
       "              tensor([[[-0.0114,  0.0335, -0.0624,  ...,  0.0193, -0.0011,  0.0038],\n",
       "                       [ 0.0220,  0.0014, -0.0072,  ..., -0.0038, -0.0426,  0.0316],\n",
       "                       [ 0.0457, -0.0470,  0.0204,  ..., -0.0299,  0.0468,  0.0044],\n",
       "                       ...,\n",
       "                       [-0.0210,  0.0134, -0.0361,  ...,  0.0508,  0.0081,  0.0217],\n",
       "                       [-0.0306,  0.0468, -0.0245,  ...,  0.0155, -0.0160,  0.0241],\n",
       "                       [ 0.0014,  0.0466, -0.0323,  ...,  0.0299,  0.0041,  0.0208]]],\n",
       "                     device='cuda:0')),\n",
       "             ('0.mab0.fc_q.weight',\n",
       "              tensor([[-0.0192,  0.0950,  0.0449,  ...,  0.1093, -0.0191,  0.1054],\n",
       "                      [ 0.1454, -0.0029,  0.0148,  ..., -0.1392, -0.0912, -0.0373],\n",
       "                      [ 0.0625,  0.0872, -0.0589,  ..., -0.0184,  0.1340,  0.1490],\n",
       "                      ...,\n",
       "                      [ 0.0746, -0.1959, -0.0861,  ..., -0.1026,  0.0695,  0.0663],\n",
       "                      [-0.1011,  0.1319, -0.1169,  ...,  0.1643,  0.0733, -0.0921],\n",
       "                      [-0.0972, -0.0124,  0.1077,  ..., -0.1214,  0.0382, -0.0762]],\n",
       "                     device='cuda:0')),\n",
       "             ('0.mab0.fc_q.bias',\n",
       "              tensor([ 0.0859, -0.0902, -0.0633,  0.0933,  0.0128, -0.0124, -0.0244, -0.0021,\n",
       "                      -0.0511, -0.0105,  0.1098,  0.0399,  0.0797, -0.1155,  0.0731, -0.0786,\n",
       "                       0.0696,  0.0763, -0.0728,  0.0928,  0.0088,  0.0361,  0.0422, -0.1286,\n",
       "                       0.1116,  0.0016, -0.0625, -0.0466,  0.0552, -0.0642,  0.0436,  0.0932,\n",
       "                       0.0508, -0.0747,  0.0534,  0.0500,  0.0967, -0.0831,  0.0349,  0.0904,\n",
       "                       0.0792, -0.0678, -0.0633, -0.0673, -0.0848,  0.0002, -0.0894,  0.0192,\n",
       "                       0.0505,  0.1294,  0.0255,  0.0647, -0.1167, -0.0027, -0.1292,  0.0451,\n",
       "                       0.1121,  0.0814, -0.1249, -0.1343,  0.0283,  0.1118,  0.0114, -0.0592],\n",
       "                     device='cuda:0')),\n",
       "             ('0.mab0.fc_k.weight',\n",
       "              tensor([[ 0.1648, -0.0266,  0.0713,  ...,  0.1594,  0.0848, -0.0520],\n",
       "                      [-0.0321,  0.1323,  0.0392,  ...,  0.0197, -0.0160, -0.2261],\n",
       "                      [ 0.1610,  0.0689, -0.1078,  ...,  0.0811, -0.1162,  0.0011],\n",
       "                      ...,\n",
       "                      [-0.1112,  0.1411,  0.0558,  ..., -0.0949, -0.1703, -0.0503],\n",
       "                      [-0.0830, -0.0011,  0.0258,  ..., -0.0425, -0.0478, -0.1616],\n",
       "                      [ 0.1136, -0.0083,  0.2172,  ..., -0.0656,  0.0455,  0.1970]],\n",
       "                     device='cuda:0')),\n",
       "             ('0.mab0.fc_k.bias',\n",
       "              tensor([ 0.1035,  0.0207,  0.1531, -0.0432,  0.0128,  0.1284, -0.1554, -0.0886,\n",
       "                      -0.1272, -0.1601, -0.1344,  0.1149,  0.1196, -0.1206, -0.0234,  0.0965,\n",
       "                      -0.0665, -0.0819, -0.1623,  0.0315, -0.1618,  0.1310,  0.0831, -0.0794,\n",
       "                      -0.0272,  0.0078, -0.1281, -0.1267, -0.0025,  0.1535, -0.1741,  0.1044,\n",
       "                      -0.1402,  0.1435,  0.1117,  0.1090, -0.0513,  0.1110, -0.0086, -0.0006,\n",
       "                       0.0129, -0.1766,  0.0103,  0.0566,  0.1404, -0.1009,  0.1147, -0.1501,\n",
       "                      -0.0187,  0.1607,  0.0670, -0.0807,  0.0209,  0.0154,  0.0086, -0.1132,\n",
       "                       0.0980, -0.0808, -0.1310, -0.1283, -0.0494,  0.1302, -0.0554,  0.1037],\n",
       "                     device='cuda:0')),\n",
       "             ('0.mab0.fc_v.weight',\n",
       "              tensor([[-0.1426,  0.1232, -0.1405,  ..., -0.0409, -0.1310,  0.0652],\n",
       "                      [ 0.1339, -0.0263,  0.1049,  ..., -0.0221, -0.1034, -0.1469],\n",
       "                      [ 0.0315,  0.1144, -0.0586,  ...,  0.1325,  0.0132,  0.0171],\n",
       "                      ...,\n",
       "                      [ 0.1318,  0.0058, -0.3446,  ...,  0.0860,  0.0793,  0.3896],\n",
       "                      [-0.0438,  0.1158,  0.0004,  ..., -0.1257, -0.0376, -0.0969],\n",
       "                      [ 0.0359, -0.0647,  0.1267,  ...,  0.1032,  0.1119,  0.0835]],\n",
       "                     device='cuda:0')),\n",
       "             ('0.mab0.fc_v.bias',\n",
       "              tensor([ 5.7443e-03,  6.0609e-02,  1.1595e-01, -1.2322e-01,  1.5797e-01,\n",
       "                       4.7442e-02, -4.5591e-02,  1.1166e-01, -5.1894e-02, -1.4533e-01,\n",
       "                      -8.2701e-02,  7.5444e-02, -3.8739e-02,  3.1860e-03,  6.5587e-02,\n",
       "                      -1.5117e-01, -8.6618e-02, -5.5181e-02,  5.8902e-02,  9.1435e-02,\n",
       "                      -1.2072e-01, -7.1858e-02, -1.1979e-02,  3.0916e-02, -5.7280e-02,\n",
       "                      -1.6261e-04, -1.8169e-01,  1.1059e-01, -1.4174e-01,  1.1474e-01,\n",
       "                       5.9569e-02,  2.8726e-02, -1.5104e-01, -7.1892e-02, -4.0419e-02,\n",
       "                       1.3691e-01, -1.2953e-01,  1.1235e-01, -4.2796e-02,  1.0098e-01,\n",
       "                      -4.3744e-03, -7.6928e-02,  1.5813e-01, -1.7326e-01, -5.3925e-02,\n",
       "                      -8.7789e-02, -1.8161e-01,  5.9576e-03,  7.0387e-02, -8.8396e-02,\n",
       "                       1.5770e-01, -1.5866e-01, -1.1985e-01,  9.5808e-02,  1.3115e-01,\n",
       "                       7.1394e-03,  6.9089e-02,  1.5823e-02, -9.1771e-02, -3.7689e-02,\n",
       "                       1.5203e-01, -6.0860e-02, -1.9416e-02,  1.1329e-01], device='cuda:0')),\n",
       "             ('0.mab0.ln0.weight',\n",
       "              tensor([1.0342, 1.0200, 0.9996, 1.0200, 1.0811, 0.9154, 0.9920, 1.0235, 0.9849,\n",
       "                      0.9889, 1.1055, 0.9995, 1.0013, 1.0107, 0.9989, 0.9979, 0.9828, 1.0020,\n",
       "                      0.9929, 0.9934, 1.0870, 1.0081, 1.0401, 0.9939, 1.0023, 0.9969, 1.0229,\n",
       "                      1.0178, 1.0194, 1.0517, 1.0030, 0.9945, 1.0292, 1.0034, 1.0465, 1.0019,\n",
       "                      1.0753, 0.9838, 1.0565, 0.9891, 1.0045, 1.0222, 1.0356, 1.0068, 1.0051,\n",
       "                      1.0018, 0.9889, 1.0204, 0.9883, 1.0423, 1.1023, 0.9992, 1.0116, 1.0164,\n",
       "                      1.0015, 0.9760, 1.0130, 0.9966, 1.0640, 1.0503, 0.9801, 1.0421, 1.0053,\n",
       "                      1.0218], device='cuda:0')),\n",
       "             ('0.mab0.ln0.bias',\n",
       "              tensor([ 4.6590e-03, -7.9732e-03,  9.1123e-03,  1.3022e-02,  4.3599e-03,\n",
       "                       3.6973e-03,  3.4659e-03, -6.9381e-03,  1.8512e-02,  1.0207e-02,\n",
       "                       2.2708e-03,  7.3256e-03,  7.0586e-03, -5.0725e-03, -3.2767e-03,\n",
       "                       6.9192e-03, -1.4342e-02, -8.5509e-04,  1.0346e-02,  1.2211e-02,\n",
       "                      -1.7648e-03,  5.6759e-03,  2.4114e-03, -7.4807e-03,  5.2483e-03,\n",
       "                       1.0442e-02, -2.4523e-03,  4.3987e-03,  1.0428e-03,  3.3088e-03,\n",
       "                      -1.5514e-02, -6.1497e-03,  6.3465e-03,  8.0961e-03, -1.1873e-02,\n",
       "                      -7.5602e-03, -1.9333e-03, -1.8910e-02,  8.0862e-05, -1.5806e-02,\n",
       "                       9.6541e-03,  3.6259e-03, -2.3694e-03, -1.4641e-02, -1.1222e-02,\n",
       "                      -7.0188e-03, -1.3394e-02, -2.6286e-03, -1.1885e-02,  5.9019e-04,\n",
       "                      -3.5850e-04,  1.0128e-03, -1.2950e-02, -1.5732e-02, -6.1452e-03,\n",
       "                       1.1137e-02, -1.6957e-02, -4.9528e-03,  3.1605e-03, -2.2809e-03,\n",
       "                       8.7236e-03,  9.3477e-03, -4.2479e-03,  4.2527e-03], device='cuda:0')),\n",
       "             ('0.mab0.ln1.weight',\n",
       "              tensor([1.0799, 1.0653, 0.9976, 1.0131, 1.0561, 0.9649, 0.9766, 0.9974, 0.9883,\n",
       "                      0.9892, 1.1312, 0.9937, 0.9984, 1.1248, 0.9991, 1.0039, 0.9865, 1.0203,\n",
       "                      0.9962, 0.9956, 1.0465, 1.1421, 1.1656, 0.9977, 1.0092, 1.0278, 1.0858,\n",
       "                      0.9841, 1.0515, 1.0152, 1.0065, 0.9970, 1.0141, 1.0159, 1.0372, 1.0117,\n",
       "                      1.0834, 0.9924, 1.0046, 0.9901, 1.0520, 1.0077, 1.0775, 0.9787, 1.0020,\n",
       "                      1.0008, 0.9825, 1.1666, 0.9903, 1.0602, 1.1496, 1.0016, 1.0334, 1.0472,\n",
       "                      1.0002, 0.9749, 1.0226, 0.9992, 1.0165, 0.9960, 0.9925, 1.0232, 1.0006,\n",
       "                      1.0078], device='cuda:0')),\n",
       "             ('0.mab0.ln1.bias',\n",
       "              tensor([ 3.8563e-03, -1.2142e-03,  1.0585e-02,  1.3192e-02,  1.1420e-02,\n",
       "                       1.5235e-02,  1.0678e-02, -1.0780e-02,  1.6056e-02,  5.6259e-03,\n",
       "                       3.2463e-03,  1.5233e-02,  1.3127e-02, -4.1693e-03, -3.2079e-03,\n",
       "                       1.3000e-03, -1.7135e-02,  2.2483e-03,  5.8389e-03,  7.1677e-03,\n",
       "                       3.1147e-06,  2.2155e-03,  5.7757e-04, -8.0624e-03,  2.9996e-03,\n",
       "                       1.0242e-02, -2.0547e-03,  5.5230e-03, -4.8123e-04,  9.3192e-03,\n",
       "                      -1.4397e-02, -5.0124e-03,  5.6622e-03,  1.2958e-02, -9.1401e-03,\n",
       "                      -2.0231e-03,  4.7097e-04, -1.7893e-02, -4.2511e-04, -1.4914e-02,\n",
       "                       3.3609e-03,  2.8650e-03, -2.2691e-03, -7.3524e-03, -1.2949e-02,\n",
       "                      -1.4719e-02, -1.8782e-02,  1.2579e-03, -1.2290e-02,  2.6139e-03,\n",
       "                       3.5378e-03, -1.0015e-03, -1.3519e-02, -1.5637e-02, -4.7193e-03,\n",
       "                       4.8820e-03, -2.0165e-02, -5.5873e-03,  1.5605e-03, -8.2079e-03,\n",
       "                       1.2926e-02,  2.0443e-02,  5.3875e-04,  7.5058e-03], device='cuda:0')),\n",
       "             ('0.mab0.fc_o.weight',\n",
       "              tensor([[ 0.1090,  0.0203,  0.0853,  ...,  0.0110,  0.0469, -0.0772],\n",
       "                      [-0.0693, -0.0460, -0.0702,  ..., -0.0281, -0.0504, -0.2064],\n",
       "                      [-0.0301,  0.0245,  0.2017,  ...,  0.0387, -0.0667, -0.0868],\n",
       "                      ...,\n",
       "                      [ 0.0393,  0.0319,  0.0720,  ..., -0.0494, -0.0256,  0.0575],\n",
       "                      [ 0.1357, -0.0276, -0.0663,  ..., -0.1515, -0.0742, -0.0473],\n",
       "                      [ 0.0289,  0.0194,  0.0925,  ...,  0.0642,  0.0368,  0.1644]],\n",
       "                     device='cuda:0')),\n",
       "             ('0.mab0.fc_o.bias',\n",
       "              tensor([ 0.0549, -0.0629,  0.0435,  0.0573,  0.0947, -0.0916,  0.0007, -0.0372,\n",
       "                      -0.0206, -0.0666,  0.1133,  0.0519, -0.0341,  0.0983, -0.0615,  0.0341,\n",
       "                       0.0791, -0.0592, -0.0776, -0.0608,  0.1039,  0.1102, -0.0717, -0.1045,\n",
       "                      -0.1074,  0.0765, -0.0004, -0.1121, -0.1383, -0.1223, -0.1120, -0.0875,\n",
       "                      -0.0064,  0.0521,  0.0799, -0.0694,  0.0902,  0.0381,  0.0656,  0.0663,\n",
       "                       0.0534, -0.0722,  0.1029,  0.1134,  0.1150, -0.0452, -0.0467,  0.0074,\n",
       "                      -0.0290,  0.0549,  0.1225, -0.0117, -0.0413,  0.0535,  0.0920,  0.0081,\n",
       "                       0.0270,  0.0539, -0.0833,  0.0437,  0.0809, -0.1480,  0.0131, -0.0046],\n",
       "                     device='cuda:0')),\n",
       "             ('0.mab1.fc_q.weight',\n",
       "              tensor([[-0.0401,  0.0583, -0.0198,  ..., -0.0353, -0.0251,  0.1776],\n",
       "                      [-0.0973,  0.0619,  0.1451,  ..., -0.0855,  0.0631, -0.0749],\n",
       "                      [-0.1188, -0.0211,  0.0233,  ..., -0.0321,  0.0276, -0.0118],\n",
       "                      ...,\n",
       "                      [-0.1111, -0.0620, -0.1565,  ...,  0.1604,  0.1414,  0.0576],\n",
       "                      [-0.0710,  0.1608, -0.0322,  ..., -0.1283,  0.0631, -0.0910],\n",
       "                      [-0.0591, -0.1619, -0.0681,  ...,  0.1485, -0.1695,  0.1937]],\n",
       "                     device='cuda:0')),\n",
       "             ('0.mab1.fc_q.bias',\n",
       "              tensor([ 0.0735, -0.1044, -0.1217,  0.0771, -0.0863, -0.0553,  0.0673,  0.1073,\n",
       "                       0.0990,  0.1412,  0.0504, -0.1650,  0.1070,  0.1192,  0.1336, -0.0368,\n",
       "                       0.0669, -0.1236,  0.0558,  0.1655, -0.0206,  0.1571, -0.0722, -0.1034,\n",
       "                      -0.1218,  0.0455,  0.0739,  0.0384,  0.0285,  0.1262, -0.0387,  0.0519,\n",
       "                      -0.1039,  0.0261, -0.1666,  0.0493,  0.0783,  0.0608, -0.1047, -0.0953,\n",
       "                       0.0597,  0.1167,  0.0056, -0.1148, -0.0652, -0.0426,  0.0817, -0.0587,\n",
       "                       0.0016,  0.1028, -0.0597, -0.1178, -0.1081,  0.1722,  0.0822,  0.0055,\n",
       "                      -0.0215,  0.0403,  0.0741,  0.0011, -0.0884,  0.0209, -0.0478, -0.0834],\n",
       "                     device='cuda:0')),\n",
       "             ('0.mab1.fc_k.weight',\n",
       "              tensor([[ 0.0430,  0.0326,  0.0031,  ..., -0.0324, -0.1526,  0.1148],\n",
       "                      [-0.0299,  0.0439,  0.0033,  ..., -0.1476,  0.0961,  0.0314],\n",
       "                      [-0.0328, -0.0234,  0.0725,  ...,  0.1267,  0.0717,  0.0020],\n",
       "                      ...,\n",
       "                      [ 0.0840,  0.1003,  0.2055,  ...,  0.1737, -0.1664,  0.1134],\n",
       "                      [-0.0199,  0.1494,  0.0930,  ...,  0.0146, -0.0797, -0.0070],\n",
       "                      [ 0.1603,  0.1381,  0.0424,  ...,  0.0810, -0.1770,  0.1275]],\n",
       "                     device='cuda:0')),\n",
       "             ('0.mab1.fc_k.bias',\n",
       "              tensor([-0.1214,  0.0926,  0.0069,  0.0334,  0.0256, -0.0217,  0.0329, -0.0862,\n",
       "                      -0.0043,  0.0057,  0.0459, -0.0449, -0.1108,  0.0909, -0.0337, -0.0011,\n",
       "                      -0.0504, -0.0505,  0.1141, -0.0485,  0.0886,  0.0740,  0.1085,  0.0098,\n",
       "                      -0.0267,  0.0077, -0.0990,  0.0498, -0.0752,  0.0309,  0.0403, -0.0757,\n",
       "                      -0.0704, -0.0232, -0.0507,  0.0034, -0.0702,  0.0420, -0.1144,  0.0081,\n",
       "                       0.0484, -0.0660,  0.0039, -0.1203, -0.0110, -0.0451,  0.0154, -0.0860,\n",
       "                       0.0815,  0.1012, -0.0814,  0.0114, -0.0502,  0.1123,  0.1137, -0.1236,\n",
       "                       0.1196, -0.0133,  0.0977,  0.0857,  0.0747, -0.0501, -0.1222,  0.0421],\n",
       "                     device='cuda:0')),\n",
       "             ('0.mab1.fc_v.weight',\n",
       "              tensor([[ 0.0411, -0.0673,  0.1090,  ...,  0.1491, -0.0771,  0.0448],\n",
       "                      [-0.0341, -0.0918,  0.1055,  ..., -0.0269,  0.0075,  0.0488],\n",
       "                      [ 0.0711,  0.0966, -0.0475,  ...,  0.0174, -0.0848,  0.0648],\n",
       "                      ...,\n",
       "                      [ 0.0867, -0.0080, -0.0770,  ..., -0.0344, -0.0728,  0.0411],\n",
       "                      [ 0.0436,  0.0516,  0.0218,  ...,  0.0221,  0.0758,  0.0165],\n",
       "                      [-0.0738,  0.0238, -0.0156,  ...,  0.1199,  0.0397,  0.0734]],\n",
       "                     device='cuda:0')),\n",
       "             ('0.mab1.fc_v.bias',\n",
       "              tensor([ 0.0782,  0.0650,  0.0265, -0.0456,  0.0552,  0.0501, -0.0185, -0.1160,\n",
       "                       0.0102,  0.0170, -0.0650, -0.1258,  0.1299,  0.0146,  0.0909, -0.0547,\n",
       "                      -0.0490,  0.0079,  0.0959,  0.1089,  0.0047,  0.0996, -0.0669, -0.1064,\n",
       "                       0.0010,  0.0619,  0.1147,  0.0008, -0.1198,  0.0411, -0.0097,  0.0392,\n",
       "                      -0.0729, -0.1003, -0.0364,  0.0997,  0.0486,  0.0543, -0.0774,  0.0532,\n",
       "                       0.0585,  0.0966,  0.0523, -0.0982,  0.0399, -0.0036, -0.0003,  0.0868,\n",
       "                       0.0893,  0.0784, -0.0373,  0.0120,  0.1166, -0.0166, -0.0447,  0.0919,\n",
       "                      -0.0738, -0.0211, -0.0985, -0.0930,  0.1036,  0.0787, -0.1070,  0.0119],\n",
       "                     device='cuda:0')),\n",
       "             ('0.mab1.ln0.weight',\n",
       "              tensor([0.9869, 0.9990, 1.0060, 0.9927, 0.9882, 1.0152, 0.9897, 1.0096, 1.0459,\n",
       "                      0.9907, 1.0301, 1.0181, 1.0063, 1.0102, 0.9983, 1.0018, 0.9887, 0.9969,\n",
       "                      1.0084, 1.0073, 1.0076, 1.0563, 0.9986, 0.9970, 0.9860, 0.9959, 0.9951,\n",
       "                      1.0071, 0.9961, 1.0054, 1.0026, 1.0050, 0.9917, 0.9999, 0.9914, 1.0011,\n",
       "                      1.0087, 1.0176, 0.9916, 1.0177, 1.0010, 1.0002, 0.9951, 0.9837, 1.0307,\n",
       "                      1.0076, 1.0154, 1.0080, 0.9737, 0.9969, 0.9891, 0.9930, 0.9824, 1.0216,\n",
       "                      1.0051, 1.0710, 1.0133, 0.9929, 0.9883, 1.0035, 0.9921, 1.0027, 0.9865,\n",
       "                      1.0138], device='cuda:0')),\n",
       "             ('0.mab1.ln0.bias',\n",
       "              tensor([ 0.0055,  0.0016, -0.0108,  0.0033,  0.0131,  0.0008, -0.0042, -0.0174,\n",
       "                       0.0028, -0.0061, -0.0053, -0.0039,  0.0012, -0.0046,  0.0069, -0.0047,\n",
       "                      -0.0073,  0.0009, -0.0080,  0.0026,  0.0059, -0.0030, -0.0141, -0.0027,\n",
       "                      -0.0015,  0.0088, -0.0012, -0.0079,  0.0052,  0.0001, -0.0022, -0.0047,\n",
       "                       0.0006,  0.0070, -0.0025,  0.0014, -0.0084, -0.0028, -0.0075,  0.0055,\n",
       "                      -0.0014,  0.0090, -0.0006,  0.0141,  0.0085,  0.0043, -0.0006,  0.0037,\n",
       "                      -0.0079, -0.0035,  0.0151, -0.0008, -0.0046,  0.0001,  0.0064,  0.0036,\n",
       "                       0.0015, -0.0003, -0.0051, -0.0018,  0.0027, -0.0001, -0.0037,  0.0029],\n",
       "                     device='cuda:0')),\n",
       "             ('0.mab1.ln1.weight',\n",
       "              tensor([0.9879, 1.0047, 1.0186, 1.0225, 0.9910, 1.0772, 0.9844, 0.9950, 1.0783,\n",
       "                      0.9905, 1.0149, 1.0486, 1.0047, 0.9956, 0.9907, 0.9912, 0.9972, 1.0155,\n",
       "                      1.0146, 0.9957, 0.9998, 1.0228, 1.0281, 0.9853, 1.0309, 1.0013, 0.9614,\n",
       "                      0.9892, 0.9899, 1.0439, 0.9927, 1.0186, 0.9691, 1.0015, 1.0025, 1.0041,\n",
       "                      1.0274, 1.0304, 0.9920, 1.0291, 1.0067, 0.9534, 0.9887, 0.9884, 1.0636,\n",
       "                      1.0210, 0.9901, 1.0188, 1.0121, 0.9918, 0.9852, 0.9615, 1.0036, 1.0436,\n",
       "                      0.9919, 1.0199, 1.0346, 0.9822, 0.9881, 1.0054, 0.9916, 1.0055, 1.0094,\n",
       "                      1.0040], device='cuda:0')),\n",
       "             ('0.mab1.ln1.bias',\n",
       "              tensor([-6.0572e-03,  3.5162e-04, -7.7145e-03, -2.1684e-04,  1.1818e-02,\n",
       "                       1.2278e-03, -1.0872e-02, -3.7286e-03, -2.2194e-03, -1.7530e-02,\n",
       "                      -8.1980e-03, -9.8710e-03, -5.2494e-03, -4.3700e-03,  1.2641e-02,\n",
       "                      -1.1813e-02, -9.1940e-03,  3.8040e-03, -1.0140e-02,  2.4404e-03,\n",
       "                       1.0589e-02, -9.1247e-03, -1.4300e-02,  2.9625e-03, -9.5788e-04,\n",
       "                      -2.6740e-03,  1.7206e-03, -1.2358e-02,  5.9263e-03, -2.3986e-03,\n",
       "                       7.2626e-04, -9.1978e-03,  1.2356e-02,  9.2947e-03, -5.9157e-03,\n",
       "                       2.9947e-03, -5.4629e-03, -8.3216e-03, -1.8001e-02,  2.3020e-03,\n",
       "                      -8.5243e-03, -6.7839e-04, -7.2653e-03,  1.5943e-02,  4.1817e-03,\n",
       "                       7.1299e-03, -8.4903e-03,  8.9605e-03, -9.2514e-04, -4.9368e-03,\n",
       "                       9.0071e-03, -1.6500e-02,  2.5455e-03, -1.0422e-02,  1.0413e-02,\n",
       "                      -2.7051e-03,  8.0093e-03,  7.2254e-03, -6.6717e-03,  5.9540e-03,\n",
       "                       8.4642e-03, -3.2416e-03,  3.2012e-05, -6.1878e-03], device='cuda:0')),\n",
       "             ('0.mab1.fc_o.weight',\n",
       "              tensor([[ 0.0973, -0.0005, -0.1170,  ...,  0.0338, -0.0130, -0.1121],\n",
       "                      [ 0.0474,  0.0939, -0.0891,  ..., -0.1369,  0.0170,  0.0776],\n",
       "                      [ 0.0317,  0.0981,  0.0970,  ..., -0.0806, -0.0918,  0.1097],\n",
       "                      ...,\n",
       "                      [ 0.0070,  0.1537,  0.1052,  ...,  0.0592, -0.1427,  0.0086],\n",
       "                      [-0.0438,  0.0364,  0.0154,  ...,  0.0468,  0.0544,  0.1319],\n",
       "                      [-0.0922, -0.1031, -0.0396,  ..., -0.0483, -0.1150,  0.0101]],\n",
       "                     device='cuda:0')),\n",
       "             ('0.mab1.fc_o.bias',\n",
       "              tensor([ 0.0069, -0.1254,  0.1022,  0.0340, -0.0700, -0.0303, -0.0253, -0.0585,\n",
       "                       0.1079, -0.0334, -0.0176, -0.0131,  0.0440, -0.0628,  0.0580,  0.1125,\n",
       "                      -0.0789, -0.0229,  0.0604,  0.0596,  0.0327, -0.0044, -0.0027,  0.1252,\n",
       "                      -0.1087, -0.0912, -0.0234,  0.0815, -0.0357,  0.1018,  0.0271,  0.0342,\n",
       "                      -0.1154,  0.0709,  0.0246,  0.0296, -0.0633,  0.1076, -0.0992,  0.0550,\n",
       "                       0.1053, -0.0590, -0.0407,  0.0132,  0.1245, -0.0063,  0.0751,  0.0263,\n",
       "                       0.0302,  0.1108,  0.0659, -0.0619,  0.0010, -0.0913,  0.0249,  0.0110,\n",
       "                       0.0856, -0.0148, -0.0832, -0.0248, -0.0790, -0.0923,  0.0843, -0.1062],\n",
       "                     device='cuda:0')),\n",
       "             ('1.I',\n",
       "              tensor([[[-0.0166,  0.0019, -0.0076,  ...,  0.0226, -0.0116, -0.0112],\n",
       "                       [-0.0216,  0.0264, -0.0098,  ...,  0.0276, -0.0079,  0.0048],\n",
       "                       [ 0.0134,  0.0030, -0.0652,  ..., -0.0042, -0.0010, -0.0948],\n",
       "                       ...,\n",
       "                       [ 0.0127,  0.0019, -0.0329,  ...,  0.0189, -0.0258, -0.0089],\n",
       "                       [-0.0090,  0.0398,  0.0074,  ...,  0.0211,  0.0027, -0.0228],\n",
       "                       [-0.0135,  0.0203, -0.0374,  ...,  0.0061,  0.0161, -0.0146]]],\n",
       "                     device='cuda:0')),\n",
       "             ('1.mab0.fc_q.weight',\n",
       "              tensor([[-0.0313, -0.0753, -0.1657,  ..., -0.1674,  0.0740, -0.0340],\n",
       "                      [-0.1568,  0.2575, -0.0263,  ...,  0.3129, -0.1815, -0.0870],\n",
       "                      [-0.0785,  0.1464,  0.2559,  ...,  0.1827, -0.1714,  0.0674],\n",
       "                      ...,\n",
       "                      [ 0.0075, -0.0920, -0.0554,  ..., -0.1336,  0.0270, -0.1928],\n",
       "                      [ 0.0706,  0.1928, -0.2057,  ...,  0.2007, -0.0573,  0.0362],\n",
       "                      [ 0.0273, -0.0852,  0.0887,  ..., -0.1524,  0.1253, -0.0134]],\n",
       "                     device='cuda:0')),\n",
       "             ('1.mab0.fc_q.bias',\n",
       "              tensor([-0.1125,  0.0716, -0.0101, -0.1282,  0.1077, -0.0520,  0.0107,  0.0936,\n",
       "                      -0.0906,  0.0721, -0.0974, -0.0543, -0.1028, -0.0101, -0.0179, -0.0446,\n",
       "                       0.0091,  0.0741,  0.0559,  0.0385,  0.0230,  0.1063,  0.0230, -0.0508,\n",
       "                      -0.0517, -0.1196,  0.0952,  0.0386, -0.0748, -0.0718, -0.0017,  0.0960,\n",
       "                      -0.0999, -0.0463, -0.0732,  0.0361, -0.0857, -0.1087, -0.0793,  0.0948,\n",
       "                       0.1184,  0.0753,  0.0412, -0.0588, -0.0584,  0.0725,  0.1239, -0.0917,\n",
       "                      -0.0404,  0.0338, -0.0264,  0.0607, -0.0938,  0.0399, -0.0487, -0.0299,\n",
       "                       0.0037, -0.0711,  0.0770, -0.0386,  0.0553, -0.0184,  0.0863,  0.0928],\n",
       "                     device='cuda:0')),\n",
       "             ('1.mab0.fc_k.weight',\n",
       "              tensor([[ 0.0440, -0.0365,  0.1148,  ...,  0.0588,  0.0876,  0.0020],\n",
       "                      [ 0.0149, -0.0163,  0.0998,  ..., -0.0409, -0.0118,  0.1038],\n",
       "                      [ 0.1735, -0.0047,  0.2080,  ...,  0.0659,  0.1234, -0.0672],\n",
       "                      ...,\n",
       "                      [ 0.0615,  0.0021,  0.1101,  ..., -0.1307, -0.0293,  0.0206],\n",
       "                      [ 0.0011, -0.0119, -0.0131,  ..., -0.1289,  0.0639,  0.0929],\n",
       "                      [ 0.0944,  0.0252,  0.0520,  ..., -0.0070, -0.0552,  0.0988]],\n",
       "                     device='cuda:0')),\n",
       "             ('1.mab0.fc_k.bias',\n",
       "              tensor([ 0.0325,  0.0974, -0.0972,  0.0243,  0.1237, -0.0653,  0.0683, -0.0768,\n",
       "                      -0.0626,  0.1146, -0.0567,  0.0329, -0.0982,  0.1146, -0.0501,  0.1114,\n",
       "                       0.0609, -0.0978,  0.1099, -0.1209,  0.1025, -0.0738,  0.0600, -0.0291,\n",
       "                      -0.1038,  0.0468,  0.0846,  0.0392, -0.0802,  0.1165,  0.0382, -0.0521,\n",
       "                       0.1087, -0.1156,  0.0975, -0.0568, -0.0763, -0.0897,  0.0038, -0.0727,\n",
       "                      -0.0264,  0.0561, -0.0007,  0.0381,  0.1219, -0.0164,  0.0437, -0.1056,\n",
       "                       0.1230,  0.0072, -0.0188,  0.0024, -0.1011, -0.0748, -0.0583, -0.0749,\n",
       "                      -0.0444,  0.1245, -0.0218, -0.0980,  0.0978,  0.0162,  0.0989,  0.0097],\n",
       "                     device='cuda:0')),\n",
       "             ('1.mab0.fc_v.weight',\n",
       "              tensor([[ 0.1134,  0.0913,  0.0294,  ..., -0.0796,  0.0139, -0.0572],\n",
       "                      [ 0.0203, -0.0541,  0.0038,  ..., -0.0955, -0.0959, -0.0482],\n",
       "                      [-0.0517, -0.0100,  0.1374,  ...,  0.0461,  0.0702,  0.0770],\n",
       "                      ...,\n",
       "                      [ 0.1223, -0.1058,  0.0668,  ..., -0.0191,  0.0912,  0.0224],\n",
       "                      [ 0.0672,  0.0190,  0.0350,  ..., -0.0109, -0.0088, -0.0708],\n",
       "                      [ 0.0144, -0.0236, -0.0891,  ...,  0.0736, -0.0677,  0.0039]],\n",
       "                     device='cuda:0')),\n",
       "             ('1.mab0.fc_v.bias',\n",
       "              tensor([ 0.0163,  0.0799, -0.1246,  0.0353,  0.1202,  0.0081, -0.1229,  0.0360,\n",
       "                      -0.0016,  0.0772, -0.1015,  0.0805, -0.0127,  0.0847,  0.1112, -0.0679,\n",
       "                      -0.0601,  0.0554, -0.0285,  0.1296, -0.0655, -0.0898,  0.0749,  0.0648,\n",
       "                      -0.1033,  0.0003, -0.0864, -0.0371,  0.0259, -0.0878,  0.1187,  0.0581,\n",
       "                       0.0019,  0.0916,  0.0463,  0.0913,  0.0001,  0.0828,  0.0698,  0.0956,\n",
       "                       0.0957,  0.0116, -0.0559,  0.0363,  0.0243,  0.0474, -0.0655,  0.0117,\n",
       "                       0.0638, -0.0607, -0.0331,  0.0008, -0.0753,  0.0411,  0.0993,  0.0639,\n",
       "                      -0.0502, -0.0642, -0.0134, -0.1255, -0.1149, -0.1109,  0.0170, -0.0529],\n",
       "                     device='cuda:0')),\n",
       "             ('1.mab0.ln0.weight',\n",
       "              tensor([0.9513, 0.9960, 1.0951, 0.9966, 1.0503, 1.0190, 0.9940, 0.9861, 1.0141,\n",
       "                      1.0025, 1.0083, 0.9911, 0.9981, 1.0339, 0.9941, 1.0100, 1.0029, 1.0081,\n",
       "                      1.0201, 1.0296, 1.0897, 0.9621, 0.9883, 0.9968, 1.1159, 0.9883, 1.0201,\n",
       "                      0.9880, 0.9997, 0.9773, 1.0021, 1.0100, 0.9892, 1.0473, 0.9702, 0.9793,\n",
       "                      1.0017, 0.9984, 0.9888, 0.9659, 0.9771, 1.0421, 1.0335, 0.9938, 1.0005,\n",
       "                      1.0338, 1.0057, 0.9932, 0.9946, 1.0053, 1.0184, 1.0042, 1.0031, 1.0131,\n",
       "                      1.0048, 0.9834, 1.0290, 0.9970, 1.0390, 0.9843, 1.0067, 1.0419, 1.0220,\n",
       "                      0.9798], device='cuda:0')),\n",
       "             ('1.mab0.ln0.bias',\n",
       "              tensor([ 0.0090, -0.0170, -0.0017, -0.0129, -0.0007, -0.0076, -0.0034, -0.0172,\n",
       "                       0.0044, -0.0028,  0.0073,  0.0089, -0.0162,  0.0016,  0.0103, -0.0051,\n",
       "                       0.0032, -0.0066, -0.0016,  0.0022,  0.0018,  0.0080,  0.0002, -0.0157,\n",
       "                       0.0035,  0.0042,  0.0091, -0.0166,  0.0049,  0.0002,  0.0039, -0.0151,\n",
       "                       0.0090, -0.0090,  0.0093, -0.0016,  0.0039, -0.0072,  0.0159,  0.0044,\n",
       "                      -0.0010, -0.0067,  0.0055, -0.0116,  0.0017, -0.0095, -0.0016,  0.0055,\n",
       "                       0.0123,  0.0005, -0.0006, -0.0038,  0.0020, -0.0039,  0.0012,  0.0027,\n",
       "                      -0.0003, -0.0009,  0.0128, -0.0071, -0.0014, -0.0047,  0.0059,  0.0017],\n",
       "                     device='cuda:0')),\n",
       "             ('1.mab0.ln1.weight',\n",
       "              tensor([0.9812, 1.0922, 1.0154, 0.9847, 1.0503, 0.9856, 0.9921, 0.9981, 0.9999,\n",
       "                      0.9510, 0.9898, 0.9924, 0.9844, 1.0146, 0.9959, 1.0102, 1.0105, 0.9946,\n",
       "                      1.0865, 1.0057, 1.0119, 0.9956, 1.0044, 0.9891, 1.0257, 1.0055, 1.0057,\n",
       "                      0.9843, 1.0030, 0.9977, 1.0005, 1.0196, 1.0177, 1.0005, 0.9705, 0.9807,\n",
       "                      1.0619, 1.0461, 0.9861, 1.0687, 1.0028, 1.0196, 1.0741, 0.9950, 1.0169,\n",
       "                      1.0538, 0.9970, 1.0026, 1.0499, 1.1296, 0.9776, 0.9894, 0.9658, 0.9842,\n",
       "                      1.0441, 0.9897, 1.0358, 1.0879, 1.0850, 0.9980, 1.0114, 1.0959, 1.0427,\n",
       "                      0.9999], device='cuda:0')),\n",
       "             ('1.mab0.ln1.bias',\n",
       "              tensor([ 0.0089, -0.0162,  0.0036, -0.0038,  0.0006, -0.0091, -0.0040, -0.0114,\n",
       "                       0.0029,  0.0007,  0.0040,  0.0087, -0.0147,  0.0018,  0.0062, -0.0048,\n",
       "                       0.0095,  0.0051,  0.0081, -0.0013, -0.0019,  0.0058,  0.0043, -0.0142,\n",
       "                      -0.0002,  0.0096,  0.0061, -0.0138,  0.0040,  0.0016,  0.0106, -0.0135,\n",
       "                       0.0103, -0.0039,  0.0265, -0.0026,  0.0070, -0.0029,  0.0135,  0.0063,\n",
       "                       0.0036, -0.0026,  0.0114, -0.0005, -0.0017, -0.0091,  0.0030,  0.0116,\n",
       "                       0.0141,  0.0017,  0.0081,  0.0002,  0.0072, -0.0121, -0.0022,  0.0060,\n",
       "                       0.0137, -0.0054,  0.0099,  0.0022,  0.0043, -0.0088,  0.0021,  0.0017],\n",
       "                     device='cuda:0')),\n",
       "             ('1.mab0.fc_o.weight',\n",
       "              tensor([[-0.1629, -0.1739, -0.0745,  ..., -0.0913, -0.0098, -0.1273],\n",
       "                      [-0.0822, -0.0707,  0.0776,  ...,  0.4624, -0.1979, -0.0014],\n",
       "                      [ 0.0258, -0.0767,  0.1816,  ..., -0.1098,  0.0100,  0.0483],\n",
       "                      ...,\n",
       "                      [-0.0204, -0.0204,  0.1308,  ..., -0.1017, -0.1301, -0.1465],\n",
       "                      [ 0.1294, -0.0023,  0.1538,  ..., -0.0094,  0.0933,  0.0369],\n",
       "                      [ 0.0462, -0.0698, -0.0475,  ..., -0.0676, -0.0727, -0.1075]],\n",
       "                     device='cuda:0')),\n",
       "             ('1.mab0.fc_o.bias',\n",
       "              tensor([ 0.0027, -0.1417, -0.0170, -0.0994, -0.1128, -0.0042,  0.0803, -0.0610,\n",
       "                       0.0507, -0.0028,  0.0237,  0.0471,  0.1049, -0.0226,  0.0371,  0.0390,\n",
       "                      -0.0004,  0.0371, -0.0902, -0.0481,  0.0053,  0.0671, -0.0157,  0.0171,\n",
       "                      -0.0152,  0.0339, -0.0164,  0.0155, -0.0834,  0.0573, -0.0984, -0.0157,\n",
       "                      -0.0230, -0.0198, -0.1303,  0.0444,  0.0560, -0.0316, -0.0055, -0.0389,\n",
       "                      -0.1167, -0.0044, -0.0606, -0.0846, -0.0813, -0.0822,  0.0302,  0.0850,\n",
       "                      -0.1114, -0.1399, -0.0738, -0.0391,  0.0046, -0.0636, -0.0587,  0.0160,\n",
       "                      -0.0140, -0.1246, -0.0002, -0.0447, -0.0878,  0.0207, -0.0182, -0.0994],\n",
       "                     device='cuda:0')),\n",
       "             ('1.mab1.fc_q.weight',\n",
       "              tensor([[-0.1087, -0.0196,  0.0691,  ..., -0.0237, -0.0129,  0.0280],\n",
       "                      [-0.0941,  0.0354,  0.0400,  ..., -0.0685,  0.0747, -0.1080],\n",
       "                      [-0.0326, -0.0725,  0.0289,  ..., -0.1060, -0.0131, -0.1173],\n",
       "                      ...,\n",
       "                      [-0.0424,  0.0474, -0.0894,  ..., -0.1089, -0.0307,  0.0195],\n",
       "                      [ 0.0088, -0.0301, -0.0338,  ...,  0.0950,  0.0229, -0.0548],\n",
       "                      [ 0.0637, -0.1033, -0.0152,  ..., -0.0955, -0.0176, -0.0358]],\n",
       "                     device='cuda:0')),\n",
       "             ('1.mab1.fc_q.bias',\n",
       "              tensor([ 0.0230,  0.0568,  0.0379, -0.0880,  0.1087,  0.0252,  0.0111, -0.0176,\n",
       "                       0.1039, -0.0662,  0.0193,  0.1022,  0.0860, -0.0581,  0.0424, -0.0532,\n",
       "                       0.0038, -0.1015, -0.0563,  0.0113, -0.0669, -0.0735, -0.0958,  0.0855,\n",
       "                      -0.0905, -0.0634,  0.0288,  0.1243, -0.0923, -0.0637, -0.0525,  0.0312,\n",
       "                      -0.0273,  0.1001,  0.0878,  0.0086,  0.0005,  0.0651, -0.0323,  0.1127,\n",
       "                       0.0188,  0.0815, -0.0223,  0.0942, -0.0907, -0.1155,  0.0801,  0.1230,\n",
       "                      -0.1092,  0.0797,  0.1030, -0.1035,  0.0217,  0.0991, -0.0643, -0.1175,\n",
       "                       0.0579,  0.1105, -0.1279, -0.0510, -0.1257,  0.0986,  0.0574,  0.0848],\n",
       "                     device='cuda:0')),\n",
       "             ('1.mab1.fc_k.weight',\n",
       "              tensor([[ 0.1035, -0.0544,  0.0035,  ..., -0.0940,  0.0051,  0.2199],\n",
       "                      [-0.0894, -0.0924,  0.0193,  ..., -0.0751,  0.0861,  0.1166],\n",
       "                      [ 0.1315,  0.1518,  0.1486,  ...,  0.0607, -0.0873, -0.0960],\n",
       "                      ...,\n",
       "                      [ 0.1016, -0.0339,  0.1286,  ...,  0.0692, -0.0577,  0.1596],\n",
       "                      [ 0.0593,  0.0841,  0.1346,  ...,  0.0208, -0.0494,  0.1382],\n",
       "                      [ 0.0249,  0.0391, -0.0670,  ...,  0.0196, -0.0522, -0.1151]],\n",
       "                     device='cuda:0')),\n",
       "             ('1.mab1.fc_k.bias',\n",
       "              tensor([ 0.0036,  0.0181,  0.0095,  0.0867, -0.0187, -0.0199, -0.0037,  0.0502,\n",
       "                       0.1089,  0.0986,  0.0977,  0.0647, -0.0663,  0.0196,  0.0739,  0.0030,\n",
       "                      -0.0977,  0.1009, -0.0173, -0.0103, -0.0579, -0.0598, -0.0615, -0.0497,\n",
       "                      -0.0242,  0.0307,  0.0321, -0.0046, -0.1043,  0.0742,  0.0418, -0.0925,\n",
       "                      -0.0312, -0.0515, -0.0244, -0.0877, -0.0759, -0.0411,  0.0646, -0.0282,\n",
       "                      -0.0592,  0.0023, -0.0896, -0.0274,  0.0372,  0.0478,  0.0620,  0.0747,\n",
       "                       0.0052,  0.0534,  0.1049,  0.0936, -0.0181,  0.0771, -0.0610, -0.0563,\n",
       "                       0.0840, -0.0418,  0.0796, -0.0655, -0.0573, -0.0588, -0.0469,  0.0331],\n",
       "                     device='cuda:0')),\n",
       "             ('1.mab1.fc_v.weight',\n",
       "              tensor([[-0.0255, -0.0864, -0.0373,  ...,  0.0844,  0.0517, -0.0897],\n",
       "                      [-0.0955,  0.0795,  0.0826,  ..., -0.0317,  0.0082,  0.1513],\n",
       "                      [ 0.0148,  0.0038,  0.1211,  ...,  0.1134,  0.0010, -0.1183],\n",
       "                      ...,\n",
       "                      [ 0.0607, -0.0548, -0.1150,  ..., -0.0574,  0.0407, -0.1051],\n",
       "                      [ 0.1058,  0.0685, -0.0697,  ..., -0.2096,  0.0576,  0.1142],\n",
       "                      [-0.0459,  0.0279, -0.0887,  ...,  0.0990, -0.0295,  0.0958]],\n",
       "                     device='cuda:0')),\n",
       "             ('1.mab1.fc_v.bias',\n",
       "              tensor([ 8.6865e-02,  6.0003e-03,  8.0234e-02, -1.7303e-02,  6.0584e-02,\n",
       "                       1.0633e-01,  1.3777e-02,  5.2762e-02, -2.0713e-02,  3.7443e-02,\n",
       "                      -1.0420e-01,  8.2896e-02, -4.7979e-02,  9.8122e-02,  8.4993e-02,\n",
       "                      -4.8514e-02,  8.7087e-02,  9.2106e-05, -2.3807e-02,  1.2336e-01,\n",
       "                      -1.1961e-01,  1.0427e-01, -5.0018e-02,  8.4173e-02, -9.1653e-02,\n",
       "                      -1.0136e-01, -1.2899e-01,  2.0743e-03, -4.1945e-02, -5.4569e-02,\n",
       "                      -3.0936e-02,  3.7067e-02, -5.7327e-02,  1.9268e-02,  4.7978e-02,\n",
       "                      -2.4834e-02, -4.7736e-02,  1.0967e-01, -1.1206e-01, -3.6836e-02,\n",
       "                       5.0104e-02,  2.3724e-02,  7.0987e-02,  1.0924e-02,  6.5189e-03,\n",
       "                      -2.9113e-02,  6.1621e-02, -4.8832e-02,  4.9695e-02, -6.8696e-02,\n",
       "                      -6.4393e-02,  9.7960e-02, -6.7296e-02,  7.0626e-02,  6.2267e-02,\n",
       "                      -2.3458e-02,  2.5853e-02,  9.5877e-02,  1.9320e-02,  7.6779e-02,\n",
       "                       2.3623e-02,  1.1812e-01,  6.3844e-02, -9.4365e-02], device='cuda:0')),\n",
       "             ('1.mab1.ln0.weight',\n",
       "              tensor([0.9870, 0.9816, 0.9907, 0.9894, 0.9902, 1.0127, 1.0041, 0.9921, 0.9931,\n",
       "                      1.0206, 0.9900, 0.9965, 1.0482, 0.9758, 0.9952, 1.0174, 1.0019, 1.1144,\n",
       "                      1.0118, 1.0053, 0.9940, 1.0017, 0.9860, 1.0094, 0.9987, 0.9821, 0.9842,\n",
       "                      0.9813, 1.0424, 0.9968, 1.0085, 1.0336, 0.9977, 0.9935, 1.0041, 0.9979,\n",
       "                      0.9931, 1.0068, 1.0075, 1.0030, 0.9920, 0.9843, 0.9974, 1.0064, 0.9857,\n",
       "                      0.9958, 0.9903, 0.9797, 1.0041, 1.0363, 1.0248, 1.0067, 1.0411, 0.9916,\n",
       "                      1.0036, 1.0047, 1.0198, 1.0137, 1.0011, 1.0079, 0.9994, 1.0059, 1.0064,\n",
       "                      0.9921], device='cuda:0')),\n",
       "             ('1.mab1.ln0.bias',\n",
       "              tensor([ 0.0063, -0.0109, -0.0035,  0.0008, -0.0009,  0.0039, -0.0189,  0.0080,\n",
       "                      -0.0106,  0.0061, -0.0042, -0.0068,  0.0011, -0.0054,  0.0071,  0.0051,\n",
       "                       0.0036, -0.0101,  0.0040, -0.0022, -0.0043,  0.0003,  0.0021,  0.0149,\n",
       "                       0.0007,  0.0055, -0.0090,  0.0024,  0.0023,  0.0009,  0.0128,  0.0074,\n",
       "                       0.0065,  0.0024, -0.0094,  0.0208,  0.0115,  0.0019, -0.0004,  0.0057,\n",
       "                      -0.0019,  0.0019,  0.0025,  0.0085,  0.0085,  0.0003, -0.0046,  0.0042,\n",
       "                      -0.0189,  0.0076, -0.0031, -0.0091, -0.0010, -0.0084,  0.0088,  0.0091,\n",
       "                       0.0019,  0.0014, -0.0072,  0.0171, -0.0008, -0.0049, -0.0077, -0.0018],\n",
       "                     device='cuda:0')),\n",
       "             ('1.mab1.ln1.weight',\n",
       "              tensor([0.9861, 0.9892, 0.9702, 1.0851, 0.9577, 0.9922, 0.9739, 0.9683, 0.9845,\n",
       "                      1.0220, 0.9789, 0.9883, 1.0891, 1.0722, 0.9799, 1.0043, 0.9705, 1.0061,\n",
       "                      0.9990, 1.0061, 0.9498, 0.9824, 0.9787, 0.9756, 0.9796, 0.9594, 0.9360,\n",
       "                      0.9720, 0.9878, 0.9840, 0.9867, 1.0097, 0.9740, 0.9674, 0.9892, 0.9647,\n",
       "                      0.9972, 1.0043, 0.9818, 0.9779, 0.9682, 0.9908, 0.9922, 0.9774, 0.9972,\n",
       "                      0.9910, 0.9692, 0.9678, 0.9752, 0.9998, 1.0112, 0.9977, 1.0213, 0.9832,\n",
       "                      0.9717, 0.9926, 0.9736, 0.9887, 0.9822, 0.9442, 0.9973, 0.9831, 0.9799,\n",
       "                      0.9878], device='cuda:0')),\n",
       "             ('1.mab1.ln1.bias',\n",
       "              tensor([-3.2099e-03, -1.3087e-03,  2.8456e-03, -1.1282e-03, -1.7670e-03,\n",
       "                      -6.4148e-04, -1.2694e-02, -7.6816e-03, -8.2660e-03,  2.0037e-03,\n",
       "                      -2.7877e-03,  5.3447e-04, -2.9431e-03, -5.2425e-05,  1.6963e-02,\n",
       "                       4.2492e-03,  4.7184e-03, -2.8161e-02, -9.6831e-03,  2.9543e-03,\n",
       "                       3.2590e-02, -7.9593e-03, -3.4093e-03, -9.1343e-03,  1.0195e-02,\n",
       "                       3.2692e-02,  2.0564e-02, -6.4992e-03,  7.2772e-04,  1.3634e-02,\n",
       "                      -7.2296e-03,  4.8612e-03, -1.6639e-02,  9.3898e-03,  3.1865e-04,\n",
       "                      -2.2421e-02,  7.5800e-03, -3.7396e-03,  2.0950e-02, -1.5307e-02,\n",
       "                      -1.8911e-02,  1.2251e-02, -4.4482e-03, -1.0334e-02, -6.8022e-03,\n",
       "                      -6.2649e-03,  1.8546e-02, -1.0949e-02,  1.9829e-02, -4.6543e-03,\n",
       "                       1.5935e-03, -7.4304e-03, -5.1747e-04,  4.5829e-03, -2.2161e-02,\n",
       "                       2.8203e-03, -3.0942e-02,  6.4588e-03,  9.7802e-03, -6.9823e-02,\n",
       "                      -8.6236e-04,  1.6711e-02,  1.8455e-02,  8.2015e-03], device='cuda:0')),\n",
       "             ('1.mab1.fc_o.weight',\n",
       "              tensor([[-0.0129, -0.0177,  0.0524,  ...,  0.1036, -0.1029, -0.1317],\n",
       "                      [ 0.0764,  0.0948,  0.0491,  ...,  0.1027,  0.0183,  0.0284],\n",
       "                      [ 0.0130,  0.0177, -0.0750,  ...,  0.0442, -0.0581, -0.0639],\n",
       "                      ...,\n",
       "                      [ 0.0818,  0.0038, -0.0075,  ...,  0.0087, -0.0945,  0.0968],\n",
       "                      [-0.0375, -0.0120,  0.0670,  ..., -0.1247,  0.0926,  0.0488],\n",
       "                      [-0.0738, -0.0192,  0.0332,  ...,  0.1253, -0.0161,  0.0996]],\n",
       "                     device='cuda:0')),\n",
       "             ('1.mab1.fc_o.bias',\n",
       "              tensor([ 6.6520e-02, -1.0834e-01,  6.7167e-02, -1.2063e-01,  6.4803e-02,\n",
       "                       3.5782e-02,  6.3462e-05, -2.4435e-02,  1.1594e-01,  9.8462e-02,\n",
       "                      -1.0113e-01, -7.8229e-02, -4.3305e-03,  9.7987e-02,  5.8232e-02,\n",
       "                      -5.8461e-02, -1.0003e-01,  6.6263e-02, -2.5140e-02, -1.1505e-01,\n",
       "                      -9.1321e-02,  3.2382e-02, -3.9232e-02,  1.2402e-01,  4.8966e-02,\n",
       "                      -1.5245e-01,  2.7376e-02,  1.0043e-01, -2.9266e-02, -3.9547e-02,\n",
       "                       2.2558e-02, -1.0718e-01,  4.8252e-02, -1.0106e-01,  9.0442e-02,\n",
       "                       1.1049e-02, -1.0315e-01, -4.0532e-02,  1.2391e-01, -5.4723e-02,\n",
       "                      -8.5572e-02, -3.0841e-02, -3.7232e-02,  1.1645e-01,  1.0972e-01,\n",
       "                       2.2458e-02, -1.0922e-01, -5.8242e-02, -8.1319e-02, -3.0139e-02,\n",
       "                       4.2530e-02, -1.0859e-01, -8.2385e-02, -5.8151e-02, -9.9711e-02,\n",
       "                      -7.8208e-02,  6.6426e-02,  3.8326e-02,  1.0416e-01, -6.6981e-02,\n",
       "                       9.3296e-02,  5.8903e-02, -1.1279e-01,  8.5478e-03], device='cuda:0'))])"
      ]
     },
     "execution_count": 18,
     "metadata": {},
     "output_type": "execute_result"
    }
   ],
   "source": [
    "model.para_enc.state_dict()"
   ]
  },
  {
   "cell_type": "code",
   "execution_count": null,
   "id": "61c607b3",
   "metadata": {},
   "outputs": [],
   "source": [
    "config[\"model\"].embedding.load_state_dict(ckpt.embedding.state_dict())\n",
    "config[\"model\"].para_enc.load_state_dict(ckpt.enc.state_dict())\n",
    "config[\"model\"].para_dec.load_state_dict(ckpt.dec.state_dict())\n",
    "config[\"model\"].epi_enc.load_state_dict(ckpt.enc.state_dict())\n",
    "config[\"model\"].epi_dec.load_state_dict(ckpt.dec.state_dict())\n",
    "config[\"model\"].co_attn.load_state_dict(ckpt.co_attn.state_dict())\n",
    "config[\"model\"].train()"
   ]
  },
  {
   "cell_type": "markdown",
   "id": "ad7df25c",
   "metadata": {},
   "source": [
    "# SAbDab new/old"
   ]
  },
  {
   "cell_type": "code",
   "execution_count": 2,
   "id": "c2d9c4d7",
   "metadata": {},
   "outputs": [],
   "source": [
    "old = pickle.load(open(\"../Transformer4Ab/data/processed_data_clip1_neg0.pkl\", \"rb\"))\n",
    "new = pickle.load(open(\"./data/processed_data_clip1_neg0_usepairFalse_num_neg1.pkl\", \"rb\"))"
   ]
  },
  {
   "cell_type": "code",
   "execution_count": 14,
   "id": "25d62e6c",
   "metadata": {},
   "outputs": [],
   "source": [
    "for i in range(len(old)):\n",
    "    if new[i][0]!=old[i][0]:\n",
    "        break"
   ]
  },
  {
   "cell_type": "code",
   "execution_count": 16,
   "id": "5452fc86",
   "metadata": {},
   "outputs": [
    {
     "data": {
      "text/plain": [
       "(('GDTFIRYS/IITILDVA/AGVYEGEADEGEYDNNGFLKH/ESVSSD/GAS/QQYNNWPPRYT',\n",
       "  'STHAQTNKFNYTEFTTHYYDILAPYEKNMTRLPRLLVLARMAPEEII*',\n",
       "  0),\n",
       " ('GYSFTGYY/IDPYDGAT/AREGHWDGDWYFDV/QSLLHSNGKTY/LVS/LQGTYYPFT',\n",
       "  'RAAGQPAGDR##############################################################',\n",
       "  1))"
      ]
     },
     "execution_count": 16,
     "metadata": {},
     "output_type": "execute_result"
    }
   ],
   "source": [
    "old[i], new[i]"
   ]
  },
  {
   "cell_type": "code",
   "execution_count": 4,
   "id": "ae07564e",
   "metadata": {},
   "outputs": [
    {
     "data": {
      "text/plain": [
       "(7856, 7558)"
      ]
     },
     "execution_count": 4,
     "metadata": {},
     "output_type": "execute_result"
    }
   ],
   "source": [
    "len(old), len(new)"
   ]
  },
  {
   "cell_type": "code",
   "execution_count": 7,
   "id": "f769f8f5",
   "metadata": {},
   "outputs": [
    {
     "data": {
      "text/plain": [
       "(('GGSISSGDSY/IYYSGST/ARHVGDLRVNDAFDI/SSNIGNNF/DSD/GTWDRSLSVVV',\n",
       "  'MEVSYCYEASISDFACSKKMTGKLTMNNKHPWHAADTGTPHWMDGAKG',\n",
       "  1),\n",
       " ('GGSISSGDSY/IYYSGST/ARHVGDLRVNDAFDI/SSNIGNNF/DSD/GTWDRSLSVVV',\n",
       "  'MEVSYCYEASISDFACSKKMTGKLTMNNKHPWHAADTGTPHWMDGAKG########################',\n",
       "  1))"
      ]
     },
     "execution_count": 7,
     "metadata": {},
     "output_type": "execute_result"
    }
   ],
   "source": [
    "old[0], new[0]"
   ]
  },
  {
   "cell_type": "code",
   "execution_count": 9,
   "id": "982ff047",
   "metadata": {},
   "outputs": [
    {
     "data": {
      "text/plain": [
       "(('GYTFTSYT/IYPYNAGT/ARKSSRLRSTLDY/QDIRSY/YAT/LQHGESPYT',\n",
       "  'HDEEFLIKNHLRDIMGIPYCNYYWYPKCWLVSNYLNETHFSDDIEQQA',\n",
       "  0),\n",
       " ('GFTFSHYY/INYDGTST/AREEGYGNPYPYWYFDV/SSVSY/ATS/QQRSSNPRT',\n",
       "  'TVEGSEFLSLYETERLIQELISYDMDVNSKKYLDQIDELYEDFHV***########################',\n",
       "  0))"
      ]
     },
     "execution_count": 9,
     "metadata": {},
     "output_type": "execute_result"
    }
   ],
   "source": [
    "old[1000], new[1000]"
   ]
  },
  {
   "cell_type": "code",
   "execution_count": 8,
   "id": "752539a2",
   "metadata": {},
   "outputs": [
    {
     "data": {
      "text/plain": [
       "(('GYTFTSYW/ILPGSGYI/SRALALYAMDY/KSLLHSNGNTY/RMS/LQHLEYPFT',\n",
       "  'SYVFYRHQQEQEAEGVAAPADPEMVTLPLSRQLAIIGDDYRLHQGF**',\n",
       "  0),\n",
       " ('GYTFTSYW/ILPGSGYI/SRALALYAMDY/KSLLHSNGNTY/RMS/LQHLEYPFT',\n",
       "  'KGLTYTMCDKTKFTWKTFSGTKPCRIPVRANNPTIENNGGGYVGELSY########################',\n",
       "  0))"
      ]
     },
     "execution_count": 8,
     "metadata": {},
     "output_type": "execute_result"
    }
   ],
   "source": [
    "old[-1], new[-1]"
   ]
  },
  {
   "cell_type": "markdown",
   "id": "cfffa0a1",
   "metadata": {},
   "source": [
    "# scheduler"
   ]
  },
  {
   "cell_type": "code",
   "execution_count": 40,
   "id": "293ce96d",
   "metadata": {
    "scrolled": true
   },
   "outputs": [
    {
     "name": "stdout",
     "output_type": "stream",
     "text": [
      "9.997532801828658e-05\n",
      "9.990133642141359e-05\n",
      "9.977809823015401e-05\n",
      "9.96057350657239e-05\n",
      "9.938441702975689e-05\n",
      "9.911436253643445e-05\n",
      "9.879583809693738e-05\n",
      "9.842915805643155e-05\n",
      "9.801468428384716e-05\n",
      "9.755282581475769e-05\n",
      "9.704403844771128e-05\n",
      "9.648882429441257e-05\n",
      "9.588773128419906e-05\n",
      "9.524135262330098e-05\n",
      "9.45503262094184e-05\n",
      "9.381533400219318e-05\n",
      "9.30371013501972e-05\n",
      "9.221639627510076e-05\n",
      "9.135402871372808e-05\n",
      "9.045084971874738e-05\n",
      "8.950775061878452e-05\n",
      "8.852566213878947e-05\n",
      "8.750555348152298e-05\n",
      "8.644843137107059e-05\n",
      "8.535533905932738e-05\n",
      "8.422735529643444e-05\n",
      "8.306559326618259e-05\n",
      "8.18711994874345e-05\n",
      "8.064535268264883e-05\n",
      "7.938926261462367e-05\n",
      "7.810416889260655e-05\n",
      "7.679133974894983e-05\n",
      "7.545207078751857e-05\n",
      "7.408768370508576e-05\n",
      "7.269952498697734e-05\n",
      "7.128896457825364e-05\n",
      "6.985739453173903e-05\n",
      "6.840622763423391e-05\n",
      "6.693689601226458e-05\n",
      "6.545084971874738e-05\n",
      "6.394955530196147e-05\n",
      "6.243449435824273e-05\n",
      "6.090716206982714e-05\n",
      "5.9369065729286245e-05\n",
      "5.782172325201155e-05\n",
      "5.626666167821523e-05\n",
      "5.4705415665925717e-05\n",
      "5.313952597646568e-05\n",
      "5.157053795390642e-05\n",
      "5e-05\n",
      "4.8429462046093585e-05\n",
      "4.6860474023534335e-05\n",
      "4.529458433407429e-05\n",
      "4.3733338321784795e-05\n",
      "4.217827674798846e-05\n",
      "4.0630934270713774e-05\n",
      "3.9092837930172884e-05\n",
      "3.756550564175726e-05\n",
      "3.605044469803854e-05\n",
      "3.454915028125264e-05\n",
      "3.3063103987735433e-05\n",
      "3.159377236576612e-05\n",
      "3.0142605468260964e-05\n",
      "2.8711035421746367e-05\n",
      "2.7300475013022663e-05\n",
      "2.591231629491423e-05\n",
      "2.4547929212481435e-05\n",
      "2.3208660251050158e-05\n",
      "2.1895831107393467e-05\n",
      "2.061073738537635e-05\n",
      "1.935464731735117e-05\n",
      "1.8128800512565513e-05\n",
      "1.6934406733817414e-05\n",
      "1.5772644703565565e-05\n",
      "1.4644660940672627e-05\n",
      "1.3551568628929434e-05\n",
      "1.2494446518477022e-05\n",
      "1.1474337861210543e-05\n",
      "1.049224938121548e-05\n",
      "9.549150281252633e-06\n",
      "8.645971286271914e-06\n",
      "7.783603724899257e-06\n",
      "6.962898649802812e-06\n",
      "6.184665997806821e-06\n",
      "5.449673790581611e-06\n",
      "4.758647376699032e-06\n",
      "4.112268715800954e-06\n",
      "3.511175705587433e-06\n",
      "2.9559615522887273e-06\n",
      "2.4471741852423237e-06\n",
      "1.9853157161528523e-06\n",
      "1.570841943568452e-06\n",
      "1.2041619030626339e-06\n",
      "8.85637463565564e-07\n",
      "6.15582970243117e-07\n",
      "3.9426493427611177e-07\n",
      "2.219017698460002e-07\n",
      "9.866357858642205e-08\n",
      "2.467198171342e-08\n",
      "0.0001\n",
      "9.997532801828658e-05\n",
      "9.990133642141359e-05\n",
      "9.977809823015401e-05\n",
      "9.96057350657239e-05\n",
      "9.938441702975689e-05\n",
      "9.911436253643445e-05\n",
      "9.879583809693738e-05\n",
      "9.842915805643155e-05\n",
      "9.801468428384716e-05\n",
      "9.755282581475769e-05\n",
      "9.704403844771128e-05\n",
      "9.648882429441257e-05\n",
      "9.588773128419906e-05\n",
      "9.524135262330098e-05\n",
      "9.45503262094184e-05\n",
      "9.381533400219318e-05\n",
      "9.30371013501972e-05\n",
      "9.221639627510076e-05\n",
      "9.135402871372808e-05\n",
      "9.045084971874738e-05\n",
      "8.950775061878452e-05\n",
      "8.852566213878947e-05\n",
      "8.750555348152298e-05\n",
      "8.644843137107059e-05\n",
      "8.535533905932738e-05\n",
      "8.422735529643444e-05\n",
      "8.306559326618259e-05\n",
      "8.18711994874345e-05\n",
      "8.064535268264883e-05\n",
      "7.938926261462367e-05\n",
      "7.810416889260655e-05\n",
      "7.679133974894983e-05\n",
      "7.545207078751857e-05\n",
      "7.408768370508576e-05\n",
      "7.269952498697734e-05\n",
      "7.128896457825364e-05\n",
      "6.985739453173903e-05\n",
      "6.840622763423391e-05\n",
      "6.693689601226458e-05\n",
      "6.545084971874738e-05\n",
      "6.394955530196147e-05\n",
      "6.243449435824273e-05\n",
      "6.090716206982714e-05\n",
      "5.9369065729286245e-05\n",
      "5.782172325201155e-05\n",
      "5.626666167821523e-05\n",
      "5.4705415665925717e-05\n",
      "5.313952597646568e-05\n",
      "5.157053795390642e-05\n",
      "5e-05\n",
      "4.8429462046093585e-05\n",
      "4.6860474023534335e-05\n",
      "4.529458433407429e-05\n",
      "4.3733338321784795e-05\n",
      "4.217827674798846e-05\n",
      "4.0630934270713774e-05\n",
      "3.9092837930172884e-05\n",
      "3.756550564175726e-05\n",
      "3.605044469803854e-05\n",
      "3.454915028125264e-05\n",
      "3.3063103987735433e-05\n",
      "3.159377236576612e-05\n",
      "3.0142605468260964e-05\n",
      "2.8711035421746367e-05\n",
      "2.7300475013022663e-05\n",
      "2.591231629491423e-05\n",
      "2.4547929212481435e-05\n",
      "2.3208660251050158e-05\n",
      "2.1895831107393467e-05\n",
      "2.061073738537635e-05\n",
      "1.935464731735117e-05\n",
      "1.8128800512565513e-05\n",
      "1.6934406733817414e-05\n",
      "1.5772644703565565e-05\n",
      "1.4644660940672627e-05\n",
      "1.3551568628929434e-05\n",
      "1.2494446518477022e-05\n",
      "1.1474337861210543e-05\n",
      "1.049224938121548e-05\n",
      "9.549150281252633e-06\n",
      "8.645971286271914e-06\n",
      "7.783603724899257e-06\n",
      "6.962898649802812e-06\n",
      "6.184665997806821e-06\n",
      "5.449673790581611e-06\n",
      "4.758647376699032e-06\n",
      "4.112268715800954e-06\n",
      "3.511175705587433e-06\n",
      "2.9559615522887273e-06\n",
      "2.4471741852423237e-06\n",
      "1.9853157161528523e-06\n",
      "1.570841943568452e-06\n",
      "1.2041619030626339e-06\n",
      "8.85637463565564e-07\n",
      "6.15582970243117e-07\n",
      "3.9426493427611177e-07\n",
      "2.219017698460002e-07\n",
      "9.866357858642205e-08\n",
      "2.467198171342e-08\n",
      "0.0001\n",
      "9.997532801828658e-05\n",
      "9.990133642141359e-05\n",
      "9.977809823015401e-05\n",
      "9.96057350657239e-05\n",
      "9.938441702975689e-05\n",
      "9.911436253643445e-05\n",
      "9.879583809693738e-05\n",
      "9.842915805643155e-05\n",
      "9.801468428384716e-05\n",
      "9.755282581475769e-05\n",
      "9.704403844771128e-05\n",
      "9.648882429441257e-05\n",
      "9.588773128419906e-05\n",
      "9.524135262330098e-05\n",
      "9.45503262094184e-05\n",
      "9.381533400219318e-05\n",
      "9.30371013501972e-05\n",
      "9.221639627510076e-05\n",
      "9.135402871372808e-05\n",
      "9.045084971874738e-05\n",
      "8.950775061878452e-05\n",
      "8.852566213878947e-05\n",
      "8.750555348152298e-05\n",
      "8.644843137107059e-05\n",
      "8.535533905932738e-05\n",
      "8.422735529643444e-05\n",
      "8.306559326618259e-05\n",
      "8.18711994874345e-05\n",
      "8.064535268264883e-05\n",
      "7.938926261462367e-05\n",
      "7.810416889260655e-05\n",
      "7.679133974894983e-05\n",
      "7.545207078751857e-05\n",
      "7.408768370508576e-05\n",
      "7.269952498697734e-05\n",
      "7.128896457825364e-05\n",
      "6.985739453173903e-05\n",
      "6.840622763423391e-05\n",
      "6.693689601226458e-05\n",
      "6.545084971874738e-05\n",
      "6.394955530196147e-05\n",
      "6.243449435824273e-05\n",
      "6.090716206982714e-05\n",
      "5.9369065729286245e-05\n",
      "5.782172325201155e-05\n",
      "5.626666167821523e-05\n",
      "5.4705415665925717e-05\n",
      "5.313952597646568e-05\n",
      "5.157053795390642e-05\n",
      "5e-05\n",
      "4.8429462046093585e-05\n",
      "4.6860474023534335e-05\n",
      "4.529458433407429e-05\n",
      "4.3733338321784795e-05\n",
      "4.217827674798846e-05\n",
      "4.0630934270713774e-05\n",
      "3.9092837930172884e-05\n",
      "3.756550564175726e-05\n",
      "3.605044469803854e-05\n",
      "3.454915028125264e-05\n",
      "3.3063103987735433e-05\n",
      "3.159377236576612e-05\n",
      "3.0142605468260964e-05\n",
      "2.8711035421746367e-05\n",
      "2.7300475013022663e-05\n",
      "2.591231629491423e-05\n",
      "2.4547929212481435e-05\n",
      "2.3208660251050158e-05\n",
      "2.1895831107393467e-05\n",
      "2.061073738537635e-05\n",
      "1.935464731735117e-05\n",
      "1.8128800512565513e-05\n",
      "1.6934406733817414e-05\n",
      "1.5772644703565565e-05\n",
      "1.4644660940672627e-05\n",
      "1.3551568628929434e-05\n",
      "1.2494446518477022e-05\n",
      "1.1474337861210543e-05\n",
      "1.049224938121548e-05\n",
      "9.549150281252633e-06\n",
      "8.645971286271914e-06\n",
      "7.783603724899257e-06\n",
      "6.962898649802812e-06\n",
      "6.184665997806821e-06\n",
      "5.449673790581611e-06\n",
      "4.758647376699032e-06\n",
      "4.112268715800954e-06\n",
      "3.511175705587433e-06\n",
      "2.9559615522887273e-06\n",
      "2.4471741852423237e-06\n",
      "1.9853157161528523e-06\n",
      "1.570841943568452e-06\n",
      "1.2041619030626339e-06\n",
      "8.85637463565564e-07\n",
      "6.15582970243117e-07\n",
      "3.9426493427611177e-07\n",
      "2.219017698460002e-07\n",
      "9.866357858642205e-08\n",
      "2.467198171342e-08\n",
      "0.0001\n",
      "9.997532801828658e-05\n",
      "9.990133642141359e-05\n",
      "9.977809823015401e-05\n",
      "9.96057350657239e-05\n",
      "9.938441702975689e-05\n",
      "9.911436253643445e-05\n",
      "9.879583809693738e-05\n",
      "9.842915805643155e-05\n",
      "9.801468428384716e-05\n",
      "9.755282581475769e-05\n",
      "9.704403844771128e-05\n",
      "9.648882429441257e-05\n",
      "9.588773128419906e-05\n",
      "9.524135262330098e-05\n",
      "9.45503262094184e-05\n",
      "9.381533400219318e-05\n",
      "9.30371013501972e-05\n",
      "9.221639627510076e-05\n",
      "9.135402871372808e-05\n",
      "9.045084971874738e-05\n",
      "8.950775061878452e-05\n",
      "8.852566213878947e-05\n",
      "8.750555348152298e-05\n",
      "8.644843137107059e-05\n",
      "8.535533905932738e-05\n",
      "8.422735529643444e-05\n",
      "8.306559326618259e-05\n",
      "8.18711994874345e-05\n",
      "8.064535268264883e-05\n",
      "7.938926261462367e-05\n",
      "7.810416889260655e-05\n",
      "7.679133974894983e-05\n",
      "7.545207078751857e-05\n",
      "7.408768370508576e-05\n",
      "7.269952498697734e-05\n",
      "7.128896457825364e-05\n",
      "6.985739453173903e-05\n",
      "6.840622763423391e-05\n",
      "6.693689601226458e-05\n",
      "6.545084971874738e-05\n",
      "6.394955530196147e-05\n",
      "6.243449435824273e-05\n",
      "6.090716206982714e-05\n",
      "5.9369065729286245e-05\n",
      "5.782172325201155e-05\n",
      "5.626666167821523e-05\n",
      "5.4705415665925717e-05\n",
      "5.313952597646568e-05\n",
      "5.157053795390642e-05\n",
      "5e-05\n",
      "4.8429462046093585e-05\n",
      "4.6860474023534335e-05\n",
      "4.529458433407429e-05\n",
      "4.3733338321784795e-05\n",
      "4.217827674798846e-05\n",
      "4.0630934270713774e-05\n",
      "3.9092837930172884e-05\n",
      "3.756550564175726e-05\n",
      "3.605044469803854e-05\n",
      "3.454915028125264e-05\n",
      "3.3063103987735433e-05\n",
      "3.159377236576612e-05\n",
      "3.0142605468260964e-05\n",
      "2.8711035421746367e-05\n",
      "2.7300475013022663e-05\n",
      "2.591231629491423e-05\n",
      "2.4547929212481435e-05\n",
      "2.3208660251050158e-05\n",
      "2.1895831107393467e-05\n",
      "2.061073738537635e-05\n",
      "1.935464731735117e-05\n",
      "1.8128800512565513e-05\n",
      "1.6934406733817414e-05\n",
      "1.5772644703565565e-05\n",
      "1.4644660940672627e-05\n",
      "1.3551568628929434e-05\n",
      "1.2494446518477022e-05\n",
      "1.1474337861210543e-05\n",
      "1.049224938121548e-05\n",
      "9.549150281252633e-06\n",
      "8.645971286271914e-06\n",
      "7.783603724899257e-06\n",
      "6.962898649802812e-06\n",
      "6.184665997806821e-06\n",
      "5.449673790581611e-06\n",
      "4.758647376699032e-06\n",
      "4.112268715800954e-06\n",
      "3.511175705587433e-06\n",
      "2.9559615522887273e-06\n",
      "2.4471741852423237e-06\n",
      "1.9853157161528523e-06\n",
      "1.570841943568452e-06\n",
      "1.2041619030626339e-06\n",
      "8.85637463565564e-07\n",
      "6.15582970243117e-07\n",
      "3.9426493427611177e-07\n",
      "2.219017698460002e-07\n",
      "9.866357858642205e-08\n",
      "2.467198171342e-08\n",
      "0.0001\n",
      "9.997532801828658e-05\n",
      "9.990133642141359e-05\n",
      "9.977809823015401e-05\n",
      "9.96057350657239e-05\n",
      "9.938441702975689e-05\n",
      "9.911436253643445e-05\n",
      "9.879583809693738e-05\n",
      "9.842915805643155e-05\n",
      "9.801468428384716e-05\n",
      "9.755282581475769e-05\n",
      "9.704403844771128e-05\n",
      "9.648882429441257e-05\n",
      "9.588773128419906e-05\n",
      "9.524135262330098e-05\n",
      "9.45503262094184e-05\n",
      "9.381533400219318e-05\n",
      "9.30371013501972e-05\n",
      "9.221639627510076e-05\n",
      "9.135402871372808e-05\n",
      "9.045084971874738e-05\n",
      "8.950775061878452e-05\n",
      "8.852566213878947e-05\n",
      "8.750555348152298e-05\n",
      "8.644843137107059e-05\n",
      "8.535533905932738e-05\n",
      "8.422735529643444e-05\n",
      "8.306559326618259e-05\n",
      "8.18711994874345e-05\n",
      "8.064535268264883e-05\n",
      "7.938926261462367e-05\n",
      "7.810416889260655e-05\n",
      "7.679133974894983e-05\n",
      "7.545207078751857e-05\n",
      "7.408768370508576e-05\n",
      "7.269952498697734e-05\n",
      "7.128896457825364e-05\n",
      "6.985739453173903e-05\n",
      "6.840622763423391e-05\n",
      "6.693689601226458e-05\n",
      "6.545084971874738e-05\n",
      "6.394955530196147e-05\n",
      "6.243449435824273e-05\n",
      "6.090716206982714e-05\n",
      "5.9369065729286245e-05\n",
      "5.782172325201155e-05\n",
      "5.626666167821523e-05\n",
      "5.4705415665925717e-05\n",
      "5.313952597646568e-05\n",
      "5.157053795390642e-05\n",
      "5e-05\n",
      "4.8429462046093585e-05\n",
      "4.6860474023534335e-05\n",
      "4.529458433407429e-05\n",
      "4.3733338321784795e-05\n",
      "4.217827674798846e-05\n",
      "4.0630934270713774e-05\n",
      "3.9092837930172884e-05\n",
      "3.756550564175726e-05\n",
      "3.605044469803854e-05\n",
      "3.454915028125264e-05\n",
      "3.3063103987735433e-05\n",
      "3.159377236576612e-05\n",
      "3.0142605468260964e-05\n",
      "2.8711035421746367e-05\n",
      "2.7300475013022663e-05\n",
      "2.591231629491423e-05\n",
      "2.4547929212481435e-05\n",
      "2.3208660251050158e-05\n",
      "2.1895831107393467e-05\n",
      "2.061073738537635e-05\n",
      "1.935464731735117e-05\n",
      "1.8128800512565513e-05\n",
      "1.6934406733817414e-05\n",
      "1.5772644703565565e-05\n",
      "1.4644660940672627e-05\n",
      "1.3551568628929434e-05\n",
      "1.2494446518477022e-05\n",
      "1.1474337861210543e-05\n",
      "1.049224938121548e-05\n",
      "9.549150281252633e-06\n",
      "8.645971286271914e-06\n",
      "7.783603724899257e-06\n",
      "6.962898649802812e-06\n",
      "6.184665997806821e-06\n",
      "5.449673790581611e-06\n",
      "4.758647376699032e-06\n",
      "4.112268715800954e-06\n",
      "3.511175705587433e-06\n",
      "2.9559615522887273e-06\n",
      "2.4471741852423237e-06\n",
      "1.9853157161528523e-06\n",
      "1.570841943568452e-06\n",
      "1.2041619030626339e-06\n",
      "8.85637463565564e-07\n",
      "6.15582970243117e-07\n",
      "3.9426493427611177e-07\n",
      "2.219017698460002e-07\n",
      "9.866357858642205e-08\n",
      "2.467198171342e-08\n",
      "0.0001\n",
      "9.997532801828658e-05\n",
      "9.990133642141359e-05\n",
      "9.977809823015401e-05\n",
      "9.96057350657239e-05\n",
      "9.938441702975689e-05\n",
      "9.911436253643445e-05\n",
      "9.879583809693738e-05\n",
      "9.842915805643155e-05\n",
      "9.801468428384716e-05\n",
      "9.755282581475769e-05\n",
      "9.704403844771128e-05\n",
      "9.648882429441257e-05\n",
      "9.588773128419906e-05\n",
      "9.524135262330098e-05\n",
      "9.45503262094184e-05\n",
      "9.381533400219318e-05\n",
      "9.30371013501972e-05\n",
      "9.221639627510076e-05\n",
      "9.135402871372808e-05\n",
      "9.045084971874738e-05\n",
      "8.950775061878452e-05\n",
      "8.852566213878947e-05\n",
      "8.750555348152298e-05\n",
      "8.644843137107059e-05\n",
      "8.535533905932738e-05\n",
      "8.422735529643444e-05\n",
      "8.306559326618259e-05\n",
      "8.18711994874345e-05\n",
      "8.064535268264883e-05\n",
      "7.938926261462367e-05\n",
      "7.810416889260655e-05\n",
      "7.679133974894983e-05\n",
      "7.545207078751857e-05\n",
      "7.408768370508576e-05\n",
      "7.269952498697734e-05\n",
      "7.128896457825364e-05\n",
      "6.985739453173903e-05\n",
      "6.840622763423391e-05\n",
      "6.693689601226458e-05\n",
      "6.545084971874738e-05\n",
      "6.394955530196147e-05\n",
      "6.243449435824273e-05\n",
      "6.090716206982714e-05\n",
      "5.9369065729286245e-05\n",
      "5.782172325201155e-05\n",
      "5.626666167821523e-05\n",
      "5.4705415665925717e-05\n",
      "5.313952597646568e-05\n",
      "5.157053795390642e-05\n",
      "5e-05\n",
      "4.8429462046093585e-05\n",
      "4.6860474023534335e-05\n",
      "4.529458433407429e-05\n",
      "4.3733338321784795e-05\n",
      "4.217827674798846e-05\n",
      "4.0630934270713774e-05\n",
      "3.9092837930172884e-05\n",
      "3.756550564175726e-05\n",
      "3.605044469803854e-05\n",
      "3.454915028125264e-05\n",
      "3.3063103987735433e-05\n",
      "3.159377236576612e-05\n",
      "3.0142605468260964e-05\n",
      "2.8711035421746367e-05\n",
      "2.7300475013022663e-05\n",
      "2.591231629491423e-05\n",
      "2.4547929212481435e-05\n",
      "2.3208660251050158e-05\n",
      "2.1895831107393467e-05\n",
      "2.061073738537635e-05\n",
      "1.935464731735117e-05\n",
      "1.8128800512565513e-05\n",
      "1.6934406733817414e-05\n",
      "1.5772644703565565e-05\n",
      "1.4644660940672627e-05\n",
      "1.3551568628929434e-05\n",
      "1.2494446518477022e-05\n",
      "1.1474337861210543e-05\n",
      "1.049224938121548e-05\n",
      "9.549150281252633e-06\n",
      "8.645971286271914e-06\n",
      "7.783603724899257e-06\n",
      "6.962898649802812e-06\n",
      "6.184665997806821e-06\n",
      "5.449673790581611e-06\n",
      "4.758647376699032e-06\n",
      "4.112268715800954e-06\n",
      "3.511175705587433e-06\n",
      "2.9559615522887273e-06\n",
      "2.4471741852423237e-06\n",
      "1.9853157161528523e-06\n",
      "1.570841943568452e-06\n",
      "1.2041619030626339e-06\n",
      "8.85637463565564e-07\n",
      "6.15582970243117e-07\n",
      "3.9426493427611177e-07\n",
      "2.219017698460002e-07\n",
      "9.866357858642205e-08\n",
      "2.467198171342e-08\n",
      "0.0001\n",
      "9.997532801828658e-05\n",
      "9.990133642141359e-05\n",
      "9.977809823015401e-05\n",
      "9.96057350657239e-05\n",
      "9.938441702975689e-05\n",
      "9.911436253643445e-05\n",
      "9.879583809693738e-05\n",
      "9.842915805643155e-05\n",
      "9.801468428384716e-05\n",
      "9.755282581475769e-05\n",
      "9.704403844771128e-05\n",
      "9.648882429441257e-05\n",
      "9.588773128419906e-05\n",
      "9.524135262330098e-05\n",
      "9.45503262094184e-05\n",
      "9.381533400219318e-05\n",
      "9.30371013501972e-05\n",
      "9.221639627510076e-05\n",
      "9.135402871372808e-05\n",
      "9.045084971874738e-05\n",
      "8.950775061878452e-05\n",
      "8.852566213878947e-05\n",
      "8.750555348152298e-05\n",
      "8.644843137107059e-05\n",
      "8.535533905932738e-05\n",
      "8.422735529643444e-05\n",
      "8.306559326618259e-05\n",
      "8.18711994874345e-05\n",
      "8.064535268264883e-05\n",
      "7.938926261462367e-05\n",
      "7.810416889260655e-05\n",
      "7.679133974894983e-05\n",
      "7.545207078751857e-05\n",
      "7.408768370508576e-05\n",
      "7.269952498697734e-05\n",
      "7.128896457825364e-05\n",
      "6.985739453173903e-05\n",
      "6.840622763423391e-05\n",
      "6.693689601226458e-05\n",
      "6.545084971874738e-05\n",
      "6.394955530196147e-05\n",
      "6.243449435824273e-05\n",
      "6.090716206982714e-05\n",
      "5.9369065729286245e-05\n",
      "5.782172325201155e-05\n",
      "5.626666167821523e-05\n",
      "5.4705415665925717e-05\n",
      "5.313952597646568e-05\n",
      "5.157053795390642e-05\n",
      "5e-05\n",
      "4.8429462046093585e-05\n",
      "4.6860474023534335e-05\n",
      "4.529458433407429e-05\n",
      "4.3733338321784795e-05\n",
      "4.217827674798846e-05\n",
      "4.0630934270713774e-05\n",
      "3.9092837930172884e-05\n",
      "3.756550564175726e-05\n",
      "3.605044469803854e-05\n",
      "3.454915028125264e-05\n",
      "3.3063103987735433e-05\n",
      "3.159377236576612e-05\n",
      "3.0142605468260964e-05\n",
      "2.8711035421746367e-05\n",
      "2.7300475013022663e-05\n",
      "2.591231629491423e-05\n",
      "2.4547929212481435e-05\n",
      "2.3208660251050158e-05\n",
      "2.1895831107393467e-05\n",
      "2.061073738537635e-05\n",
      "1.935464731735117e-05\n",
      "1.8128800512565513e-05\n",
      "1.6934406733817414e-05\n",
      "1.5772644703565565e-05\n",
      "1.4644660940672627e-05\n",
      "1.3551568628929434e-05\n",
      "1.2494446518477022e-05\n",
      "1.1474337861210543e-05\n",
      "1.049224938121548e-05\n",
      "9.549150281252633e-06\n",
      "8.645971286271914e-06\n",
      "7.783603724899257e-06\n",
      "6.962898649802812e-06\n",
      "6.184665997806821e-06\n",
      "5.449673790581611e-06\n",
      "4.758647376699032e-06\n",
      "4.112268715800954e-06\n",
      "3.511175705587433e-06\n",
      "2.9559615522887273e-06\n",
      "2.4471741852423237e-06\n",
      "1.9853157161528523e-06\n",
      "1.570841943568452e-06\n",
      "1.2041619030626339e-06\n",
      "8.85637463565564e-07\n",
      "6.15582970243117e-07\n",
      "3.9426493427611177e-07\n",
      "2.219017698460002e-07\n",
      "9.866357858642205e-08\n",
      "2.467198171342e-08\n",
      "0.0001\n",
      "9.997532801828658e-05\n",
      "9.990133642141359e-05\n",
      "9.977809823015401e-05\n",
      "9.96057350657239e-05\n",
      "9.938441702975689e-05\n",
      "9.911436253643445e-05\n",
      "9.879583809693738e-05\n",
      "9.842915805643155e-05\n",
      "9.801468428384716e-05\n",
      "9.755282581475769e-05\n",
      "9.704403844771128e-05\n",
      "9.648882429441257e-05\n",
      "9.588773128419906e-05\n",
      "9.524135262330098e-05\n",
      "9.45503262094184e-05\n",
      "9.381533400219318e-05\n",
      "9.30371013501972e-05\n",
      "9.221639627510076e-05\n",
      "9.135402871372808e-05\n",
      "9.045084971874738e-05\n",
      "8.950775061878452e-05\n",
      "8.852566213878947e-05\n",
      "8.750555348152298e-05\n",
      "8.644843137107059e-05\n",
      "8.535533905932738e-05\n",
      "8.422735529643444e-05\n",
      "8.306559326618259e-05\n",
      "8.18711994874345e-05\n",
      "8.064535268264883e-05\n",
      "7.938926261462367e-05\n",
      "7.810416889260655e-05\n",
      "7.679133974894983e-05\n",
      "7.545207078751857e-05\n",
      "7.408768370508576e-05\n",
      "7.269952498697734e-05\n",
      "7.128896457825364e-05\n",
      "6.985739453173903e-05\n",
      "6.840622763423391e-05\n",
      "6.693689601226458e-05\n",
      "6.545084971874738e-05\n",
      "6.394955530196147e-05\n",
      "6.243449435824273e-05\n",
      "6.090716206982714e-05\n",
      "5.9369065729286245e-05\n",
      "5.782172325201155e-05\n",
      "5.626666167821523e-05\n",
      "5.4705415665925717e-05\n",
      "5.313952597646568e-05\n",
      "5.157053795390642e-05\n",
      "5e-05\n",
      "4.8429462046093585e-05\n",
      "4.6860474023534335e-05\n",
      "4.529458433407429e-05\n",
      "4.3733338321784795e-05\n",
      "4.217827674798846e-05\n",
      "4.0630934270713774e-05\n",
      "3.9092837930172884e-05\n",
      "3.756550564175726e-05\n",
      "3.605044469803854e-05\n",
      "3.454915028125264e-05\n",
      "3.3063103987735433e-05\n",
      "3.159377236576612e-05\n",
      "3.0142605468260964e-05\n",
      "2.8711035421746367e-05\n",
      "2.7300475013022663e-05\n",
      "2.591231629491423e-05\n",
      "2.4547929212481435e-05\n",
      "2.3208660251050158e-05\n",
      "2.1895831107393467e-05\n",
      "2.061073738537635e-05\n",
      "1.935464731735117e-05\n",
      "1.8128800512565513e-05\n",
      "1.6934406733817414e-05\n",
      "1.5772644703565565e-05\n",
      "1.4644660940672627e-05\n",
      "1.3551568628929434e-05\n",
      "1.2494446518477022e-05\n",
      "1.1474337861210543e-05\n",
      "1.049224938121548e-05\n",
      "9.549150281252633e-06\n",
      "8.645971286271914e-06\n",
      "7.783603724899257e-06\n",
      "6.962898649802812e-06\n",
      "6.184665997806821e-06\n",
      "5.449673790581611e-06\n",
      "4.758647376699032e-06\n",
      "4.112268715800954e-06\n",
      "3.511175705587433e-06\n",
      "2.9559615522887273e-06\n",
      "2.4471741852423237e-06\n",
      "1.9853157161528523e-06\n",
      "1.570841943568452e-06\n",
      "1.2041619030626339e-06\n",
      "8.85637463565564e-07\n",
      "6.15582970243117e-07\n",
      "3.9426493427611177e-07\n",
      "2.219017698460002e-07\n",
      "9.866357858642205e-08\n",
      "2.467198171342e-08\n",
      "0.0001\n",
      "9.997532801828658e-05\n",
      "9.990133642141359e-05\n",
      "9.977809823015401e-05\n",
      "9.96057350657239e-05\n",
      "9.938441702975689e-05\n",
      "9.911436253643445e-05\n",
      "9.879583809693738e-05\n",
      "9.842915805643155e-05\n",
      "9.801468428384716e-05\n",
      "9.755282581475769e-05\n",
      "9.704403844771128e-05\n",
      "9.648882429441257e-05\n",
      "9.588773128419906e-05\n",
      "9.524135262330098e-05\n",
      "9.45503262094184e-05\n",
      "9.381533400219318e-05\n",
      "9.30371013501972e-05\n",
      "9.221639627510076e-05\n",
      "9.135402871372808e-05\n",
      "9.045084971874738e-05\n",
      "8.950775061878452e-05\n",
      "8.852566213878947e-05\n",
      "8.750555348152298e-05\n",
      "8.644843137107059e-05\n",
      "8.535533905932738e-05\n",
      "8.422735529643444e-05\n",
      "8.306559326618259e-05\n",
      "8.18711994874345e-05\n",
      "8.064535268264883e-05\n",
      "7.938926261462367e-05\n",
      "7.810416889260655e-05\n",
      "7.679133974894983e-05\n",
      "7.545207078751857e-05\n",
      "7.408768370508576e-05\n",
      "7.269952498697734e-05\n",
      "7.128896457825364e-05\n",
      "6.985739453173903e-05\n",
      "6.840622763423391e-05\n",
      "6.693689601226458e-05\n",
      "6.545084971874738e-05\n",
      "6.394955530196147e-05\n",
      "6.243449435824273e-05\n",
      "6.090716206982714e-05\n",
      "5.9369065729286245e-05\n",
      "5.782172325201155e-05\n",
      "5.626666167821523e-05\n",
      "5.4705415665925717e-05\n",
      "5.313952597646568e-05\n",
      "5.157053795390642e-05\n",
      "5e-05\n",
      "4.8429462046093585e-05\n",
      "4.6860474023534335e-05\n",
      "4.529458433407429e-05\n",
      "4.3733338321784795e-05\n",
      "4.217827674798846e-05\n",
      "4.0630934270713774e-05\n",
      "3.9092837930172884e-05\n",
      "3.756550564175726e-05\n",
      "3.605044469803854e-05\n",
      "3.454915028125264e-05\n",
      "3.3063103987735433e-05\n",
      "3.159377236576612e-05\n",
      "3.0142605468260964e-05\n",
      "2.8711035421746367e-05\n",
      "2.7300475013022663e-05\n",
      "2.591231629491423e-05\n",
      "2.4547929212481435e-05\n",
      "2.3208660251050158e-05\n",
      "2.1895831107393467e-05\n",
      "2.061073738537635e-05\n",
      "1.935464731735117e-05\n",
      "1.8128800512565513e-05\n",
      "1.6934406733817414e-05\n",
      "1.5772644703565565e-05\n",
      "1.4644660940672627e-05\n",
      "1.3551568628929434e-05\n",
      "1.2494446518477022e-05\n",
      "1.1474337861210543e-05\n",
      "1.049224938121548e-05\n",
      "9.549150281252633e-06\n",
      "8.645971286271914e-06\n",
      "7.783603724899257e-06\n",
      "6.962898649802812e-06\n",
      "6.184665997806821e-06\n",
      "5.449673790581611e-06\n",
      "4.758647376699032e-06\n",
      "4.112268715800954e-06\n",
      "3.511175705587433e-06\n",
      "2.9559615522887273e-06\n",
      "2.4471741852423237e-06\n",
      "1.9853157161528523e-06\n",
      "1.570841943568452e-06\n",
      "1.2041619030626339e-06\n",
      "8.85637463565564e-07\n",
      "6.15582970243117e-07\n",
      "3.9426493427611177e-07\n",
      "2.219017698460002e-07\n",
      "9.866357858642205e-08\n",
      "2.467198171342e-08\n",
      "0.0001\n",
      "9.997532801828658e-05\n",
      "9.990133642141359e-05\n",
      "9.977809823015401e-05\n",
      "9.96057350657239e-05\n",
      "9.938441702975689e-05\n",
      "9.911436253643445e-05\n",
      "9.879583809693738e-05\n",
      "9.842915805643155e-05\n",
      "9.801468428384716e-05\n",
      "9.755282581475769e-05\n",
      "9.704403844771128e-05\n",
      "9.648882429441257e-05\n",
      "9.588773128419906e-05\n",
      "9.524135262330098e-05\n",
      "9.45503262094184e-05\n",
      "9.381533400219318e-05\n",
      "9.30371013501972e-05\n",
      "9.221639627510076e-05\n",
      "9.135402871372808e-05\n",
      "9.045084971874738e-05\n",
      "8.950775061878452e-05\n",
      "8.852566213878947e-05\n",
      "8.750555348152298e-05\n",
      "8.644843137107059e-05\n",
      "8.535533905932738e-05\n",
      "8.422735529643444e-05\n",
      "8.306559326618259e-05\n",
      "8.18711994874345e-05\n",
      "8.064535268264883e-05\n",
      "7.938926261462367e-05\n",
      "7.810416889260655e-05\n",
      "7.679133974894983e-05\n",
      "7.545207078751857e-05\n",
      "7.408768370508576e-05\n",
      "7.269952498697734e-05\n",
      "7.128896457825364e-05\n",
      "6.985739453173903e-05\n",
      "6.840622763423391e-05\n",
      "6.693689601226458e-05\n",
      "6.545084971874738e-05\n",
      "6.394955530196147e-05\n",
      "6.243449435824273e-05\n",
      "6.090716206982714e-05\n",
      "5.9369065729286245e-05\n",
      "5.782172325201155e-05\n",
      "5.626666167821523e-05\n",
      "5.4705415665925717e-05\n",
      "5.313952597646568e-05\n",
      "5.157053795390642e-05\n",
      "5e-05\n",
      "4.8429462046093585e-05\n",
      "4.6860474023534335e-05\n",
      "4.529458433407429e-05\n",
      "4.3733338321784795e-05\n",
      "4.217827674798846e-05\n",
      "4.0630934270713774e-05\n",
      "3.9092837930172884e-05\n",
      "3.756550564175726e-05\n",
      "3.605044469803854e-05\n",
      "3.454915028125264e-05\n",
      "3.3063103987735433e-05\n",
      "3.159377236576612e-05\n",
      "3.0142605468260964e-05\n",
      "2.8711035421746367e-05\n",
      "2.7300475013022663e-05\n",
      "2.591231629491423e-05\n",
      "2.4547929212481435e-05\n",
      "2.3208660251050158e-05\n",
      "2.1895831107393467e-05\n",
      "2.061073738537635e-05\n",
      "1.935464731735117e-05\n",
      "1.8128800512565513e-05\n",
      "1.6934406733817414e-05\n",
      "1.5772644703565565e-05\n",
      "1.4644660940672627e-05\n",
      "1.3551568628929434e-05\n",
      "1.2494446518477022e-05\n",
      "1.1474337861210543e-05\n",
      "1.049224938121548e-05\n",
      "9.549150281252633e-06\n",
      "8.645971286271914e-06\n",
      "7.783603724899257e-06\n",
      "6.962898649802812e-06\n",
      "6.184665997806821e-06\n",
      "5.449673790581611e-06\n",
      "4.758647376699032e-06\n",
      "4.112268715800954e-06\n",
      "3.511175705587433e-06\n",
      "2.9559615522887273e-06\n",
      "2.4471741852423237e-06\n",
      "1.9853157161528523e-06\n",
      "1.570841943568452e-06\n",
      "1.2041619030626339e-06\n",
      "8.85637463565564e-07\n",
      "6.15582970243117e-07\n",
      "3.9426493427611177e-07\n",
      "2.219017698460002e-07\n",
      "9.866357858642205e-08\n",
      "2.467198171342e-08\n",
      "0.0001\n"
     ]
    },
    {
     "data": {
      "text/plain": [
       "[<matplotlib.lines.Line2D at 0x7f7577677cd0>]"
      ]
     },
     "execution_count": 40,
     "metadata": {},
     "output_type": "execute_result"
    },
    {
     "data": {
      "image/png": "[encoded data removed]",
      "text/plain": [
       "<Figure size 640x480 with 1 Axes>"
      ]
     },
     "metadata": {},
     "output_type": "display_data"
    }
   ],
   "source": [
    "optimizer = optim.Adam(co_attn.parameters(), lr=1e-4)\n",
    "scheduler = optim.lr_scheduler.CosineAnnealingWarmRestarts(optimizer, T_0=100, T_mult=1)\n",
    "\n",
    "lrs = []\n",
    "for epoch in range(1000):\n",
    "    scheduler.step()\n",
    "    print(optimizer.param_groups[0]['lr'])\n",
    "    lrs.append(optimizer.param_groups[0]['lr'])\n",
    "\n",
    "plt.plot(lrs)"
   ]
  },
  {
   "cell_type": "markdown",
   "id": "c2d6fc6e",
   "metadata": {},
   "source": [
    "# co-attn"
   ]
  },
  {
   "cell_type": "code",
   "execution_count": 23,
   "id": "e9d3237c",
   "metadata": {},
   "outputs": [],
   "source": [
    "co_attn = CoAttention(embed_size=dim_hidden, output_size=dim_hidden, return_attn=True)"
   ]
  },
  {
   "cell_type": "code",
   "execution_count": 24,
   "id": "ad4961ed",
   "metadata": {},
   "outputs": [],
   "source": [
    "a, b, attn_lista, attn_listb = co_attn(x, x)"
   ]
  },
  {
   "cell_type": "code",
   "execution_count": 29,
   "id": "855e83c4",
   "metadata": {},
   "outputs": [
    {
     "data": {
      "text/plain": [
       "-1.4604681730270386"
      ]
     },
     "execution_count": 29,
     "metadata": {},
     "output_type": "execute_result"
    }
   ],
   "source": [
    "attn_lista[0][0].item()"
   ]
  },
  {
   "cell_type": "code",
   "execution_count": 30,
   "id": "9c47a5de",
   "metadata": {},
   "outputs": [
    {
     "data": {
      "text/plain": [
       "-1.4604679346084595"
      ]
     },
     "execution_count": 30,
     "metadata": {},
     "output_type": "execute_result"
    }
   ],
   "source": [
    "attn_listb[0][0].item()"
   ]
  },
  {
   "cell_type": "code",
   "execution_count": 27,
   "id": "19e6ee0c",
   "metadata": {},
   "outputs": [
    {
     "data": {
      "text/plain": [
       "tensor(False)"
      ]
     },
     "execution_count": 27,
     "metadata": {},
     "output_type": "execute_result"
    }
   ],
   "source": [
    "attn_lista[0][0].eq(attn_listb[0][0])"
   ]
  },
  {
   "cell_type": "code",
   "execution_count": 28,
   "id": "9cc5df04",
   "metadata": {},
   "outputs": [
    {
     "data": {
      "text/plain": [
       "tensor(False)"
      ]
     },
     "execution_count": 28,
     "metadata": {},
     "output_type": "execute_result"
    }
   ],
   "source": [
    "torch.all(torch.eq(a, b))"
   ]
  },
  {
   "cell_type": "markdown",
   "id": "d9b64e50",
   "metadata": {},
   "source": [
    "# PMA SAB ISAB"
   ]
  },
  {
   "cell_type": "code",
   "execution_count": 54,
   "id": "1c39bac6",
   "metadata": {},
   "outputs": [],
   "source": [
    "dim_input = len(vocab)\n",
    "hidden = 32\n",
    "dim_hidden = hidden\n",
    "num_heads = 4\n",
    "num_outputs = 7\n",
    "ln = True\n",
    "num_inds = 6\n",
    "\n",
    "pma = PMA(hidden, num_heads, num_outputs, ln=ln)\n",
    "sab = SAB(hidden, hidden, num_heads, ln=ln)\n",
    "isab = ISAB(hidden, hidden, num_heads, num_inds, ln=ln)\n",
    "\n",
    "x = torch.ones((16, 72, 32))\n",
    "x1 = torch.ones((16, 100, 32))"
   ]
  },
  {
   "cell_type": "code",
   "execution_count": 17,
   "id": "ca13d0f8",
   "metadata": {},
   "outputs": [
    {
     "data": {
      "text/plain": [
       "torch.Size([16, 7, 32])"
      ]
     },
     "execution_count": 17,
     "metadata": {},
     "output_type": "execute_result"
    }
   ],
   "source": [
    "pma(x).shape"
   ]
  },
  {
   "cell_type": "code",
   "execution_count": 18,
   "id": "a96c2d88",
   "metadata": {},
   "outputs": [
    {
     "data": {
      "text/plain": [
       "torch.Size([16, 7, 32])"
      ]
     },
     "execution_count": 18,
     "metadata": {},
     "output_type": "execute_result"
    }
   ],
   "source": [
    "sab(pma(x)).shape"
   ]
  },
  {
   "cell_type": "code",
   "execution_count": 21,
   "id": "17362f26",
   "metadata": {},
   "outputs": [
    {
     "data": {
      "text/plain": [
       "torch.Size([16, 7, 32])"
      ]
     },
     "execution_count": 21,
     "metadata": {},
     "output_type": "execute_result"
    }
   ],
   "source": [
    "pma(x1).shape"
   ]
  },
  {
   "cell_type": "code",
   "execution_count": 27,
   "id": "d8c09920",
   "metadata": {},
   "outputs": [
    {
     "data": {
      "text/plain": [
       "torch.Size([16, 72, 32])"
      ]
     },
     "execution_count": 27,
     "metadata": {},
     "output_type": "execute_result"
    }
   ],
   "source": [
    "isab(x).shape"
   ]
  },
  {
   "cell_type": "code",
   "execution_count": 28,
   "id": "01f63f1d",
   "metadata": {},
   "outputs": [
    {
     "data": {
      "text/plain": [
       "torch.Size([16, 100, 32])"
      ]
     },
     "execution_count": 28,
     "metadata": {},
     "output_type": "execute_result"
    }
   ],
   "source": [
    "isab(x1).shape"
   ]
  },
  {
   "cell_type": "code",
   "execution_count": 55,
   "id": "802ef33c",
   "metadata": {},
   "outputs": [
    {
     "ename": "AttributeError",
     "evalue": "'tuple' object has no attribute 'size'",
     "output_type": "error",
     "traceback": [
      "\u001b[0;31m---------------------------------------------------------------------------\u001b[0m",
      "\u001b[0;31mAttributeError\u001b[0m                            Traceback (most recent call last)",
      "Cell \u001b[0;32mIn[55], line 7\u001b[0m\n\u001b[1;32m      1\u001b[0m x0 \u001b[38;5;241m=\u001b[39m torch\u001b[38;5;241m.\u001b[39mones((\u001b[38;5;241m16\u001b[39m, \u001b[38;5;241m72\u001b[39m, \u001b[38;5;28mlen\u001b[39m(vocab)))\n\u001b[1;32m      3\u001b[0m enc \u001b[38;5;241m=\u001b[39m nn\u001b[38;5;241m.\u001b[39mSequential(\n\u001b[1;32m      4\u001b[0m     ISAB(dim_input, dim_hidden, num_heads, num_inds, ln\u001b[38;5;241m=\u001b[39mln),\n\u001b[1;32m      5\u001b[0m     ISAB(dim_hidden, dim_hidden, num_heads, num_inds, ln\u001b[38;5;241m=\u001b[39mln))\n\u001b[0;32m----> 7\u001b[0m \u001b[43menc\u001b[49m\u001b[43m(\u001b[49m\u001b[43m(\u001b[49m\u001b[43mx0\u001b[49m\u001b[43m,\u001b[49m\u001b[43m \u001b[49m\u001b[38;5;28;43;01mNone\u001b[39;49;00m\u001b[43m,\u001b[49m\u001b[43m \u001b[49m\u001b[38;5;28;43;01mNone\u001b[39;49;00m\u001b[43m)\u001b[49m\u001b[43m)\u001b[49m\u001b[38;5;241m.\u001b[39mshape\n",
      "File \u001b[0;32m~/anaconda3/envs/graph/lib/python3.8/site-packages/torch/nn/modules/module.py:1190\u001b[0m, in \u001b[0;36mModule._call_impl\u001b[0;34m(self, *input, **kwargs)\u001b[0m\n\u001b[1;32m   1186\u001b[0m \u001b[38;5;66;03m# If we don't have any hooks, we want to skip the rest of the logic in\u001b[39;00m\n\u001b[1;32m   1187\u001b[0m \u001b[38;5;66;03m# this function, and just call forward.\u001b[39;00m\n\u001b[1;32m   1188\u001b[0m \u001b[38;5;28;01mif\u001b[39;00m \u001b[38;5;129;01mnot\u001b[39;00m (\u001b[38;5;28mself\u001b[39m\u001b[38;5;241m.\u001b[39m_backward_hooks \u001b[38;5;129;01mor\u001b[39;00m \u001b[38;5;28mself\u001b[39m\u001b[38;5;241m.\u001b[39m_forward_hooks \u001b[38;5;129;01mor\u001b[39;00m \u001b[38;5;28mself\u001b[39m\u001b[38;5;241m.\u001b[39m_forward_pre_hooks \u001b[38;5;129;01mor\u001b[39;00m _global_backward_hooks\n\u001b[1;32m   1189\u001b[0m         \u001b[38;5;129;01mor\u001b[39;00m _global_forward_hooks \u001b[38;5;129;01mor\u001b[39;00m _global_forward_pre_hooks):\n\u001b[0;32m-> 1190\u001b[0m     \u001b[38;5;28;01mreturn\u001b[39;00m \u001b[43mforward_call\u001b[49m\u001b[43m(\u001b[49m\u001b[38;5;241;43m*\u001b[39;49m\u001b[38;5;28;43minput\u001b[39;49m\u001b[43m,\u001b[49m\u001b[43m \u001b[49m\u001b[38;5;241;43m*\u001b[39;49m\u001b[38;5;241;43m*\u001b[39;49m\u001b[43mkwargs\u001b[49m\u001b[43m)\u001b[49m\n\u001b[1;32m   1191\u001b[0m \u001b[38;5;66;03m# Do not call functions when jit is used\u001b[39;00m\n\u001b[1;32m   1192\u001b[0m full_backward_hooks, non_full_backward_hooks \u001b[38;5;241m=\u001b[39m [], []\n",
      "File \u001b[0;32m~/anaconda3/envs/graph/lib/python3.8/site-packages/torch/nn/modules/container.py:204\u001b[0m, in \u001b[0;36mSequential.forward\u001b[0;34m(self, input)\u001b[0m\n\u001b[1;32m    202\u001b[0m \u001b[38;5;28;01mdef\u001b[39;00m \u001b[38;5;21mforward\u001b[39m(\u001b[38;5;28mself\u001b[39m, \u001b[38;5;28minput\u001b[39m):\n\u001b[1;32m    203\u001b[0m     \u001b[38;5;28;01mfor\u001b[39;00m module \u001b[38;5;129;01min\u001b[39;00m \u001b[38;5;28mself\u001b[39m:\n\u001b[0;32m--> 204\u001b[0m         \u001b[38;5;28minput\u001b[39m \u001b[38;5;241m=\u001b[39m \u001b[43mmodule\u001b[49m\u001b[43m(\u001b[49m\u001b[38;5;28;43minput\u001b[39;49m\u001b[43m)\u001b[49m\n\u001b[1;32m    205\u001b[0m     \u001b[38;5;28;01mreturn\u001b[39;00m \u001b[38;5;28minput\u001b[39m\n",
      "File \u001b[0;32m~/anaconda3/envs/graph/lib/python3.8/site-packages/torch/nn/modules/module.py:1190\u001b[0m, in \u001b[0;36mModule._call_impl\u001b[0;34m(self, *input, **kwargs)\u001b[0m\n\u001b[1;32m   1186\u001b[0m \u001b[38;5;66;03m# If we don't have any hooks, we want to skip the rest of the logic in\u001b[39;00m\n\u001b[1;32m   1187\u001b[0m \u001b[38;5;66;03m# this function, and just call forward.\u001b[39;00m\n\u001b[1;32m   1188\u001b[0m \u001b[38;5;28;01mif\u001b[39;00m \u001b[38;5;129;01mnot\u001b[39;00m (\u001b[38;5;28mself\u001b[39m\u001b[38;5;241m.\u001b[39m_backward_hooks \u001b[38;5;129;01mor\u001b[39;00m \u001b[38;5;28mself\u001b[39m\u001b[38;5;241m.\u001b[39m_forward_hooks \u001b[38;5;129;01mor\u001b[39;00m \u001b[38;5;28mself\u001b[39m\u001b[38;5;241m.\u001b[39m_forward_pre_hooks \u001b[38;5;129;01mor\u001b[39;00m _global_backward_hooks\n\u001b[1;32m   1189\u001b[0m         \u001b[38;5;129;01mor\u001b[39;00m _global_forward_hooks \u001b[38;5;129;01mor\u001b[39;00m _global_forward_pre_hooks):\n\u001b[0;32m-> 1190\u001b[0m     \u001b[38;5;28;01mreturn\u001b[39;00m \u001b[43mforward_call\u001b[49m\u001b[43m(\u001b[49m\u001b[38;5;241;43m*\u001b[39;49m\u001b[38;5;28;43minput\u001b[39;49m\u001b[43m,\u001b[49m\u001b[43m \u001b[49m\u001b[38;5;241;43m*\u001b[39;49m\u001b[38;5;241;43m*\u001b[39;49m\u001b[43mkwargs\u001b[49m\u001b[43m)\u001b[49m\n\u001b[1;32m   1191\u001b[0m \u001b[38;5;66;03m# Do not call functions when jit is used\u001b[39;00m\n\u001b[1;32m   1192\u001b[0m full_backward_hooks, non_full_backward_hooks \u001b[38;5;241m=\u001b[39m [], []\n",
      "File \u001b[0;32m~/wanzhang/Transformer4Ab-locla/models/setmodel.py:74\u001b[0m, in \u001b[0;36mISAB.forward\u001b[0;34m(self, X, mask, query_mask)\u001b[0m\n\u001b[1;32m     73\u001b[0m \u001b[38;5;28;01mdef\u001b[39;00m \u001b[38;5;21mforward\u001b[39m(\u001b[38;5;28mself\u001b[39m, X, mask\u001b[38;5;241m=\u001b[39m\u001b[38;5;28;01mNone\u001b[39;00m, query_mask\u001b[38;5;241m=\u001b[39m\u001b[38;5;28;01mNone\u001b[39;00m):\n\u001b[0;32m---> 74\u001b[0m     H \u001b[38;5;241m=\u001b[39m \u001b[38;5;28mself\u001b[39m\u001b[38;5;241m.\u001b[39mmab0(\u001b[38;5;28mself\u001b[39m\u001b[38;5;241m.\u001b[39mI\u001b[38;5;241m.\u001b[39mrepeat(\u001b[43mX\u001b[49m\u001b[38;5;241;43m.\u001b[39;49m\u001b[43msize\u001b[49m(\u001b[38;5;241m0\u001b[39m), \u001b[38;5;241m1\u001b[39m, \u001b[38;5;241m1\u001b[39m), X, mask, query_mask)\n\u001b[1;32m     75\u001b[0m     \u001b[38;5;28;01mreturn\u001b[39;00m \u001b[38;5;28mself\u001b[39m\u001b[38;5;241m.\u001b[39mmab1(X, H, mask, query_mask)\n",
      "\u001b[0;31mAttributeError\u001b[0m: 'tuple' object has no attribute 'size'"
     ]
    }
   ],
   "source": [
    "x0 = torch.ones((16, 72, len(vocab)))\n",
    "\n",
    "enc = nn.Sequential(\n",
    "    ISAB(dim_input, dim_hidden, num_heads, num_inds, ln=ln),\n",
    "    ISAB(dim_hidden, dim_hidden, num_heads, num_inds, ln=ln))\n",
    "\n",
    "enc((x0, None, None)).shape"
   ]
  },
  {
   "cell_type": "code",
   "execution_count": 38,
   "id": "4f19e00d",
   "metadata": {},
   "outputs": [
    {
     "data": {
      "text/plain": [
       "27"
      ]
     },
     "execution_count": 38,
     "metadata": {},
     "output_type": "execute_result"
    }
   ],
   "source": [
    "len(vocab)"
   ]
  },
  {
   "cell_type": "markdown",
   "id": "c1026e3f",
   "metadata": {},
   "source": [
    "# oas_dataset"
   ]
  },
  {
   "cell_type": "code",
   "execution_count": 41,
   "id": "1149eeb4",
   "metadata": {},
   "outputs": [
    {
     "data": {
      "text/plain": [
       "1572406"
      ]
     },
     "execution_count": 41,
     "metadata": {},
     "output_type": "execute_result"
    }
   ],
   "source": [
    "oas_data = pickle.load(open(\"./OAS/oas_data.pkl\", \"rb\"))\n",
    "len(oas_data)"
   ]
  },
  {
   "cell_type": "code",
   "execution_count": 42,
   "id": "a630ad00",
   "metadata": {},
   "outputs": [
    {
     "data": {
      "text/plain": [
       "'GGSISSTSHY/CYFTGTT/ARSAEYVWSRGYFDY/SSNIGAGYG/GDT/QSYDSSLSGSRV'"
      ]
     },
     "execution_count": 42,
     "metadata": {},
     "output_type": "execute_result"
    }
   ],
   "source": [
    "oas_data[0]"
   ]
  },
  {
   "cell_type": "code",
   "execution_count": 43,
   "id": "2b50f0f1",
   "metadata": {},
   "outputs": [],
   "source": [
    "train_set = OASDataset(corpus_path=\"./OAS/oas_data.pkl\", vocab=vocab, train_test='train')"
   ]
  },
  {
   "cell_type": "code",
   "execution_count": 44,
   "id": "51a7629f",
   "metadata": {},
   "outputs": [
    {
     "data": {
      "text/plain": [
       "1415165"
      ]
     },
     "execution_count": 44,
     "metadata": {},
     "output_type": "execute_result"
    }
   ],
   "source": [
    "len(train_set)"
   ]
  },
  {
   "cell_type": "code",
   "execution_count": 45,
   "id": "74183235",
   "metadata": {},
   "outputs": [
    {
     "data": {
      "text/plain": [
       "2"
      ]
     },
     "execution_count": 45,
     "metadata": {},
     "output_type": "execute_result"
    }
   ],
   "source": [
    "len(train_set[0])"
   ]
  },
  {
   "cell_type": "code",
   "execution_count": 46,
   "id": "22c7b7d2",
   "metadata": {
    "scrolled": true
   },
   "outputs": [
    {
     "data": {
      "text/plain": [
       "[24,\n",
       " 5,\n",
       " 4,\n",
       " 17,\n",
       " 22,\n",
       " 22,\n",
       " 16,\n",
       " 21,\n",
       " 5,\n",
       " 26,\n",
       " 7,\n",
       " 16,\n",
       " 21,\n",
       " 2,\n",
       " 5,\n",
       " 16,\n",
       " 11,\n",
       " 8,\n",
       " 26,\n",
       " 0,\n",
       " 17,\n",
       " 21,\n",
       " 21,\n",
       " 2,\n",
       " 7,\n",
       " 9,\n",
       " 17,\n",
       " 5,\n",
       " 9,\n",
       " 2,\n",
       " 21,\n",
       " 26,\n",
       " 17,\n",
       " 5,\n",
       " 0,\n",
       " 19,\n",
       " 17,\n",
       " 16,\n",
       " 5,\n",
       " 6,\n",
       " 21,\n",
       " 26,\n",
       " 2,\n",
       " 17,\n",
       " 16,\n",
       " 26,\n",
       " 9,\n",
       " 9,\n",
       " 16,\n",
       " 21,\n",
       " 16,\n",
       " 5,\n",
       " 0,\n",
       " 15,\n",
       " 9,\n",
       " 20,\n",
       " 19,\n",
       " 25]"
      ]
     },
     "execution_count": 46,
     "metadata": {},
     "output_type": "execute_result"
    }
   ],
   "source": [
    "train_set[0][0]"
   ]
  },
  {
   "cell_type": "code",
   "execution_count": 47,
   "id": "ef093a29",
   "metadata": {
    "scrolled": true
   },
   "outputs": [
    {
     "data": {
      "text/plain": [
       "[23,\n",
       " 5,\n",
       " 4,\n",
       " 0,\n",
       " 0,\n",
       " 16,\n",
       " 0,\n",
       " 0,\n",
       " 0,\n",
       " 26,\n",
       " 0,\n",
       " 16,\n",
       " 0,\n",
       " 2,\n",
       " 0,\n",
       " 0,\n",
       " 0,\n",
       " 0,\n",
       " 0,\n",
       " 0,\n",
       " 17,\n",
       " 21,\n",
       " 0,\n",
       " 0,\n",
       " 0,\n",
       " 0,\n",
       " 0,\n",
       " 0,\n",
       " 0,\n",
       " 0,\n",
       " 0,\n",
       " 0,\n",
       " 0,\n",
       " 0,\n",
       " 0,\n",
       " 0,\n",
       " 0,\n",
       " 16,\n",
       " 0,\n",
       " 6,\n",
       " 0,\n",
       " 0,\n",
       " 0,\n",
       " 0,\n",
       " 0,\n",
       " 0,\n",
       " 0,\n",
       " 9,\n",
       " 0,\n",
       " 0,\n",
       " 0,\n",
       " 5,\n",
       " 0,\n",
       " 0,\n",
       " 0,\n",
       " 0,\n",
       " 0,\n",
       " 23]"
      ]
     },
     "execution_count": 47,
     "metadata": {},
     "output_type": "execute_result"
    }
   ],
   "source": [
    "train_set[0][1]"
   ]
  },
  {
   "cell_type": "code",
   "execution_count": 9,
   "id": "510022e8",
   "metadata": {},
   "outputs": [],
   "source": [
    "test_set = OASDataset(corpus_path=\"./OAS/oas_data.pkl\", vocab=vocab, train_test='test')"
   ]
  },
  {
   "cell_type": "code",
   "execution_count": 10,
   "id": "68f8901d",
   "metadata": {},
   "outputs": [
    {
     "data": {
      "text/plain": [
       "157241"
      ]
     },
     "execution_count": 10,
     "metadata": {},
     "output_type": "execute_result"
    }
   ],
   "source": [
    "len(test_set)"
   ]
  },
  {
   "cell_type": "code",
   "execution_count": 11,
   "id": "77088318",
   "metadata": {
    "scrolled": true
   },
   "outputs": [
    {
     "data": {
      "text/plain": [
       "[24,\n",
       " 5,\n",
       " 4,\n",
       " 17,\n",
       " 22,\n",
       " 16,\n",
       " 16,\n",
       " 21,\n",
       " 0,\n",
       " 26,\n",
       " 7,\n",
       " 22,\n",
       " 5,\n",
       " 16,\n",
       " 5,\n",
       " 5,\n",
       " 16,\n",
       " 17,\n",
       " 26,\n",
       " 0,\n",
       " 8,\n",
       " 11,\n",
       " 21,\n",
       " 21,\n",
       " 2,\n",
       " 16,\n",
       " 16,\n",
       " 5,\n",
       " 21,\n",
       " 21,\n",
       " 4,\n",
       " 16,\n",
       " 22,\n",
       " 4,\n",
       " 2,\n",
       " 21,\n",
       " 26,\n",
       " 16,\n",
       " 16,\n",
       " 22,\n",
       " 7,\n",
       " 22,\n",
       " 16,\n",
       " 11,\n",
       " 21,\n",
       " 22,\n",
       " 15,\n",
       " 11,\n",
       " 11,\n",
       " 26,\n",
       " 0,\n",
       " 0,\n",
       " 20,\n",
       " 2,\n",
       " 2,\n",
       " 22,\n",
       " 9,\n",
       " 16,\n",
       " 5,\n",
       " 20,\n",
       " 22,\n",
       " 25]"
      ]
     },
     "execution_count": 11,
     "metadata": {},
     "output_type": "execute_result"
    }
   ],
   "source": [
    "test_set[0][0]"
   ]
  },
  {
   "cell_type": "code",
   "execution_count": 12,
   "id": "5d27abe5",
   "metadata": {
    "scrolled": true
   },
   "outputs": [
    {
     "data": {
      "text/plain": [
       "[23,\n",
       " 5,\n",
       " 0,\n",
       " 0,\n",
       " 0,\n",
       " 16,\n",
       " 0,\n",
       " 0,\n",
       " 0,\n",
       " 0,\n",
       " 0,\n",
       " 0,\n",
       " 0,\n",
       " 0,\n",
       " 0,\n",
       " 0,\n",
       " 0,\n",
       " 0,\n",
       " 0,\n",
       " 0,\n",
       " 0,\n",
       " 0,\n",
       " 0,\n",
       " 0,\n",
       " 0,\n",
       " 0,\n",
       " 0,\n",
       " 0,\n",
       " 0,\n",
       " 0,\n",
       " 0,\n",
       " 0,\n",
       " 0,\n",
       " 0,\n",
       " 0,\n",
       " 0,\n",
       " 0,\n",
       " 0,\n",
       " 0,\n",
       " 0,\n",
       " 0,\n",
       " 0,\n",
       " 0,\n",
       " 0,\n",
       " 0,\n",
       " 0,\n",
       " 0,\n",
       " 0,\n",
       " 0,\n",
       " 0,\n",
       " 0,\n",
       " 0,\n",
       " 0,\n",
       " 2,\n",
       " 2,\n",
       " 0,\n",
       " 0,\n",
       " 16,\n",
       " 0,\n",
       " 0,\n",
       " 0,\n",
       " 23]"
      ]
     },
     "execution_count": 12,
     "metadata": {},
     "output_type": "execute_result"
    }
   ],
   "source": [
    "test_set[0][1]"
   ]
  },
  {
   "cell_type": "markdown",
   "id": "d3d31591",
   "metadata": {},
   "source": [
    "# mask"
   ]
  },
  {
   "cell_type": "code",
   "execution_count": 102,
   "id": "4eacfee3",
   "metadata": {},
   "outputs": [],
   "source": [
    "c_mask = pickle.load(open(\"./c_mask.pkl\", \"rb\"))\n",
    "mask = pickle.load(open(\"./mask.pkl\", \"rb\"))\n",
    "x = pickle.load(open(\"./x.pkl\", \"rb\"))"
   ]
  },
  {
   "cell_type": "code",
   "execution_count": 103,
   "id": "0774e696",
   "metadata": {},
   "outputs": [
    {
     "data": {
      "text/plain": [
       "(torch.Size([64, 100, 100]), torch.Size([64, 100]))"
      ]
     },
     "execution_count": 103,
     "metadata": {},
     "output_type": "execute_result"
    }
   ],
   "source": [
    "mask.shape, c_mask.shape"
   ]
  },
  {
   "cell_type": "code",
   "execution_count": 104,
   "id": "5db58716",
   "metadata": {},
   "outputs": [
    {
     "data": {
      "text/plain": [
       "torch.Size([64, 100, 32])"
      ]
     },
     "execution_count": 104,
     "metadata": {},
     "output_type": "execute_result"
    }
   ],
   "source": [
    "x = x.detach().cpu()\n",
    "x.shape"
   ]
  },
  {
   "cell_type": "code",
   "execution_count": 105,
   "id": "ae148755",
   "metadata": {
    "scrolled": true
   },
   "outputs": [
    {
     "data": {
      "text/plain": [
       "torch.Size([64, 100, 64])"
      ]
     },
     "execution_count": 105,
     "metadata": {},
     "output_type": "execute_result"
    }
   ],
   "source": [
    "isab = ISAB(dim_in=32, dim_out=64, num_heads=4, num_inds=100, ln=True)\n",
    "isab(x).shape"
   ]
  },
  {
   "cell_type": "code",
   "execution_count": 106,
   "id": "795e5430",
   "metadata": {},
   "outputs": [
    {
     "ename": "RuntimeError",
     "evalue": "The size of tensor a (64) must match the size of tensor b (256) at non-singleton dimension 0",
     "output_type": "error",
     "traceback": [
      "\u001b[0;31m---------------------------------------------------------------------------\u001b[0m",
      "\u001b[0;31mRuntimeError\u001b[0m                              Traceback (most recent call last)",
      "Cell \u001b[0;32mIn[106], line 1\u001b[0m\n\u001b[0;32m----> 1\u001b[0m \u001b[43misab\u001b[49m\u001b[43m(\u001b[49m\u001b[43mx\u001b[49m\u001b[43m,\u001b[49m\u001b[43m \u001b[49m\u001b[43mmask\u001b[49m\u001b[43m,\u001b[49m\u001b[43m \u001b[49m\u001b[43mc_mask\u001b[49m\u001b[43m)\u001b[49m\n",
      "File \u001b[0;32m~/anaconda3/envs/graph/lib/python3.8/site-packages/torch/nn/modules/module.py:1190\u001b[0m, in \u001b[0;36mModule._call_impl\u001b[0;34m(self, *input, **kwargs)\u001b[0m\n\u001b[1;32m   1186\u001b[0m \u001b[38;5;66;03m# If we don't have any hooks, we want to skip the rest of the logic in\u001b[39;00m\n\u001b[1;32m   1187\u001b[0m \u001b[38;5;66;03m# this function, and just call forward.\u001b[39;00m\n\u001b[1;32m   1188\u001b[0m \u001b[38;5;28;01mif\u001b[39;00m \u001b[38;5;129;01mnot\u001b[39;00m (\u001b[38;5;28mself\u001b[39m\u001b[38;5;241m.\u001b[39m_backward_hooks \u001b[38;5;129;01mor\u001b[39;00m \u001b[38;5;28mself\u001b[39m\u001b[38;5;241m.\u001b[39m_forward_hooks \u001b[38;5;129;01mor\u001b[39;00m \u001b[38;5;28mself\u001b[39m\u001b[38;5;241m.\u001b[39m_forward_pre_hooks \u001b[38;5;129;01mor\u001b[39;00m _global_backward_hooks\n\u001b[1;32m   1189\u001b[0m         \u001b[38;5;129;01mor\u001b[39;00m _global_forward_hooks \u001b[38;5;129;01mor\u001b[39;00m _global_forward_pre_hooks):\n\u001b[0;32m-> 1190\u001b[0m     \u001b[38;5;28;01mreturn\u001b[39;00m \u001b[43mforward_call\u001b[49m\u001b[43m(\u001b[49m\u001b[38;5;241;43m*\u001b[39;49m\u001b[38;5;28;43minput\u001b[39;49m\u001b[43m,\u001b[49m\u001b[43m \u001b[49m\u001b[38;5;241;43m*\u001b[39;49m\u001b[38;5;241;43m*\u001b[39;49m\u001b[43mkwargs\u001b[49m\u001b[43m)\u001b[49m\n\u001b[1;32m   1191\u001b[0m \u001b[38;5;66;03m# Do not call functions when jit is used\u001b[39;00m\n\u001b[1;32m   1192\u001b[0m full_backward_hooks, non_full_backward_hooks \u001b[38;5;241m=\u001b[39m [], []\n",
      "File \u001b[0;32m~/wanzhang/Transformer4Ab-locla/models/setmodel.py:74\u001b[0m, in \u001b[0;36mISAB.forward\u001b[0;34m(self, X, mask, query_mask)\u001b[0m\n\u001b[1;32m     73\u001b[0m \u001b[38;5;28;01mdef\u001b[39;00m \u001b[38;5;21mforward\u001b[39m(\u001b[38;5;28mself\u001b[39m, X, mask\u001b[38;5;241m=\u001b[39m\u001b[38;5;28;01mNone\u001b[39;00m, query_mask\u001b[38;5;241m=\u001b[39m\u001b[38;5;28;01mNone\u001b[39;00m):\n\u001b[0;32m---> 74\u001b[0m     H \u001b[38;5;241m=\u001b[39m \u001b[38;5;28;43mself\u001b[39;49m\u001b[38;5;241;43m.\u001b[39;49m\u001b[43mmab0\u001b[49m\u001b[43m(\u001b[49m\u001b[38;5;28;43mself\u001b[39;49m\u001b[38;5;241;43m.\u001b[39;49m\u001b[43mI\u001b[49m\u001b[38;5;241;43m.\u001b[39;49m\u001b[43mrepeat\u001b[49m\u001b[43m(\u001b[49m\u001b[43mX\u001b[49m\u001b[38;5;241;43m.\u001b[39;49m\u001b[43msize\u001b[49m\u001b[43m(\u001b[49m\u001b[38;5;241;43m0\u001b[39;49m\u001b[43m)\u001b[49m\u001b[43m,\u001b[49m\u001b[43m \u001b[49m\u001b[38;5;241;43m1\u001b[39;49m\u001b[43m,\u001b[49m\u001b[43m \u001b[49m\u001b[38;5;241;43m1\u001b[39;49m\u001b[43m)\u001b[49m\u001b[43m,\u001b[49m\u001b[43m \u001b[49m\u001b[43mX\u001b[49m\u001b[43m,\u001b[49m\u001b[43m \u001b[49m\u001b[43mmask\u001b[49m\u001b[43m,\u001b[49m\u001b[43m \u001b[49m\u001b[43mquery_mask\u001b[49m\u001b[43m)\u001b[49m\n\u001b[1;32m     75\u001b[0m     \u001b[38;5;28;01mreturn\u001b[39;00m \u001b[38;5;28mself\u001b[39m\u001b[38;5;241m.\u001b[39mmab1(X, H, mask, query_mask)\n",
      "File \u001b[0;32m~/anaconda3/envs/graph/lib/python3.8/site-packages/torch/nn/modules/module.py:1190\u001b[0m, in \u001b[0;36mModule._call_impl\u001b[0;34m(self, *input, **kwargs)\u001b[0m\n\u001b[1;32m   1186\u001b[0m \u001b[38;5;66;03m# If we don't have any hooks, we want to skip the rest of the logic in\u001b[39;00m\n\u001b[1;32m   1187\u001b[0m \u001b[38;5;66;03m# this function, and just call forward.\u001b[39;00m\n\u001b[1;32m   1188\u001b[0m \u001b[38;5;28;01mif\u001b[39;00m \u001b[38;5;129;01mnot\u001b[39;00m (\u001b[38;5;28mself\u001b[39m\u001b[38;5;241m.\u001b[39m_backward_hooks \u001b[38;5;129;01mor\u001b[39;00m \u001b[38;5;28mself\u001b[39m\u001b[38;5;241m.\u001b[39m_forward_hooks \u001b[38;5;129;01mor\u001b[39;00m \u001b[38;5;28mself\u001b[39m\u001b[38;5;241m.\u001b[39m_forward_pre_hooks \u001b[38;5;129;01mor\u001b[39;00m _global_backward_hooks\n\u001b[1;32m   1189\u001b[0m         \u001b[38;5;129;01mor\u001b[39;00m _global_forward_hooks \u001b[38;5;129;01mor\u001b[39;00m _global_forward_pre_hooks):\n\u001b[0;32m-> 1190\u001b[0m     \u001b[38;5;28;01mreturn\u001b[39;00m \u001b[43mforward_call\u001b[49m\u001b[43m(\u001b[49m\u001b[38;5;241;43m*\u001b[39;49m\u001b[38;5;28;43minput\u001b[39;49m\u001b[43m,\u001b[49m\u001b[43m \u001b[49m\u001b[38;5;241;43m*\u001b[39;49m\u001b[38;5;241;43m*\u001b[39;49m\u001b[43mkwargs\u001b[49m\u001b[43m)\u001b[49m\n\u001b[1;32m   1191\u001b[0m \u001b[38;5;66;03m# Do not call functions when jit is used\u001b[39;00m\n\u001b[1;32m   1192\u001b[0m full_backward_hooks, non_full_backward_hooks \u001b[38;5;241m=\u001b[39m [], []\n",
      "File \u001b[0;32m~/wanzhang/Transformer4Ab-locla/models/setmodel.py:41\u001b[0m, in \u001b[0;36mMAB.forward\u001b[0;34m(self, Q, K, mask, query_mask)\u001b[0m\n\u001b[1;32m     38\u001b[0m attn \u001b[38;5;241m=\u001b[39m Q_\u001b[38;5;241m.\u001b[39mbmm(K_\u001b[38;5;241m.\u001b[39mtranspose(\u001b[38;5;241m1\u001b[39m,\u001b[38;5;241m2\u001b[39m))\u001b[38;5;241m/\u001b[39mmath\u001b[38;5;241m.\u001b[39msqrt(\u001b[38;5;28mself\u001b[39m\u001b[38;5;241m.\u001b[39mdim_V)\n\u001b[1;32m     40\u001b[0m \u001b[38;5;28;01mif\u001b[39;00m mask \u001b[38;5;129;01mis\u001b[39;00m \u001b[38;5;129;01mnot\u001b[39;00m \u001b[38;5;28;01mNone\u001b[39;00m:\n\u001b[0;32m---> 41\u001b[0m     attn \u001b[38;5;241m=\u001b[39m \u001b[43mattn\u001b[49m\u001b[38;5;241;43m.\u001b[39;49m\u001b[43mmasked_fill\u001b[49m\u001b[43m(\u001b[49m\u001b[43mmask\u001b[49m\u001b[43m,\u001b[49m\u001b[43m \u001b[49m\u001b[38;5;241;43m-\u001b[39;49m\u001b[38;5;241;43m2\u001b[39;49m\u001b[43m \u001b[49m\u001b[38;5;241;43m*\u001b[39;49m\u001b[38;5;241;43m*\u001b[39;49m\u001b[43m \u001b[49m\u001b[38;5;241;43m32\u001b[39;49m\u001b[43m \u001b[49m\u001b[38;5;241;43m+\u001b[39;49m\u001b[43m \u001b[49m\u001b[38;5;241;43m1\u001b[39;49m\u001b[43m)\u001b[49m\n\u001b[1;32m     43\u001b[0m A \u001b[38;5;241m=\u001b[39m torch\u001b[38;5;241m.\u001b[39msoftmax(attn, \u001b[38;5;241m2\u001b[39m)\n\u001b[1;32m     45\u001b[0m \u001b[38;5;28;01mif\u001b[39;00m query_mask \u001b[38;5;129;01mis\u001b[39;00m \u001b[38;5;129;01mnot\u001b[39;00m \u001b[38;5;28;01mNone\u001b[39;00m:\n",
      "\u001b[0;31mRuntimeError\u001b[0m: The size of tensor a (64) must match the size of tensor b (256) at non-singleton dimension 0"
     ]
    }
   ],
   "source": [
    "isab(x, mask, c_mask)"
   ]
  },
  {
   "cell_type": "code",
   "execution_count": 124,
   "id": "80a669b0",
   "metadata": {},
   "outputs": [
    {
     "data": {
      "text/plain": [
       "torch.Size([256, 100, 100])"
      ]
     },
     "execution_count": 124,
     "metadata": {},
     "output_type": "execute_result"
    }
   ],
   "source": [
    "attn = pickle.load(open(\"./attn.pkl\", \"rb\"))\n",
    "attn.shape"
   ]
  },
  {
   "cell_type": "code",
   "execution_count": 125,
   "id": "a8ccb759",
   "metadata": {},
   "outputs": [
    {
     "data": {
      "text/plain": [
       "torch.Size([64, 100, 100])"
      ]
     },
     "execution_count": 125,
     "metadata": {},
     "output_type": "execute_result"
    }
   ],
   "source": [
    "mask.shape"
   ]
  },
  {
   "cell_type": "code",
   "execution_count": 126,
   "id": "afb7be15",
   "metadata": {},
   "outputs": [],
   "source": [
    "query_mask = pickle.load(open(\"./query_mask.pkl\", \"rb\"))\n",
    "mask = pickle.load(open(\"./mask.pkl\", \"rb\"))\n",
    "Q = pickle.load(open(\"./Q.pkl\", \"rb\"))\n",
    "A = pickle.load(open(\"./A.pkl\", \"rb\"))"
   ]
  },
  {
   "cell_type": "code",
   "execution_count": 129,
   "id": "9d9af650",
   "metadata": {},
   "outputs": [
    {
     "data": {
      "text/plain": [
       "torch.Size([64, 100, 64])"
      ]
     },
     "execution_count": 129,
     "metadata": {},
     "output_type": "execute_result"
    }
   ],
   "source": [
    "Q.shape"
   ]
  },
  {
   "cell_type": "code",
   "execution_count": 127,
   "id": "5afd8ef0",
   "metadata": {},
   "outputs": [
    {
     "data": {
      "text/plain": [
       "torch.Size([256, 100, 4])"
      ]
     },
     "execution_count": 127,
     "metadata": {},
     "output_type": "execute_result"
    }
   ],
   "source": [
    "query_mask.shape"
   ]
  },
  {
   "cell_type": "code",
   "execution_count": 128,
   "id": "9def3095",
   "metadata": {},
   "outputs": [
    {
     "data": {
      "text/plain": [
       "torch.Size([256, 100, 100])"
      ]
     },
     "execution_count": 128,
     "metadata": {},
     "output_type": "execute_result"
    }
   ],
   "source": [
    "A.shape"
   ]
  },
  {
   "cell_type": "code",
   "execution_count": 117,
   "id": "c4596d3d",
   "metadata": {},
   "outputs": [
    {
     "data": {
      "text/plain": [
       "torch.Size([256, 100, 16])"
      ]
     },
     "execution_count": 117,
     "metadata": {},
     "output_type": "execute_result"
    }
   ],
   "source": [
    "Q_ = torch.cat(Q.split(64//4, 2), 0)\n",
    "Q_.shape"
   ]
  },
  {
   "cell_type": "markdown",
   "id": "74369880",
   "metadata": {},
   "source": [
    "# model"
   ]
  },
  {
   "cell_type": "code",
   "execution_count": 2,
   "id": "54c87080",
   "metadata": {},
   "outputs": [
    {
     "data": {
      "text/plain": [
       "SetTransformer(\n",
       "  (embedding): Embedding(27, 32)\n",
       "  (para_enc): Sequential(\n",
       "    (0): ISAB(\n",
       "      (mab0): MAB(\n",
       "        (fc_q): Linear(in_features=64, out_features=64, bias=True)\n",
       "        (fc_k): Linear(in_features=32, out_features=64, bias=True)\n",
       "        (fc_v): Linear(in_features=32, out_features=64, bias=True)\n",
       "        (ln0): LayerNorm((64,), eps=1e-05, elementwise_affine=True)\n",
       "        (ln1): LayerNorm((64,), eps=1e-05, elementwise_affine=True)\n",
       "        (fc_o): Linear(in_features=64, out_features=64, bias=True)\n",
       "      )\n",
       "      (mab1): MAB(\n",
       "        (fc_q): Linear(in_features=32, out_features=64, bias=True)\n",
       "        (fc_k): Linear(in_features=64, out_features=64, bias=True)\n",
       "        (fc_v): Linear(in_features=64, out_features=64, bias=True)\n",
       "        (ln0): LayerNorm((64,), eps=1e-05, elementwise_affine=True)\n",
       "        (ln1): LayerNorm((64,), eps=1e-05, elementwise_affine=True)\n",
       "        (fc_o): Linear(in_features=64, out_features=64, bias=True)\n",
       "      )\n",
       "    )\n",
       "    (1): ISAB(\n",
       "      (mab0): MAB(\n",
       "        (fc_q): Linear(in_features=64, out_features=64, bias=True)\n",
       "        (fc_k): Linear(in_features=64, out_features=64, bias=True)\n",
       "        (fc_v): Linear(in_features=64, out_features=64, bias=True)\n",
       "        (ln0): LayerNorm((64,), eps=1e-05, elementwise_affine=True)\n",
       "        (ln1): LayerNorm((64,), eps=1e-05, elementwise_affine=True)\n",
       "        (fc_o): Linear(in_features=64, out_features=64, bias=True)\n",
       "      )\n",
       "      (mab1): MAB(\n",
       "        (fc_q): Linear(in_features=64, out_features=64, bias=True)\n",
       "        (fc_k): Linear(in_features=64, out_features=64, bias=True)\n",
       "        (fc_v): Linear(in_features=64, out_features=64, bias=True)\n",
       "        (ln0): LayerNorm((64,), eps=1e-05, elementwise_affine=True)\n",
       "        (ln1): LayerNorm((64,), eps=1e-05, elementwise_affine=True)\n",
       "        (fc_o): Linear(in_features=64, out_features=64, bias=True)\n",
       "      )\n",
       "    )\n",
       "  )\n",
       "  (para_dec): Sequential(\n",
       "    (0): PMA(\n",
       "      (mab): MAB(\n",
       "        (fc_q): Linear(in_features=64, out_features=64, bias=True)\n",
       "        (fc_k): Linear(in_features=64, out_features=64, bias=True)\n",
       "        (fc_v): Linear(in_features=64, out_features=64, bias=True)\n",
       "        (ln0): LayerNorm((64,), eps=1e-05, elementwise_affine=True)\n",
       "        (ln1): LayerNorm((64,), eps=1e-05, elementwise_affine=True)\n",
       "        (fc_o): Linear(in_features=64, out_features=64, bias=True)\n",
       "      )\n",
       "    )\n",
       "    (1): SAB(\n",
       "      (mab): MAB(\n",
       "        (fc_q): Linear(in_features=64, out_features=64, bias=True)\n",
       "        (fc_k): Linear(in_features=64, out_features=64, bias=True)\n",
       "        (fc_v): Linear(in_features=64, out_features=64, bias=True)\n",
       "        (ln0): LayerNorm((64,), eps=1e-05, elementwise_affine=True)\n",
       "        (ln1): LayerNorm((64,), eps=1e-05, elementwise_affine=True)\n",
       "        (fc_o): Linear(in_features=64, out_features=64, bias=True)\n",
       "      )\n",
       "    )\n",
       "    (2): SAB(\n",
       "      (mab): MAB(\n",
       "        (fc_q): Linear(in_features=64, out_features=64, bias=True)\n",
       "        (fc_k): Linear(in_features=64, out_features=64, bias=True)\n",
       "        (fc_v): Linear(in_features=64, out_features=64, bias=True)\n",
       "        (ln0): LayerNorm((64,), eps=1e-05, elementwise_affine=True)\n",
       "        (ln1): LayerNorm((64,), eps=1e-05, elementwise_affine=True)\n",
       "        (fc_o): Linear(in_features=64, out_features=64, bias=True)\n",
       "      )\n",
       "    )\n",
       "    (3): Linear(in_features=64, out_features=64, bias=True)\n",
       "  )\n",
       "  (epi_enc): Sequential(\n",
       "    (0): ISAB(\n",
       "      (mab0): MAB(\n",
       "        (fc_q): Linear(in_features=64, out_features=64, bias=True)\n",
       "        (fc_k): Linear(in_features=32, out_features=64, bias=True)\n",
       "        (fc_v): Linear(in_features=32, out_features=64, bias=True)\n",
       "        (ln0): LayerNorm((64,), eps=1e-05, elementwise_affine=True)\n",
       "        (ln1): LayerNorm((64,), eps=1e-05, elementwise_affine=True)\n",
       "        (fc_o): Linear(in_features=64, out_features=64, bias=True)\n",
       "      )\n",
       "      (mab1): MAB(\n",
       "        (fc_q): Linear(in_features=32, out_features=64, bias=True)\n",
       "        (fc_k): Linear(in_features=64, out_features=64, bias=True)\n",
       "        (fc_v): Linear(in_features=64, out_features=64, bias=True)\n",
       "        (ln0): LayerNorm((64,), eps=1e-05, elementwise_affine=True)\n",
       "        (ln1): LayerNorm((64,), eps=1e-05, elementwise_affine=True)\n",
       "        (fc_o): Linear(in_features=64, out_features=64, bias=True)\n",
       "      )\n",
       "    )\n",
       "    (1): ISAB(\n",
       "      (mab0): MAB(\n",
       "        (fc_q): Linear(in_features=64, out_features=64, bias=True)\n",
       "        (fc_k): Linear(in_features=64, out_features=64, bias=True)\n",
       "        (fc_v): Linear(in_features=64, out_features=64, bias=True)\n",
       "        (ln0): LayerNorm((64,), eps=1e-05, elementwise_affine=True)\n",
       "        (ln1): LayerNorm((64,), eps=1e-05, elementwise_affine=True)\n",
       "        (fc_o): Linear(in_features=64, out_features=64, bias=True)\n",
       "      )\n",
       "      (mab1): MAB(\n",
       "        (fc_q): Linear(in_features=64, out_features=64, bias=True)\n",
       "        (fc_k): Linear(in_features=64, out_features=64, bias=True)\n",
       "        (fc_v): Linear(in_features=64, out_features=64, bias=True)\n",
       "        (ln0): LayerNorm((64,), eps=1e-05, elementwise_affine=True)\n",
       "        (ln1): LayerNorm((64,), eps=1e-05, elementwise_affine=True)\n",
       "        (fc_o): Linear(in_features=64, out_features=64, bias=True)\n",
       "      )\n",
       "    )\n",
       "  )\n",
       "  (epi_dec): Sequential(\n",
       "    (0): PMA(\n",
       "      (mab): MAB(\n",
       "        (fc_q): Linear(in_features=64, out_features=64, bias=True)\n",
       "        (fc_k): Linear(in_features=64, out_features=64, bias=True)\n",
       "        (fc_v): Linear(in_features=64, out_features=64, bias=True)\n",
       "        (ln0): LayerNorm((64,), eps=1e-05, elementwise_affine=True)\n",
       "        (ln1): LayerNorm((64,), eps=1e-05, elementwise_affine=True)\n",
       "        (fc_o): Linear(in_features=64, out_features=64, bias=True)\n",
       "      )\n",
       "    )\n",
       "    (1): SAB(\n",
       "      (mab): MAB(\n",
       "        (fc_q): Linear(in_features=64, out_features=64, bias=True)\n",
       "        (fc_k): Linear(in_features=64, out_features=64, bias=True)\n",
       "        (fc_v): Linear(in_features=64, out_features=64, bias=True)\n",
       "        (ln0): LayerNorm((64,), eps=1e-05, elementwise_affine=True)\n",
       "        (ln1): LayerNorm((64,), eps=1e-05, elementwise_affine=True)\n",
       "        (fc_o): Linear(in_features=64, out_features=64, bias=True)\n",
       "      )\n",
       "    )\n",
       "    (2): SAB(\n",
       "      (mab): MAB(\n",
       "        (fc_q): Linear(in_features=64, out_features=64, bias=True)\n",
       "        (fc_k): Linear(in_features=64, out_features=64, bias=True)\n",
       "        (fc_v): Linear(in_features=64, out_features=64, bias=True)\n",
       "        (ln0): LayerNorm((64,), eps=1e-05, elementwise_affine=True)\n",
       "        (ln1): LayerNorm((64,), eps=1e-05, elementwise_affine=True)\n",
       "        (fc_o): Linear(in_features=64, out_features=64, bias=True)\n",
       "      )\n",
       "    )\n",
       "    (3): Linear(in_features=64, out_features=64, bias=True)\n",
       "  )\n",
       "  (co_attn): CoAttention(\n",
       "    (linear_a): Linear(in_features=64, out_features=64, bias=True)\n",
       "    (linear_b): Linear(in_features=64, out_features=64, bias=True)\n",
       "    (W): Linear(in_features=64, out_features=64, bias=True)\n",
       "  )\n",
       "  (clf): distLinear(\n",
       "    (L): Linear(in_features=64, out_features=2, bias=False)\n",
       "  )\n",
       ")"
      ]
     },
     "execution_count": 2,
     "metadata": {},
     "output_type": "execute_result"
    }
   ],
   "source": [
    "model = SetTransformer(dim_input=32, \n",
    "                     num_outputs=32, \n",
    "                     dim_output=32, \n",
    "                     dim_hidden=64, \n",
    "                     num_inds=6, \n",
    "                     num_heads=4, \n",
    "                     ln=True, \n",
    "                     dropout=0.5, \n",
    "                     use_coattn=True, \n",
    "                     share=False, \n",
    "                     use_BSS=False, \n",
    "                     use_CLIP=False, \n",
    "                     use_CosCLF=True)\n",
    "model"
   ]
  },
  {
   "cell_type": "markdown",
   "id": "ffe8ab88",
   "metadata": {},
   "source": [
    "# config file check"
   ]
  },
  {
   "cell_type": "code",
   "execution_count": 20,
   "id": "47bc4534",
   "metadata": {},
   "outputs": [
    {
     "data": {
      "text/plain": [
       "{'data_type': 'seq1_neg0',\n",
       " 'data_path': '../SARS-SAbDab_Shaun/CoV-AbDab_extract.csv',\n",
       " 'use_fine_tune': 'CosCLF',\n",
       " 'fix_FE': False,\n",
       " 'use_pair': False,\n",
       " 'use_reg': False,\n",
       " 'use_BSS': False,\n",
       " 'use_aug': True,\n",
       " 'ntimes': 3,\n",
       " 'kfold': 10,\n",
       " 'batch_size': 16,\n",
       " 'model_name': 'pesi_CosCLF',\n",
       " 'clip_norm': 0.5,\n",
       " 'diff_lr': False,\n",
       " 'use_part': True}"
      ]
     },
     "execution_count": 20,
     "metadata": {},
     "output_type": "execute_result"
    }
   ],
   "source": [
    "config = pickle.load(open(\"./results/CoV-AbDab/pesi_05-29-00-56-03/config_file\", \"rb\"))\n",
    "config"
   ]
  },
  {
   "cell_type": "markdown",
   "id": "639b69dd",
   "metadata": {},
   "source": [
    "# baseline++"
   ]
  },
  {
   "cell_type": "code",
   "execution_count": 10,
   "id": "fb6400ae",
   "metadata": {},
   "outputs": [
    {
     "data": {
      "text/plain": [
       "(torch.Size([2, 32]),\n",
       " tensor([[ 0.0401, -0.1232, -0.0484,  0.0843,  0.0607,  0.1285,  0.1248,  0.0693,\n",
       "           0.0961, -0.0792,  0.0382,  0.0602, -0.1740, -0.1204,  0.0562,  0.0359,\n",
       "          -0.1482, -0.0603, -0.0491,  0.0592, -0.1110,  0.1502,  0.1565, -0.1695,\n",
       "          -0.1526,  0.0240, -0.0506, -0.1251, -0.0197, -0.0916,  0.0080, -0.1507],\n",
       "         [-0.0040,  0.1407,  0.0548, -0.0698,  0.1091,  0.1348,  0.1262, -0.1553,\n",
       "           0.1696,  0.1180, -0.0121,  0.1376, -0.0835, -0.1104,  0.1198, -0.0259,\n",
       "          -0.0506, -0.1263, -0.0751, -0.0654, -0.0889, -0.0788,  0.0169,  0.1579,\n",
       "           0.1150,  0.0804,  0.1103,  0.0678,  0.1690, -0.0795,  0.1380,  0.1611]],\n",
       "        grad_fn=<WeightNormInterfaceBackward0>))"
      ]
     },
     "execution_count": 10,
     "metadata": {},
     "output_type": "execute_result"
    }
   ],
   "source": [
    "cls = distLinear(indim=32, outdim=2)\n",
    "cls.L.weight.shape, cls.L.weight"
   ]
  },
  {
   "cell_type": "code",
   "execution_count": 73,
   "id": "53b429f0",
   "metadata": {},
   "outputs": [
    {
     "data": {
      "text/plain": [
       "(torch.Size([32, 2]),\n",
       " tensor([[ 0.0401, -0.0040],\n",
       "         [-0.1232,  0.1407],\n",
       "         [-0.0484,  0.0548],\n",
       "         [ 0.0843, -0.0698],\n",
       "         [ 0.0607,  0.1091],\n",
       "         [ 0.1285,  0.1348],\n",
       "         [ 0.1248,  0.1262],\n",
       "         [ 0.0693, -0.1553],\n",
       "         [ 0.0961,  0.1696],\n",
       "         [-0.0792,  0.1180],\n",
       "         [ 0.0382, -0.0121],\n",
       "         [ 0.0602,  0.1376],\n",
       "         [-0.1740, -0.0835],\n",
       "         [-0.1204, -0.1104],\n",
       "         [ 0.0562,  0.1198],\n",
       "         [ 0.0359, -0.0259],\n",
       "         [-0.1482, -0.0506],\n",
       "         [-0.0603, -0.1263],\n",
       "         [-0.0491, -0.0751],\n",
       "         [ 0.0592, -0.0654],\n",
       "         [-0.1110, -0.0889],\n",
       "         [ 0.1502, -0.0788],\n",
       "         [ 0.1565,  0.0169],\n",
       "         [-0.1695,  0.1579],\n",
       "         [-0.1526,  0.1150],\n",
       "         [ 0.0240,  0.0804],\n",
       "         [-0.0506,  0.1103],\n",
       "         [-0.1251,  0.0678],\n",
       "         [-0.0197,  0.1690],\n",
       "         [-0.0916, -0.0795],\n",
       "         [ 0.0080,  0.1380],\n",
       "         [-0.1507,  0.1611]], grad_fn=<PermuteBackward0>))"
      ]
     },
     "execution_count": 73,
     "metadata": {},
     "output_type": "execute_result"
    }
   ],
   "source": [
    "Wb = cls.L.weight.T\n",
    "Wb.shape, Wb"
   ]
  },
  {
   "cell_type": "code",
   "execution_count": 92,
   "id": "8a9a9851",
   "metadata": {},
   "outputs": [
    {
     "data": {
      "text/plain": [
       "(torch.Size([3, 32]),\n",
       " tensor([[ 1.0000,  1.0000,  1.0000,  1.0000,  1.0000,  1.0000,  1.0000,  1.0000,\n",
       "           1.0000,  1.0000,  1.0000,  1.0000,  1.0000,  1.0000,  1.0000,  1.0000,\n",
       "           1.0000,  1.0000,  1.0000,  1.0000,  1.0000,  1.0000,  1.0000,  1.0000,\n",
       "           1.0000,  1.0000,  1.0000,  1.0000,  1.0000,  1.0000,  1.0000,  1.0000],\n",
       "         [ 1.0000,  1.0000,  1.0000,  1.0000,  1.0000,  1.0000,  1.0000,  1.0000,\n",
       "           1.0000,  1.0000,  1.0000,  1.0000,  1.0000,  1.0000,  1.0000,  1.0000,\n",
       "           1.0000,  1.0000,  1.0000,  1.0000,  1.0000,  1.0000,  1.0000,  1.0000,\n",
       "           1.0000,  1.0000,  1.0000,  1.0000,  1.0000,  1.0000,  1.0000,  1.0000],\n",
       "         [-0.2000, -0.2000, -0.2000, -0.2000, -0.2000, -0.2000, -0.2000, -0.2000,\n",
       "          -0.2000, -0.2000, -0.2000, -0.2000, -0.2000, -0.2000, -0.2000, -0.2000,\n",
       "          -0.2000, -0.2000, -0.2000, -0.2000, -0.2000, -0.2000, -0.2000, -0.2000,\n",
       "          -0.2000, -0.2000, -0.2000, -0.2000, -0.2000, -0.2000, -0.2000, -0.2000]]))"
      ]
     },
     "execution_count": 92,
     "metadata": {},
     "output_type": "execute_result"
    }
   ],
   "source": [
    "x1 = torch.ones((2, 32))\n",
    "x2 = torch.zeros((1,32))\n",
    "x2 -= 0.2\n",
    "x = torch.vstack([x1, x2])\n",
    "x.shape, x"
   ]
  },
  {
   "cell_type": "code",
   "execution_count": 77,
   "id": "5228d914",
   "metadata": {},
   "outputs": [
    {
     "data": {
      "text/plain": [
       "(tensor([[-0.4815,  1.1016],\n",
       "         [-0.4815,  1.1016],\n",
       "         [-0.0963,  0.2203]], grad_fn=<MmBackward0>),\n",
       " tensor([5.6569, 5.6569, 1.1314]),\n",
       " tensor([0.0403, 0.1870, 0.0731, 0.1094, 0.1248, 0.1862, 0.1775, 0.1700, 0.1950,\n",
       "         0.1421, 0.0401, 0.1502, 0.1930, 0.1633, 0.1323, 0.0443, 0.1566, 0.1399,\n",
       "         0.0897, 0.0882, 0.1422, 0.1696, 0.1574, 0.2317, 0.1911, 0.0840, 0.1213,\n",
       "         0.1423, 0.1701, 0.1213, 0.1382, 0.2206], grad_fn=<NormBackward1>))"
      ]
     },
     "execution_count": 77,
     "metadata": {},
     "output_type": "execute_result"
    }
   ],
   "source": [
    "# my own implementation\n",
    "x@Wb, torch.norm(x, p=2, dim=1), torch.norm(Wb, p=2, dim=1)"
   ]
  },
  {
   "cell_type": "code",
   "execution_count": 78,
   "id": "ce366039",
   "metadata": {},
   "outputs": [
    {
     "data": {
      "text/plain": [
       "(torch.Size([3, 32]),\n",
       " tensor([[5.6569, 5.6569, 5.6569, 5.6569, 5.6569, 5.6569, 5.6569, 5.6569, 5.6569,\n",
       "          5.6569, 5.6569, 5.6569, 5.6569, 5.6569, 5.6569, 5.6569, 5.6569, 5.6569,\n",
       "          5.6569, 5.6569, 5.6569, 5.6569, 5.6569, 5.6569, 5.6569, 5.6569, 5.6569,\n",
       "          5.6569, 5.6569, 5.6569, 5.6569, 5.6569],\n",
       "         [5.6569, 5.6569, 5.6569, 5.6569, 5.6569, 5.6569, 5.6569, 5.6569, 5.6569,\n",
       "          5.6569, 5.6569, 5.6569, 5.6569, 5.6569, 5.6569, 5.6569, 5.6569, 5.6569,\n",
       "          5.6569, 5.6569, 5.6569, 5.6569, 5.6569, 5.6569, 5.6569, 5.6569, 5.6569,\n",
       "          5.6569, 5.6569, 5.6569, 5.6569, 5.6569],\n",
       "         [1.1314, 1.1314, 1.1314, 1.1314, 1.1314, 1.1314, 1.1314, 1.1314, 1.1314,\n",
       "          1.1314, 1.1314, 1.1314, 1.1314, 1.1314, 1.1314, 1.1314, 1.1314, 1.1314,\n",
       "          1.1314, 1.1314, 1.1314, 1.1314, 1.1314, 1.1314, 1.1314, 1.1314, 1.1314,\n",
       "          1.1314, 1.1314, 1.1314, 1.1314, 1.1314]]))"
      ]
     },
     "execution_count": 78,
     "metadata": {},
     "output_type": "execute_result"
    }
   ],
   "source": [
    "(torch.norm(x, p=2, dim =1).unsqueeze(1).expand_as(x)).shape, torch.norm(x, p=2, dim =1).unsqueeze(1).expand_as(x)"
   ]
  },
  {
   "cell_type": "code",
   "execution_count": 79,
   "id": "c496eac1",
   "metadata": {},
   "outputs": [
    {
     "data": {
      "text/plain": [
       "(torch.Size([3, 32]),\n",
       " tensor([[0.7001, 0.7001, 0.7001, 0.7001, 0.7001, 0.7001, 0.7001, 0.7001, 0.7001,\n",
       "          0.7001, 0.7001, 0.7001, 0.7001, 0.7001, 0.7001, 0.7001, 0.7001, 0.7001,\n",
       "          0.7001, 0.7001, 0.7001, 0.7001, 0.7001, 0.7001, 0.7001, 0.7001, 0.7001,\n",
       "          0.7001, 0.7001, 0.7001, 0.7001, 0.7001],\n",
       "         [0.7001, 0.7001, 0.7001, 0.7001, 0.7001, 0.7001, 0.7001, 0.7001, 0.7001,\n",
       "          0.7001, 0.7001, 0.7001, 0.7001, 0.7001, 0.7001, 0.7001, 0.7001, 0.7001,\n",
       "          0.7001, 0.7001, 0.7001, 0.7001, 0.7001, 0.7001, 0.7001, 0.7001, 0.7001,\n",
       "          0.7001, 0.7001, 0.7001, 0.7001, 0.7001],\n",
       "         [0.1400, 0.1400, 0.1400, 0.1400, 0.1400, 0.1400, 0.1400, 0.1400, 0.1400,\n",
       "          0.1400, 0.1400, 0.1400, 0.1400, 0.1400, 0.1400, 0.1400, 0.1400, 0.1400,\n",
       "          0.1400, 0.1400, 0.1400, 0.1400, 0.1400, 0.1400, 0.1400, 0.1400, 0.1400,\n",
       "          0.1400, 0.1400, 0.1400, 0.1400, 0.1400]]))"
      ]
     },
     "execution_count": 79,
     "metadata": {},
     "output_type": "execute_result"
    }
   ],
   "source": [
    "(x/torch.norm(x, p=2, dim=0)).shape, x/torch.norm(x, p=2, dim=0)"
   ]
  },
  {
   "cell_type": "code",
   "execution_count": 80,
   "id": "84678707",
   "metadata": {},
   "outputs": [
    {
     "data": {
      "text/plain": [
       "(torch.Size([32, 2]),\n",
       " tensor([[ 0.0699, -0.0065],\n",
       "         [-0.2145,  0.2289],\n",
       "         [-0.0842,  0.0891],\n",
       "         [ 0.1467, -0.1136],\n",
       "         [ 0.1057,  0.1774],\n",
       "         [ 0.2237,  0.2193],\n",
       "         [ 0.2173,  0.2053],\n",
       "         [ 0.1206, -0.2526],\n",
       "         [ 0.1673,  0.2760],\n",
       "         [-0.1378,  0.1920],\n",
       "         [ 0.0666, -0.0197],\n",
       "         [ 0.1047,  0.2239],\n",
       "         [-0.3029, -0.1358],\n",
       "         [-0.2096, -0.1795],\n",
       "         [ 0.0978,  0.1948],\n",
       "         [ 0.0625, -0.0421],\n",
       "         [-0.2581, -0.0823],\n",
       "         [-0.1050, -0.2054],\n",
       "         [-0.0854, -0.1222],\n",
       "         [ 0.1031, -0.1064],\n",
       "         [-0.1933, -0.1446],\n",
       "         [ 0.2615, -0.1282],\n",
       "         [ 0.2724,  0.0276],\n",
       "         [-0.2952,  0.2569],\n",
       "         [-0.2657,  0.1871],\n",
       "         [ 0.0418,  0.1309],\n",
       "         [-0.0881,  0.1794],\n",
       "         [-0.2178,  0.1102],\n",
       "         [-0.0343,  0.2749],\n",
       "         [-0.1596, -0.1294],\n",
       "         [ 0.0139,  0.2245],\n",
       "         [-0.2624,  0.2621]], grad_fn=<DivBackward0>))"
      ]
     },
     "execution_count": 80,
     "metadata": {},
     "output_type": "execute_result"
    }
   ],
   "source": [
    "(Wb/torch.norm(Wb, p=2, dim=0)).shape, Wb/torch.norm(Wb, p=2, dim=0)"
   ]
  },
  {
   "cell_type": "code",
   "execution_count": 81,
   "id": "35f52672",
   "metadata": {},
   "outputs": [
    {
     "data": {
      "text/plain": [
       "tensor([[-0.5869,  1.2548],\n",
       "        [-0.5869,  1.2548],\n",
       "        [-0.1174,  0.2510]], grad_fn=<MmBackward0>)"
      ]
     },
     "execution_count": 81,
     "metadata": {},
     "output_type": "execute_result"
    }
   ],
   "source": [
    "(x/torch.norm(x, p=2, dim=0)) @ (Wb/torch.norm(Wb, p=2, dim=0))"
   ]
  },
  {
   "cell_type": "code",
   "execution_count": 93,
   "id": "ce693f25",
   "metadata": {},
   "outputs": [
    {
     "data": {
      "text/plain": [
       "tensor([[-0.1702,  0.3895],\n",
       "        [-0.1702,  0.3895],\n",
       "        [ 0.1702, -0.3895]], grad_fn=<MulBackward0>)"
      ]
     },
     "execution_count": 93,
     "metadata": {},
     "output_type": "execute_result"
    }
   ],
   "source": [
    "# author's implementation\n",
    "\n",
    "scores = cls.forward(x)\n",
    "scores"
   ]
  },
  {
   "cell_type": "code",
   "execution_count": 94,
   "id": "c23b3ea4",
   "metadata": {},
   "outputs": [
    {
     "data": {
      "text/plain": [
       "(tensor([[0.3895],\n",
       "         [0.3895],\n",
       "         [0.1702]]),\n",
       " tensor([[1],\n",
       "         [1],\n",
       "         [0]]))"
      ]
     },
     "execution_count": 94,
     "metadata": {},
     "output_type": "execute_result"
    }
   ],
   "source": [
    "scores, labels = scores.data.topk(1,1,True,True)\n",
    "scores, labels"
   ]
  },
  {
   "cell_type": "code",
   "execution_count": 96,
   "id": "c2ff3a5f",
   "metadata": {},
   "outputs": [
    {
     "data": {
      "text/plain": [
       "tensor([[5.6569, 5.6569, 5.6569, 5.6569, 5.6569, 5.6569, 5.6569, 5.6569, 5.6569,\n",
       "         5.6569, 5.6569, 5.6569, 5.6569, 5.6569, 5.6569, 5.6569, 5.6569, 5.6569,\n",
       "         5.6569, 5.6569, 5.6569, 5.6569, 5.6569, 5.6569, 5.6569, 5.6569, 5.6569,\n",
       "         5.6569, 5.6569, 5.6569, 5.6569, 5.6569],\n",
       "        [5.6569, 5.6569, 5.6569, 5.6569, 5.6569, 5.6569, 5.6569, 5.6569, 5.6569,\n",
       "         5.6569, 5.6569, 5.6569, 5.6569, 5.6569, 5.6569, 5.6569, 5.6569, 5.6569,\n",
       "         5.6569, 5.6569, 5.6569, 5.6569, 5.6569, 5.6569, 5.6569, 5.6569, 5.6569,\n",
       "         5.6569, 5.6569, 5.6569, 5.6569, 5.6569],\n",
       "        [1.1314, 1.1314, 1.1314, 1.1314, 1.1314, 1.1314, 1.1314, 1.1314, 1.1314,\n",
       "         1.1314, 1.1314, 1.1314, 1.1314, 1.1314, 1.1314, 1.1314, 1.1314, 1.1314,\n",
       "         1.1314, 1.1314, 1.1314, 1.1314, 1.1314, 1.1314, 1.1314, 1.1314, 1.1314,\n",
       "         1.1314, 1.1314, 1.1314, 1.1314, 1.1314]])"
      ]
     },
     "execution_count": 96,
     "metadata": {},
     "output_type": "execute_result"
    }
   ],
   "source": [
    "x_norm = torch.norm(x, p=2, dim =1).unsqueeze(1).expand_as(x)\n",
    "x_norm"
   ]
  },
  {
   "cell_type": "code",
   "execution_count": 97,
   "id": "f33904e0",
   "metadata": {},
   "outputs": [
    {
     "data": {
      "text/plain": [
       "tensor([[ 0.1768,  0.1768,  0.1768,  0.1768,  0.1768,  0.1768,  0.1768,  0.1768,\n",
       "          0.1768,  0.1768,  0.1768,  0.1768,  0.1768,  0.1768,  0.1768,  0.1768,\n",
       "          0.1768,  0.1768,  0.1768,  0.1768,  0.1768,  0.1768,  0.1768,  0.1768,\n",
       "          0.1768,  0.1768,  0.1768,  0.1768,  0.1768,  0.1768,  0.1768,  0.1768],\n",
       "        [ 0.1768,  0.1768,  0.1768,  0.1768,  0.1768,  0.1768,  0.1768,  0.1768,\n",
       "          0.1768,  0.1768,  0.1768,  0.1768,  0.1768,  0.1768,  0.1768,  0.1768,\n",
       "          0.1768,  0.1768,  0.1768,  0.1768,  0.1768,  0.1768,  0.1768,  0.1768,\n",
       "          0.1768,  0.1768,  0.1768,  0.1768,  0.1768,  0.1768,  0.1768,  0.1768],\n",
       "        [-0.1768, -0.1768, -0.1768, -0.1768, -0.1768, -0.1768, -0.1768, -0.1768,\n",
       "         -0.1768, -0.1768, -0.1768, -0.1768, -0.1768, -0.1768, -0.1768, -0.1768,\n",
       "         -0.1768, -0.1768, -0.1768, -0.1768, -0.1768, -0.1768, -0.1768, -0.1768,\n",
       "         -0.1768, -0.1768, -0.1768, -0.1768, -0.1768, -0.1768, -0.1768, -0.1768]])"
      ]
     },
     "execution_count": 97,
     "metadata": {},
     "output_type": "execute_result"
    }
   ],
   "source": [
    "x_normalized = x.div(x_norm+ 0.00001)\n",
    "x_normalized"
   ]
  },
  {
   "cell_type": "code",
   "execution_count": 6,
   "id": "011470ac",
   "metadata": {},
   "outputs": [],
   "source": [
    "cls = distLinear(indim=32, outdim=2)\n",
    "para = torch.ones((16,32))\n",
    "epi = torch.ones((16,32))"
   ]
  },
  {
   "cell_type": "code",
   "execution_count": 10,
   "id": "a2c14783",
   "metadata": {},
   "outputs": [
    {
     "data": {
      "text/plain": [
       "(torch.Size([16, 2]),\n",
       " tensor([[ 0.0203, -0.1939],\n",
       "         [ 0.0203, -0.1939],\n",
       "         [ 0.0203, -0.1939],\n",
       "         [ 0.0203, -0.1939],\n",
       "         [ 0.0203, -0.1939],\n",
       "         [ 0.0203, -0.1939],\n",
       "         [ 0.0203, -0.1939],\n",
       "         [ 0.0203, -0.1939],\n",
       "         [ 0.0203, -0.1939],\n",
       "         [ 0.0203, -0.1939],\n",
       "         [ 0.0203, -0.1939],\n",
       "         [ 0.0203, -0.1939],\n",
       "         [ 0.0203, -0.1939],\n",
       "         [ 0.0203, -0.1939],\n",
       "         [ 0.0203, -0.1939],\n",
       "         [ 0.0203, -0.1939]], grad_fn=<MulBackward0>))"
      ]
     },
     "execution_count": 10,
     "metadata": {},
     "output_type": "execute_result"
    }
   ],
   "source": [
    "pred = cls.forward(para*epi)\n",
    "pred.shape, pred"
   ]
  },
  {
   "cell_type": "code",
   "execution_count": 19,
   "id": "cea52b0b",
   "metadata": {},
   "outputs": [
    {
     "data": {
      "text/plain": [
       "tensor([0.5533, 0.5533, 0.5533, 0.5533, 0.5533, 0.5533, 0.5533, 0.5533, 0.5533,\n",
       "        0.5533, 0.5533, 0.5533, 0.5533, 0.5533, 0.5533, 0.5533],\n",
       "       grad_fn=<MaxBackward0>)"
      ]
     },
     "execution_count": 19,
     "metadata": {},
     "output_type": "execute_result"
    }
   ],
   "source": [
    "F.softmax(pred).max(dim=1).values"
   ]
  },
  {
   "cell_type": "code",
   "execution_count": 15,
   "id": "559fea57",
   "metadata": {},
   "outputs": [
    {
     "data": {
      "text/plain": [
       "(torch.Size([3, 2]),\n",
       " tensor([[0.2000, 0.8000],\n",
       "         [0.4000, 0.6000],\n",
       "         [0.7000, 0.3000]]))"
      ]
     },
     "execution_count": 15,
     "metadata": {},
     "output_type": "execute_result"
    }
   ],
   "source": [
    "pred1 = torch.tensor([[0.2,0.8], [0.4, 0.6], [0.7, 0.3]])\n",
    "pred1.shape, pred1"
   ]
  },
  {
   "cell_type": "code",
   "execution_count": 17,
   "id": "0b951c2c",
   "metadata": {},
   "outputs": [
    {
     "data": {
      "text/plain": [
       "tensor([0.8000, 0.6000, 0.7000])"
      ]
     },
     "execution_count": 17,
     "metadata": {},
     "output_type": "execute_result"
    }
   ],
   "source": [
    "pred1.max(dim=1).values"
   ]
  },
  {
   "cell_type": "markdown",
   "id": "41b8e933",
   "metadata": {},
   "source": [
    "# transfer weights"
   ]
  },
  {
   "cell_type": "code",
   "execution_count": 38,
   "id": "9e8d3c35",
   "metadata": {},
   "outputs": [
    {
     "data": {
      "text/plain": [
       "tensor([ 1.7428,  0.6113,  1.1294, -0.6985,  0.0217,  0.5714, -0.0743,  0.1057,\n",
       "         0.2319,  0.2670, -0.9700,  0.0763,  0.4603, -3.8959, -0.6182,  0.8623,\n",
       "        -1.0760, -0.9592,  0.9274, -0.5777,  0.1985, -1.5596,  1.0333, -0.2352,\n",
       "        -0.3648, -1.0239, -0.9126, -1.9418, -0.8806,  0.2797, -1.3338, -0.3396],\n",
       "       device='cuda:0', grad_fn=<SliceBackward0>)"
      ]
     },
     "execution_count": 38,
     "metadata": {},
     "output_type": "execute_result"
    }
   ],
   "source": [
    "model = torch.load(\"./results/SAbDab/full/seq1_neg0/pesi_CLIP/model_best.pth\")\n",
    "model.embedding.weight[1,:]"
   ]
  },
  {
   "cell_type": "code",
   "execution_count": 10,
   "id": "451c463e",
   "metadata": {},
   "outputs": [
    {
     "name": "stdout",
     "output_type": "stream",
     "text": [
      "logit_scale\n",
      "embedding.weight\n",
      "para_enc.0.I\n",
      "para_enc.0.mab0.fc_q.weight\n",
      "para_enc.0.mab0.fc_q.bias\n",
      "para_enc.0.mab0.fc_k.weight\n",
      "para_enc.0.mab0.fc_k.bias\n",
      "para_enc.0.mab0.fc_v.weight\n",
      "para_enc.0.mab0.fc_v.bias\n",
      "para_enc.0.mab0.ln0.weight\n",
      "para_enc.0.mab0.ln0.bias\n",
      "para_enc.0.mab0.ln1.weight\n",
      "para_enc.0.mab0.ln1.bias\n",
      "para_enc.0.mab0.fc_o.weight\n",
      "para_enc.0.mab0.fc_o.bias\n",
      "para_enc.0.mab1.fc_q.weight\n",
      "para_enc.0.mab1.fc_q.bias\n",
      "para_enc.0.mab1.fc_k.weight\n",
      "para_enc.0.mab1.fc_k.bias\n",
      "para_enc.0.mab1.fc_v.weight\n",
      "para_enc.0.mab1.fc_v.bias\n",
      "para_enc.0.mab1.ln0.weight\n",
      "para_enc.0.mab1.ln0.bias\n",
      "para_enc.0.mab1.ln1.weight\n",
      "para_enc.0.mab1.ln1.bias\n",
      "para_enc.0.mab1.fc_o.weight\n",
      "para_enc.0.mab1.fc_o.bias\n",
      "para_enc.1.I\n",
      "para_enc.1.mab0.fc_q.weight\n",
      "para_enc.1.mab0.fc_q.bias\n",
      "para_enc.1.mab0.fc_k.weight\n",
      "para_enc.1.mab0.fc_k.bias\n",
      "para_enc.1.mab0.fc_v.weight\n",
      "para_enc.1.mab0.fc_v.bias\n",
      "para_enc.1.mab0.ln0.weight\n",
      "para_enc.1.mab0.ln0.bias\n",
      "para_enc.1.mab0.ln1.weight\n",
      "para_enc.1.mab0.ln1.bias\n",
      "para_enc.1.mab0.fc_o.weight\n",
      "para_enc.1.mab0.fc_o.bias\n",
      "para_enc.1.mab1.fc_q.weight\n",
      "para_enc.1.mab1.fc_q.bias\n",
      "para_enc.1.mab1.fc_k.weight\n",
      "para_enc.1.mab1.fc_k.bias\n",
      "para_enc.1.mab1.fc_v.weight\n",
      "para_enc.1.mab1.fc_v.bias\n",
      "para_enc.1.mab1.ln0.weight\n",
      "para_enc.1.mab1.ln0.bias\n",
      "para_enc.1.mab1.ln1.weight\n",
      "para_enc.1.mab1.ln1.bias\n",
      "para_enc.1.mab1.fc_o.weight\n",
      "para_enc.1.mab1.fc_o.bias\n",
      "para_dec.0.S\n",
      "para_dec.0.mab.fc_q.weight\n",
      "para_dec.0.mab.fc_q.bias\n",
      "para_dec.0.mab.fc_k.weight\n",
      "para_dec.0.mab.fc_k.bias\n",
      "para_dec.0.mab.fc_v.weight\n",
      "para_dec.0.mab.fc_v.bias\n",
      "para_dec.0.mab.ln0.weight\n",
      "para_dec.0.mab.ln0.bias\n",
      "para_dec.0.mab.ln1.weight\n",
      "para_dec.0.mab.ln1.bias\n",
      "para_dec.0.mab.fc_o.weight\n",
      "para_dec.0.mab.fc_o.bias\n",
      "para_dec.1.mab.fc_q.weight\n",
      "para_dec.1.mab.fc_q.bias\n",
      "para_dec.1.mab.fc_k.weight\n",
      "para_dec.1.mab.fc_k.bias\n",
      "para_dec.1.mab.fc_v.weight\n",
      "para_dec.1.mab.fc_v.bias\n",
      "para_dec.1.mab.ln0.weight\n",
      "para_dec.1.mab.ln0.bias\n",
      "para_dec.1.mab.ln1.weight\n",
      "para_dec.1.mab.ln1.bias\n",
      "para_dec.1.mab.fc_o.weight\n",
      "para_dec.1.mab.fc_o.bias\n",
      "para_dec.2.mab.fc_q.weight\n",
      "para_dec.2.mab.fc_q.bias\n",
      "para_dec.2.mab.fc_k.weight\n",
      "para_dec.2.mab.fc_k.bias\n",
      "para_dec.2.mab.fc_v.weight\n",
      "para_dec.2.mab.fc_v.bias\n",
      "para_dec.2.mab.ln0.weight\n",
      "para_dec.2.mab.ln0.bias\n",
      "para_dec.2.mab.ln1.weight\n",
      "para_dec.2.mab.ln1.bias\n",
      "para_dec.2.mab.fc_o.weight\n",
      "para_dec.2.mab.fc_o.bias\n",
      "para_dec.3.weight\n",
      "para_dec.3.bias\n",
      "epi_enc.0.I\n",
      "epi_enc.0.mab0.fc_q.weight\n",
      "epi_enc.0.mab0.fc_q.bias\n",
      "epi_enc.0.mab0.fc_k.weight\n",
      "epi_enc.0.mab0.fc_k.bias\n",
      "epi_enc.0.mab0.fc_v.weight\n",
      "epi_enc.0.mab0.fc_v.bias\n",
      "epi_enc.0.mab0.ln0.weight\n",
      "epi_enc.0.mab0.ln0.bias\n",
      "epi_enc.0.mab0.ln1.weight\n",
      "epi_enc.0.mab0.ln1.bias\n",
      "epi_enc.0.mab0.fc_o.weight\n",
      "epi_enc.0.mab0.fc_o.bias\n",
      "epi_enc.0.mab1.fc_q.weight\n",
      "epi_enc.0.mab1.fc_q.bias\n",
      "epi_enc.0.mab1.fc_k.weight\n",
      "epi_enc.0.mab1.fc_k.bias\n",
      "epi_enc.0.mab1.fc_v.weight\n",
      "epi_enc.0.mab1.fc_v.bias\n",
      "epi_enc.0.mab1.ln0.weight\n",
      "epi_enc.0.mab1.ln0.bias\n",
      "epi_enc.0.mab1.ln1.weight\n",
      "epi_enc.0.mab1.ln1.bias\n",
      "epi_enc.0.mab1.fc_o.weight\n",
      "epi_enc.0.mab1.fc_o.bias\n",
      "epi_enc.1.I\n",
      "epi_enc.1.mab0.fc_q.weight\n",
      "epi_enc.1.mab0.fc_q.bias\n",
      "epi_enc.1.mab0.fc_k.weight\n",
      "epi_enc.1.mab0.fc_k.bias\n",
      "epi_enc.1.mab0.fc_v.weight\n",
      "epi_enc.1.mab0.fc_v.bias\n",
      "epi_enc.1.mab0.ln0.weight\n",
      "epi_enc.1.mab0.ln0.bias\n",
      "epi_enc.1.mab0.ln1.weight\n",
      "epi_enc.1.mab0.ln1.bias\n",
      "epi_enc.1.mab0.fc_o.weight\n",
      "epi_enc.1.mab0.fc_o.bias\n",
      "epi_enc.1.mab1.fc_q.weight\n",
      "epi_enc.1.mab1.fc_q.bias\n",
      "epi_enc.1.mab1.fc_k.weight\n",
      "epi_enc.1.mab1.fc_k.bias\n",
      "epi_enc.1.mab1.fc_v.weight\n",
      "epi_enc.1.mab1.fc_v.bias\n",
      "epi_enc.1.mab1.ln0.weight\n",
      "epi_enc.1.mab1.ln0.bias\n",
      "epi_enc.1.mab1.ln1.weight\n",
      "epi_enc.1.mab1.ln1.bias\n",
      "epi_enc.1.mab1.fc_o.weight\n",
      "epi_enc.1.mab1.fc_o.bias\n",
      "epi_dec.0.S\n",
      "epi_dec.0.mab.fc_q.weight\n",
      "epi_dec.0.mab.fc_q.bias\n",
      "epi_dec.0.mab.fc_k.weight\n",
      "epi_dec.0.mab.fc_k.bias\n",
      "epi_dec.0.mab.fc_v.weight\n",
      "epi_dec.0.mab.fc_v.bias\n",
      "epi_dec.0.mab.ln0.weight\n",
      "epi_dec.0.mab.ln0.bias\n",
      "epi_dec.0.mab.ln1.weight\n",
      "epi_dec.0.mab.ln1.bias\n",
      "epi_dec.0.mab.fc_o.weight\n",
      "epi_dec.0.mab.fc_o.bias\n",
      "epi_dec.1.mab.fc_q.weight\n",
      "epi_dec.1.mab.fc_q.bias\n",
      "epi_dec.1.mab.fc_k.weight\n",
      "epi_dec.1.mab.fc_k.bias\n",
      "epi_dec.1.mab.fc_v.weight\n",
      "epi_dec.1.mab.fc_v.bias\n",
      "epi_dec.1.mab.ln0.weight\n",
      "epi_dec.1.mab.ln0.bias\n",
      "epi_dec.1.mab.ln1.weight\n",
      "epi_dec.1.mab.ln1.bias\n",
      "epi_dec.1.mab.fc_o.weight\n",
      "epi_dec.1.mab.fc_o.bias\n",
      "epi_dec.2.mab.fc_q.weight\n",
      "epi_dec.2.mab.fc_q.bias\n",
      "epi_dec.2.mab.fc_k.weight\n",
      "epi_dec.2.mab.fc_k.bias\n",
      "epi_dec.2.mab.fc_v.weight\n",
      "epi_dec.2.mab.fc_v.bias\n",
      "epi_dec.2.mab.ln0.weight\n",
      "epi_dec.2.mab.ln0.bias\n",
      "epi_dec.2.mab.ln1.weight\n",
      "epi_dec.2.mab.ln1.bias\n",
      "epi_dec.2.mab.fc_o.weight\n",
      "epi_dec.2.mab.fc_o.bias\n",
      "epi_dec.3.weight\n",
      "epi_dec.3.bias\n",
      "co_attn.linear_a.weight\n",
      "co_attn.linear_a.bias\n",
      "co_attn.linear_b.weight\n",
      "co_attn.linear_b.bias\n",
      "co_attn.W.weight\n",
      "co_attn.W.bias\n",
      "output_layer.0.weight\n",
      "output_layer.0.bias\n",
      "output_layer.3.weight\n",
      "output_layer.3.bias\n"
     ]
    }
   ],
   "source": [
    "for name, param in model.state_dict().items():\n",
    "    print(name)"
   ]
  },
  {
   "cell_type": "code",
   "execution_count": 43,
   "id": "bf448710",
   "metadata": {},
   "outputs": [
    {
     "name": "stdout",
     "output_type": "stream",
     "text": [
      "logit_scale\n",
      "embedding.weight\n",
      "para_enc.0.I\n",
      "para_enc.0.mab0.fc_q.weight\n",
      "para_enc.0.mab0.fc_q.bias\n",
      "para_enc.0.mab0.fc_k.weight\n",
      "para_enc.0.mab0.fc_k.bias\n",
      "para_enc.0.mab0.fc_v.weight\n",
      "para_enc.0.mab0.fc_v.bias\n",
      "para_enc.0.mab0.ln0.weight\n",
      "para_enc.0.mab0.ln0.bias\n",
      "para_enc.0.mab0.ln1.weight\n",
      "para_enc.0.mab0.ln1.bias\n",
      "para_enc.0.mab0.fc_o.weight\n",
      "para_enc.0.mab0.fc_o.bias\n",
      "para_enc.0.mab1.fc_q.weight\n",
      "para_enc.0.mab1.fc_q.bias\n",
      "para_enc.0.mab1.fc_k.weight\n",
      "para_enc.0.mab1.fc_k.bias\n",
      "para_enc.0.mab1.fc_v.weight\n",
      "para_enc.0.mab1.fc_v.bias\n",
      "para_enc.0.mab1.ln0.weight\n",
      "para_enc.0.mab1.ln0.bias\n",
      "para_enc.0.mab1.ln1.weight\n",
      "para_enc.0.mab1.ln1.bias\n",
      "para_enc.0.mab1.fc_o.weight\n",
      "para_enc.0.mab1.fc_o.bias\n",
      "para_enc.1.I\n",
      "para_enc.1.mab0.fc_q.weight\n",
      "para_enc.1.mab0.fc_q.bias\n",
      "para_enc.1.mab0.fc_k.weight\n",
      "para_enc.1.mab0.fc_k.bias\n",
      "para_enc.1.mab0.fc_v.weight\n",
      "para_enc.1.mab0.fc_v.bias\n",
      "para_enc.1.mab0.ln0.weight\n",
      "para_enc.1.mab0.ln0.bias\n",
      "para_enc.1.mab0.ln1.weight\n",
      "para_enc.1.mab0.ln1.bias\n",
      "para_enc.1.mab0.fc_o.weight\n",
      "para_enc.1.mab0.fc_o.bias\n",
      "para_enc.1.mab1.fc_q.weight\n",
      "para_enc.1.mab1.fc_q.bias\n",
      "para_enc.1.mab1.fc_k.weight\n",
      "para_enc.1.mab1.fc_k.bias\n",
      "para_enc.1.mab1.fc_v.weight\n",
      "para_enc.1.mab1.fc_v.bias\n",
      "para_enc.1.mab1.ln0.weight\n",
      "para_enc.1.mab1.ln0.bias\n",
      "para_enc.1.mab1.ln1.weight\n",
      "para_enc.1.mab1.ln1.bias\n",
      "para_enc.1.mab1.fc_o.weight\n",
      "para_enc.1.mab1.fc_o.bias\n",
      "para_dec.0.S\n",
      "para_dec.0.mab.fc_q.weight\n",
      "para_dec.0.mab.fc_q.bias\n",
      "para_dec.0.mab.fc_k.weight\n",
      "para_dec.0.mab.fc_k.bias\n",
      "para_dec.0.mab.fc_v.weight\n",
      "para_dec.0.mab.fc_v.bias\n",
      "para_dec.0.mab.ln0.weight\n",
      "para_dec.0.mab.ln0.bias\n",
      "para_dec.0.mab.ln1.weight\n",
      "para_dec.0.mab.ln1.bias\n",
      "para_dec.0.mab.fc_o.weight\n",
      "para_dec.0.mab.fc_o.bias\n",
      "para_dec.1.mab.fc_q.weight\n",
      "para_dec.1.mab.fc_q.bias\n",
      "para_dec.1.mab.fc_k.weight\n",
      "para_dec.1.mab.fc_k.bias\n",
      "para_dec.1.mab.fc_v.weight\n",
      "para_dec.1.mab.fc_v.bias\n",
      "para_dec.1.mab.ln0.weight\n",
      "para_dec.1.mab.ln0.bias\n",
      "para_dec.1.mab.ln1.weight\n",
      "para_dec.1.mab.ln1.bias\n",
      "para_dec.1.mab.fc_o.weight\n",
      "para_dec.1.mab.fc_o.bias\n",
      "para_dec.2.mab.fc_q.weight\n",
      "para_dec.2.mab.fc_q.bias\n",
      "para_dec.2.mab.fc_k.weight\n",
      "para_dec.2.mab.fc_k.bias\n",
      "para_dec.2.mab.fc_v.weight\n",
      "para_dec.2.mab.fc_v.bias\n",
      "para_dec.2.mab.ln0.weight\n",
      "para_dec.2.mab.ln0.bias\n",
      "para_dec.2.mab.ln1.weight\n",
      "para_dec.2.mab.ln1.bias\n",
      "para_dec.2.mab.fc_o.weight\n",
      "para_dec.2.mab.fc_o.bias\n",
      "para_dec.3.weight\n",
      "para_dec.3.bias\n",
      "epi_enc.0.I\n",
      "epi_enc.0.mab0.fc_q.weight\n",
      "epi_enc.0.mab0.fc_q.bias\n",
      "epi_enc.0.mab0.fc_k.weight\n",
      "epi_enc.0.mab0.fc_k.bias\n",
      "epi_enc.0.mab0.fc_v.weight\n",
      "epi_enc.0.mab0.fc_v.bias\n",
      "epi_enc.0.mab0.ln0.weight\n",
      "epi_enc.0.mab0.ln0.bias\n",
      "epi_enc.0.mab0.ln1.weight\n",
      "epi_enc.0.mab0.ln1.bias\n",
      "epi_enc.0.mab0.fc_o.weight\n",
      "epi_enc.0.mab0.fc_o.bias\n",
      "epi_enc.0.mab1.fc_q.weight\n",
      "epi_enc.0.mab1.fc_q.bias\n",
      "epi_enc.0.mab1.fc_k.weight\n",
      "epi_enc.0.mab1.fc_k.bias\n",
      "epi_enc.0.mab1.fc_v.weight\n",
      "epi_enc.0.mab1.fc_v.bias\n",
      "epi_enc.0.mab1.ln0.weight\n",
      "epi_enc.0.mab1.ln0.bias\n",
      "epi_enc.0.mab1.ln1.weight\n",
      "epi_enc.0.mab1.ln1.bias\n",
      "epi_enc.0.mab1.fc_o.weight\n",
      "epi_enc.0.mab1.fc_o.bias\n",
      "epi_enc.1.I\n",
      "epi_enc.1.mab0.fc_q.weight\n",
      "epi_enc.1.mab0.fc_q.bias\n",
      "epi_enc.1.mab0.fc_k.weight\n",
      "epi_enc.1.mab0.fc_k.bias\n",
      "epi_enc.1.mab0.fc_v.weight\n",
      "epi_enc.1.mab0.fc_v.bias\n",
      "epi_enc.1.mab0.ln0.weight\n",
      "epi_enc.1.mab0.ln0.bias\n",
      "epi_enc.1.mab0.ln1.weight\n",
      "epi_enc.1.mab0.ln1.bias\n",
      "epi_enc.1.mab0.fc_o.weight\n",
      "epi_enc.1.mab0.fc_o.bias\n",
      "epi_enc.1.mab1.fc_q.weight\n",
      "epi_enc.1.mab1.fc_q.bias\n",
      "epi_enc.1.mab1.fc_k.weight\n",
      "epi_enc.1.mab1.fc_k.bias\n",
      "epi_enc.1.mab1.fc_v.weight\n",
      "epi_enc.1.mab1.fc_v.bias\n",
      "epi_enc.1.mab1.ln0.weight\n",
      "epi_enc.1.mab1.ln0.bias\n",
      "epi_enc.1.mab1.ln1.weight\n",
      "epi_enc.1.mab1.ln1.bias\n",
      "epi_enc.1.mab1.fc_o.weight\n",
      "epi_enc.1.mab1.fc_o.bias\n",
      "epi_dec.0.S\n",
      "epi_dec.0.mab.fc_q.weight\n",
      "epi_dec.0.mab.fc_q.bias\n",
      "epi_dec.0.mab.fc_k.weight\n",
      "epi_dec.0.mab.fc_k.bias\n",
      "epi_dec.0.mab.fc_v.weight\n",
      "epi_dec.0.mab.fc_v.bias\n",
      "epi_dec.0.mab.ln0.weight\n",
      "epi_dec.0.mab.ln0.bias\n",
      "epi_dec.0.mab.ln1.weight\n",
      "epi_dec.0.mab.ln1.bias\n",
      "epi_dec.0.mab.fc_o.weight\n",
      "epi_dec.0.mab.fc_o.bias\n",
      "epi_dec.1.mab.fc_q.weight\n",
      "epi_dec.1.mab.fc_q.bias\n",
      "epi_dec.1.mab.fc_k.weight\n",
      "epi_dec.1.mab.fc_k.bias\n",
      "epi_dec.1.mab.fc_v.weight\n",
      "epi_dec.1.mab.fc_v.bias\n",
      "epi_dec.1.mab.ln0.weight\n",
      "epi_dec.1.mab.ln0.bias\n",
      "epi_dec.1.mab.ln1.weight\n",
      "epi_dec.1.mab.ln1.bias\n",
      "epi_dec.1.mab.fc_o.weight\n",
      "epi_dec.1.mab.fc_o.bias\n",
      "epi_dec.2.mab.fc_q.weight\n",
      "epi_dec.2.mab.fc_q.bias\n",
      "epi_dec.2.mab.fc_k.weight\n",
      "epi_dec.2.mab.fc_k.bias\n",
      "epi_dec.2.mab.fc_v.weight\n",
      "epi_dec.2.mab.fc_v.bias\n",
      "epi_dec.2.mab.ln0.weight\n",
      "epi_dec.2.mab.ln0.bias\n",
      "epi_dec.2.mab.ln1.weight\n",
      "epi_dec.2.mab.ln1.bias\n",
      "epi_dec.2.mab.fc_o.weight\n",
      "epi_dec.2.mab.fc_o.bias\n",
      "epi_dec.3.weight\n",
      "epi_dec.3.bias\n",
      "co_attn.linear_a.weight\n",
      "co_attn.linear_a.bias\n",
      "co_attn.linear_b.weight\n",
      "co_attn.linear_b.bias\n",
      "co_attn.W.weight\n",
      "co_attn.W.bias\n",
      "output_layer.0.weight\n",
      "output_layer.0.bias\n",
      "output_layer.3.weight\n",
      "output_layer.3.bias\n"
     ]
    }
   ],
   "source": [
    "for k,v in model.named_parameters():\n",
    "    print(k)"
   ]
  },
  {
   "cell_type": "code",
   "execution_count": 50,
   "id": "61ae3e19",
   "metadata": {},
   "outputs": [
    {
     "name": "stdout",
     "output_type": "stream",
     "text": [
      "Parameter containing:\n",
      "tensor(3.0860, device='cuda:0', requires_grad=True)\n",
      "Parameter containing:\n",
      "tensor([[ 1.6886e-01, -8.5702e-01, -6.1770e-01,  1.0212e+00,  3.3773e-01,\n",
      "          7.9692e-01,  9.5265e-02, -9.6743e-01, -1.6787e+00,  1.3724e+00,\n",
      "         -1.9836e-01,  1.7408e+00,  5.7442e-01, -3.9866e-01,  1.4253e+00,\n",
      "         -6.2083e-01, -1.7735e+00, -2.9812e-02, -1.1419e+00, -8.4446e-02,\n",
      "         -1.5557e-01, -9.6006e-03,  7.9007e-01, -1.4172e+00,  6.4402e-01,\n",
      "         -1.1098e+00,  7.0703e-01,  7.4363e-01,  1.4899e+00,  1.0250e+00,\n",
      "          4.8590e-01,  1.1064e+00],\n",
      "        [ 1.7428e+00,  6.1131e-01,  1.1294e+00, -6.9851e-01,  2.1715e-02,\n",
      "          5.7139e-01, -7.4295e-02,  1.0572e-01,  2.3195e-01,  2.6697e-01,\n",
      "         -9.7001e-01,  7.6251e-02,  4.6034e-01, -3.8959e+00, -6.1823e-01,\n",
      "          8.6226e-01, -1.0760e+00, -9.5920e-01,  9.2740e-01, -5.7772e-01,\n",
      "          1.9847e-01, -1.5596e+00,  1.0333e+00, -2.3523e-01, -3.6476e-01,\n",
      "         -1.0239e+00, -9.1257e-01, -1.9418e+00, -8.8063e-01,  2.7967e-01,\n",
      "         -1.3338e+00, -3.3960e-01],\n",
      "        [ 6.5875e-01,  8.9325e-01,  9.2161e-01,  1.4651e+00, -1.1153e+00,\n",
      "         -5.0852e-01, -1.1942e+00,  7.2743e-01, -5.1278e-01, -3.5830e-01,\n",
      "         -2.6681e+00,  6.1842e-01,  5.0556e-01, -2.1670e+00, -5.1225e-01,\n",
      "         -6.5789e-01,  2.2770e-01,  4.6888e-01,  2.7257e-01,  5.0153e-01,\n",
      "          4.1640e-01, -5.9247e-01, -9.9346e-01, -2.6591e-01, -2.3298e-01,\n",
      "          8.9676e-02, -4.4191e-01,  8.2963e-01,  1.3067e+00,  3.4220e-02,\n",
      "         -1.6194e+00, -4.4930e-02],\n",
      "        [-9.0686e-01, -5.3994e-01, -2.4674e-01,  7.3748e-01, -1.2307e+00,\n",
      "          2.2328e-02,  8.5303e-01,  1.1743e-01,  2.9915e-01, -1.7805e-01,\n",
      "          6.1877e-01,  2.8133e-01, -1.1529e+00, -4.9157e-01, -1.1903e-01,\n",
      "         -8.1074e-01, -1.5483e+00, -3.2506e-01, -7.6415e-02, -2.8461e-01,\n",
      "          1.7674e-01, -7.9771e-01,  2.6318e-01,  1.5071e+00, -9.4711e-01,\n",
      "         -6.5345e-01, -2.7840e-01, -1.9614e-01, -1.3388e+00,  8.0883e-02,\n",
      "          1.0147e+00,  1.4685e+00],\n",
      "        [-5.4904e-01,  1.0254e+00,  2.9924e-01, -2.3347e-01, -1.4963e+00,\n",
      "         -9.8761e-02, -1.4284e+00,  7.2318e-01,  3.4179e-01, -2.5506e-02,\n",
      "         -1.0722e+00,  6.4755e-01, -1.1863e+00,  1.9760e-01, -1.2936e-01,\n",
      "          1.5011e-01, -1.0670e+00, -1.3035e+00,  6.3619e-01, -5.3508e-01,\n",
      "         -1.7073e+00,  4.1902e-01,  2.9621e-01,  1.1897e-01, -3.9374e-01,\n",
      "         -3.1298e+00, -3.4035e-01,  1.4707e+00,  2.5998e+00, -2.6418e-01,\n",
      "          1.1157e+00,  1.6384e+00],\n",
      "        [-1.3460e+00, -6.9800e-01, -6.9600e-01, -1.2322e+00, -1.8280e-01,\n",
      "         -1.2707e+00,  1.2120e+00,  3.2416e-01,  1.2847e+00, -6.7860e-01,\n",
      "          1.2430e+00,  6.1072e-01, -8.4821e-01,  1.3775e+00, -1.3454e+00,\n",
      "         -1.0248e+00,  5.1643e-02,  7.3925e-01, -3.8109e-02, -1.5501e+00,\n",
      "         -8.7157e-01, -3.3314e-03, -2.2284e+00, -2.0420e-01,  7.1725e-01,\n",
      "          3.2461e-01, -9.6414e-01,  1.2688e+00,  6.1397e-01, -2.2952e-01,\n",
      "          5.9509e-01,  7.7633e-01],\n",
      "        [ 1.8491e-01, -9.9425e-02, -7.5385e-01, -7.6216e-01,  1.4954e+00,\n",
      "          1.0710e+00, -1.0580e+00, -1.2241e+00, -1.3655e+00,  5.5245e-01,\n",
      "         -5.7891e-01, -1.4307e+00,  7.7483e-02,  1.6841e+00, -1.6529e+00,\n",
      "         -9.2202e-01,  3.5642e-01, -7.5447e-01, -5.8624e-01,  8.6967e-01,\n",
      "         -5.9013e-01,  1.2605e-01, -2.3566e+00,  1.7556e-01,  2.1579e-01,\n",
      "         -3.8010e-01,  7.3603e-01,  1.1843e+00,  2.2306e-01,  2.2406e+00,\n",
      "         -3.6428e-01,  1.2342e-01],\n",
      "        [ 1.1219e+00,  1.0646e+00, -1.3932e+00,  6.5733e-01, -1.4175e-01,\n",
      "          7.7561e-01,  1.0342e+00, -3.1710e-01, -1.3934e-01, -1.8334e+00,\n",
      "          3.0964e-01, -5.5058e-01,  1.8275e+00,  1.8690e+00, -1.6462e+00,\n",
      "          1.5356e-01,  4.4360e-01, -6.7260e-02,  3.1100e-01, -2.8176e-01,\n",
      "          7.2642e-01, -1.1496e-01,  9.5173e-01,  2.3127e+00, -8.5086e-01,\n",
      "         -5.6319e-01, -7.5012e-01, -8.2589e-01, -1.1046e-01,  7.8500e-01,\n",
      "         -8.0711e-01, -6.6036e-01],\n",
      "        [ 8.7724e-01, -1.7660e+00, -8.9071e-01, -8.0634e-02,  2.6691e-01,\n",
      "          8.1972e-01,  2.6076e-01, -1.6205e-01,  7.8922e-01, -5.2022e-01,\n",
      "         -9.2439e-01,  3.3788e-01,  1.0582e+00, -1.6560e-01, -8.5726e-02,\n",
      "         -9.3196e-01, -1.6277e+00,  2.1192e+00, -4.5586e-01, -8.9847e-02,\n",
      "         -4.0964e-01,  5.3154e-02, -9.8056e-01, -8.2379e-01, -1.7497e+00,\n",
      "         -5.6173e-01,  1.3456e+00,  8.6030e-01, -1.4858e+00,  1.4360e-01,\n",
      "         -7.1615e-01, -1.1342e-01],\n",
      "        [ 2.3840e-01,  1.0375e+00, -1.1080e+00,  2.4603e-01, -4.3078e-01,\n",
      "          4.7856e-01, -4.4472e-01,  8.5483e-01,  3.4951e-01, -8.3023e-01,\n",
      "         -8.0649e-01, -3.2278e+00,  1.9112e+00, -4.1495e-01, -8.9835e-01,\n",
      "          1.1948e+00,  9.9991e-01, -5.7900e-01, -7.0964e-03, -3.7088e-01,\n",
      "         -1.1913e-01, -7.8962e-01,  6.7365e-01, -1.8652e-01,  5.3009e-01,\n",
      "         -4.1498e-01,  5.3974e-01,  1.8208e+00,  4.9771e-01, -6.1759e-01,\n",
      "         -5.0314e-01,  3.6262e-01],\n",
      "        [ 1.5021e-01,  1.1784e+00, -5.1149e-02,  1.6764e+00,  3.2825e-01,\n",
      "          3.3332e-01,  1.0634e+00,  6.5712e-01,  6.0047e-01, -5.9302e-01,\n",
      "         -7.1333e-01,  3.7413e-01,  9.1653e-01, -9.1648e-01,  1.4960e-01,\n",
      "         -2.1562e-01, -1.0512e+00, -1.5500e+00, -1.1832e+00, -9.3342e-01,\n",
      "          5.3798e-02,  1.1337e-01,  9.2157e-01,  2.7912e-02,  5.0233e-02,\n",
      "         -1.3070e+00,  1.5176e+00,  8.4184e-01,  1.1781e+00, -1.1037e-01,\n",
      "         -1.5679e+00, -2.3292e+00],\n",
      "        [ 5.9850e-01,  4.5257e-01, -2.1603e-01,  1.4887e+00, -9.5833e-01,\n",
      "          3.5377e-02,  1.6495e+00,  5.2744e-01,  3.0081e-01, -9.8240e-01,\n",
      "          2.3001e+00,  7.9640e-02, -1.1083e+00,  7.8692e-01,  1.3462e+00,\n",
      "          1.0656e+00, -1.9782e-01,  7.1313e-01, -2.0814e-01, -2.1032e+00,\n",
      "          6.5437e-01,  5.1714e-01, -3.2031e-01, -4.9501e-01, -7.6780e-01,\n",
      "         -5.9734e-01,  1.0809e+00,  2.3865e-01, -1.8094e-01, -1.4810e+00,\n",
      "         -1.3668e+00, -6.2073e-01],\n",
      "        [-2.3080e-01, -3.1745e-02,  2.3843e-01, -8.7355e-01,  1.1861e+00,\n",
      "         -1.3962e+00, -4.8265e-01,  5.2886e-01,  3.5327e-01, -4.2963e-01,\n",
      "         -8.7073e-01, -1.1057e+00,  4.9257e-01,  2.8597e-01,  2.8970e+00,\n",
      "         -1.4913e+00,  2.6838e-01,  8.0206e-01,  1.4325e+00,  6.0260e-01,\n",
      "         -2.0721e+00, -7.7361e-01, -5.6300e-01,  6.7295e-01,  1.7980e-01,\n",
      "         -1.8335e-01, -4.7316e-01,  1.1543e+00,  1.5733e+00, -1.4779e+00,\n",
      "          1.4524e+00,  1.5961e-01],\n",
      "        [-5.2723e-01,  1.0283e+00, -9.1206e-01, -7.4804e-02, -6.4608e-01,\n",
      "          3.0199e-01,  1.8501e+00,  9.6661e-01,  9.8865e-02,  1.3999e+00,\n",
      "          1.6643e+00, -8.2513e-01,  3.8935e-01,  1.3241e+00, -3.0734e-02,\n",
      "          6.1740e-02,  6.2369e-01, -1.3300e-01, -5.3578e-03, -2.3744e+00,\n",
      "         -1.3390e+00, -4.0756e-01,  2.7046e-01,  5.3117e-01, -7.2117e-01,\n",
      "          2.7209e-01, -2.3619e+00,  1.5385e+00,  5.1834e-01,  2.6746e-01,\n",
      "         -2.3109e+00,  4.7013e-01],\n",
      "        [ 1.5801e+00,  1.4908e+00,  6.0751e-02, -5.7444e-01,  1.7895e+00,\n",
      "          3.9977e-01,  7.6671e-01,  6.7627e-02,  3.2687e-01, -6.4041e-02,\n",
      "          1.2717e+00, -3.4812e-02,  1.1379e+00,  1.0651e+00, -4.6144e-01,\n",
      "         -5.5389e-02,  4.3349e-01,  1.6488e+00,  8.7377e-01, -7.9448e-01,\n",
      "         -3.3726e-01, -2.6484e-01,  1.8902e-01,  5.5093e-01, -5.5571e-01,\n",
      "         -3.1454e-01,  9.7685e-01, -1.5758e+00, -2.7664e-01,  1.3109e-01,\n",
      "          1.2027e-01, -8.0157e-01],\n",
      "        [ 2.8059e-01,  8.5102e-01, -2.3274e-01,  1.7870e+00, -9.5485e-02,\n",
      "          4.2816e-01,  4.0897e-01, -8.6622e-01, -2.0350e-01, -4.9720e-01,\n",
      "         -6.0352e-01,  7.5949e-01, -7.4698e-01,  7.8382e-01,  5.9964e-01,\n",
      "         -1.8052e-01, -1.6580e+00,  1.8356e+00,  5.1337e-01,  3.5758e-02,\n",
      "          2.3968e-01,  4.7660e-01,  5.9351e-03, -4.2154e-01,  7.7648e-01,\n",
      "          2.2335e+00,  1.6588e+00,  1.0239e+00, -4.6844e-01, -1.3818e+00,\n",
      "          1.5020e+00,  6.9529e-01],\n",
      "        [ 4.5760e-01,  3.3398e-01, -1.2751e+00,  3.2753e-01,  1.5327e+00,\n",
      "         -1.2819e+00,  4.8652e-01,  9.9561e-01, -6.5384e-02, -8.3195e-01,\n",
      "         -3.3585e-01, -8.6020e-02, -9.1983e-01,  5.8395e-01, -2.3658e-01,\n",
      "          7.5957e-02,  4.1981e-01,  3.8321e-01,  6.9820e-01,  4.7560e-01,\n",
      "          1.0838e+00, -1.2073e+00, -9.0900e-01, -6.7663e-02, -4.3329e-01,\n",
      "         -1.2087e+00, -2.7384e-01, -3.2676e-01, -1.5495e-01, -3.9993e-01,\n",
      "          1.9275e-01,  1.2172e-01],\n",
      "        [ 5.2266e-03,  1.5269e+00, -5.3473e-01,  2.6466e-01, -1.0531e+00,\n",
      "          2.2356e-01, -7.0266e-02,  7.3546e-01, -2.3677e+00,  1.2324e+00,\n",
      "         -8.1564e-01, -1.5320e+00,  1.5219e+00, -2.3904e+00,  6.2371e-01,\n",
      "          1.0802e+00, -8.5504e-01,  7.1552e-01, -3.6034e-01, -1.2303e+00,\n",
      "         -1.1772e+00,  1.0616e+00,  1.4165e-01, -6.7173e-01, -1.0619e+00,\n",
      "          5.4920e-01,  1.0753e+00,  1.3701e+00,  2.3252e+00, -1.3747e+00,\n",
      "         -1.5278e+00,  4.7568e-01],\n",
      "        [ 1.0120e+00,  8.2771e-02,  5.0320e-01,  3.2952e-01,  8.8424e-01,\n",
      "          4.1964e-01,  1.7599e+00, -6.5601e-01, -4.9829e-01, -2.6819e+00,\n",
      "         -1.0433e+00, -2.0012e+00,  3.8570e-01, -1.9826e-01,  3.6782e-01,\n",
      "          2.5660e-02,  4.1881e-01, -6.8283e-01,  7.2531e-01, -1.0821e+00,\n",
      "         -4.5439e-01,  1.3212e-01,  1.7350e+00, -8.0306e-01, -6.0407e-01,\n",
      "         -1.4806e+00,  6.5808e-01, -8.0286e-01,  1.6721e-01, -1.3131e+00,\n",
      "         -6.0920e-02,  1.7052e+00],\n",
      "        [ 1.7617e-01,  8.7536e-01, -1.3726e+00,  3.6653e-02,  1.7107e+00,\n",
      "          5.4532e-01,  6.1782e-01,  1.5659e+00, -4.2972e-01,  2.4345e-01,\n",
      "          8.3240e-02,  4.6138e-02, -7.0788e-01, -9.1623e-01, -5.1494e-01,\n",
      "          3.0460e-01,  8.1964e-02,  9.1347e-01, -2.0461e-02,  1.7257e-02,\n",
      "          1.9262e-01, -6.6452e-01,  1.1659e+00,  5.9255e-01,  9.8113e-01,\n",
      "          1.2211e+00,  2.3174e+00,  7.9333e-01,  5.1760e-01, -1.4420e-01,\n",
      "          2.1128e-01,  1.5776e-01],\n",
      "        [ 8.0504e-01,  1.0974e+00, -9.3992e-01,  1.4659e+00, -8.4556e-01,\n",
      "          7.0036e-02, -5.5446e-01,  5.9801e-01,  1.0533e+00,  4.9210e-01,\n",
      "          1.5822e+00, -1.0825e+00,  3.0617e-01, -3.0240e-01,  8.2492e-02,\n",
      "          3.1487e-01, -1.4468e+00,  1.3427e-01,  9.0948e-01, -2.3055e-02,\n",
      "          9.4257e-01,  1.2046e+00, -1.9156e+00, -3.8334e-01, -3.2777e-01,\n",
      "         -4.8458e-01, -1.3804e+00,  1.6510e+00,  1.2166e+00, -2.8486e+00,\n",
      "         -2.9561e-01, -1.8816e+00],\n",
      "        [ 2.3921e+00, -8.9719e-01,  2.4344e-01, -7.6505e-01,  9.0126e-01,\n",
      "         -5.6773e-01, -3.5452e-02,  1.3367e+00, -6.4883e-01, -1.9437e-01,\n",
      "         -5.6921e-01,  1.0907e+00,  8.6353e-02,  1.4964e-01,  1.7753e+00,\n",
      "         -3.4170e-01, -1.7620e-02,  7.6269e-01,  3.1866e+00, -3.0557e-01,\n",
      "          2.2925e-02, -5.4250e-02,  8.4648e-02,  1.0173e+00, -1.0524e-01,\n",
      "         -9.2911e-01,  6.9504e-01, -4.8965e-01, -6.7039e-01, -5.0113e-01,\n",
      "          1.1585e+00, -1.3988e+00],\n",
      "        [-1.3317e+00,  1.1656e-01, -1.8928e-01, -9.6087e-01, -1.7323e+00,\n",
      "         -1.6087e+00, -1.1997e+00, -8.4721e-01, -5.3015e-01, -7.5734e-02,\n",
      "         -4.7110e-01,  9.2883e-02, -4.3059e-01,  4.8796e-01, -3.8345e-02,\n",
      "         -6.1685e-02, -2.9493e-01,  1.1182e+00, -2.3288e-01,  7.5252e-01,\n",
      "          3.2693e-01, -6.3337e-02,  7.8165e-01, -1.6709e+00,  5.1652e-01,\n",
      "          1.8952e+00, -1.8524e+00,  3.4863e+00, -1.1004e+00,  2.1943e-01,\n",
      "          1.4507e+00, -1.2252e-01],\n",
      "        [-1.7650e+00, -6.5636e-01,  4.1779e-01,  1.0436e+00,  5.4308e-01,\n",
      "         -9.1935e-01, -1.0199e-01,  4.3123e-01,  4.8510e-01,  1.1280e+00,\n",
      "         -1.4954e+00, -6.4888e-01,  6.5070e-01, -7.4304e-01,  7.0398e-01,\n",
      "          2.4528e+00,  2.7082e+00, -9.2571e-01,  4.5907e-01,  9.3518e-01,\n",
      "         -8.8591e-01,  2.5689e-01, -6.5500e-01, -1.5246e+00, -1.5334e-01,\n",
      "         -5.8711e-01,  2.1210e+00,  2.5660e-02,  8.7398e-01, -1.3321e+00,\n",
      "          1.4338e+00, -5.4561e-02],\n",
      "        [-1.1057e+00,  2.5019e-01, -2.9771e-02, -2.4981e-01,  5.7460e-01,\n",
      "         -2.5063e+00, -5.9133e-01, -8.1707e-01, -1.1719e+00, -1.5701e-01,\n",
      "         -3.6041e-01, -1.2885e+00, -9.2158e-01,  1.2625e+00, -1.1514e+00,\n",
      "         -8.4622e-01, -2.0179e+00, -3.1596e-01, -6.9768e-02,  3.1879e-01,\n",
      "         -2.8145e+00, -5.9226e-01, -1.4044e-02,  3.0982e-01,  2.9961e-01,\n",
      "         -1.5455e+00, -1.3056e+00,  1.5020e+00, -2.7667e-01, -9.9384e-01,\n",
      "         -1.0728e+00, -1.1900e+00],\n",
      "        [-1.0797e+00, -9.5178e-01, -6.7683e-01,  1.8957e-01, -7.5228e-01,\n",
      "         -2.3066e-01, -1.8572e+00,  2.0205e-01,  3.6043e-04, -2.5517e+00,\n",
      "         -7.8089e-01, -8.9912e-02, -1.3424e+00, -1.2143e+00, -1.9085e+00,\n",
      "          1.4888e+00, -2.7558e-01,  7.8065e-01, -2.1560e-02,  7.4087e-01,\n",
      "         -1.4477e+00, -1.6995e-01,  1.5795e+00,  7.9813e-01, -8.3571e-01,\n",
      "          1.1325e+00,  7.1816e-02,  8.1219e-01, -5.7039e-01,  4.6406e-02,\n",
      "          3.2938e-01,  9.5302e-01],\n",
      "        [-3.5508e-01, -1.4073e-01,  8.6356e-01,  7.6447e-01, -1.9865e-01,\n",
      "         -5.5822e-02, -5.2600e-01, -6.3926e-01,  1.0075e+00,  2.1517e+00,\n",
      "          4.4746e-01,  1.2095e-01,  6.5645e-01, -1.7899e+00,  2.0885e+00,\n",
      "          1.6191e+00, -6.6100e-01,  8.0590e-01, -1.0281e-01,  3.3880e-01,\n",
      "         -1.4990e+00,  2.7646e-01,  1.0888e+00, -2.1654e-01,  2.3794e+00,\n",
      "         -1.0853e+00, -2.8749e+00, -1.1786e+00, -1.4649e+00,  8.2627e-01,\n",
      "         -1.6140e+00,  9.2644e-01]], device='cuda:0', requires_grad=True)\n",
      "Parameter containing:\n",
      "tensor([[[-1.1859e-02,  6.6722e-02, -1.1075e-01,  1.2129e-01, -1.1492e-01,\n",
      "           9.2273e-02, -1.0563e-01, -8.6123e-02, -6.2159e-02,  4.0681e-02,\n",
      "          -9.4365e-03,  2.9814e-02,  1.0611e-01,  6.3719e-02,  1.0187e-01,\n",
      "           7.8610e-02,  7.9548e-02, -8.8645e-02,  1.1323e-01,  2.6951e-02,\n",
      "           5.5173e-02, -1.2482e-02,  1.9541e-02, -3.6685e-02,  8.0225e-02,\n",
      "          -7.8785e-02, -9.7381e-02,  3.6245e-02,  1.0664e-02,  5.7604e-02,\n",
      "           1.1645e-01, -2.2601e-02,  2.8697e-02,  3.3100e-02,  1.0480e-01,\n",
      "          -3.3294e-02, -3.4473e-02,  1.0851e-01, -3.5859e-03,  7.4840e-02,\n",
      "           9.9670e-02, -1.1153e-01, -8.2919e-02,  9.8489e-05, -7.8392e-02,\n",
      "          -1.1592e-01, -1.0003e-01,  2.6054e-02,  7.8760e-02,  1.0476e-01,\n",
      "           7.0084e-02,  1.1552e-01, -7.4922e-02, -7.6435e-02,  1.1466e-01,\n",
      "           6.8321e-02, -5.0513e-02, -1.0634e-01,  6.3253e-03,  9.6540e-02,\n",
      "           3.4664e-02, -7.0960e-02,  1.8844e-02, -1.0778e-01],\n",
      "         [ 6.7931e-02,  2.9766e-02, -1.2994e-02, -8.9979e-02, -1.3580e-02,\n",
      "           5.2887e-02,  1.5670e-02,  9.0695e-03, -3.4228e-02, -6.5860e-02,\n",
      "          -1.1131e-01,  3.8959e-03, -4.6237e-02,  5.4437e-02, -1.0517e-01,\n",
      "           1.1049e-01,  1.3760e-02, -1.0251e-01,  4.1768e-02, -1.0670e-01,\n",
      "          -2.6633e-03, -5.1602e-02,  6.7194e-02,  8.9468e-02, -5.0290e-02,\n",
      "          -4.7183e-02,  2.2569e-02, -1.0882e-01, -1.4293e-02,  4.5409e-02,\n",
      "          -3.5489e-03, -9.4008e-02, -1.8553e-02, -2.1667e-02, -6.5874e-02,\n",
      "          -5.3634e-02,  2.4815e-02, -2.0418e-02,  3.9477e-02,  1.1302e-01,\n",
      "           9.4443e-02, -1.0802e-01, -7.7386e-02,  4.6214e-02,  9.6541e-02,\n",
      "           1.0775e-01,  3.8098e-02,  5.0400e-02,  9.4232e-02,  1.0246e-02,\n",
      "          -6.9435e-02, -6.6784e-02,  5.5950e-02,  9.5493e-02,  1.7281e-02,\n",
      "          -6.6900e-02,  9.0022e-02,  7.3652e-02,  7.0569e-02, -8.9340e-02,\n",
      "           1.0060e-01, -7.9991e-02, -8.1354e-02,  8.1891e-02],\n",
      "         [-1.0099e-01, -1.4651e-02,  5.5405e-02,  7.2983e-02,  1.0426e-01,\n",
      "           7.3057e-02,  8.4708e-03,  7.0365e-02,  7.6565e-02, -6.6566e-02,\n",
      "           6.6220e-02, -4.3614e-02,  1.0633e-01, -7.7289e-02,  2.0101e-02,\n",
      "          -9.5212e-02,  8.7423e-03, -2.2220e-02, -1.1248e-01, -1.6199e-02,\n",
      "           3.0793e-02,  1.3668e-02,  1.1046e-01,  7.4099e-02,  2.4394e-02,\n",
      "           3.5933e-02, -4.0274e-02,  1.1800e-01, -1.1493e-01,  8.2073e-02,\n",
      "          -1.4842e-02, -5.0228e-02, -7.5124e-02, -8.6438e-02, -9.9610e-02,\n",
      "           5.6130e-02, -9.5781e-02, -1.1472e-01, -1.4113e-02, -3.1998e-02,\n",
      "          -8.1596e-03,  6.2556e-02,  1.0811e-01, -1.0601e-01, -1.8621e-02,\n",
      "          -7.7802e-03,  1.1337e-01, -4.9992e-02, -3.9333e-02,  4.4530e-03,\n",
      "           5.3539e-03,  5.1529e-03,  6.5395e-02,  6.7700e-02,  1.6233e-02,\n",
      "          -1.3268e-02,  1.0865e-01, -6.4650e-02,  3.1510e-02, -6.3005e-02,\n",
      "          -5.7113e-02, -5.3945e-02, -8.3992e-02, -6.6685e-02],\n",
      "         [-9.6944e-02, -4.6453e-02,  4.4067e-02, -6.5004e-02, -1.4342e-02,\n",
      "          -1.4057e-02, -4.9871e-02, -9.0244e-02, -7.5902e-02,  8.3454e-02,\n",
      "           4.7117e-03,  3.0551e-02, -1.1338e-01,  1.0341e-01, -3.4692e-02,\n",
      "          -5.5518e-02,  7.3990e-02,  7.8626e-03, -8.7493e-02,  2.6654e-02,\n",
      "          -1.0510e-02,  4.5926e-02,  1.8077e-02,  6.1709e-02,  9.1189e-02,\n",
      "          -9.2096e-02, -5.4785e-02,  7.2328e-02, -6.0105e-03, -2.8344e-02,\n",
      "           7.4878e-02, -1.8090e-02, -3.6481e-02, -3.9682e-02, -1.1103e-01,\n",
      "          -1.1075e-01, -4.1668e-02,  7.8090e-02,  1.1699e-01,  7.6829e-02,\n",
      "          -1.0035e-01,  7.6155e-02,  9.0860e-02, -8.9893e-02, -1.3730e-02,\n",
      "          -2.8263e-02,  7.4387e-02,  4.4457e-03, -6.9830e-02,  2.9915e-02,\n",
      "           1.0937e-01,  6.7068e-02,  3.6118e-02, -1.0502e-01, -2.2635e-03,\n",
      "          -2.9534e-02, -9.0204e-02,  3.2125e-02, -1.0550e-01, -6.1772e-02,\n",
      "          -4.0131e-02,  4.7892e-02,  2.0604e-02, -7.2470e-02],\n",
      "         [-3.6318e-02,  3.3269e-02,  3.1959e-02, -1.0217e-01, -7.1897e-02,\n",
      "           5.6111e-02, -6.3251e-03,  8.8540e-02, -2.8354e-02, -1.1951e-02,\n",
      "          -2.5410e-02, -6.2614e-02,  9.0906e-02, -2.3651e-02,  1.7687e-02,\n",
      "          -1.9496e-02, -8.2205e-02, -6.4027e-02, -1.1615e-01, -1.0958e-01,\n",
      "          -9.8337e-02, -3.3200e-02,  7.8236e-02,  7.0636e-02,  1.4744e-02,\n",
      "          -9.5865e-02,  1.0762e-01,  1.7877e-02,  1.1113e-01,  3.2972e-02,\n",
      "          -9.2008e-03,  8.9785e-02,  3.7718e-02,  2.9322e-02, -1.1674e-01,\n",
      "          -3.2723e-02,  7.4139e-02,  7.8274e-03,  5.6356e-02,  1.7095e-02,\n",
      "           6.2214e-02, -6.5597e-02,  3.9409e-02, -5.1520e-02,  1.1220e-01,\n",
      "           2.0628e-03, -9.9641e-02, -6.8372e-03,  8.3485e-02, -8.8284e-03,\n",
      "           1.0852e-01, -4.8693e-02, -1.1630e-01, -3.9296e-02, -2.9311e-02,\n",
      "          -4.8333e-02, -8.6031e-02, -2.8842e-02,  2.3073e-02, -3.8905e-02,\n",
      "          -9.7807e-02, -7.4804e-02,  5.9984e-02,  3.3717e-02],\n",
      "         [-8.0470e-02,  2.3804e-02,  7.0877e-02, -9.5867e-02, -9.2089e-02,\n",
      "          -2.7051e-02, -1.6357e-02, -8.1341e-02,  1.1148e-01,  4.0934e-02,\n",
      "          -8.8368e-03,  1.7750e-02, -5.9809e-02,  3.8950e-02,  2.5756e-02,\n",
      "          -2.3769e-02, -1.2583e-02,  2.1592e-02, -7.9636e-02,  1.9733e-02,\n",
      "           6.4117e-02,  5.0005e-02, -5.2738e-02,  5.2983e-02, -2.6089e-02,\n",
      "           2.6716e-02,  5.4661e-02,  4.0213e-02, -6.2758e-02, -8.5734e-02,\n",
      "           1.5736e-02, -5.1827e-02,  3.8354e-03, -6.5694e-02, -7.5493e-02,\n",
      "          -3.0061e-02,  6.9134e-02, -1.0358e-01,  4.3886e-02,  1.0424e-01,\n",
      "          -6.1274e-02, -7.9628e-02,  2.7663e-02,  5.4907e-02,  3.6342e-02,\n",
      "          -3.3178e-02, -7.5683e-02, -6.5711e-02, -1.0789e-01,  4.9110e-02,\n",
      "           1.0985e-01,  9.7645e-02,  1.0802e-01, -4.7746e-02, -3.4426e-02,\n",
      "          -5.9559e-02, -6.3048e-02,  2.3556e-02,  2.9995e-02,  4.8183e-02,\n",
      "           2.8480e-02, -3.2042e-02, -3.1966e-03,  4.5358e-02]]],\n",
      "       device='cuda:0', requires_grad=True)\n",
      "Parameter containing:\n",
      "tensor([[ 0.0476, -0.0689, -0.0896,  ..., -0.0937,  0.0041,  0.0828],\n",
      "        [-0.0702, -0.0079, -0.0610,  ..., -0.0207, -0.1167, -0.0693],\n",
      "        [ 0.1075, -0.0587,  0.1195,  ..., -0.0966, -0.0111, -0.0985],\n",
      "        ...,\n",
      "        [ 0.0708,  0.0756, -0.0905,  ...,  0.0018, -0.0826,  0.0756],\n",
      "        [ 0.0010,  0.1058,  0.1027,  ...,  0.0328,  0.0263, -0.0483],\n",
      "        [-0.1115,  0.0505,  0.0891,  ...,  0.0634,  0.0002,  0.1053]],\n",
      "       device='cuda:0', requires_grad=True)\n",
      "Parameter containing:\n",
      "tensor([-0.0325,  0.0875, -0.1078, -0.1044,  0.0320, -0.0722, -0.0126, -0.0201,\n",
      "         0.1107,  0.0172, -0.0691,  0.0835, -0.1148,  0.0509,  0.0203, -0.0083,\n",
      "         0.0234,  0.0105,  0.0757, -0.0507, -0.0898,  0.1031, -0.0168, -0.0301,\n",
      "         0.1234, -0.0561,  0.1185, -0.1063, -0.0091, -0.0977,  0.0633, -0.0930,\n",
      "         0.0072, -0.0418, -0.0860,  0.0229, -0.0480,  0.0315, -0.0293,  0.0807,\n",
      "        -0.0647, -0.0017,  0.0825,  0.0089,  0.0166,  0.0169,  0.0925, -0.1170,\n",
      "         0.1176, -0.0285,  0.0218,  0.1160, -0.0604,  0.0646,  0.0927,  0.0900,\n",
      "         0.0216,  0.0095, -0.0990,  0.0794,  0.0113,  0.0660,  0.0787, -0.0335],\n",
      "       device='cuda:0', requires_grad=True)\n",
      "Parameter containing:\n",
      "tensor([[-0.1663, -0.0128, -0.1404,  ..., -0.1154, -0.0215, -0.0283],\n",
      "        [-0.0216,  0.0188,  0.1247,  ...,  0.1360, -0.0594, -0.1553],\n",
      "        [-0.0855,  0.0537,  0.1615,  ...,  0.0295,  0.0864,  0.1157],\n",
      "        ...,\n",
      "        [ 0.0055, -0.0567,  0.0819,  ..., -0.0973,  0.0462,  0.0228],\n",
      "        [ 0.0631, -0.1224,  0.1625,  ..., -0.0482,  0.0538,  0.0968],\n",
      "        [-0.1319, -0.0265, -0.1738,  ..., -0.1681,  0.1577,  0.1096]],\n",
      "       device='cuda:0', requires_grad=True)\n",
      "Parameter containing:\n",
      "tensor([-1.7527e-01, -6.3687e-02, -9.2987e-02,  1.5369e-01,  1.0868e-01,\n",
      "         3.4679e-04,  1.2457e-01, -3.6481e-03, -5.5072e-02, -1.4215e-01,\n",
      "         1.6962e-02,  1.4154e-01,  5.1338e-02,  1.7211e-01, -1.4246e-01,\n",
      "        -1.4186e-01, -4.9070e-02,  3.7087e-02, -8.2380e-02, -3.4663e-02,\n",
      "        -5.3878e-02, -1.2643e-03, -4.4317e-02,  1.3257e-01,  3.3946e-02,\n",
      "        -9.7084e-02,  1.2461e-01,  8.5350e-02, -7.1961e-02,  1.7575e-01,\n",
      "         2.6194e-02,  1.3452e-01,  1.4835e-02,  1.1443e-01, -1.3306e-04,\n",
      "        -1.6271e-01,  6.7939e-03, -1.0885e-01,  1.3135e-01,  1.1852e-01,\n",
      "         1.1419e-01, -1.7349e-01,  1.2727e-01,  1.7280e-01,  1.3790e-01,\n",
      "         2.8863e-02, -1.6198e-01,  4.9442e-02, -1.0038e-01, -1.3787e-01,\n",
      "         8.5026e-02, -1.0429e-01,  9.8645e-02,  9.9561e-02,  5.4546e-02,\n",
      "         7.6459e-02, -6.1392e-02,  6.2533e-02, -6.9703e-03,  1.0374e-01,\n",
      "         1.2454e-01,  1.3072e-01,  1.0751e-01,  1.4127e-02], device='cuda:0',\n",
      "       requires_grad=True)\n",
      "Parameter containing:\n",
      "tensor([[-0.1079,  0.1630, -0.0818,  ..., -0.1373, -0.0007,  0.1638],\n",
      "        [-0.0109,  0.0578, -0.0411,  ..., -0.0484, -0.0416, -0.1152],\n",
      "        [ 0.0856,  0.0291,  0.0332,  ..., -0.1161,  0.0164,  0.0409],\n",
      "        ...,\n",
      "        [-0.0431, -0.1117,  0.0774,  ...,  0.0994,  0.0373,  0.0684],\n",
      "        [-0.0490,  0.0069, -0.0757,  ..., -0.0795,  0.1677, -0.1651],\n",
      "        [ 0.1213,  0.0319,  0.1353,  ...,  0.1604,  0.0770, -0.1073]],\n",
      "       device='cuda:0', requires_grad=True)\n",
      "Parameter containing:\n",
      "tensor([-0.0424,  0.0332, -0.1252, -0.0901,  0.1189, -0.0649,  0.0579,  0.1658,\n",
      "         0.0067,  0.0670,  0.1387, -0.0046, -0.1017,  0.0981,  0.0084, -0.0249,\n",
      "        -0.0971, -0.0609, -0.0186, -0.1743,  0.0829,  0.0574, -0.0811,  0.1715,\n",
      "        -0.0984, -0.0663,  0.0960,  0.1740, -0.1760,  0.0389, -0.0096,  0.0087,\n",
      "         0.0276, -0.1201,  0.0258,  0.1103, -0.0714,  0.0244, -0.0237, -0.1740,\n",
      "        -0.0003,  0.0882,  0.0704, -0.0604,  0.1493, -0.0404,  0.1745, -0.0275,\n",
      "        -0.0553, -0.0962,  0.1156,  0.1571, -0.1796, -0.1354, -0.1152, -0.0586,\n",
      "         0.0562, -0.1676, -0.0056, -0.0619,  0.0942,  0.0577,  0.0039, -0.1681],\n",
      "       device='cuda:0', requires_grad=True)\n",
      "Parameter containing:\n",
      "tensor([1.0061, 0.9923, 1.0017, 1.0039, 1.0009, 0.9940, 0.9994, 1.0217, 0.9957,\n",
      "        1.0011, 0.9980, 0.9892, 0.9991, 0.9987, 1.0021, 0.9968, 0.9931, 1.0061,\n",
      "        0.9968, 1.0084, 1.0038, 0.9864, 0.9979, 0.9985, 0.9969, 0.9963, 0.9957,\n",
      "        0.9863, 1.0016, 0.9928, 1.0025, 1.0074, 1.0025, 0.9984, 1.0016, 1.0084,\n",
      "        0.9625, 1.0173, 1.0002, 1.0006, 0.9999, 1.0099, 1.0022, 0.9955, 0.9993,\n",
      "        1.0045, 0.9998, 0.9992, 1.0287, 1.0023, 0.9986, 1.0011, 1.0055, 1.0009,\n",
      "        0.9965, 1.0070, 1.0126, 0.9980, 1.0086, 0.9960, 1.0000, 0.9988, 0.9984,\n",
      "        1.0004], device='cuda:0', requires_grad=True)\n",
      "Parameter containing:\n",
      "tensor([-1.4455e-03, -2.7150e-03,  7.6764e-04,  1.6776e-03,  7.7518e-04,\n",
      "         2.4181e-03,  9.8737e-04,  3.7524e-03, -2.5854e-03,  2.8220e-04,\n",
      "         1.2080e-03, -3.1434e-03, -1.5583e-04, -1.5864e-03, -6.3948e-04,\n",
      "         2.4142e-03, -1.4503e-03,  3.8850e-03, -2.9526e-03,  5.4132e-04,\n",
      "         2.7820e-04, -3.5322e-04,  2.0631e-03, -2.8332e-03, -2.0956e-03,\n",
      "        -9.4384e-04,  2.8424e-05, -1.9445e-03, -1.6513e-03,  8.0413e-03,\n",
      "         1.1432e-03, -2.4081e-04,  2.6969e-04,  8.7288e-04,  1.3110e-04,\n",
      "        -4.7263e-03, -2.2446e-04, -2.9323e-03, -3.1124e-03, -1.5637e-03,\n",
      "        -2.0660e-03, -6.6945e-05,  3.4019e-05,  1.4472e-03, -2.0817e-03,\n",
      "        -3.9841e-04, -4.7009e-04,  2.1907e-03, -3.7606e-03, -1.0246e-03,\n",
      "        -1.0460e-03,  9.3348e-04, -2.1809e-03, -2.6357e-05,  4.1831e-03,\n",
      "         1.1243e-03,  7.7979e-04,  9.6815e-04, -6.1373e-05, -1.8436e-03,\n",
      "        -3.6679e-04,  8.4331e-04, -1.1021e-03, -2.0450e-03], device='cuda:0',\n",
      "       requires_grad=True)\n",
      "Parameter containing:\n",
      "tensor([1.0064, 0.9922, 1.0026, 1.0064, 0.9963, 0.9860, 0.9968, 1.0038, 0.9974,\n",
      "        1.0011, 1.0037, 0.9794, 0.9971, 1.0000, 1.0018, 1.0009, 0.9961, 1.0100,\n",
      "        1.0053, 0.9972, 1.0036, 0.9938, 0.9993, 1.0015, 0.9971, 0.9990, 0.9958,\n",
      "        0.9802, 1.0021, 0.9896, 0.9990, 1.0031, 1.0096, 0.9980, 1.0011, 1.0035,\n",
      "        0.9848, 1.0141, 1.0016, 0.9999, 1.0007, 1.0092, 1.0030, 0.9965, 0.9999,\n",
      "        1.0114, 1.0007, 0.9913, 1.0019, 1.0024, 0.9985, 0.9968, 1.0084, 1.0035,\n",
      "        0.9933, 1.0070, 1.0109, 1.0037, 1.0033, 0.9980, 1.0016, 0.9923, 0.9981,\n",
      "        1.0035], device='cuda:0', requires_grad=True)\n",
      "Parameter containing:\n",
      "tensor([-6.3609e-04, -9.6236e-04, -1.5133e-03,  2.3540e-03,  2.2066e-04,\n",
      "         4.0920e-03,  3.0520e-03,  6.8466e-03, -2.4019e-04, -4.1706e-04,\n",
      "        -7.6469e-05, -3.9055e-03,  1.1712e-03, -1.8400e-05,  1.7714e-03,\n",
      "        -1.0889e-03, -1.0151e-03,  2.8215e-03, -3.8212e-03,  3.8036e-03,\n",
      "         2.9982e-04, -8.7031e-05,  6.2914e-04, -1.1769e-03,  2.1589e-04,\n",
      "         1.3788e-03,  2.7992e-03, -2.8851e-03, -2.8421e-03,  1.0012e-02,\n",
      "         1.4769e-03,  1.5339e-03,  1.5812e-03,  1.1833e-03, -2.9153e-03,\n",
      "        -2.3968e-03, -8.1892e-04, -3.2998e-03, -3.8889e-03, -5.6009e-04,\n",
      "        -1.5320e-04,  2.2796e-03,  3.9443e-04,  5.5547e-04, -1.4196e-03,\n",
      "         1.0553e-03,  2.0485e-03, -4.5546e-05, -1.2776e-03, -8.8707e-04,\n",
      "         1.1960e-04, -1.3833e-03, -5.3807e-03,  1.8405e-03,  3.4838e-03,\n",
      "         2.6291e-03,  6.0245e-04, -1.7696e-03,  1.1036e-04, -1.5687e-04,\n",
      "         5.9471e-04,  3.3800e-04, -2.5875e-04, -3.2293e-03], device='cuda:0',\n",
      "       requires_grad=True)\n",
      "Parameter containing:\n",
      "tensor([[-0.1031, -0.0891, -0.0643,  ..., -0.0168, -0.0924,  0.0884],\n",
      "        [-0.0381, -0.0892, -0.0416,  ..., -0.0604, -0.0952, -0.0348],\n",
      "        [ 0.0833, -0.0400,  0.0465,  ...,  0.0348, -0.1309,  0.1270],\n",
      "        ...,\n",
      "        [ 0.0391,  0.0298, -0.0128,  ..., -0.0607,  0.0888, -0.0211],\n",
      "        [ 0.0603,  0.0581, -0.0664,  ..., -0.0212,  0.1225, -0.0117],\n",
      "        [-0.0825,  0.0204, -0.1049,  ..., -0.1096, -0.0044, -0.0898]],\n",
      "       device='cuda:0', requires_grad=True)\n",
      "Parameter containing:\n",
      "tensor([-0.0325, -0.0464, -0.0044, -0.0238, -0.0473, -0.0601, -0.0137,  0.0503,\n",
      "         0.0312, -0.0683,  0.0589, -0.0718,  0.0199, -0.0359,  0.1170, -0.0982,\n",
      "        -0.0565, -0.0516,  0.0022, -0.0090, -0.0645, -0.0762,  0.0162,  0.0350,\n",
      "         0.0704,  0.0124, -0.0680, -0.0105, -0.0016, -0.0775, -0.0188, -0.0149,\n",
      "         0.0537,  0.0406,  0.0970, -0.1005, -0.0799, -0.0850,  0.0155, -0.0325,\n",
      "        -0.0961, -0.0497, -0.0069, -0.0570,  0.0723, -0.0394, -0.0933, -0.0305,\n",
      "         0.0465, -0.0290,  0.0859,  0.1022,  0.0048, -0.0949, -0.0911, -0.0182,\n",
      "        -0.0460,  0.1036,  0.0224,  0.0699, -0.1072,  0.0400, -0.1243, -0.0018],\n",
      "       device='cuda:0', requires_grad=True)\n",
      "Parameter containing:\n",
      "tensor([[-0.1044, -0.1118,  0.0026,  ...,  0.1123, -0.1768,  0.0492],\n",
      "        [ 0.0742,  0.0937, -0.0277,  ...,  0.1762, -0.0758,  0.0067],\n",
      "        [-0.1124, -0.1457, -0.0260,  ..., -0.0559, -0.0920, -0.0435],\n",
      "        ...,\n",
      "        [-0.0673, -0.0500, -0.1044,  ..., -0.1181,  0.0911, -0.0648],\n",
      "        [ 0.0985, -0.0266,  0.1731,  ...,  0.1138,  0.0119,  0.0705],\n",
      "        [-0.0559,  0.0472,  0.1510,  ..., -0.1565, -0.0492, -0.0405]],\n",
      "       device='cuda:0', requires_grad=True)\n",
      "Parameter containing:\n",
      "tensor([ 0.0079, -0.0180, -0.1506, -0.1513, -0.0956,  0.0255,  0.1497,  0.1694,\n",
      "         0.0878,  0.0683, -0.0777, -0.1530,  0.1322, -0.1185,  0.1010, -0.0257,\n",
      "         0.1038,  0.1073,  0.0540,  0.0665, -0.1514,  0.0957,  0.0876, -0.0543,\n",
      "         0.1349,  0.0133, -0.1306, -0.0702,  0.1647, -0.0846,  0.0333, -0.0400,\n",
      "         0.1284, -0.0788, -0.1609, -0.1442,  0.1599,  0.1450,  0.0331,  0.0524,\n",
      "        -0.0635, -0.0139,  0.0009, -0.0439,  0.1213, -0.1066,  0.0786,  0.0353,\n",
      "        -0.0092,  0.1340, -0.1775, -0.1544, -0.1169,  0.0076,  0.1780, -0.0731,\n",
      "        -0.1535,  0.1615, -0.0805, -0.1390, -0.0991, -0.0159, -0.0333, -0.1062],\n",
      "       device='cuda:0', requires_grad=True)\n",
      "Parameter containing:\n",
      "tensor([[ 0.1237,  0.1067, -0.0679,  ..., -0.0726, -0.0207,  0.0923],\n",
      "        [ 0.0569,  0.0526, -0.0455,  ...,  0.0805,  0.0487,  0.0238],\n",
      "        [ 0.1366,  0.0087,  0.0332,  ..., -0.0379,  0.0540,  0.0555],\n",
      "        ...,\n",
      "        [-0.1104,  0.0183, -0.0350,  ..., -0.1000, -0.0632,  0.1176],\n",
      "        [-0.1204, -0.0561,  0.0113,  ..., -0.0116, -0.0420, -0.0796],\n",
      "        [-0.0335,  0.0696,  0.0292,  ...,  0.0435,  0.0722,  0.0322]],\n",
      "       device='cuda:0', requires_grad=True)\n",
      "Parameter containing:\n",
      "tensor([ 0.0648,  0.0566, -0.0202,  0.0412,  0.0753, -0.0653, -0.0257, -0.1056,\n",
      "        -0.0857,  0.0382,  0.1174, -0.0718,  0.0928,  0.0209,  0.0787,  0.0764,\n",
      "        -0.1133,  0.0899, -0.0627,  0.0957,  0.0507, -0.0666, -0.1072, -0.0698,\n",
      "         0.0801, -0.1164, -0.0072, -0.0208,  0.0541,  0.0158,  0.0097,  0.0672,\n",
      "        -0.0556, -0.1145,  0.0486,  0.1205, -0.0142,  0.0437, -0.1236,  0.0784,\n",
      "         0.0965, -0.1143,  0.0544, -0.0219,  0.0503, -0.0925, -0.0277, -0.0504,\n",
      "         0.0160,  0.0672,  0.0578,  0.1216,  0.0102,  0.0099,  0.0125,  0.0644,\n",
      "        -0.0234, -0.0099, -0.0179,  0.0194,  0.0601, -0.0456, -0.0906,  0.1089],\n",
      "       device='cuda:0', requires_grad=True)\n",
      "Parameter containing:\n",
      "tensor([[ 0.0452,  0.1212,  0.0869,  ..., -0.0124, -0.0916, -0.0067],\n",
      "        [ 0.0196,  0.1051,  0.0336,  ..., -0.0149, -0.0811, -0.0278],\n",
      "        [ 0.1109,  0.0806, -0.0054,  ...,  0.0634, -0.0567, -0.0450],\n",
      "        ...,\n",
      "        [-0.0024,  0.0986,  0.0249,  ...,  0.0195, -0.0303,  0.0676],\n",
      "        [ 0.0236, -0.0933,  0.0829,  ...,  0.0560,  0.0778, -0.0171],\n",
      "        [-0.0563,  0.0399,  0.0446,  ..., -0.0031, -0.0036, -0.1072]],\n",
      "       device='cuda:0', requires_grad=True)\n",
      "Parameter containing:\n",
      "tensor([-0.0470, -0.1258,  0.0017, -0.0390, -0.1017,  0.0617, -0.0311, -0.1262,\n",
      "         0.0915,  0.0631, -0.0188, -0.0492,  0.0114, -0.0319, -0.0224, -0.0622,\n",
      "         0.0104,  0.1019, -0.1014, -0.0160,  0.0891,  0.0311, -0.0889,  0.0176,\n",
      "         0.0885,  0.0408, -0.0325,  0.0078,  0.0559, -0.0730,  0.0755,  0.0188,\n",
      "        -0.1140,  0.0544,  0.0998,  0.0694, -0.0982, -0.1153,  0.0597,  0.0209,\n",
      "        -0.0248, -0.0522, -0.0502,  0.1044, -0.0406, -0.0216, -0.0890,  0.0660,\n",
      "         0.0925,  0.0025, -0.0711,  0.0910,  0.0056, -0.0564, -0.1004, -0.1058,\n",
      "         0.0455,  0.0104,  0.0052,  0.1042, -0.1102,  0.0220,  0.0751, -0.0011],\n",
      "       device='cuda:0', requires_grad=True)\n",
      "Parameter containing:\n",
      "tensor([1.0110, 1.0009, 0.9921, 1.0070, 0.9981, 0.9983, 1.0019, 1.0009, 1.0094,\n",
      "        0.9988, 1.0012, 1.0043, 0.9930, 1.0043, 0.9975, 1.0003, 0.9996, 1.0018,\n",
      "        0.9901, 1.0032, 1.0095, 1.0009, 0.9957, 0.9998, 1.0012, 1.0028, 1.0031,\n",
      "        1.0060, 0.9995, 0.9962, 1.0026, 0.9975, 0.9963, 1.0026, 0.9973, 1.0004,\n",
      "        1.0073, 1.0031, 0.9932, 1.0004, 0.9989, 1.0026, 1.0055, 0.9991, 1.0079,\n",
      "        0.9951, 0.9947, 0.9977, 1.0005, 0.9986, 0.9938, 1.0032, 1.0058, 0.9994,\n",
      "        0.9874, 0.9973, 1.0098, 0.9909, 0.9989, 1.0002, 1.0096, 1.0035, 0.9906,\n",
      "        1.0042], device='cuda:0', requires_grad=True)\n",
      "Parameter containing:\n",
      "tensor([ 2.9536e-04, -3.1973e-03, -1.2531e-03, -4.0965e-03, -2.8091e-04,\n",
      "        -1.6061e-03, -2.1672e-03, -2.1635e-03, -1.5989e-03, -4.0263e-03,\n",
      "         2.9367e-03,  1.7288e-03,  1.6711e-04,  2.3949e-03, -2.5224e-03,\n",
      "         2.4026e-03, -1.3345e-03, -8.0217e-04, -5.3917e-03, -5.9126e-04,\n",
      "        -3.5827e-04, -1.5767e-03,  6.6497e-04, -4.2139e-04,  6.5654e-05,\n",
      "        -8.1744e-04,  1.6144e-03, -2.1488e-03,  1.8552e-03,  7.4820e-04,\n",
      "         9.8785e-04, -3.3449e-03,  8.6592e-04, -1.1501e-03,  1.6833e-03,\n",
      "         1.9326e-03, -2.5437e-04, -6.2395e-04, -6.8178e-04,  1.2808e-03,\n",
      "        -4.3981e-04,  2.9527e-03, -5.0376e-03, -1.4320e-03,  1.7584e-03,\n",
      "        -2.0938e-03,  2.1161e-03,  1.3036e-03,  2.4963e-03, -3.5547e-04,\n",
      "        -7.6922e-04,  3.8698e-03,  1.7340e-03,  2.7326e-04,  4.2550e-03,\n",
      "        -1.7692e-03,  8.6333e-03,  1.3924e-03,  2.2493e-03,  1.6598e-03,\n",
      "         9.4937e-04,  2.9780e-04, -1.2496e-04,  3.7846e-03], device='cuda:0',\n",
      "       requires_grad=True)\n",
      "Parameter containing:\n",
      "tensor([1.0180, 0.9994, 0.9984, 1.0035, 1.0001, 1.0006, 1.0020, 1.0003, 1.0017,\n",
      "        0.9857, 1.0016, 1.0064, 0.9977, 1.0100, 0.9990, 1.0020, 1.0031, 1.0026,\n",
      "        0.9915, 1.0046, 1.0133, 0.9995, 0.9965, 1.0004, 0.9985, 1.0042, 1.0046,\n",
      "        1.0038, 1.0014, 0.9974, 1.0047, 0.9987, 0.9977, 1.0003, 0.9992, 0.9940,\n",
      "        0.9994, 1.0064, 0.9908, 0.9991, 0.9946, 1.0021, 1.0013, 0.9940, 1.0070,\n",
      "        0.9953, 0.9954, 1.0016, 0.9980, 0.9971, 0.9965, 1.0039, 1.0062, 1.0031,\n",
      "        0.9928, 0.9986, 1.0053, 0.9899, 1.0038, 1.0005, 1.0070, 1.0043, 0.9840,\n",
      "        0.9995], device='cuda:0', requires_grad=True)\n",
      "Parameter containing:\n",
      "tensor([ 2.3210e-03, -2.1509e-03,  1.8589e-04, -2.9667e-03,  4.2592e-04,\n",
      "        -1.9896e-05, -1.1590e-03,  8.2132e-04, -9.6411e-04, -3.8049e-03,\n",
      "         1.6631e-03,  5.2661e-03, -7.7526e-04,  2.7530e-03, -1.2758e-03,\n",
      "         2.9356e-03, -3.8835e-04,  6.2005e-04, -5.1157e-03, -3.5523e-04,\n",
      "        -1.7429e-03, -1.1482e-03,  1.0430e-03,  2.0256e-04, -1.7109e-03,\n",
      "        -5.0768e-04,  2.1035e-03, -7.5604e-04,  5.4069e-03,  5.4117e-04,\n",
      "         3.5882e-03, -4.5969e-03,  9.1409e-04,  2.4734e-04,  2.4567e-03,\n",
      "         2.2114e-03, -1.2977e-03, -6.2836e-04,  1.2638e-03,  1.1003e-03,\n",
      "        -1.2460e-03,  2.0243e-03, -2.4410e-03,  4.8034e-03,  1.4859e-03,\n",
      "         3.9167e-04, -7.3121e-04,  1.0124e-03,  1.1582e-03, -1.4415e-04,\n",
      "        -1.9872e-03,  4.0765e-03, -4.2738e-04, -1.4068e-03,  2.1369e-03,\n",
      "         3.6221e-04,  4.7733e-03,  9.5059e-04,  4.1391e-04,  3.9141e-05,\n",
      "        -7.0706e-04,  3.8850e-04,  8.2764e-04,  3.5600e-03], device='cuda:0',\n",
      "       requires_grad=True)\n",
      "Parameter containing:\n",
      "tensor([[-0.0776, -0.0326,  0.0002,  ...,  0.1173,  0.0188,  0.0264],\n",
      "        [ 0.0109, -0.0645,  0.0469,  ...,  0.0370, -0.0924,  0.0817],\n",
      "        [-0.0060, -0.0258, -0.0949,  ..., -0.0362, -0.0745,  0.0504],\n",
      "        ...,\n",
      "        [ 0.0313, -0.0387, -0.1013,  ...,  0.0590,  0.1180, -0.0604],\n",
      "        [ 0.0614,  0.1205,  0.0536,  ...,  0.0398,  0.0467,  0.0014],\n",
      "        [-0.1123, -0.1225,  0.1022,  ...,  0.0315,  0.0074,  0.0951]],\n",
      "       device='cuda:0', requires_grad=True)\n",
      "Parameter containing:\n",
      "tensor([-1.5925e-02, -1.2125e-01, -4.8503e-02,  8.6442e-02, -3.3460e-02,\n",
      "         3.7222e-02, -5.2503e-02, -1.0949e-01, -8.0366e-02,  4.6414e-02,\n",
      "        -3.0391e-02, -6.6902e-02,  9.1110e-02, -2.3668e-02,  5.3766e-02,\n",
      "        -1.1035e-01, -2.1213e-02,  1.2435e-02,  8.4612e-04,  7.6516e-02,\n",
      "        -1.1347e-01,  1.6430e-02,  8.8825e-06,  2.9309e-03, -8.1846e-02,\n",
      "        -1.1137e-01, -1.0720e-01,  1.0176e-01,  1.4358e-02,  9.6798e-02,\n",
      "         8.5404e-02, -4.7088e-02, -1.0021e-01, -6.1244e-02,  1.2037e-01,\n",
      "        -1.2957e-01,  1.0958e-01,  5.5559e-02, -5.8414e-02, -4.7602e-02,\n",
      "        -4.1082e-02,  9.0232e-02,  1.1410e-01,  8.3548e-02, -1.2241e-01,\n",
      "         8.9611e-02,  3.0058e-02, -1.4471e-02, -1.1065e-01,  1.0306e-01,\n",
      "         9.1749e-02,  1.1101e-01, -7.7980e-02, -1.1350e-01, -9.8850e-02,\n",
      "        -1.9420e-02, -1.6064e-02,  1.1681e-01, -2.5419e-02,  1.1249e-02,\n",
      "        -1.1299e-01,  9.4068e-02, -7.4423e-02,  4.6069e-02], device='cuda:0',\n",
      "       requires_grad=True)\n",
      "Parameter containing:\n",
      "tensor([[[ 0.0406,  0.1102,  0.0445,  0.0108,  0.0223, -0.0881,  0.0175,\n",
      "           0.0226, -0.0083, -0.0090,  0.0856,  0.0628, -0.0896,  0.1117,\n",
      "          -0.0097,  0.1019,  0.0073, -0.0092, -0.0944,  0.0819, -0.0180,\n",
      "           0.0794,  0.0494,  0.0823, -0.0627,  0.0857, -0.0366,  0.1160,\n",
      "           0.1064, -0.0155, -0.0694,  0.0211, -0.0357, -0.0221,  0.1106,\n",
      "          -0.0574,  0.0483, -0.1043,  0.0028,  0.0266,  0.0082,  0.1103,\n",
      "          -0.0821,  0.0591,  0.0124,  0.0895, -0.0134,  0.0100,  0.1064,\n",
      "           0.0826, -0.0239,  0.0797,  0.0295, -0.0448, -0.0692,  0.0046,\n",
      "          -0.0109,  0.0532,  0.1029,  0.0099,  0.0306,  0.0014,  0.0807,\n",
      "           0.0874],\n",
      "         [-0.0268, -0.0077, -0.0740, -0.0291,  0.0103, -0.0117,  0.0418,\n",
      "           0.1181, -0.0509,  0.0108,  0.0004,  0.0468,  0.0330, -0.0102,\n",
      "          -0.0630,  0.0655, -0.0006,  0.0271,  0.0377,  0.0448, -0.0938,\n",
      "           0.0907, -0.0619, -0.0898, -0.1087, -0.1003,  0.0105,  0.0487,\n",
      "          -0.1066, -0.0368, -0.0991,  0.0756, -0.0855, -0.0697,  0.0365,\n",
      "           0.0490,  0.0326, -0.0856, -0.0952,  0.1174,  0.0468, -0.0854,\n",
      "          -0.0839, -0.0213, -0.0491, -0.0714, -0.0575, -0.0793,  0.0251,\n",
      "           0.0381,  0.0715,  0.0463,  0.0336, -0.0238, -0.0629, -0.0379,\n",
      "          -0.0196, -0.0417, -0.1088, -0.0311,  0.0496, -0.1001,  0.1043,\n",
      "           0.0385],\n",
      "         [ 0.0882, -0.0343, -0.0165,  0.0290, -0.0425, -0.0976,  0.0337,\n",
      "           0.0036, -0.0660, -0.0110,  0.0736,  0.0734, -0.0298, -0.0218,\n",
      "          -0.1041,  0.0475,  0.1077, -0.0608, -0.0778,  0.0636, -0.0076,\n",
      "          -0.0789, -0.0187,  0.0716, -0.0131,  0.0990, -0.0516, -0.0249,\n",
      "          -0.0344,  0.0691, -0.0144, -0.1049,  0.0092,  0.0416, -0.0398,\n",
      "           0.1112, -0.0896,  0.1030,  0.0048, -0.0698,  0.0065,  0.0307,\n",
      "           0.0085, -0.0985, -0.0431,  0.0121,  0.1095, -0.0701, -0.0212,\n",
      "           0.0213,  0.0111, -0.1032,  0.0238,  0.1123, -0.0255, -0.0999,\n",
      "          -0.0032, -0.1067, -0.0046, -0.0370,  0.0625, -0.1035,  0.0113,\n",
      "           0.0927],\n",
      "         [-0.0092,  0.0248, -0.0812, -0.1145, -0.0815, -0.1019,  0.0183,\n",
      "          -0.0045, -0.0461,  0.0472, -0.0388,  0.0223, -0.0135,  0.0861,\n",
      "          -0.0577, -0.0578, -0.0144, -0.0334,  0.1056,  0.0521, -0.0230,\n",
      "           0.0907,  0.0038,  0.1095,  0.1029, -0.0497,  0.1064, -0.0009,\n",
      "           0.0867, -0.1113,  0.0338, -0.0161, -0.0328,  0.0488,  0.0632,\n",
      "          -0.0853,  0.1048, -0.1029,  0.0804, -0.0213,  0.0670,  0.0764,\n",
      "           0.0709,  0.0040, -0.0141,  0.0825, -0.0552,  0.0007,  0.0856,\n",
      "           0.0463, -0.0122, -0.0420,  0.0533,  0.0649,  0.0203, -0.0805,\n",
      "           0.0029,  0.1086, -0.0465,  0.0889,  0.1056, -0.0539, -0.1128,\n",
      "          -0.0157],\n",
      "         [ 0.0806,  0.0713,  0.0717, -0.0221, -0.0236,  0.1162, -0.0763,\n",
      "          -0.0578, -0.0697,  0.0744, -0.0037, -0.0759,  0.0190, -0.0418,\n",
      "          -0.0657,  0.0609, -0.0309,  0.1069, -0.0373, -0.0859,  0.0160,\n",
      "          -0.0123, -0.0900,  0.0436, -0.0866,  0.0182, -0.0384,  0.1001,\n",
      "           0.0490, -0.0333, -0.0277,  0.0349,  0.0901, -0.0119, -0.0234,\n",
      "           0.0832,  0.0737,  0.0992,  0.0330, -0.1051, -0.0795,  0.0689,\n",
      "          -0.0496, -0.1118, -0.0826,  0.0729, -0.0839,  0.0133, -0.0669,\n",
      "          -0.0233,  0.0029, -0.0297, -0.0500, -0.0015,  0.0858, -0.0499,\n",
      "          -0.1146, -0.0482,  0.1052,  0.0411,  0.0064,  0.0125, -0.0591,\n",
      "          -0.0492],\n",
      "         [-0.0954,  0.0933,  0.0742, -0.0152,  0.0273,  0.0104,  0.1002,\n",
      "          -0.1061,  0.0319,  0.0701, -0.0734,  0.1140,  0.0683, -0.0861,\n",
      "           0.0103, -0.0888,  0.0042,  0.0739,  0.0076,  0.0175,  0.0354,\n",
      "           0.0771, -0.0418, -0.1025,  0.0026,  0.0149, -0.0055, -0.0978,\n",
      "           0.0680,  0.0360,  0.0246,  0.0232, -0.0232,  0.0107,  0.0918,\n",
      "           0.0122,  0.0465,  0.0914, -0.0138,  0.0461,  0.0643,  0.0646,\n",
      "          -0.0060,  0.0823,  0.0821, -0.0157,  0.0995,  0.0813,  0.0782,\n",
      "           0.0573,  0.0216, -0.0685,  0.0367, -0.0144,  0.1060,  0.0989,\n",
      "           0.0460,  0.0575,  0.0873,  0.0611,  0.0734,  0.0890, -0.1129,\n",
      "           0.0129]]], device='cuda:0', requires_grad=True)\n",
      "Parameter containing:\n",
      "tensor([[ 0.0278,  0.0080, -0.0027,  ...,  0.1083, -0.0829, -0.0330],\n",
      "        [ 0.0231, -0.0657,  0.0339,  ...,  0.0030,  0.0451, -0.0119],\n",
      "        [ 0.0083,  0.0501, -0.0527,  ..., -0.0505,  0.0451, -0.0874],\n",
      "        ...,\n",
      "        [ 0.1179,  0.0936,  0.0156,  ...,  0.0245, -0.0517,  0.0143],\n",
      "        [ 0.1102, -0.1080, -0.1050,  ...,  0.0243,  0.1039,  0.0663],\n",
      "        [ 0.1086,  0.0968,  0.1028,  ...,  0.0595,  0.0189,  0.0791]],\n",
      "       device='cuda:0', requires_grad=True)\n",
      "Parameter containing:\n",
      "tensor([ 0.0284, -0.0848, -0.0762, -0.0653, -0.0008,  0.1204, -0.1033, -0.0592,\n",
      "         0.0135, -0.0937, -0.0739, -0.1012,  0.0211, -0.0680, -0.0504,  0.0821,\n",
      "        -0.0147,  0.0135, -0.1038, -0.0700, -0.0769,  0.1239, -0.0781, -0.0480,\n",
      "         0.0569, -0.0493, -0.1129, -0.0630,  0.0979,  0.0450, -0.1256,  0.1109,\n",
      "         0.0088, -0.0585, -0.0851, -0.0407,  0.0129, -0.0147,  0.0912,  0.0312,\n",
      "         0.1022, -0.1238, -0.0142, -0.0884, -0.0978,  0.0800, -0.0785,  0.0722,\n",
      "         0.0545,  0.0762,  0.0767, -0.0788, -0.1176,  0.0895, -0.0953, -0.1060,\n",
      "         0.0988, -0.0255, -0.0502, -0.0508,  0.1226, -0.0645,  0.1163, -0.0300],\n",
      "       device='cuda:0', requires_grad=True)\n",
      "Parameter containing:\n",
      "tensor([[-0.0964,  0.0637, -0.1033,  ...,  0.0246, -0.0720,  0.0902],\n",
      "        [ 0.0817,  0.0200,  0.0647,  ...,  0.1231,  0.0923, -0.1018],\n",
      "        [-0.0652, -0.0527, -0.0988,  ...,  0.0515, -0.0166, -0.0456],\n",
      "        ...,\n",
      "        [ 0.1083, -0.0751,  0.0756,  ..., -0.0554,  0.0827, -0.1185],\n",
      "        [-0.0378,  0.1237,  0.1206,  ...,  0.0226, -0.0196,  0.0547],\n",
      "        [ 0.0321,  0.0893,  0.0945,  ..., -0.0342,  0.0795, -0.0950]],\n",
      "       device='cuda:0', requires_grad=True)\n",
      "Parameter containing:\n",
      "tensor([-0.0736,  0.0554, -0.0216, -0.0431,  0.0719,  0.0677, -0.0744, -0.0957,\n",
      "         0.0595, -0.0046, -0.0886, -0.0584, -0.1112,  0.0806,  0.0226, -0.1089,\n",
      "         0.0169,  0.0186, -0.0133, -0.1178,  0.0112, -0.1173, -0.1145, -0.0045,\n",
      "         0.0880,  0.0442, -0.0863,  0.0921,  0.1189, -0.0756, -0.0319, -0.0773,\n",
      "         0.0472, -0.0850, -0.0186, -0.0474, -0.0610,  0.0752,  0.0897, -0.0747,\n",
      "         0.1140, -0.0945,  0.1097, -0.0952, -0.1051, -0.0960,  0.0703,  0.0506,\n",
      "        -0.0929, -0.0429, -0.1087, -0.0776,  0.0591,  0.0083,  0.0870,  0.0304,\n",
      "         0.0704,  0.0228, -0.0720, -0.0670, -0.0313, -0.1180, -0.1172, -0.0812],\n",
      "       device='cuda:0', requires_grad=True)\n",
      "Parameter containing:\n",
      "tensor([[-0.1218, -0.0148, -0.0427,  ...,  0.0639, -0.0572,  0.0328],\n",
      "        [ 0.1235, -0.1112,  0.0610,  ...,  0.1278,  0.0532,  0.0140],\n",
      "        [-0.0357, -0.0362,  0.0926,  ..., -0.1119,  0.1055,  0.1067],\n",
      "        ...,\n",
      "        [ 0.0422, -0.0777,  0.0082,  ..., -0.1141, -0.0552,  0.0656],\n",
      "        [-0.1046,  0.0545, -0.0890,  ..., -0.0822,  0.0970,  0.0358],\n",
      "        [-0.0122,  0.0396, -0.1087,  ..., -0.0787, -0.0515, -0.0457]],\n",
      "       device='cuda:0', requires_grad=True)\n",
      "Parameter containing:\n",
      "tensor([-0.1034,  0.0210,  0.0417,  0.0578,  0.0074, -0.0029,  0.0204,  0.0579,\n",
      "         0.0267,  0.0405,  0.0092, -0.0069,  0.0335,  0.0156,  0.0540,  0.0519,\n",
      "        -0.0916, -0.0098, -0.1027, -0.0302,  0.0988, -0.0355, -0.0487, -0.0805,\n",
      "        -0.0728,  0.0736,  0.0565,  0.1041,  0.0344,  0.0720,  0.0638, -0.0952,\n",
      "        -0.0096,  0.0695,  0.0522,  0.0394,  0.0350, -0.0611,  0.0029, -0.1009,\n",
      "         0.0168,  0.0954, -0.0981, -0.0971,  0.0105, -0.0292,  0.0015,  0.0872,\n",
      "        -0.0880,  0.0581, -0.0036, -0.0276, -0.0572, -0.0023, -0.0224, -0.1206,\n",
      "         0.0976,  0.0661, -0.0957, -0.0935, -0.0006,  0.1030, -0.0593,  0.0986],\n",
      "       device='cuda:0', requires_grad=True)\n",
      "Parameter containing:\n",
      "tensor([1.0009, 0.9992, 1.0000, 1.0029, 0.9983, 0.9951, 1.0005, 0.9987, 1.0041,\n",
      "        0.9821, 0.9979, 0.9965, 1.0147, 1.0022, 0.9979, 0.9947, 1.0014, 0.9995,\n",
      "        1.0089, 1.0022, 0.9963, 1.0036, 1.0000, 1.0040, 0.9981, 1.0003, 0.9903,\n",
      "        1.0020, 1.0010, 1.0022, 0.9994, 0.9771, 0.9998, 0.9784, 1.0031, 1.0009,\n",
      "        1.0048, 0.9990, 1.0031, 1.0036, 0.9957, 0.9976, 1.0040, 0.9859, 0.9996,\n",
      "        1.0000, 1.0078, 0.9987, 1.0013, 0.9996, 1.0018, 1.0012, 1.0017, 0.9927,\n",
      "        1.0087, 1.0002, 0.9977, 1.0020, 0.9943, 1.0019, 1.0014, 0.9988, 1.0010,\n",
      "        0.9993], device='cuda:0', requires_grad=True)\n",
      "Parameter containing:\n",
      "tensor([ 9.0656e-04, -2.5533e-03,  1.2562e-03,  1.9276e-03, -5.5190e-04,\n",
      "        -1.1998e-03, -9.7570e-04, -1.5285e-04,  1.3451e-03, -1.2812e-03,\n",
      "        -1.7526e-03, -5.6929e-04,  6.9696e-04, -2.9120e-03,  3.4688e-04,\n",
      "         3.4701e-03, -8.3825e-06, -1.1497e-03, -9.6708e-03,  1.2086e-03,\n",
      "         5.3103e-04,  7.6687e-04,  3.9641e-03,  3.9082e-04, -1.1661e-04,\n",
      "        -4.6952e-05,  6.0834e-03, -3.0697e-03,  1.8573e-03,  9.7960e-04,\n",
      "        -1.4659e-03, -1.5707e-03,  1.1160e-03,  1.0326e-03, -2.6872e-04,\n",
      "         7.0474e-04,  5.6255e-03, -4.3878e-04, -1.3739e-03,  2.2733e-03,\n",
      "         1.9551e-03, -1.6564e-03, -3.3836e-05, -2.3457e-03,  6.7087e-05,\n",
      "        -2.9379e-04,  1.8246e-03,  8.4823e-04,  1.2264e-03, -1.2421e-04,\n",
      "         2.8158e-04,  2.7769e-03, -2.4974e-03, -1.6697e-04, -3.4292e-03,\n",
      "        -3.8954e-04,  2.0464e-04, -2.1216e-03,  2.3501e-03, -1.5718e-03,\n",
      "         3.1868e-04, -9.5127e-04,  1.2112e-03, -2.6900e-04], device='cuda:0',\n",
      "       requires_grad=True)\n",
      "Parameter containing:\n",
      "tensor([1.0007, 1.0012, 1.0028, 0.9982, 0.9941, 0.9950, 1.0018, 0.9997, 1.0055,\n",
      "        0.9896, 0.9932, 0.9814, 1.0085, 0.9978, 0.9979, 0.9946, 0.9997, 1.0004,\n",
      "        1.0046, 1.0036, 0.9975, 0.9831, 0.9990, 1.0014, 0.9969, 0.9995, 0.9941,\n",
      "        1.0013, 1.0018, 1.0052, 1.0004, 0.9617, 1.0004, 0.9805, 0.9941, 1.0029,\n",
      "        1.0040, 0.9985, 1.0062, 1.0033, 0.9944, 1.0029, 0.9980, 0.9956, 0.9994,\n",
      "        0.9990, 1.0043, 0.9974, 1.0038, 1.0007, 1.0025, 1.0024, 1.0031, 0.9957,\n",
      "        1.0055, 0.9985, 0.9980, 1.0282, 0.9950, 1.0009, 0.9971, 0.9968, 1.0017,\n",
      "        0.9990], device='cuda:0', requires_grad=True)\n",
      "Parameter containing:\n",
      "tensor([ 1.1825e-03, -3.8291e-03,  2.1763e-03,  2.9339e-03, -2.5884e-03,\n",
      "        -1.2270e-03, -1.9835e-03,  6.9484e-05,  1.7727e-03, -1.7747e-03,\n",
      "        -7.0759e-04,  1.3280e-03, -2.3814e-04, -3.3397e-03,  5.1289e-04,\n",
      "         1.8231e-03,  1.0082e-03, -2.7673e-04, -4.5698e-03,  2.4811e-03,\n",
      "         6.2992e-04,  1.6284e-03,  4.2395e-03,  6.8034e-04, -3.4908e-05,\n",
      "         5.3421e-04,  4.1568e-03, -2.1100e-03,  2.4702e-03,  2.4438e-03,\n",
      "        -1.2519e-03, -6.9795e-05,  2.8058e-03,  2.5108e-04,  6.2086e-04,\n",
      "         1.5449e-03,  3.7649e-03,  3.3634e-04, -6.8343e-04,  3.2093e-03,\n",
      "         1.1301e-03, -4.1432e-03,  9.6786e-04, -2.7159e-03,  8.1900e-04,\n",
      "        -3.6428e-04,  2.2483e-03,  1.8281e-03,  2.0963e-03,  1.0676e-04,\n",
      "        -1.7794e-05,  2.8247e-03, -3.5420e-03,  2.0745e-03, -1.5160e-03,\n",
      "         4.2481e-04,  5.9010e-04, -1.6881e-03,  2.6810e-03, -6.3197e-04,\n",
      "         1.4068e-03, -7.8311e-04,  1.0052e-03,  7.8375e-04], device='cuda:0',\n",
      "       requires_grad=True)\n",
      "Parameter containing:\n",
      "tensor([[ 0.0916,  0.0984, -0.0989,  ...,  0.1172,  0.0640,  0.0072],\n",
      "        [ 0.0754,  0.0133,  0.0471,  ...,  0.1298,  0.1259,  0.0012],\n",
      "        [-0.0862,  0.1157,  0.1105,  ..., -0.1144,  0.0066, -0.0593],\n",
      "        ...,\n",
      "        [-0.1161, -0.0602,  0.1032,  ...,  0.0568, -0.0909,  0.0968],\n",
      "        [-0.0519, -0.1018, -0.0774,  ...,  0.0165,  0.0581,  0.1105],\n",
      "        [-0.0933,  0.0763, -0.0545,  ...,  0.1161,  0.0624,  0.1201]],\n",
      "       device='cuda:0', requires_grad=True)\n",
      "Parameter containing:\n",
      "tensor([-0.0881,  0.0348, -0.1128, -0.0555, -0.0356, -0.0142,  0.0690,  0.0038,\n",
      "        -0.1188, -0.0312, -0.0785,  0.1172,  0.0375, -0.0388,  0.0461, -0.0653,\n",
      "        -0.0092,  0.0080, -0.0385, -0.0800,  0.0654,  0.0997,  0.0171, -0.1013,\n",
      "         0.0338,  0.0635, -0.1078,  0.0591,  0.0210, -0.0670, -0.0229, -0.1005,\n",
      "        -0.0590,  0.0246,  0.0649,  0.0472,  0.0310,  0.0598,  0.0606, -0.0020,\n",
      "         0.0138,  0.0690, -0.0876, -0.0066,  0.0737,  0.0449, -0.0666,  0.1108,\n",
      "        -0.0117,  0.0559, -0.0868,  0.1072, -0.0451, -0.1229, -0.0829,  0.0210,\n",
      "        -0.0834,  0.1156,  0.0500, -0.0608, -0.0944, -0.0298,  0.0072, -0.0056],\n",
      "       device='cuda:0', requires_grad=True)\n",
      "Parameter containing:\n",
      "tensor([[ 0.0456, -0.0167,  0.0748,  ...,  0.0779,  0.0773, -0.0957],\n",
      "        [ 0.1093,  0.0277,  0.0786,  ..., -0.0096, -0.0453,  0.0053],\n",
      "        [-0.0693, -0.0207, -0.0502,  ..., -0.0843, -0.1262, -0.0966],\n",
      "        ...,\n",
      "        [ 0.0631, -0.1138,  0.0354,  ...,  0.0556,  0.0284, -0.0999],\n",
      "        [ 0.0291, -0.0177,  0.0235,  ...,  0.0144,  0.0165, -0.1076],\n",
      "        [-0.0849, -0.0274,  0.0114,  ..., -0.0420,  0.0405,  0.1026]],\n",
      "       device='cuda:0', requires_grad=True)\n",
      "Parameter containing:\n",
      "tensor([-0.0355,  0.0773,  0.1290, -0.0010, -0.0695, -0.0488, -0.0246,  0.0900,\n",
      "        -0.0326, -0.0681,  0.0687, -0.0487,  0.0790,  0.0437, -0.0379,  0.0432,\n",
      "        -0.0069, -0.1246, -0.1204,  0.1061, -0.0325, -0.0607,  0.0065, -0.0407,\n",
      "         0.0596,  0.0918, -0.0704, -0.1185,  0.1126, -0.1217,  0.1191,  0.0549,\n",
      "         0.1008,  0.1110,  0.0004,  0.1093,  0.0188,  0.0748,  0.0519, -0.0040,\n",
      "         0.0762,  0.0857, -0.1227,  0.0523, -0.0133,  0.0028,  0.1147,  0.0604,\n",
      "         0.0426,  0.0061,  0.0066, -0.0959, -0.1131,  0.0498,  0.0342,  0.0825,\n",
      "        -0.0241, -0.0478, -0.0720,  0.1201, -0.0428,  0.0169, -0.1034,  0.0311],\n",
      "       device='cuda:0', requires_grad=True)\n",
      "Parameter containing:\n",
      "tensor([[-0.0876, -0.0106,  0.1147,  ..., -0.0280, -0.0494,  0.0462],\n",
      "        [-0.1059,  0.0946, -0.0090,  ...,  0.0948, -0.0715,  0.0795],\n",
      "        [-0.0955, -0.0582,  0.0435,  ..., -0.0688,  0.0613, -0.0208],\n",
      "        ...,\n",
      "        [ 0.0801,  0.0032,  0.0926,  ...,  0.0971, -0.0239, -0.0708],\n",
      "        [-0.1006,  0.0782,  0.0827,  ...,  0.1033, -0.0108, -0.0808],\n",
      "        [-0.0618,  0.0227,  0.0329,  ..., -0.0512,  0.0767,  0.0820]],\n",
      "       device='cuda:0', requires_grad=True)\n",
      "Parameter containing:\n",
      "tensor([ 0.1072, -0.0277,  0.0922, -0.0849,  0.0244, -0.0599,  0.0096,  0.1025,\n",
      "        -0.1197,  0.0980, -0.1081,  0.0334,  0.0900, -0.0442, -0.1168, -0.0215,\n",
      "        -0.0196, -0.0981,  0.0858,  0.0357, -0.0042, -0.0580, -0.1150, -0.0432,\n",
      "        -0.0427,  0.0660, -0.0258, -0.0062, -0.0518,  0.0907, -0.0311,  0.0384,\n",
      "        -0.0465, -0.0925,  0.0948, -0.1217,  0.0227,  0.0114,  0.0828,  0.0365,\n",
      "         0.0369,  0.0554, -0.0267,  0.0149, -0.0735,  0.1120, -0.0663,  0.0131,\n",
      "        -0.0035, -0.0998,  0.0834, -0.0138,  0.0249,  0.1005, -0.0981,  0.0005,\n",
      "         0.0539,  0.0500, -0.0474,  0.1103, -0.0778,  0.0705, -0.0820, -0.0629],\n",
      "       device='cuda:0', requires_grad=True)\n",
      "Parameter containing:\n",
      "tensor([[-0.1013,  0.0178,  0.0001,  ..., -0.0710, -0.0709,  0.0103],\n",
      "        [-0.1025, -0.0353, -0.0239,  ..., -0.1043, -0.0464,  0.0737],\n",
      "        [ 0.0409,  0.1054, -0.0896,  ..., -0.0153, -0.0928,  0.0662],\n",
      "        ...,\n",
      "        [ 0.0559,  0.0365,  0.0814,  ...,  0.0669,  0.0742,  0.0916],\n",
      "        [-0.0404, -0.0197, -0.0829,  ...,  0.1108,  0.0712, -0.0869],\n",
      "        [-0.0587,  0.0132, -0.0655,  ..., -0.0455, -0.0772, -0.1083]],\n",
      "       device='cuda:0', requires_grad=True)\n",
      "Parameter containing:\n",
      "tensor([-0.0283, -0.0024, -0.1183,  0.0773,  0.1134, -0.1058,  0.0082, -0.0429,\n",
      "        -0.0412, -0.0302, -0.0309, -0.0157, -0.1000,  0.0991,  0.0053,  0.0921,\n",
      "        -0.0910, -0.0710,  0.0266, -0.0010, -0.0190,  0.0477, -0.0127, -0.0845,\n",
      "         0.0911, -0.0213, -0.1240,  0.0532,  0.0255,  0.0832,  0.1175,  0.0454,\n",
      "         0.1068, -0.0315,  0.0027,  0.1030,  0.0717,  0.0577, -0.0047, -0.1209,\n",
      "         0.0688, -0.0467, -0.0024,  0.1197, -0.0945,  0.1149,  0.0745, -0.0095,\n",
      "         0.1156, -0.0014, -0.0386, -0.0578,  0.1244, -0.0030,  0.1171, -0.1026,\n",
      "         0.0723,  0.0255, -0.0049,  0.1154, -0.0411, -0.0484, -0.0504, -0.1149],\n",
      "       device='cuda:0', requires_grad=True)\n",
      "Parameter containing:\n",
      "tensor([1.0012, 1.0003, 1.0091, 1.0038, 1.0046, 0.9956, 0.9982, 0.9966, 0.9985,\n",
      "        0.9933, 1.0032, 1.0018, 1.0061, 1.0010, 0.9976, 0.9963, 1.0011, 0.9911,\n",
      "        1.0006, 1.0013, 1.0107, 0.9981, 0.9934, 0.9990, 1.0024, 0.9946, 0.9963,\n",
      "        1.0001, 1.0037, 0.9933, 1.0001, 1.0075, 0.9939, 1.0044, 0.9856, 1.0011,\n",
      "        1.0003, 1.0008, 1.0013, 1.0012, 0.9923, 0.9925, 0.9826, 0.9999, 0.9973,\n",
      "        0.9946, 1.0006, 1.0042, 0.9988, 1.0010, 0.9989, 1.0043, 1.0015, 0.9971,\n",
      "        1.0005, 0.9857, 0.9987, 0.9991, 1.0007, 1.0007, 0.9973, 0.9953, 1.0016,\n",
      "        0.9951], device='cuda:0', requires_grad=True)\n",
      "Parameter containing:\n",
      "tensor([-6.5607e-03, -7.1491e-04,  6.2626e-03,  3.6629e-03,  6.3539e-03,\n",
      "        -1.2990e-03,  1.3843e-03,  2.3169e-03,  1.2680e-04,  2.4939e-03,\n",
      "        -1.7620e-04, -2.4078e-03, -2.8449e-04, -8.6273e-04,  2.2528e-03,\n",
      "        -2.9391e-04, -7.0531e-04, -1.1418e-03,  2.4868e-03, -1.7650e-03,\n",
      "        -9.2638e-03,  1.6949e-03, -1.9216e-03,  2.2711e-03, -2.9642e-03,\n",
      "         1.4729e-03, -1.7224e-03,  1.6841e-03,  3.4366e-03,  8.9751e-04,\n",
      "         2.2278e-03,  4.3543e-04,  2.2863e-03, -1.6925e-03,  1.2848e-04,\n",
      "        -4.6539e-03, -2.0746e-03, -1.1603e-03,  1.8121e-03, -1.9715e-03,\n",
      "         2.1808e-03,  1.5148e-03, -3.2385e-03,  1.4006e-03,  1.4451e-03,\n",
      "         1.7698e-03,  2.6206e-03, -6.2626e-03, -3.9328e-03, -4.1765e-03,\n",
      "         2.1028e-03, -2.1742e-03,  3.3713e-03,  4.3374e-03,  7.5311e-04,\n",
      "         4.9471e-04,  4.0485e-04, -1.7134e-03, -4.6978e-04,  2.3035e-03,\n",
      "         1.6967e-05,  2.0854e-03, -3.0737e-03, -5.7276e-04], device='cuda:0',\n",
      "       requires_grad=True)\n",
      "Parameter containing:\n",
      "tensor([0.9968, 0.9964, 0.9971, 0.9970, 0.9954, 0.9941, 0.9965, 0.9966, 0.9974,\n",
      "        0.9941, 1.0047, 1.0002, 0.9995, 0.9958, 1.0118, 0.9997, 0.9965, 0.9942,\n",
      "        0.9994, 0.9978, 1.0018, 1.0075, 0.9922, 0.9978, 1.0002, 0.9889, 0.9952,\n",
      "        0.9953, 0.9998, 0.9985, 0.9924, 1.0117, 0.9949, 1.0018, 0.9885, 0.9996,\n",
      "        0.9956, 0.9973, 0.9985, 1.0007, 0.9940, 0.9914, 0.9931, 1.0021, 0.9943,\n",
      "        0.9934, 0.9983, 0.9994, 1.0099, 0.9981, 0.9996, 0.9976, 0.9989, 0.9925,\n",
      "        0.9987, 0.9955, 0.9947, 0.9988, 0.9983, 0.9977, 0.9997, 1.0032, 1.0024,\n",
      "        0.9931], device='cuda:0', requires_grad=True)\n",
      "Parameter containing:\n",
      "tensor([-1.3136e-03, -1.2506e-03, -4.1229e-03, -1.5486e-03, -1.0317e-04,\n",
      "        -1.5643e-03,  1.4844e-03,  2.0112e-03,  1.2057e-03,  2.9399e-03,\n",
      "        -2.6858e-04, -1.9824e-03,  1.2129e-03, -4.6453e-04,  4.2349e-03,\n",
      "        -9.5568e-05,  1.8062e-03, -9.6261e-04,  2.1516e-03,  1.2922e-03,\n",
      "        -2.9348e-03,  5.9217e-03, -2.0178e-03,  3.4423e-03, -1.7523e-03,\n",
      "         3.0112e-03, -9.0275e-04, -5.2736e-05,  2.4590e-04,  4.3196e-04,\n",
      "        -4.9410e-03, -5.0747e-05,  4.7003e-04,  3.0775e-04,  1.8319e-03,\n",
      "        -2.6704e-04,  1.4639e-03,  2.9347e-03, -1.6511e-04, -6.0422e-04,\n",
      "         1.0918e-03,  3.8471e-03, -2.4203e-03,  5.0912e-04,  6.9364e-04,\n",
      "         3.4128e-03,  9.3873e-05, -1.4910e-03, -7.3884e-03, -1.2329e-03,\n",
      "         4.0996e-03,  1.4663e-04,  2.3647e-04,  5.5845e-03,  1.2570e-03,\n",
      "         1.2973e-03,  1.6916e-03, -1.1708e-03,  2.2669e-03, -8.5926e-04,\n",
      "         1.0571e-03,  4.3240e-03, -3.4596e-03,  1.3265e-04], device='cuda:0',\n",
      "       requires_grad=True)\n",
      "Parameter containing:\n",
      "tensor([[ 0.1095,  0.0325,  0.0468,  ...,  0.0983,  0.0578,  0.1171],\n",
      "        [-0.0007, -0.0787, -0.0546,  ..., -0.1044,  0.1075,  0.0814],\n",
      "        [-0.0331, -0.0975,  0.1182,  ...,  0.0182,  0.0780, -0.0300],\n",
      "        ...,\n",
      "        [ 0.0543,  0.0488,  0.0882,  ..., -0.1107, -0.0515,  0.0047],\n",
      "        [ 0.0840,  0.1105, -0.0242,  ..., -0.1088, -0.0205,  0.1004],\n",
      "        [ 0.1006,  0.0608, -0.1027,  ...,  0.0384,  0.1174, -0.0028]],\n",
      "       device='cuda:0', requires_grad=True)\n",
      "Parameter containing:\n",
      "tensor([-4.1492e-02, -9.5265e-02, -1.9898e-02,  7.3184e-03,  1.1381e-01,\n",
      "         8.1696e-02, -8.0579e-02, -1.4348e-02, -3.3952e-02,  2.7170e-02,\n",
      "         9.1189e-02,  1.1808e-01,  8.6999e-02,  1.1500e-01, -6.0328e-02,\n",
      "         8.1166e-02, -3.1703e-02, -9.4156e-02,  5.6344e-02, -1.0238e-03,\n",
      "         8.1959e-03,  7.4357e-02,  9.9862e-02, -5.8277e-02,  2.3097e-02,\n",
      "         1.0618e-02, -9.1540e-02,  6.1246e-02, -4.8470e-02,  7.4001e-02,\n",
      "         1.1478e-01, -1.0111e-01,  9.1414e-02, -2.0083e-02, -1.0025e-01,\n",
      "        -8.8748e-02, -1.0186e-01,  8.2418e-02, -1.2175e-02,  4.5108e-02,\n",
      "        -5.6898e-02,  9.9153e-02,  1.2435e-01, -3.9297e-02, -1.1544e-01,\n",
      "         4.1957e-02, -8.6416e-02,  1.1235e-01,  2.6747e-02, -7.0489e-02,\n",
      "        -2.9028e-02,  1.0300e-01,  1.2723e-01,  2.2983e-02, -9.6151e-02,\n",
      "         6.4321e-02,  1.0109e-01, -1.0859e-01, -8.9231e-03,  6.5164e-05,\n",
      "        -9.1677e-02,  1.7363e-03,  1.0615e-01,  6.3687e-02], device='cuda:0',\n",
      "       requires_grad=True)\n",
      "Parameter containing:\n",
      "tensor([[[-0.0131,  0.0346, -0.0066,  ..., -0.0300,  0.0376, -0.0334],\n",
      "         [ 0.0019,  0.0725,  0.0036,  ...,  0.0366, -0.0240,  0.0140],\n",
      "         [ 0.0511,  0.0663, -0.0602,  ...,  0.0374,  0.0310, -0.0067],\n",
      "         ...,\n",
      "         [ 0.0104,  0.0173, -0.0359,  ...,  0.0042, -0.0279, -0.0284],\n",
      "         [-0.0387,  0.0043, -0.0454,  ..., -0.0016, -0.0194, -0.0353],\n",
      "         [-0.0360,  0.0450,  0.0419,  ...,  0.0459, -0.0477,  0.0109]]],\n",
      "       device='cuda:0', requires_grad=True)\n",
      "Parameter containing:\n",
      "tensor([[ 0.1232,  0.1091, -0.0696,  ...,  0.0132, -0.0320,  0.0899],\n",
      "        [-0.0532,  0.0774, -0.0818,  ...,  0.0691,  0.0684, -0.0985],\n",
      "        [ 0.1194,  0.0210, -0.0395,  ...,  0.1100,  0.0020,  0.0276],\n",
      "        ...,\n",
      "        [-0.0470, -0.1497, -0.0528,  ...,  0.0213,  0.0288, -0.0952],\n",
      "        [-0.0523, -0.1182,  0.1221,  ..., -0.0215, -0.1153, -0.0528],\n",
      "        [-0.0193, -0.0123,  0.0535,  ...,  0.0309,  0.0850,  0.0827]],\n",
      "       device='cuda:0', requires_grad=True)\n",
      "Parameter containing:\n",
      "tensor([-0.0093,  0.0252,  0.0120,  0.1099, -0.0586,  0.0971, -0.0316,  0.0905,\n",
      "         0.0147,  0.1244,  0.0226,  0.0228,  0.1110,  0.0529, -0.1262, -0.0139,\n",
      "         0.0085, -0.0601,  0.1174,  0.0734, -0.1223,  0.0011, -0.1191,  0.1148,\n",
      "        -0.1137,  0.0818, -0.0370, -0.0338, -0.0176, -0.0374, -0.0225, -0.0956,\n",
      "        -0.1355, -0.0622,  0.0828,  0.1273, -0.0256, -0.1115, -0.0216, -0.1103,\n",
      "        -0.0138, -0.0434, -0.0118, -0.0727,  0.0951,  0.0383,  0.0586,  0.1343,\n",
      "        -0.0653,  0.0878,  0.0173,  0.0465,  0.0330, -0.0846, -0.0344, -0.0067,\n",
      "         0.1074,  0.0625,  0.1200, -0.0147,  0.0848, -0.1148, -0.0906,  0.1057],\n",
      "       device='cuda:0', requires_grad=True)\n",
      "Parameter containing:\n",
      "tensor([[ 0.1085, -0.0101,  0.0084,  ...,  0.1243,  0.1195,  0.0492],\n",
      "        [ 0.0373, -0.0526, -0.0998,  ...,  0.0180, -0.0430,  0.0423],\n",
      "        [ 0.0179,  0.0665, -0.0768,  ...,  0.1117,  0.0858, -0.0927],\n",
      "        ...,\n",
      "        [ 0.1192, -0.0398, -0.0074,  ..., -0.0892,  0.0443,  0.0189],\n",
      "        [ 0.0398,  0.0298, -0.1033,  ...,  0.0276, -0.0052,  0.0978],\n",
      "        [ 0.0318, -0.0287, -0.0554,  ...,  0.0796, -0.0721, -0.1170]],\n",
      "       device='cuda:0', requires_grad=True)\n",
      "Parameter containing:\n",
      "tensor([ 0.0948, -0.1185, -0.0206, -0.0449,  0.0371, -0.1035,  0.0276,  0.1048,\n",
      "         0.1125, -0.1103,  0.0118, -0.0349,  0.0284, -0.0603,  0.0323,  0.1187,\n",
      "         0.0735, -0.0599, -0.0636, -0.0093, -0.0751, -0.1021, -0.0622, -0.0015,\n",
      "        -0.0239, -0.0014,  0.0170,  0.0427, -0.0160,  0.0365, -0.0792,  0.0765,\n",
      "        -0.0628, -0.1086,  0.1133, -0.1012, -0.0504, -0.0753, -0.0624, -0.0193,\n",
      "        -0.0083,  0.0600,  0.0732, -0.1198,  0.0848,  0.0891,  0.1192,  0.1065,\n",
      "        -0.0318, -0.0625,  0.0465, -0.0748,  0.0216, -0.0791, -0.0503,  0.0628,\n",
      "         0.0991, -0.0475,  0.1109,  0.0052,  0.0345,  0.1073, -0.0220, -0.0977],\n",
      "       device='cuda:0', requires_grad=True)\n",
      "Parameter containing:\n",
      "tensor([[ 0.1239, -0.0907, -0.0759,  ...,  0.0946,  0.0943, -0.0435],\n",
      "        [-0.0951,  0.0949, -0.0123,  ...,  0.1246, -0.1338,  0.0227],\n",
      "        [-0.0415,  0.0462,  0.0822,  ..., -0.1128, -0.0084,  0.1036],\n",
      "        ...,\n",
      "        [-0.0037, -0.0106,  0.0108,  ..., -0.1077, -0.0343,  0.0194],\n",
      "        [-0.0772,  0.1165, -0.1214,  ...,  0.0764, -0.1133, -0.0776],\n",
      "        [-0.1021, -0.0993, -0.0593,  ...,  0.0809, -0.0414,  0.0706]],\n",
      "       device='cuda:0', requires_grad=True)\n",
      "Parameter containing:\n",
      "tensor([ 1.2342e-01, -1.2426e-01, -1.1206e-01, -1.0527e-01, -7.6012e-05,\n",
      "        -9.9796e-02,  1.3468e-01,  1.4501e-01, -8.6715e-02,  5.7768e-02,\n",
      "         9.2911e-02, -6.1640e-02, -2.8185e-02, -1.7909e-02, -1.1029e-01,\n",
      "         9.1461e-02, -1.3756e-01, -7.4881e-02, -6.0664e-02, -1.0699e-02,\n",
      "        -4.6972e-02, -8.0141e-02,  3.0813e-02, -3.5945e-02,  2.2522e-02,\n",
      "        -4.7890e-02, -1.2375e-01,  1.1830e-01, -1.1150e-01, -8.8712e-03,\n",
      "        -1.1792e-02,  1.1176e-01, -1.3847e-01, -8.1119e-02, -6.9542e-02,\n",
      "         1.1530e-01,  1.6663e-02,  1.4712e-02, -6.2502e-02, -5.8096e-02,\n",
      "        -6.1712e-02,  7.6711e-02,  7.0248e-03, -3.3388e-02,  1.3223e-01,\n",
      "         1.4431e-01, -1.0947e-01,  5.0388e-02, -1.3720e-02,  3.6195e-02,\n",
      "         9.5614e-02, -1.3381e-01,  4.9327e-02,  1.1500e-01,  3.7022e-03,\n",
      "        -2.3240e-02, -1.1582e-02, -4.1625e-02,  6.4202e-02,  4.2541e-02,\n",
      "         7.9749e-02, -2.3164e-02,  9.8628e-02,  9.9013e-02], device='cuda:0',\n",
      "       requires_grad=True)\n",
      "Parameter containing:\n",
      "tensor([1.0037, 1.0027, 1.0049, 0.9993, 0.9962, 0.9966, 1.0067, 1.0081, 0.9991,\n",
      "        0.9979, 0.9958, 0.9948, 0.9905, 0.9988, 1.0003, 1.0024, 1.0068, 1.0056,\n",
      "        0.9948, 0.9993, 1.0070, 1.0000, 0.9936, 1.0003, 0.9963, 1.0040, 1.0034,\n",
      "        1.0131, 0.9883, 0.9987, 0.9912, 0.9961, 1.0101, 1.0021, 0.9964, 1.0061,\n",
      "        1.0083, 1.0064, 1.0079, 0.9941, 0.9999, 0.9948, 0.9871, 1.0027, 0.9987,\n",
      "        1.0145, 0.9915, 1.0070, 0.9971, 1.0060, 0.9959, 1.0058, 0.9982, 0.9986,\n",
      "        0.9951, 0.9948, 0.9938, 0.9944, 1.0187, 0.9990, 1.0057, 1.0057, 0.9962,\n",
      "        0.9998], device='cuda:0', requires_grad=True)\n",
      "Parameter containing:\n",
      "tensor([-3.3682e-04, -2.2471e-03,  6.4319e-03, -5.3112e-03,  1.3300e-02,\n",
      "         6.0052e-03, -7.4137e-03, -9.1548e-03,  1.8212e-03, -9.9606e-03,\n",
      "        -1.3203e-03,  4.3137e-03,  8.0480e-03, -1.3753e-02,  8.0783e-03,\n",
      "        -3.7884e-03, -4.2360e-03,  2.9252e-03, -2.5389e-03,  2.9427e-03,\n",
      "         4.7793e-03,  8.4911e-03,  8.2870e-03, -2.1790e-03, -3.4778e-03,\n",
      "         1.2972e-02,  3.2428e-04,  5.0471e-03,  5.2731e-03,  4.7799e-03,\n",
      "         4.4754e-03,  9.0652e-03,  6.5268e-03, -7.0430e-03,  5.9676e-03,\n",
      "        -1.5921e-02,  9.4914e-03, -3.4208e-03,  6.0079e-03, -7.0319e-06,\n",
      "        -1.3511e-03, -8.0301e-03,  1.3869e-03,  9.9746e-03, -9.2884e-03,\n",
      "        -6.1330e-03,  3.8671e-04, -2.3474e-05,  1.4713e-02, -1.9883e-03,\n",
      "         6.5695e-05, -4.7383e-03,  6.7680e-03, -6.4752e-03, -5.6811e-03,\n",
      "         8.7582e-04, -2.1293e-03, -5.6925e-03, -2.8832e-03, -6.9053e-03,\n",
      "        -7.6168e-03, -8.4784e-03, -1.8189e-03, -1.3933e-03], device='cuda:0',\n",
      "       requires_grad=True)\n",
      "Parameter containing:\n",
      "tensor([1.0005, 1.0112, 0.9994, 1.0030, 1.0033, 1.0046, 1.0081, 0.9993, 0.9947,\n",
      "        0.9999, 1.0060, 0.9978, 1.0051, 1.0050, 1.0064, 1.0034, 0.9959, 1.0050,\n",
      "        1.0002, 0.9934, 1.0002, 1.0021, 0.9935, 1.0013, 0.9947, 1.0048, 0.9981,\n",
      "        1.0054, 0.9985, 0.9961, 1.0034, 0.9921, 1.0016, 1.0027, 0.9988, 1.0056,\n",
      "        1.0043, 0.9990, 1.0036, 0.9971, 1.0034, 0.9954, 0.9972, 0.9989, 0.9933,\n",
      "        1.0071, 1.0029, 1.0039, 1.0047, 1.0023, 1.0042, 1.0016, 0.9910, 1.0023,\n",
      "        0.9965, 0.9997, 0.9983, 0.9970, 1.0117, 1.0025, 1.0071, 1.0013, 0.9938,\n",
      "        0.9962], device='cuda:0', requires_grad=True)\n",
      "Parameter containing:\n",
      "tensor([ 3.6754e-04, -4.8033e-03,  7.8666e-03, -8.8440e-03,  1.2612e-02,\n",
      "         9.5576e-04, -1.1896e-02, -1.3288e-02,  1.5390e-03, -9.8231e-03,\n",
      "        -6.1596e-03,  2.0387e-03, -1.2949e-05, -1.2252e-02,  6.2872e-03,\n",
      "        -3.3498e-03, -8.0546e-03, -8.2545e-04, -2.7665e-03, -6.0597e-05,\n",
      "         1.4199e-03,  8.4562e-03,  5.9174e-03, -4.8221e-03, -6.0342e-03,\n",
      "         1.1879e-02, -3.9218e-03,  5.0142e-03,  2.7333e-03,  2.5668e-03,\n",
      "         1.9304e-03,  6.0224e-03,  4.1240e-03, -5.3473e-03,  2.0667e-03,\n",
      "        -1.6182e-02,  5.2842e-03, -6.9956e-03,  5.7709e-03, -1.8120e-03,\n",
      "        -1.7982e-03, -8.5929e-03, -3.1743e-03,  6.4553e-03, -1.3504e-02,\n",
      "        -9.4614e-03, -2.6126e-03, -4.0848e-03,  1.6283e-02, -3.0122e-03,\n",
      "        -5.9241e-03, -6.8954e-03,  7.3079e-03, -9.6938e-03, -7.2241e-03,\n",
      "        -9.1543e-04, -5.9456e-03, -8.4939e-03, -9.0586e-03, -8.2929e-03,\n",
      "        -8.3352e-03, -1.1089e-02, -4.0769e-03, -4.5975e-03], device='cuda:0',\n",
      "       requires_grad=True)\n",
      "Parameter containing:\n",
      "tensor([[ 0.0452, -0.0124, -0.0322,  ...,  0.0926, -0.0762,  0.0105],\n",
      "        [ 0.0850, -0.0412,  0.1172,  ..., -0.0096, -0.0831, -0.1090],\n",
      "        [-0.1746, -0.0940,  0.0804,  ..., -0.0051, -0.0719, -0.0554],\n",
      "        ...,\n",
      "        [ 0.1195, -0.0044,  0.0020,  ..., -0.1218,  0.0690,  0.0747],\n",
      "        [ 0.0055, -0.0234,  0.0372,  ...,  0.1210,  0.1165,  0.1000],\n",
      "        [ 0.0826,  0.0913,  0.0444,  ...,  0.0963,  0.0016, -0.0818]],\n",
      "       device='cuda:0', requires_grad=True)\n",
      "Parameter containing:\n",
      "tensor([-0.0516, -0.0851,  0.0132,  0.0883, -0.1179,  0.0577, -0.0649,  0.0053,\n",
      "        -0.0009, -0.1130,  0.1128,  0.0116, -0.0735,  0.0393, -0.0430,  0.1017,\n",
      "        -0.0201, -0.1201,  0.1034,  0.0725,  0.0956, -0.0053, -0.0983,  0.0681,\n",
      "         0.0907,  0.0385, -0.0117, -0.0361, -0.1007,  0.0056,  0.0671,  0.1048,\n",
      "        -0.0984, -0.0121,  0.0323, -0.1321,  0.0263,  0.1098, -0.0276,  0.0179,\n",
      "        -0.0957,  0.0198, -0.0609,  0.1018, -0.0269, -0.0608, -0.0683,  0.1032,\n",
      "         0.0004, -0.0320, -0.0152,  0.0569,  0.0365,  0.0692, -0.0034,  0.0686,\n",
      "        -0.0944, -0.0282, -0.0306,  0.0940,  0.0892,  0.0956, -0.0286,  0.1096],\n",
      "       device='cuda:0', requires_grad=True)\n",
      "Parameter containing:\n",
      "tensor([[-0.0732, -0.1294,  0.0145,  ..., -0.1089, -0.0977, -0.0112],\n",
      "        [ 0.0666, -0.0673, -0.0066,  ..., -0.0683,  0.0118, -0.0298],\n",
      "        [ 0.0221, -0.0766, -0.0829,  ...,  0.1093,  0.0525,  0.1115],\n",
      "        ...,\n",
      "        [ 0.0732,  0.0803, -0.0273,  ..., -0.0885,  0.0769,  0.0738],\n",
      "        [-0.0717,  0.0517, -0.0423,  ..., -0.0587,  0.0544, -0.0663],\n",
      "        [ 0.0402,  0.0204, -0.0810,  ...,  0.0109,  0.1046, -0.0187]],\n",
      "       device='cuda:0', requires_grad=True)\n",
      "Parameter containing:\n",
      "tensor([ 0.0325, -0.0624, -0.0979, -0.0720,  0.1162,  0.0675,  0.1165,  0.0781,\n",
      "        -0.0479, -0.1186, -0.1147,  0.0128,  0.0735, -0.0219, -0.0153,  0.1159,\n",
      "        -0.0284, -0.1117,  0.0979, -0.0813,  0.0655,  0.0485, -0.0026,  0.0018,\n",
      "        -0.0995, -0.0699,  0.0606,  0.0177,  0.0664,  0.1010,  0.0237,  0.0703,\n",
      "        -0.1070, -0.0739,  0.0432,  0.0657,  0.0343,  0.0759,  0.1178,  0.0497,\n",
      "        -0.0765,  0.0172, -0.1182, -0.1069,  0.0061,  0.0479, -0.0911, -0.1055,\n",
      "        -0.0424, -0.1069, -0.0121, -0.0073, -0.0288,  0.0041,  0.0856, -0.1124,\n",
      "        -0.0162, -0.0815,  0.0781,  0.0165,  0.1200,  0.0827,  0.1066, -0.0668],\n",
      "       device='cuda:0', requires_grad=True)\n",
      "Parameter containing:\n",
      "tensor([[-0.1440,  0.1225,  0.0174,  ..., -0.0467,  0.1152,  0.1062],\n",
      "        [-0.0785,  0.0911, -0.1165,  ...,  0.0615,  0.0746, -0.0791],\n",
      "        [ 0.0680,  0.0163, -0.0584,  ..., -0.0165, -0.0418, -0.0424],\n",
      "        ...,\n",
      "        [-0.0128, -0.0180, -0.0905,  ...,  0.0253,  0.1220, -0.0401],\n",
      "        [ 0.0240, -0.0609,  0.0769,  ..., -0.0408,  0.0980, -0.0126],\n",
      "        [-0.0707,  0.0172,  0.0141,  ...,  0.0796, -0.1290, -0.0126]],\n",
      "       device='cuda:0', requires_grad=True)\n",
      "Parameter containing:\n",
      "tensor([-0.0585, -0.1073,  0.0225,  0.0332, -0.0988,  0.0464, -0.0249,  0.0597,\n",
      "        -0.0975,  0.0062, -0.0768, -0.0641,  0.1170, -0.0372, -0.0519, -0.0381,\n",
      "         0.1077,  0.0970,  0.0283, -0.0255, -0.0451,  0.0431,  0.0451,  0.0235,\n",
      "         0.0496,  0.0860,  0.0345, -0.1215, -0.0365,  0.0536, -0.0418, -0.1220,\n",
      "         0.0048,  0.0090,  0.1045, -0.1221, -0.0254, -0.0498,  0.1162,  0.0330,\n",
      "        -0.0052, -0.0209, -0.0529, -0.0020,  0.0125, -0.0125,  0.0359,  0.0363,\n",
      "        -0.0051,  0.0134, -0.0371,  0.1075,  0.0700,  0.0498, -0.0736,  0.0531,\n",
      "         0.1212,  0.1068,  0.0924, -0.0143,  0.0749,  0.0015, -0.0782, -0.0791],\n",
      "       device='cuda:0', requires_grad=True)\n",
      "Parameter containing:\n",
      "tensor([[ 0.1055,  0.0735, -0.0088,  ...,  0.0092,  0.0363,  0.0830],\n",
      "        [ 0.0648,  0.1288, -0.0804,  ..., -0.0370,  0.0884, -0.0199],\n",
      "        [-0.0650,  0.1175,  0.0175,  ...,  0.1184,  0.0426,  0.0136],\n",
      "        ...,\n",
      "        [-0.0792,  0.0671,  0.0803,  ...,  0.0676, -0.0844,  0.0334],\n",
      "        [ 0.0607,  0.0177, -0.1015,  ..., -0.0075,  0.0013, -0.0838],\n",
      "        [-0.0207, -0.0666,  0.0266,  ..., -0.0532,  0.0056,  0.1113]],\n",
      "       device='cuda:0', requires_grad=True)\n",
      "Parameter containing:\n",
      "tensor([-0.0966,  0.1208,  0.0007, -0.0591, -0.0986,  0.0316,  0.0638,  0.0005,\n",
      "         0.0703, -0.0835, -0.0901, -0.1249, -0.1156, -0.0331, -0.0135,  0.0711,\n",
      "        -0.1175, -0.0362, -0.0935, -0.0527,  0.0491, -0.0227, -0.1165,  0.0912,\n",
      "         0.0414, -0.0549,  0.0221, -0.1117,  0.0225,  0.1005,  0.0711, -0.0255,\n",
      "         0.0646, -0.0109,  0.0971,  0.0868,  0.0703,  0.0483, -0.0187, -0.0085,\n",
      "        -0.1143,  0.0819, -0.1193, -0.1227, -0.0713, -0.0132, -0.0079,  0.0987,\n",
      "        -0.0296, -0.0403,  0.1103, -0.1005, -0.1128, -0.0338,  0.0255,  0.0595,\n",
      "         0.1161, -0.1152, -0.0509,  0.0464,  0.1139,  0.0374, -0.1092, -0.0230],\n",
      "       device='cuda:0', requires_grad=True)\n",
      "Parameter containing:\n",
      "tensor([1.0234, 1.0050, 1.0028, 1.0027, 1.0141, 1.0044, 0.9905, 0.9977, 1.0055,\n",
      "        0.9980, 1.0054, 0.9988, 1.0003, 1.0049, 1.0029, 0.9925, 1.0001, 0.9985,\n",
      "        1.0032, 1.0094, 1.0020, 1.0097, 0.9931, 1.0070, 1.0016, 0.9986, 1.0011,\n",
      "        0.9929, 1.0042, 0.9967, 1.0021, 1.0067, 0.9974, 0.9941, 0.9988, 1.0019,\n",
      "        0.9864, 0.9809, 1.0022, 1.0058, 0.9943, 1.0005, 0.9976, 1.0067, 1.0084,\n",
      "        0.9992, 0.9949, 0.9920, 0.9971, 1.0074, 0.9937, 0.9887, 0.9971, 1.0051,\n",
      "        0.9981, 0.9974, 1.0066, 1.0092, 0.9923, 1.0014, 0.9971, 0.9888, 0.9954,\n",
      "        0.9987], device='cuda:0', requires_grad=True)\n",
      "Parameter containing:\n",
      "tensor([ 0.0103,  0.0017,  0.0100, -0.0061, -0.0055,  0.0026, -0.0053,  0.0064,\n",
      "        -0.0001, -0.0053, -0.0046, -0.0109, -0.0020,  0.0021, -0.0130, -0.0012,\n",
      "        -0.0045,  0.0099,  0.0061,  0.0022,  0.0101, -0.0043, -0.0049,  0.0083,\n",
      "         0.0036,  0.0115, -0.0071,  0.0068,  0.0061, -0.0105,  0.0070,  0.0058,\n",
      "        -0.0065,  0.0079, -0.0149, -0.0154,  0.0055, -0.0033, -0.0015,  0.0059,\n",
      "        -0.0044, -0.0023,  0.0010, -0.0047,  0.0051,  0.0020,  0.0162,  0.0017,\n",
      "        -0.0078,  0.0039, -0.0005,  0.0092, -0.0074, -0.0010, -0.0082, -0.0032,\n",
      "         0.0032, -0.0018, -0.0011, -0.0090,  0.0029,  0.0045,  0.0003,  0.0059],\n",
      "       device='cuda:0', requires_grad=True)\n",
      "Parameter containing:\n",
      "tensor([1.0226, 1.0071, 1.0093, 1.0001, 1.0026, 1.0050, 1.0019, 0.9983, 1.0041,\n",
      "        0.9938, 1.0123, 1.0000, 0.9985, 1.0019, 0.9967, 0.9972, 1.0079, 1.0003,\n",
      "        0.9998, 0.9964, 1.0242, 1.0132, 1.0119, 1.0064, 0.9952, 0.9990, 1.0059,\n",
      "        0.9851, 0.9971, 0.9982, 1.0039, 1.0282, 0.9964, 0.9998, 0.9928, 1.0057,\n",
      "        0.9941, 0.9918, 1.0029, 1.0041, 0.9968, 0.9948, 1.0019, 1.0109, 1.0090,\n",
      "        0.9908, 0.9828, 0.9967, 1.0051, 0.9956, 0.9945, 1.0059, 0.9981, 1.0076,\n",
      "        1.0005, 0.9945, 0.9913, 1.0058, 0.9977, 0.9920, 1.0031, 0.9996, 1.0017,\n",
      "        0.9963], device='cuda:0', requires_grad=True)\n",
      "Parameter containing:\n",
      "tensor([ 1.1962e-02,  1.0419e-03,  1.4027e-02, -4.1502e-03, -1.1786e-02,\n",
      "         3.8274e-03,  1.5929e-03,  8.5997e-03,  1.8054e-03, -2.2300e-03,\n",
      "        -8.9568e-03, -1.4826e-02, -9.4600e-03, -7.7905e-04, -1.3029e-02,\n",
      "        -3.8082e-03, -8.7817e-03,  1.0624e-02,  9.6160e-03,  2.4708e-03,\n",
      "         1.2345e-02, -4.8634e-03,  4.2990e-03,  1.1185e-02,  9.8183e-03,\n",
      "         1.3277e-02, -1.1689e-02,  5.8382e-03,  5.6559e-03, -1.0049e-03,\n",
      "         3.5261e-03,  4.6071e-03, -7.3619e-03,  7.8997e-03, -1.2362e-02,\n",
      "        -1.1664e-02,  1.5517e-02, -2.6917e-03, -2.2857e-03,  4.7314e-03,\n",
      "        -5.2744e-03,  1.4936e-03,  7.7069e-04, -6.2742e-03,  5.1103e-03,\n",
      "         1.8689e-03,  1.0718e-02,  6.3354e-03, -1.1778e-02,  2.3258e-04,\n",
      "         1.4659e-03,  1.1301e-02, -1.1936e-03,  2.9869e-03, -4.5388e-04,\n",
      "         2.4311e-03, -8.2178e-05,  3.2825e-03,  1.2054e-03, -4.7212e-03,\n",
      "         1.3254e-03,  4.0821e-03,  6.8981e-04,  6.3885e-03], device='cuda:0',\n",
      "       requires_grad=True)\n",
      "Parameter containing:\n",
      "tensor([[ 0.0940,  0.0367,  0.0629,  ...,  0.0868,  0.0733,  0.0776],\n",
      "        [-0.0751, -0.1360, -0.1227,  ..., -0.0294,  0.1077, -0.0391],\n",
      "        [ 0.2559, -0.0346,  0.0293,  ...,  0.0575,  0.0518,  0.0879],\n",
      "        ...,\n",
      "        [-0.0933,  0.0817,  0.0261,  ...,  0.0931,  0.0589,  0.1271],\n",
      "        [-0.1110,  0.1157,  0.0824,  ...,  0.1431, -0.0650, -0.0755],\n",
      "        [-0.0951, -0.0278,  0.0319,  ...,  0.0501,  0.1048,  0.0844]],\n",
      "       device='cuda:0', requires_grad=True)\n",
      "Parameter containing:\n",
      "tensor([-0.0947, -0.0983,  0.0645,  0.0267,  0.0887, -0.0138,  0.0340, -0.0517,\n",
      "         0.1121, -0.0087, -0.0755,  0.0042, -0.0999,  0.0217,  0.0960, -0.0316,\n",
      "         0.0237, -0.0719,  0.1100,  0.0056,  0.1062, -0.0648,  0.0053, -0.0979,\n",
      "         0.0296, -0.0695,  0.0722, -0.0104,  0.0808,  0.0974, -0.0065,  0.0922,\n",
      "        -0.1070,  0.0972,  0.0971, -0.0643, -0.0737, -0.0265, -0.1229, -0.0694,\n",
      "         0.0681, -0.0168,  0.0981, -0.0449,  0.1044,  0.0602,  0.0916,  0.0950,\n",
      "         0.1051,  0.1256, -0.0003, -0.0289, -0.1086,  0.0163,  0.0948,  0.0668,\n",
      "         0.0377, -0.0224,  0.0995, -0.0238,  0.1308,  0.0876,  0.1111,  0.0301],\n",
      "       device='cuda:0', requires_grad=True)\n",
      "Parameter containing:\n",
      "tensor([[ 0.0530,  0.0640, -0.1046,  ...,  0.1022,  0.0586,  0.0940],\n",
      "        [-0.1005,  0.0026, -0.0925,  ...,  0.0630, -0.0446,  0.0689],\n",
      "        [-0.0198, -0.0058, -0.0907,  ...,  0.0132, -0.1202, -0.0309],\n",
      "        ...,\n",
      "        [-0.0604, -0.0954, -0.1036,  ..., -0.1087, -0.0237,  0.1260],\n",
      "        [-0.1241,  0.1001, -0.1116,  ...,  0.1237,  0.0638, -0.0266],\n",
      "        [ 0.1017,  0.0761, -0.0463,  ..., -0.0167,  0.0517,  0.0832]],\n",
      "       device='cuda:0', requires_grad=True)\n",
      "Parameter containing:\n",
      "tensor([ 0.0045,  0.1013, -0.0523, -0.0057, -0.0689, -0.0902,  0.0366,  0.0094,\n",
      "        -0.0702,  0.0187,  0.0416, -0.0640, -0.0193,  0.0701,  0.0070, -0.0460,\n",
      "        -0.1049,  0.1056, -0.0724,  0.0484,  0.0154,  0.0279,  0.1121, -0.0339,\n",
      "         0.1181,  0.1187, -0.0922,  0.0157, -0.1234, -0.1110,  0.0987,  0.0424,\n",
      "         0.0585,  0.0926, -0.1018,  0.0999, -0.0592, -0.0178,  0.0662,  0.0104,\n",
      "        -0.0797, -0.0298,  0.0420, -0.0437, -0.0634,  0.0188, -0.0152, -0.0365,\n",
      "         0.0040,  0.0693, -0.1241,  0.0040,  0.0781,  0.1269, -0.0383, -0.1168,\n",
      "         0.1105,  0.0915,  0.0298, -0.1160,  0.0534, -0.1211,  0.1129, -0.0936],\n",
      "       device='cuda:0', requires_grad=True)\n",
      "Parameter containing:\n",
      "tensor([[ 0.1346,  0.0748,  0.0304,  ...,  0.0885,  0.1056, -0.1070],\n",
      "        [ 0.0647, -0.0236,  0.0490,  ..., -0.0926,  0.0289,  0.0877],\n",
      "        [ 0.0429, -0.0045, -0.0850,  ...,  0.0952,  0.1410, -0.1315],\n",
      "        ...,\n",
      "        [ 0.0149, -0.0595, -0.0379,  ...,  0.0639,  0.0755,  0.1294],\n",
      "        [ 0.1272,  0.0710, -0.0462,  ..., -0.0125,  0.1200,  0.0510],\n",
      "        [ 0.0905, -0.0132, -0.0009,  ...,  0.0806, -0.1522,  0.0864]],\n",
      "       device='cuda:0', requires_grad=True)\n",
      "Parameter containing:\n",
      "tensor([ 0.0823,  0.0655,  0.0721,  0.0560,  0.0150, -0.0632,  0.0981, -0.0010,\n",
      "         0.0152,  0.0909,  0.0232, -0.0792, -0.0084, -0.0185, -0.0948,  0.0370,\n",
      "         0.0778,  0.0564, -0.1139, -0.0997, -0.0640, -0.0212, -0.1211,  0.0470,\n",
      "        -0.0358,  0.0007, -0.0091, -0.0290, -0.1224,  0.0384,  0.0069, -0.0817,\n",
      "         0.0773,  0.1028, -0.0140, -0.0306,  0.0521, -0.0352,  0.0071,  0.0427,\n",
      "        -0.1044, -0.0063,  0.0025,  0.0820,  0.0934,  0.1145,  0.0362, -0.0415,\n",
      "        -0.0473,  0.0049, -0.0827,  0.0002, -0.0402, -0.0287, -0.0885,  0.0308,\n",
      "         0.0483, -0.0747, -0.0963, -0.1120,  0.1240,  0.0586, -0.0940,  0.0556],\n",
      "       device='cuda:0', requires_grad=True)\n",
      "Parameter containing:\n",
      "tensor([[ 0.0766,  0.0351,  0.0152,  ..., -0.0166,  0.0092,  0.0644],\n",
      "        [-0.0956, -0.0231,  0.0891,  ...,  0.0666, -0.0167,  0.0096],\n",
      "        [-0.1273, -0.0482, -0.0899,  ...,  0.0908, -0.0599,  0.0294],\n",
      "        ...,\n",
      "        [-0.0152,  0.0643,  0.0849,  ..., -0.0989,  0.0207,  0.1051],\n",
      "        [-0.0016, -0.0021,  0.1061,  ...,  0.0823, -0.0415, -0.0638],\n",
      "        [-0.0141, -0.0704, -0.1032,  ..., -0.0554,  0.0898, -0.0795]],\n",
      "       device='cuda:0', requires_grad=True)\n",
      "Parameter containing:\n",
      "tensor([-0.0102, -0.0340, -0.0184,  0.0426, -0.0919, -0.0663, -0.0630,  0.0816,\n",
      "        -0.1085, -0.0226, -0.0070, -0.1157,  0.0085,  0.0959, -0.0330,  0.0815,\n",
      "         0.1191,  0.0272,  0.0551, -0.0278,  0.0083, -0.0016, -0.0643, -0.0477,\n",
      "        -0.1232, -0.0962, -0.0654,  0.0057,  0.1158,  0.0306, -0.0990,  0.0883,\n",
      "         0.0716, -0.0419, -0.0147, -0.1060, -0.0431, -0.1052, -0.1196, -0.0727,\n",
      "        -0.0224, -0.0116, -0.1106,  0.0632, -0.0362, -0.0302, -0.0271,  0.0894,\n",
      "        -0.0419,  0.0378, -0.0823,  0.1249, -0.1123, -0.0799,  0.1158, -0.0061,\n",
      "        -0.0423,  0.0002,  0.0682, -0.0834,  0.1030, -0.0725, -0.0870, -0.0571],\n",
      "       device='cuda:0', requires_grad=True)\n",
      "Parameter containing:\n",
      "tensor([0.9953, 1.0036, 1.0126, 0.9908, 1.0032, 0.9982, 0.9890, 1.0034, 0.9950,\n",
      "        0.9808, 0.9914, 0.9900, 0.9994, 1.0160, 1.0129, 0.9927, 0.9952, 0.9832,\n",
      "        0.9910, 0.9985, 1.0067, 1.0157, 1.0078, 1.0081, 1.0022, 1.0024, 0.9869,\n",
      "        1.0263, 1.0028, 0.9991, 0.9976, 1.0027, 1.0099, 0.9969, 1.0186, 1.0048,\n",
      "        0.9939, 1.0027, 1.0050, 1.0172, 1.0134, 1.0011, 1.0062, 1.0082, 1.0064,\n",
      "        0.9821, 0.9970, 0.9827, 0.9994, 0.9909, 1.0126, 1.0038, 0.9872, 1.0052,\n",
      "        1.0065, 0.9961, 1.0339, 0.9879, 1.0181, 0.9977, 0.9868, 1.0082, 0.9948,\n",
      "        1.0005], device='cuda:0', requires_grad=True)\n",
      "Parameter containing:\n",
      "tensor([ 0.0145,  0.0044, -0.0156, -0.0107, -0.0120,  0.0156,  0.0176,  0.0020,\n",
      "        -0.0171, -0.0043, -0.0098, -0.0095,  0.0024,  0.0162,  0.0202, -0.0059,\n",
      "         0.0006, -0.0088, -0.0184, -0.0100, -0.0055, -0.0118, -0.0088, -0.0037,\n",
      "        -0.0018,  0.0068, -0.0095, -0.0109, -0.0114,  0.0042,  0.0062, -0.0008,\n",
      "         0.0006,  0.0034,  0.0025,  0.0149, -0.0084,  0.0105, -0.0076,  0.0234,\n",
      "        -0.0025,  0.0016, -0.0102,  0.0149,  0.0240, -0.0088,  0.0094,  0.0076,\n",
      "        -0.0066, -0.0168, -0.0107,  0.0055, -0.0103,  0.0092,  0.0052, -0.0107,\n",
      "        -0.0073, -0.0170,  0.0255, -0.0113,  0.0160, -0.0072,  0.0192, -0.0013],\n",
      "       device='cuda:0', requires_grad=True)\n",
      "Parameter containing:\n",
      "tensor([0.9823, 1.0042, 1.0012, 0.9884, 1.0033, 0.9985, 0.9874, 0.9809, 1.0005,\n",
      "        0.9717, 1.0063, 1.0405, 1.0022, 1.0326, 1.0314, 0.9997, 0.9847, 0.9884,\n",
      "        1.0037, 0.9909, 1.0116, 1.0057, 0.9952, 1.0182, 1.0072, 1.0001, 0.9861,\n",
      "        1.0593, 1.0132, 0.9908, 0.9950, 1.0126, 1.0019, 0.9991, 0.9905, 1.0029,\n",
      "        0.9967, 1.0301, 0.9961, 1.0064, 1.0303, 1.0014, 1.0015, 0.9902, 1.0104,\n",
      "        0.9787, 0.9806, 0.9933, 0.9871, 0.9993, 0.9795, 0.9801, 1.0200, 0.9967,\n",
      "        1.0388, 0.9923, 1.0433, 0.9880, 1.0107, 0.9951, 0.9897, 1.0065, 0.9934,\n",
      "        1.0015], device='cuda:0', requires_grad=True)\n",
      "Parameter containing:\n",
      "tensor([ 0.0124, -0.0060, -0.0261,  0.0024, -0.0106,  0.0145,  0.0194,  0.0004,\n",
      "        -0.0200, -0.0006, -0.0174, -0.0055,  0.0031,  0.0230,  0.0235, -0.0101,\n",
      "        -0.0117, -0.0089, -0.0205, -0.0100, -0.0076, -0.0070, -0.0147, -0.0025,\n",
      "        -0.0073,  0.0055, -0.0138, -0.0078, -0.0289,  0.0045,  0.0105, -0.0035,\n",
      "         0.0100, -0.0061,  0.0022,  0.0249, -0.0144,  0.0148, -0.0082,  0.0275,\n",
      "        -0.0055,  0.0011, -0.0217,  0.0184,  0.0229, -0.0077,  0.0031,  0.0006,\n",
      "        -0.0061, -0.0396, -0.0056, -0.0060, -0.0076,  0.0192,  0.0017, -0.0197,\n",
      "        -0.0077, -0.0262,  0.0248, -0.0183,  0.0150, -0.0118,  0.0297,  0.0005],\n",
      "       device='cuda:0', requires_grad=True)\n",
      "Parameter containing:\n",
      "tensor([[-0.0641,  0.0769,  0.0651,  ...,  0.0461,  0.0699,  0.0081],\n",
      "        [ 0.1217, -0.1084, -0.1268,  ..., -0.1139, -0.0527, -0.0114],\n",
      "        [ 0.0922, -0.0976, -0.1143,  ..., -0.0293, -0.0932, -0.0517],\n",
      "        ...,\n",
      "        [-0.0248,  0.0158,  0.0268,  ...,  0.0455, -0.0147, -0.0135],\n",
      "        [ 0.0969,  0.0751, -0.0499,  ...,  0.0240,  0.0713,  0.0050],\n",
      "        [-0.0535,  0.0627,  0.0463,  ..., -0.0730,  0.0304,  0.0448]],\n",
      "       device='cuda:0', requires_grad=True)\n",
      "Parameter containing:\n",
      "tensor([-0.0333, -0.0212,  0.0255, -0.0203, -0.1326,  0.0576, -0.0376, -0.0753,\n",
      "         0.0686,  0.1131,  0.0849,  0.0424, -0.1164, -0.0995,  0.0101,  0.0989,\n",
      "         0.0546,  0.0582,  0.1122,  0.0306,  0.0620, -0.1045, -0.1017,  0.0536,\n",
      "        -0.0272, -0.0498,  0.0454, -0.1050, -0.1387,  0.1006,  0.0590,  0.0931,\n",
      "         0.1033,  0.0810,  0.0344, -0.0783, -0.0355, -0.1143,  0.0934, -0.0678,\n",
      "         0.0506, -0.0156, -0.1019, -0.0277,  0.0434, -0.0658, -0.1149, -0.0420,\n",
      "        -0.0405, -0.1403,  0.0977, -0.0642, -0.0352,  0.0260,  0.1262,  0.0309,\n",
      "         0.0454,  0.0363, -0.1011, -0.1045,  0.0395,  0.0383,  0.0191, -0.0602],\n",
      "       device='cuda:0', requires_grad=True)\n",
      "Parameter containing:\n",
      "tensor([[ 0.0026,  0.0986,  0.0744,  ..., -0.0612, -0.0178, -0.0410],\n",
      "        [ 0.1016, -0.0421, -0.0677,  ..., -0.1506, -0.0934, -0.0335],\n",
      "        [ 0.0708,  0.0701, -0.1180,  ..., -0.0321, -0.0480, -0.1010],\n",
      "        ...,\n",
      "        [ 0.0483, -0.1083,  0.0885,  ...,  0.0506, -0.1317, -0.0161],\n",
      "        [-0.0298,  0.0802,  0.0536,  ...,  0.1070, -0.0221,  0.0161],\n",
      "        [-0.0326, -0.0266,  0.1191,  ...,  0.0875, -0.1374,  0.0949]],\n",
      "       device='cuda:0', requires_grad=True)\n",
      "Parameter containing:\n",
      "tensor([ 0.0643,  0.0324, -0.0130, -0.0213, -0.0039, -0.1494, -0.0854,  0.0010,\n",
      "        -0.0189,  0.0722, -0.0967,  0.0172, -0.1025, -0.0400,  0.1101, -0.0320,\n",
      "         0.0939,  0.0605, -0.0254,  0.0541,  0.1016, -0.0473, -0.0337,  0.0529,\n",
      "         0.0831, -0.0131,  0.1190, -0.0522, -0.0086, -0.0748, -0.0187,  0.1229,\n",
      "         0.0383,  0.1087, -0.0170, -0.0339,  0.0978, -0.0016, -0.0534,  0.0269,\n",
      "        -0.0086,  0.0445,  0.0915, -0.0015, -0.0938,  0.0953, -0.0533, -0.0958,\n",
      "         0.0613,  0.1205,  0.0495,  0.0030, -0.0307,  0.0620,  0.0750,  0.0269,\n",
      "         0.0955,  0.0256,  0.1125, -0.0144, -0.0988, -0.0307, -0.0428,  0.0750],\n",
      "       device='cuda:0', requires_grad=True)\n",
      "Parameter containing:\n",
      "tensor([[[-1.5568e-02, -2.1781e-02,  9.9245e-02,  2.7708e-02, -9.1652e-02,\n",
      "           4.6030e-02,  4.1407e-03,  1.1214e-01, -9.7147e-02,  9.5426e-02,\n",
      "           8.6627e-03, -7.1114e-03, -7.7401e-02,  1.0660e-01,  1.0897e-01,\n",
      "           5.2580e-02, -1.0776e-01,  3.4378e-02, -6.9305e-02, -7.0147e-02,\n",
      "           4.9792e-02, -5.5370e-02,  2.1469e-02, -8.8652e-02,  4.7541e-02,\n",
      "           4.1843e-02,  4.8822e-02, -6.3655e-02, -1.5375e-02,  2.0038e-02,\n",
      "          -7.5980e-03,  6.2230e-02,  4.4065e-02,  3.8490e-02,  1.3554e-02,\n",
      "          -8.7978e-02, -1.0064e-01,  1.1416e-01, -8.2895e-02,  4.1398e-02,\n",
      "           1.1357e-01, -1.8031e-02, -8.0612e-02, -5.6670e-02, -6.9455e-02,\n",
      "           7.6466e-02,  7.2652e-02,  9.9903e-02,  1.0617e-01,  3.8873e-03,\n",
      "           7.4129e-02,  9.0523e-02,  9.1699e-02, -6.9249e-02, -9.9991e-02,\n",
      "          -8.7729e-02, -5.5200e-02,  1.9108e-02, -5.9710e-02,  7.7857e-03,\n",
      "           4.5467e-02, -3.9030e-02, -3.3841e-02,  5.7102e-02],\n",
      "         [ 4.3337e-02,  2.7727e-02,  8.2880e-02, -4.5110e-02,  2.8198e-02,\n",
      "           6.3459e-02,  7.1276e-02, -1.1164e-01,  4.0549e-02,  2.3023e-02,\n",
      "           9.2300e-02, -1.0038e-01,  3.5683e-02, -7.6301e-03,  1.6992e-02,\n",
      "           7.9832e-02,  2.7731e-02, -1.3740e-02,  4.8454e-02,  1.1284e-01,\n",
      "           5.8515e-03, -7.7797e-02, -4.6275e-02, -9.1478e-02, -6.6981e-02,\n",
      "           1.8428e-03,  1.5522e-02,  8.4958e-02,  8.0730e-02,  2.3540e-02,\n",
      "          -4.0894e-02, -1.0844e-01, -4.7025e-02,  9.5446e-02, -2.5575e-03,\n",
      "          -3.0225e-03, -5.6961e-02,  1.0123e-01, -2.0664e-02,  1.0713e-01,\n",
      "           6.9056e-02,  4.0214e-02, -1.1664e-01, -4.7938e-02,  1.4403e-02,\n",
      "           2.2589e-02, -8.6889e-03, -1.1410e-02, -4.9257e-03, -1.0743e-01,\n",
      "           9.9162e-02,  5.2469e-02,  7.1150e-02,  2.2971e-02,  1.3671e-02,\n",
      "           1.0535e-01,  1.1346e-01, -1.0587e-01, -5.7549e-02, -1.0729e-01,\n",
      "          -6.4579e-02,  2.5940e-02, -1.2330e-01,  2.8242e-02],\n",
      "         [ 1.1734e-01, -7.9469e-02,  1.0199e-01,  1.7882e-02, -4.9697e-03,\n",
      "          -1.1035e-02,  9.9583e-02,  3.9269e-03, -5.1148e-02, -2.3649e-02,\n",
      "          -1.7718e-02,  8.9567e-02, -8.6116e-02,  1.1177e-02, -6.5460e-03,\n",
      "          -1.1999e-01, -3.9566e-02, -6.6819e-03,  9.6458e-02,  1.1144e-01,\n",
      "          -5.6047e-02, -9.8437e-02,  3.2019e-02, -2.1552e-02, -1.9443e-02,\n",
      "           1.2088e-01, -9.2053e-02, -5.9812e-02, -4.2394e-02,  8.0930e-02,\n",
      "           6.4483e-02, -9.3720e-03, -3.8975e-02,  1.8846e-02,  1.1972e-01,\n",
      "           1.0965e-01,  8.0134e-02,  8.1756e-02,  8.1628e-02, -3.3396e-02,\n",
      "          -4.2926e-02,  5.0476e-02,  9.3683e-02, -6.9853e-02, -3.9553e-02,\n",
      "           2.7242e-02,  1.1399e-01,  1.1180e-01, -7.7821e-03,  1.3818e-02,\n",
      "          -2.5255e-02,  4.3806e-02, -6.0083e-02,  6.9776e-03, -4.7191e-03,\n",
      "           4.2118e-02, -3.8461e-02,  2.2385e-02,  4.3765e-02, -2.5350e-02,\n",
      "          -3.6445e-02, -1.0389e-01,  3.1070e-02,  1.8097e-03],\n",
      "         [-8.6718e-02, -5.6686e-02, -5.4538e-02,  6.7021e-02,  6.8946e-02,\n",
      "          -6.8754e-03, -3.5717e-02,  4.8382e-02, -5.4560e-02, -1.0404e-01,\n",
      "           1.0201e-01, -9.8038e-02, -5.8447e-02, -4.1012e-02, -2.3037e-02,\n",
      "          -8.7018e-02,  5.6777e-03,  1.1676e-01,  1.2899e-02,  1.3740e-02,\n",
      "          -1.3007e-02,  8.8601e-02, -6.9512e-02,  1.8201e-02, -1.3475e-02,\n",
      "          -8.4066e-02,  1.1413e-01, -9.8530e-02, -7.6454e-02,  1.0332e-01,\n",
      "           8.1498e-02,  7.5027e-02,  1.0698e-01,  8.9728e-02, -9.9587e-02,\n",
      "           1.4012e-02, -1.1806e-02,  1.1545e-02, -1.0356e-01, -1.1416e-01,\n",
      "          -2.9912e-02, -4.7538e-03, -4.0283e-02,  3.4344e-02, -9.3190e-02,\n",
      "           2.7264e-02, -2.1806e-02, -9.7290e-02,  3.3797e-06, -1.0323e-01,\n",
      "          -2.5265e-02, -7.8177e-02, -7.4886e-03, -6.3308e-03, -2.6316e-02,\n",
      "           7.8951e-02, -8.9752e-02, -3.7453e-02, -7.9553e-02, -5.1262e-02,\n",
      "          -6.4424e-02,  7.7098e-02, -4.5655e-02,  8.8224e-02],\n",
      "         [ 7.6232e-02,  4.0253e-02,  1.0593e-01,  9.4779e-02, -4.2644e-02,\n",
      "          -1.1891e-01, -9.0949e-02, -1.9834e-02, -5.8664e-04,  9.9568e-02,\n",
      "           1.4013e-02,  2.2669e-02, -4.8993e-02,  1.9412e-02,  7.3070e-02,\n",
      "          -8.9028e-02,  1.0667e-01, -6.8509e-02, -6.6123e-02, -9.7809e-02,\n",
      "          -1.1324e-02, -4.9020e-02, -9.2956e-02, -8.3574e-02, -3.1662e-02,\n",
      "           1.7852e-02, -5.9534e-02, -2.6054e-02, -1.1272e-01, -7.9341e-02,\n",
      "           9.0218e-02,  1.0668e-01,  1.1169e-01,  1.1290e-01,  1.0541e-01,\n",
      "           3.6002e-02,  7.5721e-02, -2.3748e-02,  9.7776e-02,  1.0888e-01,\n",
      "           8.9008e-02,  7.7503e-02,  1.0092e-01, -1.1510e-01, -6.4349e-02,\n",
      "          -1.7171e-02, -6.1987e-02,  9.1602e-02, -7.1818e-02, -9.9629e-02,\n",
      "           1.1239e-01,  1.0728e-01, -2.9666e-02, -1.0362e-01, -3.1666e-02,\n",
      "           6.6492e-03, -6.3770e-02, -8.5740e-02,  7.8769e-02,  8.3934e-04,\n",
      "           1.1120e-01,  5.9264e-02,  1.2610e-02, -1.0309e-01],\n",
      "         [ 6.2866e-02,  5.6897e-03, -9.1098e-02, -5.2701e-02,  4.5604e-02,\n",
      "          -3.8001e-02, -2.2283e-03,  4.1818e-02,  6.8673e-02,  9.1636e-02,\n",
      "          -6.3399e-02, -8.5476e-02, -5.1505e-02, -4.9352e-02,  2.0825e-02,\n",
      "           3.5482e-02,  3.1933e-03,  8.3998e-02,  4.5125e-02, -6.9629e-02,\n",
      "           1.0888e-01,  1.0491e-01,  7.4042e-02, -8.3955e-02,  9.9832e-02,\n",
      "           1.0047e-01,  1.2324e-01,  1.0021e-01, -4.2091e-02, -1.0238e-01,\n",
      "          -6.4192e-02,  2.9019e-02, -1.0335e-01, -3.4079e-02, -9.5976e-02,\n",
      "           5.1639e-02, -5.7750e-02,  8.1478e-03,  3.7085e-03,  1.0188e-01,\n",
      "          -9.4837e-02, -7.7365e-02, -6.9862e-02,  1.0251e-01, -7.8154e-02,\n",
      "           8.7943e-03,  1.0823e-01, -5.7224e-02,  6.8592e-02,  4.3349e-02,\n",
      "          -8.5339e-02,  1.1107e-01,  5.1772e-02, -5.2435e-02,  1.9093e-02,\n",
      "          -1.8593e-02, -1.0035e-01, -1.5427e-02, -7.3236e-02, -6.9997e-02,\n",
      "           1.1428e-01, -1.5599e-02, -1.1088e-01, -1.9654e-02]]],\n",
      "       device='cuda:0', requires_grad=True)\n",
      "Parameter containing:\n",
      "tensor([[-0.0231, -0.1060,  0.0458,  ...,  0.1261, -0.1115,  0.0191],\n",
      "        [-0.0165, -0.0084, -0.1199,  ...,  0.0992,  0.0657,  0.0585],\n",
      "        [ 0.0524, -0.1033,  0.0260,  ..., -0.0235,  0.0466,  0.0809],\n",
      "        ...,\n",
      "        [-0.0444, -0.0061, -0.0117,  ..., -0.0689,  0.1072, -0.0421],\n",
      "        [ 0.0691, -0.0783,  0.0286,  ..., -0.0552, -0.0283,  0.0982],\n",
      "        [-0.0632, -0.0200, -0.0918,  ..., -0.0548, -0.0377, -0.0273]],\n",
      "       device='cuda:0', requires_grad=True)\n",
      "Parameter containing:\n",
      "tensor([-0.0300, -0.0171, -0.1249, -0.0493, -0.0945,  0.0024, -0.0382, -0.1252,\n",
      "        -0.0793,  0.0252,  0.0872, -0.1200,  0.0244,  0.0393, -0.0489,  0.0238,\n",
      "        -0.0412, -0.0345,  0.1080, -0.0072, -0.1143, -0.1177,  0.1086, -0.0077,\n",
      "        -0.0662, -0.0361,  0.0831,  0.1011,  0.0471, -0.1105,  0.0197,  0.0839,\n",
      "         0.0264,  0.0616, -0.0180,  0.0132, -0.0881,  0.0224,  0.0105, -0.0512,\n",
      "         0.0402,  0.0664,  0.0826, -0.0837,  0.0446,  0.0696,  0.0696, -0.0995,\n",
      "         0.0605,  0.0216, -0.0959, -0.1020, -0.0225,  0.0881,  0.0330,  0.0880,\n",
      "         0.0472, -0.0803,  0.0203,  0.1174,  0.0851, -0.0761,  0.0572, -0.1002],\n",
      "       device='cuda:0', requires_grad=True)\n",
      "Parameter containing:\n",
      "tensor([[ 0.1256, -0.0902, -0.1137,  ..., -0.1248, -0.0203,  0.0134],\n",
      "        [ 0.0392, -0.1209,  0.0436,  ..., -0.0013, -0.0485,  0.1388],\n",
      "        [ 0.1296, -0.1809,  0.0865,  ..., -0.1226, -0.0160, -0.1520],\n",
      "        ...,\n",
      "        [-0.1407, -0.0016, -0.0636,  ...,  0.0340, -0.1265, -0.0701],\n",
      "        [ 0.1335, -0.0204, -0.1303,  ...,  0.0468, -0.1666, -0.0155],\n",
      "        [ 0.0408, -0.1223, -0.0951,  ...,  0.0616,  0.0665,  0.0736]],\n",
      "       device='cuda:0', requires_grad=True)\n",
      "Parameter containing:\n",
      "tensor([ 0.0749,  0.1242, -0.0728,  0.1662,  0.1561,  0.1566, -0.0567,  0.1268,\n",
      "        -0.1202,  0.1738, -0.1298,  0.0236, -0.0049,  0.1598, -0.0109, -0.1107,\n",
      "        -0.1477, -0.0683,  0.0496,  0.1139,  0.1617, -0.0648, -0.1090,  0.1658,\n",
      "        -0.0234,  0.0857, -0.0493,  0.1393, -0.0241, -0.0573, -0.1259,  0.0842,\n",
      "         0.1216, -0.1168, -0.0969, -0.1597,  0.1522,  0.0441,  0.0797, -0.1250,\n",
      "        -0.0183, -0.0185,  0.1553, -0.1277,  0.1323, -0.0581,  0.1407, -0.1657,\n",
      "         0.0745,  0.0229, -0.0653,  0.1313, -0.0844, -0.0977,  0.1453,  0.0962,\n",
      "        -0.0808, -0.0869, -0.0927,  0.0335, -0.0674, -0.0902,  0.1698,  0.0528],\n",
      "       device='cuda:0', requires_grad=True)\n",
      "Parameter containing:\n",
      "tensor([[-0.1125, -0.0182, -0.0566,  ...,  0.0453, -0.1417,  0.1403],\n",
      "        [-0.0403, -0.1340,  0.1514,  ...,  0.0917,  0.0102,  0.1116],\n",
      "        [ 0.1345, -0.0186, -0.0471,  ..., -0.0051,  0.0151, -0.0207],\n",
      "        ...,\n",
      "        [ 0.1618,  0.0819, -0.1625,  ...,  0.1276,  0.1165, -0.1727],\n",
      "        [-0.0512, -0.0927, -0.0127,  ..., -0.0264,  0.0989, -0.1226],\n",
      "        [-0.0437, -0.1138,  0.0167,  ...,  0.1408, -0.0227, -0.0962]],\n",
      "       device='cuda:0', requires_grad=True)\n",
      "Parameter containing:\n",
      "tensor([ 0.1821, -0.0699, -0.0811,  0.0453, -0.0526,  0.0199,  0.0463, -0.1397,\n",
      "         0.0020, -0.0887,  0.0554, -0.1007, -0.0454, -0.0129,  0.0446,  0.0485,\n",
      "        -0.1756, -0.0831,  0.0997, -0.1413, -0.0688, -0.0414, -0.1001,  0.0841,\n",
      "         0.0346,  0.0183,  0.0893, -0.1095, -0.0132, -0.0762, -0.0542,  0.0013,\n",
      "        -0.0505, -0.0663,  0.1226, -0.0773,  0.0326, -0.0780,  0.0384, -0.1310,\n",
      "         0.0095,  0.1704,  0.1414, -0.0781,  0.0929, -0.0592,  0.0577, -0.0590,\n",
      "         0.1574, -0.1607, -0.1467, -0.1258, -0.0604, -0.0540, -0.1268,  0.0430,\n",
      "        -0.1113,  0.0408, -0.0249,  0.0772, -0.1560,  0.0113, -0.0174,  0.1333],\n",
      "       device='cuda:0', requires_grad=True)\n",
      "Parameter containing:\n",
      "tensor([1.0051, 1.0041, 1.0025, 0.9695, 0.9996, 1.0099, 1.0025, 1.0065, 0.9854,\n",
      "        0.9983, 0.9991, 0.9962, 0.9962, 0.9973, 1.0195, 1.0037, 1.0119, 0.9905,\n",
      "        1.0000, 0.9988, 0.9979, 1.0023, 0.9907, 0.9997, 0.9998, 0.9933, 0.9982,\n",
      "        0.9993, 0.9969, 1.0002, 1.0089, 1.0197, 0.9983, 1.0263, 1.0028, 0.9989,\n",
      "        0.9955, 0.9997, 0.9939, 0.9916, 1.0000, 0.9880, 0.9998, 0.9986, 1.0064,\n",
      "        0.9997, 0.9967, 1.0032, 0.9994, 0.9751, 1.0023, 1.0073, 1.0028, 0.9999,\n",
      "        0.9928, 0.9967, 1.0021, 1.0051, 0.9982, 1.0050, 1.0098, 1.0013, 0.9923,\n",
      "        1.0065], device='cuda:0', requires_grad=True)\n",
      "Parameter containing:\n",
      "tensor([ 3.6273e-03,  2.4186e-03, -3.6881e-03,  5.1070e-03, -1.8252e-03,\n",
      "        -2.2434e-03,  2.4947e-03, -2.8819e-03, -7.6509e-04, -2.3336e-04,\n",
      "         2.1973e-03,  2.5620e-03, -7.9559e-03,  5.4040e-04, -9.2562e-04,\n",
      "        -1.4124e-03, -1.9111e-03,  5.5287e-03,  1.0090e-03, -3.2344e-03,\n",
      "        -1.5259e-04,  1.0103e-03, -1.0364e-04,  6.6821e-04, -1.1508e-03,\n",
      "        -4.1911e-03, -1.2943e-03, -6.7816e-04,  5.5554e-04, -8.5793e-05,\n",
      "        -3.5784e-03,  1.3362e-03,  3.6115e-03,  1.0615e-03,  2.8503e-03,\n",
      "        -1.3256e-03,  3.3717e-04,  1.1955e-03, -4.0671e-03,  1.8722e-03,\n",
      "         3.5628e-04,  1.1659e-03,  8.4892e-04, -1.2744e-03,  5.0997e-03,\n",
      "         1.7203e-03,  5.8505e-04, -8.7535e-05,  3.4841e-03, -1.1698e-03,\n",
      "        -3.6706e-03,  2.4633e-03, -3.2486e-03, -2.3597e-03, -3.3915e-03,\n",
      "         1.3606e-03, -1.9381e-03,  1.1880e-03,  3.7763e-03,  9.3906e-04,\n",
      "        -2.9208e-03, -3.8616e-03,  4.6536e-03,  2.1652e-03], device='cuda:0',\n",
      "       requires_grad=True)\n",
      "Parameter containing:\n",
      "tensor([1.0044, 1.0095, 1.0034, 0.9963, 0.9976, 1.0030, 0.9997, 1.0091, 0.9952,\n",
      "        0.9986, 0.9908, 0.9979, 1.0055, 1.0007, 1.0217, 1.0021, 1.0143, 0.9961,\n",
      "        0.9992, 0.9998, 1.0019, 0.9998, 0.9938, 0.9992, 0.9996, 0.9893, 1.0011,\n",
      "        1.0020, 0.9974, 1.0001, 0.9995, 1.0297, 0.9971, 0.9974, 0.9991, 0.9931,\n",
      "        0.9935, 0.9991, 0.9976, 0.9935, 1.0036, 0.9990, 0.9999, 0.9988, 1.0052,\n",
      "        0.9997, 0.9964, 1.0031, 0.9808, 0.9849, 1.0030, 1.0010, 1.0020, 0.9990,\n",
      "        0.9990, 0.9960, 1.0006, 0.9947, 1.0052, 0.9984, 1.0022, 0.9994, 0.9978,\n",
      "        1.0086], device='cuda:0', requires_grad=True)\n",
      "Parameter containing:\n",
      "tensor([ 0.0032,  0.0016, -0.0039,  0.0013, -0.0035, -0.0043,  0.0030, -0.0039,\n",
      "        -0.0002, -0.0006,  0.0002,  0.0007, -0.0046, -0.0014, -0.0010, -0.0029,\n",
      "        -0.0042,  0.0045,  0.0010, -0.0033, -0.0004,  0.0020,  0.0002,  0.0009,\n",
      "        -0.0019, -0.0044,  0.0011, -0.0004,  0.0004, -0.0017, -0.0015,  0.0029,\n",
      "         0.0030,  0.0014, -0.0009, -0.0016,  0.0008,  0.0025, -0.0009,  0.0011,\n",
      "         0.0020, -0.0014,  0.0006, -0.0007,  0.0037,  0.0029, -0.0013,  0.0010,\n",
      "        -0.0037, -0.0009, -0.0036,  0.0031, -0.0025, -0.0008, -0.0029,  0.0014,\n",
      "        -0.0014, -0.0012,  0.0021, -0.0019, -0.0019, -0.0028,  0.0031,  0.0013],\n",
      "       device='cuda:0', requires_grad=True)\n",
      "Parameter containing:\n",
      "tensor([[-0.1014, -0.0570, -0.0529,  ..., -0.0375,  0.1069, -0.0042],\n",
      "        [-0.0296, -0.1250,  0.0622,  ...,  0.0833, -0.0658,  0.0176],\n",
      "        [-0.0483,  0.0418,  0.0608,  ..., -0.1229,  0.0797, -0.0517],\n",
      "        ...,\n",
      "        [-0.0485, -0.0173, -0.0154,  ...,  0.0702, -0.0355, -0.0017],\n",
      "        [-0.0634, -0.0634,  0.1060,  ..., -0.0849, -0.0409, -0.0054],\n",
      "        [-0.0567,  0.0157, -0.0650,  ..., -0.0171, -0.1065,  0.0418]],\n",
      "       device='cuda:0', requires_grad=True)\n",
      "Parameter containing:\n",
      "tensor([-0.0552,  0.1148, -0.0046, -0.0498,  0.0018,  0.0043, -0.0168,  0.0079,\n",
      "         0.0580, -0.0598,  0.0700,  0.1208,  0.0105,  0.0417, -0.0142,  0.0228,\n",
      "        -0.1188,  0.1222,  0.0225, -0.0617, -0.0627,  0.0638,  0.1216,  0.0784,\n",
      "         0.0009, -0.0050,  0.0643, -0.0036,  0.0573, -0.0187, -0.0236, -0.0557,\n",
      "         0.0670, -0.0256,  0.0186,  0.0755, -0.1046,  0.1175, -0.0788,  0.0252,\n",
      "         0.0638,  0.0244, -0.1043, -0.0947,  0.0987,  0.0097,  0.0356, -0.0230,\n",
      "        -0.1066, -0.0037,  0.0728,  0.0744, -0.0487, -0.0994, -0.0514, -0.0054,\n",
      "        -0.1088,  0.0320,  0.0931, -0.0520, -0.0968,  0.0632,  0.0969,  0.0100],\n",
      "       device='cuda:0', requires_grad=True)\n",
      "Parameter containing:\n",
      "tensor([[-0.0458,  0.0992, -0.0738,  ..., -0.0084, -0.1277,  0.0393],\n",
      "        [-0.1344,  0.0082, -0.0482,  ...,  0.1217,  0.1086, -0.0135],\n",
      "        [-0.0310,  0.1453, -0.0840,  ...,  0.0064, -0.0840,  0.1531],\n",
      "        ...,\n",
      "        [ 0.1673, -0.1677, -0.0838,  ...,  0.1060, -0.0064,  0.0188],\n",
      "        [-0.0025, -0.0993,  0.0870,  ..., -0.0045, -0.0885, -0.1543],\n",
      "        [ 0.0368,  0.0270, -0.1064,  ..., -0.0721,  0.1221, -0.0185]],\n",
      "       device='cuda:0', requires_grad=True)\n",
      "Parameter containing:\n",
      "tensor([-0.0659,  0.1354,  0.1069, -0.0435,  0.1468,  0.1262, -0.1060,  0.1037,\n",
      "         0.0649, -0.0980,  0.1775, -0.1751,  0.0470,  0.1452,  0.0147, -0.1041,\n",
      "        -0.0289, -0.1272, -0.1584,  0.0018,  0.1250,  0.0326, -0.0201, -0.0112,\n",
      "        -0.0028,  0.1487,  0.0152, -0.1294, -0.1360, -0.0278, -0.1172,  0.0124,\n",
      "        -0.1234, -0.1073,  0.0299,  0.1742,  0.1322, -0.0235, -0.0446,  0.0710,\n",
      "         0.0746,  0.1532,  0.0830,  0.0244,  0.0759, -0.1434,  0.0113,  0.1714,\n",
      "        -0.1363,  0.0634, -0.1050,  0.0865,  0.0987, -0.0691, -0.0454,  0.0968,\n",
      "         0.0877, -0.0433,  0.1136, -0.0760,  0.0931, -0.0682, -0.1184,  0.0524],\n",
      "       device='cuda:0', requires_grad=True)\n",
      "Parameter containing:\n",
      "tensor([[-0.1237, -0.0543, -0.0530,  ..., -0.0064, -0.0490,  0.0389],\n",
      "        [-0.0629, -0.0041,  0.0983,  ..., -0.1037,  0.0706, -0.1249],\n",
      "        [ 0.0915, -0.1132, -0.1082,  ..., -0.0751,  0.0834,  0.0070],\n",
      "        ...,\n",
      "        [ 0.1310, -0.0188, -0.0615,  ...,  0.0858, -0.1123,  0.0002],\n",
      "        [-0.0691,  0.0458, -0.0054,  ...,  0.1075, -0.0255,  0.0518],\n",
      "        [-0.0686,  0.1121,  0.0818,  ..., -0.0637, -0.0963,  0.0182]],\n",
      "       device='cuda:0', requires_grad=True)\n",
      "Parameter containing:\n",
      "tensor([ 0.0909, -0.0457, -0.0695, -0.0404,  0.0937, -0.0951, -0.0293, -0.0506,\n",
      "        -0.0469,  0.1241, -0.1151, -0.0707,  0.0794, -0.0466, -0.0591,  0.0012,\n",
      "        -0.1183,  0.0924,  0.0110,  0.0459,  0.1043,  0.0729, -0.0658,  0.0838,\n",
      "        -0.0153, -0.1108,  0.0484,  0.0384,  0.0550,  0.0194,  0.0560, -0.1191,\n",
      "         0.1219,  0.0472,  0.0382,  0.1002, -0.0859, -0.1110, -0.1152, -0.0255,\n",
      "         0.1004, -0.0886, -0.0254,  0.1195, -0.0233, -0.0934,  0.1027, -0.0210,\n",
      "         0.0191,  0.1218,  0.1216,  0.0506,  0.0855,  0.0322, -0.0018,  0.0957,\n",
      "        -0.0016,  0.0739,  0.0079, -0.0200,  0.0029,  0.0775,  0.0148, -0.0842],\n",
      "       device='cuda:0', requires_grad=True)\n",
      "Parameter containing:\n",
      "tensor([[-0.0846,  0.0520, -0.0834,  ..., -0.0814,  0.0746,  0.0591],\n",
      "        [ 0.0432, -0.0948,  0.0948,  ..., -0.1035,  0.0367,  0.0117],\n",
      "        [-0.0398, -0.1102,  0.0626,  ...,  0.0486,  0.0324,  0.0576],\n",
      "        ...,\n",
      "        [ 0.0108,  0.0123,  0.0200,  ..., -0.0803,  0.0071, -0.0784],\n",
      "        [-0.0631, -0.1122,  0.0154,  ..., -0.0558, -0.1014,  0.1040],\n",
      "        [-0.1131,  0.0951, -0.0893,  ...,  0.0971,  0.0170, -0.0008]],\n",
      "       device='cuda:0', requires_grad=True)\n",
      "Parameter containing:\n",
      "tensor([-0.0637,  0.0366, -0.0403, -0.1081, -0.1193, -0.0581,  0.1151, -0.1127,\n",
      "        -0.0464, -0.0303, -0.1095, -0.0393, -0.1254,  0.0708, -0.0344,  0.0555,\n",
      "         0.0227, -0.1192,  0.0548, -0.0610, -0.0117, -0.0878,  0.0279,  0.0994,\n",
      "        -0.0552,  0.0708, -0.0566,  0.0267, -0.0709,  0.1133, -0.0101,  0.0802,\n",
      "        -0.0088,  0.0639, -0.0596,  0.1074, -0.1173, -0.0096,  0.0853, -0.0077,\n",
      "         0.0256, -0.0039, -0.0201, -0.0629,  0.0672, -0.0235,  0.0082, -0.0284,\n",
      "        -0.0120, -0.0457,  0.0399, -0.0558, -0.1017, -0.0880,  0.0922, -0.0422,\n",
      "         0.0915, -0.0736,  0.0278,  0.0895,  0.0793, -0.0323, -0.0657,  0.1110],\n",
      "       device='cuda:0', requires_grad=True)\n",
      "Parameter containing:\n",
      "tensor([1.0032, 1.0094, 1.0019, 1.0010, 0.9941, 1.0000, 1.0070, 1.0019, 0.9978,\n",
      "        1.0045, 1.0098, 1.0027, 0.9858, 1.0065, 0.9992, 1.0112, 1.0011, 1.0034,\n",
      "        0.9982, 1.0044, 0.9989, 0.9995, 1.0027, 1.0035, 0.9957, 0.9963, 0.9920,\n",
      "        0.9929, 0.9971, 0.9977, 1.0021, 1.0057, 0.9916, 1.0001, 0.9990, 0.9956,\n",
      "        1.0101, 1.0015, 0.9994, 0.9981, 0.9985, 0.9916, 0.9928, 0.9991, 1.0053,\n",
      "        1.0013, 0.9990, 0.9997, 1.0108, 1.0081, 0.9963, 1.0072, 0.9997, 0.9988,\n",
      "        1.0043, 1.0181, 0.9969, 0.9933, 1.0042, 0.9849, 0.9881, 0.9957, 0.9832,\n",
      "        0.9912], device='cuda:0', requires_grad=True)\n",
      "Parameter containing:\n",
      "tensor([ 2.2244e-04, -1.4053e-03,  2.4433e-03, -3.8501e-03,  3.9816e-04,\n",
      "         1.4624e-03, -2.3164e-03,  3.5201e-05,  1.1795e-03, -2.4357e-03,\n",
      "         5.2833e-03,  2.4714e-04, -1.3840e-03, -1.6298e-03,  8.1861e-04,\n",
      "         2.7835e-03, -2.6003e-03,  9.6636e-04,  1.7115e-03, -3.9970e-03,\n",
      "         8.2479e-04, -3.6487e-03,  1.9677e-03, -9.8243e-04, -2.3792e-03,\n",
      "         1.0417e-04, -8.7393e-04, -1.3939e-03,  7.3772e-04,  3.0212e-03,\n",
      "         2.2135e-03,  2.4355e-03,  1.7289e-03, -2.2588e-03, -1.8665e-03,\n",
      "         4.9807e-04,  8.4782e-04,  3.0405e-03, -1.7505e-03,  6.5949e-04,\n",
      "         6.4887e-04, -7.2242e-04,  9.8730e-04,  1.8140e-03, -1.7961e-03,\n",
      "         2.6627e-05, -2.0014e-03, -2.7769e-04,  4.8648e-04, -9.2423e-04,\n",
      "         1.7244e-03,  1.2072e-03,  1.0939e-03,  9.7171e-04,  1.8968e-04,\n",
      "         3.5208e-03, -8.1829e-04, -9.6256e-04,  4.7404e-03, -1.2669e-03,\n",
      "        -1.2129e-03, -1.2871e-03, -3.0883e-03, -1.5218e-03], device='cuda:0',\n",
      "       requires_grad=True)\n",
      "Parameter containing:\n",
      "tensor([1.0018, 0.9951, 1.0003, 0.9976, 0.9977, 1.0000, 1.0093, 1.0071, 0.9981,\n",
      "        0.9989, 1.0006, 1.0020, 0.9854, 1.0035, 1.0001, 1.0041, 1.0002, 0.9980,\n",
      "        0.9985, 1.0029, 0.9957, 1.0003, 1.0002, 1.0028, 0.9985, 0.9934, 0.9983,\n",
      "        0.9952, 0.9928, 0.9947, 0.9999, 1.0045, 0.9923, 1.0045, 1.0009, 0.9865,\n",
      "        1.0075, 0.9976, 0.9868, 1.0030, 0.9990, 0.9970, 0.9953, 0.9975, 1.0024,\n",
      "        0.9994, 0.9986, 0.9945, 1.0123, 1.0240, 0.9966, 1.0025, 1.0011, 0.9952,\n",
      "        1.0040, 1.0106, 0.9960, 0.9881, 0.9984, 0.9878, 0.9943, 0.9920, 0.9824,\n",
      "        0.9875], device='cuda:0', requires_grad=True)\n",
      "Parameter containing:\n",
      "tensor([ 1.3327e-03, -1.4857e-03,  6.3193e-04, -2.6545e-03,  1.6410e-04,\n",
      "         6.0615e-04, -1.0205e-04, -2.9930e-04,  2.2291e-04, -7.2380e-04,\n",
      "         3.0845e-03, -7.1877e-04, -3.1562e-03, -1.4976e-03, -6.3285e-04,\n",
      "        -3.9874e-05, -2.7225e-03,  1.4405e-03,  1.2059e-03, -2.2425e-03,\n",
      "         1.2287e-03, -2.6259e-03,  1.8990e-03, -1.6125e-03, -4.2898e-03,\n",
      "         1.0506e-03, -3.6801e-03, -1.8334e-03,  9.8291e-04,  2.5064e-03,\n",
      "         2.5642e-03,  1.4093e-03,  1.2022e-03, -3.0210e-03, -2.6003e-03,\n",
      "        -1.0045e-03,  1.0165e-03, -3.9261e-04, -2.4019e-03, -2.6716e-04,\n",
      "         2.3503e-03, -1.0376e-03,  2.7941e-03,  1.8676e-03, -8.8946e-04,\n",
      "        -5.4221e-04, -2.4441e-03,  1.0782e-03,  7.0500e-04, -2.1265e-03,\n",
      "         1.3983e-03,  8.7369e-04,  1.4860e-03,  2.0694e-03, -1.3676e-04,\n",
      "         1.8088e-03, -1.0640e-03, -1.0400e-03,  5.3342e-03, -3.4332e-03,\n",
      "        -1.9078e-03,  5.9792e-04, -5.4379e-03, -3.2240e-03], device='cuda:0',\n",
      "       requires_grad=True)\n",
      "Parameter containing:\n",
      "tensor([[ 0.0219, -0.1307,  0.0135,  ...,  0.0200, -0.0964,  0.0630],\n",
      "        [ 0.0770,  0.0553,  0.0469,  ...,  0.1208,  0.0530,  0.0234],\n",
      "        [-0.1143,  0.0703, -0.0925,  ...,  0.1139,  0.0744,  0.0255],\n",
      "        ...,\n",
      "        [-0.0419,  0.0443,  0.0726,  ...,  0.0701,  0.0582,  0.0497],\n",
      "        [-0.0628,  0.0435, -0.0462,  ..., -0.0210, -0.0201,  0.0790],\n",
      "        [-0.0007,  0.0355,  0.0384,  ...,  0.0443,  0.1049,  0.0253]],\n",
      "       device='cuda:0', requires_grad=True)\n",
      "Parameter containing:\n",
      "tensor([-8.9111e-02,  1.5554e-02,  1.2077e-01,  1.1057e-01,  8.0766e-02,\n",
      "         9.9616e-02, -8.4542e-02,  4.7961e-02,  2.8562e-02, -4.4403e-02,\n",
      "        -2.4128e-02, -1.1600e-01, -8.7465e-02,  9.8281e-02, -3.9894e-02,\n",
      "         5.1074e-02,  5.5451e-02, -1.1651e-01,  4.9388e-02, -1.4679e-02,\n",
      "         7.7344e-02,  7.4546e-02, -5.5113e-02, -1.1719e-01,  9.9831e-02,\n",
      "         5.1049e-02, -1.1853e-01, -3.7974e-02,  3.4522e-02,  1.1441e-01,\n",
      "         4.9745e-02, -1.0877e-01,  5.6102e-02, -3.3569e-02, -7.9497e-03,\n",
      "         2.2702e-03, -6.4960e-02, -7.1807e-03, -6.3366e-02, -4.8193e-02,\n",
      "         7.6898e-02, -4.7585e-02, -1.0297e-01,  9.0372e-02, -1.1894e-01,\n",
      "         8.9080e-02, -5.9338e-02, -2.3869e-02, -4.6966e-02,  7.7817e-02,\n",
      "        -9.1690e-02,  8.1838e-02, -1.1894e-01,  1.2051e-01, -1.1839e-01,\n",
      "        -1.0970e-01, -1.4785e-02,  8.3714e-02,  3.6754e-02,  1.0207e-01,\n",
      "        -4.8963e-02, -1.0667e-01, -5.7958e-02,  3.3036e-05], device='cuda:0',\n",
      "       requires_grad=True)\n",
      "Parameter containing:\n",
      "tensor([[[ 0.0221, -0.0702, -0.0879, -0.0948,  0.0734, -0.0724,  0.0203,\n",
      "           0.0010, -0.0004, -0.0379, -0.0155,  0.0813, -0.0841, -0.0962,\n",
      "           0.1076, -0.1027,  0.1103,  0.0411, -0.0588, -0.0095,  0.0491,\n",
      "           0.1022, -0.1184,  0.1047,  0.1077,  0.0828,  0.1079,  0.0732,\n",
      "           0.1156,  0.0366,  0.0140,  0.0728,  0.0502, -0.0106, -0.0047,\n",
      "          -0.0941, -0.0964,  0.0012,  0.0313, -0.0569,  0.0918,  0.1100,\n",
      "          -0.0705, -0.0329,  0.0659,  0.0742,  0.0250, -0.0460, -0.0991,\n",
      "           0.0540, -0.0318, -0.0391, -0.0740,  0.0355, -0.0735,  0.1055,\n",
      "           0.1027,  0.0958,  0.0746,  0.0820,  0.0333,  0.0037,  0.0628,\n",
      "          -0.0350],\n",
      "         [ 0.0457,  0.0171,  0.0508, -0.1042, -0.0505, -0.0033,  0.0084,\n",
      "          -0.0154, -0.0676,  0.0826, -0.0817,  0.0833,  0.0561, -0.0286,\n",
      "          -0.0085, -0.0620,  0.0758,  0.0087,  0.0853,  0.0821,  0.0898,\n",
      "          -0.1023,  0.0469,  0.0513, -0.0061,  0.0087,  0.0526,  0.0401,\n",
      "           0.1149, -0.0510,  0.0359,  0.0432, -0.0195, -0.0069, -0.0281,\n",
      "          -0.1014,  0.0326, -0.0947, -0.0604,  0.0343, -0.0929,  0.1102,\n",
      "           0.0247, -0.0320, -0.0407,  0.0940, -0.0570,  0.0855,  0.0846,\n",
      "          -0.0756, -0.0723,  0.0021,  0.0862, -0.0354,  0.0053,  0.0136,\n",
      "          -0.0327,  0.0184,  0.0799, -0.0055,  0.0300, -0.0606, -0.0467,\n",
      "          -0.0512],\n",
      "         [ 0.0544, -0.0326,  0.0407, -0.0966,  0.0136,  0.0054, -0.0126,\n",
      "          -0.0561, -0.0413,  0.0519, -0.0871,  0.0004,  0.0430, -0.0628,\n",
      "           0.0732,  0.0370, -0.0348, -0.1035, -0.0882,  0.0396,  0.0380,\n",
      "          -0.1113,  0.0769, -0.0537,  0.0590, -0.0695, -0.1082, -0.0177,\n",
      "          -0.0817, -0.0865, -0.0635, -0.1105,  0.1096, -0.0645,  0.0297,\n",
      "          -0.0125,  0.0210,  0.1163,  0.0332, -0.0582, -0.0241,  0.0539,\n",
      "          -0.0783,  0.0496, -0.0043, -0.1013, -0.0571, -0.0041,  0.0201,\n",
      "          -0.0931,  0.0183, -0.0608,  0.0099, -0.1137,  0.0964, -0.0827,\n",
      "          -0.0457,  0.0272,  0.0751, -0.0229,  0.0634,  0.0536, -0.0829,\n",
      "          -0.0447],\n",
      "         [ 0.0704, -0.0602,  0.0158,  0.0802,  0.0373, -0.0750,  0.0675,\n",
      "           0.0689, -0.0798,  0.1103, -0.0794, -0.0312,  0.0116,  0.0650,\n",
      "           0.0993,  0.0053, -0.0229, -0.0450, -0.1107,  0.1087, -0.1112,\n",
      "          -0.0066,  0.0515,  0.0086,  0.0165, -0.0542,  0.0034, -0.0532,\n",
      "           0.0664,  0.1146,  0.0038,  0.0237,  0.0025, -0.0704,  0.0545,\n",
      "          -0.0738,  0.1028,  0.0720, -0.0399,  0.1036,  0.0453, -0.0523,\n",
      "           0.0896, -0.0304, -0.0313, -0.0087,  0.0866,  0.0647, -0.1052,\n",
      "          -0.0392,  0.1079, -0.0120, -0.1102,  0.1080, -0.0342,  0.0247,\n",
      "           0.0015, -0.0388,  0.0590, -0.0863, -0.0524,  0.0028, -0.0597,\n",
      "           0.0162],\n",
      "         [ 0.0469,  0.0267,  0.0452,  0.0398,  0.0520, -0.0987,  0.0388,\n",
      "          -0.0249, -0.0246, -0.0314, -0.1056, -0.0428,  0.0338, -0.0172,\n",
      "          -0.0053,  0.0180,  0.1111, -0.1109,  0.1061,  0.0413, -0.0921,\n",
      "          -0.0429, -0.0087,  0.1132,  0.0349,  0.0580, -0.0339, -0.0822,\n",
      "          -0.0184,  0.0220,  0.0902, -0.0291,  0.0247, -0.0141, -0.1170,\n",
      "           0.1007, -0.0134,  0.0782, -0.0607, -0.0679, -0.0775,  0.0161,\n",
      "           0.0314,  0.0503,  0.0866,  0.0208,  0.1155, -0.0056,  0.0842,\n",
      "           0.0666, -0.0948,  0.1129, -0.0198, -0.0689, -0.1112, -0.0004,\n",
      "          -0.0391,  0.0469,  0.0271, -0.0252,  0.0103, -0.0399, -0.0397,\n",
      "           0.0340],\n",
      "         [-0.0642, -0.0974, -0.0506,  0.0344, -0.0733, -0.0752, -0.0893,\n",
      "          -0.0997, -0.0238,  0.0238,  0.0440, -0.0149,  0.0624, -0.0681,\n",
      "           0.0148, -0.0201, -0.0586, -0.0175, -0.0128, -0.0081, -0.0381,\n",
      "          -0.0517, -0.0278, -0.1052, -0.0644,  0.0733, -0.0531, -0.0527,\n",
      "          -0.0697, -0.0211, -0.0881,  0.0331, -0.0816, -0.0401, -0.0032,\n",
      "           0.1029, -0.1078, -0.0535,  0.0975, -0.0477,  0.0218,  0.0913,\n",
      "          -0.1127, -0.0850, -0.1013,  0.0265,  0.1017, -0.0822, -0.0823,\n",
      "           0.0884, -0.0971, -0.0888, -0.0045, -0.0163,  0.0401, -0.0038,\n",
      "          -0.0209,  0.0194,  0.0059, -0.0215,  0.0457, -0.0771,  0.1008,\n",
      "          -0.0139]]], device='cuda:0', requires_grad=True)\n",
      "Parameter containing:\n",
      "tensor([[-0.0045, -0.0200,  0.0020,  ...,  0.0072,  0.1158, -0.0297],\n",
      "        [ 0.0440, -0.0386, -0.0034,  ...,  0.0220, -0.0136, -0.0934],\n",
      "        [-0.0518,  0.0884,  0.0172,  ...,  0.0237,  0.0797, -0.0352],\n",
      "        ...,\n",
      "        [-0.0091,  0.1227, -0.0629,  ..., -0.1192,  0.1014, -0.1078],\n",
      "        [-0.0994, -0.0963, -0.1112,  ..., -0.0105,  0.1037,  0.0028],\n",
      "        [ 0.1210, -0.0493, -0.0370,  ..., -0.0728,  0.0008, -0.1038]],\n",
      "       device='cuda:0', requires_grad=True)\n",
      "Parameter containing:\n",
      "tensor([ 0.0651, -0.0982,  0.1002,  0.0450,  0.0096, -0.0196, -0.0672, -0.0613,\n",
      "        -0.0319,  0.0461,  0.0067,  0.0525,  0.0064,  0.0107,  0.0859, -0.0167,\n",
      "        -0.0409,  0.0770,  0.1248, -0.1057,  0.0220, -0.1084, -0.0720,  0.0953,\n",
      "         0.0665, -0.1182, -0.0865,  0.1201, -0.1282,  0.0214, -0.0378,  0.0902,\n",
      "         0.0497,  0.1078, -0.0202, -0.0095, -0.0436,  0.0559, -0.0631, -0.0163,\n",
      "        -0.0573,  0.1106,  0.0808, -0.0189,  0.0996, -0.0128,  0.0983,  0.0460,\n",
      "        -0.0310, -0.1093,  0.0804, -0.1199, -0.0267, -0.0076, -0.0202,  0.0712,\n",
      "        -0.0681,  0.0864,  0.0103, -0.1132,  0.0684, -0.0582,  0.0045, -0.1048],\n",
      "       device='cuda:0', requires_grad=True)\n",
      "Parameter containing:\n",
      "tensor([[-0.0563,  0.0344, -0.0531,  ..., -0.0516, -0.0613, -0.1018],\n",
      "        [-0.0059,  0.0620,  0.0796,  ..., -0.0472,  0.0342, -0.0669],\n",
      "        [-0.0296, -0.0576, -0.0560,  ..., -0.0122, -0.0167,  0.0203],\n",
      "        ...,\n",
      "        [-0.1346,  0.0895,  0.0681,  ..., -0.1399,  0.0462,  0.0405],\n",
      "        [-0.0561,  0.1094, -0.0431,  ...,  0.0858,  0.1040,  0.0196],\n",
      "        [ 0.1011, -0.0918, -0.0024,  ..., -0.0129,  0.0649,  0.0946]],\n",
      "       device='cuda:0', requires_grad=True)\n",
      "Parameter containing:\n",
      "tensor([-0.0607, -0.0736,  0.0311, -0.0416,  0.0694, -0.0453,  0.0192, -0.0537,\n",
      "        -0.0016, -0.0273, -0.1021,  0.0618, -0.1208,  0.1120, -0.0372, -0.0396,\n",
      "        -0.0415,  0.1193,  0.0668, -0.0816,  0.0049,  0.0678, -0.0556,  0.1128,\n",
      "         0.0940,  0.1062,  0.1143, -0.1185,  0.0469, -0.0115,  0.0775,  0.0408,\n",
      "         0.0807,  0.0422,  0.0283,  0.0135, -0.1078,  0.0234, -0.0541,  0.1122,\n",
      "         0.0147, -0.0898,  0.0705,  0.0526, -0.1164, -0.0910,  0.0023, -0.1030,\n",
      "        -0.0840, -0.0052,  0.0571,  0.1246, -0.0750, -0.0490, -0.0433, -0.0103,\n",
      "         0.0102,  0.0594, -0.0098,  0.0978, -0.0670,  0.0465,  0.0547, -0.0263],\n",
      "       device='cuda:0', requires_grad=True)\n",
      "Parameter containing:\n",
      "tensor([[-0.0187, -0.0074, -0.0635,  ..., -0.0056, -0.1247,  0.0400],\n",
      "        [-0.0165, -0.0113, -0.0238,  ...,  0.0513,  0.1040, -0.1205],\n",
      "        [ 0.0146, -0.0693,  0.1222,  ...,  0.0964, -0.0819,  0.0067],\n",
      "        ...,\n",
      "        [-0.1127, -0.0548, -0.0368,  ..., -0.0659,  0.1043,  0.0526],\n",
      "        [-0.0015,  0.0427, -0.0659,  ...,  0.0843,  0.0363,  0.1008],\n",
      "        [-0.0700, -0.0200,  0.1252,  ..., -0.0893,  0.0546, -0.1119]],\n",
      "       device='cuda:0', requires_grad=True)\n",
      "Parameter containing:\n",
      "tensor([-0.0097, -0.0413,  0.0573,  0.0909,  0.0262,  0.0971,  0.0594, -0.1186,\n",
      "         0.0624,  0.1137,  0.0338,  0.0544, -0.0068,  0.0182, -0.0464, -0.0981,\n",
      "        -0.0968, -0.0103, -0.0163,  0.1007, -0.0969,  0.0721, -0.0563,  0.1149,\n",
      "         0.0214,  0.0396,  0.0077, -0.1122,  0.0873,  0.0326,  0.0357,  0.0188,\n",
      "        -0.0196,  0.0001, -0.0833, -0.1204,  0.0251,  0.0375,  0.0305,  0.0646,\n",
      "         0.0162, -0.0720,  0.0646,  0.0840,  0.0342, -0.0123,  0.0048,  0.1133,\n",
      "        -0.1057,  0.1142, -0.1061, -0.0591, -0.0813, -0.0985, -0.0765,  0.0148,\n",
      "        -0.0297,  0.0034, -0.1085,  0.0400, -0.0867, -0.0244,  0.0599,  0.0327],\n",
      "       device='cuda:0', requires_grad=True)\n",
      "Parameter containing:\n",
      "tensor([1.0086, 1.0009, 0.9994, 0.9988, 1.0034, 0.9988, 1.0092, 0.9967, 1.0038,\n",
      "        0.9969, 1.0026, 0.9765, 1.0024, 1.0039, 1.0065, 0.9989, 0.9933, 0.9955,\n",
      "        1.0015, 0.9997, 0.9912, 1.0008, 0.9942, 0.9973, 1.0077, 1.0021, 1.0054,\n",
      "        1.0016, 0.9835, 1.0038, 0.9980, 0.9975, 1.0068, 0.9952, 1.0011, 1.0010,\n",
      "        1.0017, 0.9893, 1.0004, 1.0016, 0.9949, 0.9984, 1.0018, 1.0012, 1.0014,\n",
      "        0.9955, 0.9993, 0.9966, 1.0040, 0.9932, 0.9961, 1.0076, 1.0043, 1.0075,\n",
      "        1.0082, 1.0047, 1.0045, 0.9953, 0.9950, 0.9916, 1.0023, 0.9974, 1.0038,\n",
      "        1.0068], device='cuda:0', requires_grad=True)\n",
      "Parameter containing:\n",
      "tensor([ 1.5212e-03,  2.2583e-03, -2.2765e-03, -5.6764e-04,  8.4948e-05,\n",
      "        -7.7151e-04, -3.3139e-03, -1.3040e-03,  5.3388e-04, -1.6391e-03,\n",
      "         1.5918e-03, -7.0195e-04, -9.0033e-04,  5.0553e-03, -4.3479e-03,\n",
      "         1.7563e-03,  3.7054e-03, -7.6512e-04,  3.1412e-03,  2.1485e-03,\n",
      "         1.6179e-03, -2.0675e-03, -9.0330e-04, -1.6745e-03, -6.5321e-03,\n",
      "        -2.7932e-03,  2.9544e-03,  7.1499e-04, -3.3086e-03, -4.6491e-03,\n",
      "        -1.1812e-03, -3.5898e-03,  3.7626e-03,  2.4638e-03,  1.6846e-04,\n",
      "        -9.4959e-04, -3.4519e-04,  3.8934e-04,  1.9193e-04, -5.3910e-03,\n",
      "        -2.5283e-04, -2.1222e-03, -1.8033e-03,  2.0198e-03,  2.6903e-03,\n",
      "        -2.4843e-03, -1.2879e-04,  1.2510e-04, -1.2666e-03,  3.2307e-03,\n",
      "         3.0229e-03, -4.5547e-03,  1.8490e-03,  4.0481e-03, -7.1808e-04,\n",
      "        -3.4199e-03,  1.6794e-03,  6.4617e-04,  2.2703e-03,  3.3275e-03,\n",
      "        -1.2940e-03, -2.4083e-03, -2.1851e-03,  2.9286e-03], device='cuda:0',\n",
      "       requires_grad=True)\n",
      "Parameter containing:\n",
      "tensor([1.0043, 1.0051, 0.9996, 1.0011, 1.0029, 1.0007, 1.0104, 0.9971, 1.0022,\n",
      "        0.9913, 1.0006, 0.9842, 1.0023, 0.9991, 1.0033, 1.0006, 0.9938, 1.0007,\n",
      "        1.0006, 1.0055, 0.9940, 1.0093, 0.9917, 0.9939, 1.0099, 1.0094, 1.0072,\n",
      "        1.0034, 0.9917, 1.0084, 1.0018, 0.9960, 1.0078, 0.9854, 1.0066, 1.0031,\n",
      "        1.0035, 0.9966, 1.0033, 0.9989, 0.9861, 0.9983, 1.0033, 1.0049, 1.0063,\n",
      "        1.0060, 0.9996, 1.0012, 1.0002, 0.9986, 0.9987, 1.0065, 1.0009, 1.0059,\n",
      "        1.0165, 1.0106, 1.0100, 0.9979, 0.9988, 0.9931, 1.0035, 0.9927, 1.0026,\n",
      "        1.0051], device='cuda:0', requires_grad=True)\n",
      "Parameter containing:\n",
      "tensor([-6.6019e-04,  7.1160e-03, -1.6799e-03, -1.4153e-03, -2.8447e-03,\n",
      "        -1.2089e-03, -3.2526e-03, -1.1197e-03, -3.0215e-04, -2.1378e-03,\n",
      "        -5.5150e-03, -2.8017e-03,  4.7568e-04,  7.1829e-03, -3.6033e-03,\n",
      "         1.6989e-03,  2.6378e-03, -1.4168e-03,  4.9288e-03,  2.4029e-03,\n",
      "         1.1809e-04,  7.7230e-04,  1.1754e-03, -9.5158e-04, -4.9077e-03,\n",
      "        -9.3039e-03,  6.2551e-03,  2.3670e-03, -3.9600e-03, -4.4918e-03,\n",
      "         1.0194e-03, -2.3271e-03,  6.5112e-03,  1.5453e-03, -2.7164e-04,\n",
      "        -5.5317e-03, -1.6102e-03,  1.0453e-03, -1.1213e-03, -2.2488e-03,\n",
      "        -1.9557e-03, -3.4340e-03, -4.2123e-03,  5.7836e-03,  2.6699e-03,\n",
      "        -1.5961e-03, -1.5898e-03, -4.8103e-04, -2.6924e-03,  3.1884e-03,\n",
      "         2.3901e-03, -6.4480e-03,  1.6518e-03,  5.5916e-03,  2.7897e-05,\n",
      "        -1.3060e-03,  2.9369e-03,  4.9333e-04,  1.0079e-04,  4.2472e-03,\n",
      "        -2.6103e-03, -3.5082e-03, -1.8005e-03,  5.0680e-03], device='cuda:0',\n",
      "       requires_grad=True)\n",
      "Parameter containing:\n",
      "tensor([[-0.1249,  0.0464,  0.0132,  ..., -0.1076,  0.0061,  0.0269],\n",
      "        [-0.0150,  0.0716, -0.0968,  ...,  0.0629,  0.0278,  0.0258],\n",
      "        [-0.0955, -0.0132, -0.1199,  ..., -0.0875,  0.0174,  0.0372],\n",
      "        ...,\n",
      "        [-0.0688,  0.1179,  0.1036,  ..., -0.0040, -0.0079,  0.1054],\n",
      "        [-0.0825,  0.0513, -0.1164,  ..., -0.1000,  0.0130,  0.1065],\n",
      "        [-0.0635, -0.0234, -0.0794,  ..., -0.0305,  0.0495, -0.0676]],\n",
      "       device='cuda:0', requires_grad=True)\n",
      "Parameter containing:\n",
      "tensor([ 0.0147,  0.0675, -0.0784, -0.0723, -0.0883,  0.0968,  0.0814,  0.0008,\n",
      "        -0.0866,  0.0276, -0.0761,  0.0619,  0.0802, -0.1044,  0.0637,  0.0317,\n",
      "        -0.1191,  0.0796, -0.0617, -0.1212,  0.0111, -0.0605,  0.0936,  0.0612,\n",
      "        -0.1052,  0.1018, -0.0165,  0.1250,  0.0674, -0.0280, -0.0461, -0.0026,\n",
      "        -0.0675,  0.0072, -0.1184, -0.0656,  0.1028,  0.0212,  0.0006,  0.0737,\n",
      "         0.0546, -0.0961, -0.0586, -0.0059, -0.0921, -0.0850,  0.0118, -0.1123,\n",
      "        -0.0481,  0.0478,  0.0833, -0.0924, -0.0732,  0.0624,  0.0166, -0.0845,\n",
      "        -0.0360, -0.1115, -0.0360, -0.0614, -0.1048,  0.0017, -0.1047, -0.0665],\n",
      "       device='cuda:0', requires_grad=True)\n",
      "Parameter containing:\n",
      "tensor([[ 0.0647,  0.0634, -0.0639,  ..., -0.0464,  0.0786, -0.1156],\n",
      "        [-0.1101,  0.0597, -0.0073,  ..., -0.0247,  0.0838, -0.0462],\n",
      "        [ 0.0530, -0.0828,  0.1071,  ..., -0.0956, -0.0113, -0.0859],\n",
      "        ...,\n",
      "        [ 0.0896, -0.0394,  0.0402,  ..., -0.0140,  0.0937, -0.0313],\n",
      "        [-0.0787,  0.0643, -0.0160,  ...,  0.0041,  0.0673,  0.0448],\n",
      "        [-0.1159, -0.1035,  0.0153,  ..., -0.0615, -0.0313, -0.0337]],\n",
      "       device='cuda:0', requires_grad=True)\n",
      "Parameter containing:\n",
      "tensor([ 0.0020, -0.0040, -0.0439, -0.0237,  0.0822,  0.0667, -0.0772,  0.1122,\n",
      "        -0.0115,  0.1102,  0.0301, -0.0790,  0.0896,  0.0311,  0.0964, -0.1276,\n",
      "        -0.0653,  0.0287, -0.0346,  0.0175, -0.1014, -0.0263, -0.0628,  0.0433,\n",
      "        -0.1191, -0.0485,  0.1090, -0.0257, -0.0935,  0.0519,  0.1239,  0.1052,\n",
      "        -0.0689,  0.1086,  0.0421, -0.0687,  0.0469, -0.0081,  0.0511,  0.1114,\n",
      "         0.0799,  0.1239, -0.0272,  0.0476, -0.0634, -0.0418, -0.1026, -0.0336,\n",
      "        -0.0174, -0.0889, -0.1250, -0.1149,  0.0451,  0.0331,  0.0672, -0.1196,\n",
      "        -0.0369, -0.0025, -0.0992, -0.0816,  0.0931,  0.0731, -0.0579, -0.0897],\n",
      "       device='cuda:0', requires_grad=True)\n",
      "Parameter containing:\n",
      "tensor([[-0.0590, -0.0845, -0.1013,  ...,  0.0100,  0.0553, -0.0797],\n",
      "        [ 0.0477,  0.0429,  0.0632,  ...,  0.0052, -0.0421,  0.0052],\n",
      "        [ 0.0846, -0.1143, -0.1072,  ..., -0.1195,  0.0853,  0.0538],\n",
      "        ...,\n",
      "        [-0.0930, -0.0198, -0.0924,  ...,  0.0417, -0.0957,  0.0637],\n",
      "        [-0.0628,  0.0158,  0.1178,  ..., -0.0262, -0.0337,  0.0770],\n",
      "        [-0.0636, -0.1237,  0.0373,  ..., -0.1111,  0.0455, -0.0105]],\n",
      "       device='cuda:0', requires_grad=True)\n",
      "Parameter containing:\n",
      "tensor([-0.0226, -0.0481,  0.0856, -0.1159,  0.0600,  0.1093, -0.0804,  0.0185,\n",
      "         0.0559,  0.0440, -0.0433,  0.0418, -0.0427, -0.0348, -0.0673,  0.0946,\n",
      "        -0.0541, -0.0353, -0.0859, -0.0786,  0.0590, -0.0377,  0.0808, -0.0810,\n",
      "         0.0070, -0.1025, -0.1131,  0.0577,  0.1142,  0.0760,  0.1237, -0.0443,\n",
      "        -0.0565, -0.1204, -0.1164, -0.0740,  0.0065, -0.0599,  0.0853,  0.0281,\n",
      "        -0.1171, -0.0913, -0.1174,  0.1145, -0.0749,  0.0675, -0.0215,  0.0430,\n",
      "         0.0760, -0.1120, -0.0046, -0.0147, -0.0720,  0.0164,  0.0720,  0.0820,\n",
      "         0.0335, -0.0228, -0.0659, -0.0153, -0.0473,  0.0917,  0.0281,  0.0565],\n",
      "       device='cuda:0', requires_grad=True)\n",
      "Parameter containing:\n",
      "tensor([[-0.1173,  0.0519, -0.0388,  ...,  0.0387,  0.0747, -0.0739],\n",
      "        [ 0.0362,  0.1196,  0.1182,  ...,  0.0980, -0.0117,  0.0551],\n",
      "        [-0.0844, -0.0972,  0.0857,  ..., -0.0833,  0.0824, -0.0342],\n",
      "        ...,\n",
      "        [ 0.0185, -0.0260,  0.1070,  ...,  0.0690,  0.0112,  0.0722],\n",
      "        [-0.1087, -0.0663, -0.0923,  ..., -0.0368, -0.0032,  0.0303],\n",
      "        [ 0.0609,  0.0887,  0.0950,  ..., -0.1151, -0.0323,  0.0183]],\n",
      "       device='cuda:0', requires_grad=True)\n",
      "Parameter containing:\n",
      "tensor([ 0.0898,  0.0278, -0.1096,  0.0908, -0.0496, -0.0476, -0.0303, -0.0876,\n",
      "         0.0193, -0.0730,  0.1117, -0.0753,  0.0369,  0.0382, -0.0737, -0.0608,\n",
      "        -0.0821, -0.1028, -0.1097, -0.0592, -0.0982, -0.0623, -0.0961, -0.0217,\n",
      "        -0.0664, -0.0887, -0.0774, -0.0267, -0.0298, -0.0990, -0.0443, -0.0977,\n",
      "        -0.0329,  0.1091, -0.0246,  0.0269,  0.1182, -0.1198, -0.1013, -0.0579,\n",
      "        -0.0193, -0.1022, -0.0290, -0.0878, -0.0872, -0.0742,  0.0522,  0.0868,\n",
      "        -0.1173, -0.0899, -0.0395,  0.0591, -0.0823,  0.0872,  0.1043,  0.0115,\n",
      "         0.1216, -0.0347, -0.0373, -0.0934, -0.0242,  0.0581,  0.0649,  0.1061],\n",
      "       device='cuda:0', requires_grad=True)\n",
      "Parameter containing:\n",
      "tensor([1.0052, 0.9991, 0.9999, 0.9991, 1.0036, 1.0003, 1.0015, 1.0057, 0.9909,\n",
      "        0.9936, 1.0057, 0.9888, 0.9987, 0.9996, 0.9980, 1.0081, 0.9998, 1.0011,\n",
      "        1.0024, 1.0048, 1.0003, 0.9935, 1.0015, 0.9992, 0.9961, 0.9966, 0.9972,\n",
      "        1.0051, 1.0076, 0.9937, 1.0033, 0.9982, 0.9908, 1.0003, 1.0028, 0.9965,\n",
      "        1.0051, 0.9922, 0.9912, 1.0039, 0.9767, 0.9989, 0.9968, 0.9949, 1.0134,\n",
      "        0.9989, 1.0027, 0.9952, 1.0052, 0.9847, 1.0057, 0.9931, 0.9996, 0.9998,\n",
      "        1.0068, 1.0069, 1.0018, 1.0066, 0.9902, 0.9941, 0.9954, 1.0011, 1.0014,\n",
      "        1.0054], device='cuda:0', requires_grad=True)\n",
      "Parameter containing:\n",
      "tensor([ 1.6150e-03, -2.0623e-03, -1.4526e-03,  1.2758e-03, -2.4850e-03,\n",
      "        -7.0004e-04, -1.2472e-03, -5.6845e-04,  1.5163e-03,  3.9571e-03,\n",
      "         5.0753e-03, -6.1440e-04,  7.6795e-04,  1.0438e-03, -1.5472e-03,\n",
      "        -4.1654e-03,  3.2293e-03, -2.7538e-03, -1.2611e-03,  7.9906e-04,\n",
      "         3.9352e-04,  4.9751e-03, -5.5125e-03,  2.4018e-03,  1.5295e-04,\n",
      "         3.8558e-05, -1.1311e-03,  6.4958e-03,  4.6672e-03,  3.3621e-04,\n",
      "         6.2522e-04, -2.4788e-03, -2.6608e-03, -1.1084e-03,  2.1355e-03,\n",
      "        -2.9556e-03,  4.9535e-03, -1.0745e-03, -9.2978e-05,  4.3470e-03,\n",
      "        -2.3080e-04, -3.6546e-04, -1.4627e-04,  8.1080e-05, -4.5696e-03,\n",
      "         2.1436e-03, -3.4720e-03,  3.9968e-04,  4.1491e-03,  5.9947e-03,\n",
      "        -4.8262e-03, -2.4609e-03,  5.9307e-04,  4.8522e-04, -2.5585e-03,\n",
      "        -4.1847e-03,  5.9129e-04,  6.0313e-04,  2.0585e-03, -2.6745e-03,\n",
      "        -2.1704e-03, -1.8283e-03,  4.2296e-04,  4.2473e-03], device='cuda:0',\n",
      "       requires_grad=True)\n",
      "Parameter containing:\n",
      "tensor([1.0016, 0.9973, 0.9980, 0.9969, 0.9991, 1.0014, 0.9996, 1.0008, 0.9856,\n",
      "        0.9911, 0.9953, 0.9940, 0.9976, 0.9973, 0.9915, 1.0082, 0.9997, 0.9993,\n",
      "        1.0007, 1.0039, 0.9987, 1.0044, 1.0005, 0.9944, 0.9955, 0.9966, 0.9947,\n",
      "        1.0018, 1.0002, 0.9921, 0.9954, 0.9946, 0.9939, 0.9974, 0.9972, 0.9971,\n",
      "        0.9994, 0.9967, 0.9909, 1.0061, 0.9756, 0.9956, 0.9968, 0.9958, 1.0048,\n",
      "        0.9959, 0.9980, 0.9943, 0.9946, 0.9860, 0.9982, 0.9930, 0.9983, 0.9993,\n",
      "        1.0267, 1.0068, 0.9995, 0.9951, 0.9860, 0.9977, 0.9946, 0.9933, 1.0003,\n",
      "        1.0035], device='cuda:0', requires_grad=True)\n",
      "Parameter containing:\n",
      "tensor([-2.0906e-03, -1.8285e-03, -6.1801e-04,  1.9676e-03, -1.1878e-03,\n",
      "        -1.1611e-03, -1.2876e-03, -4.3124e-03,  1.0994e-03,  2.1353e-03,\n",
      "        -4.3662e-03,  2.5272e-04, -1.8166e-03, -2.1004e-04, -3.1643e-04,\n",
      "        -3.4821e-03,  2.0677e-03, -1.9217e-03, -3.5235e-04,  6.7608e-03,\n",
      "         1.7102e-03,  5.2037e-03, -3.0541e-03, -8.4182e-04,  2.3275e-03,\n",
      "         1.4126e-03, -1.1928e-03,  2.6003e-03,  8.0840e-04, -3.2174e-04,\n",
      "         4.3499e-03,  5.2070e-04,  1.1063e-03,  9.9321e-04, -3.0682e-05,\n",
      "        -2.2107e-03, -4.5912e-04,  8.4883e-04,  1.2360e-03,  3.3189e-03,\n",
      "         3.5320e-03,  3.4131e-03,  3.5262e-03, -6.1024e-04, -7.1596e-04,\n",
      "        -1.9115e-03,  1.7729e-03,  7.5162e-04, -3.9175e-03,  2.7123e-03,\n",
      "         3.5905e-04, -2.4414e-03,  7.7067e-04, -3.5304e-04, -1.1711e-03,\n",
      "        -2.5426e-03, -1.1736e-03, -3.6786e-03,  6.2451e-03, -2.3611e-03,\n",
      "        -1.1762e-03,  2.9379e-03,  1.0649e-03,  1.7030e-03], device='cuda:0',\n",
      "       requires_grad=True)\n",
      "Parameter containing:\n",
      "tensor([[-0.0650, -0.0903, -0.1029,  ...,  0.0623, -0.0038,  0.0742],\n",
      "        [-0.1240, -0.0244,  0.0960,  ..., -0.0261,  0.0194,  0.0854],\n",
      "        [ 0.1181,  0.1107, -0.1208,  ..., -0.1016,  0.1117, -0.0597],\n",
      "        ...,\n",
      "        [ 0.0673,  0.0513, -0.0721,  ..., -0.0811,  0.0919, -0.0960],\n",
      "        [-0.0055,  0.0807, -0.0653,  ...,  0.0615, -0.0055,  0.0110],\n",
      "        [ 0.0741,  0.0999, -0.0523,  ..., -0.0017,  0.0635,  0.0113]],\n",
      "       device='cuda:0', requires_grad=True)\n",
      "Parameter containing:\n",
      "tensor([-0.0078,  0.0916, -0.0623,  0.0308, -0.0831, -0.0582, -0.1203,  0.1201,\n",
      "         0.0575, -0.0318,  0.0580, -0.0370, -0.1036,  0.1157, -0.1116,  0.0688,\n",
      "         0.1096,  0.0048, -0.0819, -0.1151,  0.0072, -0.0761,  0.1160,  0.0192,\n",
      "        -0.0166, -0.0502,  0.0664,  0.0040,  0.0852, -0.0908, -0.0454,  0.0195,\n",
      "        -0.0649, -0.0405, -0.0514,  0.0981, -0.0426, -0.0492,  0.0687, -0.0202,\n",
      "         0.0169,  0.0483,  0.0976,  0.0566,  0.0168,  0.0833,  0.0649,  0.0305,\n",
      "         0.0214,  0.1104, -0.0120,  0.0755, -0.0589, -0.0360, -0.1135, -0.0801,\n",
      "         0.0246, -0.0639, -0.1137,  0.1166, -0.1153,  0.0081, -0.0090, -0.0684],\n",
      "       device='cuda:0', requires_grad=True)\n",
      "Parameter containing:\n",
      "tensor([[[ 0.0652,  0.0654,  0.0047,  ...,  0.0201, -0.0034,  0.0041],\n",
      "         [-0.0395,  0.0190, -0.0432,  ...,  0.0562, -0.0442, -0.0453],\n",
      "         [ 0.0176,  0.0132, -0.0439,  ...,  0.0188,  0.0283, -0.0704],\n",
      "         ...,\n",
      "         [ 0.0650,  0.0659, -0.0345,  ...,  0.0201, -0.0248, -0.0378],\n",
      "         [ 0.0114,  0.0561,  0.0369,  ...,  0.0583, -0.0335,  0.0081],\n",
      "         [ 0.0253,  0.0371, -0.0167,  ..., -0.0073, -0.0467, -0.0490]]],\n",
      "       device='cuda:0', requires_grad=True)\n",
      "Parameter containing:\n",
      "tensor([[-0.0420, -0.0926,  0.1107,  ...,  0.0059,  0.0207,  0.0073],\n",
      "        [ 0.0892, -0.0573,  0.0024,  ..., -0.0088, -0.0908,  0.1019],\n",
      "        [ 0.1027, -0.0364, -0.0822,  ..., -0.0951, -0.0338,  0.0997],\n",
      "        ...,\n",
      "        [ 0.0376, -0.0184,  0.0032,  ..., -0.1257, -0.0512, -0.0672],\n",
      "        [ 0.0436, -0.1373,  0.0873,  ..., -0.1255,  0.0498,  0.1178],\n",
      "        [-0.0705, -0.0692, -0.0422,  ..., -0.0773,  0.0171, -0.0806]],\n",
      "       device='cuda:0', requires_grad=True)\n",
      "Parameter containing:\n",
      "tensor([ 0.0540, -0.0438, -0.0590, -0.0986,  0.0075,  0.0193, -0.0224, -0.0149,\n",
      "        -0.0081, -0.0621, -0.0919, -0.0972,  0.1212, -0.0299, -0.1265,  0.0823,\n",
      "        -0.1020, -0.0465,  0.0835, -0.0224, -0.1137, -0.0046,  0.0109, -0.0161,\n",
      "        -0.0765,  0.0306, -0.1099, -0.0228,  0.1159,  0.1301, -0.0451,  0.0335,\n",
      "        -0.1016,  0.0993,  0.0326, -0.1132, -0.0357, -0.0585,  0.0110, -0.0209,\n",
      "         0.0088,  0.0003,  0.0295, -0.0357, -0.1276, -0.0582, -0.1038,  0.1208,\n",
      "         0.0022, -0.0359,  0.0754, -0.0444, -0.0660, -0.1159, -0.0474,  0.1025,\n",
      "         0.0031, -0.0947,  0.0932,  0.0276, -0.0311, -0.0691, -0.1160,  0.0434],\n",
      "       device='cuda:0', requires_grad=True)\n",
      "Parameter containing:\n",
      "tensor([[-0.1264,  0.0754, -0.0635,  ...,  0.0933, -0.0632, -0.0704],\n",
      "        [-0.0513,  0.0715, -0.0056,  ..., -0.0318,  0.1016, -0.0022],\n",
      "        [-0.0440,  0.0492,  0.0694,  ..., -0.0338,  0.1107,  0.0020],\n",
      "        ...,\n",
      "        [ 0.0298, -0.0091,  0.0005,  ..., -0.0686,  0.0962,  0.0628],\n",
      "        [ 0.0455, -0.0325, -0.0844,  ...,  0.1023,  0.0264,  0.0497],\n",
      "        [ 0.1301, -0.0859, -0.0384,  ...,  0.0822,  0.0423, -0.0230]],\n",
      "       device='cuda:0', requires_grad=True)\n",
      "Parameter containing:\n",
      "tensor([-0.0106,  0.0596,  0.0066, -0.0856,  0.0682, -0.0758, -0.0592, -0.0283,\n",
      "         0.0904,  0.0505,  0.0376,  0.0251, -0.0988, -0.1248,  0.0526,  0.1055,\n",
      "        -0.0234,  0.0451, -0.0417,  0.0048,  0.0260, -0.0384, -0.0544,  0.0617,\n",
      "        -0.0865, -0.0272,  0.0648,  0.0064, -0.0216,  0.0999, -0.0833, -0.0018,\n",
      "         0.0954, -0.1105, -0.0721, -0.1178, -0.0381, -0.0820,  0.0722,  0.0555,\n",
      "        -0.1148,  0.0519,  0.0844, -0.0302, -0.1074, -0.1039,  0.0440, -0.0146,\n",
      "         0.0794, -0.0125, -0.0437,  0.1212, -0.0227, -0.0061, -0.0351, -0.0103,\n",
      "        -0.1042, -0.0199, -0.0140, -0.1045,  0.0990,  0.1205,  0.0748,  0.0327],\n",
      "       device='cuda:0', requires_grad=True)\n",
      "Parameter containing:\n",
      "tensor([[-0.0666,  0.0766,  0.0187,  ..., -0.1120, -0.0292,  0.0424],\n",
      "        [-0.0331, -0.0888, -0.1056,  ...,  0.0787,  0.0601,  0.0851],\n",
      "        [-0.0310,  0.1158, -0.0303,  ..., -0.0204,  0.0443, -0.0826],\n",
      "        ...,\n",
      "        [ 0.0405,  0.1035,  0.1178,  ..., -0.0901, -0.0640, -0.1079],\n",
      "        [ 0.0082, -0.0055, -0.0455,  ...,  0.0221, -0.1041,  0.0839],\n",
      "        [-0.0744, -0.1077, -0.0951,  ..., -0.0098, -0.0984, -0.0979]],\n",
      "       device='cuda:0', requires_grad=True)\n",
      "Parameter containing:\n",
      "tensor([ 1.3148e-01,  8.8356e-02, -1.1314e-01, -1.1233e-01,  1.9199e-02,\n",
      "         9.3262e-02, -4.8270e-02, -1.1925e-01,  1.0466e-02, -1.1856e-01,\n",
      "         3.1021e-02,  6.2614e-02,  1.4157e-01, -4.5831e-02, -1.0261e-01,\n",
      "        -2.5482e-02, -3.9516e-02,  7.6244e-02,  1.1519e-01, -8.2972e-02,\n",
      "        -7.4388e-02, -1.1303e-01, -1.0424e-01, -9.8908e-02,  3.8348e-02,\n",
      "         8.3342e-04, -1.1381e-04,  9.2271e-02,  1.9785e-02, -7.0650e-02,\n",
      "        -3.1932e-02, -4.8150e-02,  5.1775e-02,  1.0687e-01,  3.8912e-02,\n",
      "        -6.7296e-02,  1.3236e-02, -6.9531e-02, -5.1905e-02,  6.1904e-03,\n",
      "        -4.3336e-02,  1.1924e-01, -1.9281e-02,  7.4512e-03, -5.8359e-02,\n",
      "         1.1236e-01, -1.9159e-02, -1.0336e-01,  2.8496e-03,  8.4318e-02,\n",
      "        -6.0515e-03,  4.7451e-02, -8.1911e-02, -6.6103e-02, -4.8146e-02,\n",
      "        -5.9327e-02,  4.3605e-02, -1.1476e-02,  9.3680e-02, -3.6700e-03,\n",
      "         9.8784e-03, -7.6172e-02,  3.2716e-02, -1.3167e-01], device='cuda:0',\n",
      "       requires_grad=True)\n",
      "Parameter containing:\n",
      "tensor([1.0022, 1.0019, 1.0018, 0.9907, 0.9991, 1.0070, 1.0027, 0.9941, 0.9948,\n",
      "        1.0051, 0.9954, 0.9977, 1.0176, 0.9977, 1.0049, 1.0087, 1.0002, 1.0029,\n",
      "        1.0114, 1.0023, 1.0006, 0.9961, 1.0050, 0.9939, 1.0093, 0.9766, 1.0003,\n",
      "        1.0074, 1.0166, 1.0032, 0.9990, 1.0017, 1.0020, 0.9997, 0.9988, 0.9979,\n",
      "        0.9956, 1.0009, 0.9942, 1.0027, 0.9951, 1.0018, 0.9942, 0.9893, 0.9955,\n",
      "        0.9873, 0.9966, 0.9916, 0.9970, 0.9995, 1.0046, 0.9971, 1.0123, 1.0063,\n",
      "        0.9980, 1.0016, 1.0071, 0.9937, 1.0072, 1.0013, 1.0028, 1.0058, 0.9943,\n",
      "        0.9965], device='cuda:0', requires_grad=True)\n",
      "Parameter containing:\n",
      "tensor([-8.0235e-03, -2.3789e-03, -5.2526e-03, -2.3339e-03, -8.2757e-03,\n",
      "         4.8011e-03, -8.0412e-03, -4.9378e-03, -2.3021e-03,  7.2402e-03,\n",
      "         2.7721e-03, -8.1513e-03, -7.6094e-03,  7.9721e-04,  6.1779e-03,\n",
      "        -8.0775e-03, -9.1421e-04,  3.8341e-03, -7.9415e-03,  1.1052e-02,\n",
      "         3.4461e-03,  3.4616e-03, -3.7956e-03, -1.7254e-02, -6.9742e-03,\n",
      "        -1.9630e-03,  1.4165e-02,  1.6486e-04,  3.4096e-03,  1.9602e-03,\n",
      "         4.1600e-04,  7.0326e-03,  1.8600e-04, -7.6597e-03,  5.6694e-03,\n",
      "        -4.9030e-03, -1.3852e-02, -4.8480e-03, -1.0189e-02, -1.4170e-02,\n",
      "         1.1201e-02, -7.9763e-03,  7.1336e-03, -3.5000e-03,  1.4078e-02,\n",
      "         7.7840e-04,  1.2288e-02,  3.5004e-03, -3.9162e-03, -1.2081e-02,\n",
      "         6.4804e-03, -6.2030e-04,  5.0025e-03,  4.4380e-04,  1.2422e-02,\n",
      "        -2.4068e-02, -5.4343e-05,  8.6425e-03, -1.6511e-03,  5.9308e-03,\n",
      "        -6.9343e-04,  7.7099e-03,  1.6382e-02,  1.0506e-02], device='cuda:0',\n",
      "       requires_grad=True)\n",
      "Parameter containing:\n",
      "tensor([1.0017, 0.9980, 1.0023, 0.9940, 1.0057, 1.0148, 0.9971, 1.0019, 0.9955,\n",
      "        1.0073, 0.9983, 0.9963, 1.0311, 1.0188, 0.9986, 1.0068, 0.9934, 1.0000,\n",
      "        1.0140, 1.0030, 1.0015, 1.0093, 0.9917, 0.9969, 0.9965, 0.9914, 0.9897,\n",
      "        1.0042, 1.0271, 1.0046, 0.9962, 1.0064, 1.0000, 1.0080, 1.0005, 1.0003,\n",
      "        1.0006, 0.9995, 0.9965, 1.0023, 1.0012, 0.9995, 1.0016, 0.9941, 0.9957,\n",
      "        0.9936, 0.9931, 0.9896, 0.9948, 1.0004, 1.0023, 1.0005, 1.0102, 1.0071,\n",
      "        1.0029, 0.9973, 1.0037, 0.9989, 1.0066, 1.0034, 0.9998, 1.0080, 0.9931,\n",
      "        0.9963], device='cuda:0', requires_grad=True)\n",
      "Parameter containing:\n",
      "tensor([-0.0059, -0.0017, -0.0022, -0.0050, -0.0122,  0.0066, -0.0035, -0.0047,\n",
      "        -0.0037,  0.0070,  0.0039, -0.0067, -0.0103,  0.0053,  0.0058, -0.0074,\n",
      "        -0.0003,  0.0067, -0.0089,  0.0090,  0.0052,  0.0025, -0.0065, -0.0199,\n",
      "        -0.0066, -0.0099,  0.0095, -0.0035,  0.0026, -0.0007, -0.0011,  0.0048,\n",
      "         0.0032, -0.0064,  0.0121, -0.0013, -0.0164, -0.0029, -0.0093, -0.0108,\n",
      "         0.0085, -0.0083,  0.0066, -0.0038,  0.0158,  0.0005,  0.0163,  0.0041,\n",
      "        -0.0023, -0.0083, -0.0016,  0.0030,  0.0069,  0.0009,  0.0086, -0.0216,\n",
      "         0.0038,  0.0089, -0.0030,  0.0108, -0.0066,  0.0058,  0.0162,  0.0156],\n",
      "       device='cuda:0', requires_grad=True)\n",
      "Parameter containing:\n",
      "tensor([[ 0.0754,  0.1042, -0.0888,  ...,  0.0864,  0.0907, -0.0413],\n",
      "        [ 0.0912,  0.1200, -0.0947,  ..., -0.1035,  0.1167, -0.0315],\n",
      "        [ 0.0893, -0.0879,  0.0177,  ..., -0.0837, -0.0365,  0.1172],\n",
      "        ...,\n",
      "        [ 0.0177, -0.0608,  0.0108,  ..., -0.0825,  0.0134, -0.0192],\n",
      "        [-0.0224,  0.0463, -0.1074,  ...,  0.0137, -0.1327, -0.0861],\n",
      "        [-0.0243, -0.0317,  0.0175,  ..., -0.0563, -0.0051, -0.0322]],\n",
      "       device='cuda:0', requires_grad=True)\n",
      "Parameter containing:\n",
      "tensor([-0.1154,  0.1156, -0.0998,  0.0660, -0.1175,  0.1322,  0.0168, -0.0055,\n",
      "        -0.0604,  0.1202,  0.0719,  0.0313,  0.0410, -0.1090,  0.0381, -0.0766,\n",
      "         0.0793,  0.0917, -0.0862, -0.0647,  0.1077, -0.0666,  0.0155, -0.0296,\n",
      "         0.0980,  0.0530,  0.0174,  0.0983,  0.0939, -0.1061,  0.0080,  0.0507,\n",
      "        -0.1226, -0.0965, -0.0368, -0.0374, -0.0718, -0.0622,  0.0201, -0.0327,\n",
      "        -0.0509, -0.0252, -0.0317, -0.0892, -0.0242, -0.0754,  0.0068, -0.0411,\n",
      "        -0.0589,  0.1156,  0.0275, -0.0389, -0.1190, -0.0018,  0.0299, -0.1100,\n",
      "         0.0346,  0.0758, -0.0498,  0.1296,  0.0577, -0.1013, -0.0137,  0.0705],\n",
      "       device='cuda:0', requires_grad=True)\n",
      "Parameter containing:\n",
      "tensor([[-0.1002,  0.0215, -0.0888,  ..., -0.0086, -0.1092,  0.1256],\n",
      "        [ 0.0911, -0.0779,  0.1177,  ..., -0.0591, -0.0679, -0.0908],\n",
      "        [ 0.0475, -0.1107, -0.0728,  ..., -0.1127, -0.0445,  0.0714],\n",
      "        ...,\n",
      "        [-0.0867, -0.0308,  0.1041,  ...,  0.0406, -0.1162, -0.1149],\n",
      "        [-0.0986,  0.0438,  0.0008,  ..., -0.0833, -0.0297, -0.0713],\n",
      "        [ 0.0714, -0.0813, -0.0208,  ..., -0.0585,  0.0712,  0.0302]],\n",
      "       device='cuda:0', requires_grad=True)\n",
      "Parameter containing:\n",
      "tensor([ 0.0034, -0.0259, -0.1165,  0.0584,  0.0368, -0.0569, -0.1180, -0.0230,\n",
      "        -0.0030,  0.0837,  0.0483, -0.1210,  0.0459, -0.0779,  0.0908,  0.0378,\n",
      "         0.0921, -0.0534,  0.0383,  0.1189, -0.0672, -0.1017, -0.0579, -0.0952,\n",
      "        -0.0141, -0.0437,  0.0584,  0.0967,  0.0888, -0.1111,  0.1336,  0.0498,\n",
      "        -0.0030,  0.0348, -0.1264, -0.0445, -0.0916,  0.0299, -0.0905, -0.0568,\n",
      "         0.0532,  0.0197, -0.1134, -0.0277, -0.0087, -0.0932, -0.0165, -0.0378,\n",
      "        -0.0670,  0.1015,  0.1205,  0.0685,  0.0783, -0.0137, -0.0824,  0.1140,\n",
      "         0.0985, -0.1277, -0.1278,  0.0122, -0.0542, -0.1161,  0.0304,  0.1082],\n",
      "       device='cuda:0', requires_grad=True)\n",
      "Parameter containing:\n",
      "tensor([[ 0.1077, -0.1153, -0.0346,  ...,  0.0855, -0.1190, -0.0248],\n",
      "        [ 0.0418, -0.0521,  0.1312,  ...,  0.1582, -0.1250,  0.1154],\n",
      "        [ 0.0093,  0.0885, -0.0975,  ..., -0.0107,  0.1056, -0.0210],\n",
      "        ...,\n",
      "        [-0.0662, -0.1065,  0.1046,  ...,  0.1028,  0.0815, -0.0209],\n",
      "        [-0.0099,  0.0916,  0.0383,  ...,  0.0743,  0.0985,  0.0167],\n",
      "        [-0.0023,  0.0148, -0.0351,  ..., -0.0038,  0.0751, -0.0814]],\n",
      "       device='cuda:0', requires_grad=True)\n",
      "Parameter containing:\n",
      "tensor([-0.0467, -0.0113, -0.0547, -0.0269, -0.0059,  0.1071,  0.0290, -0.0852,\n",
      "         0.0404,  0.0774, -0.0659, -0.1212,  0.0175,  0.0289, -0.0231, -0.0961,\n",
      "         0.0822, -0.1187, -0.1009,  0.0348,  0.1066,  0.0207,  0.0665,  0.1186,\n",
      "         0.0927, -0.0681,  0.0915, -0.0409,  0.1019, -0.0562,  0.0815,  0.1175,\n",
      "        -0.0140,  0.0059,  0.0352, -0.0358,  0.0684,  0.0526,  0.0836,  0.0869,\n",
      "        -0.0468,  0.0987, -0.0140,  0.0620,  0.0915, -0.0388, -0.0609,  0.1153,\n",
      "         0.1071,  0.0827,  0.0479, -0.0302, -0.0825, -0.0352,  0.1212,  0.0222,\n",
      "         0.1071, -0.0317,  0.0308, -0.0953, -0.0443,  0.0572,  0.0492,  0.0292],\n",
      "       device='cuda:0', requires_grad=True)\n",
      "Parameter containing:\n",
      "tensor([[ 0.0855,  0.0714, -0.0370,  ...,  0.0079,  0.0201, -0.0580],\n",
      "        [ 0.0264, -0.1086,  0.0409,  ...,  0.0955,  0.0063,  0.1148],\n",
      "        [ 0.0203, -0.0065,  0.0639,  ..., -0.0030, -0.0766, -0.0595],\n",
      "        ...,\n",
      "        [-0.0035, -0.1271, -0.0972,  ...,  0.1170,  0.0065,  0.0819],\n",
      "        [ 0.1002,  0.1049, -0.0538,  ...,  0.0644,  0.0424,  0.0100],\n",
      "        [ 0.0243,  0.0098, -0.0582,  ...,  0.0422, -0.0415,  0.0268]],\n",
      "       device='cuda:0', requires_grad=True)\n",
      "Parameter containing:\n",
      "tensor([ 0.0245,  0.0634,  0.0514,  0.0573,  0.1138, -0.1051, -0.0040,  0.0550,\n",
      "         0.0058, -0.0448,  0.0820,  0.1057,  0.0132, -0.1188, -0.0847, -0.0969,\n",
      "        -0.0550,  0.0301,  0.1247, -0.0836, -0.0480, -0.0067, -0.1064,  0.0541,\n",
      "        -0.0103, -0.1106,  0.0750, -0.1060,  0.1069, -0.0296, -0.0230, -0.0009,\n",
      "        -0.1098, -0.0120, -0.1269,  0.0928,  0.0368, -0.0519,  0.0568, -0.1090,\n",
      "         0.0498,  0.0992, -0.0388,  0.0380, -0.1087, -0.0892,  0.0477, -0.0258,\n",
      "         0.0106,  0.0596,  0.0355, -0.0085,  0.0550,  0.1051,  0.1293, -0.0867,\n",
      "         0.0985, -0.0383,  0.0327, -0.0870, -0.0789,  0.0542,  0.0172, -0.0482],\n",
      "       device='cuda:0', requires_grad=True)\n",
      "Parameter containing:\n",
      "tensor([1.0149, 0.9985, 0.9904, 0.9965, 1.0015, 1.0030, 1.0042, 0.9990, 0.9914,\n",
      "        1.0207, 1.0010, 1.0048, 0.9981, 0.9996, 0.9998, 0.9932, 1.0003, 0.9986,\n",
      "        0.9980, 0.9965, 0.9997, 0.9999, 0.9984, 0.9943, 1.0031, 1.0000, 1.0081,\n",
      "        1.0020, 0.9989, 1.0096, 1.0083, 0.9947, 0.9937, 0.9953, 1.0037, 1.0007,\n",
      "        1.0062, 1.0003, 0.9969, 1.0033, 0.9974, 0.9985, 1.0010, 0.9975, 0.9949,\n",
      "        1.0004, 0.9945, 1.0039, 1.0075, 1.0015, 1.0088, 1.0160, 0.9877, 0.9980,\n",
      "        1.0058, 1.0112, 1.0100, 1.0087, 1.0013, 1.0035, 0.9986, 0.9996, 1.0050,\n",
      "        0.9840], device='cuda:0', requires_grad=True)\n",
      "Parameter containing:\n",
      "tensor([-0.0067, -0.0166,  0.0007,  0.0026,  0.0081, -0.0129, -0.0076,  0.0046,\n",
      "         0.0114,  0.0111, -0.0069, -0.0098, -0.0102, -0.0036,  0.0140,  0.0078,\n",
      "        -0.0026,  0.0011,  0.0072, -0.0059, -0.0068,  0.0086, -0.0102,  0.0053,\n",
      "         0.0027,  0.0068,  0.0104,  0.0042,  0.0080, -0.0038,  0.0144,  0.0012,\n",
      "         0.0126,  0.0166, -0.0085, -0.0014,  0.0091, -0.0084,  0.0152,  0.0111,\n",
      "         0.0011,  0.0024,  0.0044, -0.0132,  0.0018,  0.0071, -0.0164,  0.0010,\n",
      "         0.0076,  0.0012, -0.0024,  0.0086, -0.0124, -0.0137,  0.0070,  0.0077,\n",
      "         0.0054, -0.0073, -0.0074,  0.0087, -0.0146, -0.0003, -0.0034, -0.0068],\n",
      "       device='cuda:0', requires_grad=True)\n",
      "Parameter containing:\n",
      "tensor([1.0225, 0.9965, 1.0011, 0.9978, 0.9992, 0.9921, 0.9951, 0.9960, 0.9933,\n",
      "        1.0063, 1.0039, 1.0080, 0.9990, 0.9968, 1.0025, 1.0032, 0.9963, 1.0005,\n",
      "        0.9974, 0.9953, 1.0040, 0.9977, 0.9992, 0.9857, 0.9977, 1.0138, 1.0128,\n",
      "        0.9990, 0.9911, 1.0240, 1.0001, 1.0070, 1.0026, 1.0037, 1.0019, 1.0048,\n",
      "        1.0052, 1.0017, 0.9950, 0.9903, 0.9918, 0.9966, 1.0042, 0.9989, 0.9990,\n",
      "        0.9977, 1.0104, 1.0152, 1.0122, 0.9941, 1.0146, 1.0114, 0.9840, 0.9967,\n",
      "        1.0041, 1.0044, 1.0035, 1.0081, 0.9936, 0.9989, 0.9975, 0.9985, 1.0002,\n",
      "        0.9964], device='cuda:0', requires_grad=True)\n",
      "Parameter containing:\n",
      "tensor([-0.0096, -0.0215, -0.0061,  0.0034,  0.0112, -0.0139, -0.0092,  0.0059,\n",
      "         0.0092,  0.0130, -0.0106, -0.0182, -0.0143, -0.0063,  0.0173,  0.0088,\n",
      "        -0.0011, -0.0018,  0.0086, -0.0070, -0.0080, -0.0029, -0.0162,  0.0022,\n",
      "         0.0051,  0.0067,  0.0121,  0.0013,  0.0054, -0.0037,  0.0112,  0.0039,\n",
      "         0.0133,  0.0133, -0.0088, -0.0026,  0.0060, -0.0079,  0.0150,  0.0062,\n",
      "         0.0041,  0.0040,  0.0022, -0.0164, -0.0002,  0.0044, -0.0194, -0.0007,\n",
      "         0.0015, -0.0065, -0.0069,  0.0120, -0.0160, -0.0145,  0.0067,  0.0142,\n",
      "         0.0004, -0.0099,  0.0007,  0.0086, -0.0164,  0.0033, -0.0069, -0.0021],\n",
      "       device='cuda:0', requires_grad=True)\n",
      "Parameter containing:\n",
      "tensor([[-0.0052, -0.0916, -0.0909,  ..., -0.0483,  0.1329, -0.0261],\n",
      "        [-0.0040,  0.0661,  0.0246,  ..., -0.1181,  0.0593, -0.0237],\n",
      "        [ 0.1138, -0.0526, -0.1103,  ..., -0.0050,  0.0538, -0.0662],\n",
      "        ...,\n",
      "        [ 0.0726, -0.1088, -0.0758,  ..., -0.0414, -0.0955,  0.0531],\n",
      "        [-0.0055,  0.1048, -0.1015,  ...,  0.0689,  0.1099,  0.0573],\n",
      "        [-0.0601, -0.1013,  0.0310,  ..., -0.0027,  0.1253,  0.1001]],\n",
      "       device='cuda:0', requires_grad=True)\n",
      "Parameter containing:\n",
      "tensor([-0.0584,  0.0385, -0.0603,  0.1048, -0.0471,  0.0197, -0.0876, -0.0057,\n",
      "         0.0172,  0.0451,  0.0003, -0.1119, -0.1091, -0.0726, -0.1110,  0.0591,\n",
      "         0.0002,  0.0924, -0.0249, -0.0123,  0.0852, -0.0254,  0.0342,  0.0229,\n",
      "         0.0033,  0.0784,  0.0769, -0.0682,  0.0922, -0.0435, -0.0744,  0.1018,\n",
      "         0.1234,  0.1076,  0.0653,  0.0263,  0.0862, -0.0964, -0.0409,  0.0704,\n",
      "        -0.0881, -0.1210, -0.0198,  0.0274,  0.0779, -0.0874, -0.0089, -0.0419,\n",
      "        -0.0107, -0.0721,  0.0978,  0.0812,  0.1043, -0.0685,  0.1213, -0.0364,\n",
      "         0.0874,  0.0709,  0.0466, -0.0714, -0.0246, -0.0453,  0.1246,  0.1117],\n",
      "       device='cuda:0', requires_grad=True)\n",
      "Parameter containing:\n",
      "tensor([[-1.2144e-01,  4.0008e-02,  1.0398e-01,  ...,  2.5417e-02,\n",
      "          8.7059e-03,  2.7606e-02],\n",
      "        [-1.2506e-01, -4.6316e-03, -7.5743e-02,  ..., -6.8117e-03,\n",
      "          3.5928e-03, -3.5299e-02],\n",
      "        [-6.9452e-03,  8.7360e-02, -3.4236e-02,  ..., -1.0727e-01,\n",
      "          6.5042e-05, -5.7081e-02],\n",
      "        ...,\n",
      "        [ 1.9634e-02,  1.4821e-02, -5.0258e-02,  ...,  1.1528e-01,\n",
      "          8.0054e-02,  9.0393e-02],\n",
      "        [-1.2937e-02, -2.4669e-02,  1.1156e-01,  ...,  9.7204e-02,\n",
      "         -8.9327e-02,  1.2593e-01],\n",
      "        [ 1.1112e-01, -1.8511e-03,  2.4336e-02,  ..., -6.1326e-02,\n",
      "          7.0992e-02, -2.5323e-02]], device='cuda:0', requires_grad=True)\n",
      "Parameter containing:\n",
      "tensor([-0.0737, -0.0326, -0.0104, -0.0179, -0.1052, -0.1150,  0.0818,  0.0691,\n",
      "        -0.0097,  0.0115, -0.0011,  0.0974,  0.1098,  0.1228, -0.0729, -0.1077,\n",
      "         0.0199, -0.0868,  0.0808,  0.0319,  0.0294, -0.0348, -0.0347, -0.0047,\n",
      "         0.1009, -0.0214, -0.0530,  0.0270,  0.0824, -0.1421,  0.0207, -0.0924,\n",
      "         0.0063,  0.0669, -0.1159,  0.0747,  0.0306,  0.0983, -0.0540,  0.0434,\n",
      "         0.0175,  0.0579, -0.0950,  0.1003,  0.0252,  0.1080,  0.0187,  0.0705,\n",
      "         0.0550, -0.0859,  0.0093, -0.0564, -0.0984,  0.0772,  0.1071,  0.0031,\n",
      "        -0.0997, -0.1197,  0.0393, -0.0274,  0.0171,  0.0964,  0.1025,  0.0642],\n",
      "       device='cuda:0', requires_grad=True)\n",
      "Parameter containing:\n",
      "tensor([[-0.0125, -0.0958, -0.0664,  ...,  0.0261, -0.1118,  0.0815],\n",
      "        [-0.0961, -0.0405, -0.0042,  ...,  0.0092,  0.0731, -0.1158],\n",
      "        [-0.1195, -0.0168, -0.0507,  ..., -0.0611,  0.0328, -0.1198],\n",
      "        ...,\n",
      "        [ 0.0085, -0.0616, -0.1289,  ..., -0.0368, -0.0828, -0.0594],\n",
      "        [-0.0434,  0.1102,  0.0049,  ..., -0.1430,  0.0427,  0.0320],\n",
      "        [-0.0843, -0.0156, -0.0564,  ...,  0.0068, -0.1297,  0.0815]],\n",
      "       device='cuda:0', requires_grad=True)\n",
      "Parameter containing:\n",
      "tensor([ 0.0429,  0.0775,  0.0944,  0.0313, -0.0918,  0.1054,  0.1051,  0.1178,\n",
      "         0.0059,  0.0224,  0.0138,  0.0377, -0.0663,  0.0645,  0.0853, -0.0798,\n",
      "         0.0633,  0.0684, -0.0601,  0.0558, -0.0990, -0.0241, -0.0833,  0.1130,\n",
      "         0.0904, -0.0990, -0.0062,  0.0244,  0.0174, -0.0189, -0.0612, -0.1228,\n",
      "         0.0447, -0.0535, -0.0419, -0.1167, -0.0599, -0.1110,  0.0642,  0.0753,\n",
      "         0.0752, -0.0634, -0.0455,  0.0544, -0.0385, -0.1244, -0.0950,  0.1037,\n",
      "         0.0389,  0.0285,  0.0761,  0.0889, -0.0189, -0.0484,  0.0431, -0.0050,\n",
      "         0.0273,  0.1037, -0.0043,  0.0995, -0.0956, -0.1031, -0.0751, -0.0345],\n",
      "       device='cuda:0', requires_grad=True)\n",
      "Parameter containing:\n",
      "tensor([[-0.1207,  0.0656, -0.0307,  ...,  0.1173,  0.0753,  0.0492],\n",
      "        [ 0.0494, -0.0128, -0.0332,  ...,  0.0529, -0.0807, -0.0564],\n",
      "        [ 0.0720, -0.0377,  0.0810,  ...,  0.0966,  0.0841, -0.0370],\n",
      "        ...,\n",
      "        [ 0.0828, -0.0123, -0.1075,  ..., -0.0839, -0.0156, -0.0827],\n",
      "        [ 0.1020,  0.0625,  0.1095,  ...,  0.1095, -0.0935,  0.0731],\n",
      "        [ 0.0514,  0.0854,  0.0820,  ..., -0.0319,  0.0874, -0.0804]],\n",
      "       device='cuda:0', requires_grad=True)\n",
      "Parameter containing:\n",
      "tensor([ 0.0207,  0.0916,  0.1180,  0.0451,  0.0835,  0.0534, -0.0787, -0.0467,\n",
      "         0.0366, -0.0355,  0.0720,  0.1075, -0.1065,  0.0811,  0.0154, -0.1174,\n",
      "         0.0492, -0.1182,  0.1170, -0.0015,  0.0175, -0.0182,  0.0315, -0.0307,\n",
      "        -0.1313,  0.0889,  0.1239, -0.0272,  0.1200, -0.0095,  0.0965, -0.0280,\n",
      "        -0.0279,  0.0959, -0.1236,  0.0887, -0.0980, -0.0726,  0.0944,  0.0463,\n",
      "        -0.0070, -0.0192, -0.0003, -0.1011, -0.0273, -0.0085, -0.0967,  0.1115,\n",
      "         0.0987, -0.0899,  0.0198, -0.0504, -0.0664, -0.0131,  0.0610,  0.0476,\n",
      "         0.0943, -0.0771,  0.0332,  0.0176, -0.0290, -0.1344,  0.0020, -0.0537],\n",
      "       device='cuda:0', requires_grad=True)\n",
      "Parameter containing:\n",
      "tensor([1.0103, 1.0102, 1.0006, 0.9986, 0.9968, 1.0070, 0.9920, 0.9982, 0.9974,\n",
      "        0.9978, 1.0019, 1.0068, 1.0046, 1.0155, 1.0030, 1.0017, 1.0003, 1.0048,\n",
      "        0.9916, 0.9865, 1.0078, 1.0089, 1.0026, 1.0017, 0.9995, 1.0040, 0.9932,\n",
      "        0.9956, 0.9952, 1.0420, 0.9805, 0.9927, 1.0054, 1.0160, 1.0017, 0.9877,\n",
      "        1.0337, 1.0159, 0.9929, 1.0169, 0.9866, 1.0061, 0.9987, 0.9891, 1.0085,\n",
      "        1.0310, 1.0105, 0.9918, 0.9985, 0.9861, 0.9965, 0.9887, 0.9680, 0.9872,\n",
      "        1.0177, 0.9985, 1.0180, 0.9934, 1.0038, 1.0001, 0.9963, 1.0021, 0.9758,\n",
      "        0.9998], device='cuda:0', requires_grad=True)\n",
      "Parameter containing:\n",
      "tensor([ 0.0041, -0.0001,  0.0200,  0.0261,  0.0054,  0.0055, -0.0029, -0.0076,\n",
      "         0.0269,  0.0074, -0.0005, -0.0016, -0.0048,  0.0113, -0.0071, -0.0254,\n",
      "         0.0057,  0.0032, -0.0103, -0.0015, -0.0057,  0.0292, -0.0084, -0.0193,\n",
      "        -0.0064, -0.0267,  0.0228,  0.0091, -0.0013, -0.0298,  0.0057, -0.0085,\n",
      "         0.0062,  0.0058, -0.0089, -0.0280,  0.0026, -0.0088,  0.0214, -0.0120,\n",
      "        -0.0032,  0.0028,  0.0018, -0.0149, -0.0028, -0.0002,  0.0203,  0.0034,\n",
      "        -0.0077,  0.0155,  0.0029, -0.0038, -0.0067, -0.0173,  0.0164,  0.0071,\n",
      "        -0.0173,  0.0108,  0.0222, -0.0041, -0.0130, -0.0161, -0.0022, -0.0388],\n",
      "       device='cuda:0', requires_grad=True)\n",
      "Parameter containing:\n",
      "tensor([0.9651, 0.9857, 0.9936, 0.9844, 0.9945, 1.0044, 0.9876, 1.0006, 0.9822,\n",
      "        0.9983, 0.9908, 1.0120, 0.9982, 1.0742, 0.9825, 1.0111, 0.9912, 0.9899,\n",
      "        0.9911, 0.9748, 1.0120, 0.9900, 0.9961, 1.0005, 0.9919, 1.0156, 1.0259,\n",
      "        0.9933, 1.0012, 1.0215, 0.9714, 0.9927, 1.0069, 1.0112, 1.0124, 1.0052,\n",
      "        1.0424, 1.0573, 0.9790, 1.0579, 0.9860, 0.9952, 1.0012, 1.0100, 0.9962,\n",
      "        1.0891, 1.0028, 0.9958, 1.0045, 0.9888, 0.9957, 0.9833, 0.9737, 1.0126,\n",
      "        1.0270, 1.0020, 1.0175, 1.0136, 1.0073, 0.9968, 0.9994, 0.9898, 0.9859,\n",
      "        0.9990], device='cuda:0', requires_grad=True)\n",
      "Parameter containing:\n",
      "tensor([-0.0112,  0.0053,  0.0232,  0.0290,  0.0043,  0.0103, -0.0107, -0.0020,\n",
      "         0.0362,  0.0086,  0.0076,  0.0004, -0.0057,  0.0034, -0.0048, -0.0243,\n",
      "        -0.0009,  0.0074, -0.0093, -0.0046,  0.0033,  0.0240,  0.0015, -0.0262,\n",
      "        -0.0032, -0.0235,  0.0300,  0.0127,  0.0063, -0.0286,  0.0052, -0.0082,\n",
      "        -0.0008,  0.0092, -0.0122, -0.0329, -0.0006, -0.0190,  0.0108, -0.0178,\n",
      "         0.0073,  0.0045,  0.0033, -0.0144, -0.0046,  0.0004,  0.0199,  0.0138,\n",
      "        -0.0113,  0.0162,  0.0171, -0.0149, -0.0038, -0.0171,  0.0161,  0.0058,\n",
      "        -0.0231,  0.0106,  0.0191, -0.0086, -0.0140, -0.0196,  0.0061, -0.0422],\n",
      "       device='cuda:0', requires_grad=True)\n",
      "Parameter containing:\n",
      "tensor([[-0.1435,  0.0428, -0.0310,  ...,  0.1115,  0.0885, -0.0313],\n",
      "        [ 0.0284, -0.1128, -0.1451,  ..., -0.0756,  0.1039, -0.0030],\n",
      "        [-0.0847,  0.0278,  0.0757,  ..., -0.0196, -0.0013, -0.0556],\n",
      "        ...,\n",
      "        [ 0.0636,  0.0165, -0.0034,  ..., -0.0534, -0.0221,  0.1143],\n",
      "        [ 0.0461, -0.0170, -0.0961,  ...,  0.0257, -0.0785, -0.0545],\n",
      "        [-0.0702,  0.0829,  0.0137,  ...,  0.1093,  0.0613, -0.0517]],\n",
      "       device='cuda:0', requires_grad=True)\n",
      "Parameter containing:\n",
      "tensor([ 0.0239,  0.0446,  0.0045, -0.0587,  0.0297, -0.0034,  0.0804, -0.1200,\n",
      "         0.0259, -0.1019,  0.0903, -0.1116, -0.0767,  0.0736, -0.0575,  0.0921,\n",
      "        -0.1152,  0.0981, -0.0299, -0.1147, -0.0246, -0.0670,  0.0227,  0.0652,\n",
      "         0.0565,  0.0652,  0.0563,  0.0790,  0.0555, -0.0925,  0.1217,  0.0332,\n",
      "        -0.0157,  0.0325, -0.0511, -0.0777,  0.1406, -0.0824,  0.1104,  0.0467,\n",
      "         0.0276,  0.0046,  0.0782, -0.0673,  0.1297, -0.0074,  0.1198,  0.1189,\n",
      "        -0.0437,  0.0857,  0.0727,  0.1062,  0.0156,  0.0069,  0.1137,  0.0163,\n",
      "         0.0952,  0.0664,  0.0216,  0.0610, -0.1119,  0.0656, -0.0374, -0.0460],\n",
      "       device='cuda:0', requires_grad=True)\n",
      "Parameter containing:\n",
      "tensor([[ 0.1012, -0.0972, -0.0911,  ...,  0.0209,  0.0188, -0.0717],\n",
      "        [ 0.0128,  0.0958,  0.0042,  ..., -0.0966,  0.0143,  0.0260],\n",
      "        [ 0.0857, -0.1302, -0.0680,  ..., -0.0183, -0.0057,  0.0898],\n",
      "        ...,\n",
      "        [ 0.1001, -0.0582, -0.0081,  ...,  0.0037, -0.1079,  0.1055],\n",
      "        [ 0.0644, -0.1075, -0.0198,  ...,  0.0363,  0.0491,  0.0826],\n",
      "        [ 0.0610, -0.0508,  0.0871,  ..., -0.0299,  0.0438,  0.0624]],\n",
      "       device='cuda:0', requires_grad=True)\n",
      "Parameter containing:\n",
      "tensor([ 0.0609,  0.0605,  0.0921,  0.0943,  0.0208, -0.0873, -0.0290, -0.0254,\n",
      "        -0.0909, -0.0840, -0.0588,  0.0472, -0.0210,  0.0857,  0.0042, -0.1158,\n",
      "        -0.0316,  0.0261,  0.0788, -0.0047, -0.0316,  0.0740,  0.0197, -0.1074,\n",
      "         0.0473, -0.0869,  0.1103, -0.0893,  0.0059,  0.0225, -0.0643, -0.0342,\n",
      "         0.0781, -0.0159, -0.1205,  0.0006,  0.0802, -0.0265, -0.0380,  0.0436,\n",
      "        -0.0293, -0.0637, -0.1449,  0.0460, -0.0254,  0.0910,  0.0801, -0.0983,\n",
      "        -0.0101, -0.0713,  0.1210,  0.1006,  0.0672, -0.0603,  0.0143,  0.0688,\n",
      "         0.0601,  0.0751,  0.1209,  0.0845,  0.0766,  0.0892,  0.0453,  0.0561],\n",
      "       device='cuda:0', requires_grad=True)\n",
      "Parameter containing:\n",
      "tensor([[-0.1483, -0.0962,  0.1328,  ..., -0.1699, -0.1537,  0.2111],\n",
      "        [ 0.1512,  0.0962,  0.1616,  ...,  0.1309,  0.1578,  0.0967],\n",
      "        [ 0.0509,  0.1917, -0.2017,  ...,  0.1537,  0.0452,  0.0499],\n",
      "        ...,\n",
      "        [ 0.0798, -0.0908,  0.1670,  ...,  0.0407, -0.1376, -0.2001],\n",
      "        [-0.1212, -0.1655,  0.0611,  ..., -0.2077, -0.0276, -0.0146],\n",
      "        [-0.1271, -0.0076,  0.1998,  ..., -0.1319,  0.0416,  0.1884]],\n",
      "       device='cuda:0', requires_grad=True)\n",
      "Parameter containing:\n",
      "tensor([-0.1144, -0.0087,  0.0950, -0.0223, -0.0926,  0.0306, -0.1116, -0.0889,\n",
      "        -0.1222,  0.0657,  0.1095, -0.0863, -0.0408, -0.0944,  0.0890, -0.0528,\n",
      "        -0.1111, -0.0003, -0.0271, -0.1185,  0.0090,  0.1095,  0.0317,  0.0862,\n",
      "         0.0511,  0.0800,  0.0858,  0.0449,  0.0960, -0.0340,  0.0407,  0.0218,\n",
      "        -0.0752,  0.0978,  0.0382, -0.0252,  0.1024,  0.0144, -0.0455, -0.0802,\n",
      "        -0.1211, -0.1123,  0.0896,  0.1089,  0.1167, -0.0283,  0.1252, -0.0425,\n",
      "        -0.0494,  0.0921, -0.1341, -0.1158, -0.0656, -0.0571, -0.1247,  0.0880,\n",
      "        -0.0262, -0.0441, -0.0038, -0.0795,  0.0112,  0.0387, -0.0655, -0.1148],\n",
      "       device='cuda:0', requires_grad=True)\n",
      "Parameter containing:\n",
      "tensor([[ 0.0305,  0.0614, -0.0499,  ..., -0.1444,  0.0530,  0.0738],\n",
      "        [-0.0745,  0.0389, -0.2018,  ..., -0.1058, -0.1416,  0.1533],\n",
      "        [ 0.2063, -0.0548,  0.0502,  ...,  0.0100,  0.0235, -0.1185],\n",
      "        ...,\n",
      "        [ 0.0274, -0.0797,  0.0664,  ...,  0.0640, -0.1212,  0.0667],\n",
      "        [ 0.1892,  0.0349, -0.0557,  ...,  0.0851, -0.1317,  0.1461],\n",
      "        [-0.0047, -0.0054,  0.1635,  ..., -0.0526,  0.1472, -0.0652]],\n",
      "       device='cuda:0', requires_grad=True)\n",
      "Parameter containing:\n",
      "tensor([ 0.0324,  0.0327, -0.0135, -0.0126, -0.0600,  0.0178,  0.1034, -0.1143,\n",
      "        -0.0697, -0.0265,  0.0124,  0.0431,  0.0919, -0.0863,  0.0203,  0.0449,\n",
      "        -0.0991,  0.0812,  0.0893,  0.0870, -0.0446, -0.0985, -0.0690, -0.1078,\n",
      "        -0.0389, -0.0674,  0.1040,  0.0064,  0.0176,  0.1105, -0.0440, -0.0706,\n",
      "         0.0518, -0.0485,  0.0056, -0.0041, -0.0333, -0.0378,  0.0673,  0.1068,\n",
      "        -0.1135, -0.0169, -0.0979, -0.0792, -0.0059,  0.0736,  0.0790,  0.0775,\n",
      "        -0.0501, -0.0721,  0.0325,  0.0624, -0.0917,  0.0738,  0.0308, -0.0019,\n",
      "        -0.0922,  0.0652,  0.1124, -0.0034,  0.0669, -0.0920, -0.0983, -0.0039],\n",
      "       device='cuda:0', requires_grad=True)\n",
      "Parameter containing:\n",
      "tensor([[-0.0517, -0.0210, -0.0692,  ..., -0.1945,  0.0553, -0.0428],\n",
      "        [ 0.0533, -0.0683,  0.1595,  ..., -0.2142,  0.1799, -0.0347],\n",
      "        [ 0.1543,  0.0252,  0.0930,  ...,  0.0112,  0.1977,  0.1063],\n",
      "        ...,\n",
      "        [-0.1301,  0.1345,  0.0975,  ...,  0.0542, -0.0298,  0.0633],\n",
      "        [-0.1183,  0.1633, -0.1321,  ...,  0.1376,  0.0646, -0.1546],\n",
      "        [ 0.0275,  0.2145, -0.0117,  ...,  0.1417, -0.1842, -0.1990]],\n",
      "       device='cuda:0', requires_grad=True)\n",
      "Parameter containing:\n",
      "tensor([ 0.0215, -0.1120, -0.0770, -0.0676,  0.0863, -0.1102,  0.0673,  0.0483,\n",
      "        -0.0571,  0.0007, -0.1113,  0.0989, -0.0461,  0.0815, -0.0695,  0.0301,\n",
      "         0.0099,  0.0701, -0.0037, -0.0921, -0.0706,  0.0394, -0.0100,  0.0647,\n",
      "        -0.1246,  0.0578,  0.0587, -0.1178,  0.1205,  0.0698,  0.0411, -0.0827,\n",
      "        -0.0405,  0.0620, -0.0363,  0.0639,  0.0881,  0.0248,  0.0571, -0.0260,\n",
      "         0.0413,  0.1008,  0.1210,  0.1209,  0.0357,  0.0669,  0.0618, -0.0887,\n",
      "         0.0302, -0.0015,  0.0934, -0.1247,  0.0272, -0.0935,  0.0178, -0.0835,\n",
      "        -0.0076,  0.0591,  0.0012,  0.0967, -0.0942, -0.0669, -0.1193,  0.0965],\n",
      "       device='cuda:0', requires_grad=True)\n",
      "Parameter containing:\n",
      "tensor([[ 0.0315, -0.0422, -0.0504,  ..., -0.1170, -0.0216,  0.1041],\n",
      "        [-0.0371,  0.1184, -0.1139,  ...,  0.0114,  0.0883,  0.0735],\n",
      "        [-0.0583, -0.0165, -0.1068,  ...,  0.0103, -0.0086, -0.0160],\n",
      "        ...,\n",
      "        [ 0.0581,  0.1124,  0.0276,  ..., -0.0160,  0.0844,  0.0568],\n",
      "        [ 0.0093, -0.0754, -0.0615,  ..., -0.0510,  0.0783,  0.0829],\n",
      "        [ 0.0264,  0.0943, -0.0028,  ...,  0.1055, -0.0146, -0.0773]],\n",
      "       device='cuda:0', requires_grad=True)\n",
      "Parameter containing:\n",
      "tensor([ 0.0868, -0.0151,  0.0137,  0.0732,  0.0394,  0.0893,  0.0919, -0.0131,\n",
      "        -0.0699, -0.0999,  0.0159,  0.0553,  0.0339, -0.0676, -0.0591,  0.1043,\n",
      "         0.0911,  0.0505,  0.0388,  0.0113,  0.0297,  0.0170,  0.1099, -0.0979,\n",
      "        -0.0344,  0.0256, -0.0333,  0.0417, -0.0294,  0.1115, -0.0482, -0.0648],\n",
      "       device='cuda:0', requires_grad=True)\n",
      "Parameter containing:\n",
      "tensor([[-0.0075, -0.1662, -0.1207, -0.1123,  0.1045,  0.1467,  0.0452, -0.1515,\n",
      "         -0.1608, -0.1363, -0.1745,  0.0097, -0.0907,  0.0106, -0.0214,  0.0125,\n",
      "          0.0629,  0.0728, -0.0801,  0.0725,  0.0288,  0.0317, -0.1097, -0.0221,\n",
      "         -0.0781,  0.0806,  0.1280,  0.0210,  0.0275,  0.0717, -0.0017,  0.1765]],\n",
      "       device='cuda:0', requires_grad=True)\n",
      "Parameter containing:\n",
      "tensor([-0.1564], device='cuda:0', requires_grad=True)\n"
     ]
    }
   ],
   "source": [
    "for i in model.parameters():\n",
    "    print(i)"
   ]
  },
  {
   "cell_type": "code",
   "execution_count": 39,
   "id": "8e984235",
   "metadata": {},
   "outputs": [
    {
     "data": {
      "text/plain": [
       "tensor([-1.2692,  0.4436, -0.1367,  1.5390,  0.5267, -0.1158,  0.6800, -0.5296,\n",
       "         0.4166,  0.9507,  0.3054, -0.4750, -1.5038, -0.3903,  0.4481, -0.7822,\n",
       "        -0.2305,  1.8570, -2.2536, -0.3374, -1.0979,  1.5404,  0.6799,  0.7584,\n",
       "        -1.6996, -0.5421, -0.4127, -0.0690,  0.5773,  1.1173, -1.1544, -1.0703])"
      ]
     },
     "execution_count": 39,
     "metadata": {},
     "output_type": "execute_result"
    }
   ],
   "source": [
    "model1 = SetTransformer(dim_input=32, \n",
    "                         num_outputs=32, \n",
    "                         dim_output=32, \n",
    "                         dim_hidden=64, \n",
    "                         num_inds=6, \n",
    "                         num_heads=4, \n",
    "                         ln=True, \n",
    "                         dropout=0.5, \n",
    "                         use_coattn=True, \n",
    "                         share=False, \n",
    "                         use_BSS=False, \n",
    "                         use_CLIP=False)\n",
    "model1.embedding.state_dict()[\"weight\"][1,:]"
   ]
  },
  {
   "cell_type": "code",
   "execution_count": 41,
   "id": "81dad186",
   "metadata": {},
   "outputs": [
    {
     "data": {
      "text/plain": [
       "tensor([ 1.7428,  0.6113,  1.1294, -0.6985,  0.0217,  0.5714, -0.0743,  0.1057,\n",
       "         0.2319,  0.2670, -0.9700,  0.0763,  0.4603, -3.8959, -0.6182,  0.8623,\n",
       "        -1.0760, -0.9592,  0.9274, -0.5777,  0.1985, -1.5596,  1.0333, -0.2352,\n",
       "        -0.3648, -1.0239, -0.9126, -1.9418, -0.8806,  0.2797, -1.3338, -0.3396])"
      ]
     },
     "execution_count": 41,
     "metadata": {},
     "output_type": "execute_result"
    }
   ],
   "source": [
    "model1.embedding.load_state_dict(model.embedding.state_dict())\n",
    "model1.embedding.state_dict()[\"weight\"][1,:]"
   ]
  },
  {
   "cell_type": "markdown",
   "id": "d3211a5a",
   "metadata": {},
   "source": [
    "# FrameSlidingTransformer"
   ]
  },
  {
   "cell_type": "code",
   "execution_count": 12,
   "id": "763cf72a",
   "metadata": {},
   "outputs": [
    {
     "data": {
      "text/plain": [
       "torch.Size([384, 3, 32])"
      ]
     },
     "execution_count": 12,
     "metadata": {},
     "output_type": "execute_result"
    }
   ],
   "source": [
    "def frame_slice(x, frame_size=6):\n",
    "    \"\"\"\n",
    "    Args:\n",
    "        x: (B, L, E)\n",
    "        frame_size: size of frames\n",
    "    Returns:\n",
    "        frames: (num_frames*B, frame_size, C)\n",
    "    \"\"\"\n",
    "    B, L, E = x.shape\n",
    "    x = x.view(B, L // frame_size, frame_size, E)\n",
    "    frames = x.contiguous().view(-1, frame_size, E)\n",
    "\n",
    "    return frames\n",
    "\n",
    "x = torch.ones(16, 72, 32)\n",
    "\n",
    "x1 = frame_slice(x, frame_size=3)\n",
    "x1.shape"
   ]
  },
  {
   "cell_type": "code",
   "execution_count": 8,
   "id": "1d0595f6",
   "metadata": {},
   "outputs": [
    {
     "data": {
      "text/plain": [
       "(16, 71, 32)"
      ]
     },
     "execution_count": 8,
     "metadata": {},
     "output_type": "execute_result"
    }
   ],
   "source": [
    "B, L, E"
   ]
  },
  {
   "cell_type": "code",
   "execution_count": 9,
   "id": "83267056",
   "metadata": {},
   "outputs": [
    {
     "data": {
      "text/plain": [
       "23"
      ]
     },
     "execution_count": 9,
     "metadata": {},
     "output_type": "execute_result"
    }
   ],
   "source": [
    "L // frame_size"
   ]
  },
  {
   "cell_type": "code",
   "execution_count": 10,
   "id": "d2a751cb",
   "metadata": {},
   "outputs": [
    {
     "data": {
      "text/plain": [
       "(35328, 36352)"
      ]
     },
     "execution_count": 10,
     "metadata": {},
     "output_type": "execute_result"
    }
   ],
   "source": [
    "16*23*3*32, 16*71*32"
   ]
  },
  {
   "cell_type": "code",
   "execution_count": 7,
   "id": "db8ef309",
   "metadata": {},
   "outputs": [
    {
     "ename": "RuntimeError",
     "evalue": "shape '[16, 23, 3, 32]' is invalid for input of size 36352",
     "output_type": "error",
     "traceback": [
      "\u001b[0;31m---------------------------------------------------------------------------\u001b[0m",
      "\u001b[0;31mRuntimeError\u001b[0m                              Traceback (most recent call last)",
      "Cell \u001b[0;32mIn[7], line 4\u001b[0m\n\u001b[1;32m      1\u001b[0m frame_size \u001b[38;5;241m=\u001b[39m \u001b[38;5;241m3\u001b[39m\n\u001b[1;32m      3\u001b[0m B, L, E \u001b[38;5;241m=\u001b[39m x\u001b[38;5;241m.\u001b[39mshape\n\u001b[0;32m----> 4\u001b[0m x1 \u001b[38;5;241m=\u001b[39m \u001b[43mx\u001b[49m\u001b[38;5;241;43m.\u001b[39;49m\u001b[43mview\u001b[49m\u001b[43m(\u001b[49m\u001b[43mB\u001b[49m\u001b[43m,\u001b[49m\u001b[43m \u001b[49m\u001b[43mL\u001b[49m\u001b[43m \u001b[49m\u001b[38;5;241;43m/\u001b[39;49m\u001b[38;5;241;43m/\u001b[39;49m\u001b[43m \u001b[49m\u001b[43mframe_size\u001b[49m\u001b[43m,\u001b[49m\u001b[43m \u001b[49m\u001b[43mframe_size\u001b[49m\u001b[43m,\u001b[49m\u001b[43m \u001b[49m\u001b[43mE\u001b[49m\u001b[43m)\u001b[49m\n\u001b[1;32m      5\u001b[0m x1\u001b[38;5;241m.\u001b[39mshape\n",
      "\u001b[0;31mRuntimeError\u001b[0m: shape '[16, 23, 3, 32]' is invalid for input of size 36352"
     ]
    }
   ],
   "source": [
    "frame_size = 3\n",
    "\n",
    "B, L, E = x.shape\n",
    "x1 = x.view(B, L // frame_size, frame_size, E)\n",
    "x1.shape"
   ]
  },
  {
   "cell_type": "markdown",
   "id": "fc9b4c23",
   "metadata": {},
   "source": [
    "# SequenceEncoder"
   ]
  },
  {
   "cell_type": "code",
   "execution_count": 2,
   "id": "6587cb9c",
   "metadata": {
    "scrolled": true
   },
   "outputs": [
    {
     "data": {
      "text/plain": [
       "SequenceEncoder(\n",
       "  (pos_encoder): PositionalEncoding(\n",
       "    (dropout): Dropout(p=0, inplace=False)\n",
       "  )\n",
       "  (seq_encoder): TransformerEncoder(\n",
       "    (layers): ModuleList(\n",
       "      (0): TransformerEncoderLayer(\n",
       "        (self_attn): MultiheadAttention(\n",
       "          (out_proj): NonDynamicallyQuantizableLinear(in_features=64, out_features=64, bias=True)\n",
       "        )\n",
       "        (linear1): Linear(in_features=64, out_features=2048, bias=True)\n",
       "        (dropout): Dropout(p=0.1, inplace=False)\n",
       "        (linear2): Linear(in_features=2048, out_features=64, bias=True)\n",
       "        (norm1): LayerNorm((64,), eps=1e-05, elementwise_affine=True)\n",
       "        (norm2): LayerNorm((64,), eps=1e-05, elementwise_affine=True)\n",
       "        (dropout1): Dropout(p=0.1, inplace=False)\n",
       "        (dropout2): Dropout(p=0.1, inplace=False)\n",
       "      )\n",
       "      (1): TransformerEncoderLayer(\n",
       "        (self_attn): MultiheadAttention(\n",
       "          (out_proj): NonDynamicallyQuantizableLinear(in_features=64, out_features=64, bias=True)\n",
       "        )\n",
       "        (linear1): Linear(in_features=64, out_features=2048, bias=True)\n",
       "        (dropout): Dropout(p=0.1, inplace=False)\n",
       "        (linear2): Linear(in_features=2048, out_features=64, bias=True)\n",
       "        (norm1): LayerNorm((64,), eps=1e-05, elementwise_affine=True)\n",
       "        (norm2): LayerNorm((64,), eps=1e-05, elementwise_affine=True)\n",
       "        (dropout1): Dropout(p=0.1, inplace=False)\n",
       "        (dropout2): Dropout(p=0.1, inplace=False)\n",
       "      )\n",
       "    )\n",
       "  )\n",
       ")"
      ]
     },
     "execution_count": 2,
     "metadata": {},
     "output_type": "execute_result"
    }
   ],
   "source": [
    "model = SequenceEncoder(seq_encoder_type=\"transformer\", num_layers=2, embed_size=64, hidden=512, dropout=0, nhead=4)\n",
    "model"
   ]
  },
  {
   "cell_type": "code",
   "execution_count": 4,
   "id": "4eb7a32c",
   "metadata": {},
   "outputs": [
    {
     "data": {
      "text/plain": [
       "torch.Size([16, 48, 64])"
      ]
     },
     "execution_count": 4,
     "metadata": {},
     "output_type": "execute_result"
    }
   ],
   "source": [
    "# transformer\n",
    "x = torch.ones(16, 48, 64)\n",
    "model(x).shape"
   ]
  },
  {
   "cell_type": "code",
   "execution_count": 5,
   "id": "01625214",
   "metadata": {},
   "outputs": [
    {
     "data": {
      "text/plain": [
       "torch.Size([16, 48, 64])"
      ]
     },
     "execution_count": 5,
     "metadata": {},
     "output_type": "execute_result"
    }
   ],
   "source": [
    "# lstm\n",
    "x = torch.ones(16, 48, 64)\n",
    "model(x)[0].shape"
   ]
  },
  {
   "cell_type": "markdown",
   "id": "9af17f63",
   "metadata": {},
   "source": [
    "# SetModel"
   ]
  },
  {
   "cell_type": "code",
   "execution_count": 2,
   "id": "9c064395",
   "metadata": {},
   "outputs": [
    {
     "name": "stdout",
     "output_type": "stream",
     "text": [
      "total params:  506721\n"
     ]
    },
    {
     "data": {
      "text/plain": [
       "SetModel(\n",
       "  (embedding): Embedding(27, 32)\n",
       "  (seq_encoder): SequenceEncoder(\n",
       "    (pos_encoder): PositionalEncoding(\n",
       "      (dropout): Dropout(p=0.1, inplace=False)\n",
       "    )\n",
       "    (seq_encoder): TransformerEncoder(\n",
       "      (layers): ModuleList(\n",
       "        (0): TransformerEncoderLayer(\n",
       "          (self_attn): MultiheadAttention(\n",
       "            (out_proj): NonDynamicallyQuantizableLinear(in_features=32, out_features=32, bias=True)\n",
       "          )\n",
       "          (linear1): Linear(in_features=32, out_features=2048, bias=True)\n",
       "          (dropout): Dropout(p=0.1, inplace=False)\n",
       "          (linear2): Linear(in_features=2048, out_features=32, bias=True)\n",
       "          (norm1): LayerNorm((32,), eps=1e-05, elementwise_affine=True)\n",
       "          (norm2): LayerNorm((32,), eps=1e-05, elementwise_affine=True)\n",
       "          (dropout1): Dropout(p=0.1, inplace=False)\n",
       "          (dropout2): Dropout(p=0.1, inplace=False)\n",
       "        )\n",
       "        (1): TransformerEncoderLayer(\n",
       "          (self_attn): MultiheadAttention(\n",
       "            (out_proj): NonDynamicallyQuantizableLinear(in_features=32, out_features=32, bias=True)\n",
       "          )\n",
       "          (linear1): Linear(in_features=32, out_features=2048, bias=True)\n",
       "          (dropout): Dropout(p=0.1, inplace=False)\n",
       "          (linear2): Linear(in_features=2048, out_features=32, bias=True)\n",
       "          (norm1): LayerNorm((32,), eps=1e-05, elementwise_affine=True)\n",
       "          (norm2): LayerNorm((32,), eps=1e-05, elementwise_affine=True)\n",
       "          (dropout1): Dropout(p=0.1, inplace=False)\n",
       "          (dropout2): Dropout(p=0.1, inplace=False)\n",
       "        )\n",
       "      )\n",
       "    )\n",
       "  )\n",
       "  (para_enc): Sequential(\n",
       "    (0): ISAB(\n",
       "      (mab0): MAB(\n",
       "        (fc_q): Linear(in_features=64, out_features=64, bias=True)\n",
       "        (fc_k): Linear(in_features=32, out_features=64, bias=True)\n",
       "        (fc_v): Linear(in_features=32, out_features=64, bias=True)\n",
       "        (fc_o): Linear(in_features=64, out_features=64, bias=True)\n",
       "      )\n",
       "      (mab1): MAB(\n",
       "        (fc_q): Linear(in_features=32, out_features=64, bias=True)\n",
       "        (fc_k): Linear(in_features=64, out_features=64, bias=True)\n",
       "        (fc_v): Linear(in_features=64, out_features=64, bias=True)\n",
       "        (fc_o): Linear(in_features=64, out_features=64, bias=True)\n",
       "      )\n",
       "    )\n",
       "    (1): ISAB(\n",
       "      (mab0): MAB(\n",
       "        (fc_q): Linear(in_features=64, out_features=64, bias=True)\n",
       "        (fc_k): Linear(in_features=64, out_features=64, bias=True)\n",
       "        (fc_v): Linear(in_features=64, out_features=64, bias=True)\n",
       "        (fc_o): Linear(in_features=64, out_features=64, bias=True)\n",
       "      )\n",
       "      (mab1): MAB(\n",
       "        (fc_q): Linear(in_features=64, out_features=64, bias=True)\n",
       "        (fc_k): Linear(in_features=64, out_features=64, bias=True)\n",
       "        (fc_v): Linear(in_features=64, out_features=64, bias=True)\n",
       "        (fc_o): Linear(in_features=64, out_features=64, bias=True)\n",
       "      )\n",
       "    )\n",
       "  )\n",
       "  (para_dec): Sequential(\n",
       "    (0): PMA(\n",
       "      (mab): MAB(\n",
       "        (fc_q): Linear(in_features=64, out_features=64, bias=True)\n",
       "        (fc_k): Linear(in_features=64, out_features=64, bias=True)\n",
       "        (fc_v): Linear(in_features=64, out_features=64, bias=True)\n",
       "        (fc_o): Linear(in_features=64, out_features=64, bias=True)\n",
       "      )\n",
       "    )\n",
       "    (1): SAB(\n",
       "      (mab): MAB(\n",
       "        (fc_q): Linear(in_features=64, out_features=64, bias=True)\n",
       "        (fc_k): Linear(in_features=64, out_features=64, bias=True)\n",
       "        (fc_v): Linear(in_features=64, out_features=64, bias=True)\n",
       "        (fc_o): Linear(in_features=64, out_features=64, bias=True)\n",
       "      )\n",
       "    )\n",
       "    (2): SAB(\n",
       "      (mab): MAB(\n",
       "        (fc_q): Linear(in_features=64, out_features=64, bias=True)\n",
       "        (fc_k): Linear(in_features=64, out_features=64, bias=True)\n",
       "        (fc_v): Linear(in_features=64, out_features=64, bias=True)\n",
       "        (fc_o): Linear(in_features=64, out_features=64, bias=True)\n",
       "      )\n",
       "    )\n",
       "    (3): Linear(in_features=64, out_features=32, bias=True)\n",
       "  )\n",
       "  (epi_enc): Sequential(\n",
       "    (0): ISAB(\n",
       "      (mab0): MAB(\n",
       "        (fc_q): Linear(in_features=64, out_features=64, bias=True)\n",
       "        (fc_k): Linear(in_features=32, out_features=64, bias=True)\n",
       "        (fc_v): Linear(in_features=32, out_features=64, bias=True)\n",
       "        (fc_o): Linear(in_features=64, out_features=64, bias=True)\n",
       "      )\n",
       "      (mab1): MAB(\n",
       "        (fc_q): Linear(in_features=32, out_features=64, bias=True)\n",
       "        (fc_k): Linear(in_features=64, out_features=64, bias=True)\n",
       "        (fc_v): Linear(in_features=64, out_features=64, bias=True)\n",
       "        (fc_o): Linear(in_features=64, out_features=64, bias=True)\n",
       "      )\n",
       "    )\n",
       "    (1): ISAB(\n",
       "      (mab0): MAB(\n",
       "        (fc_q): Linear(in_features=64, out_features=64, bias=True)\n",
       "        (fc_k): Linear(in_features=64, out_features=64, bias=True)\n",
       "        (fc_v): Linear(in_features=64, out_features=64, bias=True)\n",
       "        (fc_o): Linear(in_features=64, out_features=64, bias=True)\n",
       "      )\n",
       "      (mab1): MAB(\n",
       "        (fc_q): Linear(in_features=64, out_features=64, bias=True)\n",
       "        (fc_k): Linear(in_features=64, out_features=64, bias=True)\n",
       "        (fc_v): Linear(in_features=64, out_features=64, bias=True)\n",
       "        (fc_o): Linear(in_features=64, out_features=64, bias=True)\n",
       "      )\n",
       "    )\n",
       "  )\n",
       "  (epi_dec): Sequential(\n",
       "    (0): PMA(\n",
       "      (mab): MAB(\n",
       "        (fc_q): Linear(in_features=64, out_features=64, bias=True)\n",
       "        (fc_k): Linear(in_features=64, out_features=64, bias=True)\n",
       "        (fc_v): Linear(in_features=64, out_features=64, bias=True)\n",
       "        (fc_o): Linear(in_features=64, out_features=64, bias=True)\n",
       "      )\n",
       "    )\n",
       "    (1): SAB(\n",
       "      (mab): MAB(\n",
       "        (fc_q): Linear(in_features=64, out_features=64, bias=True)\n",
       "        (fc_k): Linear(in_features=64, out_features=64, bias=True)\n",
       "        (fc_v): Linear(in_features=64, out_features=64, bias=True)\n",
       "        (fc_o): Linear(in_features=64, out_features=64, bias=True)\n",
       "      )\n",
       "    )\n",
       "    (2): SAB(\n",
       "      (mab): MAB(\n",
       "        (fc_q): Linear(in_features=64, out_features=64, bias=True)\n",
       "        (fc_k): Linear(in_features=64, out_features=64, bias=True)\n",
       "        (fc_v): Linear(in_features=64, out_features=64, bias=True)\n",
       "        (fc_o): Linear(in_features=64, out_features=64, bias=True)\n",
       "      )\n",
       "    )\n",
       "    (3): Linear(in_features=64, out_features=32, bias=True)\n",
       "  )\n",
       "  (co_attn): CoAttention(\n",
       "    (linear_a): Linear(in_features=32, out_features=32, bias=True)\n",
       "    (linear_b): Linear(in_features=32, out_features=32, bias=True)\n",
       "    (W): Linear(in_features=32, out_features=32, bias=True)\n",
       "  )\n",
       "  (output_layer): Sequential(\n",
       "    (0): Linear(in_features=32, out_features=16, bias=True)\n",
       "    (1): LeakyReLU(negative_slope=0.01)\n",
       "    (2): Dropout(p=0.1, inplace=False)\n",
       "    (3): Linear(in_features=16, out_features=1, bias=True)\n",
       "    (4): Sigmoid()\n",
       "  )\n",
       ")"
      ]
     },
     "execution_count": 2,
     "metadata": {},
     "output_type": "execute_result"
    }
   ],
   "source": [
    "embed_size = 32\n",
    "hidden = 64\n",
    "\n",
    "model = SetModel(embed_size=embed_size, \n",
    "                 hidden=hidden, \n",
    "                 num_layers=2, \n",
    "                 dropout=0.1, \n",
    "                 k4kmer=5, \n",
    "                 use_pretrain=False, \n",
    "                 use_coattn=True, \n",
    "                 seq_encoder_type=\"transformer\", \n",
    "                 num_heads=4, \n",
    "                 num_inds=6, \n",
    "                 num_outputs=6, \n",
    "                 ln=False).cuda()\n",
    "\n",
    "print(\"total params: \", sum(p.numel() for p in model.parameters() if p.requires_grad))\n",
    "\n",
    "model"
   ]
  },
  {
   "cell_type": "code",
   "execution_count": 4,
   "id": "8dc63e44",
   "metadata": {},
   "outputs": [
    {
     "data": {
      "text/plain": [
       "torch.Size([12, 32])"
      ]
     },
     "execution_count": 4,
     "metadata": {},
     "output_type": "execute_result"
    }
   ],
   "source": [
    "x = torch.ones(12, 5, 32)\n",
    "y = torch.mean(x, dim=1)\n",
    "y.shape"
   ]
  },
  {
   "cell_type": "code",
   "execution_count": 3,
   "id": "99c52683",
   "metadata": {
    "scrolled": true
   },
   "outputs": [
    {
     "name": "stdout",
     "output_type": "stream",
     "text": [
      "torch.Size([3, 8, 32])\n",
      "torch.Size([12, 5, 32])\n",
      "torch.Size([12, 5, 32])\n",
      "after mean  torch.Size([12, 32])\n",
      "torch.Size([3, 4, 32])\n",
      "torch.Size([3, 6, 32])\n",
      "torch.Size([3, 6, 32]) torch.Size([3, 6, 32])\n"
     ]
    },
    {
     "data": {
      "text/plain": [
       "(tensor([[0.4661],\n",
       "         [0.4661],\n",
       "         [0.4671]], device='cuda:0', grad_fn=<SigmoidBackward0>),\n",
       " torch.Size([3, 1]))"
      ]
     },
     "execution_count": 3,
     "metadata": {},
     "output_type": "execute_result"
    }
   ],
   "source": [
    "para = [\"+ABCD-##\", \"+ABCD-##\", \"+ABCD-##\"]\n",
    "epi = [\"+AD-##\", \"+AD-##\", \"+AD-##\"]\n",
    "\n",
    "out = model(para, epi)\n",
    "out, out.shape"
   ]
  },
  {
   "cell_type": "markdown",
   "id": "012baed5",
   "metadata": {},
   "source": [
    "# transformerencoder(layer)"
   ]
  },
  {
   "cell_type": "code",
   "execution_count": 7,
   "id": "9917a4a2",
   "metadata": {},
   "outputs": [
    {
     "data": {
      "text/plain": [
       "TransformerEncoder(\n",
       "  (layers): ModuleList(\n",
       "    (0): TransformerEncoderLayer(\n",
       "      (self_attn): MultiheadAttention(\n",
       "        (out_proj): NonDynamicallyQuantizableLinear(in_features=256, out_features=256, bias=True)\n",
       "      )\n",
       "      (linear1): Linear(in_features=256, out_features=2048, bias=True)\n",
       "      (dropout): Dropout(p=0.1, inplace=False)\n",
       "      (linear2): Linear(in_features=2048, out_features=256, bias=True)\n",
       "      (norm1): LayerNorm((256,), eps=1e-05, elementwise_affine=True)\n",
       "      (norm2): LayerNorm((256,), eps=1e-05, elementwise_affine=True)\n",
       "      (dropout1): Dropout(p=0.1, inplace=False)\n",
       "      (dropout2): Dropout(p=0.1, inplace=False)\n",
       "    )\n",
       "    (1): TransformerEncoderLayer(\n",
       "      (self_attn): MultiheadAttention(\n",
       "        (out_proj): NonDynamicallyQuantizableLinear(in_features=256, out_features=256, bias=True)\n",
       "      )\n",
       "      (linear1): Linear(in_features=256, out_features=2048, bias=True)\n",
       "      (dropout): Dropout(p=0.1, inplace=False)\n",
       "      (linear2): Linear(in_features=2048, out_features=256, bias=True)\n",
       "      (norm1): LayerNorm((256,), eps=1e-05, elementwise_affine=True)\n",
       "      (norm2): LayerNorm((256,), eps=1e-05, elementwise_affine=True)\n",
       "      (dropout1): Dropout(p=0.1, inplace=False)\n",
       "      (dropout2): Dropout(p=0.1, inplace=False)\n",
       "    )\n",
       "  )\n",
       ")"
      ]
     },
     "execution_count": 7,
     "metadata": {},
     "output_type": "execute_result"
    }
   ],
   "source": [
    "encoder_layer = nn.TransformerEncoderLayer(d_model=256, nhead=4, batch_first=True)\n",
    "seq_encoder = nn.TransformerEncoder(encoder_layer=encoder_layer, num_layers=2)\n",
    "seq_encoder"
   ]
  },
  {
   "cell_type": "markdown",
   "id": "34e7a80b",
   "metadata": {},
   "source": [
    "# kmer"
   ]
  },
  {
   "cell_type": "code",
   "execution_count": 23,
   "id": "9463a277",
   "metadata": {},
   "outputs": [],
   "source": [
    "def kmer_embed(seqs, k=3):\n",
    "    ngram_li = []\n",
    "    for seq in seqs:\n",
    "        ngram = [seq[i:i+k, :] for i in range(len(seq)-k+1)]\n",
    "        ngram_li.append(torch.stack(ngram, dim=0))\n",
    "    \n",
    "    return torch.vstack(ngram_li)"
   ]
  },
  {
   "cell_type": "code",
   "execution_count": 24,
   "id": "c43dc33b",
   "metadata": {},
   "outputs": [
    {
     "data": {
      "text/plain": [
       "torch.Size([736, 3, 32])"
      ]
     },
     "execution_count": 24,
     "metadata": {},
     "output_type": "execute_result"
    }
   ],
   "source": [
    "x = torch.ones(16, 48, 32)\n",
    "\n",
    "y = kmer_embed(x, k=3)\n",
    "y.shape"
   ]
  },
  {
   "cell_type": "code",
   "execution_count": 21,
   "id": "dd117f2e",
   "metadata": {},
   "outputs": [
    {
     "data": {
      "text/plain": [
       "['+AB', 'ABC', 'BCD', 'CDE', 'DEF', 'EFG', 'FG-', 'G-#', '-##']"
      ]
     },
     "execution_count": 21,
     "metadata": {},
     "output_type": "execute_result"
    }
   ],
   "source": [
    "def kmer(seq, k=3):\n",
    "    ngram = [seq[i:i+k] for i in range(len(seq)-k+1)]\n",
    "    return ngram\n",
    "\n",
    "s = \"+ABCDEFG-##\"\n",
    "kmer(s, k=3)"
   ]
  },
  {
   "cell_type": "code",
   "execution_count": 24,
   "id": "e0a3aaff",
   "metadata": {},
   "outputs": [
    {
     "data": {
      "text/plain": [
       "[]"
      ]
     },
     "execution_count": 24,
     "metadata": {},
     "output_type": "execute_result"
    }
   ],
   "source": [
    "s = torch.ones(2,3,4)\n",
    "kmer(s, k=3)"
   ]
  },
  {
   "cell_type": "code",
   "execution_count": null,
   "id": "dad0a5c8",
   "metadata": {},
   "outputs": [],
   "source": [
    "batch, seq, hidden"
   ]
  },
  {
   "cell_type": "code",
   "execution_count": 74,
   "id": "25db6ac4",
   "metadata": {},
   "outputs": [
    {
     "data": {
      "text/plain": [
       "(tensor([[[2.0000, 2.0000, 2.0000],\n",
       "          [3.0000, 3.0000, 3.0000],\n",
       "          [4.0000, 4.0000, 4.0000]],\n",
       " \n",
       "         [[2.6667, 2.6667, 2.6667],\n",
       "          [2.0000, 2.0000, 2.0000],\n",
       "          [3.0000, 3.0000, 3.0000]]]),\n",
       " torch.Size([2, 3, 3]))"
      ]
     },
     "execution_count": 74,
     "metadata": {},
     "output_type": "execute_result"
    }
   ],
   "source": [
    "def kmer_embed(seqs, k=3):\n",
    "    ngram_li = []\n",
    "    for seq in seqs:\n",
    "        ngram = [torch.mean(seq[i:i+k, :], dim=0) for i in range(len(seq)-k+1)]\n",
    "        ngram_li.append(torch.vstack(ngram))\n",
    "\n",
    "    return torch.stack(ngram_li)\n",
    "\n",
    "seqs = torch.tensor(\n",
    "        [[[1., 1., 1.],\n",
    "         [2., 2., 2.],\n",
    "         [3., 3., 3.],\n",
    "         [4., 4., 4.],\n",
    "         [5., 5., 5.]],\n",
    "\n",
    "        [[5., 5., 5.],\n",
    "         [1., 1., 1.],\n",
    "         [2., 2., 2.],\n",
    "         [3., 3., 3.],\n",
    "         [4., 4., 4.]]])\n",
    "\n",
    "ngram_li = []\n",
    "for seq in seqs:\n",
    "    ngram = [torch.mean(seq[i:i+k, :], dim=0) for i in range(len(seq)-k+1)]\n",
    "    ngram_li.append(torch.vstack(ngram))\n",
    "\n",
    "final = torch.stack(ngram_li)\n",
    "final, final.shape"
   ]
  },
  {
   "cell_type": "code",
   "execution_count": 77,
   "id": "64bfa33e",
   "metadata": {},
   "outputs": [
    {
     "data": {
      "text/plain": [
       "(tensor([[[2.0000, 2.0000, 2.0000],\n",
       "          [3.0000, 3.0000, 3.0000],\n",
       "          [4.0000, 4.0000, 4.0000]],\n",
       " \n",
       "         [[2.6667, 2.6667, 2.6667],\n",
       "          [2.0000, 2.0000, 2.0000],\n",
       "          [3.0000, 3.0000, 3.0000]]]),\n",
       " torch.Size([2, 3, 3]))"
      ]
     },
     "execution_count": 77,
     "metadata": {},
     "output_type": "execute_result"
    }
   ],
   "source": [
    "res = kmer_embed(seqs, k=3)\n",
    "res, res.shape"
   ]
  },
  {
   "cell_type": "markdown",
   "id": "b3e636fc",
   "metadata": {},
   "source": [
    "# align"
   ]
  },
  {
   "cell_type": "code",
   "execution_count": 2,
   "id": "820eba19",
   "metadata": {},
   "outputs": [
    {
     "data": {
      "text/plain": [
       "1.0"
      ]
     },
     "execution_count": 2,
     "metadata": {},
     "output_type": "execute_result"
    }
   ],
   "source": [
    "target = \"GGSISSGDSY/IYYSGST/ARHVGDLRVNDAFDI/SSNIGNNF/DSD/GTWDRSLSVVV\"\n",
    "query = \"GGSISSGDSY/IYYSGST/ARHVGDLRVNDAFDI/SSNIGNNF/DSD/GTWDRSLSVVV\"\n",
    "\n",
    "aligner = Align.PairwiseAligner()\n",
    "aligner = Align.PairwiseAligner(match_score=1.0)\n",
    "\n",
    "score = aligner.score(target, query)\n",
    "score = score / max(len(target), len(query))\n",
    "score"
   ]
  },
  {
   "cell_type": "markdown",
   "id": "92f3e458",
   "metadata": {},
   "source": [
    "# how to get attn weights"
   ]
  },
  {
   "cell_type": "code",
   "execution_count": 2,
   "id": "47cdcd23",
   "metadata": {},
   "outputs": [
    {
     "data": {
      "text/plain": [
       "Transformer(\n",
       "  (encoder): TransformerEncoder(\n",
       "    (layers): ModuleList(\n",
       "      (0): TransformerEncoderLayer(\n",
       "        (self_attn): MultiheadAttention(\n",
       "          (out_proj): NonDynamicallyQuantizableLinear(in_features=512, out_features=512, bias=True)\n",
       "        )\n",
       "        (linear1): Linear(in_features=512, out_features=2048, bias=True)\n",
       "        (dropout): Dropout(p=0.1, inplace=False)\n",
       "        (linear2): Linear(in_features=2048, out_features=512, bias=True)\n",
       "        (norm1): LayerNorm((512,), eps=1e-05, elementwise_affine=True)\n",
       "        (norm2): LayerNorm((512,), eps=1e-05, elementwise_affine=True)\n",
       "        (dropout1): Dropout(p=0.1, inplace=False)\n",
       "        (dropout2): Dropout(p=0.1, inplace=False)\n",
       "      )\n",
       "      (1): TransformerEncoderLayer(\n",
       "        (self_attn): MultiheadAttention(\n",
       "          (out_proj): NonDynamicallyQuantizableLinear(in_features=512, out_features=512, bias=True)\n",
       "        )\n",
       "        (linear1): Linear(in_features=512, out_features=2048, bias=True)\n",
       "        (dropout): Dropout(p=0.1, inplace=False)\n",
       "        (linear2): Linear(in_features=2048, out_features=512, bias=True)\n",
       "        (norm1): LayerNorm((512,), eps=1e-05, elementwise_affine=True)\n",
       "        (norm2): LayerNorm((512,), eps=1e-05, elementwise_affine=True)\n",
       "        (dropout1): Dropout(p=0.1, inplace=False)\n",
       "        (dropout2): Dropout(p=0.1, inplace=False)\n",
       "      )\n",
       "      (2): TransformerEncoderLayer(\n",
       "        (self_attn): MultiheadAttention(\n",
       "          (out_proj): NonDynamicallyQuantizableLinear(in_features=512, out_features=512, bias=True)\n",
       "        )\n",
       "        (linear1): Linear(in_features=512, out_features=2048, bias=True)\n",
       "        (dropout): Dropout(p=0.1, inplace=False)\n",
       "        (linear2): Linear(in_features=2048, out_features=512, bias=True)\n",
       "        (norm1): LayerNorm((512,), eps=1e-05, elementwise_affine=True)\n",
       "        (norm2): LayerNorm((512,), eps=1e-05, elementwise_affine=True)\n",
       "        (dropout1): Dropout(p=0.1, inplace=False)\n",
       "        (dropout2): Dropout(p=0.1, inplace=False)\n",
       "      )\n",
       "      (3): TransformerEncoderLayer(\n",
       "        (self_attn): MultiheadAttention(\n",
       "          (out_proj): NonDynamicallyQuantizableLinear(in_features=512, out_features=512, bias=True)\n",
       "        )\n",
       "        (linear1): Linear(in_features=512, out_features=2048, bias=True)\n",
       "        (dropout): Dropout(p=0.1, inplace=False)\n",
       "        (linear2): Linear(in_features=2048, out_features=512, bias=True)\n",
       "        (norm1): LayerNorm((512,), eps=1e-05, elementwise_affine=True)\n",
       "        (norm2): LayerNorm((512,), eps=1e-05, elementwise_affine=True)\n",
       "        (dropout1): Dropout(p=0.1, inplace=False)\n",
       "        (dropout2): Dropout(p=0.1, inplace=False)\n",
       "      )\n",
       "      (4): TransformerEncoderLayer(\n",
       "        (self_attn): MultiheadAttention(\n",
       "          (out_proj): NonDynamicallyQuantizableLinear(in_features=512, out_features=512, bias=True)\n",
       "        )\n",
       "        (linear1): Linear(in_features=512, out_features=2048, bias=True)\n",
       "        (dropout): Dropout(p=0.1, inplace=False)\n",
       "        (linear2): Linear(in_features=2048, out_features=512, bias=True)\n",
       "        (norm1): LayerNorm((512,), eps=1e-05, elementwise_affine=True)\n",
       "        (norm2): LayerNorm((512,), eps=1e-05, elementwise_affine=True)\n",
       "        (dropout1): Dropout(p=0.1, inplace=False)\n",
       "        (dropout2): Dropout(p=0.1, inplace=False)\n",
       "      )\n",
       "      (5): TransformerEncoderLayer(\n",
       "        (self_attn): MultiheadAttention(\n",
       "          (out_proj): NonDynamicallyQuantizableLinear(in_features=512, out_features=512, bias=True)\n",
       "        )\n",
       "        (linear1): Linear(in_features=512, out_features=2048, bias=True)\n",
       "        (dropout): Dropout(p=0.1, inplace=False)\n",
       "        (linear2): Linear(in_features=2048, out_features=512, bias=True)\n",
       "        (norm1): LayerNorm((512,), eps=1e-05, elementwise_affine=True)\n",
       "        (norm2): LayerNorm((512,), eps=1e-05, elementwise_affine=True)\n",
       "        (dropout1): Dropout(p=0.1, inplace=False)\n",
       "        (dropout2): Dropout(p=0.1, inplace=False)\n",
       "      )\n",
       "    )\n",
       "    (norm): LayerNorm((512,), eps=1e-05, elementwise_affine=True)\n",
       "  )\n",
       "  (decoder): TransformerDecoder(\n",
       "    (layers): ModuleList(\n",
       "      (0): TransformerDecoderLayer(\n",
       "        (self_attn): MultiheadAttention(\n",
       "          (out_proj): NonDynamicallyQuantizableLinear(in_features=512, out_features=512, bias=True)\n",
       "        )\n",
       "        (multihead_attn): MultiheadAttention(\n",
       "          (out_proj): NonDynamicallyQuantizableLinear(in_features=512, out_features=512, bias=True)\n",
       "        )\n",
       "        (linear1): Linear(in_features=512, out_features=2048, bias=True)\n",
       "        (dropout): Dropout(p=0.1, inplace=False)\n",
       "        (linear2): Linear(in_features=2048, out_features=512, bias=True)\n",
       "        (norm1): LayerNorm((512,), eps=1e-05, elementwise_affine=True)\n",
       "        (norm2): LayerNorm((512,), eps=1e-05, elementwise_affine=True)\n",
       "        (norm3): LayerNorm((512,), eps=1e-05, elementwise_affine=True)\n",
       "        (dropout1): Dropout(p=0.1, inplace=False)\n",
       "        (dropout2): Dropout(p=0.1, inplace=False)\n",
       "        (dropout3): Dropout(p=0.1, inplace=False)\n",
       "      )\n",
       "      (1): TransformerDecoderLayer(\n",
       "        (self_attn): MultiheadAttention(\n",
       "          (out_proj): NonDynamicallyQuantizableLinear(in_features=512, out_features=512, bias=True)\n",
       "        )\n",
       "        (multihead_attn): MultiheadAttention(\n",
       "          (out_proj): NonDynamicallyQuantizableLinear(in_features=512, out_features=512, bias=True)\n",
       "        )\n",
       "        (linear1): Linear(in_features=512, out_features=2048, bias=True)\n",
       "        (dropout): Dropout(p=0.1, inplace=False)\n",
       "        (linear2): Linear(in_features=2048, out_features=512, bias=True)\n",
       "        (norm1): LayerNorm((512,), eps=1e-05, elementwise_affine=True)\n",
       "        (norm2): LayerNorm((512,), eps=1e-05, elementwise_affine=True)\n",
       "        (norm3): LayerNorm((512,), eps=1e-05, elementwise_affine=True)\n",
       "        (dropout1): Dropout(p=0.1, inplace=False)\n",
       "        (dropout2): Dropout(p=0.1, inplace=False)\n",
       "        (dropout3): Dropout(p=0.1, inplace=False)\n",
       "      )\n",
       "      (2): TransformerDecoderLayer(\n",
       "        (self_attn): MultiheadAttention(\n",
       "          (out_proj): NonDynamicallyQuantizableLinear(in_features=512, out_features=512, bias=True)\n",
       "        )\n",
       "        (multihead_attn): MultiheadAttention(\n",
       "          (out_proj): NonDynamicallyQuantizableLinear(in_features=512, out_features=512, bias=True)\n",
       "        )\n",
       "        (linear1): Linear(in_features=512, out_features=2048, bias=True)\n",
       "        (dropout): Dropout(p=0.1, inplace=False)\n",
       "        (linear2): Linear(in_features=2048, out_features=512, bias=True)\n",
       "        (norm1): LayerNorm((512,), eps=1e-05, elementwise_affine=True)\n",
       "        (norm2): LayerNorm((512,), eps=1e-05, elementwise_affine=True)\n",
       "        (norm3): LayerNorm((512,), eps=1e-05, elementwise_affine=True)\n",
       "        (dropout1): Dropout(p=0.1, inplace=False)\n",
       "        (dropout2): Dropout(p=0.1, inplace=False)\n",
       "        (dropout3): Dropout(p=0.1, inplace=False)\n",
       "      )\n",
       "      (3): TransformerDecoderLayer(\n",
       "        (self_attn): MultiheadAttention(\n",
       "          (out_proj): NonDynamicallyQuantizableLinear(in_features=512, out_features=512, bias=True)\n",
       "        )\n",
       "        (multihead_attn): MultiheadAttention(\n",
       "          (out_proj): NonDynamicallyQuantizableLinear(in_features=512, out_features=512, bias=True)\n",
       "        )\n",
       "        (linear1): Linear(in_features=512, out_features=2048, bias=True)\n",
       "        (dropout): Dropout(p=0.1, inplace=False)\n",
       "        (linear2): Linear(in_features=2048, out_features=512, bias=True)\n",
       "        (norm1): LayerNorm((512,), eps=1e-05, elementwise_affine=True)\n",
       "        (norm2): LayerNorm((512,), eps=1e-05, elementwise_affine=True)\n",
       "        (norm3): LayerNorm((512,), eps=1e-05, elementwise_affine=True)\n",
       "        (dropout1): Dropout(p=0.1, inplace=False)\n",
       "        (dropout2): Dropout(p=0.1, inplace=False)\n",
       "        (dropout3): Dropout(p=0.1, inplace=False)\n",
       "      )\n",
       "      (4): TransformerDecoderLayer(\n",
       "        (self_attn): MultiheadAttention(\n",
       "          (out_proj): NonDynamicallyQuantizableLinear(in_features=512, out_features=512, bias=True)\n",
       "        )\n",
       "        (multihead_attn): MultiheadAttention(\n",
       "          (out_proj): NonDynamicallyQuantizableLinear(in_features=512, out_features=512, bias=True)\n",
       "        )\n",
       "        (linear1): Linear(in_features=512, out_features=2048, bias=True)\n",
       "        (dropout): Dropout(p=0.1, inplace=False)\n",
       "        (linear2): Linear(in_features=2048, out_features=512, bias=True)\n",
       "        (norm1): LayerNorm((512,), eps=1e-05, elementwise_affine=True)\n",
       "        (norm2): LayerNorm((512,), eps=1e-05, elementwise_affine=True)\n",
       "        (norm3): LayerNorm((512,), eps=1e-05, elementwise_affine=True)\n",
       "        (dropout1): Dropout(p=0.1, inplace=False)\n",
       "        (dropout2): Dropout(p=0.1, inplace=False)\n",
       "        (dropout3): Dropout(p=0.1, inplace=False)\n",
       "      )\n",
       "      (5): TransformerDecoderLayer(\n",
       "        (self_attn): MultiheadAttention(\n",
       "          (out_proj): NonDynamicallyQuantizableLinear(in_features=512, out_features=512, bias=True)\n",
       "        )\n",
       "        (multihead_attn): MultiheadAttention(\n",
       "          (out_proj): NonDynamicallyQuantizableLinear(in_features=512, out_features=512, bias=True)\n",
       "        )\n",
       "        (linear1): Linear(in_features=512, out_features=2048, bias=True)\n",
       "        (dropout): Dropout(p=0.1, inplace=False)\n",
       "        (linear2): Linear(in_features=2048, out_features=512, bias=True)\n",
       "        (norm1): LayerNorm((512,), eps=1e-05, elementwise_affine=True)\n",
       "        (norm2): LayerNorm((512,), eps=1e-05, elementwise_affine=True)\n",
       "        (norm3): LayerNorm((512,), eps=1e-05, elementwise_affine=True)\n",
       "        (dropout1): Dropout(p=0.1, inplace=False)\n",
       "        (dropout2): Dropout(p=0.1, inplace=False)\n",
       "        (dropout3): Dropout(p=0.1, inplace=False)\n",
       "      )\n",
       "    )\n",
       "    (norm): LayerNorm((512,), eps=1e-05, elementwise_affine=True)\n",
       "  )\n",
       ")"
      ]
     },
     "execution_count": 2,
     "metadata": {},
     "output_type": "execute_result"
    }
   ],
   "source": [
    "model = nn.Transformer()\n",
    "\n",
    "model"
   ]
  },
  {
   "cell_type": "code",
   "execution_count": 67,
   "id": "d58bfd2e",
   "metadata": {},
   "outputs": [
    {
     "data": {
      "text/plain": [
       "(torch.Size([1536, 512]),\n",
       " tensor([[ 0.0470, -0.0028,  0.0163,  ..., -0.0414,  0.0355, -0.0227],\n",
       "         [ 0.0279,  0.0492,  0.0412,  ...,  0.0506, -0.0014, -0.0139],\n",
       "         [ 0.0475,  0.0345,  0.0353,  ...,  0.0470, -0.0176, -0.0121],\n",
       "         ...,\n",
       "         [-0.0519, -0.0491,  0.0292,  ...,  0.0364, -0.0531, -0.0331],\n",
       "         [-0.0325,  0.0164,  0.0195,  ..., -0.0243, -0.0272, -0.0313],\n",
       "         [-0.0150,  0.0301, -0.0027,  ...,  0.0330, -0.0533, -0.0485]]))"
      ]
     },
     "execution_count": 67,
     "metadata": {},
     "output_type": "execute_result"
    }
   ],
   "source": [
    "model.encoder.layers[-1].state_dict()['self_attn.in_proj_weight'].shape, model.encoder.layers[-1].state_dict()['self_attn.in_proj_weight']"
   ]
  },
  {
   "cell_type": "code",
   "execution_count": 76,
   "id": "d085dd66",
   "metadata": {},
   "outputs": [
    {
     "data": {
      "text/plain": [
       "(torch.Size([512, 512]),\n",
       " tensor([[ 0.0727,  0.0576,  0.0258,  ...,  0.0696,  0.0730, -0.0514],\n",
       "         [-0.0191, -0.0108, -0.0535,  ...,  0.0299, -0.0091,  0.0592],\n",
       "         [ 0.0610, -0.0025, -0.0308,  ..., -0.0552, -0.0339, -0.0194],\n",
       "         ...,\n",
       "         [ 0.0689, -0.0239, -0.0136,  ..., -0.0097, -0.0262, -0.0103],\n",
       "         [ 0.0089, -0.0052, -0.0376,  ...,  0.0385, -0.0002, -0.0738],\n",
       "         [-0.0671, -0.0263, -0.0067,  ...,  0.0348, -0.0179,  0.0467]]))"
      ]
     },
     "execution_count": 76,
     "metadata": {},
     "output_type": "execute_result"
    }
   ],
   "source": [
    "model.decoder.layers[-1].state_dict()['self_attn.out_proj.weight'].shape, model.decoder.layers[-1].state_dict()['self_attn.out_proj.weight']"
   ]
  },
  {
   "cell_type": "code",
   "execution_count": 58,
   "id": "06030e19",
   "metadata": {},
   "outputs": [
    {
     "data": {
      "text/plain": [
       "(torch.Size([1536, 512]),\n",
       " tensor([[ 0.0138,  0.0402,  0.0142,  ...,  0.0350, -0.0382,  0.0134],\n",
       "         [ 0.0315, -0.0208, -0.0037,  ...,  0.0329,  0.0324,  0.0524],\n",
       "         [ 0.0132, -0.0481, -0.0317,  ..., -0.0450, -0.0170, -0.0525],\n",
       "         ...,\n",
       "         [ 0.0151,  0.0279,  0.0342,  ...,  0.0286, -0.0049, -0.0132],\n",
       "         [ 0.0532, -0.0446, -0.0320,  ..., -0.0411,  0.0289, -0.0172],\n",
       "         [ 0.0206,  0.0100,  0.0536,  ..., -0.0281, -0.0387,  0.0047]]))"
      ]
     },
     "execution_count": 58,
     "metadata": {},
     "output_type": "execute_result"
    }
   ],
   "source": [
    "model.decoder.layers[-1].state_dict()['self_attn.in_proj_weight'].shape, model.decoder.layers[-1].state_dict()['self_attn.in_proj_weight']"
   ]
  },
  {
   "cell_type": "code",
   "execution_count": 42,
   "id": "d4be15f9",
   "metadata": {},
   "outputs": [
    {
     "data": {
      "text/plain": [
       "(torch.Size([1536, 512]),\n",
       " Parameter containing:\n",
       " tensor([[ 0.0138,  0.0402,  0.0142,  ...,  0.0350, -0.0382,  0.0134],\n",
       "         [ 0.0315, -0.0208, -0.0037,  ...,  0.0329,  0.0324,  0.0524],\n",
       "         [ 0.0132, -0.0481, -0.0317,  ..., -0.0450, -0.0170, -0.0525],\n",
       "         ...,\n",
       "         [ 0.0151,  0.0279,  0.0342,  ...,  0.0286, -0.0049, -0.0132],\n",
       "         [ 0.0532, -0.0446, -0.0320,  ..., -0.0411,  0.0289, -0.0172],\n",
       "         [ 0.0206,  0.0100,  0.0536,  ..., -0.0281, -0.0387,  0.0047]],\n",
       "        requires_grad=True))"
      ]
     },
     "execution_count": 42,
     "metadata": {},
     "output_type": "execute_result"
    }
   ],
   "source": [
    "model.decoder.layers[-1].self_attn.in_proj_weight.shape, model.decoder.layers[-1].self_attn.in_proj_weight"
   ]
  },
  {
   "cell_type": "code",
   "execution_count": 39,
   "id": "754191b3",
   "metadata": {},
   "outputs": [
    {
     "data": {
      "text/plain": [
       "['T_destination',\n",
       " '__annotations__',\n",
       " '__call__',\n",
       " '__class__',\n",
       " '__constants__',\n",
       " '__delattr__',\n",
       " '__dict__',\n",
       " '__dir__',\n",
       " '__doc__',\n",
       " '__eq__',\n",
       " '__format__',\n",
       " '__ge__',\n",
       " '__getattr__',\n",
       " '__getattribute__',\n",
       " '__gt__',\n",
       " '__hash__',\n",
       " '__init__',\n",
       " '__init_subclass__',\n",
       " '__le__',\n",
       " '__lt__',\n",
       " '__module__',\n",
       " '__ne__',\n",
       " '__new__',\n",
       " '__reduce__',\n",
       " '__reduce_ex__',\n",
       " '__repr__',\n",
       " '__setattr__',\n",
       " '__setstate__',\n",
       " '__sizeof__',\n",
       " '__slotnames__',\n",
       " '__str__',\n",
       " '__subclasshook__',\n",
       " '__weakref__',\n",
       " '_apply',\n",
       " '_backward_hooks',\n",
       " '_buffers',\n",
       " '_call_impl',\n",
       " '_forward_hooks',\n",
       " '_forward_pre_hooks',\n",
       " '_get_backward_hooks',\n",
       " '_get_name',\n",
       " '_is_full_backward_hook',\n",
       " '_load_from_state_dict',\n",
       " '_load_state_dict_post_hooks',\n",
       " '_load_state_dict_pre_hooks',\n",
       " '_maybe_warn_non_full_backward_hook',\n",
       " '_modules',\n",
       " '_named_members',\n",
       " '_non_persistent_buffers_set',\n",
       " '_parameters',\n",
       " '_qkv_same_embed_dim',\n",
       " '_register_load_state_dict_pre_hook',\n",
       " '_register_state_dict_hook',\n",
       " '_replicate_for_data_parallel',\n",
       " '_reset_parameters',\n",
       " '_save_to_state_dict',\n",
       " '_slow_forward',\n",
       " '_state_dict_hooks',\n",
       " '_version',\n",
       " 'add_module',\n",
       " 'add_zero_attn',\n",
       " 'apply',\n",
       " 'batch_first',\n",
       " 'bfloat16',\n",
       " 'bias_k',\n",
       " 'bias_v',\n",
       " 'buffers',\n",
       " 'children',\n",
       " 'cpu',\n",
       " 'cuda',\n",
       " 'double',\n",
       " 'dropout',\n",
       " 'dump_patches',\n",
       " 'embed_dim',\n",
       " 'eval',\n",
       " 'extra_repr',\n",
       " 'float',\n",
       " 'forward',\n",
       " 'get_buffer',\n",
       " 'get_extra_state',\n",
       " 'get_parameter',\n",
       " 'get_submodule',\n",
       " 'half',\n",
       " 'head_dim',\n",
       " 'in_proj_bias',\n",
       " 'in_proj_weight',\n",
       " 'ipu',\n",
       " 'k_proj_weight',\n",
       " 'kdim',\n",
       " 'load_state_dict',\n",
       " 'modules',\n",
       " 'named_buffers',\n",
       " 'named_children',\n",
       " 'named_modules',\n",
       " 'named_parameters',\n",
       " 'num_heads',\n",
       " 'out_proj',\n",
       " 'parameters',\n",
       " 'q_proj_weight',\n",
       " 'register_backward_hook',\n",
       " 'register_buffer',\n",
       " 'register_forward_hook',\n",
       " 'register_forward_pre_hook',\n",
       " 'register_full_backward_hook',\n",
       " 'register_load_state_dict_post_hook',\n",
       " 'register_module',\n",
       " 'register_parameter',\n",
       " 'requires_grad_',\n",
       " 'set_extra_state',\n",
       " 'share_memory',\n",
       " 'state_dict',\n",
       " 'to',\n",
       " 'to_empty',\n",
       " 'train',\n",
       " 'training',\n",
       " 'type',\n",
       " 'v_proj_weight',\n",
       " 'vdim',\n",
       " 'xpu',\n",
       " 'zero_grad']"
      ]
     },
     "execution_count": 39,
     "metadata": {},
     "output_type": "execute_result"
    }
   ],
   "source": [
    "dir(model.decoder.layers[-1].self_attn)"
   ]
  },
  {
   "cell_type": "code",
   "execution_count": 36,
   "id": "9d4f2fb5",
   "metadata": {
    "scrolled": true
   },
   "outputs": [
    {
     "data": {
      "text/plain": [
       "torch.Size([1536, 512])"
      ]
     },
     "execution_count": 36,
     "metadata": {},
     "output_type": "execute_result"
    }
   ],
   "source": [
    "model.decoder._modules[\"layers\"][-1].multihead_attn._parameters[\"in_proj_weight\"].shape"
   ]
  },
  {
   "cell_type": "code",
   "execution_count": 31,
   "id": "607184d3",
   "metadata": {},
   "outputs": [
    {
     "data": {
      "text/plain": [
       "OrderedDict([('in_proj_weight',\n",
       "              Parameter containing:\n",
       "              tensor([[-0.0294, -0.0511,  0.0045,  ...,  0.0381,  0.0291,  0.0405],\n",
       "                      [-0.0378, -0.0161,  0.0465,  ..., -0.0185, -0.0045,  0.0329],\n",
       "                      [-0.0140,  0.0475, -0.0318,  ...,  0.0461,  0.0257,  0.0066],\n",
       "                      ...,\n",
       "                      [-0.0535,  0.0461, -0.0355,  ..., -0.0245,  0.0480, -0.0154],\n",
       "                      [-0.0343, -0.0304,  0.0292,  ..., -0.0300,  0.0525,  0.0037],\n",
       "                      [ 0.0369, -0.0137, -0.0355,  ...,  0.0328,  0.0130, -0.0061]],\n",
       "                     requires_grad=True)),\n",
       "             ('q_proj_weight', None),\n",
       "             ('k_proj_weight', None),\n",
       "             ('v_proj_weight', None),\n",
       "             ('in_proj_bias',\n",
       "              Parameter containing:\n",
       "              tensor([0., 0., 0.,  ..., 0., 0., 0.], requires_grad=True))])"
      ]
     },
     "execution_count": 31,
     "metadata": {},
     "output_type": "execute_result"
    }
   ],
   "source": [
    "model.decoder._modules[\"layers\"][-1].multihead_attn._parameters"
   ]
  },
  {
   "cell_type": "code",
   "execution_count": 30,
   "id": "34ae76be",
   "metadata": {},
   "outputs": [
    {
     "data": {
      "text/plain": [
       "['T_destination',\n",
       " '__annotations__',\n",
       " '__call__',\n",
       " '__class__',\n",
       " '__constants__',\n",
       " '__delattr__',\n",
       " '__dict__',\n",
       " '__dir__',\n",
       " '__doc__',\n",
       " '__eq__',\n",
       " '__format__',\n",
       " '__ge__',\n",
       " '__getattr__',\n",
       " '__getattribute__',\n",
       " '__gt__',\n",
       " '__hash__',\n",
       " '__init__',\n",
       " '__init_subclass__',\n",
       " '__le__',\n",
       " '__lt__',\n",
       " '__module__',\n",
       " '__ne__',\n",
       " '__new__',\n",
       " '__reduce__',\n",
       " '__reduce_ex__',\n",
       " '__repr__',\n",
       " '__setattr__',\n",
       " '__setstate__',\n",
       " '__sizeof__',\n",
       " '__slotnames__',\n",
       " '__str__',\n",
       " '__subclasshook__',\n",
       " '__weakref__',\n",
       " '_apply',\n",
       " '_backward_hooks',\n",
       " '_buffers',\n",
       " '_call_impl',\n",
       " '_forward_hooks',\n",
       " '_forward_pre_hooks',\n",
       " '_get_backward_hooks',\n",
       " '_get_name',\n",
       " '_is_full_backward_hook',\n",
       " '_load_from_state_dict',\n",
       " '_load_state_dict_post_hooks',\n",
       " '_load_state_dict_pre_hooks',\n",
       " '_maybe_warn_non_full_backward_hook',\n",
       " '_modules',\n",
       " '_named_members',\n",
       " '_non_persistent_buffers_set',\n",
       " '_parameters',\n",
       " '_qkv_same_embed_dim',\n",
       " '_register_load_state_dict_pre_hook',\n",
       " '_register_state_dict_hook',\n",
       " '_replicate_for_data_parallel',\n",
       " '_reset_parameters',\n",
       " '_save_to_state_dict',\n",
       " '_slow_forward',\n",
       " '_state_dict_hooks',\n",
       " '_version',\n",
       " 'add_module',\n",
       " 'add_zero_attn',\n",
       " 'apply',\n",
       " 'batch_first',\n",
       " 'bfloat16',\n",
       " 'bias_k',\n",
       " 'bias_v',\n",
       " 'buffers',\n",
       " 'children',\n",
       " 'cpu',\n",
       " 'cuda',\n",
       " 'double',\n",
       " 'dropout',\n",
       " 'dump_patches',\n",
       " 'embed_dim',\n",
       " 'eval',\n",
       " 'extra_repr',\n",
       " 'float',\n",
       " 'forward',\n",
       " 'get_buffer',\n",
       " 'get_extra_state',\n",
       " 'get_parameter',\n",
       " 'get_submodule',\n",
       " 'half',\n",
       " 'head_dim',\n",
       " 'in_proj_bias',\n",
       " 'in_proj_weight',\n",
       " 'ipu',\n",
       " 'k_proj_weight',\n",
       " 'kdim',\n",
       " 'load_state_dict',\n",
       " 'modules',\n",
       " 'named_buffers',\n",
       " 'named_children',\n",
       " 'named_modules',\n",
       " 'named_parameters',\n",
       " 'num_heads',\n",
       " 'out_proj',\n",
       " 'parameters',\n",
       " 'q_proj_weight',\n",
       " 'register_backward_hook',\n",
       " 'register_buffer',\n",
       " 'register_forward_hook',\n",
       " 'register_forward_pre_hook',\n",
       " 'register_full_backward_hook',\n",
       " 'register_load_state_dict_post_hook',\n",
       " 'register_module',\n",
       " 'register_parameter',\n",
       " 'requires_grad_',\n",
       " 'set_extra_state',\n",
       " 'share_memory',\n",
       " 'state_dict',\n",
       " 'to',\n",
       " 'to_empty',\n",
       " 'train',\n",
       " 'training',\n",
       " 'type',\n",
       " 'v_proj_weight',\n",
       " 'vdim',\n",
       " 'xpu',\n",
       " 'zero_grad']"
      ]
     },
     "execution_count": 30,
     "metadata": {},
     "output_type": "execute_result"
    }
   ],
   "source": [
    "dir(model.decoder._modules[\"layers\"][-1].multihead_attn)"
   ]
  },
  {
   "cell_type": "code",
   "execution_count": 22,
   "id": "b0c070c3",
   "metadata": {
    "scrolled": true
   },
   "outputs": [
    {
     "data": {
      "text/plain": [
       "['T_destination',\n",
       " '__annotations__',\n",
       " '__call__',\n",
       " '__class__',\n",
       " '__constants__',\n",
       " '__delattr__',\n",
       " '__dict__',\n",
       " '__dir__',\n",
       " '__doc__',\n",
       " '__eq__',\n",
       " '__format__',\n",
       " '__ge__',\n",
       " '__getattr__',\n",
       " '__getattribute__',\n",
       " '__gt__',\n",
       " '__hash__',\n",
       " '__init__',\n",
       " '__init_subclass__',\n",
       " '__le__',\n",
       " '__lt__',\n",
       " '__module__',\n",
       " '__ne__',\n",
       " '__new__',\n",
       " '__reduce__',\n",
       " '__reduce_ex__',\n",
       " '__repr__',\n",
       " '__setattr__',\n",
       " '__setstate__',\n",
       " '__sizeof__',\n",
       " '__slotnames__',\n",
       " '__str__',\n",
       " '__subclasshook__',\n",
       " '__weakref__',\n",
       " '_apply',\n",
       " '_backward_hooks',\n",
       " '_buffers',\n",
       " '_call_impl',\n",
       " '_ff_block',\n",
       " '_forward_hooks',\n",
       " '_forward_pre_hooks',\n",
       " '_get_backward_hooks',\n",
       " '_get_name',\n",
       " '_is_full_backward_hook',\n",
       " '_load_from_state_dict',\n",
       " '_load_state_dict_post_hooks',\n",
       " '_load_state_dict_pre_hooks',\n",
       " '_maybe_warn_non_full_backward_hook',\n",
       " '_mha_block',\n",
       " '_modules',\n",
       " '_named_members',\n",
       " '_non_persistent_buffers_set',\n",
       " '_parameters',\n",
       " '_register_load_state_dict_pre_hook',\n",
       " '_register_state_dict_hook',\n",
       " '_replicate_for_data_parallel',\n",
       " '_sa_block',\n",
       " '_save_to_state_dict',\n",
       " '_slow_forward',\n",
       " '_state_dict_hooks',\n",
       " '_version',\n",
       " 'activation',\n",
       " 'add_module',\n",
       " 'apply',\n",
       " 'bfloat16',\n",
       " 'buffers',\n",
       " 'children',\n",
       " 'cpu',\n",
       " 'cuda',\n",
       " 'double',\n",
       " 'dropout',\n",
       " 'dropout1',\n",
       " 'dropout2',\n",
       " 'dropout3',\n",
       " 'dump_patches',\n",
       " 'eval',\n",
       " 'extra_repr',\n",
       " 'float',\n",
       " 'forward',\n",
       " 'get_buffer',\n",
       " 'get_extra_state',\n",
       " 'get_parameter',\n",
       " 'get_submodule',\n",
       " 'half',\n",
       " 'ipu',\n",
       " 'linear1',\n",
       " 'linear2',\n",
       " 'load_state_dict',\n",
       " 'modules',\n",
       " 'multihead_attn',\n",
       " 'named_buffers',\n",
       " 'named_children',\n",
       " 'named_modules',\n",
       " 'named_parameters',\n",
       " 'norm1',\n",
       " 'norm2',\n",
       " 'norm3',\n",
       " 'norm_first',\n",
       " 'parameters',\n",
       " 'register_backward_hook',\n",
       " 'register_buffer',\n",
       " 'register_forward_hook',\n",
       " 'register_forward_pre_hook',\n",
       " 'register_full_backward_hook',\n",
       " 'register_load_state_dict_post_hook',\n",
       " 'register_module',\n",
       " 'register_parameter',\n",
       " 'requires_grad_',\n",
       " 'self_attn',\n",
       " 'set_extra_state',\n",
       " 'share_memory',\n",
       " 'state_dict',\n",
       " 'to',\n",
       " 'to_empty',\n",
       " 'train',\n",
       " 'training',\n",
       " 'type',\n",
       " 'xpu',\n",
       " 'zero_grad']"
      ]
     },
     "execution_count": 22,
     "metadata": {},
     "output_type": "execute_result"
    }
   ],
   "source": [
    "dir(model.decoder._modules[\"layers\"][-1])"
   ]
  },
  {
   "cell_type": "code",
   "execution_count": 3,
   "id": "28695ba7",
   "metadata": {},
   "outputs": [
    {
     "data": {
      "text/plain": [
       "['T_destination',\n",
       " '__annotations__',\n",
       " '__call__',\n",
       " '__class__',\n",
       " '__delattr__',\n",
       " '__dict__',\n",
       " '__dir__',\n",
       " '__doc__',\n",
       " '__eq__',\n",
       " '__format__',\n",
       " '__ge__',\n",
       " '__getattr__',\n",
       " '__getattribute__',\n",
       " '__gt__',\n",
       " '__hash__',\n",
       " '__init__',\n",
       " '__init_subclass__',\n",
       " '__le__',\n",
       " '__lt__',\n",
       " '__module__',\n",
       " '__ne__',\n",
       " '__new__',\n",
       " '__reduce__',\n",
       " '__reduce_ex__',\n",
       " '__repr__',\n",
       " '__setattr__',\n",
       " '__setstate__',\n",
       " '__sizeof__',\n",
       " '__str__',\n",
       " '__subclasshook__',\n",
       " '__weakref__',\n",
       " '_apply',\n",
       " '_backward_hooks',\n",
       " '_buffers',\n",
       " '_call_impl',\n",
       " '_forward_hooks',\n",
       " '_forward_pre_hooks',\n",
       " '_get_backward_hooks',\n",
       " '_get_name',\n",
       " '_is_full_backward_hook',\n",
       " '_load_from_state_dict',\n",
       " '_load_state_dict_post_hooks',\n",
       " '_load_state_dict_pre_hooks',\n",
       " '_maybe_warn_non_full_backward_hook',\n",
       " '_modules',\n",
       " '_named_members',\n",
       " '_non_persistent_buffers_set',\n",
       " '_parameters',\n",
       " '_register_load_state_dict_pre_hook',\n",
       " '_register_state_dict_hook',\n",
       " '_replicate_for_data_parallel',\n",
       " '_reset_parameters',\n",
       " '_save_to_state_dict',\n",
       " '_slow_forward',\n",
       " '_state_dict_hooks',\n",
       " '_version',\n",
       " 'add_module',\n",
       " 'apply',\n",
       " 'batch_first',\n",
       " 'bfloat16',\n",
       " 'buffers',\n",
       " 'children',\n",
       " 'cpu',\n",
       " 'cuda',\n",
       " 'd_model',\n",
       " 'decoder',\n",
       " 'double',\n",
       " 'dump_patches',\n",
       " 'encoder',\n",
       " 'eval',\n",
       " 'extra_repr',\n",
       " 'float',\n",
       " 'forward',\n",
       " 'generate_square_subsequent_mask',\n",
       " 'get_buffer',\n",
       " 'get_extra_state',\n",
       " 'get_parameter',\n",
       " 'get_submodule',\n",
       " 'half',\n",
       " 'ipu',\n",
       " 'load_state_dict',\n",
       " 'modules',\n",
       " 'named_buffers',\n",
       " 'named_children',\n",
       " 'named_modules',\n",
       " 'named_parameters',\n",
       " 'nhead',\n",
       " 'parameters',\n",
       " 'register_backward_hook',\n",
       " 'register_buffer',\n",
       " 'register_forward_hook',\n",
       " 'register_forward_pre_hook',\n",
       " 'register_full_backward_hook',\n",
       " 'register_load_state_dict_post_hook',\n",
       " 'register_module',\n",
       " 'register_parameter',\n",
       " 'requires_grad_',\n",
       " 'set_extra_state',\n",
       " 'share_memory',\n",
       " 'state_dict',\n",
       " 'to',\n",
       " 'to_empty',\n",
       " 'train',\n",
       " 'training',\n",
       " 'type',\n",
       " 'xpu',\n",
       " 'zero_grad']"
      ]
     },
     "execution_count": 3,
     "metadata": {},
     "output_type": "execute_result"
    }
   ],
   "source": [
    "dir(model)"
   ]
  },
  {
   "cell_type": "markdown",
   "id": "d5b0d1c2",
   "metadata": {},
   "source": [
    "# data EDA"
   ]
  },
  {
   "cell_type": "code",
   "execution_count": 2,
   "id": "35350994",
   "metadata": {},
   "outputs": [
    {
     "data": {
      "text/plain": [
       "(list, 5359)"
      ]
     },
     "execution_count": 2,
     "metadata": {},
     "output_type": "execute_result"
    }
   ],
   "source": [
    "data = pickle.load(open(\"../../MSAI_Project/codes/data_files/data.json\", \"rb\"))\n",
    "type(data), len(data)"
   ]
  },
  {
   "cell_type": "code",
   "execution_count": 3,
   "id": "f602b930",
   "metadata": {},
   "outputs": [
    {
     "data": {
      "text/plain": [
       "dict_keys(['pdb', 'Hchain', 'Lchain', 'Achain', 'Hseq', 'Lseq', 'Aseq', 'L1', 'L2', 'L3', 'H1', 'H2', 'H3', 'Hpos', 'Lpos', 'Apos'])"
      ]
     },
     "execution_count": 3,
     "metadata": {},
     "output_type": "execute_result"
    }
   ],
   "source": [
    "data[0].keys()"
   ]
  },
  {
   "cell_type": "code",
   "execution_count": 4,
   "id": "d7b973ec",
   "metadata": {},
   "outputs": [
    {
     "data": {
      "text/plain": [
       "123"
      ]
     },
     "execution_count": 4,
     "metadata": {},
     "output_type": "execute_result"
    }
   ],
   "source": [
    "len(data[0][\"Hpos\"])"
   ]
  },
  {
   "cell_type": "code",
   "execution_count": 5,
   "id": "3bbd607e",
   "metadata": {},
   "outputs": [
    {
     "data": {
      "text/plain": [
       "110"
      ]
     },
     "execution_count": 5,
     "metadata": {},
     "output_type": "execute_result"
    }
   ],
   "source": [
    "len(data[0][\"Lpos\"])"
   ]
  },
  {
   "cell_type": "code",
   "execution_count": 6,
   "id": "aa7728cf",
   "metadata": {},
   "outputs": [
    {
     "data": {
      "text/plain": [
       "392"
      ]
     },
     "execution_count": 6,
     "metadata": {},
     "output_type": "execute_result"
    }
   ],
   "source": [
    "len(data[0][\"Apos\"][0])"
   ]
  },
  {
   "cell_type": "code",
   "execution_count": 7,
   "id": "e95eddc1",
   "metadata": {},
   "outputs": [
    {
     "data": {
      "text/plain": [
       "[array([[ 81.858,  -7.199, 197.021],\n",
       "        [ 81.735,  -6.449, 198.265],\n",
       "        [ 80.284,  -6.421, 198.728],\n",
       "        [ 79.74 ,  -5.362, 199.036]], dtype=float32),\n",
       " array([[ 79.66 ,  -7.596, 198.767],\n",
       "        [ 78.278,  -7.837, 199.157],\n",
       "        [ 77.269,  -7.526, 198.055],\n",
       "        [ 76.075,  -7.745, 198.261]], dtype=float32),\n",
       " array([[ 77.695,  -7.022, 196.897],\n",
       "        [ 76.793,  -6.774, 195.785],\n",
       "        [ 77.323,  -7.296, 194.458],\n",
       "        [ 76.538,  -7.469, 193.52 ]], dtype=float32),\n",
       " array([[ 78.63 ,  -7.552, 194.352],\n",
       "        [ 79.196,  -8.074, 193.112],\n",
       "        [ 78.916,  -9.554, 192.915],\n",
       "        [ 78.921, -10.028, 191.772]], dtype=float32),\n",
       " array([[ 78.667, -10.296, 193.99 ],\n",
       "        [ 78.411, -11.718, 193.885],\n",
       "        [ 76.953, -12.063, 193.664],\n",
       "        [ 76.593, -13.242, 193.593]], dtype=float32),\n",
       " array([[ 76.106, -11.047, 193.552],\n",
       "        [ 74.68 , -11.249, 193.323],\n",
       "        [ 74.461, -11.614, 191.862],\n",
       "        [ 75.008, -10.971, 190.958]], dtype=float32),\n",
       " array([[ 73.675, -12.67 , 191.63 ],\n",
       "        [ 73.322, -13.068, 190.271],\n",
       "        [ 72.397, -12.067, 189.595],\n",
       "        [ 72.461, -11.907, 188.371]], dtype=float32),\n",
       " array([[ 71.545, -11.391, 190.36 ],\n",
       "        [ 70.701, -10.31 , 189.863],\n",
       "        [ 71.289,  -8.95 , 190.216],\n",
       "        [ 70.563,  -7.996, 190.506]], dtype=float32),\n",
       " array([[ 72.618,  -8.856, 190.212],\n",
       "        [ 73.313,  -7.63 , 190.578],\n",
       "        [ 73.185,  -6.595, 189.468],\n",
       "        [ 73.367,  -6.905, 188.287]], dtype=float32),\n",
       " array([[ 72.868,  -5.363, 189.856],\n",
       "        [ 72.686,  -4.265, 188.921],\n",
       "        [ 73.883,  -3.327, 188.991],\n",
       "        [ 74.338,  -2.955, 190.076]], dtype=float32),\n",
       " array([[ 74.391,  -2.953, 187.821],\n",
       "        [ 75.523,  -2.042, 187.705],\n",
       "        [ 74.979,  -0.645, 187.434],\n",
       "        [ 74.301,  -0.423, 186.425]], dtype=float32),\n",
       " array([[ 75.273,   0.289, 188.333],\n",
       "        [ 74.823,   1.671, 188.217],\n",
       "        [ 76.021,   2.511, 187.8  ],\n",
       "        [ 77.014,   2.6  , 188.532]], dtype=float32),\n",
       " array([[ 75.933,   3.119, 186.621],\n",
       "        [ 76.977,   4.006, 186.133],\n",
       "        [ 76.322,   5.242, 185.539],\n",
       "        [ 75.444,   5.149, 184.677]], dtype=float32),\n",
       " array([[ 76.757,   6.404, 186.014],\n",
       "        [ 76.191,   7.655, 185.555],\n",
       "        [ 74.98 ,   8.075, 186.361],\n",
       "        [ 74.008,   7.322, 186.47 ]], dtype=float32),\n",
       " array([[ 75.029,   9.274, 186.935],\n",
       "        [ 73.93 ,   9.824, 187.714],\n",
       "        [ 73.533,  11.17 , 187.122],\n",
       "        [ 74.112,  11.635, 186.137]], dtype=float32),\n",
       " array([[ 72.533,  11.804, 187.736],\n",
       "        [ 72.052,  13.114, 187.289],\n",
       "        [ 72.955,  14.212, 187.856],\n",
       "        [ 72.616,  14.933, 188.796]], dtype=float32),\n",
       " array([[ 74.142,  14.32 , 187.259],\n",
       "        [ 75.151,  15.252, 187.721],\n",
       "        [ 75.841,  14.866, 189.009],\n",
       "        [ 76.545,  15.694, 189.592]], dtype=float32),\n",
       " array([[ 75.661,  13.632, 189.476],\n",
       "        [ 76.196,  13.203, 190.75 ],\n",
       "        [ 75.354,  13.56 , 191.953],\n",
       "        [ 75.684,  13.138, 193.068]], dtype=float32),\n",
       " array([[ 74.271,  14.316, 191.765],\n",
       "        [ 73.444,  14.751, 192.884],\n",
       "        [ 72.382,  13.714, 193.227],\n",
       "        [ 72.331,  13.213, 194.353]], dtype=float32),\n",
       " array([[ 71.523,  13.381, 192.267],\n",
       "        [ 70.45 ,  12.432, 192.519],\n",
       "        [ 70.492,  11.337, 191.465],\n",
       "        [ 70.586,  11.606, 190.265]], dtype=float32),\n",
       " array([[ 70.425,  10.093, 191.934],\n",
       "        [ 70.319,   8.933, 191.058],\n",
       "        [ 69.059,   8.164, 191.432],\n",
       "        [ 68.815,   7.879, 192.607]], dtype=float32),\n",
       " array([[ 68.252,   7.836, 190.429],\n",
       "        [ 67.02 ,   7.085, 190.633],\n",
       "        [ 67.333,   5.601, 190.498],\n",
       "        [ 67.762,   5.151, 189.431]], dtype=float32),\n",
       " array([[ 67.117,   4.845, 191.574],\n",
       "        [ 67.424,   3.422, 191.589],\n",
       "        [ 66.201,   2.649, 192.062],\n",
       "        [ 65.301,   3.194, 192.707]], dtype=float32),\n",
       " array([[ 66.174,   1.364, 191.726],\n",
       "        [ 65.098,   0.459, 192.118],\n",
       "        [ 65.629,  -0.369, 193.281],\n",
       "        [ 66.433,  -1.288, 193.088]], dtype=float32),\n",
       " array([[ 6.51850e+01, -4.80000e-02,  1.94494e+02],\n",
       "        [ 6.56200e+01, -7.62000e-01,  1.95694e+02],\n",
       "        [ 6.48000e+01, -2.04100e+00,  1.95803e+02],\n",
       "        [ 6.37640e+01, -2.08400e+00,  1.96467e+02]], dtype=float32),\n",
       " array([[ 65.27 ,  -3.093, 195.138],\n",
       "        [ 64.566,  -4.365, 195.142],\n",
       "        [ 64.773,  -5.092, 196.469],\n",
       "        [ 65.832,  -5.011, 197.098]], dtype=float32),\n",
       " array([[ 63.728,  -5.803, 196.895],\n",
       "        [ 63.777,  -6.596, 198.117],\n",
       "        [ 64.678,  -7.815, 197.987],\n",
       "        [ 65.271,  -8.249, 198.981]], dtype=float32),\n",
       " array([[ 64.792,  -8.379, 196.788],\n",
       "        [ 65.664,  -9.515, 196.573],\n",
       "        [ 66.943,  -9.198, 195.829],\n",
       "        [ 67.862, -10.021, 195.801]], dtype=float32),\n",
       " array([[ 67.022,  -8.016, 195.223],\n",
       "        [ 68.179,  -7.632, 194.445],\n",
       "        [ 69.096,  -6.661, 195.167],\n",
       "        [ 68.748,  -6.068, 196.188]], dtype=float32),\n",
       " array([[ 70.295,  -6.507, 194.609],\n",
       "        [ 71.272,  -5.54 , 195.086],\n",
       "        [ 71.858,  -4.817, 193.883],\n",
       "        [ 72.127,  -5.426, 192.846]], dtype=float32),\n",
       " array([[ 72.054,  -3.51 , 194.028],\n",
       "        [ 72.504,  -2.661, 192.93 ],\n",
       "        [ 73.844,  -2.052, 193.312],\n",
       "        [ 73.965,  -1.428, 194.371]], dtype=float32),\n",
       " array([[ 74.845,  -2.234, 192.457],\n",
       "        [ 76.171,  -1.66 , 192.656],\n",
       "        [ 76.255,  -0.38 , 191.835],\n",
       "        [ 75.962,  -0.389, 190.635]], dtype=float32),\n",
       " array([[ 76.654,   0.712, 192.478],\n",
       "        [ 76.725,   2.026, 191.85 ],\n",
       "        [ 78.192,   2.406, 191.71 ],\n",
       "        [ 78.952,   2.359, 192.686]], dtype=float32),\n",
       " array([[ 78.591,   2.774, 190.495],\n",
       "        [ 79.935,   3.256, 190.216],\n",
       "        [ 79.84 ,   4.679, 189.685],\n",
       "        [ 79.082,   4.953, 188.75 ]], dtype=float32),\n",
       " array([[ 80.614,   5.58 , 190.285],\n",
       "        [ 80.558,   6.997, 189.952],\n",
       "        [ 81.928,   7.493, 189.494],\n",
       "        [ 82.909,   6.745, 189.481]], dtype=float32),\n",
       " array([[ 81.985,   8.771, 189.11 ],\n",
       "        [ 83.221,   9.351, 188.596],\n",
       "        [ 84.229,   9.611, 189.71 ],\n",
       "        [ 85.427,   9.363, 189.543]], dtype=float32),\n",
       " array([[ 83.763,  10.113, 190.853],\n",
       "        [ 84.638,  10.453, 191.968],\n",
       "        [ 84.232,   9.716, 193.236],\n",
       "        [ 84.616,  10.103, 194.344]], dtype=float32),\n",
       " array([[ 83.456,   8.649, 193.095],\n",
       "        [ 83.014,   7.862, 194.23 ],\n",
       "        [ 83.301,   6.393, 193.966],\n",
       "        [ 83.36 ,   5.964, 192.809]], dtype=float32),\n",
       " array([[ 83.489,   5.602, 195.02 ],\n",
       "        [ 83.712,   4.167, 194.823],\n",
       "        [ 82.406,   3.448, 194.531],\n",
       "        [ 81.317,   4.007, 194.681]], dtype=float32),\n",
       " array([[ 82.527,   2.194, 194.101],\n",
       "        [ 81.363,   1.366, 193.807],\n",
       "        [ 80.73 ,   0.935, 195.123],\n",
       "        [ 81.357,   0.235, 195.924]], dtype=float32),\n",
       " array([[7.94950e+01, 1.36000e+00, 1.95356e+02],\n",
       "        [7.87610e+01, 1.01600e+00, 1.96568e+02],\n",
       "        [7.75960e+01, 1.20000e-01, 1.96180e+02],\n",
       "        [7.67770e+01, 4.81000e-01, 1.95329e+02]], dtype=float32),\n",
       " array([[ 77.535,  -1.058, 196.785],\n",
       "        [ 76.449,  -2.001, 196.564],\n",
       "        [ 75.405,  -1.773, 197.647],\n",
       "        [ 75.71 ,  -1.883, 198.838]], dtype=float32),\n",
       " array([[ 74.189,  -1.434, 197.232],\n",
       "        [ 73.063,  -1.24 , 198.135],\n",
       "        [ 72.093,  -2.389, 197.911],\n",
       "        [ 71.667,  -2.637, 196.776]], dtype=float32),\n",
       " array([[ 71.757,  -3.094, 198.987],\n",
       "        [ 70.84 ,  -4.223, 198.91 ],\n",
       "        [ 69.791,  -4.065, 199.998],\n",
       "        [ 70.122,  -4.104, 201.186]], dtype=float32),\n",
       " array([[ 68.539,  -3.871, 199.593],\n",
       "        [ 67.436,  -3.795, 200.54 ],\n",
       "        [ 67.078,  -5.205, 200.989],\n",
       "        [ 66.191,  -5.842, 200.413]], dtype=float32),\n",
       " array([[ 67.768,  -5.691, 202.018],\n",
       "        [ 67.633,  -7.068, 202.466],\n",
       "        [ 66.61 ,  -7.205, 203.585],\n",
       "        [ 65.845,  -8.172, 203.615]], dtype=float32),\n",
       " array([[ 66.572,  -6.247, 204.506],\n",
       "        [ 65.653,  -6.3  , 205.629],\n",
       "        [ 64.344,  -5.64 , 205.226],\n",
       "        [ 64.318,  -4.684, 204.449]], dtype=float32),\n",
       " array([[ 63.245,  -6.182, 205.75 ],\n",
       "        [ 61.917,  -5.596, 205.557],\n",
       "        [ 61.093,  -5.963, 206.791],\n",
       "        [ 60.551,  -7.066, 206.88 ]], dtype=float32),\n",
       " array([[ 61.006,  -5.031, 207.735],\n",
       "        [ 60.323,  -5.277, 208.999],\n",
       "        [ 58.948,  -4.62 , 208.97 ],\n",
       "        [ 58.839,  -3.399, 208.813]], dtype=float32),\n",
       " array([[ 57.905,  -5.429, 209.126],\n",
       "        [ 56.538,  -4.933, 209.254],\n",
       "        [ 56.169,  -5.018, 210.731],\n",
       "        [ 56.084,  -6.111, 211.297]], dtype=float32),\n",
       " array([[ 55.947,  -3.866, 211.356],\n",
       "        [ 55.717,  -3.79 , 212.791],\n",
       "        [ 54.302,  -3.306, 213.081],\n",
       "        [ 53.793,  -2.399, 212.415]], dtype=float32),\n",
       " array([[ 53.69 ,  -3.899, 214.109],\n",
       "        [ 52.331,  -3.575, 214.545],\n",
       "        [ 51.292,  -3.937, 213.48 ],\n",
       "        [ 50.555,  -3.092, 212.97 ]], dtype=float32),\n",
       " array([[ 51.252,  -5.224, 213.151],\n",
       "        [ 50.266,  -5.744, 212.212],\n",
       "        [ 49.021,  -6.153, 212.989],\n",
       "        [ 49.009,  -7.191, 213.658]], dtype=float32),\n",
       " array([[ 47.974,  -5.337, 212.897],\n",
       "        [ 46.741,  -5.546, 213.643],\n",
       "        [ 45.919,  -6.638, 212.974],\n",
       "        [ 45.913,  -6.754, 211.746]], dtype=float32),\n",
       " array([[ 45.23 ,  -7.433, 213.791],\n",
       "        [ 44.503,  -8.604, 213.324],\n",
       "        [ 43.267,  -8.21 , 212.521],\n",
       "        [ 42.676,  -7.146, 212.715]], dtype=float32),\n",
       " array([[ 42.891,  -9.091, 211.597],\n",
       "        [ 41.747,  -8.882, 210.718],\n",
       "        [ 40.785, -10.043, 210.916],\n",
       "        [ 41.016, -10.903, 211.773]], dtype=float32),\n",
       " array([[ 39.692, -10.051, 210.15 ],\n",
       "        [ 38.72 , -11.136, 210.217],\n",
       "        [ 39.316, -12.424, 209.66 ],\n",
       "        [ 39.545, -12.555, 208.455]], dtype=float32),\n",
       " array([[ 39.573, -13.371, 210.558],\n",
       "        [ 40.3  , -14.599, 210.249],\n",
       "        [ 39.313, -15.758, 210.259],\n",
       "        [ 38.64 , -15.999, 211.268]], dtype=float32),\n",
       " array([[ 39.227, -16.464, 209.136],\n",
       "        [ 38.341, -17.609, 209.007],\n",
       "        [ 38.89 , -18.804, 209.78 ],\n",
       "        [ 40.093, -18.92 , 210.029]], dtype=float32),\n",
       " array([[ 37.981, -19.69 , 210.177],\n",
       "        [ 38.332, -20.923, 210.865],\n",
       "        [ 38.971, -21.892, 209.88 ],\n",
       "        [ 38.506, -22.038, 208.746]], dtype=float32),\n",
       " array([[ 40.041, -22.554, 210.32 ],\n",
       "        [ 40.784, -23.476, 209.476],\n",
       "        [ 40.424, -24.938, 209.681],\n",
       "        [ 40.634, -25.738, 208.764]], dtype=float32),\n",
       " array([[ 39.899, -25.311, 210.845],\n",
       "        [ 39.418, -26.665, 211.1  ],\n",
       "        [ 38.402, -26.587, 212.231],\n",
       "        [ 38.773, -26.368, 213.389]], dtype=float32),\n",
       " array([[ 37.128, -26.764, 211.897],\n",
       "        [ 36.054, -26.728, 212.873],\n",
       "        [ 35.675, -28.146, 213.289],\n",
       "        [ 36.289, -29.133, 212.877]], dtype=float32),\n",
       " array([[ 34.643, -28.242, 214.122],\n",
       "        [ 34.123, -29.536, 214.543],\n",
       "        [ 32.804, -29.314, 215.263],\n",
       "        [ 32.621, -28.299, 215.943]], dtype=float32),\n",
       " array([[ 31.897, -30.275, 215.13 ],\n",
       "        [ 30.558, -30.171, 215.696],\n",
       "        [ 30.61 , -30.647, 217.141],\n",
       "        [ 31.432, -31.5  , 217.494]], dtype=float32),\n",
       " array([[ 29.73 , -30.099, 217.971],\n",
       "        [ 29.603, -30.501, 219.364],\n",
       "        [ 28.567, -31.622, 219.466],\n",
       "        [ 28.289, -32.313, 218.482]], dtype=float32),\n",
       " array([[ 28.019, -31.84 , 220.662],\n",
       "        [ 26.946, -32.809, 220.851],\n",
       "        [ 25.669, -32.329, 220.173],\n",
       "        [ 25.016, -31.394, 220.647]], dtype=float32),\n",
       " array([[ 25.311, -32.962, 219.063],\n",
       "        [ 24.18 , -32.54 , 218.255],\n",
       "        [ 22.939, -33.351, 218.603],\n",
       "        [ 23.013, -34.514, 219.006]], dtype=float32),\n",
       " array([[ 21.785, -32.716, 218.433],\n",
       "        [ 20.504, -33.358, 218.682],\n",
       "        [ 19.515, -32.833, 217.654],\n",
       "        [ 19.833, -31.957, 216.846]], dtype=float32),\n",
       " array([[ 18.305, -33.383, 217.687],\n",
       "        [ 17.291, -32.992, 216.723],\n",
       "        [ 15.977, -32.759, 217.448],\n",
       "        [ 15.623, -33.478, 218.385]], dtype=float32),\n",
       " array([[ 15.262, -31.735, 216.995],\n",
       "        [ 13.907, -31.459, 217.442],\n",
       "        [ 12.984, -31.71 , 216.262],\n",
       "        [ 13.153, -31.114, 215.195]], dtype=float32),\n",
       " array([[ 12.023, -32.607, 216.457],\n",
       "        [ 11.14 , -33.039, 215.388],\n",
       "        [  9.696, -32.72 , 215.744],\n",
       "        [  9.238, -32.976, 216.861]], dtype=float32),\n",
       " array([[  8.988, -32.148, 214.778],\n",
       "        [  7.554, -31.935, 214.857],\n",
       "        [  6.901, -32.69 , 213.709],\n",
       "        [  7.528, -32.938, 212.675]], dtype=float32),\n",
       " array([[  5.634, -33.05 , 213.899],\n",
       "        [  4.917, -33.85 , 212.922],\n",
       "        [  4.488, -32.997, 211.73 ],\n",
       "        [  4.602, -31.768, 211.756]], dtype=float32),\n",
       " array([[  4.008, -33.637, 210.662],\n",
       "        [  3.514, -32.879, 209.503],\n",
       "        [  2.192, -32.201, 209.83 ],\n",
       "        [  1.159, -32.854, 209.985]], dtype=float32),\n",
       " array([[ 2.24100e+00, -3.08740e+01,  2.09942e+02],\n",
       "        [ 1.12600e+00, -3.00940e+01,  2.10471e+02],\n",
       "        [ 1.06700e+00, -3.01740e+01,  2.11993e+02],\n",
       "        [ 3.00000e-02, -2.99190e+01,  2.12609e+02]], dtype=float32),\n",
       " array([[  2.197, -30.532, 212.607],\n",
       "        [  2.312, -30.644, 214.056],\n",
       "        [  3.334, -29.665, 214.623],\n",
       "        [  3.912, -29.917, 215.684]], dtype=float32),\n",
       " array([[  3.57 , -28.555, 213.932],\n",
       "        [  4.504, -27.544, 214.38 ],\n",
       "        [  5.905, -27.787, 213.848],\n",
       "        [  6.318, -28.92 , 213.58 ]], dtype=float32),\n",
       " array([[  6.642, -26.691, 213.698],\n",
       "        [  8.014, -26.72 , 213.219],\n",
       "        [  8.954, -27.013, 214.379],\n",
       "        [  8.59 , -26.874, 215.55 ]], dtype=float32),\n",
       " array([[ 10.169, -27.433, 214.04 ],\n",
       "        [ 11.166, -27.756, 215.047],\n",
       "        [ 11.736, -26.48 , 215.656],\n",
       "        [ 12.172, -25.568, 214.949]], dtype=float32),\n",
       " array([[ 11.725, -26.425, 216.984],\n",
       "        [ 12.292, -25.293, 217.708],\n",
       "        [ 13.193, -25.856, 218.793],\n",
       "        [ 12.726, -26.135, 219.901]], dtype=float32),\n",
       " array([[ 14.471, -26.028, 218.47 ],\n",
       "        [ 15.44 , -26.61 , 219.384],\n",
       "        [ 15.806, -25.615, 220.477],\n",
       "        [ 15.88 , -24.406, 220.244]], dtype=float32),\n",
       " array([[ 16.012, -26.144, 221.688],\n",
       "        [ 16.51 , -25.333, 222.792],\n",
       "        [ 17.943, -24.877, 222.561],\n",
       "        [ 18.296, -23.757, 222.946]], dtype=float32),\n",
       " array([[ 18.769, -25.715, 221.936],\n",
       "        [ 20.098, -25.324, 221.487],\n",
       "        [ 20.061, -24.619, 220.138],\n",
       "        [ 21.081, -24.087, 219.689]], dtype=float32),\n",
       " array([[ 18.9  , -24.61 , 219.479],\n",
       "        [ 18.716, -23.86 , 218.244],\n",
       "        [ 18.71 , -22.355, 218.469],\n",
       "        [ 19.073, -21.602, 217.559]], dtype=float32),\n",
       " array([[ 18.307, -21.903, 219.654],\n",
       "        [ 18.381, -20.496, 220.015],\n",
       "        [ 19.715, -20.119, 220.646],\n",
       "        [ 19.921, -18.947, 220.976]], dtype=float32),\n",
       " array([[ 20.619, -21.079, 220.818],\n",
       "        [ 21.939, -20.82 , 221.375],\n",
       "        [ 22.889, -20.449, 220.245],\n",
       "        [ 22.941, -21.138, 219.222]], dtype=float32),\n",
       " array([[ 23.63 , -19.355, 220.431],\n",
       "        [ 24.561, -18.868, 219.421],\n",
       "        [ 25.786, -19.757, 219.254],\n",
       "        [ 26.377, -19.771, 218.169]], dtype=float32),\n",
       " array([[ 26.176, -20.496, 220.289],\n",
       "        [ 27.307, -21.409, 220.204],\n",
       "        [ 26.992, -22.676, 219.422],\n",
       "        [ 27.922, -23.356, 218.975]], dtype=float32),\n",
       " array([[ 25.717, -23.009, 219.244],\n",
       "        [ 25.307, -24.195, 218.508],\n",
       "        [ 24.735, -23.78 , 217.159],\n",
       "        [ 23.766, -23.017, 217.093]], dtype=float32),\n",
       " array([[ 25.34 , -24.282, 216.091],\n",
       "        [ 24.821, -24.094, 214.742],\n",
       "        [ 23.778, -25.17 , 214.48 ],\n",
       "        [ 23.949, -26.335, 214.861]], dtype=float32),\n",
       " array([[ 22.685, -24.778, 213.831],\n",
       "        [ 21.577, -25.69 , 213.592],\n",
       "        [ 21.083, -25.535, 212.162],\n",
       "        [ 21.235, -24.473, 211.553]], dtype=float32),\n",
       " array([[ 20.494, -26.607, 211.638],\n",
       "        [ 19.899, -26.617, 210.31 ],\n",
       "        [ 18.529, -27.271, 210.397],\n",
       "        [ 18.393, -28.37 , 210.943]], dtype=float32),\n",
       " array([[ 17.52 , -26.588, 209.869],\n",
       "        [ 16.158, -27.098, 209.835],\n",
       "        [ 15.847, -27.639, 208.446],\n",
       "        [ 16.37 , -27.15 , 207.441]], dtype=float32),\n",
       " array([[ 14.991, -28.656, 208.396],\n",
       "        [ 14.635, -29.295, 207.139],\n",
       "        [ 13.272, -29.955, 207.289],\n",
       "        [ 12.749, -30.114, 208.397]], dtype=float32),\n",
       " array([[ 12.694, -30.329, 206.151],\n",
       "        [ 11.406, -31.009, 206.096],\n",
       "        [ 11.658, -32.483, 205.811],\n",
       "        [ 12.051, -32.845, 204.698]], dtype=float32),\n",
       " array([[ 11.43 , -33.327, 206.814],\n",
       "        [ 11.665, -34.759, 206.701],\n",
       "        [ 10.322, -35.478, 206.685],\n",
       "        [  9.271, -34.885, 206.921]], dtype=float32),\n",
       " array([[ 10.368, -36.774, 206.394],\n",
       "        [  9.147, -37.563, 206.305],\n",
       "        [  8.692, -37.977, 207.699],\n",
       "        [  9.469, -38.548, 208.471]], dtype=float32),\n",
       " array([[  7.435, -37.683, 208.023],\n",
       "        [  6.816, -38.132, 209.263],\n",
       "        [  5.477, -38.763, 208.917],\n",
       "        [  4.615, -38.109, 208.322]], dtype=float32),\n",
       " array([[  5.301, -40.024, 209.29 ],\n",
       "        [  4.09 , -40.737, 208.949],\n",
       "        [  3.439, -41.399, 210.141],\n",
       "        [  3.864, -41.201, 211.282]], dtype=float32),\n",
       " array([[  2.381, -42.172, 209.868],\n",
       "        [  1.743, -42.992, 210.894],\n",
       "        [  2.681, -44.069, 211.421],\n",
       "        [  2.701, -44.331, 212.628]], dtype=float32),\n",
       " array([[  3.46 , -44.696, 210.538],\n",
       "        [  4.553, -45.535, 210.991],\n",
       "        [  5.778, -44.747, 211.404],\n",
       "        [  6.655, -45.285, 212.086]], dtype=float32),\n",
       " array([[  5.853, -43.474, 211.007],\n",
       "        [  6.966, -42.598, 211.345],\n",
       "        [  6.728, -41.809, 212.627],\n",
       "        [  7.52 , -40.917, 212.953]], dtype=float32),\n",
       " array([[  5.65 , -42.106, 213.353],\n",
       "        [  5.377, -41.48 , 214.626],\n",
       "        [  4.417, -40.312, 214.587],\n",
       "        [  3.855, -39.96 , 215.632]], dtype=float32),\n",
       " array([[  4.205, -39.7  , 213.426],\n",
       "        [  3.261, -38.598, 213.319],\n",
       "        [  1.84 , -39.146, 213.205],\n",
       "        [  1.618, -40.346, 213.018]], dtype=float32),\n",
       " array([[  0.858, -38.258, 213.317],\n",
       "        [ -0.526, -38.672, 213.227],\n",
       "        [ -1.066, -38.584, 211.817],\n",
       "        [ -2.201, -38.988, 211.548]], dtype=float32),\n",
       " array([[ -0.253, -38.057, 210.905],\n",
       "        [ -0.635, -37.945, 209.5  ],\n",
       "        [  0.607, -38.195, 208.663],\n",
       "        [  1.692, -37.719, 209.014]], dtype=float32),\n",
       " array([[  0.456, -38.949, 207.577],\n",
       "        [  1.555, -39.165, 206.648],\n",
       "        [  1.823, -37.885, 205.868],\n",
       "        [  0.945, -37.376, 205.165]], dtype=float32),\n",
       " array([[  3.034, -37.362, 206.   ],\n",
       "        [  3.369, -36.101, 205.369],\n",
       "        [  4.778, -35.668, 205.717],\n",
       "        [  5.634, -36.477, 206.075]], dtype=float32),\n",
       " array([[  4.999, -34.362, 205.594],\n",
       "        [  6.325, -33.786, 205.782],\n",
       "        [  6.402, -33.075, 207.129],\n",
       "        [  5.95 , -31.936, 207.271]], dtype=float32),\n",
       " array([[  6.986, -33.748, 208.118],\n",
       "        [  7.268, -33.121, 209.395],\n",
       "        [  8.513, -32.26 , 209.324],\n",
       "        [  9.222, -32.235, 208.315]], dtype=float32),\n",
       " array([[  8.798, -31.555, 210.416],\n",
       "        [  9.913, -30.614, 210.412],\n",
       "        [ 10.933, -31.022, 211.465],\n",
       "        [ 10.604, -31.148, 212.646]], dtype=float32),\n",
       " array([[ 12.18 , -31.211, 211.038],\n",
       "        [ 13.243, -31.624, 211.944],\n",
       "        [ 14.388, -30.625, 211.874],\n",
       "        [ 14.836, -30.26 , 210.785]], dtype=float32),\n",
       " array([[ 14.863, -30.187, 213.036],\n",
       "        [ 15.974, -29.246, 213.125],\n",
       "        [ 17.081, -29.905, 213.934],\n",
       "        [ 16.856, -30.328, 215.072]], dtype=float32),\n",
       " array([[ 18.276, -29.977, 213.355],\n",
       "        [ 19.421, -30.621, 213.989],\n",
       "        [ 20.43 , -29.546, 214.363],\n",
       "        [ 20.844, -28.756, 213.51 ]], dtype=float32),\n",
       " array([[ 20.828, -29.525, 215.631],\n",
       "        [ 21.755, -28.531, 216.151],\n",
       "        [ 22.973, -29.215, 216.758],\n",
       "        [ 22.911, -30.381, 217.157]], dtype=float32),\n",
       " array([[ 24.083, -28.481, 216.82 ],\n",
       "        [ 25.318, -29.005, 217.397],\n",
       "        [ 26.262, -27.84 , 217.643],\n",
       "        [ 26.249, -26.867, 216.887]], dtype=float32),\n",
       " array([[ 27.088, -27.948, 218.682],\n",
       "        [ 27.98 , -26.86 , 219.074],\n",
       "        [ 29.164, -26.798, 218.115],\n",
       "        [ 30.233, -27.344, 218.403]], dtype=float32),\n",
       " array([[ 28.978, -26.123, 216.982],\n",
       "        [ 30.011, -26.043, 215.956],\n",
       "        [ 31.084, -25.05 , 216.386],\n",
       "        [ 30.889, -23.834, 216.294]], dtype=float32),\n",
       " array([[ 32.214, -25.572, 216.861],\n",
       "        [ 33.304, -24.744, 217.37 ],\n",
       "        [ 34.501, -24.912, 216.444],\n",
       "        [ 34.794, -26.026, 215.999]], dtype=float32),\n",
       " array([[ 35.182, -23.808, 216.154],\n",
       "        [ 36.373, -23.829, 215.316],\n",
       "        [ 37.577, -24.203, 216.171],\n",
       "        [ 37.991, -23.432, 217.042]], dtype=float32),\n",
       " array([[ 38.135, -25.39 , 215.922],\n",
       "        [ 39.259, -25.889, 216.709],\n",
       "        [ 40.554, -25.138, 216.426],\n",
       "        [ 41.463, -25.135, 217.263]], dtype=float32),\n",
       " array([[ 40.664, -24.509, 215.26 ],\n",
       "        [ 41.793, -23.643, 214.954],\n",
       "        [ 41.434, -22.783, 213.754],\n",
       "        [ 40.699, -23.227, 212.868]], dtype=float32),\n",
       " array([[ 41.96 , -21.562, 213.724],\n",
       "        [ 41.668, -20.618, 212.658],\n",
       "        [ 42.929, -19.868, 212.261],\n",
       "        [ 43.706, -19.427, 213.112]], dtype=float32),\n",
       " array([[ 43.121, -19.725, 210.954],\n",
       "        [ 44.191, -18.907, 210.406],\n",
       "        [ 43.806, -17.438, 210.53 ],\n",
       "        [ 42.674, -17.046, 210.233]], dtype=float32),\n",
       " array([[ 44.761, -16.625, 210.974],\n",
       "        [ 44.486, -15.231, 211.304],\n",
       "        [ 45.315, -14.336, 210.399],\n",
       "        [ 46.53 , -14.515, 210.29 ]], dtype=float32),\n",
       " array([[ 44.66 , -13.372, 209.757],\n",
       "        [ 45.338, -12.469, 208.85 ],\n",
       "        [ 45.555, -11.099, 209.46 ],\n",
       "        [ 44.599, -10.361, 209.709]], dtype=float32),\n",
       " array([[ 46.816, -10.761, 209.703],\n",
       "        [ 47.182,  -9.451, 210.212],\n",
       "        [ 47.098,  -8.422, 209.091],\n",
       "        [ 47.448,  -8.698, 207.941]], dtype=float32),\n",
       " array([[ 46.62 ,  -7.232, 209.437],\n",
       "        [ 46.551,  -6.13 , 208.49 ],\n",
       "        [ 47.745,  -5.214, 208.719],\n",
       "        [ 48.016,  -4.801, 209.85 ]], dtype=float32),\n",
       " array([[ 48.456,  -4.901, 207.641],\n",
       "        [ 49.689,  -4.124, 207.708],\n",
       "        [ 49.359,  -2.69 , 207.317],\n",
       "        [ 48.937,  -2.424, 206.185]], dtype=float32),\n",
       " array([[ 4.95490e+01, -1.76700e+00,  2.08254e+02],\n",
       "        [ 4.93770e+01, -3.45000e-01,  2.07997e+02],\n",
       "        [ 5.05880e+01,  1.95000e-01,  2.07245e+02],\n",
       "        [ 5.16440e+01, -4.48000e-01,  2.07228e+02]], dtype=float32),\n",
       " array([[ 50.462,   1.363, 206.608],\n",
       "        [ 51.612,   1.936, 205.89 ],\n",
       "        [ 52.706,   2.479, 206.794],\n",
       "        [ 53.836,   2.657, 206.323]], dtype=float32),\n",
       " array([[ 52.419,   2.738, 208.067],\n",
       "        [ 53.41 ,   3.252, 209.   ],\n",
       "        [ 54.106,   2.157, 209.797],\n",
       "        [ 54.655,   2.439, 210.867]], dtype=float32),\n",
       " array([[ 5.40960e+01,  9.17000e-01,  2.09307e+02],\n",
       "        [ 5.47400e+01, -1.89000e-01,  2.10001e+02],\n",
       "        [ 5.59200e+01, -7.64000e-01,  2.09229e+02],\n",
       "        [ 5.66810e+01, -1.56200e+00,  2.09789e+02]], dtype=float32),\n",
       " array([[ 56.095,  -0.383, 207.968],\n",
       "        [ 57.172,  -0.932, 207.158],\n",
       "        [ 58.488,  -0.231, 207.472],\n",
       "        [ 58.521,   0.966, 207.769]], dtype=float32),\n",
       " array([[ 59.58 ,  -0.993, 207.405],\n",
       "        [ 60.934,  -0.481, 207.628],\n",
       "        [ 61.877,  -1.346, 206.796],\n",
       "        [ 62.118,  -2.51 , 207.126]], dtype=float32),\n",
       " array([[ 6.24050e+01, -7.75000e-01,  2.05715e+02],\n",
       "        [ 6.32890e+01, -1.51100e+00,  2.04823e+02],\n",
       "        [ 6.47340e+01, -1.32500e+00,  2.05270e+02],\n",
       "        [ 6.52250e+01, -1.95000e-01,  2.05351e+02]], dtype=float32),\n",
       " array([[ 65.412,  -2.43 , 205.568],\n",
       "        [ 66.814,  -2.395, 205.964],\n",
       "        [ 67.679,  -2.627, 204.731],\n",
       "        [ 67.69 ,  -3.73 , 204.171]], dtype=float32),\n",
       " array([[ 68.407,  -1.595, 204.316],\n",
       "        [ 69.238,  -1.649, 203.121],\n",
       "        [ 70.686,  -1.564, 203.582],\n",
       "        [ 71.077,  -0.62 , 204.277]], dtype=float32),\n",
       " array([[ 71.479,  -2.56 , 203.21 ],\n",
       "        [ 72.899,  -2.558, 203.518],\n",
       "        [ 73.669,  -1.979, 202.34 ],\n",
       "        [ 73.527,  -2.441, 201.204]], dtype=float32),\n",
       " array([[ 74.466,  -0.95 , 202.613],\n",
       "        [ 75.377,  -0.38 , 201.637],\n",
       "        [ 76.777,  -0.888, 201.944],\n",
       "        [ 77.124,  -1.135, 203.101]], dtype=float32),\n",
       " array([[ 77.57 ,  -1.077, 200.895],\n",
       "        [ 78.921,  -1.604, 201.069],\n",
       "        [ 79.799,  -1.011, 199.979],\n",
       "        [ 79.563,  -1.261, 198.795]], dtype=float32),\n",
       " array([[ 80.798,  -0.232, 200.374],\n",
       "        [ 81.716,   0.351, 199.406],\n",
       "        [ 82.724,  -0.701, 198.959],\n",
       "        [ 83.474,  -1.265, 199.761]], dtype=float32),\n",
       " array([[ 8.27300e+01, -9.73000e-01,  1.97656e+02],\n",
       "        [ 8.36900e+01, -1.89500e+00,  1.97064e+02],\n",
       "        [ 8.50450e+01, -1.20400e+00,  1.97013e+02],\n",
       "        [ 8.51660e+01, -1.01000e-01,  1.96469e+02]], dtype=float32),\n",
       " array([[ 86.06 ,  -1.852, 197.575],\n",
       "        [ 87.344,  -1.21 , 197.766],\n",
       "        [ 88.281,  -2.025, 198.63 ],\n",
       "        [ 88.501,  -3.212, 198.369]], dtype=float32),\n",
       " array([[ 88.846,  -1.395, 199.661],\n",
       "        [ 89.825,  -2.046, 200.53 ],\n",
       "        [ 89.125,  -3.032, 201.464],\n",
       "        [ 88.792,  -2.73 , 202.613]], dtype=float32),\n",
       " array([[ 88.905,  -4.237, 200.942],\n",
       "        [ 88.345,  -5.343, 201.701],\n",
       "        [ 88.84 ,  -6.641, 201.083],\n",
       "        [ 89.199,  -6.687, 199.905]], dtype=float32),\n",
       " array([[ 88.855,  -7.696, 201.886],\n",
       "        [ 89.344,  -8.996, 201.453],\n",
       "        [ 88.176,  -9.848, 200.959],\n",
       "        [ 87.044,  -9.375, 200.825]], dtype=float32),\n",
       " array([[ 88.467, -11.122, 200.683],\n",
       "        [ 87.425, -12.059, 200.279],\n",
       "        [ 86.517, -12.445, 201.439],\n",
       "        [ 85.372, -12.85 , 201.21 ]], dtype=float32),\n",
       " array([[ 86.996, -12.319, 202.676],\n",
       "        [ 86.204, -12.638, 203.847],\n",
       "        [ 85.328, -11.5  , 204.329],\n",
       "        [ 84.663, -11.618, 205.362]], dtype=float32),\n",
       " array([[ 85.327, -10.383, 203.596],\n",
       "        [ 84.431,  -9.273, 203.89 ],\n",
       "        [ 83.347,  -9.123, 202.83 ],\n",
       "        [ 82.463,  -8.27 , 202.975]], dtype=float32),\n",
       " array([[ 83.401,  -9.92 , 201.762],\n",
       "        [ 82.35 ,  -9.922, 200.748],\n",
       "        [ 81.083, -10.556, 201.306],\n",
       "        [ 79.975, -10.046, 201.108]], dtype=float32),\n",
       " array([[ 81.239, -11.673, 202.018],\n",
       "        [ 80.098, -12.311, 202.666],\n",
       "        [ 80.123, -12.123, 204.176],\n",
       "        [ 79.096, -12.326, 204.837]], dtype=float32),\n",
       " array([[ 81.265, -11.739, 204.741],\n",
       "        [ 81.379, -11.54 , 206.182],\n",
       "        [ 80.726, -10.217, 206.559],\n",
       "        [ 81.382,  -9.172, 206.587]], dtype=float32),\n",
       " array([[ 79.427, -10.263, 206.849],\n",
       "        [ 78.672,  -9.077, 207.225],\n",
       "        [ 78.562,  -8.9  , 208.732],\n",
       "        [ 77.737,  -8.1  , 209.189]], dtype=float32),\n",
       " array([[ 79.359,  -9.63 , 209.514],\n",
       "        [ 79.334,  -9.511, 210.966],\n",
       "        [ 79.973,  -8.2  , 211.405],\n",
       "        [ 81.202,  -8.088, 211.466]], dtype=float32),\n",
       " array([[ 79.141,  -7.205, 211.702],\n",
       "        [ 79.616,  -5.897, 212.103],\n",
       "        [ 79.485,  -4.87 , 210.999],\n",
       "        [ 80.298,  -4.839, 210.071]], dtype=float32),\n",
       " array([[ 78.459,  -4.024, 211.086],\n",
       "        [ 78.26 ,  -2.962, 210.114],\n",
       "        [ 78.471,  -1.567, 210.68 ],\n",
       "        [ 78.825,  -0.66 , 209.919]], dtype=float32),\n",
       " array([[ 7.82620e+01, -1.36200e+00,  2.11982e+02],\n",
       "        [ 7.85290e+01, -6.40000e-02,  2.12584e+02],\n",
       "        [ 8.00170e+01,  2.08000e-01,  2.12744e+02],\n",
       "        [ 8.04450e+01,  1.35600e+00,  2.12593e+02]], dtype=float32),\n",
       " array([[ 80.815,  -0.819, 213.034],\n",
       "        [ 82.249,  -0.666, 213.238],\n",
       "        [ 83.05 ,  -1.075, 212.009],\n",
       "        [ 84.269,  -1.249, 212.087]], dtype=float32),\n",
       " array([[ 82.385,  -1.235, 210.864],\n",
       "        [ 83.064,  -1.668, 209.652],\n",
       "        [ 83.803,  -0.544, 208.942],\n",
       "        [ 85.023,  -0.631, 208.772]], dtype=float32),\n",
       " array([[ 83.098,   0.508, 208.523],\n",
       "        [ 83.697,   1.62 , 207.789],\n",
       "        [ 83.852,   1.348, 206.295],\n",
       "        [ 84.286,   2.227, 205.544]], dtype=float32),\n",
       " array([[ 8.35000e+01,  1.42000e-01,  2.05852e+02],\n",
       "        [ 8.33860e+01, -1.74000e-01,  2.04437e+02],\n",
       "        [ 8.19840e+01, -6.05000e-01,  2.04046e+02],\n",
       "        [ 8.15800e+01, -3.88000e-01,  2.02900e+02]], dtype=float32),\n",
       " array([[ 81.242,  -1.207, 204.972],\n",
       "        [ 79.847,  -1.562, 204.776],\n",
       "        [ 79.077,  -1.249, 206.051],\n",
       "        [ 79.634,  -1.274, 207.152]], dtype=float32),\n",
       " array([[ 77.789,  -0.955, 205.889],\n",
       "        [ 76.917,  -0.638, 207.01 ],\n",
       "        [ 75.473,  -0.69 , 206.531],\n",
       "        [ 75.187,  -0.406, 205.366]], dtype=float32),\n",
       " array([[ 7.45740e+01, -1.06000e+00,  2.07435e+02],\n",
       "        [ 7.31550e+01, -1.14300e+00,  2.07126e+02],\n",
       "        [ 7.24310e+01,  8.90000e-02,  2.07655e+02],\n",
       "        [ 7.27350e+01,  5.92000e-01,  2.08739e+02]], dtype=float32),\n",
       " array([[ 71.472,   0.575, 206.872],\n",
       "        [ 70.648,   1.72 , 207.242],\n",
       "        [ 69.194,   1.298, 207.075],\n",
       "        [ 68.825,   0.69 , 206.063]], dtype=float32),\n",
       " array([[ 68.37 ,   1.605, 208.07 ],\n",
       "        [ 66.947,   1.299, 208.015],\n",
       "        [ 66.194,   2.551, 207.585],\n",
       "        [ 66.289,   3.596, 208.236]], dtype=float32),\n",
       " array([[ 65.451,   2.445, 206.491],\n",
       "        [ 64.649,   3.546, 205.967],\n",
       "        [ 63.192,   3.172, 206.211],\n",
       "        [ 62.733,   2.097, 205.814]], dtype=float32),\n",
       " array([[ 62.464,   4.054, 206.874],\n",
       "        [ 61.056,   3.826, 207.144],\n",
       "        [ 60.21 ,   4.851, 206.398],\n",
       "        [ 60.745,   5.727, 205.712]], dtype=float32),\n",
       " array([[ 58.88 ,   4.73 , 206.48 ],\n",
       "        [ 58.013,   5.808, 205.979],\n",
       "        [ 58.146,   7.106, 206.757],\n",
       "        [ 57.984,   8.183, 206.169]], dtype=float32),\n",
       " array([[ 58.44 ,   7.035, 208.057],\n",
       "        [ 58.657,   8.247, 208.837],\n",
       "        [ 60.016,   8.869, 208.545],\n",
       "        [ 60.183,  10.086, 208.677]], dtype=float32),\n",
       " array([[ 60.992,   8.059, 208.143],\n",
       "        [ 62.35 ,   8.527, 207.865],\n",
       "        [ 62.744,   8.081, 206.465],\n",
       "        [ 63.516,   7.131, 206.291]], dtype=float32),\n",
       " array([[ 62.215,   8.744, 205.434],\n",
       "        [ 62.591,   8.365, 204.064],\n",
       "        [ 63.954,   8.881, 203.644],\n",
       "        [ 64.644,   8.218, 202.86 ]], dtype=float32),\n",
       " array([[ 64.365,  10.043, 204.141],\n",
       "        [ 65.657,  10.616, 203.795],\n",
       "        [ 66.661,  10.308, 204.896],\n",
       "        [ 66.354,  10.439, 206.085]], dtype=float32),\n",
       " array([[ 67.86 ,   9.894, 204.496],\n",
       "        [ 68.916,   9.552, 205.435],\n",
       "        [ 70.266,   9.745, 204.759],\n",
       "        [ 70.36 ,   9.882, 203.538]], dtype=float32),\n",
       " array([[ 71.319,   9.756, 205.572],\n",
       "        [ 72.684,   9.896, 205.079],\n",
       "        [ 73.579,   8.981, 205.901],\n",
       "        [ 73.811,   9.237, 207.086]], dtype=float32),\n",
       " array([[ 74.079,   7.922, 205.273],\n",
       "        [ 74.947,   6.965, 205.943],\n",
       "        [ 76.396,   7.378, 205.724],\n",
       "        [ 76.881,   7.388, 204.589]], dtype=float32),\n",
       " array([[ 77.079,   7.718, 206.811],\n",
       "        [ 78.466,   8.167, 206.739],\n",
       "        [ 79.363,   6.946, 206.582],\n",
       "        [ 79.646,   6.238, 207.551]], dtype=float32),\n",
       " array([[ 79.808,   6.694, 205.356],\n",
       "        [ 80.718,   5.593, 205.055],\n",
       "        [ 82.125,   6.159, 205.191],\n",
       "        [ 82.548,   6.984, 204.378]], dtype=float32),\n",
       " array([[ 82.837,   5.716, 206.233],\n",
       "        [ 84.129,   6.257, 206.624],\n",
       "        [ 85.237,   6.142, 205.596],\n",
       "        [ 85.559,   5.047, 205.127]], dtype=float32),\n",
       " array([[ 85.817,   7.281, 205.239],\n",
       "        [ 86.746,   7.391, 204.128],\n",
       "        [ 86.074,   7.794, 202.831],\n",
       "        [ 86.566,   8.675, 202.123]], dtype=float32),\n",
       " array([[ 84.943,   7.17 , 202.512],\n",
       "        [ 84.209,   7.465, 201.29 ],\n",
       "        [ 83.278,   8.664, 201.417],\n",
       "        [ 82.727,   9.108, 200.405]], dtype=float32),\n",
       " array([[ 83.09 ,   9.198, 202.614],\n",
       "        [ 82.215,  10.342, 202.81 ],\n",
       "        [ 80.863,   9.927, 203.372],\n",
       "        [ 80.788,   9.301, 204.428]], dtype=float32),\n",
       " array([[ 79.794,  10.277, 202.659],\n",
       "        [ 78.446,   9.998, 203.149],\n",
       "        [ 77.552,   9.694, 201.956],\n",
       "        [ 77.381,  10.545, 201.079]], dtype=float32),\n",
       " array([[ 76.985,   8.492, 201.931],\n",
       "        [ 76.033,   8.125, 200.891],\n",
       "        [ 74.642,   8.584, 201.308],\n",
       "        [ 74.172,   8.254, 202.401]], dtype=float32),\n",
       " array([[ 73.98 ,   9.346, 200.44 ],\n",
       "        [ 72.669,   9.883, 200.744],\n",
       "        [ 71.563,   9.012, 200.179],\n",
       "        [ 71.471,   8.815, 198.966]], dtype=float32),\n",
       " array([[ 70.728,   8.487, 201.069],\n",
       "        [ 69.576,   7.695, 200.676],\n",
       "        [ 68.33 ,   8.57 , 200.679],\n",
       "        [ 68.02 ,   9.237, 201.67 ]], dtype=float32),\n",
       " array([[ 67.619,   8.559, 199.557],\n",
       "        [ 66.387,   9.321, 199.387],\n",
       "        [ 65.266,   8.385, 198.956],\n",
       "        [ 64.53 ,   8.647, 198.003]], dtype=float32),\n",
       " array([[ 65.158,   7.255, 199.652],\n",
       "        [ 64.139,   6.259, 199.362],\n",
       "        [ 62.759,   6.76 , 199.784],\n",
       "        [ 62.599,   7.467, 200.784]], dtype=float32),\n",
       " array([[ 61.751,   6.383, 198.997],\n",
       "        [ 60.365,   6.781, 199.235],\n",
       "        [ 59.666,   5.643, 199.964],\n",
       "        [ 59.194,   4.684, 199.332]], dtype=float32),\n",
       " array([[ 59.593,   5.702, 201.299],\n",
       "        [ 58.88 ,   4.655, 202.042],\n",
       "        [ 57.371,   4.727, 201.902],\n",
       "        [ 56.693,   3.715, 202.125]], dtype=float32),\n",
       " array([[ 56.828,   5.894, 201.552],\n",
       "        [ 55.41 ,   5.998, 201.24 ],\n",
       "        [ 55.069,   5.322, 199.92 ],\n",
       "        [ 53.972,   4.771, 199.777]], dtype=float32),\n",
       " array([[ 55.984,   5.349, 198.956],\n",
       "        [ 55.799,   4.638, 197.692],\n",
       "        [ 56.342,   3.214, 197.801],\n",
       "        [ 57.398,   2.872, 197.271]], dtype=float32),\n",
       " array([[5.55940e+01, 2.37900e+00, 1.98516e+02],\n",
       "        [5.60030e+01, 1.00600e+00, 1.98736e+02],\n",
       "        [5.54790e+01, 5.60000e-02, 1.97680e+02],\n",
       "        [5.49100e+01, 4.91000e-01, 1.96674e+02]], dtype=float32),\n",
       " array([[ 55.663,  -1.244, 197.894],\n",
       "        [ 55.247,  -2.255, 196.923],\n",
       "        [ 53.868,  -2.814, 197.274],\n",
       "        [ 53.675,  -4.021, 197.426]], dtype=float32),\n",
       " array([[ 52.895,  -1.903, 197.372],\n",
       "        [ 51.497,  -2.253, 197.609],\n",
       "        [ 51.25 ,  -2.839, 198.995],\n",
       "        [ 50.623,  -3.895, 199.123]], dtype=float32),\n",
       " array([[ 51.744,  -2.168, 200.037],\n",
       "        [ 51.578,  -2.654, 201.402],\n",
       "        [ 50.157,  -2.506, 201.928],\n",
       "        [ 49.785,  -3.23 , 202.859]], dtype=float32),\n",
       " array([[ 49.358,  -1.602, 201.366],\n",
       "        [ 47.987,  -1.412, 201.818],\n",
       "        [ 46.994,  -2.32 , 201.108],\n",
       "        [ 45.828,  -2.372, 201.51 ]], dtype=float32),\n",
       " array([[ 47.421,  -3.035, 200.068],\n",
       "        [ 46.533,  -3.911, 199.313],\n",
       "        [ 46.713,  -5.379, 199.685],\n",
       "        [ 46.138,  -6.259, 199.039]], dtype=float32),\n",
       " array([[ 47.496,  -5.661, 200.722],\n",
       "        [ 47.81 ,  -7.033, 201.085],\n",
       "        [ 47.717,  -7.216, 202.592],\n",
       "        [ 47.896,  -6.27 , 203.363]], dtype=float32),\n",
       " array([[ 47.436,  -8.448, 202.999],\n",
       "        [ 47.407,  -8.849, 204.398],\n",
       "        [ 48.425,  -9.969, 204.62 ],\n",
       "        [ 48.802, -10.688, 203.691]], dtype=float32),\n",
       " array([[ 48.88 , -10.107, 205.866],\n",
       "        [ 49.853, -11.134, 206.244],\n",
       "        [ 49.089, -12.222, 206.997],\n",
       "        [ 48.857, -12.112, 208.202]], dtype=float32),\n",
       " array([[ 48.674, -13.257, 206.273],\n",
       "        [ 47.965, -14.364, 206.895],\n",
       "        [ 48.949, -15.32 , 207.561],\n",
       "        [ 50.007, -15.645, 207.018]], dtype=float32),\n",
       " array([[ 48.586, -15.774, 208.759],\n",
       "        [ 49.393, -16.736, 209.503],\n",
       "        [ 48.516, -17.953, 209.765],\n",
       "        [ 47.39 , -17.815, 210.26 ]], dtype=float32),\n",
       " array([[ 49.033, -19.134, 209.425],\n",
       "        [ 48.333, -20.401, 209.63 ],\n",
       "        [ 49.392, -21.482, 209.825],\n",
       "        [ 50.091, -21.853, 208.878]], dtype=float32),\n",
       " array([[ 49.505, -21.983, 211.056],\n",
       "        [ 50.477, -23.02 , 211.399],\n",
       "        [ 51.901, -22.47 , 211.426],\n",
       "        [ 52.876, -23.192, 211.204]], dtype=float32),\n",
       " array([[ 52.016, -21.173, 211.708],\n",
       "        [ 53.298, -20.475, 211.669],\n",
       "        [ 53.766, -20.261, 210.233],\n",
       "        [ 54.961, -20.168, 209.949]], dtype=float32),\n",
       " array([[ 52.805, -20.188, 209.316],\n",
       "        [ 53.088, -19.992, 207.903],\n",
       "        [ 52.639, -18.596, 207.507],\n",
       "        [ 51.461, -18.378, 207.209]], dtype=float32),\n",
       " array([[ 53.578, -17.655, 207.515],\n",
       "        [ 53.307, -16.284, 207.118],\n",
       "        [ 53.22 , -16.21 , 205.601],\n",
       "        [ 54.1  , -16.697, 204.889]], dtype=float32),\n",
       " array([[ 52.146, -15.601, 205.111],\n",
       "        [ 51.949, -15.427, 203.681],\n",
       "        [ 51.353, -14.052, 203.428],\n",
       "        [ 50.336, -13.675, 204.013]], dtype=float32),\n",
       " array([[ 51.998, -13.298, 202.54 ],\n",
       "        [ 51.528, -11.967, 202.158],\n",
       "        [ 50.482, -12.126, 201.057],\n",
       "        [ 50.745, -11.927, 199.87 ]], dtype=float32),\n",
       " array([[ 49.273, -12.494, 201.474],\n",
       "        [ 48.173, -12.706, 200.542],\n",
       "        [ 47.567, -11.357, 200.187],\n",
       "        [ 47.823, -10.354, 200.863]], dtype=float32),\n",
       " array([[ 46.769, -11.329, 199.122],\n",
       "        [ 46.119, -10.097, 198.699],\n",
       "        [ 44.978,  -9.741, 199.647],\n",
       "        [ 44.493, -10.576, 200.418]], dtype=float32),\n",
       " array([[ 44.565,  -8.472, 199.593],\n",
       "        [ 43.478,  -8.001, 200.447],\n",
       "        [ 42.135,  -8.567, 200.001],\n",
       "        [ 41.276,  -8.872, 200.836]], dtype=float32),\n",
       " array([[ 41.942,  -8.719, 198.687],\n",
       "        [ 40.706,  -9.305, 198.176],\n",
       "        [ 40.636, -10.8  , 198.461],\n",
       "        [ 39.557, -11.325, 198.758]], dtype=float32),\n",
       " array([[ 41.772, -11.496, 198.376],\n",
       "        [ 41.807, -12.911, 198.724],\n",
       "        [ 41.699, -13.125, 200.227],\n",
       "        [ 41.14 , -14.136, 200.668]], dtype=float32),\n",
       " array([[ 42.236, -12.198, 201.024],\n",
       "        [ 42.094, -12.288, 202.472],\n",
       "        [ 40.674, -11.971, 202.92 ],\n",
       "        [ 40.195, -12.544, 203.905]], dtype=float32),\n",
       " array([[ 39.989, -11.075, 202.211],\n",
       "        [ 38.6  , -10.753, 202.496],\n",
       "        [ 37.625, -11.672, 201.771],\n",
       "        [ 36.409, -11.506, 201.912]], dtype=float32),\n",
       " array([[ 38.132, -12.632, 200.998],\n",
       "        [ 37.292, -13.581, 200.281],\n",
       "        [ 37.455, -15.013, 200.773],\n",
       "        [ 37.016, -15.943, 200.086]], dtype=float32),\n",
       " array([[ 38.072, -15.218, 201.932],\n",
       "        [ 38.293, -16.566, 202.458],\n",
       "        [ 36.998, -17.08 , 203.078],\n",
       "        [ 36.467, -16.454, 204.009]], dtype=float32),\n",
       " array([[ 36.457, -18.204, 202.605],\n",
       "        [ 35.195, -18.733, 203.168],\n",
       "        [ 35.406, -19.723, 204.311],\n",
       "        [ 35.23 , -20.937, 204.186]], dtype=float32),\n",
       " array([[ 35.799, -19.195, 205.462],\n",
       "        [ 35.992, -19.977, 206.672],\n",
       "        [ 35.093, -19.4  , 207.753],\n",
       "        [ 34.41 , -18.396, 207.524]], dtype=float32),\n",
       " array([[ 35.054, -20.024, 208.932],\n",
       "        [ 34.296, -19.438, 210.05 ],\n",
       "        [ 35.049, -18.242, 210.615],\n",
       "        [ 36.035, -18.397, 211.339]], dtype=float32),\n",
       " array([[ 34.562, -17.046, 210.295],\n",
       "        [ 35.308, -15.816, 210.502],\n",
       "        [ 35.098, -15.278, 211.909],\n",
       "        [ 34.045, -14.72 , 212.228]], dtype=float32),\n",
       " array([[ 36.116, -15.453, 212.746],\n",
       "        [ 36.233, -14.682, 213.973],\n",
       "        [ 36.506, -13.236, 213.582],\n",
       "        [ 37.307, -12.961, 212.685]], dtype=float32),\n",
       " array([[ 35.827, -12.307, 214.255],\n",
       "        [ 35.781, -10.923, 213.8  ],\n",
       "        [ 37.068, -10.158, 214.092],\n",
       "        [ 37.776,  -9.748, 213.167]], dtype=float32),\n",
       " array([[ 37.381,  -9.961, 215.371],\n",
       "        [ 38.529,  -9.162, 215.746],\n",
       "        [ 39.403,  -9.784, 216.813],\n",
       "        [ 39.875, -10.912, 216.639]], dtype=float32),\n",
       " array([[ 39.628,  -9.072, 217.915],\n",
       "        [ 40.45 ,  -9.565, 219.015],\n",
       "        [ 39.622, -10.264, 220.089],\n",
       "        [ 40.099, -10.467, 221.211]], dtype=float32),\n",
       " array([[ 38.384, -10.629, 219.763],\n",
       "        [ 37.519, -11.372, 220.674],\n",
       "        [ 38.014, -12.812, 220.687],\n",
       "        [ 37.588, -13.631, 219.867]], dtype=float32),\n",
       " array([[ 38.918, -13.117, 221.617],\n",
       "        [ 39.574, -14.416, 221.675],\n",
       "        [ 38.779, -15.454, 222.457],\n",
       "        [ 39.222, -16.598, 222.583]], dtype=float32),\n",
       " array([[ 37.606, -15.09 , 222.96 ],\n",
       "        [ 36.79 , -16.013, 223.724],\n",
       "        [ 35.925, -16.845, 222.804],\n",
       "        [ 36.426, -17.602, 221.967]], dtype=float32),\n",
       " array([[ 34.613, -16.726, 222.973],\n",
       "        [ 33.671, -17.373, 222.071],\n",
       "        [ 33.707, -16.64 , 220.736],\n",
       "        [ 33.298, -15.472, 220.673]], dtype=float32),\n",
       " array([[ 34.213, -17.258, 219.67 ],\n",
       "        [ 34.283, -16.575, 218.372],\n",
       "        [ 32.91 , -16.416, 217.741],\n",
       "        [ 31.99 , -17.2  , 217.993]], dtype=float32),\n",
       " array([[ 32.777, -15.364, 216.93 ],\n",
       "        [ 31.526, -15.091, 216.233],\n",
       "        [ 31.225, -16.133, 215.167],\n",
       "        [ 30.066, -16.54 , 215.021]], dtype=float32),\n",
       " array([[ 32.262, -16.62 , 214.481],\n",
       "        [ 32.145, -17.584, 213.389],\n",
       "        [ 31.315, -17.027, 212.23 ],\n",
       "        [ 30.239, -17.536, 211.903]], dtype=float32),\n",
       " array([[ 31.826, -15.945, 211.644],\n",
       "        [ 31.2  , -15.356, 210.469],\n",
       "        [ 31.359, -16.29 , 209.277],\n",
       "        [ 32.472, -16.597, 208.843]], dtype=float32),\n",
       " array([[ 30.224, -16.746, 208.749],\n",
       "        [ 30.192, -17.837, 207.779],\n",
       "        [ 30.635, -19.149, 208.428],\n",
       "        [ 31.398, -19.935, 207.863]], dtype=float32),\n",
       " array([[ 30.136, -19.372, 209.647],\n",
       "        [ 30.501, -20.571, 210.393],\n",
       "        [ 29.708, -21.788, 209.94 ],\n",
       "        [ 30.088, -22.923, 210.249]], dtype=float32),\n",
       " array([[ 28.617, -21.582, 209.205],\n",
       "        [ 27.791, -22.684, 208.732],\n",
       "        [ 28.367, -23.37 , 207.499],\n",
       "        [ 27.885, -24.441, 207.117]], dtype=float32),\n",
       " array([[ 29.383, -22.781, 206.873],\n",
       "        [ 30.003, -23.35 , 205.685],\n",
       "        [ 30.934, -24.517, 205.986],\n",
       "        [ 31.302, -25.249, 205.061]], dtype=float32),\n",
       " array([[ 31.323, -24.714, 207.245],\n",
       "        [ 32.235, -25.79 , 207.605],\n",
       "        [ 31.542, -27.121, 207.851],\n",
       "        [ 32.16 , -28.169, 207.646]], dtype=float32),\n",
       " array([[ 30.286, -27.111, 208.282],\n",
       "        [ 29.544, -28.342, 208.514],\n",
       "        [ 28.458, -28.488, 207.456],\n",
       "        [ 28.05 , -27.523, 206.804]], dtype=float32),\n",
       " array([[ 27.987, -29.721, 207.282],\n",
       "        [ 26.9  , -30.029, 206.361],\n",
       "        [ 25.952, -30.98 , 207.075],\n",
       "        [ 26.364, -32.062, 207.504]], dtype=float32),\n",
       " array([[ 24.698, -30.566, 207.229],\n",
       "        [ 23.673, -31.392, 207.859],\n",
       "        [ 22.994, -32.203, 206.763],\n",
       "        [ 21.994, -31.766, 206.186]], dtype=float32),\n",
       " array([[ 23.54 , -33.38 , 206.471],\n",
       "        [ 22.989, -34.271, 205.461],\n",
       "        [ 21.823, -35.034, 206.073],\n",
       "        [ 22.016, -35.833, 206.996]], dtype=float32),\n",
       " array([[ 20.616, -34.752, 205.593],\n",
       "        [ 19.434, -35.471, 206.042],\n",
       "        [ 19.353, -36.814, 205.324],\n",
       "        [ 19.738, -36.941, 204.159]], dtype=float32),\n",
       " array([[ 18.85 , -37.828, 206.019],\n",
       "        [ 18.666, -39.151, 205.436],\n",
       "        [ 17.264, -39.246, 204.842],\n",
       "        [ 16.538, -38.251, 204.745]], dtype=float32),\n",
       " array([[ 16.871, -40.457, 204.445],\n",
       "        [ 15.522, -40.708, 203.952],\n",
       "        [ 14.485, -40.743, 205.071],\n",
       "        [ 13.285, -40.605, 204.809]], dtype=float32),\n",
       " array([[ 14.934, -40.919, 206.307],\n",
       "        [ 14.09 , -40.886, 207.491],\n",
       "        [ 14.56 , -39.722, 208.36 ],\n",
       "        [ 15.35 , -38.883, 207.916]], dtype=float32),\n",
       " array([[ 14.084, -39.663, 209.605],\n",
       "        [ 14.43 , -38.558, 210.499],\n",
       "        [ 15.831, -38.695, 211.095],\n",
       "        [ 15.98 , -38.849, 212.312]], dtype=float32),\n",
       " array([[ 16.863, -38.641, 210.254],\n",
       "        [ 18.242, -38.648, 210.724],\n",
       "        [ 19.026, -37.616, 209.928],\n",
       "        [ 19.428, -37.877, 208.791]], dtype=float32),\n",
       " array([[ 19.234, -36.445, 210.522],\n",
       "        [ 19.969, -35.353, 209.889],\n",
       "        [ 21.374, -35.349, 210.476],\n",
       "        [ 21.639, -34.651, 211.46 ]], dtype=float32),\n",
       " array([[ 22.269, -36.129, 209.876],\n",
       "        [ 23.632, -36.256, 210.367],\n",
       "        [ 24.42 , -35.012, 209.981],\n",
       "        [ 24.587, -34.714, 208.795]], dtype=float32),\n",
       " array([[ 24.885, -34.278, 210.986],\n",
       "        [ 25.683, -33.077, 210.78 ],\n",
       "        [ 27.147, -33.49 , 210.791],\n",
       "        [ 27.682, -33.87 , 211.839]], dtype=float32),\n",
       " array([[ 27.791, -33.416, 209.63 ],\n",
       "        [ 29.186, -33.807, 209.485],\n",
       "        [ 29.999, -32.558, 209.186],\n",
       "        [ 29.709, -31.822, 208.239]], dtype=float32),\n",
       " array([[ 31.003, -32.311, 210.01 ],\n",
       "        [ 31.901, -31.181, 209.815],\n",
       "        [ 32.861, -31.517, 208.684],\n",
       "        [ 33.158, -32.69 , 208.429]], dtype=float32),\n",
       " array([[ 33.346, -30.487, 207.998],\n",
       "        [ 34.314, -30.694, 206.934],\n",
       "        [ 35.7  , -30.953, 207.52 ],\n",
       "        [ 35.937, -30.805, 208.723]], dtype=float32),\n",
       " array([[ 36.628, -31.331, 206.646],\n",
       "        [ 37.983, -31.634, 207.054],\n",
       "        [ 38.837, -30.393, 207.234],\n",
       "        [ 38.347, -29.261, 207.266]], dtype=float32),\n",
       " array([[ 40.143, -30.618, 207.359],\n",
       "        [ 41.089, -29.529, 207.576],\n",
       "        [ 41.306, -28.776, 206.269],\n",
       "        [ 41.71 , -29.366, 205.262]], dtype=float32),\n",
       " array([[ 41.042, -27.47 , 206.285],\n",
       "        [ 41.178, -26.626, 205.107],\n",
       "        [ 42.556, -25.99 , 204.985],\n",
       "        [ 42.735, -25.085, 204.161]], dtype=float32),\n",
       " array([[ 43.518, -26.432, 205.799],\n",
       "        [ 44.873, -25.892, 205.734],\n",
       "        [ 45.582, -26.332, 204.46 ],\n",
       "        [ 46.422, -25.6  , 203.922]], dtype=float32),\n",
       " array([[ 45.265, -27.534, 203.97 ],\n",
       "        [ 45.757, -27.963, 202.673],\n",
       "        [ 45.189, -27.18 , 201.51 ],\n",
       "        [ 45.93 , -26.829, 200.587]], dtype=float32),\n",
       " array([[ 43.886, -26.89 , 201.54 ],\n",
       "        [ 43.279, -26.027, 200.536],\n",
       "        [ 43.745, -24.584, 200.655],\n",
       "        [ 43.845, -23.894, 199.635]], dtype=float32),\n",
       " array([[ 44.028, -24.121, 201.872],\n",
       "        [ 44.663, -22.827, 202.077],\n",
       "        [ 46.088, -22.78 , 201.545],\n",
       "        [ 46.502, -21.732, 201.025]], dtype=float32),\n",
       " array([[ 46.849, -23.871, 201.665],\n",
       "        [ 48.16 , -23.943, 201.029],\n",
       "        [ 48.031, -23.995, 199.514],\n",
       "        [ 48.875, -23.448, 198.796]], dtype=float32),\n",
       " array([[ 46.981, -24.651, 199.014],\n",
       "        [ 46.671, -24.661, 197.593],\n",
       "        [ 46.25 , -23.297, 197.069],\n",
       "        [ 46.522, -22.988, 195.905]], dtype=float32),\n",
       " array([[ 45.601, -22.476, 197.892],\n",
       "        [ 45.287, -21.106, 197.52 ],\n",
       "        [ 46.408, -20.131, 197.845],\n",
       "        [ 46.336, -18.969, 197.431]], dtype=float32),\n",
       " array([[ 47.437, -20.573, 198.563],\n",
       "        [ 48.547, -19.709, 198.955],\n",
       "        [ 49.759, -19.904, 198.05 ],\n",
       "        [ 50.868, -19.469, 198.365]], dtype=float32),\n",
       " array([[ 49.55 , -20.576, 196.921],\n",
       "        [ 50.599, -20.751, 195.926],\n",
       "        [ 50.922, -19.46 , 195.185],\n",
       "        [ 52.094, -19.203, 194.889]], dtype=float32),\n",
       " array([[ 49.913, -18.644, 194.887],\n",
       "        [ 50.119, -17.4  , 194.175],\n",
       "        [ 50.565, -16.239, 195.037],\n",
       "        [ 50.856, -15.158, 194.517]], dtype=float32),\n",
       " array([[ 50.623, -16.436, 196.351],\n",
       "        [ 51.101, -15.409, 197.262],\n",
       "        [ 52.57 , -15.655, 197.595],\n",
       "        [ 53.125, -16.718, 197.301]], dtype=float32),\n",
       " array([[ 53.199, -14.659, 198.212],\n",
       "        [ 54.589, -14.762, 198.633],\n",
       "        [ 54.635, -15.115, 200.113],\n",
       "        [ 54.02 , -14.436, 200.939]], dtype=float32),\n",
       " array([[ 55.36 , -16.179, 200.443],\n",
       "        [ 55.509, -16.594, 201.831],\n",
       "        [ 56.472, -15.651, 202.542],\n",
       "        [ 57.631, -15.51 , 202.143]], dtype=float32),\n",
       " array([[ 55.984, -15.001, 203.593],\n",
       "        [ 56.769, -14.057, 204.373],\n",
       "        [ 57.144, -14.677, 205.713],\n",
       "        [ 56.495, -15.605, 206.201]], dtype=float32),\n",
       " array([[ 58.207, -14.149, 206.311],\n",
       "        [ 58.694, -14.62 , 207.597],\n",
       "        [ 58.148, -13.719, 208.7  ],\n",
       "        [ 57.706, -12.594, 208.453]], dtype=float32),\n",
       " array([[ 58.179, -14.218, 209.933],\n",
       "        [ 57.685, -13.455, 211.075],\n",
       "        [ 58.709, -13.566, 212.191],\n",
       "        [ 58.892, -14.648, 212.757]], dtype=float32),\n",
       " array([[ 59.369, -12.455, 212.506],\n",
       "        [ 60.39 , -12.4  , 213.549],\n",
       "        [ 59.838, -11.833, 214.851],\n",
       "        [ 60.537, -11.134, 215.588]], dtype=float32),\n",
       " array([[ 58.575, -12.125, 215.146],\n",
       "        [ 57.926, -11.587, 216.323],\n",
       "        [ 56.985, -10.458, 215.964],\n",
       "        [ 56.113, -10.62 , 215.104]], dtype=float32),\n",
       " array([[ 57.153,  -9.308, 216.615],\n",
       "        [ 56.396,  -8.11 , 216.283],\n",
       "        [ 56.769,  -7.527, 214.928],\n",
       "        [ 55.931,  -6.873, 214.299]], dtype=float32),\n",
       " array([[ 57.996,  -7.748, 214.466],\n",
       "        [ 58.425,  -7.316, 213.145],\n",
       "        [ 58.468,  -8.523, 212.217],\n",
       "        [ 59.399,  -9.333, 212.286]], dtype=float32),\n",
       " array([[ 57.451,  -8.647, 211.368],\n",
       "        [ 57.439,  -9.659, 210.33 ],\n",
       "        [ 58.468,  -9.374, 209.257],\n",
       "        [ 58.544,  -8.251, 208.747]], dtype=float32),\n",
       " array([[ 59.277, -10.377, 208.926],\n",
       "        [ 60.363, -10.192, 207.972],\n",
       "        [ 59.896, -10.548, 206.566],\n",
       "        [ 59.818, -11.727, 206.207]], dtype=float32),\n",
       " array([[ 59.581,  -9.53 , 205.774],\n",
       "        [ 59.331,  -9.702, 204.352],\n",
       "        [ 60.619,  -9.443, 203.579],\n",
       "        [ 61.194,  -8.353, 203.631]], dtype=float32),\n",
       " array([[ 61.07 , -10.467, 202.856],\n",
       "        [ 62.362, -10.435, 202.182],\n",
       "        [ 62.252, -10.095, 200.701],\n",
       "        [ 63.227, -10.258, 199.962]], dtype=float32),\n",
       " array([[ 61.094,  -9.62 , 200.253],\n",
       "        [ 60.913,  -9.274, 198.851],\n",
       "        [ 60.221,  -7.923, 198.768],\n",
       "        [ 59.627,  -7.447, 199.739]], dtype=float32),\n",
       " array([[ 60.308,  -7.311, 197.595],\n",
       "        [ 59.687,  -6.031, 197.344],\n",
       "        [ 60.502,  -5.233, 196.349],\n",
       "        [ 61.469,  -5.731, 195.771]], dtype=float32),\n",
       " array([[ 60.099,  -3.979, 196.159],\n",
       "        [ 60.77 ,  -3.098, 195.215],\n",
       "        [ 60.506,  -1.657, 195.622],\n",
       "        [ 59.387,  -1.158, 195.482]], dtype=float32),\n",
       " array([[ 61.545,  -1.   , 196.13 ],\n",
       "        [ 61.457,   0.396, 196.523],\n",
       "        [ 62.107,   1.273, 195.453],\n",
       "        [ 62.649,   0.781, 194.46 ]], dtype=float32),\n",
       " array([[ 62.061,   2.59 , 195.649],\n",
       "        [ 62.656,   3.531, 194.7  ],\n",
       "        [ 63.53 ,   4.476, 195.517],\n",
       "        [ 63.017,   5.247, 196.333]], dtype=float32),\n",
       " array([[ 64.839,   4.418, 195.287],\n",
       "        [ 65.815,   5.1  , 196.126],\n",
       "        [ 66.43 ,   6.266, 195.367],\n",
       "        [ 66.752,   6.144, 194.178]], dtype=float32),\n",
       " array([[ 66.586,   7.393, 196.057],\n",
       "        [ 67.34 ,   8.528, 195.549],\n",
       "        [ 68.748,   8.467, 196.128],\n",
       "        [ 68.962,   8.796, 197.298]], dtype=float32),\n",
       " array([[ 69.7  ,   8.043, 195.308],\n",
       "        [ 71.097,   7.91 , 195.702],\n",
       "        [ 71.715,   9.301, 195.63 ],\n",
       "        [ 71.8  ,   9.9  , 194.553]], dtype=float32),\n",
       " array([[ 72.108,   9.821, 196.791],\n",
       "        [ 72.812,  11.094, 196.886],\n",
       "        [ 74.308,  10.811, 196.866],\n",
       "        [ 74.877,  10.36 , 197.865]], dtype=float32),\n",
       " array([[ 74.946,  11.076, 195.727],\n",
       "        [ 76.369,  10.822, 195.548],\n",
       "        [ 77.205,  12.086, 195.703],\n",
       "        [ 78.397,  12.086, 195.38 ]], dtype=float32),\n",
       " array([[ 76.593,  13.174, 196.177],\n",
       "        [ 77.323,  14.415, 196.403],\n",
       "        [ 78.273,  14.314, 197.589],\n",
       "        [ 79.397,  14.824, 197.522]], dtype=float32),\n",
       " array([[ 77.849,  13.667, 198.671],\n",
       "        [ 78.706,  13.446, 199.826],\n",
       "        [ 79.658,  12.273, 199.646],\n",
       "        [ 80.584,  12.117, 200.448]], dtype=float32),\n",
       " array([[ 79.455,  11.449, 198.621],\n",
       "        [ 80.307,  10.294, 198.363],\n",
       "        [ 81.589,  10.781, 197.698],\n",
       "        [ 81.552,  11.351, 196.603]], dtype=float32),\n",
       " array([[ 82.719,  10.556, 198.358],\n",
       "        [ 84.027,  10.935, 197.846],\n",
       "        [ 84.877,   9.691, 197.625],\n",
       "        [ 84.569,   8.601, 198.115]], dtype=float32),\n",
       " array([[ 85.958,   9.865, 196.871],\n",
       "        [ 86.9  ,   8.784, 196.606],\n",
       "        [ 87.955,   8.779, 197.706],\n",
       "        [ 88.847,   9.633, 197.722]], dtype=float32),\n",
       " array([[ 87.845,   7.823, 198.625],\n",
       "        [ 88.774,   7.722, 199.743],\n",
       "        [ 90.104,   7.159, 199.258],\n",
       "        [ 90.137,   6.273, 198.399]], dtype=float32),\n",
       " array([[ 91.198,   7.68 , 199.804],\n",
       "        [ 92.523,   7.233, 199.43 ],\n",
       "        [ 93.   ,   7.703, 198.075],\n",
       "        [ 93.938,   7.112, 197.529]], dtype=float32),\n",
       " array([[ 92.368,   8.735, 197.509],\n",
       "        [ 92.823,   9.298, 196.242],\n",
       "        [ 94.15 ,  10.028, 196.41 ],\n",
       "        [ 95.014,   9.966, 195.529]], dtype=float32),\n",
       " array([[ 94.339,  10.716, 197.536],\n",
       "        [ 95.614,  11.353, 197.831],\n",
       "        [ 96.669,  10.367, 198.309],\n",
       "        [ 97.851,  10.727, 198.35 ]], dtype=float32),\n",
       " array([[ 96.272,   9.152, 198.687],\n",
       "        [ 97.224,   8.105, 199.024],\n",
       "        [ 97.947,   7.643, 197.766],\n",
       "        [ 97.345,   7.517, 196.695]], dtype=float32),\n",
       " array([[ 99.245,   7.393, 197.901],\n",
       "        [100.07 ,   7.059, 196.752],\n",
       "        [ 99.904,   5.591, 196.365],\n",
       "        [ 99.156,   4.83 , 196.985]], dtype=float32),\n",
       " array([[100.617,   5.204, 195.31 ],\n",
       "        [100.6  ,   3.831, 194.835],\n",
       "        [101.368,   2.922, 195.793],\n",
       "        [102.183,   3.371, 196.604]], dtype=float32),\n",
       " array([[101.082,   1.626, 195.698],\n",
       "        [101.755,   0.639, 196.53 ],\n",
       "        [103.184,   0.428, 196.044],\n",
       "        [103.527,   0.748, 194.902]], dtype=float32),\n",
       " array([[ 1.04024e+02, -1.04000e-01,  1.96930e+02],\n",
       "        [ 1.05428e+02, -3.22000e-01,  1.96605e+02],\n",
       "        [ 1.05627e+02, -1.48000e+00,  1.95639e+02],\n",
       "        [ 1.06090e+02, -1.27700e+00,  1.94513e+02]], dtype=float32),\n",
       " array([[105.293,  -2.695, 196.058],\n",
       "        [105.464,  -3.864, 195.207],\n",
       "        [104.815,  -5.061, 195.883],\n",
       "        [104.18 ,  -4.932, 196.934]], dtype=float32),\n",
       " array([[104.984,  -6.23 , 195.263],\n",
       "        [104.567,  -7.512, 195.827],\n",
       "        [103.042,  -7.657, 195.834],\n",
       "        [102.427,  -8.059, 196.821]], dtype=float32),\n",
       " array([[102.441,  -7.307, 194.702],\n",
       "        [101.039,  -7.618, 194.478],\n",
       "        [100.927,  -9.026, 193.903],\n",
       "        [101.191,  -9.26 , 192.721]], dtype=float32),\n",
       " array([[100.539,  -9.979, 194.75 ],\n",
       "        [100.522, -11.383, 194.355],\n",
       "        [ 99.078, -11.84 , 194.243],\n",
       "        [ 98.357, -11.868, 195.244]], dtype=float32),\n",
       " array([[ 98.661, -12.204, 193.034],\n",
       "        [ 97.281, -12.61 , 192.802],\n",
       "        [ 97.059, -14.025, 193.32 ],\n",
       "        [ 97.152, -14.997, 192.565]], dtype=float32),\n",
       " array([[ 96.758, -14.139, 194.611],\n",
       "        [ 96.425, -15.415, 195.227],\n",
       "        [ 94.917, -15.625, 195.192],\n",
       "        [ 94.154, -14.73 , 195.572]], dtype=float32),\n",
       " array([[ 94.49 , -16.821, 194.784],\n",
       "        [ 93.101, -17.057, 194.413],\n",
       "        [ 92.745, -16.2  , 193.204],\n",
       "        [ 91.965, -15.248, 193.316]], dtype=float32),\n",
       " array([[ 93.371, -16.508, 192.068],\n",
       "        [ 93.199, -15.773, 190.81 ],\n",
       "        [ 91.769, -15.939, 190.308],\n",
       "        [ 91.294, -17.075, 190.15 ]], dtype=float32),\n",
       " array([[ 91.053, -14.848, 190.047],\n",
       "        [ 89.615, -14.957, 189.783],\n",
       "        [ 89.3  , -15.019, 188.297],\n",
       "        [ 90.182, -14.934, 187.44 ]], dtype=float32),\n",
       " array([[ 88.011, -15.174, 188.007],\n",
       "        [ 87.486, -15.168, 186.652],\n",
       "        [ 86.239, -14.297, 186.636],\n",
       "        [ 85.994, -13.523, 187.566]], dtype=float32),\n",
       " array([[ 85.464, -14.415, 185.559],\n",
       "        [ 84.219, -13.67 , 185.4  ],\n",
       "        [ 83.183, -14.214, 186.379],\n",
       "        [ 82.942, -15.425, 186.427]], dtype=float32),\n",
       " array([[ 82.584, -13.322, 187.161],\n",
       "        [ 81.64 , -13.713, 188.21 ],\n",
       "        [ 80.195, -13.612, 187.723],\n",
       "        [ 79.337, -12.991, 188.351]], dtype=float32),\n",
       " array([[ 79.932, -14.235, 186.573],\n",
       "        [ 78.575, -14.371, 186.053],\n",
       "        [ 78.058, -13.134, 185.323],\n",
       "        [ 76.926, -13.134, 184.829]], dtype=float32),\n",
       " array([[ 78.867, -12.079, 185.244],\n",
       "        [ 78.456, -10.847, 184.588],\n",
       "        [ 79.555, -10.173, 183.783],\n",
       "        [ 79.327,  -9.071, 183.271]], dtype=float32),\n",
       " array([[ 80.726, -10.787, 183.652],\n",
       "        [ 81.851, -10.184, 182.969],\n",
       "        [ 82.825,  -9.482, 183.886],\n",
       "        [ 83.934,  -9.149, 183.449]], dtype=float32),\n",
       " array([[ 82.451,  -9.244, 185.138],\n",
       "        [ 83.351,  -8.628, 186.097],\n",
       "        [ 84.3  ,  -9.674, 186.667],\n",
       "        [ 83.89 , -10.757, 187.094]], dtype=float32),\n",
       " array([[ 85.585,  -9.334, 186.677],\n",
       "        [ 86.636, -10.234, 187.135],\n",
       "        [ 87.045,  -9.776, 188.526],\n",
       "        [ 87.615,  -8.688, 188.687]], dtype=float32),\n",
       " array([[ 86.759, -10.601, 189.527],\n",
       "        [ 87.091, -10.287, 190.91 ],\n",
       "        [ 88.547, -10.658, 191.151],\n",
       "        [ 88.9  , -11.842, 191.157]], dtype=float32),\n",
       " array([[ 89.391,  -9.65 , 191.347],\n",
       "        [ 90.822,  -9.846, 191.54 ],\n",
       "        [ 91.088,  -9.905, 193.036],\n",
       "        [ 90.89 ,  -8.913, 193.748]], dtype=float32),\n",
       " array([[ 91.538, -11.06 , 193.51 ],\n",
       "        [ 91.948, -11.236, 194.895],\n",
       "        [ 93.468, -11.208, 194.938],\n",
       "        [ 94.127, -12.049, 194.318]], dtype=float32),\n",
       " array([[ 94.021, -10.239, 195.661],\n",
       "        [ 95.458, -10.027, 195.692],\n",
       "        [ 95.944, -10.043, 197.136],\n",
       "        [ 95.189,  -9.807, 198.08 ]], dtype=float32),\n",
       " array([[ 97.225, -10.351, 197.293],\n",
       "        [ 97.923, -10.258, 198.571],\n",
       "        [ 99.035,  -9.242, 198.349],\n",
       "        [100.013,  -9.53 , 197.652]], dtype=float32),\n",
       " array([[ 98.857,  -8.043, 198.894],\n",
       "        [ 99.891,  -7.022, 198.837],\n",
       "        [100.997,  -7.396, 199.813],\n",
       "        [100.833,  -7.265, 201.03 ]], dtype=float32),\n",
       " array([[102.102,  -7.909, 199.279],\n",
       "        [103.284,  -8.235, 200.07 ],\n",
       "        [104.116,  -6.961, 200.153],\n",
       "        [104.861,  -6.627, 199.23 ]], dtype=float32),\n",
       " array([[103.988,  -6.253, 201.264],\n",
       "        [104.684,  -4.994, 201.435],\n",
       "        [104.047,  -4.167, 202.53 ],\n",
       "        [102.855,  -4.287, 202.822]], dtype=float32),\n",
       " array([[ 1.04868e+02, -3.30600e+00,  2.03128e+02],\n",
       "        [ 1.04478e+02, -2.49400e+00,  2.04276e+02],\n",
       "        [ 1.04206e+02, -1.04600e+00,  2.03886e+02],\n",
       "        [ 1.04571e+02, -1.19000e-01,  2.04613e+02]], dtype=float32),\n",
       " array([[103.572,  -0.838, 202.728],\n",
       "        [103.314,   0.511, 202.233],\n",
       "        [102.211,   1.234, 203.   ],\n",
       "        [102.092,   2.458, 202.879]], dtype=float32),\n",
       " array([[101.404,   0.515, 203.779],\n",
       "        [100.353,   1.125, 204.556],\n",
       "        [ 99.174,   1.522, 203.694],\n",
       "        [ 98.426,   0.676, 203.197]], dtype=float32),\n",
       " array([[ 98.987,   2.829, 203.497],\n",
       "        [ 97.919,   3.286, 202.599],\n",
       "        [ 98.389,   3.421, 201.16 ],\n",
       "        [ 98.319,   4.506, 200.575]], dtype=float32),\n",
       " array([[ 98.865,   2.325, 200.58 ],\n",
       "        [ 99.329,   2.285, 199.203],\n",
       "        [ 98.152,   1.994, 198.279],\n",
       "        [ 97.104,   1.504, 198.705]], dtype=float32),\n",
       " array([[ 98.334,   2.303, 196.999],\n",
       "        [ 97.314,   2.084, 195.981],\n",
       "        [ 97.769,   0.948, 195.078],\n",
       "        [ 98.937,   0.897, 194.681]], dtype=float32),\n",
       " array([[ 9.68510e+01,  4.10000e-02,  1.94759e+02],\n",
       "        [ 9.71670e+01, -1.10900e+00,  1.93915e+02],\n",
       "        [ 9.72710e+01, -6.55000e-01,  1.92463e+02],\n",
       "        [ 9.62500e+01, -3.31000e-01,  1.91840e+02]], dtype=float32),\n",
       " array([[ 98.473,  -0.615, 191.886],\n",
       "        [ 98.604,  -0.245, 190.464],\n",
       "        [ 98.423,  -1.445, 189.539],\n",
       "        [ 99.381,  -2.035, 189.03 ]], dtype=float32),\n",
       " array([[ 97.167,  -1.82 , 189.317],\n",
       "        [ 96.822,  -2.978, 188.507],\n",
       "        [ 96.259,  -2.523, 187.169],\n",
       "        [ 95.7  ,  -1.428, 187.054]], dtype=float32),\n",
       " array([[ 96.411,  -3.372, 186.158],\n",
       "        [ 95.919,  -3.071, 184.82 ],\n",
       "        [ 95.465,  -4.372, 184.169],\n",
       "        [ 96.049,  -5.438, 184.387]], dtype=float32),\n",
       " array([[ 94.4  ,  -4.279, 183.381],\n",
       "        [ 93.89 ,  -5.4  , 182.605],\n",
       "        [ 93.874,  -5.009, 181.134],\n",
       "        [ 93.122,  -4.119, 180.726]], dtype=float32),\n",
       " array([[ 94.709,  -5.677, 180.34 ],\n",
       "        [ 94.842,  -5.355, 178.923],\n",
       "        [ 95.29 ,  -6.597, 178.166],\n",
       "        [ 95.954,  -7.471, 178.731]], dtype=float32),\n",
       " array([[ 94.913,  -6.674, 176.891],\n",
       "        [ 95.408,  -7.743, 176.032],\n",
       "        [ 96.829,  -7.434, 175.578],\n",
       "        [ 97.754,  -8.228, 175.784]], dtype=float32),\n",
       " array([[ 97.02 ,  -6.268, 174.965],\n",
       "        [ 98.316,  -5.846, 174.45 ],\n",
       "        [ 99.229,  -5.391, 175.589],\n",
       "        [ 99.052,  -4.321, 176.178]], dtype=float32),\n",
       " array([[100.22 ,  -6.231, 175.892],\n",
       "        [101.186,  -5.918, 176.935],\n",
       "        [102.348,  -5.081, 176.423],\n",
       "        [103.1  ,  -4.521, 177.229]], dtype=float32),\n",
       " array([[102.517,  -4.979, 175.104],\n",
       "        [103.543,  -4.114, 174.537],\n",
       "        [103.109,  -2.656, 174.495],\n",
       "        [103.954,  -1.769, 174.328]], dtype=float32),\n",
       " array([[101.814,  -2.388, 174.645],\n",
       "        [101.317,  -1.019, 174.677],\n",
       "        [101.09 ,  -0.516, 176.093],\n",
       "        [101.476,   0.613, 176.412]], dtype=float32),\n",
       " array([[ 1.00468e+02, -1.32300e+00,  1.76952e+02],\n",
       "        [ 1.00219e+02, -9.54000e-01,  1.78343e+02],\n",
       "        [ 9.90610e+01,  3.90000e-02,  1.78464e+02],\n",
       "        [ 9.89410e+01,  7.83000e-01,  1.79439e+02]], dtype=float32),\n",
       " array([[ 9.82060e+01,  4.10000e-02,  1.77447e+02],\n",
       "        [ 9.70360e+01,  9.03000e-01,  1.77461e+02],\n",
       "        [ 9.59610e+01,  2.98000e-01,  1.78359e+02],\n",
       "        [ 9.59770e+01, -9.11000e-01,  1.78616e+02]], dtype=float32),\n",
       " array([[ 9.50300e+01,  1.10600e+00,  1.78869e+02],\n",
       "        [ 9.39210e+01,  5.43000e-01,  1.79650e+02],\n",
       "        [ 9.29180e+01, -1.62000e-01,  1.78751e+02],\n",
       "        [ 9.25030e+01,  3.76000e-01,  1.77721e+02]], dtype=float32),\n",
       " array([[ 92.531,  -1.375, 179.139],\n",
       "        [ 91.652,  -2.194, 178.312],\n",
       "        [ 90.195,  -2.146, 178.747],\n",
       "        [ 89.305,  -2.097, 177.885]], dtype=float32),\n",
       " array([[ 89.916,  -2.152, 180.046],\n",
       "        [ 88.545,  -2.16 , 180.518],\n",
       "        [ 88.359,  -1.362, 181.79 ],\n",
       "        [ 89.321,  -1.049, 182.496]], dtype=float32),\n",
       " array([[ 87.104,  -1.024, 182.079],\n",
       "        [ 86.76 ,  -0.317, 183.301],\n",
       "        [ 86.852,  -1.258, 184.501],\n",
       "        [ 86.719,  -2.478, 184.383]], dtype=float32),\n",
       " array([[ 87.086,  -0.674, 185.672],\n",
       "        [ 87.244,  -1.431, 186.906],\n",
       "        [ 85.976,  -1.298, 187.734],\n",
       "        [ 85.402,  -0.208, 187.825]], dtype=float32),\n",
       " array([[ 85.536,  -2.412, 188.323],\n",
       "        [ 84.372,  -2.377, 189.205],\n",
       "        [ 84.733,  -1.71 , 190.526],\n",
       "        [ 84.142,  -0.695, 190.914]], dtype=float32),\n",
       " array([[ 85.713,  -2.265, 191.231],\n",
       "        [ 86.259,  -1.625, 192.424],\n",
       "        [ 87.325,  -0.634, 191.974],\n",
       "        [ 88.521,  -0.929, 192.013]], dtype=float32),\n",
       " array([[ 86.888,   0.542, 191.526],\n",
       "        [ 87.814,   1.561, 191.05 ],\n",
       "        [ 88.531,   2.209, 192.228],\n",
       "        [ 87.98 ,   2.302, 193.33 ]], dtype=float32),\n",
       " array([[ 89.754,   2.684, 191.979],\n",
       "        [ 90.636,   3.217, 193.01 ],\n",
       "        [ 91.022,   2.112, 193.985],\n",
       "        [ 90.68 ,   2.185, 195.172]], dtype=float32),\n",
       " array([[ 9.17010e+01,  1.06400e+00,  1.93517e+02],\n",
       "        [ 9.21020e+01, -2.00000e-02,  1.94425e+02],\n",
       "        [ 9.32680e+01,  4.15000e-01,  1.95298e+02],\n",
       "        [ 9.43850e+01,  6.15000e-01,  1.94816e+02]], dtype=float32),\n",
       " array([[ 9.29960e+01,  5.70000e-01,  1.96590e+02],\n",
       "        [ 9.39760e+01,  1.06000e+00,  1.97550e+02],\n",
       "        [ 9.41280e+01,  2.20000e-02,  1.98651e+02],\n",
       "        [ 9.31320e+01, -4.10000e-01,  1.99243e+02]], dtype=float32),\n",
       " array([[ 95.366,  -0.383, 198.914],\n",
       "        [ 95.66 ,  -1.258, 200.044],\n",
       "        [ 95.549,  -0.439, 201.322],\n",
       "        [ 96.088,   0.669, 201.412]], dtype=float32),\n",
       " array([[ 9.48330e+01, -9.75000e-01,  2.02307e+02],\n",
       "        [ 9.45650e+01, -2.67000e-01,  2.03552e+02],\n",
       "        [ 9.54370e+01, -7.24000e-01,  2.04712e+02],\n",
       "        [ 9.57970e+01,  9.30000e-02,  2.05565e+02]], dtype=float32),\n",
       " array([[ 95.778,  -2.009, 204.771],\n",
       "        [ 96.504,  -2.544, 205.915],\n",
       "        [ 97.98 ,  -2.171, 205.848],\n",
       "        [ 98.553,  -2.024, 204.764]], dtype=float32),\n",
       " array([[ 98.592,  -2.015, 207.02 ],\n",
       "        [100.011,  -1.713, 207.133],\n",
       "        [100.856,  -2.941, 207.448],\n",
       "        [102.04 ,  -2.795, 207.77 ]], dtype=float32),\n",
       " array([[100.285,  -4.14 , 207.353],\n",
       "        [100.997,  -5.364, 207.69 ],\n",
       "        [101.896,  -5.809, 206.534],\n",
       "        [102.097,  -5.093, 205.549]], dtype=float32),\n",
       " array([[102.448,  -7.017, 206.658],\n",
       "        [103.349,  -7.527, 205.63 ],\n",
       "        [102.577,  -8.011, 204.408],\n",
       "        [102.751,  -7.483, 203.305]], dtype=float32),\n",
       " array([[101.708,  -9.003, 204.588],\n",
       "        [100.886,  -9.545, 203.508],\n",
       "        [ 99.442,  -9.154, 203.795],\n",
       "        [ 98.822,  -9.685, 204.721]], dtype=float32),\n",
       " array([[ 98.91 ,  -8.225, 203.005],\n",
       "        [ 97.559,  -7.706, 203.199],\n",
       "        [ 96.655,  -8.284, 202.117],\n",
       "        [ 96.862,  -8.029, 200.928]], dtype=float32),\n",
       " array([[ 95.662,  -9.066, 202.528],\n",
       "        [ 94.699,  -9.603, 201.579],\n",
       "        [ 93.676,  -8.537, 201.204],\n",
       "        [ 93.077,  -7.889, 202.067]], dtype=float32),\n",
       " array([[ 93.472,  -8.361, 199.901],\n",
       "        [ 92.526,  -7.373, 199.406],\n",
       "        [ 91.801,  -7.954, 198.204],\n",
       "        [ 92.297,  -8.874, 197.548]], dtype=float32),\n",
       " array([[ 90.613,  -7.423, 197.936],\n",
       "        [ 89.813,  -7.829, 196.791],\n",
       "        [ 89.591,  -6.627, 195.886],\n",
       "        [ 89.125,  -5.577, 196.338]], dtype=float32),\n",
       " array([[ 89.933,  -6.784, 194.613],\n",
       "        [ 89.672,  -5.785, 193.588],\n",
       "        [ 88.697,  -6.37 , 192.569],\n",
       "        [ 88.378,  -7.563, 192.596]], dtype=float32),\n",
       " array([[ 88.225,  -5.523, 191.658],\n",
       "        [ 87.252,  -5.958, 190.665],\n",
       "        [ 87.452,  -5.15 , 189.393],\n",
       "        [ 87.559,  -3.922, 189.446]], dtype=float32),\n",
       " array([[ 87.494,  -5.843, 188.257],\n",
       "        [ 87.65 ,  -5.211, 186.957],\n",
       "        [ 86.697,  -5.856, 185.962],\n",
       "        [ 86.334,  -7.027, 186.096]], dtype=float32),\n",
       " array([[ 86.296,  -5.079, 184.954],\n",
       "        [ 85.365,  -5.528, 183.919],\n",
       "        [ 86.   ,  -5.276, 182.558],\n",
       "        [ 85.804,  -4.206, 181.956]], dtype=float32),\n",
       " array([[ 86.758,  -6.234, 182.029],\n",
       "        [ 87.404,  -6.044, 180.725],\n",
       "        [ 86.452,  -6.374, 179.59 ],\n",
       "        [ 85.263,  -6.646, 179.816]], dtype=float32),\n",
       " array([[ 86.936,  -6.362, 178.351],\n",
       "        [ 86.076,  -6.683, 177.207],\n",
       "        [ 85.821,  -8.182, 177.085],\n",
       "        [ 86.24 ,  -8.992, 177.914]], dtype=float32),\n",
       " array([[ 85.116,  -8.541, 176.012],\n",
       "        [ 84.689,  -9.922, 175.795],\n",
       "        [ 85.88 , -10.768, 175.359],\n",
       "        [ 86.524, -10.487, 174.345]], dtype=float32),\n",
       " array([[ 86.177, -11.804, 176.136],\n",
       "        [ 87.264, -12.708, 175.833],\n",
       "        [ 88.184, -12.871, 177.025],\n",
       "        [ 87.78 , -12.705, 178.176]], dtype=float32),\n",
       " array([[ 89.437, -13.206, 176.733],\n",
       "        [ 90.462, -13.328, 177.761],\n",
       "        [ 91.532, -12.269, 177.528],\n",
       "        [ 91.696, -11.777, 176.407]], dtype=float32),\n",
       " array([[ 92.26 , -11.918, 178.585],\n",
       "        [ 93.278, -10.881, 178.486],\n",
       "        [ 94.338, -11.119, 179.551],\n",
       "        [ 94.325, -12.133, 180.253]], dtype=float32),\n",
       " array([[ 95.26 , -10.164, 179.66 ],\n",
       "        [ 96.355, -10.23 , 180.616],\n",
       "        [ 96.069,  -9.29 , 181.777],\n",
       "        [ 95.632,  -8.152, 181.579]], dtype=float32),\n",
       " array([[ 96.309,  -9.775, 182.992],\n",
       "        [ 96.099,  -8.982, 184.202],\n",
       "        [ 97.468,  -8.752, 184.833],\n",
       "        [ 98.036,  -9.638, 185.477]], dtype=float32),\n",
       " array([[ 98.005,  -7.55 , 184.648],\n",
       "        [ 99.276,  -7.169, 185.256],\n",
       "        [ 98.975,  -6.496, 186.589],\n",
       "        [ 98.464,  -5.372, 186.628]], dtype=float32),\n",
       " array([[ 99.296,  -7.179, 187.685],\n",
       "        [ 99.06 ,  -6.662, 189.028],\n",
       "        [100.382,  -6.13 , 189.56 ],\n",
       "        [101.166,  -6.879, 190.155]], dtype=float32),\n",
       " array([[100.629,  -4.846, 189.344],\n",
       "        [101.869,  -4.228, 189.758],\n",
       "        [102.744,  -3.88 , 188.569],\n",
       "        [102.375,  -4.066, 187.407]], dtype=float32),\n",
       " array([[103.931,  -3.365, 188.879],\n",
       "        [104.922,  -3.01 , 187.872],\n",
       "        [106.07 ,  -4.005, 187.966],\n",
       "        [106.677,  -4.169, 189.03 ]], dtype=float32),\n",
       " array([[106.365,  -4.666, 186.853],\n",
       "        [107.413,  -5.667, 186.819],\n",
       "        [107.013,  -6.965, 187.492],\n",
       "        [105.835,  -7.2  , 187.761]], dtype=float32)]"
      ]
     },
     "execution_count": 7,
     "metadata": {},
     "output_type": "execute_result"
    }
   ],
   "source": [
    "data[0][\"Apos\"][0]"
   ]
  },
  {
   "cell_type": "markdown",
   "id": "3248fcab",
   "metadata": {},
   "source": [
    "# test utils.py/get_knearest_epi"
   ]
  },
  {
   "cell_type": "code",
   "execution_count": 22,
   "id": "ccc8a66d",
   "metadata": {},
   "outputs": [],
   "source": [
    "import heapq"
   ]
  },
  {
   "cell_type": "code",
   "execution_count": 41,
   "id": "1703c4ae",
   "metadata": {},
   "outputs": [],
   "source": [
    "mode = 0\n",
    "K = 48\n",
    "\n",
    "# get k nearest (K = 48)\n",
    "if mode==0:\n",
    "    for i in range(len(data)):\n",
    "        # maintain a heap with k amino acids\n",
    "        epitope = []\n",
    "        Apos = np.hstack(data[i][\"Apos\"])\n",
    "        Aseq = \"\".join(data[i][\"Aseq\"])\n",
    "        for Aidx in range(len(Aseq)):\n",
    "            # traverse heavy/light chain to find nearest distance\n",
    "            nearest_dist = np.inf\n",
    "            for Hidx in range(len(data[i][\"Hpos\"])):\n",
    "                cur_dist = np.sqrt(np.sum((Apos[Aidx][0] - data[i][\"Hpos\"][Hidx][0]) ** 2))\n",
    "                nearest_dist = np.min([cur_dist, nearest_dist])\n",
    "            for Lidx in range(len(data[i][\"Lpos\"])):\n",
    "                cur_dist = np.sqrt(np.sum((Apos[Aidx][0] - data[i][\"Lpos\"][Lidx][0]) ** 2))\n",
    "                nearest_dist = np.min([cur_dist, nearest_dist])\n",
    "\n",
    "            epitope.append((nearest_dist, Aidx))\n",
    "\n",
    "        epitope_heap = heapq.nsmallest(K, epitope, key=lambda x:x[0])\n",
    "        epitope_index = sorted([i[1] for i in epitope_heap])\n",
    "\n",
    "        data[i][\"epitope\"] = \"\".join([aseq[i] for i in epitope_index])\n",
    "        break"
   ]
  },
  {
   "cell_type": "code",
   "execution_count": 42,
   "id": "f9497b37",
   "metadata": {},
   "outputs": [
    {
     "data": {
      "text/plain": [
       "dict_keys(['pdb', 'Hchain', 'Lchain', 'Achain', 'Hseq', 'Lseq', 'Aseq', 'L1', 'L2', 'L3', 'H1', 'H2', 'H3', 'Hpos', 'Lpos', 'Apos', 'epitope'])"
      ]
     },
     "execution_count": 42,
     "metadata": {},
     "output_type": "execute_result"
    }
   ],
   "source": [
    "data[0].keys()"
   ]
  },
  {
   "cell_type": "code",
   "execution_count": 47,
   "id": "5222150b",
   "metadata": {},
   "outputs": [
    {
     "data": {
      "text/plain": [
       "'NMEVSCYEASISDFACSKKMTGKLTMNNKHPWHAADTGTPHWMDGAKG'"
      ]
     },
     "execution_count": 47,
     "metadata": {},
     "output_type": "execute_result"
    }
   ],
   "source": [
    "data[0][\"epitope\"]"
   ]
  },
  {
   "cell_type": "code",
   "execution_count": 49,
   "id": "69842e82",
   "metadata": {},
   "outputs": [],
   "source": [
    "pickle.dump(data, open(\"./demo_data.pkl\", \"wb\"))"
   ]
  },
  {
   "cell_type": "code",
   "execution_count": 50,
   "id": "80743e4d",
   "metadata": {},
   "outputs": [
    {
     "data": {
      "text/plain": [
       "5359"
      ]
     },
     "execution_count": 50,
     "metadata": {},
     "output_type": "execute_result"
    }
   ],
   "source": [
    "data1 = pickle.load(open(\"./demo_data.pkl\", \"rb\"))\n",
    "len(data1)"
   ]
  },
  {
   "cell_type": "code",
   "execution_count": 52,
   "id": "ce62089f",
   "metadata": {},
   "outputs": [
    {
     "data": {
      "text/plain": [
       "dict_keys(['pdb', 'Hchain', 'Lchain', 'Achain', 'Hseq', 'Lseq', 'Aseq', 'L1', 'L2', 'L3', 'H1', 'H2', 'H3', 'Hpos', 'Lpos', 'Apos', 'epitope'])"
      ]
     },
     "execution_count": 52,
     "metadata": {},
     "output_type": "execute_result"
    }
   ],
   "source": [
    "data1[0].keys()"
   ]
  },
  {
   "cell_type": "code",
   "execution_count": 51,
   "id": "8bc4d887",
   "metadata": {},
   "outputs": [
    {
     "data": {
      "text/plain": [
       "5359"
      ]
     },
     "execution_count": 51,
     "metadata": {},
     "output_type": "execute_result"
    }
   ],
   "source": [
    "len(data)"
   ]
  },
  {
   "cell_type": "code",
   "execution_count": 38,
   "id": "f15ff7ce",
   "metadata": {},
   "outputs": [
    {
     "data": {
      "text/plain": [
       "'NMEVSCYEASISDFACSKKMTGKLTMNNKHPWHAADTGTPHWMDGAKG'"
      ]
     },
     "execution_count": 38,
     "metadata": {},
     "output_type": "execute_result"
    }
   ],
   "source": [
    "# aseq = \"\".join(data[i][\"Aseq\"])\n",
    "# epi_index = data[0][\"epitope\"]\n",
    "\n",
    "# \"\".join([aseq[i] for i in epi_index])"
   ]
  },
  {
   "cell_type": "code",
   "execution_count": 45,
   "id": "2eda597e",
   "metadata": {
    "scrolled": true
   },
   "outputs": [
    {
     "data": {
      "text/plain": [
       "[(4.025998115539551, 120),\n",
       " (4.572774887084961, 122),\n",
       " (4.610614776611328, 279),\n",
       " (4.689812660217285, 123),\n",
       " (4.719902038574219, 125),\n",
       " (4.904451370239258, 121),\n",
       " (5.198207378387451, 233),\n",
       " (5.715717315673828, 232),\n",
       " (5.928899765014648, 204),\n",
       " (5.9649763107299805, 124),\n",
       " (6.015800476074219, 205),\n",
       " (6.222243785858154, 278),\n",
       " (6.478855133056641, 126),\n",
       " (6.5371809005737305, 207),\n",
       " (6.65501070022583, 280),\n",
       " (6.8116655349731445, 206),\n",
       " (6.899214744567871, 119),\n",
       " (7.3167405128479, 231),\n",
       " (7.490304946899414, 127),\n",
       " (7.526638507843018, 234),\n",
       " (7.834255218505859, 235),\n",
       " (7.8423590660095215, 208),\n",
       " (7.913382530212402, 60),\n",
       " (8.017367362976074, 277),\n",
       " (8.02734375, 230),\n",
       " (8.091531753540039, 225),\n",
       " (8.226497650146484, 66),\n",
       " (8.301057815551758, 59),\n",
       " (8.370485305786133, 228),\n",
       " (8.457207679748535, 61),\n",
       " (8.466352462768555, 276),\n",
       " (8.509766578674316, 62),\n",
       " (8.640408515930176, 63),\n",
       " (8.71596622467041, 229),\n",
       " (8.930583953857422, 203),\n",
       " (8.934435844421387, 54),\n",
       " (9.243196487426758, 55),\n",
       " (9.259186744689941, 209),\n",
       " (9.449320793151855, 224),\n",
       " (9.453545570373535, 51),\n",
       " (9.508502960205078, 65),\n",
       " (9.600605964660645, 52),\n",
       " (9.609257698059082, 57),\n",
       " (9.685733795166016, 118),\n",
       " (9.696464538574219, 64),\n",
       " (9.723125457763672, 281),\n",
       " (9.733400344848633, 223),\n",
       " (9.883964538574219, 226)]"
      ]
     },
     "execution_count": 45,
     "metadata": {},
     "output_type": "execute_result"
    }
   ],
   "source": [
    "epitope_heap"
   ]
  },
  {
   "cell_type": "code",
   "execution_count": 46,
   "id": "8077b246",
   "metadata": {},
   "outputs": [
    {
     "data": {
      "text/plain": [
       "[(32.8936653137207, 0),\n",
       " (30.107135772705078, 1),\n",
       " (30.423547744750977, 2),\n",
       " (32.810401916503906, 3),\n",
       " (31.96693992614746, 4),\n",
       " (30.500171661376953, 5),\n",
       " (30.18033218383789, 6),\n",
       " (30.703096389770508, 7),\n",
       " (32.23325729370117, 8),\n",
       " (34.15449905395508, 9),\n",
       " (37.3301887512207, 10),\n",
       " (38.003326416015625, 11),\n",
       " (40.524864196777344, 12),\n",
       " (42.45100784301758, 13),\n",
       " (42.081947326660156, 14),\n",
       " (41.65396499633789, 15),\n",
       " (43.87492370605469, 16),\n",
       " (42.427913665771484, 17),\n",
       " (40.55342102050781, 18),\n",
       " (38.62664031982422, 19),\n",
       " (36.73564529418945, 20),\n",
       " (36.21327590942383, 21),\n",
       " (33.63908386230469, 22),\n",
       " (32.01983642578125, 23),\n",
       " (28.799253463745117, 24),\n",
       " (27.46338653564453, 25),\n",
       " (24.877246856689453, 26),\n",
       " (24.013507843017578, 27),\n",
       " (26.24178695678711, 28),\n",
       " (28.833772659301758, 29),\n",
       " (30.73711585998535, 30),\n",
       " (33.57426071166992, 31),\n",
       " (35.20677947998047, 32),\n",
       " (38.42568588256836, 33),\n",
       " (40.62495040893555, 34),\n",
       " (43.51736831665039, 35),\n",
       " (43.81686782836914, 36),\n",
       " (41.41398239135742, 37),\n",
       " (38.78207778930664, 38),\n",
       " (37.57492446899414, 39),\n",
       " (34.60704040527344, 40),\n",
       " (31.649845123291016, 41),\n",
       " (29.454557418823242, 42),\n",
       " (26.379209518432617, 43),\n",
       " (24.349163055419922, 44),\n",
       " (21.455148696899414, 45),\n",
       " (18.648574829101562, 46),\n",
       " (16.345144271850586, 47),\n",
       " (14.10374927520752, 48),\n",
       " (12.349370956420898, 49),\n",
       " (10.996024131774902, 50),\n",
       " (9.453545570373535, 51),\n",
       " (9.600605964660645, 52),\n",
       " (10.421475410461426, 53),\n",
       " (8.934435844421387, 54),\n",
       " (9.243196487426758, 55),\n",
       " (11.164484024047852, 56),\n",
       " (9.609257698059082, 57),\n",
       " (9.88607406616211, 58),\n",
       " (8.301057815551758, 59),\n",
       " (7.913382530212402, 60),\n",
       " (8.457207679748535, 61),\n",
       " (8.509766578674316, 62),\n",
       " (8.640408515930176, 63),\n",
       " (9.696464538574219, 64),\n",
       " (9.508502960205078, 65),\n",
       " (8.226497650146484, 66),\n",
       " (11.405229568481445, 67),\n",
       " (14.535861015319824, 68),\n",
       " (17.27900505065918, 69),\n",
       " (20.26068687438965, 70),\n",
       " (22.62717056274414, 71),\n",
       " (26.046051025390625, 72),\n",
       " (28.976789474487305, 73),\n",
       " (32.05799865722656, 74),\n",
       " (34.403541564941406, 75),\n",
       " (33.02054214477539, 76),\n",
       " (31.583295822143555, 77),\n",
       " (29.380512237548828, 78),\n",
       " (26.186904907226562, 79),\n",
       " (23.416574478149414, 80),\n",
       " (20.4144229888916, 81),\n",
       " (17.48444366455078, 82),\n",
       " (15.176057815551758, 83),\n",
       " (16.693105697631836, 84),\n",
       " (18.08484649658203, 85),\n",
       " (15.720325469970703, 86),\n",
       " (13.12132453918457, 87),\n",
       " (10.527958869934082, 88),\n",
       " (11.194649696350098, 89),\n",
       " (12.588814735412598, 90),\n",
       " (15.739709854125977, 91),\n",
       " (18.913705825805664, 92),\n",
       " (22.210960388183594, 93),\n",
       " (25.566394805908203, 94),\n",
       " (28.96495819091797, 95),\n",
       " (29.47073745727539, 96),\n",
       " (30.24778938293457, 97),\n",
       " (30.887001037597656, 98),\n",
       " (31.55052375793457, 99),\n",
       " (33.5770149230957, 100),\n",
       " (32.67896270751953, 101),\n",
       " (30.347362518310547, 102),\n",
       " (28.89080810546875, 103),\n",
       " (29.854759216308594, 104),\n",
       " (32.7215461730957, 105),\n",
       " (34.95573043823242, 106),\n",
       " (36.33753204345703, 107),\n",
       " (35.45052719116211, 108),\n",
       " (34.59341812133789, 109),\n",
       " (31.521608352661133, 110),\n",
       " (29.12462043762207, 111),\n",
       " (26.423173904418945, 112),\n",
       " (23.07408905029297, 113),\n",
       " (20.369707107543945, 114),\n",
       " (16.999160766601562, 115),\n",
       " (13.979620933532715, 116),\n",
       " (10.806642532348633, 117),\n",
       " (9.685733795166016, 118),\n",
       " (6.899214744567871, 119),\n",
       " (4.025998115539551, 120),\n",
       " (4.904451370239258, 121),\n",
       " (4.572774887084961, 122),\n",
       " (4.689812660217285, 123),\n",
       " (5.9649763107299805, 124),\n",
       " (4.719902038574219, 125),\n",
       " (6.478855133056641, 126),\n",
       " (7.490304946899414, 127),\n",
       " (10.538780212402344, 128),\n",
       " (13.413928031921387, 129),\n",
       " (15.493705749511719, 130),\n",
       " (18.818561553955078, 131),\n",
       " (18.12898063659668, 132),\n",
       " (15.619819641113281, 133),\n",
       " (15.57036018371582, 134),\n",
       " (15.693438529968262, 135),\n",
       " (17.753582000732422, 136),\n",
       " (18.215730667114258, 137),\n",
       " (20.882553100585938, 138),\n",
       " (22.919639587402344, 139),\n",
       " (25.538360595703125, 140),\n",
       " (28.571748733520508, 141),\n",
       " (31.267831802368164, 142),\n",
       " (34.18998336791992, 143),\n",
       " (36.31316375732422, 144),\n",
       " (37.196044921875, 145),\n",
       " (35.90782165527344, 146),\n",
       " (34.89579391479492, 147),\n",
       " (35.091678619384766, 148),\n",
       " (32.618492126464844, 149),\n",
       " (30.91610336303711, 150),\n",
       " (30.523666381835938, 151),\n",
       " (28.389612197875977, 152),\n",
       " (27.010366439819336, 153),\n",
       " (24.23473358154297, 154),\n",
       " (22.67915916442871, 155),\n",
       " (21.635820388793945, 156),\n",
       " (22.038564682006836, 157),\n",
       " (22.401805877685547, 158),\n",
       " (24.335603713989258, 159),\n",
       " (26.330232620239258, 160),\n",
       " (28.563674926757812, 161),\n",
       " (30.051355361938477, 162),\n",
       " (28.358566284179688, 163),\n",
       " (25.40688133239746, 164),\n",
       " (22.234867095947266, 165),\n",
       " (21.535913467407227, 166),\n",
       " (19.45309066772461, 167),\n",
       " (19.701358795166016, 168),\n",
       " (19.492305755615234, 169),\n",
       " (19.752241134643555, 170),\n",
       " (20.314373016357422, 171),\n",
       " (21.256271362304688, 172),\n",
       " (23.687347412109375, 173),\n",
       " (25.928482055664062, 174),\n",
       " (26.666229248046875, 175),\n",
       " (27.40791893005371, 176),\n",
       " (27.88347816467285, 177),\n",
       " (28.80330467224121, 178),\n",
       " (30.680282592773438, 179),\n",
       " (31.77499008178711, 180),\n",
       " (35.188560485839844, 181),\n",
       " (35.86451721191406, 182),\n",
       " (35.62766647338867, 183),\n",
       " (34.14277267456055, 184),\n",
       " (31.85676383972168, 185),\n",
       " (31.612579345703125, 186),\n",
       " (29.169692993164062, 187),\n",
       " (29.10431671142578, 188),\n",
       " (27.551698684692383, 189),\n",
       " (26.90863800048828, 190),\n",
       " (24.42596435546875, 191),\n",
       " (24.319190979003906, 192),\n",
       " (26.207962036132812, 193),\n",
       " (25.189245223999023, 194),\n",
       " (23.822500228881836, 195),\n",
       " (23.06110191345215, 196),\n",
       " (20.71251678466797, 197),\n",
       " (19.878082275390625, 198),\n",
       " (19.712129592895508, 199),\n",
       " (17.51925277709961, 200),\n",
       " (14.040663719177246, 201),\n",
       " (10.79357624053955, 202),\n",
       " (8.930583953857422, 203),\n",
       " (5.928899765014648, 204),\n",
       " (6.015800476074219, 205),\n",
       " (6.8116655349731445, 206),\n",
       " (6.5371809005737305, 207),\n",
       " (7.8423590660095215, 208),\n",
       " (9.259186744689941, 209),\n",
       " (10.480342864990234, 210),\n",
       " (13.1421537399292, 211),\n",
       " (13.765156745910645, 212),\n",
       " (16.304162979125977, 213),\n",
       " (17.249528884887695, 214),\n",
       " (18.585186004638672, 215),\n",
       " (17.965681076049805, 216),\n",
       " (15.237318992614746, 217),\n",
       " (15.55078125, 218),\n",
       " (17.079334259033203, 219),\n",
       " (15.993749618530273, 220),\n",
       " (16.021955490112305, 221),\n",
       " (13.104086875915527, 222),\n",
       " (9.733400344848633, 223),\n",
       " (9.449320793151855, 224),\n",
       " (8.091531753540039, 225),\n",
       " (9.883964538574219, 226),\n",
       " (11.567763328552246, 227),\n",
       " (8.370485305786133, 228),\n",
       " (8.71596622467041, 229),\n",
       " (8.02734375, 230),\n",
       " (7.3167405128479, 231),\n",
       " (5.715717315673828, 232),\n",
       " (5.198207378387451, 233),\n",
       " (7.526638507843018, 234),\n",
       " (7.834255218505859, 235),\n",
       " (10.122055053710938, 236),\n",
       " (12.726693153381348, 237),\n",
       " (11.41963005065918, 238),\n",
       " (12.621941566467285, 239),\n",
       " (14.031518936157227, 240),\n",
       " (13.088203430175781, 241),\n",
       " (13.62352180480957, 242),\n",
       " (16.796321868896484, 243),\n",
       " (18.9366397857666, 244),\n",
       " (19.583168029785156, 245),\n",
       " (22.18996238708496, 246),\n",
       " (23.301010131835938, 247),\n",
       " (26.080963134765625, 248),\n",
       " (26.7711238861084, 249),\n",
       " (25.311206817626953, 250),\n",
       " (22.846942901611328, 251),\n",
       " (20.649641036987305, 252),\n",
       " (18.294677734375, 253),\n",
       " (15.656322479248047, 254),\n",
       " (14.410231590270996, 255),\n",
       " (12.418840408325195, 256),\n",
       " (13.730405807495117, 257),\n",
       " (13.784884452819824, 258),\n",
       " (11.37762451171875, 259),\n",
       " (13.161130905151367, 260),\n",
       " (13.184606552124023, 261),\n",
       " (13.937767028808594, 262),\n",
       " (16.525230407714844, 263),\n",
       " (15.265366554260254, 264),\n",
       " (14.995280265808105, 265),\n",
       " (17.680662155151367, 266),\n",
       " (17.93102264404297, 267),\n",
       " (16.59087562561035, 268),\n",
       " (18.268234252929688, 269),\n",
       " (19.96525001525879, 270),\n",
       " (18.474470138549805, 271),\n",
       " (17.350160598754883, 272),\n",
       " (16.068679809570312, 273),\n",
       " (13.564882278442383, 274),\n",
       " (11.604557037353516, 275),\n",
       " (8.466352462768555, 276),\n",
       " (8.017367362976074, 277),\n",
       " (6.222243785858154, 278),\n",
       " (4.610614776611328, 279),\n",
       " (6.65501070022583, 280),\n",
       " (9.723125457763672, 281),\n",
       " (11.58193302154541, 282),\n",
       " (14.527958869934082, 283),\n",
       " (16.967979431152344, 284),\n",
       " (19.537565231323242, 285),\n",
       " (22.597728729248047, 286),\n",
       " (25.22651481628418, 287),\n",
       " (26.291963577270508, 288),\n",
       " (28.04471778869629, 289),\n",
       " (29.64854621887207, 290),\n",
       " (30.865650177001953, 291),\n",
       " (32.78132629394531, 292),\n",
       " (33.532196044921875, 293),\n",
       " (36.23052215576172, 294),\n",
       " (37.8831901550293, 295),\n",
       " (37.24195861816406, 296),\n",
       " (36.90041732788086, 297),\n",
       " (38.553993225097656, 298),\n",
       " (41.05847930908203, 299),\n",
       " (40.30952072143555, 300),\n",
       " (42.003387451171875, 301),\n",
       " (44.525611877441406, 302),\n",
       " (46.81976318359375, 303),\n",
       " (47.016963958740234, 304),\n",
       " (49.041595458984375, 305),\n",
       " (50.69588851928711, 306),\n",
       " (49.887088775634766, 307),\n",
       " (51.357913970947266, 308),\n",
       " (52.4165153503418, 309),\n",
       " (52.139930725097656, 310),\n",
       " (50.18691635131836, 311),\n",
       " (48.32488250732422, 312),\n",
       " (47.01859664916992, 313),\n",
       " (44.25144577026367, 314),\n",
       " (41.82415008544922, 315),\n",
       " (42.40894317626953, 316),\n",
       " (42.04271697998047, 317),\n",
       " (41.08916473388672, 318),\n",
       " (41.25967788696289, 319),\n",
       " (38.47398376464844, 320),\n",
       " (37.169761657714844, 321),\n",
       " (38.17333984375, 322),\n",
       " (40.7840461730957, 323),\n",
       " (41.03346633911133, 324),\n",
       " (41.771671295166016, 325),\n",
       " (40.21825408935547, 326),\n",
       " (41.222389221191406, 327),\n",
       " (41.210426330566406, 328),\n",
       " (42.326778411865234, 329),\n",
       " (44.26134490966797, 330),\n",
       " (44.912071228027344, 331),\n",
       " (47.56499099731445, 332),\n",
       " (48.48881912231445, 333),\n",
       " (48.89263153076172, 334),\n",
       " (48.29370880126953, 335),\n",
       " (46.238616943359375, 336),\n",
       " (44.83699417114258, 337),\n",
       " (45.83986282348633, 338),\n",
       " (47.143310546875, 339),\n",
       " (46.62224197387695, 340),\n",
       " (49.436824798583984, 341),\n",
       " (49.820335388183594, 342),\n",
       " (51.14291763305664, 343),\n",
       " (51.493568420410156, 344),\n",
       " (53.24538803100586, 345),\n",
       " (55.47737503051758, 346),\n",
       " (58.32329177856445, 347),\n",
       " (59.83888244628906, 348),\n",
       " (62.296348571777344, 349),\n",
       " (62.87572479248047, 350),\n",
       " (60.786766052246094, 351),\n",
       " (59.16466522216797, 352),\n",
       " (56.2921142578125, 353),\n",
       " (54.09754943847656, 354),\n",
       " (51.62150192260742, 355),\n",
       " (48.6854362487793, 356),\n",
       " (45.88752746582031, 357),\n",
       " (42.552059173583984, 358),\n",
       " (40.467350006103516, 359),\n",
       " (41.654144287109375, 360),\n",
       " (43.83322525024414, 361),\n",
       " (43.72928237915039, 362),\n",
       " (42.6860237121582, 363),\n",
       " (43.0479850769043, 364),\n",
       " (40.77461624145508, 365),\n",
       " (40.27528381347656, 366),\n",
       " (41.95745849609375, 367),\n",
       " (43.044063568115234, 368),\n",
       " (44.98289108276367, 369),\n",
       " (44.916290283203125, 370),\n",
       " (43.02830123901367, 371),\n",
       " (40.309730529785156, 372),\n",
       " (39.78658676147461, 373),\n",
       " (38.651344299316406, 374),\n",
       " (40.30867385864258, 375),\n",
       " (41.28263854980469, 376),\n",
       " (43.12870788574219, 377),\n",
       " (44.88361740112305, 378),\n",
       " (46.83837127685547, 379),\n",
       " (49.64982986450195, 380),\n",
       " (49.85857391357422, 381),\n",
       " (49.54690933227539, 382),\n",
       " (50.67967224121094, 383),\n",
       " (51.28120040893555, 384),\n",
       " (52.888309478759766, 385),\n",
       " (51.48709487915039, 386),\n",
       " (52.27365493774414, 387),\n",
       " (51.60432052612305, 388),\n",
       " (52.01816177368164, 389),\n",
       " (55.074119567871094, 390),\n",
       " (58.06839370727539, 391)]"
      ]
     },
     "execution_count": 46,
     "metadata": {},
     "output_type": "execute_result"
    }
   ],
   "source": [
    "epitope"
   ]
  }
 ],
 "metadata": {
  "kernelspec": {
   "display_name": "Python 3 (ipykernel)",
   "language": "python",
   "name": "python3"
  },
  "language_info": {
   "codemirror_mode": {
    "name": "ipython",
    "version": 3
   },
   "file_extension": ".py",
   "mimetype": "text/x-python",
   "name": "python",
   "nbconvert_exporter": "python",
   "pygments_lexer": "ipython3",
   "version": "3.8.0"
  }
 },
 "nbformat": 4,
 "nbformat_minor": 5
}
