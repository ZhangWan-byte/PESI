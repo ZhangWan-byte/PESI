{
 "cells": [
  {
   "cell_type": "code",
   "execution_count": 2,
   "id": "9f9c89fb",
   "metadata": {},
   "outputs": [],
   "source": [
    "import os\n",
    "import sys\n",
    "import time\n",
    "import json\n",
    "import shutil\n",
    "import warnings\n",
    "warnings.filterwarnings('ignore')\n",
    "import argparse\n",
    "import numpy as np\n",
    "import pandas as pd\n",
    "from tqdm import tqdm\n",
    "from sklearn.metrics import confusion_matrix\n",
    "from sklearn.metrics import accuracy_score, f1_score, roc_auc_score, matthews_corrcoef\n",
    "from imblearn.metrics import geometric_mean_score\n",
    "from metrics import *\n",
    "import matplotlib.pyplot as plt\n",
    "\n",
    "import torch\n",
    "import torch.nn as nn\n",
    "import torch.optim as optim\n",
    "\n",
    "from datasets import *\n",
    "from utils import *\n",
    "from models import *"
   ]
  },
  {
   "cell_type": "markdown",
   "id": "c0f744ff",
   "metadata": {},
   "source": [
    "# Finals"
   ]
  },
  {
   "cell_type": "code",
   "execution_count": 175,
   "id": "625cc2ae",
   "metadata": {},
   "outputs": [],
   "source": [
    "def show_results(model_name, k=10, mode=1):\n",
    "    results = []\n",
    "    for i in range(3):\n",
    "        res = pickle.load(open(\"/home/user/wanzhang/Trans4Ab/Transformer4Ab-locla/results/CoV-AbDab/{}/result_{}.pkl\".format(model_name, i), \"rb\"))\n",
    "        results.append(res)\n",
    "    #     print(res)\n",
    "\n",
    "    acc = []\n",
    "    f1 = []\n",
    "    auc = []\n",
    "    gmean = []\n",
    "    mcc = []\n",
    "    for i in range(3):\n",
    "        acc.extend(results[i][1])\n",
    "        f1.extend(results[i][2])\n",
    "        auc.extend(results[i][3])\n",
    "        gmean.extend(results[i][4])\n",
    "        mcc.extend(results[i][5])\n",
    "\n",
    "    # average all 30 results for mean, and regard 30 as whole for std\n",
    "    if mode==0:\n",
    "        print(model_name.split(\"_\")[0], \"\\n\")\n",
    "        print(\"acc:\\t{:.4f} ± {:.4f}\".format(np.mean(acc), np.std(acc)))\n",
    "        print(\"f1:\\t{:.4f} ± {:.4f}\".format(np.mean(f1), np.std(f1)))\n",
    "        print(\"auc:\\t{:.4f} ± {:.4f}\".format(np.mean(auc), np.std(auc)))\n",
    "        print(\"gmean:\\t{:.4f} ± {:.4f}\".format(np.mean(gmean), np.std(gmean)))\n",
    "        print(\"mcc:\\t{:.4f} ± {:.4f}\".format(np.mean(mcc), np.std(mcc)))\n",
    "\n",
    "    # calculate mean and std for the same fold in three times, then average the mean and std for 10 folds\n",
    "    elif mode==1:\n",
    "        accs = []\n",
    "        f1s = []\n",
    "        aucs = []\n",
    "        gmeans = []\n",
    "        mccs = []\n",
    "        for i in range(k):\n",
    "            accs.append(np.std([acc[i], acc[i+k], acc[i+k+k]]))\n",
    "            f1s.append(np.std([f1[i], f1[i+k], f1[i+k+k]]))\n",
    "            aucs.append(np.std([auc[i], auc[i+k], auc[i+k+k]]))\n",
    "            gmeans.append(np.std([gmean[i], gmean[i+k], gmean[i+k+k]]))\n",
    "            mccs.append(np.std([mcc[i], mcc[i+k], mcc[i+k+k]]))\n",
    "\n",
    "\n",
    "        print(model_name.split(\"_\")[0], \"\\n\")\n",
    "        print(\"acc:\\t{:.4f} ± {:.4f}\".format(np.mean(acc), np.mean(accs)))\n",
    "        print(\"f1:\\t{:.4f} ± {:.4f}\".format(np.mean(f1), np.mean(f1s)))\n",
    "        print(\"auc:\\t{:.4f} ± {:.4f}\".format(np.mean(auc), np.mean(aucs)))\n",
    "        print(\"gmean:\\t{:.4f} ± {:.4f}\".format(np.mean(gmean), np.mean(gmeans)))\n",
    "        print(\"mcc:\\t{:.4f} ± {:.4f}\".format(np.mean(mcc), np.mean(mccs)))\n",
    "\n",
    "    # calculate mean and std for 1/2/3 times of 10fold, then mean and std the three results\n",
    "    elif mode==2:\n",
    "        accs = []\n",
    "        f1s = []\n",
    "        aucs = []\n",
    "        gmeans = []\n",
    "        mccs = []\n",
    "        for i in range(3):\n",
    "            accs.append(np.std([acc[i*k:i*k+k]]))\n",
    "            f1s.append(np.std([f1[i*k:i*k+k]]))\n",
    "            aucs.append(np.std([auc[i*k:i*k+k]]))\n",
    "            gmeans.append(np.std([gmean[i*k:i*k+k]]))\n",
    "            mccs.append(np.std([mcc[i*k:i*k+k]]))\n",
    "            \n",
    "        print(model_name.split(\"_\")[0], \"\\n\")\n",
    "        print(\"acc:\\t{:.4f} ± {:.4f}\".format(np.mean(acc), np.mean(accs)))\n",
    "        print(\"f1:\\t{:.4f} ± {:.4f}\".format(np.mean(f1), np.mean(f1s)))\n",
    "        print(\"auc:\\t{:.4f} ± {:.4f}\".format(np.mean(auc), np.mean(aucs)))\n",
    "        print(\"gmean:\\t{:.4f} ± {:.4f}\".format(np.mean(gmean), np.mean(gmeans)))\n",
    "        print(\"mcc:\\t{:.4f} ± {:.4f}\".format(np.mean(mcc), np.mean(mccs)))\n",
    "    \n",
    "    else:\n",
    "        print(\"wrong mode!\")\n",
    "        exit()"
   ]
  },
  {
   "cell_type": "code",
   "execution_count": 136,
   "id": "36916e48",
   "metadata": {},
   "outputs": [
    {
     "name": "stdout",
     "output_type": "stream",
     "text": [
      "lstm \n",
      "\n",
      "acc:\t0.7301 ± 0.0106\n",
      "f1:\t0.8382 ± 0.0080\n",
      "auc:\t0.5054 ± 0.0565\n",
      "gmean:\t0.0294 ± 0.0416\n",
      "mcc:\t-0.0015 ± 0.0347\n"
     ]
    }
   ],
   "source": [
    "show_results(model_name = \"lstm_07-14-22-21-42\")"
   ]
  }
 ],
 "metadata": {
  "kernelspec": {
   "display_name": "Python 3 (ipykernel)",
   "language": "python",
   "name": "python3"
  },
  "language_info": {
   "codemirror_mode": {
    "name": "ipython",
    "version": 3
   },
   "file_extension": ".py",
   "mimetype": "text/x-python",
   "name": "python",
   "nbconvert_exporter": "python",
   "pygments_lexer": "ipython3",
   "version": "3.8.0"
  }
 },
 "nbformat": 4,
 "nbformat_minor": 5
}
