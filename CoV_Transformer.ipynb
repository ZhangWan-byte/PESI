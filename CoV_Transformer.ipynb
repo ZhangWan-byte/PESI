{
 "cells": [
  {
   "cell_type": "code",
   "execution_count": 2,
   "id": "25ce6768",
   "metadata": {},
   "outputs": [],
   "source": [
    "import numpy as np\n",
    "import pandas as pd\n",
    "from tqdm import tqdm\n",
    "from sklearn.metrics import confusion_matrix\n",
    "from sklearn.metrics import accuracy_score, f1_score, roc_auc_score, matthews_corrcoef\n",
    "from imblearn.metrics import geometric_mean_score\n",
    "from metrics import *\n",
    "import matplotlib.pyplot as plt\n",
    "\n",
    "import torch\n",
    "import torch.nn as nn\n",
    "import torch.optim as optim\n",
    "\n",
    "from dataset import *\n",
    "from utils import *\n",
    "from models import *"
   ]
  },
  {
   "cell_type": "markdown",
   "id": "8aef7064",
   "metadata": {},
   "source": [
    "# 1. cov-abdab"
   ]
  },
  {
   "cell_type": "markdown",
   "id": "c40c702f",
   "metadata": {},
   "source": [
    "## 1.1 EDA"
   ]
  },
  {
   "cell_type": "markdown",
   "id": "9f9f544a",
   "metadata": {},
   "source": [
    "current：GT 抗体-抗原\n",
    "- 输入抗原，复现/重构抗体\n",
    "- diff？"
   ]
  },
  {
   "cell_type": "markdown",
   "id": "254adb6d",
   "metadata": {},
   "source": [
    "refineGNN\n",
    "- framework\n",
    "- CDR H3"
   ]
  },
  {
   "cell_type": "markdown",
   "id": "4886864b",
   "metadata": {},
   "source": [
    "current：MEAN\n",
    "- 输入：离CDR H1~H3最近的48个AA + 轻链 + framework\n",
    "- 生成：CDR H1/H2/H3"
   ]
  },
  {
   "cell_type": "markdown",
   "id": "4fa0e956",
   "metadata": {},
   "source": [
    "ideal：输入抗原chain（no sturcture） asdsbdjkasdkjsah\n",
    "- 生成抗体"
   ]
  },
  {
   "cell_type": "markdown",
   "id": "06fe5cb6",
   "metadata": {},
   "source": [
    "ideal：输入抗原链\n",
    "- 找epitope\n",
    "- 根据epitope设计paratope（CDR）= generation + docking\n",
    "- 根据CDR完善补全整条抗体链"
   ]
  },
  {
   "cell_type": "code",
   "execution_count": 3,
   "id": "366d62ef",
   "metadata": {},
   "outputs": [
    {
     "data": {
      "text/html": [
       "<div>\n",
       "<style scoped>\n",
       "    .dataframe tbody tr th:only-of-type {\n",
       "        vertical-align: middle;\n",
       "    }\n",
       "\n",
       "    .dataframe tbody tr th {\n",
       "        vertical-align: top;\n",
       "    }\n",
       "\n",
       "    .dataframe thead th {\n",
       "        text-align: right;\n",
       "    }\n",
       "</style>\n",
       "<table border=\"1\" class=\"dataframe\">\n",
       "  <thead>\n",
       "    <tr style=\"text-align: right;\">\n",
       "      <th></th>\n",
       "      <th>Index</th>\n",
       "      <th>AB_name</th>\n",
       "      <th>Class</th>\n",
       "      <th>Paratope</th>\n",
       "      <th>Epitope</th>\n",
       "    </tr>\n",
       "  </thead>\n",
       "  <tbody>\n",
       "    <tr>\n",
       "      <th>0</th>\n",
       "      <td>1</td>\n",
       "      <td>m396</td>\n",
       "      <td>0</td>\n",
       "      <td>SYTWGGITILIANYQRDTVMGGSKWDSSDY</td>\n",
       "      <td>FSTFRGDEVRNNGQPTYGVGYQY</td>\n",
       "    </tr>\n",
       "    <tr>\n",
       "      <th>1</th>\n",
       "      <td>2</td>\n",
       "      <td>80R</td>\n",
       "      <td>0</td>\n",
       "      <td>SYAVISYDRDRSYDRVRSNDSTRSGSGSDFTTSRSW</td>\n",
       "      <td>RDVGGYNLYLFKGFNCYFLQSYGQPTYGVYQ</td>\n",
       "    </tr>\n",
       "    <tr>\n",
       "      <th>2</th>\n",
       "      <td>3</td>\n",
       "      <td>F26G19</td>\n",
       "      <td>0</td>\n",
       "      <td>YVSYTTYRYPGNDTTTEGIPQL</td>\n",
       "      <td>AFSTGDRWNNNPTYGVGYQY</td>\n",
       "    </tr>\n",
       "    <tr>\n",
       "      <th>3</th>\n",
       "      <td>4</td>\n",
       "      <td>1AF10</td>\n",
       "      <td>0</td>\n",
       "      <td>NWRENRYDPYYAMDIQHYQQTDSWPT</td>\n",
       "      <td>FIVKNKCVFTGVLTDIATDLDITPCSFGGSYQGVNRAGCIG</td>\n",
       "    </tr>\n",
       "    <tr>\n",
       "      <th>4</th>\n",
       "      <td>5</td>\n",
       "      <td>6D3</td>\n",
       "      <td>1</td>\n",
       "      <td>WHEDDYINYEYGLLAQNNFYTY</td>\n",
       "      <td>NVFAEHVNNSS</td>\n",
       "    </tr>\n",
       "    <tr>\n",
       "      <th>...</th>\n",
       "      <td>...</td>\n",
       "      <td>...</td>\n",
       "      <td>...</td>\n",
       "      <td>...</td>\n",
       "      <td>...</td>\n",
       "    </tr>\n",
       "    <tr>\n",
       "      <th>305</th>\n",
       "      <td>306</td>\n",
       "      <td>scFv_E4</td>\n",
       "      <td>1</td>\n",
       "      <td>VSGVTSSNYYPGGSYRDLSEKDVIQGISYSGQNS</td>\n",
       "      <td>RDQTGNDYYLFRKSNYQAGSTFNYFPLQSYGYGVGY</td>\n",
       "    </tr>\n",
       "    <tr>\n",
       "      <th>306</th>\n",
       "      <td>307</td>\n",
       "      <td>N3113</td>\n",
       "      <td>1</td>\n",
       "      <td>YEALEWSYHSRTYNPSWASGSTGDW</td>\n",
       "      <td>VATRFASYAWNKSKGGNYNYLRITEINGVKFLQS</td>\n",
       "    </tr>\n",
       "    <tr>\n",
       "      <th>307</th>\n",
       "      <td>308</td>\n",
       "      <td>N3113.1</td>\n",
       "      <td>1</td>\n",
       "      <td>QWYSRYNPSWASGST</td>\n",
       "      <td>ATRFASYANKDKVGNYNYLYITEINGVKFPLQSYG</td>\n",
       "    </tr>\n",
       "    <tr>\n",
       "      <th>308</th>\n",
       "      <td>309</td>\n",
       "      <td>RBD-chAb-15</td>\n",
       "      <td>1</td>\n",
       "      <td>GHWTTWGGSTNGYYV</td>\n",
       "      <td>YASFSTFKRGDRAWNTYGVGYQPY</td>\n",
       "    </tr>\n",
       "    <tr>\n",
       "      <th>309</th>\n",
       "      <td>310</td>\n",
       "      <td>BD-813</td>\n",
       "      <td>1</td>\n",
       "      <td>VEFISANYYSGGSFRLPTYDSISYHDTTP</td>\n",
       "      <td>RDERQTGNDYYLFRKSNYQAGSTFNYQYGY</td>\n",
       "    </tr>\n",
       "  </tbody>\n",
       "</table>\n",
       "<p>310 rows × 5 columns</p>\n",
       "</div>"
      ],
      "text/plain": [
       "     Index      AB_name  Class                              Paratope  \\\n",
       "0        1         m396      0        SYTWGGITILIANYQRDTVMGGSKWDSSDY   \n",
       "1        2          80R      0  SYAVISYDRDRSYDRVRSNDSTRSGSGSDFTTSRSW   \n",
       "2        3       F26G19      0                YVSYTTYRYPGNDTTTEGIPQL   \n",
       "3        4        1AF10      0            NWRENRYDPYYAMDIQHYQQTDSWPT   \n",
       "4        5          6D3      1                WHEDDYINYEYGLLAQNNFYTY   \n",
       "..     ...          ...    ...                                   ...   \n",
       "305    306      scFv_E4      1    VSGVTSSNYYPGGSYRDLSEKDVIQGISYSGQNS   \n",
       "306    307        N3113      1             YEALEWSYHSRTYNPSWASGSTGDW   \n",
       "307    308      N3113.1      1                       QWYSRYNPSWASGST   \n",
       "308    309  RBD-chAb-15      1                       GHWTTWGGSTNGYYV   \n",
       "309    310       BD-813      1         VEFISANYYSGGSFRLPTYDSISYHDTTP   \n",
       "\n",
       "                                       Epitope  \n",
       "0                      FSTFRGDEVRNNGQPTYGVGYQY  \n",
       "1              RDVGGYNLYLFKGFNCYFLQSYGQPTYGVYQ  \n",
       "2                         AFSTGDRWNNNPTYGVGYQY  \n",
       "3    FIVKNKCVFTGVLTDIATDLDITPCSFGGSYQGVNRAGCIG  \n",
       "4                                  NVFAEHVNNSS  \n",
       "..                                         ...  \n",
       "305       RDQTGNDYYLFRKSNYQAGSTFNYFPLQSYGYGVGY  \n",
       "306         VATRFASYAWNKSKGGNYNYLRITEINGVKFLQS  \n",
       "307        ATRFASYANKDKVGNYNYLYITEINGVKFPLQSYG  \n",
       "308                   YASFSTFKRGDRAWNTYGVGYQPY  \n",
       "309             RDERQTGNDYYLFRKSNYQAGSTFNYQYGY  \n",
       "\n",
       "[310 rows x 5 columns]"
      ]
     },
     "execution_count": 3,
     "metadata": {},
     "output_type": "execute_result"
    }
   ],
   "source": [
    "data = pd.read_csv(\"../SARS-SAbDab_Shaun/CoV-AbDab_extract.csv\")\n",
    "data"
   ]
  },
  {
   "cell_type": "code",
   "execution_count": 4,
   "id": "2298848b",
   "metadata": {},
   "outputs": [
    {
     "data": {
      "text/plain": [
       "(24.767741935483873, 7.183600817667714, 60, 2)"
      ]
     },
     "execution_count": 4,
     "metadata": {},
     "output_type": "execute_result"
    }
   ],
   "source": [
    "len1 = []\n",
    "len2 = []\n",
    "\n",
    "for i in range(data.shape[0]):\n",
    "    len1.append(len(data[\"Paratope\"].iloc[i]))\n",
    "    len2.append(len(data[\"Epitope\"].iloc[i]))\n",
    "    \n",
    "np.mean(len1), np.std(len1), np.max(len1), np.min(len1)"
   ]
  },
  {
   "cell_type": "code",
   "execution_count": 5,
   "id": "5a18ed3e",
   "metadata": {},
   "outputs": [
    {
     "data": {
      "text/plain": [
       "(24.738709677419354, 9.685678733502161, 75, 4)"
      ]
     },
     "execution_count": 5,
     "metadata": {},
     "output_type": "execute_result"
    }
   ],
   "source": [
    "np.mean(len2), np.std(len2), np.max(len2), np.min(len2)"
   ]
  },
  {
   "cell_type": "code",
   "execution_count": 6,
   "id": "3f824484",
   "metadata": {},
   "outputs": [
    {
     "data": {
      "text/plain": [
       "(array([  3.,  14.,  53., 105.,  74.,  47.,  12.,   1.,   0.,   1.]),\n",
       " array([ 2. ,  7.8, 13.6, 19.4, 25.2, 31. , 36.8, 42.6, 48.4, 54.2, 60. ]),\n",
       " <BarContainer object of 10 artists>)"
      ]
     },
     "execution_count": 6,
     "metadata": {},
     "output_type": "execute_result"
    },
    {
     "data": {
      "image/png": "[encoded data removed]",
      "text/plain": [
       "<Figure size 640x480 with 1 Axes>"
      ]
     },
     "metadata": {},
     "output_type": "display_data"
    }
   ],
   "source": [
    "plt.hist(len1)"
   ]
  },
  {
   "cell_type": "code",
   "execution_count": 7,
   "id": "194b55a4",
   "metadata": {},
   "outputs": [
    {
     "data": {
      "text/plain": [
       "60"
      ]
     },
     "execution_count": 7,
     "metadata": {},
     "output_type": "execute_result"
    }
   ],
   "source": [
    "max(len1)"
   ]
  },
  {
   "cell_type": "code",
   "execution_count": 8,
   "id": "3cb7977d",
   "metadata": {},
   "outputs": [
    {
     "data": {
      "text/plain": [
       "(array([ 21.,  54., 112.,  69.,  36.,  12.,   2.,   1.,   2.,   1.]),\n",
       " array([ 4. , 11.1, 18.2, 25.3, 32.4, 39.5, 46.6, 53.7, 60.8, 67.9, 75. ]),\n",
       " <BarContainer object of 10 artists>)"
      ]
     },
     "execution_count": 8,
     "metadata": {},
     "output_type": "execute_result"
    },
    {
     "data": {
      "image/png": "[encoded data removed]",
      "text/plain": [
       "<Figure size 640x480 with 1 Axes>"
      ]
     },
     "metadata": {},
     "output_type": "display_data"
    }
   ],
   "source": [
    "plt.hist(len2)"
   ]
  },
  {
   "cell_type": "code",
   "execution_count": 9,
   "id": "4fcb2e60",
   "metadata": {},
   "outputs": [
    {
     "data": {
      "text/plain": [
       "75"
      ]
     },
     "execution_count": 9,
     "metadata": {},
     "output_type": "execute_result"
    }
   ],
   "source": [
    "max(len2)"
   ]
  },
  {
   "cell_type": "code",
   "execution_count": 10,
   "id": "6e0318c4",
   "metadata": {},
   "outputs": [
    {
     "data": {
      "text/plain": [
       "<AxesSubplot:>"
      ]
     },
     "execution_count": 10,
     "metadata": {},
     "output_type": "execute_result"
    },
    {
     "data": {
      "image/png": "[encoded data removed]",
      "text/plain": [
       "<Figure size 640x480 with 1 Axes>"
      ]
     },
     "metadata": {},
     "output_type": "display_data"
    }
   ],
   "source": [
    "data[\"Class\"].hist()"
   ]
  },
  {
   "cell_type": "code",
   "execution_count": 11,
   "id": "e908bb73",
   "metadata": {},
   "outputs": [
    {
     "data": {
      "text/plain": [
       "310"
      ]
     },
     "execution_count": 11,
     "metadata": {},
     "output_type": "execute_result"
    }
   ],
   "source": [
    "len(data[\"Paratope\"].unique())"
   ]
  },
  {
   "cell_type": "code",
   "execution_count": 12,
   "id": "6c77a01c",
   "metadata": {},
   "outputs": [
    {
     "data": {
      "text/plain": [
       "306"
      ]
     },
     "execution_count": 12,
     "metadata": {},
     "output_type": "execute_result"
    }
   ],
   "source": [
    "len(data[\"Epitope\"].unique())"
   ]
  },
  {
   "cell_type": "markdown",
   "id": "d5aa29bf",
   "metadata": {},
   "source": [
    "# Fine-tuning"
   ]
  },
  {
   "cell_type": "code",
   "execution_count": 14,
   "id": "43371225",
   "metadata": {},
   "outputs": [],
   "source": [
    "set_seed(seed=3407)"
   ]
  },
  {
   "cell_type": "code",
   "execution_count": 15,
   "id": "8676275c",
   "metadata": {
    "scrolled": true
   },
   "outputs": [
    {
     "name": "stdout",
     "output_type": "stream",
     "text": [
      "model name: masonscnn\n",
      "=========================================================\n",
      "fold 0 as val set\n",
      "model parameters:  418817\n"
     ]
    },
    {
     "name": "stderr",
     "output_type": "stream",
     "text": [
      "100%|███████████████████████████████████████████████████████████████████████████████████████████████████████████████████████████████████| 18/18 [00:00<00:00, 126.76it/s]\n"
     ]
    },
    {
     "name": "stdout",
     "output_type": "stream",
     "text": [
      "lr:  0.0001\n",
      "Epoch 0: \n",
      " Train Loss\t0.6127 \n",
      " Val Loss\t0.6368 \n",
      " Val Acc\t0.6774 \n",
      " Val F1\t\t0.8077 \n",
      " Val AUC\t0.5476 \n",
      " Val GMean\t0.0000 \n",
      " Val MCC\t0.0000\n"
     ]
    },
    {
     "name": "stderr",
     "output_type": "stream",
     "text": [
      "100%|███████████████████████████████████████████████████████████████████████████████████████████████████████████████████████████████████| 18/18 [00:00<00:00, 123.86it/s]\n"
     ]
    },
    {
     "name": "stdout",
     "output_type": "stream",
     "text": [
      "lr:  0.0001\n",
      "Epoch 1: \n",
      " Train Loss\t0.5975 \n",
      " Val Loss\t0.6388 \n",
      " Val Acc\t0.6774 \n",
      " Val F1\t\t0.8077 \n",
      " Val AUC\t0.4762 \n",
      " Val GMean\t0.0000 \n",
      " Val MCC\t0.0000\n"
     ]
    },
    {
     "name": "stderr",
     "output_type": "stream",
     "text": [
      "100%|███████████████████████████████████████████████████████████████████████████████████████████████████████████████████████████████████| 18/18 [00:00<00:00, 129.36it/s]\n"
     ]
    },
    {
     "name": "stdout",
     "output_type": "stream",
     "text": [
      "lr:  0.0001\n",
      "Epoch 2: \n",
      " Train Loss\t0.5927 \n",
      " Val Loss\t0.6375 \n",
      " Val Acc\t0.6774 \n",
      " Val F1\t\t0.8077 \n",
      " Val AUC\t0.4524 \n",
      " Val GMean\t0.0000 \n",
      " Val MCC\t0.0000\n"
     ]
    },
    {
     "name": "stderr",
     "output_type": "stream",
     "text": [
      "100%|███████████████████████████████████████████████████████████████████████████████████████████████████████████████████████████████████| 18/18 [00:00<00:00, 118.67it/s]\n"
     ]
    },
    {
     "name": "stdout",
     "output_type": "stream",
     "text": [
      "lr:  0.0001\n",
      "Epoch 3: \n",
      " Train Loss\t0.5899 \n",
      " Val Loss\t0.6367 \n",
      " Val Acc\t0.6774 \n",
      " Val F1\t\t0.8077 \n",
      " Val AUC\t0.4381 \n",
      " Val GMean\t0.0000 \n",
      " Val MCC\t0.0000\n"
     ]
    },
    {
     "name": "stderr",
     "output_type": "stream",
     "text": [
      "100%|███████████████████████████████████████████████████████████████████████████████████████████████████████████████████████████████████| 18/18 [00:00<00:00, 111.83it/s]\n"
     ]
    },
    {
     "name": "stdout",
     "output_type": "stream",
     "text": [
      "lr:  0.0001\n",
      "Epoch 4: \n",
      " Train Loss\t0.5879 \n",
      " Val Loss\t0.6365 \n",
      " Val Acc\t0.6774 \n",
      " Val F1\t\t0.8077 \n",
      " Val AUC\t0.4476 \n",
      " Val GMean\t0.0000 \n",
      " Val MCC\t0.0000\n"
     ]
    },
    {
     "name": "stderr",
     "output_type": "stream",
     "text": [
      "100%|███████████████████████████████████████████████████████████████████████████████████████████████████████████████████████████████████| 18/18 [00:00<00:00, 128.89it/s]\n"
     ]
    },
    {
     "name": "stdout",
     "output_type": "stream",
     "text": [
      "lr:  0.0001\n",
      "Epoch 5: \n",
      " Train Loss\t0.5864 \n",
      " Val Loss\t0.6364 \n",
      " Val Acc\t0.6774 \n",
      " Val F1\t\t0.8077 \n",
      " Val AUC\t0.4429 \n",
      " Val GMean\t0.0000 \n",
      " Val MCC\t0.0000\n"
     ]
    },
    {
     "name": "stderr",
     "output_type": "stream",
     "text": [
      "100%|███████████████████████████████████████████████████████████████████████████████████████████████████████████████████████████████████| 18/18 [00:00<00:00, 132.22it/s]\n"
     ]
    },
    {
     "name": "stdout",
     "output_type": "stream",
     "text": [
      "lr:  0.0001\n",
      "Epoch 6: \n",
      " Train Loss\t0.5852 \n",
      " Val Loss\t0.6363 \n",
      " Val Acc\t0.6774 \n",
      " Val F1\t\t0.8077 \n",
      " Val AUC\t0.4238 \n",
      " Val GMean\t0.0000 \n",
      " Val MCC\t0.0000\n"
     ]
    },
    {
     "name": "stderr",
     "output_type": "stream",
     "text": [
      "100%|███████████████████████████████████████████████████████████████████████████████████████████████████████████████████████████████████| 18/18 [00:00<00:00, 114.74it/s]\n"
     ]
    },
    {
     "name": "stdout",
     "output_type": "stream",
     "text": [
      "lr:  0.0001\n",
      "Epoch 7: \n",
      " Train Loss\t0.5841 \n",
      " Val Loss\t0.6364 \n",
      " Val Acc\t0.6774 \n",
      " Val F1\t\t0.8077 \n",
      " Val AUC\t0.4143 \n",
      " Val GMean\t0.0000 \n",
      " Val MCC\t0.0000\n"
     ]
    },
    {
     "name": "stderr",
     "output_type": "stream",
     "text": [
      "100%|███████████████████████████████████████████████████████████████████████████████████████████████████████████████████████████████████| 18/18 [00:00<00:00, 127.43it/s]\n"
     ]
    },
    {
     "name": "stdout",
     "output_type": "stream",
     "text": [
      "lr:  0.0001\n",
      "Epoch 8: \n",
      " Train Loss\t0.5832 \n",
      " Val Loss\t0.6364 \n",
      " Val Acc\t0.6774 \n",
      " Val F1\t\t0.8077 \n",
      " Val AUC\t0.4190 \n",
      " Val GMean\t0.0000 \n",
      " Val MCC\t0.0000\n"
     ]
    },
    {
     "name": "stderr",
     "output_type": "stream",
     "text": [
      "100%|███████████████████████████████████████████████████████████████████████████████████████████████████████████████████████████████████| 18/18 [00:00<00:00, 125.86it/s]\n"
     ]
    },
    {
     "name": "stdout",
     "output_type": "stream",
     "text": [
      "lr:  0.0001\n",
      "Epoch 9: \n",
      " Train Loss\t0.5823 \n",
      " Val Loss\t0.6365 \n",
      " Val Acc\t0.6774 \n",
      " Val F1\t\t0.8077 \n",
      " Val AUC\t0.4143 \n",
      " Val GMean\t0.0000 \n",
      " Val MCC\t0.0000\n"
     ]
    },
    {
     "name": "stderr",
     "output_type": "stream",
     "text": [
      "100%|███████████████████████████████████████████████████████████████████████████████████████████████████████████████████████████████████| 18/18 [00:00<00:00, 128.61it/s]\n"
     ]
    },
    {
     "name": "stdout",
     "output_type": "stream",
     "text": [
      "lr:  0.0001\n",
      "Epoch 10: \n",
      " Train Loss\t0.5815 \n",
      " Val Loss\t0.6367 \n",
      " Val Acc\t0.6774 \n",
      " Val F1\t\t0.8077 \n",
      " Val AUC\t0.4095 \n",
      " Val GMean\t0.0000 \n",
      " Val MCC\t0.0000\n"
     ]
    },
    {
     "name": "stderr",
     "output_type": "stream",
     "text": [
      "100%|███████████████████████████████████████████████████████████████████████████████████████████████████████████████████████████████████| 18/18 [00:00<00:00, 126.69it/s]\n"
     ]
    },
    {
     "name": "stdout",
     "output_type": "stream",
     "text": [
      "lr:  0.0001\n",
      "Epoch 11: \n",
      " Train Loss\t0.5806 \n",
      " Val Loss\t0.6369 \n",
      " Val Acc\t0.6774 \n",
      " Val F1\t\t0.8077 \n",
      " Val AUC\t0.4048 \n",
      " Val GMean\t0.0000 \n",
      " Val MCC\t0.0000\n"
     ]
    },
    {
     "name": "stderr",
     "output_type": "stream",
     "text": [
      "100%|███████████████████████████████████████████████████████████████████████████████████████████████████████████████████████████████████| 18/18 [00:00<00:00, 129.23it/s]\n"
     ]
    },
    {
     "name": "stdout",
     "output_type": "stream",
     "text": [
      "lr:  0.0001\n",
      "Epoch 12: \n",
      " Train Loss\t0.5797 \n",
      " Val Loss\t0.6372 \n",
      " Val Acc\t0.6774 \n",
      " Val F1\t\t0.8077 \n",
      " Val AUC\t0.4095 \n",
      " Val GMean\t0.0000 \n",
      " Val MCC\t0.0000\n"
     ]
    },
    {
     "name": "stderr",
     "output_type": "stream",
     "text": [
      "100%|███████████████████████████████████████████████████████████████████████████████████████████████████████████████████████████████████| 18/18 [00:00<00:00, 126.94it/s]\n"
     ]
    },
    {
     "name": "stdout",
     "output_type": "stream",
     "text": [
      "lr:  0.0001\n",
      "Epoch 13: \n",
      " Train Loss\t0.5788 \n",
      " Val Loss\t0.6375 \n",
      " Val Acc\t0.6774 \n",
      " Val F1\t\t0.8077 \n",
      " Val AUC\t0.4048 \n",
      " Val GMean\t0.0000 \n",
      " Val MCC\t0.0000\n"
     ]
    },
    {
     "name": "stderr",
     "output_type": "stream",
     "text": [
      "100%|███████████████████████████████████████████████████████████████████████████████████████████████████████████████████████████████████| 18/18 [00:00<00:00, 131.14it/s]\n"
     ]
    },
    {
     "name": "stdout",
     "output_type": "stream",
     "text": [
      "lr:  0.0001\n",
      "Epoch 14: \n",
      " Train Loss\t0.5779 \n",
      " Val Loss\t0.6380 \n",
      " Val Acc\t0.6774 \n",
      " Val F1\t\t0.8077 \n",
      " Val AUC\t0.3905 \n",
      " Val GMean\t0.0000 \n",
      " Val MCC\t0.0000\n"
     ]
    },
    {
     "name": "stderr",
     "output_type": "stream",
     "text": [
      "100%|███████████████████████████████████████████████████████████████████████████████████████████████████████████████████████████████████| 18/18 [00:00<00:00, 129.17it/s]\n"
     ]
    },
    {
     "name": "stdout",
     "output_type": "stream",
     "text": [
      "lr:  0.0001\n",
      "Epoch 15: \n",
      " Train Loss\t0.5771 \n",
      " Val Loss\t0.6385 \n",
      " Val Acc\t0.6774 \n",
      " Val F1\t\t0.8077 \n",
      " Val AUC\t0.3905 \n",
      " Val GMean\t0.0000 \n",
      " Val MCC\t0.0000\n"
     ]
    },
    {
     "name": "stderr",
     "output_type": "stream",
     "text": [
      "100%|███████████████████████████████████████████████████████████████████████████████████████████████████████████████████████████████████| 18/18 [00:00<00:00, 130.43it/s]\n"
     ]
    },
    {
     "name": "stdout",
     "output_type": "stream",
     "text": [
      "lr:  0.0001\n",
      "Epoch 16: \n",
      " Train Loss\t0.5762 \n",
      " Val Loss\t0.6391 \n",
      " Val Acc\t0.6774 \n",
      " Val F1\t\t0.8077 \n",
      " Val AUC\t0.3857 \n",
      " Val GMean\t0.0000 \n",
      " Val MCC\t0.0000\n"
     ]
    },
    {
     "name": "stderr",
     "output_type": "stream",
     "text": [
      "100%|███████████████████████████████████████████████████████████████████████████████████████████████████████████████████████████████████| 18/18 [00:00<00:00, 119.43it/s]\n"
     ]
    },
    {
     "name": "stdout",
     "output_type": "stream",
     "text": [
      "lr:  0.0001\n",
      "Epoch 17: \n",
      " Train Loss\t0.5753 \n",
      " Val Loss\t0.6397 \n",
      " Val Acc\t0.6774 \n",
      " Val F1\t\t0.8077 \n",
      " Val AUC\t0.3857 \n",
      " Val GMean\t0.0000 \n",
      " Val MCC\t0.0000\n"
     ]
    },
    {
     "name": "stderr",
     "output_type": "stream",
     "text": [
      "100%|███████████████████████████████████████████████████████████████████████████████████████████████████████████████████████████████████| 18/18 [00:00<00:00, 127.17it/s]\n"
     ]
    },
    {
     "name": "stdout",
     "output_type": "stream",
     "text": [
      "lr:  0.0001\n",
      "Epoch 18: \n",
      " Train Loss\t0.5744 \n",
      " Val Loss\t0.6405 \n",
      " Val Acc\t0.6774 \n",
      " Val F1\t\t0.8077 \n",
      " Val AUC\t0.3905 \n",
      " Val GMean\t0.0000 \n",
      " Val MCC\t0.0000\n"
     ]
    },
    {
     "name": "stderr",
     "output_type": "stream",
     "text": [
      "100%|███████████████████████████████████████████████████████████████████████████████████████████████████████████████████████████████████| 18/18 [00:00<00:00, 130.34it/s]\n"
     ]
    },
    {
     "name": "stdout",
     "output_type": "stream",
     "text": [
      "lr:  0.0001\n",
      "Epoch 19: \n",
      " Train Loss\t0.5735 \n",
      " Val Loss\t0.6413 \n",
      " Val Acc\t0.6774 \n",
      " Val F1\t\t0.8077 \n",
      " Val AUC\t0.3857 \n",
      " Val GMean\t0.0000 \n",
      " Val MCC\t0.0000\n"
     ]
    },
    {
     "name": "stderr",
     "output_type": "stream",
     "text": [
      "100%|███████████████████████████████████████████████████████████████████████████████████████████████████████████████████████████████████| 18/18 [00:00<00:00, 132.47it/s]\n"
     ]
    },
    {
     "name": "stdout",
     "output_type": "stream",
     "text": [
      "lr:  0.0001\n",
      "Epoch 20: \n",
      " Train Loss\t0.5725 \n",
      " Val Loss\t0.6422 \n",
      " Val Acc\t0.6774 \n",
      " Val F1\t\t0.8077 \n",
      " Val AUC\t0.3905 \n",
      " Val GMean\t0.0000 \n",
      " Val MCC\t0.0000\n"
     ]
    },
    {
     "name": "stderr",
     "output_type": "stream",
     "text": [
      "100%|███████████████████████████████████████████████████████████████████████████████████████████████████████████████████████████████████| 18/18 [00:00<00:00, 127.99it/s]\n"
     ]
    },
    {
     "name": "stdout",
     "output_type": "stream",
     "text": [
      "lr:  0.0001\n",
      "Epoch 21: \n",
      " Train Loss\t0.5714 \n",
      " Val Loss\t0.6432 \n",
      " Val Acc\t0.6774 \n",
      " Val F1\t\t0.8077 \n",
      " Val AUC\t0.3857 \n",
      " Val GMean\t0.0000 \n",
      " Val MCC\t0.0000\n"
     ]
    },
    {
     "name": "stderr",
     "output_type": "stream",
     "text": [
      "100%|███████████████████████████████████████████████████████████████████████████████████████████████████████████████████████████████████| 18/18 [00:00<00:00, 125.31it/s]\n"
     ]
    },
    {
     "name": "stdout",
     "output_type": "stream",
     "text": [
      "lr:  0.0001\n",
      "Epoch 22: \n",
      " Train Loss\t0.5704 \n",
      " Val Loss\t0.6442 \n",
      " Val Acc\t0.6774 \n",
      " Val F1\t\t0.8077 \n",
      " Val AUC\t0.3714 \n",
      " Val GMean\t0.0000 \n",
      " Val MCC\t0.0000\n"
     ]
    },
    {
     "name": "stderr",
     "output_type": "stream",
     "text": [
      "100%|███████████████████████████████████████████████████████████████████████████████████████████████████████████████████████████████████| 18/18 [00:00<00:00, 132.04it/s]\n"
     ]
    },
    {
     "name": "stdout",
     "output_type": "stream",
     "text": [
      "lr:  0.0001\n",
      "Epoch 23: \n",
      " Train Loss\t0.5692 \n",
      " Val Loss\t0.6453 \n",
      " Val Acc\t0.6774 \n",
      " Val F1\t\t0.8077 \n",
      " Val AUC\t0.3667 \n",
      " Val GMean\t0.0000 \n",
      " Val MCC\t0.0000\n"
     ]
    },
    {
     "name": "stderr",
     "output_type": "stream",
     "text": [
      "100%|███████████████████████████████████████████████████████████████████████████████████████████████████████████████████████████████████| 18/18 [00:00<00:00, 132.49it/s]\n"
     ]
    },
    {
     "name": "stdout",
     "output_type": "stream",
     "text": [
      "lr:  0.0001\n",
      "Epoch 24: \n",
      " Train Loss\t0.5679 \n",
      " Val Loss\t0.6465 \n",
      " Val Acc\t0.6774 \n",
      " Val F1\t\t0.8077 \n",
      " Val AUC\t0.3619 \n",
      " Val GMean\t0.0000 \n",
      " Val MCC\t0.0000\n"
     ]
    },
    {
     "name": "stderr",
     "output_type": "stream",
     "text": [
      "100%|███████████████████████████████████████████████████████████████████████████████████████████████████████████████████████████████████| 18/18 [00:00<00:00, 133.52it/s]\n"
     ]
    },
    {
     "name": "stdout",
     "output_type": "stream",
     "text": [
      "lr:  0.0001\n",
      "Epoch 25: \n",
      " Train Loss\t0.5667 \n",
      " Val Loss\t0.6477 \n",
      " Val Acc\t0.6774 \n",
      " Val F1\t\t0.8077 \n",
      " Val AUC\t0.3619 \n",
      " Val GMean\t0.0000 \n",
      " Val MCC\t0.0000\n"
     ]
    },
    {
     "name": "stderr",
     "output_type": "stream",
     "text": [
      "100%|███████████████████████████████████████████████████████████████████████████████████████████████████████████████████████████████████| 18/18 [00:00<00:00, 132.40it/s]\n"
     ]
    },
    {
     "name": "stdout",
     "output_type": "stream",
     "text": [
      "lr:  0.0001\n",
      "Epoch 26: \n",
      " Train Loss\t0.5654 \n",
      " Val Loss\t0.6490 \n",
      " Val Acc\t0.6774 \n",
      " Val F1\t\t0.8077 \n",
      " Val AUC\t0.3619 \n",
      " Val GMean\t0.0000 \n",
      " Val MCC\t0.0000\n"
     ]
    },
    {
     "name": "stderr",
     "output_type": "stream",
     "text": [
      "100%|███████████████████████████████████████████████████████████████████████████████████████████████████████████████████████████████████| 18/18 [00:00<00:00, 132.21it/s]\n"
     ]
    },
    {
     "name": "stdout",
     "output_type": "stream",
     "text": [
      "lr:  0.0001\n",
      "Epoch 27: \n",
      " Train Loss\t0.5641 \n",
      " Val Loss\t0.6504 \n",
      " Val Acc\t0.6774 \n",
      " Val F1\t\t0.8077 \n",
      " Val AUC\t0.3571 \n",
      " Val GMean\t0.0000 \n",
      " Val MCC\t0.0000\n"
     ]
    },
    {
     "name": "stderr",
     "output_type": "stream",
     "text": [
      "100%|███████████████████████████████████████████████████████████████████████████████████████████████████████████████████████████████████| 18/18 [00:00<00:00, 132.22it/s]\n"
     ]
    },
    {
     "name": "stdout",
     "output_type": "stream",
     "text": [
      "lr:  0.0001\n",
      "Epoch 28: \n",
      " Train Loss\t0.5628 \n",
      " Val Loss\t0.6517 \n",
      " Val Acc\t0.6774 \n",
      " Val F1\t\t0.8077 \n",
      " Val AUC\t0.3571 \n",
      " Val GMean\t0.0000 \n",
      " Val MCC\t0.0000\n"
     ]
    },
    {
     "name": "stderr",
     "output_type": "stream",
     "text": [
      "100%|███████████████████████████████████████████████████████████████████████████████████████████████████████████████████████████████████| 18/18 [00:00<00:00, 130.90it/s]\n"
     ]
    },
    {
     "name": "stdout",
     "output_type": "stream",
     "text": [
      "lr:  0.0001\n",
      "Epoch 29: \n",
      " Train Loss\t0.5614 \n",
      " Val Loss\t0.6532 \n",
      " Val Acc\t0.6774 \n",
      " Val F1\t\t0.8077 \n",
      " Val AUC\t0.3571 \n",
      " Val GMean\t0.0000 \n",
      " Val MCC\t0.0000\n"
     ]
    },
    {
     "name": "stderr",
     "output_type": "stream",
     "text": [
      "100%|███████████████████████████████████████████████████████████████████████████████████████████████████████████████████████████████████| 18/18 [00:00<00:00, 126.23it/s]\n"
     ]
    },
    {
     "name": "stdout",
     "output_type": "stream",
     "text": [
      "lr:  0.0001\n",
      "Epoch 30: \n",
      " Train Loss\t0.5599 \n",
      " Val Loss\t0.6546 \n",
      " Val Acc\t0.6774 \n",
      " Val F1\t\t0.8077 \n",
      " Val AUC\t0.3762 \n",
      " Val GMean\t0.0000 \n",
      " Val MCC\t0.0000\n"
     ]
    },
    {
     "name": "stderr",
     "output_type": "stream",
     "text": [
      "100%|███████████████████████████████████████████████████████████████████████████████████████████████████████████████████████████████████| 18/18 [00:00<00:00, 140.82it/s]\n"
     ]
    },
    {
     "name": "stdout",
     "output_type": "stream",
     "text": [
      "lr:  0.0001\n",
      "Epoch 31: \n",
      " Train Loss\t0.5584 \n",
      " Val Loss\t0.6562 \n",
      " Val Acc\t0.6774 \n",
      " Val F1\t\t0.8077 \n",
      " Val AUC\t0.3810 \n",
      " Val GMean\t0.0000 \n",
      " Val MCC\t0.0000\n"
     ]
    },
    {
     "name": "stderr",
     "output_type": "stream",
     "text": [
      "100%|███████████████████████████████████████████████████████████████████████████████████████████████████████████████████████████████████| 18/18 [00:00<00:00, 136.94it/s]\n"
     ]
    },
    {
     "name": "stdout",
     "output_type": "stream",
     "text": [
      "lr:  0.0001\n",
      "Epoch 32: \n",
      " Train Loss\t0.5569 \n",
      " Val Loss\t0.6578 \n",
      " Val Acc\t0.6774 \n",
      " Val F1\t\t0.8077 \n",
      " Val AUC\t0.3810 \n",
      " Val GMean\t0.0000 \n",
      " Val MCC\t0.0000\n"
     ]
    },
    {
     "name": "stderr",
     "output_type": "stream",
     "text": [
      "100%|███████████████████████████████████████████████████████████████████████████████████████████████████████████████████████████████████| 18/18 [00:00<00:00, 132.79it/s]\n"
     ]
    },
    {
     "name": "stdout",
     "output_type": "stream",
     "text": [
      "lr:  0.0001\n",
      "Epoch 33: \n",
      " Train Loss\t0.5554 \n",
      " Val Loss\t0.6593 \n",
      " Val Acc\t0.6774 \n",
      " Val F1\t\t0.8077 \n",
      " Val AUC\t0.3857 \n",
      " Val GMean\t0.0000 \n",
      " Val MCC\t0.0000\n"
     ]
    },
    {
     "name": "stderr",
     "output_type": "stream",
     "text": [
      "100%|███████████████████████████████████████████████████████████████████████████████████████████████████████████████████████████████████| 18/18 [00:00<00:00, 138.10it/s]\n"
     ]
    },
    {
     "name": "stdout",
     "output_type": "stream",
     "text": [
      "lr:  0.0001\n",
      "Epoch 34: \n",
      " Train Loss\t0.5539 \n",
      " Val Loss\t0.6610 \n",
      " Val Acc\t0.6774 \n",
      " Val F1\t\t0.8077 \n",
      " Val AUC\t0.3857 \n",
      " Val GMean\t0.0000 \n",
      " Val MCC\t0.0000\n"
     ]
    },
    {
     "name": "stderr",
     "output_type": "stream",
     "text": [
      "100%|███████████████████████████████████████████████████████████████████████████████████████████████████████████████████████████████████| 18/18 [00:00<00:00, 138.41it/s]\n"
     ]
    },
    {
     "name": "stdout",
     "output_type": "stream",
     "text": [
      "lr:  0.0001\n",
      "Epoch 35: \n",
      " Train Loss\t0.5520 \n",
      " Val Loss\t0.6626 \n",
      " Val Acc\t0.6774 \n",
      " Val F1\t\t0.8077 \n",
      " Val AUC\t0.3857 \n",
      " Val GMean\t0.0000 \n",
      " Val MCC\t0.0000\n"
     ]
    },
    {
     "name": "stderr",
     "output_type": "stream",
     "text": [
      "100%|███████████████████████████████████████████████████████████████████████████████████████████████████████████████████████████████████| 18/18 [00:00<00:00, 139.68it/s]\n"
     ]
    },
    {
     "name": "stdout",
     "output_type": "stream",
     "text": [
      "lr:  0.0001\n",
      "Epoch 36: \n",
      " Train Loss\t0.5502 \n",
      " Val Loss\t0.6642 \n",
      " Val Acc\t0.6774 \n",
      " Val F1\t\t0.8077 \n",
      " Val AUC\t0.3810 \n",
      " Val GMean\t0.0000 \n",
      " Val MCC\t0.0000\n"
     ]
    },
    {
     "name": "stderr",
     "output_type": "stream",
     "text": [
      "100%|███████████████████████████████████████████████████████████████████████████████████████████████████████████████████████████████████| 18/18 [00:00<00:00, 129.80it/s]\n"
     ]
    },
    {
     "name": "stdout",
     "output_type": "stream",
     "text": [
      "lr:  0.0001\n",
      "Epoch 37: \n",
      " Train Loss\t0.5486 \n",
      " Val Loss\t0.6659 \n",
      " Val Acc\t0.6774 \n",
      " Val F1\t\t0.8077 \n",
      " Val AUC\t0.3857 \n",
      " Val GMean\t0.0000 \n",
      " Val MCC\t0.0000\n"
     ]
    },
    {
     "name": "stderr",
     "output_type": "stream",
     "text": [
      "100%|███████████████████████████████████████████████████████████████████████████████████████████████████████████████████████████████████| 18/18 [00:00<00:00, 116.10it/s]\n"
     ]
    },
    {
     "name": "stdout",
     "output_type": "stream",
     "text": [
      "lr:  0.0001\n",
      "Epoch 38: \n",
      " Train Loss\t0.5465 \n",
      " Val Loss\t0.6676 \n",
      " Val Acc\t0.6774 \n",
      " Val F1\t\t0.8077 \n",
      " Val AUC\t0.3857 \n",
      " Val GMean\t0.0000 \n",
      " Val MCC\t0.0000\n"
     ]
    },
    {
     "name": "stderr",
     "output_type": "stream",
     "text": [
      "100%|███████████████████████████████████████████████████████████████████████████████████████████████████████████████████████████████████| 18/18 [00:00<00:00, 119.39it/s]\n"
     ]
    },
    {
     "name": "stdout",
     "output_type": "stream",
     "text": [
      "lr:  0.0001\n",
      "Epoch 39: \n",
      " Train Loss\t0.5443 \n",
      " Val Loss\t0.6693 \n",
      " Val Acc\t0.6774 \n",
      " Val F1\t\t0.8077 \n",
      " Val AUC\t0.4000 \n",
      " Val GMean\t0.0000 \n",
      " Val MCC\t0.0000\n"
     ]
    },
    {
     "name": "stderr",
     "output_type": "stream",
     "text": [
      "100%|███████████████████████████████████████████████████████████████████████████████████████████████████████████████████████████████████| 18/18 [00:00<00:00, 124.96it/s]\n"
     ]
    },
    {
     "name": "stdout",
     "output_type": "stream",
     "text": [
      "lr:  0.0001\n",
      "Epoch 40: \n",
      " Train Loss\t0.5426 \n",
      " Val Loss\t0.6710 \n",
      " Val Acc\t0.6452 \n",
      " Val F1\t\t0.7843 \n",
      " Val AUC\t0.4048 \n",
      " Val GMean\t0.0000 \n",
      " Val MCC\t-0.1260\n"
     ]
    },
    {
     "name": "stderr",
     "output_type": "stream",
     "text": [
      "100%|███████████████████████████████████████████████████████████████████████████████████████████████████████████████████████████████████| 18/18 [00:00<00:00, 127.16it/s]\n"
     ]
    },
    {
     "name": "stdout",
     "output_type": "stream",
     "text": [
      "lr:  0.0001\n",
      "Epoch 41: \n",
      " Train Loss\t0.5406 \n",
      " Val Loss\t0.6727 \n",
      " Val Acc\t0.6452 \n",
      " Val F1\t\t0.7843 \n",
      " Val AUC\t0.4048 \n",
      " Val GMean\t0.0000 \n",
      " Val MCC\t-0.1260\n"
     ]
    },
    {
     "name": "stderr",
     "output_type": "stream",
     "text": [
      "100%|███████████████████████████████████████████████████████████████████████████████████████████████████████████████████████████████████| 18/18 [00:00<00:00, 131.10it/s]\n"
     ]
    },
    {
     "name": "stdout",
     "output_type": "stream",
     "text": [
      "lr:  0.0001\n",
      "Epoch 42: \n",
      " Train Loss\t0.5384 \n",
      " Val Loss\t0.6744 \n",
      " Val Acc\t0.6452 \n",
      " Val F1\t\t0.7843 \n",
      " Val AUC\t0.4000 \n",
      " Val GMean\t0.0000 \n",
      " Val MCC\t-0.1260\n"
     ]
    },
    {
     "name": "stderr",
     "output_type": "stream",
     "text": [
      "100%|███████████████████████████████████████████████████████████████████████████████████████████████████████████████████████████████████| 18/18 [00:00<00:00, 127.98it/s]\n"
     ]
    },
    {
     "name": "stdout",
     "output_type": "stream",
     "text": [
      "lr:  0.0001\n",
      "Epoch 43: \n",
      " Train Loss\t0.5364 \n",
      " Val Loss\t0.6762 \n",
      " Val Acc\t0.6774 \n",
      " Val F1\t\t0.8000 \n",
      " Val AUC\t0.3952 \n",
      " Val GMean\t0.3086 \n",
      " Val MCC\t0.0997\n"
     ]
    },
    {
     "name": "stderr",
     "output_type": "stream",
     "text": [
      "100%|███████████████████████████████████████████████████████████████████████████████████████████████████████████████████████████████████| 18/18 [00:00<00:00, 128.58it/s]\n"
     ]
    },
    {
     "name": "stdout",
     "output_type": "stream",
     "text": [
      "lr:  0.0001\n",
      "Epoch 44: \n",
      " Train Loss\t0.5343 \n",
      " Val Loss\t0.6780 \n",
      " Val Acc\t0.7097 \n",
      " Val F1\t\t0.8235 \n",
      " Val AUC\t0.4000 \n",
      " Val GMean\t0.3162 \n",
      " Val MCC\t0.2646\n"
     ]
    },
    {
     "name": "stderr",
     "output_type": "stream",
     "text": [
      "100%|███████████████████████████████████████████████████████████████████████████████████████████████████████████████████████████████████| 18/18 [00:00<00:00, 120.84it/s]\n"
     ]
    },
    {
     "name": "stdout",
     "output_type": "stream",
     "text": [
      "lr:  0.0001\n",
      "Epoch 45: \n",
      " Train Loss\t0.5323 \n",
      " Val Loss\t0.6797 \n",
      " Val Acc\t0.6774 \n",
      " Val F1\t\t0.8000 \n",
      " Val AUC\t0.3952 \n",
      " Val GMean\t0.3086 \n",
      " Val MCC\t0.0997\n"
     ]
    },
    {
     "name": "stderr",
     "output_type": "stream",
     "text": [
      "100%|███████████████████████████████████████████████████████████████████████████████████████████████████████████████████████████████████| 18/18 [00:00<00:00, 131.45it/s]\n"
     ]
    },
    {
     "name": "stdout",
     "output_type": "stream",
     "text": [
      "lr:  0.0001\n",
      "Epoch 46: \n",
      " Train Loss\t0.5301 \n",
      " Val Loss\t0.6814 \n",
      " Val Acc\t0.6774 \n",
      " Val F1\t\t0.8000 \n",
      " Val AUC\t0.3952 \n",
      " Val GMean\t0.3086 \n",
      " Val MCC\t0.0997\n"
     ]
    },
    {
     "name": "stderr",
     "output_type": "stream",
     "text": [
      "100%|███████████████████████████████████████████████████████████████████████████████████████████████████████████████████████████████████| 18/18 [00:00<00:00, 125.56it/s]\n"
     ]
    },
    {
     "name": "stdout",
     "output_type": "stream",
     "text": [
      "lr:  0.0001\n",
      "Epoch 47: \n",
      " Train Loss\t0.5281 \n",
      " Val Loss\t0.6833 \n",
      " Val Acc\t0.7097 \n",
      " Val F1\t\t0.8235 \n",
      " Val AUC\t0.3905 \n",
      " Val GMean\t0.3162 \n",
      " Val MCC\t0.2646\n"
     ]
    },
    {
     "name": "stderr",
     "output_type": "stream",
     "text": [
      "100%|███████████████████████████████████████████████████████████████████████████████████████████████████████████████████████████████████| 18/18 [00:00<00:00, 131.19it/s]\n"
     ]
    },
    {
     "name": "stdout",
     "output_type": "stream",
     "text": [
      "lr:  0.0001\n",
      "Epoch 48: \n",
      " Train Loss\t0.5258 \n",
      " Val Loss\t0.6849 \n",
      " Val Acc\t0.6774 \n",
      " Val F1\t\t0.8000 \n",
      " Val AUC\t0.4000 \n",
      " Val GMean\t0.3086 \n",
      " Val MCC\t0.0997\n"
     ]
    },
    {
     "name": "stderr",
     "output_type": "stream",
     "text": [
      "100%|███████████████████████████████████████████████████████████████████████████████████████████████████████████████████████████████████| 18/18 [00:00<00:00, 116.14it/s]\n"
     ]
    },
    {
     "name": "stdout",
     "output_type": "stream",
     "text": [
      "lr:  0.0001\n",
      "Epoch 49: \n",
      " Train Loss\t0.5235 \n",
      " Val Loss\t0.6865 \n",
      " Val Acc\t0.6774 \n",
      " Val F1\t\t0.8000 \n",
      " Val AUC\t0.4048 \n",
      " Val GMean\t0.3086 \n",
      " Val MCC\t0.0997\n"
     ]
    },
    {
     "name": "stderr",
     "output_type": "stream",
     "text": [
      "100%|███████████████████████████████████████████████████████████████████████████████████████████████████████████████████████████████████| 18/18 [00:00<00:00, 127.58it/s]\n"
     ]
    },
    {
     "name": "stdout",
     "output_type": "stream",
     "text": [
      "lr:  0.0001\n",
      "Epoch 50: \n",
      " Train Loss\t0.5211 \n",
      " Val Loss\t0.6881 \n",
      " Val Acc\t0.7097 \n",
      " Val F1\t\t0.8235 \n",
      " Val AUC\t0.4048 \n",
      " Val GMean\t0.3162 \n",
      " Val MCC\t0.2646\n"
     ]
    },
    {
     "name": "stderr",
     "output_type": "stream",
     "text": [
      "100%|███████████████████████████████████████████████████████████████████████████████████████████████████████████████████████████████████| 18/18 [00:00<00:00, 129.24it/s]\n"
     ]
    },
    {
     "name": "stdout",
     "output_type": "stream",
     "text": [
      "lr:  0.0001\n",
      "Epoch 51: \n",
      " Train Loss\t0.5189 \n",
      " Val Loss\t0.6897 \n",
      " Val Acc\t0.7097 \n",
      " Val F1\t\t0.8235 \n",
      " Val AUC\t0.4048 \n",
      " Val GMean\t0.3162 \n",
      " Val MCC\t0.2646\n"
     ]
    },
    {
     "name": "stderr",
     "output_type": "stream",
     "text": [
      "100%|███████████████████████████████████████████████████████████████████████████████████████████████████████████████████████████████████| 18/18 [00:00<00:00, 126.61it/s]\n"
     ]
    },
    {
     "name": "stdout",
     "output_type": "stream",
     "text": [
      "lr:  0.0001\n",
      "Epoch 52: \n",
      " Train Loss\t0.5164 \n",
      " Val Loss\t0.6914 \n",
      " Val Acc\t0.7097 \n",
      " Val F1\t\t0.8235 \n",
      " Val AUC\t0.4000 \n",
      " Val GMean\t0.3162 \n",
      " Val MCC\t0.2646\n"
     ]
    },
    {
     "name": "stderr",
     "output_type": "stream",
     "text": [
      "100%|███████████████████████████████████████████████████████████████████████████████████████████████████████████████████████████████████| 18/18 [00:00<00:00, 129.72it/s]\n"
     ]
    },
    {
     "name": "stdout",
     "output_type": "stream",
     "text": [
      "lr:  0.0001\n",
      "Epoch 53: \n",
      " Train Loss\t0.5140 \n",
      " Val Loss\t0.6929 \n",
      " Val Acc\t0.6452 \n",
      " Val F1\t\t0.7755 \n",
      " Val AUC\t0.4000 \n",
      " Val GMean\t0.3008 \n",
      " Val MCC\t0.0075\n"
     ]
    },
    {
     "name": "stderr",
     "output_type": "stream",
     "text": [
      "100%|███████████████████████████████████████████████████████████████████████████████████████████████████████████████████████████████████| 18/18 [00:00<00:00, 133.61it/s]\n"
     ]
    },
    {
     "name": "stdout",
     "output_type": "stream",
     "text": [
      "lr:  0.0001\n",
      "Epoch 54: \n",
      " Train Loss\t0.5114 \n",
      " Val Loss\t0.6945 \n",
      " Val Acc\t0.6774 \n",
      " Val F1\t\t0.8000 \n",
      " Val AUC\t0.3952 \n",
      " Val GMean\t0.3086 \n",
      " Val MCC\t0.0997\n"
     ]
    },
    {
     "name": "stderr",
     "output_type": "stream",
     "text": [
      "100%|███████████████████████████████████████████████████████████████████████████████████████████████████████████████████████████████████| 18/18 [00:00<00:00, 126.33it/s]\n"
     ]
    },
    {
     "name": "stdout",
     "output_type": "stream",
     "text": [
      "lr:  0.0001\n",
      "Epoch 55: \n",
      " Train Loss\t0.5087 \n",
      " Val Loss\t0.6963 \n",
      " Val Acc\t0.7097 \n",
      " Val F1\t\t0.8235 \n",
      " Val AUC\t0.3905 \n",
      " Val GMean\t0.3162 \n",
      " Val MCC\t0.2646\n"
     ]
    },
    {
     "name": "stderr",
     "output_type": "stream",
     "text": [
      "100%|███████████████████████████████████████████████████████████████████████████████████████████████████████████████████████████████████| 18/18 [00:00<00:00, 128.22it/s]\n"
     ]
    },
    {
     "name": "stdout",
     "output_type": "stream",
     "text": [
      "lr:  0.0001\n",
      "Epoch 56: \n",
      " Train Loss\t0.5059 \n",
      " Val Loss\t0.6978 \n",
      " Val Acc\t0.6129 \n",
      " Val F1\t\t0.7500 \n",
      " Val AUC\t0.3905 \n",
      " Val GMean\t0.2928 \n",
      " Val MCC\t-0.0598\n"
     ]
    },
    {
     "name": "stderr",
     "output_type": "stream",
     "text": [
      "100%|███████████████████████████████████████████████████████████████████████████████████████████████████████████████████████████████████| 18/18 [00:00<00:00, 128.50it/s]\n"
     ]
    },
    {
     "name": "stdout",
     "output_type": "stream",
     "text": [
      "lr:  0.0001\n",
      "Epoch 57: \n",
      " Train Loss\t0.5034 \n",
      " Val Loss\t0.6993 \n",
      " Val Acc\t0.5484 \n",
      " Val F1\t\t0.6957 \n",
      " Val AUC\t0.3905 \n",
      " Val GMean\t0.2760 \n",
      " Val MCC\t-0.1634\n"
     ]
    },
    {
     "name": "stderr",
     "output_type": "stream",
     "text": [
      "100%|███████████████████████████████████████████████████████████████████████████████████████████████████████████████████████████████████| 18/18 [00:00<00:00, 119.37it/s]\n"
     ]
    },
    {
     "name": "stdout",
     "output_type": "stream",
     "text": [
      "lr:  0.0001\n",
      "Epoch 58: \n",
      " Train Loss\t0.5007 \n",
      " Val Loss\t0.7010 \n",
      " Val Acc\t0.5806 \n",
      " Val F1\t\t0.7234 \n",
      " Val AUC\t0.3905 \n",
      " Val GMean\t0.2845 \n",
      " Val MCC\t-0.1150\n"
     ]
    },
    {
     "name": "stderr",
     "output_type": "stream",
     "text": [
      "100%|███████████████████████████████████████████████████████████████████████████████████████████████████████████████████████████████████| 18/18 [00:00<00:00, 121.25it/s]\n"
     ]
    },
    {
     "name": "stdout",
     "output_type": "stream",
     "text": [
      "lr:  0.0001\n",
      "Epoch 59: \n",
      " Train Loss\t0.4982 \n",
      " Val Loss\t0.7029 \n",
      " Val Acc\t0.6774 \n",
      " Val F1\t\t0.8000 \n",
      " Val AUC\t0.3905 \n",
      " Val GMean\t0.3086 \n",
      " Val MCC\t0.0997\n"
     ]
    },
    {
     "name": "stderr",
     "output_type": "stream",
     "text": [
      "100%|███████████████████████████████████████████████████████████████████████████████████████████████████████████████████████████████████| 18/18 [00:00<00:00, 117.84it/s]\n"
     ]
    },
    {
     "name": "stdout",
     "output_type": "stream",
     "text": [
      "lr:  0.0001\n",
      "Epoch 60: \n",
      " Train Loss\t0.4960 \n",
      " Val Loss\t0.7046 \n",
      " Val Acc\t0.6774 \n",
      " Val F1\t\t0.8000 \n",
      " Val AUC\t0.3952 \n",
      " Val GMean\t0.3086 \n",
      " Val MCC\t0.0997\n"
     ]
    },
    {
     "name": "stderr",
     "output_type": "stream",
     "text": [
      "100%|███████████████████████████████████████████████████████████████████████████████████████████████████████████████████████████████████| 18/18 [00:00<00:00, 121.88it/s]\n"
     ]
    },
    {
     "name": "stdout",
     "output_type": "stream",
     "text": [
      "lr:  0.0001\n",
      "Epoch 61: \n",
      " Train Loss\t0.4937 \n",
      " Val Loss\t0.7062 \n",
      " Val Acc\t0.6774 \n",
      " Val F1\t\t0.8000 \n",
      " Val AUC\t0.3952 \n",
      " Val GMean\t0.3086 \n",
      " Val MCC\t0.0997\n"
     ]
    },
    {
     "name": "stderr",
     "output_type": "stream",
     "text": [
      "100%|███████████████████████████████████████████████████████████████████████████████████████████████████████████████████████████████████| 18/18 [00:00<00:00, 114.64it/s]\n"
     ]
    },
    {
     "name": "stdout",
     "output_type": "stream",
     "text": [
      "lr:  0.0001\n",
      "Epoch 62: \n",
      " Train Loss\t0.4914 \n",
      " Val Loss\t0.7080 \n",
      " Val Acc\t0.6774 \n",
      " Val F1\t\t0.8000 \n",
      " Val AUC\t0.4000 \n",
      " Val GMean\t0.3086 \n",
      " Val MCC\t0.0997\n"
     ]
    },
    {
     "name": "stderr",
     "output_type": "stream",
     "text": [
      "100%|███████████████████████████████████████████████████████████████████████████████████████████████████████████████████████████████████| 18/18 [00:00<00:00, 123.14it/s]\n"
     ]
    },
    {
     "name": "stdout",
     "output_type": "stream",
     "text": [
      "lr:  0.0001\n",
      "Epoch 63: \n",
      " Train Loss\t0.4887 \n",
      " Val Loss\t0.7095 \n",
      " Val Acc\t0.5806 \n",
      " Val F1\t\t0.7234 \n",
      " Val AUC\t0.4095 \n",
      " Val GMean\t0.2845 \n",
      " Val MCC\t-0.1150\n"
     ]
    },
    {
     "name": "stderr",
     "output_type": "stream",
     "text": [
      "100%|███████████████████████████████████████████████████████████████████████████████████████████████████████████████████████████████████| 18/18 [00:00<00:00, 128.40it/s]\n"
     ]
    },
    {
     "name": "stdout",
     "output_type": "stream",
     "text": [
      "lr:  0.0001\n",
      "Epoch 64: \n",
      " Train Loss\t0.4861 \n",
      " Val Loss\t0.7110 \n",
      " Val Acc\t0.6129 \n",
      " Val F1\t\t0.7500 \n",
      " Val AUC\t0.4190 \n",
      " Val GMean\t0.2928 \n",
      " Val MCC\t-0.0598\n"
     ]
    },
    {
     "name": "stderr",
     "output_type": "stream",
     "text": [
      "100%|███████████████████████████████████████████████████████████████████████████████████████████████████████████████████████████████████| 18/18 [00:00<00:00, 130.36it/s]\n"
     ]
    },
    {
     "name": "stdout",
     "output_type": "stream",
     "text": [
      "lr:  0.0001\n",
      "Epoch 65: \n",
      " Train Loss\t0.4836 \n",
      " Val Loss\t0.7125 \n",
      " Val Acc\t0.6129 \n",
      " Val F1\t\t0.7500 \n",
      " Val AUC\t0.4238 \n",
      " Val GMean\t0.2928 \n",
      " Val MCC\t-0.0598\n"
     ]
    },
    {
     "name": "stderr",
     "output_type": "stream",
     "text": [
      "100%|███████████████████████████████████████████████████████████████████████████████████████████████████████████████████████████████████| 18/18 [00:00<00:00, 132.08it/s]\n"
     ]
    },
    {
     "name": "stdout",
     "output_type": "stream",
     "text": [
      "lr:  0.0001\n",
      "Epoch 66: \n",
      " Train Loss\t0.4812 \n",
      " Val Loss\t0.7140 \n",
      " Val Acc\t0.6129 \n",
      " Val F1\t\t0.7500 \n",
      " Val AUC\t0.4190 \n",
      " Val GMean\t0.2928 \n",
      " Val MCC\t-0.0598\n"
     ]
    },
    {
     "name": "stderr",
     "output_type": "stream",
     "text": [
      "100%|███████████████████████████████████████████████████████████████████████████████████████████████████████████████████████████████████| 18/18 [00:00<00:00, 122.87it/s]\n"
     ]
    },
    {
     "name": "stdout",
     "output_type": "stream",
     "text": [
      "lr:  0.0001\n",
      "Epoch 67: \n",
      " Train Loss\t0.4790 \n",
      " Val Loss\t0.7157 \n",
      " Val Acc\t0.6129 \n",
      " Val F1\t\t0.7500 \n",
      " Val AUC\t0.4190 \n",
      " Val GMean\t0.2928 \n",
      " Val MCC\t-0.0598\n"
     ]
    },
    {
     "name": "stderr",
     "output_type": "stream",
     "text": [
      "100%|███████████████████████████████████████████████████████████████████████████████████████████████████████████████████████████████████| 18/18 [00:00<00:00, 128.67it/s]\n"
     ]
    },
    {
     "name": "stdout",
     "output_type": "stream",
     "text": [
      "lr:  0.0001\n",
      "Epoch 68: \n",
      " Train Loss\t0.4766 \n",
      " Val Loss\t0.7173 \n",
      " Val Acc\t0.5806 \n",
      " Val F1\t\t0.7234 \n",
      " Val AUC\t0.4095 \n",
      " Val GMean\t0.2845 \n",
      " Val MCC\t-0.1150\n"
     ]
    },
    {
     "name": "stderr",
     "output_type": "stream",
     "text": [
      "100%|███████████████████████████████████████████████████████████████████████████████████████████████████████████████████████████████████| 18/18 [00:00<00:00, 124.04it/s]\n"
     ]
    },
    {
     "name": "stdout",
     "output_type": "stream",
     "text": [
      "lr:  0.0001\n",
      "Epoch 69: \n",
      " Train Loss\t0.4742 \n",
      " Val Loss\t0.7189 \n",
      " Val Acc\t0.6129 \n",
      " Val F1\t\t0.7500 \n",
      " Val AUC\t0.4095 \n",
      " Val GMean\t0.2928 \n",
      " Val MCC\t-0.0598\n"
     ]
    },
    {
     "name": "stderr",
     "output_type": "stream",
     "text": [
      "100%|███████████████████████████████████████████████████████████████████████████████████████████████████████████████████████████████████| 18/18 [00:00<00:00, 120.55it/s]\n"
     ]
    },
    {
     "name": "stdout",
     "output_type": "stream",
     "text": [
      "lr:  0.0001\n",
      "Epoch 70: \n",
      " Train Loss\t0.4723 \n",
      " Val Loss\t0.7205 \n",
      " Val Acc\t0.6129 \n",
      " Val F1\t\t0.7500 \n",
      " Val AUC\t0.4048 \n",
      " Val GMean\t0.2928 \n",
      " Val MCC\t-0.0598\n"
     ]
    },
    {
     "name": "stderr",
     "output_type": "stream",
     "text": [
      "100%|███████████████████████████████████████████████████████████████████████████████████████████████████████████████████████████████████| 18/18 [00:00<00:00, 127.81it/s]\n"
     ]
    },
    {
     "name": "stdout",
     "output_type": "stream",
     "text": [
      "lr:  0.0001\n",
      "Epoch 71: \n",
      " Train Loss\t0.4698 \n",
      " Val Loss\t0.7220 \n",
      " Val Acc\t0.5806 \n",
      " Val F1\t\t0.7234 \n",
      " Val AUC\t0.4095 \n",
      " Val GMean\t0.2845 \n",
      " Val MCC\t-0.1150\n"
     ]
    },
    {
     "name": "stderr",
     "output_type": "stream",
     "text": [
      "100%|███████████████████████████████████████████████████████████████████████████████████████████████████████████████████████████████████| 18/18 [00:00<00:00, 130.55it/s]\n"
     ]
    },
    {
     "name": "stdout",
     "output_type": "stream",
     "text": [
      "lr:  0.0001\n",
      "Epoch 72: \n",
      " Train Loss\t0.4677 \n",
      " Val Loss\t0.7237 \n",
      " Val Acc\t0.6129 \n",
      " Val F1\t\t0.7500 \n",
      " Val AUC\t0.4190 \n",
      " Val GMean\t0.2928 \n",
      " Val MCC\t-0.0598\n"
     ]
    },
    {
     "name": "stderr",
     "output_type": "stream",
     "text": [
      "100%|███████████████████████████████████████████████████████████████████████████████████████████████████████████████████████████████████| 18/18 [00:00<00:00, 131.04it/s]\n"
     ]
    },
    {
     "name": "stdout",
     "output_type": "stream",
     "text": [
      "lr:  0.0001\n",
      "Epoch 73: \n",
      " Train Loss\t0.4653 \n",
      " Val Loss\t0.7252 \n",
      " Val Acc\t0.6129 \n",
      " Val F1\t\t0.7500 \n",
      " Val AUC\t0.4286 \n",
      " Val GMean\t0.2928 \n",
      " Val MCC\t-0.0598\n"
     ]
    },
    {
     "name": "stderr",
     "output_type": "stream",
     "text": [
      "100%|███████████████████████████████████████████████████████████████████████████████████████████████████████████████████████████████████| 18/18 [00:00<00:00, 132.38it/s]\n"
     ]
    },
    {
     "name": "stdout",
     "output_type": "stream",
     "text": [
      "lr:  0.0001\n",
      "Epoch 74: \n",
      " Train Loss\t0.4629 \n",
      " Val Loss\t0.7266 \n",
      " Val Acc\t0.5806 \n",
      " Val F1\t\t0.7234 \n",
      " Val AUC\t0.4333 \n",
      " Val GMean\t0.2845 \n",
      " Val MCC\t-0.1150\n"
     ]
    },
    {
     "name": "stderr",
     "output_type": "stream",
     "text": [
      "100%|███████████████████████████████████████████████████████████████████████████████████████████████████████████████████████████████████| 18/18 [00:00<00:00, 129.67it/s]\n"
     ]
    },
    {
     "name": "stdout",
     "output_type": "stream",
     "text": [
      "lr:  0.0001\n",
      "Epoch 75: \n",
      " Train Loss\t0.4604 \n",
      " Val Loss\t0.7282 \n",
      " Val Acc\t0.6129 \n",
      " Val F1\t\t0.7500 \n",
      " Val AUC\t0.4286 \n",
      " Val GMean\t0.2928 \n",
      " Val MCC\t-0.0598\n"
     ]
    },
    {
     "name": "stderr",
     "output_type": "stream",
     "text": [
      "100%|███████████████████████████████████████████████████████████████████████████████████████████████████████████████████████████████████| 18/18 [00:00<00:00, 126.90it/s]\n"
     ]
    },
    {
     "name": "stdout",
     "output_type": "stream",
     "text": [
      "lr:  0.0001\n",
      "Epoch 76: \n",
      " Train Loss\t0.4582 \n",
      " Val Loss\t0.7298 \n",
      " Val Acc\t0.5806 \n",
      " Val F1\t\t0.7234 \n",
      " Val AUC\t0.4333 \n",
      " Val GMean\t0.2845 \n",
      " Val MCC\t-0.1150\n"
     ]
    },
    {
     "name": "stderr",
     "output_type": "stream",
     "text": [
      "100%|███████████████████████████████████████████████████████████████████████████████████████████████████████████████████████████████████| 18/18 [00:00<00:00, 131.26it/s]\n"
     ]
    },
    {
     "name": "stdout",
     "output_type": "stream",
     "text": [
      "lr:  0.0001\n",
      "Epoch 77: \n",
      " Train Loss\t0.4560 \n",
      " Val Loss\t0.7315 \n",
      " Val Acc\t0.6129 \n",
      " Val F1\t\t0.7500 \n",
      " Val AUC\t0.4190 \n",
      " Val GMean\t0.2928 \n",
      " Val MCC\t-0.0598\n"
     ]
    },
    {
     "name": "stderr",
     "output_type": "stream",
     "text": [
      "100%|███████████████████████████████████████████████████████████████████████████████████████████████████████████████████████████████████| 18/18 [00:00<00:00, 130.46it/s]\n"
     ]
    },
    {
     "name": "stdout",
     "output_type": "stream",
     "text": [
      "lr:  0.0001\n",
      "Epoch 78: \n",
      " Train Loss\t0.4538 \n",
      " Val Loss\t0.7332 \n",
      " Val Acc\t0.6129 \n",
      " Val F1\t\t0.7500 \n",
      " Val AUC\t0.4333 \n",
      " Val GMean\t0.2928 \n",
      " Val MCC\t-0.0598\n"
     ]
    },
    {
     "name": "stderr",
     "output_type": "stream",
     "text": [
      "100%|███████████████████████████████████████████████████████████████████████████████████████████████████████████████████████████████████| 18/18 [00:00<00:00, 126.01it/s]\n"
     ]
    },
    {
     "name": "stdout",
     "output_type": "stream",
     "text": [
      "lr:  0.0001\n",
      "Epoch 79: \n",
      " Train Loss\t0.4516 \n",
      " Val Loss\t0.7350 \n",
      " Val Acc\t0.6129 \n",
      " Val F1\t\t0.7500 \n",
      " Val AUC\t0.4333 \n",
      " Val GMean\t0.2928 \n",
      " Val MCC\t-0.0598\n"
     ]
    },
    {
     "name": "stderr",
     "output_type": "stream",
     "text": [
      "100%|███████████████████████████████████████████████████████████████████████████████████████████████████████████████████████████████████| 18/18 [00:00<00:00, 129.90it/s]\n"
     ]
    },
    {
     "name": "stdout",
     "output_type": "stream",
     "text": [
      "lr:  0.0001\n",
      "Epoch 80: \n",
      " Train Loss\t0.4493 \n",
      " Val Loss\t0.7366 \n",
      " Val Acc\t0.6129 \n",
      " Val F1\t\t0.7500 \n",
      " Val AUC\t0.4286 \n",
      " Val GMean\t0.2928 \n",
      " Val MCC\t-0.0598\n"
     ]
    },
    {
     "name": "stderr",
     "output_type": "stream",
     "text": [
      "100%|███████████████████████████████████████████████████████████████████████████████████████████████████████████████████████████████████| 18/18 [00:00<00:00, 131.16it/s]\n"
     ]
    },
    {
     "name": "stdout",
     "output_type": "stream",
     "text": [
      "lr:  0.0001\n",
      "Epoch 81: \n",
      " Train Loss\t0.4474 \n",
      " Val Loss\t0.7383 \n",
      " Val Acc\t0.6129 \n",
      " Val F1\t\t0.7500 \n",
      " Val AUC\t0.4238 \n",
      " Val GMean\t0.2928 \n",
      " Val MCC\t-0.0598\n"
     ]
    },
    {
     "name": "stderr",
     "output_type": "stream",
     "text": [
      "100%|███████████████████████████████████████████████████████████████████████████████████████████████████████████████████████████████████| 18/18 [00:00<00:00, 128.97it/s]\n"
     ]
    },
    {
     "name": "stdout",
     "output_type": "stream",
     "text": [
      "lr:  0.0001\n",
      "Epoch 82: \n",
      " Train Loss\t0.4451 \n",
      " Val Loss\t0.7402 \n",
      " Val Acc\t0.6129 \n",
      " Val F1\t\t0.7500 \n",
      " Val AUC\t0.4333 \n",
      " Val GMean\t0.2928 \n",
      " Val MCC\t-0.0598\n"
     ]
    },
    {
     "name": "stderr",
     "output_type": "stream",
     "text": [
      "100%|███████████████████████████████████████████████████████████████████████████████████████████████████████████████████████████████████| 18/18 [00:00<00:00, 130.14it/s]\n"
     ]
    },
    {
     "name": "stdout",
     "output_type": "stream",
     "text": [
      "lr:  0.0001\n",
      "Epoch 83: \n",
      " Train Loss\t0.4430 \n",
      " Val Loss\t0.7419 \n",
      " Val Acc\t0.6129 \n",
      " Val F1\t\t0.7500 \n",
      " Val AUC\t0.4286 \n",
      " Val GMean\t0.2928 \n",
      " Val MCC\t-0.0598\n"
     ]
    },
    {
     "name": "stderr",
     "output_type": "stream",
     "text": [
      "100%|███████████████████████████████████████████████████████████████████████████████████████████████████████████████████████████████████| 18/18 [00:00<00:00, 129.02it/s]\n"
     ]
    },
    {
     "name": "stdout",
     "output_type": "stream",
     "text": [
      "lr:  0.0001\n",
      "Epoch 84: \n",
      " Train Loss\t0.4409 \n",
      " Val Loss\t0.7436 \n",
      " Val Acc\t0.6129 \n",
      " Val F1\t\t0.7500 \n",
      " Val AUC\t0.4286 \n",
      " Val GMean\t0.2928 \n",
      " Val MCC\t-0.0598\n"
     ]
    },
    {
     "name": "stderr",
     "output_type": "stream",
     "text": [
      "100%|███████████████████████████████████████████████████████████████████████████████████████████████████████████████████████████████████| 18/18 [00:00<00:00, 130.32it/s]\n"
     ]
    },
    {
     "name": "stdout",
     "output_type": "stream",
     "text": [
      "lr:  0.0001\n",
      "Epoch 85: \n",
      " Train Loss\t0.4389 \n",
      " Val Loss\t0.7453 \n",
      " Val Acc\t0.6129 \n",
      " Val F1\t\t0.7500 \n",
      " Val AUC\t0.4238 \n",
      " Val GMean\t0.2928 \n",
      " Val MCC\t-0.0598\n"
     ]
    },
    {
     "name": "stderr",
     "output_type": "stream",
     "text": [
      "100%|███████████████████████████████████████████████████████████████████████████████████████████████████████████████████████████████████| 18/18 [00:00<00:00, 131.73it/s]\n"
     ]
    },
    {
     "name": "stdout",
     "output_type": "stream",
     "text": [
      "lr:  0.0001\n",
      "Epoch 86: \n",
      " Train Loss\t0.4369 \n",
      " Val Loss\t0.7471 \n",
      " Val Acc\t0.6129 \n",
      " Val F1\t\t0.7500 \n",
      " Val AUC\t0.4286 \n",
      " Val GMean\t0.2928 \n",
      " Val MCC\t-0.0598\n"
     ]
    },
    {
     "name": "stderr",
     "output_type": "stream",
     "text": [
      "100%|███████████████████████████████████████████████████████████████████████████████████████████████████████████████████████████████████| 18/18 [00:00<00:00, 126.80it/s]\n"
     ]
    },
    {
     "name": "stdout",
     "output_type": "stream",
     "text": [
      "lr:  0.0001\n",
      "Epoch 87: \n",
      " Train Loss\t0.4348 \n",
      " Val Loss\t0.7492 \n",
      " Val Acc\t0.6129 \n",
      " Val F1\t\t0.7500 \n",
      " Val AUC\t0.4286 \n",
      " Val GMean\t0.2928 \n",
      " Val MCC\t-0.0598\n"
     ]
    },
    {
     "name": "stderr",
     "output_type": "stream",
     "text": [
      "100%|███████████████████████████████████████████████████████████████████████████████████████████████████████████████████████████████████| 18/18 [00:00<00:00, 128.18it/s]\n"
     ]
    },
    {
     "name": "stdout",
     "output_type": "stream",
     "text": [
      "lr:  0.0001\n",
      "Epoch 88: \n",
      " Train Loss\t0.4330 \n",
      " Val Loss\t0.7515 \n",
      " Val Acc\t0.6452 \n",
      " Val F1\t\t0.7755 \n",
      " Val AUC\t0.4286 \n",
      " Val GMean\t0.3008 \n",
      " Val MCC\t0.0075\n"
     ]
    },
    {
     "name": "stderr",
     "output_type": "stream",
     "text": [
      "100%|███████████████████████████████████████████████████████████████████████████████████████████████████████████████████████████████████| 18/18 [00:00<00:00, 130.18it/s]\n"
     ]
    },
    {
     "name": "stdout",
     "output_type": "stream",
     "text": [
      "lr:  0.0001\n",
      "Epoch 89: \n",
      " Train Loss\t0.4311 \n",
      " Val Loss\t0.7534 \n",
      " Val Acc\t0.6129 \n",
      " Val F1\t\t0.7500 \n",
      " Val AUC\t0.4333 \n",
      " Val GMean\t0.2928 \n",
      " Val MCC\t-0.0598\n"
     ]
    },
    {
     "name": "stderr",
     "output_type": "stream",
     "text": [
      "100%|███████████████████████████████████████████████████████████████████████████████████████████████████████████████████████████████████| 18/18 [00:00<00:00, 135.77it/s]\n"
     ]
    },
    {
     "name": "stdout",
     "output_type": "stream",
     "text": [
      "lr:  0.0001\n",
      "Epoch 90: \n",
      " Train Loss\t0.4290 \n",
      " Val Loss\t0.7551 \n",
      " Val Acc\t0.5806 \n",
      " Val F1\t\t0.7234 \n",
      " Val AUC\t0.4524 \n",
      " Val GMean\t0.2845 \n",
      " Val MCC\t-0.1150\n"
     ]
    },
    {
     "name": "stderr",
     "output_type": "stream",
     "text": [
      "100%|███████████████████████████████████████████████████████████████████████████████████████████████████████████████████████████████████| 18/18 [00:00<00:00, 136.46it/s]\n"
     ]
    },
    {
     "name": "stdout",
     "output_type": "stream",
     "text": [
      "lr:  0.0001\n",
      "Epoch 91: \n",
      " Train Loss\t0.4267 \n",
      " Val Loss\t0.7568 \n",
      " Val Acc\t0.5806 \n",
      " Val F1\t\t0.7234 \n",
      " Val AUC\t0.4476 \n",
      " Val GMean\t0.2845 \n",
      " Val MCC\t-0.1150\n"
     ]
    },
    {
     "name": "stderr",
     "output_type": "stream",
     "text": [
      "100%|███████████████████████████████████████████████████████████████████████████████████████████████████████████████████████████████████| 18/18 [00:00<00:00, 138.25it/s]\n"
     ]
    },
    {
     "name": "stdout",
     "output_type": "stream",
     "text": [
      "lr:  0.0001\n",
      "Epoch 92: \n",
      " Train Loss\t0.4245 \n",
      " Val Loss\t0.7586 \n",
      " Val Acc\t0.6129 \n",
      " Val F1\t\t0.7500 \n",
      " Val AUC\t0.4429 \n",
      " Val GMean\t0.2928 \n",
      " Val MCC\t-0.0598\n"
     ]
    },
    {
     "name": "stderr",
     "output_type": "stream",
     "text": [
      "100%|███████████████████████████████████████████████████████████████████████████████████████████████████████████████████████████████████| 18/18 [00:00<00:00, 135.37it/s]\n"
     ]
    },
    {
     "name": "stdout",
     "output_type": "stream",
     "text": [
      "lr:  0.0001\n",
      "Epoch 93: \n",
      " Train Loss\t0.4224 \n",
      " Val Loss\t0.7605 \n",
      " Val Acc\t0.6129 \n",
      " Val F1\t\t0.7500 \n",
      " Val AUC\t0.4476 \n",
      " Val GMean\t0.2928 \n",
      " Val MCC\t-0.0598\n"
     ]
    },
    {
     "name": "stderr",
     "output_type": "stream",
     "text": [
      "100%|███████████████████████████████████████████████████████████████████████████████████████████████████████████████████████████████████| 18/18 [00:00<00:00, 136.89it/s]\n"
     ]
    },
    {
     "name": "stdout",
     "output_type": "stream",
     "text": [
      "lr:  0.0001\n",
      "Epoch 94: \n",
      " Train Loss\t0.4207 \n",
      " Val Loss\t0.7624 \n",
      " Val Acc\t0.6129 \n",
      " Val F1\t\t0.7500 \n",
      " Val AUC\t0.4476 \n",
      " Val GMean\t0.2928 \n",
      " Val MCC\t-0.0598\n"
     ]
    },
    {
     "name": "stderr",
     "output_type": "stream",
     "text": [
      "100%|███████████████████████████████████████████████████████████████████████████████████████████████████████████████████████████████████| 18/18 [00:00<00:00, 131.48it/s]\n"
     ]
    },
    {
     "name": "stdout",
     "output_type": "stream",
     "text": [
      "lr:  0.0001\n",
      "Epoch 95: \n",
      " Train Loss\t0.4186 \n",
      " Val Loss\t0.7643 \n",
      " Val Acc\t0.6129 \n",
      " Val F1\t\t0.7500 \n",
      " Val AUC\t0.4524 \n",
      " Val GMean\t0.2928 \n",
      " Val MCC\t-0.0598\n"
     ]
    },
    {
     "name": "stderr",
     "output_type": "stream",
     "text": [
      "100%|███████████████████████████████████████████████████████████████████████████████████████████████████████████████████████████████████| 18/18 [00:00<00:00, 134.93it/s]\n"
     ]
    },
    {
     "name": "stdout",
     "output_type": "stream",
     "text": [
      "lr:  0.0001\n",
      "Epoch 96: \n",
      " Train Loss\t0.4170 \n",
      " Val Loss\t0.7660 \n",
      " Val Acc\t0.5806 \n",
      " Val F1\t\t0.7234 \n",
      " Val AUC\t0.4476 \n",
      " Val GMean\t0.2845 \n",
      " Val MCC\t-0.1150\n"
     ]
    },
    {
     "name": "stderr",
     "output_type": "stream",
     "text": [
      "100%|███████████████████████████████████████████████████████████████████████████████████████████████████████████████████████████████████| 18/18 [00:00<00:00, 136.46it/s]\n"
     ]
    },
    {
     "name": "stdout",
     "output_type": "stream",
     "text": [
      "lr:  0.0001\n",
      "Epoch 97: \n",
      " Train Loss\t0.4147 \n",
      " Val Loss\t0.7677 \n",
      " Val Acc\t0.5806 \n",
      " Val F1\t\t0.7234 \n",
      " Val AUC\t0.4571 \n",
      " Val GMean\t0.2845 \n",
      " Val MCC\t-0.1150\n"
     ]
    },
    {
     "name": "stderr",
     "output_type": "stream",
     "text": [
      "100%|███████████████████████████████████████████████████████████████████████████████████████████████████████████████████████████████████| 18/18 [00:00<00:00, 123.83it/s]\n"
     ]
    },
    {
     "name": "stdout",
     "output_type": "stream",
     "text": [
      "lr:  0.0001\n",
      "Epoch 98: \n",
      " Train Loss\t0.4130 \n",
      " Val Loss\t0.7696 \n",
      " Val Acc\t0.6129 \n",
      " Val F1\t\t0.7500 \n",
      " Val AUC\t0.4571 \n",
      " Val GMean\t0.2928 \n",
      " Val MCC\t-0.0598\n"
     ]
    },
    {
     "name": "stderr",
     "output_type": "stream",
     "text": [
      "100%|███████████████████████████████████████████████████████████████████████████████████████████████████████████████████████████████████| 18/18 [00:00<00:00, 137.18it/s]\n"
     ]
    },
    {
     "name": "stdout",
     "output_type": "stream",
     "text": [
      "lr:  0.0001\n",
      "Epoch 99: \n",
      " Train Loss\t0.4113 \n",
      " Val Loss\t0.7716 \n",
      " Val Acc\t0.6129 \n",
      " Val F1\t\t0.7500 \n",
      " Val AUC\t0.4571 \n",
      " Val GMean\t0.2928 \n",
      " Val MCC\t-0.0598\n",
      "=========================================================\n",
      "fold 1 as val set\n",
      "model parameters:  418817\n"
     ]
    },
    {
     "name": "stderr",
     "output_type": "stream",
     "text": [
      "100%|███████████████████████████████████████████████████████████████████████████████████████████████████████████████████████████████████| 18/18 [00:00<00:00, 131.55it/s]\n"
     ]
    },
    {
     "name": "stdout",
     "output_type": "stream",
     "text": [
      "lr:  0.0001\n",
      "Epoch 0: \n",
      " Train Loss\t0.6406 \n",
      " Val Loss\t0.6539 \n",
      " Val Acc\t0.6452 \n",
      " Val F1\t\t0.7843 \n",
      " Val AUC\t0.7045 \n",
      " Val GMean\t0.0000 \n",
      " Val MCC\t0.0000\n"
     ]
    },
    {
     "name": "stderr",
     "output_type": "stream",
     "text": [
      "100%|███████████████████████████████████████████████████████████████████████████████████████████████████████████████████████████████████| 18/18 [00:00<00:00, 137.51it/s]\n"
     ]
    },
    {
     "name": "stdout",
     "output_type": "stream",
     "text": [
      "lr:  0.0001\n",
      "Epoch 1: \n",
      " Train Loss\t0.6096 \n",
      " Val Loss\t0.6642 \n",
      " Val Acc\t0.6452 \n",
      " Val F1\t\t0.7843 \n",
      " Val AUC\t0.6545 \n",
      " Val GMean\t0.0000 \n",
      " Val MCC\t0.0000\n"
     ]
    },
    {
     "name": "stderr",
     "output_type": "stream",
     "text": [
      "100%|███████████████████████████████████████████████████████████████████████████████████████████████████████████████████████████████████| 18/18 [00:00<00:00, 139.00it/s]\n"
     ]
    },
    {
     "name": "stdout",
     "output_type": "stream",
     "text": [
      "lr:  0.0001\n",
      "Epoch 2: \n",
      " Train Loss\t0.5996 \n",
      " Val Loss\t0.6665 \n",
      " Val Acc\t0.6452 \n",
      " Val F1\t\t0.7843 \n",
      " Val AUC\t0.6636 \n",
      " Val GMean\t0.0000 \n",
      " Val MCC\t0.0000\n"
     ]
    },
    {
     "name": "stderr",
     "output_type": "stream",
     "text": [
      "100%|███████████████████████████████████████████████████████████████████████████████████████████████████████████████████████████████████| 18/18 [00:00<00:00, 131.31it/s]\n"
     ]
    },
    {
     "name": "stdout",
     "output_type": "stream",
     "text": [
      "lr:  0.0001\n",
      "Epoch 3: \n",
      " Train Loss\t0.5941 \n",
      " Val Loss\t0.6665 \n",
      " Val Acc\t0.6452 \n",
      " Val F1\t\t0.7843 \n",
      " Val AUC\t0.6455 \n",
      " Val GMean\t0.0000 \n",
      " Val MCC\t0.0000\n"
     ]
    },
    {
     "name": "stderr",
     "output_type": "stream",
     "text": [
      "100%|███████████████████████████████████████████████████████████████████████████████████████████████████████████████████████████████████| 18/18 [00:00<00:00, 135.46it/s]\n"
     ]
    },
    {
     "name": "stdout",
     "output_type": "stream",
     "text": [
      "lr:  0.0001\n",
      "Epoch 4: \n",
      " Train Loss\t0.5907 \n",
      " Val Loss\t0.6665 \n",
      " Val Acc\t0.6452 \n",
      " Val F1\t\t0.7843 \n",
      " Val AUC\t0.6000 \n",
      " Val GMean\t0.0000 \n",
      " Val MCC\t0.0000\n"
     ]
    },
    {
     "name": "stderr",
     "output_type": "stream",
     "text": [
      "100%|███████████████████████████████████████████████████████████████████████████████████████████████████████████████████████████████████| 18/18 [00:00<00:00, 135.54it/s]\n"
     ]
    },
    {
     "name": "stdout",
     "output_type": "stream",
     "text": [
      "lr:  0.0001\n",
      "Epoch 5: \n",
      " Train Loss\t0.5883 \n",
      " Val Loss\t0.6665 \n",
      " Val Acc\t0.6452 \n",
      " Val F1\t\t0.7843 \n",
      " Val AUC\t0.5818 \n",
      " Val GMean\t0.0000 \n",
      " Val MCC\t0.0000\n"
     ]
    },
    {
     "name": "stderr",
     "output_type": "stream",
     "text": [
      "100%|███████████████████████████████████████████████████████████████████████████████████████████████████████████████████████████████████| 18/18 [00:00<00:00, 137.71it/s]\n"
     ]
    },
    {
     "name": "stdout",
     "output_type": "stream",
     "text": [
      "lr:  0.0001\n",
      "Epoch 6: \n",
      " Train Loss\t0.5865 \n",
      " Val Loss\t0.6664 \n",
      " Val Acc\t0.6452 \n",
      " Val F1\t\t0.7843 \n",
      " Val AUC\t0.5636 \n",
      " Val GMean\t0.0000 \n",
      " Val MCC\t0.0000\n"
     ]
    },
    {
     "name": "stderr",
     "output_type": "stream",
     "text": [
      "100%|███████████████████████████████████████████████████████████████████████████████████████████████████████████████████████████████████| 18/18 [00:00<00:00, 132.43it/s]\n"
     ]
    },
    {
     "name": "stdout",
     "output_type": "stream",
     "text": [
      "lr:  0.0001\n",
      "Epoch 7: \n",
      " Train Loss\t0.5850 \n",
      " Val Loss\t0.6664 \n",
      " Val Acc\t0.6452 \n",
      " Val F1\t\t0.7843 \n",
      " Val AUC\t0.5500 \n",
      " Val GMean\t0.0000 \n",
      " Val MCC\t0.0000\n"
     ]
    },
    {
     "name": "stderr",
     "output_type": "stream",
     "text": [
      "100%|███████████████████████████████████████████████████████████████████████████████████████████████████████████████████████████████████| 18/18 [00:00<00:00, 135.69it/s]\n"
     ]
    },
    {
     "name": "stdout",
     "output_type": "stream",
     "text": [
      "lr:  0.0001\n",
      "Epoch 8: \n",
      " Train Loss\t0.5837 \n",
      " Val Loss\t0.6663 \n",
      " Val Acc\t0.6452 \n",
      " Val F1\t\t0.7843 \n",
      " Val AUC\t0.5591 \n",
      " Val GMean\t0.0000 \n",
      " Val MCC\t0.0000\n"
     ]
    },
    {
     "name": "stderr",
     "output_type": "stream",
     "text": [
      "100%|███████████████████████████████████████████████████████████████████████████████████████████████████████████████████████████████████| 18/18 [00:00<00:00, 135.58it/s]\n"
     ]
    },
    {
     "name": "stdout",
     "output_type": "stream",
     "text": [
      "lr:  0.0001\n",
      "Epoch 9: \n",
      " Train Loss\t0.5825 \n",
      " Val Loss\t0.6663 \n",
      " Val Acc\t0.6452 \n",
      " Val F1\t\t0.7843 \n",
      " Val AUC\t0.5591 \n",
      " Val GMean\t0.0000 \n",
      " Val MCC\t0.0000\n"
     ]
    },
    {
     "name": "stderr",
     "output_type": "stream",
     "text": [
      "100%|███████████████████████████████████████████████████████████████████████████████████████████████████████████████████████████████████| 18/18 [00:00<00:00, 126.00it/s]\n"
     ]
    },
    {
     "name": "stdout",
     "output_type": "stream",
     "text": [
      "lr:  0.0001\n",
      "Epoch 10: \n",
      " Train Loss\t0.5816 \n",
      " Val Loss\t0.6663 \n",
      " Val Acc\t0.6452 \n",
      " Val F1\t\t0.7843 \n",
      " Val AUC\t0.5500 \n",
      " Val GMean\t0.0000 \n",
      " Val MCC\t0.0000\n"
     ]
    },
    {
     "name": "stderr",
     "output_type": "stream",
     "text": [
      "100%|███████████████████████████████████████████████████████████████████████████████████████████████████████████████████████████████████| 18/18 [00:00<00:00, 134.38it/s]\n"
     ]
    },
    {
     "name": "stdout",
     "output_type": "stream",
     "text": [
      "lr:  0.0001\n",
      "Epoch 11: \n",
      " Train Loss\t0.5808 \n",
      " Val Loss\t0.6662 \n",
      " Val Acc\t0.6452 \n",
      " Val F1\t\t0.7843 \n",
      " Val AUC\t0.5545 \n",
      " Val GMean\t0.0000 \n",
      " Val MCC\t0.0000\n"
     ]
    },
    {
     "name": "stderr",
     "output_type": "stream",
     "text": [
      "100%|███████████████████████████████████████████████████████████████████████████████████████████████████████████████████████████████████| 18/18 [00:00<00:00, 134.21it/s]\n"
     ]
    },
    {
     "name": "stdout",
     "output_type": "stream",
     "text": [
      "lr:  0.0001\n",
      "Epoch 12: \n",
      " Train Loss\t0.5800 \n",
      " Val Loss\t0.6661 \n",
      " Val Acc\t0.6452 \n",
      " Val F1\t\t0.7843 \n",
      " Val AUC\t0.5545 \n",
      " Val GMean\t0.0000 \n",
      " Val MCC\t0.0000\n"
     ]
    },
    {
     "name": "stderr",
     "output_type": "stream",
     "text": [
      "100%|███████████████████████████████████████████████████████████████████████████████████████████████████████████████████████████████████| 18/18 [00:00<00:00, 134.87it/s]\n"
     ]
    },
    {
     "name": "stdout",
     "output_type": "stream",
     "text": [
      "lr:  0.0001\n",
      "Epoch 13: \n",
      " Train Loss\t0.5793 \n",
      " Val Loss\t0.6660 \n",
      " Val Acc\t0.6452 \n",
      " Val F1\t\t0.7843 \n",
      " Val AUC\t0.5500 \n",
      " Val GMean\t0.0000 \n",
      " Val MCC\t0.0000\n"
     ]
    },
    {
     "name": "stderr",
     "output_type": "stream",
     "text": [
      "100%|███████████████████████████████████████████████████████████████████████████████████████████████████████████████████████████████████| 18/18 [00:00<00:00, 124.52it/s]\n"
     ]
    },
    {
     "name": "stdout",
     "output_type": "stream",
     "text": [
      "lr:  0.0001\n",
      "Epoch 14: \n",
      " Train Loss\t0.5785 \n",
      " Val Loss\t0.6659 \n",
      " Val Acc\t0.6452 \n",
      " Val F1\t\t0.7843 \n",
      " Val AUC\t0.5455 \n",
      " Val GMean\t0.0000 \n",
      " Val MCC\t0.0000\n"
     ]
    },
    {
     "name": "stderr",
     "output_type": "stream",
     "text": [
      "100%|███████████████████████████████████████████████████████████████████████████████████████████████████████████████████████████████████| 18/18 [00:00<00:00, 136.46it/s]\n"
     ]
    },
    {
     "name": "stdout",
     "output_type": "stream",
     "text": [
      "lr:  0.0001\n",
      "Epoch 15: \n",
      " Train Loss\t0.5778 \n",
      " Val Loss\t0.6658 \n",
      " Val Acc\t0.6452 \n",
      " Val F1\t\t0.7843 \n",
      " Val AUC\t0.5409 \n",
      " Val GMean\t0.0000 \n",
      " Val MCC\t0.0000\n"
     ]
    },
    {
     "name": "stderr",
     "output_type": "stream",
     "text": [
      "100%|███████████████████████████████████████████████████████████████████████████████████████████████████████████████████████████████████| 18/18 [00:00<00:00, 138.01it/s]\n"
     ]
    },
    {
     "name": "stdout",
     "output_type": "stream",
     "text": [
      "lr:  0.0001\n",
      "Epoch 16: \n",
      " Train Loss\t0.5771 \n",
      " Val Loss\t0.6657 \n",
      " Val Acc\t0.6452 \n",
      " Val F1\t\t0.7843 \n",
      " Val AUC\t0.5409 \n",
      " Val GMean\t0.0000 \n",
      " Val MCC\t0.0000\n"
     ]
    },
    {
     "name": "stderr",
     "output_type": "stream",
     "text": [
      "100%|███████████████████████████████████████████████████████████████████████████████████████████████████████████████████████████████████| 18/18 [00:00<00:00, 135.60it/s]\n"
     ]
    },
    {
     "name": "stdout",
     "output_type": "stream",
     "text": [
      "lr:  0.0001\n",
      "Epoch 17: \n",
      " Train Loss\t0.5764 \n",
      " Val Loss\t0.6656 \n",
      " Val Acc\t0.6452 \n",
      " Val F1\t\t0.7843 \n",
      " Val AUC\t0.5364 \n",
      " Val GMean\t0.0000 \n",
      " Val MCC\t0.0000\n"
     ]
    },
    {
     "name": "stderr",
     "output_type": "stream",
     "text": [
      "100%|███████████████████████████████████████████████████████████████████████████████████████████████████████████████████████████████████| 18/18 [00:00<00:00, 140.43it/s]\n"
     ]
    },
    {
     "name": "stdout",
     "output_type": "stream",
     "text": [
      "lr:  0.0001\n",
      "Epoch 18: \n",
      " Train Loss\t0.5757 \n",
      " Val Loss\t0.6655 \n",
      " Val Acc\t0.6452 \n",
      " Val F1\t\t0.7843 \n",
      " Val AUC\t0.5364 \n",
      " Val GMean\t0.0000 \n",
      " Val MCC\t0.0000\n"
     ]
    },
    {
     "name": "stderr",
     "output_type": "stream",
     "text": [
      "100%|███████████████████████████████████████████████████████████████████████████████████████████████████████████████████████████████████| 18/18 [00:00<00:00, 136.58it/s]\n"
     ]
    },
    {
     "name": "stdout",
     "output_type": "stream",
     "text": [
      "lr:  0.0001\n",
      "Epoch 19: \n",
      " Train Loss\t0.5749 \n",
      " Val Loss\t0.6654 \n",
      " Val Acc\t0.6452 \n",
      " Val F1\t\t0.7843 \n",
      " Val AUC\t0.5409 \n",
      " Val GMean\t0.0000 \n",
      " Val MCC\t0.0000\n"
     ]
    },
    {
     "name": "stderr",
     "output_type": "stream",
     "text": [
      "100%|███████████████████████████████████████████████████████████████████████████████████████████████████████████████████████████████████| 18/18 [00:00<00:00, 135.57it/s]\n"
     ]
    },
    {
     "name": "stdout",
     "output_type": "stream",
     "text": [
      "lr:  0.0001\n",
      "Epoch 20: \n",
      " Train Loss\t0.5741 \n",
      " Val Loss\t0.6653 \n",
      " Val Acc\t0.6452 \n",
      " Val F1\t\t0.7843 \n",
      " Val AUC\t0.5364 \n",
      " Val GMean\t0.0000 \n",
      " Val MCC\t0.0000\n"
     ]
    },
    {
     "name": "stderr",
     "output_type": "stream",
     "text": [
      "100%|███████████████████████████████████████████████████████████████████████████████████████████████████████████████████████████████████| 18/18 [00:00<00:00, 140.96it/s]\n"
     ]
    },
    {
     "name": "stdout",
     "output_type": "stream",
     "text": [
      "lr:  0.0001\n",
      "Epoch 21: \n",
      " Train Loss\t0.5733 \n",
      " Val Loss\t0.6653 \n",
      " Val Acc\t0.6452 \n",
      " Val F1\t\t0.7843 \n",
      " Val AUC\t0.5409 \n",
      " Val GMean\t0.0000 \n",
      " Val MCC\t0.0000\n"
     ]
    },
    {
     "name": "stderr",
     "output_type": "stream",
     "text": [
      "100%|███████████████████████████████████████████████████████████████████████████████████████████████████████████████████████████████████| 18/18 [00:00<00:00, 132.84it/s]\n"
     ]
    },
    {
     "name": "stdout",
     "output_type": "stream",
     "text": [
      "lr:  0.0001\n",
      "Epoch 22: \n",
      " Train Loss\t0.5725 \n",
      " Val Loss\t0.6652 \n",
      " Val Acc\t0.6452 \n",
      " Val F1\t\t0.7843 \n",
      " Val AUC\t0.5409 \n",
      " Val GMean\t0.0000 \n",
      " Val MCC\t0.0000\n"
     ]
    },
    {
     "name": "stderr",
     "output_type": "stream",
     "text": [
      "100%|███████████████████████████████████████████████████████████████████████████████████████████████████████████████████████████████████| 18/18 [00:00<00:00, 123.97it/s]\n"
     ]
    },
    {
     "name": "stdout",
     "output_type": "stream",
     "text": [
      "lr:  0.0001\n",
      "Epoch 23: \n",
      " Train Loss\t0.5717 \n",
      " Val Loss\t0.6652 \n",
      " Val Acc\t0.6452 \n",
      " Val F1\t\t0.7843 \n",
      " Val AUC\t0.5409 \n",
      " Val GMean\t0.0000 \n",
      " Val MCC\t0.0000\n"
     ]
    },
    {
     "name": "stderr",
     "output_type": "stream",
     "text": [
      "100%|███████████████████████████████████████████████████████████████████████████████████████████████████████████████████████████████████| 18/18 [00:00<00:00, 130.68it/s]\n"
     ]
    },
    {
     "name": "stdout",
     "output_type": "stream",
     "text": [
      "lr:  0.0001\n",
      "Epoch 24: \n",
      " Train Loss\t0.5708 \n",
      " Val Loss\t0.6651 \n",
      " Val Acc\t0.6452 \n",
      " Val F1\t\t0.7843 \n",
      " Val AUC\t0.5364 \n",
      " Val GMean\t0.0000 \n",
      " Val MCC\t0.0000\n"
     ]
    },
    {
     "name": "stderr",
     "output_type": "stream",
     "text": [
      "100%|███████████████████████████████████████████████████████████████████████████████████████████████████████████████████████████████████| 18/18 [00:00<00:00, 126.04it/s]\n"
     ]
    },
    {
     "name": "stdout",
     "output_type": "stream",
     "text": [
      "lr:  0.0001\n",
      "Epoch 25: \n",
      " Train Loss\t0.5700 \n",
      " Val Loss\t0.6652 \n",
      " Val Acc\t0.6452 \n",
      " Val F1\t\t0.7843 \n",
      " Val AUC\t0.5318 \n",
      " Val GMean\t0.0000 \n",
      " Val MCC\t0.0000\n"
     ]
    },
    {
     "name": "stderr",
     "output_type": "stream",
     "text": [
      "100%|███████████████████████████████████████████████████████████████████████████████████████████████████████████████████████████████████| 18/18 [00:00<00:00, 133.78it/s]\n"
     ]
    },
    {
     "name": "stdout",
     "output_type": "stream",
     "text": [
      "lr:  0.0001\n",
      "Epoch 26: \n",
      " Train Loss\t0.5691 \n",
      " Val Loss\t0.6652 \n",
      " Val Acc\t0.6452 \n",
      " Val F1\t\t0.7843 \n",
      " Val AUC\t0.5273 \n",
      " Val GMean\t0.0000 \n",
      " Val MCC\t0.0000\n"
     ]
    },
    {
     "name": "stderr",
     "output_type": "stream",
     "text": [
      "100%|███████████████████████████████████████████████████████████████████████████████████████████████████████████████████████████████████| 18/18 [00:00<00:00, 133.40it/s]\n"
     ]
    },
    {
     "name": "stdout",
     "output_type": "stream",
     "text": [
      "lr:  0.0001\n",
      "Epoch 27: \n",
      " Train Loss\t0.5681 \n",
      " Val Loss\t0.6652 \n",
      " Val Acc\t0.6452 \n",
      " Val F1\t\t0.7843 \n",
      " Val AUC\t0.5318 \n",
      " Val GMean\t0.0000 \n",
      " Val MCC\t0.0000\n"
     ]
    },
    {
     "name": "stderr",
     "output_type": "stream",
     "text": [
      "100%|███████████████████████████████████████████████████████████████████████████████████████████████████████████████████████████████████| 18/18 [00:00<00:00, 133.22it/s]\n"
     ]
    },
    {
     "name": "stdout",
     "output_type": "stream",
     "text": [
      "lr:  0.0001\n",
      "Epoch 28: \n",
      " Train Loss\t0.5671 \n",
      " Val Loss\t0.6652 \n",
      " Val Acc\t0.6452 \n",
      " Val F1\t\t0.7843 \n",
      " Val AUC\t0.5273 \n",
      " Val GMean\t0.0000 \n",
      " Val MCC\t0.0000\n"
     ]
    },
    {
     "name": "stderr",
     "output_type": "stream",
     "text": [
      "100%|███████████████████████████████████████████████████████████████████████████████████████████████████████████████████████████████████| 18/18 [00:00<00:00, 134.98it/s]\n"
     ]
    },
    {
     "name": "stdout",
     "output_type": "stream",
     "text": [
      "lr:  0.0001\n",
      "Epoch 29: \n",
      " Train Loss\t0.5662 \n",
      " Val Loss\t0.6653 \n",
      " Val Acc\t0.6452 \n",
      " Val F1\t\t0.7843 \n",
      " Val AUC\t0.5409 \n",
      " Val GMean\t0.0000 \n",
      " Val MCC\t0.0000\n"
     ]
    },
    {
     "name": "stderr",
     "output_type": "stream",
     "text": [
      "100%|███████████████████████████████████████████████████████████████████████████████████████████████████████████████████████████████████| 18/18 [00:00<00:00, 133.50it/s]\n"
     ]
    },
    {
     "name": "stdout",
     "output_type": "stream",
     "text": [
      "lr:  0.0001\n",
      "Epoch 30: \n",
      " Train Loss\t0.5651 \n",
      " Val Loss\t0.6654 \n",
      " Val Acc\t0.6452 \n",
      " Val F1\t\t0.7843 \n",
      " Val AUC\t0.5500 \n",
      " Val GMean\t0.0000 \n",
      " Val MCC\t0.0000\n"
     ]
    },
    {
     "name": "stderr",
     "output_type": "stream",
     "text": [
      "100%|███████████████████████████████████████████████████████████████████████████████████████████████████████████████████████████████████| 18/18 [00:00<00:00, 133.40it/s]\n"
     ]
    },
    {
     "name": "stdout",
     "output_type": "stream",
     "text": [
      "lr:  0.0001\n",
      "Epoch 31: \n",
      " Train Loss\t0.5640 \n",
      " Val Loss\t0.6655 \n",
      " Val Acc\t0.6452 \n",
      " Val F1\t\t0.7843 \n",
      " Val AUC\t0.5455 \n",
      " Val GMean\t0.0000 \n",
      " Val MCC\t0.0000\n"
     ]
    },
    {
     "name": "stderr",
     "output_type": "stream",
     "text": [
      "100%|███████████████████████████████████████████████████████████████████████████████████████████████████████████████████████████████████| 18/18 [00:00<00:00, 138.24it/s]\n"
     ]
    },
    {
     "name": "stdout",
     "output_type": "stream",
     "text": [
      "lr:  0.0001\n",
      "Epoch 32: \n",
      " Train Loss\t0.5629 \n",
      " Val Loss\t0.6656 \n",
      " Val Acc\t0.6452 \n",
      " Val F1\t\t0.7843 \n",
      " Val AUC\t0.5455 \n",
      " Val GMean\t0.0000 \n",
      " Val MCC\t0.0000\n"
     ]
    },
    {
     "name": "stderr",
     "output_type": "stream",
     "text": [
      "100%|███████████████████████████████████████████████████████████████████████████████████████████████████████████████████████████████████| 18/18 [00:00<00:00, 132.39it/s]\n"
     ]
    },
    {
     "name": "stdout",
     "output_type": "stream",
     "text": [
      "lr:  0.0001\n",
      "Epoch 33: \n",
      " Train Loss\t0.5618 \n",
      " Val Loss\t0.6657 \n",
      " Val Acc\t0.6452 \n",
      " Val F1\t\t0.7843 \n",
      " Val AUC\t0.5455 \n",
      " Val GMean\t0.0000 \n",
      " Val MCC\t0.0000\n"
     ]
    },
    {
     "name": "stderr",
     "output_type": "stream",
     "text": [
      "100%|███████████████████████████████████████████████████████████████████████████████████████████████████████████████████████████████████| 18/18 [00:00<00:00, 135.68it/s]\n"
     ]
    },
    {
     "name": "stdout",
     "output_type": "stream",
     "text": [
      "lr:  0.0001\n",
      "Epoch 34: \n",
      " Train Loss\t0.5606 \n",
      " Val Loss\t0.6658 \n",
      " Val Acc\t0.6452 \n",
      " Val F1\t\t0.7843 \n",
      " Val AUC\t0.5455 \n",
      " Val GMean\t0.0000 \n",
      " Val MCC\t0.0000\n"
     ]
    },
    {
     "name": "stderr",
     "output_type": "stream",
     "text": [
      "100%|███████████████████████████████████████████████████████████████████████████████████████████████████████████████████████████████████| 18/18 [00:00<00:00, 137.12it/s]\n"
     ]
    },
    {
     "name": "stdout",
     "output_type": "stream",
     "text": [
      "lr:  0.0001\n",
      "Epoch 35: \n",
      " Train Loss\t0.5593 \n",
      " Val Loss\t0.6660 \n",
      " Val Acc\t0.6452 \n",
      " Val F1\t\t0.7843 \n",
      " Val AUC\t0.5455 \n",
      " Val GMean\t0.0000 \n",
      " Val MCC\t0.0000\n"
     ]
    },
    {
     "name": "stderr",
     "output_type": "stream",
     "text": [
      "100%|███████████████████████████████████████████████████████████████████████████████████████████████████████████████████████████████████| 18/18 [00:00<00:00, 131.96it/s]\n"
     ]
    },
    {
     "name": "stdout",
     "output_type": "stream",
     "text": [
      "lr:  0.0001\n",
      "Epoch 36: \n",
      " Train Loss\t0.5581 \n",
      " Val Loss\t0.6662 \n",
      " Val Acc\t0.6452 \n",
      " Val F1\t\t0.7843 \n",
      " Val AUC\t0.5455 \n",
      " Val GMean\t0.0000 \n",
      " Val MCC\t0.0000\n"
     ]
    },
    {
     "name": "stderr",
     "output_type": "stream",
     "text": [
      "100%|███████████████████████████████████████████████████████████████████████████████████████████████████████████████████████████████████| 18/18 [00:00<00:00, 139.68it/s]\n"
     ]
    },
    {
     "name": "stdout",
     "output_type": "stream",
     "text": [
      "lr:  0.0001\n",
      "Epoch 37: \n",
      " Train Loss\t0.5568 \n",
      " Val Loss\t0.6663 \n",
      " Val Acc\t0.6452 \n",
      " Val F1\t\t0.7843 \n",
      " Val AUC\t0.5364 \n",
      " Val GMean\t0.0000 \n",
      " Val MCC\t0.0000\n"
     ]
    },
    {
     "name": "stderr",
     "output_type": "stream",
     "text": [
      "100%|███████████████████████████████████████████████████████████████████████████████████████████████████████████████████████████████████| 18/18 [00:00<00:00, 134.24it/s]\n"
     ]
    },
    {
     "name": "stdout",
     "output_type": "stream",
     "text": [
      "lr:  0.0001\n",
      "Epoch 38: \n",
      " Train Loss\t0.5556 \n",
      " Val Loss\t0.6664 \n",
      " Val Acc\t0.6452 \n",
      " Val F1\t\t0.7843 \n",
      " Val AUC\t0.5318 \n",
      " Val GMean\t0.0000 \n",
      " Val MCC\t0.0000\n"
     ]
    },
    {
     "name": "stderr",
     "output_type": "stream",
     "text": [
      "100%|███████████████████████████████████████████████████████████████████████████████████████████████████████████████████████████████████| 18/18 [00:00<00:00, 137.21it/s]\n"
     ]
    },
    {
     "name": "stdout",
     "output_type": "stream",
     "text": [
      "lr:  0.0001\n",
      "Epoch 39: \n",
      " Train Loss\t0.5542 \n",
      " Val Loss\t0.6667 \n",
      " Val Acc\t0.6452 \n",
      " Val F1\t\t0.7843 \n",
      " Val AUC\t0.5273 \n",
      " Val GMean\t0.0000 \n",
      " Val MCC\t0.0000\n"
     ]
    },
    {
     "name": "stderr",
     "output_type": "stream",
     "text": [
      "100%|███████████████████████████████████████████████████████████████████████████████████████████████████████████████████████████████████| 18/18 [00:00<00:00, 135.94it/s]\n"
     ]
    },
    {
     "name": "stdout",
     "output_type": "stream",
     "text": [
      "lr:  0.0001\n",
      "Epoch 40: \n",
      " Train Loss\t0.5527 \n",
      " Val Loss\t0.6668 \n",
      " Val Acc\t0.6452 \n",
      " Val F1\t\t0.7843 \n",
      " Val AUC\t0.5318 \n",
      " Val GMean\t0.0000 \n",
      " Val MCC\t0.0000\n"
     ]
    },
    {
     "name": "stderr",
     "output_type": "stream",
     "text": [
      "100%|███████████████████████████████████████████████████████████████████████████████████████████████████████████████████████████████████| 18/18 [00:00<00:00, 131.60it/s]\n"
     ]
    },
    {
     "name": "stdout",
     "output_type": "stream",
     "text": [
      "lr:  0.0001\n",
      "Epoch 41: \n",
      " Train Loss\t0.5514 \n",
      " Val Loss\t0.6670 \n",
      " Val Acc\t0.6452 \n",
      " Val F1\t\t0.7843 \n",
      " Val AUC\t0.5273 \n",
      " Val GMean\t0.0000 \n",
      " Val MCC\t0.0000\n"
     ]
    },
    {
     "name": "stderr",
     "output_type": "stream",
     "text": [
      "100%|███████████████████████████████████████████████████████████████████████████████████████████████████████████████████████████████████| 18/18 [00:00<00:00, 130.63it/s]\n"
     ]
    },
    {
     "name": "stdout",
     "output_type": "stream",
     "text": [
      "lr:  0.0001\n",
      "Epoch 42: \n",
      " Train Loss\t0.5499 \n",
      " Val Loss\t0.6674 \n",
      " Val Acc\t0.6452 \n",
      " Val F1\t\t0.7843 \n",
      " Val AUC\t0.5273 \n",
      " Val GMean\t0.0000 \n",
      " Val MCC\t0.0000\n"
     ]
    },
    {
     "name": "stderr",
     "output_type": "stream",
     "text": [
      "100%|███████████████████████████████████████████████████████████████████████████████████████████████████████████████████████████████████| 18/18 [00:00<00:00, 138.43it/s]\n"
     ]
    },
    {
     "name": "stdout",
     "output_type": "stream",
     "text": [
      "lr:  0.0001\n",
      "Epoch 43: \n",
      " Train Loss\t0.5482 \n",
      " Val Loss\t0.6677 \n",
      " Val Acc\t0.6452 \n",
      " Val F1\t\t0.7843 \n",
      " Val AUC\t0.5227 \n",
      " Val GMean\t0.0000 \n",
      " Val MCC\t0.0000\n"
     ]
    },
    {
     "name": "stderr",
     "output_type": "stream",
     "text": [
      "100%|███████████████████████████████████████████████████████████████████████████████████████████████████████████████████████████████████| 18/18 [00:00<00:00, 134.41it/s]\n"
     ]
    },
    {
     "name": "stdout",
     "output_type": "stream",
     "text": [
      "lr:  0.0001\n",
      "Epoch 44: \n",
      " Train Loss\t0.5467 \n",
      " Val Loss\t0.6681 \n",
      " Val Acc\t0.6452 \n",
      " Val F1\t\t0.7843 \n",
      " Val AUC\t0.5318 \n",
      " Val GMean\t0.0000 \n",
      " Val MCC\t0.0000\n"
     ]
    },
    {
     "name": "stderr",
     "output_type": "stream",
     "text": [
      "100%|███████████████████████████████████████████████████████████████████████████████████████████████████████████████████████████████████| 18/18 [00:00<00:00, 135.09it/s]\n"
     ]
    },
    {
     "name": "stdout",
     "output_type": "stream",
     "text": [
      "lr:  0.0001\n",
      "Epoch 45: \n",
      " Train Loss\t0.5451 \n",
      " Val Loss\t0.6684 \n",
      " Val Acc\t0.6452 \n",
      " Val F1\t\t0.7843 \n",
      " Val AUC\t0.5364 \n",
      " Val GMean\t0.0000 \n",
      " Val MCC\t0.0000\n"
     ]
    },
    {
     "name": "stderr",
     "output_type": "stream",
     "text": [
      "100%|███████████████████████████████████████████████████████████████████████████████████████████████████████████████████████████████████| 18/18 [00:00<00:00, 134.70it/s]\n"
     ]
    },
    {
     "name": "stdout",
     "output_type": "stream",
     "text": [
      "lr:  0.0001\n",
      "Epoch 46: \n",
      " Train Loss\t0.5433 \n",
      " Val Loss\t0.6689 \n",
      " Val Acc\t0.6452 \n",
      " Val F1\t\t0.7843 \n",
      " Val AUC\t0.5318 \n",
      " Val GMean\t0.0000 \n",
      " Val MCC\t0.0000\n"
     ]
    },
    {
     "name": "stderr",
     "output_type": "stream",
     "text": [
      "100%|███████████████████████████████████████████████████████████████████████████████████████████████████████████████████████████████████| 18/18 [00:00<00:00, 130.99it/s]\n"
     ]
    },
    {
     "name": "stdout",
     "output_type": "stream",
     "text": [
      "lr:  0.0001\n",
      "Epoch 47: \n",
      " Train Loss\t0.5414 \n",
      " Val Loss\t0.6695 \n",
      " Val Acc\t0.6452 \n",
      " Val F1\t\t0.7843 \n",
      " Val AUC\t0.5227 \n",
      " Val GMean\t0.0000 \n",
      " Val MCC\t0.0000\n"
     ]
    },
    {
     "name": "stderr",
     "output_type": "stream",
     "text": [
      "100%|███████████████████████████████████████████████████████████████████████████████████████████████████████████████████████████████████| 18/18 [00:00<00:00, 135.99it/s]\n"
     ]
    },
    {
     "name": "stdout",
     "output_type": "stream",
     "text": [
      "lr:  0.0001\n",
      "Epoch 48: \n",
      " Train Loss\t0.5394 \n",
      " Val Loss\t0.6702 \n",
      " Val Acc\t0.6452 \n",
      " Val F1\t\t0.7843 \n",
      " Val AUC\t0.5364 \n",
      " Val GMean\t0.0000 \n",
      " Val MCC\t0.0000\n"
     ]
    },
    {
     "name": "stderr",
     "output_type": "stream",
     "text": [
      "100%|███████████████████████████████████████████████████████████████████████████████████████████████████████████████████████████████████| 18/18 [00:00<00:00, 134.02it/s]\n"
     ]
    },
    {
     "name": "stdout",
     "output_type": "stream",
     "text": [
      "lr:  0.0001\n",
      "Epoch 49: \n",
      " Train Loss\t0.5375 \n",
      " Val Loss\t0.6708 \n",
      " Val Acc\t0.6452 \n",
      " Val F1\t\t0.7843 \n",
      " Val AUC\t0.5364 \n",
      " Val GMean\t0.0000 \n",
      " Val MCC\t0.0000\n"
     ]
    },
    {
     "name": "stderr",
     "output_type": "stream",
     "text": [
      "100%|███████████████████████████████████████████████████████████████████████████████████████████████████████████████████████████████████| 18/18 [00:00<00:00, 136.61it/s]\n"
     ]
    },
    {
     "name": "stdout",
     "output_type": "stream",
     "text": [
      "lr:  0.0001\n",
      "Epoch 50: \n",
      " Train Loss\t0.5354 \n",
      " Val Loss\t0.6719 \n",
      " Val Acc\t0.6452 \n",
      " Val F1\t\t0.7843 \n",
      " Val AUC\t0.5364 \n",
      " Val GMean\t0.0000 \n",
      " Val MCC\t0.0000\n"
     ]
    },
    {
     "name": "stderr",
     "output_type": "stream",
     "text": [
      "100%|███████████████████████████████████████████████████████████████████████████████████████████████████████████████████████████████████| 18/18 [00:00<00:00, 138.62it/s]\n"
     ]
    },
    {
     "name": "stdout",
     "output_type": "stream",
     "text": [
      "lr:  0.0001\n",
      "Epoch 51: \n",
      " Train Loss\t0.5334 \n",
      " Val Loss\t0.6727 \n",
      " Val Acc\t0.6452 \n",
      " Val F1\t\t0.7843 \n",
      " Val AUC\t0.5318 \n",
      " Val GMean\t0.0000 \n",
      " Val MCC\t0.0000\n"
     ]
    },
    {
     "name": "stderr",
     "output_type": "stream",
     "text": [
      "100%|███████████████████████████████████████████████████████████████████████████████████████████████████████████████████████████████████| 18/18 [00:00<00:00, 130.13it/s]\n"
     ]
    },
    {
     "name": "stdout",
     "output_type": "stream",
     "text": [
      "lr:  0.0001\n",
      "Epoch 52: \n",
      " Train Loss\t0.5313 \n",
      " Val Loss\t0.6738 \n",
      " Val Acc\t0.6452 \n",
      " Val F1\t\t0.7843 \n",
      " Val AUC\t0.5227 \n",
      " Val GMean\t0.0000 \n",
      " Val MCC\t0.0000\n"
     ]
    },
    {
     "name": "stderr",
     "output_type": "stream",
     "text": [
      "100%|███████████████████████████████████████████████████████████████████████████████████████████████████████████████████████████████████| 18/18 [00:00<00:00, 130.59it/s]\n"
     ]
    },
    {
     "name": "stdout",
     "output_type": "stream",
     "text": [
      "lr:  0.0001\n",
      "Epoch 53: \n",
      " Train Loss\t0.5290 \n",
      " Val Loss\t0.6750 \n",
      " Val Acc\t0.6452 \n",
      " Val F1\t\t0.7843 \n",
      " Val AUC\t0.5182 \n",
      " Val GMean\t0.0000 \n",
      " Val MCC\t0.0000\n"
     ]
    },
    {
     "name": "stderr",
     "output_type": "stream",
     "text": [
      "100%|███████████████████████████████████████████████████████████████████████████████████████████████████████████████████████████████████| 18/18 [00:00<00:00, 129.79it/s]\n"
     ]
    },
    {
     "name": "stdout",
     "output_type": "stream",
     "text": [
      "lr:  0.0001\n",
      "Epoch 54: \n",
      " Train Loss\t0.5268 \n",
      " Val Loss\t0.6759 \n",
      " Val Acc\t0.6452 \n",
      " Val F1\t\t0.7843 \n",
      " Val AUC\t0.5182 \n",
      " Val GMean\t0.0000 \n",
      " Val MCC\t0.0000\n"
     ]
    },
    {
     "name": "stderr",
     "output_type": "stream",
     "text": [
      "100%|███████████████████████████████████████████████████████████████████████████████████████████████████████████████████████████████████| 18/18 [00:00<00:00, 132.58it/s]\n"
     ]
    },
    {
     "name": "stdout",
     "output_type": "stream",
     "text": [
      "lr:  0.0001\n",
      "Epoch 55: \n",
      " Train Loss\t0.5248 \n",
      " Val Loss\t0.6776 \n",
      " Val Acc\t0.6452 \n",
      " Val F1\t\t0.7843 \n",
      " Val AUC\t0.5182 \n",
      " Val GMean\t0.0000 \n",
      " Val MCC\t0.0000\n"
     ]
    },
    {
     "name": "stderr",
     "output_type": "stream",
     "text": [
      "100%|███████████████████████████████████████████████████████████████████████████████████████████████████████████████████████████████████| 18/18 [00:00<00:00, 135.65it/s]\n"
     ]
    },
    {
     "name": "stdout",
     "output_type": "stream",
     "text": [
      "lr:  0.0001\n",
      "Epoch 56: \n",
      " Train Loss\t0.5228 \n",
      " Val Loss\t0.6788 \n",
      " Val Acc\t0.6452 \n",
      " Val F1\t\t0.7843 \n",
      " Val AUC\t0.5273 \n",
      " Val GMean\t0.0000 \n",
      " Val MCC\t0.0000\n"
     ]
    },
    {
     "name": "stderr",
     "output_type": "stream",
     "text": [
      "100%|███████████████████████████████████████████████████████████████████████████████████████████████████████████████████████████████████| 18/18 [00:00<00:00, 136.38it/s]\n"
     ]
    },
    {
     "name": "stdout",
     "output_type": "stream",
     "text": [
      "lr:  0.0001\n",
      "Epoch 57: \n",
      " Train Loss\t0.5206 \n",
      " Val Loss\t0.6802 \n",
      " Val Acc\t0.6452 \n",
      " Val F1\t\t0.7843 \n",
      " Val AUC\t0.5227 \n",
      " Val GMean\t0.0000 \n",
      " Val MCC\t0.0000\n"
     ]
    },
    {
     "name": "stderr",
     "output_type": "stream",
     "text": [
      "100%|███████████████████████████████████████████████████████████████████████████████████████████████████████████████████████████████████| 18/18 [00:00<00:00, 138.80it/s]\n"
     ]
    },
    {
     "name": "stdout",
     "output_type": "stream",
     "text": [
      "lr:  0.0001\n",
      "Epoch 58: \n",
      " Train Loss\t0.5184 \n",
      " Val Loss\t0.6815 \n",
      " Val Acc\t0.6452 \n",
      " Val F1\t\t0.7843 \n",
      " Val AUC\t0.5045 \n",
      " Val GMean\t0.0000 \n",
      " Val MCC\t0.0000\n"
     ]
    },
    {
     "name": "stderr",
     "output_type": "stream",
     "text": [
      "100%|███████████████████████████████████████████████████████████████████████████████████████████████████████████████████████████████████| 18/18 [00:00<00:00, 131.54it/s]\n"
     ]
    },
    {
     "name": "stdout",
     "output_type": "stream",
     "text": [
      "lr:  0.0001\n",
      "Epoch 59: \n",
      " Train Loss\t0.5159 \n",
      " Val Loss\t0.6827 \n",
      " Val Acc\t0.6452 \n",
      " Val F1\t\t0.7843 \n",
      " Val AUC\t0.5000 \n",
      " Val GMean\t0.0000 \n",
      " Val MCC\t0.0000\n"
     ]
    },
    {
     "name": "stderr",
     "output_type": "stream",
     "text": [
      "100%|███████████████████████████████████████████████████████████████████████████████████████████████████████████████████████████████████| 18/18 [00:00<00:00, 133.67it/s]\n"
     ]
    },
    {
     "name": "stdout",
     "output_type": "stream",
     "text": [
      "lr:  0.0001\n",
      "Epoch 60: \n",
      " Train Loss\t0.5136 \n",
      " Val Loss\t0.6843 \n",
      " Val Acc\t0.6452 \n",
      " Val F1\t\t0.7843 \n",
      " Val AUC\t0.4955 \n",
      " Val GMean\t0.0000 \n",
      " Val MCC\t0.0000\n"
     ]
    },
    {
     "name": "stderr",
     "output_type": "stream",
     "text": [
      "100%|███████████████████████████████████████████████████████████████████████████████████████████████████████████████████████████████████| 18/18 [00:00<00:00, 136.19it/s]\n"
     ]
    },
    {
     "name": "stdout",
     "output_type": "stream",
     "text": [
      "lr:  0.0001\n",
      "Epoch 61: \n",
      " Train Loss\t0.5110 \n",
      " Val Loss\t0.6859 \n",
      " Val Acc\t0.6452 \n",
      " Val F1\t\t0.7843 \n",
      " Val AUC\t0.4864 \n",
      " Val GMean\t0.0000 \n",
      " Val MCC\t0.0000\n"
     ]
    },
    {
     "name": "stderr",
     "output_type": "stream",
     "text": [
      "100%|███████████████████████████████████████████████████████████████████████████████████████████████████████████████████████████████████| 18/18 [00:00<00:00, 134.11it/s]\n"
     ]
    },
    {
     "name": "stdout",
     "output_type": "stream",
     "text": [
      "lr:  0.0001\n",
      "Epoch 62: \n",
      " Train Loss\t0.5085 \n",
      " Val Loss\t0.6878 \n",
      " Val Acc\t0.6452 \n",
      " Val F1\t\t0.7843 \n",
      " Val AUC\t0.4773 \n",
      " Val GMean\t0.0000 \n",
      " Val MCC\t0.0000\n"
     ]
    },
    {
     "name": "stderr",
     "output_type": "stream",
     "text": [
      "100%|███████████████████████████████████████████████████████████████████████████████████████████████████████████████████████████████████| 18/18 [00:00<00:00, 127.85it/s]\n"
     ]
    },
    {
     "name": "stdout",
     "output_type": "stream",
     "text": [
      "lr:  0.0001\n",
      "Epoch 63: \n",
      " Train Loss\t0.5065 \n",
      " Val Loss\t0.6895 \n",
      " Val Acc\t0.6452 \n",
      " Val F1\t\t0.7843 \n",
      " Val AUC\t0.4682 \n",
      " Val GMean\t0.0000 \n",
      " Val MCC\t0.0000\n"
     ]
    },
    {
     "name": "stderr",
     "output_type": "stream",
     "text": [
      "100%|███████████████████████████████████████████████████████████████████████████████████████████████████████████████████████████████████| 18/18 [00:00<00:00, 137.63it/s]\n"
     ]
    },
    {
     "name": "stdout",
     "output_type": "stream",
     "text": [
      "lr:  0.0001\n",
      "Epoch 64: \n",
      " Train Loss\t0.5039 \n",
      " Val Loss\t0.6915 \n",
      " Val Acc\t0.6452 \n",
      " Val F1\t\t0.7843 \n",
      " Val AUC\t0.4682 \n",
      " Val GMean\t0.0000 \n",
      " Val MCC\t0.0000\n"
     ]
    },
    {
     "name": "stderr",
     "output_type": "stream",
     "text": [
      "100%|███████████████████████████████████████████████████████████████████████████████████████████████████████████████████████████████████| 18/18 [00:00<00:00, 131.17it/s]\n"
     ]
    },
    {
     "name": "stdout",
     "output_type": "stream",
     "text": [
      "lr:  0.0001\n",
      "Epoch 65: \n",
      " Train Loss\t0.5016 \n",
      " Val Loss\t0.6934 \n",
      " Val Acc\t0.6452 \n",
      " Val F1\t\t0.7843 \n",
      " Val AUC\t0.4773 \n",
      " Val GMean\t0.0000 \n",
      " Val MCC\t0.0000\n"
     ]
    },
    {
     "name": "stderr",
     "output_type": "stream",
     "text": [
      "100%|███████████████████████████████████████████████████████████████████████████████████████████████████████████████████████████████████| 18/18 [00:00<00:00, 131.56it/s]\n"
     ]
    },
    {
     "name": "stdout",
     "output_type": "stream",
     "text": [
      "lr:  0.0001\n",
      "Epoch 66: \n",
      " Train Loss\t0.4989 \n",
      " Val Loss\t0.6954 \n",
      " Val Acc\t0.6452 \n",
      " Val F1\t\t0.7843 \n",
      " Val AUC\t0.4636 \n",
      " Val GMean\t0.0000 \n",
      " Val MCC\t0.0000\n"
     ]
    },
    {
     "name": "stderr",
     "output_type": "stream",
     "text": [
      "100%|███████████████████████████████████████████████████████████████████████████████████████████████████████████████████████████████████| 18/18 [00:00<00:00, 132.78it/s]\n"
     ]
    },
    {
     "name": "stdout",
     "output_type": "stream",
     "text": [
      "lr:  0.0001\n",
      "Epoch 67: \n",
      " Train Loss\t0.4964 \n",
      " Val Loss\t0.6979 \n",
      " Val Acc\t0.6452 \n",
      " Val F1\t\t0.7843 \n",
      " Val AUC\t0.4591 \n",
      " Val GMean\t0.0000 \n",
      " Val MCC\t0.0000\n"
     ]
    },
    {
     "name": "stderr",
     "output_type": "stream",
     "text": [
      "100%|███████████████████████████████████████████████████████████████████████████████████████████████████████████████████████████████████| 18/18 [00:00<00:00, 133.68it/s]\n"
     ]
    },
    {
     "name": "stdout",
     "output_type": "stream",
     "text": [
      "lr:  0.0001\n",
      "Epoch 68: \n",
      " Train Loss\t0.4942 \n",
      " Val Loss\t0.7003 \n",
      " Val Acc\t0.6452 \n",
      " Val F1\t\t0.7843 \n",
      " Val AUC\t0.4636 \n",
      " Val GMean\t0.0000 \n",
      " Val MCC\t0.0000\n"
     ]
    },
    {
     "name": "stderr",
     "output_type": "stream",
     "text": [
      "100%|███████████████████████████████████████████████████████████████████████████████████████████████████████████████████████████████████| 18/18 [00:00<00:00, 128.02it/s]\n"
     ]
    },
    {
     "name": "stdout",
     "output_type": "stream",
     "text": [
      "lr:  0.0001\n",
      "Epoch 69: \n",
      " Train Loss\t0.4921 \n",
      " Val Loss\t0.7026 \n",
      " Val Acc\t0.6452 \n",
      " Val F1\t\t0.7843 \n",
      " Val AUC\t0.4591 \n",
      " Val GMean\t0.0000 \n",
      " Val MCC\t0.0000\n"
     ]
    },
    {
     "name": "stderr",
     "output_type": "stream",
     "text": [
      "100%|███████████████████████████████████████████████████████████████████████████████████████████████████████████████████████████████████| 18/18 [00:00<00:00, 132.09it/s]\n"
     ]
    },
    {
     "name": "stdout",
     "output_type": "stream",
     "text": [
      "lr:  0.0001\n",
      "Epoch 70: \n",
      " Train Loss\t0.4899 \n",
      " Val Loss\t0.7047 \n",
      " Val Acc\t0.6129 \n",
      " Val F1\t\t0.7600 \n",
      " Val AUC\t0.4591 \n",
      " Val GMean\t0.0000 \n",
      " Val MCC\t-0.1354\n"
     ]
    },
    {
     "name": "stderr",
     "output_type": "stream",
     "text": [
      "100%|███████████████████████████████████████████████████████████████████████████████████████████████████████████████████████████████████| 18/18 [00:00<00:00, 125.16it/s]\n"
     ]
    },
    {
     "name": "stdout",
     "output_type": "stream",
     "text": [
      "lr:  0.0001\n",
      "Epoch 71: \n",
      " Train Loss\t0.4877 \n",
      " Val Loss\t0.7071 \n",
      " Val Acc\t0.6452 \n",
      " Val F1\t\t0.7843 \n",
      " Val AUC\t0.4364 \n",
      " Val GMean\t0.0000 \n",
      " Val MCC\t0.0000\n"
     ]
    },
    {
     "name": "stderr",
     "output_type": "stream",
     "text": [
      "100%|███████████████████████████████████████████████████████████████████████████████████████████████████████████████████████████████████| 18/18 [00:00<00:00, 126.70it/s]\n"
     ]
    },
    {
     "name": "stdout",
     "output_type": "stream",
     "text": [
      "lr:  0.0001\n",
      "Epoch 72: \n",
      " Train Loss\t0.4857 \n",
      " Val Loss\t0.7097 \n",
      " Val Acc\t0.6452 \n",
      " Val F1\t\t0.7843 \n",
      " Val AUC\t0.4409 \n",
      " Val GMean\t0.0000 \n",
      " Val MCC\t0.0000\n"
     ]
    },
    {
     "name": "stderr",
     "output_type": "stream",
     "text": [
      "100%|███████████████████████████████████████████████████████████████████████████████████████████████████████████████████████████████████| 18/18 [00:00<00:00, 134.84it/s]\n"
     ]
    },
    {
     "name": "stdout",
     "output_type": "stream",
     "text": [
      "lr:  0.0001\n",
      "Epoch 73: \n",
      " Train Loss\t0.4832 \n",
      " Val Loss\t0.7126 \n",
      " Val Acc\t0.6452 \n",
      " Val F1\t\t0.7843 \n",
      " Val AUC\t0.4455 \n",
      " Val GMean\t0.0000 \n",
      " Val MCC\t0.0000\n"
     ]
    },
    {
     "name": "stderr",
     "output_type": "stream",
     "text": [
      "100%|███████████████████████████████████████████████████████████████████████████████████████████████████████████████████████████████████| 18/18 [00:00<00:00, 128.43it/s]\n"
     ]
    },
    {
     "name": "stdout",
     "output_type": "stream",
     "text": [
      "lr:  0.0001\n",
      "Epoch 74: \n",
      " Train Loss\t0.4810 \n",
      " Val Loss\t0.7152 \n",
      " Val Acc\t0.6452 \n",
      " Val F1\t\t0.7843 \n",
      " Val AUC\t0.4455 \n",
      " Val GMean\t0.0000 \n",
      " Val MCC\t0.0000\n"
     ]
    },
    {
     "name": "stderr",
     "output_type": "stream",
     "text": [
      "100%|███████████████████████████████████████████████████████████████████████████████████████████████████████████████████████████████████| 18/18 [00:00<00:00, 128.88it/s]\n"
     ]
    },
    {
     "name": "stdout",
     "output_type": "stream",
     "text": [
      "lr:  0.0001\n",
      "Epoch 75: \n",
      " Train Loss\t0.4790 \n",
      " Val Loss\t0.7176 \n",
      " Val Acc\t0.6129 \n",
      " Val F1\t\t0.7600 \n",
      " Val AUC\t0.4455 \n",
      " Val GMean\t0.0000 \n",
      " Val MCC\t-0.1354\n"
     ]
    },
    {
     "name": "stderr",
     "output_type": "stream",
     "text": [
      "100%|███████████████████████████████████████████████████████████████████████████████████████████████████████████████████████████████████| 18/18 [00:00<00:00, 134.87it/s]\n"
     ]
    },
    {
     "name": "stdout",
     "output_type": "stream",
     "text": [
      "lr:  0.0001\n",
      "Epoch 76: \n",
      " Train Loss\t0.4764 \n",
      " Val Loss\t0.7205 \n",
      " Val Acc\t0.6452 \n",
      " Val F1\t\t0.7843 \n",
      " Val AUC\t0.4364 \n",
      " Val GMean\t0.0000 \n",
      " Val MCC\t0.0000\n"
     ]
    },
    {
     "name": "stderr",
     "output_type": "stream",
     "text": [
      "100%|███████████████████████████████████████████████████████████████████████████████████████████████████████████████████████████████████| 18/18 [00:00<00:00, 125.85it/s]\n"
     ]
    },
    {
     "name": "stdout",
     "output_type": "stream",
     "text": [
      "lr:  0.0001\n",
      "Epoch 77: \n",
      " Train Loss\t0.4743 \n",
      " Val Loss\t0.7237 \n",
      " Val Acc\t0.6452 \n",
      " Val F1\t\t0.7843 \n",
      " Val AUC\t0.4273 \n",
      " Val GMean\t0.0000 \n",
      " Val MCC\t0.0000\n"
     ]
    },
    {
     "name": "stderr",
     "output_type": "stream",
     "text": [
      "100%|███████████████████████████████████████████████████████████████████████████████████████████████████████████████████████████████████| 18/18 [00:00<00:00, 135.52it/s]\n"
     ]
    },
    {
     "name": "stdout",
     "output_type": "stream",
     "text": [
      "lr:  0.0001\n",
      "Epoch 78: \n",
      " Train Loss\t0.4718 \n",
      " Val Loss\t0.7267 \n",
      " Val Acc\t0.6452 \n",
      " Val F1\t\t0.7843 \n",
      " Val AUC\t0.4273 \n",
      " Val GMean\t0.0000 \n",
      " Val MCC\t0.0000\n"
     ]
    },
    {
     "name": "stderr",
     "output_type": "stream",
     "text": [
      "100%|███████████████████████████████████████████████████████████████████████████████████████████████████████████████████████████████████| 18/18 [00:00<00:00, 133.10it/s]\n"
     ]
    },
    {
     "name": "stdout",
     "output_type": "stream",
     "text": [
      "lr:  0.0001\n",
      "Epoch 79: \n",
      " Train Loss\t0.4696 \n",
      " Val Loss\t0.7296 \n",
      " Val Acc\t0.6129 \n",
      " Val F1\t\t0.7600 \n",
      " Val AUC\t0.4273 \n",
      " Val GMean\t0.0000 \n",
      " Val MCC\t-0.1354\n"
     ]
    },
    {
     "name": "stderr",
     "output_type": "stream",
     "text": [
      "100%|███████████████████████████████████████████████████████████████████████████████████████████████████████████████████████████████████| 18/18 [00:00<00:00, 133.46it/s]\n"
     ]
    },
    {
     "name": "stdout",
     "output_type": "stream",
     "text": [
      "lr:  0.0001\n",
      "Epoch 80: \n",
      " Train Loss\t0.4672 \n",
      " Val Loss\t0.7327 \n",
      " Val Acc\t0.6452 \n",
      " Val F1\t\t0.7843 \n",
      " Val AUC\t0.4318 \n",
      " Val GMean\t0.0000 \n",
      " Val MCC\t0.0000\n"
     ]
    },
    {
     "name": "stderr",
     "output_type": "stream",
     "text": [
      "100%|███████████████████████████████████████████████████████████████████████████████████████████████████████████████████████████████████| 18/18 [00:00<00:00, 128.63it/s]\n"
     ]
    },
    {
     "name": "stdout",
     "output_type": "stream",
     "text": [
      "lr:  0.0001\n",
      "Epoch 81: \n",
      " Train Loss\t0.4652 \n",
      " Val Loss\t0.7354 \n",
      " Val Acc\t0.6129 \n",
      " Val F1\t\t0.7600 \n",
      " Val AUC\t0.4227 \n",
      " Val GMean\t0.0000 \n",
      " Val MCC\t-0.1354\n"
     ]
    },
    {
     "name": "stderr",
     "output_type": "stream",
     "text": [
      "100%|███████████████████████████████████████████████████████████████████████████████████████████████████████████████████████████████████| 18/18 [00:00<00:00, 121.09it/s]\n"
     ]
    },
    {
     "name": "stdout",
     "output_type": "stream",
     "text": [
      "lr:  0.0001\n",
      "Epoch 82: \n",
      " Train Loss\t0.4629 \n",
      " Val Loss\t0.7384 \n",
      " Val Acc\t0.6452 \n",
      " Val F1\t\t0.7843 \n",
      " Val AUC\t0.4227 \n",
      " Val GMean\t0.0000 \n",
      " Val MCC\t0.0000\n"
     ]
    },
    {
     "name": "stderr",
     "output_type": "stream",
     "text": [
      "100%|███████████████████████████████████████████████████████████████████████████████████████████████████████████████████████████████████| 18/18 [00:00<00:00, 125.80it/s]\n"
     ]
    },
    {
     "name": "stdout",
     "output_type": "stream",
     "text": [
      "lr:  0.0001\n",
      "Epoch 83: \n",
      " Train Loss\t0.4607 \n",
      " Val Loss\t0.7409 \n",
      " Val Acc\t0.5806 \n",
      " Val F1\t\t0.7347 \n",
      " Val AUC\t0.4273 \n",
      " Val GMean\t0.0000 \n",
      " Val MCC\t-0.1948\n"
     ]
    },
    {
     "name": "stderr",
     "output_type": "stream",
     "text": [
      "100%|███████████████████████████████████████████████████████████████████████████████████████████████████████████████████████████████████| 18/18 [00:00<00:00, 132.36it/s]\n"
     ]
    },
    {
     "name": "stdout",
     "output_type": "stream",
     "text": [
      "lr:  0.0001\n",
      "Epoch 84: \n",
      " Train Loss\t0.4583 \n",
      " Val Loss\t0.7446 \n",
      " Val Acc\t0.6452 \n",
      " Val F1\t\t0.7843 \n",
      " Val AUC\t0.4273 \n",
      " Val GMean\t0.0000 \n",
      " Val MCC\t0.0000\n"
     ]
    },
    {
     "name": "stderr",
     "output_type": "stream",
     "text": [
      "100%|███████████████████████████████████████████████████████████████████████████████████████████████████████████████████████████████████| 18/18 [00:00<00:00, 132.64it/s]\n"
     ]
    },
    {
     "name": "stdout",
     "output_type": "stream",
     "text": [
      "lr:  0.0001\n",
      "Epoch 85: \n",
      " Train Loss\t0.4561 \n",
      " Val Loss\t0.7477 \n",
      " Val Acc\t0.6129 \n",
      " Val F1\t\t0.7600 \n",
      " Val AUC\t0.4182 \n",
      " Val GMean\t0.0000 \n",
      " Val MCC\t-0.1354\n"
     ]
    },
    {
     "name": "stderr",
     "output_type": "stream",
     "text": [
      "100%|███████████████████████████████████████████████████████████████████████████████████████████████████████████████████████████████████| 18/18 [00:00<00:00, 137.75it/s]\n"
     ]
    },
    {
     "name": "stdout",
     "output_type": "stream",
     "text": [
      "lr:  0.0001\n",
      "Epoch 86: \n",
      " Train Loss\t0.4540 \n",
      " Val Loss\t0.7504 \n",
      " Val Acc\t0.5484 \n",
      " Val F1\t\t0.7083 \n",
      " Val AUC\t0.4182 \n",
      " Val GMean\t0.0000 \n",
      " Val MCC\t-0.2428\n"
     ]
    },
    {
     "name": "stderr",
     "output_type": "stream",
     "text": [
      "100%|███████████████████████████████████████████████████████████████████████████████████████████████████████████████████████████████████| 18/18 [00:00<00:00, 134.65it/s]\n"
     ]
    },
    {
     "name": "stdout",
     "output_type": "stream",
     "text": [
      "lr:  0.0001\n",
      "Epoch 87: \n",
      " Train Loss\t0.4518 \n",
      " Val Loss\t0.7536 \n",
      " Val Acc\t0.6129 \n",
      " Val F1\t\t0.7600 \n",
      " Val AUC\t0.4182 \n",
      " Val GMean\t0.0000 \n",
      " Val MCC\t-0.1354\n"
     ]
    },
    {
     "name": "stderr",
     "output_type": "stream",
     "text": [
      "100%|███████████████████████████████████████████████████████████████████████████████████████████████████████████████████████████████████| 18/18 [00:00<00:00, 136.21it/s]\n"
     ]
    },
    {
     "name": "stdout",
     "output_type": "stream",
     "text": [
      "lr:  0.0001\n",
      "Epoch 88: \n",
      " Train Loss\t0.4499 \n",
      " Val Loss\t0.7568 \n",
      " Val Acc\t0.6129 \n",
      " Val F1\t\t0.7600 \n",
      " Val AUC\t0.4182 \n",
      " Val GMean\t0.0000 \n",
      " Val MCC\t-0.1354\n"
     ]
    },
    {
     "name": "stderr",
     "output_type": "stream",
     "text": [
      "100%|███████████████████████████████████████████████████████████████████████████████████████████████████████████████████████████████████| 18/18 [00:00<00:00, 133.44it/s]\n"
     ]
    },
    {
     "name": "stdout",
     "output_type": "stream",
     "text": [
      "lr:  0.0001\n",
      "Epoch 89: \n",
      " Train Loss\t0.4476 \n",
      " Val Loss\t0.7597 \n",
      " Val Acc\t0.5806 \n",
      " Val F1\t\t0.7347 \n",
      " Val AUC\t0.4182 \n",
      " Val GMean\t0.0000 \n",
      " Val MCC\t-0.1948\n"
     ]
    },
    {
     "name": "stderr",
     "output_type": "stream",
     "text": [
      "100%|███████████████████████████████████████████████████████████████████████████████████████████████████████████████████████████████████| 18/18 [00:00<00:00, 137.39it/s]\n"
     ]
    },
    {
     "name": "stdout",
     "output_type": "stream",
     "text": [
      "lr:  0.0001\n",
      "Epoch 90: \n",
      " Train Loss\t0.4457 \n",
      " Val Loss\t0.7637 \n",
      " Val Acc\t0.6452 \n",
      " Val F1\t\t0.7843 \n",
      " Val AUC\t0.4182 \n",
      " Val GMean\t0.0000 \n",
      " Val MCC\t0.0000\n"
     ]
    },
    {
     "name": "stderr",
     "output_type": "stream",
     "text": [
      "100%|███████████████████████████████████████████████████████████████████████████████████████████████████████████████████████████████████| 18/18 [00:00<00:00, 142.71it/s]\n"
     ]
    },
    {
     "name": "stdout",
     "output_type": "stream",
     "text": [
      "lr:  0.0001\n",
      "Epoch 91: \n",
      " Train Loss\t0.4438 \n",
      " Val Loss\t0.7670 \n",
      " Val Acc\t0.6452 \n",
      " Val F1\t\t0.7843 \n",
      " Val AUC\t0.4227 \n",
      " Val GMean\t0.0000 \n",
      " Val MCC\t0.0000\n"
     ]
    },
    {
     "name": "stderr",
     "output_type": "stream",
     "text": [
      "100%|███████████████████████████████████████████████████████████████████████████████████████████████████████████████████████████████████| 18/18 [00:00<00:00, 138.42it/s]\n"
     ]
    },
    {
     "name": "stdout",
     "output_type": "stream",
     "text": [
      "lr:  0.0001\n",
      "Epoch 92: \n",
      " Train Loss\t0.4419 \n",
      " Val Loss\t0.7698 \n",
      " Val Acc\t0.5806 \n",
      " Val F1\t\t0.7347 \n",
      " Val AUC\t0.4227 \n",
      " Val GMean\t0.0000 \n",
      " Val MCC\t-0.1948\n"
     ]
    },
    {
     "name": "stderr",
     "output_type": "stream",
     "text": [
      "100%|███████████████████████████████████████████████████████████████████████████████████████████████████████████████████████████████████| 18/18 [00:00<00:00, 132.14it/s]\n"
     ]
    },
    {
     "name": "stdout",
     "output_type": "stream",
     "text": [
      "lr:  0.0001\n",
      "Epoch 93: \n",
      " Train Loss\t0.4401 \n",
      " Val Loss\t0.7736 \n",
      " Val Acc\t0.6452 \n",
      " Val F1\t\t0.7843 \n",
      " Val AUC\t0.4318 \n",
      " Val GMean\t0.0000 \n",
      " Val MCC\t0.0000\n"
     ]
    },
    {
     "name": "stderr",
     "output_type": "stream",
     "text": [
      "100%|███████████████████████████████████████████████████████████████████████████████████████████████████████████████████████████████████| 18/18 [00:00<00:00, 138.87it/s]\n"
     ]
    },
    {
     "name": "stdout",
     "output_type": "stream",
     "text": [
      "lr:  0.0001\n",
      "Epoch 94: \n",
      " Train Loss\t0.4381 \n",
      " Val Loss\t0.7772 \n",
      " Val Acc\t0.6452 \n",
      " Val F1\t\t0.7843 \n",
      " Val AUC\t0.4273 \n",
      " Val GMean\t0.0000 \n",
      " Val MCC\t0.0000\n"
     ]
    },
    {
     "name": "stderr",
     "output_type": "stream",
     "text": [
      "100%|███████████████████████████████████████████████████████████████████████████████████████████████████████████████████████████████████| 18/18 [00:00<00:00, 135.62it/s]\n"
     ]
    },
    {
     "name": "stdout",
     "output_type": "stream",
     "text": [
      "lr:  0.0001\n",
      "Epoch 95: \n",
      " Train Loss\t0.4362 \n",
      " Val Loss\t0.7806 \n",
      " Val Acc\t0.6452 \n",
      " Val F1\t\t0.7843 \n",
      " Val AUC\t0.4273 \n",
      " Val GMean\t0.0000 \n",
      " Val MCC\t0.0000\n"
     ]
    },
    {
     "name": "stderr",
     "output_type": "stream",
     "text": [
      "100%|███████████████████████████████████████████████████████████████████████████████████████████████████████████████████████████████████| 18/18 [00:00<00:00, 137.75it/s]\n"
     ]
    },
    {
     "name": "stdout",
     "output_type": "stream",
     "text": [
      "lr:  0.0001\n",
      "Epoch 96: \n",
      " Train Loss\t0.4338 \n",
      " Val Loss\t0.7845 \n",
      " Val Acc\t0.6452 \n",
      " Val F1\t\t0.7843 \n",
      " Val AUC\t0.4364 \n",
      " Val GMean\t0.0000 \n",
      " Val MCC\t0.0000\n"
     ]
    },
    {
     "name": "stderr",
     "output_type": "stream",
     "text": [
      "100%|███████████████████████████████████████████████████████████████████████████████████████████████████████████████████████████████████| 18/18 [00:00<00:00, 140.18it/s]\n"
     ]
    },
    {
     "name": "stdout",
     "output_type": "stream",
     "text": [
      "lr:  0.0001\n",
      "Epoch 97: \n",
      " Train Loss\t0.4320 \n",
      " Val Loss\t0.7886 \n",
      " Val Acc\t0.6452 \n",
      " Val F1\t\t0.7843 \n",
      " Val AUC\t0.4227 \n",
      " Val GMean\t0.0000 \n",
      " Val MCC\t0.0000\n"
     ]
    },
    {
     "name": "stderr",
     "output_type": "stream",
     "text": [
      "100%|███████████████████████████████████████████████████████████████████████████████████████████████████████████████████████████████████| 18/18 [00:00<00:00, 135.85it/s]\n"
     ]
    },
    {
     "name": "stdout",
     "output_type": "stream",
     "text": [
      "lr:  0.0001\n",
      "Epoch 98: \n",
      " Train Loss\t0.4301 \n",
      " Val Loss\t0.7926 \n",
      " Val Acc\t0.6452 \n",
      " Val F1\t\t0.7843 \n",
      " Val AUC\t0.4091 \n",
      " Val GMean\t0.0000 \n",
      " Val MCC\t0.0000\n"
     ]
    },
    {
     "name": "stderr",
     "output_type": "stream",
     "text": [
      "100%|███████████████████████████████████████████████████████████████████████████████████████████████████████████████████████████████████| 18/18 [00:00<00:00, 135.77it/s]\n"
     ]
    },
    {
     "name": "stdout",
     "output_type": "stream",
     "text": [
      "lr:  0.0001\n",
      "Epoch 99: \n",
      " Train Loss\t0.4280 \n",
      " Val Loss\t0.7955 \n",
      " Val Acc\t0.5806 \n",
      " Val F1\t\t0.7347 \n",
      " Val AUC\t0.4136 \n",
      " Val GMean\t0.0000 \n",
      " Val MCC\t-0.1948\n",
      "=========================================================\n",
      "fold 2 as val set\n",
      "model parameters:  418817\n"
     ]
    },
    {
     "name": "stderr",
     "output_type": "stream",
     "text": [
      "100%|███████████████████████████████████████████████████████████████████████████████████████████████████████████████████████████████████| 18/18 [00:00<00:00, 139.63it/s]\n"
     ]
    },
    {
     "name": "stdout",
     "output_type": "stream",
     "text": [
      "lr:  0.0001\n",
      "Epoch 0: \n",
      " Train Loss\t0.6302 \n",
      " Val Loss\t0.5111 \n",
      " Val Acc\t0.8065 \n",
      " Val F1\t\t0.8929 \n",
      " Val AUC\t0.7000 \n",
      " Val GMean\t0.0000 \n",
      " Val MCC\t0.0000\n"
     ]
    },
    {
     "name": "stderr",
     "output_type": "stream",
     "text": [
      "100%|███████████████████████████████████████████████████████████████████████████████████████████████████████████████████████████████████| 18/18 [00:00<00:00, 136.34it/s]\n"
     ]
    },
    {
     "name": "stdout",
     "output_type": "stream",
     "text": [
      "lr:  0.0001\n",
      "Epoch 1: \n",
      " Train Loss\t0.6132 \n",
      " Val Loss\t0.5068 \n",
      " Val Acc\t0.8065 \n",
      " Val F1\t\t0.8929 \n",
      " Val AUC\t0.6800 \n",
      " Val GMean\t0.0000 \n",
      " Val MCC\t0.0000\n"
     ]
    },
    {
     "name": "stderr",
     "output_type": "stream",
     "text": [
      "100%|███████████████████████████████████████████████████████████████████████████████████████████████████████████████████████████████████| 18/18 [00:00<00:00, 129.52it/s]\n"
     ]
    },
    {
     "name": "stdout",
     "output_type": "stream",
     "text": [
      "lr:  0.0001\n",
      "Epoch 2: \n",
      " Train Loss\t0.6076 \n",
      " Val Loss\t0.5077 \n",
      " Val Acc\t0.8065 \n",
      " Val F1\t\t0.8929 \n",
      " Val AUC\t0.6333 \n",
      " Val GMean\t0.0000 \n",
      " Val MCC\t0.0000\n"
     ]
    },
    {
     "name": "stderr",
     "output_type": "stream",
     "text": [
      "100%|███████████████████████████████████████████████████████████████████████████████████████████████████████████████████████████████████| 18/18 [00:00<00:00, 123.25it/s]\n"
     ]
    },
    {
     "name": "stdout",
     "output_type": "stream",
     "text": [
      "lr:  0.0001\n",
      "Epoch 3: \n",
      " Train Loss\t0.6045 \n",
      " Val Loss\t0.5089 \n",
      " Val Acc\t0.8065 \n",
      " Val F1\t\t0.8929 \n",
      " Val AUC\t0.5800 \n",
      " Val GMean\t0.0000 \n",
      " Val MCC\t0.0000\n"
     ]
    },
    {
     "name": "stderr",
     "output_type": "stream",
     "text": [
      "100%|███████████████████████████████████████████████████████████████████████████████████████████████████████████████████████████████████| 18/18 [00:00<00:00, 128.92it/s]\n"
     ]
    },
    {
     "name": "stdout",
     "output_type": "stream",
     "text": [
      "lr:  0.0001\n",
      "Epoch 4: \n",
      " Train Loss\t0.6024 \n",
      " Val Loss\t0.5094 \n",
      " Val Acc\t0.8065 \n",
      " Val F1\t\t0.8929 \n",
      " Val AUC\t0.5733 \n",
      " Val GMean\t0.0000 \n",
      " Val MCC\t0.0000\n"
     ]
    },
    {
     "name": "stderr",
     "output_type": "stream",
     "text": [
      "100%|███████████████████████████████████████████████████████████████████████████████████████████████████████████████████████████████████| 18/18 [00:00<00:00, 104.45it/s]\n"
     ]
    },
    {
     "name": "stdout",
     "output_type": "stream",
     "text": [
      "lr:  0.0001\n",
      "Epoch 5: \n",
      " Train Loss\t0.6008 \n",
      " Val Loss\t0.5097 \n",
      " Val Acc\t0.8065 \n",
      " Val F1\t\t0.8929 \n",
      " Val AUC\t0.5733 \n",
      " Val GMean\t0.0000 \n",
      " Val MCC\t0.0000\n"
     ]
    },
    {
     "name": "stderr",
     "output_type": "stream",
     "text": [
      "100%|███████████████████████████████████████████████████████████████████████████████████████████████████████████████████████████████████| 18/18 [00:00<00:00, 106.66it/s]\n"
     ]
    },
    {
     "name": "stdout",
     "output_type": "stream",
     "text": [
      "lr:  0.0001\n",
      "Epoch 6: \n",
      " Train Loss\t0.5995 \n",
      " Val Loss\t0.5100 \n",
      " Val Acc\t0.8065 \n",
      " Val F1\t\t0.8929 \n",
      " Val AUC\t0.5600 \n",
      " Val GMean\t0.0000 \n",
      " Val MCC\t0.0000\n"
     ]
    },
    {
     "name": "stderr",
     "output_type": "stream",
     "text": [
      "100%|███████████████████████████████████████████████████████████████████████████████████████████████████████████████████████████████████| 18/18 [00:00<00:00, 129.61it/s]\n"
     ]
    },
    {
     "name": "stdout",
     "output_type": "stream",
     "text": [
      "lr:  0.0001\n",
      "Epoch 7: \n",
      " Train Loss\t0.5983 \n",
      " Val Loss\t0.5101 \n",
      " Val Acc\t0.8065 \n",
      " Val F1\t\t0.8929 \n",
      " Val AUC\t0.5533 \n",
      " Val GMean\t0.0000 \n",
      " Val MCC\t0.0000\n"
     ]
    },
    {
     "name": "stderr",
     "output_type": "stream",
     "text": [
      "100%|███████████████████████████████████████████████████████████████████████████████████████████████████████████████████████████████████| 18/18 [00:00<00:00, 131.05it/s]\n"
     ]
    },
    {
     "name": "stdout",
     "output_type": "stream",
     "text": [
      "lr:  0.0001\n",
      "Epoch 8: \n",
      " Train Loss\t0.5973 \n",
      " Val Loss\t0.5102 \n",
      " Val Acc\t0.8065 \n",
      " Val F1\t\t0.8929 \n",
      " Val AUC\t0.5467 \n",
      " Val GMean\t0.0000 \n",
      " Val MCC\t0.0000\n"
     ]
    },
    {
     "name": "stderr",
     "output_type": "stream",
     "text": [
      "100%|███████████████████████████████████████████████████████████████████████████████████████████████████████████████████████████████████| 18/18 [00:00<00:00, 123.16it/s]\n"
     ]
    },
    {
     "name": "stdout",
     "output_type": "stream",
     "text": [
      "lr:  0.0001\n",
      "Epoch 9: \n",
      " Train Loss\t0.5964 \n",
      " Val Loss\t0.5103 \n",
      " Val Acc\t0.8065 \n",
      " Val F1\t\t0.8929 \n",
      " Val AUC\t0.5267 \n",
      " Val GMean\t0.0000 \n",
      " Val MCC\t0.0000\n"
     ]
    },
    {
     "name": "stderr",
     "output_type": "stream",
     "text": [
      "100%|███████████████████████████████████████████████████████████████████████████████████████████████████████████████████████████████████| 18/18 [00:00<00:00, 123.53it/s]\n"
     ]
    },
    {
     "name": "stdout",
     "output_type": "stream",
     "text": [
      "lr:  0.0001\n",
      "Epoch 10: \n",
      " Train Loss\t0.5955 \n",
      " Val Loss\t0.5103 \n",
      " Val Acc\t0.8065 \n",
      " Val F1\t\t0.8929 \n",
      " Val AUC\t0.5400 \n",
      " Val GMean\t0.0000 \n",
      " Val MCC\t0.0000\n"
     ]
    },
    {
     "name": "stderr",
     "output_type": "stream",
     "text": [
      "100%|███████████████████████████████████████████████████████████████████████████████████████████████████████████████████████████████████| 18/18 [00:00<00:00, 129.37it/s]\n"
     ]
    },
    {
     "name": "stdout",
     "output_type": "stream",
     "text": [
      "lr:  0.0001\n",
      "Epoch 11: \n",
      " Train Loss\t0.5946 \n",
      " Val Loss\t0.5104 \n",
      " Val Acc\t0.8065 \n",
      " Val F1\t\t0.8929 \n",
      " Val AUC\t0.5267 \n",
      " Val GMean\t0.0000 \n",
      " Val MCC\t0.0000\n"
     ]
    },
    {
     "name": "stderr",
     "output_type": "stream",
     "text": [
      "100%|███████████████████████████████████████████████████████████████████████████████████████████████████████████████████████████████████| 18/18 [00:00<00:00, 127.65it/s]\n"
     ]
    },
    {
     "name": "stdout",
     "output_type": "stream",
     "text": [
      "lr:  0.0001\n",
      "Epoch 12: \n",
      " Train Loss\t0.5938 \n",
      " Val Loss\t0.5105 \n",
      " Val Acc\t0.8065 \n",
      " Val F1\t\t0.8929 \n",
      " Val AUC\t0.5267 \n",
      " Val GMean\t0.0000 \n",
      " Val MCC\t0.0000\n"
     ]
    },
    {
     "name": "stderr",
     "output_type": "stream",
     "text": [
      "100%|███████████████████████████████████████████████████████████████████████████████████████████████████████████████████████████████████| 18/18 [00:00<00:00, 124.92it/s]\n"
     ]
    },
    {
     "name": "stdout",
     "output_type": "stream",
     "text": [
      "lr:  0.0001\n",
      "Epoch 13: \n",
      " Train Loss\t0.5930 \n",
      " Val Loss\t0.5105 \n",
      " Val Acc\t0.8065 \n",
      " Val F1\t\t0.8929 \n",
      " Val AUC\t0.5467 \n",
      " Val GMean\t0.0000 \n",
      " Val MCC\t0.0000\n"
     ]
    },
    {
     "name": "stderr",
     "output_type": "stream",
     "text": [
      "100%|███████████████████████████████████████████████████████████████████████████████████████████████████████████████████████████████████| 18/18 [00:00<00:00, 131.04it/s]\n"
     ]
    },
    {
     "name": "stdout",
     "output_type": "stream",
     "text": [
      "lr:  0.0001\n",
      "Epoch 14: \n",
      " Train Loss\t0.5921 \n",
      " Val Loss\t0.5106 \n",
      " Val Acc\t0.8065 \n",
      " Val F1\t\t0.8929 \n",
      " Val AUC\t0.5467 \n",
      " Val GMean\t0.0000 \n",
      " Val MCC\t0.0000\n"
     ]
    },
    {
     "name": "stderr",
     "output_type": "stream",
     "text": [
      "100%|███████████████████████████████████████████████████████████████████████████████████████████████████████████████████████████████████| 18/18 [00:00<00:00, 133.33it/s]\n"
     ]
    },
    {
     "name": "stdout",
     "output_type": "stream",
     "text": [
      "lr:  0.0001\n",
      "Epoch 15: \n",
      " Train Loss\t0.5911 \n",
      " Val Loss\t0.5106 \n",
      " Val Acc\t0.8065 \n",
      " Val F1\t\t0.8929 \n",
      " Val AUC\t0.5467 \n",
      " Val GMean\t0.0000 \n",
      " Val MCC\t0.0000\n"
     ]
    },
    {
     "name": "stderr",
     "output_type": "stream",
     "text": [
      "100%|███████████████████████████████████████████████████████████████████████████████████████████████████████████████████████████████████| 18/18 [00:00<00:00, 131.05it/s]\n"
     ]
    },
    {
     "name": "stdout",
     "output_type": "stream",
     "text": [
      "lr:  0.0001\n",
      "Epoch 16: \n",
      " Train Loss\t0.5901 \n",
      " Val Loss\t0.5106 \n",
      " Val Acc\t0.8065 \n",
      " Val F1\t\t0.8929 \n",
      " Val AUC\t0.5533 \n",
      " Val GMean\t0.0000 \n",
      " Val MCC\t0.0000\n"
     ]
    },
    {
     "name": "stderr",
     "output_type": "stream",
     "text": [
      "100%|███████████████████████████████████████████████████████████████████████████████████████████████████████████████████████████████████| 18/18 [00:00<00:00, 128.10it/s]\n"
     ]
    },
    {
     "name": "stdout",
     "output_type": "stream",
     "text": [
      "lr:  0.0001\n",
      "Epoch 17: \n",
      " Train Loss\t0.5892 \n",
      " Val Loss\t0.5106 \n",
      " Val Acc\t0.8065 \n",
      " Val F1\t\t0.8929 \n",
      " Val AUC\t0.5467 \n",
      " Val GMean\t0.0000 \n",
      " Val MCC\t0.0000\n"
     ]
    },
    {
     "name": "stderr",
     "output_type": "stream",
     "text": [
      "100%|███████████████████████████████████████████████████████████████████████████████████████████████████████████████████████████████████| 18/18 [00:00<00:00, 132.03it/s]\n"
     ]
    },
    {
     "name": "stdout",
     "output_type": "stream",
     "text": [
      "lr:  0.0001\n",
      "Epoch 18: \n",
      " Train Loss\t0.5883 \n",
      " Val Loss\t0.5106 \n",
      " Val Acc\t0.8065 \n",
      " Val F1\t\t0.8929 \n",
      " Val AUC\t0.5467 \n",
      " Val GMean\t0.0000 \n",
      " Val MCC\t0.0000\n"
     ]
    },
    {
     "name": "stderr",
     "output_type": "stream",
     "text": [
      "100%|███████████████████████████████████████████████████████████████████████████████████████████████████████████████████████████████████| 18/18 [00:00<00:00, 128.68it/s]\n"
     ]
    },
    {
     "name": "stdout",
     "output_type": "stream",
     "text": [
      "lr:  0.0001\n",
      "Epoch 19: \n",
      " Train Loss\t0.5873 \n",
      " Val Loss\t0.5107 \n",
      " Val Acc\t0.8065 \n",
      " Val F1\t\t0.8929 \n",
      " Val AUC\t0.5467 \n",
      " Val GMean\t0.0000 \n",
      " Val MCC\t0.0000\n"
     ]
    },
    {
     "name": "stderr",
     "output_type": "stream",
     "text": [
      "100%|███████████████████████████████████████████████████████████████████████████████████████████████████████████████████████████████████| 18/18 [00:00<00:00, 127.74it/s]\n"
     ]
    },
    {
     "name": "stdout",
     "output_type": "stream",
     "text": [
      "lr:  0.0001\n",
      "Epoch 20: \n",
      " Train Loss\t0.5863 \n",
      " Val Loss\t0.5108 \n",
      " Val Acc\t0.8065 \n",
      " Val F1\t\t0.8929 \n",
      " Val AUC\t0.5333 \n",
      " Val GMean\t0.0000 \n",
      " Val MCC\t0.0000\n"
     ]
    },
    {
     "name": "stderr",
     "output_type": "stream",
     "text": [
      "100%|███████████████████████████████████████████████████████████████████████████████████████████████████████████████████████████████████| 18/18 [00:00<00:00, 131.76it/s]\n"
     ]
    },
    {
     "name": "stdout",
     "output_type": "stream",
     "text": [
      "lr:  0.0001\n",
      "Epoch 21: \n",
      " Train Loss\t0.5852 \n",
      " Val Loss\t0.5107 \n",
      " Val Acc\t0.8065 \n",
      " Val F1\t\t0.8929 \n",
      " Val AUC\t0.5400 \n",
      " Val GMean\t0.0000 \n",
      " Val MCC\t0.0000\n"
     ]
    },
    {
     "name": "stderr",
     "output_type": "stream",
     "text": [
      "100%|███████████████████████████████████████████████████████████████████████████████████████████████████████████████████████████████████| 18/18 [00:00<00:00, 131.17it/s]\n"
     ]
    },
    {
     "name": "stdout",
     "output_type": "stream",
     "text": [
      "lr:  0.0001\n",
      "Epoch 22: \n",
      " Train Loss\t0.5842 \n",
      " Val Loss\t0.5108 \n",
      " Val Acc\t0.8065 \n",
      " Val F1\t\t0.8929 \n",
      " Val AUC\t0.5267 \n",
      " Val GMean\t0.0000 \n",
      " Val MCC\t0.0000\n"
     ]
    },
    {
     "name": "stderr",
     "output_type": "stream",
     "text": [
      "100%|███████████████████████████████████████████████████████████████████████████████████████████████████████████████████████████████████| 18/18 [00:00<00:00, 128.05it/s]\n"
     ]
    },
    {
     "name": "stdout",
     "output_type": "stream",
     "text": [
      "lr:  0.0001\n",
      "Epoch 23: \n",
      " Train Loss\t0.5830 \n",
      " Val Loss\t0.5107 \n",
      " Val Acc\t0.8065 \n",
      " Val F1\t\t0.8929 \n",
      " Val AUC\t0.5267 \n",
      " Val GMean\t0.0000 \n",
      " Val MCC\t0.0000\n"
     ]
    },
    {
     "name": "stderr",
     "output_type": "stream",
     "text": [
      "100%|███████████████████████████████████████████████████████████████████████████████████████████████████████████████████████████████████| 18/18 [00:00<00:00, 131.36it/s]\n"
     ]
    },
    {
     "name": "stdout",
     "output_type": "stream",
     "text": [
      "lr:  0.0001\n",
      "Epoch 24: \n",
      " Train Loss\t0.5817 \n",
      " Val Loss\t0.5107 \n",
      " Val Acc\t0.8065 \n",
      " Val F1\t\t0.8929 \n",
      " Val AUC\t0.5267 \n",
      " Val GMean\t0.0000 \n",
      " Val MCC\t0.0000\n"
     ]
    },
    {
     "name": "stderr",
     "output_type": "stream",
     "text": [
      "100%|███████████████████████████████████████████████████████████████████████████████████████████████████████████████████████████████████| 18/18 [00:00<00:00, 132.45it/s]\n"
     ]
    },
    {
     "name": "stdout",
     "output_type": "stream",
     "text": [
      "lr:  0.0001\n",
      "Epoch 25: \n",
      " Train Loss\t0.5803 \n",
      " Val Loss\t0.5106 \n",
      " Val Acc\t0.8065 \n",
      " Val F1\t\t0.8929 \n",
      " Val AUC\t0.5200 \n",
      " Val GMean\t0.0000 \n",
      " Val MCC\t0.0000\n"
     ]
    },
    {
     "name": "stderr",
     "output_type": "stream",
     "text": [
      "100%|███████████████████████████████████████████████████████████████████████████████████████████████████████████████████████████████████| 18/18 [00:00<00:00, 130.33it/s]\n"
     ]
    },
    {
     "name": "stdout",
     "output_type": "stream",
     "text": [
      "lr:  0.0001\n",
      "Epoch 26: \n",
      " Train Loss\t0.5789 \n",
      " Val Loss\t0.5106 \n",
      " Val Acc\t0.8065 \n",
      " Val F1\t\t0.8929 \n",
      " Val AUC\t0.5267 \n",
      " Val GMean\t0.0000 \n",
      " Val MCC\t0.0000\n"
     ]
    },
    {
     "name": "stderr",
     "output_type": "stream",
     "text": [
      "100%|███████████████████████████████████████████████████████████████████████████████████████████████████████████████████████████████████| 18/18 [00:00<00:00, 125.84it/s]\n"
     ]
    },
    {
     "name": "stdout",
     "output_type": "stream",
     "text": [
      "lr:  0.0001\n",
      "Epoch 27: \n",
      " Train Loss\t0.5775 \n",
      " Val Loss\t0.5106 \n",
      " Val Acc\t0.8065 \n",
      " Val F1\t\t0.8929 \n",
      " Val AUC\t0.5333 \n",
      " Val GMean\t0.0000 \n",
      " Val MCC\t0.0000\n"
     ]
    },
    {
     "name": "stderr",
     "output_type": "stream",
     "text": [
      "100%|███████████████████████████████████████████████████████████████████████████████████████████████████████████████████████████████████| 18/18 [00:00<00:00, 130.47it/s]\n"
     ]
    },
    {
     "name": "stdout",
     "output_type": "stream",
     "text": [
      "lr:  0.0001\n",
      "Epoch 28: \n",
      " Train Loss\t0.5760 \n",
      " Val Loss\t0.5106 \n",
      " Val Acc\t0.8065 \n",
      " Val F1\t\t0.8929 \n",
      " Val AUC\t0.5267 \n",
      " Val GMean\t0.0000 \n",
      " Val MCC\t0.0000\n"
     ]
    },
    {
     "name": "stderr",
     "output_type": "stream",
     "text": [
      "100%|███████████████████████████████████████████████████████████████████████████████████████████████████████████████████████████████████| 18/18 [00:00<00:00, 128.64it/s]\n"
     ]
    },
    {
     "name": "stdout",
     "output_type": "stream",
     "text": [
      "lr:  0.0001\n",
      "Epoch 29: \n",
      " Train Loss\t0.5746 \n",
      " Val Loss\t0.5106 \n",
      " Val Acc\t0.7742 \n",
      " Val F1\t\t0.8727 \n",
      " Val AUC\t0.5267 \n",
      " Val GMean\t0.0000 \n",
      " Val MCC\t-0.0894\n"
     ]
    },
    {
     "name": "stderr",
     "output_type": "stream",
     "text": [
      "100%|███████████████████████████████████████████████████████████████████████████████████████████████████████████████████████████████████| 18/18 [00:00<00:00, 117.85it/s]\n"
     ]
    },
    {
     "name": "stdout",
     "output_type": "stream",
     "text": [
      "lr:  0.0001\n",
      "Epoch 30: \n",
      " Train Loss\t0.5732 \n",
      " Val Loss\t0.5106 \n",
      " Val Acc\t0.7742 \n",
      " Val F1\t\t0.8727 \n",
      " Val AUC\t0.5067 \n",
      " Val GMean\t0.0000 \n",
      " Val MCC\t-0.0894\n"
     ]
    },
    {
     "name": "stderr",
     "output_type": "stream",
     "text": [
      "100%|███████████████████████████████████████████████████████████████████████████████████████████████████████████████████████████████████| 18/18 [00:00<00:00, 132.51it/s]\n"
     ]
    },
    {
     "name": "stdout",
     "output_type": "stream",
     "text": [
      "lr:  0.0001\n",
      "Epoch 31: \n",
      " Train Loss\t0.5715 \n",
      " Val Loss\t0.5106 \n",
      " Val Acc\t0.7742 \n",
      " Val F1\t\t0.8727 \n",
      " Val AUC\t0.5067 \n",
      " Val GMean\t0.0000 \n",
      " Val MCC\t-0.0894\n"
     ]
    },
    {
     "name": "stderr",
     "output_type": "stream",
     "text": [
      "100%|███████████████████████████████████████████████████████████████████████████████████████████████████████████████████████████████████| 18/18 [00:00<00:00, 131.97it/s]\n"
     ]
    },
    {
     "name": "stdout",
     "output_type": "stream",
     "text": [
      "lr:  0.0001\n",
      "Epoch 32: \n",
      " Train Loss\t0.5697 \n",
      " Val Loss\t0.5106 \n",
      " Val Acc\t0.7742 \n",
      " Val F1\t\t0.8727 \n",
      " Val AUC\t0.5000 \n",
      " Val GMean\t0.0000 \n",
      " Val MCC\t-0.0894\n"
     ]
    },
    {
     "name": "stderr",
     "output_type": "stream",
     "text": [
      "100%|███████████████████████████████████████████████████████████████████████████████████████████████████████████████████████████████████| 18/18 [00:00<00:00, 136.78it/s]\n"
     ]
    },
    {
     "name": "stdout",
     "output_type": "stream",
     "text": [
      "lr:  0.0001\n",
      "Epoch 33: \n",
      " Train Loss\t0.5680 \n",
      " Val Loss\t0.5107 \n",
      " Val Acc\t0.7742 \n",
      " Val F1\t\t0.8727 \n",
      " Val AUC\t0.5000 \n",
      " Val GMean\t0.0000 \n",
      " Val MCC\t-0.0894\n"
     ]
    },
    {
     "name": "stderr",
     "output_type": "stream",
     "text": [
      "100%|███████████████████████████████████████████████████████████████████████████████████████████████████████████████████████████████████| 18/18 [00:00<00:00, 140.28it/s]\n"
     ]
    },
    {
     "name": "stdout",
     "output_type": "stream",
     "text": [
      "lr:  0.0001\n",
      "Epoch 34: \n",
      " Train Loss\t0.5663 \n",
      " Val Loss\t0.5107 \n",
      " Val Acc\t0.7742 \n",
      " Val F1\t\t0.8727 \n",
      " Val AUC\t0.5000 \n",
      " Val GMean\t0.0000 \n",
      " Val MCC\t-0.0894\n"
     ]
    },
    {
     "name": "stderr",
     "output_type": "stream",
     "text": [
      "100%|███████████████████████████████████████████████████████████████████████████████████████████████████████████████████████████████████| 18/18 [00:00<00:00, 135.63it/s]\n"
     ]
    },
    {
     "name": "stdout",
     "output_type": "stream",
     "text": [
      "lr:  0.0001\n",
      "Epoch 35: \n",
      " Train Loss\t0.5645 \n",
      " Val Loss\t0.5107 \n",
      " Val Acc\t0.7742 \n",
      " Val F1\t\t0.8727 \n",
      " Val AUC\t0.5067 \n",
      " Val GMean\t0.0000 \n",
      " Val MCC\t-0.0894\n"
     ]
    },
    {
     "name": "stderr",
     "output_type": "stream",
     "text": [
      "100%|███████████████████████████████████████████████████████████████████████████████████████████████████████████████████████████████████| 18/18 [00:00<00:00, 138.32it/s]\n"
     ]
    },
    {
     "name": "stdout",
     "output_type": "stream",
     "text": [
      "lr:  0.0001\n",
      "Epoch 36: \n",
      " Train Loss\t0.5628 \n",
      " Val Loss\t0.5108 \n",
      " Val Acc\t0.7742 \n",
      " Val F1\t\t0.8727 \n",
      " Val AUC\t0.5067 \n",
      " Val GMean\t0.0000 \n",
      " Val MCC\t-0.0894\n"
     ]
    },
    {
     "name": "stderr",
     "output_type": "stream",
     "text": [
      "100%|███████████████████████████████████████████████████████████████████████████████████████████████████████████████████████████████████| 18/18 [00:00<00:00, 132.13it/s]\n"
     ]
    },
    {
     "name": "stdout",
     "output_type": "stream",
     "text": [
      "lr:  0.0001\n",
      "Epoch 37: \n",
      " Train Loss\t0.5607 \n",
      " Val Loss\t0.5109 \n",
      " Val Acc\t0.7742 \n",
      " Val F1\t\t0.8727 \n",
      " Val AUC\t0.4933 \n",
      " Val GMean\t0.0000 \n",
      " Val MCC\t-0.0894\n"
     ]
    },
    {
     "name": "stderr",
     "output_type": "stream",
     "text": [
      "100%|███████████████████████████████████████████████████████████████████████████████████████████████████████████████████████████████████| 18/18 [00:00<00:00, 139.21it/s]\n"
     ]
    },
    {
     "name": "stdout",
     "output_type": "stream",
     "text": [
      "lr:  0.0001\n",
      "Epoch 38: \n",
      " Train Loss\t0.5589 \n",
      " Val Loss\t0.5110 \n",
      " Val Acc\t0.7742 \n",
      " Val F1\t\t0.8727 \n",
      " Val AUC\t0.5000 \n",
      " Val GMean\t0.0000 \n",
      " Val MCC\t-0.0894\n"
     ]
    },
    {
     "name": "stderr",
     "output_type": "stream",
     "text": [
      "100%|███████████████████████████████████████████████████████████████████████████████████████████████████████████████████████████████████| 18/18 [00:00<00:00, 140.24it/s]\n"
     ]
    },
    {
     "name": "stdout",
     "output_type": "stream",
     "text": [
      "lr:  0.0001\n",
      "Epoch 39: \n",
      " Train Loss\t0.5569 \n",
      " Val Loss\t0.5111 \n",
      " Val Acc\t0.7742 \n",
      " Val F1\t\t0.8727 \n",
      " Val AUC\t0.4867 \n",
      " Val GMean\t0.0000 \n",
      " Val MCC\t-0.0894\n"
     ]
    },
    {
     "name": "stderr",
     "output_type": "stream",
     "text": [
      "100%|███████████████████████████████████████████████████████████████████████████████████████████████████████████████████████████████████| 18/18 [00:00<00:00, 138.26it/s]\n"
     ]
    },
    {
     "name": "stdout",
     "output_type": "stream",
     "text": [
      "lr:  0.0001\n",
      "Epoch 40: \n",
      " Train Loss\t0.5548 \n",
      " Val Loss\t0.5113 \n",
      " Val Acc\t0.7742 \n",
      " Val F1\t\t0.8727 \n",
      " Val AUC\t0.4800 \n",
      " Val GMean\t0.0000 \n",
      " Val MCC\t-0.0894\n"
     ]
    },
    {
     "name": "stderr",
     "output_type": "stream",
     "text": [
      "100%|███████████████████████████████████████████████████████████████████████████████████████████████████████████████████████████████████| 18/18 [00:00<00:00, 139.52it/s]\n"
     ]
    },
    {
     "name": "stdout",
     "output_type": "stream",
     "text": [
      "lr:  0.0001\n",
      "Epoch 41: \n",
      " Train Loss\t0.5526 \n",
      " Val Loss\t0.5115 \n",
      " Val Acc\t0.7742 \n",
      " Val F1\t\t0.8727 \n",
      " Val AUC\t0.4800 \n",
      " Val GMean\t0.0000 \n",
      " Val MCC\t-0.0894\n"
     ]
    },
    {
     "name": "stderr",
     "output_type": "stream",
     "text": [
      "100%|███████████████████████████████████████████████████████████████████████████████████████████████████████████████████████████████████| 18/18 [00:00<00:00, 140.35it/s]\n"
     ]
    },
    {
     "name": "stdout",
     "output_type": "stream",
     "text": [
      "lr:  0.0001\n",
      "Epoch 42: \n",
      " Train Loss\t0.5505 \n",
      " Val Loss\t0.5118 \n",
      " Val Acc\t0.7742 \n",
      " Val F1\t\t0.8727 \n",
      " Val AUC\t0.4667 \n",
      " Val GMean\t0.0000 \n",
      " Val MCC\t-0.0894\n"
     ]
    },
    {
     "name": "stderr",
     "output_type": "stream",
     "text": [
      "100%|███████████████████████████████████████████████████████████████████████████████████████████████████████████████████████████████████| 18/18 [00:00<00:00, 136.18it/s]\n"
     ]
    },
    {
     "name": "stdout",
     "output_type": "stream",
     "text": [
      "lr:  0.0001\n",
      "Epoch 43: \n",
      " Train Loss\t0.5480 \n",
      " Val Loss\t0.5120 \n",
      " Val Acc\t0.7742 \n",
      " Val F1\t\t0.8727 \n",
      " Val AUC\t0.4600 \n",
      " Val GMean\t0.0000 \n",
      " Val MCC\t-0.0894\n"
     ]
    },
    {
     "name": "stderr",
     "output_type": "stream",
     "text": [
      "100%|███████████████████████████████████████████████████████████████████████████████████████████████████████████████████████████████████| 18/18 [00:00<00:00, 136.47it/s]\n"
     ]
    },
    {
     "name": "stdout",
     "output_type": "stream",
     "text": [
      "lr:  0.0001\n",
      "Epoch 44: \n",
      " Train Loss\t0.5457 \n",
      " Val Loss\t0.5123 \n",
      " Val Acc\t0.7742 \n",
      " Val F1\t\t0.8727 \n",
      " Val AUC\t0.4600 \n",
      " Val GMean\t0.0000 \n",
      " Val MCC\t-0.0894\n"
     ]
    },
    {
     "name": "stderr",
     "output_type": "stream",
     "text": [
      "100%|███████████████████████████████████████████████████████████████████████████████████████████████████████████████████████████████████| 18/18 [00:00<00:00, 136.55it/s]\n"
     ]
    },
    {
     "name": "stdout",
     "output_type": "stream",
     "text": [
      "lr:  0.0001\n",
      "Epoch 45: \n",
      " Train Loss\t0.5434 \n",
      " Val Loss\t0.5125 \n",
      " Val Acc\t0.7742 \n",
      " Val F1\t\t0.8727 \n",
      " Val AUC\t0.4667 \n",
      " Val GMean\t0.0000 \n",
      " Val MCC\t-0.0894\n"
     ]
    },
    {
     "name": "stderr",
     "output_type": "stream",
     "text": [
      "100%|███████████████████████████████████████████████████████████████████████████████████████████████████████████████████████████████████| 18/18 [00:00<00:00, 126.80it/s]\n"
     ]
    },
    {
     "name": "stdout",
     "output_type": "stream",
     "text": [
      "lr:  0.0001\n",
      "Epoch 46: \n",
      " Train Loss\t0.5414 \n",
      " Val Loss\t0.5128 \n",
      " Val Acc\t0.7742 \n",
      " Val F1\t\t0.8727 \n",
      " Val AUC\t0.4600 \n",
      " Val GMean\t0.0000 \n",
      " Val MCC\t-0.0894\n"
     ]
    },
    {
     "name": "stderr",
     "output_type": "stream",
     "text": [
      "100%|███████████████████████████████████████████████████████████████████████████████████████████████████████████████████████████████████| 18/18 [00:00<00:00, 139.03it/s]\n"
     ]
    },
    {
     "name": "stdout",
     "output_type": "stream",
     "text": [
      "lr:  0.0001\n",
      "Epoch 47: \n",
      " Train Loss\t0.5390 \n",
      " Val Loss\t0.5133 \n",
      " Val Acc\t0.7742 \n",
      " Val F1\t\t0.8727 \n",
      " Val AUC\t0.4533 \n",
      " Val GMean\t0.0000 \n",
      " Val MCC\t-0.0894\n"
     ]
    },
    {
     "name": "stderr",
     "output_type": "stream",
     "text": [
      "100%|███████████████████████████████████████████████████████████████████████████████████████████████████████████████████████████████████| 18/18 [00:00<00:00, 135.32it/s]\n"
     ]
    },
    {
     "name": "stdout",
     "output_type": "stream",
     "text": [
      "lr:  0.0001\n",
      "Epoch 48: \n",
      " Train Loss\t0.5369 \n",
      " Val Loss\t0.5139 \n",
      " Val Acc\t0.7742 \n",
      " Val F1\t\t0.8727 \n",
      " Val AUC\t0.4400 \n",
      " Val GMean\t0.0000 \n",
      " Val MCC\t-0.0894\n"
     ]
    },
    {
     "name": "stderr",
     "output_type": "stream",
     "text": [
      "100%|███████████████████████████████████████████████████████████████████████████████████████████████████████████████████████████████████| 18/18 [00:00<00:00, 136.58it/s]\n"
     ]
    },
    {
     "name": "stdout",
     "output_type": "stream",
     "text": [
      "lr:  0.0001\n",
      "Epoch 49: \n",
      " Train Loss\t0.5344 \n",
      " Val Loss\t0.5144 \n",
      " Val Acc\t0.7742 \n",
      " Val F1\t\t0.8727 \n",
      " Val AUC\t0.4467 \n",
      " Val GMean\t0.0000 \n",
      " Val MCC\t-0.0894\n"
     ]
    },
    {
     "name": "stderr",
     "output_type": "stream",
     "text": [
      "100%|███████████████████████████████████████████████████████████████████████████████████████████████████████████████████████████████████| 18/18 [00:00<00:00, 137.74it/s]\n"
     ]
    },
    {
     "name": "stdout",
     "output_type": "stream",
     "text": [
      "lr:  0.0001\n",
      "Epoch 50: \n",
      " Train Loss\t0.5318 \n",
      " Val Loss\t0.5151 \n",
      " Val Acc\t0.7742 \n",
      " Val F1\t\t0.8727 \n",
      " Val AUC\t0.4267 \n",
      " Val GMean\t0.0000 \n",
      " Val MCC\t-0.0894\n"
     ]
    },
    {
     "name": "stderr",
     "output_type": "stream",
     "text": [
      "100%|███████████████████████████████████████████████████████████████████████████████████████████████████████████████████████████████████| 18/18 [00:00<00:00, 139.12it/s]\n"
     ]
    },
    {
     "name": "stdout",
     "output_type": "stream",
     "text": [
      "lr:  0.0001\n",
      "Epoch 51: \n",
      " Train Loss\t0.5294 \n",
      " Val Loss\t0.5158 \n",
      " Val Acc\t0.7742 \n",
      " Val F1\t\t0.8727 \n",
      " Val AUC\t0.4200 \n",
      " Val GMean\t0.0000 \n",
      " Val MCC\t-0.0894\n"
     ]
    },
    {
     "name": "stderr",
     "output_type": "stream",
     "text": [
      "100%|███████████████████████████████████████████████████████████████████████████████████████████████████████████████████████████████████| 18/18 [00:00<00:00, 138.25it/s]\n"
     ]
    },
    {
     "name": "stdout",
     "output_type": "stream",
     "text": [
      "lr:  0.0001\n",
      "Epoch 52: \n",
      " Train Loss\t0.5269 \n",
      " Val Loss\t0.5165 \n",
      " Val Acc\t0.7742 \n",
      " Val F1\t\t0.8727 \n",
      " Val AUC\t0.4200 \n",
      " Val GMean\t0.0000 \n",
      " Val MCC\t-0.0894\n"
     ]
    },
    {
     "name": "stderr",
     "output_type": "stream",
     "text": [
      "100%|███████████████████████████████████████████████████████████████████████████████████████████████████████████████████████████████████| 18/18 [00:00<00:00, 135.43it/s]\n"
     ]
    },
    {
     "name": "stdout",
     "output_type": "stream",
     "text": [
      "lr:  0.0001\n",
      "Epoch 53: \n",
      " Train Loss\t0.5248 \n",
      " Val Loss\t0.5173 \n",
      " Val Acc\t0.7742 \n",
      " Val F1\t\t0.8727 \n",
      " Val AUC\t0.4200 \n",
      " Val GMean\t0.0000 \n",
      " Val MCC\t-0.0894\n"
     ]
    },
    {
     "name": "stderr",
     "output_type": "stream",
     "text": [
      "100%|███████████████████████████████████████████████████████████████████████████████████████████████████████████████████████████████████| 18/18 [00:00<00:00, 139.80it/s]\n"
     ]
    },
    {
     "name": "stdout",
     "output_type": "stream",
     "text": [
      "lr:  0.0001\n",
      "Epoch 54: \n",
      " Train Loss\t0.5225 \n",
      " Val Loss\t0.5182 \n",
      " Val Acc\t0.8065 \n",
      " Val F1\t\t0.8889 \n",
      " Val AUC\t0.4200 \n",
      " Val GMean\t0.4000 \n",
      " Val MCC\t0.2037\n"
     ]
    },
    {
     "name": "stderr",
     "output_type": "stream",
     "text": [
      "100%|███████████████████████████████████████████████████████████████████████████████████████████████████████████████████████████████████| 18/18 [00:00<00:00, 135.20it/s]\n"
     ]
    },
    {
     "name": "stdout",
     "output_type": "stream",
     "text": [
      "lr:  0.0001\n",
      "Epoch 55: \n",
      " Train Loss\t0.5199 \n",
      " Val Loss\t0.5194 \n",
      " Val Acc\t0.8065 \n",
      " Val F1\t\t0.8889 \n",
      " Val AUC\t0.4200 \n",
      " Val GMean\t0.4000 \n",
      " Val MCC\t0.2037\n"
     ]
    },
    {
     "name": "stderr",
     "output_type": "stream",
     "text": [
      "100%|███████████████████████████████████████████████████████████████████████████████████████████████████████████████████████████████████| 18/18 [00:00<00:00, 129.48it/s]\n"
     ]
    },
    {
     "name": "stdout",
     "output_type": "stream",
     "text": [
      "lr:  0.0001\n",
      "Epoch 56: \n",
      " Train Loss\t0.5174 \n",
      " Val Loss\t0.5202 \n",
      " Val Acc\t0.7742 \n",
      " Val F1\t\t0.8727 \n",
      " Val AUC\t0.4267 \n",
      " Val GMean\t0.0000 \n",
      " Val MCC\t-0.0894\n"
     ]
    },
    {
     "name": "stderr",
     "output_type": "stream",
     "text": [
      "100%|███████████████████████████████████████████████████████████████████████████████████████████████████████████████████████████████████| 18/18 [00:00<00:00, 138.82it/s]\n"
     ]
    },
    {
     "name": "stdout",
     "output_type": "stream",
     "text": [
      "lr:  0.0001\n",
      "Epoch 57: \n",
      " Train Loss\t0.5149 \n",
      " Val Loss\t0.5213 \n",
      " Val Acc\t0.8065 \n",
      " Val F1\t\t0.8889 \n",
      " Val AUC\t0.4267 \n",
      " Val GMean\t0.4000 \n",
      " Val MCC\t0.2037\n"
     ]
    },
    {
     "name": "stderr",
     "output_type": "stream",
     "text": [
      "100%|███████████████████████████████████████████████████████████████████████████████████████████████████████████████████████████████████| 18/18 [00:00<00:00, 136.78it/s]\n"
     ]
    },
    {
     "name": "stdout",
     "output_type": "stream",
     "text": [
      "lr:  0.0001\n",
      "Epoch 58: \n",
      " Train Loss\t0.5124 \n",
      " Val Loss\t0.5224 \n",
      " Val Acc\t0.7742 \n",
      " Val F1\t\t0.8727 \n",
      " Val AUC\t0.4267 \n",
      " Val GMean\t0.0000 \n",
      " Val MCC\t-0.0894\n"
     ]
    },
    {
     "name": "stderr",
     "output_type": "stream",
     "text": [
      "100%|███████████████████████████████████████████████████████████████████████████████████████████████████████████████████████████████████| 18/18 [00:00<00:00, 136.70it/s]\n"
     ]
    },
    {
     "name": "stdout",
     "output_type": "stream",
     "text": [
      "lr:  0.0001\n",
      "Epoch 59: \n",
      " Train Loss\t0.5099 \n",
      " Val Loss\t0.5235 \n",
      " Val Acc\t0.7742 \n",
      " Val F1\t\t0.8727 \n",
      " Val AUC\t0.4267 \n",
      " Val GMean\t0.0000 \n",
      " Val MCC\t-0.0894\n"
     ]
    },
    {
     "name": "stderr",
     "output_type": "stream",
     "text": [
      "100%|███████████████████████████████████████████████████████████████████████████████████████████████████████████████████████████████████| 18/18 [00:00<00:00, 135.39it/s]\n"
     ]
    },
    {
     "name": "stdout",
     "output_type": "stream",
     "text": [
      "lr:  0.0001\n",
      "Epoch 60: \n",
      " Train Loss\t0.5067 \n",
      " Val Loss\t0.5245 \n",
      " Val Acc\t0.7742 \n",
      " Val F1\t\t0.8727 \n",
      " Val AUC\t0.4267 \n",
      " Val GMean\t0.0000 \n",
      " Val MCC\t-0.0894\n"
     ]
    },
    {
     "name": "stderr",
     "output_type": "stream",
     "text": [
      "100%|███████████████████████████████████████████████████████████████████████████████████████████████████████████████████████████████████| 18/18 [00:00<00:00, 137.44it/s]\n"
     ]
    },
    {
     "name": "stdout",
     "output_type": "stream",
     "text": [
      "lr:  0.0001\n",
      "Epoch 61: \n",
      " Train Loss\t0.5038 \n",
      " Val Loss\t0.5256 \n",
      " Val Acc\t0.7742 \n",
      " Val F1\t\t0.8727 \n",
      " Val AUC\t0.4267 \n",
      " Val GMean\t0.0000 \n",
      " Val MCC\t-0.0894\n"
     ]
    },
    {
     "name": "stderr",
     "output_type": "stream",
     "text": [
      "100%|███████████████████████████████████████████████████████████████████████████████████████████████████████████████████████████████████| 18/18 [00:00<00:00, 135.14it/s]\n"
     ]
    },
    {
     "name": "stdout",
     "output_type": "stream",
     "text": [
      "lr:  0.0001\n",
      "Epoch 62: \n",
      " Train Loss\t0.5011 \n",
      " Val Loss\t0.5268 \n",
      " Val Acc\t0.7742 \n",
      " Val F1\t\t0.8727 \n",
      " Val AUC\t0.4133 \n",
      " Val GMean\t0.0000 \n",
      " Val MCC\t-0.0894\n"
     ]
    },
    {
     "name": "stderr",
     "output_type": "stream",
     "text": [
      "100%|███████████████████████████████████████████████████████████████████████████████████████████████████████████████████████████████████| 18/18 [00:00<00:00, 137.43it/s]\n"
     ]
    },
    {
     "name": "stdout",
     "output_type": "stream",
     "text": [
      "lr:  0.0001\n",
      "Epoch 63: \n",
      " Train Loss\t0.4989 \n",
      " Val Loss\t0.5280 \n",
      " Val Acc\t0.8065 \n",
      " Val F1\t\t0.8889 \n",
      " Val AUC\t0.4200 \n",
      " Val GMean\t0.4000 \n",
      " Val MCC\t0.2037\n"
     ]
    },
    {
     "name": "stderr",
     "output_type": "stream",
     "text": [
      "100%|███████████████████████████████████████████████████████████████████████████████████████████████████████████████████████████████████| 18/18 [00:00<00:00, 134.13it/s]\n"
     ]
    },
    {
     "name": "stdout",
     "output_type": "stream",
     "text": [
      "lr:  0.0001\n",
      "Epoch 64: \n",
      " Train Loss\t0.4964 \n",
      " Val Loss\t0.5292 \n",
      " Val Acc\t0.7742 \n",
      " Val F1\t\t0.8727 \n",
      " Val AUC\t0.4133 \n",
      " Val GMean\t0.0000 \n",
      " Val MCC\t-0.0894\n"
     ]
    },
    {
     "name": "stderr",
     "output_type": "stream",
     "text": [
      "100%|███████████████████████████████████████████████████████████████████████████████████████████████████████████████████████████████████| 18/18 [00:00<00:00, 124.37it/s]\n"
     ]
    },
    {
     "name": "stdout",
     "output_type": "stream",
     "text": [
      "lr:  0.0001\n",
      "Epoch 65: \n",
      " Train Loss\t0.4937 \n",
      " Val Loss\t0.5305 \n",
      " Val Acc\t0.8065 \n",
      " Val F1\t\t0.8889 \n",
      " Val AUC\t0.4200 \n",
      " Val GMean\t0.4000 \n",
      " Val MCC\t0.2037\n"
     ]
    },
    {
     "name": "stderr",
     "output_type": "stream",
     "text": [
      "100%|███████████████████████████████████████████████████████████████████████████████████████████████████████████████████████████████████| 18/18 [00:00<00:00, 128.32it/s]\n"
     ]
    },
    {
     "name": "stdout",
     "output_type": "stream",
     "text": [
      "lr:  0.0001\n",
      "Epoch 66: \n",
      " Train Loss\t0.4914 \n",
      " Val Loss\t0.5316 \n",
      " Val Acc\t0.7742 \n",
      " Val F1\t\t0.8727 \n",
      " Val AUC\t0.4133 \n",
      " Val GMean\t0.0000 \n",
      " Val MCC\t-0.0894\n"
     ]
    },
    {
     "name": "stderr",
     "output_type": "stream",
     "text": [
      "100%|███████████████████████████████████████████████████████████████████████████████████████████████████████████████████████████████████| 18/18 [00:00<00:00, 131.87it/s]\n"
     ]
    },
    {
     "name": "stdout",
     "output_type": "stream",
     "text": [
      "lr:  0.0001\n",
      "Epoch 67: \n",
      " Train Loss\t0.4888 \n",
      " Val Loss\t0.5331 \n",
      " Val Acc\t0.7419 \n",
      " Val F1\t\t0.8462 \n",
      " Val AUC\t0.4133 \n",
      " Val GMean\t0.3830 \n",
      " Val MCC\t0.0550\n"
     ]
    },
    {
     "name": "stderr",
     "output_type": "stream",
     "text": [
      "100%|███████████████████████████████████████████████████████████████████████████████████████████████████████████████████████████████████| 18/18 [00:00<00:00, 136.22it/s]\n"
     ]
    },
    {
     "name": "stdout",
     "output_type": "stream",
     "text": [
      "lr:  0.0001\n",
      "Epoch 68: \n",
      " Train Loss\t0.4862 \n",
      " Val Loss\t0.5344 \n",
      " Val Acc\t0.7742 \n",
      " Val F1\t\t0.8727 \n",
      " Val AUC\t0.4000 \n",
      " Val GMean\t0.0000 \n",
      " Val MCC\t-0.0894\n"
     ]
    },
    {
     "name": "stderr",
     "output_type": "stream",
     "text": [
      "100%|███████████████████████████████████████████████████████████████████████████████████████████████████████████████████████████████████| 18/18 [00:00<00:00, 133.74it/s]\n"
     ]
    },
    {
     "name": "stdout",
     "output_type": "stream",
     "text": [
      "lr:  0.0001\n",
      "Epoch 69: \n",
      " Train Loss\t0.4838 \n",
      " Val Loss\t0.5357 \n",
      " Val Acc\t0.7742 \n",
      " Val F1\t\t0.8727 \n",
      " Val AUC\t0.3933 \n",
      " Val GMean\t0.0000 \n",
      " Val MCC\t-0.0894\n"
     ]
    },
    {
     "name": "stderr",
     "output_type": "stream",
     "text": [
      "100%|███████████████████████████████████████████████████████████████████████████████████████████████████████████████████████████████████| 18/18 [00:00<00:00, 134.50it/s]\n"
     ]
    },
    {
     "name": "stdout",
     "output_type": "stream",
     "text": [
      "lr:  0.0001\n",
      "Epoch 70: \n",
      " Train Loss\t0.4816 \n",
      " Val Loss\t0.5370 \n",
      " Val Acc\t0.7742 \n",
      " Val F1\t\t0.8679 \n",
      " Val AUC\t0.4067 \n",
      " Val GMean\t0.3916 \n",
      " Val MCC\t0.1158\n"
     ]
    },
    {
     "name": "stderr",
     "output_type": "stream",
     "text": [
      "100%|███████████████████████████████████████████████████████████████████████████████████████████████████████████████████████████████████| 18/18 [00:00<00:00, 130.02it/s]\n"
     ]
    },
    {
     "name": "stdout",
     "output_type": "stream",
     "text": [
      "lr:  0.0001\n",
      "Epoch 71: \n",
      " Train Loss\t0.4793 \n",
      " Val Loss\t0.5383 \n",
      " Val Acc\t0.7742 \n",
      " Val F1\t\t0.8727 \n",
      " Val AUC\t0.4200 \n",
      " Val GMean\t0.0000 \n",
      " Val MCC\t-0.0894\n"
     ]
    },
    {
     "name": "stderr",
     "output_type": "stream",
     "text": [
      "100%|███████████████████████████████████████████████████████████████████████████████████████████████████████████████████████████████████| 18/18 [00:00<00:00, 124.42it/s]\n"
     ]
    },
    {
     "name": "stdout",
     "output_type": "stream",
     "text": [
      "lr:  0.0001\n",
      "Epoch 72: \n",
      " Train Loss\t0.4769 \n",
      " Val Loss\t0.5398 \n",
      " Val Acc\t0.7742 \n",
      " Val F1\t\t0.8679 \n",
      " Val AUC\t0.4267 \n",
      " Val GMean\t0.3916 \n",
      " Val MCC\t0.1158\n"
     ]
    },
    {
     "name": "stderr",
     "output_type": "stream",
     "text": [
      "100%|███████████████████████████████████████████████████████████████████████████████████████████████████████████████████████████████████| 18/18 [00:00<00:00, 134.93it/s]\n"
     ]
    },
    {
     "name": "stdout",
     "output_type": "stream",
     "text": [
      "lr:  0.0001\n",
      "Epoch 73: \n",
      " Train Loss\t0.4743 \n",
      " Val Loss\t0.5413 \n",
      " Val Acc\t0.7742 \n",
      " Val F1\t\t0.8679 \n",
      " Val AUC\t0.4400 \n",
      " Val GMean\t0.3916 \n",
      " Val MCC\t0.1158\n"
     ]
    },
    {
     "name": "stderr",
     "output_type": "stream",
     "text": [
      "100%|███████████████████████████████████████████████████████████████████████████████████████████████████████████████████████████████████| 18/18 [00:00<00:00, 122.72it/s]\n"
     ]
    },
    {
     "name": "stdout",
     "output_type": "stream",
     "text": [
      "lr:  0.0001\n",
      "Epoch 74: \n",
      " Train Loss\t0.4718 \n",
      " Val Loss\t0.5429 \n",
      " Val Acc\t0.7742 \n",
      " Val F1\t\t0.8679 \n",
      " Val AUC\t0.4333 \n",
      " Val GMean\t0.3916 \n",
      " Val MCC\t0.1158\n"
     ]
    },
    {
     "name": "stderr",
     "output_type": "stream",
     "text": [
      "100%|███████████████████████████████████████████████████████████████████████████████████████████████████████████████████████████████████| 18/18 [00:00<00:00, 136.24it/s]\n"
     ]
    },
    {
     "name": "stdout",
     "output_type": "stream",
     "text": [
      "lr:  0.0001\n",
      "Epoch 75: \n",
      " Train Loss\t0.4692 \n",
      " Val Loss\t0.5445 \n",
      " Val Acc\t0.7742 \n",
      " Val F1\t\t0.8679 \n",
      " Val AUC\t0.4333 \n",
      " Val GMean\t0.3916 \n",
      " Val MCC\t0.1158\n"
     ]
    },
    {
     "name": "stderr",
     "output_type": "stream",
     "text": [
      "100%|███████████████████████████████████████████████████████████████████████████████████████████████████████████████████████████████████| 18/18 [00:00<00:00, 129.12it/s]\n"
     ]
    },
    {
     "name": "stdout",
     "output_type": "stream",
     "text": [
      "lr:  0.0001\n",
      "Epoch 76: \n",
      " Train Loss\t0.4670 \n",
      " Val Loss\t0.5461 \n",
      " Val Acc\t0.7742 \n",
      " Val F1\t\t0.8679 \n",
      " Val AUC\t0.4267 \n",
      " Val GMean\t0.3916 \n",
      " Val MCC\t0.1158\n"
     ]
    },
    {
     "name": "stderr",
     "output_type": "stream",
     "text": [
      "100%|███████████████████████████████████████████████████████████████████████████████████████████████████████████████████████████████████| 18/18 [00:00<00:00, 136.13it/s]\n"
     ]
    },
    {
     "name": "stdout",
     "output_type": "stream",
     "text": [
      "lr:  0.0001\n",
      "Epoch 77: \n",
      " Train Loss\t0.4649 \n",
      " Val Loss\t0.5478 \n",
      " Val Acc\t0.7742 \n",
      " Val F1\t\t0.8679 \n",
      " Val AUC\t0.4267 \n",
      " Val GMean\t0.3916 \n",
      " Val MCC\t0.1158\n"
     ]
    },
    {
     "name": "stderr",
     "output_type": "stream",
     "text": [
      "100%|███████████████████████████████████████████████████████████████████████████████████████████████████████████████████████████████████| 18/18 [00:00<00:00, 135.62it/s]\n"
     ]
    },
    {
     "name": "stdout",
     "output_type": "stream",
     "text": [
      "lr:  0.0001\n",
      "Epoch 78: \n",
      " Train Loss\t0.4626 \n",
      " Val Loss\t0.5498 \n",
      " Val Acc\t0.7419 \n",
      " Val F1\t\t0.8462 \n",
      " Val AUC\t0.4333 \n",
      " Val GMean\t0.3830 \n",
      " Val MCC\t0.0550\n"
     ]
    },
    {
     "name": "stderr",
     "output_type": "stream",
     "text": [
      "100%|███████████████████████████████████████████████████████████████████████████████████████████████████████████████████████████████████| 18/18 [00:00<00:00, 136.04it/s]\n"
     ]
    },
    {
     "name": "stdout",
     "output_type": "stream",
     "text": [
      "lr:  0.0001\n",
      "Epoch 79: \n",
      " Train Loss\t0.4604 \n",
      " Val Loss\t0.5515 \n",
      " Val Acc\t0.7742 \n",
      " Val F1\t\t0.8679 \n",
      " Val AUC\t0.4200 \n",
      " Val GMean\t0.3916 \n",
      " Val MCC\t0.1158\n"
     ]
    },
    {
     "name": "stderr",
     "output_type": "stream",
     "text": [
      "100%|███████████████████████████████████████████████████████████████████████████████████████████████████████████████████████████████████| 18/18 [00:00<00:00, 136.10it/s]\n"
     ]
    },
    {
     "name": "stdout",
     "output_type": "stream",
     "text": [
      "lr:  0.0001\n",
      "Epoch 80: \n",
      " Train Loss\t0.4585 \n",
      " Val Loss\t0.5533 \n",
      " Val Acc\t0.7742 \n",
      " Val F1\t\t0.8679 \n",
      " Val AUC\t0.4333 \n",
      " Val GMean\t0.3916 \n",
      " Val MCC\t0.1158\n"
     ]
    },
    {
     "name": "stderr",
     "output_type": "stream",
     "text": [
      "100%|███████████████████████████████████████████████████████████████████████████████████████████████████████████████████████████████████| 18/18 [00:00<00:00, 135.33it/s]\n"
     ]
    },
    {
     "name": "stdout",
     "output_type": "stream",
     "text": [
      "lr:  0.0001\n",
      "Epoch 81: \n",
      " Train Loss\t0.4562 \n",
      " Val Loss\t0.5550 \n",
      " Val Acc\t0.7742 \n",
      " Val F1\t\t0.8679 \n",
      " Val AUC\t0.4333 \n",
      " Val GMean\t0.3916 \n",
      " Val MCC\t0.1158\n"
     ]
    },
    {
     "name": "stderr",
     "output_type": "stream",
     "text": [
      "100%|███████████████████████████████████████████████████████████████████████████████████████████████████████████████████████████████████| 18/18 [00:00<00:00, 136.17it/s]\n"
     ]
    },
    {
     "name": "stdout",
     "output_type": "stream",
     "text": [
      "lr:  0.0001\n",
      "Epoch 82: \n",
      " Train Loss\t0.4538 \n",
      " Val Loss\t0.5569 \n",
      " Val Acc\t0.7419 \n",
      " Val F1\t\t0.8462 \n",
      " Val AUC\t0.4267 \n",
      " Val GMean\t0.3830 \n",
      " Val MCC\t0.0550\n"
     ]
    },
    {
     "name": "stderr",
     "output_type": "stream",
     "text": [
      "100%|███████████████████████████████████████████████████████████████████████████████████████████████████████████████████████████████████| 18/18 [00:00<00:00, 129.38it/s]\n"
     ]
    },
    {
     "name": "stdout",
     "output_type": "stream",
     "text": [
      "lr:  0.0001\n",
      "Epoch 83: \n",
      " Train Loss\t0.4514 \n",
      " Val Loss\t0.5588 \n",
      " Val Acc\t0.7742 \n",
      " Val F1\t\t0.8679 \n",
      " Val AUC\t0.4267 \n",
      " Val GMean\t0.3916 \n",
      " Val MCC\t0.1158\n"
     ]
    },
    {
     "name": "stderr",
     "output_type": "stream",
     "text": [
      "100%|███████████████████████████████████████████████████████████████████████████████████████████████████████████████████████████████████| 18/18 [00:00<00:00, 135.74it/s]\n"
     ]
    },
    {
     "name": "stdout",
     "output_type": "stream",
     "text": [
      "lr:  0.0001\n",
      "Epoch 84: \n",
      " Train Loss\t0.4491 \n",
      " Val Loss\t0.5607 \n",
      " Val Acc\t0.7742 \n",
      " Val F1\t\t0.8679 \n",
      " Val AUC\t0.4200 \n",
      " Val GMean\t0.3916 \n",
      " Val MCC\t0.1158\n"
     ]
    },
    {
     "name": "stderr",
     "output_type": "stream",
     "text": [
      "100%|███████████████████████████████████████████████████████████████████████████████████████████████████████████████████████████████████| 18/18 [00:00<00:00, 134.78it/s]\n"
     ]
    },
    {
     "name": "stdout",
     "output_type": "stream",
     "text": [
      "lr:  0.0001\n",
      "Epoch 85: \n",
      " Train Loss\t0.4471 \n",
      " Val Loss\t0.5625 \n",
      " Val Acc\t0.7742 \n",
      " Val F1\t\t0.8679 \n",
      " Val AUC\t0.4133 \n",
      " Val GMean\t0.3916 \n",
      " Val MCC\t0.1158\n"
     ]
    },
    {
     "name": "stderr",
     "output_type": "stream",
     "text": [
      "100%|███████████████████████████████████████████████████████████████████████████████████████████████████████████████████████████████████| 18/18 [00:00<00:00, 134.89it/s]\n"
     ]
    },
    {
     "name": "stdout",
     "output_type": "stream",
     "text": [
      "lr:  0.0001\n",
      "Epoch 86: \n",
      " Train Loss\t0.4450 \n",
      " Val Loss\t0.5643 \n",
      " Val Acc\t0.7742 \n",
      " Val F1\t\t0.8679 \n",
      " Val AUC\t0.4267 \n",
      " Val GMean\t0.3916 \n",
      " Val MCC\t0.1158\n"
     ]
    },
    {
     "name": "stderr",
     "output_type": "stream",
     "text": [
      "100%|███████████████████████████████████████████████████████████████████████████████████████████████████████████████████████████████████| 18/18 [00:00<00:00, 130.33it/s]\n"
     ]
    },
    {
     "name": "stdout",
     "output_type": "stream",
     "text": [
      "lr:  0.0001\n",
      "Epoch 87: \n",
      " Train Loss\t0.4428 \n",
      " Val Loss\t0.5662 \n",
      " Val Acc\t0.7742 \n",
      " Val F1\t\t0.8679 \n",
      " Val AUC\t0.4333 \n",
      " Val GMean\t0.3916 \n",
      " Val MCC\t0.1158\n"
     ]
    },
    {
     "name": "stderr",
     "output_type": "stream",
     "text": [
      "100%|███████████████████████████████████████████████████████████████████████████████████████████████████████████████████████████████████| 18/18 [00:00<00:00, 130.39it/s]\n"
     ]
    },
    {
     "name": "stdout",
     "output_type": "stream",
     "text": [
      "lr:  0.0001\n",
      "Epoch 88: \n",
      " Train Loss\t0.4409 \n",
      " Val Loss\t0.5681 \n",
      " Val Acc\t0.7742 \n",
      " Val F1\t\t0.8679 \n",
      " Val AUC\t0.4333 \n",
      " Val GMean\t0.3916 \n",
      " Val MCC\t0.1158\n"
     ]
    },
    {
     "name": "stderr",
     "output_type": "stream",
     "text": [
      "100%|███████████████████████████████████████████████████████████████████████████████████████████████████████████████████████████████████| 18/18 [00:00<00:00, 137.55it/s]\n"
     ]
    },
    {
     "name": "stdout",
     "output_type": "stream",
     "text": [
      "lr:  0.0001\n",
      "Epoch 89: \n",
      " Train Loss\t0.4388 \n",
      " Val Loss\t0.5700 \n",
      " Val Acc\t0.7742 \n",
      " Val F1\t\t0.8679 \n",
      " Val AUC\t0.4400 \n",
      " Val GMean\t0.3916 \n",
      " Val MCC\t0.1158\n"
     ]
    },
    {
     "name": "stderr",
     "output_type": "stream",
     "text": [
      "100%|███████████████████████████████████████████████████████████████████████████████████████████████████████████████████████████████████| 18/18 [00:00<00:00, 136.40it/s]\n"
     ]
    },
    {
     "name": "stdout",
     "output_type": "stream",
     "text": [
      "lr:  0.0001\n",
      "Epoch 90: \n",
      " Train Loss\t0.4365 \n",
      " Val Loss\t0.5718 \n",
      " Val Acc\t0.7742 \n",
      " Val F1\t\t0.8679 \n",
      " Val AUC\t0.4333 \n",
      " Val GMean\t0.3916 \n",
      " Val MCC\t0.1158\n"
     ]
    },
    {
     "name": "stderr",
     "output_type": "stream",
     "text": [
      "100%|███████████████████████████████████████████████████████████████████████████████████████████████████████████████████████████████████| 18/18 [00:00<00:00, 133.00it/s]\n"
     ]
    },
    {
     "name": "stdout",
     "output_type": "stream",
     "text": [
      "lr:  0.0001\n",
      "Epoch 91: \n",
      " Train Loss\t0.4344 \n",
      " Val Loss\t0.5738 \n",
      " Val Acc\t0.7419 \n",
      " Val F1\t\t0.8462 \n",
      " Val AUC\t0.4333 \n",
      " Val GMean\t0.3830 \n",
      " Val MCC\t0.0550\n"
     ]
    },
    {
     "name": "stderr",
     "output_type": "stream",
     "text": [
      "100%|███████████████████████████████████████████████████████████████████████████████████████████████████████████████████████████████████| 18/18 [00:00<00:00, 134.31it/s]\n"
     ]
    },
    {
     "name": "stdout",
     "output_type": "stream",
     "text": [
      "lr:  0.0001\n",
      "Epoch 92: \n",
      " Train Loss\t0.4322 \n",
      " Val Loss\t0.5757 \n",
      " Val Acc\t0.7742 \n",
      " Val F1\t\t0.8679 \n",
      " Val AUC\t0.4333 \n",
      " Val GMean\t0.3916 \n",
      " Val MCC\t0.1158\n"
     ]
    },
    {
     "name": "stderr",
     "output_type": "stream",
     "text": [
      "100%|███████████████████████████████████████████████████████████████████████████████████████████████████████████████████████████████████| 18/18 [00:00<00:00, 131.34it/s]\n"
     ]
    },
    {
     "name": "stdout",
     "output_type": "stream",
     "text": [
      "lr:  0.0001\n",
      "Epoch 93: \n",
      " Train Loss\t0.4303 \n",
      " Val Loss\t0.5778 \n",
      " Val Acc\t0.7419 \n",
      " Val F1\t\t0.8462 \n",
      " Val AUC\t0.4400 \n",
      " Val GMean\t0.3830 \n",
      " Val MCC\t0.0550\n"
     ]
    },
    {
     "name": "stderr",
     "output_type": "stream",
     "text": [
      "100%|███████████████████████████████████████████████████████████████████████████████████████████████████████████████████████████████████| 18/18 [00:00<00:00, 126.94it/s]\n"
     ]
    },
    {
     "name": "stdout",
     "output_type": "stream",
     "text": [
      "lr:  0.0001\n",
      "Epoch 94: \n",
      " Train Loss\t0.4281 \n",
      " Val Loss\t0.5799 \n",
      " Val Acc\t0.7419 \n",
      " Val F1\t\t0.8462 \n",
      " Val AUC\t0.4467 \n",
      " Val GMean\t0.3830 \n",
      " Val MCC\t0.0550\n"
     ]
    },
    {
     "name": "stderr",
     "output_type": "stream",
     "text": [
      "100%|███████████████████████████████████████████████████████████████████████████████████████████████████████████████████████████████████| 18/18 [00:00<00:00, 133.58it/s]\n"
     ]
    },
    {
     "name": "stdout",
     "output_type": "stream",
     "text": [
      "lr:  0.0001\n",
      "Epoch 95: \n",
      " Train Loss\t0.4261 \n",
      " Val Loss\t0.5818 \n",
      " Val Acc\t0.7419 \n",
      " Val F1\t\t0.8519 \n",
      " Val AUC\t0.4333 \n",
      " Val GMean\t0.0000 \n",
      " Val MCC\t-0.1287\n"
     ]
    },
    {
     "name": "stderr",
     "output_type": "stream",
     "text": [
      "100%|███████████████████████████████████████████████████████████████████████████████████████████████████████████████████████████████████| 18/18 [00:00<00:00, 135.33it/s]\n"
     ]
    },
    {
     "name": "stdout",
     "output_type": "stream",
     "text": [
      "lr:  0.0001\n",
      "Epoch 96: \n",
      " Train Loss\t0.4240 \n",
      " Val Loss\t0.5842 \n",
      " Val Acc\t0.7097 \n",
      " Val F1\t\t0.8235 \n",
      " Val AUC\t0.4267 \n",
      " Val GMean\t0.3742 \n",
      " Val MCC\t0.0072\n"
     ]
    },
    {
     "name": "stderr",
     "output_type": "stream",
     "text": [
      "100%|███████████████████████████████████████████████████████████████████████████████████████████████████████████████████████████████████| 18/18 [00:00<00:00, 136.88it/s]\n"
     ]
    },
    {
     "name": "stdout",
     "output_type": "stream",
     "text": [
      "lr:  0.0001\n",
      "Epoch 97: \n",
      " Train Loss\t0.4220 \n",
      " Val Loss\t0.5864 \n",
      " Val Acc\t0.7419 \n",
      " Val F1\t\t0.8462 \n",
      " Val AUC\t0.4400 \n",
      " Val GMean\t0.3830 \n",
      " Val MCC\t0.0550\n"
     ]
    },
    {
     "name": "stderr",
     "output_type": "stream",
     "text": [
      "100%|███████████████████████████████████████████████████████████████████████████████████████████████████████████████████████████████████| 18/18 [00:00<00:00, 137.03it/s]\n"
     ]
    },
    {
     "name": "stdout",
     "output_type": "stream",
     "text": [
      "lr:  0.0001\n",
      "Epoch 98: \n",
      " Train Loss\t0.4203 \n",
      " Val Loss\t0.5888 \n",
      " Val Acc\t0.7097 \n",
      " Val F1\t\t0.8235 \n",
      " Val AUC\t0.4333 \n",
      " Val GMean\t0.3742 \n",
      " Val MCC\t0.0072\n"
     ]
    },
    {
     "name": "stderr",
     "output_type": "stream",
     "text": [
      "100%|███████████████████████████████████████████████████████████████████████████████████████████████████████████████████████████████████| 18/18 [00:00<00:00, 133.91it/s]\n"
     ]
    },
    {
     "name": "stdout",
     "output_type": "stream",
     "text": [
      "lr:  0.0001\n",
      "Epoch 99: \n",
      " Train Loss\t0.4187 \n",
      " Val Loss\t0.5911 \n",
      " Val Acc\t0.7419 \n",
      " Val F1\t\t0.8462 \n",
      " Val AUC\t0.4333 \n",
      " Val GMean\t0.3830 \n",
      " Val MCC\t0.0550\n",
      "=========================================================\n",
      "fold 3 as val set\n",
      "model parameters:  418817\n"
     ]
    },
    {
     "name": "stderr",
     "output_type": "stream",
     "text": [
      "100%|███████████████████████████████████████████████████████████████████████████████████████████████████████████████████████████████████| 18/18 [00:00<00:00, 129.92it/s]\n"
     ]
    },
    {
     "name": "stdout",
     "output_type": "stream",
     "text": [
      "lr:  0.0001\n",
      "Epoch 0: \n",
      " Train Loss\t0.6151 \n",
      " Val Loss\t0.7619 \n",
      " Val Acc\t0.5484 \n",
      " Val F1\t\t0.7083 \n",
      " Val AUC\t0.4958 \n",
      " Val GMean\t0.0000 \n",
      " Val MCC\t0.0000\n"
     ]
    },
    {
     "name": "stderr",
     "output_type": "stream",
     "text": [
      "100%|███████████████████████████████████████████████████████████████████████████████████████████████████████████████████████████████████| 18/18 [00:00<00:00, 125.64it/s]\n"
     ]
    },
    {
     "name": "stdout",
     "output_type": "stream",
     "text": [
      "lr:  0.0001\n",
      "Epoch 1: \n",
      " Train Loss\t0.5912 \n",
      " Val Loss\t0.7863 \n",
      " Val Acc\t0.5484 \n",
      " Val F1\t\t0.7083 \n",
      " Val AUC\t0.5336 \n",
      " Val GMean\t0.0000 \n",
      " Val MCC\t0.0000\n"
     ]
    },
    {
     "name": "stderr",
     "output_type": "stream",
     "text": [
      "100%|███████████████████████████████████████████████████████████████████████████████████████████████████████████████████████████████████| 18/18 [00:00<00:00, 123.98it/s]\n"
     ]
    },
    {
     "name": "stdout",
     "output_type": "stream",
     "text": [
      "lr:  0.0001\n",
      "Epoch 2: \n",
      " Train Loss\t0.5835 \n",
      " Val Loss\t0.7921 \n",
      " Val Acc\t0.5484 \n",
      " Val F1\t\t0.7083 \n",
      " Val AUC\t0.5672 \n",
      " Val GMean\t0.0000 \n",
      " Val MCC\t0.0000\n"
     ]
    },
    {
     "name": "stderr",
     "output_type": "stream",
     "text": [
      "100%|███████████████████████████████████████████████████████████████████████████████████████████████████████████████████████████████████| 18/18 [00:00<00:00, 122.14it/s]\n"
     ]
    },
    {
     "name": "stdout",
     "output_type": "stream",
     "text": [
      "lr:  0.0001\n",
      "Epoch 3: \n",
      " Train Loss\t0.5796 \n",
      " Val Loss\t0.7925 \n",
      " Val Acc\t0.5484 \n",
      " Val F1\t\t0.7083 \n",
      " Val AUC\t0.5966 \n",
      " Val GMean\t0.0000 \n",
      " Val MCC\t0.0000\n"
     ]
    },
    {
     "name": "stderr",
     "output_type": "stream",
     "text": [
      "100%|███████████████████████████████████████████████████████████████████████████████████████████████████████████████████████████████████| 18/18 [00:00<00:00, 129.75it/s]\n"
     ]
    },
    {
     "name": "stdout",
     "output_type": "stream",
     "text": [
      "lr:  0.0001\n",
      "Epoch 4: \n",
      " Train Loss\t0.5771 \n",
      " Val Loss\t0.7921 \n",
      " Val Acc\t0.5484 \n",
      " Val F1\t\t0.7083 \n",
      " Val AUC\t0.6303 \n",
      " Val GMean\t0.0000 \n",
      " Val MCC\t0.0000\n"
     ]
    },
    {
     "name": "stderr",
     "output_type": "stream",
     "text": [
      "100%|███████████████████████████████████████████████████████████████████████████████████████████████████████████████████████████████████| 18/18 [00:00<00:00, 129.33it/s]\n"
     ]
    },
    {
     "name": "stdout",
     "output_type": "stream",
     "text": [
      "lr:  0.0001\n",
      "Epoch 5: \n",
      " Train Loss\t0.5753 \n",
      " Val Loss\t0.7919 \n",
      " Val Acc\t0.5484 \n",
      " Val F1\t\t0.7083 \n",
      " Val AUC\t0.6471 \n",
      " Val GMean\t0.0000 \n",
      " Val MCC\t0.0000\n"
     ]
    },
    {
     "name": "stderr",
     "output_type": "stream",
     "text": [
      "100%|███████████████████████████████████████████████████████████████████████████████████████████████████████████████████████████████████| 18/18 [00:00<00:00, 121.11it/s]\n"
     ]
    },
    {
     "name": "stdout",
     "output_type": "stream",
     "text": [
      "lr:  0.0001\n",
      "Epoch 6: \n",
      " Train Loss\t0.5738 \n",
      " Val Loss\t0.7917 \n",
      " Val Acc\t0.5484 \n",
      " Val F1\t\t0.7083 \n",
      " Val AUC\t0.6681 \n",
      " Val GMean\t0.0000 \n",
      " Val MCC\t0.0000\n"
     ]
    },
    {
     "name": "stderr",
     "output_type": "stream",
     "text": [
      "100%|███████████████████████████████████████████████████████████████████████████████████████████████████████████████████████████████████| 18/18 [00:00<00:00, 127.12it/s]\n"
     ]
    },
    {
     "name": "stdout",
     "output_type": "stream",
     "text": [
      "lr:  0.0001\n",
      "Epoch 7: \n",
      " Train Loss\t0.5727 \n",
      " Val Loss\t0.7915 \n",
      " Val Acc\t0.5484 \n",
      " Val F1\t\t0.7083 \n",
      " Val AUC\t0.6765 \n",
      " Val GMean\t0.0000 \n",
      " Val MCC\t0.0000\n"
     ]
    },
    {
     "name": "stderr",
     "output_type": "stream",
     "text": [
      "100%|███████████████████████████████████████████████████████████████████████████████████████████████████████████████████████████████████| 18/18 [00:00<00:00, 125.04it/s]\n"
     ]
    },
    {
     "name": "stdout",
     "output_type": "stream",
     "text": [
      "lr:  0.0001\n",
      "Epoch 8: \n",
      " Train Loss\t0.5717 \n",
      " Val Loss\t0.7913 \n",
      " Val Acc\t0.5484 \n",
      " Val F1\t\t0.7083 \n",
      " Val AUC\t0.7059 \n",
      " Val GMean\t0.0000 \n",
      " Val MCC\t0.0000\n"
     ]
    },
    {
     "name": "stderr",
     "output_type": "stream",
     "text": [
      "100%|███████████████████████████████████████████████████████████████████████████████████████████████████████████████████████████████████| 18/18 [00:00<00:00, 124.92it/s]\n"
     ]
    },
    {
     "name": "stdout",
     "output_type": "stream",
     "text": [
      "lr:  0.0001\n",
      "Epoch 9: \n",
      " Train Loss\t0.5709 \n",
      " Val Loss\t0.7911 \n",
      " Val Acc\t0.5484 \n",
      " Val F1\t\t0.7083 \n",
      " Val AUC\t0.7185 \n",
      " Val GMean\t0.0000 \n",
      " Val MCC\t0.0000\n"
     ]
    },
    {
     "name": "stderr",
     "output_type": "stream",
     "text": [
      "100%|███████████████████████████████████████████████████████████████████████████████████████████████████████████████████████████████████| 18/18 [00:00<00:00, 128.19it/s]\n"
     ]
    },
    {
     "name": "stdout",
     "output_type": "stream",
     "text": [
      "lr:  0.0001\n",
      "Epoch 10: \n",
      " Train Loss\t0.5702 \n",
      " Val Loss\t0.7908 \n",
      " Val Acc\t0.5484 \n",
      " Val F1\t\t0.7083 \n",
      " Val AUC\t0.7101 \n",
      " Val GMean\t0.0000 \n",
      " Val MCC\t0.0000\n"
     ]
    },
    {
     "name": "stderr",
     "output_type": "stream",
     "text": [
      "100%|███████████████████████████████████████████████████████████████████████████████████████████████████████████████████████████████████| 18/18 [00:00<00:00, 120.90it/s]\n"
     ]
    },
    {
     "name": "stdout",
     "output_type": "stream",
     "text": [
      "lr:  0.0001\n",
      "Epoch 11: \n",
      " Train Loss\t0.5696 \n",
      " Val Loss\t0.7904 \n",
      " Val Acc\t0.5484 \n",
      " Val F1\t\t0.7083 \n",
      " Val AUC\t0.7143 \n",
      " Val GMean\t0.0000 \n",
      " Val MCC\t0.0000\n"
     ]
    },
    {
     "name": "stderr",
     "output_type": "stream",
     "text": [
      "100%|███████████████████████████████████████████████████████████████████████████████████████████████████████████████████████████████████| 18/18 [00:00<00:00, 127.46it/s]\n"
     ]
    },
    {
     "name": "stdout",
     "output_type": "stream",
     "text": [
      "lr:  0.0001\n",
      "Epoch 12: \n",
      " Train Loss\t0.5690 \n",
      " Val Loss\t0.7900 \n",
      " Val Acc\t0.5484 \n",
      " Val F1\t\t0.7083 \n",
      " Val AUC\t0.7185 \n",
      " Val GMean\t0.0000 \n",
      " Val MCC\t0.0000\n"
     ]
    },
    {
     "name": "stderr",
     "output_type": "stream",
     "text": [
      "100%|███████████████████████████████████████████████████████████████████████████████████████████████████████████████████████████████████| 18/18 [00:00<00:00, 130.69it/s]\n"
     ]
    },
    {
     "name": "stdout",
     "output_type": "stream",
     "text": [
      "lr:  0.0001\n",
      "Epoch 13: \n",
      " Train Loss\t0.5684 \n",
      " Val Loss\t0.7897 \n",
      " Val Acc\t0.5484 \n",
      " Val F1\t\t0.7083 \n",
      " Val AUC\t0.7227 \n",
      " Val GMean\t0.0000 \n",
      " Val MCC\t0.0000\n"
     ]
    },
    {
     "name": "stderr",
     "output_type": "stream",
     "text": [
      "100%|███████████████████████████████████████████████████████████████████████████████████████████████████████████████████████████████████| 18/18 [00:00<00:00, 131.45it/s]\n"
     ]
    },
    {
     "name": "stdout",
     "output_type": "stream",
     "text": [
      "lr:  0.0001\n",
      "Epoch 14: \n",
      " Train Loss\t0.5677 \n",
      " Val Loss\t0.7893 \n",
      " Val Acc\t0.5484 \n",
      " Val F1\t\t0.7083 \n",
      " Val AUC\t0.7227 \n",
      " Val GMean\t0.0000 \n",
      " Val MCC\t0.0000\n"
     ]
    },
    {
     "name": "stderr",
     "output_type": "stream",
     "text": [
      "100%|███████████████████████████████████████████████████████████████████████████████████████████████████████████████████████████████████| 18/18 [00:00<00:00, 129.30it/s]\n"
     ]
    },
    {
     "name": "stdout",
     "output_type": "stream",
     "text": [
      "lr:  0.0001\n",
      "Epoch 15: \n",
      " Train Loss\t0.5671 \n",
      " Val Loss\t0.7888 \n",
      " Val Acc\t0.5484 \n",
      " Val F1\t\t0.7083 \n",
      " Val AUC\t0.7185 \n",
      " Val GMean\t0.0000 \n",
      " Val MCC\t0.0000\n"
     ]
    },
    {
     "name": "stderr",
     "output_type": "stream",
     "text": [
      "100%|███████████████████████████████████████████████████████████████████████████████████████████████████████████████████████████████████| 18/18 [00:00<00:00, 122.64it/s]\n"
     ]
    },
    {
     "name": "stdout",
     "output_type": "stream",
     "text": [
      "lr:  0.0001\n",
      "Epoch 16: \n",
      " Train Loss\t0.5666 \n",
      " Val Loss\t0.7882 \n",
      " Val Acc\t0.5484 \n",
      " Val F1\t\t0.7083 \n",
      " Val AUC\t0.7185 \n",
      " Val GMean\t0.0000 \n",
      " Val MCC\t0.0000\n"
     ]
    },
    {
     "name": "stderr",
     "output_type": "stream",
     "text": [
      "100%|███████████████████████████████████████████████████████████████████████████████████████████████████████████████████████████████████| 18/18 [00:00<00:00, 125.66it/s]\n"
     ]
    },
    {
     "name": "stdout",
     "output_type": "stream",
     "text": [
      "lr:  0.0001\n",
      "Epoch 17: \n",
      " Train Loss\t0.5661 \n",
      " Val Loss\t0.7877 \n",
      " Val Acc\t0.5484 \n",
      " Val F1\t\t0.7083 \n",
      " Val AUC\t0.7269 \n",
      " Val GMean\t0.0000 \n",
      " Val MCC\t0.0000\n"
     ]
    },
    {
     "name": "stderr",
     "output_type": "stream",
     "text": [
      "100%|███████████████████████████████████████████████████████████████████████████████████████████████████████████████████████████████████| 18/18 [00:00<00:00, 130.65it/s]\n"
     ]
    },
    {
     "name": "stdout",
     "output_type": "stream",
     "text": [
      "lr:  0.0001\n",
      "Epoch 18: \n",
      " Train Loss\t0.5656 \n",
      " Val Loss\t0.7871 \n",
      " Val Acc\t0.5484 \n",
      " Val F1\t\t0.7083 \n",
      " Val AUC\t0.7185 \n",
      " Val GMean\t0.0000 \n",
      " Val MCC\t0.0000\n"
     ]
    },
    {
     "name": "stderr",
     "output_type": "stream",
     "text": [
      "100%|███████████████████████████████████████████████████████████████████████████████████████████████████████████████████████████████████| 18/18 [00:00<00:00, 130.94it/s]\n"
     ]
    },
    {
     "name": "stdout",
     "output_type": "stream",
     "text": [
      "lr:  0.0001\n",
      "Epoch 19: \n",
      " Train Loss\t0.5651 \n",
      " Val Loss\t0.7864 \n",
      " Val Acc\t0.5484 \n",
      " Val F1\t\t0.7083 \n",
      " Val AUC\t0.7227 \n",
      " Val GMean\t0.0000 \n",
      " Val MCC\t0.0000\n"
     ]
    },
    {
     "name": "stderr",
     "output_type": "stream",
     "text": [
      "100%|███████████████████████████████████████████████████████████████████████████████████████████████████████████████████████████████████| 18/18 [00:00<00:00, 119.95it/s]\n"
     ]
    },
    {
     "name": "stdout",
     "output_type": "stream",
     "text": [
      "lr:  0.0001\n",
      "Epoch 20: \n",
      " Train Loss\t0.5645 \n",
      " Val Loss\t0.7858 \n",
      " Val Acc\t0.5484 \n",
      " Val F1\t\t0.7083 \n",
      " Val AUC\t0.7101 \n",
      " Val GMean\t0.0000 \n",
      " Val MCC\t0.0000\n"
     ]
    },
    {
     "name": "stderr",
     "output_type": "stream",
     "text": [
      "100%|███████████████████████████████████████████████████████████████████████████████████████████████████████████████████████████████████| 18/18 [00:00<00:00, 129.04it/s]\n"
     ]
    },
    {
     "name": "stdout",
     "output_type": "stream",
     "text": [
      "lr:  0.0001\n",
      "Epoch 21: \n",
      " Train Loss\t0.5638 \n",
      " Val Loss\t0.7850 \n",
      " Val Acc\t0.5484 \n",
      " Val F1\t\t0.7083 \n",
      " Val AUC\t0.7143 \n",
      " Val GMean\t0.0000 \n",
      " Val MCC\t0.0000\n"
     ]
    },
    {
     "name": "stderr",
     "output_type": "stream",
     "text": [
      "100%|███████████████████████████████████████████████████████████████████████████████████████████████████████████████████████████████████| 18/18 [00:00<00:00, 120.93it/s]\n"
     ]
    },
    {
     "name": "stdout",
     "output_type": "stream",
     "text": [
      "lr:  0.0001\n",
      "Epoch 22: \n",
      " Train Loss\t0.5632 \n",
      " Val Loss\t0.7842 \n",
      " Val Acc\t0.5484 \n",
      " Val F1\t\t0.7083 \n",
      " Val AUC\t0.7143 \n",
      " Val GMean\t0.0000 \n",
      " Val MCC\t0.0000\n"
     ]
    },
    {
     "name": "stderr",
     "output_type": "stream",
     "text": [
      "100%|███████████████████████████████████████████████████████████████████████████████████████████████████████████████████████████████████| 18/18 [00:00<00:00, 112.32it/s]\n"
     ]
    },
    {
     "name": "stdout",
     "output_type": "stream",
     "text": [
      "lr:  0.0001\n",
      "Epoch 23: \n",
      " Train Loss\t0.5625 \n",
      " Val Loss\t0.7834 \n",
      " Val Acc\t0.5484 \n",
      " Val F1\t\t0.7083 \n",
      " Val AUC\t0.7227 \n",
      " Val GMean\t0.0000 \n",
      " Val MCC\t0.0000\n"
     ]
    },
    {
     "name": "stderr",
     "output_type": "stream",
     "text": [
      "100%|███████████████████████████████████████████████████████████████████████████████████████████████████████████████████████████████████| 18/18 [00:00<00:00, 123.53it/s]\n"
     ]
    },
    {
     "name": "stdout",
     "output_type": "stream",
     "text": [
      "lr:  0.0001\n",
      "Epoch 24: \n",
      " Train Loss\t0.5618 \n",
      " Val Loss\t0.7826 \n",
      " Val Acc\t0.5484 \n",
      " Val F1\t\t0.7083 \n",
      " Val AUC\t0.7143 \n",
      " Val GMean\t0.0000 \n",
      " Val MCC\t0.0000\n"
     ]
    },
    {
     "name": "stderr",
     "output_type": "stream",
     "text": [
      "100%|███████████████████████████████████████████████████████████████████████████████████████████████████████████████████████████████████| 18/18 [00:00<00:00, 127.56it/s]\n"
     ]
    },
    {
     "name": "stdout",
     "output_type": "stream",
     "text": [
      "lr:  0.0001\n",
      "Epoch 25: \n",
      " Train Loss\t0.5609 \n",
      " Val Loss\t0.7817 \n",
      " Val Acc\t0.5484 \n",
      " Val F1\t\t0.7083 \n",
      " Val AUC\t0.7185 \n",
      " Val GMean\t0.0000 \n",
      " Val MCC\t0.0000\n"
     ]
    },
    {
     "name": "stderr",
     "output_type": "stream",
     "text": [
      "100%|███████████████████████████████████████████████████████████████████████████████████████████████████████████████████████████████████| 18/18 [00:00<00:00, 125.26it/s]\n"
     ]
    },
    {
     "name": "stdout",
     "output_type": "stream",
     "text": [
      "lr:  0.0001\n",
      "Epoch 26: \n",
      " Train Loss\t0.5601 \n",
      " Val Loss\t0.7808 \n",
      " Val Acc\t0.5484 \n",
      " Val F1\t\t0.7083 \n",
      " Val AUC\t0.7143 \n",
      " Val GMean\t0.0000 \n",
      " Val MCC\t0.0000\n"
     ]
    },
    {
     "name": "stderr",
     "output_type": "stream",
     "text": [
      "100%|███████████████████████████████████████████████████████████████████████████████████████████████████████████████████████████████████| 18/18 [00:00<00:00, 129.63it/s]\n"
     ]
    },
    {
     "name": "stdout",
     "output_type": "stream",
     "text": [
      "lr:  0.0001\n",
      "Epoch 27: \n",
      " Train Loss\t0.5592 \n",
      " Val Loss\t0.7797 \n",
      " Val Acc\t0.5484 \n",
      " Val F1\t\t0.7083 \n",
      " Val AUC\t0.7143 \n",
      " Val GMean\t0.0000 \n",
      " Val MCC\t0.0000\n"
     ]
    },
    {
     "name": "stderr",
     "output_type": "stream",
     "text": [
      "100%|███████████████████████████████████████████████████████████████████████████████████████████████████████████████████████████████████| 18/18 [00:00<00:00, 128.84it/s]\n"
     ]
    },
    {
     "name": "stdout",
     "output_type": "stream",
     "text": [
      "lr:  0.0001\n",
      "Epoch 28: \n",
      " Train Loss\t0.5583 \n",
      " Val Loss\t0.7787 \n",
      " Val Acc\t0.5484 \n",
      " Val F1\t\t0.7083 \n",
      " Val AUC\t0.7185 \n",
      " Val GMean\t0.0000 \n",
      " Val MCC\t0.0000\n"
     ]
    },
    {
     "name": "stderr",
     "output_type": "stream",
     "text": [
      "100%|███████████████████████████████████████████████████████████████████████████████████████████████████████████████████████████████████| 18/18 [00:00<00:00, 131.93it/s]\n"
     ]
    },
    {
     "name": "stdout",
     "output_type": "stream",
     "text": [
      "lr:  0.0001\n",
      "Epoch 29: \n",
      " Train Loss\t0.5573 \n",
      " Val Loss\t0.7776 \n",
      " Val Acc\t0.5484 \n",
      " Val F1\t\t0.7083 \n",
      " Val AUC\t0.7227 \n",
      " Val GMean\t0.0000 \n",
      " Val MCC\t0.0000\n"
     ]
    },
    {
     "name": "stderr",
     "output_type": "stream",
     "text": [
      "100%|███████████████████████████████████████████████████████████████████████████████████████████████████████████████████████████████████| 18/18 [00:00<00:00, 137.54it/s]\n"
     ]
    },
    {
     "name": "stdout",
     "output_type": "stream",
     "text": [
      "lr:  0.0001\n",
      "Epoch 30: \n",
      " Train Loss\t0.5563 \n",
      " Val Loss\t0.7766 \n",
      " Val Acc\t0.5484 \n",
      " Val F1\t\t0.7083 \n",
      " Val AUC\t0.7311 \n",
      " Val GMean\t0.0000 \n",
      " Val MCC\t0.0000\n"
     ]
    },
    {
     "name": "stderr",
     "output_type": "stream",
     "text": [
      "100%|███████████████████████████████████████████████████████████████████████████████████████████████████████████████████████████████████| 18/18 [00:00<00:00, 138.40it/s]\n"
     ]
    },
    {
     "name": "stdout",
     "output_type": "stream",
     "text": [
      "lr:  0.0001\n",
      "Epoch 31: \n",
      " Train Loss\t0.5552 \n",
      " Val Loss\t0.7757 \n",
      " Val Acc\t0.5484 \n",
      " Val F1\t\t0.7083 \n",
      " Val AUC\t0.7227 \n",
      " Val GMean\t0.0000 \n",
      " Val MCC\t0.0000\n"
     ]
    },
    {
     "name": "stderr",
     "output_type": "stream",
     "text": [
      "100%|███████████████████████████████████████████████████████████████████████████████████████████████████████████████████████████████████| 18/18 [00:00<00:00, 138.84it/s]\n"
     ]
    },
    {
     "name": "stdout",
     "output_type": "stream",
     "text": [
      "lr:  0.0001\n",
      "Epoch 32: \n",
      " Train Loss\t0.5540 \n",
      " Val Loss\t0.7748 \n",
      " Val Acc\t0.5484 \n",
      " Val F1\t\t0.7083 \n",
      " Val AUC\t0.7185 \n",
      " Val GMean\t0.0000 \n",
      " Val MCC\t0.0000\n"
     ]
    },
    {
     "name": "stderr",
     "output_type": "stream",
     "text": [
      "100%|███████████████████████████████████████████████████████████████████████████████████████████████████████████████████████████████████| 18/18 [00:00<00:00, 140.81it/s]\n"
     ]
    },
    {
     "name": "stdout",
     "output_type": "stream",
     "text": [
      "lr:  0.0001\n",
      "Epoch 33: \n",
      " Train Loss\t0.5526 \n",
      " Val Loss\t0.7739 \n",
      " Val Acc\t0.5484 \n",
      " Val F1\t\t0.7083 \n",
      " Val AUC\t0.7227 \n",
      " Val GMean\t0.0000 \n",
      " Val MCC\t0.0000\n"
     ]
    },
    {
     "name": "stderr",
     "output_type": "stream",
     "text": [
      "100%|███████████████████████████████████████████████████████████████████████████████████████████████████████████████████████████████████| 18/18 [00:00<00:00, 138.65it/s]\n"
     ]
    },
    {
     "name": "stdout",
     "output_type": "stream",
     "text": [
      "lr:  0.0001\n",
      "Epoch 34: \n",
      " Train Loss\t0.5512 \n",
      " Val Loss\t0.7730 \n",
      " Val Acc\t0.5484 \n",
      " Val F1\t\t0.7083 \n",
      " Val AUC\t0.7185 \n",
      " Val GMean\t0.0000 \n",
      " Val MCC\t0.0000\n"
     ]
    },
    {
     "name": "stderr",
     "output_type": "stream",
     "text": [
      "100%|███████████████████████████████████████████████████████████████████████████████████████████████████████████████████████████████████| 18/18 [00:00<00:00, 141.51it/s]\n"
     ]
    },
    {
     "name": "stdout",
     "output_type": "stream",
     "text": [
      "lr:  0.0001\n",
      "Epoch 35: \n",
      " Train Loss\t0.5498 \n",
      " Val Loss\t0.7723 \n",
      " Val Acc\t0.5484 \n",
      " Val F1\t\t0.7083 \n",
      " Val AUC\t0.7143 \n",
      " Val GMean\t0.0000 \n",
      " Val MCC\t0.0000\n"
     ]
    },
    {
     "name": "stderr",
     "output_type": "stream",
     "text": [
      "100%|███████████████████████████████████████████████████████████████████████████████████████████████████████████████████████████████████| 18/18 [00:00<00:00, 138.31it/s]\n"
     ]
    },
    {
     "name": "stdout",
     "output_type": "stream",
     "text": [
      "lr:  0.0001\n",
      "Epoch 36: \n",
      " Train Loss\t0.5484 \n",
      " Val Loss\t0.7714 \n",
      " Val Acc\t0.5484 \n",
      " Val F1\t\t0.7083 \n",
      " Val AUC\t0.7143 \n",
      " Val GMean\t0.0000 \n",
      " Val MCC\t0.0000\n"
     ]
    },
    {
     "name": "stderr",
     "output_type": "stream",
     "text": [
      "100%|███████████████████████████████████████████████████████████████████████████████████████████████████████████████████████████████████| 18/18 [00:00<00:00, 136.96it/s]\n"
     ]
    },
    {
     "name": "stdout",
     "output_type": "stream",
     "text": [
      "lr:  0.0001\n",
      "Epoch 37: \n",
      " Train Loss\t0.5469 \n",
      " Val Loss\t0.7708 \n",
      " Val Acc\t0.5484 \n",
      " Val F1\t\t0.7083 \n",
      " Val AUC\t0.7143 \n",
      " Val GMean\t0.0000 \n",
      " Val MCC\t0.0000\n"
     ]
    },
    {
     "name": "stderr",
     "output_type": "stream",
     "text": [
      "100%|███████████████████████████████████████████████████████████████████████████████████████████████████████████████████████████████████| 18/18 [00:00<00:00, 141.72it/s]\n"
     ]
    },
    {
     "name": "stdout",
     "output_type": "stream",
     "text": [
      "lr:  0.0001\n",
      "Epoch 38: \n",
      " Train Loss\t0.5455 \n",
      " Val Loss\t0.7700 \n",
      " Val Acc\t0.5484 \n",
      " Val F1\t\t0.7083 \n",
      " Val AUC\t0.7101 \n",
      " Val GMean\t0.0000 \n",
      " Val MCC\t0.0000\n"
     ]
    },
    {
     "name": "stderr",
     "output_type": "stream",
     "text": [
      "100%|███████████████████████████████████████████████████████████████████████████████████████████████████████████████████████████████████| 18/18 [00:00<00:00, 132.74it/s]\n"
     ]
    },
    {
     "name": "stdout",
     "output_type": "stream",
     "text": [
      "lr:  0.0001\n",
      "Epoch 39: \n",
      " Train Loss\t0.5440 \n",
      " Val Loss\t0.7697 \n",
      " Val Acc\t0.5484 \n",
      " Val F1\t\t0.7083 \n",
      " Val AUC\t0.6933 \n",
      " Val GMean\t0.0000 \n",
      " Val MCC\t0.0000\n"
     ]
    },
    {
     "name": "stderr",
     "output_type": "stream",
     "text": [
      "100%|███████████████████████████████████████████████████████████████████████████████████████████████████████████████████████████████████| 18/18 [00:00<00:00, 140.93it/s]\n"
     ]
    },
    {
     "name": "stdout",
     "output_type": "stream",
     "text": [
      "lr:  0.0001\n",
      "Epoch 40: \n",
      " Train Loss\t0.5425 \n",
      " Val Loss\t0.7692 \n",
      " Val Acc\t0.5484 \n",
      " Val F1\t\t0.7083 \n",
      " Val AUC\t0.6975 \n",
      " Val GMean\t0.0000 \n",
      " Val MCC\t0.0000\n"
     ]
    },
    {
     "name": "stderr",
     "output_type": "stream",
     "text": [
      "100%|███████████████████████████████████████████████████████████████████████████████████████████████████████████████████████████████████| 18/18 [00:00<00:00, 135.30it/s]\n"
     ]
    },
    {
     "name": "stdout",
     "output_type": "stream",
     "text": [
      "lr:  0.0001\n",
      "Epoch 41: \n",
      " Train Loss\t0.5408 \n",
      " Val Loss\t0.7691 \n",
      " Val Acc\t0.5484 \n",
      " Val F1\t\t0.7083 \n",
      " Val AUC\t0.6975 \n",
      " Val GMean\t0.0000 \n",
      " Val MCC\t0.0000\n"
     ]
    },
    {
     "name": "stderr",
     "output_type": "stream",
     "text": [
      "100%|███████████████████████████████████████████████████████████████████████████████████████████████████████████████████████████████████| 18/18 [00:00<00:00, 139.83it/s]\n"
     ]
    },
    {
     "name": "stdout",
     "output_type": "stream",
     "text": [
      "lr:  0.0001\n",
      "Epoch 42: \n",
      " Train Loss\t0.5392 \n",
      " Val Loss\t0.7684 \n",
      " Val Acc\t0.5484 \n",
      " Val F1\t\t0.7083 \n",
      " Val AUC\t0.6933 \n",
      " Val GMean\t0.0000 \n",
      " Val MCC\t0.0000\n"
     ]
    },
    {
     "name": "stderr",
     "output_type": "stream",
     "text": [
      "100%|███████████████████████████████████████████████████████████████████████████████████████████████████████████████████████████████████| 18/18 [00:00<00:00, 132.93it/s]\n"
     ]
    },
    {
     "name": "stdout",
     "output_type": "stream",
     "text": [
      "lr:  0.0001\n",
      "Epoch 43: \n",
      " Train Loss\t0.5372 \n",
      " Val Loss\t0.7680 \n",
      " Val Acc\t0.5484 \n",
      " Val F1\t\t0.7083 \n",
      " Val AUC\t0.6933 \n",
      " Val GMean\t0.0000 \n",
      " Val MCC\t0.0000\n"
     ]
    },
    {
     "name": "stderr",
     "output_type": "stream",
     "text": [
      "100%|███████████████████████████████████████████████████████████████████████████████████████████████████████████████████████████████████| 18/18 [00:00<00:00, 125.91it/s]\n"
     ]
    },
    {
     "name": "stdout",
     "output_type": "stream",
     "text": [
      "lr:  0.0001\n",
      "Epoch 44: \n",
      " Train Loss\t0.5357 \n",
      " Val Loss\t0.7677 \n",
      " Val Acc\t0.5484 \n",
      " Val F1\t\t0.7083 \n",
      " Val AUC\t0.6891 \n",
      " Val GMean\t0.0000 \n",
      " Val MCC\t0.0000\n"
     ]
    },
    {
     "name": "stderr",
     "output_type": "stream",
     "text": [
      "100%|███████████████████████████████████████████████████████████████████████████████████████████████████████████████████████████████████| 18/18 [00:00<00:00, 135.69it/s]\n"
     ]
    },
    {
     "name": "stdout",
     "output_type": "stream",
     "text": [
      "lr:  0.0001\n",
      "Epoch 45: \n",
      " Train Loss\t0.5339 \n",
      " Val Loss\t0.7676 \n",
      " Val Acc\t0.5484 \n",
      " Val F1\t\t0.7083 \n",
      " Val AUC\t0.6891 \n",
      " Val GMean\t0.0000 \n",
      " Val MCC\t0.0000\n"
     ]
    },
    {
     "name": "stderr",
     "output_type": "stream",
     "text": [
      "100%|███████████████████████████████████████████████████████████████████████████████████████████████████████████████████████████████████| 18/18 [00:00<00:00, 137.56it/s]\n"
     ]
    },
    {
     "name": "stdout",
     "output_type": "stream",
     "text": [
      "lr:  0.0001\n",
      "Epoch 46: \n",
      " Train Loss\t0.5318 \n",
      " Val Loss\t0.7677 \n",
      " Val Acc\t0.5484 \n",
      " Val F1\t\t0.7083 \n",
      " Val AUC\t0.6807 \n",
      " Val GMean\t0.0000 \n",
      " Val MCC\t0.0000\n"
     ]
    },
    {
     "name": "stderr",
     "output_type": "stream",
     "text": [
      "100%|███████████████████████████████████████████████████████████████████████████████████████████████████████████████████████████████████| 18/18 [00:00<00:00, 134.90it/s]\n"
     ]
    },
    {
     "name": "stdout",
     "output_type": "stream",
     "text": [
      "lr:  0.0001\n",
      "Epoch 47: \n",
      " Train Loss\t0.5297 \n",
      " Val Loss\t0.7677 \n",
      " Val Acc\t0.5484 \n",
      " Val F1\t\t0.7083 \n",
      " Val AUC\t0.6807 \n",
      " Val GMean\t0.0000 \n",
      " Val MCC\t0.0000\n"
     ]
    },
    {
     "name": "stderr",
     "output_type": "stream",
     "text": [
      "100%|███████████████████████████████████████████████████████████████████████████████████████████████████████████████████████████████████| 18/18 [00:00<00:00, 139.23it/s]\n"
     ]
    },
    {
     "name": "stdout",
     "output_type": "stream",
     "text": [
      "lr:  0.0001\n",
      "Epoch 48: \n",
      " Train Loss\t0.5278 \n",
      " Val Loss\t0.7679 \n",
      " Val Acc\t0.5161 \n",
      " Val F1\t\t0.6809 \n",
      " Val AUC\t0.6807 \n",
      " Val GMean\t0.0000 \n",
      " Val MCC\t-0.1657\n"
     ]
    },
    {
     "name": "stderr",
     "output_type": "stream",
     "text": [
      "100%|███████████████████████████████████████████████████████████████████████████████████████████████████████████████████████████████████| 18/18 [00:00<00:00, 135.07it/s]\n"
     ]
    },
    {
     "name": "stdout",
     "output_type": "stream",
     "text": [
      "lr:  0.0001\n",
      "Epoch 49: \n",
      " Train Loss\t0.5259 \n",
      " Val Loss\t0.7680 \n",
      " Val Acc\t0.5161 \n",
      " Val F1\t\t0.6809 \n",
      " Val AUC\t0.6807 \n",
      " Val GMean\t0.0000 \n",
      " Val MCC\t-0.1657\n"
     ]
    },
    {
     "name": "stderr",
     "output_type": "stream",
     "text": [
      "100%|███████████████████████████████████████████████████████████████████████████████████████████████████████████████████████████████████| 18/18 [00:00<00:00, 137.12it/s]\n"
     ]
    },
    {
     "name": "stdout",
     "output_type": "stream",
     "text": [
      "lr:  0.0001\n",
      "Epoch 50: \n",
      " Train Loss\t0.5238 \n",
      " Val Loss\t0.7682 \n",
      " Val Acc\t0.5161 \n",
      " Val F1\t\t0.6809 \n",
      " Val AUC\t0.6807 \n",
      " Val GMean\t0.0000 \n",
      " Val MCC\t-0.1657\n"
     ]
    },
    {
     "name": "stderr",
     "output_type": "stream",
     "text": [
      "100%|███████████████████████████████████████████████████████████████████████████████████████████████████████████████████████████████████| 18/18 [00:00<00:00, 136.77it/s]\n"
     ]
    },
    {
     "name": "stdout",
     "output_type": "stream",
     "text": [
      "lr:  0.0001\n",
      "Epoch 51: \n",
      " Train Loss\t0.5219 \n",
      " Val Loss\t0.7685 \n",
      " Val Acc\t0.5161 \n",
      " Val F1\t\t0.6809 \n",
      " Val AUC\t0.6765 \n",
      " Val GMean\t0.0000 \n",
      " Val MCC\t-0.1657\n"
     ]
    },
    {
     "name": "stderr",
     "output_type": "stream",
     "text": [
      "100%|███████████████████████████████████████████████████████████████████████████████████████████████████████████████████████████████████| 18/18 [00:00<00:00, 129.25it/s]\n"
     ]
    },
    {
     "name": "stdout",
     "output_type": "stream",
     "text": [
      "lr:  0.0001\n",
      "Epoch 52: \n",
      " Train Loss\t0.5198 \n",
      " Val Loss\t0.7688 \n",
      " Val Acc\t0.5161 \n",
      " Val F1\t\t0.6809 \n",
      " Val AUC\t0.6765 \n",
      " Val GMean\t0.0000 \n",
      " Val MCC\t-0.1657\n"
     ]
    },
    {
     "name": "stderr",
     "output_type": "stream",
     "text": [
      "100%|███████████████████████████████████████████████████████████████████████████████████████████████████████████████████████████████████| 18/18 [00:00<00:00, 134.56it/s]\n"
     ]
    },
    {
     "name": "stdout",
     "output_type": "stream",
     "text": [
      "lr:  0.0001\n",
      "Epoch 53: \n",
      " Train Loss\t0.5173 \n",
      " Val Loss\t0.7692 \n",
      " Val Acc\t0.5484 \n",
      " Val F1\t\t0.6957 \n",
      " Val AUC\t0.6723 \n",
      " Val GMean\t0.2593 \n",
      " Val MCC\t0.0255\n"
     ]
    },
    {
     "name": "stderr",
     "output_type": "stream",
     "text": [
      "100%|███████████████████████████████████████████████████████████████████████████████████████████████████████████████████████████████████| 18/18 [00:00<00:00, 140.55it/s]\n"
     ]
    },
    {
     "name": "stdout",
     "output_type": "stream",
     "text": [
      "lr:  0.0001\n",
      "Epoch 54: \n",
      " Train Loss\t0.5150 \n",
      " Val Loss\t0.7697 \n",
      " Val Acc\t0.5484 \n",
      " Val F1\t\t0.6957 \n",
      " Val AUC\t0.6555 \n",
      " Val GMean\t0.2593 \n",
      " Val MCC\t0.0255\n"
     ]
    },
    {
     "name": "stderr",
     "output_type": "stream",
     "text": [
      "100%|███████████████████████████████████████████████████████████████████████████████████████████████████████████████████████████████████| 18/18 [00:00<00:00, 138.05it/s]\n"
     ]
    },
    {
     "name": "stdout",
     "output_type": "stream",
     "text": [
      "lr:  0.0001\n",
      "Epoch 55: \n",
      " Train Loss\t0.5125 \n",
      " Val Loss\t0.7702 \n",
      " Val Acc\t0.5484 \n",
      " Val F1\t\t0.6957 \n",
      " Val AUC\t0.6555 \n",
      " Val GMean\t0.2593 \n",
      " Val MCC\t0.0255\n"
     ]
    },
    {
     "name": "stderr",
     "output_type": "stream",
     "text": [
      "100%|███████████████████████████████████████████████████████████████████████████████████████████████████████████████████████████████████| 18/18 [00:00<00:00, 136.46it/s]\n"
     ]
    },
    {
     "name": "stdout",
     "output_type": "stream",
     "text": [
      "lr:  0.0001\n",
      "Epoch 56: \n",
      " Train Loss\t0.5104 \n",
      " Val Loss\t0.7710 \n",
      " Val Acc\t0.5484 \n",
      " Val F1\t\t0.6957 \n",
      " Val AUC\t0.6555 \n",
      " Val GMean\t0.2593 \n",
      " Val MCC\t0.0255\n"
     ]
    },
    {
     "name": "stderr",
     "output_type": "stream",
     "text": [
      "100%|███████████████████████████████████████████████████████████████████████████████████████████████████████████████████████████████████| 18/18 [00:00<00:00, 138.94it/s]\n"
     ]
    },
    {
     "name": "stdout",
     "output_type": "stream",
     "text": [
      "lr:  0.0001\n",
      "Epoch 57: \n",
      " Train Loss\t0.5082 \n",
      " Val Loss\t0.7719 \n",
      " Val Acc\t0.5484 \n",
      " Val F1\t\t0.6957 \n",
      " Val AUC\t0.6681 \n",
      " Val GMean\t0.2593 \n",
      " Val MCC\t0.0255\n"
     ]
    },
    {
     "name": "stderr",
     "output_type": "stream",
     "text": [
      "100%|███████████████████████████████████████████████████████████████████████████████████████████████████████████████████████████████████| 18/18 [00:00<00:00, 126.64it/s]\n"
     ]
    },
    {
     "name": "stdout",
     "output_type": "stream",
     "text": [
      "lr:  0.0001\n",
      "Epoch 58: \n",
      " Train Loss\t0.5055 \n",
      " Val Loss\t0.7736 \n",
      " Val Acc\t0.5161 \n",
      " Val F1\t\t0.6809 \n",
      " Val AUC\t0.6429 \n",
      " Val GMean\t0.0000 \n",
      " Val MCC\t-0.1657\n"
     ]
    },
    {
     "name": "stderr",
     "output_type": "stream",
     "text": [
      "100%|███████████████████████████████████████████████████████████████████████████████████████████████████████████████████████████████████| 18/18 [00:00<00:00, 134.54it/s]\n"
     ]
    },
    {
     "name": "stdout",
     "output_type": "stream",
     "text": [
      "lr:  0.0001\n",
      "Epoch 59: \n",
      " Train Loss\t0.5030 \n",
      " Val Loss\t0.7744 \n",
      " Val Acc\t0.5484 \n",
      " Val F1\t\t0.6957 \n",
      " Val AUC\t0.6261 \n",
      " Val GMean\t0.2593 \n",
      " Val MCC\t0.0255\n"
     ]
    },
    {
     "name": "stderr",
     "output_type": "stream",
     "text": [
      "100%|███████████████████████████████████████████████████████████████████████████████████████████████████████████████████████████████████| 18/18 [00:00<00:00, 134.78it/s]\n"
     ]
    },
    {
     "name": "stdout",
     "output_type": "stream",
     "text": [
      "lr:  0.0001\n",
      "Epoch 60: \n",
      " Train Loss\t0.5005 \n",
      " Val Loss\t0.7755 \n",
      " Val Acc\t0.5484 \n",
      " Val F1\t\t0.6957 \n",
      " Val AUC\t0.6303 \n",
      " Val GMean\t0.2593 \n",
      " Val MCC\t0.0255\n"
     ]
    },
    {
     "name": "stderr",
     "output_type": "stream",
     "text": [
      "100%|███████████████████████████████████████████████████████████████████████████████████████████████████████████████████████████████████| 18/18 [00:00<00:00, 139.65it/s]\n"
     ]
    },
    {
     "name": "stdout",
     "output_type": "stream",
     "text": [
      "lr:  0.0001\n",
      "Epoch 61: \n",
      " Train Loss\t0.4982 \n",
      " Val Loss\t0.7764 \n",
      " Val Acc\t0.5484 \n",
      " Val F1\t\t0.6957 \n",
      " Val AUC\t0.6261 \n",
      " Val GMean\t0.2593 \n",
      " Val MCC\t0.0255\n"
     ]
    },
    {
     "name": "stderr",
     "output_type": "stream",
     "text": [
      "100%|███████████████████████████████████████████████████████████████████████████████████████████████████████████████████████████████████| 18/18 [00:00<00:00, 136.97it/s]\n"
     ]
    },
    {
     "name": "stdout",
     "output_type": "stream",
     "text": [
      "lr:  0.0001\n",
      "Epoch 62: \n",
      " Train Loss\t0.4957 \n",
      " Val Loss\t0.7778 \n",
      " Val Acc\t0.5484 \n",
      " Val F1\t\t0.6957 \n",
      " Val AUC\t0.6345 \n",
      " Val GMean\t0.2593 \n",
      " Val MCC\t0.0255\n"
     ]
    },
    {
     "name": "stderr",
     "output_type": "stream",
     "text": [
      "100%|███████████████████████████████████████████████████████████████████████████████████████████████████████████████████████████████████| 18/18 [00:00<00:00, 134.93it/s]\n"
     ]
    },
    {
     "name": "stdout",
     "output_type": "stream",
     "text": [
      "lr:  0.0001\n",
      "Epoch 63: \n",
      " Train Loss\t0.4933 \n",
      " Val Loss\t0.7788 \n",
      " Val Acc\t0.5484 \n",
      " Val F1\t\t0.6957 \n",
      " Val AUC\t0.6218 \n",
      " Val GMean\t0.2593 \n",
      " Val MCC\t0.0255\n"
     ]
    },
    {
     "name": "stderr",
     "output_type": "stream",
     "text": [
      "100%|███████████████████████████████████████████████████████████████████████████████████████████████████████████████████████████████████| 18/18 [00:00<00:00, 136.76it/s]\n"
     ]
    },
    {
     "name": "stdout",
     "output_type": "stream",
     "text": [
      "lr:  0.0001\n",
      "Epoch 64: \n",
      " Train Loss\t0.4909 \n",
      " Val Loss\t0.7801 \n",
      " Val Acc\t0.5484 \n",
      " Val F1\t\t0.6957 \n",
      " Val AUC\t0.6176 \n",
      " Val GMean\t0.2593 \n",
      " Val MCC\t0.0255\n"
     ]
    },
    {
     "name": "stderr",
     "output_type": "stream",
     "text": [
      "100%|███████████████████████████████████████████████████████████████████████████████████████████████████████████████████████████████████| 18/18 [00:00<00:00, 132.13it/s]\n"
     ]
    },
    {
     "name": "stdout",
     "output_type": "stream",
     "text": [
      "lr:  0.0001\n",
      "Epoch 65: \n",
      " Train Loss\t0.4886 \n",
      " Val Loss\t0.7811 \n",
      " Val Acc\t0.5484 \n",
      " Val F1\t\t0.6957 \n",
      " Val AUC\t0.6092 \n",
      " Val GMean\t0.2593 \n",
      " Val MCC\t0.0255\n"
     ]
    },
    {
     "name": "stderr",
     "output_type": "stream",
     "text": [
      "100%|███████████████████████████████████████████████████████████████████████████████████████████████████████████████████████████████████| 18/18 [00:00<00:00, 133.46it/s]\n"
     ]
    },
    {
     "name": "stdout",
     "output_type": "stream",
     "text": [
      "lr:  0.0001\n",
      "Epoch 66: \n",
      " Train Loss\t0.4859 \n",
      " Val Loss\t0.7826 \n",
      " Val Acc\t0.5484 \n",
      " Val F1\t\t0.6957 \n",
      " Val AUC\t0.6134 \n",
      " Val GMean\t0.2593 \n",
      " Val MCC\t0.0255\n"
     ]
    },
    {
     "name": "stderr",
     "output_type": "stream",
     "text": [
      "100%|███████████████████████████████████████████████████████████████████████████████████████████████████████████████████████████████████| 18/18 [00:00<00:00, 139.09it/s]\n"
     ]
    },
    {
     "name": "stdout",
     "output_type": "stream",
     "text": [
      "lr:  0.0001\n",
      "Epoch 67: \n",
      " Train Loss\t0.4834 \n",
      " Val Loss\t0.7842 \n",
      " Val Acc\t0.5484 \n",
      " Val F1\t\t0.6957 \n",
      " Val AUC\t0.6134 \n",
      " Val GMean\t0.2593 \n",
      " Val MCC\t0.0255\n"
     ]
    },
    {
     "name": "stderr",
     "output_type": "stream",
     "text": [
      "100%|███████████████████████████████████████████████████████████████████████████████████████████████████████████████████████████████████| 18/18 [00:00<00:00, 136.19it/s]\n"
     ]
    },
    {
     "name": "stdout",
     "output_type": "stream",
     "text": [
      "lr:  0.0001\n",
      "Epoch 68: \n",
      " Train Loss\t0.4811 \n",
      " Val Loss\t0.7855 \n",
      " Val Acc\t0.5484 \n",
      " Val F1\t\t0.6957 \n",
      " Val AUC\t0.6092 \n",
      " Val GMean\t0.2593 \n",
      " Val MCC\t0.0255\n"
     ]
    },
    {
     "name": "stderr",
     "output_type": "stream",
     "text": [
      "100%|███████████████████████████████████████████████████████████████████████████████████████████████████████████████████████████████████| 18/18 [00:00<00:00, 137.95it/s]\n"
     ]
    },
    {
     "name": "stdout",
     "output_type": "stream",
     "text": [
      "lr:  0.0001\n",
      "Epoch 69: \n",
      " Train Loss\t0.4786 \n",
      " Val Loss\t0.7872 \n",
      " Val Acc\t0.5484 \n",
      " Val F1\t\t0.6957 \n",
      " Val AUC\t0.6176 \n",
      " Val GMean\t0.2593 \n",
      " Val MCC\t0.0255\n"
     ]
    },
    {
     "name": "stderr",
     "output_type": "stream",
     "text": [
      "100%|███████████████████████████████████████████████████████████████████████████████████████████████████████████████████████████████████| 18/18 [00:00<00:00, 129.64it/s]\n"
     ]
    },
    {
     "name": "stdout",
     "output_type": "stream",
     "text": [
      "lr:  0.0001\n",
      "Epoch 70: \n",
      " Train Loss\t0.4761 \n",
      " Val Loss\t0.7895 \n",
      " Val Acc\t0.5484 \n",
      " Val F1\t\t0.6957 \n",
      " Val AUC\t0.6134 \n",
      " Val GMean\t0.2593 \n",
      " Val MCC\t0.0255\n"
     ]
    },
    {
     "name": "stderr",
     "output_type": "stream",
     "text": [
      "100%|███████████████████████████████████████████████████████████████████████████████████████████████████████████████████████████████████| 18/18 [00:00<00:00, 137.02it/s]\n"
     ]
    },
    {
     "name": "stdout",
     "output_type": "stream",
     "text": [
      "lr:  0.0001\n",
      "Epoch 71: \n",
      " Train Loss\t0.4738 \n",
      " Val Loss\t0.7907 \n",
      " Val Acc\t0.5484 \n",
      " Val F1\t\t0.6957 \n",
      " Val AUC\t0.6176 \n",
      " Val GMean\t0.2593 \n",
      " Val MCC\t0.0255\n"
     ]
    },
    {
     "name": "stderr",
     "output_type": "stream",
     "text": [
      "100%|███████████████████████████████████████████████████████████████████████████████████████████████████████████████████████████████████| 18/18 [00:00<00:00, 141.15it/s]\n"
     ]
    },
    {
     "name": "stdout",
     "output_type": "stream",
     "text": [
      "lr:  0.0001\n",
      "Epoch 72: \n",
      " Train Loss\t0.4711 \n",
      " Val Loss\t0.7919 \n",
      " Val Acc\t0.5806 \n",
      " Val F1\t\t0.7111 \n",
      " Val AUC\t0.6134 \n",
      " Val GMean\t0.3667 \n",
      " Val MCC\t0.1414\n"
     ]
    },
    {
     "name": "stderr",
     "output_type": "stream",
     "text": [
      "100%|███████████████████████████████████████████████████████████████████████████████████████████████████████████████████████████████████| 18/18 [00:00<00:00, 138.25it/s]\n"
     ]
    },
    {
     "name": "stdout",
     "output_type": "stream",
     "text": [
      "lr:  0.0001\n",
      "Epoch 73: \n",
      " Train Loss\t0.4687 \n",
      " Val Loss\t0.7945 \n",
      " Val Acc\t0.5484 \n",
      " Val F1\t\t0.6957 \n",
      " Val AUC\t0.6218 \n",
      " Val GMean\t0.2593 \n",
      " Val MCC\t0.0255\n"
     ]
    },
    {
     "name": "stderr",
     "output_type": "stream",
     "text": [
      "100%|███████████████████████████████████████████████████████████████████████████████████████████████████████████████████████████████████| 18/18 [00:00<00:00, 139.41it/s]\n"
     ]
    },
    {
     "name": "stdout",
     "output_type": "stream",
     "text": [
      "lr:  0.0001\n",
      "Epoch 74: \n",
      " Train Loss\t0.4665 \n",
      " Val Loss\t0.7963 \n",
      " Val Acc\t0.5484 \n",
      " Val F1\t\t0.6957 \n",
      " Val AUC\t0.6092 \n",
      " Val GMean\t0.2593 \n",
      " Val MCC\t0.0255\n"
     ]
    },
    {
     "name": "stderr",
     "output_type": "stream",
     "text": [
      "100%|███████████████████████████████████████████████████████████████████████████████████████████████████████████████████████████████████| 18/18 [00:00<00:00, 136.11it/s]\n"
     ]
    },
    {
     "name": "stdout",
     "output_type": "stream",
     "text": [
      "lr:  0.0001\n",
      "Epoch 75: \n",
      " Train Loss\t0.4639 \n",
      " Val Loss\t0.7980 \n",
      " Val Acc\t0.5484 \n",
      " Val F1\t\t0.6957 \n",
      " Val AUC\t0.6050 \n",
      " Val GMean\t0.2593 \n",
      " Val MCC\t0.0255\n"
     ]
    },
    {
     "name": "stderr",
     "output_type": "stream",
     "text": [
      "100%|███████████████████████████████████████████████████████████████████████████████████████████████████████████████████████████████████| 18/18 [00:00<00:00, 138.53it/s]\n"
     ]
    },
    {
     "name": "stdout",
     "output_type": "stream",
     "text": [
      "lr:  0.0001\n",
      "Epoch 76: \n",
      " Train Loss\t0.4617 \n",
      " Val Loss\t0.8001 \n",
      " Val Acc\t0.5484 \n",
      " Val F1\t\t0.6957 \n",
      " Val AUC\t0.6008 \n",
      " Val GMean\t0.2593 \n",
      " Val MCC\t0.0255\n"
     ]
    },
    {
     "name": "stderr",
     "output_type": "stream",
     "text": [
      "100%|███████████████████████████████████████████████████████████████████████████████████████████████████████████████████████████████████| 18/18 [00:00<00:00, 139.04it/s]\n"
     ]
    },
    {
     "name": "stdout",
     "output_type": "stream",
     "text": [
      "lr:  0.0001\n",
      "Epoch 77: \n",
      " Train Loss\t0.4593 \n",
      " Val Loss\t0.8019 \n",
      " Val Acc\t0.5484 \n",
      " Val F1\t\t0.6957 \n",
      " Val AUC\t0.5924 \n",
      " Val GMean\t0.2593 \n",
      " Val MCC\t0.0255\n"
     ]
    },
    {
     "name": "stderr",
     "output_type": "stream",
     "text": [
      "100%|███████████████████████████████████████████████████████████████████████████████████████████████████████████████████████████████████| 18/18 [00:00<00:00, 135.45it/s]\n"
     ]
    },
    {
     "name": "stdout",
     "output_type": "stream",
     "text": [
      "lr:  0.0001\n",
      "Epoch 78: \n",
      " Train Loss\t0.4571 \n",
      " Val Loss\t0.8046 \n",
      " Val Acc\t0.5484 \n",
      " Val F1\t\t0.6957 \n",
      " Val AUC\t0.5882 \n",
      " Val GMean\t0.2593 \n",
      " Val MCC\t0.0255\n"
     ]
    },
    {
     "name": "stderr",
     "output_type": "stream",
     "text": [
      "100%|███████████████████████████████████████████████████████████████████████████████████████████████████████████████████████████████████| 18/18 [00:00<00:00, 137.91it/s]\n"
     ]
    },
    {
     "name": "stdout",
     "output_type": "stream",
     "text": [
      "lr:  0.0001\n",
      "Epoch 79: \n",
      " Train Loss\t0.4550 \n",
      " Val Loss\t0.8062 \n",
      " Val Acc\t0.5806 \n",
      " Val F1\t\t0.7111 \n",
      " Val AUC\t0.6008 \n",
      " Val GMean\t0.3667 \n",
      " Val MCC\t0.1414\n"
     ]
    },
    {
     "name": "stderr",
     "output_type": "stream",
     "text": [
      "100%|███████████████████████████████████████████████████████████████████████████████████████████████████████████████████████████████████| 18/18 [00:00<00:00, 139.23it/s]\n"
     ]
    },
    {
     "name": "stdout",
     "output_type": "stream",
     "text": [
      "lr:  0.0001\n",
      "Epoch 80: \n",
      " Train Loss\t0.4523 \n",
      " Val Loss\t0.8080 \n",
      " Val Acc\t0.5806 \n",
      " Val F1\t\t0.7111 \n",
      " Val AUC\t0.6008 \n",
      " Val GMean\t0.3667 \n",
      " Val MCC\t0.1414\n"
     ]
    },
    {
     "name": "stderr",
     "output_type": "stream",
     "text": [
      "100%|███████████████████████████████████████████████████████████████████████████████████████████████████████████████████████████████████| 18/18 [00:00<00:00, 134.19it/s]\n"
     ]
    },
    {
     "name": "stdout",
     "output_type": "stream",
     "text": [
      "lr:  0.0001\n",
      "Epoch 81: \n",
      " Train Loss\t0.4499 \n",
      " Val Loss\t0.8106 \n",
      " Val Acc\t0.5484 \n",
      " Val F1\t\t0.6957 \n",
      " Val AUC\t0.5924 \n",
      " Val GMean\t0.2593 \n",
      " Val MCC\t0.0255\n"
     ]
    },
    {
     "name": "stderr",
     "output_type": "stream",
     "text": [
      "100%|███████████████████████████████████████████████████████████████████████████████████████████████████████████████████████████████████| 18/18 [00:00<00:00, 136.80it/s]\n"
     ]
    },
    {
     "name": "stdout",
     "output_type": "stream",
     "text": [
      "lr:  0.0001\n",
      "Epoch 82: \n",
      " Train Loss\t0.4476 \n",
      " Val Loss\t0.8129 \n",
      " Val Acc\t0.5484 \n",
      " Val F1\t\t0.6957 \n",
      " Val AUC\t0.5798 \n",
      " Val GMean\t0.2593 \n",
      " Val MCC\t0.0255\n"
     ]
    },
    {
     "name": "stderr",
     "output_type": "stream",
     "text": [
      "100%|███████████████████████████████████████████████████████████████████████████████████████████████████████████████████████████████████| 18/18 [00:00<00:00, 131.44it/s]\n"
     ]
    },
    {
     "name": "stdout",
     "output_type": "stream",
     "text": [
      "lr:  0.0001\n",
      "Epoch 83: \n",
      " Train Loss\t0.4454 \n",
      " Val Loss\t0.8143 \n",
      " Val Acc\t0.5806 \n",
      " Val F1\t\t0.7111 \n",
      " Val AUC\t0.5672 \n",
      " Val GMean\t0.3667 \n",
      " Val MCC\t0.1414\n"
     ]
    },
    {
     "name": "stderr",
     "output_type": "stream",
     "text": [
      "100%|███████████████████████████████████████████████████████████████████████████████████████████████████████████████████████████████████| 18/18 [00:00<00:00, 138.20it/s]\n"
     ]
    },
    {
     "name": "stdout",
     "output_type": "stream",
     "text": [
      "lr:  0.0001\n",
      "Epoch 84: \n",
      " Train Loss\t0.4433 \n",
      " Val Loss\t0.8164 \n",
      " Val Acc\t0.5484 \n",
      " Val F1\t\t0.6957 \n",
      " Val AUC\t0.5840 \n",
      " Val GMean\t0.2593 \n",
      " Val MCC\t0.0255\n"
     ]
    },
    {
     "name": "stderr",
     "output_type": "stream",
     "text": [
      "100%|███████████████████████████████████████████████████████████████████████████████████████████████████████████████████████████████████| 18/18 [00:00<00:00, 139.48it/s]\n"
     ]
    },
    {
     "name": "stdout",
     "output_type": "stream",
     "text": [
      "lr:  0.0001\n",
      "Epoch 85: \n",
      " Train Loss\t0.4415 \n",
      " Val Loss\t0.8186 \n",
      " Val Acc\t0.5484 \n",
      " Val F1\t\t0.6957 \n",
      " Val AUC\t0.5630 \n",
      " Val GMean\t0.2593 \n",
      " Val MCC\t0.0255\n"
     ]
    },
    {
     "name": "stderr",
     "output_type": "stream",
     "text": [
      "100%|███████████████████████████████████████████████████████████████████████████████████████████████████████████████████████████████████| 18/18 [00:00<00:00, 138.40it/s]\n"
     ]
    },
    {
     "name": "stdout",
     "output_type": "stream",
     "text": [
      "lr:  0.0001\n",
      "Epoch 86: \n",
      " Train Loss\t0.4391 \n",
      " Val Loss\t0.8211 \n",
      " Val Acc\t0.5484 \n",
      " Val F1\t\t0.6957 \n",
      " Val AUC\t0.5462 \n",
      " Val GMean\t0.2593 \n",
      " Val MCC\t0.0255\n"
     ]
    },
    {
     "name": "stderr",
     "output_type": "stream",
     "text": [
      "100%|███████████████████████████████████████████████████████████████████████████████████████████████████████████████████████████████████| 18/18 [00:00<00:00, 134.16it/s]\n"
     ]
    },
    {
     "name": "stdout",
     "output_type": "stream",
     "text": [
      "lr:  0.0001\n",
      "Epoch 87: \n",
      " Train Loss\t0.4371 \n",
      " Val Loss\t0.8232 \n",
      " Val Acc\t0.5484 \n",
      " Val F1\t\t0.6957 \n",
      " Val AUC\t0.5462 \n",
      " Val GMean\t0.2593 \n",
      " Val MCC\t0.0255\n"
     ]
    },
    {
     "name": "stderr",
     "output_type": "stream",
     "text": [
      "100%|███████████████████████████████████████████████████████████████████████████████████████████████████████████████████████████████████| 18/18 [00:00<00:00, 132.14it/s]\n"
     ]
    },
    {
     "name": "stdout",
     "output_type": "stream",
     "text": [
      "lr:  0.0001\n",
      "Epoch 88: \n",
      " Train Loss\t0.4348 \n",
      " Val Loss\t0.8253 \n",
      " Val Acc\t0.5806 \n",
      " Val F1\t\t0.7111 \n",
      " Val AUC\t0.5462 \n",
      " Val GMean\t0.3667 \n",
      " Val MCC\t0.1414\n"
     ]
    },
    {
     "name": "stderr",
     "output_type": "stream",
     "text": [
      "100%|███████████████████████████████████████████████████████████████████████████████████████████████████████████████████████████████████| 18/18 [00:00<00:00, 136.97it/s]\n"
     ]
    },
    {
     "name": "stdout",
     "output_type": "stream",
     "text": [
      "lr:  0.0001\n",
      "Epoch 89: \n",
      " Train Loss\t0.4328 \n",
      " Val Loss\t0.8270 \n",
      " Val Acc\t0.5806 \n",
      " Val F1\t\t0.7111 \n",
      " Val AUC\t0.5462 \n",
      " Val GMean\t0.3667 \n",
      " Val MCC\t0.1414\n"
     ]
    },
    {
     "name": "stderr",
     "output_type": "stream",
     "text": [
      "100%|███████████████████████████████████████████████████████████████████████████████████████████████████████████████████████████████████| 18/18 [00:00<00:00, 135.41it/s]\n"
     ]
    },
    {
     "name": "stdout",
     "output_type": "stream",
     "text": [
      "lr:  0.0001\n",
      "Epoch 90: \n",
      " Train Loss\t0.4305 \n",
      " Val Loss\t0.8304 \n",
      " Val Acc\t0.5484 \n",
      " Val F1\t\t0.6957 \n",
      " Val AUC\t0.5546 \n",
      " Val GMean\t0.2593 \n",
      " Val MCC\t0.0255\n"
     ]
    },
    {
     "name": "stderr",
     "output_type": "stream",
     "text": [
      "100%|███████████████████████████████████████████████████████████████████████████████████████████████████████████████████████████████████| 18/18 [00:00<00:00, 138.02it/s]\n"
     ]
    },
    {
     "name": "stdout",
     "output_type": "stream",
     "text": [
      "lr:  0.0001\n",
      "Epoch 91: \n",
      " Train Loss\t0.4286 \n",
      " Val Loss\t0.8332 \n",
      " Val Acc\t0.5484 \n",
      " Val F1\t\t0.6957 \n",
      " Val AUC\t0.5462 \n",
      " Val GMean\t0.2593 \n",
      " Val MCC\t0.0255\n"
     ]
    },
    {
     "name": "stderr",
     "output_type": "stream",
     "text": [
      "100%|███████████████████████████████████████████████████████████████████████████████████████████████████████████████████████████████████| 18/18 [00:00<00:00, 136.55it/s]\n"
     ]
    },
    {
     "name": "stdout",
     "output_type": "stream",
     "text": [
      "lr:  0.0001\n",
      "Epoch 92: \n",
      " Train Loss\t0.4264 \n",
      " Val Loss\t0.8372 \n",
      " Val Acc\t0.5484 \n",
      " Val F1\t\t0.6957 \n",
      " Val AUC\t0.5336 \n",
      " Val GMean\t0.2593 \n",
      " Val MCC\t0.0255\n"
     ]
    },
    {
     "name": "stderr",
     "output_type": "stream",
     "text": [
      "100%|███████████████████████████████████████████████████████████████████████████████████████████████████████████████████████████████████| 18/18 [00:00<00:00, 139.04it/s]\n"
     ]
    },
    {
     "name": "stdout",
     "output_type": "stream",
     "text": [
      "lr:  0.0001\n",
      "Epoch 93: \n",
      " Train Loss\t0.4243 \n",
      " Val Loss\t0.8391 \n",
      " Val Acc\t0.5484 \n",
      " Val F1\t\t0.6818 \n",
      " Val AUC\t0.5252 \n",
      " Val GMean\t0.3550 \n",
      " Val MCC\t0.0374\n"
     ]
    },
    {
     "name": "stderr",
     "output_type": "stream",
     "text": [
      "100%|███████████████████████████████████████████████████████████████████████████████████████████████████████████████████████████████████| 18/18 [00:00<00:00, 133.35it/s]\n"
     ]
    },
    {
     "name": "stdout",
     "output_type": "stream",
     "text": [
      "lr:  0.0001\n",
      "Epoch 94: \n",
      " Train Loss\t0.4221 \n",
      " Val Loss\t0.8418 \n",
      " Val Acc\t0.5484 \n",
      " Val F1\t\t0.6957 \n",
      " Val AUC\t0.5252 \n",
      " Val GMean\t0.2593 \n",
      " Val MCC\t0.0255\n"
     ]
    },
    {
     "name": "stderr",
     "output_type": "stream",
     "text": [
      "100%|███████████████████████████████████████████████████████████████████████████████████████████████████████████████████████████████████| 18/18 [00:00<00:00, 135.75it/s]\n"
     ]
    },
    {
     "name": "stdout",
     "output_type": "stream",
     "text": [
      "lr:  0.0001\n",
      "Epoch 95: \n",
      " Train Loss\t0.4199 \n",
      " Val Loss\t0.8448 \n",
      " Val Acc\t0.5484 \n",
      " Val F1\t\t0.6957 \n",
      " Val AUC\t0.5378 \n",
      " Val GMean\t0.2593 \n",
      " Val MCC\t0.0255\n"
     ]
    },
    {
     "name": "stderr",
     "output_type": "stream",
     "text": [
      "100%|███████████████████████████████████████████████████████████████████████████████████████████████████████████████████████████████████| 18/18 [00:00<00:00, 139.71it/s]\n"
     ]
    },
    {
     "name": "stdout",
     "output_type": "stream",
     "text": [
      "lr:  0.0001\n",
      "Epoch 96: \n",
      " Train Loss\t0.4179 \n",
      " Val Loss\t0.8486 \n",
      " Val Acc\t0.5484 \n",
      " Val F1\t\t0.6957 \n",
      " Val AUC\t0.5378 \n",
      " Val GMean\t0.2593 \n",
      " Val MCC\t0.0255\n"
     ]
    },
    {
     "name": "stderr",
     "output_type": "stream",
     "text": [
      "100%|███████████████████████████████████████████████████████████████████████████████████████████████████████████████████████████████████| 18/18 [00:00<00:00, 138.98it/s]\n"
     ]
    },
    {
     "name": "stdout",
     "output_type": "stream",
     "text": [
      "lr:  0.0001\n",
      "Epoch 97: \n",
      " Train Loss\t0.4160 \n",
      " Val Loss\t0.8524 \n",
      " Val Acc\t0.5484 \n",
      " Val F1\t\t0.6957 \n",
      " Val AUC\t0.5378 \n",
      " Val GMean\t0.2593 \n",
      " Val MCC\t0.0255\n"
     ]
    },
    {
     "name": "stderr",
     "output_type": "stream",
     "text": [
      "100%|███████████████████████████████████████████████████████████████████████████████████████████████████████████████████████████████████| 18/18 [00:00<00:00, 139.55it/s]\n"
     ]
    },
    {
     "name": "stdout",
     "output_type": "stream",
     "text": [
      "lr:  0.0001\n",
      "Epoch 98: \n",
      " Train Loss\t0.4141 \n",
      " Val Loss\t0.8547 \n",
      " Val Acc\t0.5484 \n",
      " Val F1\t\t0.6957 \n",
      " Val AUC\t0.5378 \n",
      " Val GMean\t0.2593 \n",
      " Val MCC\t0.0255\n"
     ]
    },
    {
     "name": "stderr",
     "output_type": "stream",
     "text": [
      "100%|███████████████████████████████████████████████████████████████████████████████████████████████████████████████████████████████████| 18/18 [00:00<00:00, 137.72it/s]\n"
     ]
    },
    {
     "name": "stdout",
     "output_type": "stream",
     "text": [
      "lr:  0.0001\n",
      "Epoch 99: \n",
      " Train Loss\t0.4125 \n",
      " Val Loss\t0.8575 \n",
      " Val Acc\t0.5484 \n",
      " Val F1\t\t0.6957 \n",
      " Val AUC\t0.5546 \n",
      " Val GMean\t0.2593 \n",
      " Val MCC\t0.0255\n",
      "=========================================================\n",
      "fold 4 as val set\n",
      "model parameters:  418817\n"
     ]
    },
    {
     "name": "stderr",
     "output_type": "stream",
     "text": [
      "100%|███████████████████████████████████████████████████████████████████████████████████████████████████████████████████████████████████| 18/18 [00:00<00:00, 137.73it/s]\n"
     ]
    },
    {
     "name": "stdout",
     "output_type": "stream",
     "text": [
      "lr:  0.0001\n",
      "Epoch 0: \n",
      " Train Loss\t0.6574 \n",
      " Val Loss\t0.4320 \n",
      " Val Acc\t0.9677 \n",
      " Val F1\t\t0.9836 \n",
      " Val AUC\t0.4667 \n",
      " Val GMean\t0.0000 \n",
      " Val MCC\t0.0000\n"
     ]
    },
    {
     "name": "stderr",
     "output_type": "stream",
     "text": [
      "100%|███████████████████████████████████████████████████████████████████████████████████████████████████████████████████████████████████| 18/18 [00:00<00:00, 137.96it/s]\n"
     ]
    },
    {
     "name": "stdout",
     "output_type": "stream",
     "text": [
      "lr:  0.0001\n",
      "Epoch 1: \n",
      " Train Loss\t0.6337 \n",
      " Val Loss\t0.4010 \n",
      " Val Acc\t0.9677 \n",
      " Val F1\t\t0.9836 \n",
      " Val AUC\t0.5333 \n",
      " Val GMean\t0.0000 \n",
      " Val MCC\t0.0000\n"
     ]
    },
    {
     "name": "stderr",
     "output_type": "stream",
     "text": [
      "100%|███████████████████████████████████████████████████████████████████████████████████████████████████████████████████████████████████| 18/18 [00:00<00:00, 137.81it/s]\n"
     ]
    },
    {
     "name": "stdout",
     "output_type": "stream",
     "text": [
      "lr:  0.0001\n",
      "Epoch 2: \n",
      " Train Loss\t0.6262 \n",
      " Val Loss\t0.3930 \n",
      " Val Acc\t0.9677 \n",
      " Val F1\t\t0.9836 \n",
      " Val AUC\t0.5667 \n",
      " Val GMean\t0.0000 \n",
      " Val MCC\t0.0000\n"
     ]
    },
    {
     "name": "stderr",
     "output_type": "stream",
     "text": [
      "100%|███████████████████████████████████████████████████████████████████████████████████████████████████████████████████████████████████| 18/18 [00:00<00:00, 138.49it/s]\n"
     ]
    },
    {
     "name": "stdout",
     "output_type": "stream",
     "text": [
      "lr:  0.0001\n",
      "Epoch 3: \n",
      " Train Loss\t0.6226 \n",
      " Val Loss\t0.3919 \n",
      " Val Acc\t0.9677 \n",
      " Val F1\t\t0.9836 \n",
      " Val AUC\t0.7333 \n",
      " Val GMean\t0.0000 \n",
      " Val MCC\t0.0000\n"
     ]
    },
    {
     "name": "stderr",
     "output_type": "stream",
     "text": [
      "100%|███████████████████████████████████████████████████████████████████████████████████████████████████████████████████████████████████| 18/18 [00:00<00:00, 128.47it/s]\n"
     ]
    },
    {
     "name": "stdout",
     "output_type": "stream",
     "text": [
      "lr:  0.0001\n",
      "Epoch 4: \n",
      " Train Loss\t0.6201 \n",
      " Val Loss\t0.3920 \n",
      " Val Acc\t0.9677 \n",
      " Val F1\t\t0.9836 \n",
      " Val AUC\t0.7667 \n",
      " Val GMean\t0.0000 \n",
      " Val MCC\t0.0000\n"
     ]
    },
    {
     "name": "stderr",
     "output_type": "stream",
     "text": [
      "100%|███████████████████████████████████████████████████████████████████████████████████████████████████████████████████████████████████| 18/18 [00:00<00:00, 136.22it/s]\n"
     ]
    },
    {
     "name": "stdout",
     "output_type": "stream",
     "text": [
      "lr:  0.0001\n",
      "Epoch 5: \n",
      " Train Loss\t0.6184 \n",
      " Val Loss\t0.3920 \n",
      " Val Acc\t0.9677 \n",
      " Val F1\t\t0.9836 \n",
      " Val AUC\t0.8000 \n",
      " Val GMean\t0.0000 \n",
      " Val MCC\t0.0000\n"
     ]
    },
    {
     "name": "stderr",
     "output_type": "stream",
     "text": [
      "100%|███████████████████████████████████████████████████████████████████████████████████████████████████████████████████████████████████| 18/18 [00:00<00:00, 140.99it/s]\n"
     ]
    },
    {
     "name": "stdout",
     "output_type": "stream",
     "text": [
      "lr:  0.0001\n",
      "Epoch 6: \n",
      " Train Loss\t0.6171 \n",
      " Val Loss\t0.3922 \n",
      " Val Acc\t0.9677 \n",
      " Val F1\t\t0.9836 \n",
      " Val AUC\t0.8000 \n",
      " Val GMean\t0.0000 \n",
      " Val MCC\t0.0000\n"
     ]
    },
    {
     "name": "stderr",
     "output_type": "stream",
     "text": [
      "100%|███████████████████████████████████████████████████████████████████████████████████████████████████████████████████████████████████| 18/18 [00:00<00:00, 127.93it/s]\n"
     ]
    },
    {
     "name": "stdout",
     "output_type": "stream",
     "text": [
      "lr:  0.0001\n",
      "Epoch 7: \n",
      " Train Loss\t0.6160 \n",
      " Val Loss\t0.3924 \n",
      " Val Acc\t0.9677 \n",
      " Val F1\t\t0.9836 \n",
      " Val AUC\t0.8000 \n",
      " Val GMean\t0.0000 \n",
      " Val MCC\t0.0000\n"
     ]
    },
    {
     "name": "stderr",
     "output_type": "stream",
     "text": [
      "100%|███████████████████████████████████████████████████████████████████████████████████████████████████████████████████████████████████| 18/18 [00:00<00:00, 130.15it/s]\n"
     ]
    },
    {
     "name": "stdout",
     "output_type": "stream",
     "text": [
      "lr:  0.0001\n",
      "Epoch 8: \n",
      " Train Loss\t0.6150 \n",
      " Val Loss\t0.3928 \n",
      " Val Acc\t0.9677 \n",
      " Val F1\t\t0.9836 \n",
      " Val AUC\t0.8000 \n",
      " Val GMean\t0.0000 \n",
      " Val MCC\t0.0000\n"
     ]
    },
    {
     "name": "stderr",
     "output_type": "stream",
     "text": [
      "100%|███████████████████████████████████████████████████████████████████████████████████████████████████████████████████████████████████| 18/18 [00:00<00:00, 135.44it/s]\n"
     ]
    },
    {
     "name": "stdout",
     "output_type": "stream",
     "text": [
      "lr:  0.0001\n",
      "Epoch 9: \n",
      " Train Loss\t0.6142 \n",
      " Val Loss\t0.3932 \n",
      " Val Acc\t0.9677 \n",
      " Val F1\t\t0.9836 \n",
      " Val AUC\t0.8000 \n",
      " Val GMean\t0.0000 \n",
      " Val MCC\t0.0000\n"
     ]
    },
    {
     "name": "stderr",
     "output_type": "stream",
     "text": [
      "100%|███████████████████████████████████████████████████████████████████████████████████████████████████████████████████████████████████| 18/18 [00:00<00:00, 137.20it/s]\n"
     ]
    },
    {
     "name": "stdout",
     "output_type": "stream",
     "text": [
      "lr:  0.0001\n",
      "Epoch 10: \n",
      " Train Loss\t0.6134 \n",
      " Val Loss\t0.3937 \n",
      " Val Acc\t0.9677 \n",
      " Val F1\t\t0.9836 \n",
      " Val AUC\t0.8000 \n",
      " Val GMean\t0.0000 \n",
      " Val MCC\t0.0000\n"
     ]
    },
    {
     "name": "stderr",
     "output_type": "stream",
     "text": [
      "100%|███████████████████████████████████████████████████████████████████████████████████████████████████████████████████████████████████| 18/18 [00:00<00:00, 138.29it/s]\n"
     ]
    },
    {
     "name": "stdout",
     "output_type": "stream",
     "text": [
      "lr:  0.0001\n",
      "Epoch 11: \n",
      " Train Loss\t0.6126 \n",
      " Val Loss\t0.3942 \n",
      " Val Acc\t0.9677 \n",
      " Val F1\t\t0.9836 \n",
      " Val AUC\t0.8000 \n",
      " Val GMean\t0.0000 \n",
      " Val MCC\t0.0000\n"
     ]
    },
    {
     "name": "stderr",
     "output_type": "stream",
     "text": [
      "100%|███████████████████████████████████████████████████████████████████████████████████████████████████████████████████████████████████| 18/18 [00:00<00:00, 136.33it/s]\n"
     ]
    },
    {
     "name": "stdout",
     "output_type": "stream",
     "text": [
      "lr:  0.0001\n",
      "Epoch 12: \n",
      " Train Loss\t0.6119 \n",
      " Val Loss\t0.3947 \n",
      " Val Acc\t0.9677 \n",
      " Val F1\t\t0.9836 \n",
      " Val AUC\t0.8000 \n",
      " Val GMean\t0.0000 \n",
      " Val MCC\t0.0000\n"
     ]
    },
    {
     "name": "stderr",
     "output_type": "stream",
     "text": [
      "100%|███████████████████████████████████████████████████████████████████████████████████████████████████████████████████████████████████| 18/18 [00:00<00:00, 136.24it/s]\n"
     ]
    },
    {
     "name": "stdout",
     "output_type": "stream",
     "text": [
      "lr:  0.0001\n",
      "Epoch 13: \n",
      " Train Loss\t0.6112 \n",
      " Val Loss\t0.3952 \n",
      " Val Acc\t0.9677 \n",
      " Val F1\t\t0.9836 \n",
      " Val AUC\t0.8000 \n",
      " Val GMean\t0.0000 \n",
      " Val MCC\t0.0000\n"
     ]
    },
    {
     "name": "stderr",
     "output_type": "stream",
     "text": [
      "100%|███████████████████████████████████████████████████████████████████████████████████████████████████████████████████████████████████| 18/18 [00:00<00:00, 137.39it/s]\n"
     ]
    },
    {
     "name": "stdout",
     "output_type": "stream",
     "text": [
      "lr:  0.0001\n",
      "Epoch 14: \n",
      " Train Loss\t0.6104 \n",
      " Val Loss\t0.3958 \n",
      " Val Acc\t0.9677 \n",
      " Val F1\t\t0.9836 \n",
      " Val AUC\t0.8000 \n",
      " Val GMean\t0.0000 \n",
      " Val MCC\t0.0000\n"
     ]
    },
    {
     "name": "stderr",
     "output_type": "stream",
     "text": [
      "100%|███████████████████████████████████████████████████████████████████████████████████████████████████████████████████████████████████| 18/18 [00:00<00:00, 113.94it/s]\n"
     ]
    },
    {
     "name": "stdout",
     "output_type": "stream",
     "text": [
      "lr:  0.0001\n",
      "Epoch 15: \n",
      " Train Loss\t0.6097 \n",
      " Val Loss\t0.3964 \n",
      " Val Acc\t0.9677 \n",
      " Val F1\t\t0.9836 \n",
      " Val AUC\t0.8000 \n",
      " Val GMean\t0.0000 \n",
      " Val MCC\t0.0000\n"
     ]
    },
    {
     "name": "stderr",
     "output_type": "stream",
     "text": [
      "100%|███████████████████████████████████████████████████████████████████████████████████████████████████████████████████████████████████| 18/18 [00:00<00:00, 135.69it/s]\n"
     ]
    },
    {
     "name": "stdout",
     "output_type": "stream",
     "text": [
      "lr:  0.0001\n",
      "Epoch 16: \n",
      " Train Loss\t0.6090 \n",
      " Val Loss\t0.3971 \n",
      " Val Acc\t0.9677 \n",
      " Val F1\t\t0.9836 \n",
      " Val AUC\t0.8000 \n",
      " Val GMean\t0.0000 \n",
      " Val MCC\t0.0000\n"
     ]
    },
    {
     "name": "stderr",
     "output_type": "stream",
     "text": [
      "100%|███████████████████████████████████████████████████████████████████████████████████████████████████████████████████████████████████| 18/18 [00:00<00:00, 140.63it/s]\n"
     ]
    },
    {
     "name": "stdout",
     "output_type": "stream",
     "text": [
      "lr:  0.0001\n",
      "Epoch 17: \n",
      " Train Loss\t0.6081 \n",
      " Val Loss\t0.3978 \n",
      " Val Acc\t0.9677 \n",
      " Val F1\t\t0.9836 \n",
      " Val AUC\t0.8000 \n",
      " Val GMean\t0.0000 \n",
      " Val MCC\t0.0000\n"
     ]
    },
    {
     "name": "stderr",
     "output_type": "stream",
     "text": [
      "100%|███████████████████████████████████████████████████████████████████████████████████████████████████████████████████████████████████| 18/18 [00:00<00:00, 136.81it/s]\n"
     ]
    },
    {
     "name": "stdout",
     "output_type": "stream",
     "text": [
      "lr:  0.0001\n",
      "Epoch 18: \n",
      " Train Loss\t0.6074 \n",
      " Val Loss\t0.3984 \n",
      " Val Acc\t0.9677 \n",
      " Val F1\t\t0.9836 \n",
      " Val AUC\t0.8000 \n",
      " Val GMean\t0.0000 \n",
      " Val MCC\t0.0000\n"
     ]
    },
    {
     "name": "stderr",
     "output_type": "stream",
     "text": [
      "100%|███████████████████████████████████████████████████████████████████████████████████████████████████████████████████████████████████| 18/18 [00:00<00:00, 138.66it/s]\n"
     ]
    },
    {
     "name": "stdout",
     "output_type": "stream",
     "text": [
      "lr:  0.0001\n",
      "Epoch 19: \n",
      " Train Loss\t0.6065 \n",
      " Val Loss\t0.3989 \n",
      " Val Acc\t0.9677 \n",
      " Val F1\t\t0.9836 \n",
      " Val AUC\t0.8000 \n",
      " Val GMean\t0.0000 \n",
      " Val MCC\t0.0000\n"
     ]
    },
    {
     "name": "stderr",
     "output_type": "stream",
     "text": [
      "100%|███████████████████████████████████████████████████████████████████████████████████████████████████████████████████████████████████| 18/18 [00:00<00:00, 122.67it/s]\n"
     ]
    },
    {
     "name": "stdout",
     "output_type": "stream",
     "text": [
      "lr:  0.0001\n",
      "Epoch 20: \n",
      " Train Loss\t0.6057 \n",
      " Val Loss\t0.3994 \n",
      " Val Acc\t0.9677 \n",
      " Val F1\t\t0.9836 \n",
      " Val AUC\t0.8000 \n",
      " Val GMean\t0.0000 \n",
      " Val MCC\t0.0000\n"
     ]
    },
    {
     "name": "stderr",
     "output_type": "stream",
     "text": [
      "100%|███████████████████████████████████████████████████████████████████████████████████████████████████████████████████████████████████| 18/18 [00:00<00:00, 137.33it/s]\n"
     ]
    },
    {
     "name": "stdout",
     "output_type": "stream",
     "text": [
      "lr:  0.0001\n",
      "Epoch 21: \n",
      " Train Loss\t0.6047 \n",
      " Val Loss\t0.4000 \n",
      " Val Acc\t0.9677 \n",
      " Val F1\t\t0.9836 \n",
      " Val AUC\t0.8000 \n",
      " Val GMean\t0.0000 \n",
      " Val MCC\t0.0000\n"
     ]
    },
    {
     "name": "stderr",
     "output_type": "stream",
     "text": [
      "100%|███████████████████████████████████████████████████████████████████████████████████████████████████████████████████████████████████| 18/18 [00:00<00:00, 141.70it/s]\n"
     ]
    },
    {
     "name": "stdout",
     "output_type": "stream",
     "text": [
      "lr:  0.0001\n",
      "Epoch 22: \n",
      " Train Loss\t0.6038 \n",
      " Val Loss\t0.4004 \n",
      " Val Acc\t0.9677 \n",
      " Val F1\t\t0.9836 \n",
      " Val AUC\t0.8000 \n",
      " Val GMean\t0.0000 \n",
      " Val MCC\t0.0000\n"
     ]
    },
    {
     "name": "stderr",
     "output_type": "stream",
     "text": [
      "100%|███████████████████████████████████████████████████████████████████████████████████████████████████████████████████████████████████| 18/18 [00:00<00:00, 135.91it/s]\n"
     ]
    },
    {
     "name": "stdout",
     "output_type": "stream",
     "text": [
      "lr:  0.0001\n",
      "Epoch 23: \n",
      " Train Loss\t0.6027 \n",
      " Val Loss\t0.4009 \n",
      " Val Acc\t0.9677 \n",
      " Val F1\t\t0.9836 \n",
      " Val AUC\t0.8000 \n",
      " Val GMean\t0.0000 \n",
      " Val MCC\t0.0000\n"
     ]
    },
    {
     "name": "stderr",
     "output_type": "stream",
     "text": [
      "100%|███████████████████████████████████████████████████████████████████████████████████████████████████████████████████████████████████| 18/18 [00:00<00:00, 134.45it/s]\n"
     ]
    },
    {
     "name": "stdout",
     "output_type": "stream",
     "text": [
      "lr:  0.0001\n",
      "Epoch 24: \n",
      " Train Loss\t0.6016 \n",
      " Val Loss\t0.4013 \n",
      " Val Acc\t0.9677 \n",
      " Val F1\t\t0.9836 \n",
      " Val AUC\t0.8000 \n",
      " Val GMean\t0.0000 \n",
      " Val MCC\t0.0000\n"
     ]
    },
    {
     "name": "stderr",
     "output_type": "stream",
     "text": [
      "100%|███████████████████████████████████████████████████████████████████████████████████████████████████████████████████████████████████| 18/18 [00:00<00:00, 137.22it/s]\n"
     ]
    },
    {
     "name": "stdout",
     "output_type": "stream",
     "text": [
      "lr:  0.0001\n",
      "Epoch 25: \n",
      " Train Loss\t0.6004 \n",
      " Val Loss\t0.4018 \n",
      " Val Acc\t0.9677 \n",
      " Val F1\t\t0.9836 \n",
      " Val AUC\t0.8000 \n",
      " Val GMean\t0.0000 \n",
      " Val MCC\t0.0000\n"
     ]
    },
    {
     "name": "stderr",
     "output_type": "stream",
     "text": [
      "100%|███████████████████████████████████████████████████████████████████████████████████████████████████████████████████████████████████| 18/18 [00:00<00:00, 134.20it/s]\n"
     ]
    },
    {
     "name": "stdout",
     "output_type": "stream",
     "text": [
      "lr:  0.0001\n",
      "Epoch 26: \n",
      " Train Loss\t0.5994 \n",
      " Val Loss\t0.4020 \n",
      " Val Acc\t0.9677 \n",
      " Val F1\t\t0.9836 \n",
      " Val AUC\t0.7667 \n",
      " Val GMean\t0.0000 \n",
      " Val MCC\t0.0000\n"
     ]
    },
    {
     "name": "stderr",
     "output_type": "stream",
     "text": [
      "100%|███████████████████████████████████████████████████████████████████████████████████████████████████████████████████████████████████| 18/18 [00:00<00:00, 135.42it/s]\n"
     ]
    },
    {
     "name": "stdout",
     "output_type": "stream",
     "text": [
      "lr:  0.0001\n",
      "Epoch 27: \n",
      " Train Loss\t0.5982 \n",
      " Val Loss\t0.4024 \n",
      " Val Acc\t0.9677 \n",
      " Val F1\t\t0.9836 \n",
      " Val AUC\t0.7333 \n",
      " Val GMean\t0.0000 \n",
      " Val MCC\t0.0000\n"
     ]
    },
    {
     "name": "stderr",
     "output_type": "stream",
     "text": [
      "100%|███████████████████████████████████████████████████████████████████████████████████████████████████████████████████████████████████| 18/18 [00:00<00:00, 134.17it/s]\n"
     ]
    },
    {
     "name": "stdout",
     "output_type": "stream",
     "text": [
      "lr:  0.0001\n",
      "Epoch 28: \n",
      " Train Loss\t0.5968 \n",
      " Val Loss\t0.4027 \n",
      " Val Acc\t0.9677 \n",
      " Val F1\t\t0.9836 \n",
      " Val AUC\t0.7333 \n",
      " Val GMean\t0.0000 \n",
      " Val MCC\t0.0000\n"
     ]
    },
    {
     "name": "stderr",
     "output_type": "stream",
     "text": [
      "100%|███████████████████████████████████████████████████████████████████████████████████████████████████████████████████████████████████| 18/18 [00:00<00:00, 135.10it/s]\n"
     ]
    },
    {
     "name": "stdout",
     "output_type": "stream",
     "text": [
      "lr:  0.0001\n",
      "Epoch 29: \n",
      " Train Loss\t0.5954 \n",
      " Val Loss\t0.4030 \n",
      " Val Acc\t0.9677 \n",
      " Val F1\t\t0.9836 \n",
      " Val AUC\t0.7333 \n",
      " Val GMean\t0.0000 \n",
      " Val MCC\t0.0000\n"
     ]
    },
    {
     "name": "stderr",
     "output_type": "stream",
     "text": [
      "100%|███████████████████████████████████████████████████████████████████████████████████████████████████████████████████████████████████| 18/18 [00:00<00:00, 139.95it/s]\n"
     ]
    },
    {
     "name": "stdout",
     "output_type": "stream",
     "text": [
      "lr:  0.0001\n",
      "Epoch 30: \n",
      " Train Loss\t0.5940 \n",
      " Val Loss\t0.4032 \n",
      " Val Acc\t0.9677 \n",
      " Val F1\t\t0.9836 \n",
      " Val AUC\t0.7333 \n",
      " Val GMean\t0.0000 \n",
      " Val MCC\t0.0000\n"
     ]
    },
    {
     "name": "stderr",
     "output_type": "stream",
     "text": [
      "100%|███████████████████████████████████████████████████████████████████████████████████████████████████████████████████████████████████| 18/18 [00:00<00:00, 135.61it/s]\n"
     ]
    },
    {
     "name": "stdout",
     "output_type": "stream",
     "text": [
      "lr:  0.0001\n",
      "Epoch 31: \n",
      " Train Loss\t0.5926 \n",
      " Val Loss\t0.4035 \n",
      " Val Acc\t0.9677 \n",
      " Val F1\t\t0.9836 \n",
      " Val AUC\t0.7333 \n",
      " Val GMean\t0.0000 \n",
      " Val MCC\t0.0000\n"
     ]
    },
    {
     "name": "stderr",
     "output_type": "stream",
     "text": [
      "100%|███████████████████████████████████████████████████████████████████████████████████████████████████████████████████████████████████| 18/18 [00:00<00:00, 140.89it/s]\n"
     ]
    },
    {
     "name": "stdout",
     "output_type": "stream",
     "text": [
      "lr:  0.0001\n",
      "Epoch 32: \n",
      " Train Loss\t0.5911 \n",
      " Val Loss\t0.4036 \n",
      " Val Acc\t0.9677 \n",
      " Val F1\t\t0.9836 \n",
      " Val AUC\t0.7333 \n",
      " Val GMean\t0.0000 \n",
      " Val MCC\t0.0000\n"
     ]
    },
    {
     "name": "stderr",
     "output_type": "stream",
     "text": [
      "100%|███████████████████████████████████████████████████████████████████████████████████████████████████████████████████████████████████| 18/18 [00:00<00:00, 138.66it/s]\n"
     ]
    },
    {
     "name": "stdout",
     "output_type": "stream",
     "text": [
      "lr:  0.0001\n",
      "Epoch 33: \n",
      " Train Loss\t0.5895 \n",
      " Val Loss\t0.4039 \n",
      " Val Acc\t0.9677 \n",
      " Val F1\t\t0.9836 \n",
      " Val AUC\t0.7333 \n",
      " Val GMean\t0.0000 \n",
      " Val MCC\t0.0000\n"
     ]
    },
    {
     "name": "stderr",
     "output_type": "stream",
     "text": [
      "100%|███████████████████████████████████████████████████████████████████████████████████████████████████████████████████████████████████| 18/18 [00:00<00:00, 138.25it/s]\n"
     ]
    },
    {
     "name": "stdout",
     "output_type": "stream",
     "text": [
      "lr:  0.0001\n",
      "Epoch 34: \n",
      " Train Loss\t0.5877 \n",
      " Val Loss\t0.4038 \n",
      " Val Acc\t0.9677 \n",
      " Val F1\t\t0.9836 \n",
      " Val AUC\t0.7667 \n",
      " Val GMean\t0.0000 \n",
      " Val MCC\t0.0000\n"
     ]
    },
    {
     "name": "stderr",
     "output_type": "stream",
     "text": [
      "100%|███████████████████████████████████████████████████████████████████████████████████████████████████████████████████████████████████| 18/18 [00:00<00:00, 140.56it/s]\n"
     ]
    },
    {
     "name": "stdout",
     "output_type": "stream",
     "text": [
      "lr:  0.0001\n",
      "Epoch 35: \n",
      " Train Loss\t0.5863 \n",
      " Val Loss\t0.4037 \n",
      " Val Acc\t0.9677 \n",
      " Val F1\t\t0.9836 \n",
      " Val AUC\t0.7667 \n",
      " Val GMean\t0.0000 \n",
      " Val MCC\t0.0000\n"
     ]
    },
    {
     "name": "stderr",
     "output_type": "stream",
     "text": [
      "100%|███████████████████████████████████████████████████████████████████████████████████████████████████████████████████████████████████| 18/18 [00:00<00:00, 128.59it/s]\n"
     ]
    },
    {
     "name": "stdout",
     "output_type": "stream",
     "text": [
      "lr:  0.0001\n",
      "Epoch 36: \n",
      " Train Loss\t0.5848 \n",
      " Val Loss\t0.4038 \n",
      " Val Acc\t0.9677 \n",
      " Val F1\t\t0.9836 \n",
      " Val AUC\t0.7333 \n",
      " Val GMean\t0.0000 \n",
      " Val MCC\t0.0000\n"
     ]
    },
    {
     "name": "stderr",
     "output_type": "stream",
     "text": [
      "100%|███████████████████████████████████████████████████████████████████████████████████████████████████████████████████████████████████| 18/18 [00:00<00:00, 138.11it/s]\n"
     ]
    },
    {
     "name": "stdout",
     "output_type": "stream",
     "text": [
      "lr:  0.0001\n",
      "Epoch 37: \n",
      " Train Loss\t0.5831 \n",
      " Val Loss\t0.4039 \n",
      " Val Acc\t0.9677 \n",
      " Val F1\t\t0.9836 \n",
      " Val AUC\t0.7667 \n",
      " Val GMean\t0.0000 \n",
      " Val MCC\t0.0000\n"
     ]
    },
    {
     "name": "stderr",
     "output_type": "stream",
     "text": [
      "100%|███████████████████████████████████████████████████████████████████████████████████████████████████████████████████████████████████| 18/18 [00:00<00:00, 139.25it/s]\n"
     ]
    },
    {
     "name": "stdout",
     "output_type": "stream",
     "text": [
      "lr:  0.0001\n",
      "Epoch 38: \n",
      " Train Loss\t0.5812 \n",
      " Val Loss\t0.4045 \n",
      " Val Acc\t0.9677 \n",
      " Val F1\t\t0.9836 \n",
      " Val AUC\t0.7667 \n",
      " Val GMean\t0.0000 \n",
      " Val MCC\t0.0000\n"
     ]
    },
    {
     "name": "stderr",
     "output_type": "stream",
     "text": [
      "100%|███████████████████████████████████████████████████████████████████████████████████████████████████████████████████████████████████| 18/18 [00:00<00:00, 136.24it/s]\n"
     ]
    },
    {
     "name": "stdout",
     "output_type": "stream",
     "text": [
      "lr:  0.0001\n",
      "Epoch 39: \n",
      " Train Loss\t0.5792 \n",
      " Val Loss\t0.4043 \n",
      " Val Acc\t0.9677 \n",
      " Val F1\t\t0.9836 \n",
      " Val AUC\t0.7667 \n",
      " Val GMean\t0.0000 \n",
      " Val MCC\t0.0000\n"
     ]
    },
    {
     "name": "stderr",
     "output_type": "stream",
     "text": [
      "100%|███████████████████████████████████████████████████████████████████████████████████████████████████████████████████████████████████| 18/18 [00:00<00:00, 138.98it/s]\n"
     ]
    },
    {
     "name": "stdout",
     "output_type": "stream",
     "text": [
      "lr:  0.0001\n",
      "Epoch 40: \n",
      " Train Loss\t0.5771 \n",
      " Val Loss\t0.4042 \n",
      " Val Acc\t0.9677 \n",
      " Val F1\t\t0.9836 \n",
      " Val AUC\t0.7667 \n",
      " Val GMean\t0.0000 \n",
      " Val MCC\t0.0000\n"
     ]
    },
    {
     "name": "stderr",
     "output_type": "stream",
     "text": [
      "100%|███████████████████████████████████████████████████████████████████████████████████████████████████████████████████████████████████| 18/18 [00:00<00:00, 139.70it/s]\n"
     ]
    },
    {
     "name": "stdout",
     "output_type": "stream",
     "text": [
      "lr:  0.0001\n",
      "Epoch 41: \n",
      " Train Loss\t0.5753 \n",
      " Val Loss\t0.4047 \n",
      " Val Acc\t0.9677 \n",
      " Val F1\t\t0.9836 \n",
      " Val AUC\t0.7000 \n",
      " Val GMean\t0.0000 \n",
      " Val MCC\t0.0000\n"
     ]
    },
    {
     "name": "stderr",
     "output_type": "stream",
     "text": [
      "100%|███████████████████████████████████████████████████████████████████████████████████████████████████████████████████████████████████| 18/18 [00:00<00:00, 135.01it/s]\n"
     ]
    },
    {
     "name": "stdout",
     "output_type": "stream",
     "text": [
      "lr:  0.0001\n",
      "Epoch 42: \n",
      " Train Loss\t0.5730 \n",
      " Val Loss\t0.4044 \n",
      " Val Acc\t0.9677 \n",
      " Val F1\t\t0.9836 \n",
      " Val AUC\t0.7000 \n",
      " Val GMean\t0.0000 \n",
      " Val MCC\t0.0000\n"
     ]
    },
    {
     "name": "stderr",
     "output_type": "stream",
     "text": [
      "100%|███████████████████████████████████████████████████████████████████████████████████████████████████████████████████████████████████| 18/18 [00:00<00:00, 141.59it/s]\n"
     ]
    },
    {
     "name": "stdout",
     "output_type": "stream",
     "text": [
      "lr:  0.0001\n",
      "Epoch 43: \n",
      " Train Loss\t0.5710 \n",
      " Val Loss\t0.4045 \n",
      " Val Acc\t0.9677 \n",
      " Val F1\t\t0.9836 \n",
      " Val AUC\t0.7000 \n",
      " Val GMean\t0.0000 \n",
      " Val MCC\t0.0000\n"
     ]
    },
    {
     "name": "stderr",
     "output_type": "stream",
     "text": [
      "100%|███████████████████████████████████████████████████████████████████████████████████████████████████████████████████████████████████| 18/18 [00:00<00:00, 138.96it/s]\n"
     ]
    },
    {
     "name": "stdout",
     "output_type": "stream",
     "text": [
      "lr:  0.0001\n",
      "Epoch 44: \n",
      " Train Loss\t0.5686 \n",
      " Val Loss\t0.4043 \n",
      " Val Acc\t0.9677 \n",
      " Val F1\t\t0.9836 \n",
      " Val AUC\t0.7000 \n",
      " Val GMean\t0.0000 \n",
      " Val MCC\t0.0000\n"
     ]
    },
    {
     "name": "stderr",
     "output_type": "stream",
     "text": [
      "100%|███████████████████████████████████████████████████████████████████████████████████████████████████████████████████████████████████| 18/18 [00:00<00:00, 140.81it/s]\n"
     ]
    },
    {
     "name": "stdout",
     "output_type": "stream",
     "text": [
      "lr:  0.0001\n",
      "Epoch 45: \n",
      " Train Loss\t0.5662 \n",
      " Val Loss\t0.4031 \n",
      " Val Acc\t0.9677 \n",
      " Val F1\t\t0.9836 \n",
      " Val AUC\t0.7000 \n",
      " Val GMean\t0.0000 \n",
      " Val MCC\t0.0000\n"
     ]
    },
    {
     "name": "stderr",
     "output_type": "stream",
     "text": [
      "100%|███████████████████████████████████████████████████████████████████████████████████████████████████████████████████████████████████| 18/18 [00:00<00:00, 135.89it/s]\n"
     ]
    },
    {
     "name": "stdout",
     "output_type": "stream",
     "text": [
      "lr:  0.0001\n",
      "Epoch 46: \n",
      " Train Loss\t0.5641 \n",
      " Val Loss\t0.4037 \n",
      " Val Acc\t0.9677 \n",
      " Val F1\t\t0.9836 \n",
      " Val AUC\t0.7000 \n",
      " Val GMean\t0.0000 \n",
      " Val MCC\t0.0000\n"
     ]
    },
    {
     "name": "stderr",
     "output_type": "stream",
     "text": [
      "100%|███████████████████████████████████████████████████████████████████████████████████████████████████████████████████████████████████| 18/18 [00:00<00:00, 137.09it/s]\n"
     ]
    },
    {
     "name": "stdout",
     "output_type": "stream",
     "text": [
      "lr:  0.0001\n",
      "Epoch 47: \n",
      " Train Loss\t0.5619 \n",
      " Val Loss\t0.4036 \n",
      " Val Acc\t0.9677 \n",
      " Val F1\t\t0.9836 \n",
      " Val AUC\t0.7000 \n",
      " Val GMean\t0.0000 \n",
      " Val MCC\t0.0000\n"
     ]
    },
    {
     "name": "stderr",
     "output_type": "stream",
     "text": [
      "100%|███████████████████████████████████████████████████████████████████████████████████████████████████████████████████████████████████| 18/18 [00:00<00:00, 136.05it/s]\n"
     ]
    },
    {
     "name": "stdout",
     "output_type": "stream",
     "text": [
      "lr:  0.0001\n",
      "Epoch 48: \n",
      " Train Loss\t0.5597 \n",
      " Val Loss\t0.4026 \n",
      " Val Acc\t0.9677 \n",
      " Val F1\t\t0.9836 \n",
      " Val AUC\t0.7000 \n",
      " Val GMean\t0.0000 \n",
      " Val MCC\t0.0000\n"
     ]
    },
    {
     "name": "stderr",
     "output_type": "stream",
     "text": [
      "100%|███████████████████████████████████████████████████████████████████████████████████████████████████████████████████████████████████| 18/18 [00:00<00:00, 130.70it/s]\n"
     ]
    },
    {
     "name": "stdout",
     "output_type": "stream",
     "text": [
      "lr:  0.0001\n",
      "Epoch 49: \n",
      " Train Loss\t0.5579 \n",
      " Val Loss\t0.4024 \n",
      " Val Acc\t0.9677 \n",
      " Val F1\t\t0.9836 \n",
      " Val AUC\t0.6333 \n",
      " Val GMean\t0.0000 \n",
      " Val MCC\t0.0000\n"
     ]
    },
    {
     "name": "stderr",
     "output_type": "stream",
     "text": [
      "100%|███████████████████████████████████████████████████████████████████████████████████████████████████████████████████████████████████| 18/18 [00:00<00:00, 128.85it/s]\n"
     ]
    },
    {
     "name": "stdout",
     "output_type": "stream",
     "text": [
      "lr:  0.0001\n",
      "Epoch 50: \n",
      " Train Loss\t0.5551 \n",
      " Val Loss\t0.4027 \n",
      " Val Acc\t0.9677 \n",
      " Val F1\t\t0.9836 \n",
      " Val AUC\t0.6333 \n",
      " Val GMean\t0.0000 \n",
      " Val MCC\t0.0000\n"
     ]
    },
    {
     "name": "stderr",
     "output_type": "stream",
     "text": [
      "100%|███████████████████████████████████████████████████████████████████████████████████████████████████████████████████████████████████| 18/18 [00:00<00:00, 135.24it/s]\n"
     ]
    },
    {
     "name": "stdout",
     "output_type": "stream",
     "text": [
      "lr:  0.0001\n",
      "Epoch 51: \n",
      " Train Loss\t0.5527 \n",
      " Val Loss\t0.4021 \n",
      " Val Acc\t0.9677 \n",
      " Val F1\t\t0.9836 \n",
      " Val AUC\t0.6000 \n",
      " Val GMean\t0.0000 \n",
      " Val MCC\t0.0000\n"
     ]
    },
    {
     "name": "stderr",
     "output_type": "stream",
     "text": [
      "100%|███████████████████████████████████████████████████████████████████████████████████████████████████████████████████████████████████| 18/18 [00:00<00:00, 135.28it/s]\n"
     ]
    },
    {
     "name": "stdout",
     "output_type": "stream",
     "text": [
      "lr:  0.0001\n",
      "Epoch 52: \n",
      " Train Loss\t0.5503 \n",
      " Val Loss\t0.4016 \n",
      " Val Acc\t0.9677 \n",
      " Val F1\t\t0.9836 \n",
      " Val AUC\t0.6000 \n",
      " Val GMean\t0.0000 \n",
      " Val MCC\t0.0000\n"
     ]
    },
    {
     "name": "stderr",
     "output_type": "stream",
     "text": [
      "100%|███████████████████████████████████████████████████████████████████████████████████████████████████████████████████████████████████| 18/18 [00:00<00:00, 133.78it/s]\n"
     ]
    },
    {
     "name": "stdout",
     "output_type": "stream",
     "text": [
      "lr:  0.0001\n",
      "Epoch 53: \n",
      " Train Loss\t0.5481 \n",
      " Val Loss\t0.4012 \n",
      " Val Acc\t0.9677 \n",
      " Val F1\t\t0.9836 \n",
      " Val AUC\t0.6000 \n",
      " Val GMean\t0.0000 \n",
      " Val MCC\t0.0000\n"
     ]
    },
    {
     "name": "stderr",
     "output_type": "stream",
     "text": [
      "100%|███████████████████████████████████████████████████████████████████████████████████████████████████████████████████████████████████| 18/18 [00:00<00:00, 138.57it/s]\n"
     ]
    },
    {
     "name": "stdout",
     "output_type": "stream",
     "text": [
      "lr:  0.0001\n",
      "Epoch 54: \n",
      " Train Loss\t0.5453 \n",
      " Val Loss\t0.4004 \n",
      " Val Acc\t0.9677 \n",
      " Val F1\t\t0.9836 \n",
      " Val AUC\t0.6000 \n",
      " Val GMean\t0.0000 \n",
      " Val MCC\t0.0000\n"
     ]
    },
    {
     "name": "stderr",
     "output_type": "stream",
     "text": [
      "100%|███████████████████████████████████████████████████████████████████████████████████████████████████████████████████████████████████| 18/18 [00:00<00:00, 126.70it/s]\n"
     ]
    },
    {
     "name": "stdout",
     "output_type": "stream",
     "text": [
      "lr:  0.0001\n",
      "Epoch 55: \n",
      " Train Loss\t0.5428 \n",
      " Val Loss\t0.4002 \n",
      " Val Acc\t0.9677 \n",
      " Val F1\t\t0.9836 \n",
      " Val AUC\t0.5667 \n",
      " Val GMean\t0.0000 \n",
      " Val MCC\t0.0000\n"
     ]
    },
    {
     "name": "stderr",
     "output_type": "stream",
     "text": [
      "100%|███████████████████████████████████████████████████████████████████████████████████████████████████████████████████████████████████| 18/18 [00:00<00:00, 136.13it/s]\n"
     ]
    },
    {
     "name": "stdout",
     "output_type": "stream",
     "text": [
      "lr:  0.0001\n",
      "Epoch 56: \n",
      " Train Loss\t0.5400 \n",
      " Val Loss\t0.3995 \n",
      " Val Acc\t0.9677 \n",
      " Val F1\t\t0.9836 \n",
      " Val AUC\t0.5333 \n",
      " Val GMean\t0.0000 \n",
      " Val MCC\t0.0000\n"
     ]
    },
    {
     "name": "stderr",
     "output_type": "stream",
     "text": [
      "100%|███████████████████████████████████████████████████████████████████████████████████████████████████████████████████████████████████| 18/18 [00:00<00:00, 131.81it/s]\n"
     ]
    },
    {
     "name": "stdout",
     "output_type": "stream",
     "text": [
      "lr:  0.0001\n",
      "Epoch 57: \n",
      " Train Loss\t0.5375 \n",
      " Val Loss\t0.3990 \n",
      " Val Acc\t0.9677 \n",
      " Val F1\t\t0.9836 \n",
      " Val AUC\t0.5667 \n",
      " Val GMean\t0.0000 \n",
      " Val MCC\t0.0000\n"
     ]
    },
    {
     "name": "stderr",
     "output_type": "stream",
     "text": [
      "100%|███████████████████████████████████████████████████████████████████████████████████████████████████████████████████████████████████| 18/18 [00:00<00:00, 138.33it/s]\n"
     ]
    },
    {
     "name": "stdout",
     "output_type": "stream",
     "text": [
      "lr:  0.0001\n",
      "Epoch 58: \n",
      " Train Loss\t0.5350 \n",
      " Val Loss\t0.3986 \n",
      " Val Acc\t0.9677 \n",
      " Val F1\t\t0.9836 \n",
      " Val AUC\t0.5667 \n",
      " Val GMean\t0.0000 \n",
      " Val MCC\t0.0000\n"
     ]
    },
    {
     "name": "stderr",
     "output_type": "stream",
     "text": [
      "100%|███████████████████████████████████████████████████████████████████████████████████████████████████████████████████████████████████| 18/18 [00:00<00:00, 134.09it/s]\n"
     ]
    },
    {
     "name": "stdout",
     "output_type": "stream",
     "text": [
      "lr:  0.0001\n",
      "Epoch 59: \n",
      " Train Loss\t0.5325 \n",
      " Val Loss\t0.3979 \n",
      " Val Acc\t0.9677 \n",
      " Val F1\t\t0.9836 \n",
      " Val AUC\t0.5667 \n",
      " Val GMean\t0.0000 \n",
      " Val MCC\t0.0000\n"
     ]
    },
    {
     "name": "stderr",
     "output_type": "stream",
     "text": [
      "100%|███████████████████████████████████████████████████████████████████████████████████████████████████████████████████████████████████| 18/18 [00:00<00:00, 137.81it/s]\n"
     ]
    },
    {
     "name": "stdout",
     "output_type": "stream",
     "text": [
      "lr:  0.0001\n",
      "Epoch 60: \n",
      " Train Loss\t0.5298 \n",
      " Val Loss\t0.3984 \n",
      " Val Acc\t0.8710 \n",
      " Val F1\t\t0.9310 \n",
      " Val AUC\t0.5667 \n",
      " Val GMean\t0.0000 \n",
      " Val MCC\t-0.0598\n"
     ]
    },
    {
     "name": "stderr",
     "output_type": "stream",
     "text": [
      "100%|███████████████████████████████████████████████████████████████████████████████████████████████████████████████████████████████████| 18/18 [00:00<00:00, 137.63it/s]\n"
     ]
    },
    {
     "name": "stdout",
     "output_type": "stream",
     "text": [
      "lr:  0.0001\n",
      "Epoch 61: \n",
      " Train Loss\t0.5273 \n",
      " Val Loss\t0.3975 \n",
      " Val Acc\t0.9677 \n",
      " Val F1\t\t0.9836 \n",
      " Val AUC\t0.6000 \n",
      " Val GMean\t0.0000 \n",
      " Val MCC\t0.0000\n"
     ]
    },
    {
     "name": "stderr",
     "output_type": "stream",
     "text": [
      "100%|███████████████████████████████████████████████████████████████████████████████████████████████████████████████████████████████████| 18/18 [00:00<00:00, 138.22it/s]\n"
     ]
    },
    {
     "name": "stdout",
     "output_type": "stream",
     "text": [
      "lr:  0.0001\n",
      "Epoch 62: \n",
      " Train Loss\t0.5246 \n",
      " Val Loss\t0.3968 \n",
      " Val Acc\t0.9677 \n",
      " Val F1\t\t0.9836 \n",
      " Val AUC\t0.6000 \n",
      " Val GMean\t0.0000 \n",
      " Val MCC\t0.0000\n"
     ]
    },
    {
     "name": "stderr",
     "output_type": "stream",
     "text": [
      "100%|███████████████████████████████████████████████████████████████████████████████████████████████████████████████████████████████████| 18/18 [00:00<00:00, 128.97it/s]\n"
     ]
    },
    {
     "name": "stdout",
     "output_type": "stream",
     "text": [
      "lr:  0.0001\n",
      "Epoch 63: \n",
      " Train Loss\t0.5224 \n",
      " Val Loss\t0.3963 \n",
      " Val Acc\t0.9677 \n",
      " Val F1\t\t0.9836 \n",
      " Val AUC\t0.5667 \n",
      " Val GMean\t0.0000 \n",
      " Val MCC\t0.0000\n"
     ]
    },
    {
     "name": "stderr",
     "output_type": "stream",
     "text": [
      "100%|███████████████████████████████████████████████████████████████████████████████████████████████████████████████████████████████████| 18/18 [00:00<00:00, 140.17it/s]\n"
     ]
    },
    {
     "name": "stdout",
     "output_type": "stream",
     "text": [
      "lr:  0.0001\n",
      "Epoch 64: \n",
      " Train Loss\t0.5198 \n",
      " Val Loss\t0.3958 \n",
      " Val Acc\t0.9355 \n",
      " Val F1\t\t0.9667 \n",
      " Val AUC\t0.5667 \n",
      " Val GMean\t0.0000 \n",
      " Val MCC\t-0.0333\n"
     ]
    },
    {
     "name": "stderr",
     "output_type": "stream",
     "text": [
      "100%|███████████████████████████████████████████████████████████████████████████████████████████████████████████████████████████████████| 18/18 [00:00<00:00, 123.56it/s]\n"
     ]
    },
    {
     "name": "stdout",
     "output_type": "stream",
     "text": [
      "lr:  0.0001\n",
      "Epoch 65: \n",
      " Train Loss\t0.5173 \n",
      " Val Loss\t0.3952 \n",
      " Val Acc\t0.9355 \n",
      " Val F1\t\t0.9667 \n",
      " Val AUC\t0.6000 \n",
      " Val GMean\t0.0000 \n",
      " Val MCC\t-0.0333\n"
     ]
    },
    {
     "name": "stderr",
     "output_type": "stream",
     "text": [
      "100%|███████████████████████████████████████████████████████████████████████████████████████████████████████████████████████████████████| 18/18 [00:00<00:00, 135.03it/s]\n"
     ]
    },
    {
     "name": "stdout",
     "output_type": "stream",
     "text": [
      "lr:  0.0001\n",
      "Epoch 66: \n",
      " Train Loss\t0.5147 \n",
      " Val Loss\t0.3951 \n",
      " Val Acc\t0.8710 \n",
      " Val F1\t\t0.9310 \n",
      " Val AUC\t0.5667 \n",
      " Val GMean\t0.0000 \n",
      " Val MCC\t-0.0598\n"
     ]
    },
    {
     "name": "stderr",
     "output_type": "stream",
     "text": [
      "100%|███████████████████████████████████████████████████████████████████████████████████████████████████████████████████████████████████| 18/18 [00:00<00:00, 139.47it/s]\n"
     ]
    },
    {
     "name": "stdout",
     "output_type": "stream",
     "text": [
      "lr:  0.0001\n",
      "Epoch 67: \n",
      " Train Loss\t0.5121 \n",
      " Val Loss\t0.3945 \n",
      " Val Acc\t0.9032 \n",
      " Val F1\t\t0.9492 \n",
      " Val AUC\t0.5333 \n",
      " Val GMean\t0.0000 \n",
      " Val MCC\t-0.0479\n"
     ]
    },
    {
     "name": "stderr",
     "output_type": "stream",
     "text": [
      "100%|███████████████████████████████████████████████████████████████████████████████████████████████████████████████████████████████████| 18/18 [00:00<00:00, 137.42it/s]\n"
     ]
    },
    {
     "name": "stdout",
     "output_type": "stream",
     "text": [
      "lr:  0.0001\n",
      "Epoch 68: \n",
      " Train Loss\t0.5097 \n",
      " Val Loss\t0.3939 \n",
      " Val Acc\t0.9032 \n",
      " Val F1\t\t0.9492 \n",
      " Val AUC\t0.5667 \n",
      " Val GMean\t0.0000 \n",
      " Val MCC\t-0.0479\n"
     ]
    },
    {
     "name": "stderr",
     "output_type": "stream",
     "text": [
      "100%|███████████████████████████████████████████████████████████████████████████████████████████████████████████████████████████████████| 18/18 [00:00<00:00, 138.99it/s]\n"
     ]
    },
    {
     "name": "stdout",
     "output_type": "stream",
     "text": [
      "lr:  0.0001\n",
      "Epoch 69: \n",
      " Train Loss\t0.5069 \n",
      " Val Loss\t0.3932 \n",
      " Val Acc\t0.9032 \n",
      " Val F1\t\t0.9492 \n",
      " Val AUC\t0.5667 \n",
      " Val GMean\t0.0000 \n",
      " Val MCC\t-0.0479\n"
     ]
    },
    {
     "name": "stderr",
     "output_type": "stream",
     "text": [
      "100%|███████████████████████████████████████████████████████████████████████████████████████████████████████████████████████████████████| 18/18 [00:00<00:00, 134.46it/s]\n"
     ]
    },
    {
     "name": "stdout",
     "output_type": "stream",
     "text": [
      "lr:  0.0001\n",
      "Epoch 70: \n",
      " Train Loss\t0.5043 \n",
      " Val Loss\t0.3919 \n",
      " Val Acc\t0.9677 \n",
      " Val F1\t\t0.9836 \n",
      " Val AUC\t0.5667 \n",
      " Val GMean\t0.0000 \n",
      " Val MCC\t0.0000\n"
     ]
    },
    {
     "name": "stderr",
     "output_type": "stream",
     "text": [
      "100%|███████████████████████████████████████████████████████████████████████████████████████████████████████████████████████████████████| 18/18 [00:00<00:00, 135.32it/s]\n"
     ]
    },
    {
     "name": "stdout",
     "output_type": "stream",
     "text": [
      "lr:  0.0001\n",
      "Epoch 71: \n",
      " Train Loss\t0.5019 \n",
      " Val Loss\t0.3912 \n",
      " Val Acc\t0.9032 \n",
      " Val F1\t\t0.9492 \n",
      " Val AUC\t0.5667 \n",
      " Val GMean\t0.0000 \n",
      " Val MCC\t-0.0479\n"
     ]
    },
    {
     "name": "stderr",
     "output_type": "stream",
     "text": [
      "100%|███████████████████████████████████████████████████████████████████████████████████████████████████████████████████████████████████| 18/18 [00:00<00:00, 137.95it/s]\n"
     ]
    },
    {
     "name": "stdout",
     "output_type": "stream",
     "text": [
      "lr:  0.0001\n",
      "Epoch 72: \n",
      " Train Loss\t0.4992 \n",
      " Val Loss\t0.3908 \n",
      " Val Acc\t0.8710 \n",
      " Val F1\t\t0.9310 \n",
      " Val AUC\t0.5667 \n",
      " Val GMean\t0.0000 \n",
      " Val MCC\t-0.0598\n"
     ]
    },
    {
     "name": "stderr",
     "output_type": "stream",
     "text": [
      "100%|███████████████████████████████████████████████████████████████████████████████████████████████████████████████████████████████████| 18/18 [00:00<00:00, 135.79it/s]\n"
     ]
    },
    {
     "name": "stdout",
     "output_type": "stream",
     "text": [
      "lr:  0.0001\n",
      "Epoch 73: \n",
      " Train Loss\t0.4965 \n",
      " Val Loss\t0.3898 \n",
      " Val Acc\t0.9032 \n",
      " Val F1\t\t0.9492 \n",
      " Val AUC\t0.5667 \n",
      " Val GMean\t0.0000 \n",
      " Val MCC\t-0.0479\n"
     ]
    },
    {
     "name": "stderr",
     "output_type": "stream",
     "text": [
      "100%|███████████████████████████████████████████████████████████████████████████████████████████████████████████████████████████████████| 18/18 [00:00<00:00, 138.03it/s]\n"
     ]
    },
    {
     "name": "stdout",
     "output_type": "stream",
     "text": [
      "lr:  0.0001\n",
      "Epoch 74: \n",
      " Train Loss\t0.4940 \n",
      " Val Loss\t0.3895 \n",
      " Val Acc\t0.8710 \n",
      " Val F1\t\t0.9310 \n",
      " Val AUC\t0.6000 \n",
      " Val GMean\t0.0000 \n",
      " Val MCC\t-0.0598\n"
     ]
    },
    {
     "name": "stderr",
     "output_type": "stream",
     "text": [
      "100%|███████████████████████████████████████████████████████████████████████████████████████████████████████████████████████████████████| 18/18 [00:00<00:00, 137.55it/s]\n"
     ]
    },
    {
     "name": "stdout",
     "output_type": "stream",
     "text": [
      "lr:  0.0001\n",
      "Epoch 75: \n",
      " Train Loss\t0.4917 \n",
      " Val Loss\t0.3895 \n",
      " Val Acc\t0.8710 \n",
      " Val F1\t\t0.9310 \n",
      " Val AUC\t0.6000 \n",
      " Val GMean\t0.0000 \n",
      " Val MCC\t-0.0598\n"
     ]
    },
    {
     "name": "stderr",
     "output_type": "stream",
     "text": [
      "100%|███████████████████████████████████████████████████████████████████████████████████████████████████████████████████████████████████| 18/18 [00:00<00:00, 138.33it/s]\n"
     ]
    },
    {
     "name": "stdout",
     "output_type": "stream",
     "text": [
      "lr:  0.0001\n",
      "Epoch 76: \n",
      " Train Loss\t0.4895 \n",
      " Val Loss\t0.3895 \n",
      " Val Acc\t0.8710 \n",
      " Val F1\t\t0.9310 \n",
      " Val AUC\t0.6000 \n",
      " Val GMean\t0.0000 \n",
      " Val MCC\t-0.0598\n"
     ]
    },
    {
     "name": "stderr",
     "output_type": "stream",
     "text": [
      "100%|███████████████████████████████████████████████████████████████████████████████████████████████████████████████████████████████████| 18/18 [00:00<00:00, 137.83it/s]\n"
     ]
    },
    {
     "name": "stdout",
     "output_type": "stream",
     "text": [
      "lr:  0.0001\n",
      "Epoch 77: \n",
      " Train Loss\t0.4873 \n",
      " Val Loss\t0.3893 \n",
      " Val Acc\t0.8710 \n",
      " Val F1\t\t0.9310 \n",
      " Val AUC\t0.6000 \n",
      " Val GMean\t0.0000 \n",
      " Val MCC\t-0.0598\n"
     ]
    },
    {
     "name": "stderr",
     "output_type": "stream",
     "text": [
      "100%|███████████████████████████████████████████████████████████████████████████████████████████████████████████████████████████████████| 18/18 [00:00<00:00, 136.69it/s]\n"
     ]
    },
    {
     "name": "stdout",
     "output_type": "stream",
     "text": [
      "lr:  0.0001\n",
      "Epoch 78: \n",
      " Train Loss\t0.4848 \n",
      " Val Loss\t0.3894 \n",
      " Val Acc\t0.8387 \n",
      " Val F1\t\t0.9123 \n",
      " Val AUC\t0.6000 \n",
      " Val GMean\t0.0000 \n",
      " Val MCC\t-0.0703\n"
     ]
    },
    {
     "name": "stderr",
     "output_type": "stream",
     "text": [
      "100%|███████████████████████████████████████████████████████████████████████████████████████████████████████████████████████████████████| 18/18 [00:00<00:00, 133.22it/s]\n"
     ]
    },
    {
     "name": "stdout",
     "output_type": "stream",
     "text": [
      "lr:  0.0001\n",
      "Epoch 79: \n",
      " Train Loss\t0.4825 \n",
      " Val Loss\t0.3888 \n",
      " Val Acc\t0.8710 \n",
      " Val F1\t\t0.9310 \n",
      " Val AUC\t0.6000 \n",
      " Val GMean\t0.0000 \n",
      " Val MCC\t-0.0598\n"
     ]
    },
    {
     "name": "stderr",
     "output_type": "stream",
     "text": [
      "100%|███████████████████████████████████████████████████████████████████████████████████████████████████████████████████████████████████| 18/18 [00:00<00:00, 134.60it/s]\n"
     ]
    },
    {
     "name": "stdout",
     "output_type": "stream",
     "text": [
      "lr:  0.0001\n",
      "Epoch 80: \n",
      " Train Loss\t0.4806 \n",
      " Val Loss\t0.3885 \n",
      " Val Acc\t0.8710 \n",
      " Val F1\t\t0.9310 \n",
      " Val AUC\t0.6000 \n",
      " Val GMean\t0.0000 \n",
      " Val MCC\t-0.0598\n"
     ]
    },
    {
     "name": "stderr",
     "output_type": "stream",
     "text": [
      "100%|███████████████████████████████████████████████████████████████████████████████████████████████████████████████████████████████████| 18/18 [00:00<00:00, 134.82it/s]\n"
     ]
    },
    {
     "name": "stdout",
     "output_type": "stream",
     "text": [
      "lr:  0.0001\n",
      "Epoch 81: \n",
      " Train Loss\t0.4781 \n",
      " Val Loss\t0.3882 \n",
      " Val Acc\t0.8710 \n",
      " Val F1\t\t0.9310 \n",
      " Val AUC\t0.6333 \n",
      " Val GMean\t0.0000 \n",
      " Val MCC\t-0.0598\n"
     ]
    },
    {
     "name": "stderr",
     "output_type": "stream",
     "text": [
      "100%|███████████████████████████████████████████████████████████████████████████████████████████████████████████████████████████████████| 18/18 [00:00<00:00, 137.91it/s]\n"
     ]
    },
    {
     "name": "stdout",
     "output_type": "stream",
     "text": [
      "lr:  0.0001\n",
      "Epoch 82: \n",
      " Train Loss\t0.4758 \n",
      " Val Loss\t0.3880 \n",
      " Val Acc\t0.8387 \n",
      " Val F1\t\t0.9123 \n",
      " Val AUC\t0.6000 \n",
      " Val GMean\t0.0000 \n",
      " Val MCC\t-0.0703\n"
     ]
    },
    {
     "name": "stderr",
     "output_type": "stream",
     "text": [
      "100%|███████████████████████████████████████████████████████████████████████████████████████████████████████████████████████████████████| 18/18 [00:00<00:00, 135.79it/s]\n"
     ]
    },
    {
     "name": "stdout",
     "output_type": "stream",
     "text": [
      "lr:  0.0001\n",
      "Epoch 83: \n",
      " Train Loss\t0.4735 \n",
      " Val Loss\t0.3877 \n",
      " Val Acc\t0.8710 \n",
      " Val F1\t\t0.9310 \n",
      " Val AUC\t0.6000 \n",
      " Val GMean\t0.0000 \n",
      " Val MCC\t-0.0598\n"
     ]
    },
    {
     "name": "stderr",
     "output_type": "stream",
     "text": [
      "100%|███████████████████████████████████████████████████████████████████████████████████████████████████████████████████████████████████| 18/18 [00:00<00:00, 135.21it/s]\n"
     ]
    },
    {
     "name": "stdout",
     "output_type": "stream",
     "text": [
      "lr:  0.0001\n",
      "Epoch 84: \n",
      " Train Loss\t0.4713 \n",
      " Val Loss\t0.3872 \n",
      " Val Acc\t0.8710 \n",
      " Val F1\t\t0.9310 \n",
      " Val AUC\t0.6000 \n",
      " Val GMean\t0.0000 \n",
      " Val MCC\t-0.0598\n"
     ]
    },
    {
     "name": "stderr",
     "output_type": "stream",
     "text": [
      "100%|███████████████████████████████████████████████████████████████████████████████████████████████████████████████████████████████████| 18/18 [00:00<00:00, 136.71it/s]\n"
     ]
    },
    {
     "name": "stdout",
     "output_type": "stream",
     "text": [
      "lr:  0.0001\n",
      "Epoch 85: \n",
      " Train Loss\t0.4691 \n",
      " Val Loss\t0.3862 \n",
      " Val Acc\t0.9355 \n",
      " Val F1\t\t0.9667 \n",
      " Val AUC\t0.6000 \n",
      " Val GMean\t0.0000 \n",
      " Val MCC\t-0.0333\n"
     ]
    },
    {
     "name": "stderr",
     "output_type": "stream",
     "text": [
      "100%|███████████████████████████████████████████████████████████████████████████████████████████████████████████████████████████████████| 18/18 [00:00<00:00, 134.01it/s]\n"
     ]
    },
    {
     "name": "stdout",
     "output_type": "stream",
     "text": [
      "lr:  0.0001\n",
      "Epoch 86: \n",
      " Train Loss\t0.4668 \n",
      " Val Loss\t0.3853 \n",
      " Val Acc\t0.9355 \n",
      " Val F1\t\t0.9667 \n",
      " Val AUC\t0.6000 \n",
      " Val GMean\t0.0000 \n",
      " Val MCC\t-0.0333\n"
     ]
    },
    {
     "name": "stderr",
     "output_type": "stream",
     "text": [
      "100%|███████████████████████████████████████████████████████████████████████████████████████████████████████████████████████████████████| 18/18 [00:00<00:00, 127.45it/s]\n"
     ]
    },
    {
     "name": "stdout",
     "output_type": "stream",
     "text": [
      "lr:  0.0001\n",
      "Epoch 87: \n",
      " Train Loss\t0.4646 \n",
      " Val Loss\t0.3851 \n",
      " Val Acc\t0.8387 \n",
      " Val F1\t\t0.9123 \n",
      " Val AUC\t0.6000 \n",
      " Val GMean\t0.0000 \n",
      " Val MCC\t-0.0703\n"
     ]
    },
    {
     "name": "stderr",
     "output_type": "stream",
     "text": [
      "100%|███████████████████████████████████████████████████████████████████████████████████████████████████████████████████████████████████| 18/18 [00:00<00:00, 137.98it/s]\n"
     ]
    },
    {
     "name": "stdout",
     "output_type": "stream",
     "text": [
      "lr:  0.0001\n",
      "Epoch 88: \n",
      " Train Loss\t0.4625 \n",
      " Val Loss\t0.3845 \n",
      " Val Acc\t0.8710 \n",
      " Val F1\t\t0.9310 \n",
      " Val AUC\t0.5667 \n",
      " Val GMean\t0.0000 \n",
      " Val MCC\t-0.0598\n"
     ]
    },
    {
     "name": "stderr",
     "output_type": "stream",
     "text": [
      "100%|███████████████████████████████████████████████████████████████████████████████████████████████████████████████████████████████████| 18/18 [00:00<00:00, 136.57it/s]\n"
     ]
    },
    {
     "name": "stdout",
     "output_type": "stream",
     "text": [
      "lr:  0.0001\n",
      "Epoch 89: \n",
      " Train Loss\t0.4605 \n",
      " Val Loss\t0.3844 \n",
      " Val Acc\t0.8065 \n",
      " Val F1\t\t0.8929 \n",
      " Val AUC\t0.5667 \n",
      " Val GMean\t0.0000 \n",
      " Val MCC\t-0.0801\n"
     ]
    },
    {
     "name": "stderr",
     "output_type": "stream",
     "text": [
      "100%|███████████████████████████████████████████████████████████████████████████████████████████████████████████████████████████████████| 18/18 [00:00<00:00, 139.88it/s]\n"
     ]
    },
    {
     "name": "stdout",
     "output_type": "stream",
     "text": [
      "lr:  0.0001\n",
      "Epoch 90: \n",
      " Train Loss\t0.4586 \n",
      " Val Loss\t0.3842 \n",
      " Val Acc\t0.8387 \n",
      " Val F1\t\t0.9123 \n",
      " Val AUC\t0.5667 \n",
      " Val GMean\t0.0000 \n",
      " Val MCC\t-0.0703\n"
     ]
    },
    {
     "name": "stderr",
     "output_type": "stream",
     "text": [
      "100%|███████████████████████████████████████████████████████████████████████████████████████████████████████████████████████████████████| 18/18 [00:00<00:00, 129.03it/s]\n"
     ]
    },
    {
     "name": "stdout",
     "output_type": "stream",
     "text": [
      "lr:  0.0001\n",
      "Epoch 91: \n",
      " Train Loss\t0.4567 \n",
      " Val Loss\t0.3842 \n",
      " Val Acc\t0.8065 \n",
      " Val F1\t\t0.8929 \n",
      " Val AUC\t0.5667 \n",
      " Val GMean\t0.0000 \n",
      " Val MCC\t-0.0801\n"
     ]
    },
    {
     "name": "stderr",
     "output_type": "stream",
     "text": [
      "100%|███████████████████████████████████████████████████████████████████████████████████████████████████████████████████████████████████| 18/18 [00:00<00:00, 135.60it/s]\n"
     ]
    },
    {
     "name": "stdout",
     "output_type": "stream",
     "text": [
      "lr:  0.0001\n",
      "Epoch 92: \n",
      " Train Loss\t0.4545 \n",
      " Val Loss\t0.3835 \n",
      " Val Acc\t0.9032 \n",
      " Val F1\t\t0.9492 \n",
      " Val AUC\t0.6000 \n",
      " Val GMean\t0.0000 \n",
      " Val MCC\t-0.0479\n"
     ]
    },
    {
     "name": "stderr",
     "output_type": "stream",
     "text": [
      "100%|███████████████████████████████████████████████████████████████████████████████████████████████████████████████████████████████████| 18/18 [00:00<00:00, 140.58it/s]\n"
     ]
    },
    {
     "name": "stdout",
     "output_type": "stream",
     "text": [
      "lr:  0.0001\n",
      "Epoch 93: \n",
      " Train Loss\t0.4527 \n",
      " Val Loss\t0.3831 \n",
      " Val Acc\t0.8710 \n",
      " Val F1\t\t0.9310 \n",
      " Val AUC\t0.6000 \n",
      " Val GMean\t0.0000 \n",
      " Val MCC\t-0.0598\n"
     ]
    },
    {
     "name": "stderr",
     "output_type": "stream",
     "text": [
      "100%|███████████████████████████████████████████████████████████████████████████████████████████████████████████████████████████████████| 18/18 [00:00<00:00, 124.44it/s]\n"
     ]
    },
    {
     "name": "stdout",
     "output_type": "stream",
     "text": [
      "lr:  0.0001\n",
      "Epoch 94: \n",
      " Train Loss\t0.4507 \n",
      " Val Loss\t0.3836 \n",
      " Val Acc\t0.7097 \n",
      " Val F1\t\t0.8302 \n",
      " Val AUC\t0.6000 \n",
      " Val GMean\t0.0000 \n",
      " Val MCC\t-0.1077\n"
     ]
    },
    {
     "name": "stderr",
     "output_type": "stream",
     "text": [
      "100%|███████████████████████████████████████████████████████████████████████████████████████████████████████████████████████████████████| 18/18 [00:00<00:00, 132.01it/s]\n"
     ]
    },
    {
     "name": "stdout",
     "output_type": "stream",
     "text": [
      "lr:  0.0001\n",
      "Epoch 95: \n",
      " Train Loss\t0.4486 \n",
      " Val Loss\t0.3832 \n",
      " Val Acc\t0.8710 \n",
      " Val F1\t\t0.9310 \n",
      " Val AUC\t0.6000 \n",
      " Val GMean\t0.0000 \n",
      " Val MCC\t-0.0598\n"
     ]
    },
    {
     "name": "stderr",
     "output_type": "stream",
     "text": [
      "100%|███████████████████████████████████████████████████████████████████████████████████████████████████████████████████████████████████| 18/18 [00:00<00:00, 136.79it/s]\n"
     ]
    },
    {
     "name": "stdout",
     "output_type": "stream",
     "text": [
      "lr:  0.0001\n",
      "Epoch 96: \n",
      " Train Loss\t0.4467 \n",
      " Val Loss\t0.3823 \n",
      " Val Acc\t0.9355 \n",
      " Val F1\t\t0.9667 \n",
      " Val AUC\t0.6000 \n",
      " Val GMean\t0.0000 \n",
      " Val MCC\t-0.0333\n"
     ]
    },
    {
     "name": "stderr",
     "output_type": "stream",
     "text": [
      "100%|███████████████████████████████████████████████████████████████████████████████████████████████████████████████████████████████████| 18/18 [00:00<00:00, 132.80it/s]\n"
     ]
    },
    {
     "name": "stdout",
     "output_type": "stream",
     "text": [
      "lr:  0.0001\n",
      "Epoch 97: \n",
      " Train Loss\t0.4449 \n",
      " Val Loss\t0.3815 \n",
      " Val Acc\t0.9032 \n",
      " Val F1\t\t0.9492 \n",
      " Val AUC\t0.6000 \n",
      " Val GMean\t0.0000 \n",
      " Val MCC\t-0.0479\n"
     ]
    },
    {
     "name": "stderr",
     "output_type": "stream",
     "text": [
      "100%|███████████████████████████████████████████████████████████████████████████████████████████████████████████████████████████████████| 18/18 [00:00<00:00, 134.50it/s]\n"
     ]
    },
    {
     "name": "stdout",
     "output_type": "stream",
     "text": [
      "lr:  0.0001\n",
      "Epoch 98: \n",
      " Train Loss\t0.4431 \n",
      " Val Loss\t0.3823 \n",
      " Val Acc\t0.7097 \n",
      " Val F1\t\t0.8302 \n",
      " Val AUC\t0.6000 \n",
      " Val GMean\t0.0000 \n",
      " Val MCC\t-0.1077\n"
     ]
    },
    {
     "name": "stderr",
     "output_type": "stream",
     "text": [
      "100%|███████████████████████████████████████████████████████████████████████████████████████████████████████████████████████████████████| 18/18 [00:00<00:00, 136.76it/s]\n"
     ]
    },
    {
     "name": "stdout",
     "output_type": "stream",
     "text": [
      "lr:  0.0001\n",
      "Epoch 99: \n",
      " Train Loss\t0.4414 \n",
      " Val Loss\t0.3822 \n",
      " Val Acc\t0.8387 \n",
      " Val F1\t\t0.9123 \n",
      " Val AUC\t0.6000 \n",
      " Val GMean\t0.0000 \n",
      " Val MCC\t-0.0703\n",
      "=========================================================\n",
      "fold 5 as val set\n",
      "model parameters:  418817\n"
     ]
    },
    {
     "name": "stderr",
     "output_type": "stream",
     "text": [
      "100%|███████████████████████████████████████████████████████████████████████████████████████████████████████████████████████████████████| 18/18 [00:00<00:00, 138.11it/s]\n"
     ]
    },
    {
     "name": "stdout",
     "output_type": "stream",
     "text": [
      "lr:  0.0001\n",
      "Epoch 0: \n",
      " Train Loss\t0.6258 \n",
      " Val Loss\t0.5713 \n",
      " Val Acc\t0.7419 \n",
      " Val F1\t\t0.8519 \n",
      " Val AUC\t0.5978 \n",
      " Val GMean\t0.0000 \n",
      " Val MCC\t0.0000\n"
     ]
    },
    {
     "name": "stderr",
     "output_type": "stream",
     "text": [
      "100%|███████████████████████████████████████████████████████████████████████████████████████████████████████████████████████████████████| 18/18 [00:00<00:00, 138.58it/s]\n"
     ]
    },
    {
     "name": "stdout",
     "output_type": "stream",
     "text": [
      "lr:  0.0001\n",
      "Epoch 1: \n",
      " Train Loss\t0.6071 \n",
      " Val Loss\t0.5706 \n",
      " Val Acc\t0.7419 \n",
      " Val F1\t\t0.8519 \n",
      " Val AUC\t0.5924 \n",
      " Val GMean\t0.0000 \n",
      " Val MCC\t0.0000\n"
     ]
    },
    {
     "name": "stderr",
     "output_type": "stream",
     "text": [
      "100%|███████████████████████████████████████████████████████████████████████████████████████████████████████████████████████████████████| 18/18 [00:00<00:00, 136.82it/s]\n"
     ]
    },
    {
     "name": "stdout",
     "output_type": "stream",
     "text": [
      "lr:  0.0001\n",
      "Epoch 2: \n",
      " Train Loss\t0.6014 \n",
      " Val Loss\t0.5705 \n",
      " Val Acc\t0.7419 \n",
      " Val F1\t\t0.8519 \n",
      " Val AUC\t0.5707 \n",
      " Val GMean\t0.0000 \n",
      " Val MCC\t0.0000\n"
     ]
    },
    {
     "name": "stderr",
     "output_type": "stream",
     "text": [
      "100%|███████████████████████████████████████████████████████████████████████████████████████████████████████████████████████████████████| 18/18 [00:00<00:00, 139.32it/s]\n"
     ]
    },
    {
     "name": "stdout",
     "output_type": "stream",
     "text": [
      "lr:  0.0001\n",
      "Epoch 3: \n",
      " Train Loss\t0.5984 \n",
      " Val Loss\t0.5705 \n",
      " Val Acc\t0.7419 \n",
      " Val F1\t\t0.8519 \n",
      " Val AUC\t0.5598 \n",
      " Val GMean\t0.0000 \n",
      " Val MCC\t0.0000\n"
     ]
    },
    {
     "name": "stderr",
     "output_type": "stream",
     "text": [
      "100%|███████████████████████████████████████████████████████████████████████████████████████████████████████████████████████████████████| 18/18 [00:00<00:00, 132.32it/s]\n"
     ]
    },
    {
     "name": "stdout",
     "output_type": "stream",
     "text": [
      "lr:  0.0001\n",
      "Epoch 4: \n",
      " Train Loss\t0.5961 \n",
      " Val Loss\t0.5707 \n",
      " Val Acc\t0.7419 \n",
      " Val F1\t\t0.8519 \n",
      " Val AUC\t0.5435 \n",
      " Val GMean\t0.0000 \n",
      " Val MCC\t0.0000\n"
     ]
    },
    {
     "name": "stderr",
     "output_type": "stream",
     "text": [
      "100%|███████████████████████████████████████████████████████████████████████████████████████████████████████████████████████████████████| 18/18 [00:00<00:00, 133.35it/s]\n"
     ]
    },
    {
     "name": "stdout",
     "output_type": "stream",
     "text": [
      "lr:  0.0001\n",
      "Epoch 5: \n",
      " Train Loss\t0.5945 \n",
      " Val Loss\t0.5707 \n",
      " Val Acc\t0.7419 \n",
      " Val F1\t\t0.8519 \n",
      " Val AUC\t0.5543 \n",
      " Val GMean\t0.0000 \n",
      " Val MCC\t0.0000\n"
     ]
    },
    {
     "name": "stderr",
     "output_type": "stream",
     "text": [
      "100%|███████████████████████████████████████████████████████████████████████████████████████████████████████████████████████████████████| 18/18 [00:00<00:00, 130.11it/s]\n"
     ]
    },
    {
     "name": "stdout",
     "output_type": "stream",
     "text": [
      "lr:  0.0001\n",
      "Epoch 6: \n",
      " Train Loss\t0.5933 \n",
      " Val Loss\t0.5708 \n",
      " Val Acc\t0.7419 \n",
      " Val F1\t\t0.8519 \n",
      " Val AUC\t0.5380 \n",
      " Val GMean\t0.0000 \n",
      " Val MCC\t0.0000\n"
     ]
    },
    {
     "name": "stderr",
     "output_type": "stream",
     "text": [
      "100%|███████████████████████████████████████████████████████████████████████████████████████████████████████████████████████████████████| 18/18 [00:00<00:00, 140.28it/s]\n"
     ]
    },
    {
     "name": "stdout",
     "output_type": "stream",
     "text": [
      "lr:  0.0001\n",
      "Epoch 7: \n",
      " Train Loss\t0.5922 \n",
      " Val Loss\t0.5709 \n",
      " Val Acc\t0.7419 \n",
      " Val F1\t\t0.8519 \n",
      " Val AUC\t0.5272 \n",
      " Val GMean\t0.0000 \n",
      " Val MCC\t0.0000\n"
     ]
    },
    {
     "name": "stderr",
     "output_type": "stream",
     "text": [
      "100%|███████████████████████████████████████████████████████████████████████████████████████████████████████████████████████████████████| 18/18 [00:00<00:00, 139.67it/s]\n"
     ]
    },
    {
     "name": "stdout",
     "output_type": "stream",
     "text": [
      "lr:  0.0001\n",
      "Epoch 8: \n",
      " Train Loss\t0.5913 \n",
      " Val Loss\t0.5710 \n",
      " Val Acc\t0.7419 \n",
      " Val F1\t\t0.8519 \n",
      " Val AUC\t0.5435 \n",
      " Val GMean\t0.0000 \n",
      " Val MCC\t0.0000\n"
     ]
    },
    {
     "name": "stderr",
     "output_type": "stream",
     "text": [
      "100%|███████████████████████████████████████████████████████████████████████████████████████████████████████████████████████████████████| 18/18 [00:00<00:00, 139.16it/s]\n"
     ]
    },
    {
     "name": "stdout",
     "output_type": "stream",
     "text": [
      "lr:  0.0001\n",
      "Epoch 9: \n",
      " Train Loss\t0.5905 \n",
      " Val Loss\t0.5711 \n",
      " Val Acc\t0.7419 \n",
      " Val F1\t\t0.8519 \n",
      " Val AUC\t0.5489 \n",
      " Val GMean\t0.0000 \n",
      " Val MCC\t0.0000\n"
     ]
    },
    {
     "name": "stderr",
     "output_type": "stream",
     "text": [
      "100%|███████████████████████████████████████████████████████████████████████████████████████████████████████████████████████████████████| 18/18 [00:00<00:00, 137.05it/s]\n"
     ]
    },
    {
     "name": "stdout",
     "output_type": "stream",
     "text": [
      "lr:  0.0001\n",
      "Epoch 10: \n",
      " Train Loss\t0.5896 \n",
      " Val Loss\t0.5712 \n",
      " Val Acc\t0.7419 \n",
      " Val F1\t\t0.8519 \n",
      " Val AUC\t0.5380 \n",
      " Val GMean\t0.0000 \n",
      " Val MCC\t0.0000\n"
     ]
    },
    {
     "name": "stderr",
     "output_type": "stream",
     "text": [
      "100%|███████████████████████████████████████████████████████████████████████████████████████████████████████████████████████████████████| 18/18 [00:00<00:00, 135.93it/s]\n"
     ]
    },
    {
     "name": "stdout",
     "output_type": "stream",
     "text": [
      "lr:  0.0001\n",
      "Epoch 11: \n",
      " Train Loss\t0.5889 \n",
      " Val Loss\t0.5714 \n",
      " Val Acc\t0.7419 \n",
      " Val F1\t\t0.8519 \n",
      " Val AUC\t0.5380 \n",
      " Val GMean\t0.0000 \n",
      " Val MCC\t0.0000\n"
     ]
    },
    {
     "name": "stderr",
     "output_type": "stream",
     "text": [
      "100%|███████████████████████████████████████████████████████████████████████████████████████████████████████████████████████████████████| 18/18 [00:00<00:00, 140.88it/s]\n"
     ]
    },
    {
     "name": "stdout",
     "output_type": "stream",
     "text": [
      "lr:  0.0001\n",
      "Epoch 12: \n",
      " Train Loss\t0.5881 \n",
      " Val Loss\t0.5716 \n",
      " Val Acc\t0.7419 \n",
      " Val F1\t\t0.8519 \n",
      " Val AUC\t0.5326 \n",
      " Val GMean\t0.0000 \n",
      " Val MCC\t0.0000\n"
     ]
    },
    {
     "name": "stderr",
     "output_type": "stream",
     "text": [
      "100%|███████████████████████████████████████████████████████████████████████████████████████████████████████████████████████████████████| 18/18 [00:00<00:00, 139.40it/s]\n"
     ]
    },
    {
     "name": "stdout",
     "output_type": "stream",
     "text": [
      "lr:  0.0001\n",
      "Epoch 13: \n",
      " Train Loss\t0.5873 \n",
      " Val Loss\t0.5719 \n",
      " Val Acc\t0.7419 \n",
      " Val F1\t\t0.8519 \n",
      " Val AUC\t0.5272 \n",
      " Val GMean\t0.0000 \n",
      " Val MCC\t0.0000\n"
     ]
    },
    {
     "name": "stderr",
     "output_type": "stream",
     "text": [
      "100%|███████████████████████████████████████████████████████████████████████████████████████████████████████████████████████████████████| 18/18 [00:00<00:00, 138.48it/s]\n"
     ]
    },
    {
     "name": "stdout",
     "output_type": "stream",
     "text": [
      "lr:  0.0001\n",
      "Epoch 14: \n",
      " Train Loss\t0.5866 \n",
      " Val Loss\t0.5722 \n",
      " Val Acc\t0.7419 \n",
      " Val F1\t\t0.8519 \n",
      " Val AUC\t0.5217 \n",
      " Val GMean\t0.0000 \n",
      " Val MCC\t0.0000\n"
     ]
    },
    {
     "name": "stderr",
     "output_type": "stream",
     "text": [
      "100%|███████████████████████████████████████████████████████████████████████████████████████████████████████████████████████████████████| 18/18 [00:00<00:00, 139.60it/s]\n"
     ]
    },
    {
     "name": "stdout",
     "output_type": "stream",
     "text": [
      "lr:  0.0001\n",
      "Epoch 15: \n",
      " Train Loss\t0.5859 \n",
      " Val Loss\t0.5725 \n",
      " Val Acc\t0.7419 \n",
      " Val F1\t\t0.8519 \n",
      " Val AUC\t0.5163 \n",
      " Val GMean\t0.0000 \n",
      " Val MCC\t0.0000\n"
     ]
    },
    {
     "name": "stderr",
     "output_type": "stream",
     "text": [
      "100%|███████████████████████████████████████████████████████████████████████████████████████████████████████████████████████████████████| 18/18 [00:00<00:00, 128.45it/s]\n"
     ]
    },
    {
     "name": "stdout",
     "output_type": "stream",
     "text": [
      "lr:  0.0001\n",
      "Epoch 16: \n",
      " Train Loss\t0.5851 \n",
      " Val Loss\t0.5729 \n",
      " Val Acc\t0.7419 \n",
      " Val F1\t\t0.8519 \n",
      " Val AUC\t0.5163 \n",
      " Val GMean\t0.0000 \n",
      " Val MCC\t0.0000\n"
     ]
    },
    {
     "name": "stderr",
     "output_type": "stream",
     "text": [
      "100%|███████████████████████████████████████████████████████████████████████████████████████████████████████████████████████████████████| 18/18 [00:00<00:00, 139.05it/s]\n"
     ]
    },
    {
     "name": "stdout",
     "output_type": "stream",
     "text": [
      "lr:  0.0001\n",
      "Epoch 17: \n",
      " Train Loss\t0.5842 \n",
      " Val Loss\t0.5733 \n",
      " Val Acc\t0.7419 \n",
      " Val F1\t\t0.8519 \n",
      " Val AUC\t0.5109 \n",
      " Val GMean\t0.0000 \n",
      " Val MCC\t0.0000\n"
     ]
    },
    {
     "name": "stderr",
     "output_type": "stream",
     "text": [
      "100%|███████████████████████████████████████████████████████████████████████████████████████████████████████████████████████████████████| 18/18 [00:00<00:00, 138.40it/s]\n"
     ]
    },
    {
     "name": "stdout",
     "output_type": "stream",
     "text": [
      "lr:  0.0001\n",
      "Epoch 18: \n",
      " Train Loss\t0.5832 \n",
      " Val Loss\t0.5738 \n",
      " Val Acc\t0.7419 \n",
      " Val F1\t\t0.8519 \n",
      " Val AUC\t0.5109 \n",
      " Val GMean\t0.0000 \n",
      " Val MCC\t0.0000\n"
     ]
    },
    {
     "name": "stderr",
     "output_type": "stream",
     "text": [
      "100%|███████████████████████████████████████████████████████████████████████████████████████████████████████████████████████████████████| 18/18 [00:00<00:00, 139.43it/s]\n"
     ]
    },
    {
     "name": "stdout",
     "output_type": "stream",
     "text": [
      "lr:  0.0001\n",
      "Epoch 19: \n",
      " Train Loss\t0.5823 \n",
      " Val Loss\t0.5743 \n",
      " Val Acc\t0.7419 \n",
      " Val F1\t\t0.8519 \n",
      " Val AUC\t0.5054 \n",
      " Val GMean\t0.0000 \n",
      " Val MCC\t0.0000\n"
     ]
    },
    {
     "name": "stderr",
     "output_type": "stream",
     "text": [
      "100%|███████████████████████████████████████████████████████████████████████████████████████████████████████████████████████████████████| 18/18 [00:00<00:00, 134.35it/s]\n"
     ]
    },
    {
     "name": "stdout",
     "output_type": "stream",
     "text": [
      "lr:  0.0001\n",
      "Epoch 20: \n",
      " Train Loss\t0.5813 \n",
      " Val Loss\t0.5749 \n",
      " Val Acc\t0.7419 \n",
      " Val F1\t\t0.8519 \n",
      " Val AUC\t0.4946 \n",
      " Val GMean\t0.0000 \n",
      " Val MCC\t0.0000\n"
     ]
    },
    {
     "name": "stderr",
     "output_type": "stream",
     "text": [
      "100%|███████████████████████████████████████████████████████████████████████████████████████████████████████████████████████████████████| 18/18 [00:00<00:00, 136.58it/s]\n"
     ]
    },
    {
     "name": "stdout",
     "output_type": "stream",
     "text": [
      "lr:  0.0001\n",
      "Epoch 21: \n",
      " Train Loss\t0.5803 \n",
      " Val Loss\t0.5755 \n",
      " Val Acc\t0.7419 \n",
      " Val F1\t\t0.8519 \n",
      " Val AUC\t0.4946 \n",
      " Val GMean\t0.0000 \n",
      " Val MCC\t0.0000\n"
     ]
    },
    {
     "name": "stderr",
     "output_type": "stream",
     "text": [
      "100%|███████████████████████████████████████████████████████████████████████████████████████████████████████████████████████████████████| 18/18 [00:00<00:00, 138.07it/s]\n"
     ]
    },
    {
     "name": "stdout",
     "output_type": "stream",
     "text": [
      "lr:  0.0001\n",
      "Epoch 22: \n",
      " Train Loss\t0.5791 \n",
      " Val Loss\t0.5761 \n",
      " Val Acc\t0.7419 \n",
      " Val F1\t\t0.8519 \n",
      " Val AUC\t0.5054 \n",
      " Val GMean\t0.0000 \n",
      " Val MCC\t0.0000\n"
     ]
    },
    {
     "name": "stderr",
     "output_type": "stream",
     "text": [
      "100%|███████████████████████████████████████████████████████████████████████████████████████████████████████████████████████████████████| 18/18 [00:00<00:00, 135.82it/s]\n"
     ]
    },
    {
     "name": "stdout",
     "output_type": "stream",
     "text": [
      "lr:  0.0001\n",
      "Epoch 23: \n",
      " Train Loss\t0.5780 \n",
      " Val Loss\t0.5767 \n",
      " Val Acc\t0.7419 \n",
      " Val F1\t\t0.8519 \n",
      " Val AUC\t0.5054 \n",
      " Val GMean\t0.0000 \n",
      " Val MCC\t0.0000\n"
     ]
    },
    {
     "name": "stderr",
     "output_type": "stream",
     "text": [
      "100%|███████████████████████████████████████████████████████████████████████████████████████████████████████████████████████████████████| 18/18 [00:00<00:00, 134.51it/s]\n"
     ]
    },
    {
     "name": "stdout",
     "output_type": "stream",
     "text": [
      "lr:  0.0001\n",
      "Epoch 24: \n",
      " Train Loss\t0.5767 \n",
      " Val Loss\t0.5774 \n",
      " Val Acc\t0.7419 \n",
      " Val F1\t\t0.8519 \n",
      " Val AUC\t0.5000 \n",
      " Val GMean\t0.0000 \n",
      " Val MCC\t0.0000\n"
     ]
    },
    {
     "name": "stderr",
     "output_type": "stream",
     "text": [
      "100%|███████████████████████████████████████████████████████████████████████████████████████████████████████████████████████████████████| 18/18 [00:00<00:00, 138.82it/s]\n"
     ]
    },
    {
     "name": "stdout",
     "output_type": "stream",
     "text": [
      "lr:  0.0001\n",
      "Epoch 25: \n",
      " Train Loss\t0.5757 \n",
      " Val Loss\t0.5780 \n",
      " Val Acc\t0.7419 \n",
      " Val F1\t\t0.8519 \n",
      " Val AUC\t0.5109 \n",
      " Val GMean\t0.0000 \n",
      " Val MCC\t0.0000\n"
     ]
    },
    {
     "name": "stderr",
     "output_type": "stream",
     "text": [
      "100%|███████████████████████████████████████████████████████████████████████████████████████████████████████████████████████████████████| 18/18 [00:00<00:00, 133.42it/s]\n"
     ]
    },
    {
     "name": "stdout",
     "output_type": "stream",
     "text": [
      "lr:  0.0001\n",
      "Epoch 26: \n",
      " Train Loss\t0.5744 \n",
      " Val Loss\t0.5787 \n",
      " Val Acc\t0.7419 \n",
      " Val F1\t\t0.8519 \n",
      " Val AUC\t0.5109 \n",
      " Val GMean\t0.0000 \n",
      " Val MCC\t0.0000\n"
     ]
    },
    {
     "name": "stderr",
     "output_type": "stream",
     "text": [
      "100%|███████████████████████████████████████████████████████████████████████████████████████████████████████████████████████████████████| 18/18 [00:00<00:00, 133.50it/s]\n"
     ]
    },
    {
     "name": "stdout",
     "output_type": "stream",
     "text": [
      "lr:  0.0001\n",
      "Epoch 27: \n",
      " Train Loss\t0.5731 \n",
      " Val Loss\t0.5794 \n",
      " Val Acc\t0.7097 \n",
      " Val F1\t\t0.8302 \n",
      " Val AUC\t0.5054 \n",
      " Val GMean\t0.0000 \n",
      " Val MCC\t-0.1077\n"
     ]
    },
    {
     "name": "stderr",
     "output_type": "stream",
     "text": [
      "100%|███████████████████████████████████████████████████████████████████████████████████████████████████████████████████████████████████| 18/18 [00:00<00:00, 139.30it/s]\n"
     ]
    },
    {
     "name": "stdout",
     "output_type": "stream",
     "text": [
      "lr:  0.0001\n",
      "Epoch 28: \n",
      " Train Loss\t0.5718 \n",
      " Val Loss\t0.5802 \n",
      " Val Acc\t0.7097 \n",
      " Val F1\t\t0.8302 \n",
      " Val AUC\t0.5054 \n",
      " Val GMean\t0.0000 \n",
      " Val MCC\t-0.1077\n"
     ]
    },
    {
     "name": "stderr",
     "output_type": "stream",
     "text": [
      "100%|███████████████████████████████████████████████████████████████████████████████████████████████████████████████████████████████████| 18/18 [00:00<00:00, 138.10it/s]\n"
     ]
    },
    {
     "name": "stdout",
     "output_type": "stream",
     "text": [
      "lr:  0.0001\n",
      "Epoch 29: \n",
      " Train Loss\t0.5703 \n",
      " Val Loss\t0.5809 \n",
      " Val Acc\t0.7097 \n",
      " Val F1\t\t0.8302 \n",
      " Val AUC\t0.5054 \n",
      " Val GMean\t0.0000 \n",
      " Val MCC\t-0.1077\n"
     ]
    },
    {
     "name": "stderr",
     "output_type": "stream",
     "text": [
      "100%|███████████████████████████████████████████████████████████████████████████████████████████████████████████████████████████████████| 18/18 [00:00<00:00, 137.33it/s]\n"
     ]
    },
    {
     "name": "stdout",
     "output_type": "stream",
     "text": [
      "lr:  0.0001\n",
      "Epoch 30: \n",
      " Train Loss\t0.5688 \n",
      " Val Loss\t0.5816 \n",
      " Val Acc\t0.7097 \n",
      " Val F1\t\t0.8302 \n",
      " Val AUC\t0.5109 \n",
      " Val GMean\t0.0000 \n",
      " Val MCC\t-0.1077\n"
     ]
    },
    {
     "name": "stderr",
     "output_type": "stream",
     "text": [
      "100%|███████████████████████████████████████████████████████████████████████████████████████████████████████████████████████████████████| 18/18 [00:00<00:00, 128.56it/s]\n"
     ]
    },
    {
     "name": "stdout",
     "output_type": "stream",
     "text": [
      "lr:  0.0001\n",
      "Epoch 31: \n",
      " Train Loss\t0.5674 \n",
      " Val Loss\t0.5822 \n",
      " Val Acc\t0.7097 \n",
      " Val F1\t\t0.8302 \n",
      " Val AUC\t0.5054 \n",
      " Val GMean\t0.0000 \n",
      " Val MCC\t-0.1077\n"
     ]
    },
    {
     "name": "stderr",
     "output_type": "stream",
     "text": [
      "100%|███████████████████████████████████████████████████████████████████████████████████████████████████████████████████████████████████| 18/18 [00:00<00:00, 125.17it/s]\n"
     ]
    },
    {
     "name": "stdout",
     "output_type": "stream",
     "text": [
      "lr:  0.0001\n",
      "Epoch 32: \n",
      " Train Loss\t0.5661 \n",
      " Val Loss\t0.5829 \n",
      " Val Acc\t0.7097 \n",
      " Val F1\t\t0.8302 \n",
      " Val AUC\t0.5054 \n",
      " Val GMean\t0.0000 \n",
      " Val MCC\t-0.1077\n"
     ]
    },
    {
     "name": "stderr",
     "output_type": "stream",
     "text": [
      "100%|███████████████████████████████████████████████████████████████████████████████████████████████████████████████████████████████████| 18/18 [00:00<00:00, 134.40it/s]\n"
     ]
    },
    {
     "name": "stdout",
     "output_type": "stream",
     "text": [
      "lr:  0.0001\n",
      "Epoch 33: \n",
      " Train Loss\t0.5645 \n",
      " Val Loss\t0.5835 \n",
      " Val Acc\t0.7097 \n",
      " Val F1\t\t0.8302 \n",
      " Val AUC\t0.5054 \n",
      " Val GMean\t0.0000 \n",
      " Val MCC\t-0.1077\n"
     ]
    },
    {
     "name": "stderr",
     "output_type": "stream",
     "text": [
      "100%|███████████████████████████████████████████████████████████████████████████████████████████████████████████████████████████████████| 18/18 [00:00<00:00, 135.03it/s]\n"
     ]
    },
    {
     "name": "stdout",
     "output_type": "stream",
     "text": [
      "lr:  0.0001\n",
      "Epoch 34: \n",
      " Train Loss\t0.5627 \n",
      " Val Loss\t0.5842 \n",
      " Val Acc\t0.7097 \n",
      " Val F1\t\t0.8302 \n",
      " Val AUC\t0.4946 \n",
      " Val GMean\t0.0000 \n",
      " Val MCC\t-0.1077\n"
     ]
    },
    {
     "name": "stderr",
     "output_type": "stream",
     "text": [
      "100%|███████████████████████████████████████████████████████████████████████████████████████████████████████████████████████████████████| 18/18 [00:00<00:00, 137.90it/s]\n"
     ]
    },
    {
     "name": "stdout",
     "output_type": "stream",
     "text": [
      "lr:  0.0001\n",
      "Epoch 35: \n",
      " Train Loss\t0.5611 \n",
      " Val Loss\t0.5849 \n",
      " Val Acc\t0.7097 \n",
      " Val F1\t\t0.8302 \n",
      " Val AUC\t0.4946 \n",
      " Val GMean\t0.0000 \n",
      " Val MCC\t-0.1077\n"
     ]
    },
    {
     "name": "stderr",
     "output_type": "stream",
     "text": [
      "100%|███████████████████████████████████████████████████████████████████████████████████████████████████████████████████████████████████| 18/18 [00:00<00:00, 131.70it/s]\n"
     ]
    },
    {
     "name": "stdout",
     "output_type": "stream",
     "text": [
      "lr:  0.0001\n",
      "Epoch 36: \n",
      " Train Loss\t0.5595 \n",
      " Val Loss\t0.5856 \n",
      " Val Acc\t0.7097 \n",
      " Val F1\t\t0.8302 \n",
      " Val AUC\t0.4946 \n",
      " Val GMean\t0.0000 \n",
      " Val MCC\t-0.1077\n"
     ]
    },
    {
     "name": "stderr",
     "output_type": "stream",
     "text": [
      "100%|███████████████████████████████████████████████████████████████████████████████████████████████████████████████████████████████████| 18/18 [00:00<00:00, 128.16it/s]\n"
     ]
    },
    {
     "name": "stdout",
     "output_type": "stream",
     "text": [
      "lr:  0.0001\n",
      "Epoch 37: \n",
      " Train Loss\t0.5579 \n",
      " Val Loss\t0.5863 \n",
      " Val Acc\t0.7097 \n",
      " Val F1\t\t0.8302 \n",
      " Val AUC\t0.5054 \n",
      " Val GMean\t0.0000 \n",
      " Val MCC\t-0.1077\n"
     ]
    },
    {
     "name": "stderr",
     "output_type": "stream",
     "text": [
      "100%|███████████████████████████████████████████████████████████████████████████████████████████████████████████████████████████████████| 18/18 [00:00<00:00, 137.76it/s]\n"
     ]
    },
    {
     "name": "stdout",
     "output_type": "stream",
     "text": [
      "lr:  0.0001\n",
      "Epoch 38: \n",
      " Train Loss\t0.5561 \n",
      " Val Loss\t0.5870 \n",
      " Val Acc\t0.7097 \n",
      " Val F1\t\t0.8302 \n",
      " Val AUC\t0.5054 \n",
      " Val GMean\t0.0000 \n",
      " Val MCC\t-0.1077\n"
     ]
    },
    {
     "name": "stderr",
     "output_type": "stream",
     "text": [
      "100%|███████████████████████████████████████████████████████████████████████████████████████████████████████████████████████████████████| 18/18 [00:00<00:00, 128.93it/s]\n"
     ]
    },
    {
     "name": "stdout",
     "output_type": "stream",
     "text": [
      "lr:  0.0001\n",
      "Epoch 39: \n",
      " Train Loss\t0.5544 \n",
      " Val Loss\t0.5878 \n",
      " Val Acc\t0.7097 \n",
      " Val F1\t\t0.8302 \n",
      " Val AUC\t0.4891 \n",
      " Val GMean\t0.0000 \n",
      " Val MCC\t-0.1077\n"
     ]
    },
    {
     "name": "stderr",
     "output_type": "stream",
     "text": [
      "100%|███████████████████████████████████████████████████████████████████████████████████████████████████████████████████████████████████| 18/18 [00:00<00:00, 134.65it/s]\n"
     ]
    },
    {
     "name": "stdout",
     "output_type": "stream",
     "text": [
      "lr:  0.0001\n",
      "Epoch 40: \n",
      " Train Loss\t0.5526 \n",
      " Val Loss\t0.5886 \n",
      " Val Acc\t0.7097 \n",
      " Val F1\t\t0.8302 \n",
      " Val AUC\t0.4891 \n",
      " Val GMean\t0.0000 \n",
      " Val MCC\t-0.1077\n"
     ]
    },
    {
     "name": "stderr",
     "output_type": "stream",
     "text": [
      "100%|███████████████████████████████████████████████████████████████████████████████████████████████████████████████████████████████████| 18/18 [00:00<00:00, 126.36it/s]\n"
     ]
    },
    {
     "name": "stdout",
     "output_type": "stream",
     "text": [
      "lr:  0.0001\n",
      "Epoch 41: \n",
      " Train Loss\t0.5508 \n",
      " Val Loss\t0.5894 \n",
      " Val Acc\t0.7097 \n",
      " Val F1\t\t0.8302 \n",
      " Val AUC\t0.4837 \n",
      " Val GMean\t0.0000 \n",
      " Val MCC\t-0.1077\n"
     ]
    },
    {
     "name": "stderr",
     "output_type": "stream",
     "text": [
      "100%|███████████████████████████████████████████████████████████████████████████████████████████████████████████████████████████████████| 18/18 [00:00<00:00, 133.37it/s]\n"
     ]
    },
    {
     "name": "stdout",
     "output_type": "stream",
     "text": [
      "lr:  0.0001\n",
      "Epoch 42: \n",
      " Train Loss\t0.5489 \n",
      " Val Loss\t0.5902 \n",
      " Val Acc\t0.6774 \n",
      " Val F1\t\t0.8077 \n",
      " Val AUC\t0.4728 \n",
      " Val GMean\t0.0000 \n",
      " Val MCC\t-0.1549\n"
     ]
    },
    {
     "name": "stderr",
     "output_type": "stream",
     "text": [
      "100%|███████████████████████████████████████████████████████████████████████████████████████████████████████████████████████████████████| 18/18 [00:00<00:00, 135.26it/s]\n"
     ]
    },
    {
     "name": "stdout",
     "output_type": "stream",
     "text": [
      "lr:  0.0001\n",
      "Epoch 43: \n",
      " Train Loss\t0.5471 \n",
      " Val Loss\t0.5911 \n",
      " Val Acc\t0.6774 \n",
      " Val F1\t\t0.8077 \n",
      " Val AUC\t0.4783 \n",
      " Val GMean\t0.0000 \n",
      " Val MCC\t-0.1549\n"
     ]
    },
    {
     "name": "stderr",
     "output_type": "stream",
     "text": [
      "100%|███████████████████████████████████████████████████████████████████████████████████████████████████████████████████████████████████| 18/18 [00:00<00:00, 137.25it/s]\n"
     ]
    },
    {
     "name": "stdout",
     "output_type": "stream",
     "text": [
      "lr:  0.0001\n",
      "Epoch 44: \n",
      " Train Loss\t0.5453 \n",
      " Val Loss\t0.5920 \n",
      " Val Acc\t0.6774 \n",
      " Val F1\t\t0.8077 \n",
      " Val AUC\t0.4837 \n",
      " Val GMean\t0.0000 \n",
      " Val MCC\t-0.1549\n"
     ]
    },
    {
     "name": "stderr",
     "output_type": "stream",
     "text": [
      "100%|███████████████████████████████████████████████████████████████████████████████████████████████████████████████████████████████████| 18/18 [00:00<00:00, 137.25it/s]\n"
     ]
    },
    {
     "name": "stdout",
     "output_type": "stream",
     "text": [
      "lr:  0.0001\n",
      "Epoch 45: \n",
      " Train Loss\t0.5432 \n",
      " Val Loss\t0.5930 \n",
      " Val Acc\t0.6774 \n",
      " Val F1\t\t0.8077 \n",
      " Val AUC\t0.4837 \n",
      " Val GMean\t0.0000 \n",
      " Val MCC\t-0.1549\n"
     ]
    },
    {
     "name": "stderr",
     "output_type": "stream",
     "text": [
      "100%|███████████████████████████████████████████████████████████████████████████████████████████████████████████████████████████████████| 18/18 [00:00<00:00, 138.43it/s]\n"
     ]
    },
    {
     "name": "stdout",
     "output_type": "stream",
     "text": [
      "lr:  0.0001\n",
      "Epoch 46: \n",
      " Train Loss\t0.5413 \n",
      " Val Loss\t0.5939 \n",
      " Val Acc\t0.7097 \n",
      " Val F1\t\t0.8302 \n",
      " Val AUC\t0.4783 \n",
      " Val GMean\t0.0000 \n",
      " Val MCC\t-0.1077\n"
     ]
    },
    {
     "name": "stderr",
     "output_type": "stream",
     "text": [
      "100%|███████████████████████████████████████████████████████████████████████████████████████████████████████████████████████████████████| 18/18 [00:00<00:00, 139.16it/s]\n"
     ]
    },
    {
     "name": "stdout",
     "output_type": "stream",
     "text": [
      "lr:  0.0001\n",
      "Epoch 47: \n",
      " Train Loss\t0.5393 \n",
      " Val Loss\t0.5947 \n",
      " Val Acc\t0.6774 \n",
      " Val F1\t\t0.8077 \n",
      " Val AUC\t0.4783 \n",
      " Val GMean\t0.0000 \n",
      " Val MCC\t-0.1549\n"
     ]
    },
    {
     "name": "stderr",
     "output_type": "stream",
     "text": [
      "100%|███████████████████████████████████████████████████████████████████████████████████████████████████████████████████████████████████| 18/18 [00:00<00:00, 133.89it/s]\n"
     ]
    },
    {
     "name": "stdout",
     "output_type": "stream",
     "text": [
      "lr:  0.0001\n",
      "Epoch 48: \n",
      " Train Loss\t0.5376 \n",
      " Val Loss\t0.5956 \n",
      " Val Acc\t0.7097 \n",
      " Val F1\t\t0.8302 \n",
      " Val AUC\t0.4728 \n",
      " Val GMean\t0.0000 \n",
      " Val MCC\t-0.1077\n"
     ]
    },
    {
     "name": "stderr",
     "output_type": "stream",
     "text": [
      "100%|███████████████████████████████████████████████████████████████████████████████████████████████████████████████████████████████████| 18/18 [00:00<00:00, 137.33it/s]\n"
     ]
    },
    {
     "name": "stdout",
     "output_type": "stream",
     "text": [
      "lr:  0.0001\n",
      "Epoch 49: \n",
      " Train Loss\t0.5354 \n",
      " Val Loss\t0.5965 \n",
      " Val Acc\t0.7097 \n",
      " Val F1\t\t0.8302 \n",
      " Val AUC\t0.4783 \n",
      " Val GMean\t0.0000 \n",
      " Val MCC\t-0.1077\n"
     ]
    },
    {
     "name": "stderr",
     "output_type": "stream",
     "text": [
      "100%|███████████████████████████████████████████████████████████████████████████████████████████████████████████████████████████████████| 18/18 [00:00<00:00, 135.13it/s]\n"
     ]
    },
    {
     "name": "stdout",
     "output_type": "stream",
     "text": [
      "lr:  0.0001\n",
      "Epoch 50: \n",
      " Train Loss\t0.5335 \n",
      " Val Loss\t0.5975 \n",
      " Val Acc\t0.6774 \n",
      " Val F1\t\t0.8077 \n",
      " Val AUC\t0.4891 \n",
      " Val GMean\t0.0000 \n",
      " Val MCC\t-0.1549\n"
     ]
    },
    {
     "name": "stderr",
     "output_type": "stream",
     "text": [
      "100%|███████████████████████████████████████████████████████████████████████████████████████████████████████████████████████████████████| 18/18 [00:00<00:00, 136.30it/s]\n"
     ]
    },
    {
     "name": "stdout",
     "output_type": "stream",
     "text": [
      "lr:  0.0001\n",
      "Epoch 51: \n",
      " Train Loss\t0.5314 \n",
      " Val Loss\t0.5984 \n",
      " Val Acc\t0.6774 \n",
      " Val F1\t\t0.8077 \n",
      " Val AUC\t0.4891 \n",
      " Val GMean\t0.0000 \n",
      " Val MCC\t-0.1549\n"
     ]
    },
    {
     "name": "stderr",
     "output_type": "stream",
     "text": [
      "100%|███████████████████████████████████████████████████████████████████████████████████████████████████████████████████████████████████| 18/18 [00:00<00:00, 137.34it/s]\n"
     ]
    },
    {
     "name": "stdout",
     "output_type": "stream",
     "text": [
      "lr:  0.0001\n",
      "Epoch 52: \n",
      " Train Loss\t0.5293 \n",
      " Val Loss\t0.5994 \n",
      " Val Acc\t0.7097 \n",
      " Val F1\t\t0.8302 \n",
      " Val AUC\t0.4891 \n",
      " Val GMean\t0.0000 \n",
      " Val MCC\t-0.1077\n"
     ]
    },
    {
     "name": "stderr",
     "output_type": "stream",
     "text": [
      "100%|███████████████████████████████████████████████████████████████████████████████████████████████████████████████████████████████████| 18/18 [00:00<00:00, 133.58it/s]\n"
     ]
    },
    {
     "name": "stdout",
     "output_type": "stream",
     "text": [
      "lr:  0.0001\n",
      "Epoch 53: \n",
      " Train Loss\t0.5272 \n",
      " Val Loss\t0.6004 \n",
      " Val Acc\t0.6774 \n",
      " Val F1\t\t0.8077 \n",
      " Val AUC\t0.5109 \n",
      " Val GMean\t0.0000 \n",
      " Val MCC\t-0.1549\n"
     ]
    },
    {
     "name": "stderr",
     "output_type": "stream",
     "text": [
      "100%|███████████████████████████████████████████████████████████████████████████████████████████████████████████████████████████████████| 18/18 [00:00<00:00, 135.94it/s]\n"
     ]
    },
    {
     "name": "stdout",
     "output_type": "stream",
     "text": [
      "lr:  0.0001\n",
      "Epoch 54: \n",
      " Train Loss\t0.5251 \n",
      " Val Loss\t0.6014 \n",
      " Val Acc\t0.6774 \n",
      " Val F1\t\t0.8077 \n",
      " Val AUC\t0.5000 \n",
      " Val GMean\t0.0000 \n",
      " Val MCC\t-0.1549\n"
     ]
    },
    {
     "name": "stderr",
     "output_type": "stream",
     "text": [
      "100%|███████████████████████████████████████████████████████████████████████████████████████████████████████████████████████████████████| 18/18 [00:00<00:00, 132.13it/s]\n"
     ]
    },
    {
     "name": "stdout",
     "output_type": "stream",
     "text": [
      "lr:  0.0001\n",
      "Epoch 55: \n",
      " Train Loss\t0.5232 \n",
      " Val Loss\t0.6025 \n",
      " Val Acc\t0.6774 \n",
      " Val F1\t\t0.8077 \n",
      " Val AUC\t0.4946 \n",
      " Val GMean\t0.0000 \n",
      " Val MCC\t-0.1549\n"
     ]
    },
    {
     "name": "stderr",
     "output_type": "stream",
     "text": [
      "100%|███████████████████████████████████████████████████████████████████████████████████████████████████████████████████████████████████| 18/18 [00:00<00:00, 133.17it/s]\n"
     ]
    },
    {
     "name": "stdout",
     "output_type": "stream",
     "text": [
      "lr:  0.0001\n",
      "Epoch 56: \n",
      " Train Loss\t0.5212 \n",
      " Val Loss\t0.6035 \n",
      " Val Acc\t0.6774 \n",
      " Val F1\t\t0.8077 \n",
      " Val AUC\t0.4837 \n",
      " Val GMean\t0.0000 \n",
      " Val MCC\t-0.1549\n"
     ]
    },
    {
     "name": "stderr",
     "output_type": "stream",
     "text": [
      "100%|███████████████████████████████████████████████████████████████████████████████████████████████████████████████████████████████████| 18/18 [00:00<00:00, 138.12it/s]\n"
     ]
    },
    {
     "name": "stdout",
     "output_type": "stream",
     "text": [
      "lr:  0.0001\n",
      "Epoch 57: \n",
      " Train Loss\t0.5191 \n",
      " Val Loss\t0.6045 \n",
      " Val Acc\t0.7097 \n",
      " Val F1\t\t0.8302 \n",
      " Val AUC\t0.4891 \n",
      " Val GMean\t0.0000 \n",
      " Val MCC\t-0.1077\n"
     ]
    },
    {
     "name": "stderr",
     "output_type": "stream",
     "text": [
      "100%|███████████████████████████████████████████████████████████████████████████████████████████████████████████████████████████████████| 18/18 [00:00<00:00, 137.31it/s]\n"
     ]
    },
    {
     "name": "stdout",
     "output_type": "stream",
     "text": [
      "lr:  0.0001\n",
      "Epoch 58: \n",
      " Train Loss\t0.5168 \n",
      " Val Loss\t0.6056 \n",
      " Val Acc\t0.6774 \n",
      " Val F1\t\t0.8077 \n",
      " Val AUC\t0.4783 \n",
      " Val GMean\t0.0000 \n",
      " Val MCC\t-0.1549\n"
     ]
    },
    {
     "name": "stderr",
     "output_type": "stream",
     "text": [
      "100%|███████████████████████████████████████████████████████████████████████████████████████████████████████████████████████████████████| 18/18 [00:00<00:00, 138.78it/s]\n"
     ]
    },
    {
     "name": "stdout",
     "output_type": "stream",
     "text": [
      "lr:  0.0001\n",
      "Epoch 59: \n",
      " Train Loss\t0.5147 \n",
      " Val Loss\t0.6067 \n",
      " Val Acc\t0.7097 \n",
      " Val F1\t\t0.8302 \n",
      " Val AUC\t0.4837 \n",
      " Val GMean\t0.0000 \n",
      " Val MCC\t-0.1077\n"
     ]
    },
    {
     "name": "stderr",
     "output_type": "stream",
     "text": [
      "100%|███████████████████████████████████████████████████████████████████████████████████████████████████████████████████████████████████| 18/18 [00:00<00:00, 131.66it/s]\n"
     ]
    },
    {
     "name": "stdout",
     "output_type": "stream",
     "text": [
      "lr:  0.0001\n",
      "Epoch 60: \n",
      " Train Loss\t0.5125 \n",
      " Val Loss\t0.6079 \n",
      " Val Acc\t0.6774 \n",
      " Val F1\t\t0.8077 \n",
      " Val AUC\t0.4891 \n",
      " Val GMean\t0.0000 \n",
      " Val MCC\t-0.1549\n"
     ]
    },
    {
     "name": "stderr",
     "output_type": "stream",
     "text": [
      "100%|███████████████████████████████████████████████████████████████████████████████████████████████████████████████████████████████████| 18/18 [00:00<00:00, 138.50it/s]\n"
     ]
    },
    {
     "name": "stdout",
     "output_type": "stream",
     "text": [
      "lr:  0.0001\n",
      "Epoch 61: \n",
      " Train Loss\t0.5103 \n",
      " Val Loss\t0.6090 \n",
      " Val Acc\t0.7097 \n",
      " Val F1\t\t0.8302 \n",
      " Val AUC\t0.4891 \n",
      " Val GMean\t0.0000 \n",
      " Val MCC\t-0.1077\n"
     ]
    },
    {
     "name": "stderr",
     "output_type": "stream",
     "text": [
      "100%|███████████████████████████████████████████████████████████████████████████████████████████████████████████████████████████████████| 18/18 [00:00<00:00, 133.54it/s]\n"
     ]
    },
    {
     "name": "stdout",
     "output_type": "stream",
     "text": [
      "lr:  0.0001\n",
      "Epoch 62: \n",
      " Train Loss\t0.5083 \n",
      " Val Loss\t0.6102 \n",
      " Val Acc\t0.6774 \n",
      " Val F1\t\t0.8077 \n",
      " Val AUC\t0.4946 \n",
      " Val GMean\t0.0000 \n",
      " Val MCC\t-0.1549\n"
     ]
    },
    {
     "name": "stderr",
     "output_type": "stream",
     "text": [
      "100%|███████████████████████████████████████████████████████████████████████████████████████████████████████████████████████████████████| 18/18 [00:00<00:00, 137.41it/s]\n"
     ]
    },
    {
     "name": "stdout",
     "output_type": "stream",
     "text": [
      "lr:  0.0001\n",
      "Epoch 63: \n",
      " Train Loss\t0.5058 \n",
      " Val Loss\t0.6115 \n",
      " Val Acc\t0.6774 \n",
      " Val F1\t\t0.8077 \n",
      " Val AUC\t0.4946 \n",
      " Val GMean\t0.0000 \n",
      " Val MCC\t-0.1549\n"
     ]
    },
    {
     "name": "stderr",
     "output_type": "stream",
     "text": [
      "100%|███████████████████████████████████████████████████████████████████████████████████████████████████████████████████████████████████| 18/18 [00:00<00:00, 132.82it/s]\n"
     ]
    },
    {
     "name": "stdout",
     "output_type": "stream",
     "text": [
      "lr:  0.0001\n",
      "Epoch 64: \n",
      " Train Loss\t0.5039 \n",
      " Val Loss\t0.6127 \n",
      " Val Acc\t0.6774 \n",
      " Val F1\t\t0.8077 \n",
      " Val AUC\t0.4946 \n",
      " Val GMean\t0.0000 \n",
      " Val MCC\t-0.1549\n"
     ]
    },
    {
     "name": "stderr",
     "output_type": "stream",
     "text": [
      "100%|███████████████████████████████████████████████████████████████████████████████████████████████████████████████████████████████████| 18/18 [00:00<00:00, 140.74it/s]\n"
     ]
    },
    {
     "name": "stdout",
     "output_type": "stream",
     "text": [
      "lr:  0.0001\n",
      "Epoch 65: \n",
      " Train Loss\t0.5020 \n",
      " Val Loss\t0.6141 \n",
      " Val Acc\t0.7097 \n",
      " Val F1\t\t0.8302 \n",
      " Val AUC\t0.5000 \n",
      " Val GMean\t0.0000 \n",
      " Val MCC\t-0.1077\n"
     ]
    },
    {
     "name": "stderr",
     "output_type": "stream",
     "text": [
      "100%|███████████████████████████████████████████████████████████████████████████████████████████████████████████████████████████████████| 18/18 [00:00<00:00, 139.08it/s]\n"
     ]
    },
    {
     "name": "stdout",
     "output_type": "stream",
     "text": [
      "lr:  0.0001\n",
      "Epoch 66: \n",
      " Train Loss\t0.5000 \n",
      " Val Loss\t0.6153 \n",
      " Val Acc\t0.6774 \n",
      " Val F1\t\t0.8077 \n",
      " Val AUC\t0.5000 \n",
      " Val GMean\t0.0000 \n",
      " Val MCC\t-0.1549\n"
     ]
    },
    {
     "name": "stderr",
     "output_type": "stream",
     "text": [
      "100%|███████████████████████████████████████████████████████████████████████████████████████████████████████████████████████████████████| 18/18 [00:00<00:00, 139.15it/s]\n"
     ]
    },
    {
     "name": "stdout",
     "output_type": "stream",
     "text": [
      "lr:  0.0001\n",
      "Epoch 67: \n",
      " Train Loss\t0.4979 \n",
      " Val Loss\t0.6167 \n",
      " Val Acc\t0.6774 \n",
      " Val F1\t\t0.8077 \n",
      " Val AUC\t0.4946 \n",
      " Val GMean\t0.0000 \n",
      " Val MCC\t-0.1549\n"
     ]
    },
    {
     "name": "stderr",
     "output_type": "stream",
     "text": [
      "100%|███████████████████████████████████████████████████████████████████████████████████████████████████████████████████████████████████| 18/18 [00:00<00:00, 137.51it/s]\n"
     ]
    },
    {
     "name": "stdout",
     "output_type": "stream",
     "text": [
      "lr:  0.0001\n",
      "Epoch 68: \n",
      " Train Loss\t0.4958 \n",
      " Val Loss\t0.6180 \n",
      " Val Acc\t0.6774 \n",
      " Val F1\t\t0.8077 \n",
      " Val AUC\t0.4946 \n",
      " Val GMean\t0.0000 \n",
      " Val MCC\t-0.1549\n"
     ]
    },
    {
     "name": "stderr",
     "output_type": "stream",
     "text": [
      "100%|███████████████████████████████████████████████████████████████████████████████████████████████████████████████████████████████████| 18/18 [00:00<00:00, 137.14it/s]\n"
     ]
    },
    {
     "name": "stdout",
     "output_type": "stream",
     "text": [
      "lr:  0.0001\n",
      "Epoch 69: \n",
      " Train Loss\t0.4938 \n",
      " Val Loss\t0.6193 \n",
      " Val Acc\t0.6774 \n",
      " Val F1\t\t0.8077 \n",
      " Val AUC\t0.4891 \n",
      " Val GMean\t0.0000 \n",
      " Val MCC\t-0.1549\n"
     ]
    },
    {
     "name": "stderr",
     "output_type": "stream",
     "text": [
      "100%|███████████████████████████████████████████████████████████████████████████████████████████████████████████████████████████████████| 18/18 [00:00<00:00, 137.97it/s]\n"
     ]
    },
    {
     "name": "stdout",
     "output_type": "stream",
     "text": [
      "lr:  0.0001\n",
      "Epoch 70: \n",
      " Train Loss\t0.4914 \n",
      " Val Loss\t0.6208 \n",
      " Val Acc\t0.6774 \n",
      " Val F1\t\t0.8077 \n",
      " Val AUC\t0.4946 \n",
      " Val GMean\t0.0000 \n",
      " Val MCC\t-0.1549\n"
     ]
    },
    {
     "name": "stderr",
     "output_type": "stream",
     "text": [
      "100%|███████████████████████████████████████████████████████████████████████████████████████████████████████████████████████████████████| 18/18 [00:00<00:00, 134.95it/s]\n"
     ]
    },
    {
     "name": "stdout",
     "output_type": "stream",
     "text": [
      "lr:  0.0001\n",
      "Epoch 71: \n",
      " Train Loss\t0.4893 \n",
      " Val Loss\t0.6222 \n",
      " Val Acc\t0.6774 \n",
      " Val F1\t\t0.8077 \n",
      " Val AUC\t0.4946 \n",
      " Val GMean\t0.0000 \n",
      " Val MCC\t-0.1549\n"
     ]
    },
    {
     "name": "stderr",
     "output_type": "stream",
     "text": [
      "100%|███████████████████████████████████████████████████████████████████████████████████████████████████████████████████████████████████| 18/18 [00:00<00:00, 139.58it/s]\n"
     ]
    },
    {
     "name": "stdout",
     "output_type": "stream",
     "text": [
      "lr:  0.0001\n",
      "Epoch 72: \n",
      " Train Loss\t0.4874 \n",
      " Val Loss\t0.6237 \n",
      " Val Acc\t0.6774 \n",
      " Val F1\t\t0.8077 \n",
      " Val AUC\t0.4728 \n",
      " Val GMean\t0.0000 \n",
      " Val MCC\t-0.1549\n"
     ]
    },
    {
     "name": "stderr",
     "output_type": "stream",
     "text": [
      "100%|███████████████████████████████████████████████████████████████████████████████████████████████████████████████████████████████████| 18/18 [00:00<00:00, 129.75it/s]\n"
     ]
    },
    {
     "name": "stdout",
     "output_type": "stream",
     "text": [
      "lr:  0.0001\n",
      "Epoch 73: \n",
      " Train Loss\t0.4852 \n",
      " Val Loss\t0.6253 \n",
      " Val Acc\t0.6774 \n",
      " Val F1\t\t0.8077 \n",
      " Val AUC\t0.4728 \n",
      " Val GMean\t0.0000 \n",
      " Val MCC\t-0.1549\n"
     ]
    },
    {
     "name": "stderr",
     "output_type": "stream",
     "text": [
      "100%|███████████████████████████████████████████████████████████████████████████████████████████████████████████████████████████████████| 18/18 [00:00<00:00, 139.23it/s]\n"
     ]
    },
    {
     "name": "stdout",
     "output_type": "stream",
     "text": [
      "lr:  0.0001\n",
      "Epoch 74: \n",
      " Train Loss\t0.4831 \n",
      " Val Loss\t0.6267 \n",
      " Val Acc\t0.6774 \n",
      " Val F1\t\t0.8077 \n",
      " Val AUC\t0.4620 \n",
      " Val GMean\t0.0000 \n",
      " Val MCC\t-0.1549\n"
     ]
    },
    {
     "name": "stderr",
     "output_type": "stream",
     "text": [
      "100%|███████████████████████████████████████████████████████████████████████████████████████████████████████████████████████████████████| 18/18 [00:00<00:00, 136.87it/s]\n"
     ]
    },
    {
     "name": "stdout",
     "output_type": "stream",
     "text": [
      "lr:  0.0001\n",
      "Epoch 75: \n",
      " Train Loss\t0.4810 \n",
      " Val Loss\t0.6283 \n",
      " Val Acc\t0.6774 \n",
      " Val F1\t\t0.8077 \n",
      " Val AUC\t0.4674 \n",
      " Val GMean\t0.0000 \n",
      " Val MCC\t-0.1549\n"
     ]
    },
    {
     "name": "stderr",
     "output_type": "stream",
     "text": [
      "100%|███████████████████████████████████████████████████████████████████████████████████████████████████████████████████████████████████| 18/18 [00:00<00:00, 135.78it/s]\n"
     ]
    },
    {
     "name": "stdout",
     "output_type": "stream",
     "text": [
      "lr:  0.0001\n",
      "Epoch 76: \n",
      " Train Loss\t0.4790 \n",
      " Val Loss\t0.6302 \n",
      " Val Acc\t0.7097 \n",
      " Val F1\t\t0.8302 \n",
      " Val AUC\t0.4620 \n",
      " Val GMean\t0.0000 \n",
      " Val MCC\t-0.1077\n"
     ]
    },
    {
     "name": "stderr",
     "output_type": "stream",
     "text": [
      "100%|███████████████████████████████████████████████████████████████████████████████████████████████████████████████████████████████████| 18/18 [00:00<00:00, 136.14it/s]\n"
     ]
    },
    {
     "name": "stdout",
     "output_type": "stream",
     "text": [
      "lr:  0.0001\n",
      "Epoch 77: \n",
      " Train Loss\t0.4767 \n",
      " Val Loss\t0.6317 \n",
      " Val Acc\t0.6774 \n",
      " Val F1\t\t0.8077 \n",
      " Val AUC\t0.4620 \n",
      " Val GMean\t0.0000 \n",
      " Val MCC\t-0.1549\n"
     ]
    },
    {
     "name": "stderr",
     "output_type": "stream",
     "text": [
      "100%|███████████████████████████████████████████████████████████████████████████████████████████████████████████████████████████████████| 18/18 [00:00<00:00, 137.56it/s]\n"
     ]
    },
    {
     "name": "stdout",
     "output_type": "stream",
     "text": [
      "lr:  0.0001\n",
      "Epoch 78: \n",
      " Train Loss\t0.4746 \n",
      " Val Loss\t0.6334 \n",
      " Val Acc\t0.6774 \n",
      " Val F1\t\t0.8077 \n",
      " Val AUC\t0.4783 \n",
      " Val GMean\t0.0000 \n",
      " Val MCC\t-0.1549\n"
     ]
    },
    {
     "name": "stderr",
     "output_type": "stream",
     "text": [
      "100%|███████████████████████████████████████████████████████████████████████████████████████████████████████████████████████████████████| 18/18 [00:00<00:00, 135.26it/s]\n"
     ]
    },
    {
     "name": "stdout",
     "output_type": "stream",
     "text": [
      "lr:  0.0001\n",
      "Epoch 79: \n",
      " Train Loss\t0.4726 \n",
      " Val Loss\t0.6353 \n",
      " Val Acc\t0.6774 \n",
      " Val F1\t\t0.8077 \n",
      " Val AUC\t0.4783 \n",
      " Val GMean\t0.0000 \n",
      " Val MCC\t-0.1549\n"
     ]
    },
    {
     "name": "stderr",
     "output_type": "stream",
     "text": [
      "100%|███████████████████████████████████████████████████████████████████████████████████████████████████████████████████████████████████| 18/18 [00:00<00:00, 141.71it/s]\n"
     ]
    },
    {
     "name": "stdout",
     "output_type": "stream",
     "text": [
      "lr:  0.0001\n",
      "Epoch 80: \n",
      " Train Loss\t0.4702 \n",
      " Val Loss\t0.6369 \n",
      " Val Acc\t0.6774 \n",
      " Val F1\t\t0.8077 \n",
      " Val AUC\t0.4728 \n",
      " Val GMean\t0.0000 \n",
      " Val MCC\t-0.1549\n"
     ]
    },
    {
     "name": "stderr",
     "output_type": "stream",
     "text": [
      "100%|███████████████████████████████████████████████████████████████████████████████████████████████████████████████████████████████████| 18/18 [00:00<00:00, 135.36it/s]\n"
     ]
    },
    {
     "name": "stdout",
     "output_type": "stream",
     "text": [
      "lr:  0.0001\n",
      "Epoch 81: \n",
      " Train Loss\t0.4681 \n",
      " Val Loss\t0.6387 \n",
      " Val Acc\t0.6774 \n",
      " Val F1\t\t0.8077 \n",
      " Val AUC\t0.4728 \n",
      " Val GMean\t0.0000 \n",
      " Val MCC\t-0.1549\n"
     ]
    },
    {
     "name": "stderr",
     "output_type": "stream",
     "text": [
      "100%|███████████████████████████████████████████████████████████████████████████████████████████████████████████████████████████████████| 18/18 [00:00<00:00, 138.67it/s]\n"
     ]
    },
    {
     "name": "stdout",
     "output_type": "stream",
     "text": [
      "lr:  0.0001\n",
      "Epoch 82: \n",
      " Train Loss\t0.4662 \n",
      " Val Loss\t0.6405 \n",
      " Val Acc\t0.6774 \n",
      " Val F1\t\t0.8077 \n",
      " Val AUC\t0.4783 \n",
      " Val GMean\t0.0000 \n",
      " Val MCC\t-0.1549\n"
     ]
    },
    {
     "name": "stderr",
     "output_type": "stream",
     "text": [
      "100%|███████████████████████████████████████████████████████████████████████████████████████████████████████████████████████████████████| 18/18 [00:00<00:00, 136.61it/s]\n"
     ]
    },
    {
     "name": "stdout",
     "output_type": "stream",
     "text": [
      "lr:  0.0001\n",
      "Epoch 83: \n",
      " Train Loss\t0.4643 \n",
      " Val Loss\t0.6424 \n",
      " Val Acc\t0.6774 \n",
      " Val F1\t\t0.8077 \n",
      " Val AUC\t0.4728 \n",
      " Val GMean\t0.0000 \n",
      " Val MCC\t-0.1549\n"
     ]
    },
    {
     "name": "stderr",
     "output_type": "stream",
     "text": [
      "100%|███████████████████████████████████████████████████████████████████████████████████████████████████████████████████████████████████| 18/18 [00:00<00:00, 137.45it/s]\n"
     ]
    },
    {
     "name": "stdout",
     "output_type": "stream",
     "text": [
      "lr:  0.0001\n",
      "Epoch 84: \n",
      " Train Loss\t0.4624 \n",
      " Val Loss\t0.6446 \n",
      " Val Acc\t0.6774 \n",
      " Val F1\t\t0.8077 \n",
      " Val AUC\t0.4783 \n",
      " Val GMean\t0.0000 \n",
      " Val MCC\t-0.1549\n"
     ]
    },
    {
     "name": "stderr",
     "output_type": "stream",
     "text": [
      "100%|███████████████████████████████████████████████████████████████████████████████████████████████████████████████████████████████████| 18/18 [00:00<00:00, 136.90it/s]\n"
     ]
    },
    {
     "name": "stdout",
     "output_type": "stream",
     "text": [
      "lr:  0.0001\n",
      "Epoch 85: \n",
      " Train Loss\t0.4606 \n",
      " Val Loss\t0.6463 \n",
      " Val Acc\t0.6774 \n",
      " Val F1\t\t0.8077 \n",
      " Val AUC\t0.4891 \n",
      " Val GMean\t0.0000 \n",
      " Val MCC\t-0.1549\n"
     ]
    },
    {
     "name": "stderr",
     "output_type": "stream",
     "text": [
      "100%|███████████████████████████████████████████████████████████████████████████████████████████████████████████████████████████████████| 18/18 [00:00<00:00, 134.54it/s]\n"
     ]
    },
    {
     "name": "stdout",
     "output_type": "stream",
     "text": [
      "lr:  0.0001\n",
      "Epoch 86: \n",
      " Train Loss\t0.4586 \n",
      " Val Loss\t0.6481 \n",
      " Val Acc\t0.6774 \n",
      " Val F1\t\t0.8077 \n",
      " Val AUC\t0.4891 \n",
      " Val GMean\t0.0000 \n",
      " Val MCC\t-0.1549\n"
     ]
    },
    {
     "name": "stderr",
     "output_type": "stream",
     "text": [
      "100%|███████████████████████████████████████████████████████████████████████████████████████████████████████████████████████████████████| 18/18 [00:00<00:00, 134.36it/s]\n"
     ]
    },
    {
     "name": "stdout",
     "output_type": "stream",
     "text": [
      "lr:  0.0001\n",
      "Epoch 87: \n",
      " Train Loss\t0.4566 \n",
      " Val Loss\t0.6499 \n",
      " Val Acc\t0.6774 \n",
      " Val F1\t\t0.8077 \n",
      " Val AUC\t0.4891 \n",
      " Val GMean\t0.0000 \n",
      " Val MCC\t-0.1549\n"
     ]
    },
    {
     "name": "stderr",
     "output_type": "stream",
     "text": [
      "100%|███████████████████████████████████████████████████████████████████████████████████████████████████████████████████████████████████| 18/18 [00:00<00:00, 133.58it/s]\n"
     ]
    },
    {
     "name": "stdout",
     "output_type": "stream",
     "text": [
      "lr:  0.0001\n",
      "Epoch 88: \n",
      " Train Loss\t0.4543 \n",
      " Val Loss\t0.6517 \n",
      " Val Acc\t0.6774 \n",
      " Val F1\t\t0.8077 \n",
      " Val AUC\t0.4891 \n",
      " Val GMean\t0.0000 \n",
      " Val MCC\t-0.1549\n"
     ]
    },
    {
     "name": "stderr",
     "output_type": "stream",
     "text": [
      "100%|███████████████████████████████████████████████████████████████████████████████████████████████████████████████████████████████████| 18/18 [00:00<00:00, 132.08it/s]\n"
     ]
    },
    {
     "name": "stdout",
     "output_type": "stream",
     "text": [
      "lr:  0.0001\n",
      "Epoch 89: \n",
      " Train Loss\t0.4524 \n",
      " Val Loss\t0.6539 \n",
      " Val Acc\t0.6774 \n",
      " Val F1\t\t0.8077 \n",
      " Val AUC\t0.4891 \n",
      " Val GMean\t0.0000 \n",
      " Val MCC\t-0.1549\n"
     ]
    },
    {
     "name": "stderr",
     "output_type": "stream",
     "text": [
      "100%|███████████████████████████████████████████████████████████████████████████████████████████████████████████████████████████████████| 18/18 [00:00<00:00, 126.28it/s]\n"
     ]
    },
    {
     "name": "stdout",
     "output_type": "stream",
     "text": [
      "lr:  0.0001\n",
      "Epoch 90: \n",
      " Train Loss\t0.4508 \n",
      " Val Loss\t0.6555 \n",
      " Val Acc\t0.7097 \n",
      " Val F1\t\t0.8235 \n",
      " Val AUC\t0.4946 \n",
      " Val GMean\t0.3378 \n",
      " Val MCC\t0.0563\n"
     ]
    },
    {
     "name": "stderr",
     "output_type": "stream",
     "text": [
      "100%|███████████████████████████████████████████████████████████████████████████████████████████████████████████████████████████████████| 18/18 [00:00<00:00, 139.51it/s]\n"
     ]
    },
    {
     "name": "stdout",
     "output_type": "stream",
     "text": [
      "lr:  0.0001\n",
      "Epoch 91: \n",
      " Train Loss\t0.4488 \n",
      " Val Loss\t0.6575 \n",
      " Val Acc\t0.6774 \n",
      " Val F1\t\t0.8077 \n",
      " Val AUC\t0.5000 \n",
      " Val GMean\t0.0000 \n",
      " Val MCC\t-0.1549\n"
     ]
    },
    {
     "name": "stderr",
     "output_type": "stream",
     "text": [
      "100%|███████████████████████████████████████████████████████████████████████████████████████████████████████████████████████████████████| 18/18 [00:00<00:00, 134.89it/s]\n"
     ]
    },
    {
     "name": "stdout",
     "output_type": "stream",
     "text": [
      "lr:  0.0001\n",
      "Epoch 92: \n",
      " Train Loss\t0.4474 \n",
      " Val Loss\t0.6595 \n",
      " Val Acc\t0.6774 \n",
      " Val F1\t\t0.8077 \n",
      " Val AUC\t0.5109 \n",
      " Val GMean\t0.0000 \n",
      " Val MCC\t-0.1549\n"
     ]
    },
    {
     "name": "stderr",
     "output_type": "stream",
     "text": [
      "100%|███████████████████████████████████████████████████████████████████████████████████████████████████████████████████████████████████| 18/18 [00:00<00:00, 139.59it/s]\n"
     ]
    },
    {
     "name": "stdout",
     "output_type": "stream",
     "text": [
      "lr:  0.0001\n",
      "Epoch 93: \n",
      " Train Loss\t0.4455 \n",
      " Val Loss\t0.6613 \n",
      " Val Acc\t0.7097 \n",
      " Val F1\t\t0.8235 \n",
      " Val AUC\t0.5054 \n",
      " Val GMean\t0.3378 \n",
      " Val MCC\t0.0563\n"
     ]
    },
    {
     "name": "stderr",
     "output_type": "stream",
     "text": [
      "100%|███████████████████████████████████████████████████████████████████████████████████████████████████████████████████████████████████| 18/18 [00:00<00:00, 132.89it/s]\n"
     ]
    },
    {
     "name": "stdout",
     "output_type": "stream",
     "text": [
      "lr:  0.0001\n",
      "Epoch 94: \n",
      " Train Loss\t0.4436 \n",
      " Val Loss\t0.6630 \n",
      " Val Acc\t0.7097 \n",
      " Val F1\t\t0.8235 \n",
      " Val AUC\t0.5054 \n",
      " Val GMean\t0.3378 \n",
      " Val MCC\t0.0563\n"
     ]
    },
    {
     "name": "stderr",
     "output_type": "stream",
     "text": [
      "100%|███████████████████████████████████████████████████████████████████████████████████████████████████████████████████████████████████| 18/18 [00:00<00:00, 128.03it/s]\n"
     ]
    },
    {
     "name": "stdout",
     "output_type": "stream",
     "text": [
      "lr:  0.0001\n",
      "Epoch 95: \n",
      " Train Loss\t0.4420 \n",
      " Val Loss\t0.6650 \n",
      " Val Acc\t0.6774 \n",
      " Val F1\t\t0.8077 \n",
      " Val AUC\t0.5109 \n",
      " Val GMean\t0.0000 \n",
      " Val MCC\t-0.1549\n"
     ]
    },
    {
     "name": "stderr",
     "output_type": "stream",
     "text": [
      "100%|███████████████████████████████████████████████████████████████████████████████████████████████████████████████████████████████████| 18/18 [00:00<00:00, 139.49it/s]\n"
     ]
    },
    {
     "name": "stdout",
     "output_type": "stream",
     "text": [
      "lr:  0.0001\n",
      "Epoch 96: \n",
      " Train Loss\t0.4405 \n",
      " Val Loss\t0.6667 \n",
      " Val Acc\t0.7097 \n",
      " Val F1\t\t0.8235 \n",
      " Val AUC\t0.5109 \n",
      " Val GMean\t0.3378 \n",
      " Val MCC\t0.0563\n"
     ]
    },
    {
     "name": "stderr",
     "output_type": "stream",
     "text": [
      "100%|███████████████████████████████████████████████████████████████████████████████████████████████████████████████████████████████████| 18/18 [00:00<00:00, 136.39it/s]\n"
     ]
    },
    {
     "name": "stdout",
     "output_type": "stream",
     "text": [
      "lr:  0.0001\n",
      "Epoch 97: \n",
      " Train Loss\t0.4387 \n",
      " Val Loss\t0.6686 \n",
      " Val Acc\t0.6774 \n",
      " Val F1\t\t0.8077 \n",
      " Val AUC\t0.5109 \n",
      " Val GMean\t0.0000 \n",
      " Val MCC\t-0.1549\n"
     ]
    },
    {
     "name": "stderr",
     "output_type": "stream",
     "text": [
      "100%|███████████████████████████████████████████████████████████████████████████████████████████████████████████████████████████████████| 18/18 [00:00<00:00, 138.49it/s]\n"
     ]
    },
    {
     "name": "stdout",
     "output_type": "stream",
     "text": [
      "lr:  0.0001\n",
      "Epoch 98: \n",
      " Train Loss\t0.4370 \n",
      " Val Loss\t0.6706 \n",
      " Val Acc\t0.6774 \n",
      " Val F1\t\t0.8077 \n",
      " Val AUC\t0.5109 \n",
      " Val GMean\t0.0000 \n",
      " Val MCC\t-0.1549\n"
     ]
    },
    {
     "name": "stderr",
     "output_type": "stream",
     "text": [
      "100%|███████████████████████████████████████████████████████████████████████████████████████████████████████████████████████████████████| 18/18 [00:00<00:00, 139.01it/s]\n"
     ]
    },
    {
     "name": "stdout",
     "output_type": "stream",
     "text": [
      "lr:  0.0001\n",
      "Epoch 99: \n",
      " Train Loss\t0.4351 \n",
      " Val Loss\t0.6725 \n",
      " Val Acc\t0.6774 \n",
      " Val F1\t\t0.8077 \n",
      " Val AUC\t0.5109 \n",
      " Val GMean\t0.0000 \n",
      " Val MCC\t-0.1549\n",
      "=========================================================\n",
      "fold 6 as val set\n",
      "model parameters:  418817\n"
     ]
    },
    {
     "name": "stderr",
     "output_type": "stream",
     "text": [
      "100%|███████████████████████████████████████████████████████████████████████████████████████████████████████████████████████████████████| 18/18 [00:00<00:00, 134.10it/s]\n"
     ]
    },
    {
     "name": "stdout",
     "output_type": "stream",
     "text": [
      "lr:  0.0001\n",
      "Epoch 0: \n",
      " Train Loss\t0.6210 \n",
      " Val Loss\t0.4734 \n",
      " Val Acc\t0.8387 \n",
      " Val F1\t\t0.9123 \n",
      " Val AUC\t0.6769 \n",
      " Val GMean\t0.0000 \n",
      " Val MCC\t0.0000\n"
     ]
    },
    {
     "name": "stderr",
     "output_type": "stream",
     "text": [
      "100%|███████████████████████████████████████████████████████████████████████████████████████████████████████████████████████████████████| 18/18 [00:00<00:00, 139.57it/s]\n"
     ]
    },
    {
     "name": "stdout",
     "output_type": "stream",
     "text": [
      "lr:  0.0001\n",
      "Epoch 1: \n",
      " Train Loss\t0.6104 \n",
      " Val Loss\t0.4723 \n",
      " Val Acc\t0.8387 \n",
      " Val F1\t\t0.9123 \n",
      " Val AUC\t0.7000 \n",
      " Val GMean\t0.0000 \n",
      " Val MCC\t0.0000\n"
     ]
    },
    {
     "name": "stderr",
     "output_type": "stream",
     "text": [
      "100%|███████████████████████████████████████████████████████████████████████████████████████████████████████████████████████████████████| 18/18 [00:00<00:00, 140.02it/s]\n"
     ]
    },
    {
     "name": "stdout",
     "output_type": "stream",
     "text": [
      "lr:  0.0001\n",
      "Epoch 2: \n",
      " Train Loss\t0.6069 \n",
      " Val Loss\t0.4759 \n",
      " Val Acc\t0.8387 \n",
      " Val F1\t\t0.9123 \n",
      " Val AUC\t0.7154 \n",
      " Val GMean\t0.0000 \n",
      " Val MCC\t0.0000\n"
     ]
    },
    {
     "name": "stderr",
     "output_type": "stream",
     "text": [
      "100%|███████████████████████████████████████████████████████████████████████████████████████████████████████████████████████████████████| 18/18 [00:00<00:00, 138.13it/s]\n"
     ]
    },
    {
     "name": "stdout",
     "output_type": "stream",
     "text": [
      "lr:  0.0001\n",
      "Epoch 3: \n",
      " Train Loss\t0.6048 \n",
      " Val Loss\t0.4778 \n",
      " Val Acc\t0.8387 \n",
      " Val F1\t\t0.9123 \n",
      " Val AUC\t0.7154 \n",
      " Val GMean\t0.0000 \n",
      " Val MCC\t0.0000\n"
     ]
    },
    {
     "name": "stderr",
     "output_type": "stream",
     "text": [
      "100%|███████████████████████████████████████████████████████████████████████████████████████████████████████████████████████████████████| 18/18 [00:00<00:00, 140.35it/s]\n"
     ]
    },
    {
     "name": "stdout",
     "output_type": "stream",
     "text": [
      "lr:  0.0001\n",
      "Epoch 4: \n",
      " Train Loss\t0.6029 \n",
      " Val Loss\t0.4786 \n",
      " Val Acc\t0.8387 \n",
      " Val F1\t\t0.9123 \n",
      " Val AUC\t0.7231 \n",
      " Val GMean\t0.0000 \n",
      " Val MCC\t0.0000\n"
     ]
    },
    {
     "name": "stderr",
     "output_type": "stream",
     "text": [
      "100%|███████████████████████████████████████████████████████████████████████████████████████████████████████████████████████████████████| 18/18 [00:00<00:00, 138.10it/s]\n"
     ]
    },
    {
     "name": "stdout",
     "output_type": "stream",
     "text": [
      "lr:  0.0001\n",
      "Epoch 5: \n",
      " Train Loss\t0.6014 \n",
      " Val Loss\t0.4791 \n",
      " Val Acc\t0.8387 \n",
      " Val F1\t\t0.9123 \n",
      " Val AUC\t0.7231 \n",
      " Val GMean\t0.0000 \n",
      " Val MCC\t0.0000\n"
     ]
    },
    {
     "name": "stderr",
     "output_type": "stream",
     "text": [
      "100%|███████████████████████████████████████████████████████████████████████████████████████████████████████████████████████████████████| 18/18 [00:00<00:00, 140.01it/s]\n"
     ]
    },
    {
     "name": "stdout",
     "output_type": "stream",
     "text": [
      "lr:  0.0001\n",
      "Epoch 6: \n",
      " Train Loss\t0.6001 \n",
      " Val Loss\t0.4796 \n",
      " Val Acc\t0.8387 \n",
      " Val F1\t\t0.9123 \n",
      " Val AUC\t0.7231 \n",
      " Val GMean\t0.0000 \n",
      " Val MCC\t0.0000\n"
     ]
    },
    {
     "name": "stderr",
     "output_type": "stream",
     "text": [
      "100%|███████████████████████████████████████████████████████████████████████████████████████████████████████████████████████████████████| 18/18 [00:00<00:00, 127.69it/s]\n"
     ]
    },
    {
     "name": "stdout",
     "output_type": "stream",
     "text": [
      "lr:  0.0001\n",
      "Epoch 7: \n",
      " Train Loss\t0.5991 \n",
      " Val Loss\t0.4801 \n",
      " Val Acc\t0.8387 \n",
      " Val F1\t\t0.9123 \n",
      " Val AUC\t0.7231 \n",
      " Val GMean\t0.0000 \n",
      " Val MCC\t0.0000\n"
     ]
    },
    {
     "name": "stderr",
     "output_type": "stream",
     "text": [
      "100%|███████████████████████████████████████████████████████████████████████████████████████████████████████████████████████████████████| 18/18 [00:00<00:00, 134.25it/s]\n"
     ]
    },
    {
     "name": "stdout",
     "output_type": "stream",
     "text": [
      "lr:  0.0001\n",
      "Epoch 8: \n",
      " Train Loss\t0.5982 \n",
      " Val Loss\t0.4804 \n",
      " Val Acc\t0.8387 \n",
      " Val F1\t\t0.9123 \n",
      " Val AUC\t0.7154 \n",
      " Val GMean\t0.0000 \n",
      " Val MCC\t0.0000\n"
     ]
    },
    {
     "name": "stderr",
     "output_type": "stream",
     "text": [
      "100%|███████████████████████████████████████████████████████████████████████████████████████████████████████████████████████████████████| 18/18 [00:00<00:00, 135.67it/s]\n"
     ]
    },
    {
     "name": "stdout",
     "output_type": "stream",
     "text": [
      "lr:  0.0001\n",
      "Epoch 9: \n",
      " Train Loss\t0.5973 \n",
      " Val Loss\t0.4806 \n",
      " Val Acc\t0.8387 \n",
      " Val F1\t\t0.9123 \n",
      " Val AUC\t0.7308 \n",
      " Val GMean\t0.0000 \n",
      " Val MCC\t0.0000\n"
     ]
    },
    {
     "name": "stderr",
     "output_type": "stream",
     "text": [
      "100%|███████████████████████████████████████████████████████████████████████████████████████████████████████████████████████████████████| 18/18 [00:00<00:00, 132.88it/s]\n"
     ]
    },
    {
     "name": "stdout",
     "output_type": "stream",
     "text": [
      "lr:  0.0001\n",
      "Epoch 10: \n",
      " Train Loss\t0.5965 \n",
      " Val Loss\t0.4808 \n",
      " Val Acc\t0.8387 \n",
      " Val F1\t\t0.9123 \n",
      " Val AUC\t0.7231 \n",
      " Val GMean\t0.0000 \n",
      " Val MCC\t0.0000\n"
     ]
    },
    {
     "name": "stderr",
     "output_type": "stream",
     "text": [
      "100%|███████████████████████████████████████████████████████████████████████████████████████████████████████████████████████████████████| 18/18 [00:00<00:00, 137.38it/s]\n"
     ]
    },
    {
     "name": "stdout",
     "output_type": "stream",
     "text": [
      "lr:  0.0001\n",
      "Epoch 11: \n",
      " Train Loss\t0.5956 \n",
      " Val Loss\t0.4810 \n",
      " Val Acc\t0.8387 \n",
      " Val F1\t\t0.9123 \n",
      " Val AUC\t0.7231 \n",
      " Val GMean\t0.0000 \n",
      " Val MCC\t0.0000\n"
     ]
    },
    {
     "name": "stderr",
     "output_type": "stream",
     "text": [
      "100%|███████████████████████████████████████████████████████████████████████████████████████████████████████████████████████████████████| 18/18 [00:00<00:00, 138.58it/s]\n"
     ]
    },
    {
     "name": "stdout",
     "output_type": "stream",
     "text": [
      "lr:  0.0001\n",
      "Epoch 12: \n",
      " Train Loss\t0.5946 \n",
      " Val Loss\t0.4811 \n",
      " Val Acc\t0.8387 \n",
      " Val F1\t\t0.9123 \n",
      " Val AUC\t0.7154 \n",
      " Val GMean\t0.0000 \n",
      " Val MCC\t0.0000\n"
     ]
    },
    {
     "name": "stderr",
     "output_type": "stream",
     "text": [
      "100%|███████████████████████████████████████████████████████████████████████████████████████████████████████████████████████████████████| 18/18 [00:00<00:00, 135.80it/s]\n"
     ]
    },
    {
     "name": "stdout",
     "output_type": "stream",
     "text": [
      "lr:  0.0001\n",
      "Epoch 13: \n",
      " Train Loss\t0.5936 \n",
      " Val Loss\t0.4811 \n",
      " Val Acc\t0.8387 \n",
      " Val F1\t\t0.9123 \n",
      " Val AUC\t0.7154 \n",
      " Val GMean\t0.0000 \n",
      " Val MCC\t0.0000\n"
     ]
    },
    {
     "name": "stderr",
     "output_type": "stream",
     "text": [
      "100%|███████████████████████████████████████████████████████████████████████████████████████████████████████████████████████████████████| 18/18 [00:00<00:00, 138.75it/s]\n"
     ]
    },
    {
     "name": "stdout",
     "output_type": "stream",
     "text": [
      "lr:  0.0001\n",
      "Epoch 14: \n",
      " Train Loss\t0.5926 \n",
      " Val Loss\t0.4810 \n",
      " Val Acc\t0.8387 \n",
      " Val F1\t\t0.9123 \n",
      " Val AUC\t0.7231 \n",
      " Val GMean\t0.0000 \n",
      " Val MCC\t0.0000\n"
     ]
    },
    {
     "name": "stderr",
     "output_type": "stream",
     "text": [
      "100%|███████████████████████████████████████████████████████████████████████████████████████████████████████████████████████████████████| 18/18 [00:00<00:00, 141.99it/s]\n"
     ]
    },
    {
     "name": "stdout",
     "output_type": "stream",
     "text": [
      "lr:  0.0001\n",
      "Epoch 15: \n",
      " Train Loss\t0.5915 \n",
      " Val Loss\t0.4808 \n",
      " Val Acc\t0.8387 \n",
      " Val F1\t\t0.9123 \n",
      " Val AUC\t0.7308 \n",
      " Val GMean\t0.0000 \n",
      " Val MCC\t0.0000\n"
     ]
    },
    {
     "name": "stderr",
     "output_type": "stream",
     "text": [
      "100%|███████████████████████████████████████████████████████████████████████████████████████████████████████████████████████████████████| 18/18 [00:00<00:00, 139.47it/s]\n"
     ]
    },
    {
     "name": "stdout",
     "output_type": "stream",
     "text": [
      "lr:  0.0001\n",
      "Epoch 16: \n",
      " Train Loss\t0.5904 \n",
      " Val Loss\t0.4806 \n",
      " Val Acc\t0.8387 \n",
      " Val F1\t\t0.9123 \n",
      " Val AUC\t0.7308 \n",
      " Val GMean\t0.0000 \n",
      " Val MCC\t0.0000\n"
     ]
    },
    {
     "name": "stderr",
     "output_type": "stream",
     "text": [
      "100%|███████████████████████████████████████████████████████████████████████████████████████████████████████████████████████████████████| 18/18 [00:00<00:00, 130.13it/s]\n"
     ]
    },
    {
     "name": "stdout",
     "output_type": "stream",
     "text": [
      "lr:  0.0001\n",
      "Epoch 17: \n",
      " Train Loss\t0.5893 \n",
      " Val Loss\t0.4804 \n",
      " Val Acc\t0.8387 \n",
      " Val F1\t\t0.9123 \n",
      " Val AUC\t0.7385 \n",
      " Val GMean\t0.0000 \n",
      " Val MCC\t0.0000\n"
     ]
    },
    {
     "name": "stderr",
     "output_type": "stream",
     "text": [
      "100%|███████████████████████████████████████████████████████████████████████████████████████████████████████████████████████████████████| 18/18 [00:00<00:00, 136.11it/s]\n"
     ]
    },
    {
     "name": "stdout",
     "output_type": "stream",
     "text": [
      "lr:  0.0001\n",
      "Epoch 18: \n",
      " Train Loss\t0.5882 \n",
      " Val Loss\t0.4802 \n",
      " Val Acc\t0.8387 \n",
      " Val F1\t\t0.9123 \n",
      " Val AUC\t0.7385 \n",
      " Val GMean\t0.0000 \n",
      " Val MCC\t0.0000\n"
     ]
    },
    {
     "name": "stderr",
     "output_type": "stream",
     "text": [
      "100%|███████████████████████████████████████████████████████████████████████████████████████████████████████████████████████████████████| 18/18 [00:00<00:00, 137.61it/s]\n"
     ]
    },
    {
     "name": "stdout",
     "output_type": "stream",
     "text": [
      "lr:  0.0001\n",
      "Epoch 19: \n",
      " Train Loss\t0.5871 \n",
      " Val Loss\t0.4800 \n",
      " Val Acc\t0.8387 \n",
      " Val F1\t\t0.9123 \n",
      " Val AUC\t0.7231 \n",
      " Val GMean\t0.0000 \n",
      " Val MCC\t0.0000\n"
     ]
    },
    {
     "name": "stderr",
     "output_type": "stream",
     "text": [
      "100%|███████████████████████████████████████████████████████████████████████████████████████████████████████████████████████████████████| 18/18 [00:00<00:00, 131.12it/s]\n"
     ]
    },
    {
     "name": "stdout",
     "output_type": "stream",
     "text": [
      "lr:  0.0001\n",
      "Epoch 20: \n",
      " Train Loss\t0.5857 \n",
      " Val Loss\t0.4799 \n",
      " Val Acc\t0.8387 \n",
      " Val F1\t\t0.9123 \n",
      " Val AUC\t0.7231 \n",
      " Val GMean\t0.0000 \n",
      " Val MCC\t0.0000\n"
     ]
    },
    {
     "name": "stderr",
     "output_type": "stream",
     "text": [
      "100%|███████████████████████████████████████████████████████████████████████████████████████████████████████████████████████████████████| 18/18 [00:00<00:00, 140.00it/s]\n"
     ]
    },
    {
     "name": "stdout",
     "output_type": "stream",
     "text": [
      "lr:  0.0001\n",
      "Epoch 21: \n",
      " Train Loss\t0.5844 \n",
      " Val Loss\t0.4796 \n",
      " Val Acc\t0.8387 \n",
      " Val F1\t\t0.9123 \n",
      " Val AUC\t0.7308 \n",
      " Val GMean\t0.0000 \n",
      " Val MCC\t0.0000\n"
     ]
    },
    {
     "name": "stderr",
     "output_type": "stream",
     "text": [
      "100%|███████████████████████████████████████████████████████████████████████████████████████████████████████████████████████████████████| 18/18 [00:00<00:00, 139.86it/s]\n"
     ]
    },
    {
     "name": "stdout",
     "output_type": "stream",
     "text": [
      "lr:  0.0001\n",
      "Epoch 22: \n",
      " Train Loss\t0.5831 \n",
      " Val Loss\t0.4794 \n",
      " Val Acc\t0.8387 \n",
      " Val F1\t\t0.9123 \n",
      " Val AUC\t0.7385 \n",
      " Val GMean\t0.0000 \n",
      " Val MCC\t0.0000\n"
     ]
    },
    {
     "name": "stderr",
     "output_type": "stream",
     "text": [
      "100%|███████████████████████████████████████████████████████████████████████████████████████████████████████████████████████████████████| 18/18 [00:00<00:00, 138.38it/s]\n"
     ]
    },
    {
     "name": "stdout",
     "output_type": "stream",
     "text": [
      "lr:  0.0001\n",
      "Epoch 23: \n",
      " Train Loss\t0.5816 \n",
      " Val Loss\t0.4791 \n",
      " Val Acc\t0.8387 \n",
      " Val F1\t\t0.9123 \n",
      " Val AUC\t0.7385 \n",
      " Val GMean\t0.0000 \n",
      " Val MCC\t0.0000\n"
     ]
    },
    {
     "name": "stderr",
     "output_type": "stream",
     "text": [
      "100%|███████████████████████████████████████████████████████████████████████████████████████████████████████████████████████████████████| 18/18 [00:00<00:00, 133.72it/s]\n"
     ]
    },
    {
     "name": "stdout",
     "output_type": "stream",
     "text": [
      "lr:  0.0001\n",
      "Epoch 24: \n",
      " Train Loss\t0.5800 \n",
      " Val Loss\t0.4785 \n",
      " Val Acc\t0.8387 \n",
      " Val F1\t\t0.9123 \n",
      " Val AUC\t0.7462 \n",
      " Val GMean\t0.0000 \n",
      " Val MCC\t0.0000\n"
     ]
    },
    {
     "name": "stderr",
     "output_type": "stream",
     "text": [
      "100%|███████████████████████████████████████████████████████████████████████████████████████████████████████████████████████████████████| 18/18 [00:00<00:00, 134.90it/s]\n"
     ]
    },
    {
     "name": "stdout",
     "output_type": "stream",
     "text": [
      "lr:  0.0001\n",
      "Epoch 25: \n",
      " Train Loss\t0.5783 \n",
      " Val Loss\t0.4780 \n",
      " Val Acc\t0.8387 \n",
      " Val F1\t\t0.9123 \n",
      " Val AUC\t0.7462 \n",
      " Val GMean\t0.0000 \n",
      " Val MCC\t0.0000\n"
     ]
    },
    {
     "name": "stderr",
     "output_type": "stream",
     "text": [
      "100%|███████████████████████████████████████████████████████████████████████████████████████████████████████████████████████████████████| 18/18 [00:00<00:00, 131.40it/s]\n"
     ]
    },
    {
     "name": "stdout",
     "output_type": "stream",
     "text": [
      "lr:  0.0001\n",
      "Epoch 26: \n",
      " Train Loss\t0.5768 \n",
      " Val Loss\t0.4774 \n",
      " Val Acc\t0.8387 \n",
      " Val F1\t\t0.9123 \n",
      " Val AUC\t0.7462 \n",
      " Val GMean\t0.0000 \n",
      " Val MCC\t0.0000\n"
     ]
    },
    {
     "name": "stderr",
     "output_type": "stream",
     "text": [
      "100%|███████████████████████████████████████████████████████████████████████████████████████████████████████████████████████████████████| 18/18 [00:00<00:00, 136.88it/s]\n"
     ]
    },
    {
     "name": "stdout",
     "output_type": "stream",
     "text": [
      "lr:  0.0001\n",
      "Epoch 27: \n",
      " Train Loss\t0.5751 \n",
      " Val Loss\t0.4768 \n",
      " Val Acc\t0.8387 \n",
      " Val F1\t\t0.9123 \n",
      " Val AUC\t0.7385 \n",
      " Val GMean\t0.0000 \n",
      " Val MCC\t0.0000\n"
     ]
    },
    {
     "name": "stderr",
     "output_type": "stream",
     "text": [
      "100%|███████████████████████████████████████████████████████████████████████████████████████████████████████████████████████████████████| 18/18 [00:00<00:00, 141.05it/s]\n"
     ]
    },
    {
     "name": "stdout",
     "output_type": "stream",
     "text": [
      "lr:  0.0001\n",
      "Epoch 28: \n",
      " Train Loss\t0.5732 \n",
      " Val Loss\t0.4762 \n",
      " Val Acc\t0.8387 \n",
      " Val F1\t\t0.9123 \n",
      " Val AUC\t0.7308 \n",
      " Val GMean\t0.0000 \n",
      " Val MCC\t0.0000\n"
     ]
    },
    {
     "name": "stderr",
     "output_type": "stream",
     "text": [
      "100%|███████████████████████████████████████████████████████████████████████████████████████████████████████████████████████████████████| 18/18 [00:00<00:00, 138.39it/s]\n"
     ]
    },
    {
     "name": "stdout",
     "output_type": "stream",
     "text": [
      "lr:  0.0001\n",
      "Epoch 29: \n",
      " Train Loss\t0.5713 \n",
      " Val Loss\t0.4756 \n",
      " Val Acc\t0.8387 \n",
      " Val F1\t\t0.9123 \n",
      " Val AUC\t0.7308 \n",
      " Val GMean\t0.0000 \n",
      " Val MCC\t0.0000\n"
     ]
    },
    {
     "name": "stderr",
     "output_type": "stream",
     "text": [
      "100%|███████████████████████████████████████████████████████████████████████████████████████████████████████████████████████████████████| 18/18 [00:00<00:00, 137.22it/s]\n"
     ]
    },
    {
     "name": "stdout",
     "output_type": "stream",
     "text": [
      "lr:  0.0001\n",
      "Epoch 30: \n",
      " Train Loss\t0.5691 \n",
      " Val Loss\t0.4748 \n",
      " Val Acc\t0.8387 \n",
      " Val F1\t\t0.9123 \n",
      " Val AUC\t0.7385 \n",
      " Val GMean\t0.0000 \n",
      " Val MCC\t0.0000\n"
     ]
    },
    {
     "name": "stderr",
     "output_type": "stream",
     "text": [
      "100%|███████████████████████████████████████████████████████████████████████████████████████████████████████████████████████████████████| 18/18 [00:00<00:00, 136.13it/s]\n"
     ]
    },
    {
     "name": "stdout",
     "output_type": "stream",
     "text": [
      "lr:  0.0001\n",
      "Epoch 31: \n",
      " Train Loss\t0.5672 \n",
      " Val Loss\t0.4741 \n",
      " Val Acc\t0.8387 \n",
      " Val F1\t\t0.9123 \n",
      " Val AUC\t0.7462 \n",
      " Val GMean\t0.0000 \n",
      " Val MCC\t0.0000\n"
     ]
    },
    {
     "name": "stderr",
     "output_type": "stream",
     "text": [
      "100%|███████████████████████████████████████████████████████████████████████████████████████████████████████████████████████████████████| 18/18 [00:00<00:00, 132.73it/s]\n"
     ]
    },
    {
     "name": "stdout",
     "output_type": "stream",
     "text": [
      "lr:  0.0001\n",
      "Epoch 32: \n",
      " Train Loss\t0.5654 \n",
      " Val Loss\t0.4734 \n",
      " Val Acc\t0.8387 \n",
      " Val F1\t\t0.9123 \n",
      " Val AUC\t0.7538 \n",
      " Val GMean\t0.0000 \n",
      " Val MCC\t0.0000\n"
     ]
    },
    {
     "name": "stderr",
     "output_type": "stream",
     "text": [
      "100%|███████████████████████████████████████████████████████████████████████████████████████████████████████████████████████████████████| 18/18 [00:00<00:00, 132.34it/s]\n"
     ]
    },
    {
     "name": "stdout",
     "output_type": "stream",
     "text": [
      "lr:  0.0001\n",
      "Epoch 33: \n",
      " Train Loss\t0.5636 \n",
      " Val Loss\t0.4726 \n",
      " Val Acc\t0.8387 \n",
      " Val F1\t\t0.9123 \n",
      " Val AUC\t0.7538 \n",
      " Val GMean\t0.0000 \n",
      " Val MCC\t0.0000\n"
     ]
    },
    {
     "name": "stderr",
     "output_type": "stream",
     "text": [
      "100%|███████████████████████████████████████████████████████████████████████████████████████████████████████████████████████████████████| 18/18 [00:00<00:00, 127.37it/s]\n"
     ]
    },
    {
     "name": "stdout",
     "output_type": "stream",
     "text": [
      "lr:  0.0001\n",
      "Epoch 34: \n",
      " Train Loss\t0.5613 \n",
      " Val Loss\t0.4719 \n",
      " Val Acc\t0.8387 \n",
      " Val F1\t\t0.9123 \n",
      " Val AUC\t0.7538 \n",
      " Val GMean\t0.0000 \n",
      " Val MCC\t0.0000\n"
     ]
    },
    {
     "name": "stderr",
     "output_type": "stream",
     "text": [
      "100%|███████████████████████████████████████████████████████████████████████████████████████████████████████████████████████████████████| 18/18 [00:00<00:00, 135.47it/s]\n"
     ]
    },
    {
     "name": "stdout",
     "output_type": "stream",
     "text": [
      "lr:  0.0001\n",
      "Epoch 35: \n",
      " Train Loss\t0.5590 \n",
      " Val Loss\t0.4713 \n",
      " Val Acc\t0.8387 \n",
      " Val F1\t\t0.9123 \n",
      " Val AUC\t0.7385 \n",
      " Val GMean\t0.0000 \n",
      " Val MCC\t0.0000\n"
     ]
    },
    {
     "name": "stderr",
     "output_type": "stream",
     "text": [
      "100%|███████████████████████████████████████████████████████████████████████████████████████████████████████████████████████████████████| 18/18 [00:00<00:00, 138.22it/s]\n"
     ]
    },
    {
     "name": "stdout",
     "output_type": "stream",
     "text": [
      "lr:  0.0001\n",
      "Epoch 36: \n",
      " Train Loss\t0.5567 \n",
      " Val Loss\t0.4705 \n",
      " Val Acc\t0.8387 \n",
      " Val F1\t\t0.9123 \n",
      " Val AUC\t0.7385 \n",
      " Val GMean\t0.0000 \n",
      " Val MCC\t0.0000\n"
     ]
    },
    {
     "name": "stderr",
     "output_type": "stream",
     "text": [
      "100%|███████████████████████████████████████████████████████████████████████████████████████████████████████████████████████████████████| 18/18 [00:00<00:00, 136.79it/s]\n"
     ]
    },
    {
     "name": "stdout",
     "output_type": "stream",
     "text": [
      "lr:  0.0001\n",
      "Epoch 37: \n",
      " Train Loss\t0.5545 \n",
      " Val Loss\t0.4698 \n",
      " Val Acc\t0.8387 \n",
      " Val F1\t\t0.9123 \n",
      " Val AUC\t0.7462 \n",
      " Val GMean\t0.0000 \n",
      " Val MCC\t0.0000\n"
     ]
    },
    {
     "name": "stderr",
     "output_type": "stream",
     "text": [
      "100%|███████████████████████████████████████████████████████████████████████████████████████████████████████████████████████████████████| 18/18 [00:00<00:00, 132.34it/s]\n"
     ]
    },
    {
     "name": "stdout",
     "output_type": "stream",
     "text": [
      "lr:  0.0001\n",
      "Epoch 38: \n",
      " Train Loss\t0.5520 \n",
      " Val Loss\t0.4689 \n",
      " Val Acc\t0.8387 \n",
      " Val F1\t\t0.9123 \n",
      " Val AUC\t0.7462 \n",
      " Val GMean\t0.0000 \n",
      " Val MCC\t0.0000\n"
     ]
    },
    {
     "name": "stderr",
     "output_type": "stream",
     "text": [
      "100%|███████████████████████████████████████████████████████████████████████████████████████████████████████████████████████████████████| 18/18 [00:00<00:00, 137.02it/s]\n"
     ]
    },
    {
     "name": "stdout",
     "output_type": "stream",
     "text": [
      "lr:  0.0001\n",
      "Epoch 39: \n",
      " Train Loss\t0.5499 \n",
      " Val Loss\t0.4683 \n",
      " Val Acc\t0.8387 \n",
      " Val F1\t\t0.9091 \n",
      " Val AUC\t0.7462 \n",
      " Val GMean\t0.4385 \n",
      " Val MCC\t0.2418\n"
     ]
    },
    {
     "name": "stderr",
     "output_type": "stream",
     "text": [
      "100%|███████████████████████████████████████████████████████████████████████████████████████████████████████████████████████████████████| 18/18 [00:00<00:00, 137.56it/s]\n"
     ]
    },
    {
     "name": "stdout",
     "output_type": "stream",
     "text": [
      "lr:  0.0001\n",
      "Epoch 40: \n",
      " Train Loss\t0.5477 \n",
      " Val Loss\t0.4677 \n",
      " Val Acc\t0.8387 \n",
      " Val F1\t\t0.9091 \n",
      " Val AUC\t0.7308 \n",
      " Val GMean\t0.4385 \n",
      " Val MCC\t0.2418\n"
     ]
    },
    {
     "name": "stderr",
     "output_type": "stream",
     "text": [
      "100%|███████████████████████████████████████████████████████████████████████████████████████████████████████████████████████████████████| 18/18 [00:00<00:00, 135.85it/s]\n"
     ]
    },
    {
     "name": "stdout",
     "output_type": "stream",
     "text": [
      "lr:  0.0001\n",
      "Epoch 41: \n",
      " Train Loss\t0.5450 \n",
      " Val Loss\t0.4671 \n",
      " Val Acc\t0.8387 \n",
      " Val F1\t\t0.9091 \n",
      " Val AUC\t0.7154 \n",
      " Val GMean\t0.4385 \n",
      " Val MCC\t0.2418\n"
     ]
    },
    {
     "name": "stderr",
     "output_type": "stream",
     "text": [
      "100%|███████████████████████████████████████████████████████████████████████████████████████████████████████████████████████████████████| 18/18 [00:00<00:00, 133.83it/s]\n"
     ]
    },
    {
     "name": "stdout",
     "output_type": "stream",
     "text": [
      "lr:  0.0001\n",
      "Epoch 42: \n",
      " Train Loss\t0.5426 \n",
      " Val Loss\t0.4665 \n",
      " Val Acc\t0.8387 \n",
      " Val F1\t\t0.9091 \n",
      " Val AUC\t0.7077 \n",
      " Val GMean\t0.4385 \n",
      " Val MCC\t0.2418\n"
     ]
    },
    {
     "name": "stderr",
     "output_type": "stream",
     "text": [
      "100%|███████████████████████████████████████████████████████████████████████████████████████████████████████████████████████████████████| 18/18 [00:00<00:00, 121.06it/s]\n"
     ]
    },
    {
     "name": "stdout",
     "output_type": "stream",
     "text": [
      "lr:  0.0001\n",
      "Epoch 43: \n",
      " Train Loss\t0.5401 \n",
      " Val Loss\t0.4658 \n",
      " Val Acc\t0.8710 \n",
      " Val F1\t\t0.9286 \n",
      " Val AUC\t0.6923 \n",
      " Val GMean\t0.4472 \n",
      " Val MCC\t0.4163\n"
     ]
    },
    {
     "name": "stderr",
     "output_type": "stream",
     "text": [
      "100%|███████████████████████████████████████████████████████████████████████████████████████████████████████████████████████████████████| 18/18 [00:00<00:00, 135.75it/s]\n"
     ]
    },
    {
     "name": "stdout",
     "output_type": "stream",
     "text": [
      "lr:  0.0001\n",
      "Epoch 44: \n",
      " Train Loss\t0.5372 \n",
      " Val Loss\t0.4652 \n",
      " Val Acc\t0.8387 \n",
      " Val F1\t\t0.9091 \n",
      " Val AUC\t0.6846 \n",
      " Val GMean\t0.4385 \n",
      " Val MCC\t0.2418\n"
     ]
    },
    {
     "name": "stderr",
     "output_type": "stream",
     "text": [
      "100%|███████████████████████████████████████████████████████████████████████████████████████████████████████████████████████████████████| 18/18 [00:00<00:00, 133.73it/s]\n"
     ]
    },
    {
     "name": "stdout",
     "output_type": "stream",
     "text": [
      "lr:  0.0001\n",
      "Epoch 45: \n",
      " Train Loss\t0.5345 \n",
      " Val Loss\t0.4647 \n",
      " Val Acc\t0.8387 \n",
      " Val F1\t\t0.9091 \n",
      " Val AUC\t0.6846 \n",
      " Val GMean\t0.4385 \n",
      " Val MCC\t0.2418\n"
     ]
    },
    {
     "name": "stderr",
     "output_type": "stream",
     "text": [
      "100%|███████████████████████████████████████████████████████████████████████████████████████████████████████████████████████████████████| 18/18 [00:00<00:00, 135.29it/s]\n"
     ]
    },
    {
     "name": "stdout",
     "output_type": "stream",
     "text": [
      "lr:  0.0001\n",
      "Epoch 46: \n",
      " Train Loss\t0.5316 \n",
      " Val Loss\t0.4641 \n",
      " Val Acc\t0.8387 \n",
      " Val F1\t\t0.9091 \n",
      " Val AUC\t0.6615 \n",
      " Val GMean\t0.4385 \n",
      " Val MCC\t0.2418\n"
     ]
    },
    {
     "name": "stderr",
     "output_type": "stream",
     "text": [
      "100%|███████████████████████████████████████████████████████████████████████████████████████████████████████████████████████████████████| 18/18 [00:00<00:00, 132.87it/s]\n"
     ]
    },
    {
     "name": "stdout",
     "output_type": "stream",
     "text": [
      "lr:  0.0001\n",
      "Epoch 47: \n",
      " Train Loss\t0.5289 \n",
      " Val Loss\t0.4640 \n",
      " Val Acc\t0.8387 \n",
      " Val F1\t\t0.9091 \n",
      " Val AUC\t0.6385 \n",
      " Val GMean\t0.4385 \n",
      " Val MCC\t0.2418\n"
     ]
    },
    {
     "name": "stderr",
     "output_type": "stream",
     "text": [
      "100%|███████████████████████████████████████████████████████████████████████████████████████████████████████████████████████████████████| 18/18 [00:00<00:00, 134.41it/s]\n"
     ]
    },
    {
     "name": "stdout",
     "output_type": "stream",
     "text": [
      "lr:  0.0001\n",
      "Epoch 48: \n",
      " Train Loss\t0.5262 \n",
      " Val Loss\t0.4636 \n",
      " Val Acc\t0.8387 \n",
      " Val F1\t\t0.9091 \n",
      " Val AUC\t0.6385 \n",
      " Val GMean\t0.4385 \n",
      " Val MCC\t0.2418\n"
     ]
    },
    {
     "name": "stderr",
     "output_type": "stream",
     "text": [
      "100%|███████████████████████████████████████████████████████████████████████████████████████████████████████████████████████████████████| 18/18 [00:00<00:00, 137.68it/s]\n"
     ]
    },
    {
     "name": "stdout",
     "output_type": "stream",
     "text": [
      "lr:  0.0001\n",
      "Epoch 49: \n",
      " Train Loss\t0.5237 \n",
      " Val Loss\t0.4630 \n",
      " Val Acc\t0.8710 \n",
      " Val F1\t\t0.9286 \n",
      " Val AUC\t0.6385 \n",
      " Val GMean\t0.4472 \n",
      " Val MCC\t0.4163\n"
     ]
    },
    {
     "name": "stderr",
     "output_type": "stream",
     "text": [
      "100%|███████████████████████████████████████████████████████████████████████████████████████████████████████████████████████████████████| 18/18 [00:00<00:00, 131.92it/s]\n"
     ]
    },
    {
     "name": "stdout",
     "output_type": "stream",
     "text": [
      "lr:  0.0001\n",
      "Epoch 50: \n",
      " Train Loss\t0.5213 \n",
      " Val Loss\t0.4628 \n",
      " Val Acc\t0.8387 \n",
      " Val F1\t\t0.9091 \n",
      " Val AUC\t0.6462 \n",
      " Val GMean\t0.4385 \n",
      " Val MCC\t0.2418\n"
     ]
    },
    {
     "name": "stderr",
     "output_type": "stream",
     "text": [
      "100%|███████████████████████████████████████████████████████████████████████████████████████████████████████████████████████████████████| 18/18 [00:00<00:00, 134.93it/s]\n"
     ]
    },
    {
     "name": "stdout",
     "output_type": "stream",
     "text": [
      "lr:  0.0001\n",
      "Epoch 51: \n",
      " Train Loss\t0.5186 \n",
      " Val Loss\t0.4623 \n",
      " Val Acc\t0.8387 \n",
      " Val F1\t\t0.9091 \n",
      " Val AUC\t0.6308 \n",
      " Val GMean\t0.4385 \n",
      " Val MCC\t0.2418\n"
     ]
    },
    {
     "name": "stderr",
     "output_type": "stream",
     "text": [
      "100%|███████████████████████████████████████████████████████████████████████████████████████████████████████████████████████████████████| 18/18 [00:00<00:00, 141.18it/s]\n"
     ]
    },
    {
     "name": "stdout",
     "output_type": "stream",
     "text": [
      "lr:  0.0001\n",
      "Epoch 52: \n",
      " Train Loss\t0.5162 \n",
      " Val Loss\t0.4622 \n",
      " Val Acc\t0.8387 \n",
      " Val F1\t\t0.9091 \n",
      " Val AUC\t0.6308 \n",
      " Val GMean\t0.4385 \n",
      " Val MCC\t0.2418\n"
     ]
    },
    {
     "name": "stderr",
     "output_type": "stream",
     "text": [
      "100%|███████████████████████████████████████████████████████████████████████████████████████████████████████████████████████████████████| 18/18 [00:00<00:00, 136.60it/s]\n"
     ]
    },
    {
     "name": "stdout",
     "output_type": "stream",
     "text": [
      "lr:  0.0001\n",
      "Epoch 53: \n",
      " Train Loss\t0.5132 \n",
      " Val Loss\t0.4618 \n",
      " Val Acc\t0.8387 \n",
      " Val F1\t\t0.9091 \n",
      " Val AUC\t0.6308 \n",
      " Val GMean\t0.4385 \n",
      " Val MCC\t0.2418\n"
     ]
    },
    {
     "name": "stderr",
     "output_type": "stream",
     "text": [
      "100%|███████████████████████████████████████████████████████████████████████████████████████████████████████████████████████████████████| 18/18 [00:00<00:00, 139.58it/s]\n"
     ]
    },
    {
     "name": "stdout",
     "output_type": "stream",
     "text": [
      "lr:  0.0001\n",
      "Epoch 54: \n",
      " Train Loss\t0.5105 \n",
      " Val Loss\t0.4615 \n",
      " Val Acc\t0.8387 \n",
      " Val F1\t\t0.9091 \n",
      " Val AUC\t0.6231 \n",
      " Val GMean\t0.4385 \n",
      " Val MCC\t0.2418\n"
     ]
    },
    {
     "name": "stderr",
     "output_type": "stream",
     "text": [
      "100%|███████████████████████████████████████████████████████████████████████████████████████████████████████████████████████████████████| 18/18 [00:00<00:00, 130.07it/s]\n"
     ]
    },
    {
     "name": "stdout",
     "output_type": "stream",
     "text": [
      "lr:  0.0001\n",
      "Epoch 55: \n",
      " Train Loss\t0.5079 \n",
      " Val Loss\t0.4612 \n",
      " Val Acc\t0.8387 \n",
      " Val F1\t\t0.9091 \n",
      " Val AUC\t0.6231 \n",
      " Val GMean\t0.4385 \n",
      " Val MCC\t0.2418\n"
     ]
    },
    {
     "name": "stderr",
     "output_type": "stream",
     "text": [
      "100%|███████████████████████████████████████████████████████████████████████████████████████████████████████████████████████████████████| 18/18 [00:00<00:00, 137.92it/s]\n"
     ]
    },
    {
     "name": "stdout",
     "output_type": "stream",
     "text": [
      "lr:  0.0001\n",
      "Epoch 56: \n",
      " Train Loss\t0.5053 \n",
      " Val Loss\t0.4609 \n",
      " Val Acc\t0.8387 \n",
      " Val F1\t\t0.9091 \n",
      " Val AUC\t0.6077 \n",
      " Val GMean\t0.4385 \n",
      " Val MCC\t0.2418\n"
     ]
    },
    {
     "name": "stderr",
     "output_type": "stream",
     "text": [
      "100%|███████████████████████████████████████████████████████████████████████████████████████████████████████████████████████████████████| 18/18 [00:00<00:00, 141.40it/s]\n"
     ]
    },
    {
     "name": "stdout",
     "output_type": "stream",
     "text": [
      "lr:  0.0001\n",
      "Epoch 57: \n",
      " Train Loss\t0.5029 \n",
      " Val Loss\t0.4609 \n",
      " Val Acc\t0.8387 \n",
      " Val F1\t\t0.9091 \n",
      " Val AUC\t0.6077 \n",
      " Val GMean\t0.4385 \n",
      " Val MCC\t0.2418\n"
     ]
    },
    {
     "name": "stderr",
     "output_type": "stream",
     "text": [
      "100%|███████████████████████████████████████████████████████████████████████████████████████████████████████████████████████████████████| 18/18 [00:00<00:00, 133.49it/s]\n"
     ]
    },
    {
     "name": "stdout",
     "output_type": "stream",
     "text": [
      "lr:  0.0001\n",
      "Epoch 58: \n",
      " Train Loss\t0.5000 \n",
      " Val Loss\t0.4608 \n",
      " Val Acc\t0.8387 \n",
      " Val F1\t\t0.9091 \n",
      " Val AUC\t0.6154 \n",
      " Val GMean\t0.4385 \n",
      " Val MCC\t0.2418\n"
     ]
    },
    {
     "name": "stderr",
     "output_type": "stream",
     "text": [
      "100%|███████████████████████████████████████████████████████████████████████████████████████████████████████████████████████████████████| 18/18 [00:00<00:00, 132.85it/s]\n"
     ]
    },
    {
     "name": "stdout",
     "output_type": "stream",
     "text": [
      "lr:  0.0001\n",
      "Epoch 59: \n",
      " Train Loss\t0.4974 \n",
      " Val Loss\t0.4607 \n",
      " Val Acc\t0.8387 \n",
      " Val F1\t\t0.9091 \n",
      " Val AUC\t0.5923 \n",
      " Val GMean\t0.4385 \n",
      " Val MCC\t0.2418\n"
     ]
    },
    {
     "name": "stderr",
     "output_type": "stream",
     "text": [
      "100%|███████████████████████████████████████████████████████████████████████████████████████████████████████████████████████████████████| 18/18 [00:00<00:00, 138.36it/s]\n"
     ]
    },
    {
     "name": "stdout",
     "output_type": "stream",
     "text": [
      "lr:  0.0001\n",
      "Epoch 60: \n",
      " Train Loss\t0.4950 \n",
      " Val Loss\t0.4607 \n",
      " Val Acc\t0.8387 \n",
      " Val F1\t\t0.9091 \n",
      " Val AUC\t0.5846 \n",
      " Val GMean\t0.4385 \n",
      " Val MCC\t0.2418\n"
     ]
    },
    {
     "name": "stderr",
     "output_type": "stream",
     "text": [
      "100%|███████████████████████████████████████████████████████████████████████████████████████████████████████████████████████████████████| 18/18 [00:00<00:00, 136.59it/s]\n"
     ]
    },
    {
     "name": "stdout",
     "output_type": "stream",
     "text": [
      "lr:  0.0001\n",
      "Epoch 61: \n",
      " Train Loss\t0.4924 \n",
      " Val Loss\t0.4609 \n",
      " Val Acc\t0.8387 \n",
      " Val F1\t\t0.9091 \n",
      " Val AUC\t0.5846 \n",
      " Val GMean\t0.4385 \n",
      " Val MCC\t0.2418\n"
     ]
    },
    {
     "name": "stderr",
     "output_type": "stream",
     "text": [
      "100%|███████████████████████████████████████████████████████████████████████████████████████████████████████████████████████████████████| 18/18 [00:00<00:00, 129.37it/s]\n"
     ]
    },
    {
     "name": "stdout",
     "output_type": "stream",
     "text": [
      "lr:  0.0001\n",
      "Epoch 62: \n",
      " Train Loss\t0.4897 \n",
      " Val Loss\t0.4608 \n",
      " Val Acc\t0.8387 \n",
      " Val F1\t\t0.9091 \n",
      " Val AUC\t0.5846 \n",
      " Val GMean\t0.4385 \n",
      " Val MCC\t0.2418\n"
     ]
    },
    {
     "name": "stderr",
     "output_type": "stream",
     "text": [
      "100%|███████████████████████████████████████████████████████████████████████████████████████████████████████████████████████████████████| 18/18 [00:00<00:00, 139.35it/s]\n"
     ]
    },
    {
     "name": "stdout",
     "output_type": "stream",
     "text": [
      "lr:  0.0001\n",
      "Epoch 63: \n",
      " Train Loss\t0.4871 \n",
      " Val Loss\t0.4610 \n",
      " Val Acc\t0.8387 \n",
      " Val F1\t\t0.9091 \n",
      " Val AUC\t0.5692 \n",
      " Val GMean\t0.4385 \n",
      " Val MCC\t0.2418\n"
     ]
    },
    {
     "name": "stderr",
     "output_type": "stream",
     "text": [
      "100%|███████████████████████████████████████████████████████████████████████████████████████████████████████████████████████████████████| 18/18 [00:00<00:00, 132.71it/s]\n"
     ]
    },
    {
     "name": "stdout",
     "output_type": "stream",
     "text": [
      "lr:  0.0001\n",
      "Epoch 64: \n",
      " Train Loss\t0.4847 \n",
      " Val Loss\t0.4610 \n",
      " Val Acc\t0.8387 \n",
      " Val F1\t\t0.9091 \n",
      " Val AUC\t0.5692 \n",
      " Val GMean\t0.4385 \n",
      " Val MCC\t0.2418\n"
     ]
    },
    {
     "name": "stderr",
     "output_type": "stream",
     "text": [
      "100%|███████████████████████████████████████████████████████████████████████████████████████████████████████████████████████████████████| 18/18 [00:00<00:00, 139.55it/s]\n"
     ]
    },
    {
     "name": "stdout",
     "output_type": "stream",
     "text": [
      "lr:  0.0001\n",
      "Epoch 65: \n",
      " Train Loss\t0.4823 \n",
      " Val Loss\t0.4609 \n",
      " Val Acc\t0.8065 \n",
      " Val F1\t\t0.8929 \n",
      " Val AUC\t0.5846 \n",
      " Val GMean\t0.0000 \n",
      " Val MCC\t-0.0801\n"
     ]
    },
    {
     "name": "stderr",
     "output_type": "stream",
     "text": [
      "100%|███████████████████████████████████████████████████████████████████████████████████████████████████████████████████████████████████| 18/18 [00:00<00:00, 127.84it/s]\n"
     ]
    },
    {
     "name": "stdout",
     "output_type": "stream",
     "text": [
      "lr:  0.0001\n",
      "Epoch 66: \n",
      " Train Loss\t0.4798 \n",
      " Val Loss\t0.4610 \n",
      " Val Acc\t0.8387 \n",
      " Val F1\t\t0.9091 \n",
      " Val AUC\t0.5923 \n",
      " Val GMean\t0.4385 \n",
      " Val MCC\t0.2418\n"
     ]
    },
    {
     "name": "stderr",
     "output_type": "stream",
     "text": [
      "100%|███████████████████████████████████████████████████████████████████████████████████████████████████████████████████████████████████| 18/18 [00:00<00:00, 139.98it/s]\n"
     ]
    },
    {
     "name": "stdout",
     "output_type": "stream",
     "text": [
      "lr:  0.0001\n",
      "Epoch 67: \n",
      " Train Loss\t0.4770 \n",
      " Val Loss\t0.4611 \n",
      " Val Acc\t0.8387 \n",
      " Val F1\t\t0.9091 \n",
      " Val AUC\t0.5769 \n",
      " Val GMean\t0.4385 \n",
      " Val MCC\t0.2418\n"
     ]
    },
    {
     "name": "stderr",
     "output_type": "stream",
     "text": [
      "100%|███████████████████████████████████████████████████████████████████████████████████████████████████████████████████████████████████| 18/18 [00:00<00:00, 142.13it/s]\n"
     ]
    },
    {
     "name": "stdout",
     "output_type": "stream",
     "text": [
      "lr:  0.0001\n",
      "Epoch 68: \n",
      " Train Loss\t0.4743 \n",
      " Val Loss\t0.4614 \n",
      " Val Acc\t0.8387 \n",
      " Val F1\t\t0.9091 \n",
      " Val AUC\t0.5692 \n",
      " Val GMean\t0.4385 \n",
      " Val MCC\t0.2418\n"
     ]
    },
    {
     "name": "stderr",
     "output_type": "stream",
     "text": [
      "100%|███████████████████████████████████████████████████████████████████████████████████████████████████████████████████████████████████| 18/18 [00:00<00:00, 137.70it/s]\n"
     ]
    },
    {
     "name": "stdout",
     "output_type": "stream",
     "text": [
      "lr:  0.0001\n",
      "Epoch 69: \n",
      " Train Loss\t0.4716 \n",
      " Val Loss\t0.4616 \n",
      " Val Acc\t0.8065 \n",
      " Val F1\t\t0.8929 \n",
      " Val AUC\t0.5692 \n",
      " Val GMean\t0.0000 \n",
      " Val MCC\t-0.0801\n"
     ]
    },
    {
     "name": "stderr",
     "output_type": "stream",
     "text": [
      "100%|███████████████████████████████████████████████████████████████████████████████████████████████████████████████████████████████████| 18/18 [00:00<00:00, 135.73it/s]\n"
     ]
    },
    {
     "name": "stdout",
     "output_type": "stream",
     "text": [
      "lr:  0.0001\n",
      "Epoch 70: \n",
      " Train Loss\t0.4695 \n",
      " Val Loss\t0.4622 \n",
      " Val Acc\t0.8065 \n",
      " Val F1\t\t0.8889 \n",
      " Val AUC\t0.5538 \n",
      " Val GMean\t0.4297 \n",
      " Val MCC\t0.1531\n"
     ]
    },
    {
     "name": "stderr",
     "output_type": "stream",
     "text": [
      "100%|███████████████████████████████████████████████████████████████████████████████████████████████████████████████████████████████████| 18/18 [00:00<00:00, 137.90it/s]\n"
     ]
    },
    {
     "name": "stdout",
     "output_type": "stream",
     "text": [
      "lr:  0.0001\n",
      "Epoch 71: \n",
      " Train Loss\t0.4671 \n",
      " Val Loss\t0.4627 \n",
      " Val Acc\t0.8387 \n",
      " Val F1\t\t0.9091 \n",
      " Val AUC\t0.5538 \n",
      " Val GMean\t0.4385 \n",
      " Val MCC\t0.2418\n"
     ]
    },
    {
     "name": "stderr",
     "output_type": "stream",
     "text": [
      "100%|███████████████████████████████████████████████████████████████████████████████████████████████████████████████████████████████████| 18/18 [00:00<00:00, 140.44it/s]\n"
     ]
    },
    {
     "name": "stdout",
     "output_type": "stream",
     "text": [
      "lr:  0.0001\n",
      "Epoch 72: \n",
      " Train Loss\t0.4644 \n",
      " Val Loss\t0.4631 \n",
      " Val Acc\t0.8065 \n",
      " Val F1\t\t0.8929 \n",
      " Val AUC\t0.5538 \n",
      " Val GMean\t0.0000 \n",
      " Val MCC\t-0.0801\n"
     ]
    },
    {
     "name": "stderr",
     "output_type": "stream",
     "text": [
      "100%|███████████████████████████████████████████████████████████████████████████████████████████████████████████████████████████████████| 18/18 [00:00<00:00, 140.73it/s]\n"
     ]
    },
    {
     "name": "stdout",
     "output_type": "stream",
     "text": [
      "lr:  0.0001\n",
      "Epoch 73: \n",
      " Train Loss\t0.4618 \n",
      " Val Loss\t0.4636 \n",
      " Val Acc\t0.8387 \n",
      " Val F1\t\t0.9091 \n",
      " Val AUC\t0.5538 \n",
      " Val GMean\t0.4385 \n",
      " Val MCC\t0.2418\n"
     ]
    },
    {
     "name": "stderr",
     "output_type": "stream",
     "text": [
      "100%|███████████████████████████████████████████████████████████████████████████████████████████████████████████████████████████████████| 18/18 [00:00<00:00, 138.75it/s]\n"
     ]
    },
    {
     "name": "stdout",
     "output_type": "stream",
     "text": [
      "lr:  0.0001\n",
      "Epoch 74: \n",
      " Train Loss\t0.4599 \n",
      " Val Loss\t0.4641 \n",
      " Val Acc\t0.8065 \n",
      " Val F1\t\t0.8889 \n",
      " Val AUC\t0.5538 \n",
      " Val GMean\t0.4297 \n",
      " Val MCC\t0.1531\n"
     ]
    },
    {
     "name": "stderr",
     "output_type": "stream",
     "text": [
      "100%|███████████████████████████████████████████████████████████████████████████████████████████████████████████████████████████████████| 18/18 [00:00<00:00, 138.35it/s]\n"
     ]
    },
    {
     "name": "stdout",
     "output_type": "stream",
     "text": [
      "lr:  0.0001\n",
      "Epoch 75: \n",
      " Train Loss\t0.4576 \n",
      " Val Loss\t0.4646 \n",
      " Val Acc\t0.8387 \n",
      " Val F1\t\t0.9091 \n",
      " Val AUC\t0.5615 \n",
      " Val GMean\t0.4385 \n",
      " Val MCC\t0.2418\n"
     ]
    },
    {
     "name": "stderr",
     "output_type": "stream",
     "text": [
      "100%|███████████████████████████████████████████████████████████████████████████████████████████████████████████████████████████████████| 18/18 [00:00<00:00, 137.20it/s]\n"
     ]
    },
    {
     "name": "stdout",
     "output_type": "stream",
     "text": [
      "lr:  0.0001\n",
      "Epoch 76: \n",
      " Train Loss\t0.4557 \n",
      " Val Loss\t0.4651 \n",
      " Val Acc\t0.8387 \n",
      " Val F1\t\t0.9091 \n",
      " Val AUC\t0.5692 \n",
      " Val GMean\t0.4385 \n",
      " Val MCC\t0.2418\n"
     ]
    },
    {
     "name": "stderr",
     "output_type": "stream",
     "text": [
      "100%|███████████████████████████████████████████████████████████████████████████████████████████████████████████████████████████████████| 18/18 [00:00<00:00, 135.82it/s]\n"
     ]
    },
    {
     "name": "stdout",
     "output_type": "stream",
     "text": [
      "lr:  0.0001\n",
      "Epoch 77: \n",
      " Train Loss\t0.4535 \n",
      " Val Loss\t0.4656 \n",
      " Val Acc\t0.8387 \n",
      " Val F1\t\t0.9091 \n",
      " Val AUC\t0.5615 \n",
      " Val GMean\t0.4385 \n",
      " Val MCC\t0.2418\n"
     ]
    },
    {
     "name": "stderr",
     "output_type": "stream",
     "text": [
      "100%|███████████████████████████████████████████████████████████████████████████████████████████████████████████████████████████████████| 18/18 [00:00<00:00, 132.68it/s]\n"
     ]
    },
    {
     "name": "stdout",
     "output_type": "stream",
     "text": [
      "lr:  0.0001\n",
      "Epoch 78: \n",
      " Train Loss\t0.4512 \n",
      " Val Loss\t0.4661 \n",
      " Val Acc\t0.8065 \n",
      " Val F1\t\t0.8929 \n",
      " Val AUC\t0.5538 \n",
      " Val GMean\t0.0000 \n",
      " Val MCC\t-0.0801\n"
     ]
    },
    {
     "name": "stderr",
     "output_type": "stream",
     "text": [
      "100%|███████████████████████████████████████████████████████████████████████████████████████████████████████████████████████████████████| 18/18 [00:00<00:00, 137.81it/s]\n"
     ]
    },
    {
     "name": "stdout",
     "output_type": "stream",
     "text": [
      "lr:  0.0001\n",
      "Epoch 79: \n",
      " Train Loss\t0.4493 \n",
      " Val Loss\t0.4669 \n",
      " Val Acc\t0.7742 \n",
      " Val F1\t\t0.8679 \n",
      " Val AUC\t0.5462 \n",
      " Val GMean\t0.4206 \n",
      " Val MCC\t0.0928\n"
     ]
    },
    {
     "name": "stderr",
     "output_type": "stream",
     "text": [
      "100%|███████████████████████████████████████████████████████████████████████████████████████████████████████████████████████████████████| 18/18 [00:00<00:00, 138.62it/s]\n"
     ]
    },
    {
     "name": "stdout",
     "output_type": "stream",
     "text": [
      "lr:  0.0001\n",
      "Epoch 80: \n",
      " Train Loss\t0.4467 \n",
      " Val Loss\t0.4675 \n",
      " Val Acc\t0.8387 \n",
      " Val F1\t\t0.9091 \n",
      " Val AUC\t0.5538 \n",
      " Val GMean\t0.4385 \n",
      " Val MCC\t0.2418\n"
     ]
    },
    {
     "name": "stderr",
     "output_type": "stream",
     "text": [
      "100%|███████████████████████████████████████████████████████████████████████████████████████████████████████████████████████████████████| 18/18 [00:00<00:00, 137.08it/s]\n"
     ]
    },
    {
     "name": "stdout",
     "output_type": "stream",
     "text": [
      "lr:  0.0001\n",
      "Epoch 81: \n",
      " Train Loss\t0.4445 \n",
      " Val Loss\t0.4680 \n",
      " Val Acc\t0.8387 \n",
      " Val F1\t\t0.9091 \n",
      " Val AUC\t0.5538 \n",
      " Val GMean\t0.4385 \n",
      " Val MCC\t0.2418\n"
     ]
    },
    {
     "name": "stderr",
     "output_type": "stream",
     "text": [
      "100%|███████████████████████████████████████████████████████████████████████████████████████████████████████████████████████████████████| 18/18 [00:00<00:00, 137.26it/s]\n"
     ]
    },
    {
     "name": "stdout",
     "output_type": "stream",
     "text": [
      "lr:  0.0001\n",
      "Epoch 82: \n",
      " Train Loss\t0.4423 \n",
      " Val Loss\t0.4687 \n",
      " Val Acc\t0.8387 \n",
      " Val F1\t\t0.9091 \n",
      " Val AUC\t0.5538 \n",
      " Val GMean\t0.4385 \n",
      " Val MCC\t0.2418\n"
     ]
    },
    {
     "name": "stderr",
     "output_type": "stream",
     "text": [
      "100%|███████████████████████████████████████████████████████████████████████████████████████████████████████████████████████████████████| 18/18 [00:00<00:00, 136.38it/s]\n"
     ]
    },
    {
     "name": "stdout",
     "output_type": "stream",
     "text": [
      "lr:  0.0001\n",
      "Epoch 83: \n",
      " Train Loss\t0.4404 \n",
      " Val Loss\t0.4693 \n",
      " Val Acc\t0.8387 \n",
      " Val F1\t\t0.9091 \n",
      " Val AUC\t0.5538 \n",
      " Val GMean\t0.4385 \n",
      " Val MCC\t0.2418\n"
     ]
    },
    {
     "name": "stderr",
     "output_type": "stream",
     "text": [
      "100%|███████████████████████████████████████████████████████████████████████████████████████████████████████████████████████████████████| 18/18 [00:00<00:00, 128.77it/s]\n"
     ]
    },
    {
     "name": "stdout",
     "output_type": "stream",
     "text": [
      "lr:  0.0001\n",
      "Epoch 84: \n",
      " Train Loss\t0.4388 \n",
      " Val Loss\t0.4699 \n",
      " Val Acc\t0.8065 \n",
      " Val F1\t\t0.8929 \n",
      " Val AUC\t0.5462 \n",
      " Val GMean\t0.0000 \n",
      " Val MCC\t-0.0801\n"
     ]
    },
    {
     "name": "stderr",
     "output_type": "stream",
     "text": [
      "100%|███████████████████████████████████████████████████████████████████████████████████████████████████████████████████████████████████| 18/18 [00:00<00:00, 138.20it/s]\n"
     ]
    },
    {
     "name": "stdout",
     "output_type": "stream",
     "text": [
      "lr:  0.0001\n",
      "Epoch 85: \n",
      " Train Loss\t0.4367 \n",
      " Val Loss\t0.4708 \n",
      " Val Acc\t0.8065 \n",
      " Val F1\t\t0.8889 \n",
      " Val AUC\t0.5462 \n",
      " Val GMean\t0.4297 \n",
      " Val MCC\t0.1531\n"
     ]
    },
    {
     "name": "stderr",
     "output_type": "stream",
     "text": [
      "100%|███████████████████████████████████████████████████████████████████████████████████████████████████████████████████████████████████| 18/18 [00:00<00:00, 140.73it/s]\n"
     ]
    },
    {
     "name": "stdout",
     "output_type": "stream",
     "text": [
      "lr:  0.0001\n",
      "Epoch 86: \n",
      " Train Loss\t0.4349 \n",
      " Val Loss\t0.4715 \n",
      " Val Acc\t0.8065 \n",
      " Val F1\t\t0.8889 \n",
      " Val AUC\t0.5538 \n",
      " Val GMean\t0.4297 \n",
      " Val MCC\t0.1531\n"
     ]
    },
    {
     "name": "stderr",
     "output_type": "stream",
     "text": [
      "100%|███████████████████████████████████████████████████████████████████████████████████████████████████████████████████████████████████| 18/18 [00:00<00:00, 136.81it/s]\n"
     ]
    },
    {
     "name": "stdout",
     "output_type": "stream",
     "text": [
      "lr:  0.0001\n",
      "Epoch 87: \n",
      " Train Loss\t0.4331 \n",
      " Val Loss\t0.4724 \n",
      " Val Acc\t0.7742 \n",
      " Val F1\t\t0.8679 \n",
      " Val AUC\t0.5615 \n",
      " Val GMean\t0.4206 \n",
      " Val MCC\t0.0928\n"
     ]
    },
    {
     "name": "stderr",
     "output_type": "stream",
     "text": [
      "100%|███████████████████████████████████████████████████████████████████████████████████████████████████████████████████████████████████| 18/18 [00:00<00:00, 126.07it/s]\n"
     ]
    },
    {
     "name": "stdout",
     "output_type": "stream",
     "text": [
      "lr:  0.0001\n",
      "Epoch 88: \n",
      " Train Loss\t0.4311 \n",
      " Val Loss\t0.4730 \n",
      " Val Acc\t0.8387 \n",
      " Val F1\t\t0.9091 \n",
      " Val AUC\t0.5615 \n",
      " Val GMean\t0.4385 \n",
      " Val MCC\t0.2418\n"
     ]
    },
    {
     "name": "stderr",
     "output_type": "stream",
     "text": [
      "100%|███████████████████████████████████████████████████████████████████████████████████████████████████████████████████████████████████| 18/18 [00:00<00:00, 132.01it/s]\n"
     ]
    },
    {
     "name": "stdout",
     "output_type": "stream",
     "text": [
      "lr:  0.0001\n",
      "Epoch 89: \n",
      " Train Loss\t0.4290 \n",
      " Val Loss\t0.4737 \n",
      " Val Acc\t0.8387 \n",
      " Val F1\t\t0.9091 \n",
      " Val AUC\t0.5538 \n",
      " Val GMean\t0.4385 \n",
      " Val MCC\t0.2418\n"
     ]
    },
    {
     "name": "stderr",
     "output_type": "stream",
     "text": [
      "100%|███████████████████████████████████████████████████████████████████████████████████████████████████████████████████████████████████| 18/18 [00:00<00:00, 123.56it/s]\n"
     ]
    },
    {
     "name": "stdout",
     "output_type": "stream",
     "text": [
      "lr:  0.0001\n",
      "Epoch 90: \n",
      " Train Loss\t0.4269 \n",
      " Val Loss\t0.4744 \n",
      " Val Acc\t0.8387 \n",
      " Val F1\t\t0.9091 \n",
      " Val AUC\t0.5615 \n",
      " Val GMean\t0.4385 \n",
      " Val MCC\t0.2418\n"
     ]
    },
    {
     "name": "stderr",
     "output_type": "stream",
     "text": [
      "100%|███████████████████████████████████████████████████████████████████████████████████████████████████████████████████████████████████| 18/18 [00:00<00:00, 136.48it/s]\n"
     ]
    },
    {
     "name": "stdout",
     "output_type": "stream",
     "text": [
      "lr:  0.0001\n",
      "Epoch 91: \n",
      " Train Loss\t0.4249 \n",
      " Val Loss\t0.4751 \n",
      " Val Acc\t0.8387 \n",
      " Val F1\t\t0.9091 \n",
      " Val AUC\t0.5462 \n",
      " Val GMean\t0.4385 \n",
      " Val MCC\t0.2418\n"
     ]
    },
    {
     "name": "stderr",
     "output_type": "stream",
     "text": [
      "100%|███████████████████████████████████████████████████████████████████████████████████████████████████████████████████████████████████| 18/18 [00:00<00:00, 136.26it/s]\n"
     ]
    },
    {
     "name": "stdout",
     "output_type": "stream",
     "text": [
      "lr:  0.0001\n",
      "Epoch 92: \n",
      " Train Loss\t0.4232 \n",
      " Val Loss\t0.4762 \n",
      " Val Acc\t0.7742 \n",
      " Val F1\t\t0.8679 \n",
      " Val AUC\t0.5385 \n",
      " Val GMean\t0.4206 \n",
      " Val MCC\t0.0928\n"
     ]
    },
    {
     "name": "stderr",
     "output_type": "stream",
     "text": [
      "100%|███████████████████████████████████████████████████████████████████████████████████████████████████████████████████████████████████| 18/18 [00:00<00:00, 136.05it/s]\n"
     ]
    },
    {
     "name": "stdout",
     "output_type": "stream",
     "text": [
      "lr:  0.0001\n",
      "Epoch 93: \n",
      " Train Loss\t0.4214 \n",
      " Val Loss\t0.4769 \n",
      " Val Acc\t0.8065 \n",
      " Val F1\t\t0.8929 \n",
      " Val AUC\t0.5462 \n",
      " Val GMean\t0.0000 \n",
      " Val MCC\t-0.0801\n"
     ]
    },
    {
     "name": "stderr",
     "output_type": "stream",
     "text": [
      "100%|███████████████████████████████████████████████████████████████████████████████████████████████████████████████████████████████████| 18/18 [00:00<00:00, 139.12it/s]\n"
     ]
    },
    {
     "name": "stdout",
     "output_type": "stream",
     "text": [
      "lr:  0.0001\n",
      "Epoch 94: \n",
      " Train Loss\t0.4198 \n",
      " Val Loss\t0.4777 \n",
      " Val Acc\t0.8065 \n",
      " Val F1\t\t0.8929 \n",
      " Val AUC\t0.5692 \n",
      " Val GMean\t0.0000 \n",
      " Val MCC\t-0.0801\n"
     ]
    },
    {
     "name": "stderr",
     "output_type": "stream",
     "text": [
      "100%|███████████████████████████████████████████████████████████████████████████████████████████████████████████████████████████████████| 18/18 [00:00<00:00, 136.30it/s]\n"
     ]
    },
    {
     "name": "stdout",
     "output_type": "stream",
     "text": [
      "lr:  0.0001\n",
      "Epoch 95: \n",
      " Train Loss\t0.4179 \n",
      " Val Loss\t0.4790 \n",
      " Val Acc\t0.7742 \n",
      " Val F1\t\t0.8679 \n",
      " Val AUC\t0.5462 \n",
      " Val GMean\t0.4206 \n",
      " Val MCC\t0.0928\n"
     ]
    },
    {
     "name": "stderr",
     "output_type": "stream",
     "text": [
      "100%|███████████████████████████████████████████████████████████████████████████████████████████████████████████████████████████████████| 18/18 [00:00<00:00, 139.04it/s]\n"
     ]
    },
    {
     "name": "stdout",
     "output_type": "stream",
     "text": [
      "lr:  0.0001\n",
      "Epoch 96: \n",
      " Train Loss\t0.4162 \n",
      " Val Loss\t0.4797 \n",
      " Val Acc\t0.8387 \n",
      " Val F1\t\t0.9091 \n",
      " Val AUC\t0.5538 \n",
      " Val GMean\t0.4385 \n",
      " Val MCC\t0.2418\n"
     ]
    },
    {
     "name": "stderr",
     "output_type": "stream",
     "text": [
      "100%|███████████████████████████████████████████████████████████████████████████████████████████████████████████████████████████████████| 18/18 [00:00<00:00, 137.90it/s]\n"
     ]
    },
    {
     "name": "stdout",
     "output_type": "stream",
     "text": [
      "lr:  0.0001\n",
      "Epoch 97: \n",
      " Train Loss\t0.4142 \n",
      " Val Loss\t0.4806 \n",
      " Val Acc\t0.7742 \n",
      " Val F1\t\t0.8679 \n",
      " Val AUC\t0.5615 \n",
      " Val GMean\t0.4206 \n",
      " Val MCC\t0.0928\n"
     ]
    },
    {
     "name": "stderr",
     "output_type": "stream",
     "text": [
      "100%|███████████████████████████████████████████████████████████████████████████████████████████████████████████████████████████████████| 18/18 [00:00<00:00, 137.77it/s]\n"
     ]
    },
    {
     "name": "stdout",
     "output_type": "stream",
     "text": [
      "lr:  0.0001\n",
      "Epoch 98: \n",
      " Train Loss\t0.4122 \n",
      " Val Loss\t0.4815 \n",
      " Val Acc\t0.8065 \n",
      " Val F1\t\t0.8889 \n",
      " Val AUC\t0.5615 \n",
      " Val GMean\t0.4297 \n",
      " Val MCC\t0.1531\n"
     ]
    },
    {
     "name": "stderr",
     "output_type": "stream",
     "text": [
      "100%|███████████████████████████████████████████████████████████████████████████████████████████████████████████████████████████████████| 18/18 [00:00<00:00, 139.96it/s]\n"
     ]
    },
    {
     "name": "stdout",
     "output_type": "stream",
     "text": [
      "lr:  0.0001\n",
      "Epoch 99: \n",
      " Train Loss\t0.4108 \n",
      " Val Loss\t0.4822 \n",
      " Val Acc\t0.8387 \n",
      " Val F1\t\t0.9091 \n",
      " Val AUC\t0.5615 \n",
      " Val GMean\t0.4385 \n",
      " Val MCC\t0.2418\n",
      "=========================================================\n",
      "fold 7 as val set\n",
      "model parameters:  418817\n"
     ]
    },
    {
     "name": "stderr",
     "output_type": "stream",
     "text": [
      "100%|███████████████████████████████████████████████████████████████████████████████████████████████████████████████████████████████████| 18/18 [00:00<00:00, 138.87it/s]\n"
     ]
    },
    {
     "name": "stdout",
     "output_type": "stream",
     "text": [
      "lr:  0.0001\n",
      "Epoch 0: \n",
      " Train Loss\t0.6214 \n",
      " Val Loss\t0.6043 \n",
      " Val Acc\t0.7097 \n",
      " Val F1\t\t0.8302 \n",
      " Val AUC\t0.4343 \n",
      " Val GMean\t0.0000 \n",
      " Val MCC\t0.0000\n"
     ]
    },
    {
     "name": "stderr",
     "output_type": "stream",
     "text": [
      "100%|███████████████████████████████████████████████████████████████████████████████████████████████████████████████████████████████████| 18/18 [00:00<00:00, 139.49it/s]\n"
     ]
    },
    {
     "name": "stdout",
     "output_type": "stream",
     "text": [
      "lr:  0.0001\n",
      "Epoch 1: \n",
      " Train Loss\t0.6027 \n",
      " Val Loss\t0.6063 \n",
      " Val Acc\t0.7097 \n",
      " Val F1\t\t0.8302 \n",
      " Val AUC\t0.4141 \n",
      " Val GMean\t0.0000 \n",
      " Val MCC\t0.0000\n"
     ]
    },
    {
     "name": "stderr",
     "output_type": "stream",
     "text": [
      "100%|███████████████████████████████████████████████████████████████████████████████████████████████████████████████████████████████████| 18/18 [00:00<00:00, 135.79it/s]\n"
     ]
    },
    {
     "name": "stdout",
     "output_type": "stream",
     "text": [
      "lr:  0.0001\n",
      "Epoch 2: \n",
      " Train Loss\t0.5969 \n",
      " Val Loss\t0.6065 \n",
      " Val Acc\t0.7097 \n",
      " Val F1\t\t0.8302 \n",
      " Val AUC\t0.4343 \n",
      " Val GMean\t0.0000 \n",
      " Val MCC\t0.0000\n"
     ]
    },
    {
     "name": "stderr",
     "output_type": "stream",
     "text": [
      "100%|███████████████████████████████████████████████████████████████████████████████████████████████████████████████████████████████████| 18/18 [00:00<00:00, 132.63it/s]\n"
     ]
    },
    {
     "name": "stdout",
     "output_type": "stream",
     "text": [
      "lr:  0.0001\n",
      "Epoch 3: \n",
      " Train Loss\t0.5940 \n",
      " Val Loss\t0.6062 \n",
      " Val Acc\t0.7097 \n",
      " Val F1\t\t0.8302 \n",
      " Val AUC\t0.4697 \n",
      " Val GMean\t0.0000 \n",
      " Val MCC\t0.0000\n"
     ]
    },
    {
     "name": "stderr",
     "output_type": "stream",
     "text": [
      "100%|███████████████████████████████████████████████████████████████████████████████████████████████████████████████████████████████████| 18/18 [00:00<00:00, 136.32it/s]\n"
     ]
    },
    {
     "name": "stdout",
     "output_type": "stream",
     "text": [
      "lr:  0.0001\n",
      "Epoch 4: \n",
      " Train Loss\t0.5921 \n",
      " Val Loss\t0.6058 \n",
      " Val Acc\t0.7097 \n",
      " Val F1\t\t0.8302 \n",
      " Val AUC\t0.4848 \n",
      " Val GMean\t0.0000 \n",
      " Val MCC\t0.0000\n"
     ]
    },
    {
     "name": "stderr",
     "output_type": "stream",
     "text": [
      "100%|███████████████████████████████████████████████████████████████████████████████████████████████████████████████████████████████████| 18/18 [00:00<00:00, 138.85it/s]\n"
     ]
    },
    {
     "name": "stdout",
     "output_type": "stream",
     "text": [
      "lr:  0.0001\n",
      "Epoch 5: \n",
      " Train Loss\t0.5906 \n",
      " Val Loss\t0.6055 \n",
      " Val Acc\t0.7097 \n",
      " Val F1\t\t0.8302 \n",
      " Val AUC\t0.5152 \n",
      " Val GMean\t0.0000 \n",
      " Val MCC\t0.0000\n"
     ]
    },
    {
     "name": "stderr",
     "output_type": "stream",
     "text": [
      "100%|███████████████████████████████████████████████████████████████████████████████████████████████████████████████████████████████████| 18/18 [00:00<00:00, 137.65it/s]\n"
     ]
    },
    {
     "name": "stdout",
     "output_type": "stream",
     "text": [
      "lr:  0.0001\n",
      "Epoch 6: \n",
      " Train Loss\t0.5895 \n",
      " Val Loss\t0.6053 \n",
      " Val Acc\t0.7097 \n",
      " Val F1\t\t0.8302 \n",
      " Val AUC\t0.5253 \n",
      " Val GMean\t0.0000 \n",
      " Val MCC\t0.0000\n"
     ]
    },
    {
     "name": "stderr",
     "output_type": "stream",
     "text": [
      "100%|███████████████████████████████████████████████████████████████████████████████████████████████████████████████████████████████████| 18/18 [00:00<00:00, 132.72it/s]\n"
     ]
    },
    {
     "name": "stdout",
     "output_type": "stream",
     "text": [
      "lr:  0.0001\n",
      "Epoch 7: \n",
      " Train Loss\t0.5885 \n",
      " Val Loss\t0.6050 \n",
      " Val Acc\t0.7097 \n",
      " Val F1\t\t0.8302 \n",
      " Val AUC\t0.5303 \n",
      " Val GMean\t0.0000 \n",
      " Val MCC\t0.0000\n"
     ]
    },
    {
     "name": "stderr",
     "output_type": "stream",
     "text": [
      "100%|███████████████████████████████████████████████████████████████████████████████████████████████████████████████████████████████████| 18/18 [00:00<00:00, 136.43it/s]\n"
     ]
    },
    {
     "name": "stdout",
     "output_type": "stream",
     "text": [
      "lr:  0.0001\n",
      "Epoch 8: \n",
      " Train Loss\t0.5878 \n",
      " Val Loss\t0.6048 \n",
      " Val Acc\t0.7097 \n",
      " Val F1\t\t0.8302 \n",
      " Val AUC\t0.5202 \n",
      " Val GMean\t0.0000 \n",
      " Val MCC\t0.0000\n"
     ]
    },
    {
     "name": "stderr",
     "output_type": "stream",
     "text": [
      "100%|███████████████████████████████████████████████████████████████████████████████████████████████████████████████████████████████████| 18/18 [00:00<00:00, 132.81it/s]\n"
     ]
    },
    {
     "name": "stdout",
     "output_type": "stream",
     "text": [
      "lr:  0.0001\n",
      "Epoch 9: \n",
      " Train Loss\t0.5870 \n",
      " Val Loss\t0.6045 \n",
      " Val Acc\t0.7097 \n",
      " Val F1\t\t0.8302 \n",
      " Val AUC\t0.5303 \n",
      " Val GMean\t0.0000 \n",
      " Val MCC\t0.0000\n"
     ]
    },
    {
     "name": "stderr",
     "output_type": "stream",
     "text": [
      "100%|███████████████████████████████████████████████████████████████████████████████████████████████████████████████████████████████████| 18/18 [00:00<00:00, 136.78it/s]\n"
     ]
    },
    {
     "name": "stdout",
     "output_type": "stream",
     "text": [
      "lr:  0.0001\n",
      "Epoch 10: \n",
      " Train Loss\t0.5864 \n",
      " Val Loss\t0.6043 \n",
      " Val Acc\t0.7097 \n",
      " Val F1\t\t0.8302 \n",
      " Val AUC\t0.5303 \n",
      " Val GMean\t0.0000 \n",
      " Val MCC\t0.0000\n"
     ]
    },
    {
     "name": "stderr",
     "output_type": "stream",
     "text": [
      "100%|███████████████████████████████████████████████████████████████████████████████████████████████████████████████████████████████████| 18/18 [00:00<00:00, 134.82it/s]\n"
     ]
    },
    {
     "name": "stdout",
     "output_type": "stream",
     "text": [
      "lr:  0.0001\n",
      "Epoch 11: \n",
      " Train Loss\t0.5857 \n",
      " Val Loss\t0.6040 \n",
      " Val Acc\t0.7097 \n",
      " Val F1\t\t0.8302 \n",
      " Val AUC\t0.5303 \n",
      " Val GMean\t0.0000 \n",
      " Val MCC\t0.0000\n"
     ]
    },
    {
     "name": "stderr",
     "output_type": "stream",
     "text": [
      "100%|███████████████████████████████████████████████████████████████████████████████████████████████████████████████████████████████████| 18/18 [00:00<00:00, 140.22it/s]\n"
     ]
    },
    {
     "name": "stdout",
     "output_type": "stream",
     "text": [
      "lr:  0.0001\n",
      "Epoch 12: \n",
      " Train Loss\t0.5852 \n",
      " Val Loss\t0.6037 \n",
      " Val Acc\t0.7097 \n",
      " Val F1\t\t0.8302 \n",
      " Val AUC\t0.5354 \n",
      " Val GMean\t0.0000 \n",
      " Val MCC\t0.0000\n"
     ]
    },
    {
     "name": "stderr",
     "output_type": "stream",
     "text": [
      "100%|███████████████████████████████████████████████████████████████████████████████████████████████████████████████████████████████████| 18/18 [00:00<00:00, 140.68it/s]\n"
     ]
    },
    {
     "name": "stdout",
     "output_type": "stream",
     "text": [
      "lr:  0.0001\n",
      "Epoch 13: \n",
      " Train Loss\t0.5846 \n",
      " Val Loss\t0.6035 \n",
      " Val Acc\t0.7097 \n",
      " Val F1\t\t0.8302 \n",
      " Val AUC\t0.5303 \n",
      " Val GMean\t0.0000 \n",
      " Val MCC\t0.0000\n"
     ]
    },
    {
     "name": "stderr",
     "output_type": "stream",
     "text": [
      "100%|███████████████████████████████████████████████████████████████████████████████████████████████████████████████████████████████████| 18/18 [00:00<00:00, 135.38it/s]\n"
     ]
    },
    {
     "name": "stdout",
     "output_type": "stream",
     "text": [
      "lr:  0.0001\n",
      "Epoch 14: \n",
      " Train Loss\t0.5841 \n",
      " Val Loss\t0.6032 \n",
      " Val Acc\t0.7097 \n",
      " Val F1\t\t0.8302 \n",
      " Val AUC\t0.5404 \n",
      " Val GMean\t0.0000 \n",
      " Val MCC\t0.0000\n"
     ]
    },
    {
     "name": "stderr",
     "output_type": "stream",
     "text": [
      "100%|███████████████████████████████████████████████████████████████████████████████████████████████████████████████████████████████████| 18/18 [00:00<00:00, 138.45it/s]\n"
     ]
    },
    {
     "name": "stdout",
     "output_type": "stream",
     "text": [
      "lr:  0.0001\n",
      "Epoch 15: \n",
      " Train Loss\t0.5835 \n",
      " Val Loss\t0.6029 \n",
      " Val Acc\t0.7097 \n",
      " Val F1\t\t0.8302 \n",
      " Val AUC\t0.5455 \n",
      " Val GMean\t0.0000 \n",
      " Val MCC\t0.0000\n"
     ]
    },
    {
     "name": "stderr",
     "output_type": "stream",
     "text": [
      "100%|███████████████████████████████████████████████████████████████████████████████████████████████████████████████████████████████████| 18/18 [00:00<00:00, 132.32it/s]\n"
     ]
    },
    {
     "name": "stdout",
     "output_type": "stream",
     "text": [
      "lr:  0.0001\n",
      "Epoch 16: \n",
      " Train Loss\t0.5829 \n",
      " Val Loss\t0.6026 \n",
      " Val Acc\t0.7097 \n",
      " Val F1\t\t0.8302 \n",
      " Val AUC\t0.5455 \n",
      " Val GMean\t0.0000 \n",
      " Val MCC\t0.0000\n"
     ]
    },
    {
     "name": "stderr",
     "output_type": "stream",
     "text": [
      "100%|███████████████████████████████████████████████████████████████████████████████████████████████████████████████████████████████████| 18/18 [00:00<00:00, 133.08it/s]\n"
     ]
    },
    {
     "name": "stdout",
     "output_type": "stream",
     "text": [
      "lr:  0.0001\n",
      "Epoch 17: \n",
      " Train Loss\t0.5820 \n",
      " Val Loss\t0.6023 \n",
      " Val Acc\t0.7097 \n",
      " Val F1\t\t0.8302 \n",
      " Val AUC\t0.5505 \n",
      " Val GMean\t0.0000 \n",
      " Val MCC\t0.0000\n"
     ]
    },
    {
     "name": "stderr",
     "output_type": "stream",
     "text": [
      "100%|███████████████████████████████████████████████████████████████████████████████████████████████████████████████████████████████████| 18/18 [00:00<00:00, 138.87it/s]\n"
     ]
    },
    {
     "name": "stdout",
     "output_type": "stream",
     "text": [
      "lr:  0.0001\n",
      "Epoch 18: \n",
      " Train Loss\t0.5814 \n",
      " Val Loss\t0.6020 \n",
      " Val Acc\t0.7097 \n",
      " Val F1\t\t0.8302 \n",
      " Val AUC\t0.5505 \n",
      " Val GMean\t0.0000 \n",
      " Val MCC\t0.0000\n"
     ]
    },
    {
     "name": "stderr",
     "output_type": "stream",
     "text": [
      "100%|███████████████████████████████████████████████████████████████████████████████████████████████████████████████████████████████████| 18/18 [00:00<00:00, 132.65it/s]\n"
     ]
    },
    {
     "name": "stdout",
     "output_type": "stream",
     "text": [
      "lr:  0.0001\n",
      "Epoch 19: \n",
      " Train Loss\t0.5807 \n",
      " Val Loss\t0.6017 \n",
      " Val Acc\t0.7097 \n",
      " Val F1\t\t0.8302 \n",
      " Val AUC\t0.5505 \n",
      " Val GMean\t0.0000 \n",
      " Val MCC\t0.0000\n"
     ]
    },
    {
     "name": "stderr",
     "output_type": "stream",
     "text": [
      "100%|███████████████████████████████████████████████████████████████████████████████████████████████████████████████████████████████████| 18/18 [00:00<00:00, 129.56it/s]\n"
     ]
    },
    {
     "name": "stdout",
     "output_type": "stream",
     "text": [
      "lr:  0.0001\n",
      "Epoch 20: \n",
      " Train Loss\t0.5798 \n",
      " Val Loss\t0.6014 \n",
      " Val Acc\t0.7097 \n",
      " Val F1\t\t0.8302 \n",
      " Val AUC\t0.5505 \n",
      " Val GMean\t0.0000 \n",
      " Val MCC\t0.0000\n"
     ]
    },
    {
     "name": "stderr",
     "output_type": "stream",
     "text": [
      "100%|███████████████████████████████████████████████████████████████████████████████████████████████████████████████████████████████████| 18/18 [00:00<00:00, 125.52it/s]\n"
     ]
    },
    {
     "name": "stdout",
     "output_type": "stream",
     "text": [
      "lr:  0.0001\n",
      "Epoch 21: \n",
      " Train Loss\t0.5790 \n",
      " Val Loss\t0.6011 \n",
      " Val Acc\t0.7097 \n",
      " Val F1\t\t0.8302 \n",
      " Val AUC\t0.5505 \n",
      " Val GMean\t0.0000 \n",
      " Val MCC\t0.0000\n"
     ]
    },
    {
     "name": "stderr",
     "output_type": "stream",
     "text": [
      "100%|███████████████████████████████████████████████████████████████████████████████████████████████████████████████████████████████████| 18/18 [00:00<00:00, 131.82it/s]\n"
     ]
    },
    {
     "name": "stdout",
     "output_type": "stream",
     "text": [
      "lr:  0.0001\n",
      "Epoch 22: \n",
      " Train Loss\t0.5783 \n",
      " Val Loss\t0.6008 \n",
      " Val Acc\t0.7097 \n",
      " Val F1\t\t0.8302 \n",
      " Val AUC\t0.5505 \n",
      " Val GMean\t0.0000 \n",
      " Val MCC\t0.0000\n"
     ]
    },
    {
     "name": "stderr",
     "output_type": "stream",
     "text": [
      "100%|███████████████████████████████████████████████████████████████████████████████████████████████████████████████████████████████████| 18/18 [00:00<00:00, 136.47it/s]\n"
     ]
    },
    {
     "name": "stdout",
     "output_type": "stream",
     "text": [
      "lr:  0.0001\n",
      "Epoch 23: \n",
      " Train Loss\t0.5776 \n",
      " Val Loss\t0.6006 \n",
      " Val Acc\t0.7097 \n",
      " Val F1\t\t0.8302 \n",
      " Val AUC\t0.5455 \n",
      " Val GMean\t0.0000 \n",
      " Val MCC\t0.0000\n"
     ]
    },
    {
     "name": "stderr",
     "output_type": "stream",
     "text": [
      "100%|███████████████████████████████████████████████████████████████████████████████████████████████████████████████████████████████████| 18/18 [00:00<00:00, 135.42it/s]\n"
     ]
    },
    {
     "name": "stdout",
     "output_type": "stream",
     "text": [
      "lr:  0.0001\n",
      "Epoch 24: \n",
      " Train Loss\t0.5766 \n",
      " Val Loss\t0.6005 \n",
      " Val Acc\t0.7097 \n",
      " Val F1\t\t0.8302 \n",
      " Val AUC\t0.5455 \n",
      " Val GMean\t0.0000 \n",
      " Val MCC\t0.0000\n"
     ]
    },
    {
     "name": "stderr",
     "output_type": "stream",
     "text": [
      "100%|███████████████████████████████████████████████████████████████████████████████████████████████████████████████████████████████████| 18/18 [00:00<00:00, 135.51it/s]\n"
     ]
    },
    {
     "name": "stdout",
     "output_type": "stream",
     "text": [
      "lr:  0.0001\n",
      "Epoch 25: \n",
      " Train Loss\t0.5756 \n",
      " Val Loss\t0.6004 \n",
      " Val Acc\t0.7097 \n",
      " Val F1\t\t0.8302 \n",
      " Val AUC\t0.5404 \n",
      " Val GMean\t0.0000 \n",
      " Val MCC\t0.0000\n"
     ]
    },
    {
     "name": "stderr",
     "output_type": "stream",
     "text": [
      "100%|███████████████████████████████████████████████████████████████████████████████████████████████████████████████████████████████████| 18/18 [00:00<00:00, 136.39it/s]\n"
     ]
    },
    {
     "name": "stdout",
     "output_type": "stream",
     "text": [
      "lr:  0.0001\n",
      "Epoch 26: \n",
      " Train Loss\t0.5746 \n",
      " Val Loss\t0.6004 \n",
      " Val Acc\t0.7097 \n",
      " Val F1\t\t0.8302 \n",
      " Val AUC\t0.5404 \n",
      " Val GMean\t0.0000 \n",
      " Val MCC\t0.0000\n"
     ]
    },
    {
     "name": "stderr",
     "output_type": "stream",
     "text": [
      "100%|███████████████████████████████████████████████████████████████████████████████████████████████████████████████████████████████████| 18/18 [00:00<00:00, 135.39it/s]\n"
     ]
    },
    {
     "name": "stdout",
     "output_type": "stream",
     "text": [
      "lr:  0.0001\n",
      "Epoch 27: \n",
      " Train Loss\t0.5736 \n",
      " Val Loss\t0.6004 \n",
      " Val Acc\t0.7097 \n",
      " Val F1\t\t0.8302 \n",
      " Val AUC\t0.5455 \n",
      " Val GMean\t0.0000 \n",
      " Val MCC\t0.0000\n"
     ]
    },
    {
     "name": "stderr",
     "output_type": "stream",
     "text": [
      "100%|███████████████████████████████████████████████████████████████████████████████████████████████████████████████████████████████████| 18/18 [00:00<00:00, 126.02it/s]\n"
     ]
    },
    {
     "name": "stdout",
     "output_type": "stream",
     "text": [
      "lr:  0.0001\n",
      "Epoch 28: \n",
      " Train Loss\t0.5723 \n",
      " Val Loss\t0.6005 \n",
      " Val Acc\t0.7097 \n",
      " Val F1\t\t0.8302 \n",
      " Val AUC\t0.5354 \n",
      " Val GMean\t0.0000 \n",
      " Val MCC\t0.0000\n"
     ]
    },
    {
     "name": "stderr",
     "output_type": "stream",
     "text": [
      "100%|███████████████████████████████████████████████████████████████████████████████████████████████████████████████████████████████████| 18/18 [00:00<00:00, 133.47it/s]\n"
     ]
    },
    {
     "name": "stdout",
     "output_type": "stream",
     "text": [
      "lr:  0.0001\n",
      "Epoch 29: \n",
      " Train Loss\t0.5712 \n",
      " Val Loss\t0.6006 \n",
      " Val Acc\t0.7097 \n",
      " Val F1\t\t0.8302 \n",
      " Val AUC\t0.5354 \n",
      " Val GMean\t0.0000 \n",
      " Val MCC\t0.0000\n"
     ]
    },
    {
     "name": "stderr",
     "output_type": "stream",
     "text": [
      "100%|███████████████████████████████████████████████████████████████████████████████████████████████████████████████████████████████████| 18/18 [00:00<00:00, 137.63it/s]\n"
     ]
    },
    {
     "name": "stdout",
     "output_type": "stream",
     "text": [
      "lr:  0.0001\n",
      "Epoch 30: \n",
      " Train Loss\t0.5698 \n",
      " Val Loss\t0.6008 \n",
      " Val Acc\t0.7097 \n",
      " Val F1\t\t0.8302 \n",
      " Val AUC\t0.5303 \n",
      " Val GMean\t0.0000 \n",
      " Val MCC\t0.0000\n"
     ]
    },
    {
     "name": "stderr",
     "output_type": "stream",
     "text": [
      "100%|███████████████████████████████████████████████████████████████████████████████████████████████████████████████████████████████████| 18/18 [00:00<00:00, 140.54it/s]\n"
     ]
    },
    {
     "name": "stdout",
     "output_type": "stream",
     "text": [
      "lr:  0.0001\n",
      "Epoch 31: \n",
      " Train Loss\t0.5686 \n",
      " Val Loss\t0.6011 \n",
      " Val Acc\t0.7097 \n",
      " Val F1\t\t0.8302 \n",
      " Val AUC\t0.5253 \n",
      " Val GMean\t0.0000 \n",
      " Val MCC\t0.0000\n"
     ]
    },
    {
     "name": "stderr",
     "output_type": "stream",
     "text": [
      "100%|███████████████████████████████████████████████████████████████████████████████████████████████████████████████████████████████████| 18/18 [00:00<00:00, 139.32it/s]\n"
     ]
    },
    {
     "name": "stdout",
     "output_type": "stream",
     "text": [
      "lr:  0.0001\n",
      "Epoch 32: \n",
      " Train Loss\t0.5671 \n",
      " Val Loss\t0.6015 \n",
      " Val Acc\t0.7097 \n",
      " Val F1\t\t0.8302 \n",
      " Val AUC\t0.5202 \n",
      " Val GMean\t0.0000 \n",
      " Val MCC\t0.0000\n"
     ]
    },
    {
     "name": "stderr",
     "output_type": "stream",
     "text": [
      "100%|███████████████████████████████████████████████████████████████████████████████████████████████████████████████████████████████████| 18/18 [00:00<00:00, 138.80it/s]\n"
     ]
    },
    {
     "name": "stdout",
     "output_type": "stream",
     "text": [
      "lr:  0.0001\n",
      "Epoch 33: \n",
      " Train Loss\t0.5657 \n",
      " Val Loss\t0.6020 \n",
      " Val Acc\t0.7097 \n",
      " Val F1\t\t0.8302 \n",
      " Val AUC\t0.5253 \n",
      " Val GMean\t0.0000 \n",
      " Val MCC\t0.0000\n"
     ]
    },
    {
     "name": "stderr",
     "output_type": "stream",
     "text": [
      "100%|███████████████████████████████████████████████████████████████████████████████████████████████████████████████████████████████████| 18/18 [00:00<00:00, 138.90it/s]\n"
     ]
    },
    {
     "name": "stdout",
     "output_type": "stream",
     "text": [
      "lr:  0.0001\n",
      "Epoch 34: \n",
      " Train Loss\t0.5643 \n",
      " Val Loss\t0.6024 \n",
      " Val Acc\t0.7097 \n",
      " Val F1\t\t0.8302 \n",
      " Val AUC\t0.5101 \n",
      " Val GMean\t0.0000 \n",
      " Val MCC\t0.0000\n"
     ]
    },
    {
     "name": "stderr",
     "output_type": "stream",
     "text": [
      "100%|███████████████████████████████████████████████████████████████████████████████████████████████████████████████████████████████████| 18/18 [00:00<00:00, 135.01it/s]\n"
     ]
    },
    {
     "name": "stdout",
     "output_type": "stream",
     "text": [
      "lr:  0.0001\n",
      "Epoch 35: \n",
      " Train Loss\t0.5628 \n",
      " Val Loss\t0.6030 \n",
      " Val Acc\t0.7097 \n",
      " Val F1\t\t0.8302 \n",
      " Val AUC\t0.5000 \n",
      " Val GMean\t0.0000 \n",
      " Val MCC\t0.0000\n"
     ]
    },
    {
     "name": "stderr",
     "output_type": "stream",
     "text": [
      "100%|███████████████████████████████████████████████████████████████████████████████████████████████████████████████████████████████████| 18/18 [00:00<00:00, 137.44it/s]\n"
     ]
    },
    {
     "name": "stdout",
     "output_type": "stream",
     "text": [
      "lr:  0.0001\n",
      "Epoch 36: \n",
      " Train Loss\t0.5614 \n",
      " Val Loss\t0.6035 \n",
      " Val Acc\t0.7097 \n",
      " Val F1\t\t0.8302 \n",
      " Val AUC\t0.4848 \n",
      " Val GMean\t0.0000 \n",
      " Val MCC\t0.0000\n"
     ]
    },
    {
     "name": "stderr",
     "output_type": "stream",
     "text": [
      "100%|███████████████████████████████████████████████████████████████████████████████████████████████████████████████████████████████████| 18/18 [00:00<00:00, 142.16it/s]\n"
     ]
    },
    {
     "name": "stdout",
     "output_type": "stream",
     "text": [
      "lr:  0.0001\n",
      "Epoch 37: \n",
      " Train Loss\t0.5596 \n",
      " Val Loss\t0.6042 \n",
      " Val Acc\t0.7097 \n",
      " Val F1\t\t0.8302 \n",
      " Val AUC\t0.4848 \n",
      " Val GMean\t0.0000 \n",
      " Val MCC\t0.0000\n"
     ]
    },
    {
     "name": "stderr",
     "output_type": "stream",
     "text": [
      "100%|███████████████████████████████████████████████████████████████████████████████████████████████████████████████████████████████████| 18/18 [00:00<00:00, 138.78it/s]\n"
     ]
    },
    {
     "name": "stdout",
     "output_type": "stream",
     "text": [
      "lr:  0.0001\n",
      "Epoch 38: \n",
      " Train Loss\t0.5580 \n",
      " Val Loss\t0.6048 \n",
      " Val Acc\t0.7097 \n",
      " Val F1\t\t0.8302 \n",
      " Val AUC\t0.4899 \n",
      " Val GMean\t0.0000 \n",
      " Val MCC\t0.0000\n"
     ]
    },
    {
     "name": "stderr",
     "output_type": "stream",
     "text": [
      "100%|███████████████████████████████████████████████████████████████████████████████████████████████████████████████████████████████████| 18/18 [00:00<00:00, 136.58it/s]\n"
     ]
    },
    {
     "name": "stdout",
     "output_type": "stream",
     "text": [
      "lr:  0.0001\n",
      "Epoch 39: \n",
      " Train Loss\t0.5559 \n",
      " Val Loss\t0.6055 \n",
      " Val Acc\t0.7097 \n",
      " Val F1\t\t0.8302 \n",
      " Val AUC\t0.4848 \n",
      " Val GMean\t0.0000 \n",
      " Val MCC\t0.0000\n"
     ]
    },
    {
     "name": "stderr",
     "output_type": "stream",
     "text": [
      "100%|███████████████████████████████████████████████████████████████████████████████████████████████████████████████████████████████████| 18/18 [00:00<00:00, 134.95it/s]\n"
     ]
    },
    {
     "name": "stdout",
     "output_type": "stream",
     "text": [
      "lr:  0.0001\n",
      "Epoch 40: \n",
      " Train Loss\t0.5543 \n",
      " Val Loss\t0.6063 \n",
      " Val Acc\t0.7097 \n",
      " Val F1\t\t0.8302 \n",
      " Val AUC\t0.4949 \n",
      " Val GMean\t0.0000 \n",
      " Val MCC\t0.0000\n"
     ]
    },
    {
     "name": "stderr",
     "output_type": "stream",
     "text": [
      "100%|███████████████████████████████████████████████████████████████████████████████████████████████████████████████████████████████████| 18/18 [00:00<00:00, 135.57it/s]\n"
     ]
    },
    {
     "name": "stdout",
     "output_type": "stream",
     "text": [
      "lr:  0.0001\n",
      "Epoch 41: \n",
      " Train Loss\t0.5524 \n",
      " Val Loss\t0.6070 \n",
      " Val Acc\t0.7419 \n",
      " Val F1\t\t0.8462 \n",
      " Val AUC\t0.4949 \n",
      " Val GMean\t0.3333 \n",
      " Val MCC\t0.2854\n"
     ]
    },
    {
     "name": "stderr",
     "output_type": "stream",
     "text": [
      "100%|███████████████████████████████████████████████████████████████████████████████████████████████████████████████████████████████████| 18/18 [00:00<00:00, 135.53it/s]\n"
     ]
    },
    {
     "name": "stdout",
     "output_type": "stream",
     "text": [
      "lr:  0.0001\n",
      "Epoch 42: \n",
      " Train Loss\t0.5504 \n",
      " Val Loss\t0.6078 \n",
      " Val Acc\t0.7097 \n",
      " Val F1\t\t0.8302 \n",
      " Val AUC\t0.5000 \n",
      " Val GMean\t0.0000 \n",
      " Val MCC\t0.0000\n"
     ]
    },
    {
     "name": "stderr",
     "output_type": "stream",
     "text": [
      "100%|███████████████████████████████████████████████████████████████████████████████████████████████████████████████████████████████████| 18/18 [00:00<00:00, 137.63it/s]\n"
     ]
    },
    {
     "name": "stdout",
     "output_type": "stream",
     "text": [
      "lr:  0.0001\n",
      "Epoch 43: \n",
      " Train Loss\t0.5485 \n",
      " Val Loss\t0.6086 \n",
      " Val Acc\t0.7419 \n",
      " Val F1\t\t0.8462 \n",
      " Val AUC\t0.5000 \n",
      " Val GMean\t0.3333 \n",
      " Val MCC\t0.2854\n"
     ]
    },
    {
     "name": "stderr",
     "output_type": "stream",
     "text": [
      "100%|███████████████████████████████████████████████████████████████████████████████████████████████████████████████████████████████████| 18/18 [00:00<00:00, 137.68it/s]\n"
     ]
    },
    {
     "name": "stdout",
     "output_type": "stream",
     "text": [
      "lr:  0.0001\n",
      "Epoch 44: \n",
      " Train Loss\t0.5464 \n",
      " Val Loss\t0.6094 \n",
      " Val Acc\t0.7419 \n",
      " Val F1\t\t0.8462 \n",
      " Val AUC\t0.5051 \n",
      " Val GMean\t0.3333 \n",
      " Val MCC\t0.2854\n"
     ]
    },
    {
     "name": "stderr",
     "output_type": "stream",
     "text": [
      "100%|███████████████████████████████████████████████████████████████████████████████████████████████████████████████████████████████████| 18/18 [00:00<00:00, 137.50it/s]\n"
     ]
    },
    {
     "name": "stdout",
     "output_type": "stream",
     "text": [
      "lr:  0.0001\n",
      "Epoch 45: \n",
      " Train Loss\t0.5446 \n",
      " Val Loss\t0.6103 \n",
      " Val Acc\t0.7419 \n",
      " Val F1\t\t0.8462 \n",
      " Val AUC\t0.4949 \n",
      " Val GMean\t0.3333 \n",
      " Val MCC\t0.2854\n"
     ]
    },
    {
     "name": "stderr",
     "output_type": "stream",
     "text": [
      "100%|███████████████████████████████████████████████████████████████████████████████████████████████████████████████████████████████████| 18/18 [00:00<00:00, 136.38it/s]\n"
     ]
    },
    {
     "name": "stdout",
     "output_type": "stream",
     "text": [
      "lr:  0.0001\n",
      "Epoch 46: \n",
      " Train Loss\t0.5426 \n",
      " Val Loss\t0.6113 \n",
      " Val Acc\t0.7419 \n",
      " Val F1\t\t0.8462 \n",
      " Val AUC\t0.5000 \n",
      " Val GMean\t0.3333 \n",
      " Val MCC\t0.2854\n"
     ]
    },
    {
     "name": "stderr",
     "output_type": "stream",
     "text": [
      "100%|███████████████████████████████████████████████████████████████████████████████████████████████████████████████████████████████████| 18/18 [00:00<00:00, 141.24it/s]\n"
     ]
    },
    {
     "name": "stdout",
     "output_type": "stream",
     "text": [
      "lr:  0.0001\n",
      "Epoch 47: \n",
      " Train Loss\t0.5406 \n",
      " Val Loss\t0.6122 \n",
      " Val Acc\t0.7419 \n",
      " Val F1\t\t0.8462 \n",
      " Val AUC\t0.5051 \n",
      " Val GMean\t0.3333 \n",
      " Val MCC\t0.2854\n"
     ]
    },
    {
     "name": "stderr",
     "output_type": "stream",
     "text": [
      "100%|███████████████████████████████████████████████████████████████████████████████████████████████████████████████████████████████████| 18/18 [00:00<00:00, 133.17it/s]\n"
     ]
    },
    {
     "name": "stdout",
     "output_type": "stream",
     "text": [
      "lr:  0.0001\n",
      "Epoch 48: \n",
      " Train Loss\t0.5388 \n",
      " Val Loss\t0.6131 \n",
      " Val Acc\t0.7419 \n",
      " Val F1\t\t0.8462 \n",
      " Val AUC\t0.5051 \n",
      " Val GMean\t0.3333 \n",
      " Val MCC\t0.2854\n"
     ]
    },
    {
     "name": "stderr",
     "output_type": "stream",
     "text": [
      "100%|███████████████████████████████████████████████████████████████████████████████████████████████████████████████████████████████████| 18/18 [00:00<00:00, 140.18it/s]\n"
     ]
    },
    {
     "name": "stdout",
     "output_type": "stream",
     "text": [
      "lr:  0.0001\n",
      "Epoch 49: \n",
      " Train Loss\t0.5369 \n",
      " Val Loss\t0.6141 \n",
      " Val Acc\t0.7419 \n",
      " Val F1\t\t0.8462 \n",
      " Val AUC\t0.5051 \n",
      " Val GMean\t0.3333 \n",
      " Val MCC\t0.2854\n"
     ]
    },
    {
     "name": "stderr",
     "output_type": "stream",
     "text": [
      "100%|███████████████████████████████████████████████████████████████████████████████████████████████████████████████████████████████████| 18/18 [00:00<00:00, 139.13it/s]\n"
     ]
    },
    {
     "name": "stdout",
     "output_type": "stream",
     "text": [
      "lr:  0.0001\n",
      "Epoch 50: \n",
      " Train Loss\t0.5348 \n",
      " Val Loss\t0.6152 \n",
      " Val Acc\t0.7419 \n",
      " Val F1\t\t0.8462 \n",
      " Val AUC\t0.5051 \n",
      " Val GMean\t0.3333 \n",
      " Val MCC\t0.2854\n"
     ]
    },
    {
     "name": "stderr",
     "output_type": "stream",
     "text": [
      "100%|███████████████████████████████████████████████████████████████████████████████████████████████████████████████████████████████████| 18/18 [00:00<00:00, 137.01it/s]\n"
     ]
    },
    {
     "name": "stdout",
     "output_type": "stream",
     "text": [
      "lr:  0.0001\n",
      "Epoch 51: \n",
      " Train Loss\t0.5324 \n",
      " Val Loss\t0.6164 \n",
      " Val Acc\t0.7097 \n",
      " Val F1\t\t0.8235 \n",
      " Val AUC\t0.4949 \n",
      " Val GMean\t0.3257 \n",
      " Val MCC\t0.1213\n"
     ]
    },
    {
     "name": "stderr",
     "output_type": "stream",
     "text": [
      "100%|███████████████████████████████████████████████████████████████████████████████████████████████████████████████████████████████████| 18/18 [00:00<00:00, 141.76it/s]\n"
     ]
    },
    {
     "name": "stdout",
     "output_type": "stream",
     "text": [
      "lr:  0.0001\n",
      "Epoch 52: \n",
      " Train Loss\t0.5301 \n",
      " Val Loss\t0.6175 \n",
      " Val Acc\t0.7097 \n",
      " Val F1\t\t0.8235 \n",
      " Val AUC\t0.4949 \n",
      " Val GMean\t0.3257 \n",
      " Val MCC\t0.1213\n"
     ]
    },
    {
     "name": "stderr",
     "output_type": "stream",
     "text": [
      "100%|███████████████████████████████████████████████████████████████████████████████████████████████████████████████████████████████████| 18/18 [00:00<00:00, 135.44it/s]\n"
     ]
    },
    {
     "name": "stdout",
     "output_type": "stream",
     "text": [
      "lr:  0.0001\n",
      "Epoch 53: \n",
      " Train Loss\t0.5279 \n",
      " Val Loss\t0.6190 \n",
      " Val Acc\t0.7419 \n",
      " Val F1\t\t0.8462 \n",
      " Val AUC\t0.5000 \n",
      " Val GMean\t0.3333 \n",
      " Val MCC\t0.2854\n"
     ]
    },
    {
     "name": "stderr",
     "output_type": "stream",
     "text": [
      "100%|███████████████████████████████████████████████████████████████████████████████████████████████████████████████████████████████████| 18/18 [00:00<00:00, 122.03it/s]\n"
     ]
    },
    {
     "name": "stdout",
     "output_type": "stream",
     "text": [
      "lr:  0.0001\n",
      "Epoch 54: \n",
      " Train Loss\t0.5258 \n",
      " Val Loss\t0.6202 \n",
      " Val Acc\t0.7097 \n",
      " Val F1\t\t0.8235 \n",
      " Val AUC\t0.4949 \n",
      " Val GMean\t0.3257 \n",
      " Val MCC\t0.1213\n"
     ]
    },
    {
     "name": "stderr",
     "output_type": "stream",
     "text": [
      "100%|███████████████████████████████████████████████████████████████████████████████████████████████████████████████████████████████████| 18/18 [00:00<00:00, 136.27it/s]\n"
     ]
    },
    {
     "name": "stdout",
     "output_type": "stream",
     "text": [
      "lr:  0.0001\n",
      "Epoch 55: \n",
      " Train Loss\t0.5235 \n",
      " Val Loss\t0.6216 \n",
      " Val Acc\t0.7097 \n",
      " Val F1\t\t0.8235 \n",
      " Val AUC\t0.4949 \n",
      " Val GMean\t0.3257 \n",
      " Val MCC\t0.1213\n"
     ]
    },
    {
     "name": "stderr",
     "output_type": "stream",
     "text": [
      "100%|███████████████████████████████████████████████████████████████████████████████████████████████████████████████████████████████████| 18/18 [00:00<00:00, 133.39it/s]\n"
     ]
    },
    {
     "name": "stdout",
     "output_type": "stream",
     "text": [
      "lr:  0.0001\n",
      "Epoch 56: \n",
      " Train Loss\t0.5215 \n",
      " Val Loss\t0.6229 \n",
      " Val Acc\t0.7097 \n",
      " Val F1\t\t0.8235 \n",
      " Val AUC\t0.4949 \n",
      " Val GMean\t0.3257 \n",
      " Val MCC\t0.1213\n"
     ]
    },
    {
     "name": "stderr",
     "output_type": "stream",
     "text": [
      "100%|███████████████████████████████████████████████████████████████████████████████████████████████████████████████████████████████████| 18/18 [00:00<00:00, 131.54it/s]\n"
     ]
    },
    {
     "name": "stdout",
     "output_type": "stream",
     "text": [
      "lr:  0.0001\n",
      "Epoch 57: \n",
      " Train Loss\t0.5190 \n",
      " Val Loss\t0.6244 \n",
      " Val Acc\t0.7097 \n",
      " Val F1\t\t0.8235 \n",
      " Val AUC\t0.5051 \n",
      " Val GMean\t0.3257 \n",
      " Val MCC\t0.1213\n"
     ]
    },
    {
     "name": "stderr",
     "output_type": "stream",
     "text": [
      "100%|███████████████████████████████████████████████████████████████████████████████████████████████████████████████████████████████████| 18/18 [00:00<00:00, 137.65it/s]\n"
     ]
    },
    {
     "name": "stdout",
     "output_type": "stream",
     "text": [
      "lr:  0.0001\n",
      "Epoch 58: \n",
      " Train Loss\t0.5169 \n",
      " Val Loss\t0.6259 \n",
      " Val Acc\t0.7097 \n",
      " Val F1\t\t0.8235 \n",
      " Val AUC\t0.5000 \n",
      " Val GMean\t0.3257 \n",
      " Val MCC\t0.1213\n"
     ]
    },
    {
     "name": "stderr",
     "output_type": "stream",
     "text": [
      "100%|███████████████████████████████████████████████████████████████████████████████████████████████████████████████████████████████████| 18/18 [00:00<00:00, 137.33it/s]\n"
     ]
    },
    {
     "name": "stdout",
     "output_type": "stream",
     "text": [
      "lr:  0.0001\n",
      "Epoch 59: \n",
      " Train Loss\t0.5146 \n",
      " Val Loss\t0.6275 \n",
      " Val Acc\t0.7097 \n",
      " Val F1\t\t0.8235 \n",
      " Val AUC\t0.4949 \n",
      " Val GMean\t0.3257 \n",
      " Val MCC\t0.1213\n"
     ]
    },
    {
     "name": "stderr",
     "output_type": "stream",
     "text": [
      "100%|███████████████████████████████████████████████████████████████████████████████████████████████████████████████████████████████████| 18/18 [00:00<00:00, 136.44it/s]\n"
     ]
    },
    {
     "name": "stdout",
     "output_type": "stream",
     "text": [
      "lr:  0.0001\n",
      "Epoch 60: \n",
      " Train Loss\t0.5123 \n",
      " Val Loss\t0.6290 \n",
      " Val Acc\t0.7097 \n",
      " Val F1\t\t0.8235 \n",
      " Val AUC\t0.4949 \n",
      " Val GMean\t0.3257 \n",
      " Val MCC\t0.1213\n"
     ]
    },
    {
     "name": "stderr",
     "output_type": "stream",
     "text": [
      "100%|███████████████████████████████████████████████████████████████████████████████████████████████████████████████████████████████████| 18/18 [00:00<00:00, 135.77it/s]\n"
     ]
    },
    {
     "name": "stdout",
     "output_type": "stream",
     "text": [
      "lr:  0.0001\n",
      "Epoch 61: \n",
      " Train Loss\t0.5097 \n",
      " Val Loss\t0.6307 \n",
      " Val Acc\t0.7097 \n",
      " Val F1\t\t0.8235 \n",
      " Val AUC\t0.4949 \n",
      " Val GMean\t0.3257 \n",
      " Val MCC\t0.1213\n"
     ]
    },
    {
     "name": "stderr",
     "output_type": "stream",
     "text": [
      "100%|███████████████████████████████████████████████████████████████████████████████████████████████████████████████████████████████████| 18/18 [00:00<00:00, 138.40it/s]\n"
     ]
    },
    {
     "name": "stdout",
     "output_type": "stream",
     "text": [
      "lr:  0.0001\n",
      "Epoch 62: \n",
      " Train Loss\t0.5075 \n",
      " Val Loss\t0.6325 \n",
      " Val Acc\t0.7097 \n",
      " Val F1\t\t0.8235 \n",
      " Val AUC\t0.4899 \n",
      " Val GMean\t0.3257 \n",
      " Val MCC\t0.1213\n"
     ]
    },
    {
     "name": "stderr",
     "output_type": "stream",
     "text": [
      "100%|███████████████████████████████████████████████████████████████████████████████████████████████████████████████████████████████████| 18/18 [00:00<00:00, 138.64it/s]\n"
     ]
    },
    {
     "name": "stdout",
     "output_type": "stream",
     "text": [
      "lr:  0.0001\n",
      "Epoch 63: \n",
      " Train Loss\t0.5052 \n",
      " Val Loss\t0.6341 \n",
      " Val Acc\t0.7097 \n",
      " Val F1\t\t0.8235 \n",
      " Val AUC\t0.4848 \n",
      " Val GMean\t0.3257 \n",
      " Val MCC\t0.1213\n"
     ]
    },
    {
     "name": "stderr",
     "output_type": "stream",
     "text": [
      "100%|███████████████████████████████████████████████████████████████████████████████████████████████████████████████████████████████████| 18/18 [00:00<00:00, 132.40it/s]\n"
     ]
    },
    {
     "name": "stdout",
     "output_type": "stream",
     "text": [
      "lr:  0.0001\n",
      "Epoch 64: \n",
      " Train Loss\t0.5033 \n",
      " Val Loss\t0.6359 \n",
      " Val Acc\t0.7097 \n",
      " Val F1\t\t0.8235 \n",
      " Val AUC\t0.4848 \n",
      " Val GMean\t0.3257 \n",
      " Val MCC\t0.1213\n"
     ]
    },
    {
     "name": "stderr",
     "output_type": "stream",
     "text": [
      "100%|███████████████████████████████████████████████████████████████████████████████████████████████████████████████████████████████████| 18/18 [00:00<00:00, 128.35it/s]\n"
     ]
    },
    {
     "name": "stdout",
     "output_type": "stream",
     "text": [
      "lr:  0.0001\n",
      "Epoch 65: \n",
      " Train Loss\t0.5012 \n",
      " Val Loss\t0.6376 \n",
      " Val Acc\t0.7097 \n",
      " Val F1\t\t0.8235 \n",
      " Val AUC\t0.4899 \n",
      " Val GMean\t0.3257 \n",
      " Val MCC\t0.1213\n"
     ]
    },
    {
     "name": "stderr",
     "output_type": "stream",
     "text": [
      "100%|███████████████████████████████████████████████████████████████████████████████████████████████████████████████████████████████████| 18/18 [00:00<00:00, 140.28it/s]\n"
     ]
    },
    {
     "name": "stdout",
     "output_type": "stream",
     "text": [
      "lr:  0.0001\n",
      "Epoch 66: \n",
      " Train Loss\t0.4989 \n",
      " Val Loss\t0.6393 \n",
      " Val Acc\t0.7097 \n",
      " Val F1\t\t0.8235 \n",
      " Val AUC\t0.4899 \n",
      " Val GMean\t0.3257 \n",
      " Val MCC\t0.1213\n"
     ]
    },
    {
     "name": "stderr",
     "output_type": "stream",
     "text": [
      "100%|███████████████████████████████████████████████████████████████████████████████████████████████████████████████████████████████████| 18/18 [00:00<00:00, 139.60it/s]\n"
     ]
    },
    {
     "name": "stdout",
     "output_type": "stream",
     "text": [
      "lr:  0.0001\n",
      "Epoch 67: \n",
      " Train Loss\t0.4964 \n",
      " Val Loss\t0.6411 \n",
      " Val Acc\t0.7097 \n",
      " Val F1\t\t0.8235 \n",
      " Val AUC\t0.4949 \n",
      " Val GMean\t0.3257 \n",
      " Val MCC\t0.1213\n"
     ]
    },
    {
     "name": "stderr",
     "output_type": "stream",
     "text": [
      "100%|███████████████████████████████████████████████████████████████████████████████████████████████████████████████████████████████████| 18/18 [00:00<00:00, 138.56it/s]\n"
     ]
    },
    {
     "name": "stdout",
     "output_type": "stream",
     "text": [
      "lr:  0.0001\n",
      "Epoch 68: \n",
      " Train Loss\t0.4944 \n",
      " Val Loss\t0.6429 \n",
      " Val Acc\t0.7097 \n",
      " Val F1\t\t0.8235 \n",
      " Val AUC\t0.5000 \n",
      " Val GMean\t0.3257 \n",
      " Val MCC\t0.1213\n"
     ]
    },
    {
     "name": "stderr",
     "output_type": "stream",
     "text": [
      "100%|███████████████████████████████████████████████████████████████████████████████████████████████████████████████████████████████████| 18/18 [00:00<00:00, 137.04it/s]\n"
     ]
    },
    {
     "name": "stdout",
     "output_type": "stream",
     "text": [
      "lr:  0.0001\n",
      "Epoch 69: \n",
      " Train Loss\t0.4921 \n",
      " Val Loss\t0.6448 \n",
      " Val Acc\t0.7097 \n",
      " Val F1\t\t0.8235 \n",
      " Val AUC\t0.5000 \n",
      " Val GMean\t0.3257 \n",
      " Val MCC\t0.1213\n"
     ]
    },
    {
     "name": "stderr",
     "output_type": "stream",
     "text": [
      "100%|███████████████████████████████████████████████████████████████████████████████████████████████████████████████████████████████████| 18/18 [00:00<00:00, 134.58it/s]\n"
     ]
    },
    {
     "name": "stdout",
     "output_type": "stream",
     "text": [
      "lr:  0.0001\n",
      "Epoch 70: \n",
      " Train Loss\t0.4897 \n",
      " Val Loss\t0.6466 \n",
      " Val Acc\t0.6774 \n",
      " Val F1\t\t0.8000 \n",
      " Val AUC\t0.5051 \n",
      " Val GMean\t0.3178 \n",
      " Val MCC\t0.0310\n"
     ]
    },
    {
     "name": "stderr",
     "output_type": "stream",
     "text": [
      "100%|███████████████████████████████████████████████████████████████████████████████████████████████████████████████████████████████████| 18/18 [00:00<00:00, 138.62it/s]\n"
     ]
    },
    {
     "name": "stdout",
     "output_type": "stream",
     "text": [
      "lr:  0.0001\n",
      "Epoch 71: \n",
      " Train Loss\t0.4879 \n",
      " Val Loss\t0.6486 \n",
      " Val Acc\t0.7097 \n",
      " Val F1\t\t0.8235 \n",
      " Val AUC\t0.5101 \n",
      " Val GMean\t0.3257 \n",
      " Val MCC\t0.1213\n"
     ]
    },
    {
     "name": "stderr",
     "output_type": "stream",
     "text": [
      "100%|███████████████████████████████████████████████████████████████████████████████████████████████████████████████████████████████████| 18/18 [00:00<00:00, 127.77it/s]\n"
     ]
    },
    {
     "name": "stdout",
     "output_type": "stream",
     "text": [
      "lr:  0.0001\n",
      "Epoch 72: \n",
      " Train Loss\t0.4858 \n",
      " Val Loss\t0.6508 \n",
      " Val Acc\t0.7097 \n",
      " Val F1\t\t0.8235 \n",
      " Val AUC\t0.5000 \n",
      " Val GMean\t0.3257 \n",
      " Val MCC\t0.1213\n"
     ]
    },
    {
     "name": "stderr",
     "output_type": "stream",
     "text": [
      "100%|███████████████████████████████████████████████████████████████████████████████████████████████████████████████████████████████████| 18/18 [00:00<00:00, 140.22it/s]\n"
     ]
    },
    {
     "name": "stdout",
     "output_type": "stream",
     "text": [
      "lr:  0.0001\n",
      "Epoch 73: \n",
      " Train Loss\t0.4834 \n",
      " Val Loss\t0.6527 \n",
      " Val Acc\t0.6774 \n",
      " Val F1\t\t0.8000 \n",
      " Val AUC\t0.5101 \n",
      " Val GMean\t0.3178 \n",
      " Val MCC\t0.0310\n"
     ]
    },
    {
     "name": "stderr",
     "output_type": "stream",
     "text": [
      "100%|███████████████████████████████████████████████████████████████████████████████████████████████████████████████████████████████████| 18/18 [00:00<00:00, 121.10it/s]\n"
     ]
    },
    {
     "name": "stdout",
     "output_type": "stream",
     "text": [
      "lr:  0.0001\n",
      "Epoch 74: \n",
      " Train Loss\t0.4812 \n",
      " Val Loss\t0.6548 \n",
      " Val Acc\t0.7097 \n",
      " Val F1\t\t0.8235 \n",
      " Val AUC\t0.5101 \n",
      " Val GMean\t0.3257 \n",
      " Val MCC\t0.1213\n"
     ]
    },
    {
     "name": "stderr",
     "output_type": "stream",
     "text": [
      "100%|███████████████████████████████████████████████████████████████████████████████████████████████████████████████████████████████████| 18/18 [00:00<00:00, 137.79it/s]\n"
     ]
    },
    {
     "name": "stdout",
     "output_type": "stream",
     "text": [
      "lr:  0.0001\n",
      "Epoch 75: \n",
      " Train Loss\t0.4791 \n",
      " Val Loss\t0.6570 \n",
      " Val Acc\t0.7097 \n",
      " Val F1\t\t0.8235 \n",
      " Val AUC\t0.5051 \n",
      " Val GMean\t0.3257 \n",
      " Val MCC\t0.1213\n"
     ]
    },
    {
     "name": "stderr",
     "output_type": "stream",
     "text": [
      "100%|███████████████████████████████████████████████████████████████████████████████████████████████████████████████████████████████████| 18/18 [00:00<00:00, 130.89it/s]\n"
     ]
    },
    {
     "name": "stdout",
     "output_type": "stream",
     "text": [
      "lr:  0.0001\n",
      "Epoch 76: \n",
      " Train Loss\t0.4768 \n",
      " Val Loss\t0.6590 \n",
      " Val Acc\t0.6129 \n",
      " Val F1\t\t0.7500 \n",
      " Val AUC\t0.4949 \n",
      " Val GMean\t0.3015 \n",
      " Val MCC\t-0.0873\n"
     ]
    },
    {
     "name": "stderr",
     "output_type": "stream",
     "text": [
      "100%|███████████████████████████████████████████████████████████████████████████████████████████████████████████████████████████████████| 18/18 [00:00<00:00, 134.50it/s]\n"
     ]
    },
    {
     "name": "stdout",
     "output_type": "stream",
     "text": [
      "lr:  0.0001\n",
      "Epoch 77: \n",
      " Train Loss\t0.4745 \n",
      " Val Loss\t0.6611 \n",
      " Val Acc\t0.6774 \n",
      " Val F1\t\t0.8000 \n",
      " Val AUC\t0.4899 \n",
      " Val GMean\t0.3178 \n",
      " Val MCC\t0.0310\n"
     ]
    },
    {
     "name": "stderr",
     "output_type": "stream",
     "text": [
      "100%|███████████████████████████████████████████████████████████████████████████████████████████████████████████████████████████████████| 18/18 [00:00<00:00, 133.72it/s]\n"
     ]
    },
    {
     "name": "stdout",
     "output_type": "stream",
     "text": [
      "lr:  0.0001\n",
      "Epoch 78: \n",
      " Train Loss\t0.4724 \n",
      " Val Loss\t0.6637 \n",
      " Val Acc\t0.7097 \n",
      " Val F1\t\t0.8235 \n",
      " Val AUC\t0.4899 \n",
      " Val GMean\t0.3257 \n",
      " Val MCC\t0.1213\n"
     ]
    },
    {
     "name": "stderr",
     "output_type": "stream",
     "text": [
      "100%|███████████████████████████████████████████████████████████████████████████████████████████████████████████████████████████████████| 18/18 [00:00<00:00, 136.88it/s]\n"
     ]
    },
    {
     "name": "stdout",
     "output_type": "stream",
     "text": [
      "lr:  0.0001\n",
      "Epoch 79: \n",
      " Train Loss\t0.4706 \n",
      " Val Loss\t0.6658 \n",
      " Val Acc\t0.6129 \n",
      " Val F1\t\t0.7500 \n",
      " Val AUC\t0.4949 \n",
      " Val GMean\t0.3015 \n",
      " Val MCC\t-0.0873\n"
     ]
    },
    {
     "name": "stderr",
     "output_type": "stream",
     "text": [
      "100%|███████████████████████████████████████████████████████████████████████████████████████████████████████████████████████████████████| 18/18 [00:00<00:00, 136.01it/s]\n"
     ]
    },
    {
     "name": "stdout",
     "output_type": "stream",
     "text": [
      "lr:  0.0001\n",
      "Epoch 80: \n",
      " Train Loss\t0.4687 \n",
      " Val Loss\t0.6685 \n",
      " Val Acc\t0.7097 \n",
      " Val F1\t\t0.8235 \n",
      " Val AUC\t0.4949 \n",
      " Val GMean\t0.3257 \n",
      " Val MCC\t0.1213\n"
     ]
    },
    {
     "name": "stderr",
     "output_type": "stream",
     "text": [
      "100%|███████████████████████████████████████████████████████████████████████████████████████████████████████████████████████████████████| 18/18 [00:00<00:00, 139.13it/s]\n"
     ]
    },
    {
     "name": "stdout",
     "output_type": "stream",
     "text": [
      "lr:  0.0001\n",
      "Epoch 81: \n",
      " Train Loss\t0.4670 \n",
      " Val Loss\t0.6709 \n",
      " Val Acc\t0.7097 \n",
      " Val F1\t\t0.8235 \n",
      " Val AUC\t0.5000 \n",
      " Val GMean\t0.3257 \n",
      " Val MCC\t0.1213\n"
     ]
    },
    {
     "name": "stderr",
     "output_type": "stream",
     "text": [
      "100%|███████████████████████████████████████████████████████████████████████████████████████████████████████████████████████████████████| 18/18 [00:00<00:00, 139.13it/s]\n"
     ]
    },
    {
     "name": "stdout",
     "output_type": "stream",
     "text": [
      "lr:  0.0001\n",
      "Epoch 82: \n",
      " Train Loss\t0.4648 \n",
      " Val Loss\t0.6731 \n",
      " Val Acc\t0.6774 \n",
      " Val F1\t\t0.8000 \n",
      " Val AUC\t0.4949 \n",
      " Val GMean\t0.3178 \n",
      " Val MCC\t0.0310\n"
     ]
    },
    {
     "name": "stderr",
     "output_type": "stream",
     "text": [
      "100%|███████████████████████████████████████████████████████████████████████████████████████████████████████████████████████████████████| 18/18 [00:00<00:00, 137.52it/s]\n"
     ]
    },
    {
     "name": "stdout",
     "output_type": "stream",
     "text": [
      "lr:  0.0001\n",
      "Epoch 83: \n",
      " Train Loss\t0.4626 \n",
      " Val Loss\t0.6752 \n",
      " Val Acc\t0.6774 \n",
      " Val F1\t\t0.8000 \n",
      " Val AUC\t0.5152 \n",
      " Val GMean\t0.3178 \n",
      " Val MCC\t0.0310\n"
     ]
    },
    {
     "name": "stderr",
     "output_type": "stream",
     "text": [
      "100%|███████████████████████████████████████████████████████████████████████████████████████████████████████████████████████████████████| 18/18 [00:00<00:00, 137.17it/s]\n"
     ]
    },
    {
     "name": "stdout",
     "output_type": "stream",
     "text": [
      "lr:  0.0001\n",
      "Epoch 84: \n",
      " Train Loss\t0.4604 \n",
      " Val Loss\t0.6773 \n",
      " Val Acc\t0.6452 \n",
      " Val F1\t\t0.7755 \n",
      " Val AUC\t0.5303 \n",
      " Val GMean\t0.3098 \n",
      " Val MCC\t-0.0342\n"
     ]
    },
    {
     "name": "stderr",
     "output_type": "stream",
     "text": [
      "100%|███████████████████████████████████████████████████████████████████████████████████████████████████████████████████████████████████| 18/18 [00:00<00:00, 138.96it/s]\n"
     ]
    },
    {
     "name": "stdout",
     "output_type": "stream",
     "text": [
      "lr:  0.0001\n",
      "Epoch 85: \n",
      " Train Loss\t0.4583 \n",
      " Val Loss\t0.6800 \n",
      " Val Acc\t0.7097 \n",
      " Val F1\t\t0.8235 \n",
      " Val AUC\t0.5253 \n",
      " Val GMean\t0.3257 \n",
      " Val MCC\t0.1213\n"
     ]
    },
    {
     "name": "stderr",
     "output_type": "stream",
     "text": [
      "100%|███████████████████████████████████████████████████████████████████████████████████████████████████████████████████████████████████| 18/18 [00:00<00:00, 135.26it/s]\n"
     ]
    },
    {
     "name": "stdout",
     "output_type": "stream",
     "text": [
      "lr:  0.0001\n",
      "Epoch 86: \n",
      " Train Loss\t0.4562 \n",
      " Val Loss\t0.6824 \n",
      " Val Acc\t0.7097 \n",
      " Val F1\t\t0.8235 \n",
      " Val AUC\t0.5051 \n",
      " Val GMean\t0.3257 \n",
      " Val MCC\t0.1213\n"
     ]
    },
    {
     "name": "stderr",
     "output_type": "stream",
     "text": [
      "100%|███████████████████████████████████████████████████████████████████████████████████████████████████████████████████████████████████| 18/18 [00:00<00:00, 136.77it/s]\n"
     ]
    },
    {
     "name": "stdout",
     "output_type": "stream",
     "text": [
      "lr:  0.0001\n",
      "Epoch 87: \n",
      " Train Loss\t0.4545 \n",
      " Val Loss\t0.6845 \n",
      " Val Acc\t0.6129 \n",
      " Val F1\t\t0.7500 \n",
      " Val AUC\t0.5051 \n",
      " Val GMean\t0.3015 \n",
      " Val MCC\t-0.0873\n"
     ]
    },
    {
     "name": "stderr",
     "output_type": "stream",
     "text": [
      "100%|███████████████████████████████████████████████████████████████████████████████████████████████████████████████████████████████████| 18/18 [00:00<00:00, 136.68it/s]\n"
     ]
    },
    {
     "name": "stdout",
     "output_type": "stream",
     "text": [
      "lr:  0.0001\n",
      "Epoch 88: \n",
      " Train Loss\t0.4528 \n",
      " Val Loss\t0.6866 \n",
      " Val Acc\t0.6452 \n",
      " Val F1\t\t0.7755 \n",
      " Val AUC\t0.5101 \n",
      " Val GMean\t0.3098 \n",
      " Val MCC\t-0.0342\n"
     ]
    },
    {
     "name": "stderr",
     "output_type": "stream",
     "text": [
      "100%|███████████████████████████████████████████████████████████████████████████████████████████████████████████████████████████████████| 18/18 [00:00<00:00, 140.32it/s]\n"
     ]
    },
    {
     "name": "stdout",
     "output_type": "stream",
     "text": [
      "lr:  0.0001\n",
      "Epoch 89: \n",
      " Train Loss\t0.4503 \n",
      " Val Loss\t0.6889 \n",
      " Val Acc\t0.6452 \n",
      " Val F1\t\t0.7755 \n",
      " Val AUC\t0.5152 \n",
      " Val GMean\t0.3098 \n",
      " Val MCC\t-0.0342\n"
     ]
    },
    {
     "name": "stderr",
     "output_type": "stream",
     "text": [
      "100%|███████████████████████████████████████████████████████████████████████████████████████████████████████████████████████████████████| 18/18 [00:00<00:00, 137.11it/s]\n"
     ]
    },
    {
     "name": "stdout",
     "output_type": "stream",
     "text": [
      "lr:  0.0001\n",
      "Epoch 90: \n",
      " Train Loss\t0.4485 \n",
      " Val Loss\t0.6912 \n",
      " Val Acc\t0.6452 \n",
      " Val F1\t\t0.7755 \n",
      " Val AUC\t0.5253 \n",
      " Val GMean\t0.3098 \n",
      " Val MCC\t-0.0342\n"
     ]
    },
    {
     "name": "stderr",
     "output_type": "stream",
     "text": [
      "100%|███████████████████████████████████████████████████████████████████████████████████████████████████████████████████████████████████| 18/18 [00:00<00:00, 137.05it/s]\n"
     ]
    },
    {
     "name": "stdout",
     "output_type": "stream",
     "text": [
      "lr:  0.0001\n",
      "Epoch 91: \n",
      " Train Loss\t0.4467 \n",
      " Val Loss\t0.6934 \n",
      " Val Acc\t0.6452 \n",
      " Val F1\t\t0.7755 \n",
      " Val AUC\t0.5051 \n",
      " Val GMean\t0.3098 \n",
      " Val MCC\t-0.0342\n"
     ]
    },
    {
     "name": "stderr",
     "output_type": "stream",
     "text": [
      "100%|███████████████████████████████████████████████████████████████████████████████████████████████████████████████████████████████████| 18/18 [00:00<00:00, 137.67it/s]\n"
     ]
    },
    {
     "name": "stdout",
     "output_type": "stream",
     "text": [
      "lr:  0.0001\n",
      "Epoch 92: \n",
      " Train Loss\t0.4448 \n",
      " Val Loss\t0.6956 \n",
      " Val Acc\t0.6452 \n",
      " Val F1\t\t0.7755 \n",
      " Val AUC\t0.5051 \n",
      " Val GMean\t0.3098 \n",
      " Val MCC\t-0.0342\n"
     ]
    },
    {
     "name": "stderr",
     "output_type": "stream",
     "text": [
      "100%|███████████████████████████████████████████████████████████████████████████████████████████████████████████████████████████████████| 18/18 [00:00<00:00, 134.75it/s]\n"
     ]
    },
    {
     "name": "stdout",
     "output_type": "stream",
     "text": [
      "lr:  0.0001\n",
      "Epoch 93: \n",
      " Train Loss\t0.4427 \n",
      " Val Loss\t0.6981 \n",
      " Val Acc\t0.7097 \n",
      " Val F1\t\t0.8235 \n",
      " Val AUC\t0.5051 \n",
      " Val GMean\t0.3257 \n",
      " Val MCC\t0.1213\n"
     ]
    },
    {
     "name": "stderr",
     "output_type": "stream",
     "text": [
      "100%|███████████████████████████████████████████████████████████████████████████████████████████████████████████████████████████████████| 18/18 [00:00<00:00, 136.54it/s]\n"
     ]
    },
    {
     "name": "stdout",
     "output_type": "stream",
     "text": [
      "lr:  0.0001\n",
      "Epoch 94: \n",
      " Train Loss\t0.4410 \n",
      " Val Loss\t0.7004 \n",
      " Val Acc\t0.6774 \n",
      " Val F1\t\t0.8000 \n",
      " Val AUC\t0.5152 \n",
      " Val GMean\t0.3178 \n",
      " Val MCC\t0.0310\n"
     ]
    },
    {
     "name": "stderr",
     "output_type": "stream",
     "text": [
      "100%|███████████████████████████████████████████████████████████████████████████████████████████████████████████████████████████████████| 18/18 [00:00<00:00, 136.68it/s]\n"
     ]
    },
    {
     "name": "stdout",
     "output_type": "stream",
     "text": [
      "lr:  0.0001\n",
      "Epoch 95: \n",
      " Train Loss\t0.4389 \n",
      " Val Loss\t0.7032 \n",
      " Val Acc\t0.7097 \n",
      " Val F1\t\t0.8235 \n",
      " Val AUC\t0.5253 \n",
      " Val GMean\t0.3257 \n",
      " Val MCC\t0.1213\n"
     ]
    },
    {
     "name": "stderr",
     "output_type": "stream",
     "text": [
      "100%|███████████████████████████████████████████████████████████████████████████████████████████████████████████████████████████████████| 18/18 [00:00<00:00, 135.81it/s]\n"
     ]
    },
    {
     "name": "stdout",
     "output_type": "stream",
     "text": [
      "lr:  0.0001\n",
      "Epoch 96: \n",
      " Train Loss\t0.4372 \n",
      " Val Loss\t0.7055 \n",
      " Val Acc\t0.6129 \n",
      " Val F1\t\t0.7500 \n",
      " Val AUC\t0.5152 \n",
      " Val GMean\t0.3015 \n",
      " Val MCC\t-0.0873\n"
     ]
    },
    {
     "name": "stderr",
     "output_type": "stream",
     "text": [
      "100%|███████████████████████████████████████████████████████████████████████████████████████████████████████████████████████████████████| 18/18 [00:00<00:00, 136.65it/s]\n"
     ]
    },
    {
     "name": "stdout",
     "output_type": "stream",
     "text": [
      "lr:  0.0001\n",
      "Epoch 97: \n",
      " Train Loss\t0.4354 \n",
      " Val Loss\t0.7076 \n",
      " Val Acc\t0.6129 \n",
      " Val F1\t\t0.7500 \n",
      " Val AUC\t0.5152 \n",
      " Val GMean\t0.3015 \n",
      " Val MCC\t-0.0873\n"
     ]
    },
    {
     "name": "stderr",
     "output_type": "stream",
     "text": [
      "100%|███████████████████████████████████████████████████████████████████████████████████████████████████████████████████████████████████| 18/18 [00:00<00:00, 136.08it/s]\n"
     ]
    },
    {
     "name": "stdout",
     "output_type": "stream",
     "text": [
      "lr:  0.0001\n",
      "Epoch 98: \n",
      " Train Loss\t0.4336 \n",
      " Val Loss\t0.7103 \n",
      " Val Acc\t0.6774 \n",
      " Val F1\t\t0.8000 \n",
      " Val AUC\t0.5253 \n",
      " Val GMean\t0.3178 \n",
      " Val MCC\t0.0310\n"
     ]
    },
    {
     "name": "stderr",
     "output_type": "stream",
     "text": [
      "100%|███████████████████████████████████████████████████████████████████████████████████████████████████████████████████████████████████| 18/18 [00:00<00:00, 142.00it/s]\n"
     ]
    },
    {
     "name": "stdout",
     "output_type": "stream",
     "text": [
      "lr:  0.0001\n",
      "Epoch 99: \n",
      " Train Loss\t0.4316 \n",
      " Val Loss\t0.7133 \n",
      " Val Acc\t0.6774 \n",
      " Val F1\t\t0.8000 \n",
      " Val AUC\t0.5202 \n",
      " Val GMean\t0.3178 \n",
      " Val MCC\t0.0310\n",
      "=========================================================\n",
      "fold 8 as val set\n",
      "model parameters:  418817\n"
     ]
    },
    {
     "name": "stderr",
     "output_type": "stream",
     "text": [
      "100%|███████████████████████████████████████████████████████████████████████████████████████████████████████████████████████████████████| 18/18 [00:00<00:00, 133.43it/s]\n"
     ]
    },
    {
     "name": "stdout",
     "output_type": "stream",
     "text": [
      "lr:  0.0001\n",
      "Epoch 0: \n",
      " Train Loss\t0.6267 \n",
      " Val Loss\t0.6566 \n",
      " Val Acc\t0.6452 \n",
      " Val F1\t\t0.7843 \n",
      " Val AUC\t0.5182 \n",
      " Val GMean\t0.0000 \n",
      " Val MCC\t0.0000\n"
     ]
    },
    {
     "name": "stderr",
     "output_type": "stream",
     "text": [
      "100%|███████████████████████████████████████████████████████████████████████████████████████████████████████████████████████████████████| 18/18 [00:00<00:00, 137.82it/s]\n"
     ]
    },
    {
     "name": "stdout",
     "output_type": "stream",
     "text": [
      "lr:  0.0001\n",
      "Epoch 1: \n",
      " Train Loss\t0.6005 \n",
      " Val Loss\t0.6668 \n",
      " Val Acc\t0.6452 \n",
      " Val F1\t\t0.7843 \n",
      " Val AUC\t0.4909 \n",
      " Val GMean\t0.0000 \n",
      " Val MCC\t0.0000\n"
     ]
    },
    {
     "name": "stderr",
     "output_type": "stream",
     "text": [
      "100%|███████████████████████████████████████████████████████████████████████████████████████████████████████████████████████████████████| 18/18 [00:00<00:00, 130.66it/s]\n"
     ]
    },
    {
     "name": "stdout",
     "output_type": "stream",
     "text": [
      "lr:  0.0001\n",
      "Epoch 2: \n",
      " Train Loss\t0.5932 \n",
      " Val Loss\t0.6690 \n",
      " Val Acc\t0.6452 \n",
      " Val F1\t\t0.7843 \n",
      " Val AUC\t0.4682 \n",
      " Val GMean\t0.0000 \n",
      " Val MCC\t0.0000\n"
     ]
    },
    {
     "name": "stderr",
     "output_type": "stream",
     "text": [
      "100%|███████████████████████████████████████████████████████████████████████████████████████████████████████████████████████████████████| 18/18 [00:00<00:00, 138.74it/s]\n"
     ]
    },
    {
     "name": "stdout",
     "output_type": "stream",
     "text": [
      "lr:  0.0001\n",
      "Epoch 3: \n",
      " Train Loss\t0.5894 \n",
      " Val Loss\t0.6690 \n",
      " Val Acc\t0.6452 \n",
      " Val F1\t\t0.7843 \n",
      " Val AUC\t0.4500 \n",
      " Val GMean\t0.0000 \n",
      " Val MCC\t0.0000\n"
     ]
    },
    {
     "name": "stderr",
     "output_type": "stream",
     "text": [
      "100%|███████████████████████████████████████████████████████████████████████████████████████████████████████████████████████████████████| 18/18 [00:00<00:00, 137.41it/s]\n"
     ]
    },
    {
     "name": "stdout",
     "output_type": "stream",
     "text": [
      "lr:  0.0001\n",
      "Epoch 4: \n",
      " Train Loss\t0.5868 \n",
      " Val Loss\t0.6688 \n",
      " Val Acc\t0.6452 \n",
      " Val F1\t\t0.7843 \n",
      " Val AUC\t0.4636 \n",
      " Val GMean\t0.0000 \n",
      " Val MCC\t0.0000\n"
     ]
    },
    {
     "name": "stderr",
     "output_type": "stream",
     "text": [
      "100%|███████████████████████████████████████████████████████████████████████████████████████████████████████████████████████████████████| 18/18 [00:00<00:00, 138.94it/s]\n"
     ]
    },
    {
     "name": "stdout",
     "output_type": "stream",
     "text": [
      "lr:  0.0001\n",
      "Epoch 5: \n",
      " Train Loss\t0.5848 \n",
      " Val Loss\t0.6687 \n",
      " Val Acc\t0.6452 \n",
      " Val F1\t\t0.7843 \n",
      " Val AUC\t0.4727 \n",
      " Val GMean\t0.0000 \n",
      " Val MCC\t0.0000\n"
     ]
    },
    {
     "name": "stderr",
     "output_type": "stream",
     "text": [
      "100%|███████████████████████████████████████████████████████████████████████████████████████████████████████████████████████████████████| 18/18 [00:00<00:00, 134.82it/s]\n"
     ]
    },
    {
     "name": "stdout",
     "output_type": "stream",
     "text": [
      "lr:  0.0001\n",
      "Epoch 6: \n",
      " Train Loss\t0.5834 \n",
      " Val Loss\t0.6687 \n",
      " Val Acc\t0.6452 \n",
      " Val F1\t\t0.7843 \n",
      " Val AUC\t0.4727 \n",
      " Val GMean\t0.0000 \n",
      " Val MCC\t0.0000\n"
     ]
    },
    {
     "name": "stderr",
     "output_type": "stream",
     "text": [
      "100%|███████████████████████████████████████████████████████████████████████████████████████████████████████████████████████████████████| 18/18 [00:00<00:00, 139.77it/s]\n"
     ]
    },
    {
     "name": "stdout",
     "output_type": "stream",
     "text": [
      "lr:  0.0001\n",
      "Epoch 7: \n",
      " Train Loss\t0.5822 \n",
      " Val Loss\t0.6686 \n",
      " Val Acc\t0.6452 \n",
      " Val F1\t\t0.7843 \n",
      " Val AUC\t0.4727 \n",
      " Val GMean\t0.0000 \n",
      " Val MCC\t0.0000\n"
     ]
    },
    {
     "name": "stderr",
     "output_type": "stream",
     "text": [
      "100%|███████████████████████████████████████████████████████████████████████████████████████████████████████████████████████████████████| 18/18 [00:00<00:00, 138.06it/s]\n"
     ]
    },
    {
     "name": "stdout",
     "output_type": "stream",
     "text": [
      "lr:  0.0001\n",
      "Epoch 8: \n",
      " Train Loss\t0.5810 \n",
      " Val Loss\t0.6685 \n",
      " Val Acc\t0.6452 \n",
      " Val F1\t\t0.7843 \n",
      " Val AUC\t0.4727 \n",
      " Val GMean\t0.0000 \n",
      " Val MCC\t0.0000\n"
     ]
    },
    {
     "name": "stderr",
     "output_type": "stream",
     "text": [
      "100%|███████████████████████████████████████████████████████████████████████████████████████████████████████████████████████████████████| 18/18 [00:00<00:00, 138.15it/s]\n"
     ]
    },
    {
     "name": "stdout",
     "output_type": "stream",
     "text": [
      "lr:  0.0001\n",
      "Epoch 9: \n",
      " Train Loss\t0.5800 \n",
      " Val Loss\t0.6684 \n",
      " Val Acc\t0.6452 \n",
      " Val F1\t\t0.7843 \n",
      " Val AUC\t0.4773 \n",
      " Val GMean\t0.0000 \n",
      " Val MCC\t0.0000\n"
     ]
    },
    {
     "name": "stderr",
     "output_type": "stream",
     "text": [
      "100%|███████████████████████████████████████████████████████████████████████████████████████████████████████████████████████████████████| 18/18 [00:00<00:00, 140.99it/s]\n"
     ]
    },
    {
     "name": "stdout",
     "output_type": "stream",
     "text": [
      "lr:  0.0001\n",
      "Epoch 10: \n",
      " Train Loss\t0.5791 \n",
      " Val Loss\t0.6683 \n",
      " Val Acc\t0.6452 \n",
      " Val F1\t\t0.7843 \n",
      " Val AUC\t0.4727 \n",
      " Val GMean\t0.0000 \n",
      " Val MCC\t0.0000\n"
     ]
    },
    {
     "name": "stderr",
     "output_type": "stream",
     "text": [
      "100%|███████████████████████████████████████████████████████████████████████████████████████████████████████████████████████████████████| 18/18 [00:00<00:00, 137.70it/s]\n"
     ]
    },
    {
     "name": "stdout",
     "output_type": "stream",
     "text": [
      "lr:  0.0001\n",
      "Epoch 11: \n",
      " Train Loss\t0.5784 \n",
      " Val Loss\t0.6683 \n",
      " Val Acc\t0.6452 \n",
      " Val F1\t\t0.7843 \n",
      " Val AUC\t0.4727 \n",
      " Val GMean\t0.0000 \n",
      " Val MCC\t0.0000\n"
     ]
    },
    {
     "name": "stderr",
     "output_type": "stream",
     "text": [
      "100%|███████████████████████████████████████████████████████████████████████████████████████████████████████████████████████████████████| 18/18 [00:00<00:00, 141.72it/s]\n"
     ]
    },
    {
     "name": "stdout",
     "output_type": "stream",
     "text": [
      "lr:  0.0001\n",
      "Epoch 12: \n",
      " Train Loss\t0.5776 \n",
      " Val Loss\t0.6682 \n",
      " Val Acc\t0.6452 \n",
      " Val F1\t\t0.7843 \n",
      " Val AUC\t0.4727 \n",
      " Val GMean\t0.0000 \n",
      " Val MCC\t0.0000\n"
     ]
    },
    {
     "name": "stderr",
     "output_type": "stream",
     "text": [
      "100%|███████████████████████████████████████████████████████████████████████████████████████████████████████████████████████████████████| 18/18 [00:00<00:00, 139.52it/s]\n"
     ]
    },
    {
     "name": "stdout",
     "output_type": "stream",
     "text": [
      "lr:  0.0001\n",
      "Epoch 13: \n",
      " Train Loss\t0.5768 \n",
      " Val Loss\t0.6682 \n",
      " Val Acc\t0.6452 \n",
      " Val F1\t\t0.7843 \n",
      " Val AUC\t0.4682 \n",
      " Val GMean\t0.0000 \n",
      " Val MCC\t0.0000\n"
     ]
    },
    {
     "name": "stderr",
     "output_type": "stream",
     "text": [
      "100%|███████████████████████████████████████████████████████████████████████████████████████████████████████████████████████████████████| 18/18 [00:00<00:00, 136.21it/s]\n"
     ]
    },
    {
     "name": "stdout",
     "output_type": "stream",
     "text": [
      "lr:  0.0001\n",
      "Epoch 14: \n",
      " Train Loss\t0.5761 \n",
      " Val Loss\t0.6681 \n",
      " Val Acc\t0.6452 \n",
      " Val F1\t\t0.7843 \n",
      " Val AUC\t0.4636 \n",
      " Val GMean\t0.0000 \n",
      " Val MCC\t0.0000\n"
     ]
    },
    {
     "name": "stderr",
     "output_type": "stream",
     "text": [
      "100%|███████████████████████████████████████████████████████████████████████████████████████████████████████████████████████████████████| 18/18 [00:00<00:00, 134.78it/s]\n"
     ]
    },
    {
     "name": "stdout",
     "output_type": "stream",
     "text": [
      "lr:  0.0001\n",
      "Epoch 15: \n",
      " Train Loss\t0.5753 \n",
      " Val Loss\t0.6681 \n",
      " Val Acc\t0.6452 \n",
      " Val F1\t\t0.7843 \n",
      " Val AUC\t0.4636 \n",
      " Val GMean\t0.0000 \n",
      " Val MCC\t0.0000\n"
     ]
    },
    {
     "name": "stderr",
     "output_type": "stream",
     "text": [
      "100%|███████████████████████████████████████████████████████████████████████████████████████████████████████████████████████████████████| 18/18 [00:00<00:00, 129.01it/s]\n"
     ]
    },
    {
     "name": "stdout",
     "output_type": "stream",
     "text": [
      "lr:  0.0001\n",
      "Epoch 16: \n",
      " Train Loss\t0.5745 \n",
      " Val Loss\t0.6680 \n",
      " Val Acc\t0.6452 \n",
      " Val F1\t\t0.7843 \n",
      " Val AUC\t0.4682 \n",
      " Val GMean\t0.0000 \n",
      " Val MCC\t0.0000\n"
     ]
    },
    {
     "name": "stderr",
     "output_type": "stream",
     "text": [
      "100%|███████████████████████████████████████████████████████████████████████████████████████████████████████████████████████████████████| 18/18 [00:00<00:00, 138.04it/s]\n"
     ]
    },
    {
     "name": "stdout",
     "output_type": "stream",
     "text": [
      "lr:  0.0001\n",
      "Epoch 17: \n",
      " Train Loss\t0.5737 \n",
      " Val Loss\t0.6680 \n",
      " Val Acc\t0.6452 \n",
      " Val F1\t\t0.7843 \n",
      " Val AUC\t0.4682 \n",
      " Val GMean\t0.0000 \n",
      " Val MCC\t0.0000\n"
     ]
    },
    {
     "name": "stderr",
     "output_type": "stream",
     "text": [
      "100%|███████████████████████████████████████████████████████████████████████████████████████████████████████████████████████████████████| 18/18 [00:00<00:00, 133.72it/s]\n"
     ]
    },
    {
     "name": "stdout",
     "output_type": "stream",
     "text": [
      "lr:  0.0001\n",
      "Epoch 18: \n",
      " Train Loss\t0.5730 \n",
      " Val Loss\t0.6680 \n",
      " Val Acc\t0.6452 \n",
      " Val F1\t\t0.7843 \n",
      " Val AUC\t0.4682 \n",
      " Val GMean\t0.0000 \n",
      " Val MCC\t0.0000\n"
     ]
    },
    {
     "name": "stderr",
     "output_type": "stream",
     "text": [
      "100%|███████████████████████████████████████████████████████████████████████████████████████████████████████████████████████████████████| 18/18 [00:00<00:00, 130.87it/s]\n"
     ]
    },
    {
     "name": "stdout",
     "output_type": "stream",
     "text": [
      "lr:  0.0001\n",
      "Epoch 19: \n",
      " Train Loss\t0.5721 \n",
      " Val Loss\t0.6681 \n",
      " Val Acc\t0.6452 \n",
      " Val F1\t\t0.7843 \n",
      " Val AUC\t0.4682 \n",
      " Val GMean\t0.0000 \n",
      " Val MCC\t0.0000\n"
     ]
    },
    {
     "name": "stderr",
     "output_type": "stream",
     "text": [
      "100%|███████████████████████████████████████████████████████████████████████████████████████████████████████████████████████████████████| 18/18 [00:00<00:00, 139.69it/s]\n"
     ]
    },
    {
     "name": "stdout",
     "output_type": "stream",
     "text": [
      "lr:  0.0001\n",
      "Epoch 20: \n",
      " Train Loss\t0.5711 \n",
      " Val Loss\t0.6682 \n",
      " Val Acc\t0.6452 \n",
      " Val F1\t\t0.7843 \n",
      " Val AUC\t0.4682 \n",
      " Val GMean\t0.0000 \n",
      " Val MCC\t0.0000\n"
     ]
    },
    {
     "name": "stderr",
     "output_type": "stream",
     "text": [
      "100%|███████████████████████████████████████████████████████████████████████████████████████████████████████████████████████████████████| 18/18 [00:00<00:00, 135.96it/s]\n"
     ]
    },
    {
     "name": "stdout",
     "output_type": "stream",
     "text": [
      "lr:  0.0001\n",
      "Epoch 21: \n",
      " Train Loss\t0.5701 \n",
      " Val Loss\t0.6683 \n",
      " Val Acc\t0.6452 \n",
      " Val F1\t\t0.7843 \n",
      " Val AUC\t0.4773 \n",
      " Val GMean\t0.0000 \n",
      " Val MCC\t0.0000\n"
     ]
    },
    {
     "name": "stderr",
     "output_type": "stream",
     "text": [
      "100%|███████████████████████████████████████████████████████████████████████████████████████████████████████████████████████████████████| 18/18 [00:00<00:00, 137.57it/s]\n"
     ]
    },
    {
     "name": "stdout",
     "output_type": "stream",
     "text": [
      "lr:  0.0001\n",
      "Epoch 22: \n",
      " Train Loss\t0.5691 \n",
      " Val Loss\t0.6685 \n",
      " Val Acc\t0.6452 \n",
      " Val F1\t\t0.7843 \n",
      " Val AUC\t0.4727 \n",
      " Val GMean\t0.0000 \n",
      " Val MCC\t0.0000\n"
     ]
    },
    {
     "name": "stderr",
     "output_type": "stream",
     "text": [
      "100%|███████████████████████████████████████████████████████████████████████████████████████████████████████████████████████████████████| 18/18 [00:00<00:00, 138.20it/s]\n"
     ]
    },
    {
     "name": "stdout",
     "output_type": "stream",
     "text": [
      "lr:  0.0001\n",
      "Epoch 23: \n",
      " Train Loss\t0.5681 \n",
      " Val Loss\t0.6687 \n",
      " Val Acc\t0.6452 \n",
      " Val F1\t\t0.7843 \n",
      " Val AUC\t0.4682 \n",
      " Val GMean\t0.0000 \n",
      " Val MCC\t0.0000\n"
     ]
    },
    {
     "name": "stderr",
     "output_type": "stream",
     "text": [
      "100%|███████████████████████████████████████████████████████████████████████████████████████████████████████████████████████████████████| 18/18 [00:00<00:00, 122.54it/s]\n"
     ]
    },
    {
     "name": "stdout",
     "output_type": "stream",
     "text": [
      "lr:  0.0001\n",
      "Epoch 24: \n",
      " Train Loss\t0.5670 \n",
      " Val Loss\t0.6688 \n",
      " Val Acc\t0.6452 \n",
      " Val F1\t\t0.7843 \n",
      " Val AUC\t0.4727 \n",
      " Val GMean\t0.0000 \n",
      " Val MCC\t0.0000\n"
     ]
    },
    {
     "name": "stderr",
     "output_type": "stream",
     "text": [
      "100%|███████████████████████████████████████████████████████████████████████████████████████████████████████████████████████████████████| 18/18 [00:00<00:00, 132.72it/s]\n"
     ]
    },
    {
     "name": "stdout",
     "output_type": "stream",
     "text": [
      "lr:  0.0001\n",
      "Epoch 25: \n",
      " Train Loss\t0.5659 \n",
      " Val Loss\t0.6690 \n",
      " Val Acc\t0.6452 \n",
      " Val F1\t\t0.7843 \n",
      " Val AUC\t0.4727 \n",
      " Val GMean\t0.0000 \n",
      " Val MCC\t0.0000\n"
     ]
    },
    {
     "name": "stderr",
     "output_type": "stream",
     "text": [
      "100%|███████████████████████████████████████████████████████████████████████████████████████████████████████████████████████████████████| 18/18 [00:00<00:00, 139.98it/s]\n"
     ]
    },
    {
     "name": "stdout",
     "output_type": "stream",
     "text": [
      "lr:  0.0001\n",
      "Epoch 26: \n",
      " Train Loss\t0.5647 \n",
      " Val Loss\t0.6693 \n",
      " Val Acc\t0.6452 \n",
      " Val F1\t\t0.7843 \n",
      " Val AUC\t0.4773 \n",
      " Val GMean\t0.0000 \n",
      " Val MCC\t0.0000\n"
     ]
    },
    {
     "name": "stderr",
     "output_type": "stream",
     "text": [
      "100%|███████████████████████████████████████████████████████████████████████████████████████████████████████████████████████████████████| 18/18 [00:00<00:00, 125.23it/s]\n"
     ]
    },
    {
     "name": "stdout",
     "output_type": "stream",
     "text": [
      "lr:  0.0001\n",
      "Epoch 27: \n",
      " Train Loss\t0.5635 \n",
      " Val Loss\t0.6695 \n",
      " Val Acc\t0.6452 \n",
      " Val F1\t\t0.7843 \n",
      " Val AUC\t0.4818 \n",
      " Val GMean\t0.0000 \n",
      " Val MCC\t0.0000\n"
     ]
    },
    {
     "name": "stderr",
     "output_type": "stream",
     "text": [
      "100%|███████████████████████████████████████████████████████████████████████████████████████████████████████████████████████████████████| 18/18 [00:00<00:00, 134.99it/s]\n"
     ]
    },
    {
     "name": "stdout",
     "output_type": "stream",
     "text": [
      "lr:  0.0001\n",
      "Epoch 28: \n",
      " Train Loss\t0.5624 \n",
      " Val Loss\t0.6698 \n",
      " Val Acc\t0.6452 \n",
      " Val F1\t\t0.7843 \n",
      " Val AUC\t0.4773 \n",
      " Val GMean\t0.0000 \n",
      " Val MCC\t0.0000\n"
     ]
    },
    {
     "name": "stderr",
     "output_type": "stream",
     "text": [
      "100%|███████████████████████████████████████████████████████████████████████████████████████████████████████████████████████████████████| 18/18 [00:00<00:00, 138.00it/s]\n"
     ]
    },
    {
     "name": "stdout",
     "output_type": "stream",
     "text": [
      "lr:  0.0001\n",
      "Epoch 29: \n",
      " Train Loss\t0.5610 \n",
      " Val Loss\t0.6700 \n",
      " Val Acc\t0.6452 \n",
      " Val F1\t\t0.7843 \n",
      " Val AUC\t0.4773 \n",
      " Val GMean\t0.0000 \n",
      " Val MCC\t0.0000\n"
     ]
    },
    {
     "name": "stderr",
     "output_type": "stream",
     "text": [
      "100%|███████████████████████████████████████████████████████████████████████████████████████████████████████████████████████████████████| 18/18 [00:00<00:00, 138.50it/s]\n"
     ]
    },
    {
     "name": "stdout",
     "output_type": "stream",
     "text": [
      "lr:  0.0001\n",
      "Epoch 30: \n",
      " Train Loss\t0.5596 \n",
      " Val Loss\t0.6703 \n",
      " Val Acc\t0.6452 \n",
      " Val F1\t\t0.7843 \n",
      " Val AUC\t0.4773 \n",
      " Val GMean\t0.0000 \n",
      " Val MCC\t0.0000\n"
     ]
    },
    {
     "name": "stderr",
     "output_type": "stream",
     "text": [
      "100%|███████████████████████████████████████████████████████████████████████████████████████████████████████████████████████████████████| 18/18 [00:00<00:00, 139.49it/s]\n"
     ]
    },
    {
     "name": "stdout",
     "output_type": "stream",
     "text": [
      "lr:  0.0001\n",
      "Epoch 31: \n",
      " Train Loss\t0.5583 \n",
      " Val Loss\t0.6706 \n",
      " Val Acc\t0.6452 \n",
      " Val F1\t\t0.7843 \n",
      " Val AUC\t0.4727 \n",
      " Val GMean\t0.0000 \n",
      " Val MCC\t0.0000\n"
     ]
    },
    {
     "name": "stderr",
     "output_type": "stream",
     "text": [
      "100%|███████████████████████████████████████████████████████████████████████████████████████████████████████████████████████████████████| 18/18 [00:00<00:00, 133.27it/s]\n"
     ]
    },
    {
     "name": "stdout",
     "output_type": "stream",
     "text": [
      "lr:  0.0001\n",
      "Epoch 32: \n",
      " Train Loss\t0.5569 \n",
      " Val Loss\t0.6709 \n",
      " Val Acc\t0.6452 \n",
      " Val F1\t\t0.7843 \n",
      " Val AUC\t0.4818 \n",
      " Val GMean\t0.0000 \n",
      " Val MCC\t0.0000\n"
     ]
    },
    {
     "name": "stderr",
     "output_type": "stream",
     "text": [
      "100%|███████████████████████████████████████████████████████████████████████████████████████████████████████████████████████████████████| 18/18 [00:00<00:00, 132.66it/s]\n"
     ]
    },
    {
     "name": "stdout",
     "output_type": "stream",
     "text": [
      "lr:  0.0001\n",
      "Epoch 33: \n",
      " Train Loss\t0.5554 \n",
      " Val Loss\t0.6712 \n",
      " Val Acc\t0.6452 \n",
      " Val F1\t\t0.7843 \n",
      " Val AUC\t0.4864 \n",
      " Val GMean\t0.0000 \n",
      " Val MCC\t0.0000\n"
     ]
    },
    {
     "name": "stderr",
     "output_type": "stream",
     "text": [
      "100%|███████████████████████████████████████████████████████████████████████████████████████████████████████████████████████████████████| 18/18 [00:00<00:00, 139.47it/s]\n"
     ]
    },
    {
     "name": "stdout",
     "output_type": "stream",
     "text": [
      "lr:  0.0001\n",
      "Epoch 34: \n",
      " Train Loss\t0.5538 \n",
      " Val Loss\t0.6716 \n",
      " Val Acc\t0.6129 \n",
      " Val F1\t\t0.7600 \n",
      " Val AUC\t0.4909 \n",
      " Val GMean\t0.0000 \n",
      " Val MCC\t-0.1354\n"
     ]
    },
    {
     "name": "stderr",
     "output_type": "stream",
     "text": [
      "100%|███████████████████████████████████████████████████████████████████████████████████████████████████████████████████████████████████| 18/18 [00:00<00:00, 133.95it/s]\n"
     ]
    },
    {
     "name": "stdout",
     "output_type": "stream",
     "text": [
      "lr:  0.0001\n",
      "Epoch 35: \n",
      " Train Loss\t0.5521 \n",
      " Val Loss\t0.6720 \n",
      " Val Acc\t0.6129 \n",
      " Val F1\t\t0.7600 \n",
      " Val AUC\t0.4955 \n",
      " Val GMean\t0.0000 \n",
      " Val MCC\t-0.1354\n"
     ]
    },
    {
     "name": "stderr",
     "output_type": "stream",
     "text": [
      "100%|███████████████████████████████████████████████████████████████████████████████████████████████████████████████████████████████████| 18/18 [00:00<00:00, 143.14it/s]\n"
     ]
    },
    {
     "name": "stdout",
     "output_type": "stream",
     "text": [
      "lr:  0.0001\n",
      "Epoch 36: \n",
      " Train Loss\t0.5506 \n",
      " Val Loss\t0.6724 \n",
      " Val Acc\t0.6129 \n",
      " Val F1\t\t0.7600 \n",
      " Val AUC\t0.4909 \n",
      " Val GMean\t0.0000 \n",
      " Val MCC\t-0.1354\n"
     ]
    },
    {
     "name": "stderr",
     "output_type": "stream",
     "text": [
      "100%|███████████████████████████████████████████████████████████████████████████████████████████████████████████████████████████████████| 18/18 [00:00<00:00, 139.32it/s]\n"
     ]
    },
    {
     "name": "stdout",
     "output_type": "stream",
     "text": [
      "lr:  0.0001\n",
      "Epoch 37: \n",
      " Train Loss\t0.5488 \n",
      " Val Loss\t0.6729 \n",
      " Val Acc\t0.6129 \n",
      " Val F1\t\t0.7600 \n",
      " Val AUC\t0.4955 \n",
      " Val GMean\t0.0000 \n",
      " Val MCC\t-0.1354\n"
     ]
    },
    {
     "name": "stderr",
     "output_type": "stream",
     "text": [
      "100%|███████████████████████████████████████████████████████████████████████████████████████████████████████████████████████████████████| 18/18 [00:00<00:00, 137.61it/s]\n"
     ]
    },
    {
     "name": "stdout",
     "output_type": "stream",
     "text": [
      "lr:  0.0001\n",
      "Epoch 38: \n",
      " Train Loss\t0.5471 \n",
      " Val Loss\t0.6734 \n",
      " Val Acc\t0.5806 \n",
      " Val F1\t\t0.7347 \n",
      " Val AUC\t0.5000 \n",
      " Val GMean\t0.0000 \n",
      " Val MCC\t-0.1948\n"
     ]
    },
    {
     "name": "stderr",
     "output_type": "stream",
     "text": [
      "100%|███████████████████████████████████████████████████████████████████████████████████████████████████████████████████████████████████| 18/18 [00:00<00:00, 130.64it/s]\n"
     ]
    },
    {
     "name": "stdout",
     "output_type": "stream",
     "text": [
      "lr:  0.0001\n",
      "Epoch 39: \n",
      " Train Loss\t0.5453 \n",
      " Val Loss\t0.6739 \n",
      " Val Acc\t0.5484 \n",
      " Val F1\t\t0.7083 \n",
      " Val AUC\t0.4909 \n",
      " Val GMean\t0.0000 \n",
      " Val MCC\t-0.2428\n"
     ]
    },
    {
     "name": "stderr",
     "output_type": "stream",
     "text": [
      "100%|███████████████████████████████████████████████████████████████████████████████████████████████████████████████████████████████████| 18/18 [00:00<00:00, 138.06it/s]\n"
     ]
    },
    {
     "name": "stdout",
     "output_type": "stream",
     "text": [
      "lr:  0.0001\n",
      "Epoch 40: \n",
      " Train Loss\t0.5434 \n",
      " Val Loss\t0.6745 \n",
      " Val Acc\t0.5484 \n",
      " Val F1\t\t0.6957 \n",
      " Val AUC\t0.4955 \n",
      " Val GMean\t0.2697 \n",
      " Val MCC\t-0.1419\n"
     ]
    },
    {
     "name": "stderr",
     "output_type": "stream",
     "text": [
      "100%|███████████████████████████████████████████████████████████████████████████████████████████████████████████████████████████████████| 18/18 [00:00<00:00, 133.31it/s]\n"
     ]
    },
    {
     "name": "stdout",
     "output_type": "stream",
     "text": [
      "lr:  0.0001\n",
      "Epoch 41: \n",
      " Train Loss\t0.5412 \n",
      " Val Loss\t0.6751 \n",
      " Val Acc\t0.5161 \n",
      " Val F1\t\t0.6809 \n",
      " Val AUC\t0.5000 \n",
      " Val GMean\t0.0000 \n",
      " Val MCC\t-0.2854\n"
     ]
    },
    {
     "name": "stderr",
     "output_type": "stream",
     "text": [
      "100%|███████████████████████████████████████████████████████████████████████████████████████████████████████████████████████████████████| 18/18 [00:00<00:00, 134.60it/s]\n"
     ]
    },
    {
     "name": "stdout",
     "output_type": "stream",
     "text": [
      "lr:  0.0001\n",
      "Epoch 42: \n",
      " Train Loss\t0.5392 \n",
      " Val Loss\t0.6757 \n",
      " Val Acc\t0.5484 \n",
      " Val F1\t\t0.6957 \n",
      " Val AUC\t0.4864 \n",
      " Val GMean\t0.2697 \n",
      " Val MCC\t-0.1419\n"
     ]
    },
    {
     "name": "stderr",
     "output_type": "stream",
     "text": [
      "100%|███████████████████████████████████████████████████████████████████████████████████████████████████████████████████████████████████| 18/18 [00:00<00:00, 137.58it/s]\n"
     ]
    },
    {
     "name": "stdout",
     "output_type": "stream",
     "text": [
      "lr:  0.0001\n",
      "Epoch 43: \n",
      " Train Loss\t0.5370 \n",
      " Val Loss\t0.6765 \n",
      " Val Acc\t0.5484 \n",
      " Val F1\t\t0.6957 \n",
      " Val AUC\t0.4909 \n",
      " Val GMean\t0.2697 \n",
      " Val MCC\t-0.1419\n"
     ]
    },
    {
     "name": "stderr",
     "output_type": "stream",
     "text": [
      "100%|███████████████████████████████████████████████████████████████████████████████████████████████████████████████████████████████████| 18/18 [00:00<00:00, 137.20it/s]\n"
     ]
    },
    {
     "name": "stdout",
     "output_type": "stream",
     "text": [
      "lr:  0.0001\n",
      "Epoch 44: \n",
      " Train Loss\t0.5349 \n",
      " Val Loss\t0.6772 \n",
      " Val Acc\t0.5484 \n",
      " Val F1\t\t0.6957 \n",
      " Val AUC\t0.4864 \n",
      " Val GMean\t0.2697 \n",
      " Val MCC\t-0.1419\n"
     ]
    },
    {
     "name": "stderr",
     "output_type": "stream",
     "text": [
      "100%|███████████████████████████████████████████████████████████████████████████████████████████████████████████████████████████████████| 18/18 [00:00<00:00, 137.51it/s]\n"
     ]
    },
    {
     "name": "stdout",
     "output_type": "stream",
     "text": [
      "lr:  0.0001\n",
      "Epoch 45: \n",
      " Train Loss\t0.5325 \n",
      " Val Loss\t0.6781 \n",
      " Val Acc\t0.5484 \n",
      " Val F1\t\t0.6957 \n",
      " Val AUC\t0.4955 \n",
      " Val GMean\t0.2697 \n",
      " Val MCC\t-0.1419\n"
     ]
    },
    {
     "name": "stderr",
     "output_type": "stream",
     "text": [
      "100%|███████████████████████████████████████████████████████████████████████████████████████████████████████████████████████████████████| 18/18 [00:00<00:00, 136.85it/s]\n"
     ]
    },
    {
     "name": "stdout",
     "output_type": "stream",
     "text": [
      "lr:  0.0001\n",
      "Epoch 46: \n",
      " Train Loss\t0.5305 \n",
      " Val Loss\t0.6790 \n",
      " Val Acc\t0.5484 \n",
      " Val F1\t\t0.6957 \n",
      " Val AUC\t0.4818 \n",
      " Val GMean\t0.2697 \n",
      " Val MCC\t-0.1419\n"
     ]
    },
    {
     "name": "stderr",
     "output_type": "stream",
     "text": [
      "100%|███████████████████████████████████████████████████████████████████████████████████████████████████████████████████████████████████| 18/18 [00:00<00:00, 138.65it/s]\n"
     ]
    },
    {
     "name": "stdout",
     "output_type": "stream",
     "text": [
      "lr:  0.0001\n",
      "Epoch 47: \n",
      " Train Loss\t0.5283 \n",
      " Val Loss\t0.6799 \n",
      " Val Acc\t0.5484 \n",
      " Val F1\t\t0.6957 \n",
      " Val AUC\t0.4864 \n",
      " Val GMean\t0.2697 \n",
      " Val MCC\t-0.1419\n"
     ]
    },
    {
     "name": "stderr",
     "output_type": "stream",
     "text": [
      "100%|███████████████████████████████████████████████████████████████████████████████████████████████████████████████████████████████████| 18/18 [00:00<00:00, 134.10it/s]\n"
     ]
    },
    {
     "name": "stdout",
     "output_type": "stream",
     "text": [
      "lr:  0.0001\n",
      "Epoch 48: \n",
      " Train Loss\t0.5259 \n",
      " Val Loss\t0.6808 \n",
      " Val Acc\t0.5484 \n",
      " Val F1\t\t0.6957 \n",
      " Val AUC\t0.4818 \n",
      " Val GMean\t0.2697 \n",
      " Val MCC\t-0.1419\n"
     ]
    },
    {
     "name": "stderr",
     "output_type": "stream",
     "text": [
      "100%|███████████████████████████████████████████████████████████████████████████████████████████████████████████████████████████████████| 18/18 [00:00<00:00, 136.82it/s]\n"
     ]
    },
    {
     "name": "stdout",
     "output_type": "stream",
     "text": [
      "lr:  0.0001\n",
      "Epoch 49: \n",
      " Train Loss\t0.5236 \n",
      " Val Loss\t0.6819 \n",
      " Val Acc\t0.5484 \n",
      " Val F1\t\t0.6957 \n",
      " Val AUC\t0.4818 \n",
      " Val GMean\t0.2697 \n",
      " Val MCC\t-0.1419\n"
     ]
    },
    {
     "name": "stderr",
     "output_type": "stream",
     "text": [
      "100%|███████████████████████████████████████████████████████████████████████████████████████████████████████████████████████████████████| 18/18 [00:00<00:00, 130.86it/s]\n"
     ]
    },
    {
     "name": "stdout",
     "output_type": "stream",
     "text": [
      "lr:  0.0001\n",
      "Epoch 50: \n",
      " Train Loss\t0.5214 \n",
      " Val Loss\t0.6831 \n",
      " Val Acc\t0.5161 \n",
      " Val F1\t\t0.6809 \n",
      " Val AUC\t0.4818 \n",
      " Val GMean\t0.0000 \n",
      " Val MCC\t-0.2854\n"
     ]
    },
    {
     "name": "stderr",
     "output_type": "stream",
     "text": [
      "100%|███████████████████████████████████████████████████████████████████████████████████████████████████████████████████████████████████| 18/18 [00:00<00:00, 130.28it/s]\n"
     ]
    },
    {
     "name": "stdout",
     "output_type": "stream",
     "text": [
      "lr:  0.0001\n",
      "Epoch 51: \n",
      " Train Loss\t0.5193 \n",
      " Val Loss\t0.6842 \n",
      " Val Acc\t0.5484 \n",
      " Val F1\t\t0.6957 \n",
      " Val AUC\t0.4909 \n",
      " Val GMean\t0.2697 \n",
      " Val MCC\t-0.1419\n"
     ]
    },
    {
     "name": "stderr",
     "output_type": "stream",
     "text": [
      "100%|███████████████████████████████████████████████████████████████████████████████████████████████████████████████████████████████████| 18/18 [00:00<00:00, 136.86it/s]\n"
     ]
    },
    {
     "name": "stdout",
     "output_type": "stream",
     "text": [
      "lr:  0.0001\n",
      "Epoch 52: \n",
      " Train Loss\t0.5169 \n",
      " Val Loss\t0.6854 \n",
      " Val Acc\t0.5484 \n",
      " Val F1\t\t0.6957 \n",
      " Val AUC\t0.4773 \n",
      " Val GMean\t0.2697 \n",
      " Val MCC\t-0.1419\n"
     ]
    },
    {
     "name": "stderr",
     "output_type": "stream",
     "text": [
      "100%|███████████████████████████████████████████████████████████████████████████████████████████████████████████████████████████████████| 18/18 [00:00<00:00, 137.00it/s]\n"
     ]
    },
    {
     "name": "stdout",
     "output_type": "stream",
     "text": [
      "lr:  0.0001\n",
      "Epoch 53: \n",
      " Train Loss\t0.5144 \n",
      " Val Loss\t0.6868 \n",
      " Val Acc\t0.5484 \n",
      " Val F1\t\t0.6957 \n",
      " Val AUC\t0.4818 \n",
      " Val GMean\t0.2697 \n",
      " Val MCC\t-0.1419\n"
     ]
    },
    {
     "name": "stderr",
     "output_type": "stream",
     "text": [
      "100%|███████████████████████████████████████████████████████████████████████████████████████████████████████████████████████████████████| 18/18 [00:00<00:00, 138.19it/s]\n"
     ]
    },
    {
     "name": "stdout",
     "output_type": "stream",
     "text": [
      "lr:  0.0001\n",
      "Epoch 54: \n",
      " Train Loss\t0.5116 \n",
      " Val Loss\t0.6881 \n",
      " Val Acc\t0.5484 \n",
      " Val F1\t\t0.6957 \n",
      " Val AUC\t0.4864 \n",
      " Val GMean\t0.2697 \n",
      " Val MCC\t-0.1419\n"
     ]
    },
    {
     "name": "stderr",
     "output_type": "stream",
     "text": [
      "100%|███████████████████████████████████████████████████████████████████████████████████████████████████████████████████████████████████| 18/18 [00:00<00:00, 139.46it/s]\n"
     ]
    },
    {
     "name": "stdout",
     "output_type": "stream",
     "text": [
      "lr:  0.0001\n",
      "Epoch 55: \n",
      " Train Loss\t0.5089 \n",
      " Val Loss\t0.6896 \n",
      " Val Acc\t0.5161 \n",
      " Val F1\t\t0.6667 \n",
      " Val AUC\t0.4864 \n",
      " Val GMean\t0.2611 \n",
      " Val MCC\t-0.1927\n"
     ]
    },
    {
     "name": "stderr",
     "output_type": "stream",
     "text": [
      "100%|███████████████████████████████████████████████████████████████████████████████████████████████████████████████████████████████████| 18/18 [00:00<00:00, 139.10it/s]\n"
     ]
    },
    {
     "name": "stdout",
     "output_type": "stream",
     "text": [
      "lr:  0.0001\n",
      "Epoch 56: \n",
      " Train Loss\t0.5064 \n",
      " Val Loss\t0.6913 \n",
      " Val Acc\t0.5484 \n",
      " Val F1\t\t0.6957 \n",
      " Val AUC\t0.4818 \n",
      " Val GMean\t0.2697 \n",
      " Val MCC\t-0.1419\n"
     ]
    },
    {
     "name": "stderr",
     "output_type": "stream",
     "text": [
      "100%|███████████████████████████████████████████████████████████████████████████████████████████████████████████████████████████████████| 18/18 [00:00<00:00, 138.41it/s]\n"
     ]
    },
    {
     "name": "stdout",
     "output_type": "stream",
     "text": [
      "lr:  0.0001\n",
      "Epoch 57: \n",
      " Train Loss\t0.5041 \n",
      " Val Loss\t0.6928 \n",
      " Val Acc\t0.5484 \n",
      " Val F1\t\t0.6957 \n",
      " Val AUC\t0.4909 \n",
      " Val GMean\t0.2697 \n",
      " Val MCC\t-0.1419\n"
     ]
    },
    {
     "name": "stderr",
     "output_type": "stream",
     "text": [
      "100%|███████████████████████████████████████████████████████████████████████████████████████████████████████████████████████████████████| 18/18 [00:00<00:00, 136.94it/s]\n"
     ]
    },
    {
     "name": "stdout",
     "output_type": "stream",
     "text": [
      "lr:  0.0001\n",
      "Epoch 58: \n",
      " Train Loss\t0.5016 \n",
      " Val Loss\t0.6945 \n",
      " Val Acc\t0.5484 \n",
      " Val F1\t\t0.6957 \n",
      " Val AUC\t0.4909 \n",
      " Val GMean\t0.2697 \n",
      " Val MCC\t-0.1419\n"
     ]
    },
    {
     "name": "stderr",
     "output_type": "stream",
     "text": [
      "100%|███████████████████████████████████████████████████████████████████████████████████████████████████████████████████████████████████| 18/18 [00:00<00:00, 138.57it/s]\n"
     ]
    },
    {
     "name": "stdout",
     "output_type": "stream",
     "text": [
      "lr:  0.0001\n",
      "Epoch 59: \n",
      " Train Loss\t0.4993 \n",
      " Val Loss\t0.6960 \n",
      " Val Acc\t0.5806 \n",
      " Val F1\t\t0.7111 \n",
      " Val AUC\t0.4955 \n",
      " Val GMean\t0.3814 \n",
      " Val MCC\t-0.0220\n"
     ]
    },
    {
     "name": "stderr",
     "output_type": "stream",
     "text": [
      "100%|███████████████████████████████████████████████████████████████████████████████████████████████████████████████████████████████████| 18/18 [00:00<00:00, 138.62it/s]\n"
     ]
    },
    {
     "name": "stdout",
     "output_type": "stream",
     "text": [
      "lr:  0.0001\n",
      "Epoch 60: \n",
      " Train Loss\t0.4969 \n",
      " Val Loss\t0.6976 \n",
      " Val Acc\t0.5484 \n",
      " Val F1\t\t0.6957 \n",
      " Val AUC\t0.5000 \n",
      " Val GMean\t0.2697 \n",
      " Val MCC\t-0.1419\n"
     ]
    },
    {
     "name": "stderr",
     "output_type": "stream",
     "text": [
      "100%|███████████████████████████████████████████████████████████████████████████████████████████████████████████████████████████████████| 18/18 [00:00<00:00, 135.00it/s]\n"
     ]
    },
    {
     "name": "stdout",
     "output_type": "stream",
     "text": [
      "lr:  0.0001\n",
      "Epoch 61: \n",
      " Train Loss\t0.4946 \n",
      " Val Loss\t0.6991 \n",
      " Val Acc\t0.5806 \n",
      " Val F1\t\t0.7111 \n",
      " Val AUC\t0.4955 \n",
      " Val GMean\t0.3814 \n",
      " Val MCC\t-0.0220\n"
     ]
    },
    {
     "name": "stderr",
     "output_type": "stream",
     "text": [
      "100%|███████████████████████████████████████████████████████████████████████████████████████████████████████████████████████████████████| 18/18 [00:00<00:00, 122.05it/s]\n"
     ]
    },
    {
     "name": "stdout",
     "output_type": "stream",
     "text": [
      "lr:  0.0001\n",
      "Epoch 62: \n",
      " Train Loss\t0.4923 \n",
      " Val Loss\t0.7006 \n",
      " Val Acc\t0.5806 \n",
      " Val F1\t\t0.7111 \n",
      " Val AUC\t0.5000 \n",
      " Val GMean\t0.3814 \n",
      " Val MCC\t-0.0220\n"
     ]
    },
    {
     "name": "stderr",
     "output_type": "stream",
     "text": [
      "100%|███████████████████████████████████████████████████████████████████████████████████████████████████████████████████████████████████| 18/18 [00:00<00:00, 131.09it/s]\n"
     ]
    },
    {
     "name": "stdout",
     "output_type": "stream",
     "text": [
      "lr:  0.0001\n",
      "Epoch 63: \n",
      " Train Loss\t0.4898 \n",
      " Val Loss\t0.7022 \n",
      " Val Acc\t0.5806 \n",
      " Val F1\t\t0.7111 \n",
      " Val AUC\t0.4955 \n",
      " Val GMean\t0.3814 \n",
      " Val MCC\t-0.0220\n"
     ]
    },
    {
     "name": "stderr",
     "output_type": "stream",
     "text": [
      "100%|███████████████████████████████████████████████████████████████████████████████████████████████████████████████████████████████████| 18/18 [00:00<00:00, 131.43it/s]\n"
     ]
    },
    {
     "name": "stdout",
     "output_type": "stream",
     "text": [
      "lr:  0.0001\n",
      "Epoch 64: \n",
      " Train Loss\t0.4871 \n",
      " Val Loss\t0.7041 \n",
      " Val Acc\t0.5484 \n",
      " Val F1\t\t0.6957 \n",
      " Val AUC\t0.4909 \n",
      " Val GMean\t0.2697 \n",
      " Val MCC\t-0.1419\n"
     ]
    },
    {
     "name": "stderr",
     "output_type": "stream",
     "text": [
      "100%|███████████████████████████████████████████████████████████████████████████████████████████████████████████████████████████████████| 18/18 [00:00<00:00, 137.18it/s]\n"
     ]
    },
    {
     "name": "stdout",
     "output_type": "stream",
     "text": [
      "lr:  0.0001\n",
      "Epoch 65: \n",
      " Train Loss\t0.4846 \n",
      " Val Loss\t0.7059 \n",
      " Val Acc\t0.5484 \n",
      " Val F1\t\t0.6957 \n",
      " Val AUC\t0.4909 \n",
      " Val GMean\t0.2697 \n",
      " Val MCC\t-0.1419\n"
     ]
    },
    {
     "name": "stderr",
     "output_type": "stream",
     "text": [
      "100%|███████████████████████████████████████████████████████████████████████████████████████████████████████████████████████████████████| 18/18 [00:00<00:00, 137.05it/s]\n"
     ]
    },
    {
     "name": "stdout",
     "output_type": "stream",
     "text": [
      "lr:  0.0001\n",
      "Epoch 66: \n",
      " Train Loss\t0.4821 \n",
      " Val Loss\t0.7077 \n",
      " Val Acc\t0.5484 \n",
      " Val F1\t\t0.6957 \n",
      " Val AUC\t0.4864 \n",
      " Val GMean\t0.2697 \n",
      " Val MCC\t-0.1419\n"
     ]
    },
    {
     "name": "stderr",
     "output_type": "stream",
     "text": [
      "100%|███████████████████████████████████████████████████████████████████████████████████████████████████████████████████████████████████| 18/18 [00:00<00:00, 138.20it/s]\n"
     ]
    },
    {
     "name": "stdout",
     "output_type": "stream",
     "text": [
      "lr:  0.0001\n",
      "Epoch 67: \n",
      " Train Loss\t0.4801 \n",
      " Val Loss\t0.7094 \n",
      " Val Acc\t0.5806 \n",
      " Val F1\t\t0.7111 \n",
      " Val AUC\t0.4864 \n",
      " Val GMean\t0.3814 \n",
      " Val MCC\t-0.0220\n"
     ]
    },
    {
     "name": "stderr",
     "output_type": "stream",
     "text": [
      "100%|███████████████████████████████████████████████████████████████████████████████████████████████████████████████████████████████████| 18/18 [00:00<00:00, 136.27it/s]\n"
     ]
    },
    {
     "name": "stdout",
     "output_type": "stream",
     "text": [
      "lr:  0.0001\n",
      "Epoch 68: \n",
      " Train Loss\t0.4778 \n",
      " Val Loss\t0.7110 \n",
      " Val Acc\t0.5806 \n",
      " Val F1\t\t0.7111 \n",
      " Val AUC\t0.4864 \n",
      " Val GMean\t0.3814 \n",
      " Val MCC\t-0.0220\n"
     ]
    },
    {
     "name": "stderr",
     "output_type": "stream",
     "text": [
      "100%|███████████████████████████████████████████████████████████████████████████████████████████████████████████████████████████████████| 18/18 [00:00<00:00, 137.66it/s]\n"
     ]
    },
    {
     "name": "stdout",
     "output_type": "stream",
     "text": [
      "lr:  0.0001\n",
      "Epoch 69: \n",
      " Train Loss\t0.4755 \n",
      " Val Loss\t0.7128 \n",
      " Val Acc\t0.5484 \n",
      " Val F1\t\t0.6957 \n",
      " Val AUC\t0.4909 \n",
      " Val GMean\t0.2697 \n",
      " Val MCC\t-0.1419\n"
     ]
    },
    {
     "name": "stderr",
     "output_type": "stream",
     "text": [
      "100%|███████████████████████████████████████████████████████████████████████████████████████████████████████████████████████████████████| 18/18 [00:00<00:00, 135.42it/s]\n"
     ]
    },
    {
     "name": "stdout",
     "output_type": "stream",
     "text": [
      "lr:  0.0001\n",
      "Epoch 70: \n",
      " Train Loss\t0.4728 \n",
      " Val Loss\t0.7145 \n",
      " Val Acc\t0.5806 \n",
      " Val F1\t\t0.7111 \n",
      " Val AUC\t0.4864 \n",
      " Val GMean\t0.3814 \n",
      " Val MCC\t-0.0220\n"
     ]
    },
    {
     "name": "stderr",
     "output_type": "stream",
     "text": [
      "100%|███████████████████████████████████████████████████████████████████████████████████████████████████████████████████████████████████| 18/18 [00:00<00:00, 136.08it/s]\n"
     ]
    },
    {
     "name": "stdout",
     "output_type": "stream",
     "text": [
      "lr:  0.0001\n",
      "Epoch 71: \n",
      " Train Loss\t0.4703 \n",
      " Val Loss\t0.7163 \n",
      " Val Acc\t0.5806 \n",
      " Val F1\t\t0.7111 \n",
      " Val AUC\t0.4864 \n",
      " Val GMean\t0.3814 \n",
      " Val MCC\t-0.0220\n"
     ]
    },
    {
     "name": "stderr",
     "output_type": "stream",
     "text": [
      "100%|███████████████████████████████████████████████████████████████████████████████████████████████████████████████████████████████████| 18/18 [00:00<00:00, 138.34it/s]\n"
     ]
    },
    {
     "name": "stdout",
     "output_type": "stream",
     "text": [
      "lr:  0.0001\n",
      "Epoch 72: \n",
      " Train Loss\t0.4680 \n",
      " Val Loss\t0.7181 \n",
      " Val Acc\t0.5806 \n",
      " Val F1\t\t0.7111 \n",
      " Val AUC\t0.4909 \n",
      " Val GMean\t0.3814 \n",
      " Val MCC\t-0.0220\n"
     ]
    },
    {
     "name": "stderr",
     "output_type": "stream",
     "text": [
      "100%|███████████████████████████████████████████████████████████████████████████████████████████████████████████████████████████████████| 18/18 [00:00<00:00, 139.19it/s]\n"
     ]
    },
    {
     "name": "stdout",
     "output_type": "stream",
     "text": [
      "lr:  0.0001\n",
      "Epoch 73: \n",
      " Train Loss\t0.4658 \n",
      " Val Loss\t0.7200 \n",
      " Val Acc\t0.5484 \n",
      " Val F1\t\t0.6957 \n",
      " Val AUC\t0.4909 \n",
      " Val GMean\t0.2697 \n",
      " Val MCC\t-0.1419\n"
     ]
    },
    {
     "name": "stderr",
     "output_type": "stream",
     "text": [
      "100%|███████████████████████████████████████████████████████████████████████████████████████████████████████████████████████████████████| 18/18 [00:00<00:00, 129.51it/s]\n"
     ]
    },
    {
     "name": "stdout",
     "output_type": "stream",
     "text": [
      "lr:  0.0001\n",
      "Epoch 74: \n",
      " Train Loss\t0.4633 \n",
      " Val Loss\t0.7218 \n",
      " Val Acc\t0.5806 \n",
      " Val F1\t\t0.7111 \n",
      " Val AUC\t0.4955 \n",
      " Val GMean\t0.3814 \n",
      " Val MCC\t-0.0220\n"
     ]
    },
    {
     "name": "stderr",
     "output_type": "stream",
     "text": [
      "100%|███████████████████████████████████████████████████████████████████████████████████████████████████████████████████████████████████| 18/18 [00:00<00:00, 136.11it/s]\n"
     ]
    },
    {
     "name": "stdout",
     "output_type": "stream",
     "text": [
      "lr:  0.0001\n",
      "Epoch 75: \n",
      " Train Loss\t0.4611 \n",
      " Val Loss\t0.7236 \n",
      " Val Acc\t0.5484 \n",
      " Val F1\t\t0.6818 \n",
      " Val AUC\t0.5000 \n",
      " Val GMean\t0.3693 \n",
      " Val MCC\t-0.0780\n"
     ]
    },
    {
     "name": "stderr",
     "output_type": "stream",
     "text": [
      "100%|███████████████████████████████████████████████████████████████████████████████████████████████████████████████████████████████████| 18/18 [00:00<00:00, 138.91it/s]\n"
     ]
    },
    {
     "name": "stdout",
     "output_type": "stream",
     "text": [
      "lr:  0.0001\n",
      "Epoch 76: \n",
      " Train Loss\t0.4585 \n",
      " Val Loss\t0.7255 \n",
      " Val Acc\t0.5484 \n",
      " Val F1\t\t0.6818 \n",
      " Val AUC\t0.4955 \n",
      " Val GMean\t0.3693 \n",
      " Val MCC\t-0.0780\n"
     ]
    },
    {
     "name": "stderr",
     "output_type": "stream",
     "text": [
      "100%|███████████████████████████████████████████████████████████████████████████████████████████████████████████████████████████████████| 18/18 [00:00<00:00, 134.96it/s]\n"
     ]
    },
    {
     "name": "stdout",
     "output_type": "stream",
     "text": [
      "lr:  0.0001\n",
      "Epoch 77: \n",
      " Train Loss\t0.4561 \n",
      " Val Loss\t0.7275 \n",
      " Val Acc\t0.5484 \n",
      " Val F1\t\t0.6818 \n",
      " Val AUC\t0.4909 \n",
      " Val GMean\t0.3693 \n",
      " Val MCC\t-0.0780\n"
     ]
    },
    {
     "name": "stderr",
     "output_type": "stream",
     "text": [
      "100%|███████████████████████████████████████████████████████████████████████████████████████████████████████████████████████████████████| 18/18 [00:00<00:00, 139.19it/s]\n"
     ]
    },
    {
     "name": "stdout",
     "output_type": "stream",
     "text": [
      "lr:  0.0001\n",
      "Epoch 78: \n",
      " Train Loss\t0.4539 \n",
      " Val Loss\t0.7296 \n",
      " Val Acc\t0.5161 \n",
      " Val F1\t\t0.6512 \n",
      " Val AUC\t0.4955 \n",
      " Val GMean\t0.3568 \n",
      " Val MCC\t-0.1292\n"
     ]
    },
    {
     "name": "stderr",
     "output_type": "stream",
     "text": [
      "100%|███████████████████████████████████████████████████████████████████████████████████████████████████████████████████████████████████| 18/18 [00:00<00:00, 130.50it/s]\n"
     ]
    },
    {
     "name": "stdout",
     "output_type": "stream",
     "text": [
      "lr:  0.0001\n",
      "Epoch 79: \n",
      " Train Loss\t0.4513 \n",
      " Val Loss\t0.7317 \n",
      " Val Acc\t0.5484 \n",
      " Val F1\t\t0.6818 \n",
      " Val AUC\t0.5000 \n",
      " Val GMean\t0.3693 \n",
      " Val MCC\t-0.0780\n"
     ]
    },
    {
     "name": "stderr",
     "output_type": "stream",
     "text": [
      "100%|███████████████████████████████████████████████████████████████████████████████████████████████████████████████████████████████████| 18/18 [00:00<00:00, 137.78it/s]\n"
     ]
    },
    {
     "name": "stdout",
     "output_type": "stream",
     "text": [
      "lr:  0.0001\n",
      "Epoch 80: \n",
      " Train Loss\t0.4492 \n",
      " Val Loss\t0.7339 \n",
      " Val Acc\t0.5806 \n",
      " Val F1\t\t0.7111 \n",
      " Val AUC\t0.4909 \n",
      " Val GMean\t0.3814 \n",
      " Val MCC\t-0.0220\n"
     ]
    },
    {
     "name": "stderr",
     "output_type": "stream",
     "text": [
      "100%|███████████████████████████████████████████████████████████████████████████████████████████████████████████████████████████████████| 18/18 [00:00<00:00, 140.28it/s]\n"
     ]
    },
    {
     "name": "stdout",
     "output_type": "stream",
     "text": [
      "lr:  0.0001\n",
      "Epoch 81: \n",
      " Train Loss\t0.4470 \n",
      " Val Loss\t0.7359 \n",
      " Val Acc\t0.5806 \n",
      " Val F1\t\t0.7111 \n",
      " Val AUC\t0.4909 \n",
      " Val GMean\t0.3814 \n",
      " Val MCC\t-0.0220\n"
     ]
    },
    {
     "name": "stderr",
     "output_type": "stream",
     "text": [
      "100%|███████████████████████████████████████████████████████████████████████████████████████████████████████████████████████████████████| 18/18 [00:00<00:00, 136.24it/s]\n"
     ]
    },
    {
     "name": "stdout",
     "output_type": "stream",
     "text": [
      "lr:  0.0001\n",
      "Epoch 82: \n",
      " Train Loss\t0.4447 \n",
      " Val Loss\t0.7378 \n",
      " Val Acc\t0.5806 \n",
      " Val F1\t\t0.7111 \n",
      " Val AUC\t0.5000 \n",
      " Val GMean\t0.3814 \n",
      " Val MCC\t-0.0220\n"
     ]
    },
    {
     "name": "stderr",
     "output_type": "stream",
     "text": [
      "100%|███████████████████████████████████████████████████████████████████████████████████████████████████████████████████████████████████| 18/18 [00:00<00:00, 133.80it/s]\n"
     ]
    },
    {
     "name": "stdout",
     "output_type": "stream",
     "text": [
      "lr:  0.0001\n",
      "Epoch 83: \n",
      " Train Loss\t0.4430 \n",
      " Val Loss\t0.7397 \n",
      " Val Acc\t0.5484 \n",
      " Val F1\t\t0.6818 \n",
      " Val AUC\t0.5045 \n",
      " Val GMean\t0.3693 \n",
      " Val MCC\t-0.0780\n"
     ]
    },
    {
     "name": "stderr",
     "output_type": "stream",
     "text": [
      "100%|███████████████████████████████████████████████████████████████████████████████████████████████████████████████████████████████████| 18/18 [00:00<00:00, 136.41it/s]\n"
     ]
    },
    {
     "name": "stdout",
     "output_type": "stream",
     "text": [
      "lr:  0.0001\n",
      "Epoch 84: \n",
      " Train Loss\t0.4409 \n",
      " Val Loss\t0.7415 \n",
      " Val Acc\t0.5484 \n",
      " Val F1\t\t0.6818 \n",
      " Val AUC\t0.5091 \n",
      " Val GMean\t0.3693 \n",
      " Val MCC\t-0.0780\n"
     ]
    },
    {
     "name": "stderr",
     "output_type": "stream",
     "text": [
      "100%|███████████████████████████████████████████████████████████████████████████████████████████████████████████████████████████████████| 18/18 [00:00<00:00, 136.27it/s]\n"
     ]
    },
    {
     "name": "stdout",
     "output_type": "stream",
     "text": [
      "lr:  0.0001\n",
      "Epoch 85: \n",
      " Train Loss\t0.4388 \n",
      " Val Loss\t0.7437 \n",
      " Val Acc\t0.5806 \n",
      " Val F1\t\t0.7111 \n",
      " Val AUC\t0.4955 \n",
      " Val GMean\t0.3814 \n",
      " Val MCC\t-0.0220\n"
     ]
    },
    {
     "name": "stderr",
     "output_type": "stream",
     "text": [
      "100%|███████████████████████████████████████████████████████████████████████████████████████████████████████████████████████████████████| 18/18 [00:00<00:00, 138.03it/s]\n"
     ]
    },
    {
     "name": "stdout",
     "output_type": "stream",
     "text": [
      "lr:  0.0001\n",
      "Epoch 86: \n",
      " Train Loss\t0.4367 \n",
      " Val Loss\t0.7456 \n",
      " Val Acc\t0.5484 \n",
      " Val F1\t\t0.6818 \n",
      " Val AUC\t0.4955 \n",
      " Val GMean\t0.3693 \n",
      " Val MCC\t-0.0780\n"
     ]
    },
    {
     "name": "stderr",
     "output_type": "stream",
     "text": [
      "100%|███████████████████████████████████████████████████████████████████████████████████████████████████████████████████████████████████| 18/18 [00:00<00:00, 138.47it/s]\n"
     ]
    },
    {
     "name": "stdout",
     "output_type": "stream",
     "text": [
      "lr:  0.0001\n",
      "Epoch 87: \n",
      " Train Loss\t0.4346 \n",
      " Val Loss\t0.7477 \n",
      " Val Acc\t0.5806 \n",
      " Val F1\t\t0.7111 \n",
      " Val AUC\t0.4955 \n",
      " Val GMean\t0.3814 \n",
      " Val MCC\t-0.0220\n"
     ]
    },
    {
     "name": "stderr",
     "output_type": "stream",
     "text": [
      "100%|███████████████████████████████████████████████████████████████████████████████████████████████████████████████████████████████████| 18/18 [00:00<00:00, 137.27it/s]\n"
     ]
    },
    {
     "name": "stdout",
     "output_type": "stream",
     "text": [
      "lr:  0.0001\n",
      "Epoch 88: \n",
      " Train Loss\t0.4325 \n",
      " Val Loss\t0.7499 \n",
      " Val Acc\t0.5484 \n",
      " Val F1\t\t0.6818 \n",
      " Val AUC\t0.4955 \n",
      " Val GMean\t0.3693 \n",
      " Val MCC\t-0.0780\n"
     ]
    },
    {
     "name": "stderr",
     "output_type": "stream",
     "text": [
      "100%|███████████████████████████████████████████████████████████████████████████████████████████████████████████████████████████████████| 18/18 [00:00<00:00, 134.11it/s]\n"
     ]
    },
    {
     "name": "stdout",
     "output_type": "stream",
     "text": [
      "lr:  0.0001\n",
      "Epoch 89: \n",
      " Train Loss\t0.4304 \n",
      " Val Loss\t0.7519 \n",
      " Val Acc\t0.5484 \n",
      " Val F1\t\t0.6818 \n",
      " Val AUC\t0.5000 \n",
      " Val GMean\t0.3693 \n",
      " Val MCC\t-0.0780\n"
     ]
    },
    {
     "name": "stderr",
     "output_type": "stream",
     "text": [
      "100%|███████████████████████████████████████████████████████████████████████████████████████████████████████████████████████████████████| 18/18 [00:00<00:00, 129.92it/s]\n"
     ]
    },
    {
     "name": "stdout",
     "output_type": "stream",
     "text": [
      "lr:  0.0001\n",
      "Epoch 90: \n",
      " Train Loss\t0.4285 \n",
      " Val Loss\t0.7541 \n",
      " Val Acc\t0.5806 \n",
      " Val F1\t\t0.7111 \n",
      " Val AUC\t0.4909 \n",
      " Val GMean\t0.3814 \n",
      " Val MCC\t-0.0220\n"
     ]
    },
    {
     "name": "stderr",
     "output_type": "stream",
     "text": [
      "100%|███████████████████████████████████████████████████████████████████████████████████████████████████████████████████████████████████| 18/18 [00:00<00:00, 138.79it/s]\n"
     ]
    },
    {
     "name": "stdout",
     "output_type": "stream",
     "text": [
      "lr:  0.0001\n",
      "Epoch 91: \n",
      " Train Loss\t0.4263 \n",
      " Val Loss\t0.7562 \n",
      " Val Acc\t0.5806 \n",
      " Val F1\t\t0.7111 \n",
      " Val AUC\t0.5045 \n",
      " Val GMean\t0.3814 \n",
      " Val MCC\t-0.0220\n"
     ]
    },
    {
     "name": "stderr",
     "output_type": "stream",
     "text": [
      "100%|███████████████████████████████████████████████████████████████████████████████████████████████████████████████████████████████████| 18/18 [00:00<00:00, 138.89it/s]\n"
     ]
    },
    {
     "name": "stdout",
     "output_type": "stream",
     "text": [
      "lr:  0.0001\n",
      "Epoch 92: \n",
      " Train Loss\t0.4244 \n",
      " Val Loss\t0.7582 \n",
      " Val Acc\t0.5484 \n",
      " Val F1\t\t0.6818 \n",
      " Val AUC\t0.5091 \n",
      " Val GMean\t0.3693 \n",
      " Val MCC\t-0.0780\n"
     ]
    },
    {
     "name": "stderr",
     "output_type": "stream",
     "text": [
      "100%|███████████████████████████████████████████████████████████████████████████████████████████████████████████████████████████████████| 18/18 [00:00<00:00, 137.54it/s]\n"
     ]
    },
    {
     "name": "stdout",
     "output_type": "stream",
     "text": [
      "lr:  0.0001\n",
      "Epoch 93: \n",
      " Train Loss\t0.4223 \n",
      " Val Loss\t0.7602 \n",
      " Val Acc\t0.5484 \n",
      " Val F1\t\t0.6818 \n",
      " Val AUC\t0.5091 \n",
      " Val GMean\t0.3693 \n",
      " Val MCC\t-0.0780\n"
     ]
    },
    {
     "name": "stderr",
     "output_type": "stream",
     "text": [
      "100%|███████████████████████████████████████████████████████████████████████████████████████████████████████████████████████████████████| 18/18 [00:00<00:00, 140.70it/s]\n"
     ]
    },
    {
     "name": "stdout",
     "output_type": "stream",
     "text": [
      "lr:  0.0001\n",
      "Epoch 94: \n",
      " Train Loss\t0.4203 \n",
      " Val Loss\t0.7629 \n",
      " Val Acc\t0.5484 \n",
      " Val F1\t\t0.6957 \n",
      " Val AUC\t0.5091 \n",
      " Val GMean\t0.2697 \n",
      " Val MCC\t-0.1419\n"
     ]
    },
    {
     "name": "stderr",
     "output_type": "stream",
     "text": [
      "100%|███████████████████████████████████████████████████████████████████████████████████████████████████████████████████████████████████| 18/18 [00:00<00:00, 135.08it/s]\n"
     ]
    },
    {
     "name": "stdout",
     "output_type": "stream",
     "text": [
      "lr:  0.0001\n",
      "Epoch 95: \n",
      " Train Loss\t0.4182 \n",
      " Val Loss\t0.7651 \n",
      " Val Acc\t0.5806 \n",
      " Val F1\t\t0.7111 \n",
      " Val AUC\t0.5136 \n",
      " Val GMean\t0.3814 \n",
      " Val MCC\t-0.0220\n"
     ]
    },
    {
     "name": "stderr",
     "output_type": "stream",
     "text": [
      "100%|███████████████████████████████████████████████████████████████████████████████████████████████████████████████████████████████████| 18/18 [00:00<00:00, 124.27it/s]\n"
     ]
    },
    {
     "name": "stdout",
     "output_type": "stream",
     "text": [
      "lr:  0.0001\n",
      "Epoch 96: \n",
      " Train Loss\t0.4162 \n",
      " Val Loss\t0.7673 \n",
      " Val Acc\t0.5484 \n",
      " Val F1\t\t0.6818 \n",
      " Val AUC\t0.5136 \n",
      " Val GMean\t0.3693 \n",
      " Val MCC\t-0.0780\n"
     ]
    },
    {
     "name": "stderr",
     "output_type": "stream",
     "text": [
      "100%|███████████████████████████████████████████████████████████████████████████████████████████████████████████████████████████████████| 18/18 [00:00<00:00, 137.67it/s]\n"
     ]
    },
    {
     "name": "stdout",
     "output_type": "stream",
     "text": [
      "lr:  0.0001\n",
      "Epoch 97: \n",
      " Train Loss\t0.4145 \n",
      " Val Loss\t0.7698 \n",
      " Val Acc\t0.5806 \n",
      " Val F1\t\t0.7111 \n",
      " Val AUC\t0.5045 \n",
      " Val GMean\t0.3814 \n",
      " Val MCC\t-0.0220\n"
     ]
    },
    {
     "name": "stderr",
     "output_type": "stream",
     "text": [
      "100%|███████████████████████████████████████████████████████████████████████████████████████████████████████████████████████████████████| 18/18 [00:00<00:00, 133.93it/s]\n"
     ]
    },
    {
     "name": "stdout",
     "output_type": "stream",
     "text": [
      "lr:  0.0001\n",
      "Epoch 98: \n",
      " Train Loss\t0.4128 \n",
      " Val Loss\t0.7721 \n",
      " Val Acc\t0.5484 \n",
      " Val F1\t\t0.6818 \n",
      " Val AUC\t0.5000 \n",
      " Val GMean\t0.3693 \n",
      " Val MCC\t-0.0780\n"
     ]
    },
    {
     "name": "stderr",
     "output_type": "stream",
     "text": [
      "100%|███████████████████████████████████████████████████████████████████████████████████████████████████████████████████████████████████| 18/18 [00:00<00:00, 136.95it/s]\n"
     ]
    },
    {
     "name": "stdout",
     "output_type": "stream",
     "text": [
      "lr:  0.0001\n",
      "Epoch 99: \n",
      " Train Loss\t0.4109 \n",
      " Val Loss\t0.7744 \n",
      " Val Acc\t0.5484 \n",
      " Val F1\t\t0.6818 \n",
      " Val AUC\t0.5091 \n",
      " Val GMean\t0.3693 \n",
      " Val MCC\t-0.0780\n",
      "=========================================================\n",
      "fold 9 as val set\n",
      "model parameters:  418817\n"
     ]
    },
    {
     "name": "stderr",
     "output_type": "stream",
     "text": [
      "100%|███████████████████████████████████████████████████████████████████████████████████████████████████████████████████████████████████| 18/18 [00:00<00:00, 135.63it/s]\n"
     ]
    },
    {
     "name": "stdout",
     "output_type": "stream",
     "text": [
      "lr:  0.0001\n",
      "Epoch 0: \n",
      " Train Loss\t0.6172 \n",
      " Val Loss\t0.5410 \n",
      " Val Acc\t0.7742 \n",
      " Val F1\t\t0.8727 \n",
      " Val AUC\t0.3988 \n",
      " Val GMean\t0.0000 \n",
      " Val MCC\t0.0000\n"
     ]
    },
    {
     "name": "stderr",
     "output_type": "stream",
     "text": [
      "100%|███████████████████████████████████████████████████████████████████████████████████████████████████████████████████████████████████| 18/18 [00:00<00:00, 137.58it/s]\n"
     ]
    },
    {
     "name": "stdout",
     "output_type": "stream",
     "text": [
      "lr:  0.0001\n",
      "Epoch 1: \n",
      " Train Loss\t0.6028 \n",
      " Val Loss\t0.5390 \n",
      " Val Acc\t0.7742 \n",
      " Val F1\t\t0.8727 \n",
      " Val AUC\t0.4107 \n",
      " Val GMean\t0.0000 \n",
      " Val MCC\t0.0000\n"
     ]
    },
    {
     "name": "stderr",
     "output_type": "stream",
     "text": [
      "100%|███████████████████████████████████████████████████████████████████████████████████████████████████████████████████████████████████| 18/18 [00:00<00:00, 137.95it/s]\n"
     ]
    },
    {
     "name": "stdout",
     "output_type": "stream",
     "text": [
      "lr:  0.0001\n",
      "Epoch 2: \n",
      " Train Loss\t0.5987 \n",
      " Val Loss\t0.5393 \n",
      " Val Acc\t0.7742 \n",
      " Val F1\t\t0.8727 \n",
      " Val AUC\t0.4226 \n",
      " Val GMean\t0.0000 \n",
      " Val MCC\t0.0000\n"
     ]
    },
    {
     "name": "stderr",
     "output_type": "stream",
     "text": [
      "100%|███████████████████████████████████████████████████████████████████████████████████████████████████████████████████████████████████| 18/18 [00:00<00:00, 131.23it/s]\n"
     ]
    },
    {
     "name": "stdout",
     "output_type": "stream",
     "text": [
      "lr:  0.0001\n",
      "Epoch 3: \n",
      " Train Loss\t0.5959 \n",
      " Val Loss\t0.5400 \n",
      " Val Acc\t0.7742 \n",
      " Val F1\t\t0.8727 \n",
      " Val AUC\t0.4405 \n",
      " Val GMean\t0.0000 \n",
      " Val MCC\t0.0000\n"
     ]
    },
    {
     "name": "stderr",
     "output_type": "stream",
     "text": [
      "100%|███████████████████████████████████████████████████████████████████████████████████████████████████████████████████████████████████| 18/18 [00:00<00:00, 136.43it/s]\n"
     ]
    },
    {
     "name": "stdout",
     "output_type": "stream",
     "text": [
      "lr:  0.0001\n",
      "Epoch 4: \n",
      " Train Loss\t0.5940 \n",
      " Val Loss\t0.5404 \n",
      " Val Acc\t0.7742 \n",
      " Val F1\t\t0.8727 \n",
      " Val AUC\t0.4464 \n",
      " Val GMean\t0.0000 \n",
      " Val MCC\t0.0000\n"
     ]
    },
    {
     "name": "stderr",
     "output_type": "stream",
     "text": [
      "100%|███████████████████████████████████████████████████████████████████████████████████████████████████████████████████████████████████| 18/18 [00:00<00:00, 137.86it/s]\n"
     ]
    },
    {
     "name": "stdout",
     "output_type": "stream",
     "text": [
      "lr:  0.0001\n",
      "Epoch 5: \n",
      " Train Loss\t0.5928 \n",
      " Val Loss\t0.5407 \n",
      " Val Acc\t0.7742 \n",
      " Val F1\t\t0.8727 \n",
      " Val AUC\t0.4464 \n",
      " Val GMean\t0.0000 \n",
      " Val MCC\t0.0000\n"
     ]
    },
    {
     "name": "stderr",
     "output_type": "stream",
     "text": [
      "100%|███████████████████████████████████████████████████████████████████████████████████████████████████████████████████████████████████| 18/18 [00:00<00:00, 136.20it/s]\n"
     ]
    },
    {
     "name": "stdout",
     "output_type": "stream",
     "text": [
      "lr:  0.0001\n",
      "Epoch 6: \n",
      " Train Loss\t0.5917 \n",
      " Val Loss\t0.5409 \n",
      " Val Acc\t0.7742 \n",
      " Val F1\t\t0.8727 \n",
      " Val AUC\t0.4643 \n",
      " Val GMean\t0.0000 \n",
      " Val MCC\t0.0000\n"
     ]
    },
    {
     "name": "stderr",
     "output_type": "stream",
     "text": [
      "100%|███████████████████████████████████████████████████████████████████████████████████████████████████████████████████████████████████| 18/18 [00:00<00:00, 139.75it/s]\n"
     ]
    },
    {
     "name": "stdout",
     "output_type": "stream",
     "text": [
      "lr:  0.0001\n",
      "Epoch 7: \n",
      " Train Loss\t0.5909 \n",
      " Val Loss\t0.5411 \n",
      " Val Acc\t0.7742 \n",
      " Val F1\t\t0.8727 \n",
      " Val AUC\t0.4762 \n",
      " Val GMean\t0.0000 \n",
      " Val MCC\t0.0000\n"
     ]
    },
    {
     "name": "stderr",
     "output_type": "stream",
     "text": [
      "100%|███████████████████████████████████████████████████████████████████████████████████████████████████████████████████████████████████| 18/18 [00:00<00:00, 138.68it/s]\n"
     ]
    },
    {
     "name": "stdout",
     "output_type": "stream",
     "text": [
      "lr:  0.0001\n",
      "Epoch 8: \n",
      " Train Loss\t0.5902 \n",
      " Val Loss\t0.5413 \n",
      " Val Acc\t0.7742 \n",
      " Val F1\t\t0.8727 \n",
      " Val AUC\t0.4881 \n",
      " Val GMean\t0.0000 \n",
      " Val MCC\t0.0000\n"
     ]
    },
    {
     "name": "stderr",
     "output_type": "stream",
     "text": [
      "100%|███████████████████████████████████████████████████████████████████████████████████████████████████████████████████████████████████| 18/18 [00:00<00:00, 133.78it/s]\n"
     ]
    },
    {
     "name": "stdout",
     "output_type": "stream",
     "text": [
      "lr:  0.0001\n",
      "Epoch 9: \n",
      " Train Loss\t0.5895 \n",
      " Val Loss\t0.5415 \n",
      " Val Acc\t0.7742 \n",
      " Val F1\t\t0.8727 \n",
      " Val AUC\t0.4881 \n",
      " Val GMean\t0.0000 \n",
      " Val MCC\t0.0000\n"
     ]
    },
    {
     "name": "stderr",
     "output_type": "stream",
     "text": [
      "100%|███████████████████████████████████████████████████████████████████████████████████████████████████████████████████████████████████| 18/18 [00:00<00:00, 138.59it/s]\n"
     ]
    },
    {
     "name": "stdout",
     "output_type": "stream",
     "text": [
      "lr:  0.0001\n",
      "Epoch 10: \n",
      " Train Loss\t0.5888 \n",
      " Val Loss\t0.5417 \n",
      " Val Acc\t0.7742 \n",
      " Val F1\t\t0.8727 \n",
      " Val AUC\t0.4881 \n",
      " Val GMean\t0.0000 \n",
      " Val MCC\t0.0000\n"
     ]
    },
    {
     "name": "stderr",
     "output_type": "stream",
     "text": [
      "100%|███████████████████████████████████████████████████████████████████████████████████████████████████████████████████████████████████| 18/18 [00:00<00:00, 137.33it/s]\n"
     ]
    },
    {
     "name": "stdout",
     "output_type": "stream",
     "text": [
      "lr:  0.0001\n",
      "Epoch 11: \n",
      " Train Loss\t0.5882 \n",
      " Val Loss\t0.5419 \n",
      " Val Acc\t0.7742 \n",
      " Val F1\t\t0.8727 \n",
      " Val AUC\t0.4881 \n",
      " Val GMean\t0.0000 \n",
      " Val MCC\t0.0000\n"
     ]
    },
    {
     "name": "stderr",
     "output_type": "stream",
     "text": [
      "100%|███████████████████████████████████████████████████████████████████████████████████████████████████████████████████████████████████| 18/18 [00:00<00:00, 136.06it/s]\n"
     ]
    },
    {
     "name": "stdout",
     "output_type": "stream",
     "text": [
      "lr:  0.0001\n",
      "Epoch 12: \n",
      " Train Loss\t0.5875 \n",
      " Val Loss\t0.5421 \n",
      " Val Acc\t0.7742 \n",
      " Val F1\t\t0.8727 \n",
      " Val AUC\t0.4940 \n",
      " Val GMean\t0.0000 \n",
      " Val MCC\t0.0000\n"
     ]
    },
    {
     "name": "stderr",
     "output_type": "stream",
     "text": [
      "100%|███████████████████████████████████████████████████████████████████████████████████████████████████████████████████████████████████| 18/18 [00:00<00:00, 139.22it/s]\n"
     ]
    },
    {
     "name": "stdout",
     "output_type": "stream",
     "text": [
      "lr:  0.0001\n",
      "Epoch 13: \n",
      " Train Loss\t0.5869 \n",
      " Val Loss\t0.5423 \n",
      " Val Acc\t0.7742 \n",
      " Val F1\t\t0.8727 \n",
      " Val AUC\t0.5119 \n",
      " Val GMean\t0.0000 \n",
      " Val MCC\t0.0000\n"
     ]
    },
    {
     "name": "stderr",
     "output_type": "stream",
     "text": [
      "100%|███████████████████████████████████████████████████████████████████████████████████████████████████████████████████████████████████| 18/18 [00:00<00:00, 135.98it/s]\n"
     ]
    },
    {
     "name": "stdout",
     "output_type": "stream",
     "text": [
      "lr:  0.0001\n",
      "Epoch 14: \n",
      " Train Loss\t0.5863 \n",
      " Val Loss\t0.5425 \n",
      " Val Acc\t0.7742 \n",
      " Val F1\t\t0.8727 \n",
      " Val AUC\t0.5060 \n",
      " Val GMean\t0.0000 \n",
      " Val MCC\t0.0000\n"
     ]
    },
    {
     "name": "stderr",
     "output_type": "stream",
     "text": [
      "100%|███████████████████████████████████████████████████████████████████████████████████████████████████████████████████████████████████| 18/18 [00:00<00:00, 137.12it/s]\n"
     ]
    },
    {
     "name": "stdout",
     "output_type": "stream",
     "text": [
      "lr:  0.0001\n",
      "Epoch 15: \n",
      " Train Loss\t0.5856 \n",
      " Val Loss\t0.5427 \n",
      " Val Acc\t0.7742 \n",
      " Val F1\t\t0.8727 \n",
      " Val AUC\t0.4940 \n",
      " Val GMean\t0.0000 \n",
      " Val MCC\t0.0000\n"
     ]
    },
    {
     "name": "stderr",
     "output_type": "stream",
     "text": [
      "100%|███████████████████████████████████████████████████████████████████████████████████████████████████████████████████████████████████| 18/18 [00:00<00:00, 125.11it/s]\n"
     ]
    },
    {
     "name": "stdout",
     "output_type": "stream",
     "text": [
      "lr:  0.0001\n",
      "Epoch 16: \n",
      " Train Loss\t0.5849 \n",
      " Val Loss\t0.5429 \n",
      " Val Acc\t0.7742 \n",
      " Val F1\t\t0.8727 \n",
      " Val AUC\t0.5060 \n",
      " Val GMean\t0.0000 \n",
      " Val MCC\t0.0000\n"
     ]
    },
    {
     "name": "stderr",
     "output_type": "stream",
     "text": [
      "100%|███████████████████████████████████████████████████████████████████████████████████████████████████████████████████████████████████| 18/18 [00:00<00:00, 126.27it/s]\n"
     ]
    },
    {
     "name": "stdout",
     "output_type": "stream",
     "text": [
      "lr:  0.0001\n",
      "Epoch 17: \n",
      " Train Loss\t0.5842 \n",
      " Val Loss\t0.5431 \n",
      " Val Acc\t0.7742 \n",
      " Val F1\t\t0.8727 \n",
      " Val AUC\t0.5119 \n",
      " Val GMean\t0.0000 \n",
      " Val MCC\t0.0000\n"
     ]
    },
    {
     "name": "stderr",
     "output_type": "stream",
     "text": [
      "100%|███████████████████████████████████████████████████████████████████████████████████████████████████████████████████████████████████| 18/18 [00:00<00:00, 120.86it/s]\n"
     ]
    },
    {
     "name": "stdout",
     "output_type": "stream",
     "text": [
      "lr:  0.0001\n",
      "Epoch 18: \n",
      " Train Loss\t0.5834 \n",
      " Val Loss\t0.5434 \n",
      " Val Acc\t0.7742 \n",
      " Val F1\t\t0.8727 \n",
      " Val AUC\t0.5357 \n",
      " Val GMean\t0.0000 \n",
      " Val MCC\t0.0000\n"
     ]
    },
    {
     "name": "stderr",
     "output_type": "stream",
     "text": [
      "100%|███████████████████████████████████████████████████████████████████████████████████████████████████████████████████████████████████| 18/18 [00:00<00:00, 133.88it/s]\n"
     ]
    },
    {
     "name": "stdout",
     "output_type": "stream",
     "text": [
      "lr:  0.0001\n",
      "Epoch 19: \n",
      " Train Loss\t0.5826 \n",
      " Val Loss\t0.5436 \n",
      " Val Acc\t0.7742 \n",
      " Val F1\t\t0.8727 \n",
      " Val AUC\t0.5238 \n",
      " Val GMean\t0.0000 \n",
      " Val MCC\t0.0000\n"
     ]
    },
    {
     "name": "stderr",
     "output_type": "stream",
     "text": [
      "100%|███████████████████████████████████████████████████████████████████████████████████████████████████████████████████████████████████| 18/18 [00:00<00:00, 135.96it/s]\n"
     ]
    },
    {
     "name": "stdout",
     "output_type": "stream",
     "text": [
      "lr:  0.0001\n",
      "Epoch 20: \n",
      " Train Loss\t0.5817 \n",
      " Val Loss\t0.5439 \n",
      " Val Acc\t0.7742 \n",
      " Val F1\t\t0.8727 \n",
      " Val AUC\t0.5238 \n",
      " Val GMean\t0.0000 \n",
      " Val MCC\t0.0000\n"
     ]
    },
    {
     "name": "stderr",
     "output_type": "stream",
     "text": [
      "100%|███████████████████████████████████████████████████████████████████████████████████████████████████████████████████████████████████| 18/18 [00:00<00:00, 137.24it/s]\n"
     ]
    },
    {
     "name": "stdout",
     "output_type": "stream",
     "text": [
      "lr:  0.0001\n",
      "Epoch 21: \n",
      " Train Loss\t0.5808 \n",
      " Val Loss\t0.5442 \n",
      " Val Acc\t0.7742 \n",
      " Val F1\t\t0.8727 \n",
      " Val AUC\t0.5179 \n",
      " Val GMean\t0.0000 \n",
      " Val MCC\t0.0000\n"
     ]
    },
    {
     "name": "stderr",
     "output_type": "stream",
     "text": [
      "100%|███████████████████████████████████████████████████████████████████████████████████████████████████████████████████████████████████| 18/18 [00:00<00:00, 135.98it/s]\n"
     ]
    },
    {
     "name": "stdout",
     "output_type": "stream",
     "text": [
      "lr:  0.0001\n",
      "Epoch 22: \n",
      " Train Loss\t0.5798 \n",
      " Val Loss\t0.5445 \n",
      " Val Acc\t0.7742 \n",
      " Val F1\t\t0.8727 \n",
      " Val AUC\t0.5238 \n",
      " Val GMean\t0.0000 \n",
      " Val MCC\t0.0000\n"
     ]
    },
    {
     "name": "stderr",
     "output_type": "stream",
     "text": [
      "100%|███████████████████████████████████████████████████████████████████████████████████████████████████████████████████████████████████| 18/18 [00:00<00:00, 138.84it/s]\n"
     ]
    },
    {
     "name": "stdout",
     "output_type": "stream",
     "text": [
      "lr:  0.0001\n",
      "Epoch 23: \n",
      " Train Loss\t0.5787 \n",
      " Val Loss\t0.5449 \n",
      " Val Acc\t0.7742 \n",
      " Val F1\t\t0.8727 \n",
      " Val AUC\t0.5119 \n",
      " Val GMean\t0.0000 \n",
      " Val MCC\t0.0000\n"
     ]
    },
    {
     "name": "stderr",
     "output_type": "stream",
     "text": [
      "100%|███████████████████████████████████████████████████████████████████████████████████████████████████████████████████████████████████| 18/18 [00:00<00:00, 127.53it/s]\n"
     ]
    },
    {
     "name": "stdout",
     "output_type": "stream",
     "text": [
      "lr:  0.0001\n",
      "Epoch 24: \n",
      " Train Loss\t0.5774 \n",
      " Val Loss\t0.5453 \n",
      " Val Acc\t0.7742 \n",
      " Val F1\t\t0.8727 \n",
      " Val AUC\t0.5119 \n",
      " Val GMean\t0.0000 \n",
      " Val MCC\t0.0000\n"
     ]
    },
    {
     "name": "stderr",
     "output_type": "stream",
     "text": [
      "100%|███████████████████████████████████████████████████████████████████████████████████████████████████████████████████████████████████| 18/18 [00:00<00:00, 134.72it/s]\n"
     ]
    },
    {
     "name": "stdout",
     "output_type": "stream",
     "text": [
      "lr:  0.0001\n",
      "Epoch 25: \n",
      " Train Loss\t0.5764 \n",
      " Val Loss\t0.5457 \n",
      " Val Acc\t0.7742 \n",
      " Val F1\t\t0.8727 \n",
      " Val AUC\t0.4881 \n",
      " Val GMean\t0.0000 \n",
      " Val MCC\t0.0000\n"
     ]
    },
    {
     "name": "stderr",
     "output_type": "stream",
     "text": [
      "100%|███████████████████████████████████████████████████████████████████████████████████████████████████████████████████████████████████| 18/18 [00:00<00:00, 138.99it/s]\n"
     ]
    },
    {
     "name": "stdout",
     "output_type": "stream",
     "text": [
      "lr:  0.0001\n",
      "Epoch 26: \n",
      " Train Loss\t0.5753 \n",
      " Val Loss\t0.5462 \n",
      " Val Acc\t0.7742 \n",
      " Val F1\t\t0.8727 \n",
      " Val AUC\t0.4762 \n",
      " Val GMean\t0.0000 \n",
      " Val MCC\t0.0000\n"
     ]
    },
    {
     "name": "stderr",
     "output_type": "stream",
     "text": [
      "100%|███████████████████████████████████████████████████████████████████████████████████████████████████████████████████████████████████| 18/18 [00:00<00:00, 132.50it/s]\n"
     ]
    },
    {
     "name": "stdout",
     "output_type": "stream",
     "text": [
      "lr:  0.0001\n",
      "Epoch 27: \n",
      " Train Loss\t0.5741 \n",
      " Val Loss\t0.5467 \n",
      " Val Acc\t0.7742 \n",
      " Val F1\t\t0.8727 \n",
      " Val AUC\t0.4702 \n",
      " Val GMean\t0.0000 \n",
      " Val MCC\t0.0000\n"
     ]
    },
    {
     "name": "stderr",
     "output_type": "stream",
     "text": [
      "100%|███████████████████████████████████████████████████████████████████████████████████████████████████████████████████████████████████| 18/18 [00:00<00:00, 132.21it/s]\n"
     ]
    },
    {
     "name": "stdout",
     "output_type": "stream",
     "text": [
      "lr:  0.0001\n",
      "Epoch 28: \n",
      " Train Loss\t0.5730 \n",
      " Val Loss\t0.5473 \n",
      " Val Acc\t0.7742 \n",
      " Val F1\t\t0.8727 \n",
      " Val AUC\t0.4762 \n",
      " Val GMean\t0.0000 \n",
      " Val MCC\t0.0000\n"
     ]
    },
    {
     "name": "stderr",
     "output_type": "stream",
     "text": [
      "100%|███████████████████████████████████████████████████████████████████████████████████████████████████████████████████████████████████| 18/18 [00:00<00:00, 135.94it/s]\n"
     ]
    },
    {
     "name": "stdout",
     "output_type": "stream",
     "text": [
      "lr:  0.0001\n",
      "Epoch 29: \n",
      " Train Loss\t0.5716 \n",
      " Val Loss\t0.5479 \n",
      " Val Acc\t0.7742 \n",
      " Val F1\t\t0.8727 \n",
      " Val AUC\t0.4702 \n",
      " Val GMean\t0.0000 \n",
      " Val MCC\t0.0000\n"
     ]
    },
    {
     "name": "stderr",
     "output_type": "stream",
     "text": [
      "100%|███████████████████████████████████████████████████████████████████████████████████████████████████████████████████████████████████| 18/18 [00:00<00:00, 134.59it/s]\n"
     ]
    },
    {
     "name": "stdout",
     "output_type": "stream",
     "text": [
      "lr:  0.0001\n",
      "Epoch 30: \n",
      " Train Loss\t0.5700 \n",
      " Val Loss\t0.5485 \n",
      " Val Acc\t0.7742 \n",
      " Val F1\t\t0.8727 \n",
      " Val AUC\t0.4702 \n",
      " Val GMean\t0.0000 \n",
      " Val MCC\t0.0000\n"
     ]
    },
    {
     "name": "stderr",
     "output_type": "stream",
     "text": [
      "100%|███████████████████████████████████████████████████████████████████████████████████████████████████████████████████████████████████| 18/18 [00:00<00:00, 140.55it/s]\n"
     ]
    },
    {
     "name": "stdout",
     "output_type": "stream",
     "text": [
      "lr:  0.0001\n",
      "Epoch 31: \n",
      " Train Loss\t0.5685 \n",
      " Val Loss\t0.5492 \n",
      " Val Acc\t0.7742 \n",
      " Val F1\t\t0.8727 \n",
      " Val AUC\t0.4524 \n",
      " Val GMean\t0.0000 \n",
      " Val MCC\t0.0000\n"
     ]
    },
    {
     "name": "stderr",
     "output_type": "stream",
     "text": [
      "100%|███████████████████████████████████████████████████████████████████████████████████████████████████████████████████████████████████| 18/18 [00:00<00:00, 140.20it/s]\n"
     ]
    },
    {
     "name": "stdout",
     "output_type": "stream",
     "text": [
      "lr:  0.0001\n",
      "Epoch 32: \n",
      " Train Loss\t0.5669 \n",
      " Val Loss\t0.5500 \n",
      " Val Acc\t0.7742 \n",
      " Val F1\t\t0.8727 \n",
      " Val AUC\t0.4524 \n",
      " Val GMean\t0.0000 \n",
      " Val MCC\t0.0000\n"
     ]
    },
    {
     "name": "stderr",
     "output_type": "stream",
     "text": [
      "100%|███████████████████████████████████████████████████████████████████████████████████████████████████████████████████████████████████| 18/18 [00:00<00:00, 130.13it/s]\n"
     ]
    },
    {
     "name": "stdout",
     "output_type": "stream",
     "text": [
      "lr:  0.0001\n",
      "Epoch 33: \n",
      " Train Loss\t0.5653 \n",
      " Val Loss\t0.5508 \n",
      " Val Acc\t0.7742 \n",
      " Val F1\t\t0.8727 \n",
      " Val AUC\t0.4464 \n",
      " Val GMean\t0.0000 \n",
      " Val MCC\t0.0000\n"
     ]
    },
    {
     "name": "stderr",
     "output_type": "stream",
     "text": [
      "100%|███████████████████████████████████████████████████████████████████████████████████████████████████████████████████████████████████| 18/18 [00:00<00:00, 140.18it/s]\n"
     ]
    },
    {
     "name": "stdout",
     "output_type": "stream",
     "text": [
      "lr:  0.0001\n",
      "Epoch 34: \n",
      " Train Loss\t0.5637 \n",
      " Val Loss\t0.5516 \n",
      " Val Acc\t0.7742 \n",
      " Val F1\t\t0.8727 \n",
      " Val AUC\t0.4345 \n",
      " Val GMean\t0.0000 \n",
      " Val MCC\t0.0000\n"
     ]
    },
    {
     "name": "stderr",
     "output_type": "stream",
     "text": [
      "100%|███████████████████████████████████████████████████████████████████████████████████████████████████████████████████████████████████| 18/18 [00:00<00:00, 134.99it/s]\n"
     ]
    },
    {
     "name": "stdout",
     "output_type": "stream",
     "text": [
      "lr:  0.0001\n",
      "Epoch 35: \n",
      " Train Loss\t0.5621 \n",
      " Val Loss\t0.5524 \n",
      " Val Acc\t0.7742 \n",
      " Val F1\t\t0.8727 \n",
      " Val AUC\t0.4167 \n",
      " Val GMean\t0.0000 \n",
      " Val MCC\t0.0000\n"
     ]
    },
    {
     "name": "stderr",
     "output_type": "stream",
     "text": [
      "100%|███████████████████████████████████████████████████████████████████████████████████████████████████████████████████████████████████| 18/18 [00:00<00:00, 140.11it/s]\n"
     ]
    },
    {
     "name": "stdout",
     "output_type": "stream",
     "text": [
      "lr:  0.0001\n",
      "Epoch 36: \n",
      " Train Loss\t0.5602 \n",
      " Val Loss\t0.5533 \n",
      " Val Acc\t0.7742 \n",
      " Val F1\t\t0.8727 \n",
      " Val AUC\t0.4107 \n",
      " Val GMean\t0.0000 \n",
      " Val MCC\t0.0000\n"
     ]
    },
    {
     "name": "stderr",
     "output_type": "stream",
     "text": [
      "100%|███████████████████████████████████████████████████████████████████████████████████████████████████████████████████████████████████| 18/18 [00:00<00:00, 141.25it/s]\n"
     ]
    },
    {
     "name": "stdout",
     "output_type": "stream",
     "text": [
      "lr:  0.0001\n",
      "Epoch 37: \n",
      " Train Loss\t0.5583 \n",
      " Val Loss\t0.5542 \n",
      " Val Acc\t0.7742 \n",
      " Val F1\t\t0.8727 \n",
      " Val AUC\t0.3929 \n",
      " Val GMean\t0.0000 \n",
      " Val MCC\t0.0000\n"
     ]
    },
    {
     "name": "stderr",
     "output_type": "stream",
     "text": [
      "100%|███████████████████████████████████████████████████████████████████████████████████████████████████████████████████████████████████| 18/18 [00:00<00:00, 136.17it/s]\n"
     ]
    },
    {
     "name": "stdout",
     "output_type": "stream",
     "text": [
      "lr:  0.0001\n",
      "Epoch 38: \n",
      " Train Loss\t0.5564 \n",
      " Val Loss\t0.5552 \n",
      " Val Acc\t0.7742 \n",
      " Val F1\t\t0.8727 \n",
      " Val AUC\t0.3869 \n",
      " Val GMean\t0.0000 \n",
      " Val MCC\t0.0000\n"
     ]
    },
    {
     "name": "stderr",
     "output_type": "stream",
     "text": [
      "100%|███████████████████████████████████████████████████████████████████████████████████████████████████████████████████████████████████| 18/18 [00:00<00:00, 140.98it/s]\n"
     ]
    },
    {
     "name": "stdout",
     "output_type": "stream",
     "text": [
      "lr:  0.0001\n",
      "Epoch 39: \n",
      " Train Loss\t0.5542 \n",
      " Val Loss\t0.5562 \n",
      " Val Acc\t0.7742 \n",
      " Val F1\t\t0.8727 \n",
      " Val AUC\t0.3869 \n",
      " Val GMean\t0.0000 \n",
      " Val MCC\t0.0000\n"
     ]
    },
    {
     "name": "stderr",
     "output_type": "stream",
     "text": [
      "100%|███████████████████████████████████████████████████████████████████████████████████████████████████████████████████████████████████| 18/18 [00:00<00:00, 138.52it/s]\n"
     ]
    },
    {
     "name": "stdout",
     "output_type": "stream",
     "text": [
      "lr:  0.0001\n",
      "Epoch 40: \n",
      " Train Loss\t0.5522 \n",
      " Val Loss\t0.5571 \n",
      " Val Acc\t0.7742 \n",
      " Val F1\t\t0.8727 \n",
      " Val AUC\t0.3929 \n",
      " Val GMean\t0.0000 \n",
      " Val MCC\t0.0000\n"
     ]
    },
    {
     "name": "stderr",
     "output_type": "stream",
     "text": [
      "100%|███████████████████████████████████████████████████████████████████████████████████████████████████████████████████████████████████| 18/18 [00:00<00:00, 136.83it/s]\n"
     ]
    },
    {
     "name": "stdout",
     "output_type": "stream",
     "text": [
      "lr:  0.0001\n",
      "Epoch 41: \n",
      " Train Loss\t0.5503 \n",
      " Val Loss\t0.5583 \n",
      " Val Acc\t0.7419 \n",
      " Val F1\t\t0.8462 \n",
      " Val AUC\t0.3988 \n",
      " Val GMean\t0.3619 \n",
      " Val MCC\t0.0842\n"
     ]
    },
    {
     "name": "stderr",
     "output_type": "stream",
     "text": [
      "100%|███████████████████████████████████████████████████████████████████████████████████████████████████████████████████████████████████| 18/18 [00:00<00:00, 137.01it/s]\n"
     ]
    },
    {
     "name": "stdout",
     "output_type": "stream",
     "text": [
      "lr:  0.0001\n",
      "Epoch 42: \n",
      " Train Loss\t0.5482 \n",
      " Val Loss\t0.5594 \n",
      " Val Acc\t0.7419 \n",
      " Val F1\t\t0.8519 \n",
      " Val AUC\t0.4107 \n",
      " Val GMean\t0.0000 \n",
      " Val MCC\t-0.0986\n"
     ]
    },
    {
     "name": "stderr",
     "output_type": "stream",
     "text": [
      "100%|███████████████████████████████████████████████████████████████████████████████████████████████████████████████████████████████████| 18/18 [00:00<00:00, 135.98it/s]\n"
     ]
    },
    {
     "name": "stdout",
     "output_type": "stream",
     "text": [
      "lr:  0.0001\n",
      "Epoch 43: \n",
      " Train Loss\t0.5461 \n",
      " Val Loss\t0.5605 \n",
      " Val Acc\t0.7419 \n",
      " Val F1\t\t0.8462 \n",
      " Val AUC\t0.3988 \n",
      " Val GMean\t0.3619 \n",
      " Val MCC\t0.0842\n"
     ]
    },
    {
     "name": "stderr",
     "output_type": "stream",
     "text": [
      "100%|███████████████████████████████████████████████████████████████████████████████████████████████████████████████████████████████████| 18/18 [00:00<00:00, 136.77it/s]\n"
     ]
    },
    {
     "name": "stdout",
     "output_type": "stream",
     "text": [
      "lr:  0.0001\n",
      "Epoch 44: \n",
      " Train Loss\t0.5439 \n",
      " Val Loss\t0.5618 \n",
      " Val Acc\t0.7419 \n",
      " Val F1\t\t0.8462 \n",
      " Val AUC\t0.3869 \n",
      " Val GMean\t0.3619 \n",
      " Val MCC\t0.0842\n"
     ]
    },
    {
     "name": "stderr",
     "output_type": "stream",
     "text": [
      "100%|███████████████████████████████████████████████████████████████████████████████████████████████████████████████████████████████████| 18/18 [00:00<00:00, 138.70it/s]\n"
     ]
    },
    {
     "name": "stdout",
     "output_type": "stream",
     "text": [
      "lr:  0.0001\n",
      "Epoch 45: \n",
      " Train Loss\t0.5416 \n",
      " Val Loss\t0.5630 \n",
      " Val Acc\t0.7419 \n",
      " Val F1\t\t0.8462 \n",
      " Val AUC\t0.3869 \n",
      " Val GMean\t0.3619 \n",
      " Val MCC\t0.0842\n"
     ]
    },
    {
     "name": "stderr",
     "output_type": "stream",
     "text": [
      "100%|███████████████████████████████████████████████████████████████████████████████████████████████████████████████████████████████████| 18/18 [00:00<00:00, 132.42it/s]\n"
     ]
    },
    {
     "name": "stdout",
     "output_type": "stream",
     "text": [
      "lr:  0.0001\n",
      "Epoch 46: \n",
      " Train Loss\t0.5395 \n",
      " Val Loss\t0.5643 \n",
      " Val Acc\t0.7742 \n",
      " Val F1\t\t0.8679 \n",
      " Val AUC\t0.3810 \n",
      " Val GMean\t0.3700 \n",
      " Val MCC\t0.1722\n"
     ]
    },
    {
     "name": "stderr",
     "output_type": "stream",
     "text": [
      "100%|███████████████████████████████████████████████████████████████████████████████████████████████████████████████████████████████████| 18/18 [00:00<00:00, 138.95it/s]\n"
     ]
    },
    {
     "name": "stdout",
     "output_type": "stream",
     "text": [
      "lr:  0.0001\n",
      "Epoch 47: \n",
      " Train Loss\t0.5373 \n",
      " Val Loss\t0.5660 \n",
      " Val Acc\t0.6774 \n",
      " Val F1\t\t0.8000 \n",
      " Val AUC\t0.3750 \n",
      " Val GMean\t0.3450 \n",
      " Val MCC\t-0.0271\n"
     ]
    },
    {
     "name": "stderr",
     "output_type": "stream",
     "text": [
      "100%|███████████████████████████████████████████████████████████████████████████████████████████████████████████████████████████████████| 18/18 [00:00<00:00, 134.10it/s]\n"
     ]
    },
    {
     "name": "stdout",
     "output_type": "stream",
     "text": [
      "lr:  0.0001\n",
      "Epoch 48: \n",
      " Train Loss\t0.5349 \n",
      " Val Loss\t0.5673 \n",
      " Val Acc\t0.7419 \n",
      " Val F1\t\t0.8462 \n",
      " Val AUC\t0.3810 \n",
      " Val GMean\t0.3619 \n",
      " Val MCC\t0.0842\n"
     ]
    },
    {
     "name": "stderr",
     "output_type": "stream",
     "text": [
      "100%|███████████████████████████████████████████████████████████████████████████████████████████████████████████████████████████████████| 18/18 [00:00<00:00, 121.45it/s]\n"
     ]
    },
    {
     "name": "stdout",
     "output_type": "stream",
     "text": [
      "lr:  0.0001\n",
      "Epoch 49: \n",
      " Train Loss\t0.5326 \n",
      " Val Loss\t0.5690 \n",
      " Val Acc\t0.6774 \n",
      " Val F1\t\t0.8000 \n",
      " Val AUC\t0.3810 \n",
      " Val GMean\t0.3450 \n",
      " Val MCC\t-0.0271\n"
     ]
    },
    {
     "name": "stderr",
     "output_type": "stream",
     "text": [
      "100%|███████████████████████████████████████████████████████████████████████████████████████████████████████████████████████████████████| 18/18 [00:00<00:00, 124.37it/s]\n"
     ]
    },
    {
     "name": "stdout",
     "output_type": "stream",
     "text": [
      "lr:  0.0001\n",
      "Epoch 50: \n",
      " Train Loss\t0.5300 \n",
      " Val Loss\t0.5705 \n",
      " Val Acc\t0.7097 \n",
      " Val F1\t\t0.8235 \n",
      " Val AUC\t0.3869 \n",
      " Val GMean\t0.3536 \n",
      " Val MCC\t0.0223\n"
     ]
    },
    {
     "name": "stderr",
     "output_type": "stream",
     "text": [
      "100%|███████████████████████████████████████████████████████████████████████████████████████████████████████████████████████████████████| 18/18 [00:00<00:00, 133.27it/s]\n"
     ]
    },
    {
     "name": "stdout",
     "output_type": "stream",
     "text": [
      "lr:  0.0001\n",
      "Epoch 51: \n",
      " Train Loss\t0.5276 \n",
      " Val Loss\t0.5720 \n",
      " Val Acc\t0.6774 \n",
      " Val F1\t\t0.8000 \n",
      " Val AUC\t0.3869 \n",
      " Val GMean\t0.3450 \n",
      " Val MCC\t-0.0271\n"
     ]
    },
    {
     "name": "stderr",
     "output_type": "stream",
     "text": [
      "100%|███████████████████████████████████████████████████████████████████████████████████████████████████████████████████████████████████| 18/18 [00:00<00:00, 104.12it/s]\n"
     ]
    },
    {
     "name": "stdout",
     "output_type": "stream",
     "text": [
      "lr:  0.0001\n",
      "Epoch 52: \n",
      " Train Loss\t0.5249 \n",
      " Val Loss\t0.5740 \n",
      " Val Acc\t0.6452 \n",
      " Val F1\t\t0.7755 \n",
      " Val AUC\t0.3869 \n",
      " Val GMean\t0.3363 \n",
      " Val MCC\t-0.0693\n"
     ]
    },
    {
     "name": "stderr",
     "output_type": "stream",
     "text": [
      "100%|███████████████████████████████████████████████████████████████████████████████████████████████████████████████████████████████████| 18/18 [00:00<00:00, 112.91it/s]\n"
     ]
    },
    {
     "name": "stdout",
     "output_type": "stream",
     "text": [
      "lr:  0.0001\n",
      "Epoch 53: \n",
      " Train Loss\t0.5221 \n",
      " Val Loss\t0.5757 \n",
      " Val Acc\t0.6774 \n",
      " Val F1\t\t0.8000 \n",
      " Val AUC\t0.3869 \n",
      " Val GMean\t0.3450 \n",
      " Val MCC\t-0.0271\n"
     ]
    },
    {
     "name": "stderr",
     "output_type": "stream",
     "text": [
      "100%|███████████████████████████████████████████████████████████████████████████████████████████████████████████████████████████████████| 18/18 [00:00<00:00, 112.61it/s]\n"
     ]
    },
    {
     "name": "stdout",
     "output_type": "stream",
     "text": [
      "lr:  0.0001\n",
      "Epoch 54: \n",
      " Train Loss\t0.5199 \n",
      " Val Loss\t0.5776 \n",
      " Val Acc\t0.6452 \n",
      " Val F1\t\t0.7755 \n",
      " Val AUC\t0.3810 \n",
      " Val GMean\t0.3363 \n",
      " Val MCC\t-0.0693\n"
     ]
    },
    {
     "name": "stderr",
     "output_type": "stream",
     "text": [
      "100%|███████████████████████████████████████████████████████████████████████████████████████████████████████████████████████████████████| 18/18 [00:00<00:00, 127.90it/s]\n"
     ]
    },
    {
     "name": "stdout",
     "output_type": "stream",
     "text": [
      "lr:  0.0001\n",
      "Epoch 55: \n",
      " Train Loss\t0.5174 \n",
      " Val Loss\t0.5795 \n",
      " Val Acc\t0.6452 \n",
      " Val F1\t\t0.7755 \n",
      " Val AUC\t0.3810 \n",
      " Val GMean\t0.3363 \n",
      " Val MCC\t-0.0693\n"
     ]
    },
    {
     "name": "stderr",
     "output_type": "stream",
     "text": [
      "100%|███████████████████████████████████████████████████████████████████████████████████████████████████████████████████████████████████| 18/18 [00:00<00:00, 127.00it/s]\n"
     ]
    },
    {
     "name": "stdout",
     "output_type": "stream",
     "text": [
      "lr:  0.0001\n",
      "Epoch 56: \n",
      " Train Loss\t0.5150 \n",
      " Val Loss\t0.5816 \n",
      " Val Acc\t0.6452 \n",
      " Val F1\t\t0.7755 \n",
      " Val AUC\t0.3810 \n",
      " Val GMean\t0.3363 \n",
      " Val MCC\t-0.0693\n"
     ]
    },
    {
     "name": "stderr",
     "output_type": "stream",
     "text": [
      "100%|███████████████████████████████████████████████████████████████████████████████████████████████████████████████████████████████████| 18/18 [00:00<00:00, 128.38it/s]\n"
     ]
    },
    {
     "name": "stdout",
     "output_type": "stream",
     "text": [
      "lr:  0.0001\n",
      "Epoch 57: \n",
      " Train Loss\t0.5127 \n",
      " Val Loss\t0.5840 \n",
      " Val Acc\t0.6452 \n",
      " Val F1\t\t0.7755 \n",
      " Val AUC\t0.3810 \n",
      " Val GMean\t0.3363 \n",
      " Val MCC\t-0.0693\n"
     ]
    },
    {
     "name": "stderr",
     "output_type": "stream",
     "text": [
      "100%|███████████████████████████████████████████████████████████████████████████████████████████████████████████████████████████████████| 18/18 [00:00<00:00, 127.21it/s]\n"
     ]
    },
    {
     "name": "stdout",
     "output_type": "stream",
     "text": [
      "lr:  0.0001\n",
      "Epoch 58: \n",
      " Train Loss\t0.5101 \n",
      " Val Loss\t0.5859 \n",
      " Val Acc\t0.6774 \n",
      " Val F1\t\t0.8000 \n",
      " Val AUC\t0.3750 \n",
      " Val GMean\t0.3450 \n",
      " Val MCC\t-0.0271\n"
     ]
    },
    {
     "name": "stderr",
     "output_type": "stream",
     "text": [
      "100%|███████████████████████████████████████████████████████████████████████████████████████████████████████████████████████████████████| 18/18 [00:00<00:00, 121.88it/s]\n"
     ]
    },
    {
     "name": "stdout",
     "output_type": "stream",
     "text": [
      "lr:  0.0001\n",
      "Epoch 59: \n",
      " Train Loss\t0.5079 \n",
      " Val Loss\t0.5877 \n",
      " Val Acc\t0.6774 \n",
      " Val F1\t\t0.8000 \n",
      " Val AUC\t0.3690 \n",
      " Val GMean\t0.3450 \n",
      " Val MCC\t-0.0271\n"
     ]
    },
    {
     "name": "stderr",
     "output_type": "stream",
     "text": [
      "100%|███████████████████████████████████████████████████████████████████████████████████████████████████████████████████████████████████| 18/18 [00:00<00:00, 125.97it/s]\n"
     ]
    },
    {
     "name": "stdout",
     "output_type": "stream",
     "text": [
      "lr:  0.0001\n",
      "Epoch 60: \n",
      " Train Loss\t0.5058 \n",
      " Val Loss\t0.5900 \n",
      " Val Acc\t0.6452 \n",
      " Val F1\t\t0.7755 \n",
      " Val AUC\t0.3750 \n",
      " Val GMean\t0.3363 \n",
      " Val MCC\t-0.0693\n"
     ]
    },
    {
     "name": "stderr",
     "output_type": "stream",
     "text": [
      "100%|███████████████████████████████████████████████████████████████████████████████████████████████████████████████████████████████████| 18/18 [00:00<00:00, 130.19it/s]\n"
     ]
    },
    {
     "name": "stdout",
     "output_type": "stream",
     "text": [
      "lr:  0.0001\n",
      "Epoch 61: \n",
      " Train Loss\t0.5030 \n",
      " Val Loss\t0.5922 \n",
      " Val Acc\t0.6452 \n",
      " Val F1\t\t0.7755 \n",
      " Val AUC\t0.3690 \n",
      " Val GMean\t0.3363 \n",
      " Val MCC\t-0.0693\n"
     ]
    },
    {
     "name": "stderr",
     "output_type": "stream",
     "text": [
      "100%|███████████████████████████████████████████████████████████████████████████████████████████████████████████████████████████████████| 18/18 [00:00<00:00, 129.23it/s]\n"
     ]
    },
    {
     "name": "stdout",
     "output_type": "stream",
     "text": [
      "lr:  0.0001\n",
      "Epoch 62: \n",
      " Train Loss\t0.5005 \n",
      " Val Loss\t0.5947 \n",
      " Val Acc\t0.6452 \n",
      " Val F1\t\t0.7755 \n",
      " Val AUC\t0.3690 \n",
      " Val GMean\t0.3363 \n",
      " Val MCC\t-0.0693\n"
     ]
    },
    {
     "name": "stderr",
     "output_type": "stream",
     "text": [
      "100%|███████████████████████████████████████████████████████████████████████████████████████████████████████████████████████████████████| 18/18 [00:00<00:00, 129.86it/s]\n"
     ]
    },
    {
     "name": "stdout",
     "output_type": "stream",
     "text": [
      "lr:  0.0001\n",
      "Epoch 63: \n",
      " Train Loss\t0.4978 \n",
      " Val Loss\t0.5974 \n",
      " Val Acc\t0.6452 \n",
      " Val F1\t\t0.7755 \n",
      " Val AUC\t0.3690 \n",
      " Val GMean\t0.3363 \n",
      " Val MCC\t-0.0693\n"
     ]
    },
    {
     "name": "stderr",
     "output_type": "stream",
     "text": [
      "100%|███████████████████████████████████████████████████████████████████████████████████████████████████████████████████████████████████| 18/18 [00:00<00:00, 128.26it/s]\n"
     ]
    },
    {
     "name": "stdout",
     "output_type": "stream",
     "text": [
      "lr:  0.0001\n",
      "Epoch 64: \n",
      " Train Loss\t0.4955 \n",
      " Val Loss\t0.5995 \n",
      " Val Acc\t0.6774 \n",
      " Val F1\t\t0.8000 \n",
      " Val AUC\t0.3631 \n",
      " Val GMean\t0.3450 \n",
      " Val MCC\t-0.0271\n"
     ]
    },
    {
     "name": "stderr",
     "output_type": "stream",
     "text": [
      "100%|███████████████████████████████████████████████████████████████████████████████████████████████████████████████████████████████████| 18/18 [00:00<00:00, 115.99it/s]\n"
     ]
    },
    {
     "name": "stdout",
     "output_type": "stream",
     "text": [
      "lr:  0.0001\n",
      "Epoch 65: \n",
      " Train Loss\t0.4929 \n",
      " Val Loss\t0.6021 \n",
      " Val Acc\t0.6452 \n",
      " Val F1\t\t0.7755 \n",
      " Val AUC\t0.3690 \n",
      " Val GMean\t0.3363 \n",
      " Val MCC\t-0.0693\n"
     ]
    },
    {
     "name": "stderr",
     "output_type": "stream",
     "text": [
      "100%|███████████████████████████████████████████████████████████████████████████████████████████████████████████████████████████████████| 18/18 [00:00<00:00, 115.13it/s]\n"
     ]
    },
    {
     "name": "stdout",
     "output_type": "stream",
     "text": [
      "lr:  0.0001\n",
      "Epoch 66: \n",
      " Train Loss\t0.4902 \n",
      " Val Loss\t0.6045 \n",
      " Val Acc\t0.6452 \n",
      " Val F1\t\t0.7755 \n",
      " Val AUC\t0.3690 \n",
      " Val GMean\t0.3363 \n",
      " Val MCC\t-0.0693\n"
     ]
    },
    {
     "name": "stderr",
     "output_type": "stream",
     "text": [
      "100%|███████████████████████████████████████████████████████████████████████████████████████████████████████████████████████████████████| 18/18 [00:00<00:00, 122.86it/s]\n"
     ]
    },
    {
     "name": "stdout",
     "output_type": "stream",
     "text": [
      "lr:  0.0001\n",
      "Epoch 67: \n",
      " Train Loss\t0.4881 \n",
      " Val Loss\t0.6067 \n",
      " Val Acc\t0.6452 \n",
      " Val F1\t\t0.7755 \n",
      " Val AUC\t0.3750 \n",
      " Val GMean\t0.3363 \n",
      " Val MCC\t-0.0693\n"
     ]
    },
    {
     "name": "stderr",
     "output_type": "stream",
     "text": [
      "100%|███████████████████████████████████████████████████████████████████████████████████████████████████████████████████████████████████| 18/18 [00:00<00:00, 126.26it/s]\n"
     ]
    },
    {
     "name": "stdout",
     "output_type": "stream",
     "text": [
      "lr:  0.0001\n",
      "Epoch 68: \n",
      " Train Loss\t0.4855 \n",
      " Val Loss\t0.6094 \n",
      " Val Acc\t0.6129 \n",
      " Val F1\t\t0.7500 \n",
      " Val AUC\t0.3750 \n",
      " Val GMean\t0.3273 \n",
      " Val MCC\t-0.1071\n"
     ]
    },
    {
     "name": "stderr",
     "output_type": "stream",
     "text": [
      "100%|███████████████████████████████████████████████████████████████████████████████████████████████████████████████████████████████████| 18/18 [00:00<00:00, 127.37it/s]\n"
     ]
    },
    {
     "name": "stdout",
     "output_type": "stream",
     "text": [
      "lr:  0.0001\n",
      "Epoch 69: \n",
      " Train Loss\t0.4830 \n",
      " Val Loss\t0.6118 \n",
      " Val Acc\t0.6452 \n",
      " Val F1\t\t0.7755 \n",
      " Val AUC\t0.3810 \n",
      " Val GMean\t0.3363 \n",
      " Val MCC\t-0.0693\n"
     ]
    },
    {
     "name": "stderr",
     "output_type": "stream",
     "text": [
      "100%|███████████████████████████████████████████████████████████████████████████████████████████████████████████████████████████████████| 18/18 [00:00<00:00, 131.22it/s]\n"
     ]
    },
    {
     "name": "stdout",
     "output_type": "stream",
     "text": [
      "lr:  0.0001\n",
      "Epoch 70: \n",
      " Train Loss\t0.4811 \n",
      " Val Loss\t0.6141 \n",
      " Val Acc\t0.6452 \n",
      " Val F1\t\t0.7755 \n",
      " Val AUC\t0.3869 \n",
      " Val GMean\t0.3363 \n",
      " Val MCC\t-0.0693\n"
     ]
    },
    {
     "name": "stderr",
     "output_type": "stream",
     "text": [
      "100%|███████████████████████████████████████████████████████████████████████████████████████████████████████████████████████████████████| 18/18 [00:00<00:00, 128.04it/s]\n"
     ]
    },
    {
     "name": "stdout",
     "output_type": "stream",
     "text": [
      "lr:  0.0001\n",
      "Epoch 71: \n",
      " Train Loss\t0.4788 \n",
      " Val Loss\t0.6166 \n",
      " Val Acc\t0.6452 \n",
      " Val F1\t\t0.7755 \n",
      " Val AUC\t0.3869 \n",
      " Val GMean\t0.3363 \n",
      " Val MCC\t-0.0693\n"
     ]
    },
    {
     "name": "stderr",
     "output_type": "stream",
     "text": [
      "100%|███████████████████████████████████████████████████████████████████████████████████████████████████████████████████████████████████| 18/18 [00:00<00:00, 130.66it/s]\n"
     ]
    },
    {
     "name": "stdout",
     "output_type": "stream",
     "text": [
      "lr:  0.0001\n",
      "Epoch 72: \n",
      " Train Loss\t0.4767 \n",
      " Val Loss\t0.6190 \n",
      " Val Acc\t0.6452 \n",
      " Val F1\t\t0.7755 \n",
      " Val AUC\t0.3869 \n",
      " Val GMean\t0.3363 \n",
      " Val MCC\t-0.0693\n"
     ]
    },
    {
     "name": "stderr",
     "output_type": "stream",
     "text": [
      "100%|███████████████████████████████████████████████████████████████████████████████████████████████████████████████████████████████████| 18/18 [00:00<00:00, 129.30it/s]\n"
     ]
    },
    {
     "name": "stdout",
     "output_type": "stream",
     "text": [
      "lr:  0.0001\n",
      "Epoch 73: \n",
      " Train Loss\t0.4744 \n",
      " Val Loss\t0.6215 \n",
      " Val Acc\t0.6452 \n",
      " Val F1\t\t0.7755 \n",
      " Val AUC\t0.3869 \n",
      " Val GMean\t0.3363 \n",
      " Val MCC\t-0.0693\n"
     ]
    },
    {
     "name": "stderr",
     "output_type": "stream",
     "text": [
      "100%|███████████████████████████████████████████████████████████████████████████████████████████████████████████████████████████████████| 18/18 [00:00<00:00, 123.45it/s]\n"
     ]
    },
    {
     "name": "stdout",
     "output_type": "stream",
     "text": [
      "lr:  0.0001\n",
      "Epoch 74: \n",
      " Train Loss\t0.4725 \n",
      " Val Loss\t0.6237 \n",
      " Val Acc\t0.6452 \n",
      " Val F1\t\t0.7755 \n",
      " Val AUC\t0.3869 \n",
      " Val GMean\t0.3363 \n",
      " Val MCC\t-0.0693\n"
     ]
    },
    {
     "name": "stderr",
     "output_type": "stream",
     "text": [
      "100%|███████████████████████████████████████████████████████████████████████████████████████████████████████████████████████████████████| 18/18 [00:00<00:00, 130.45it/s]\n"
     ]
    },
    {
     "name": "stdout",
     "output_type": "stream",
     "text": [
      "lr:  0.0001\n",
      "Epoch 75: \n",
      " Train Loss\t0.4705 \n",
      " Val Loss\t0.6262 \n",
      " Val Acc\t0.6452 \n",
      " Val F1\t\t0.7755 \n",
      " Val AUC\t0.3929 \n",
      " Val GMean\t0.3363 \n",
      " Val MCC\t-0.0693\n"
     ]
    },
    {
     "name": "stderr",
     "output_type": "stream",
     "text": [
      "100%|███████████████████████████████████████████████████████████████████████████████████████████████████████████████████████████████████| 18/18 [00:00<00:00, 129.01it/s]\n"
     ]
    },
    {
     "name": "stdout",
     "output_type": "stream",
     "text": [
      "lr:  0.0001\n",
      "Epoch 76: \n",
      " Train Loss\t0.4684 \n",
      " Val Loss\t0.6288 \n",
      " Val Acc\t0.6452 \n",
      " Val F1\t\t0.7755 \n",
      " Val AUC\t0.3869 \n",
      " Val GMean\t0.3363 \n",
      " Val MCC\t-0.0693\n"
     ]
    },
    {
     "name": "stderr",
     "output_type": "stream",
     "text": [
      "100%|███████████████████████████████████████████████████████████████████████████████████████████████████████████████████████████████████| 18/18 [00:00<00:00, 125.18it/s]\n"
     ]
    },
    {
     "name": "stdout",
     "output_type": "stream",
     "text": [
      "lr:  0.0001\n",
      "Epoch 77: \n",
      " Train Loss\t0.4660 \n",
      " Val Loss\t0.6316 \n",
      " Val Acc\t0.6452 \n",
      " Val F1\t\t0.7755 \n",
      " Val AUC\t0.3869 \n",
      " Val GMean\t0.3363 \n",
      " Val MCC\t-0.0693\n"
     ]
    },
    {
     "name": "stderr",
     "output_type": "stream",
     "text": [
      "100%|███████████████████████████████████████████████████████████████████████████████████████████████████████████████████████████████████| 18/18 [00:00<00:00, 123.07it/s]\n"
     ]
    },
    {
     "name": "stdout",
     "output_type": "stream",
     "text": [
      "lr:  0.0001\n",
      "Epoch 78: \n",
      " Train Loss\t0.4639 \n",
      " Val Loss\t0.6341 \n",
      " Val Acc\t0.6452 \n",
      " Val F1\t\t0.7755 \n",
      " Val AUC\t0.3810 \n",
      " Val GMean\t0.3363 \n",
      " Val MCC\t-0.0693\n"
     ]
    },
    {
     "name": "stderr",
     "output_type": "stream",
     "text": [
      "100%|███████████████████████████████████████████████████████████████████████████████████████████████████████████████████████████████████| 18/18 [00:00<00:00, 127.08it/s]\n"
     ]
    },
    {
     "name": "stdout",
     "output_type": "stream",
     "text": [
      "lr:  0.0001\n",
      "Epoch 79: \n",
      " Train Loss\t0.4617 \n",
      " Val Loss\t0.6371 \n",
      " Val Acc\t0.5806 \n",
      " Val F1\t\t0.7234 \n",
      " Val AUC\t0.3690 \n",
      " Val GMean\t0.3181 \n",
      " Val MCC\t-0.1422\n"
     ]
    },
    {
     "name": "stderr",
     "output_type": "stream",
     "text": [
      "100%|███████████████████████████████████████████████████████████████████████████████████████████████████████████████████████████████████| 18/18 [00:00<00:00, 128.99it/s]\n"
     ]
    },
    {
     "name": "stdout",
     "output_type": "stream",
     "text": [
      "lr:  0.0001\n",
      "Epoch 80: \n",
      " Train Loss\t0.4596 \n",
      " Val Loss\t0.6398 \n",
      " Val Acc\t0.6452 \n",
      " Val F1\t\t0.7755 \n",
      " Val AUC\t0.3750 \n",
      " Val GMean\t0.3363 \n",
      " Val MCC\t-0.0693\n"
     ]
    },
    {
     "name": "stderr",
     "output_type": "stream",
     "text": [
      "100%|███████████████████████████████████████████████████████████████████████████████████████████████████████████████████████████████████| 18/18 [00:00<00:00, 138.31it/s]\n"
     ]
    },
    {
     "name": "stdout",
     "output_type": "stream",
     "text": [
      "lr:  0.0001\n",
      "Epoch 81: \n",
      " Train Loss\t0.4574 \n",
      " Val Loss\t0.6426 \n",
      " Val Acc\t0.6452 \n",
      " Val F1\t\t0.7755 \n",
      " Val AUC\t0.3810 \n",
      " Val GMean\t0.3363 \n",
      " Val MCC\t-0.0693\n"
     ]
    },
    {
     "name": "stderr",
     "output_type": "stream",
     "text": [
      "100%|███████████████████████████████████████████████████████████████████████████████████████████████████████████████████████████████████| 18/18 [00:00<00:00, 137.66it/s]\n"
     ]
    },
    {
     "name": "stdout",
     "output_type": "stream",
     "text": [
      "lr:  0.0001\n",
      "Epoch 82: \n",
      " Train Loss\t0.4556 \n",
      " Val Loss\t0.6452 \n",
      " Val Acc\t0.6452 \n",
      " Val F1\t\t0.7755 \n",
      " Val AUC\t0.3810 \n",
      " Val GMean\t0.3363 \n",
      " Val MCC\t-0.0693\n"
     ]
    },
    {
     "name": "stderr",
     "output_type": "stream",
     "text": [
      "100%|███████████████████████████████████████████████████████████████████████████████████████████████████████████████████████████████████| 18/18 [00:00<00:00, 137.90it/s]\n"
     ]
    },
    {
     "name": "stdout",
     "output_type": "stream",
     "text": [
      "lr:  0.0001\n",
      "Epoch 83: \n",
      " Train Loss\t0.4539 \n",
      " Val Loss\t0.6481 \n",
      " Val Acc\t0.6452 \n",
      " Val F1\t\t0.7755 \n",
      " Val AUC\t0.3750 \n",
      " Val GMean\t0.3363 \n",
      " Val MCC\t-0.0693\n"
     ]
    },
    {
     "name": "stderr",
     "output_type": "stream",
     "text": [
      "100%|███████████████████████████████████████████████████████████████████████████████████████████████████████████████████████████████████| 18/18 [00:00<00:00, 131.46it/s]\n"
     ]
    },
    {
     "name": "stdout",
     "output_type": "stream",
     "text": [
      "lr:  0.0001\n",
      "Epoch 84: \n",
      " Train Loss\t0.4515 \n",
      " Val Loss\t0.6509 \n",
      " Val Acc\t0.6452 \n",
      " Val F1\t\t0.7755 \n",
      " Val AUC\t0.3810 \n",
      " Val GMean\t0.3363 \n",
      " Val MCC\t-0.0693\n"
     ]
    },
    {
     "name": "stderr",
     "output_type": "stream",
     "text": [
      "100%|███████████████████████████████████████████████████████████████████████████████████████████████████████████████████████████████████| 18/18 [00:00<00:00, 136.18it/s]\n"
     ]
    },
    {
     "name": "stdout",
     "output_type": "stream",
     "text": [
      "lr:  0.0001\n",
      "Epoch 85: \n",
      " Train Loss\t0.4501 \n",
      " Val Loss\t0.6540 \n",
      " Val Acc\t0.5806 \n",
      " Val F1\t\t0.7234 \n",
      " Val AUC\t0.3810 \n",
      " Val GMean\t0.3181 \n",
      " Val MCC\t-0.1422\n"
     ]
    },
    {
     "name": "stderr",
     "output_type": "stream",
     "text": [
      "100%|███████████████████████████████████████████████████████████████████████████████████████████████████████████████████████████████████| 18/18 [00:00<00:00, 140.08it/s]\n"
     ]
    },
    {
     "name": "stdout",
     "output_type": "stream",
     "text": [
      "lr:  0.0001\n",
      "Epoch 86: \n",
      " Train Loss\t0.4482 \n",
      " Val Loss\t0.6571 \n",
      " Val Acc\t0.5806 \n",
      " Val F1\t\t0.7234 \n",
      " Val AUC\t0.3810 \n",
      " Val GMean\t0.3181 \n",
      " Val MCC\t-0.1422\n"
     ]
    },
    {
     "name": "stderr",
     "output_type": "stream",
     "text": [
      "100%|███████████████████████████████████████████████████████████████████████████████████████████████████████████████████████████████████| 18/18 [00:00<00:00, 133.33it/s]\n"
     ]
    },
    {
     "name": "stdout",
     "output_type": "stream",
     "text": [
      "lr:  0.0001\n",
      "Epoch 87: \n",
      " Train Loss\t0.4466 \n",
      " Val Loss\t0.6602 \n",
      " Val Acc\t0.5806 \n",
      " Val F1\t\t0.7234 \n",
      " Val AUC\t0.3869 \n",
      " Val GMean\t0.3181 \n",
      " Val MCC\t-0.1422\n"
     ]
    },
    {
     "name": "stderr",
     "output_type": "stream",
     "text": [
      "100%|███████████████████████████████████████████████████████████████████████████████████████████████████████████████████████████████████| 18/18 [00:00<00:00, 141.24it/s]\n"
     ]
    },
    {
     "name": "stdout",
     "output_type": "stream",
     "text": [
      "lr:  0.0001\n",
      "Epoch 88: \n",
      " Train Loss\t0.4447 \n",
      " Val Loss\t0.6628 \n",
      " Val Acc\t0.6452 \n",
      " Val F1\t\t0.7755 \n",
      " Val AUC\t0.3810 \n",
      " Val GMean\t0.3363 \n",
      " Val MCC\t-0.0693\n"
     ]
    },
    {
     "name": "stderr",
     "output_type": "stream",
     "text": [
      "100%|███████████████████████████████████████████████████████████████████████████████████████████████████████████████████████████████████| 18/18 [00:00<00:00, 139.23it/s]\n"
     ]
    },
    {
     "name": "stdout",
     "output_type": "stream",
     "text": [
      "lr:  0.0001\n",
      "Epoch 89: \n",
      " Train Loss\t0.4427 \n",
      " Val Loss\t0.6661 \n",
      " Val Acc\t0.5806 \n",
      " Val F1\t\t0.7234 \n",
      " Val AUC\t0.3810 \n",
      " Val GMean\t0.3181 \n",
      " Val MCC\t-0.1422\n"
     ]
    },
    {
     "name": "stderr",
     "output_type": "stream",
     "text": [
      "100%|███████████████████████████████████████████████████████████████████████████████████████████████████████████████████████████████████| 18/18 [00:00<00:00, 135.88it/s]\n"
     ]
    },
    {
     "name": "stdout",
     "output_type": "stream",
     "text": [
      "lr:  0.0001\n",
      "Epoch 90: \n",
      " Train Loss\t0.4406 \n",
      " Val Loss\t0.6689 \n",
      " Val Acc\t0.6452 \n",
      " Val F1\t\t0.7755 \n",
      " Val AUC\t0.3750 \n",
      " Val GMean\t0.3363 \n",
      " Val MCC\t-0.0693\n"
     ]
    },
    {
     "name": "stderr",
     "output_type": "stream",
     "text": [
      "100%|███████████████████████████████████████████████████████████████████████████████████████████████████████████████████████████████████| 18/18 [00:00<00:00, 138.29it/s]\n"
     ]
    },
    {
     "name": "stdout",
     "output_type": "stream",
     "text": [
      "lr:  0.0001\n",
      "Epoch 91: \n",
      " Train Loss\t0.4384 \n",
      " Val Loss\t0.6717 \n",
      " Val Acc\t0.6452 \n",
      " Val F1\t\t0.7755 \n",
      " Val AUC\t0.3750 \n",
      " Val GMean\t0.3363 \n",
      " Val MCC\t-0.0693\n"
     ]
    },
    {
     "name": "stderr",
     "output_type": "stream",
     "text": [
      "100%|███████████████████████████████████████████████████████████████████████████████████████████████████████████████████████████████████| 18/18 [00:00<00:00, 136.62it/s]\n"
     ]
    },
    {
     "name": "stdout",
     "output_type": "stream",
     "text": [
      "lr:  0.0001\n",
      "Epoch 92: \n",
      " Train Loss\t0.4362 \n",
      " Val Loss\t0.6746 \n",
      " Val Acc\t0.5806 \n",
      " Val F1\t\t0.7234 \n",
      " Val AUC\t0.3929 \n",
      " Val GMean\t0.3181 \n",
      " Val MCC\t-0.1422\n"
     ]
    },
    {
     "name": "stderr",
     "output_type": "stream",
     "text": [
      "100%|███████████████████████████████████████████████████████████████████████████████████████████████████████████████████████████████████| 18/18 [00:00<00:00, 135.13it/s]\n"
     ]
    },
    {
     "name": "stdout",
     "output_type": "stream",
     "text": [
      "lr:  0.0001\n",
      "Epoch 93: \n",
      " Train Loss\t0.4339 \n",
      " Val Loss\t0.6780 \n",
      " Val Acc\t0.5806 \n",
      " Val F1\t\t0.7234 \n",
      " Val AUC\t0.3810 \n",
      " Val GMean\t0.3181 \n",
      " Val MCC\t-0.1422\n"
     ]
    },
    {
     "name": "stderr",
     "output_type": "stream",
     "text": [
      "100%|███████████████████████████████████████████████████████████████████████████████████████████████████████████████████████████████████| 18/18 [00:00<00:00, 138.42it/s]\n"
     ]
    },
    {
     "name": "stdout",
     "output_type": "stream",
     "text": [
      "lr:  0.0001\n",
      "Epoch 94: \n",
      " Train Loss\t0.4317 \n",
      " Val Loss\t0.6814 \n",
      " Val Acc\t0.5806 \n",
      " Val F1\t\t0.7234 \n",
      " Val AUC\t0.3810 \n",
      " Val GMean\t0.3181 \n",
      " Val MCC\t-0.1422\n"
     ]
    },
    {
     "name": "stderr",
     "output_type": "stream",
     "text": [
      "100%|███████████████████████████████████████████████████████████████████████████████████████████████████████████████████████████████████| 18/18 [00:00<00:00, 136.87it/s]\n"
     ]
    },
    {
     "name": "stdout",
     "output_type": "stream",
     "text": [
      "lr:  0.0001\n",
      "Epoch 95: \n",
      " Train Loss\t0.4297 \n",
      " Val Loss\t0.6853 \n",
      " Val Acc\t0.5484 \n",
      " Val F1\t\t0.6957 \n",
      " Val AUC\t0.3750 \n",
      " Val GMean\t0.3086 \n",
      " Val MCC\t-0.1755\n"
     ]
    },
    {
     "name": "stderr",
     "output_type": "stream",
     "text": [
      "100%|███████████████████████████████████████████████████████████████████████████████████████████████████████████████████████████████████| 18/18 [00:00<00:00, 139.41it/s]\n"
     ]
    },
    {
     "name": "stdout",
     "output_type": "stream",
     "text": [
      "lr:  0.0001\n",
      "Epoch 96: \n",
      " Train Loss\t0.4279 \n",
      " Val Loss\t0.6881 \n",
      " Val Acc\t0.6452 \n",
      " Val F1\t\t0.7755 \n",
      " Val AUC\t0.3810 \n",
      " Val GMean\t0.3363 \n",
      " Val MCC\t-0.0693\n"
     ]
    },
    {
     "name": "stderr",
     "output_type": "stream",
     "text": [
      "100%|███████████████████████████████████████████████████████████████████████████████████████████████████████████████████████████████████| 18/18 [00:00<00:00, 130.67it/s]\n"
     ]
    },
    {
     "name": "stdout",
     "output_type": "stream",
     "text": [
      "lr:  0.0001\n",
      "Epoch 97: \n",
      " Train Loss\t0.4262 \n",
      " Val Loss\t0.6911 \n",
      " Val Acc\t0.6452 \n",
      " Val F1\t\t0.7755 \n",
      " Val AUC\t0.3810 \n",
      " Val GMean\t0.3363 \n",
      " Val MCC\t-0.0693\n"
     ]
    },
    {
     "name": "stderr",
     "output_type": "stream",
     "text": [
      "100%|███████████████████████████████████████████████████████████████████████████████████████████████████████████████████████████████████| 18/18 [00:00<00:00, 134.65it/s]\n"
     ]
    },
    {
     "name": "stdout",
     "output_type": "stream",
     "text": [
      "lr:  0.0001\n",
      "Epoch 98: \n",
      " Train Loss\t0.4244 \n",
      " Val Loss\t0.6944 \n",
      " Val Acc\t0.5806 \n",
      " Val F1\t\t0.7234 \n",
      " Val AUC\t0.3810 \n",
      " Val GMean\t0.3181 \n",
      " Val MCC\t-0.1422\n"
     ]
    },
    {
     "name": "stderr",
     "output_type": "stream",
     "text": [
      "100%|███████████████████████████████████████████████████████████████████████████████████████████████████████████████████████████████████| 18/18 [00:00<00:00, 131.54it/s]\n"
     ]
    },
    {
     "name": "stdout",
     "output_type": "stream",
     "text": [
      "lr:  0.0001\n",
      "Epoch 99: \n",
      " Train Loss\t0.4223 \n",
      " Val Loss\t0.6976 \n",
      " Val Acc\t0.6129 \n",
      " Val F1\t\t0.7500 \n",
      " Val AUC\t0.3810 \n",
      " Val GMean\t0.3273 \n",
      " Val MCC\t-0.1071\n"
     ]
    }
   ],
   "source": [
    "clip_norm = 1\n",
    "\n",
    "# model name\n",
    "# model_name = \"demo\"\n",
    "model_name = \"masonscnn\"\n",
    "# model_name = \"lstm\"\n",
    "\n",
    "# model_name = \"InteractTransformer\"\n",
    "# model_name = \"InteractCoAttnTransformer\"\n",
    "\n",
    "# model_name = \"InteractTransformerLSTM\"\n",
    "\n",
    "# model_name = \"SetTransformer\"\n",
    "# model_name = \"SetCoAttnTransformer\"\n",
    "\n",
    "# model_name = \"SetModel\"\n",
    "# model_name = \"SetCoAttnModel\"\n",
    "# model_name = \"SetModel_ablation\"\n",
    "\n",
    "# model_name = \"FTransformer\"\n",
    "\n",
    "# model_name = \"EnsembleModel\"\n",
    "# model_name = \"PESI\"\n",
    "\n",
    "# use_fine_tune = True\n",
    "use_fine_tune = False\n",
    "\n",
    "# fix_FE = True\n",
    "fix_FE = False\n",
    "\n",
    "# use_pair = True\n",
    "use_pair = False\n",
    "\n",
    "if use_fine_tune==True:\n",
    "    model_name += \"_ft\"\n",
    "\n",
    "    if use_pair==True:\n",
    "        model_name += \"_pairPreTrain\"\n",
    "        \n",
    "# 0 - L2; 1 - L1\n",
    "use_reg = 0\n",
    "\n",
    "# use_BSS = True\n",
    "use_BSS = False\n",
    "\n",
    "os.makedirs(\"./results/CoV-AbDab/{}/\".format(model_name), exist_ok=True)\n",
    "\n",
    "print(\"model name: {}\".format(model_name))\n",
    "\n",
    "kfold_labels = []\n",
    "kfold_preds = []\n",
    "\n",
    "for k_iter in range(10):\n",
    "    \n",
    "    print(\"=========================================================\")\n",
    "    print(\"fold {} as val set\".format(k_iter))\n",
    "    \n",
    "    train_dataset = SeqDataset(data_path=\"../SARS-SAbDab_Shaun/CoV-AbDab_extract.csv\", \\\n",
    "                               kfold=10, holdout_fold=k_iter, is_train_test_full=\"train\", \\\n",
    "                               use_pair=False, balance_samples=False)\n",
    "    train_loader = torch.utils.data.DataLoader(train_dataset, batch_size=16, shuffle=False, \\\n",
    "                                               collate_fn=my_collate_fn2)\n",
    "\n",
    "    test_dataset = SeqDataset(data_path=\"../SARS-SAbDab_Shaun/CoV-AbDab_extract.csv\", \\\n",
    "                              kfold=10, holdout_fold=k_iter, is_train_test_full=\"test\", \\\n",
    "                              use_pair=False, balance_samples=False)\n",
    "    test_loader = torch.utils.data.DataLoader(test_dataset, batch_size=1, shuffle=False, \\\n",
    "                                               collate_fn=my_collate_fn1)\n",
    "\n",
    "    if model_name==\"demo\":\n",
    "        model = BiLSTM_demo(embed_size=32, hidden=64, num_layers=1, dropout=0.5, use_pretrain=False).cuda()\n",
    "        \n",
    "        epochs = 100\n",
    "        lr = 6e-5\n",
    "        \n",
    "    elif model_name==\"masonscnn\":\n",
    "        model = MasonsCNN(amino_ft_dim=len(vocab), \n",
    "                          max_antibody_len=100, \n",
    "                          max_virus_len=100, \n",
    "                          h_dim=512, \n",
    "                          dropout=0.1).cuda()\n",
    "        epochs = 100\n",
    "        lr = 1e-4\n",
    "        l2_coef = 5e-4\n",
    "        \n",
    "    elif model_name==\"masonscnn_ft\":\n",
    "        model = torch.load(\"./results/SAbDab/full/seq1_neg0/masonscnn/model_best.pth\")\n",
    "\n",
    "        if fix_FE==True:\n",
    "            for name, param in model.cnnmodule.named_parameters():\n",
    "                param.requires_grad = False\n",
    "            for name, param in model.cnnmodule2.named_parameters():\n",
    "                param.requires_grad = False\n",
    "\n",
    "\n",
    "        epochs = 500\n",
    "        lr = 1e-4\n",
    "        l2_coef = 5e-4\n",
    "        \n",
    "    elif model_name==\"masonscnn_ft_pairPreTrain\":\n",
    "        \n",
    "        encoder = torch.load(\"./results/SAbDab/full/seq1_neg0/masonscnn_encoder/model_best.pth\")\n",
    "        model = TowerBaseModel(embed_size=32, hidden=128, encoder=encoder, \n",
    "                               use_two_towers=False, use_coattn=False, fusion=0).cuda()\n",
    "        \n",
    "        if fix_FE==True:\n",
    "            for name, param in model.encoder.named_parameters():\n",
    "                param.requires_grad = False\n",
    "        \n",
    "        epochs = 500\n",
    "        lr = 1e-4\n",
    "        l2_coef = 5e-4\n",
    "\n",
    "    elif model_name==\"lstm\":\n",
    "        model = BiLSTM(embed_size=32, \n",
    "                       hidden=64, \n",
    "                       num_layers=1, \n",
    "                       dropout=0.5, \n",
    "                       use_pretrain=False).cuda()\n",
    "\n",
    "        epochs = 300\n",
    "        lr = 1e-4\n",
    "        l2_coef = 5e-4\n",
    "\n",
    "    elif model_name==\"lstm_ft\":\n",
    "        model = torch.load(\"./results/SAbDab/full/seq1_neg0/lstm/model_best.pth\")\n",
    "        model.train()\n",
    "        \n",
    "        if fix_FE==True:\n",
    "            for name, param in model.LSTM_para.named_parameters():\n",
    "                param.requires_grad = False\n",
    "            for name, param in model.LSTM_epi.named_parameters():\n",
    "                param.requires_grad = False\n",
    "        \n",
    "        epochs = 500\n",
    "        lr = 1e-4\n",
    "        l2_coef = 5e-4\n",
    "        \n",
    "    elif model_name==\"lstm_ft_pairPreTrain\":\n",
    "\n",
    "        encoder = torch.load(\"./results/SAbDab/full/seq1_neg0/lstm_encoder/model_best.pth\")\n",
    "        encoder.train()\n",
    "        model = TowerBaseModel(embed_size=64, hidden=128, encoder=encoder, \n",
    "                               use_two_towers=False, use_coattn=False, fusion=1).cuda()\n",
    "        \n",
    "        if fix_FE==True:\n",
    "            for name, param in model.encoder.named_parameters():\n",
    "                param.requires_grad = False\n",
    "        \n",
    "        epochs = 500\n",
    "        lr = 1e-4\n",
    "        l2_coef = 5e-4\n",
    "    \n",
    "    elif model_name==\"InteractTransformer\":\n",
    "        model = InteractTransformer(embed_size=32, \n",
    "                                    num_encoder_layers=1, \n",
    "                                    nhead=2, \n",
    "                                    dropout=0.3, \n",
    "                                    use_coattn=False).cuda()\n",
    "        epochs = 200\n",
    "        lr = 3e-5\n",
    "        \n",
    "    elif model_name==\"InteractTransformer_ft\":\n",
    "        model = torch.load(\"./results/SAbDab/full/seq1_neg0/InteractTransformer/model_best.pth\")\n",
    "        model.train()\n",
    "        \n",
    "        if fix_FE==True:\n",
    "            for name, param in model.transformer_para.named_parameters():\n",
    "                param.requires_grad = False\n",
    "            for name, param in model.transformer_epi.named_parameters():\n",
    "                param.requires_grad = False\n",
    "\n",
    "        epochs = 1000\n",
    "        lr = 1e-4\n",
    "        l2_coef = 5e-4\n",
    "                \n",
    "    elif model_name==\"InteractCoAttnTransformer\":\n",
    "        model = InteractTransformer(embed_size=32, \n",
    "                                    num_encoder_layers=1, \n",
    "                                    nhead=2, \n",
    "                                    dropout=0.5, \n",
    "                                    use_coattn=True).cuda()\n",
    "        epochs = 200\n",
    "        lr = 3e-5\n",
    "        \n",
    "    elif model_name==\"InteractCoAttnTransformer_ft\":\n",
    "        model = torch.load(\"./results/SAbDab/full/seq1_neg0/InteractCoAttnTransformer/model_best.pth\")\n",
    "        model.train()\n",
    "    \n",
    "        if fix_FE==True:\n",
    "            for name, param in model.transformer_para.named_parameters():\n",
    "                param.requires_grad = False\n",
    "            for name, param in model.transformer_epi.named_parameters():\n",
    "                param.requires_grad = False\n",
    "        \n",
    "        epochs = 1500\n",
    "        lr = 6e-5\n",
    "        l2_coef = 5e-4\n",
    "        \n",
    "    elif model_name==\"InteractCoAttnTransformer_ft_pairPreTrain\":\n",
    "        encoder = torch.load(\"./results/SAbDab/full/seq1_neg0/InteractTransformer_encoder/model_best.pth\")\n",
    "        encoder.train()\n",
    "        \n",
    "        model = TowerBaseModel(embed_size=32, hidden=128, encoder=encoder, \n",
    "                               use_two_towers=False, use_coattn=True, fusion=1).cuda()\n",
    "    \n",
    "        if fix_FE==True:\n",
    "            for name, param in model.encoder.named_parameters():\n",
    "                param.requires_grad = False\n",
    "        \n",
    "        epochs = 1500\n",
    "        lr = 6e-5\n",
    "        l2_coef = 5e-4\n",
    "\n",
    "    elif model_name==\"InteractTransformerLSTM\":\n",
    "        model = InteractTransformerLSTM(embed_size=32, \n",
    "                                        hidden=64, \n",
    "                                        num_encoder_layers=1, \n",
    "                                        num_lstm_layers=1, \n",
    "                                        nhead=2, \n",
    "                                        dropout=0.5, \n",
    "                                        use_coattn=True).cuda()\n",
    "        epochs = 200\n",
    "        lr = 6e-5\n",
    "\n",
    "    elif model_name==\"InteractTransformerLSTM_ft\":\n",
    "        model = torch.load(\"./results/SAbDab/full/seq1_neg0/InteractTransformerLSTM/model_best.pth\")\n",
    "        model.train()\n",
    "        \n",
    "        epochs = 200\n",
    "        lr = 6e-5\n",
    "                \n",
    "    elif model_name==\"SetTransformer\":\n",
    "        model = SetTransformer(dim_input=32, \n",
    "                               num_outputs=32, \n",
    "                               dim_output=32, \n",
    "                               dim_hidden=64, \n",
    "                               num_inds=6, \n",
    "                               num_heads=4, \n",
    "                               ln=True, \n",
    "                               dropout=0.5, \n",
    "                               use_coattn=False, \n",
    "                               share=False).cuda()\n",
    "        \n",
    "        epochs = 500\n",
    "        lr = 1e-4\n",
    "        l2_coef = 5e-4\n",
    "        \n",
    "    elif model_name==\"SetTransformer_ft\":\n",
    "\n",
    "        model = torch.load(\"./results/SAbDab/full/seq1_neg0/SetTransformer/model_best.pth\")\n",
    "        model.train()\n",
    "\n",
    "        if fix_FE==True:\n",
    "            for name, param in model.para_enc.named_parameters():\n",
    "                param.requires_grad = False\n",
    "            for name, param in model.para_dec.named_parameters():\n",
    "                param.requires_grad = False\n",
    "            for name, param in model.epi_enc.named_parameters():\n",
    "                param.requires_grad = False\n",
    "            for name, param in model.epi_dec.named_parameters():\n",
    "                param.requires_grad = False\n",
    "\n",
    "        epochs = 500\n",
    "        lr = 1e-4\n",
    "        l2_coef = 5e-4\n",
    "        \n",
    "        \n",
    "    elif model_name==\"SetCoAttnTransformer\":\n",
    "        model = SetTransformer(dim_input=32, \n",
    "                               num_outputs=32, \n",
    "                               dim_output=32, \n",
    "                               dim_hidden=64, \n",
    "                               num_inds=6, \n",
    "                               num_heads=4, \n",
    "                               ln=True, \n",
    "                               dropout=0.5, \n",
    "                               use_coattn=True).cuda()\n",
    "        epochs = 500\n",
    "        lr = 6e-5\n",
    "        l2_coef = 5e-4\n",
    "        \n",
    "    elif model_name==\"SetCoAttnTransformer_ft\":\n",
    "        if use_BSS==False:\n",
    "#             model = torch.load(\"./results/SAbDab/full/seq1_neg0/SetCoAttnTransformer/model_best.pth\")\n",
    "#             model.train()\n",
    "\n",
    "#             if fix_FE==True:\n",
    "#                 for name, param in model.para_enc.named_parameters():\n",
    "#                     param.requires_grad = False\n",
    "#                 for name, param in model.para_dec.named_parameters():\n",
    "#                     param.requires_grad = False\n",
    "#                 for name, param in model.epi_enc.named_parameters():\n",
    "#                     param.requires_grad = False\n",
    "#                 for name, param in model.epi_dec.named_parameters():\n",
    "#                     param.requires_grad = False\n",
    "            \n",
    "#             epochs = 500\n",
    "#             lr = 3e-5\n",
    "#             l2_coef = 6e-4\n",
    "            model = SetTransformer(dim_input=32, \n",
    "                                   num_outputs=32, \n",
    "                                   dim_output=32, \n",
    "                                   dim_hidden=64, \n",
    "                                   num_inds=6, \n",
    "                                   num_heads=4, \n",
    "                                   ln=True, \n",
    "                                   dropout=0.5, \n",
    "                                   use_coattn=False, \n",
    "                                   share=False, \n",
    "                                   use_BSS=False).cuda()\n",
    "        \n",
    "            pt_model = torch.load(\"./results/SAbDab/full/seq1_neg0/SetCoAttnTransformer/model_best.pth\")\n",
    "        \n",
    "            model.para_enc = pt_model.para_enc\n",
    "            model.para_dec = pt_model.para_dec\n",
    "            model.epi_enc = pt_model.epi_enc\n",
    "            model.epi_dec = pt_model.epi_dec\n",
    "            model.train()\n",
    "        \n",
    "            epochs = 500\n",
    "            lr = 6e-5\n",
    "            l2_coef = 5e-4\n",
    "\n",
    "        elif use_BSS==True:\n",
    "            print(model_name, use_BSS)\n",
    "            model = SetTransformer(dim_input=32, \n",
    "                                   num_outputs=32, \n",
    "                                   dim_output=32, \n",
    "                                   dim_hidden=64, \n",
    "                                   num_inds=6, \n",
    "                                   num_heads=4, \n",
    "                                   ln=True, \n",
    "                                   dropout=0.5, \n",
    "                                   use_coattn=False, \n",
    "                                   share=False, \n",
    "                                   use_BSS=True).cuda()\n",
    "        \n",
    "            # load pre-trained weights\n",
    "            pt_model = torch.load(\"./results/SAbDab/full/seq1_neg0/SetCoAttnTransformer/model_best.pth\")\n",
    "        \n",
    "            model.embedding = pt_model.embedding\n",
    "            \n",
    "            model.para_enc = pt_model.para_enc\n",
    "            model.epi_enc = pt_model.epi_enc\n",
    "            \n",
    "            model.co_attn = pt_model.co_attn\n",
    "            \n",
    "            model.para_dec = pt_model.para_dec\n",
    "            model.epi_dec = pt_model.epi_dec\n",
    "            \n",
    "            model.output_layer = pt_model.output_layer\n",
    "            \n",
    "            model.train()\n",
    "        \n",
    "            # params\n",
    "            epochs = 500\n",
    "            lr = 6e-5\n",
    "            l2_coef = 5e-4\n",
    "        else:\n",
    "            print(\"wrong use_BSS!\")\n",
    "            quit()\n",
    "        \n",
    "        \n",
    "    elif model_name==\"SetCoAttnTransformer_ft_pairPreTrain\":\n",
    "        \n",
    "        encoder = torch.load(\"./results/SAbDab/full/seq1_neg0/SetTransformer_encoder/model_best.pth\")\n",
    "        encoder.train()\n",
    "        model = TowerBaseModel(embed_size=32, hidden=128, encoder=encoder, use_two_towers=False, mid_coattn=True, use_coattn=True, fusion=1).cuda()\n",
    "        \n",
    "        if fix_FE==True:\n",
    "            for name, param in model.encoder.named_parameters():\n",
    "                param.requires_grad = False\n",
    "        \n",
    "        epochs = 1500\n",
    "        lr = 1e-4 #6e-5\n",
    "        l2_coef = 3e-4 #5e-4\n",
    "        \n",
    "        \n",
    "    elif model_name==\"SetModel\":\n",
    "        model = SetModel(embed_size=32, \n",
    "                         hidden=64, \n",
    "                         num_layers=1, \n",
    "                         dropout=0.3, \n",
    "                         k4kmer=3, \n",
    "                         use_pretrain=False, \n",
    "                         use_coattn=False, \n",
    "                         seq_encoder_type=\"transformer\", \n",
    "                         num_heads=2, \n",
    "                         num_inds=6, \n",
    "                         num_outputs=6, \n",
    "                         ln=True).cuda()\n",
    "        \n",
    "        epochs = 200\n",
    "        lr = 3e-5\n",
    "        l2_coef = 5e-4\n",
    "        \n",
    "    elif model_name==\"SetModel_ft\":\n",
    "        model = torch.load(\"./results/SAbDab/full/seq1_neg0/SetModel/model_best.pth\")\n",
    "        model.train()\n",
    "        \n",
    "        if fix_FE==True:\n",
    "            for name, param in model.para_enc.named_parameters():\n",
    "                param.requires_grad = False\n",
    "            for name, param in model.para_dec.named_parameters():\n",
    "                param.requires_grad = False\n",
    "            for name, param in model.epi_enc.named_parameters():\n",
    "                param.requires_grad = False\n",
    "            for name, param in model.epi_dec.named_parameters():\n",
    "                param.requires_grad = False\n",
    "        \n",
    "        epochs = 200\n",
    "        lr = 3e-5\n",
    "        l2_coef = 5e-4\n",
    "    \n",
    "    elif model_name==\"SetCoAttnModel\":\n",
    "        model = SetModel(embed_size=32, \n",
    "                         hidden=64, \n",
    "                         num_layers=1, \n",
    "                         dropout=0.3, \n",
    "                         k4kmer=3, \n",
    "                         use_pretrain=False, \n",
    "                         use_coattn=True, \n",
    "                         seq_encoder_type=\"transformer\", \n",
    "                         num_heads=2, \n",
    "                         num_inds=6, \n",
    "                         num_outputs=6, \n",
    "                         ln=True).cuda()\n",
    "        epochs = 200\n",
    "        lr = 3e-5\n",
    "    \n",
    "    elif model_name==\"SetCoAttnModel_ft\":\n",
    "        model = torch.load(\"./results/SAbDab/full/seq1_neg0/SetCoAttnModel/model_best.pth\")\n",
    "        model.train()\n",
    "        \n",
    "        if fix_FE==True:\n",
    "            for name, param in model.para_enc.named_parameters():\n",
    "                param.requires_grad = False\n",
    "            for name, param in model.para_dec.named_parameters():\n",
    "                param.requires_grad = False\n",
    "            for name, param in model.epi_enc.named_parameters():\n",
    "                param.requires_grad = False\n",
    "            for name, param in model.epi_dec.named_parameters():\n",
    "                param.requires_grad = False\n",
    "        \n",
    "        epochs = 200\n",
    "        lr = 3e-5\n",
    "        l2_coef = 5e-4\n",
    "        \n",
    "    elif model_name==\"SetModel_ablation\":\n",
    "        model = SetModel_ablation(embed_size=32, \n",
    "                         hidden=64, \n",
    "                         num_layers=2, \n",
    "                         dropout=0.5, \n",
    "                         k4kmer=7, \n",
    "                         use_pretrain=False, \n",
    "                         use_coattn=False, \n",
    "                         use_kmer_embed=True, \n",
    "                         use_seq_encoder=False, \n",
    "                         seq_encoder_type=\"lstm\", \n",
    "                         num_heads=4, \n",
    "                         num_inds=6, \n",
    "                         num_outputs=6, \n",
    "                         ln=True).cuda()\n",
    "        epochs = 150\n",
    "        lr = 6e-5\n",
    "        \n",
    "    elif model_name==\"FTransformer\":\n",
    "        model = FTransformer(embed_size=32, \n",
    "                             hidden=64, \n",
    "                             num_layers=2, \n",
    "                             dropout=0.5, \n",
    "                             k4kmer=3, \n",
    "                             use_pretrain=False, \n",
    "                             use_coattn=True, \n",
    "                             seq_encoder_type=\"transformer\", \n",
    "                             num_heads=2).cuda()\n",
    "        \n",
    "        epochs = 100\n",
    "        lr = 3e-5\n",
    "        \n",
    "    elif model_name==\"EnsembleModel\":\n",
    "        model = EnsembleModel(embed_size=16, \n",
    "                      hidden=64, \n",
    "                      max_len=100, \n",
    "                      num_encoder_layers=1, \n",
    "                      num_heads=2, \n",
    "                      num_inds=6, \n",
    "                      num_outputs=6, \n",
    "                      ln=True, \n",
    "                      dropout=0.5, \n",
    "                      use_coattn=True).cuda()\n",
    "        \n",
    "        epochs = 500\n",
    "        lr = 1e-5\n",
    "        \n",
    "    elif model_name==\"EnsembleModel_ft\":\n",
    "        model = torch.load(\"./results/SAbDab/full/seq1_neg0/EnsembleModel/model_best.pth\")\n",
    "        model.train()\n",
    "        \n",
    "        epochs = 500\n",
    "        lr = 1e-4\n",
    "        \n",
    "    elif model_name==\"PESI\":\n",
    "#         model = PESI(embed_size=7, \n",
    "#                      hidden=512, \n",
    "#                      max_len=100, \n",
    "#                      num_heads=2, \n",
    "#                      num_inds=6, \n",
    "#                      num_outputs=6, \n",
    "#                      ln=True, \n",
    "#                      dropout=0.5, \n",
    "#                      use_coattn=True).cuda()\n",
    "        model = PESI(embed_size=8, \n",
    "                     hidden=64, \n",
    "                     max_len=100, \n",
    "                     num_heads=2, \n",
    "                     num_inds=6, \n",
    "                     num_outputs=6, \n",
    "                     ln=True, \n",
    "                     dropout=0.5, \n",
    "                     use_coattn=True).cuda()\n",
    "        \n",
    "        epochs = 200\n",
    "        lr = 5e-5\n",
    "#         wd = 3e-4\n",
    "        l2_coef = 5e-4\n",
    "        \n",
    "    elif model_name==\"PESI_ft\":\n",
    "        model = torch.load(\"./results/SAbDab/full/seq1_neg0/PESI/model_best.pth\")\n",
    "        model.train()\n",
    "        \n",
    "        # freeze frame feature extractor\n",
    "        for name, param in model.Frame_para.named_parameters():\n",
    "            param.requires_grad = False\n",
    "        for name, param in model.Frame_epi.named_parameters():\n",
    "            param.requires_grad = False\n",
    "            \n",
    "        # freeze frame feature extractor        \n",
    "        for name, param in model.Set_para.named_parameters():\n",
    "            param.requires_grad = False\n",
    "        for name, param in model.Set_epi.named_parameters():\n",
    "            param.requires_grad = False\n",
    "        \n",
    "        epochs = 500\n",
    "        lr = 3e-5\n",
    "        l2_coef = 5e-4\n",
    "\n",
    "    else:\n",
    "        print(\"wrong model name!!!\")\n",
    "        break\n",
    "\n",
    "    print(\"model parameters: \", sum(p.numel() for p in model.parameters() if p.requires_grad))\n",
    "    \n",
    "    criterion = nn.BCELoss()\n",
    "    optimizer = optim.Adam(model.parameters(), lr=lr)#, weight_decay=wd)\n",
    "    # scheduler = optim.lr_scheduler.CosineAnnealingLR(optimizer, T_max=5, eta_min=1e-6, last_epoch=-1)\n",
    "\n",
    "    loss_buf = []\n",
    "    val_loss_buf = []\n",
    "    val_acc_buf = []\n",
    "    val_f1_buf = []\n",
    "    val_auc_buf = []\n",
    "    val_gmean_buf = []\n",
    "    val_mcc_buf = []\n",
    "    best_val_loss = float(\"inf\")\n",
    "    \n",
    "    for epoch in range(epochs):\n",
    "\n",
    "        loss_tmp = []\n",
    "        for i, (para, epi, label) in enumerate(tqdm(train_loader)):\n",
    "            optimizer.zero_grad()\n",
    "\n",
    "            if use_BSS==False:\n",
    "                pred = model(para, epi)\n",
    "            elif use_BSS==True:\n",
    "                pred, BSS = model(para, epi)\n",
    "            else:\n",
    "                pass\n",
    "                \n",
    "            loss = criterion(pred.view(-1), label.view(-1).cuda())\n",
    "            \n",
    "            if use_reg==0:\n",
    "                param_l2_loss = 0\n",
    "                for name, param in model.named_parameters():\n",
    "                    if 'bias' not in name:\n",
    "                        param_l2_loss += torch.norm(param, p=2)\n",
    "                param_l2_loss = l2_coef * param_l2_loss\n",
    "                loss += param_l2_loss\n",
    "            elif use_reg==1:\n",
    "                param_l1_loss = 0\n",
    "                for name, param in model.named_parameters():\n",
    "                    if 'bias' not in name:\n",
    "                        param_l1_loss += torch.norm(param, p=1)\n",
    "                param_l1_loss = l1_coef * param_l1_loss\n",
    "                loss += param_l1_loss\n",
    "            else:\n",
    "                print(\"wrong use_reg! only 0 or 1!\")\n",
    "                exit()\n",
    "            \n",
    "            if use_BSS==True:\n",
    "                loss += 0.001*BSS\n",
    "\n",
    "            loss.backward()\n",
    "            \n",
    "            torch.nn.utils.clip_grad_norm_(model.parameters(), clip_norm)\n",
    "\n",
    "            optimizer.step()\n",
    "\n",
    "            loss_tmp.append(loss.item())\n",
    "        \n",
    "        loss_buf.append(np.mean(loss_tmp))\n",
    "\n",
    "    #     scheduler.step()\n",
    "        print(\"lr: \", optimizer.param_groups[0]['lr'])\n",
    "\n",
    "        with torch.no_grad():\n",
    "\n",
    "            model.eval()\n",
    "\n",
    "            preds = []\n",
    "            labels = []\n",
    "            val_loss_tmp = []\n",
    "            for i, (para, epi, label) in enumerate(test_loader):\n",
    "                if use_BSS==False:\n",
    "                    pred = model(para, epi)\n",
    "                elif use_BSS==True:\n",
    "                    pred, BSS = model(para, epi)\n",
    "                \n",
    "                val_loss = criterion(pred.view(-1), label.view(-1).cuda())\n",
    "                \n",
    "                if use_BSS==True:\n",
    "                    val_loss += 0.001*BSS\n",
    "                \n",
    "                preds.append(pred.detach().cpu().view(-1))\n",
    "                labels.append(label.view(-1))\n",
    "                val_loss_tmp.append(val_loss.item())\n",
    "            \n",
    "            preds = torch.stack(preds, axis=1).view(-1)\n",
    "            labels = torch.stack(labels, axis=1).view(-1)\n",
    "\n",
    "#             acc = accuracy_score(y_true=labels, y_pred=torch.round(preds))\n",
    "#             f1 = f1_score(y_true=labels, y_pred=torch.round(preds))\n",
    "#             auc = roc_auc_score(y_true=labels, y_score=preds)\n",
    "\n",
    "            acc, f1, auc, gmean, mcc = evaluate_metrics(pred_proba=preds, label=labels)\n",
    "\n",
    "            val_acc_buf.append(acc)\n",
    "            val_f1_buf.append(f1)\n",
    "            val_auc_buf.append(auc)\n",
    "            val_gmean_buf.append(gmean)\n",
    "            val_mcc_buf.append(mcc)\n",
    "            val_loss_buf.append(np.mean(val_loss_tmp))\n",
    "\n",
    "            print(\"Epoch {}: \\n Train Loss\\t{:.4f} \\n Val Loss\\t{:.4f} \\n Val Acc\\t{:.4f} \\n Val F1\\t\\t{:.4f} \\n Val AUC\\t{:.4f} \\n Val GMean\\t{:.4f} \\n Val MCC\\t{:.4f}\".format(epoch, np.mean(loss_buf), np.mean(val_loss_buf), acc, f1, auc, gmean, mcc))\n",
    "            \n",
    "            if np.mean(val_loss_tmp)<best_val_loss:\n",
    "                best_val_loss = np.mean(val_loss_tmp)\n",
    "                torch.save(model, \"./results/CoV-AbDab/{}/model_{}_best.pth\".format(model_name, k_iter))\n",
    "                np.save(\"./results/CoV-AbDab/{}/val_acc_{}_best.npy\".format(model_name, k_iter), acc)\n",
    "                np.save(\"./results/CoV-AbDab/{}/val_f1_{}_best.npy\".format(model_name, k_iter), f1)\n",
    "                np.save(\"./results/CoV-AbDab/{}/val_auc_{}_best.npy\".format(model_name, k_iter), auc)\n",
    "                np.save(\"./results/CoV-AbDab/{}/val_gmean_{}_best.npy\".format(model_name, k_iter), gmean)\n",
    "                np.save(\"./results/CoV-AbDab/{}/val_mcc_{}_best.npy\".format(model_name, k_iter), mcc)\n",
    "\n",
    "        model.train()\n",
    "    \n",
    "    torch.save(model, \"./results/CoV-AbDab/{}/model_{}.pth\".format(model_name, k_iter))\n",
    "    np.save(\"./results/CoV-AbDab/{}/loss_buf_{}.npy\".format(model_name, k_iter), np.array(loss_buf))\n",
    "    np.save(\"./results/CoV-AbDab/{}/val_loss_buf_{}.npy\".format(model_name, k_iter), np.array(val_loss_buf))\n",
    "    np.save(\"./results/CoV-AbDab/{}/val_acc_buf_{}.npy\".format(model_name, k_iter), np.array(val_acc_buf))\n",
    "    np.save(\"./results/CoV-AbDab/{}/val_f1_buf_{}.npy\".format(model_name, k_iter), np.array(val_f1_buf))\n",
    "    np.save(\"./results/CoV-AbDab/{}/val_auc_buf_{}.npy\".format(model_name, k_iter), np.array(val_auc_buf))\n",
    "    np.save(\"./results/CoV-AbDab/{}/val_gmean_buf_{}.npy\".format(model_name, k_iter), np.array(val_gmean_buf))\n",
    "    np.save(\"./results/CoV-AbDab/{}/val_mcc_buf_{}.npy\".format(model_name, k_iter), np.array(val_mcc_buf))\n",
    "    \n",
    "    \n",
    "    kfold_labels.append(labels)\n",
    "    kfold_preds.append(preds)\n",
    "    \n",
    "#     break"
   ]
  },
  {
   "cell_type": "code",
   "execution_count": 16,
   "id": "600e1757",
   "metadata": {},
   "outputs": [
    {
     "data": {
      "text/plain": [
       "'masonscnn'"
      ]
     },
     "execution_count": 16,
     "metadata": {},
     "output_type": "execute_result"
    }
   ],
   "source": [
    "model_name"
   ]
  },
  {
   "cell_type": "code",
   "execution_count": 17,
   "id": "5c7ddce5",
   "metadata": {
    "scrolled": true
   },
   "outputs": [
    {
     "data": {
      "text/plain": [
       "MasonsCNN(\n",
       "  (cnnmodule): CNNmodule(\n",
       "    (conv): Conv1d(27, 64, kernel_size=(2,), stride=(1,), padding=(1,))\n",
       "    (pool): MaxPool1d(kernel_size=2, stride=1, padding=0, dilation=1, ceil_mode=False)\n",
       "    (out_linear): Linear(in_features=6400, out_features=32, bias=True)\n",
       "    (dropout): Dropout(p=0.5, inplace=False)\n",
       "  )\n",
       "  (cnnmodule2): CNNmodule(\n",
       "    (conv): Conv1d(27, 64, kernel_size=(2,), stride=(1,), padding=(1,))\n",
       "    (pool): MaxPool1d(kernel_size=2, stride=1, padding=0, dilation=1, ceil_mode=False)\n",
       "    (out_linear): Linear(in_features=6400, out_features=32, bias=True)\n",
       "    (dropout): Dropout(p=0.5, inplace=False)\n",
       "  )\n",
       "  (out_linear1): Linear(in_features=64, out_features=32, bias=True)\n",
       "  (out_linear2): Linear(in_features=32, out_features=1, bias=True)\n",
       "  (activation): ELU(alpha=1.0)\n",
       ")"
      ]
     },
     "execution_count": 17,
     "metadata": {},
     "output_type": "execute_result"
    }
   ],
   "source": [
    "model"
   ]
  },
  {
   "cell_type": "code",
   "execution_count": 18,
   "id": "ddad4d4a",
   "metadata": {
    "scrolled": true
   },
   "outputs": [
    {
     "data": {
      "text/plain": [
       "[tensor([0.9626, 0.9966, 0.9000, 0.8843, 0.9685, 0.9410, 0.7457, 0.9252, 0.7614,\n",
       "         0.9867, 0.6273, 0.7614, 0.8685, 0.9572, 0.9887, 0.9133, 0.0743, 0.8245,\n",
       "         0.7613, 0.7563, 0.8402, 0.7956, 0.3934, 0.6467, 0.9884, 0.9831, 0.4706,\n",
       "         0.3597, 0.9841, 0.8712, 0.7652]),\n",
       " tensor([0.9546, 0.7776, 0.6637, 0.8011, 0.7708, 0.9700, 0.8014, 0.6759, 0.9578,\n",
       "         0.9367, 0.4919, 0.9569, 0.5724, 0.5640, 0.9461, 0.9942, 0.8916, 0.8686,\n",
       "         0.7463, 0.6685, 0.5563, 0.4802, 0.9891, 0.9747, 0.9915, 0.9898, 0.7915,\n",
       "         0.9906, 0.9884, 0.9914, 0.6307]),\n",
       " tensor([0.9922, 0.8925, 0.9239, 0.8614, 0.9547, 0.8807, 0.7675, 0.4689, 0.9814,\n",
       "         0.7452, 0.7555, 0.1843, 0.9112, 0.3495, 0.6385, 0.9683, 0.9587, 0.7795,\n",
       "         0.7655, 0.6943, 0.7648, 0.7096, 0.0387, 0.5189, 0.9977, 0.8155, 0.7930,\n",
       "         0.9886, 0.9897, 0.6984, 0.8887]),\n",
       " tensor([0.9506, 0.7687, 0.9805, 0.7284, 0.7797, 0.9181, 0.9528, 0.7495, 0.7340,\n",
       "         0.8861, 0.9895, 0.9853, 0.6274, 0.9747, 0.8529, 0.9582, 0.9910, 0.6650,\n",
       "         0.8734, 0.7831, 0.6190, 0.9800, 0.9937, 0.8731, 0.8752, 0.9860, 0.9164,\n",
       "         0.2005, 0.5514, 0.8483, 0.3315]),\n",
       " tensor([0.5366, 0.8911, 0.5456, 0.9691, 0.1885, 0.4022, 0.5909, 0.9426, 0.8416,\n",
       "         0.6339, 0.6558, 0.8258, 0.7723, 0.9902, 0.8029, 0.7062, 0.9630, 0.9791,\n",
       "         0.9227, 0.4044, 0.9546, 0.5637, 0.7665, 0.4611, 0.7883, 0.9583, 0.9000,\n",
       "         0.8639, 0.9984, 0.5248, 0.9562]),\n",
       " tensor([0.9459, 0.9743, 0.7045, 0.8929, 0.8094, 0.9804, 0.9906, 0.9586, 0.9882,\n",
       "         0.9951, 0.8106, 0.8642, 0.9447, 0.9593, 0.9443, 0.9186, 0.4160, 0.9746,\n",
       "         0.9865, 0.5217, 0.8407, 0.9658, 0.8774, 0.9934, 0.7239, 0.1271, 0.8832,\n",
       "         0.7477, 0.8104, 0.9545, 0.9958]),\n",
       " tensor([0.5863, 0.9765, 0.9936, 0.8754, 0.7407, 0.7613, 0.8202, 0.8037, 0.9949,\n",
       "         0.9556, 0.7947, 0.4518, 0.7976, 0.5546, 0.9852, 0.9820, 0.7931, 0.9330,\n",
       "         0.9003, 0.9911, 0.8862, 0.8696, 0.9717, 0.9269, 0.3131, 0.9919, 0.9697,\n",
       "         0.9074, 0.7496, 0.9784, 0.8948]),\n",
       " tensor([0.9011, 0.9899, 0.9818, 0.9926, 0.9918, 0.4898, 0.9915, 0.9423, 0.7374,\n",
       "         0.9630, 0.9939, 0.8452, 0.9958, 0.8942, 0.4575, 0.6410, 0.9121, 0.8760,\n",
       "         0.9723, 0.9968, 0.8247, 0.9720, 0.9713, 0.9777, 0.9826, 0.6789, 0.9947,\n",
       "         0.9897, 0.9829, 0.3878, 0.7773]),\n",
       " tensor([0.8538, 0.5795, 0.8910, 0.6521, 0.9406, 0.2895, 0.5438, 0.9398, 0.9418,\n",
       "         0.3344, 0.6036, 0.9907, 0.7589, 0.7021, 0.9316, 0.0494, 0.9931, 0.8153,\n",
       "         0.8332, 0.9738, 0.4283, 0.7585, 0.7554, 0.5415, 0.9601, 0.5366, 0.9560,\n",
       "         0.9421, 0.2419, 0.1465, 0.0500]),\n",
       " tensor([0.9749, 0.7690, 0.1440, 0.9816, 0.9695, 0.7955, 0.6607, 0.7855, 0.3806,\n",
       "         0.8478, 0.9961, 0.9778, 0.8719, 0.6911, 0.4826, 0.9674, 0.5645, 0.9955,\n",
       "         0.8434, 0.8060, 0.1779, 0.9024, 0.5073, 0.1132, 0.9876, 0.1824, 0.8859,\n",
       "         0.9353, 0.2445, 0.9479, 0.9707])]"
      ]
     },
     "execution_count": 18,
     "metadata": {},
     "output_type": "execute_result"
    }
   ],
   "source": [
    "kfold_preds"
   ]
  },
  {
   "cell_type": "code",
   "execution_count": 19,
   "id": "256eb7cd",
   "metadata": {},
   "outputs": [
    {
     "data": {
      "text/plain": [
       "[tensor([0., 0., 0., 0., 1., 1., 0., 1., 1., 0., 0., 1., 0., 1., 1., 0., 0., 1.,\n",
       "         1., 1., 1., 1., 1., 1., 1., 1., 1., 1., 1., 1., 1.]),\n",
       " tensor([0., 1., 1., 0., 1., 0., 0., 1., 1., 0., 1., 1., 1., 1., 1., 0., 0., 0.,\n",
       "         1., 0., 0., 1., 1., 1., 0., 1., 1., 1., 1., 1., 1.]),\n",
       " tensor([0., 1., 0., 1., 1., 1., 1., 1., 1., 0., 0., 1., 1., 0., 1., 1., 1., 1.,\n",
       "         1., 1., 1., 1., 1., 1., 1., 1., 1., 1., 0., 1., 1.]),\n",
       " tensor([1., 0., 1., 0., 0., 0., 0., 0., 1., 0., 1., 0., 1., 1., 0., 1., 1., 1.,\n",
       "         1., 1., 1., 0., 1., 0., 1., 0., 1., 1., 0., 1., 0.]),\n",
       " tensor([1., 1., 1., 1., 1., 1., 1., 1., 1., 1., 1., 1., 1., 1., 1., 1., 1., 1.,\n",
       "         1., 1., 1., 1., 0., 1., 1., 1., 1., 1., 1., 1., 1.]),\n",
       " tensor([1., 1., 1., 1., 1., 1., 1., 1., 1., 1., 1., 1., 0., 1., 0., 1., 1., 0.,\n",
       "         1., 0., 1., 1., 0., 0., 1., 1., 1., 0., 1., 0., 1.]),\n",
       " tensor([1., 1., 1., 1., 0., 1., 1., 1., 1., 1., 1., 0., 0., 1., 0., 1., 1., 1.,\n",
       "         1., 0., 1., 1., 1., 1., 1., 1., 1., 1., 1., 1., 1.]),\n",
       " tensor([1., 1., 1., 1., 1., 1., 1., 0., 1., 0., 1., 0., 0., 1., 1., 1., 1., 1.,\n",
       "         0., 1., 0., 1., 1., 1., 1., 1., 1., 0., 0., 0., 1.]),\n",
       " tensor([0., 0., 1., 1., 1., 0., 1., 1., 0., 0., 1., 1., 1., 0., 0., 1., 1., 1.,\n",
       "         0., 1., 1., 1., 0., 0., 0., 1., 1., 1., 1., 1., 1.]),\n",
       " tensor([1., 0., 1., 1., 1., 1., 1., 0., 0., 1., 0., 0., 1., 1., 1., 1., 1., 1.,\n",
       "         1., 1., 1., 1., 1., 1., 1., 1., 1., 0., 1., 0., 1.])]"
      ]
     },
     "execution_count": 19,
     "metadata": {},
     "output_type": "execute_result"
    }
   ],
   "source": [
    "kfold_labels"
   ]
  },
  {
   "cell_type": "code",
   "execution_count": 20,
   "id": "c9220e36",
   "metadata": {},
   "outputs": [
    {
     "data": {
      "text/plain": [
       "array([[  8,  74],\n",
       "       [ 29, 199]])"
      ]
     },
     "execution_count": 20,
     "metadata": {},
     "output_type": "execute_result"
    }
   ],
   "source": [
    "confusion_matrix(y_true=torch.hstack(kfold_labels), y_pred=torch.round(torch.hstack(kfold_preds)))"
   ]
  },
  {
   "cell_type": "code",
   "execution_count": 21,
   "id": "3cd05471",
   "metadata": {},
   "outputs": [
    {
     "data": {
      "image/png": "[encoded data removed]",
      "text/plain": [
       "<Figure size 1600x1000 with 7 Axes>"
      ]
     },
     "metadata": {},
     "output_type": "display_data"
    }
   ],
   "source": [
    "plt.figure(figsize=(16,10))\n",
    "\n",
    "plt.subplot(331)\n",
    "plt.plot(loss_buf)\n",
    "plt.title(\"train loss\")\n",
    "\n",
    "plt.subplot(332)\n",
    "plt.plot(val_loss_buf)\n",
    "plt.title(\"val loss\")\n",
    "\n",
    "plt.subplot(333)\n",
    "plt.plot(val_acc_buf)\n",
    "plt.title(\"val acc\")\n",
    "\n",
    "plt.subplot(334)\n",
    "plt.plot(val_f1_buf)\n",
    "plt.title(\"val f1\")\n",
    "\n",
    "plt.subplot(335)\n",
    "plt.plot(val_auc_buf)\n",
    "plt.title(\"val auc\")\n",
    "\n",
    "plt.subplot(336)\n",
    "plt.plot(val_gmean_buf)\n",
    "plt.title(\"val gmean\")\n",
    "\n",
    "plt.subplot(337)\n",
    "plt.plot(val_mcc_buf)\n",
    "plt.title(\"val auc\")\n",
    "\n",
    "plt.suptitle(\"Last Learning Curves\")\n",
    "plt.show()"
   ]
  },
  {
   "cell_type": "code",
   "execution_count": 22,
   "id": "8dd16a10",
   "metadata": {},
   "outputs": [
    {
     "name": "stdout",
     "output_type": "stream",
     "text": [
      "model: masonscnn\n",
      "val acc mean:  0.735483870967742\n",
      "val f1 mean:  0.8427516133925679\n",
      "val auc mean:  0.5842978723464658\n",
      "val gmean mean:  0.0447213595499958\n",
      "val mcc mean:  0.038299986655989327\n"
     ]
    }
   ],
   "source": [
    "val_acc_mean = []\n",
    "val_f1_mean = []\n",
    "val_auc_mean = []\n",
    "val_gmean_mean = []\n",
    "val_mcc_mean = []\n",
    "\n",
    "for i in range(10):\n",
    "    \n",
    "    val_acc_i = np.load(\"./results/CoV-AbDab/{}/val_acc_{}_best.npy\".format(model_name, i))\n",
    "    val_acc_mean.append(val_acc_i)\n",
    "    \n",
    "    val_f1_i = np.load(\"./results/CoV-AbDab/{}/val_f1_{}_best.npy\".format(model_name, i))\n",
    "    val_f1_mean.append(val_f1_i)\n",
    "    \n",
    "    val_auc_i = np.load(\"./results/CoV-AbDab/{}/val_auc_{}_best.npy\".format(model_name, i))\n",
    "    val_auc_mean.append(val_auc_i)\n",
    "    \n",
    "    val_gmean_i = np.load(\"./results/CoV-AbDab/{}/val_gmean_{}_best.npy\".format(model_name, i))\n",
    "    val_gmean_mean.append(val_gmean_i)\n",
    "    \n",
    "    val_mcc_i = np.load(\"./results/CoV-AbDab/{}/val_mcc_{}_best.npy\".format(model_name, i))\n",
    "    val_mcc_mean.append(val_mcc_i)\n",
    "    \n",
    "print(\"model: {}\".format(model_name))\n",
    "print(\"val acc mean: \", np.mean(val_acc_mean))\n",
    "print(\"val f1 mean: \", np.mean(val_f1_mean))\n",
    "print(\"val auc mean: \", np.mean(val_auc_mean))\n",
    "print(\"val gmean mean: \", np.mean(val_gmean_mean))\n",
    "print(\"val mcc mean: \", np.mean(val_mcc_mean))"
   ]
  },
  {
   "cell_type": "code",
   "execution_count": 45,
   "id": "22475d26",
   "metadata": {},
   "outputs": [
    {
     "data": {
      "text/plain": [
       "(False, 'SetCoAttnTransformer_ft')"
      ]
     },
     "execution_count": 45,
     "metadata": {},
     "output_type": "execute_result"
    }
   ],
   "source": [
    "use_BSS, model_name"
   ]
  },
  {
   "cell_type": "code",
   "execution_count": null,
   "id": "bddb27a4",
   "metadata": {},
   "outputs": [],
   "source": [
    "no L2 pre-trained\n",
    "use BSS fine-tune\n",
    "coattn middle\n"
   ]
  },
  {
   "cell_type": "code",
   "execution_count": null,
   "id": "a434f0de",
   "metadata": {},
   "outputs": [],
   "source": [
    "no L2 pre-trained\n",
    "use BSS fine-tune\n",
    "coattn last\n",
    "\n",
    "only FT pre-trained\n",
    "model: SetCoAttnTransformer_ft\n",
    "val acc mean:  0.735483870967742\n",
    "val f1 mean:  0.8366821293376029\n",
    "val auc mean:  0.6370810953752131\n",
    "val gmean mean:  0.14455259003882484\n",
    "val mcc mean:  0.07770673443679\n",
    "\n",
    "array([[ 29,  53],\n",
    "       [ 65, 163]])\n",
    "\n",
    "\n",
    "\n",
    "all pre-trained\n",
    "model: SetCoAttnTransformer_ft\n",
    "val acc mean:  0.7483870967741936\n",
    "val f1 mean:  0.8396757951718259\n",
    "val auc mean:  0.6385455337501373\n",
    "val gmean mean:  0.2422444358382573\n",
    "val mcc mean:  0.15728803111821626\n",
    "\n",
    "array([[ 30,  52],\n",
    "       [ 63, 165]])\n",
    "\n",
    "\n",
    "\n",
    "no L2 pre-trained\n",
    "no BSS fine-tune\n",
    "coattn last\n",
    "\n",
    "all pre-trained\n",
    "model: SetCoAttnTransformer_ft\n",
    "val acc mean:  0.7387096774193549\n",
    "val f1 mean:  0.8406756060477978\n",
    "val auc mean:  0.6517170781761574\n",
    "val gmean mean:  0.20023102380463564\n",
    "val mcc mean:  0.12508592150070796\n",
    "    \n",
    "array([[ 26,  56],\n",
    "       [ 63, 165]])"
   ]
  },
  {
   "cell_type": "code",
   "execution_count": null,
   "id": "492fa3ff",
   "metadata": {},
   "outputs": [],
   "source": []
  },
  {
   "cell_type": "code",
   "execution_count": null,
   "id": "5a17acb5",
   "metadata": {},
   "outputs": [],
   "source": []
  },
  {
   "cell_type": "code",
   "execution_count": null,
   "id": "b5d22dd5",
   "metadata": {},
   "outputs": [],
   "source": []
  },
  {
   "cell_type": "code",
   "execution_count": null,
   "id": "85647616",
   "metadata": {},
   "outputs": [],
   "source": []
  },
  {
   "cell_type": "code",
   "execution_count": null,
   "id": "d53730ef",
   "metadata": {},
   "outputs": [],
   "source": [
    "model: SetCoAttnTransformer_ft + BSS\n",
    "val acc mean:  0.7193548387096775\n",
    "val f1 mean:  0.8281211639728993\n",
    "val auc mean:  0.6972362617490495\n",
    "val gmean mean:  0.15635681579403446\n",
    "val mcc mean:  0.07797264107266494\n",
    "\n",
    "array([[ 23,  59],\n",
    "       [ 58, 170]])\n",
    "\n",
    "\n",
    "    \n",
    "model: SetCoAttnTransformer_ft + nonBSS\n",
    "val acc mean:  0.7258064516129032\n",
    "val f1 mean:  0.8263352873108616\n",
    "val auc mean:  0.6545309612240559\n",
    "val gmean mean:  0.10104200050429028\n",
    "val mcc mean:  0.04058944141687563\n",
    "    \n",
    "array([[ 25,  57],\n",
    "       [ 73, 155]])"
   ]
  },
  {
   "cell_type": "code",
   "execution_count": null,
   "id": "3d75334c",
   "metadata": {},
   "outputs": [],
   "source": []
  },
  {
   "cell_type": "code",
   "execution_count": null,
   "id": "65babf91",
   "metadata": {},
   "outputs": [],
   "source": []
  },
  {
   "cell_type": "code",
   "execution_count": null,
   "id": "d0f1578d",
   "metadata": {},
   "outputs": [],
   "source": [
    "model: SetCoAttnTransformer_ft (L2 pre-train + fine-tune)\n",
    "val acc mean:  0.7483870967741936\n",
    "val f1 mean:  0.8468449123165905\n",
    "val auc mean:  0.6663944794903874\n",
    "val gmean mean:  0.2285749110787934\n",
    "val mcc mean:  0.14789235808005177\n",
    "    \n",
    "array([[ 24,  58],\n",
    "       [ 59, 169]])\n",
    "\n",
    "\n",
    "\n",
    "model: SetCoAttnTransformer_ft_pairPreTrain\n",
    "\n",
    "val acc mean:  0.735483870967742\n",
    "val f1 mean:  0.8428165297819017\n",
    "val auc mean:  0.5002100840336134\n",
    "val gmean mean:  0.0\n",
    "val mcc mean:  0.0\n",
    "    \n",
    "array([[  0,  82],\n",
    "       [  0, 228]])"
   ]
  },
  {
   "cell_type": "markdown",
   "id": "157e4177",
   "metadata": {},
   "source": [
    "new dataset: augment negative samples to neg:pos=1:1\n",
    "\n",
    "\n",
    "new dataset - masonscnn\n",
    "\n",
    "model: masonscnn\n",
    "val acc mean:  0.5609756097560976\n",
    "val f1 mean:  0.7080969748642163\n",
    "val auc mean:  0.5115618347865623\n",
    "val gmean mean:  0.1176976534230973\n",
    "val mcc mean:  0.05414104210725135\n",
    "    \n",
    "array([[ 48, 135],\n",
    "       [ 50, 177]])\n",
    "\n",
    "\n",
    "\n",
    "new dataset - masonscnn finetune\n",
    "\n",
    "val acc mean:  0.5560975609756099\n",
    "val f1 mean:  0.66096776615656\n",
    "val auc mean:  0.5405112851806215\n",
    "val gmean mean:  0.45399814531300964\n",
    "val mcc mean:  0.07182380633434679\n",
    "    \n",
    "array([[ 84,  99],\n",
    "       [ 92, 135]])\n",
    "\n",
    "\n",
    "new dataset - masonscnn finetune FE Fixed\n",
    "\n",
    "val acc mean:  0.5414634146341464\n",
    "val f1 mean:  0.6631533886842206\n",
    "val auc mean:  0.5499714003821219\n",
    "val gmean mean:  0.3471025090442392\n",
    "val mcc mean:  -0.008071772479411338"
   ]
  },
  {
   "cell_type": "markdown",
   "id": "2b55fbf9",
   "metadata": {},
   "source": [
    "model: PESI\n",
    "\n",
    "1. de novo\n",
    "- val acc mean:  0.7548387096774194\n",
    "- val f1 mean:  0.8472360344258647\n",
    "- val auc mean:  0.6364248905399801\n",
    "- val gmean mean:  0.12137665014671031\n",
    "- val mcc mean:  0.06637028519834769\n",
    "\n",
    "\n",
    "- val acc mean:  0.7451612903225807\n",
    "- val f1 mean:  0.8450983571639433\n",
    "- val auc mean:  0.5999908666213013\n",
    "- val gmean mean:  0.1544552971674015\n",
    "- val mcc mean:  0.0980278804259509\n",
    "\n",
    "2. fine-tune\n",
    "\n",
    "fixed Frame/Set feature extractor\n",
    "- val acc mean:  0.735483870967742\n",
    "- val f1 mean:  0.8428165297819017\n",
    "- val auc mean:  0.5784537830739878\n",
    "- val gmean mean:  0.0\n",
    "- val mcc mean:  0.0\n",
    "\n",
    "L2 + pre-train\n",
    "- val acc mean:  0.6129032258064516\n",
    "- val f1 mean:  0.7267589316962282\n",
    "- val auc mean:  0.5019817458756078\n",
    "- val gmean mean:  0.46310214588198306\n",
    "- val mcc mean:  0.03777970650972913"
   ]
  },
  {
   "cell_type": "markdown",
   "id": "957ed2b9",
   "metadata": {},
   "source": [
    "EnsembleModel1\n",
    "\n",
    "1. de novo\n",
    "\n",
    "- val acc mean:  0.7258064516129032\n",
    "- val f1 mean:  0.8357809829448485\n",
    "- val auc mean:  0.5863614324010744\n",
    "- val gmean mean:  0.04364357804719847\n",
    "- val mcc mean:  -0.00243360941090478\n",
    "\n",
    "\n",
    "model: EnsembleModel1 (based on DeepAAI hyperparameters)\n",
    "- val acc mean:  0.735483870967742\n",
    "- val f1 mean:  0.8426296329094451\n",
    "- val auc mean:  0.576874495354035\n",
    "- val gmean mean:  0.026726124191242435\n",
    "- val mcc mean:  0.016785362070740578\n",
    "\n",
    "\n",
    "model: EnsembleModel1 (based on DeepAAI hyperparameters) + L2 loss\n",
    "- val acc mean:  0.735483870967742\n",
    "- val f1 mean:  0.8428165297819017\n",
    "- val auc mean:  0.6850925941066606\n",
    "- val gmean mean:  0.0\n",
    "- val mcc mean:  0.0\n",
    "\n",
    "\n",
    "2. finetune\n",
    "\n",
    "model: EnsembleModel1 (based on DeepAAI hyperparameters) + L2 loss\n",
    "- val acc mean:  0.7258064516129032\n",
    "- val f1 mean:  0.8368535348629104\n",
    "- val auc mean:  0.6183667442248005\n",
    "- val gmean mean:  0.13486832980505137\n",
    "- val mcc mean:  0.05979789537418943"
   ]
  },
  {
   "cell_type": "markdown",
   "id": "9cf39218",
   "metadata": {},
   "source": [
    "EnsembleModel\n",
    "\n",
    "1. de novo\n",
    "\n",
    "- val acc mean:  0.7225806451612903\n",
    "- val f1 mean:  0.80938251651044\n",
    "- val auc mean:  0.6277278343991899\n",
    "- val gmean mean:  0.20839957350649357\n",
    "- val mcc mean:  0.1381022811013694\n",
    "\n",
    "2. finetune\n",
    "\n",
    "- val acc mean:  0.7451612903225807\n",
    "- val f1 mean:  0.8468587022064271\n",
    "- val auc mean:  0.5173764489275998\n",
    "- val gmean mean:  0.09929549764864425\n",
    "- val mcc mean:  0.07493838512158786"
   ]
  },
  {
   "cell_type": "markdown",
   "id": "a481873d",
   "metadata": {},
   "source": [
    "MasonsCNN\n",
    "1. de novo\n",
    "- val acc mean:  0.735483870967742\n",
    "- val f1 mean:  0.8428165297819017\n",
    "- val auc mean:  0.5409950281318567\n",
    "\n",
    "flipping\n",
    "- val acc mean:  0.735483870967742\n",
    "- val f1 mean:  0.8427516133925679\n",
    "- val auc mean:  0.5455146192256166\n",
    "\n",
    "0209\n",
    "- val acc mean:  0.732258064516129\n",
    "- val f1 mean:  0.8411225407108635\n",
    "- val auc mean:  0.5413395687858604\n",
    "- val gmean mean:  0.0\n",
    "- val mcc mean:  -0.003333333333333333\n",
    "\n",
    "2. finetune\n",
    "- val acc mean:  0.7193548387096775\n",
    "- val f1 mean:  0.8280684455906437\n",
    "- val auc mean:  0.5564490021203576\n",
    "- val gmean mean:  0.1475625995769564\n",
    "- val mcc mean:  0.04446577910427487\n",
    "\n",
    "\n",
    "Feature Extractor fixed\n",
    "- val acc mean:  0.7322580645161291\n",
    "- val f1 mean:  0.8338451090661441\n",
    "- val auc mean:  0.634319673790262\n",
    "- val gmean mean:  0.24199404771340785\n",
    "- val mcc mean:  0.12252410865664765\n",
    "\n",
    "0216\n",
    "- val acc mean:  0.7322580645161291\n",
    "- val f1 mean:  0.834695438627144\n",
    "- val auc mean:  0.6693377090371975\n",
    "- val gmean mean:  0.2087328313765909\n",
    "- val mcc mean:  0.11147883124012761\n",
    "\n",
    "use_pair fine tune 1:1\n",
    "- val acc mean:  0.5585365853658537\n",
    "- val f1 mean:  0.6448178293218522\n",
    "- val auc mean:  0.5488570789936047\n",
    "- val gmean mean:  0.2955272032441777\n",
    "- val mcc mean:  0.04813999236891568\n",
    "\n",
    "use_pair fine tune 1:4\n",
    "- val acc mean:  0.735483870967742\n",
    "- val f1 mean:  0.8424975505155541\n",
    "- val auc mean:  0.5188968581858606\n",
    "- val gmean mean:  0.04385290096535146\n",
    "- val mcc mean:  0.024184305584506134"
   ]
  },
  {
   "cell_type": "markdown",
   "id": "b92d556a",
   "metadata": {},
   "source": [
    "BiLSTM\n",
    "\n",
    "1. De novo\n",
    "- val acc mean:  0.7064516129032258\n",
    "- val f1 mean:  0.819065850000514\n",
    "- val auc mean:  0.44001247005339084\n",
    "\n",
    "\n",
    "- val acc mean:  0.7193548387096774\n",
    "- val f1 mean:  0.8286013119221826\n",
    "- val auc mean:  0.5272626716846667\n",
    "- val gmean mean:  0.08176287840460057\n",
    "- val mcc mean:  0.00657602704451053\n",
    "\n",
    "2. Finetune - full\n",
    "- val acc mean:  0.2838709677419355\n",
    "- val f1 mean:  0.06804597701149426\n",
    "- val auc mean:  0.524349864826847\n",
    "- val gmean mean:  0.08231242234049345\n",
    "- val mcc mean:  -0.003441800331963846\n",
    "\n",
    "FE Fixed\n",
    "- val acc mean:  0.735483870967742\n",
    "- val f1 mean:  0.8428165297819017\n",
    "- val auc mean:  0.5305428632180551\n",
    "- val gmean mean:  0.0\n",
    "- val mcc mean:  0.0\n",
    "\n",
    "0216\n",
    "- val acc mean:  0.735483870967742\n",
    "- val f1 mean:  0.8428165297819017\n",
    "- val auc mean:  0.5296878848630767\n",
    "- val gmean mean:  0.0\n",
    "- val mcc mean:  0.0\n",
    "\n",
    "\n",
    "model: lstm_ft_pairPreTrain\n",
    "- val acc mean:  0.735483870967742\n",
    "- val f1 mean:  0.8428165297819017\n",
    "- val auc mean:  0.5695255347096778\n",
    "- val gmean mean:  0.0\n",
    "- val mcc mean:  0.0\n",
    "\n",
    "lstm_ft_pairPreTrain 1:4\n",
    "- val acc mean:  0.735483870967742\n",
    "- val f1 mean:  0.841992353957726\n",
    "- val auc mean:  0.44577628992206997\n",
    "- val gmean mean:  0.05537749241945383\n",
    "- val mcc mean:  0.029855619650098676"
   ]
  },
  {
   "cell_type": "markdown",
   "id": "d6e71c92",
   "metadata": {},
   "source": [
    "InteractTransformer\n",
    "\n",
    "1. De novo\n",
    "- val acc mean:  0.7419354838709677\n",
    "- val f1 mean:  0.8460928830582551\n",
    "- val auc mean:  0.5697268280171094\n",
    "\n",
    "left/right flipping\n",
    "- val acc mean:  0.6741935483870967\n",
    "- val f1 mean:  0.7933415428025153\n",
    "- val auc mean:  0.5941512822216147\n",
    "\n",
    "0209\n",
    "- val acc mean:  0.7387096774193548\n",
    "- val f1 mean:  0.8444456024636061\n",
    "- val auc mean:  0.5559159858328655\n",
    "- val gmean mean:  0.0447213595499958\n",
    "- val mcc mean:  0.04163331998932266\n",
    "\n",
    "2. Finetune - full\n",
    "- val acc mean:  0.7387096774193549\n",
    "- val f1 mean:  0.837479640502948\n",
    "- val auc mean:  0.5373362548221883\n",
    "- val gmean mean:  0.11956972115904681\n",
    "- val mcc mean:  0.05274808166803078\n",
    "\n",
    "FE Fixed\n",
    "- val acc mean:  0.7096774193548387\n",
    "- val f1 mean:  0.8192963769848788\n",
    "- val auc mean:  0.5437163596562574\n",
    "- val gmean mean:  0.18894861461152904\n",
    "- val mcc mean:  0.043908331255973564"
   ]
  },
  {
   "cell_type": "markdown",
   "id": "fb4a1985",
   "metadata": {},
   "source": [
    "InteractCoattnTransformer\n",
    "\n",
    "1. De novo\n",
    "\n",
    "coattn after embed\n",
    "- val acc mean:  0.7322580645161291\n",
    "- val f1 mean:  0.8384620373723942\n",
    "- val auc mean:  0.5792465999473672\n",
    "\n",
    "coattn after transformer\n",
    "- val acc mean:  0.7290322580645162\n",
    "- val f1 mean:  0.8389562234502067\n",
    "- val auc mean:  0.5215266408783032\n",
    "\n",
    "two coattn\n",
    "dropout0.3\n",
    "- val acc mean:  0.6645161290322581\n",
    "- val f1 mean:  0.7577206864384995\n",
    "- val auc mean:  0.4894495640761625\n",
    "\n",
    "dropout0.5\n",
    "- val acc mean:  0.7032258064516129\n",
    "- val f1 mean:  0.8148800008196817\n",
    "- val auc mean:  0.5601084965049159\n",
    "\n",
    "0209\n",
    "- val acc mean:  0.7064516129032258\n",
    "- val f1 mean:  0.8065533962654705\n",
    "- val auc mean:  0.53074342679202\n",
    "- val gmean mean:  0.08783456377261516\n",
    "- val mcc mean:  -0.03089614519177042\n",
    "\n",
    "0210\n",
    "- val acc mean:  0.7290322580645162\n",
    "- val f1 mean:  0.8333675745553654\n",
    "- val auc mean:  0.5629656307034825\n",
    "- val gmean mean:  0.19967351371222142\n",
    "- val mcc mean:  0.08859651752472261\n",
    "\n",
    "2. Finetune\n",
    "- val acc mean:  0.7419354838709677\n",
    "- val f1 mean:  0.8295161019309971\n",
    "- val auc mean:  0.6776508588030327\n",
    "- val gmean mean:  0.41048764045233976\n",
    "- val mcc mean:  0.23726058068617323\n",
    "\n",
    "0210\n",
    "- val acc mean:  0.7032258064516129\n",
    "- val f1 mean:  0.7529802738432863\n",
    "- val auc mean:  0.5843740140223517\n",
    "- val gmean mean:  0.11863970769085672\n",
    "- val mcc mean:  -0.02494321880367\n",
    "\n",
    "use final model rather than best\n",
    "- val acc mean:  0.5903225806451613\n",
    "- val f1 mean:  0.6981662591680293\n",
    "- val auc mean:  0.5202095768681446\n",
    "- val gmean mean:  0.43529770732374456\n",
    "- val mcc mean:  0.035015078636667016\n",
    "\n",
    "FE Fixed FT\n",
    "- val acc mean:  0.735483870967742\n",
    "- val f1 mean:  0.8323679177395693\n",
    "- val auc mean:  0.5757738855347552\n",
    "- val gmean mean:  0.1772604277248653\n",
    "- val mcc mean:  0.051826896161838866\n",
    "\n",
    "model: InteractCoAttnTransformer_ft_pairPreTrain\n",
    "- val acc mean:  0.732258064516129\n",
    "- val f1 mean:  0.8411225407108635\n",
    "- val auc mean:  0.47004088196543437\n",
    "- val gmean mean:  0.0\n",
    "- val mcc mean:  -0.003333333333333333"
   ]
  },
  {
   "cell_type": "markdown",
   "id": "6820b245",
   "metadata": {},
   "source": [
    "SetModel\n",
    "1. de novo\n",
    "\n",
    "dropout0.3\n",
    "- val acc mean:  0.7258064516129032\n",
    "- val f1 mean:  0.8364886835455663\n",
    "- val auc mean:  0.6504661560377674\n",
    "\n",
    "dropout0.5 + CoAttnSkipConnection\n",
    "- val acc mean:  0.7225806451612904\n",
    "- val f1 mean:  0.7678373423027144\n",
    "- val auc mean:  0.649160663150433\n",
    "\n",
    "dropout0.3 + CoAttn ahead\n",
    "- val acc mean:  0.7290322580645162\n",
    "- val f1 mean:  0.8331830945361233\n",
    "- val auc mean:  0.6217202631128462\n",
    "\n",
    "dropout0.3 + CoAttn ahead + left/right flipping\n",
    "- val acc mean:  0.7548387096774194\n",
    "- val f1 mean:  0.8390957431282627\n",
    "- val auc mean:  0.566890947358978\n",
    "\n",
    "0209\n",
    "- val acc mean:  0.7419354838709677\n",
    "- val f1 mean:  0.8385743405122875\n",
    "- val auc mean:  0.646844740510981\n",
    "- val gmean mean:  0.3499641605118257\n",
    "- val mcc mean:  0.16989948824073764\n",
    "\n",
    "2. finetune\n",
    "- val acc mean:  0.6548387096774194\n",
    "- val f1 mean:  0.7614356955971864\n",
    "- val auc mean:  0.5850305370957545\n",
    "- val gmean mean:  0.4690008572794017\n",
    "- val mcc mean:  0.09590317756829693\n",
    "\n",
    "FX Fixed FT\n",
    "- val acc mean:  0.7290322580645162\n",
    "- val f1 mean:  0.8304804775765957\n",
    "- val auc mean:  0.6118961087221957\n",
    "- val gmean mean:  0.325372891932986\n",
    "- val mcc mean:  0.1376242188288149"
   ]
  },
  {
   "cell_type": "markdown",
   "id": "c2032f08",
   "metadata": {},
   "source": [
    "SetCoAttnModel\n",
    "\n",
    "1. de novo\n",
    "- val acc mean:  0.7129032258064516\n",
    "- val f1 mean:  0.8283774426716478\n",
    "- val auc mean:  0.6031828529526739\n",
    "- val gmean mean:  0.11381713711118394\n",
    "- val mcc mean:  0.05107581130651245\n",
    "\n",
    "2. finetune\n",
    "- val acc mean:  0.735483870967742\n",
    "- val f1 mean:  0.8255950018544915\n",
    "- val auc mean:  0.5836535310384415\n",
    "- val gmean mean:  0.19683955427239194\n",
    "- val mcc mean:  0.060401168945660236\n",
    "\n",
    "FE Fixed FT\n",
    "- val acc mean:  0.7451612903225807\n",
    "- val f1 mean:  0.840554625019997\n",
    "- val auc mean:  0.5332801356075013\n",
    "- val gmean mean:  0.06351073488299558\n",
    "- val mcc mean:  0.02796710598995068"
   ]
  },
  {
   "cell_type": "markdown",
   "id": "2e8838a4",
   "metadata": {},
   "source": [
    "SetTransformer\n",
    "\n",
    "1. de novo\n",
    "- val acc mean:  0.7387096774193549\n",
    "- val f1 mean:  0.8361401746369017\n",
    "- val auc mean:  0.6567989579332291\n",
    "- val gmean mean:  0.22237169691743341\n",
    "- val mcc mean:  0.11689544381896444\n",
    "\n",
    "bi-tower\n",
    "- val acc mean:  0.7322580645161291\n",
    "- val f1 mean:  0.8304782251291887\n",
    "- val auc mean:  0.6367931102713712\n",
    "- val gmean mean:  0.2632115309684307\n",
    "- val mcc mean:  0.12791443324565496\n",
    "\n",
    "2. finetune\n",
    "- val acc mean:  0.7096774193548387\n",
    "- val f1 mean:  0.8221135340407786\n",
    "- val auc mean:  0.6275436241791741\n",
    "- val gmean mean:  0.2348251415923123\n",
    "- val mcc mean:  0.09602992408332747\n",
    "\n",
    "\n",
    "FE Fixed FT\n",
    "- val acc mean:  0.735483870967742\n",
    "- val f1 mean:  0.8428165297819017\n",
    "- val auc mean:  0.5436637051496387\n",
    "- val gmean mean:  0.0\n",
    "- val mcc mean:  0.0"
   ]
  },
  {
   "cell_type": "markdown",
   "id": "def990b1",
   "metadata": {},
   "source": [
    "SetCoAttnTransformer\n",
    "\n",
    "1. de novo\n",
    "- val acc mean:  0.7290322580645162\n",
    "- val f1 mean:  0.8371426812951388\n",
    "- val auc mean:  0.6973226134479332\n",
    "- val gmean mean:  0.08283199089454711\n",
    "- val mcc mean:  0.03612682646386498\n",
    "\n",
    "2. finetune\n",
    "- val acc mean:  0.7548387096774194\n",
    "- val f1 mean:  0.8381884843645546\n",
    "- val auc mean:  0.7171163618989707\n",
    "- val gmean mean:  0.6158503375322386\n",
    "- val mcc mean:  0.34239057721353133\n",
    "\n",
    "- val acc mean:  0.7451612903225807\n",
    "- val f1 mean:  0.8258364526202552\n",
    "- val auc mean:  0.667494606842433\n",
    "- val gmean mean:  0.598600578762371\n",
    "- val mcc mean:  0.327257546356814\n",
    "\n",
    "FE Fixed FT\n",
    "- val acc mean:  0.7387096774193549\n",
    "- val f1 mean:  0.839985269566902\n",
    "- val auc mean:  0.641870172027461\n",
    "- val gmean mean:  0.15255182247968152\n",
    "- val mcc mean:  0.08206384239742148\n",
    "\n",
    "model: SetCoAttnTransformer_ft_pairPreTrain\n",
    "- val acc mean:  0.735483870967742\n",
    "- val f1 mean:  0.8428165297819017\n",
    "- val auc mean:  0.5\n",
    "- val gmean mean:  0.0\n",
    "- val mcc mean:  0.0"
   ]
  },
  {
   "cell_type": "markdown",
   "id": "a9021107",
   "metadata": {},
   "source": [
    "InteractTransformerLSTM\n",
    "1. de novo\n",
    "- ?\n",
    "\n",
    "2. finetune\n",
    "- ?\n",
    "\n",
    "3. finetune - full\n",
    "- ?"
   ]
  },
  {
   "cell_type": "markdown",
   "id": "c2af898d",
   "metadata": {},
   "source": [
    "InteractTransformerLSTM + CoAttn\n",
    "1. de novo\n",
    "- ?"
   ]
  },
  {
   "cell_type": "markdown",
   "id": "da7b0fa6",
   "metadata": {},
   "source": [
    "FTransformer + CoATtn\n",
    "1. de novo\n",
    "\n",
    "1layer + kmer5\n",
    "- val acc mean:  0.6774193548387096\n",
    "- val f1 mean:  0.8076923076923077\n",
    "- val auc mean:  0.48571428571428565\n",
    "\n",
    "2layers + kmer5\n",
    "- val acc mean:  0.6774193548387096\n",
    "- val f1 mean:  0.8076923076923077\n",
    "- val auc mean:  0.6238095238095238\n",
    "\n",
    "2layers + kmer3\n",
    "- val acc mean:  0.6774193548387096\n",
    "- val f1 mean:  0.8076923076923077\n",
    "- val auc mean:  0.6428571428571429\n",
    "\n",
    "2layers + kmer4\n",
    "- val acc mean:  0.6774193548387096\n",
    "- val f1 mean:  0.8076923076923077\n",
    "- val auc mean:  0.3476190476190476\n",
    "\n",
    "2layers + kmer3 + lr3e-5\n",
    "- val acc mean:  0.6451612903225806\n",
    "- val f1 mean:  0.7755102040816326\n",
    "- val auc mean:  0.3952380952380952\n",
    "\n",
    "FTransformer\n",
    "1. de novo\n",
    "\n",
    "2layers + kmer3\n",
    "- val acc mean:  0.6774193548387096\n",
    "- val f1 mean:  0.8076923076923077\n",
    "- val auc mean:  0.5285714285714286\n",
    "\n",
    "2layers + kmer5\n",
    "- val acc mean:  0.6774193548387096\n",
    "- val f1 mean:  0.8076923076923077\n",
    "- val auc mean:  0.5619047619047619"
   ]
  }
 ],
 "metadata": {
  "kernelspec": {
   "display_name": "Python 3 (ipykernel)",
   "language": "python",
   "name": "python3"
  },
  "language_info": {
   "codemirror_mode": {
    "name": "ipython",
    "version": 3
   },
   "file_extension": ".py",
   "mimetype": "text/x-python",
   "name": "python",
   "nbconvert_exporter": "python",
   "pygments_lexer": "ipython3",
   "version": "3.8.0"
  },
  "vscode": {
   "interpreter": {
    "hash": "e2804aedb87589a229ed38257535fcf3696bf4a1d07bd50e52d4fc99a699b0bf"
   }
  }
 },
 "nbformat": 4,
 "nbformat_minor": 5
}
